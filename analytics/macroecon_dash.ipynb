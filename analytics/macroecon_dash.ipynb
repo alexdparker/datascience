{
 "cells": [
  {
   "cell_type": "code",
   "execution_count": 1,
   "metadata": {},
   "outputs": [],
   "source": [
    "###\n",
    "# Pull Data From FRED and generate more useful visualizations and analysis\n",
    "# Date: Fall 2022\n",
    "# Author: Alex Parker\n",
    "###\n",
    "\n",
    "\n",
    "# Package Import\n",
    "import numpy as np\n",
    "import pandas as pd\n",
    "import seaborn as sns\n",
    "import plotly.express as px \n",
    "from datetime import datetime\n",
    "from datetime import date\n",
    "from datetime import timedelta\n",
    "import fredapi as fa\n",
    "import plotly.graph_objects as go\n",
    "from plotly.subplots import make_subplots\n",
    "from my_functions import *"
   ]
  },
  {
   "cell_type": "code",
   "execution_count": 2,
   "metadata": {},
   "outputs": [],
   "source": [
    "# Connect to FRED API, you can get an API key on the website after making a free account\n",
    "fred_api_key = '0a41adbcb8d809cddc65754f65d615bf'\n",
    "fred = fa.Fred(api_key = fred_api_key)\n",
    "print(fa.__version__)"
   ]
  },
  {
   "cell_type": "code",
   "execution_count": 4,
   "metadata": {},
   "outputs": [
    {
     "ename": "URLError",
     "evalue": "<urlopen error [Errno 11001] getaddrinfo failed>",
     "output_type": "error",
     "traceback": [
      "\u001b[1;31m---------------------------------------------------------------------------\u001b[0m",
      "\u001b[1;31mgaierror\u001b[0m                                  Traceback (most recent call last)",
      "File \u001b[1;32mc:\\Users\\parke\\anaconda3\\envs\\myenv\\lib\\urllib\\request.py:1346\u001b[0m, in \u001b[0;36mAbstractHTTPHandler.do_open\u001b[1;34m(self, http_class, req, **http_conn_args)\u001b[0m\n\u001b[0;32m   1345\u001b[0m \u001b[39mtry\u001b[39;00m:\n\u001b[1;32m-> 1346\u001b[0m     h\u001b[39m.\u001b[39;49mrequest(req\u001b[39m.\u001b[39;49mget_method(), req\u001b[39m.\u001b[39;49mselector, req\u001b[39m.\u001b[39;49mdata, headers,\n\u001b[0;32m   1347\u001b[0m               encode_chunked\u001b[39m=\u001b[39;49mreq\u001b[39m.\u001b[39;49mhas_header(\u001b[39m'\u001b[39;49m\u001b[39mTransfer-encoding\u001b[39;49m\u001b[39m'\u001b[39;49m))\n\u001b[0;32m   1348\u001b[0m \u001b[39mexcept\u001b[39;00m \u001b[39mOSError\u001b[39;00m \u001b[39mas\u001b[39;00m err: \u001b[39m# timeout error\u001b[39;00m\n",
      "File \u001b[1;32mc:\\Users\\parke\\anaconda3\\envs\\myenv\\lib\\http\\client.py:1285\u001b[0m, in \u001b[0;36mHTTPConnection.request\u001b[1;34m(self, method, url, body, headers, encode_chunked)\u001b[0m\n\u001b[0;32m   1284\u001b[0m \u001b[39m\"\"\"Send a complete request to the server.\"\"\"\u001b[39;00m\n\u001b[1;32m-> 1285\u001b[0m \u001b[39mself\u001b[39;49m\u001b[39m.\u001b[39;49m_send_request(method, url, body, headers, encode_chunked)\n",
      "File \u001b[1;32mc:\\Users\\parke\\anaconda3\\envs\\myenv\\lib\\http\\client.py:1331\u001b[0m, in \u001b[0;36mHTTPConnection._send_request\u001b[1;34m(self, method, url, body, headers, encode_chunked)\u001b[0m\n\u001b[0;32m   1330\u001b[0m     body \u001b[39m=\u001b[39m _encode(body, \u001b[39m'\u001b[39m\u001b[39mbody\u001b[39m\u001b[39m'\u001b[39m)\n\u001b[1;32m-> 1331\u001b[0m \u001b[39mself\u001b[39;49m\u001b[39m.\u001b[39;49mendheaders(body, encode_chunked\u001b[39m=\u001b[39;49mencode_chunked)\n",
      "File \u001b[1;32mc:\\Users\\parke\\anaconda3\\envs\\myenv\\lib\\http\\client.py:1280\u001b[0m, in \u001b[0;36mHTTPConnection.endheaders\u001b[1;34m(self, message_body, encode_chunked)\u001b[0m\n\u001b[0;32m   1279\u001b[0m     \u001b[39mraise\u001b[39;00m CannotSendHeader()\n\u001b[1;32m-> 1280\u001b[0m \u001b[39mself\u001b[39;49m\u001b[39m.\u001b[39;49m_send_output(message_body, encode_chunked\u001b[39m=\u001b[39;49mencode_chunked)\n",
      "File \u001b[1;32mc:\\Users\\parke\\anaconda3\\envs\\myenv\\lib\\http\\client.py:1040\u001b[0m, in \u001b[0;36mHTTPConnection._send_output\u001b[1;34m(self, message_body, encode_chunked)\u001b[0m\n\u001b[0;32m   1039\u001b[0m \u001b[39mdel\u001b[39;00m \u001b[39mself\u001b[39m\u001b[39m.\u001b[39m_buffer[:]\n\u001b[1;32m-> 1040\u001b[0m \u001b[39mself\u001b[39;49m\u001b[39m.\u001b[39;49msend(msg)\n\u001b[0;32m   1042\u001b[0m \u001b[39mif\u001b[39;00m message_body \u001b[39mis\u001b[39;00m \u001b[39mnot\u001b[39;00m \u001b[39mNone\u001b[39;00m:\n\u001b[0;32m   1043\u001b[0m \n\u001b[0;32m   1044\u001b[0m     \u001b[39m# create a consistent interface to message_body\u001b[39;00m\n",
      "File \u001b[1;32mc:\\Users\\parke\\anaconda3\\envs\\myenv\\lib\\http\\client.py:980\u001b[0m, in \u001b[0;36mHTTPConnection.send\u001b[1;34m(self, data)\u001b[0m\n\u001b[0;32m    979\u001b[0m \u001b[39mif\u001b[39;00m \u001b[39mself\u001b[39m\u001b[39m.\u001b[39mauto_open:\n\u001b[1;32m--> 980\u001b[0m     \u001b[39mself\u001b[39;49m\u001b[39m.\u001b[39;49mconnect()\n\u001b[0;32m    981\u001b[0m \u001b[39melse\u001b[39;00m:\n",
      "File \u001b[1;32mc:\\Users\\parke\\anaconda3\\envs\\myenv\\lib\\http\\client.py:1447\u001b[0m, in \u001b[0;36mHTTPSConnection.connect\u001b[1;34m(self)\u001b[0m\n\u001b[0;32m   1445\u001b[0m \u001b[39m\"\u001b[39m\u001b[39mConnect to a host on a given (SSL) port.\u001b[39m\u001b[39m\"\u001b[39m\n\u001b[1;32m-> 1447\u001b[0m \u001b[39msuper\u001b[39;49m()\u001b[39m.\u001b[39;49mconnect()\n\u001b[0;32m   1449\u001b[0m \u001b[39mif\u001b[39;00m \u001b[39mself\u001b[39m\u001b[39m.\u001b[39m_tunnel_host:\n",
      "File \u001b[1;32mc:\\Users\\parke\\anaconda3\\envs\\myenv\\lib\\http\\client.py:946\u001b[0m, in \u001b[0;36mHTTPConnection.connect\u001b[1;34m(self)\u001b[0m\n\u001b[0;32m    945\u001b[0m \u001b[39m\"\"\"Connect to the host and port specified in __init__.\"\"\"\u001b[39;00m\n\u001b[1;32m--> 946\u001b[0m \u001b[39mself\u001b[39m\u001b[39m.\u001b[39msock \u001b[39m=\u001b[39m \u001b[39mself\u001b[39;49m\u001b[39m.\u001b[39;49m_create_connection(\n\u001b[0;32m    947\u001b[0m     (\u001b[39mself\u001b[39;49m\u001b[39m.\u001b[39;49mhost,\u001b[39mself\u001b[39;49m\u001b[39m.\u001b[39;49mport), \u001b[39mself\u001b[39;49m\u001b[39m.\u001b[39;49mtimeout, \u001b[39mself\u001b[39;49m\u001b[39m.\u001b[39;49msource_address)\n\u001b[0;32m    948\u001b[0m \u001b[39m# Might fail in OSs that don't implement TCP_NODELAY\u001b[39;00m\n",
      "File \u001b[1;32mc:\\Users\\parke\\anaconda3\\envs\\myenv\\lib\\socket.py:823\u001b[0m, in \u001b[0;36mcreate_connection\u001b[1;34m(address, timeout, source_address)\u001b[0m\n\u001b[0;32m    822\u001b[0m err \u001b[39m=\u001b[39m \u001b[39mNone\u001b[39;00m\n\u001b[1;32m--> 823\u001b[0m \u001b[39mfor\u001b[39;00m res \u001b[39min\u001b[39;00m getaddrinfo(host, port, \u001b[39m0\u001b[39;49m, SOCK_STREAM):\n\u001b[0;32m    824\u001b[0m     af, socktype, proto, canonname, sa \u001b[39m=\u001b[39m res\n",
      "File \u001b[1;32mc:\\Users\\parke\\anaconda3\\envs\\myenv\\lib\\socket.py:954\u001b[0m, in \u001b[0;36mgetaddrinfo\u001b[1;34m(host, port, family, type, proto, flags)\u001b[0m\n\u001b[0;32m    953\u001b[0m addrlist \u001b[39m=\u001b[39m []\n\u001b[1;32m--> 954\u001b[0m \u001b[39mfor\u001b[39;00m res \u001b[39min\u001b[39;00m _socket\u001b[39m.\u001b[39;49mgetaddrinfo(host, port, family, \u001b[39mtype\u001b[39;49m, proto, flags):\n\u001b[0;32m    955\u001b[0m     af, socktype, proto, canonname, sa \u001b[39m=\u001b[39m res\n",
      "\u001b[1;31mgaierror\u001b[0m: [Errno 11001] getaddrinfo failed",
      "\nDuring handling of the above exception, another exception occurred:\n",
      "\u001b[1;31mURLError\u001b[0m                                  Traceback (most recent call last)",
      "\u001b[1;32mc:\\Users\\parke\\data_work\\datascience\\macroecon_dash.ipynb Cell 4\u001b[0m in \u001b[0;36m<cell line: 1>\u001b[1;34m()\u001b[0m\n\u001b[1;32m----> <a href='vscode-notebook-cell:/c%3A/Users/parke/data_work/datascience/macroecon_dash.ipynb#W4sZmlsZQ%3D%3D?line=0'>1</a>\u001b[0m gdp \u001b[39m=\u001b[39m fred\u001b[39m.\u001b[39;49msearch(\u001b[39m\"\u001b[39;49m\u001b[39mGDP\u001b[39;49m\u001b[39m\"\u001b[39;49m)\n",
      "File \u001b[1;32mc:\\Users\\parke\\anaconda3\\envs\\myenv\\lib\\site-packages\\fredapi\\fred.py:378\u001b[0m, in \u001b[0;36mFred.search\u001b[1;34m(self, text, limit, order_by, sort_order, filter)\u001b[0m\n\u001b[0;32m    352\u001b[0m \u001b[39m\"\"\"\u001b[39;00m\n\u001b[0;32m    353\u001b[0m \u001b[39mDo a fulltext search for series in the Fred dataset. Returns information about matching series in a DataFrame.\u001b[39;00m\n\u001b[0;32m    354\u001b[0m \n\u001b[1;32m   (...)\u001b[0m\n\u001b[0;32m    374\u001b[0m \u001b[39m    a DataFrame containing information about the matching Fred series\u001b[39;00m\n\u001b[0;32m    375\u001b[0m \u001b[39m\"\"\"\u001b[39;00m\n\u001b[0;32m    376\u001b[0m url \u001b[39m=\u001b[39m \u001b[39m\"\u001b[39m\u001b[39m%s\u001b[39;00m\u001b[39m/series/search?search_text=\u001b[39m\u001b[39m%s\u001b[39;00m\u001b[39m&\u001b[39m\u001b[39m\"\u001b[39m \u001b[39m%\u001b[39m (\u001b[39mself\u001b[39m\u001b[39m.\u001b[39mroot_url,\n\u001b[0;32m    377\u001b[0m                                             quote_plus(text))\n\u001b[1;32m--> 378\u001b[0m info \u001b[39m=\u001b[39m \u001b[39mself\u001b[39;49m\u001b[39m.\u001b[39;49m__get_search_results(url, limit, order_by, sort_order, \u001b[39mfilter\u001b[39;49m)\n\u001b[0;32m    379\u001b[0m \u001b[39mreturn\u001b[39;00m info\n",
      "File \u001b[1;32mc:\\Users\\parke\\anaconda3\\envs\\myenv\\lib\\site-packages\\fredapi\\fred.py:335\u001b[0m, in \u001b[0;36mFred.__get_search_results\u001b[1;34m(self, url, limit, order_by, sort_order, filter)\u001b[0m\n\u001b[0;32m    332\u001b[0m     \u001b[39melse\u001b[39;00m:\n\u001b[0;32m    333\u001b[0m         \u001b[39mraise\u001b[39;00m \u001b[39mValueError\u001b[39;00m(\u001b[39m'\u001b[39m\u001b[39m%s\u001b[39;00m\u001b[39m is not in the valid list of sort_order options: \u001b[39m\u001b[39m%s\u001b[39;00m\u001b[39m'\u001b[39m \u001b[39m%\u001b[39m (sort_order, \u001b[39mstr\u001b[39m(sort_order_options)))\n\u001b[1;32m--> 335\u001b[0m data, num_results_total \u001b[39m=\u001b[39m \u001b[39mself\u001b[39;49m\u001b[39m.\u001b[39;49m__do_series_search(url)\n\u001b[0;32m    336\u001b[0m \u001b[39mif\u001b[39;00m data \u001b[39mis\u001b[39;00m \u001b[39mNone\u001b[39;00m:\n\u001b[0;32m    337\u001b[0m     \u001b[39mreturn\u001b[39;00m data\n",
      "File \u001b[1;32mc:\\Users\\parke\\anaconda3\\envs\\myenv\\lib\\site-packages\\fredapi\\fred.py:278\u001b[0m, in \u001b[0;36mFred.__do_series_search\u001b[1;34m(self, url)\u001b[0m\n\u001b[0;32m    274\u001b[0m \u001b[39mdef\u001b[39;00m \u001b[39m__do_series_search\u001b[39m(\u001b[39mself\u001b[39m, url):\n\u001b[0;32m    275\u001b[0m     \u001b[39m\"\"\"\u001b[39;00m\n\u001b[0;32m    276\u001b[0m \u001b[39m    helper function for making one HTTP request for data, and parsing the returned results into a DataFrame\u001b[39;00m\n\u001b[0;32m    277\u001b[0m \u001b[39m    \"\"\"\u001b[39;00m\n\u001b[1;32m--> 278\u001b[0m     root \u001b[39m=\u001b[39m \u001b[39mself\u001b[39;49m\u001b[39m.\u001b[39;49m__fetch_data(url)\n\u001b[0;32m    280\u001b[0m     series_ids \u001b[39m=\u001b[39m []\n\u001b[0;32m    281\u001b[0m     data \u001b[39m=\u001b[39m {}\n",
      "File \u001b[1;32mc:\\Users\\parke\\anaconda3\\envs\\myenv\\lib\\site-packages\\fredapi\\fred.py:64\u001b[0m, in \u001b[0;36mFred.__fetch_data\u001b[1;34m(self, url)\u001b[0m\n\u001b[0;32m     62\u001b[0m url \u001b[39m+\u001b[39m\u001b[39m=\u001b[39m \u001b[39m'\u001b[39m\u001b[39m&api_key=\u001b[39m\u001b[39m'\u001b[39m \u001b[39m+\u001b[39m \u001b[39mself\u001b[39m\u001b[39m.\u001b[39mapi_key\n\u001b[0;32m     63\u001b[0m \u001b[39mtry\u001b[39;00m:\n\u001b[1;32m---> 64\u001b[0m     response \u001b[39m=\u001b[39m urlopen(url)\n\u001b[0;32m     65\u001b[0m     root \u001b[39m=\u001b[39m ET\u001b[39m.\u001b[39mfromstring(response\u001b[39m.\u001b[39mread())\n\u001b[0;32m     66\u001b[0m \u001b[39mexcept\u001b[39;00m HTTPError \u001b[39mas\u001b[39;00m exc:\n",
      "File \u001b[1;32mc:\\Users\\parke\\anaconda3\\envs\\myenv\\lib\\urllib\\request.py:214\u001b[0m, in \u001b[0;36murlopen\u001b[1;34m(url, data, timeout, cafile, capath, cadefault, context)\u001b[0m\n\u001b[0;32m    212\u001b[0m \u001b[39melse\u001b[39;00m:\n\u001b[0;32m    213\u001b[0m     opener \u001b[39m=\u001b[39m _opener\n\u001b[1;32m--> 214\u001b[0m \u001b[39mreturn\u001b[39;00m opener\u001b[39m.\u001b[39;49mopen(url, data, timeout)\n",
      "File \u001b[1;32mc:\\Users\\parke\\anaconda3\\envs\\myenv\\lib\\urllib\\request.py:517\u001b[0m, in \u001b[0;36mOpenerDirector.open\u001b[1;34m(self, fullurl, data, timeout)\u001b[0m\n\u001b[0;32m    514\u001b[0m     req \u001b[39m=\u001b[39m meth(req)\n\u001b[0;32m    516\u001b[0m sys\u001b[39m.\u001b[39maudit(\u001b[39m'\u001b[39m\u001b[39murllib.Request\u001b[39m\u001b[39m'\u001b[39m, req\u001b[39m.\u001b[39mfull_url, req\u001b[39m.\u001b[39mdata, req\u001b[39m.\u001b[39mheaders, req\u001b[39m.\u001b[39mget_method())\n\u001b[1;32m--> 517\u001b[0m response \u001b[39m=\u001b[39m \u001b[39mself\u001b[39;49m\u001b[39m.\u001b[39;49m_open(req, data)\n\u001b[0;32m    519\u001b[0m \u001b[39m# post-process response\u001b[39;00m\n\u001b[0;32m    520\u001b[0m meth_name \u001b[39m=\u001b[39m protocol\u001b[39m+\u001b[39m\u001b[39m\"\u001b[39m\u001b[39m_response\u001b[39m\u001b[39m\"\u001b[39m\n",
      "File \u001b[1;32mc:\\Users\\parke\\anaconda3\\envs\\myenv\\lib\\urllib\\request.py:534\u001b[0m, in \u001b[0;36mOpenerDirector._open\u001b[1;34m(self, req, data)\u001b[0m\n\u001b[0;32m    531\u001b[0m     \u001b[39mreturn\u001b[39;00m result\n\u001b[0;32m    533\u001b[0m protocol \u001b[39m=\u001b[39m req\u001b[39m.\u001b[39mtype\n\u001b[1;32m--> 534\u001b[0m result \u001b[39m=\u001b[39m \u001b[39mself\u001b[39;49m\u001b[39m.\u001b[39;49m_call_chain(\u001b[39mself\u001b[39;49m\u001b[39m.\u001b[39;49mhandle_open, protocol, protocol \u001b[39m+\u001b[39;49m\n\u001b[0;32m    535\u001b[0m                           \u001b[39m'\u001b[39;49m\u001b[39m_open\u001b[39;49m\u001b[39m'\u001b[39;49m, req)\n\u001b[0;32m    536\u001b[0m \u001b[39mif\u001b[39;00m result:\n\u001b[0;32m    537\u001b[0m     \u001b[39mreturn\u001b[39;00m result\n",
      "File \u001b[1;32mc:\\Users\\parke\\anaconda3\\envs\\myenv\\lib\\urllib\\request.py:494\u001b[0m, in \u001b[0;36mOpenerDirector._call_chain\u001b[1;34m(self, chain, kind, meth_name, *args)\u001b[0m\n\u001b[0;32m    492\u001b[0m \u001b[39mfor\u001b[39;00m handler \u001b[39min\u001b[39;00m handlers:\n\u001b[0;32m    493\u001b[0m     func \u001b[39m=\u001b[39m \u001b[39mgetattr\u001b[39m(handler, meth_name)\n\u001b[1;32m--> 494\u001b[0m     result \u001b[39m=\u001b[39m func(\u001b[39m*\u001b[39;49margs)\n\u001b[0;32m    495\u001b[0m     \u001b[39mif\u001b[39;00m result \u001b[39mis\u001b[39;00m \u001b[39mnot\u001b[39;00m \u001b[39mNone\u001b[39;00m:\n\u001b[0;32m    496\u001b[0m         \u001b[39mreturn\u001b[39;00m result\n",
      "File \u001b[1;32mc:\\Users\\parke\\anaconda3\\envs\\myenv\\lib\\urllib\\request.py:1389\u001b[0m, in \u001b[0;36mHTTPSHandler.https_open\u001b[1;34m(self, req)\u001b[0m\n\u001b[0;32m   1388\u001b[0m \u001b[39mdef\u001b[39;00m \u001b[39mhttps_open\u001b[39m(\u001b[39mself\u001b[39m, req):\n\u001b[1;32m-> 1389\u001b[0m     \u001b[39mreturn\u001b[39;00m \u001b[39mself\u001b[39;49m\u001b[39m.\u001b[39;49mdo_open(http\u001b[39m.\u001b[39;49mclient\u001b[39m.\u001b[39;49mHTTPSConnection, req,\n\u001b[0;32m   1390\u001b[0m         context\u001b[39m=\u001b[39;49m\u001b[39mself\u001b[39;49m\u001b[39m.\u001b[39;49m_context, check_hostname\u001b[39m=\u001b[39;49m\u001b[39mself\u001b[39;49m\u001b[39m.\u001b[39;49m_check_hostname)\n",
      "File \u001b[1;32mc:\\Users\\parke\\anaconda3\\envs\\myenv\\lib\\urllib\\request.py:1349\u001b[0m, in \u001b[0;36mAbstractHTTPHandler.do_open\u001b[1;34m(self, http_class, req, **http_conn_args)\u001b[0m\n\u001b[0;32m   1346\u001b[0m         h\u001b[39m.\u001b[39mrequest(req\u001b[39m.\u001b[39mget_method(), req\u001b[39m.\u001b[39mselector, req\u001b[39m.\u001b[39mdata, headers,\n\u001b[0;32m   1347\u001b[0m                   encode_chunked\u001b[39m=\u001b[39mreq\u001b[39m.\u001b[39mhas_header(\u001b[39m'\u001b[39m\u001b[39mTransfer-encoding\u001b[39m\u001b[39m'\u001b[39m))\n\u001b[0;32m   1348\u001b[0m     \u001b[39mexcept\u001b[39;00m \u001b[39mOSError\u001b[39;00m \u001b[39mas\u001b[39;00m err: \u001b[39m# timeout error\u001b[39;00m\n\u001b[1;32m-> 1349\u001b[0m         \u001b[39mraise\u001b[39;00m URLError(err)\n\u001b[0;32m   1350\u001b[0m     r \u001b[39m=\u001b[39m h\u001b[39m.\u001b[39mgetresponse()\n\u001b[0;32m   1351\u001b[0m \u001b[39mexcept\u001b[39;00m:\n",
      "\u001b[1;31mURLError\u001b[0m: <urlopen error [Errno 11001] getaddrinfo failed>"
     ]
    }
   ],
   "source": [
    "gdp = fred.search(\"GDP\")"
   ]
  },
  {
   "cell_type": "code",
   "execution_count": 5,
   "metadata": {},
   "outputs": [
    {
     "ename": "AttributeError",
     "evalue": "'xml.etree.ElementTree.Element' object has no attribute 'getchildren'",
     "output_type": "error",
     "traceback": [
      "\u001b[1;31m---------------------------------------------------------------------------\u001b[0m",
      "\u001b[1;31mAttributeError\u001b[0m                            Traceback (most recent call last)",
      "\u001b[1;32mc:\\Users\\parke\\data_work\\datascience\\macroecon_dash.ipynb Cell 5\u001b[0m in \u001b[0;36m<cell line: 2>\u001b[1;34m()\u001b[0m\n\u001b[0;32m      <a href='vscode-notebook-cell:/c%3A/Users/parke/data_work/datascience/macroecon_dash.ipynb#W3sZmlsZQ%3D%3D?line=0'>1</a>\u001b[0m \u001b[39m### Pull in some macro data\u001b[39;00m\n\u001b[1;32m----> <a href='vscode-notebook-cell:/c%3A/Users/parke/data_work/datascience/macroecon_dash.ipynb#W3sZmlsZQ%3D%3D?line=1'>2</a>\u001b[0m rgdp \u001b[39m=\u001b[39m get_fred_data(fred_code \u001b[39m=\u001b[39;49m \u001b[39m'\u001b[39;49m\u001b[39mGDPC1\u001b[39;49m\u001b[39m'\u001b[39;49m, metric_name \u001b[39m=\u001b[39;49m \u001b[39m\"\u001b[39;49m\u001b[39mrgdp\u001b[39;49m\u001b[39m\"\u001b[39;49m, geo \u001b[39m=\u001b[39;49m \u001b[39m'\u001b[39;49m\u001b[39mUS\u001b[39;49m\u001b[39m'\u001b[39;49m)\n\u001b[0;32m      <a href='vscode-notebook-cell:/c%3A/Users/parke/data_work/datascience/macroecon_dash.ipynb#W3sZmlsZQ%3D%3D?line=3'>4</a>\u001b[0m \u001b[39m# Labor  Force\u001b[39;00m\n\u001b[0;32m      <a href='vscode-notebook-cell:/c%3A/Users/parke/data_work/datascience/macroecon_dash.ipynb#W3sZmlsZQ%3D%3D?line=4'>5</a>\u001b[0m unemployment \u001b[39m=\u001b[39m get_fred_data(fred_code \u001b[39m=\u001b[39m \u001b[39m'\u001b[39m\u001b[39mUNRATE\u001b[39m\u001b[39m'\u001b[39m, metric_name \u001b[39m=\u001b[39m \u001b[39m\"\u001b[39m\u001b[39munemployment\u001b[39m\u001b[39m\"\u001b[39m, geo \u001b[39m=\u001b[39m \u001b[39m'\u001b[39m\u001b[39mUS\u001b[39m\u001b[39m'\u001b[39m)\n",
      "\u001b[1;32mc:\\Users\\parke\\data_work\\datascience\\macroecon_dash.ipynb Cell 5\u001b[0m in \u001b[0;36mget_fred_data\u001b[1;34m(fred_code, metric_name, geo)\u001b[0m\n\u001b[0;32m      <a href='vscode-notebook-cell:/c%3A/Users/parke/data_work/datascience/macroecon_dash.ipynb#W3sZmlsZQ%3D%3D?line=1'>2</a>\u001b[0m \u001b[39mdef\u001b[39;00m \u001b[39mget_fred_data\u001b[39m(fred_code, metric_name, geo):\n\u001b[1;32m----> <a href='vscode-notebook-cell:/c%3A/Users/parke/data_work/datascience/macroecon_dash.ipynb#W3sZmlsZQ%3D%3D?line=2'>3</a>\u001b[0m     data \u001b[39m=\u001b[39m fred\u001b[39m.\u001b[39;49mget_series(fred_code)\n\u001b[0;32m      <a href='vscode-notebook-cell:/c%3A/Users/parke/data_work/datascience/macroecon_dash.ipynb#W3sZmlsZQ%3D%3D?line=3'>4</a>\u001b[0m     data \u001b[39m=\u001b[39m (pd\u001b[39m.\u001b[39mDataFrame(data)\n\u001b[0;32m      <a href='vscode-notebook-cell:/c%3A/Users/parke/data_work/datascience/macroecon_dash.ipynb#W3sZmlsZQ%3D%3D?line=4'>5</a>\u001b[0m         \u001b[39m.\u001b[39mreset_index()\n\u001b[0;32m      <a href='vscode-notebook-cell:/c%3A/Users/parke/data_work/datascience/macroecon_dash.ipynb#W3sZmlsZQ%3D%3D?line=5'>6</a>\u001b[0m         \u001b[39m.\u001b[39mrename(columns \u001b[39m=\u001b[39m {\u001b[39m'\u001b[39m\u001b[39mindex\u001b[39m\u001b[39m'\u001b[39m:\u001b[39m'\u001b[39m\u001b[39mdate\u001b[39m\u001b[39m'\u001b[39m,\u001b[39m0\u001b[39m:metric_name})\n\u001b[1;32m   (...)\u001b[0m\n\u001b[0;32m     <a href='vscode-notebook-cell:/c%3A/Users/parke/data_work/datascience/macroecon_dash.ipynb#W3sZmlsZQ%3D%3D?line=9'>10</a>\u001b[0m         \u001b[39m.\u001b[39mastype({\u001b[39m'\u001b[39m\u001b[39mgeo\u001b[39m\u001b[39m'\u001b[39m:\u001b[39m'\u001b[39m\u001b[39mcategory\u001b[39m\u001b[39m'\u001b[39m})\n\u001b[0;32m     <a href='vscode-notebook-cell:/c%3A/Users/parke/data_work/datascience/macroecon_dash.ipynb#W3sZmlsZQ%3D%3D?line=10'>11</a>\u001b[0m             )    \n\u001b[0;32m     <a href='vscode-notebook-cell:/c%3A/Users/parke/data_work/datascience/macroecon_dash.ipynb#W3sZmlsZQ%3D%3D?line=11'>12</a>\u001b[0m     data \u001b[39m=\u001b[39m data[[\u001b[39m'\u001b[39m\u001b[39mdate\u001b[39m\u001b[39m'\u001b[39m,\u001b[39m'\u001b[39m\u001b[39myear\u001b[39m\u001b[39m'\u001b[39m,\u001b[39m'\u001b[39m\u001b[39mmonth\u001b[39m\u001b[39m'\u001b[39m,\u001b[39m'\u001b[39m\u001b[39mgeo\u001b[39m\u001b[39m'\u001b[39m,metric_name,]]\n",
      "File \u001b[1;32mc:\\Users\\parke\\anaconda3\\envs\\myenv\\lib\\site-packages\\fredapi\\fred.py:135\u001b[0m, in \u001b[0;36mFred.get_series\u001b[1;34m(self, series_id, observation_start, observation_end, **kwargs)\u001b[0m\n\u001b[0;32m    133\u001b[0m     \u001b[39mraise\u001b[39;00m \u001b[39mValueError\u001b[39;00m(\u001b[39m'\u001b[39m\u001b[39mNo data exists for series id: \u001b[39m\u001b[39m'\u001b[39m \u001b[39m+\u001b[39m series_id)\n\u001b[0;32m    134\u001b[0m data \u001b[39m=\u001b[39m {}\n\u001b[1;32m--> 135\u001b[0m \u001b[39mfor\u001b[39;00m child \u001b[39min\u001b[39;00m root\u001b[39m.\u001b[39;49mgetchildren():\n\u001b[0;32m    136\u001b[0m     val \u001b[39m=\u001b[39m child\u001b[39m.\u001b[39mget(\u001b[39m'\u001b[39m\u001b[39mvalue\u001b[39m\u001b[39m'\u001b[39m)\n\u001b[0;32m    137\u001b[0m     \u001b[39mif\u001b[39;00m val \u001b[39m==\u001b[39m \u001b[39mself\u001b[39m\u001b[39m.\u001b[39mnan_char:\n",
      "\u001b[1;31mAttributeError\u001b[0m: 'xml.etree.ElementTree.Element' object has no attribute 'getchildren'"
     ]
    }
   ],
   "source": [
    "### Pull in some macro data\n",
    "rgdp = get_fred_data(fred_code = 'GDPC1', metric_name = \"rgdp\", geo = 'US')\n",
    "\n",
    "# Labor  Force\n",
    "unemployment = get_fred_data(fred_code = 'UNRATE', metric_name = \"unemployment\", geo = 'US')\n",
    "lfpr = get_fred_data(fred_code = 'CIVPART', metric_name = \"lfpr\", geo = 'US')\n",
    "\n",
    "# Money Supply\n",
    "m2 = get_fred_data(fred_code = 'M2SL', metric_name = \"money_supply\", geo = 'US')\n",
    "m2v = get_fred_data(fred_code = 'M2V', metric_name = \"m2v\", geo = 'US')\n",
    "\n",
    "# Prices\n",
    "cpi_urb = get_fred_data(fred_code = 'CPIAUCSL', metric_name = 'cpi_urb', geo = 'US')\n",
    "cpi_urb_less_fe = get_fred_data(fred_code = 'CPILFESL', metric_name = 'cpi_urb_less_fe', geo = 'US')\n",
    "\n",
    "# Interest Rates\n",
    "ffr = get_fred_data(fred_code = 'FEDFUNDS', metric_name = 'federal_funds_rate', geo = 'US')\n",
    "#mortgage = get_fred_data(fred_code = 'MORTGAGE30US', metric_name = 'mortgage_rate', geo = 'US')\n",
    "\n",
    "# Commodity Prices\n",
    "#wti_oil_price = get_fred_data(fred_code = 'DCOILWTICO', metric_name = 'wti_oil_price', geo = 'US')\n",
    "global_energy = get_fred_data(fred_code = 'PNRGINDEXM', metric_name = 'global_energy_price_index', geo = 'GLOBAL')\n",
    "global_materials = get_fred_data(fred_code = 'PRAWMINDEXM', metric_name = 'global_material_price_index', geo = 'GLOBAL')\n",
    "global_food = get_fred_data(fred_code = 'PFOODINDEXM', metric_name = 'global_food_price_index', geo = 'GLOBAL')"
   ]
  },
  {
   "cell_type": "code",
   "execution_count": null,
   "metadata": {},
   "outputs": [],
   "source": [
    "### Real GDP Plots\n",
    "\n",
    "rgdp = (rgdp\n",
    "        .assign(rgdp_growth_qq = lambda x: x.rgdp.pct_change(periods = 1*100),\n",
    "                rgdp_growth_yy = lambda x: x.rgdp.pct_change(periods = 4)*100)\n",
    "        )\n",
    "\n",
    "### Real GDP Plot\n",
    "fig = dual_yaxis_lineplot(x = rgdp.date, \n",
    "                        y1 = rgdp.rgdp_growth_yy, \n",
    "                        y2 = rgdp.rgdp,\n",
    "                        plot_title = \"Real GDP in the US\",\n",
    "                        x_title = 'Date',\n",
    "                        y1_title = 'Growth Rate Y/Y (%)',\n",
    "                        y2_title = 'Real GDP (Billions $)')\n",
    "\n",
    "fig = (fig.update_layout(legend=dict(\n",
    "            yanchor=\"top\",\n",
    "            y=0.99,\n",
    "            xanchor=\"left\",\n",
    "            x=0.01))\n",
    "        .add_hline(y = 0)\n",
    "        )\n",
    "\n",
    "fig.show()"
   ]
  },
  {
   "cell_type": "code",
   "execution_count": null,
   "metadata": {},
   "outputs": [],
   "source": [
    "### Labor Market Plots\n",
    "fig = make_subplots(\n",
    "        rows=1, cols=2,\n",
    "        subplot_titles= (\"US Unemployment Rate\",\"US Labor Force Participation\"))\n",
    "\n",
    "fig.add_trace(\n",
    "    go.Scatter(x=unemployment.date, y=unemployment.unemployment, name = 'Unemployment Rate'),\n",
    "    row=1, col=1\n",
    ")\n",
    "\n",
    "fig.add_trace(\n",
    "    go.Scatter(x=lfpr.date, y=lfpr.lfpr, name = 'Labor force Participation'),\n",
    "    row=1, col=2\n",
    ")\n",
    "\n",
    "fig.update_layout(title_text=\"Labor Market Essential Metrics\")\n",
    "fig.update_yaxes(title_text=\"Unemployment Rate (%)\", row=1, col=1)\n",
    "fig.update_yaxes(title_text=\"Labor Force Participation Rate (%)\", row=1, col=2)\n",
    "\n",
    "fig.update_layout(legend=dict(\n",
    "            yanchor=\"bottom\",\n",
    "            y=-0.25,\n",
    "            xanchor=\"left\",\n",
    "            x=0.01))\n",
    "\n",
    "fig.show()"
   ]
  },
  {
   "cell_type": "code",
   "execution_count": null,
   "metadata": {},
   "outputs": [],
   "source": [
    "### Consumer Price Index Plots\n",
    "fig = make_subplots(\n",
    "        rows=1, cols=2,\n",
    "        subplot_titles= (\"CPI: Urban Consumers\",\"CPI Less Food & Energy: City Consumers\"))\n",
    "\n",
    "fig.add_trace(\n",
    "    go.Scatter(x = cpi_urb.date, y = cpi_urb.cpi_urb, name = 'CPI'),\n",
    "    row=1, col=1\n",
    ")\n",
    "\n",
    "fig.add_trace(\n",
    "    go.Scatter(x=cpi_urb.date, y= cpi_urb_less_fe.cpi_urb_less_fe, name = 'CPI Less Food & Energy'),\n",
    "    row=1, col=2\n",
    ")\n",
    "\n",
    "fig.update_layout(title_text=\"Consumer Prices Indices\")\n",
    "fig.update_yaxes(title_text=\"CPI\", row=1, col=1)\n",
    "fig.update_yaxes(title_text=\"CPI Less Food & Energy\", row=1, col=2)\n",
    "\n",
    "fig.update_layout(legend=dict(\n",
    "            yanchor=\"bottom\",\n",
    "            y=-0.25,\n",
    "            xanchor=\"left\",\n",
    "            x=0.01))\n",
    "\n",
    "fig.show()"
   ]
  }
 ],
 "metadata": {
  "kernelspec": {
   "display_name": "Python 3.9.13 ('myenv')",
   "language": "python",
   "name": "python3"
  },
  "language_info": {
   "codemirror_mode": {
    "name": "ipython",
    "version": 3
   },
   "file_extension": ".py",
   "mimetype": "text/x-python",
   "name": "python",
   "nbconvert_exporter": "python",
   "pygments_lexer": "ipython3",
   "version": "3.9.13"
  },
  "orig_nbformat": 4,
  "vscode": {
   "interpreter": {
    "hash": "2189321822805078e0453408601d53350d8c5616eecaffabadf8631a8d2d0c7b"
   }
  }
 },
 "nbformat": 4,
 "nbformat_minor": 2
}
