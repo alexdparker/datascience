{
 "cells": [
  {
   "cell_type": "code",
   "execution_count": 1,
   "metadata": {},
   "outputs": [],
   "source": [
    "import numpy as np\n",
    "import pandas as pd\n",
    "import datetime\n",
    "import seaborn as sns\n",
    "import plotly.express as px \n",
    "import plotly.graph_objects as go\n",
    "from plotly.subplots import make_subplots\n",
    "pd.set_option('display.max_columns', 500)"
   ]
  },
  {
   "cell_type": "code",
   "execution_count": 2,
   "metadata": {},
   "outputs": [],
   "source": [
    "realtor_data_raw = pd.read_csv(\"https://econdata.s3-us-west-2.amazonaws.com/Reports/Core/RDC_Inventory_Core_Metrics_State_History.csv\")\n",
    "\n",
    "# for some reason the final row was corrupt with a note\n",
    "realtor_data = realtor_data_raw.drop(realtor_data_raw.tail(1).index)\n",
    "\n",
    "df = (realtor_data\n",
    "    .drop(labels = ['state'], axis = 1)\n",
    "    .assign(month_date_yyyymm = (realtor_data['month_date_yyyymm'] + \"01\").astype('datetime64'))\n",
    "    .rename(columns = {'month_date_yyyymm':'month','state_id':'state'})\n",
    "    .astype({'state':'category'})\n",
    "    .sort_values(by = ['state','month'], ascending = True)\n",
    "    )"
   ]
  },
  {
   "cell_type": "code",
   "execution_count": 3,
   "metadata": {},
   "outputs": [
    {
     "data": {
      "text/plain": [
       "Index(['month', 'state', 'median_listing_price', 'median_listing_price_mm',\n",
       "       'median_listing_price_yy', 'active_listing_count',\n",
       "       'active_listing_count_mm', 'active_listing_count_yy',\n",
       "       'median_days_on_market', 'median_days_on_market_mm',\n",
       "       'median_days_on_market_yy', 'new_listing_count', 'new_listing_count_mm',\n",
       "       'new_listing_count_yy', 'price_increased_count',\n",
       "       'price_increased_count_mm', 'price_increased_count_yy',\n",
       "       'price_reduced_count', 'price_reduced_count_mm',\n",
       "       'price_reduced_count_yy', 'pending_listing_count',\n",
       "       'pending_listing_count_mm', 'pending_listing_count_yy',\n",
       "       'median_listing_price_per_square_foot',\n",
       "       'median_listing_price_per_square_foot_mm',\n",
       "       'median_listing_price_per_square_foot_yy', 'median_square_feet',\n",
       "       'median_square_feet_mm', 'median_square_feet_yy',\n",
       "       'average_listing_price', 'average_listing_price_mm',\n",
       "       'average_listing_price_yy', 'total_listing_count',\n",
       "       'total_listing_count_mm', 'total_listing_count_yy', 'pending_ratio',\n",
       "       'pending_ratio_mm', 'pending_ratio_yy', 'quality_flag'],\n",
       "      dtype='object')"
      ]
     },
     "execution_count": 3,
     "metadata": {},
     "output_type": "execute_result"
    }
   ],
   "source": [
    "df.columns"
   ]
  },
  {
   "cell_type": "code",
   "execution_count": 4,
   "metadata": {},
   "outputs": [],
   "source": [
    "cols = ['month', 'state',\n",
    "       'median_listing_price',\n",
    "       #'median_listing_price_mm', 'median_listing_price_yy',\n",
    "       'active_listing_count', #'active_listing_count_mm',\n",
    "       #'active_listing_count_yy', \n",
    "       'median_days_on_market',\n",
    "       #'median_days_on_market_mm', 'median_days_on_market_yy',\n",
    "       'new_listing_count', \n",
    "       #'new_listing_count_mm', 'new_listing_count_yy',\n",
    "       'price_increased_count', \n",
    "       #'price_increased_count_mm','price_increased_count_yy', \n",
    "       'price_reduced_count',\n",
    "       #'price_reduced_count_mm', 'price_reduced_count_yy',\n",
    "       'pending_listing_count', \n",
    "       #'pending_listing_count_mm', 'pending_listing_count_yy',\n",
    "       #'median_listing_price_per_square_foot',\n",
    "       #'median_listing_price_per_square_foot_mm','median_listing_price_per_square_foot_yy', \n",
    "       'median_square_feet',\n",
    "       #'median_square_feet_mm', 'median_square_feet_yy',\n",
    "       'average_listing_price', \n",
    "       #'average_listing_price_mm', 'average_listing_price_yy', \n",
    "       # 'total_listing_count',\n",
    "       #'total_listing_count_mm', 'total_listing_count_yy', 'pending_ratio',\n",
    "       #'pending_ratio_mm', 'pending_ratio_yy', 'quality_flag'\n",
    "       ]\n",
    "\n",
    "df = df[cols]"
   ]
  },
  {
   "cell_type": "code",
   "execution_count": 5,
   "metadata": {},
   "outputs": [],
   "source": [
    "df = df.rename(columns = {'median_listing_price':'med_lp',\n",
    "                          'active_listing_count':'active_listings',\n",
    "                          'median_days_on_market':'med_dom',\n",
    "                          'new_listing_count':'new_listings',\n",
    "                          'price_increased_count':'price_increases',\n",
    "                          'price_reduced_count':'price_reductions',\n",
    "                          'pending_listing_count':'pending_listings',\n",
    "                          'median_square_feet':'med_sf',\n",
    "                          'average_listing_price':'avg_lp'})\n",
    "\n"
   ]
  },
  {
   "cell_type": "code",
   "execution_count": 6,
   "metadata": {},
   "outputs": [
    {
     "data": {
      "text/html": [
       "<div>\n",
       "<style scoped>\n",
       "    .dataframe tbody tr th:only-of-type {\n",
       "        vertical-align: middle;\n",
       "    }\n",
       "\n",
       "    .dataframe tbody tr th {\n",
       "        vertical-align: top;\n",
       "    }\n",
       "\n",
       "    .dataframe thead th {\n",
       "        text-align: right;\n",
       "    }\n",
       "</style>\n",
       "<table border=\"1\" class=\"dataframe\">\n",
       "  <thead>\n",
       "    <tr style=\"text-align: right;\">\n",
       "      <th></th>\n",
       "      <th>month</th>\n",
       "      <th>state</th>\n",
       "      <th>med_lp</th>\n",
       "      <th>active_listings</th>\n",
       "      <th>med_dom</th>\n",
       "      <th>new_listings</th>\n",
       "      <th>price_increases</th>\n",
       "      <th>price_reductions</th>\n",
       "      <th>pending_listings</th>\n",
       "      <th>med_sf</th>\n",
       "      <th>avg_lp</th>\n",
       "      <th>month_num</th>\n",
       "      <th>year</th>\n",
       "      <th>pct_ch_med_list_1m</th>\n",
       "      <th>pct_ch_active_list_1m</th>\n",
       "      <th>pct_ch_med_dom_1m</th>\n",
       "      <th>pct_ch_new_list_1m</th>\n",
       "      <th>pct_ch_price_inc_1m</th>\n",
       "      <th>pct_ch_price_red_1m</th>\n",
       "      <th>pct_ch_pending_1m</th>\n",
       "    </tr>\n",
       "  </thead>\n",
       "  <tbody>\n",
       "    <tr>\n",
       "      <th>3841</th>\n",
       "      <td>2016-07-01</td>\n",
       "      <td>AK</td>\n",
       "      <td>289900.0</td>\n",
       "      <td>3745.0</td>\n",
       "      <td>69.0</td>\n",
       "      <td>1268.0</td>\n",
       "      <td>44.0</td>\n",
       "      <td>1188.0</td>\n",
       "      <td>3.0</td>\n",
       "      <td>1800.0</td>\n",
       "      <td>333200.0</td>\n",
       "      <td>7</td>\n",
       "      <td>2016</td>\n",
       "      <td>NaN</td>\n",
       "      <td>NaN</td>\n",
       "      <td>NaN</td>\n",
       "      <td>NaN</td>\n",
       "      <td>NaN</td>\n",
       "      <td>NaN</td>\n",
       "      <td>NaN</td>\n",
       "    </tr>\n",
       "    <tr>\n",
       "      <th>3800</th>\n",
       "      <td>2016-08-01</td>\n",
       "      <td>AK</td>\n",
       "      <td>287975.0</td>\n",
       "      <td>3679.0</td>\n",
       "      <td>75.0</td>\n",
       "      <td>1116.0</td>\n",
       "      <td>46.0</td>\n",
       "      <td>1258.0</td>\n",
       "      <td>3.0</td>\n",
       "      <td>1794.0</td>\n",
       "      <td>329918.0</td>\n",
       "      <td>8</td>\n",
       "      <td>2016</td>\n",
       "      <td>-0.664022</td>\n",
       "      <td>-1.762350</td>\n",
       "      <td>8.695652</td>\n",
       "      <td>-11.987382</td>\n",
       "      <td>4.545455</td>\n",
       "      <td>5.892256</td>\n",
       "      <td>0.000000</td>\n",
       "    </tr>\n",
       "    <tr>\n",
       "      <th>3735</th>\n",
       "      <td>2016-09-01</td>\n",
       "      <td>AK</td>\n",
       "      <td>285000.0</td>\n",
       "      <td>3578.0</td>\n",
       "      <td>80.0</td>\n",
       "      <td>920.0</td>\n",
       "      <td>18.0</td>\n",
       "      <td>1132.0</td>\n",
       "      <td>4.0</td>\n",
       "      <td>1788.0</td>\n",
       "      <td>327484.0</td>\n",
       "      <td>9</td>\n",
       "      <td>2016</td>\n",
       "      <td>-1.033076</td>\n",
       "      <td>-2.745311</td>\n",
       "      <td>6.666667</td>\n",
       "      <td>-17.562724</td>\n",
       "      <td>-60.869565</td>\n",
       "      <td>-10.015898</td>\n",
       "      <td>33.333333</td>\n",
       "    </tr>\n",
       "    <tr>\n",
       "      <th>3682</th>\n",
       "      <td>2016-10-01</td>\n",
       "      <td>AK</td>\n",
       "      <td>280000.0</td>\n",
       "      <td>3251.0</td>\n",
       "      <td>86.0</td>\n",
       "      <td>780.0</td>\n",
       "      <td>24.0</td>\n",
       "      <td>896.0</td>\n",
       "      <td>4.0</td>\n",
       "      <td>1772.0</td>\n",
       "      <td>327819.0</td>\n",
       "      <td>10</td>\n",
       "      <td>2016</td>\n",
       "      <td>-1.754386</td>\n",
       "      <td>-9.139184</td>\n",
       "      <td>7.500000</td>\n",
       "      <td>-15.217391</td>\n",
       "      <td>33.333333</td>\n",
       "      <td>-20.848057</td>\n",
       "      <td>0.000000</td>\n",
       "    </tr>\n",
       "    <tr>\n",
       "      <th>3653</th>\n",
       "      <td>2016-11-01</td>\n",
       "      <td>AK</td>\n",
       "      <td>279938.0</td>\n",
       "      <td>2935.0</td>\n",
       "      <td>94.0</td>\n",
       "      <td>630.0</td>\n",
       "      <td>12.0</td>\n",
       "      <td>644.0</td>\n",
       "      <td>4.0</td>\n",
       "      <td>1775.0</td>\n",
       "      <td>329431.0</td>\n",
       "      <td>11</td>\n",
       "      <td>2016</td>\n",
       "      <td>-0.022143</td>\n",
       "      <td>-9.720086</td>\n",
       "      <td>9.302326</td>\n",
       "      <td>-19.230769</td>\n",
       "      <td>-50.000000</td>\n",
       "      <td>-28.125000</td>\n",
       "      <td>0.000000</td>\n",
       "    </tr>\n",
       "  </tbody>\n",
       "</table>\n",
       "</div>"
      ],
      "text/plain": [
       "          month state    med_lp  active_listings  med_dom  new_listings  \\\n",
       "3841 2016-07-01    AK  289900.0           3745.0     69.0        1268.0   \n",
       "3800 2016-08-01    AK  287975.0           3679.0     75.0        1116.0   \n",
       "3735 2016-09-01    AK  285000.0           3578.0     80.0         920.0   \n",
       "3682 2016-10-01    AK  280000.0           3251.0     86.0         780.0   \n",
       "3653 2016-11-01    AK  279938.0           2935.0     94.0         630.0   \n",
       "\n",
       "      price_increases  price_reductions  pending_listings  med_sf    avg_lp  \\\n",
       "3841             44.0            1188.0               3.0  1800.0  333200.0   \n",
       "3800             46.0            1258.0               3.0  1794.0  329918.0   \n",
       "3735             18.0            1132.0               4.0  1788.0  327484.0   \n",
       "3682             24.0             896.0               4.0  1772.0  327819.0   \n",
       "3653             12.0             644.0               4.0  1775.0  329431.0   \n",
       "\n",
       "      month_num  year  pct_ch_med_list_1m  pct_ch_active_list_1m  \\\n",
       "3841          7  2016                 NaN                    NaN   \n",
       "3800          8  2016           -0.664022              -1.762350   \n",
       "3735          9  2016           -1.033076              -2.745311   \n",
       "3682         10  2016           -1.754386              -9.139184   \n",
       "3653         11  2016           -0.022143              -9.720086   \n",
       "\n",
       "      pct_ch_med_dom_1m  pct_ch_new_list_1m  pct_ch_price_inc_1m  \\\n",
       "3841                NaN                 NaN                  NaN   \n",
       "3800           8.695652          -11.987382             4.545455   \n",
       "3735           6.666667          -17.562724           -60.869565   \n",
       "3682           7.500000          -15.217391            33.333333   \n",
       "3653           9.302326          -19.230769           -50.000000   \n",
       "\n",
       "      pct_ch_price_red_1m  pct_ch_pending_1m  \n",
       "3841                  NaN                NaN  \n",
       "3800             5.892256           0.000000  \n",
       "3735           -10.015898          33.333333  \n",
       "3682           -20.848057           0.000000  \n",
       "3653           -28.125000           0.000000  "
      ]
     },
     "execution_count": 6,
     "metadata": {},
     "output_type": "execute_result"
    }
   ],
   "source": [
    "# Month number and year columns, useful for time series plots\n",
    "df = df.assign(\n",
    "        month_num = lambda x: x.month.dt.month,\n",
    "        year = lambda x: x.month.dt.year)\n",
    "\n",
    "# percent change month over month\n",
    "df['pct_ch_med_list_1m'] = df.groupby('state')['med_lp'].transform(lambda x: x.pct_change(periods = 1)*100)\n",
    "df['pct_ch_active_list_1m'] = df.groupby('state')['active_listings'].transform(lambda x: x.pct_change(periods = 1)*100)\n",
    "df['pct_ch_med_dom_1m'] = df.groupby('state')['med_dom'].transform(lambda x: x.pct_change(periods = 1)*100)\n",
    "df['pct_ch_new_list_1m'] = df.groupby('state')['new_listings'].transform(lambda x: x.pct_change(periods = 1)*100)\n",
    "df['pct_ch_price_inc_1m'] = df.groupby('state')['price_increases'].transform(lambda x: x.pct_change(periods = 1)*100)\n",
    "df['pct_ch_price_red_1m'] = df.groupby('state')['price_reductions'].transform(lambda x: x.pct_change(periods = 1)*100)\n",
    "df['pct_ch_pending_1m'] = df.groupby('state')['pending_listings'].transform(lambda x: x.pct_change(periods = 1)*100)\n",
    "\n",
    "df.head()\n"
   ]
  },
  {
   "cell_type": "code",
   "execution_count": 7,
   "metadata": {},
   "outputs": [
    {
     "data": {
      "text/plain": [
       "['NE', 'KA', 'WY', 'CA', 'OR', 'PA', 'CO', 'IL', 'WI', 'UT', 'ID', 'MI', 'NY']"
      ]
     },
     "execution_count": 7,
     "metadata": {},
     "output_type": "execute_result"
    }
   ],
   "source": [
    "select_states = ['NE','KA','WY','CA','OR','PA','CO','IL','WI','UT','ID','MI','NY']\n",
    "select_states"
   ]
  },
  {
   "cell_type": "code",
   "execution_count": 8,
   "metadata": {},
   "outputs": [
    {
     "data": {
      "application/vnd.plotly.v1+json": {
       "config": {
        "plotlyServerURL": "https://plot.ly"
       },
       "data": [
        {
         "hovertemplate": "year=2016<br>state=CA<br>month_num=%{x}<br>med_dom=%{y}<extra></extra>",
         "legendgroup": "2016",
         "line": {
          "color": "#000004",
          "dash": "solid"
         },
         "marker": {
          "symbol": "circle"
         },
         "mode": "lines",
         "name": "2016",
         "orientation": "v",
         "showlegend": true,
         "type": "scatter",
         "x": [
          7,
          8,
          9,
          10,
          11,
          12
         ],
         "xaxis": "x9",
         "y": [
          47,
          50,
          51,
          53,
          56,
          66
         ],
         "yaxis": "y9"
        },
        {
         "hovertemplate": "year=2016<br>state=CO<br>month_num=%{x}<br>med_dom=%{y}<extra></extra>",
         "legendgroup": "2016",
         "line": {
          "color": "#000004",
          "dash": "solid"
         },
         "marker": {
          "symbol": "circle"
         },
         "mode": "lines",
         "name": "2016",
         "orientation": "v",
         "showlegend": false,
         "type": "scatter",
         "x": [
          7,
          8,
          9,
          10,
          11,
          12
         ],
         "xaxis": "x10",
         "y": [
          57,
          62,
          68,
          75,
          87,
          100
         ],
         "yaxis": "y10"
        },
        {
         "hovertemplate": "year=2016<br>state=ID<br>month_num=%{x}<br>med_dom=%{y}<extra></extra>",
         "legendgroup": "2016",
         "line": {
          "color": "#000004",
          "dash": "solid"
         },
         "marker": {
          "symbol": "circle"
         },
         "mode": "lines",
         "name": "2016",
         "orientation": "v",
         "showlegend": false,
         "type": "scatter",
         "x": [
          7,
          8,
          9,
          10,
          11,
          12
         ],
         "xaxis": "x11",
         "y": [
          64,
          69,
          75,
          81,
          89,
          100
         ],
         "yaxis": "y11"
        },
        {
         "hovertemplate": "year=2016<br>state=IL<br>month_num=%{x}<br>med_dom=%{y}<extra></extra>",
         "legendgroup": "2016",
         "line": {
          "color": "#000004",
          "dash": "solid"
         },
         "marker": {
          "symbol": "circle"
         },
         "mode": "lines",
         "name": "2016",
         "orientation": "v",
         "showlegend": false,
         "type": "scatter",
         "x": [
          7,
          8,
          9,
          10,
          11,
          12
         ],
         "xaxis": "x12",
         "y": [
          61,
          65,
          68,
          71,
          76,
          87
         ],
         "yaxis": "y12"
        },
        {
         "hovertemplate": "year=2016<br>state=MI<br>month_num=%{x}<br>med_dom=%{y}<extra></extra>",
         "legendgroup": "2016",
         "line": {
          "color": "#000004",
          "dash": "solid"
         },
         "marker": {
          "symbol": "circle"
         },
         "mode": "lines",
         "name": "2016",
         "orientation": "v",
         "showlegend": false,
         "type": "scatter",
         "x": [
          7,
          8,
          9,
          10,
          11,
          12
         ],
         "xaxis": "x5",
         "y": [
          66,
          72,
          80,
          85,
          90,
          99
         ],
         "yaxis": "y5"
        },
        {
         "hovertemplate": "year=2016<br>state=NE<br>month_num=%{x}<br>med_dom=%{y}<extra></extra>",
         "legendgroup": "2016",
         "line": {
          "color": "#000004",
          "dash": "solid"
         },
         "marker": {
          "symbol": "circle"
         },
         "mode": "lines",
         "name": "2016",
         "orientation": "v",
         "showlegend": false,
         "type": "scatter",
         "x": [
          7,
          8,
          9,
          10,
          11,
          12
         ],
         "xaxis": "x6",
         "y": [
          51,
          53,
          54,
          56,
          60,
          72
         ],
         "yaxis": "y6"
        },
        {
         "hovertemplate": "year=2016<br>state=NY<br>month_num=%{x}<br>med_dom=%{y}<extra></extra>",
         "legendgroup": "2016",
         "line": {
          "color": "#000004",
          "dash": "solid"
         },
         "marker": {
          "symbol": "circle"
         },
         "mode": "lines",
         "name": "2016",
         "orientation": "v",
         "showlegend": false,
         "type": "scatter",
         "x": [
          7,
          8,
          9,
          10,
          11,
          12
         ],
         "xaxis": "x7",
         "y": [
          74,
          85,
          90,
          92,
          95,
          101
         ],
         "yaxis": "y7"
        },
        {
         "hovertemplate": "year=2016<br>state=OR<br>month_num=%{x}<br>med_dom=%{y}<extra></extra>",
         "legendgroup": "2016",
         "line": {
          "color": "#000004",
          "dash": "solid"
         },
         "marker": {
          "symbol": "circle"
         },
         "mode": "lines",
         "name": "2016",
         "orientation": "v",
         "showlegend": false,
         "type": "scatter",
         "x": [
          7,
          8,
          9,
          10,
          11,
          12
         ],
         "xaxis": "x8",
         "y": [
          53,
          58,
          62,
          68,
          79,
          92
         ],
         "yaxis": "y8"
        },
        {
         "hovertemplate": "year=2016<br>state=PA<br>month_num=%{x}<br>med_dom=%{y}<extra></extra>",
         "legendgroup": "2016",
         "line": {
          "color": "#000004",
          "dash": "solid"
         },
         "marker": {
          "symbol": "circle"
         },
         "mode": "lines",
         "name": "2016",
         "orientation": "v",
         "showlegend": false,
         "type": "scatter",
         "x": [
          7,
          8,
          9,
          10,
          11,
          12
         ],
         "xaxis": "x",
         "y": [
          79,
          86,
          89,
          91,
          94,
          102
         ],
         "yaxis": "y"
        },
        {
         "hovertemplate": "year=2016<br>state=UT<br>month_num=%{x}<br>med_dom=%{y}<extra></extra>",
         "legendgroup": "2016",
         "line": {
          "color": "#000004",
          "dash": "solid"
         },
         "marker": {
          "symbol": "circle"
         },
         "mode": "lines",
         "name": "2016",
         "orientation": "v",
         "showlegend": false,
         "type": "scatter",
         "x": [
          7,
          8,
          9,
          10,
          11,
          12
         ],
         "xaxis": "x2",
         "y": [
          57,
          59,
          61,
          65,
          68,
          78
         ],
         "yaxis": "y2"
        },
        {
         "hovertemplate": "year=2016<br>state=WI<br>month_num=%{x}<br>med_dom=%{y}<extra></extra>",
         "legendgroup": "2016",
         "line": {
          "color": "#000004",
          "dash": "solid"
         },
         "marker": {
          "symbol": "circle"
         },
         "mode": "lines",
         "name": "2016",
         "orientation": "v",
         "showlegend": false,
         "type": "scatter",
         "x": [
          7,
          8,
          9,
          10,
          11,
          12
         ],
         "xaxis": "x3",
         "y": [
          73,
          79,
          87,
          92,
          97,
          109
         ],
         "yaxis": "y3"
        },
        {
         "hovertemplate": "year=2016<br>state=WY<br>month_num=%{x}<br>med_dom=%{y}<extra></extra>",
         "legendgroup": "2016",
         "line": {
          "color": "#000004",
          "dash": "solid"
         },
         "marker": {
          "symbol": "circle"
         },
         "mode": "lines",
         "name": "2016",
         "orientation": "v",
         "showlegend": false,
         "type": "scatter",
         "x": [
          7,
          8,
          9,
          10,
          11,
          12
         ],
         "xaxis": "x4",
         "y": [
          82,
          87,
          96,
          104,
          112,
          128
         ],
         "yaxis": "y4"
        },
        {
         "hovertemplate": "year=2017<br>state=CA<br>month_num=%{x}<br>med_dom=%{y}<extra></extra>",
         "legendgroup": "2017",
         "line": {
          "color": "#1b0c41",
          "dash": "solid"
         },
         "marker": {
          "symbol": "circle"
         },
         "mode": "lines",
         "name": "2017",
         "orientation": "v",
         "showlegend": true,
         "type": "scatter",
         "x": [
          1,
          2,
          3,
          4,
          5,
          6,
          7,
          8,
          9,
          10,
          11,
          12
         ],
         "xaxis": "x9",
         "y": [
          68,
          53,
          44,
          38,
          37,
          39,
          41,
          43,
          45,
          46,
          48,
          57
         ],
         "yaxis": "y9"
        },
        {
         "hovertemplate": "year=2017<br>state=CO<br>month_num=%{x}<br>med_dom=%{y}<extra></extra>",
         "legendgroup": "2017",
         "line": {
          "color": "#1b0c41",
          "dash": "solid"
         },
         "marker": {
          "symbol": "circle"
         },
         "mode": "lines",
         "name": "2017",
         "orientation": "v",
         "showlegend": false,
         "type": "scatter",
         "x": [
          1,
          2,
          3,
          4,
          5,
          6,
          7,
          8,
          9,
          10,
          11,
          12
         ],
         "xaxis": "x10",
         "y": [
          109,
          101,
          73,
          57,
          51,
          48,
          50,
          56,
          64,
          72,
          80,
          94
         ],
         "yaxis": "y10"
        },
        {
         "hovertemplate": "year=2017<br>state=ID<br>month_num=%{x}<br>med_dom=%{y}<extra></extra>",
         "legendgroup": "2017",
         "line": {
          "color": "#1b0c41",
          "dash": "solid"
         },
         "marker": {
          "symbol": "circle"
         },
         "mode": "lines",
         "name": "2017",
         "orientation": "v",
         "showlegend": false,
         "type": "scatter",
         "x": [
          1,
          2,
          3,
          4,
          5,
          6,
          7,
          8,
          9,
          10,
          11,
          12
         ],
         "xaxis": "x11",
         "y": [
          104,
          102,
          79,
          54,
          47,
          47,
          52,
          55,
          63,
          70,
          77,
          89
         ],
         "yaxis": "y11"
        },
        {
         "hovertemplate": "year=2017<br>state=IL<br>month_num=%{x}<br>med_dom=%{y}<extra></extra>",
         "legendgroup": "2017",
         "line": {
          "color": "#1b0c41",
          "dash": "solid"
         },
         "marker": {
          "symbol": "circle"
         },
         "mode": "lines",
         "name": "2017",
         "orientation": "v",
         "showlegend": false,
         "type": "scatter",
         "x": [
          1,
          2,
          3,
          4,
          5,
          6,
          7,
          8,
          9,
          10,
          11,
          12
         ],
         "xaxis": "x12",
         "y": [
          93,
          82,
          55,
          54,
          54,
          54,
          57,
          59,
          61,
          65,
          69,
          80
         ],
         "yaxis": "y12"
        },
        {
         "hovertemplate": "year=2017<br>state=MI<br>month_num=%{x}<br>med_dom=%{y}<extra></extra>",
         "legendgroup": "2017",
         "line": {
          "color": "#1b0c41",
          "dash": "solid"
         },
         "marker": {
          "symbol": "circle"
         },
         "mode": "lines",
         "name": "2017",
         "orientation": "v",
         "showlegend": false,
         "type": "scatter",
         "x": [
          1,
          2,
          3,
          4,
          5,
          6,
          7,
          8,
          9,
          10,
          11,
          12
         ],
         "xaxis": "x5",
         "y": [
          107,
          108,
          93,
          71,
          57,
          53,
          56,
          60,
          65,
          72,
          77,
          86
         ],
         "yaxis": "y5"
        },
        {
         "hovertemplate": "year=2017<br>state=NE<br>month_num=%{x}<br>med_dom=%{y}<extra></extra>",
         "legendgroup": "2017",
         "line": {
          "color": "#1b0c41",
          "dash": "solid"
         },
         "marker": {
          "symbol": "circle"
         },
         "mode": "lines",
         "name": "2017",
         "orientation": "v",
         "showlegend": false,
         "type": "scatter",
         "x": [
          1,
          2,
          3,
          4,
          5,
          6,
          7,
          8,
          9,
          10,
          11,
          12
         ],
         "xaxis": "x6",
         "y": [
          78,
          72,
          56,
          50,
          50,
          50,
          49,
          51,
          53,
          56,
          58,
          65
         ],
         "yaxis": "y6"
        },
        {
         "hovertemplate": "year=2017<br>state=NY<br>month_num=%{x}<br>med_dom=%{y}<extra></extra>",
         "legendgroup": "2017",
         "line": {
          "color": "#1b0c41",
          "dash": "solid"
         },
         "marker": {
          "symbol": "circle"
         },
         "mode": "lines",
         "name": "2017",
         "orientation": "v",
         "showlegend": false,
         "type": "scatter",
         "x": [
          1,
          2,
          3,
          4,
          5,
          6,
          7,
          8,
          9,
          10,
          11,
          12
         ],
         "xaxis": "x7",
         "y": [
          109,
          107,
          89,
          73,
          66,
          64,
          71,
          77,
          82,
          86,
          88,
          95
         ],
         "yaxis": "y7"
        },
        {
         "hovertemplate": "year=2017<br>state=OR<br>month_num=%{x}<br>med_dom=%{y}<extra></extra>",
         "legendgroup": "2017",
         "line": {
          "color": "#1b0c41",
          "dash": "solid"
         },
         "marker": {
          "symbol": "circle"
         },
         "mode": "lines",
         "name": "2017",
         "orientation": "v",
         "showlegend": false,
         "type": "scatter",
         "x": [
          1,
          2,
          3,
          4,
          5,
          6,
          7,
          8,
          9,
          10,
          11,
          12
         ],
         "xaxis": "x8",
         "y": [
          99,
          92,
          63,
          51,
          44,
          44,
          49,
          52,
          59,
          67,
          74,
          85
         ],
         "yaxis": "y8"
        },
        {
         "hovertemplate": "year=2017<br>state=PA<br>month_num=%{x}<br>med_dom=%{y}<extra></extra>",
         "legendgroup": "2017",
         "line": {
          "color": "#1b0c41",
          "dash": "solid"
         },
         "marker": {
          "symbol": "circle"
         },
         "mode": "lines",
         "name": "2017",
         "orientation": "v",
         "showlegend": false,
         "type": "scatter",
         "x": [
          1,
          2,
          3,
          4,
          5,
          6,
          7,
          8,
          9,
          10,
          11,
          12
         ],
         "xaxis": "x",
         "y": [
          112,
          111,
          97,
          75,
          68,
          68,
          72,
          75,
          80,
          82,
          87,
          95
         ],
         "yaxis": "y"
        },
        {
         "hovertemplate": "year=2017<br>state=UT<br>month_num=%{x}<br>med_dom=%{y}<extra></extra>",
         "legendgroup": "2017",
         "line": {
          "color": "#1b0c41",
          "dash": "solid"
         },
         "marker": {
          "symbol": "circle"
         },
         "mode": "lines",
         "name": "2017",
         "orientation": "v",
         "showlegend": false,
         "type": "scatter",
         "x": [
          1,
          2,
          3,
          4,
          5,
          6,
          7,
          8,
          9,
          10,
          11,
          12
         ],
         "xaxis": "x2",
         "y": [
          84,
          82,
          63,
          52,
          47,
          46,
          48,
          51,
          52,
          57,
          62,
          69
         ],
         "yaxis": "y2"
        },
        {
         "hovertemplate": "year=2017<br>state=WI<br>month_num=%{x}<br>med_dom=%{y}<extra></extra>",
         "legendgroup": "2017",
         "line": {
          "color": "#1b0c41",
          "dash": "solid"
         },
         "marker": {
          "symbol": "circle"
         },
         "mode": "lines",
         "name": "2017",
         "orientation": "v",
         "showlegend": false,
         "type": "scatter",
         "x": [
          1,
          2,
          3,
          4,
          5,
          6,
          7,
          8,
          9,
          10,
          11,
          12
         ],
         "xaxis": "x3",
         "y": [
          119,
          117,
          93,
          70,
          61,
          61,
          67,
          73,
          80,
          86,
          91,
          102
         ],
         "yaxis": "y3"
        },
        {
         "hovertemplate": "year=2017<br>state=WY<br>month_num=%{x}<br>med_dom=%{y}<extra></extra>",
         "legendgroup": "2017",
         "line": {
          "color": "#1b0c41",
          "dash": "solid"
         },
         "marker": {
          "symbol": "circle"
         },
         "mode": "lines",
         "name": "2017",
         "orientation": "v",
         "showlegend": false,
         "type": "scatter",
         "x": [
          1,
          2,
          3,
          4,
          5,
          6,
          7,
          8,
          9,
          10,
          11,
          12
         ],
         "xaxis": "x4",
         "y": [
          132,
          133,
          127,
          94,
          75,
          71,
          74,
          80,
          91,
          101,
          109,
          123
         ],
         "yaxis": "y4"
        },
        {
         "hovertemplate": "year=2018<br>state=CA<br>month_num=%{x}<br>med_dom=%{y}<extra></extra>",
         "legendgroup": "2018",
         "line": {
          "color": "#4a0c6b",
          "dash": "solid"
         },
         "marker": {
          "symbol": "circle"
         },
         "mode": "lines",
         "name": "2018",
         "orientation": "v",
         "showlegend": true,
         "type": "scatter",
         "x": [
          1,
          2,
          3,
          4,
          5,
          6,
          7,
          8,
          9,
          10,
          11,
          12
         ],
         "xaxis": "x9",
         "y": [
          56,
          37,
          37,
          36,
          35,
          37,
          39,
          41,
          44,
          45,
          48,
          59
         ],
         "yaxis": "y9"
        },
        {
         "hovertemplate": "year=2018<br>state=CO<br>month_num=%{x}<br>med_dom=%{y}<extra></extra>",
         "legendgroup": "2018",
         "line": {
          "color": "#4a0c6b",
          "dash": "solid"
         },
         "marker": {
          "symbol": "circle"
         },
         "mode": "lines",
         "name": "2018",
         "orientation": "v",
         "showlegend": false,
         "type": "scatter",
         "x": [
          1,
          2,
          3,
          4,
          5,
          6,
          7,
          8,
          9,
          10,
          11,
          12
         ],
         "xaxis": "x10",
         "y": [
          100,
          89,
          60,
          51,
          47,
          44,
          47,
          53,
          57,
          60,
          66,
          80
         ],
         "yaxis": "y10"
        },
        {
         "hovertemplate": "year=2018<br>state=ID<br>month_num=%{x}<br>med_dom=%{y}<extra></extra>",
         "legendgroup": "2018",
         "line": {
          "color": "#4a0c6b",
          "dash": "solid"
         },
         "marker": {
          "symbol": "circle"
         },
         "mode": "lines",
         "name": "2018",
         "orientation": "v",
         "showlegend": false,
         "type": "scatter",
         "x": [
          1,
          2,
          3,
          4,
          5,
          6,
          7,
          8,
          9,
          10,
          11,
          12
         ],
         "xaxis": "x11",
         "y": [
          94,
          84,
          56,
          47,
          42,
          43,
          50,
          53,
          58,
          62,
          68,
          78
         ],
         "yaxis": "y11"
        },
        {
         "hovertemplate": "year=2018<br>state=IL<br>month_num=%{x}<br>med_dom=%{y}<extra></extra>",
         "legendgroup": "2018",
         "line": {
          "color": "#4a0c6b",
          "dash": "solid"
         },
         "marker": {
          "symbol": "circle"
         },
         "mode": "lines",
         "name": "2018",
         "orientation": "v",
         "showlegend": false,
         "type": "scatter",
         "x": [
          1,
          2,
          3,
          4,
          5,
          6,
          7,
          8,
          9,
          10,
          11,
          12
         ],
         "xaxis": "x12",
         "y": [
          88,
          79,
          54,
          51,
          50,
          51,
          53,
          56,
          59,
          61,
          66,
          77
         ],
         "yaxis": "y12"
        },
        {
         "hovertemplate": "year=2018<br>state=MI<br>month_num=%{x}<br>med_dom=%{y}<extra></extra>",
         "legendgroup": "2018",
         "line": {
          "color": "#4a0c6b",
          "dash": "solid"
         },
         "marker": {
          "symbol": "circle"
         },
         "mode": "lines",
         "name": "2018",
         "orientation": "v",
         "showlegend": false,
         "type": "scatter",
         "x": [
          1,
          2,
          3,
          4,
          5,
          6,
          7,
          8,
          9,
          10,
          11,
          12
         ],
         "xaxis": "x5",
         "y": [
          96,
          99,
          80,
          62,
          51,
          46,
          51,
          53,
          58,
          65,
          68,
          79
         ],
         "yaxis": "y5"
        },
        {
         "hovertemplate": "year=2018<br>state=NE<br>month_num=%{x}<br>med_dom=%{y}<extra></extra>",
         "legendgroup": "2018",
         "line": {
          "color": "#4a0c6b",
          "dash": "solid"
         },
         "marker": {
          "symbol": "circle"
         },
         "mode": "lines",
         "name": "2018",
         "orientation": "v",
         "showlegend": false,
         "type": "scatter",
         "x": [
          1,
          2,
          3,
          4,
          5,
          6,
          7,
          8,
          9,
          10,
          11,
          12
         ],
         "xaxis": "x6",
         "y": [
          77,
          75,
          58,
          47,
          46,
          43,
          44,
          46,
          51,
          52,
          54,
          67
         ],
         "yaxis": "y6"
        },
        {
         "hovertemplate": "year=2018<br>state=NY<br>month_num=%{x}<br>med_dom=%{y}<extra></extra>",
         "legendgroup": "2018",
         "line": {
          "color": "#4a0c6b",
          "dash": "solid"
         },
         "marker": {
          "symbol": "circle"
         },
         "mode": "lines",
         "name": "2018",
         "orientation": "v",
         "showlegend": false,
         "type": "scatter",
         "x": [
          1,
          2,
          3,
          4,
          5,
          6,
          7,
          8,
          9,
          10,
          11,
          12
         ],
         "xaxis": "x7",
         "y": [
          104,
          101,
          78,
          68,
          60,
          58,
          66,
          72,
          79,
          80,
          81,
          92
         ],
         "yaxis": "y7"
        },
        {
         "hovertemplate": "year=2018<br>state=OR<br>month_num=%{x}<br>med_dom=%{y}<extra></extra>",
         "legendgroup": "2018",
         "line": {
          "color": "#4a0c6b",
          "dash": "solid"
         },
         "marker": {
          "symbol": "circle"
         },
         "mode": "lines",
         "name": "2018",
         "orientation": "v",
         "showlegend": false,
         "type": "scatter",
         "x": [
          1,
          2,
          3,
          4,
          5,
          6,
          7,
          8,
          9,
          10,
          11,
          12
         ],
         "xaxis": "x8",
         "y": [
          87,
          78,
          56,
          47,
          45,
          44,
          50,
          52,
          58,
          65,
          70,
          82
         ],
         "yaxis": "y8"
        },
        {
         "hovertemplate": "year=2018<br>state=PA<br>month_num=%{x}<br>med_dom=%{y}<extra></extra>",
         "legendgroup": "2018",
         "line": {
          "color": "#4a0c6b",
          "dash": "solid"
         },
         "marker": {
          "symbol": "circle"
         },
         "mode": "lines",
         "name": "2018",
         "orientation": "v",
         "showlegend": false,
         "type": "scatter",
         "x": [
          1,
          2,
          3,
          4,
          5,
          6,
          7,
          8,
          9,
          10,
          11,
          12
         ],
         "xaxis": "x",
         "y": [
          106,
          106,
          93,
          72,
          64,
          61,
          66,
          70,
          74,
          77,
          81,
          91
         ],
         "yaxis": "y"
        },
        {
         "hovertemplate": "year=2018<br>state=UT<br>month_num=%{x}<br>med_dom=%{y}<extra></extra>",
         "legendgroup": "2018",
         "line": {
          "color": "#4a0c6b",
          "dash": "solid"
         },
         "marker": {
          "symbol": "circle"
         },
         "mode": "lines",
         "name": "2018",
         "orientation": "v",
         "showlegend": false,
         "type": "scatter",
         "x": [
          1,
          2,
          3,
          4,
          5,
          6,
          7,
          8,
          9,
          10,
          11,
          12
         ],
         "xaxis": "x2",
         "y": [
          74,
          71,
          52,
          46,
          45,
          45,
          46,
          48,
          51,
          52,
          55,
          67
         ],
         "yaxis": "y2"
        },
        {
         "hovertemplate": "year=2018<br>state=WI<br>month_num=%{x}<br>med_dom=%{y}<extra></extra>",
         "legendgroup": "2018",
         "line": {
          "color": "#4a0c6b",
          "dash": "solid"
         },
         "marker": {
          "symbol": "circle"
         },
         "mode": "lines",
         "name": "2018",
         "orientation": "v",
         "showlegend": false,
         "type": "scatter",
         "x": [
          1,
          2,
          3,
          4,
          5,
          6,
          7,
          8,
          9,
          10,
          11,
          12
         ],
         "xaxis": "x3",
         "y": [
          114,
          114,
          87,
          67,
          60,
          57,
          60,
          65,
          67,
          74,
          80,
          93
         ],
         "yaxis": "y3"
        },
        {
         "hovertemplate": "year=2018<br>state=WY<br>month_num=%{x}<br>med_dom=%{y}<extra></extra>",
         "legendgroup": "2018",
         "line": {
          "color": "#4a0c6b",
          "dash": "solid"
         },
         "marker": {
          "symbol": "circle"
         },
         "mode": "lines",
         "name": "2018",
         "orientation": "v",
         "showlegend": false,
         "type": "scatter",
         "x": [
          1,
          2,
          3,
          4,
          5,
          6,
          7,
          8,
          9,
          10,
          11,
          12
         ],
         "xaxis": "x4",
         "y": [
          131,
          131,
          120,
          85,
          75,
          73,
          78,
          80,
          88,
          94,
          102,
          116
         ],
         "yaxis": "y4"
        },
        {
         "hovertemplate": "year=2019<br>state=CA<br>month_num=%{x}<br>med_dom=%{y}<extra></extra>",
         "legendgroup": "2019",
         "line": {
          "color": "#781c6d",
          "dash": "solid"
         },
         "marker": {
          "symbol": "circle"
         },
         "mode": "lines",
         "name": "2019",
         "orientation": "v",
         "showlegend": true,
         "type": "scatter",
         "x": [
          1,
          2,
          3,
          4,
          5,
          6,
          7,
          8,
          9,
          10,
          11,
          12
         ],
         "xaxis": "x9",
         "y": [
          64,
          48,
          44,
          43,
          42,
          45,
          49,
          50,
          52,
          55,
          59,
          72
         ],
         "yaxis": "y9"
        },
        {
         "hovertemplate": "year=2019<br>state=CO<br>month_num=%{x}<br>med_dom=%{y}<extra></extra>",
         "legendgroup": "2019",
         "line": {
          "color": "#781c6d",
          "dash": "solid"
         },
         "marker": {
          "symbol": "circle"
         },
         "mode": "lines",
         "name": "2019",
         "orientation": "v",
         "showlegend": false,
         "type": "scatter",
         "x": [
          1,
          2,
          3,
          4,
          5,
          6,
          7,
          8,
          9,
          10,
          11,
          12
         ],
         "xaxis": "x10",
         "y": [
          87,
          78,
          64,
          51,
          44,
          44,
          48,
          54,
          60,
          65,
          74,
          87
         ],
         "yaxis": "y10"
        },
        {
         "hovertemplate": "year=2019<br>state=ID<br>month_num=%{x}<br>med_dom=%{y}<extra></extra>",
         "legendgroup": "2019",
         "line": {
          "color": "#781c6d",
          "dash": "solid"
         },
         "marker": {
          "symbol": "circle"
         },
         "mode": "lines",
         "name": "2019",
         "orientation": "v",
         "showlegend": false,
         "type": "scatter",
         "x": [
          1,
          2,
          3,
          4,
          5,
          6,
          7,
          8,
          9,
          10,
          11,
          12
         ],
         "xaxis": "x11",
         "y": [
          81,
          73,
          60,
          46,
          40,
          40,
          46,
          50,
          55,
          60,
          66,
          76
         ],
         "yaxis": "y11"
        },
        {
         "hovertemplate": "year=2019<br>state=IL<br>month_num=%{x}<br>med_dom=%{y}<extra></extra>",
         "legendgroup": "2019",
         "line": {
          "color": "#781c6d",
          "dash": "solid"
         },
         "marker": {
          "symbol": "circle"
         },
         "mode": "lines",
         "name": "2019",
         "orientation": "v",
         "showlegend": false,
         "type": "scatter",
         "x": [
          1,
          2,
          3,
          4,
          5,
          6,
          7,
          8,
          9,
          10,
          11,
          12
         ],
         "xaxis": "x12",
         "y": [
          86,
          78,
          60,
          47,
          47,
          50,
          52,
          56,
          61,
          64,
          71,
          84
         ],
         "yaxis": "y12"
        },
        {
         "hovertemplate": "year=2019<br>state=MI<br>month_num=%{x}<br>med_dom=%{y}<extra></extra>",
         "legendgroup": "2019",
         "line": {
          "color": "#781c6d",
          "dash": "solid"
         },
         "marker": {
          "symbol": "circle"
         },
         "mode": "lines",
         "name": "2019",
         "orientation": "v",
         "showlegend": false,
         "type": "scatter",
         "x": [
          1,
          2,
          3,
          4,
          5,
          6,
          7,
          8,
          9,
          10,
          11,
          12
         ],
         "xaxis": "x5",
         "y": [
          87,
          92,
          77,
          55,
          46,
          45,
          49,
          53,
          57,
          61,
          67,
          81
         ],
         "yaxis": "y5"
        },
        {
         "hovertemplate": "year=2019<br>state=NE<br>month_num=%{x}<br>med_dom=%{y}<extra></extra>",
         "legendgroup": "2019",
         "line": {
          "color": "#781c6d",
          "dash": "solid"
         },
         "marker": {
          "symbol": "circle"
         },
         "mode": "lines",
         "name": "2019",
         "orientation": "v",
         "showlegend": false,
         "type": "scatter",
         "x": [
          1,
          2,
          3,
          4,
          5,
          6,
          7,
          8,
          9,
          10,
          11,
          12
         ],
         "xaxis": "x6",
         "y": [
          72,
          70,
          64,
          51,
          40,
          43,
          47,
          47,
          48,
          49,
          60,
          74
         ],
         "yaxis": "y6"
        },
        {
         "hovertemplate": "year=2019<br>state=NY<br>month_num=%{x}<br>med_dom=%{y}<extra></extra>",
         "legendgroup": "2019",
         "line": {
          "color": "#781c6d",
          "dash": "solid"
         },
         "marker": {
          "symbol": "circle"
         },
         "mode": "lines",
         "name": "2019",
         "orientation": "v",
         "showlegend": false,
         "type": "scatter",
         "x": [
          1,
          2,
          3,
          4,
          5,
          6,
          7,
          8,
          9,
          10,
          11,
          12
         ],
         "xaxis": "x7",
         "y": [
          101,
          100,
          86,
          67,
          62,
          65,
          70,
          76,
          81,
          86,
          88,
          100
         ],
         "yaxis": "y7"
        },
        {
         "hovertemplate": "year=2019<br>state=OR<br>month_num=%{x}<br>med_dom=%{y}<extra></extra>",
         "legendgroup": "2019",
         "line": {
          "color": "#781c6d",
          "dash": "solid"
         },
         "marker": {
          "symbol": "circle"
         },
         "mode": "lines",
         "name": "2019",
         "orientation": "v",
         "showlegend": false,
         "type": "scatter",
         "x": [
          1,
          2,
          3,
          4,
          5,
          6,
          7,
          8,
          9,
          10,
          11,
          12
         ],
         "xaxis": "x8",
         "y": [
          88,
          79,
          64,
          49,
          43,
          43,
          50,
          55,
          61,
          65,
          74,
          87
         ],
         "yaxis": "y8"
        },
        {
         "hovertemplate": "year=2019<br>state=PA<br>month_num=%{x}<br>med_dom=%{y}<extra></extra>",
         "legendgroup": "2019",
         "line": {
          "color": "#781c6d",
          "dash": "solid"
         },
         "marker": {
          "symbol": "circle"
         },
         "mode": "lines",
         "name": "2019",
         "orientation": "v",
         "showlegend": false,
         "type": "scatter",
         "x": [
          1,
          2,
          3,
          4,
          5,
          6,
          7,
          8,
          9,
          10,
          11,
          12
         ],
         "xaxis": "x",
         "y": [
          101,
          103,
          86,
          64,
          57,
          60,
          65,
          68,
          71,
          74,
          78,
          91
         ],
         "yaxis": "y"
        },
        {
         "hovertemplate": "year=2019<br>state=UT<br>month_num=%{x}<br>med_dom=%{y}<extra></extra>",
         "legendgroup": "2019",
         "line": {
          "color": "#781c6d",
          "dash": "solid"
         },
         "marker": {
          "symbol": "circle"
         },
         "mode": "lines",
         "name": "2019",
         "orientation": "v",
         "showlegend": false,
         "type": "scatter",
         "x": [
          1,
          2,
          3,
          4,
          5,
          6,
          7,
          8,
          9,
          10,
          11,
          12
         ],
         "xaxis": "x2",
         "y": [
          74,
          69,
          62,
          55,
          47,
          49,
          52,
          53,
          55,
          57,
          61,
          73
         ],
         "yaxis": "y2"
        },
        {
         "hovertemplate": "year=2019<br>state=WI<br>month_num=%{x}<br>med_dom=%{y}<extra></extra>",
         "legendgroup": "2019",
         "line": {
          "color": "#781c6d",
          "dash": "solid"
         },
         "marker": {
          "symbol": "circle"
         },
         "mode": "lines",
         "name": "2019",
         "orientation": "v",
         "showlegend": false,
         "type": "scatter",
         "x": [
          1,
          2,
          3,
          4,
          5,
          6,
          7,
          8,
          9,
          10,
          11,
          12
         ],
         "xaxis": "x3",
         "y": [
          105,
          109,
          93,
          70,
          55,
          53,
          57,
          60,
          65,
          71,
          79,
          94
         ],
         "yaxis": "y3"
        },
        {
         "hovertemplate": "year=2019<br>state=WY<br>month_num=%{x}<br>med_dom=%{y}<extra></extra>",
         "legendgroup": "2019",
         "line": {
          "color": "#781c6d",
          "dash": "solid"
         },
         "marker": {
          "symbol": "circle"
         },
         "mode": "lines",
         "name": "2019",
         "orientation": "v",
         "showlegend": false,
         "type": "scatter",
         "x": [
          1,
          2,
          3,
          4,
          5,
          6,
          7,
          8,
          9,
          10,
          11,
          12
         ],
         "xaxis": "x4",
         "y": [
          123,
          129,
          117,
          98,
          82,
          71,
          68,
          73,
          82,
          90,
          102,
          119
         ],
         "yaxis": "y4"
        },
        {
         "hovertemplate": "year=2020<br>state=CA<br>month_num=%{x}<br>med_dom=%{y}<extra></extra>",
         "legendgroup": "2020",
         "line": {
          "color": "#a52c60",
          "dash": "solid"
         },
         "marker": {
          "symbol": "circle"
         },
         "mode": "lines",
         "name": "2020",
         "orientation": "v",
         "showlegend": true,
         "type": "scatter",
         "x": [
          1,
          2,
          3,
          4,
          5,
          6,
          7,
          8,
          9,
          10,
          11,
          12
         ],
         "xaxis": "x9",
         "y": [
          71,
          53,
          46,
          52,
          60,
          52,
          49,
          45,
          44,
          44,
          49,
          59
         ],
         "yaxis": "y9"
        },
        {
         "hovertemplate": "year=2020<br>state=CO<br>month_num=%{x}<br>med_dom=%{y}<extra></extra>",
         "legendgroup": "2020",
         "line": {
          "color": "#a52c60",
          "dash": "solid"
         },
         "marker": {
          "symbol": "circle"
         },
         "mode": "lines",
         "name": "2020",
         "orientation": "v",
         "showlegend": false,
         "type": "scatter",
         "x": [
          1,
          2,
          3,
          4,
          5,
          6,
          7,
          8,
          9,
          10,
          11,
          12
         ],
         "xaxis": "x10",
         "y": [
          96,
          92,
          56,
          55,
          59,
          51,
          51,
          51,
          51,
          53,
          60,
          73
         ],
         "yaxis": "y10"
        },
        {
         "hovertemplate": "year=2020<br>state=ID<br>month_num=%{x}<br>med_dom=%{y}<extra></extra>",
         "legendgroup": "2020",
         "line": {
          "color": "#a52c60",
          "dash": "solid"
         },
         "marker": {
          "symbol": "circle"
         },
         "mode": "lines",
         "name": "2020",
         "orientation": "v",
         "showlegend": false,
         "type": "scatter",
         "x": [
          1,
          2,
          3,
          4,
          5,
          6,
          7,
          8,
          9,
          10,
          11,
          12
         ],
         "xaxis": "x11",
         "y": [
          81,
          71,
          46,
          43,
          57,
          56,
          52,
          50,
          51,
          53,
          58,
          63
         ],
         "yaxis": "y11"
        },
        {
         "hovertemplate": "year=2020<br>state=IL<br>month_num=%{x}<br>med_dom=%{y}<extra></extra>",
         "legendgroup": "2020",
         "line": {
          "color": "#a52c60",
          "dash": "solid"
         },
         "marker": {
          "symbol": "circle"
         },
         "mode": "lines",
         "name": "2020",
         "orientation": "v",
         "showlegend": false,
         "type": "scatter",
         "x": [
          1,
          2,
          3,
          4,
          5,
          6,
          7,
          8,
          9,
          10,
          11,
          12
         ],
         "xaxis": "x12",
         "y": [
          89,
          71,
          53,
          61,
          68,
          57,
          50,
          48,
          48,
          50,
          56,
          65
         ],
         "yaxis": "y12"
        },
        {
         "hovertemplate": "year=2020<br>state=MI<br>month_num=%{x}<br>med_dom=%{y}<extra></extra>",
         "legendgroup": "2020",
         "line": {
          "color": "#a52c60",
          "dash": "solid"
         },
         "marker": {
          "symbol": "circle"
         },
         "mode": "lines",
         "name": "2020",
         "orientation": "v",
         "showlegend": false,
         "type": "scatter",
         "x": [
          1,
          2,
          3,
          4,
          5,
          6,
          7,
          8,
          9,
          10,
          11,
          12
         ],
         "xaxis": "x5",
         "y": [
          90,
          89,
          68,
          76,
          78,
          57,
          51,
          50,
          50,
          50,
          54,
          64
         ],
         "yaxis": "y5"
        },
        {
         "hovertemplate": "year=2020<br>state=NE<br>month_num=%{x}<br>med_dom=%{y}<extra></extra>",
         "legendgroup": "2020",
         "line": {
          "color": "#a52c60",
          "dash": "solid"
         },
         "marker": {
          "symbol": "circle"
         },
         "mode": "lines",
         "name": "2020",
         "orientation": "v",
         "showlegend": false,
         "type": "scatter",
         "x": [
          1,
          2,
          3,
          4,
          5,
          6,
          7,
          8,
          9,
          10,
          11,
          12
         ],
         "xaxis": "x6",
         "y": [
          82,
          73,
          59,
          57,
          60,
          60,
          62,
          53,
          52,
          52,
          57,
          62
         ],
         "yaxis": "y6"
        },
        {
         "hovertemplate": "year=2020<br>state=NY<br>month_num=%{x}<br>med_dom=%{y}<extra></extra>",
         "legendgroup": "2020",
         "line": {
          "color": "#a52c60",
          "dash": "solid"
         },
         "marker": {
          "symbol": "circle"
         },
         "mode": "lines",
         "name": "2020",
         "orientation": "v",
         "showlegend": false,
         "type": "scatter",
         "x": [
          1,
          2,
          3,
          4,
          5,
          6,
          7,
          8,
          9,
          10,
          11,
          12
         ],
         "xaxis": "x7",
         "y": [
          109,
          106,
          83,
          92,
          105,
          105,
          67,
          59,
          64,
          66,
          76,
          90
         ],
         "yaxis": "y7"
        },
        {
         "hovertemplate": "year=2020<br>state=OR<br>month_num=%{x}<br>med_dom=%{y}<extra></extra>",
         "legendgroup": "2020",
         "line": {
          "color": "#a52c60",
          "dash": "solid"
         },
         "marker": {
          "symbol": "circle"
         },
         "mode": "lines",
         "name": "2020",
         "orientation": "v",
         "showlegend": false,
         "type": "scatter",
         "x": [
          1,
          2,
          3,
          4,
          5,
          6,
          7,
          8,
          9,
          10,
          11,
          12
         ],
         "xaxis": "x8",
         "y": [
          88,
          78,
          55,
          52,
          65,
          69,
          53,
          52,
          58,
          63,
          69,
          71
         ],
         "yaxis": "y8"
        },
        {
         "hovertemplate": "year=2020<br>state=PA<br>month_num=%{x}<br>med_dom=%{y}<extra></extra>",
         "legendgroup": "2020",
         "line": {
          "color": "#a52c60",
          "dash": "solid"
         },
         "marker": {
          "symbol": "circle"
         },
         "mode": "lines",
         "name": "2020",
         "orientation": "v",
         "showlegend": false,
         "type": "scatter",
         "x": [
          1,
          2,
          3,
          4,
          5,
          6,
          7,
          8,
          9,
          10,
          11,
          12
         ],
         "xaxis": "x",
         "y": [
          100,
          97,
          72,
          86,
          92,
          84,
          55,
          54,
          54,
          57,
          61,
          70
         ],
         "yaxis": "y"
        },
        {
         "hovertemplate": "year=2020<br>state=UT<br>month_num=%{x}<br>med_dom=%{y}<extra></extra>",
         "legendgroup": "2020",
         "line": {
          "color": "#a52c60",
          "dash": "solid"
         },
         "marker": {
          "symbol": "circle"
         },
         "mode": "lines",
         "name": "2020",
         "orientation": "v",
         "showlegend": false,
         "type": "scatter",
         "x": [
          1,
          2,
          3,
          4,
          5,
          6,
          7,
          8,
          9,
          10,
          11,
          12
         ],
         "xaxis": "x2",
         "y": [
          79,
          72,
          53,
          46,
          57,
          57,
          55,
          49,
          42,
          43,
          47,
          56
         ],
         "yaxis": "y2"
        },
        {
         "hovertemplate": "year=2020<br>state=WI<br>month_num=%{x}<br>med_dom=%{y}<extra></extra>",
         "legendgroup": "2020",
         "line": {
          "color": "#a52c60",
          "dash": "solid"
         },
         "marker": {
          "symbol": "circle"
         },
         "mode": "lines",
         "name": "2020",
         "orientation": "v",
         "showlegend": false,
         "type": "scatter",
         "x": [
          1,
          2,
          3,
          4,
          5,
          6,
          7,
          8,
          9,
          10,
          11,
          12
         ],
         "xaxis": "x3",
         "y": [
          103,
          105,
          75,
          68,
          71,
          71,
          65,
          59,
          53,
          53,
          59,
          69
         ],
         "yaxis": "y3"
        },
        {
         "hovertemplate": "year=2020<br>state=WY<br>month_num=%{x}<br>med_dom=%{y}<extra></extra>",
         "legendgroup": "2020",
         "line": {
          "color": "#a52c60",
          "dash": "solid"
         },
         "marker": {
          "symbol": "circle"
         },
         "mode": "lines",
         "name": "2020",
         "orientation": "v",
         "showlegend": false,
         "type": "scatter",
         "x": [
          1,
          2,
          3,
          4,
          5,
          6,
          7,
          8,
          9,
          10,
          11,
          12
         ],
         "xaxis": "x4",
         "y": [
          127,
          124,
          99,
          79,
          77,
          71,
          63,
          62,
          64,
          67,
          73,
          81
         ],
         "yaxis": "y4"
        },
        {
         "hovertemplate": "year=2021<br>state=CA<br>month_num=%{x}<br>med_dom=%{y}<extra></extra>",
         "legendgroup": "2021",
         "line": {
          "color": "#cf4446",
          "dash": "solid"
         },
         "marker": {
          "symbol": "circle"
         },
         "mode": "lines",
         "name": "2021",
         "orientation": "v",
         "showlegend": true,
         "type": "scatter",
         "x": [
          1,
          2,
          3,
          4,
          5,
          6,
          7,
          8,
          9,
          10,
          11,
          12
         ],
         "xaxis": "x9",
         "y": [
          60,
          40,
          36,
          34,
          33,
          32,
          32,
          34,
          37,
          37,
          42,
          49
         ],
         "yaxis": "y9"
        },
        {
         "hovertemplate": "year=2021<br>state=CO<br>month_num=%{x}<br>med_dom=%{y}<extra></extra>",
         "legendgroup": "2021",
         "line": {
          "color": "#cf4446",
          "dash": "solid"
         },
         "marker": {
          "symbol": "circle"
         },
         "mode": "lines",
         "name": "2021",
         "orientation": "v",
         "showlegend": false,
         "type": "scatter",
         "x": [
          1,
          2,
          3,
          4,
          5,
          6,
          7,
          8,
          9,
          10,
          11,
          12
         ],
         "xaxis": "x10",
         "y": [
          78,
          59,
          41,
          36,
          30,
          25,
          29,
          32,
          36,
          38,
          46,
          58
         ],
         "yaxis": "y10"
        },
        {
         "hovertemplate": "year=2021<br>state=ID<br>month_num=%{x}<br>med_dom=%{y}<extra></extra>",
         "legendgroup": "2021",
         "line": {
          "color": "#cf4446",
          "dash": "solid"
         },
         "marker": {
          "symbol": "circle"
         },
         "mode": "lines",
         "name": "2021",
         "orientation": "v",
         "showlegend": false,
         "type": "scatter",
         "x": [
          1,
          2,
          3,
          4,
          5,
          6,
          7,
          8,
          9,
          10,
          11,
          12
         ],
         "xaxis": "x11",
         "y": [
          60,
          37,
          30,
          29,
          29,
          26,
          27,
          31,
          36,
          45,
          53,
          57
         ],
         "yaxis": "y11"
        },
        {
         "hovertemplate": "year=2021<br>state=IL<br>month_num=%{x}<br>med_dom=%{y}<extra></extra>",
         "legendgroup": "2021",
         "line": {
          "color": "#cf4446",
          "dash": "solid"
         },
         "marker": {
          "symbol": "circle"
         },
         "mode": "lines",
         "name": "2021",
         "orientation": "v",
         "showlegend": false,
         "type": "scatter",
         "x": [
          1,
          2,
          3,
          4,
          5,
          6,
          7,
          8,
          9,
          10,
          11,
          12
         ],
         "xaxis": "x12",
         "y": [
          73,
          65,
          50,
          42,
          39,
          37,
          37,
          39,
          43,
          44,
          48,
          57
         ],
         "yaxis": "y12"
        },
        {
         "hovertemplate": "year=2021<br>state=MI<br>month_num=%{x}<br>med_dom=%{y}<extra></extra>",
         "legendgroup": "2021",
         "line": {
          "color": "#cf4446",
          "dash": "solid"
         },
         "marker": {
          "symbol": "circle"
         },
         "mode": "lines",
         "name": "2021",
         "orientation": "v",
         "showlegend": false,
         "type": "scatter",
         "x": [
          1,
          2,
          3,
          4,
          5,
          6,
          7,
          8,
          9,
          10,
          11,
          12
         ],
         "xaxis": "x5",
         "y": [
          71,
          65,
          45,
          35,
          27,
          26,
          30,
          31,
          37,
          39,
          46,
          56
         ],
         "yaxis": "y5"
        },
        {
         "hovertemplate": "year=2021<br>state=NE<br>month_num=%{x}<br>med_dom=%{y}<extra></extra>",
         "legendgroup": "2021",
         "line": {
          "color": "#cf4446",
          "dash": "solid"
         },
         "marker": {
          "symbol": "circle"
         },
         "mode": "lines",
         "name": "2021",
         "orientation": "v",
         "showlegend": false,
         "type": "scatter",
         "x": [
          1,
          2,
          3,
          4,
          5,
          6,
          7,
          8,
          9,
          10,
          11,
          12
         ],
         "xaxis": "x6",
         "y": [
          68,
          70,
          58,
          46,
          43,
          40,
          39,
          40,
          40,
          43,
          48,
          59
         ],
         "yaxis": "y6"
        },
        {
         "hovertemplate": "year=2021<br>state=NY<br>month_num=%{x}<br>med_dom=%{y}<extra></extra>",
         "legendgroup": "2021",
         "line": {
          "color": "#cf4446",
          "dash": "solid"
         },
         "marker": {
          "symbol": "circle"
         },
         "mode": "lines",
         "name": "2021",
         "orientation": "v",
         "showlegend": false,
         "type": "scatter",
         "x": [
          1,
          2,
          3,
          4,
          5,
          6,
          7,
          8,
          9,
          10,
          11,
          12
         ],
         "xaxis": "x7",
         "y": [
          100,
          103,
          84,
          66,
          55,
          54,
          58,
          63,
          67,
          67,
          72,
          83
         ],
         "yaxis": "y7"
        },
        {
         "hovertemplate": "year=2021<br>state=OR<br>month_num=%{x}<br>med_dom=%{y}<extra></extra>",
         "legendgroup": "2021",
         "line": {
          "color": "#cf4446",
          "dash": "solid"
         },
         "marker": {
          "symbol": "circle"
         },
         "mode": "lines",
         "name": "2021",
         "orientation": "v",
         "showlegend": false,
         "type": "scatter",
         "x": [
          1,
          2,
          3,
          4,
          5,
          6,
          7,
          8,
          9,
          10,
          11,
          12
         ],
         "xaxis": "x8",
         "y": [
          61,
          48,
          38,
          34,
          31,
          30,
          36,
          38,
          43,
          45,
          56,
          62
         ],
         "yaxis": "y8"
        },
        {
         "hovertemplate": "year=2021<br>state=PA<br>month_num=%{x}<br>med_dom=%{y}<extra></extra>",
         "legendgroup": "2021",
         "line": {
          "color": "#cf4446",
          "dash": "solid"
         },
         "marker": {
          "symbol": "circle"
         },
         "mode": "lines",
         "name": "2021",
         "orientation": "v",
         "showlegend": false,
         "type": "scatter",
         "x": [
          1,
          2,
          3,
          4,
          5,
          6,
          7,
          8,
          9,
          10,
          11,
          12
         ],
         "xaxis": "x",
         "y": [
          81,
          82,
          59,
          43,
          40,
          38,
          40,
          44,
          48,
          51,
          55,
          63
         ],
         "yaxis": "y"
        },
        {
         "hovertemplate": "year=2021<br>state=UT<br>month_num=%{x}<br>med_dom=%{y}<extra></extra>",
         "legendgroup": "2021",
         "line": {
          "color": "#cf4446",
          "dash": "solid"
         },
         "marker": {
          "symbol": "circle"
         },
         "mode": "lines",
         "name": "2021",
         "orientation": "v",
         "showlegend": false,
         "type": "scatter",
         "x": [
          1,
          2,
          3,
          4,
          5,
          6,
          7,
          8,
          9,
          10,
          11,
          12
         ],
         "xaxis": "x2",
         "y": [
          58,
          38,
          23,
          18,
          17,
          18,
          22,
          24,
          26,
          32,
          36,
          46
         ],
         "yaxis": "y2"
        },
        {
         "hovertemplate": "year=2021<br>state=WI<br>month_num=%{x}<br>med_dom=%{y}<extra></extra>",
         "legendgroup": "2021",
         "line": {
          "color": "#cf4446",
          "dash": "solid"
         },
         "marker": {
          "symbol": "circle"
         },
         "mode": "lines",
         "name": "2021",
         "orientation": "v",
         "showlegend": false,
         "type": "scatter",
         "x": [
          1,
          2,
          3,
          4,
          5,
          6,
          7,
          8,
          9,
          10,
          11,
          12
         ],
         "xaxis": "x3",
         "y": [
          80,
          75,
          53,
          40,
          37,
          34,
          35,
          39,
          45,
          50,
          56,
          67
         ],
         "yaxis": "y3"
        },
        {
         "hovertemplate": "year=2021<br>state=WY<br>month_num=%{x}<br>med_dom=%{y}<extra></extra>",
         "legendgroup": "2021",
         "line": {
          "color": "#cf4446",
          "dash": "solid"
         },
         "marker": {
          "symbol": "circle"
         },
         "mode": "lines",
         "name": "2021",
         "orientation": "v",
         "showlegend": false,
         "type": "scatter",
         "x": [
          1,
          2,
          3,
          4,
          5,
          6,
          7,
          8,
          9,
          10,
          11,
          12
         ],
         "xaxis": "x4",
         "y": [
          93,
          89,
          60,
          55,
          43,
          39,
          39,
          45,
          50,
          54,
          62,
          66
         ],
         "yaxis": "y4"
        },
        {
         "hovertemplate": "year=2022<br>state=CA<br>month_num=%{x}<br>med_dom=%{y}<extra></extra>",
         "legendgroup": "2022",
         "line": {
          "color": "#ed6925",
          "dash": "solid"
         },
         "marker": {
          "symbol": "circle"
         },
         "mode": "lines",
         "name": "2022",
         "orientation": "v",
         "showlegend": true,
         "type": "scatter",
         "x": [
          1,
          2,
          3,
          4,
          5,
          6,
          7,
          8,
          9,
          10
         ],
         "xaxis": "x9",
         "y": [
          46,
          30,
          29,
          28,
          27,
          31,
          34,
          41,
          47,
          49
         ],
         "yaxis": "y9"
        },
        {
         "hovertemplate": "year=2022<br>state=CO<br>month_num=%{x}<br>med_dom=%{y}<extra></extra>",
         "legendgroup": "2022",
         "line": {
          "color": "#ed6925",
          "dash": "solid"
         },
         "marker": {
          "symbol": "circle"
         },
         "mode": "lines",
         "name": "2022",
         "orientation": "v",
         "showlegend": false,
         "type": "scatter",
         "x": [
          1,
          2,
          3,
          4,
          5,
          6,
          7,
          8,
          9,
          10
         ],
         "xaxis": "x10",
         "y": [
          60,
          35,
          26,
          22,
          21,
          23,
          30,
          39,
          46,
          51
         ],
         "yaxis": "y10"
        },
        {
         "hovertemplate": "year=2022<br>state=ID<br>month_num=%{x}<br>med_dom=%{y}<extra></extra>",
         "legendgroup": "2022",
         "line": {
          "color": "#ed6925",
          "dash": "solid"
         },
         "marker": {
          "symbol": "circle"
         },
         "mode": "lines",
         "name": "2022",
         "orientation": "v",
         "showlegend": false,
         "type": "scatter",
         "x": [
          1,
          2,
          3,
          4,
          5,
          6,
          7,
          8,
          9,
          10
         ],
         "xaxis": "x11",
         "y": [
          59,
          36,
          29,
          28,
          24,
          28,
          36,
          48,
          59,
          65
         ],
         "yaxis": "y11"
        },
        {
         "hovertemplate": "year=2022<br>state=IL<br>month_num=%{x}<br>med_dom=%{y}<extra></extra>",
         "legendgroup": "2022",
         "line": {
          "color": "#ed6925",
          "dash": "solid"
         },
         "marker": {
          "symbol": "circle"
         },
         "mode": "lines",
         "name": "2022",
         "orientation": "v",
         "showlegend": false,
         "type": "scatter",
         "x": [
          1,
          2,
          3,
          4,
          5,
          6,
          7,
          8,
          9,
          10
         ],
         "xaxis": "x12",
         "y": [
          65,
          51,
          40,
          35,
          32,
          33,
          36,
          39,
          43,
          43
         ],
         "yaxis": "y12"
        },
        {
         "hovertemplate": "year=2022<br>state=MI<br>month_num=%{x}<br>med_dom=%{y}<extra></extra>",
         "legendgroup": "2022",
         "line": {
          "color": "#ed6925",
          "dash": "solid"
         },
         "marker": {
          "symbol": "circle"
         },
         "mode": "lines",
         "name": "2022",
         "orientation": "v",
         "showlegend": false,
         "type": "scatter",
         "x": [
          1,
          2,
          3,
          4,
          5,
          6,
          7,
          8,
          9,
          10
         ],
         "xaxis": "x5",
         "y": [
          65,
          51,
          38,
          32,
          26,
          28,
          31,
          38,
          45,
          46
         ],
         "yaxis": "y5"
        },
        {
         "hovertemplate": "year=2022<br>state=NE<br>month_num=%{x}<br>med_dom=%{y}<extra></extra>",
         "legendgroup": "2022",
         "line": {
          "color": "#ed6925",
          "dash": "solid"
         },
         "marker": {
          "symbol": "circle"
         },
         "mode": "lines",
         "name": "2022",
         "orientation": "v",
         "showlegend": false,
         "type": "scatter",
         "x": [
          1,
          2,
          3,
          4,
          5,
          6,
          7,
          8,
          9,
          10
         ],
         "xaxis": "x6",
         "y": [
          61,
          50,
          43,
          38,
          36,
          38,
          37,
          40,
          47,
          46
         ],
         "yaxis": "y6"
        },
        {
         "hovertemplate": "year=2022<br>state=NY<br>month_num=%{x}<br>med_dom=%{y}<extra></extra>",
         "legendgroup": "2022",
         "line": {
          "color": "#ed6925",
          "dash": "solid"
         },
         "marker": {
          "symbol": "circle"
         },
         "mode": "lines",
         "name": "2022",
         "orientation": "v",
         "showlegend": false,
         "type": "scatter",
         "x": [
          1,
          2,
          3,
          4,
          5,
          6,
          7,
          8,
          9,
          10
         ],
         "xaxis": "x7",
         "y": [
          94,
          86,
          59,
          52,
          47,
          46,
          52,
          61,
          69,
          70
         ],
         "yaxis": "y7"
        },
        {
         "hovertemplate": "year=2022<br>state=OR<br>month_num=%{x}<br>med_dom=%{y}<extra></extra>",
         "legendgroup": "2022",
         "line": {
          "color": "#ed6925",
          "dash": "solid"
         },
         "marker": {
          "symbol": "circle"
         },
         "mode": "lines",
         "name": "2022",
         "orientation": "v",
         "showlegend": false,
         "type": "scatter",
         "x": [
          1,
          2,
          3,
          4,
          5,
          6,
          7,
          8,
          9,
          10
         ],
         "xaxis": "x8",
         "y": [
          71,
          36,
          33,
          30,
          29,
          31,
          36,
          44,
          51,
          54
         ],
         "yaxis": "y8"
        },
        {
         "hovertemplate": "year=2022<br>state=PA<br>month_num=%{x}<br>med_dom=%{y}<extra></extra>",
         "legendgroup": "2022",
         "line": {
          "color": "#ed6925",
          "dash": "solid"
         },
         "marker": {
          "symbol": "circle"
         },
         "mode": "lines",
         "name": "2022",
         "orientation": "v",
         "showlegend": false,
         "type": "scatter",
         "x": [
          1,
          2,
          3,
          4,
          5,
          6,
          7,
          8,
          9,
          10
         ],
         "xaxis": "x",
         "y": [
          72,
          64,
          44,
          37,
          36,
          37,
          40,
          46,
          52,
          54
         ],
         "yaxis": "y"
        },
        {
         "hovertemplate": "year=2022<br>state=UT<br>month_num=%{x}<br>med_dom=%{y}<extra></extra>",
         "legendgroup": "2022",
         "line": {
          "color": "#ed6925",
          "dash": "solid"
         },
         "marker": {
          "symbol": "circle"
         },
         "mode": "lines",
         "name": "2022",
         "orientation": "v",
         "showlegend": false,
         "type": "scatter",
         "x": [
          1,
          2,
          3,
          4,
          5,
          6,
          7,
          8,
          9,
          10
         ],
         "xaxis": "x2",
         "y": [
          47,
          31,
          27,
          25,
          24,
          30,
          36,
          45,
          52,
          58
         ],
         "yaxis": "y2"
        },
        {
         "hovertemplate": "year=2022<br>state=WI<br>month_num=%{x}<br>med_dom=%{y}<extra></extra>",
         "legendgroup": "2022",
         "line": {
          "color": "#ed6925",
          "dash": "solid"
         },
         "marker": {
          "symbol": "circle"
         },
         "mode": "lines",
         "name": "2022",
         "orientation": "v",
         "showlegend": false,
         "type": "scatter",
         "x": [
          1,
          2,
          3,
          4,
          5,
          6,
          7,
          8,
          9,
          10
         ],
         "xaxis": "x3",
         "y": [
          74,
          61,
          44,
          34,
          32,
          33,
          36,
          44,
          48,
          49
         ],
         "yaxis": "y3"
        },
        {
         "hovertemplate": "year=2022<br>state=WY<br>month_num=%{x}<br>med_dom=%{y}<extra></extra>",
         "legendgroup": "2022",
         "line": {
          "color": "#ed6925",
          "dash": "solid"
         },
         "marker": {
          "symbol": "circle"
         },
         "mode": "lines",
         "name": "2022",
         "orientation": "v",
         "showlegend": false,
         "type": "scatter",
         "x": [
          1,
          2,
          3,
          4,
          5,
          6,
          7,
          8,
          9,
          10
         ],
         "xaxis": "x4",
         "y": [
          78,
          71,
          50,
          43,
          34,
          32,
          37,
          48,
          54,
          61
         ],
         "yaxis": "y4"
        }
       ],
       "layout": {
        "annotations": [
         {
          "font": {},
          "showarrow": false,
          "text": "state=PA",
          "x": 0.1175,
          "xanchor": "center",
          "xref": "paper",
          "y": 0.2866666666666666,
          "yanchor": "bottom",
          "yref": "paper"
         },
         {
          "font": {},
          "showarrow": false,
          "text": "state=UT",
          "x": 0.3725,
          "xanchor": "center",
          "xref": "paper",
          "y": 0.2866666666666666,
          "yanchor": "bottom",
          "yref": "paper"
         },
         {
          "font": {},
          "showarrow": false,
          "text": "state=WI",
          "x": 0.6275,
          "xanchor": "center",
          "xref": "paper",
          "y": 0.2866666666666666,
          "yanchor": "bottom",
          "yref": "paper"
         },
         {
          "font": {},
          "showarrow": false,
          "text": "state=WY",
          "x": 0.8824999999999998,
          "xanchor": "center",
          "xref": "paper",
          "y": 0.2866666666666666,
          "yanchor": "bottom",
          "yref": "paper"
         },
         {
          "font": {},
          "showarrow": false,
          "text": "state=MI",
          "x": 0.1175,
          "xanchor": "center",
          "xref": "paper",
          "y": 0.6433333333333333,
          "yanchor": "bottom",
          "yref": "paper"
         },
         {
          "font": {},
          "showarrow": false,
          "text": "state=NE",
          "x": 0.3725,
          "xanchor": "center",
          "xref": "paper",
          "y": 0.6433333333333333,
          "yanchor": "bottom",
          "yref": "paper"
         },
         {
          "font": {},
          "showarrow": false,
          "text": "state=NY",
          "x": 0.6275,
          "xanchor": "center",
          "xref": "paper",
          "y": 0.6433333333333333,
          "yanchor": "bottom",
          "yref": "paper"
         },
         {
          "font": {},
          "showarrow": false,
          "text": "state=OR",
          "x": 0.8824999999999998,
          "xanchor": "center",
          "xref": "paper",
          "y": 0.6433333333333333,
          "yanchor": "bottom",
          "yref": "paper"
         },
         {
          "font": {},
          "showarrow": false,
          "text": "state=CA",
          "x": 0.1175,
          "xanchor": "center",
          "xref": "paper",
          "y": 0.9999999999999999,
          "yanchor": "bottom",
          "yref": "paper"
         },
         {
          "font": {},
          "showarrow": false,
          "text": "state=CO",
          "x": 0.3725,
          "xanchor": "center",
          "xref": "paper",
          "y": 0.9999999999999999,
          "yanchor": "bottom",
          "yref": "paper"
         },
         {
          "font": {},
          "showarrow": false,
          "text": "state=ID",
          "x": 0.6275,
          "xanchor": "center",
          "xref": "paper",
          "y": 0.9999999999999999,
          "yanchor": "bottom",
          "yref": "paper"
         },
         {
          "font": {},
          "showarrow": false,
          "text": "state=IL",
          "x": 0.8824999999999998,
          "xanchor": "center",
          "xref": "paper",
          "y": 0.9999999999999999,
          "yanchor": "bottom",
          "yref": "paper"
         }
        ],
        "height": 800,
        "legend": {
         "title": {
          "text": "year"
         },
         "tracegroupgap": 0
        },
        "template": {
         "data": {
          "bar": [
           {
            "error_x": {
             "color": "#2a3f5f"
            },
            "error_y": {
             "color": "#2a3f5f"
            },
            "marker": {
             "line": {
              "color": "#E5ECF6",
              "width": 0.5
             },
             "pattern": {
              "fillmode": "overlay",
              "size": 10,
              "solidity": 0.2
             }
            },
            "type": "bar"
           }
          ],
          "barpolar": [
           {
            "marker": {
             "line": {
              "color": "#E5ECF6",
              "width": 0.5
             },
             "pattern": {
              "fillmode": "overlay",
              "size": 10,
              "solidity": 0.2
             }
            },
            "type": "barpolar"
           }
          ],
          "carpet": [
           {
            "aaxis": {
             "endlinecolor": "#2a3f5f",
             "gridcolor": "white",
             "linecolor": "white",
             "minorgridcolor": "white",
             "startlinecolor": "#2a3f5f"
            },
            "baxis": {
             "endlinecolor": "#2a3f5f",
             "gridcolor": "white",
             "linecolor": "white",
             "minorgridcolor": "white",
             "startlinecolor": "#2a3f5f"
            },
            "type": "carpet"
           }
          ],
          "choropleth": [
           {
            "colorbar": {
             "outlinewidth": 0,
             "ticks": ""
            },
            "type": "choropleth"
           }
          ],
          "contour": [
           {
            "colorbar": {
             "outlinewidth": 0,
             "ticks": ""
            },
            "colorscale": [
             [
              0,
              "#0d0887"
             ],
             [
              0.1111111111111111,
              "#46039f"
             ],
             [
              0.2222222222222222,
              "#7201a8"
             ],
             [
              0.3333333333333333,
              "#9c179e"
             ],
             [
              0.4444444444444444,
              "#bd3786"
             ],
             [
              0.5555555555555556,
              "#d8576b"
             ],
             [
              0.6666666666666666,
              "#ed7953"
             ],
             [
              0.7777777777777778,
              "#fb9f3a"
             ],
             [
              0.8888888888888888,
              "#fdca26"
             ],
             [
              1,
              "#f0f921"
             ]
            ],
            "type": "contour"
           }
          ],
          "contourcarpet": [
           {
            "colorbar": {
             "outlinewidth": 0,
             "ticks": ""
            },
            "type": "contourcarpet"
           }
          ],
          "heatmap": [
           {
            "colorbar": {
             "outlinewidth": 0,
             "ticks": ""
            },
            "colorscale": [
             [
              0,
              "#0d0887"
             ],
             [
              0.1111111111111111,
              "#46039f"
             ],
             [
              0.2222222222222222,
              "#7201a8"
             ],
             [
              0.3333333333333333,
              "#9c179e"
             ],
             [
              0.4444444444444444,
              "#bd3786"
             ],
             [
              0.5555555555555556,
              "#d8576b"
             ],
             [
              0.6666666666666666,
              "#ed7953"
             ],
             [
              0.7777777777777778,
              "#fb9f3a"
             ],
             [
              0.8888888888888888,
              "#fdca26"
             ],
             [
              1,
              "#f0f921"
             ]
            ],
            "type": "heatmap"
           }
          ],
          "heatmapgl": [
           {
            "colorbar": {
             "outlinewidth": 0,
             "ticks": ""
            },
            "colorscale": [
             [
              0,
              "#0d0887"
             ],
             [
              0.1111111111111111,
              "#46039f"
             ],
             [
              0.2222222222222222,
              "#7201a8"
             ],
             [
              0.3333333333333333,
              "#9c179e"
             ],
             [
              0.4444444444444444,
              "#bd3786"
             ],
             [
              0.5555555555555556,
              "#d8576b"
             ],
             [
              0.6666666666666666,
              "#ed7953"
             ],
             [
              0.7777777777777778,
              "#fb9f3a"
             ],
             [
              0.8888888888888888,
              "#fdca26"
             ],
             [
              1,
              "#f0f921"
             ]
            ],
            "type": "heatmapgl"
           }
          ],
          "histogram": [
           {
            "marker": {
             "pattern": {
              "fillmode": "overlay",
              "size": 10,
              "solidity": 0.2
             }
            },
            "type": "histogram"
           }
          ],
          "histogram2d": [
           {
            "colorbar": {
             "outlinewidth": 0,
             "ticks": ""
            },
            "colorscale": [
             [
              0,
              "#0d0887"
             ],
             [
              0.1111111111111111,
              "#46039f"
             ],
             [
              0.2222222222222222,
              "#7201a8"
             ],
             [
              0.3333333333333333,
              "#9c179e"
             ],
             [
              0.4444444444444444,
              "#bd3786"
             ],
             [
              0.5555555555555556,
              "#d8576b"
             ],
             [
              0.6666666666666666,
              "#ed7953"
             ],
             [
              0.7777777777777778,
              "#fb9f3a"
             ],
             [
              0.8888888888888888,
              "#fdca26"
             ],
             [
              1,
              "#f0f921"
             ]
            ],
            "type": "histogram2d"
           }
          ],
          "histogram2dcontour": [
           {
            "colorbar": {
             "outlinewidth": 0,
             "ticks": ""
            },
            "colorscale": [
             [
              0,
              "#0d0887"
             ],
             [
              0.1111111111111111,
              "#46039f"
             ],
             [
              0.2222222222222222,
              "#7201a8"
             ],
             [
              0.3333333333333333,
              "#9c179e"
             ],
             [
              0.4444444444444444,
              "#bd3786"
             ],
             [
              0.5555555555555556,
              "#d8576b"
             ],
             [
              0.6666666666666666,
              "#ed7953"
             ],
             [
              0.7777777777777778,
              "#fb9f3a"
             ],
             [
              0.8888888888888888,
              "#fdca26"
             ],
             [
              1,
              "#f0f921"
             ]
            ],
            "type": "histogram2dcontour"
           }
          ],
          "mesh3d": [
           {
            "colorbar": {
             "outlinewidth": 0,
             "ticks": ""
            },
            "type": "mesh3d"
           }
          ],
          "parcoords": [
           {
            "line": {
             "colorbar": {
              "outlinewidth": 0,
              "ticks": ""
             }
            },
            "type": "parcoords"
           }
          ],
          "pie": [
           {
            "automargin": true,
            "type": "pie"
           }
          ],
          "scatter": [
           {
            "fillpattern": {
             "fillmode": "overlay",
             "size": 10,
             "solidity": 0.2
            },
            "type": "scatter"
           }
          ],
          "scatter3d": [
           {
            "line": {
             "colorbar": {
              "outlinewidth": 0,
              "ticks": ""
             }
            },
            "marker": {
             "colorbar": {
              "outlinewidth": 0,
              "ticks": ""
             }
            },
            "type": "scatter3d"
           }
          ],
          "scattercarpet": [
           {
            "marker": {
             "colorbar": {
              "outlinewidth": 0,
              "ticks": ""
             }
            },
            "type": "scattercarpet"
           }
          ],
          "scattergeo": [
           {
            "marker": {
             "colorbar": {
              "outlinewidth": 0,
              "ticks": ""
             }
            },
            "type": "scattergeo"
           }
          ],
          "scattergl": [
           {
            "marker": {
             "colorbar": {
              "outlinewidth": 0,
              "ticks": ""
             }
            },
            "type": "scattergl"
           }
          ],
          "scattermapbox": [
           {
            "marker": {
             "colorbar": {
              "outlinewidth": 0,
              "ticks": ""
             }
            },
            "type": "scattermapbox"
           }
          ],
          "scatterpolar": [
           {
            "marker": {
             "colorbar": {
              "outlinewidth": 0,
              "ticks": ""
             }
            },
            "type": "scatterpolar"
           }
          ],
          "scatterpolargl": [
           {
            "marker": {
             "colorbar": {
              "outlinewidth": 0,
              "ticks": ""
             }
            },
            "type": "scatterpolargl"
           }
          ],
          "scatterternary": [
           {
            "marker": {
             "colorbar": {
              "outlinewidth": 0,
              "ticks": ""
             }
            },
            "type": "scatterternary"
           }
          ],
          "surface": [
           {
            "colorbar": {
             "outlinewidth": 0,
             "ticks": ""
            },
            "colorscale": [
             [
              0,
              "#0d0887"
             ],
             [
              0.1111111111111111,
              "#46039f"
             ],
             [
              0.2222222222222222,
              "#7201a8"
             ],
             [
              0.3333333333333333,
              "#9c179e"
             ],
             [
              0.4444444444444444,
              "#bd3786"
             ],
             [
              0.5555555555555556,
              "#d8576b"
             ],
             [
              0.6666666666666666,
              "#ed7953"
             ],
             [
              0.7777777777777778,
              "#fb9f3a"
             ],
             [
              0.8888888888888888,
              "#fdca26"
             ],
             [
              1,
              "#f0f921"
             ]
            ],
            "type": "surface"
           }
          ],
          "table": [
           {
            "cells": {
             "fill": {
              "color": "#EBF0F8"
             },
             "line": {
              "color": "white"
             }
            },
            "header": {
             "fill": {
              "color": "#C8D4E3"
             },
             "line": {
              "color": "white"
             }
            },
            "type": "table"
           }
          ]
         },
         "layout": {
          "annotationdefaults": {
           "arrowcolor": "#2a3f5f",
           "arrowhead": 0,
           "arrowwidth": 1
          },
          "autotypenumbers": "strict",
          "coloraxis": {
           "colorbar": {
            "outlinewidth": 0,
            "ticks": ""
           }
          },
          "colorscale": {
           "diverging": [
            [
             0,
             "#8e0152"
            ],
            [
             0.1,
             "#c51b7d"
            ],
            [
             0.2,
             "#de77ae"
            ],
            [
             0.3,
             "#f1b6da"
            ],
            [
             0.4,
             "#fde0ef"
            ],
            [
             0.5,
             "#f7f7f7"
            ],
            [
             0.6,
             "#e6f5d0"
            ],
            [
             0.7,
             "#b8e186"
            ],
            [
             0.8,
             "#7fbc41"
            ],
            [
             0.9,
             "#4d9221"
            ],
            [
             1,
             "#276419"
            ]
           ],
           "sequential": [
            [
             0,
             "#0d0887"
            ],
            [
             0.1111111111111111,
             "#46039f"
            ],
            [
             0.2222222222222222,
             "#7201a8"
            ],
            [
             0.3333333333333333,
             "#9c179e"
            ],
            [
             0.4444444444444444,
             "#bd3786"
            ],
            [
             0.5555555555555556,
             "#d8576b"
            ],
            [
             0.6666666666666666,
             "#ed7953"
            ],
            [
             0.7777777777777778,
             "#fb9f3a"
            ],
            [
             0.8888888888888888,
             "#fdca26"
            ],
            [
             1,
             "#f0f921"
            ]
           ],
           "sequentialminus": [
            [
             0,
             "#0d0887"
            ],
            [
             0.1111111111111111,
             "#46039f"
            ],
            [
             0.2222222222222222,
             "#7201a8"
            ],
            [
             0.3333333333333333,
             "#9c179e"
            ],
            [
             0.4444444444444444,
             "#bd3786"
            ],
            [
             0.5555555555555556,
             "#d8576b"
            ],
            [
             0.6666666666666666,
             "#ed7953"
            ],
            [
             0.7777777777777778,
             "#fb9f3a"
            ],
            [
             0.8888888888888888,
             "#fdca26"
            ],
            [
             1,
             "#f0f921"
            ]
           ]
          },
          "colorway": [
           "#636efa",
           "#EF553B",
           "#00cc96",
           "#ab63fa",
           "#FFA15A",
           "#19d3f3",
           "#FF6692",
           "#B6E880",
           "#FF97FF",
           "#FECB52"
          ],
          "font": {
           "color": "#2a3f5f"
          },
          "geo": {
           "bgcolor": "white",
           "lakecolor": "white",
           "landcolor": "#E5ECF6",
           "showlakes": true,
           "showland": true,
           "subunitcolor": "white"
          },
          "hoverlabel": {
           "align": "left"
          },
          "hovermode": "closest",
          "mapbox": {
           "style": "light"
          },
          "paper_bgcolor": "white",
          "plot_bgcolor": "#E5ECF6",
          "polar": {
           "angularaxis": {
            "gridcolor": "white",
            "linecolor": "white",
            "ticks": ""
           },
           "bgcolor": "#E5ECF6",
           "radialaxis": {
            "gridcolor": "white",
            "linecolor": "white",
            "ticks": ""
           }
          },
          "scene": {
           "xaxis": {
            "backgroundcolor": "#E5ECF6",
            "gridcolor": "white",
            "gridwidth": 2,
            "linecolor": "white",
            "showbackground": true,
            "ticks": "",
            "zerolinecolor": "white"
           },
           "yaxis": {
            "backgroundcolor": "#E5ECF6",
            "gridcolor": "white",
            "gridwidth": 2,
            "linecolor": "white",
            "showbackground": true,
            "ticks": "",
            "zerolinecolor": "white"
           },
           "zaxis": {
            "backgroundcolor": "#E5ECF6",
            "gridcolor": "white",
            "gridwidth": 2,
            "linecolor": "white",
            "showbackground": true,
            "ticks": "",
            "zerolinecolor": "white"
           }
          },
          "shapedefaults": {
           "line": {
            "color": "#2a3f5f"
           }
          },
          "ternary": {
           "aaxis": {
            "gridcolor": "white",
            "linecolor": "white",
            "ticks": ""
           },
           "baxis": {
            "gridcolor": "white",
            "linecolor": "white",
            "ticks": ""
           },
           "bgcolor": "#E5ECF6",
           "caxis": {
            "gridcolor": "white",
            "linecolor": "white",
            "ticks": ""
           }
          },
          "title": {
           "x": 0.05
          },
          "xaxis": {
           "automargin": true,
           "gridcolor": "white",
           "linecolor": "white",
           "ticks": "",
           "title": {
            "standoff": 15
           },
           "zerolinecolor": "white",
           "zerolinewidth": 2
          },
          "yaxis": {
           "automargin": true,
           "gridcolor": "white",
           "linecolor": "white",
           "ticks": "",
           "title": {
            "standoff": 15
           },
           "zerolinecolor": "white",
           "zerolinewidth": 2
          }
         }
        },
        "title": {
         "text": "Median Days on Market over Time by State"
        },
        "width": 1200,
        "xaxis": {
         "anchor": "y",
         "domain": [
          0,
          0.235
         ],
         "title": {
          "text": "month_num"
         }
        },
        "xaxis10": {
         "anchor": "y10",
         "domain": [
          0.255,
          0.49
         ],
         "matches": "x",
         "showticklabels": false
        },
        "xaxis11": {
         "anchor": "y11",
         "domain": [
          0.51,
          0.745
         ],
         "matches": "x",
         "showticklabels": false
        },
        "xaxis12": {
         "anchor": "y12",
         "domain": [
          0.7649999999999999,
          0.9999999999999999
         ],
         "matches": "x",
         "showticklabels": false
        },
        "xaxis2": {
         "anchor": "y2",
         "domain": [
          0.255,
          0.49
         ],
         "matches": "x",
         "title": {
          "text": "month_num"
         }
        },
        "xaxis3": {
         "anchor": "y3",
         "domain": [
          0.51,
          0.745
         ],
         "matches": "x",
         "title": {
          "text": "month_num"
         }
        },
        "xaxis4": {
         "anchor": "y4",
         "domain": [
          0.7649999999999999,
          0.9999999999999999
         ],
         "matches": "x",
         "title": {
          "text": "month_num"
         }
        },
        "xaxis5": {
         "anchor": "y5",
         "domain": [
          0,
          0.235
         ],
         "matches": "x",
         "showticklabels": false
        },
        "xaxis6": {
         "anchor": "y6",
         "domain": [
          0.255,
          0.49
         ],
         "matches": "x",
         "showticklabels": false
        },
        "xaxis7": {
         "anchor": "y7",
         "domain": [
          0.51,
          0.745
         ],
         "matches": "x",
         "showticklabels": false
        },
        "xaxis8": {
         "anchor": "y8",
         "domain": [
          0.7649999999999999,
          0.9999999999999999
         ],
         "matches": "x",
         "showticklabels": false
        },
        "xaxis9": {
         "anchor": "y9",
         "domain": [
          0,
          0.235
         ],
         "matches": "x",
         "showticklabels": false
        },
        "yaxis": {
         "anchor": "x",
         "domain": [
          0,
          0.2866666666666666
         ],
         "title": {
          "text": "med_dom"
         }
        },
        "yaxis10": {
         "anchor": "x10",
         "domain": [
          0.7133333333333333,
          0.9999999999999999
         ],
         "showticklabels": false
        },
        "yaxis11": {
         "anchor": "x11",
         "domain": [
          0.7133333333333333,
          0.9999999999999999
         ],
         "showticklabels": false
        },
        "yaxis12": {
         "anchor": "x12",
         "domain": [
          0.7133333333333333,
          0.9999999999999999
         ],
         "showticklabels": false
        },
        "yaxis2": {
         "anchor": "x2",
         "domain": [
          0,
          0.2866666666666666
         ],
         "showticklabels": false
        },
        "yaxis3": {
         "anchor": "x3",
         "domain": [
          0,
          0.2866666666666666
         ],
         "showticklabels": false
        },
        "yaxis4": {
         "anchor": "x4",
         "domain": [
          0,
          0.2866666666666666
         ],
         "showticklabels": false
        },
        "yaxis5": {
         "anchor": "x5",
         "domain": [
          0.35666666666666663,
          0.6433333333333333
         ],
         "title": {
          "text": "med_dom"
         }
        },
        "yaxis6": {
         "anchor": "x6",
         "domain": [
          0.35666666666666663,
          0.6433333333333333
         ],
         "showticklabels": false
        },
        "yaxis7": {
         "anchor": "x7",
         "domain": [
          0.35666666666666663,
          0.6433333333333333
         ],
         "showticklabels": false
        },
        "yaxis8": {
         "anchor": "x8",
         "domain": [
          0.35666666666666663,
          0.6433333333333333
         ],
         "showticklabels": false
        },
        "yaxis9": {
         "anchor": "x9",
         "domain": [
          0.7133333333333333,
          0.9999999999999999
         ],
         "title": {
          "text": "med_dom"
         }
        }
       }
      }
     },
     "metadata": {},
     "output_type": "display_data"
    }
   ],
   "source": [
    "fig = px.line(df.query(\"state in @select_states\"),\n",
    "    x = 'month_num',\n",
    "    y = 'med_dom',\n",
    "    color = 'year',\n",
    "    facet_col = 'state',\n",
    "    facet_col_wrap = 4,\n",
    "    title = 'Median Days on Market over Time by State',\n",
    "    color_discrete_sequence=px.colors.sequential.Inferno\n",
    "    )\n",
    "fig.update_yaxes(matches = None)\n",
    "fig.update_layout(height = 800, width = 1200)\n",
    "fig.show()"
   ]
  },
  {
   "cell_type": "code",
   "execution_count": 9,
   "metadata": {},
   "outputs": [
    {
     "data": {
      "application/vnd.plotly.v1+json": {
       "config": {
        "plotlyServerURL": "https://plot.ly"
       },
       "data": [
        {
         "hovertemplate": "year=2016<br>state=CA<br>month_num=%{x}<br>new_listings=%{y}<extra></extra>",
         "legendgroup": "2016",
         "line": {
          "color": "#000004",
          "dash": "solid"
         },
         "marker": {
          "symbol": "circle"
         },
         "mode": "lines",
         "name": "2016",
         "orientation": "v",
         "showlegend": true,
         "type": "scatter",
         "x": [
          7,
          8,
          9,
          10,
          11,
          12
         ],
         "xaxis": "x9",
         "y": [
          49164,
          48074,
          44704,
          42876,
          35614,
          29608
         ],
         "yaxis": "y9"
        },
        {
         "hovertemplate": "year=2016<br>state=CO<br>month_num=%{x}<br>new_listings=%{y}<extra></extra>",
         "legendgroup": "2016",
         "line": {
          "color": "#000004",
          "dash": "solid"
         },
         "marker": {
          "symbol": "circle"
         },
         "mode": "lines",
         "name": "2016",
         "orientation": "v",
         "showlegend": false,
         "type": "scatter",
         "x": [
          7,
          8,
          9,
          10,
          11,
          12
         ],
         "xaxis": "x10",
         "y": [
          13424,
          12400,
          10916,
          10328,
          8130,
          5756
         ],
         "yaxis": "y10"
        },
        {
         "hovertemplate": "year=2016<br>state=ID<br>month_num=%{x}<br>new_listings=%{y}<extra></extra>",
         "legendgroup": "2016",
         "line": {
          "color": "#000004",
          "dash": "solid"
         },
         "marker": {
          "symbol": "circle"
         },
         "mode": "lines",
         "name": "2016",
         "orientation": "v",
         "showlegend": false,
         "type": "scatter",
         "x": [
          7,
          8,
          9,
          10,
          11,
          12
         ],
         "xaxis": "x11",
         "y": [
          4822,
          4310,
          3604,
          3056,
          2616,
          1952
         ],
         "yaxis": "y11"
        },
        {
         "hovertemplate": "year=2016<br>state=IL<br>month_num=%{x}<br>new_listings=%{y}<extra></extra>",
         "legendgroup": "2016",
         "line": {
          "color": "#000004",
          "dash": "solid"
         },
         "marker": {
          "symbol": "circle"
         },
         "mode": "lines",
         "name": "2016",
         "orientation": "v",
         "showlegend": false,
         "type": "scatter",
         "x": [
          7,
          8,
          9,
          10,
          11,
          12
         ],
         "xaxis": "x12",
         "y": [
          23354,
          21212,
          21068,
          18424,
          15472,
          10252
         ],
         "yaxis": "y12"
        },
        {
         "hovertemplate": "year=2016<br>state=MI<br>month_num=%{x}<br>new_listings=%{y}<extra></extra>",
         "legendgroup": "2016",
         "line": {
          "color": "#000004",
          "dash": "solid"
         },
         "marker": {
          "symbol": "circle"
         },
         "mode": "lines",
         "name": "2016",
         "orientation": "v",
         "showlegend": false,
         "type": "scatter",
         "x": [
          7,
          8,
          9,
          10,
          11,
          12
         ],
         "xaxis": "x5",
         "y": [
          18148,
          16388,
          14844,
          13772,
          11820,
          7952
         ],
         "yaxis": "y5"
        },
        {
         "hovertemplate": "year=2016<br>state=NE<br>month_num=%{x}<br>new_listings=%{y}<extra></extra>",
         "legendgroup": "2016",
         "line": {
          "color": "#000004",
          "dash": "solid"
         },
         "marker": {
          "symbol": "circle"
         },
         "mode": "lines",
         "name": "2016",
         "orientation": "v",
         "showlegend": false,
         "type": "scatter",
         "x": [
          7,
          8,
          9,
          10,
          11,
          12
         ],
         "xaxis": "x6",
         "y": [
          2748,
          2620,
          2474,
          2452,
          2052,
          1328
         ],
         "yaxis": "y6"
        },
        {
         "hovertemplate": "year=2016<br>state=NY<br>month_num=%{x}<br>new_listings=%{y}<extra></extra>",
         "legendgroup": "2016",
         "line": {
          "color": "#000004",
          "dash": "solid"
         },
         "marker": {
          "symbol": "circle"
         },
         "mode": "lines",
         "name": "2016",
         "orientation": "v",
         "showlegend": false,
         "type": "scatter",
         "x": [
          7,
          8,
          9,
          10,
          11,
          12
         ],
         "xaxis": "x7",
         "y": [
          23014,
          18926,
          19432,
          17524,
          17256,
          12920
         ],
         "yaxis": "y7"
        },
        {
         "hovertemplate": "year=2016<br>state=OR<br>month_num=%{x}<br>new_listings=%{y}<extra></extra>",
         "legendgroup": "2016",
         "line": {
          "color": "#000004",
          "dash": "solid"
         },
         "marker": {
          "symbol": "circle"
         },
         "mode": "lines",
         "name": "2016",
         "orientation": "v",
         "showlegend": false,
         "type": "scatter",
         "x": [
          7,
          8,
          9,
          10,
          11,
          12
         ],
         "xaxis": "x8",
         "y": [
          8986,
          8756,
          7520,
          6640,
          5244,
          3680
         ],
         "yaxis": "y8"
        },
        {
         "hovertemplate": "year=2016<br>state=PA<br>month_num=%{x}<br>new_listings=%{y}<extra></extra>",
         "legendgroup": "2016",
         "line": {
          "color": "#000004",
          "dash": "solid"
         },
         "marker": {
          "symbol": "circle"
         },
         "mode": "lines",
         "name": "2016",
         "orientation": "v",
         "showlegend": false,
         "type": "scatter",
         "x": [
          7,
          8,
          9,
          10,
          11,
          12
         ],
         "xaxis": "x",
         "y": [
          19814,
          17646,
          19216,
          16628,
          14134,
          10292
         ],
         "yaxis": "y"
        },
        {
         "hovertemplate": "year=2016<br>state=UT<br>month_num=%{x}<br>new_listings=%{y}<extra></extra>",
         "legendgroup": "2016",
         "line": {
          "color": "#000004",
          "dash": "solid"
         },
         "marker": {
          "symbol": "circle"
         },
         "mode": "lines",
         "name": "2016",
         "orientation": "v",
         "showlegend": false,
         "type": "scatter",
         "x": [
          7,
          8,
          9,
          10,
          11,
          12
         ],
         "xaxis": "x2",
         "y": [
          6112,
          6098,
          5290,
          5168,
          4624,
          2604
         ],
         "yaxis": "y2"
        },
        {
         "hovertemplate": "year=2016<br>state=WI<br>month_num=%{x}<br>new_listings=%{y}<extra></extra>",
         "legendgroup": "2016",
         "line": {
          "color": "#000004",
          "dash": "solid"
         },
         "marker": {
          "symbol": "circle"
         },
         "mode": "lines",
         "name": "2016",
         "orientation": "v",
         "showlegend": false,
         "type": "scatter",
         "x": [
          7,
          8,
          9,
          10,
          11,
          12
         ],
         "xaxis": "x3",
         "y": [
          9234,
          8596,
          7578,
          6924,
          5540,
          3308
         ],
         "yaxis": "y3"
        },
        {
         "hovertemplate": "year=2016<br>state=WY<br>month_num=%{x}<br>new_listings=%{y}<extra></extra>",
         "legendgroup": "2016",
         "line": {
          "color": "#000004",
          "dash": "solid"
         },
         "marker": {
          "symbol": "circle"
         },
         "mode": "lines",
         "name": "2016",
         "orientation": "v",
         "showlegend": false,
         "type": "scatter",
         "x": [
          7,
          8,
          9,
          10,
          11,
          12
         ],
         "xaxis": "x4",
         "y": [
          1134,
          1088,
          938,
          908,
          704,
          612
         ],
         "yaxis": "y4"
        },
        {
         "hovertemplate": "year=2017<br>state=CA<br>month_num=%{x}<br>new_listings=%{y}<extra></extra>",
         "legendgroup": "2017",
         "line": {
          "color": "#1b0c41",
          "dash": "solid"
         },
         "marker": {
          "symbol": "circle"
         },
         "mode": "lines",
         "name": "2017",
         "orientation": "v",
         "showlegend": true,
         "type": "scatter",
         "x": [
          1,
          2,
          3,
          4,
          5,
          6,
          7,
          8,
          9,
          10,
          11,
          12
         ],
         "xaxis": "x9",
         "y": [
          35848,
          39210,
          45094,
          51308,
          50714,
          49622,
          47492,
          47774,
          43516,
          41186,
          36060,
          25820
         ],
         "yaxis": "y9"
        },
        {
         "hovertemplate": "year=2017<br>state=CO<br>month_num=%{x}<br>new_listings=%{y}<extra></extra>",
         "legendgroup": "2017",
         "line": {
          "color": "#1b0c41",
          "dash": "solid"
         },
         "marker": {
          "symbol": "circle"
         },
         "mode": "lines",
         "name": "2017",
         "orientation": "v",
         "showlegend": false,
         "type": "scatter",
         "x": [
          1,
          2,
          3,
          4,
          5,
          6,
          7,
          8,
          9,
          10,
          11,
          12
         ],
         "xaxis": "x10",
         "y": [
          7584,
          8910,
          11414,
          12160,
          13730,
          14784,
          13452,
          12178,
          10848,
          9910,
          7902,
          5900
         ],
         "yaxis": "y10"
        },
        {
         "hovertemplate": "year=2017<br>state=ID<br>month_num=%{x}<br>new_listings=%{y}<extra></extra>",
         "legendgroup": "2017",
         "line": {
          "color": "#1b0c41",
          "dash": "solid"
         },
         "marker": {
          "symbol": "circle"
         },
         "mode": "lines",
         "name": "2017",
         "orientation": "v",
         "showlegend": false,
         "type": "scatter",
         "x": [
          1,
          2,
          3,
          4,
          5,
          6,
          7,
          8,
          9,
          10,
          11,
          12
         ],
         "xaxis": "x11",
         "y": [
          2064,
          2802,
          3756,
          4480,
          5058,
          4874,
          5072,
          4766,
          4148,
          3240,
          2734,
          2176
         ],
         "yaxis": "y11"
        },
        {
         "hovertemplate": "year=2017<br>state=IL<br>month_num=%{x}<br>new_listings=%{y}<extra></extra>",
         "legendgroup": "2017",
         "line": {
          "color": "#1b0c41",
          "dash": "solid"
         },
         "marker": {
          "symbol": "circle"
         },
         "mode": "lines",
         "name": "2017",
         "orientation": "v",
         "showlegend": false,
         "type": "scatter",
         "x": [
          1,
          2,
          3,
          4,
          5,
          6,
          7,
          8,
          9,
          10,
          11,
          12
         ],
         "xaxis": "x12",
         "y": [
          17720,
          21798,
          24708,
          24564,
          26486,
          25480,
          23824,
          22998,
          22840,
          18790,
          16090,
          11144
         ],
         "yaxis": "y12"
        },
        {
         "hovertemplate": "year=2017<br>state=MI<br>month_num=%{x}<br>new_listings=%{y}<extra></extra>",
         "legendgroup": "2017",
         "line": {
          "color": "#1b0c41",
          "dash": "solid"
         },
         "marker": {
          "symbol": "circle"
         },
         "mode": "lines",
         "name": "2017",
         "orientation": "v",
         "showlegend": false,
         "type": "scatter",
         "x": [
          1,
          2,
          3,
          4,
          5,
          6,
          7,
          8,
          9,
          10,
          11,
          12
         ],
         "xaxis": "x5",
         "y": [
          10286,
          11628,
          14180,
          15388,
          20582,
          21212,
          21900,
          20410,
          16776,
          15958,
          13046,
          9320
         ],
         "yaxis": "y5"
        },
        {
         "hovertemplate": "year=2017<br>state=NE<br>month_num=%{x}<br>new_listings=%{y}<extra></extra>",
         "legendgroup": "2017",
         "line": {
          "color": "#1b0c41",
          "dash": "solid"
         },
         "marker": {
          "symbol": "circle"
         },
         "mode": "lines",
         "name": "2017",
         "orientation": "v",
         "showlegend": false,
         "type": "scatter",
         "x": [
          1,
          2,
          3,
          4,
          5,
          6,
          7,
          8,
          9,
          10,
          11,
          12
         ],
         "xaxis": "x6",
         "y": [
          1840,
          2106,
          2654,
          2848,
          2962,
          2882,
          2772,
          2672,
          2548,
          2456,
          2128,
          1636
         ],
         "yaxis": "y6"
        },
        {
         "hovertemplate": "year=2017<br>state=NY<br>month_num=%{x}<br>new_listings=%{y}<extra></extra>",
         "legendgroup": "2017",
         "line": {
          "color": "#1b0c41",
          "dash": "solid"
         },
         "marker": {
          "symbol": "circle"
         },
         "mode": "lines",
         "name": "2017",
         "orientation": "v",
         "showlegend": false,
         "type": "scatter",
         "x": [
          1,
          2,
          3,
          4,
          5,
          6,
          7,
          8,
          9,
          10,
          11,
          12
         ],
         "xaxis": "x7",
         "y": [
          16216,
          21358,
          21496,
          28176,
          28292,
          23850,
          23316,
          19868,
          23308,
          20224,
          15924,
          10576
         ],
         "yaxis": "y7"
        },
        {
         "hovertemplate": "year=2017<br>state=OR<br>month_num=%{x}<br>new_listings=%{y}<extra></extra>",
         "legendgroup": "2017",
         "line": {
          "color": "#1b0c41",
          "dash": "solid"
         },
         "marker": {
          "symbol": "circle"
         },
         "mode": "lines",
         "name": "2017",
         "orientation": "v",
         "showlegend": false,
         "type": "scatter",
         "x": [
          1,
          2,
          3,
          4,
          5,
          6,
          7,
          8,
          9,
          10,
          11,
          12
         ],
         "xaxis": "x8",
         "y": [
          4758,
          6034,
          7200,
          8156,
          9710,
          9442,
          9288,
          9286,
          8044,
          6786,
          6160,
          4280
         ],
         "yaxis": "y8"
        },
        {
         "hovertemplate": "year=2017<br>state=PA<br>month_num=%{x}<br>new_listings=%{y}<extra></extra>",
         "legendgroup": "2017",
         "line": {
          "color": "#1b0c41",
          "dash": "solid"
         },
         "marker": {
          "symbol": "circle"
         },
         "mode": "lines",
         "name": "2017",
         "orientation": "v",
         "showlegend": false,
         "type": "scatter",
         "x": [
          1,
          2,
          3,
          4,
          5,
          6,
          7,
          8,
          9,
          10,
          11,
          12
         ],
         "xaxis": "x",
         "y": [
          13988,
          16050,
          19032,
          22128,
          22380,
          21280,
          19752,
          18470,
          17384,
          30922,
          14958,
          10032
         ],
         "yaxis": "y"
        },
        {
         "hovertemplate": "year=2017<br>state=UT<br>month_num=%{x}<br>new_listings=%{y}<extra></extra>",
         "legendgroup": "2017",
         "line": {
          "color": "#1b0c41",
          "dash": "solid"
         },
         "marker": {
          "symbol": "circle"
         },
         "mode": "lines",
         "name": "2017",
         "orientation": "v",
         "showlegend": false,
         "type": "scatter",
         "x": [
          1,
          2,
          3,
          4,
          5,
          6,
          7,
          8,
          9,
          10,
          11,
          12
         ],
         "xaxis": "x2",
         "y": [
          4062,
          4706,
          5638,
          6324,
          7062,
          7088,
          6352,
          6688,
          5764,
          5328,
          4710,
          3828
         ],
         "yaxis": "y2"
        },
        {
         "hovertemplate": "year=2017<br>state=WI<br>month_num=%{x}<br>new_listings=%{y}<extra></extra>",
         "legendgroup": "2017",
         "line": {
          "color": "#1b0c41",
          "dash": "solid"
         },
         "marker": {
          "symbol": "circle"
         },
         "mode": "lines",
         "name": "2017",
         "orientation": "v",
         "showlegend": false,
         "type": "scatter",
         "x": [
          1,
          2,
          3,
          4,
          5,
          6,
          7,
          8,
          9,
          10,
          11,
          12
         ],
         "xaxis": "x3",
         "y": [
          5306,
          6668,
          8900,
          10144,
          11142,
          10036,
          9632,
          8708,
          8052,
          6528,
          5040,
          3496
         ],
         "yaxis": "y3"
        },
        {
         "hovertemplate": "year=2017<br>state=WY<br>month_num=%{x}<br>new_listings=%{y}<extra></extra>",
         "legendgroup": "2017",
         "line": {
          "color": "#1b0c41",
          "dash": "solid"
         },
         "marker": {
          "symbol": "circle"
         },
         "mode": "lines",
         "name": "2017",
         "orientation": "v",
         "showlegend": false,
         "type": "scatter",
         "x": [
          1,
          2,
          3,
          4,
          5,
          6,
          7,
          8,
          9,
          10,
          11,
          12
         ],
         "xaxis": "x4",
         "y": [
          754,
          852,
          1010,
          1236,
          1362,
          1528,
          1288,
          1202,
          1044,
          836,
          754,
          584
         ],
         "yaxis": "y4"
        },
        {
         "hovertemplate": "year=2018<br>state=CA<br>month_num=%{x}<br>new_listings=%{y}<extra></extra>",
         "legendgroup": "2018",
         "line": {
          "color": "#4a0c6b",
          "dash": "solid"
         },
         "marker": {
          "symbol": "circle"
         },
         "mode": "lines",
         "name": "2018",
         "orientation": "v",
         "showlegend": true,
         "type": "scatter",
         "x": [
          1,
          2,
          3,
          4,
          5,
          6,
          7,
          8,
          9,
          10,
          11,
          12
         ],
         "xaxis": "x9",
         "y": [
          37396,
          42182,
          45264,
          50766,
          52478,
          51620,
          51728,
          47960,
          47700,
          46000,
          41010,
          27672
         ],
         "yaxis": "y9"
        },
        {
         "hovertemplate": "year=2018<br>state=CO<br>month_num=%{x}<br>new_listings=%{y}<extra></extra>",
         "legendgroup": "2018",
         "line": {
          "color": "#4a0c6b",
          "dash": "solid"
         },
         "marker": {
          "symbol": "circle"
         },
         "mode": "lines",
         "name": "2018",
         "orientation": "v",
         "showlegend": false,
         "type": "scatter",
         "x": [
          1,
          2,
          3,
          4,
          5,
          6,
          7,
          8,
          9,
          10,
          11,
          12
         ],
         "xaxis": "x10",
         "y": [
          8094,
          8992,
          11420,
          13324,
          14052,
          14340,
          13084,
          12232,
          11332,
          9914,
          8728,
          6320
         ],
         "yaxis": "y10"
        },
        {
         "hovertemplate": "year=2018<br>state=ID<br>month_num=%{x}<br>new_listings=%{y}<extra></extra>",
         "legendgroup": "2018",
         "line": {
          "color": "#4a0c6b",
          "dash": "solid"
         },
         "marker": {
          "symbol": "circle"
         },
         "mode": "lines",
         "name": "2018",
         "orientation": "v",
         "showlegend": false,
         "type": "scatter",
         "x": [
          1,
          2,
          3,
          4,
          5,
          6,
          7,
          8,
          9,
          10,
          11,
          12
         ],
         "xaxis": "x11",
         "y": [
          2536,
          3054,
          3612,
          4438,
          4882,
          4776,
          4554,
          4250,
          3908,
          3472,
          2728,
          2016
         ],
         "yaxis": "y11"
        },
        {
         "hovertemplate": "year=2018<br>state=IL<br>month_num=%{x}<br>new_listings=%{y}<extra></extra>",
         "legendgroup": "2018",
         "line": {
          "color": "#4a0c6b",
          "dash": "solid"
         },
         "marker": {
          "symbol": "circle"
         },
         "mode": "lines",
         "name": "2018",
         "orientation": "v",
         "showlegend": false,
         "type": "scatter",
         "x": [
          1,
          2,
          3,
          4,
          5,
          6,
          7,
          8,
          9,
          10,
          11,
          12
         ],
         "xaxis": "x12",
         "y": [
          16764,
          19640,
          25168,
          26672,
          28310,
          26616,
          25852,
          23624,
          22984,
          20204,
          16184,
          11288
         ],
         "yaxis": "y12"
        },
        {
         "hovertemplate": "year=2018<br>state=MI<br>month_num=%{x}<br>new_listings=%{y}<extra></extra>",
         "legendgroup": "2018",
         "line": {
          "color": "#4a0c6b",
          "dash": "solid"
         },
         "marker": {
          "symbol": "circle"
         },
         "mode": "lines",
         "name": "2018",
         "orientation": "v",
         "showlegend": false,
         "type": "scatter",
         "x": [
          1,
          2,
          3,
          4,
          5,
          6,
          7,
          8,
          9,
          10,
          11,
          12
         ],
         "xaxis": "x5",
         "y": [
          10926,
          11460,
          15200,
          17218,
          21410,
          21096,
          21878,
          21736,
          17944,
          16272,
          14066,
          9896
         ],
         "yaxis": "y5"
        },
        {
         "hovertemplate": "year=2018<br>state=NE<br>month_num=%{x}<br>new_listings=%{y}<extra></extra>",
         "legendgroup": "2018",
         "line": {
          "color": "#4a0c6b",
          "dash": "solid"
         },
         "marker": {
          "symbol": "circle"
         },
         "mode": "lines",
         "name": "2018",
         "orientation": "v",
         "showlegend": false,
         "type": "scatter",
         "x": [
          1,
          2,
          3,
          4,
          5,
          6,
          7,
          8,
          9,
          10,
          11,
          12
         ],
         "xaxis": "x6",
         "y": [
          1898,
          2014,
          2708,
          3226,
          3162,
          3180,
          3206,
          2816,
          2768,
          2548,
          2220,
          1460
         ],
         "yaxis": "y6"
        },
        {
         "hovertemplate": "year=2018<br>state=NY<br>month_num=%{x}<br>new_listings=%{y}<extra></extra>",
         "legendgroup": "2018",
         "line": {
          "color": "#4a0c6b",
          "dash": "solid"
         },
         "marker": {
          "symbol": "circle"
         },
         "mode": "lines",
         "name": "2018",
         "orientation": "v",
         "showlegend": false,
         "type": "scatter",
         "x": [
          1,
          2,
          3,
          4,
          5,
          6,
          7,
          8,
          9,
          10,
          11,
          12
         ],
         "xaxis": "x7",
         "y": [
          15100,
          18614,
          19660,
          23598,
          25334,
          25000,
          23122,
          20488,
          21976,
          21106,
          15834,
          11672
         ],
         "yaxis": "y7"
        },
        {
         "hovertemplate": "year=2018<br>state=OR<br>month_num=%{x}<br>new_listings=%{y}<extra></extra>",
         "legendgroup": "2018",
         "line": {
          "color": "#4a0c6b",
          "dash": "solid"
         },
         "marker": {
          "symbol": "circle"
         },
         "mode": "lines",
         "name": "2018",
         "orientation": "v",
         "showlegend": false,
         "type": "scatter",
         "x": [
          1,
          2,
          3,
          4,
          5,
          6,
          7,
          8,
          9,
          10,
          11,
          12
         ],
         "xaxis": "x8",
         "y": [
          5732,
          6090,
          7832,
          8642,
          9392,
          9200,
          9660,
          9078,
          8440,
          6878,
          5918,
          4108
         ],
         "yaxis": "y8"
        },
        {
         "hovertemplate": "year=2018<br>state=PA<br>month_num=%{x}<br>new_listings=%{y}<extra></extra>",
         "legendgroup": "2018",
         "line": {
          "color": "#4a0c6b",
          "dash": "solid"
         },
         "marker": {
          "symbol": "circle"
         },
         "mode": "lines",
         "name": "2018",
         "orientation": "v",
         "showlegend": false,
         "type": "scatter",
         "x": [
          1,
          2,
          3,
          4,
          5,
          6,
          7,
          8,
          9,
          10,
          11,
          12
         ],
         "xaxis": "x",
         "y": [
          12446,
          14624,
          17408,
          20956,
          21788,
          20316,
          19146,
          18096,
          17320,
          16614,
          13668,
          10340
         ],
         "yaxis": "y"
        },
        {
         "hovertemplate": "year=2018<br>state=UT<br>month_num=%{x}<br>new_listings=%{y}<extra></extra>",
         "legendgroup": "2018",
         "line": {
          "color": "#4a0c6b",
          "dash": "solid"
         },
         "marker": {
          "symbol": "circle"
         },
         "mode": "lines",
         "name": "2018",
         "orientation": "v",
         "showlegend": false,
         "type": "scatter",
         "x": [
          1,
          2,
          3,
          4,
          5,
          6,
          7,
          8,
          9,
          10,
          11,
          12
         ],
         "xaxis": "x2",
         "y": [
          4550,
          4922,
          5772,
          6474,
          6752,
          6688,
          6288,
          6564,
          6120,
          5630,
          4950,
          3672
         ],
         "yaxis": "y2"
        },
        {
         "hovertemplate": "year=2018<br>state=WI<br>month_num=%{x}<br>new_listings=%{y}<extra></extra>",
         "legendgroup": "2018",
         "line": {
          "color": "#4a0c6b",
          "dash": "solid"
         },
         "marker": {
          "symbol": "circle"
         },
         "mode": "lines",
         "name": "2018",
         "orientation": "v",
         "showlegend": false,
         "type": "scatter",
         "x": [
          1,
          2,
          3,
          4,
          5,
          6,
          7,
          8,
          9,
          10,
          11,
          12
         ],
         "xaxis": "x3",
         "y": [
          4890,
          5982,
          8340,
          8664,
          10402,
          9672,
          9326,
          8912,
          7848,
          6716,
          5302,
          3860
         ],
         "yaxis": "y3"
        },
        {
         "hovertemplate": "year=2018<br>state=WY<br>month_num=%{x}<br>new_listings=%{y}<extra></extra>",
         "legendgroup": "2018",
         "line": {
          "color": "#4a0c6b",
          "dash": "solid"
         },
         "marker": {
          "symbol": "circle"
         },
         "mode": "lines",
         "name": "2018",
         "orientation": "v",
         "showlegend": false,
         "type": "scatter",
         "x": [
          1,
          2,
          3,
          4,
          5,
          6,
          7,
          8,
          9,
          10,
          11,
          12
         ],
         "xaxis": "x4",
         "y": [
          912,
          896,
          1148,
          1180,
          1356,
          1244,
          1214,
          1120,
          972,
          872,
          828,
          580
         ],
         "yaxis": "y4"
        },
        {
         "hovertemplate": "year=2019<br>state=CA<br>month_num=%{x}<br>new_listings=%{y}<extra></extra>",
         "legendgroup": "2019",
         "line": {
          "color": "#781c6d",
          "dash": "solid"
         },
         "marker": {
          "symbol": "circle"
         },
         "mode": "lines",
         "name": "2019",
         "orientation": "v",
         "showlegend": true,
         "type": "scatter",
         "x": [
          1,
          2,
          3,
          4,
          5,
          6,
          7,
          8,
          9,
          10,
          11,
          12
         ],
         "xaxis": "x9",
         "y": [
          38430,
          38612,
          44596,
          51176,
          52306,
          52256,
          46316,
          43084,
          41072,
          38840,
          32440,
          21260
         ],
         "yaxis": "y9"
        },
        {
         "hovertemplate": "year=2019<br>state=CO<br>month_num=%{x}<br>new_listings=%{y}<extra></extra>",
         "legendgroup": "2019",
         "line": {
          "color": "#781c6d",
          "dash": "solid"
         },
         "marker": {
          "symbol": "circle"
         },
         "mode": "lines",
         "name": "2019",
         "orientation": "v",
         "showlegend": false,
         "type": "scatter",
         "x": [
          1,
          2,
          3,
          4,
          5,
          6,
          7,
          8,
          9,
          10,
          11,
          12
         ],
         "xaxis": "x10",
         "y": [
          9190,
          9922,
          11928,
          14494,
          15280,
          15584,
          13376,
          12156,
          11288,
          10348,
          7700,
          5920
         ],
         "yaxis": "y10"
        },
        {
         "hovertemplate": "year=2019<br>state=ID<br>month_num=%{x}<br>new_listings=%{y}<extra></extra>",
         "legendgroup": "2019",
         "line": {
          "color": "#781c6d",
          "dash": "solid"
         },
         "marker": {
          "symbol": "circle"
         },
         "mode": "lines",
         "name": "2019",
         "orientation": "v",
         "showlegend": false,
         "type": "scatter",
         "x": [
          1,
          2,
          3,
          4,
          5,
          6,
          7,
          8,
          9,
          10,
          11,
          12
         ],
         "xaxis": "x11",
         "y": [
          2618,
          2798,
          3352,
          4082,
          5006,
          4852,
          4540,
          4144,
          3874,
          3694,
          2652,
          2022
         ],
         "yaxis": "y11"
        },
        {
         "hovertemplate": "year=2019<br>state=IL<br>month_num=%{x}<br>new_listings=%{y}<extra></extra>",
         "legendgroup": "2019",
         "line": {
          "color": "#781c6d",
          "dash": "solid"
         },
         "marker": {
          "symbol": "circle"
         },
         "mode": "lines",
         "name": "2019",
         "orientation": "v",
         "showlegend": false,
         "type": "scatter",
         "x": [
          1,
          2,
          3,
          4,
          5,
          6,
          7,
          8,
          9,
          10,
          11,
          12
         ],
         "xaxis": "x12",
         "y": [
          18334,
          20002,
          23632,
          27826,
          28690,
          33772,
          25778,
          24192,
          23030,
          21018,
          14960,
          10962
         ],
         "yaxis": "y12"
        },
        {
         "hovertemplate": "year=2019<br>state=MI<br>month_num=%{x}<br>new_listings=%{y}<extra></extra>",
         "legendgroup": "2019",
         "line": {
          "color": "#781c6d",
          "dash": "solid"
         },
         "marker": {
          "symbol": "circle"
         },
         "mode": "lines",
         "name": "2019",
         "orientation": "v",
         "showlegend": false,
         "type": "scatter",
         "x": [
          1,
          2,
          3,
          4,
          5,
          6,
          7,
          8,
          9,
          10,
          11,
          12
         ],
         "xaxis": "x5",
         "y": [
          11968,
          11370,
          14892,
          18850,
          21122,
          21788,
          20590,
          19484,
          18106,
          16774,
          11856,
          9116
         ],
         "yaxis": "y5"
        },
        {
         "hovertemplate": "year=2019<br>state=NE<br>month_num=%{x}<br>new_listings=%{y}<extra></extra>",
         "legendgroup": "2019",
         "line": {
          "color": "#781c6d",
          "dash": "solid"
         },
         "marker": {
          "symbol": "circle"
         },
         "mode": "lines",
         "name": "2019",
         "orientation": "v",
         "showlegend": false,
         "type": "scatter",
         "x": [
          1,
          2,
          3,
          4,
          5,
          6,
          7,
          8,
          9,
          10,
          11,
          12
         ],
         "xaxis": "x6",
         "y": [
          2060,
          1894,
          4244,
          3168,
          3384,
          3256,
          3066,
          3156,
          3358,
          3148,
          2312,
          1572
         ],
         "yaxis": "y6"
        },
        {
         "hovertemplate": "year=2019<br>state=NY<br>month_num=%{x}<br>new_listings=%{y}<extra></extra>",
         "legendgroup": "2019",
         "line": {
          "color": "#781c6d",
          "dash": "solid"
         },
         "marker": {
          "symbol": "circle"
         },
         "mode": "lines",
         "name": "2019",
         "orientation": "v",
         "showlegend": false,
         "type": "scatter",
         "x": [
          1,
          2,
          3,
          4,
          5,
          6,
          7,
          8,
          9,
          10,
          11,
          12
         ],
         "xaxis": "x7",
         "y": [
          17592,
          16064,
          19484,
          25822,
          30690,
          24760,
          24918,
          22604,
          21708,
          20660,
          16760,
          12620
         ],
         "yaxis": "y7"
        },
        {
         "hovertemplate": "year=2019<br>state=OR<br>month_num=%{x}<br>new_listings=%{y}<extra></extra>",
         "legendgroup": "2019",
         "line": {
          "color": "#781c6d",
          "dash": "solid"
         },
         "marker": {
          "symbol": "circle"
         },
         "mode": "lines",
         "name": "2019",
         "orientation": "v",
         "showlegend": false,
         "type": "scatter",
         "x": [
          1,
          2,
          3,
          4,
          5,
          6,
          7,
          8,
          9,
          10,
          11,
          12
         ],
         "xaxis": "x8",
         "y": [
          6134,
          5984,
          6768,
          8394,
          10172,
          9564,
          9010,
          7892,
          7064,
          6380,
          4864,
          3412
         ],
         "yaxis": "y8"
        },
        {
         "hovertemplate": "year=2019<br>state=PA<br>month_num=%{x}<br>new_listings=%{y}<extra></extra>",
         "legendgroup": "2019",
         "line": {
          "color": "#781c6d",
          "dash": "solid"
         },
         "marker": {
          "symbol": "circle"
         },
         "mode": "lines",
         "name": "2019",
         "orientation": "v",
         "showlegend": false,
         "type": "scatter",
         "x": [
          1,
          2,
          3,
          4,
          5,
          6,
          7,
          8,
          9,
          10,
          11,
          12
         ],
         "xaxis": "x",
         "y": [
          13082,
          13438,
          17816,
          21200,
          21116,
          19624,
          18062,
          16792,
          16296,
          15320,
          12368,
          8192
         ],
         "yaxis": "y"
        },
        {
         "hovertemplate": "year=2019<br>state=UT<br>month_num=%{x}<br>new_listings=%{y}<extra></extra>",
         "legendgroup": "2019",
         "line": {
          "color": "#781c6d",
          "dash": "solid"
         },
         "marker": {
          "symbol": "circle"
         },
         "mode": "lines",
         "name": "2019",
         "orientation": "v",
         "showlegend": false,
         "type": "scatter",
         "x": [
          1,
          2,
          3,
          4,
          5,
          6,
          7,
          8,
          9,
          10,
          11,
          12
         ],
         "xaxis": "x2",
         "y": [
          4608,
          4706,
          5460,
          6626,
          6964,
          6776,
          6116,
          5452,
          5492,
          5328,
          4312,
          2970
         ],
         "yaxis": "y2"
        },
        {
         "hovertemplate": "year=2019<br>state=WI<br>month_num=%{x}<br>new_listings=%{y}<extra></extra>",
         "legendgroup": "2019",
         "line": {
          "color": "#781c6d",
          "dash": "solid"
         },
         "marker": {
          "symbol": "circle"
         },
         "mode": "lines",
         "name": "2019",
         "orientation": "v",
         "showlegend": false,
         "type": "scatter",
         "x": [
          1,
          2,
          3,
          4,
          5,
          6,
          7,
          8,
          9,
          10,
          11,
          12
         ],
         "xaxis": "x3",
         "y": [
          5198,
          5214,
          10892,
          15662,
          10144,
          10100,
          9084,
          8144,
          7662,
          7078,
          4900,
          3256
         ],
         "yaxis": "y3"
        },
        {
         "hovertemplate": "year=2019<br>state=WY<br>month_num=%{x}<br>new_listings=%{y}<extra></extra>",
         "legendgroup": "2019",
         "line": {
          "color": "#781c6d",
          "dash": "solid"
         },
         "marker": {
          "symbol": "circle"
         },
         "mode": "lines",
         "name": "2019",
         "orientation": "v",
         "showlegend": false,
         "type": "scatter",
         "x": [
          1,
          2,
          3,
          4,
          5,
          6,
          7,
          8,
          9,
          10,
          11,
          12
         ],
         "xaxis": "x4",
         "y": [
          762,
          796,
          920,
          1128,
          1286,
          1448,
          1298,
          1148,
          990,
          840,
          648,
          538
         ],
         "yaxis": "y4"
        },
        {
         "hovertemplate": "year=2020<br>state=CA<br>month_num=%{x}<br>new_listings=%{y}<extra></extra>",
         "legendgroup": "2020",
         "line": {
          "color": "#a52c60",
          "dash": "solid"
         },
         "marker": {
          "symbol": "circle"
         },
         "mode": "lines",
         "name": "2020",
         "orientation": "v",
         "showlegend": true,
         "type": "scatter",
         "x": [
          1,
          2,
          3,
          4,
          5,
          6,
          7,
          8,
          9,
          10,
          11,
          12
         ],
         "xaxis": "x9",
         "y": [
          34898,
          39668,
          38266,
          29010,
          40448,
          41388,
          43788,
          45240,
          50322,
          45524,
          35748,
          28190
         ],
         "yaxis": "y9"
        },
        {
         "hovertemplate": "year=2020<br>state=CO<br>month_num=%{x}<br>new_listings=%{y}<extra></extra>",
         "legendgroup": "2020",
         "line": {
          "color": "#a52c60",
          "dash": "solid"
         },
         "marker": {
          "symbol": "circle"
         },
         "mode": "lines",
         "name": "2020",
         "orientation": "v",
         "showlegend": false,
         "type": "scatter",
         "x": [
          1,
          2,
          3,
          4,
          5,
          6,
          7,
          8,
          9,
          10,
          11,
          12
         ],
         "xaxis": "x10",
         "y": [
          8154,
          8776,
          12198,
          7462,
          13376,
          14420,
          13554,
          13060,
          12186,
          11308,
          8232,
          6336
         ],
         "yaxis": "y10"
        },
        {
         "hovertemplate": "year=2020<br>state=ID<br>month_num=%{x}<br>new_listings=%{y}<extra></extra>",
         "legendgroup": "2020",
         "line": {
          "color": "#a52c60",
          "dash": "solid"
         },
         "marker": {
          "symbol": "circle"
         },
         "mode": "lines",
         "name": "2020",
         "orientation": "v",
         "showlegend": false,
         "type": "scatter",
         "x": [
          1,
          2,
          3,
          4,
          5,
          6,
          7,
          8,
          9,
          10,
          11,
          12
         ],
         "xaxis": "x11",
         "y": [
          2542,
          3092,
          3928,
          3490,
          4104,
          4110,
          4068,
          4180,
          3500,
          3360,
          2450,
          2144
         ],
         "yaxis": "y11"
        },
        {
         "hovertemplate": "year=2020<br>state=IL<br>month_num=%{x}<br>new_listings=%{y}<extra></extra>",
         "legendgroup": "2020",
         "line": {
          "color": "#a52c60",
          "dash": "solid"
         },
         "marker": {
          "symbol": "circle"
         },
         "mode": "lines",
         "name": "2020",
         "orientation": "v",
         "showlegend": false,
         "type": "scatter",
         "x": [
          1,
          2,
          3,
          4,
          5,
          6,
          7,
          8,
          9,
          10,
          11,
          12
         ],
         "xaxis": "x12",
         "y": [
          17602,
          21096,
          22454,
          14864,
          20968,
          25378,
          25306,
          24488,
          23204,
          21268,
          16372,
          12160
         ],
         "yaxis": "y12"
        },
        {
         "hovertemplate": "year=2020<br>state=MI<br>month_num=%{x}<br>new_listings=%{y}<extra></extra>",
         "legendgroup": "2020",
         "line": {
          "color": "#a52c60",
          "dash": "solid"
         },
         "marker": {
          "symbol": "circle"
         },
         "mode": "lines",
         "name": "2020",
         "orientation": "v",
         "showlegend": false,
         "type": "scatter",
         "x": [
          1,
          2,
          3,
          4,
          5,
          6,
          7,
          8,
          9,
          10,
          11,
          12
         ],
         "xaxis": "x5",
         "y": [
          11450,
          13368,
          15208,
          5446,
          18376,
          18526,
          17806,
          17696,
          16266,
          15136,
          11764,
          9250
         ],
         "yaxis": "y5"
        },
        {
         "hovertemplate": "year=2020<br>state=NE<br>month_num=%{x}<br>new_listings=%{y}<extra></extra>",
         "legendgroup": "2020",
         "line": {
          "color": "#a52c60",
          "dash": "solid"
         },
         "marker": {
          "symbol": "circle"
         },
         "mode": "lines",
         "name": "2020",
         "orientation": "v",
         "showlegend": false,
         "type": "scatter",
         "x": [
          1,
          2,
          3,
          4,
          5,
          6,
          7,
          8,
          9,
          10,
          11,
          12
         ],
         "xaxis": "x6",
         "y": [
          2244,
          2344,
          2996,
          2320,
          2876,
          2848,
          2854,
          2780,
          2702,
          2588,
          2050,
          1750
         ],
         "yaxis": "y6"
        },
        {
         "hovertemplate": "year=2020<br>state=NY<br>month_num=%{x}<br>new_listings=%{y}<extra></extra>",
         "legendgroup": "2020",
         "line": {
          "color": "#a52c60",
          "dash": "solid"
         },
         "marker": {
          "symbol": "circle"
         },
         "mode": "lines",
         "name": "2020",
         "orientation": "v",
         "showlegend": false,
         "type": "scatter",
         "x": [
          1,
          2,
          3,
          4,
          5,
          6,
          7,
          8,
          9,
          10,
          11,
          12
         ],
         "xaxis": "x7",
         "y": [
          18226,
          18468,
          19510,
          33746,
          26900,
          26448,
          26606,
          27560,
          26490,
          25016,
          18770,
          18156
         ],
         "yaxis": "y7"
        },
        {
         "hovertemplate": "year=2020<br>state=OR<br>month_num=%{x}<br>new_listings=%{y}<extra></extra>",
         "legendgroup": "2020",
         "line": {
          "color": "#a52c60",
          "dash": "solid"
         },
         "marker": {
          "symbol": "circle"
         },
         "mode": "lines",
         "name": "2020",
         "orientation": "v",
         "showlegend": false,
         "type": "scatter",
         "x": [
          1,
          2,
          3,
          4,
          5,
          6,
          7,
          8,
          9,
          10,
          11,
          12
         ],
         "xaxis": "x8",
         "y": [
          4940,
          5772,
          7378,
          5600,
          6516,
          7100,
          7570,
          7392,
          6248,
          6144,
          4820,
          4024
         ],
         "yaxis": "y8"
        },
        {
         "hovertemplate": "year=2020<br>state=PA<br>month_num=%{x}<br>new_listings=%{y}<extra></extra>",
         "legendgroup": "2020",
         "line": {
          "color": "#a52c60",
          "dash": "solid"
         },
         "marker": {
          "symbol": "circle"
         },
         "mode": "lines",
         "name": "2020",
         "orientation": "v",
         "showlegend": false,
         "type": "scatter",
         "x": [
          1,
          2,
          3,
          4,
          5,
          6,
          7,
          8,
          9,
          10,
          11,
          12
         ],
         "xaxis": "x",
         "y": [
          11524,
          12960,
          15120,
          5530,
          13092,
          19068,
          17286,
          16560,
          16602,
          15248,
          12262,
          8792
         ],
         "yaxis": "y"
        },
        {
         "hovertemplate": "year=2020<br>state=UT<br>month_num=%{x}<br>new_listings=%{y}<extra></extra>",
         "legendgroup": "2020",
         "line": {
          "color": "#a52c60",
          "dash": "solid"
         },
         "marker": {
          "symbol": "circle"
         },
         "mode": "lines",
         "name": "2020",
         "orientation": "v",
         "showlegend": false,
         "type": "scatter",
         "x": [
          1,
          2,
          3,
          4,
          5,
          6,
          7,
          8,
          9,
          10,
          11,
          12
         ],
         "xaxis": "x2",
         "y": [
          4256,
          4588,
          6208,
          5226,
          6264,
          6008,
          5634,
          5916,
          5380,
          5104,
          3894,
          3390
         ],
         "yaxis": "y2"
        },
        {
         "hovertemplate": "year=2020<br>state=WI<br>month_num=%{x}<br>new_listings=%{y}<extra></extra>",
         "legendgroup": "2020",
         "line": {
          "color": "#a52c60",
          "dash": "solid"
         },
         "marker": {
          "symbol": "circle"
         },
         "mode": "lines",
         "name": "2020",
         "orientation": "v",
         "showlegend": false,
         "type": "scatter",
         "x": [
          1,
          2,
          3,
          4,
          5,
          6,
          7,
          8,
          9,
          10,
          11,
          12
         ],
         "xaxis": "x3",
         "y": [
          4706,
          5728,
          8044,
          5828,
          7568,
          8564,
          8324,
          8708,
          8170,
          6808,
          4988,
          3744
         ],
         "yaxis": "y3"
        },
        {
         "hovertemplate": "year=2020<br>state=WY<br>month_num=%{x}<br>new_listings=%{y}<extra></extra>",
         "legendgroup": "2020",
         "line": {
          "color": "#a52c60",
          "dash": "solid"
         },
         "marker": {
          "symbol": "circle"
         },
         "mode": "lines",
         "name": "2020",
         "orientation": "v",
         "showlegend": false,
         "type": "scatter",
         "x": [
          1,
          2,
          3,
          4,
          5,
          6,
          7,
          8,
          9,
          10,
          11,
          12
         ],
         "xaxis": "x4",
         "y": [
          742,
          836,
          1022,
          872,
          1180,
          1326,
          1196,
          1192,
          1016,
          884,
          722,
          630
         ],
         "yaxis": "y4"
        },
        {
         "hovertemplate": "year=2021<br>state=CA<br>month_num=%{x}<br>new_listings=%{y}<extra></extra>",
         "legendgroup": "2021",
         "line": {
          "color": "#cf4446",
          "dash": "solid"
         },
         "marker": {
          "symbol": "circle"
         },
         "mode": "lines",
         "name": "2021",
         "orientation": "v",
         "showlegend": true,
         "type": "scatter",
         "x": [
          1,
          2,
          3,
          4,
          5,
          6,
          7,
          8,
          9,
          10,
          11,
          12
         ],
         "xaxis": "x9",
         "y": [
          35700,
          38080,
          42794,
          44826,
          46448,
          47254,
          47272,
          44094,
          41518,
          40348,
          32580,
          24152
         ],
         "yaxis": "y9"
        },
        {
         "hovertemplate": "year=2021<br>state=CO<br>month_num=%{x}<br>new_listings=%{y}<extra></extra>",
         "legendgroup": "2021",
         "line": {
          "color": "#cf4446",
          "dash": "solid"
         },
         "marker": {
          "symbol": "circle"
         },
         "mode": "lines",
         "name": "2021",
         "orientation": "v",
         "showlegend": false,
         "type": "scatter",
         "x": [
          1,
          2,
          3,
          4,
          5,
          6,
          7,
          8,
          9,
          10,
          11,
          12
         ],
         "xaxis": "x10",
         "y": [
          8100,
          9182,
          10450,
          11036,
          11920,
          14034,
          13044,
          12150,
          11174,
          10140,
          8040,
          5756
         ],
         "yaxis": "y10"
        },
        {
         "hovertemplate": "year=2021<br>state=ID<br>month_num=%{x}<br>new_listings=%{y}<extra></extra>",
         "legendgroup": "2021",
         "line": {
          "color": "#cf4446",
          "dash": "solid"
         },
         "marker": {
          "symbol": "circle"
         },
         "mode": "lines",
         "name": "2021",
         "orientation": "v",
         "showlegend": false,
         "type": "scatter",
         "x": [
          1,
          2,
          3,
          4,
          5,
          6,
          7,
          8,
          9,
          10,
          11,
          12
         ],
         "xaxis": "x11",
         "y": [
          2152,
          2686,
          3378,
          3448,
          3856,
          4282,
          4552,
          4282,
          3938,
          3204,
          2732,
          2024
         ],
         "yaxis": "y11"
        },
        {
         "hovertemplate": "year=2021<br>state=IL<br>month_num=%{x}<br>new_listings=%{y}<extra></extra>",
         "legendgroup": "2021",
         "line": {
          "color": "#cf4446",
          "dash": "solid"
         },
         "marker": {
          "symbol": "circle"
         },
         "mode": "lines",
         "name": "2021",
         "orientation": "v",
         "showlegend": false,
         "type": "scatter",
         "x": [
          1,
          2,
          3,
          4,
          5,
          6,
          7,
          8,
          9,
          10,
          11,
          12
         ],
         "xaxis": "x12",
         "y": [
          15568,
          16436,
          20994,
          23080,
          24396,
          25628,
          25220,
          22924,
          21442,
          18940,
          15272,
          10614
         ],
         "yaxis": "y12"
        },
        {
         "hovertemplate": "year=2021<br>state=MI<br>month_num=%{x}<br>new_listings=%{y}<extra></extra>",
         "legendgroup": "2021",
         "line": {
          "color": "#cf4446",
          "dash": "solid"
         },
         "marker": {
          "symbol": "circle"
         },
         "mode": "lines",
         "name": "2021",
         "orientation": "v",
         "showlegend": false,
         "type": "scatter",
         "x": [
          1,
          2,
          3,
          4,
          5,
          6,
          7,
          8,
          9,
          10,
          11,
          12
         ],
         "xaxis": "x5",
         "y": [
          9320,
          9354,
          12844,
          13870,
          16072,
          18020,
          18280,
          18204,
          15524,
          14436,
          11932,
          8498
         ],
         "yaxis": "y5"
        },
        {
         "hovertemplate": "year=2021<br>state=NE<br>month_num=%{x}<br>new_listings=%{y}<extra></extra>",
         "legendgroup": "2021",
         "line": {
          "color": "#cf4446",
          "dash": "solid"
         },
         "marker": {
          "symbol": "circle"
         },
         "mode": "lines",
         "name": "2021",
         "orientation": "v",
         "showlegend": false,
         "type": "scatter",
         "x": [
          1,
          2,
          3,
          4,
          5,
          6,
          7,
          8,
          9,
          10,
          11,
          12
         ],
         "xaxis": "x6",
         "y": [
          1816,
          1858,
          2352,
          3052,
          2784,
          3072,
          2992,
          2852,
          2682,
          2552,
          2052,
          1588
         ],
         "yaxis": "y6"
        },
        {
         "hovertemplate": "year=2021<br>state=NY<br>month_num=%{x}<br>new_listings=%{y}<extra></extra>",
         "legendgroup": "2021",
         "line": {
          "color": "#cf4446",
          "dash": "solid"
         },
         "marker": {
          "symbol": "circle"
         },
         "mode": "lines",
         "name": "2021",
         "orientation": "v",
         "showlegend": false,
         "type": "scatter",
         "x": [
          1,
          2,
          3,
          4,
          5,
          6,
          7,
          8,
          9,
          10,
          11,
          12
         ],
         "xaxis": "x7",
         "y": [
          19876,
          15846,
          22004,
          24276,
          25716,
          24976,
          22120,
          23236,
          22938,
          18688,
          15274,
          10920
         ],
         "yaxis": "y7"
        },
        {
         "hovertemplate": "year=2021<br>state=OR<br>month_num=%{x}<br>new_listings=%{y}<extra></extra>",
         "legendgroup": "2021",
         "line": {
          "color": "#cf4446",
          "dash": "solid"
         },
         "marker": {
          "symbol": "circle"
         },
         "mode": "lines",
         "name": "2021",
         "orientation": "v",
         "showlegend": false,
         "type": "scatter",
         "x": [
          1,
          2,
          3,
          4,
          5,
          6,
          7,
          8,
          9,
          10,
          11,
          12
         ],
         "xaxis": "x8",
         "y": [
          4896,
          4990,
          6456,
          6926,
          7640,
          7936,
          8016,
          7706,
          7132,
          6688,
          5020,
          3868
         ],
         "yaxis": "y8"
        },
        {
         "hovertemplate": "year=2021<br>state=PA<br>month_num=%{x}<br>new_listings=%{y}<extra></extra>",
         "legendgroup": "2021",
         "line": {
          "color": "#cf4446",
          "dash": "solid"
         },
         "marker": {
          "symbol": "circle"
         },
         "mode": "lines",
         "name": "2021",
         "orientation": "v",
         "showlegend": false,
         "type": "scatter",
         "x": [
          1,
          2,
          3,
          4,
          5,
          6,
          7,
          8,
          9,
          10,
          11,
          12
         ],
         "xaxis": "x",
         "y": [
          10320,
          10068,
          14078,
          16586,
          17572,
          19092,
          18008,
          16998,
          15898,
          15280,
          12974,
          9222
         ],
         "yaxis": "y"
        },
        {
         "hovertemplate": "year=2021<br>state=UT<br>month_num=%{x}<br>new_listings=%{y}<extra></extra>",
         "legendgroup": "2021",
         "line": {
          "color": "#cf4446",
          "dash": "solid"
         },
         "marker": {
          "symbol": "circle"
         },
         "mode": "lines",
         "name": "2021",
         "orientation": "v",
         "showlegend": false,
         "type": "scatter",
         "x": [
          1,
          2,
          3,
          4,
          5,
          6,
          7,
          8,
          9,
          10,
          11,
          12
         ],
         "xaxis": "x2",
         "y": [
          3424,
          3994,
          4772,
          4960,
          5600,
          5862,
          5676,
          5850,
          5374,
          4956,
          4218,
          2946
         ],
         "yaxis": "y2"
        },
        {
         "hovertemplate": "year=2021<br>state=WI<br>month_num=%{x}<br>new_listings=%{y}<extra></extra>",
         "legendgroup": "2021",
         "line": {
          "color": "#cf4446",
          "dash": "solid"
         },
         "marker": {
          "symbol": "circle"
         },
         "mode": "lines",
         "name": "2021",
         "orientation": "v",
         "showlegend": false,
         "type": "scatter",
         "x": [
          1,
          2,
          3,
          4,
          5,
          6,
          7,
          8,
          9,
          10,
          11,
          12
         ],
         "xaxis": "x3",
         "y": [
          4432,
          4612,
          6400,
          7382,
          8452,
          9372,
          8692,
          8502,
          7838,
          6840,
          5124,
          3376
         ],
         "yaxis": "y3"
        },
        {
         "hovertemplate": "year=2021<br>state=WY<br>month_num=%{x}<br>new_listings=%{y}<extra></extra>",
         "legendgroup": "2021",
         "line": {
          "color": "#cf4446",
          "dash": "solid"
         },
         "marker": {
          "symbol": "circle"
         },
         "mode": "lines",
         "name": "2021",
         "orientation": "v",
         "showlegend": false,
         "type": "scatter",
         "x": [
          1,
          2,
          3,
          4,
          5,
          6,
          7,
          8,
          9,
          10,
          11,
          12
         ],
         "xaxis": "x4",
         "y": [
          776,
          806,
          886,
          934,
          1096,
          1212,
          1144,
          1056,
          916,
          856,
          658,
          580
         ],
         "yaxis": "y4"
        },
        {
         "hovertemplate": "year=2022<br>state=CA<br>month_num=%{x}<br>new_listings=%{y}<extra></extra>",
         "legendgroup": "2022",
         "line": {
          "color": "#ed6925",
          "dash": "solid"
         },
         "marker": {
          "symbol": "circle"
         },
         "mode": "lines",
         "name": "2022",
         "orientation": "v",
         "showlegend": true,
         "type": "scatter",
         "x": [
          1,
          2,
          3,
          4,
          5,
          6,
          7,
          8,
          9,
          10
         ],
         "xaxis": "x9",
         "y": [
          31128,
          37470,
          40744,
          44296,
          46892,
          45376,
          40196,
          36312,
          34156,
          30488
         ],
         "yaxis": "y9"
        },
        {
         "hovertemplate": "year=2022<br>state=CO<br>month_num=%{x}<br>new_listings=%{y}<extra></extra>",
         "legendgroup": "2022",
         "line": {
          "color": "#ed6925",
          "dash": "solid"
         },
         "marker": {
          "symbol": "circle"
         },
         "mode": "lines",
         "name": "2022",
         "orientation": "v",
         "showlegend": false,
         "type": "scatter",
         "x": [
          1,
          2,
          3,
          4,
          5,
          6,
          7,
          8,
          9,
          10
         ],
         "xaxis": "x10",
         "y": [
          7052,
          8262,
          10258,
          12692,
          13940,
          14752,
          12468,
          10930,
          9652,
          8512
         ],
         "yaxis": "y10"
        },
        {
         "hovertemplate": "year=2022<br>state=ID<br>month_num=%{x}<br>new_listings=%{y}<extra></extra>",
         "legendgroup": "2022",
         "line": {
          "color": "#ed6925",
          "dash": "solid"
         },
         "marker": {
          "symbol": "circle"
         },
         "mode": "lines",
         "name": "2022",
         "orientation": "v",
         "showlegend": false,
         "type": "scatter",
         "x": [
          1,
          2,
          3,
          4,
          5,
          6,
          7,
          8,
          9,
          10
         ],
         "xaxis": "x11",
         "y": [
          2244,
          2780,
          3394,
          3936,
          4712,
          5152,
          4344,
          3806,
          3324,
          2980
         ],
         "yaxis": "y11"
        },
        {
         "hovertemplate": "year=2022<br>state=IL<br>month_num=%{x}<br>new_listings=%{y}<extra></extra>",
         "legendgroup": "2022",
         "line": {
          "color": "#ed6925",
          "dash": "solid"
         },
         "marker": {
          "symbol": "circle"
         },
         "mode": "lines",
         "name": "2022",
         "orientation": "v",
         "showlegend": false,
         "type": "scatter",
         "x": [
          1,
          2,
          3,
          4,
          5,
          6,
          7,
          8,
          9,
          10
         ],
         "xaxis": "x12",
         "y": [
          13156,
          14922,
          18304,
          21124,
          21848,
          22644,
          20492,
          18804,
          17014,
          15816
         ],
         "yaxis": "y12"
        },
        {
         "hovertemplate": "year=2022<br>state=MI<br>month_num=%{x}<br>new_listings=%{y}<extra></extra>",
         "legendgroup": "2022",
         "line": {
          "color": "#ed6925",
          "dash": "solid"
         },
         "marker": {
          "symbol": "circle"
         },
         "mode": "lines",
         "name": "2022",
         "orientation": "v",
         "showlegend": false,
         "type": "scatter",
         "x": [
          1,
          2,
          3,
          4,
          5,
          6,
          7,
          8,
          9,
          10
         ],
         "xaxis": "x5",
         "y": [
          9048,
          9398,
          12160,
          15024,
          16948,
          17892,
          16520,
          15130,
          13680,
          12904
         ],
         "yaxis": "y5"
        },
        {
         "hovertemplate": "year=2022<br>state=NE<br>month_num=%{x}<br>new_listings=%{y}<extra></extra>",
         "legendgroup": "2022",
         "line": {
          "color": "#ed6925",
          "dash": "solid"
         },
         "marker": {
          "symbol": "circle"
         },
         "mode": "lines",
         "name": "2022",
         "orientation": "v",
         "showlegend": false,
         "type": "scatter",
         "x": [
          1,
          2,
          3,
          4,
          5,
          6,
          7,
          8,
          9,
          10
         ],
         "xaxis": "x6",
         "y": [
          1700,
          2034,
          2368,
          2844,
          2916,
          3078,
          2792,
          2686,
          2346,
          2356
         ],
         "yaxis": "y6"
        },
        {
         "hovertemplate": "year=2022<br>state=NY<br>month_num=%{x}<br>new_listings=%{y}<extra></extra>",
         "legendgroup": "2022",
         "line": {
          "color": "#ed6925",
          "dash": "solid"
         },
         "marker": {
          "symbol": "circle"
         },
         "mode": "lines",
         "name": "2022",
         "orientation": "v",
         "showlegend": false,
         "type": "scatter",
         "x": [
          1,
          2,
          3,
          4,
          5,
          6,
          7,
          8,
          9,
          10
         ],
         "xaxis": "x7",
         "y": [
          12372,
          16994,
          20034,
          20588,
          21986,
          21554,
          18596,
          16468,
          19708,
          16116
         ],
         "yaxis": "y7"
        },
        {
         "hovertemplate": "year=2022<br>state=OR<br>month_num=%{x}<br>new_listings=%{y}<extra></extra>",
         "legendgroup": "2022",
         "line": {
          "color": "#ed6925",
          "dash": "solid"
         },
         "marker": {
          "symbol": "circle"
         },
         "mode": "lines",
         "name": "2022",
         "orientation": "v",
         "showlegend": false,
         "type": "scatter",
         "x": [
          1,
          2,
          3,
          4,
          5,
          6,
          7,
          8,
          9,
          10
         ],
         "xaxis": "x8",
         "y": [
          4404,
          5460,
          6476,
          7312,
          7900,
          8064,
          7108,
          6146,
          5986,
          5212
         ],
         "yaxis": "y8"
        },
        {
         "hovertemplate": "year=2022<br>state=PA<br>month_num=%{x}<br>new_listings=%{y}<extra></extra>",
         "legendgroup": "2022",
         "line": {
          "color": "#ed6925",
          "dash": "solid"
         },
         "marker": {
          "symbol": "circle"
         },
         "mode": "lines",
         "name": "2022",
         "orientation": "v",
         "showlegend": false,
         "type": "scatter",
         "x": [
          1,
          2,
          3,
          4,
          5,
          6,
          7,
          8,
          9,
          10
         ],
         "xaxis": "x",
         "y": [
          9892,
          11666,
          14498,
          16620,
          17604,
          18020,
          15792,
          13988,
          14050,
          13124
         ],
         "yaxis": "y"
        },
        {
         "hovertemplate": "year=2022<br>state=UT<br>month_num=%{x}<br>new_listings=%{y}<extra></extra>",
         "legendgroup": "2022",
         "line": {
          "color": "#ed6925",
          "dash": "solid"
         },
         "marker": {
          "symbol": "circle"
         },
         "mode": "lines",
         "name": "2022",
         "orientation": "v",
         "showlegend": false,
         "type": "scatter",
         "x": [
          1,
          2,
          3,
          4,
          5,
          6,
          7,
          8,
          9,
          10
         ],
         "xaxis": "x2",
         "y": [
          3380,
          4468,
          4888,
          5348,
          6748,
          6606,
          5896,
          5446,
          4982,
          4148
         ],
         "yaxis": "y2"
        },
        {
         "hovertemplate": "year=2022<br>state=WI<br>month_num=%{x}<br>new_listings=%{y}<extra></extra>",
         "legendgroup": "2022",
         "line": {
          "color": "#ed6925",
          "dash": "solid"
         },
         "marker": {
          "symbol": "circle"
         },
         "mode": "lines",
         "name": "2022",
         "orientation": "v",
         "showlegend": false,
         "type": "scatter",
         "x": [
          1,
          2,
          3,
          4,
          5,
          6,
          7,
          8,
          9,
          10
         ],
         "xaxis": "x3",
         "y": [
          3892,
          4492,
          5704,
          7508,
          8304,
          8652,
          7500,
          6524,
          6240,
          5808
         ],
         "yaxis": "y3"
        },
        {
         "hovertemplate": "year=2022<br>state=WY<br>month_num=%{x}<br>new_listings=%{y}<extra></extra>",
         "legendgroup": "2022",
         "line": {
          "color": "#ed6925",
          "dash": "solid"
         },
         "marker": {
          "symbol": "circle"
         },
         "mode": "lines",
         "name": "2022",
         "orientation": "v",
         "showlegend": false,
         "type": "scatter",
         "x": [
          1,
          2,
          3,
          4,
          5,
          6,
          7,
          8,
          9,
          10
         ],
         "xaxis": "x4",
         "y": [
          580,
          644,
          734,
          868,
          1076,
          1172,
          1112,
          1036,
          958,
          728
         ],
         "yaxis": "y4"
        }
       ],
       "layout": {
        "annotations": [
         {
          "font": {},
          "showarrow": false,
          "text": "state=PA",
          "x": 0.1175,
          "xanchor": "center",
          "xref": "paper",
          "y": 0.2866666666666666,
          "yanchor": "bottom",
          "yref": "paper"
         },
         {
          "font": {},
          "showarrow": false,
          "text": "state=UT",
          "x": 0.3725,
          "xanchor": "center",
          "xref": "paper",
          "y": 0.2866666666666666,
          "yanchor": "bottom",
          "yref": "paper"
         },
         {
          "font": {},
          "showarrow": false,
          "text": "state=WI",
          "x": 0.6275,
          "xanchor": "center",
          "xref": "paper",
          "y": 0.2866666666666666,
          "yanchor": "bottom",
          "yref": "paper"
         },
         {
          "font": {},
          "showarrow": false,
          "text": "state=WY",
          "x": 0.8824999999999998,
          "xanchor": "center",
          "xref": "paper",
          "y": 0.2866666666666666,
          "yanchor": "bottom",
          "yref": "paper"
         },
         {
          "font": {},
          "showarrow": false,
          "text": "state=MI",
          "x": 0.1175,
          "xanchor": "center",
          "xref": "paper",
          "y": 0.6433333333333333,
          "yanchor": "bottom",
          "yref": "paper"
         },
         {
          "font": {},
          "showarrow": false,
          "text": "state=NE",
          "x": 0.3725,
          "xanchor": "center",
          "xref": "paper",
          "y": 0.6433333333333333,
          "yanchor": "bottom",
          "yref": "paper"
         },
         {
          "font": {},
          "showarrow": false,
          "text": "state=NY",
          "x": 0.6275,
          "xanchor": "center",
          "xref": "paper",
          "y": 0.6433333333333333,
          "yanchor": "bottom",
          "yref": "paper"
         },
         {
          "font": {},
          "showarrow": false,
          "text": "state=OR",
          "x": 0.8824999999999998,
          "xanchor": "center",
          "xref": "paper",
          "y": 0.6433333333333333,
          "yanchor": "bottom",
          "yref": "paper"
         },
         {
          "font": {},
          "showarrow": false,
          "text": "state=CA",
          "x": 0.1175,
          "xanchor": "center",
          "xref": "paper",
          "y": 0.9999999999999999,
          "yanchor": "bottom",
          "yref": "paper"
         },
         {
          "font": {},
          "showarrow": false,
          "text": "state=CO",
          "x": 0.3725,
          "xanchor": "center",
          "xref": "paper",
          "y": 0.9999999999999999,
          "yanchor": "bottom",
          "yref": "paper"
         },
         {
          "font": {},
          "showarrow": false,
          "text": "state=ID",
          "x": 0.6275,
          "xanchor": "center",
          "xref": "paper",
          "y": 0.9999999999999999,
          "yanchor": "bottom",
          "yref": "paper"
         },
         {
          "font": {},
          "showarrow": false,
          "text": "state=IL",
          "x": 0.8824999999999998,
          "xanchor": "center",
          "xref": "paper",
          "y": 0.9999999999999999,
          "yanchor": "bottom",
          "yref": "paper"
         }
        ],
        "height": 800,
        "legend": {
         "title": {
          "text": "year"
         },
         "tracegroupgap": 0
        },
        "template": {
         "data": {
          "bar": [
           {
            "error_x": {
             "color": "#2a3f5f"
            },
            "error_y": {
             "color": "#2a3f5f"
            },
            "marker": {
             "line": {
              "color": "#E5ECF6",
              "width": 0.5
             },
             "pattern": {
              "fillmode": "overlay",
              "size": 10,
              "solidity": 0.2
             }
            },
            "type": "bar"
           }
          ],
          "barpolar": [
           {
            "marker": {
             "line": {
              "color": "#E5ECF6",
              "width": 0.5
             },
             "pattern": {
              "fillmode": "overlay",
              "size": 10,
              "solidity": 0.2
             }
            },
            "type": "barpolar"
           }
          ],
          "carpet": [
           {
            "aaxis": {
             "endlinecolor": "#2a3f5f",
             "gridcolor": "white",
             "linecolor": "white",
             "minorgridcolor": "white",
             "startlinecolor": "#2a3f5f"
            },
            "baxis": {
             "endlinecolor": "#2a3f5f",
             "gridcolor": "white",
             "linecolor": "white",
             "minorgridcolor": "white",
             "startlinecolor": "#2a3f5f"
            },
            "type": "carpet"
           }
          ],
          "choropleth": [
           {
            "colorbar": {
             "outlinewidth": 0,
             "ticks": ""
            },
            "type": "choropleth"
           }
          ],
          "contour": [
           {
            "colorbar": {
             "outlinewidth": 0,
             "ticks": ""
            },
            "colorscale": [
             [
              0,
              "#0d0887"
             ],
             [
              0.1111111111111111,
              "#46039f"
             ],
             [
              0.2222222222222222,
              "#7201a8"
             ],
             [
              0.3333333333333333,
              "#9c179e"
             ],
             [
              0.4444444444444444,
              "#bd3786"
             ],
             [
              0.5555555555555556,
              "#d8576b"
             ],
             [
              0.6666666666666666,
              "#ed7953"
             ],
             [
              0.7777777777777778,
              "#fb9f3a"
             ],
             [
              0.8888888888888888,
              "#fdca26"
             ],
             [
              1,
              "#f0f921"
             ]
            ],
            "type": "contour"
           }
          ],
          "contourcarpet": [
           {
            "colorbar": {
             "outlinewidth": 0,
             "ticks": ""
            },
            "type": "contourcarpet"
           }
          ],
          "heatmap": [
           {
            "colorbar": {
             "outlinewidth": 0,
             "ticks": ""
            },
            "colorscale": [
             [
              0,
              "#0d0887"
             ],
             [
              0.1111111111111111,
              "#46039f"
             ],
             [
              0.2222222222222222,
              "#7201a8"
             ],
             [
              0.3333333333333333,
              "#9c179e"
             ],
             [
              0.4444444444444444,
              "#bd3786"
             ],
             [
              0.5555555555555556,
              "#d8576b"
             ],
             [
              0.6666666666666666,
              "#ed7953"
             ],
             [
              0.7777777777777778,
              "#fb9f3a"
             ],
             [
              0.8888888888888888,
              "#fdca26"
             ],
             [
              1,
              "#f0f921"
             ]
            ],
            "type": "heatmap"
           }
          ],
          "heatmapgl": [
           {
            "colorbar": {
             "outlinewidth": 0,
             "ticks": ""
            },
            "colorscale": [
             [
              0,
              "#0d0887"
             ],
             [
              0.1111111111111111,
              "#46039f"
             ],
             [
              0.2222222222222222,
              "#7201a8"
             ],
             [
              0.3333333333333333,
              "#9c179e"
             ],
             [
              0.4444444444444444,
              "#bd3786"
             ],
             [
              0.5555555555555556,
              "#d8576b"
             ],
             [
              0.6666666666666666,
              "#ed7953"
             ],
             [
              0.7777777777777778,
              "#fb9f3a"
             ],
             [
              0.8888888888888888,
              "#fdca26"
             ],
             [
              1,
              "#f0f921"
             ]
            ],
            "type": "heatmapgl"
           }
          ],
          "histogram": [
           {
            "marker": {
             "pattern": {
              "fillmode": "overlay",
              "size": 10,
              "solidity": 0.2
             }
            },
            "type": "histogram"
           }
          ],
          "histogram2d": [
           {
            "colorbar": {
             "outlinewidth": 0,
             "ticks": ""
            },
            "colorscale": [
             [
              0,
              "#0d0887"
             ],
             [
              0.1111111111111111,
              "#46039f"
             ],
             [
              0.2222222222222222,
              "#7201a8"
             ],
             [
              0.3333333333333333,
              "#9c179e"
             ],
             [
              0.4444444444444444,
              "#bd3786"
             ],
             [
              0.5555555555555556,
              "#d8576b"
             ],
             [
              0.6666666666666666,
              "#ed7953"
             ],
             [
              0.7777777777777778,
              "#fb9f3a"
             ],
             [
              0.8888888888888888,
              "#fdca26"
             ],
             [
              1,
              "#f0f921"
             ]
            ],
            "type": "histogram2d"
           }
          ],
          "histogram2dcontour": [
           {
            "colorbar": {
             "outlinewidth": 0,
             "ticks": ""
            },
            "colorscale": [
             [
              0,
              "#0d0887"
             ],
             [
              0.1111111111111111,
              "#46039f"
             ],
             [
              0.2222222222222222,
              "#7201a8"
             ],
             [
              0.3333333333333333,
              "#9c179e"
             ],
             [
              0.4444444444444444,
              "#bd3786"
             ],
             [
              0.5555555555555556,
              "#d8576b"
             ],
             [
              0.6666666666666666,
              "#ed7953"
             ],
             [
              0.7777777777777778,
              "#fb9f3a"
             ],
             [
              0.8888888888888888,
              "#fdca26"
             ],
             [
              1,
              "#f0f921"
             ]
            ],
            "type": "histogram2dcontour"
           }
          ],
          "mesh3d": [
           {
            "colorbar": {
             "outlinewidth": 0,
             "ticks": ""
            },
            "type": "mesh3d"
           }
          ],
          "parcoords": [
           {
            "line": {
             "colorbar": {
              "outlinewidth": 0,
              "ticks": ""
             }
            },
            "type": "parcoords"
           }
          ],
          "pie": [
           {
            "automargin": true,
            "type": "pie"
           }
          ],
          "scatter": [
           {
            "fillpattern": {
             "fillmode": "overlay",
             "size": 10,
             "solidity": 0.2
            },
            "type": "scatter"
           }
          ],
          "scatter3d": [
           {
            "line": {
             "colorbar": {
              "outlinewidth": 0,
              "ticks": ""
             }
            },
            "marker": {
             "colorbar": {
              "outlinewidth": 0,
              "ticks": ""
             }
            },
            "type": "scatter3d"
           }
          ],
          "scattercarpet": [
           {
            "marker": {
             "colorbar": {
              "outlinewidth": 0,
              "ticks": ""
             }
            },
            "type": "scattercarpet"
           }
          ],
          "scattergeo": [
           {
            "marker": {
             "colorbar": {
              "outlinewidth": 0,
              "ticks": ""
             }
            },
            "type": "scattergeo"
           }
          ],
          "scattergl": [
           {
            "marker": {
             "colorbar": {
              "outlinewidth": 0,
              "ticks": ""
             }
            },
            "type": "scattergl"
           }
          ],
          "scattermapbox": [
           {
            "marker": {
             "colorbar": {
              "outlinewidth": 0,
              "ticks": ""
             }
            },
            "type": "scattermapbox"
           }
          ],
          "scatterpolar": [
           {
            "marker": {
             "colorbar": {
              "outlinewidth": 0,
              "ticks": ""
             }
            },
            "type": "scatterpolar"
           }
          ],
          "scatterpolargl": [
           {
            "marker": {
             "colorbar": {
              "outlinewidth": 0,
              "ticks": ""
             }
            },
            "type": "scatterpolargl"
           }
          ],
          "scatterternary": [
           {
            "marker": {
             "colorbar": {
              "outlinewidth": 0,
              "ticks": ""
             }
            },
            "type": "scatterternary"
           }
          ],
          "surface": [
           {
            "colorbar": {
             "outlinewidth": 0,
             "ticks": ""
            },
            "colorscale": [
             [
              0,
              "#0d0887"
             ],
             [
              0.1111111111111111,
              "#46039f"
             ],
             [
              0.2222222222222222,
              "#7201a8"
             ],
             [
              0.3333333333333333,
              "#9c179e"
             ],
             [
              0.4444444444444444,
              "#bd3786"
             ],
             [
              0.5555555555555556,
              "#d8576b"
             ],
             [
              0.6666666666666666,
              "#ed7953"
             ],
             [
              0.7777777777777778,
              "#fb9f3a"
             ],
             [
              0.8888888888888888,
              "#fdca26"
             ],
             [
              1,
              "#f0f921"
             ]
            ],
            "type": "surface"
           }
          ],
          "table": [
           {
            "cells": {
             "fill": {
              "color": "#EBF0F8"
             },
             "line": {
              "color": "white"
             }
            },
            "header": {
             "fill": {
              "color": "#C8D4E3"
             },
             "line": {
              "color": "white"
             }
            },
            "type": "table"
           }
          ]
         },
         "layout": {
          "annotationdefaults": {
           "arrowcolor": "#2a3f5f",
           "arrowhead": 0,
           "arrowwidth": 1
          },
          "autotypenumbers": "strict",
          "coloraxis": {
           "colorbar": {
            "outlinewidth": 0,
            "ticks": ""
           }
          },
          "colorscale": {
           "diverging": [
            [
             0,
             "#8e0152"
            ],
            [
             0.1,
             "#c51b7d"
            ],
            [
             0.2,
             "#de77ae"
            ],
            [
             0.3,
             "#f1b6da"
            ],
            [
             0.4,
             "#fde0ef"
            ],
            [
             0.5,
             "#f7f7f7"
            ],
            [
             0.6,
             "#e6f5d0"
            ],
            [
             0.7,
             "#b8e186"
            ],
            [
             0.8,
             "#7fbc41"
            ],
            [
             0.9,
             "#4d9221"
            ],
            [
             1,
             "#276419"
            ]
           ],
           "sequential": [
            [
             0,
             "#0d0887"
            ],
            [
             0.1111111111111111,
             "#46039f"
            ],
            [
             0.2222222222222222,
             "#7201a8"
            ],
            [
             0.3333333333333333,
             "#9c179e"
            ],
            [
             0.4444444444444444,
             "#bd3786"
            ],
            [
             0.5555555555555556,
             "#d8576b"
            ],
            [
             0.6666666666666666,
             "#ed7953"
            ],
            [
             0.7777777777777778,
             "#fb9f3a"
            ],
            [
             0.8888888888888888,
             "#fdca26"
            ],
            [
             1,
             "#f0f921"
            ]
           ],
           "sequentialminus": [
            [
             0,
             "#0d0887"
            ],
            [
             0.1111111111111111,
             "#46039f"
            ],
            [
             0.2222222222222222,
             "#7201a8"
            ],
            [
             0.3333333333333333,
             "#9c179e"
            ],
            [
             0.4444444444444444,
             "#bd3786"
            ],
            [
             0.5555555555555556,
             "#d8576b"
            ],
            [
             0.6666666666666666,
             "#ed7953"
            ],
            [
             0.7777777777777778,
             "#fb9f3a"
            ],
            [
             0.8888888888888888,
             "#fdca26"
            ],
            [
             1,
             "#f0f921"
            ]
           ]
          },
          "colorway": [
           "#636efa",
           "#EF553B",
           "#00cc96",
           "#ab63fa",
           "#FFA15A",
           "#19d3f3",
           "#FF6692",
           "#B6E880",
           "#FF97FF",
           "#FECB52"
          ],
          "font": {
           "color": "#2a3f5f"
          },
          "geo": {
           "bgcolor": "white",
           "lakecolor": "white",
           "landcolor": "#E5ECF6",
           "showlakes": true,
           "showland": true,
           "subunitcolor": "white"
          },
          "hoverlabel": {
           "align": "left"
          },
          "hovermode": "closest",
          "mapbox": {
           "style": "light"
          },
          "paper_bgcolor": "white",
          "plot_bgcolor": "#E5ECF6",
          "polar": {
           "angularaxis": {
            "gridcolor": "white",
            "linecolor": "white",
            "ticks": ""
           },
           "bgcolor": "#E5ECF6",
           "radialaxis": {
            "gridcolor": "white",
            "linecolor": "white",
            "ticks": ""
           }
          },
          "scene": {
           "xaxis": {
            "backgroundcolor": "#E5ECF6",
            "gridcolor": "white",
            "gridwidth": 2,
            "linecolor": "white",
            "showbackground": true,
            "ticks": "",
            "zerolinecolor": "white"
           },
           "yaxis": {
            "backgroundcolor": "#E5ECF6",
            "gridcolor": "white",
            "gridwidth": 2,
            "linecolor": "white",
            "showbackground": true,
            "ticks": "",
            "zerolinecolor": "white"
           },
           "zaxis": {
            "backgroundcolor": "#E5ECF6",
            "gridcolor": "white",
            "gridwidth": 2,
            "linecolor": "white",
            "showbackground": true,
            "ticks": "",
            "zerolinecolor": "white"
           }
          },
          "shapedefaults": {
           "line": {
            "color": "#2a3f5f"
           }
          },
          "ternary": {
           "aaxis": {
            "gridcolor": "white",
            "linecolor": "white",
            "ticks": ""
           },
           "baxis": {
            "gridcolor": "white",
            "linecolor": "white",
            "ticks": ""
           },
           "bgcolor": "#E5ECF6",
           "caxis": {
            "gridcolor": "white",
            "linecolor": "white",
            "ticks": ""
           }
          },
          "title": {
           "x": 0.05
          },
          "xaxis": {
           "automargin": true,
           "gridcolor": "white",
           "linecolor": "white",
           "ticks": "",
           "title": {
            "standoff": 15
           },
           "zerolinecolor": "white",
           "zerolinewidth": 2
          },
          "yaxis": {
           "automargin": true,
           "gridcolor": "white",
           "linecolor": "white",
           "ticks": "",
           "title": {
            "standoff": 15
           },
           "zerolinecolor": "white",
           "zerolinewidth": 2
          }
         }
        },
        "title": {
         "text": "New Listings over Time by State"
        },
        "width": 1200,
        "xaxis": {
         "anchor": "y",
         "domain": [
          0,
          0.235
         ],
         "title": {
          "text": "month_num"
         }
        },
        "xaxis10": {
         "anchor": "y10",
         "domain": [
          0.255,
          0.49
         ],
         "matches": "x",
         "showticklabels": false
        },
        "xaxis11": {
         "anchor": "y11",
         "domain": [
          0.51,
          0.745
         ],
         "matches": "x",
         "showticklabels": false
        },
        "xaxis12": {
         "anchor": "y12",
         "domain": [
          0.7649999999999999,
          0.9999999999999999
         ],
         "matches": "x",
         "showticklabels": false
        },
        "xaxis2": {
         "anchor": "y2",
         "domain": [
          0.255,
          0.49
         ],
         "matches": "x",
         "title": {
          "text": "month_num"
         }
        },
        "xaxis3": {
         "anchor": "y3",
         "domain": [
          0.51,
          0.745
         ],
         "matches": "x",
         "title": {
          "text": "month_num"
         }
        },
        "xaxis4": {
         "anchor": "y4",
         "domain": [
          0.7649999999999999,
          0.9999999999999999
         ],
         "matches": "x",
         "title": {
          "text": "month_num"
         }
        },
        "xaxis5": {
         "anchor": "y5",
         "domain": [
          0,
          0.235
         ],
         "matches": "x",
         "showticklabels": false
        },
        "xaxis6": {
         "anchor": "y6",
         "domain": [
          0.255,
          0.49
         ],
         "matches": "x",
         "showticklabels": false
        },
        "xaxis7": {
         "anchor": "y7",
         "domain": [
          0.51,
          0.745
         ],
         "matches": "x",
         "showticklabels": false
        },
        "xaxis8": {
         "anchor": "y8",
         "domain": [
          0.7649999999999999,
          0.9999999999999999
         ],
         "matches": "x",
         "showticklabels": false
        },
        "xaxis9": {
         "anchor": "y9",
         "domain": [
          0,
          0.235
         ],
         "matches": "x",
         "showticklabels": false
        },
        "yaxis": {
         "anchor": "x",
         "domain": [
          0,
          0.2866666666666666
         ],
         "title": {
          "text": "new_listings"
         }
        },
        "yaxis10": {
         "anchor": "x10",
         "domain": [
          0.7133333333333333,
          0.9999999999999999
         ],
         "showticklabels": false
        },
        "yaxis11": {
         "anchor": "x11",
         "domain": [
          0.7133333333333333,
          0.9999999999999999
         ],
         "showticklabels": false
        },
        "yaxis12": {
         "anchor": "x12",
         "domain": [
          0.7133333333333333,
          0.9999999999999999
         ],
         "showticklabels": false
        },
        "yaxis2": {
         "anchor": "x2",
         "domain": [
          0,
          0.2866666666666666
         ],
         "showticklabels": false
        },
        "yaxis3": {
         "anchor": "x3",
         "domain": [
          0,
          0.2866666666666666
         ],
         "showticklabels": false
        },
        "yaxis4": {
         "anchor": "x4",
         "domain": [
          0,
          0.2866666666666666
         ],
         "showticklabels": false
        },
        "yaxis5": {
         "anchor": "x5",
         "domain": [
          0.35666666666666663,
          0.6433333333333333
         ],
         "title": {
          "text": "new_listings"
         }
        },
        "yaxis6": {
         "anchor": "x6",
         "domain": [
          0.35666666666666663,
          0.6433333333333333
         ],
         "showticklabels": false
        },
        "yaxis7": {
         "anchor": "x7",
         "domain": [
          0.35666666666666663,
          0.6433333333333333
         ],
         "showticklabels": false
        },
        "yaxis8": {
         "anchor": "x8",
         "domain": [
          0.35666666666666663,
          0.6433333333333333
         ],
         "showticklabels": false
        },
        "yaxis9": {
         "anchor": "x9",
         "domain": [
          0.7133333333333333,
          0.9999999999999999
         ],
         "title": {
          "text": "new_listings"
         }
        }
       }
      }
     },
     "metadata": {},
     "output_type": "display_data"
    }
   ],
   "source": [
    "fig = px.line(df.query(\"state in @select_states\"),\n",
    "    x = 'month_num',\n",
    "    y = 'new_listings',\n",
    "    color = 'year',\n",
    "    facet_col = 'state',\n",
    "    facet_col_wrap = 4,\n",
    "    title = 'New Listings over Time by State',\n",
    "    color_discrete_sequence=px.colors.sequential.Inferno\n",
    "    )\n",
    "fig.update_yaxes(matches = None)\n",
    "fig.update_layout(height = 800, width = 1200)\n",
    "fig.show()"
   ]
  },
  {
   "cell_type": "code",
   "execution_count": 10,
   "metadata": {},
   "outputs": [
    {
     "data": {
      "application/vnd.plotly.v1+json": {
       "config": {
        "plotlyServerURL": "https://plot.ly"
       },
       "data": [
        {
         "hovertemplate": "year=2016<br>state=CA<br>month_num=%{x}<br>pending_listings=%{y}<extra></extra>",
         "legendgroup": "2016",
         "line": {
          "color": "#000004",
          "dash": "solid"
         },
         "marker": {
          "symbol": "circle"
         },
         "mode": "lines",
         "name": "2016",
         "orientation": "v",
         "showlegend": true,
         "type": "scatter",
         "x": [
          7,
          8,
          9,
          10,
          11,
          12
         ],
         "xaxis": "x9",
         "y": [
          38653,
          38201,
          37079,
          35979,
          33422,
          29399
         ],
         "yaxis": "y9"
        },
        {
         "hovertemplate": "year=2016<br>state=CO<br>month_num=%{x}<br>pending_listings=%{y}<extra></extra>",
         "legendgroup": "2016",
         "line": {
          "color": "#000004",
          "dash": "solid"
         },
         "marker": {
          "symbol": "circle"
         },
         "mode": "lines",
         "name": "2016",
         "orientation": "v",
         "showlegend": false,
         "type": "scatter",
         "x": [
          7,
          8,
          9,
          10,
          11,
          12
         ],
         "xaxis": "x10",
         "y": [
          6453,
          6518,
          6138,
          5796,
          5290,
          4382
         ],
         "yaxis": "y10"
        },
        {
         "hovertemplate": "year=2016<br>state=ID<br>month_num=%{x}<br>pending_listings=%{y}<extra></extra>",
         "legendgroup": "2016",
         "line": {
          "color": "#000004",
          "dash": "solid"
         },
         "marker": {
          "symbol": "circle"
         },
         "mode": "lines",
         "name": "2016",
         "orientation": "v",
         "showlegend": false,
         "type": "scatter",
         "x": [
          7,
          8,
          9,
          10,
          11,
          12
         ],
         "xaxis": "x11",
         "y": [
          649,
          675,
          622,
          534,
          453,
          383
         ],
         "yaxis": "y11"
        },
        {
         "hovertemplate": "year=2016<br>state=IL<br>month_num=%{x}<br>pending_listings=%{y}<extra></extra>",
         "legendgroup": "2016",
         "line": {
          "color": "#000004",
          "dash": "solid"
         },
         "marker": {
          "symbol": "circle"
         },
         "mode": "lines",
         "name": "2016",
         "orientation": "v",
         "showlegend": false,
         "type": "scatter",
         "x": [
          7,
          8,
          9,
          10,
          11,
          12
         ],
         "xaxis": "x12",
         "y": [
          29029,
          26713,
          24239,
          22466,
          20782,
          17995
         ],
         "yaxis": "y12"
        },
        {
         "hovertemplate": "year=2016<br>state=MI<br>month_num=%{x}<br>pending_listings=%{y}<extra></extra>",
         "legendgroup": "2016",
         "line": {
          "color": "#000004",
          "dash": "solid"
         },
         "marker": {
          "symbol": "circle"
         },
         "mode": "lines",
         "name": "2016",
         "orientation": "v",
         "showlegend": false,
         "type": "scatter",
         "x": [
          7,
          8,
          9,
          10,
          11,
          12
         ],
         "xaxis": "x5",
         "y": [
          3088,
          3040,
          2831,
          2039,
          1713,
          1428
         ],
         "yaxis": "y5"
        },
        {
         "hovertemplate": "year=2016<br>state=NE<br>month_num=%{x}<br>pending_listings=%{y}<extra></extra>",
         "legendgroup": "2016",
         "line": {
          "color": "#000004",
          "dash": "solid"
         },
         "marker": {
          "symbol": "circle"
         },
         "mode": "lines",
         "name": "2016",
         "orientation": "v",
         "showlegend": false,
         "type": "scatter",
         "x": [
          7,
          8,
          9,
          10,
          11,
          12
         ],
         "xaxis": "x6",
         "y": [
          3690,
          3497,
          3337,
          3036,
          2788,
          2476
         ],
         "yaxis": "y6"
        },
        {
         "hovertemplate": "year=2016<br>state=NY<br>month_num=%{x}<br>pending_listings=%{y}<extra></extra>",
         "legendgroup": "2016",
         "line": {
          "color": "#000004",
          "dash": "solid"
         },
         "marker": {
          "symbol": "circle"
         },
         "mode": "lines",
         "name": "2016",
         "orientation": "v",
         "showlegend": false,
         "type": "scatter",
         "x": [
          7,
          8,
          9,
          10,
          11,
          12
         ],
         "xaxis": "x7",
         "y": [
          15200,
          15092,
          14838,
          14356,
          14075,
          13198
         ],
         "yaxis": "y7"
        },
        {
         "hovertemplate": "year=2016<br>state=OR<br>month_num=%{x}<br>pending_listings=%{y}<extra></extra>",
         "legendgroup": "2016",
         "line": {
          "color": "#000004",
          "dash": "solid"
         },
         "marker": {
          "symbol": "circle"
         },
         "mode": "lines",
         "name": "2016",
         "orientation": "v",
         "showlegend": false,
         "type": "scatter",
         "x": [
          7,
          8,
          9,
          10,
          11,
          12
         ],
         "xaxis": "x8",
         "y": [
          1846,
          1854,
          1796,
          1659,
          620,
          564
         ],
         "yaxis": "y8"
        },
        {
         "hovertemplate": "year=2016<br>state=PA<br>month_num=%{x}<br>pending_listings=%{y}<extra></extra>",
         "legendgroup": "2016",
         "line": {
          "color": "#000004",
          "dash": "solid"
         },
         "marker": {
          "symbol": "circle"
         },
         "mode": "lines",
         "name": "2016",
         "orientation": "v",
         "showlegend": false,
         "type": "scatter",
         "x": [
          7,
          8,
          9,
          10,
          11,
          12
         ],
         "xaxis": "x",
         "y": [
          19921,
          18804,
          15080,
          16749,
          15865,
          13625
         ],
         "yaxis": "y"
        },
        {
         "hovertemplate": "year=2016<br>state=UT<br>month_num=%{x}<br>pending_listings=%{y}<extra></extra>",
         "legendgroup": "2016",
         "line": {
          "color": "#000004",
          "dash": "solid"
         },
         "marker": {
          "symbol": "circle"
         },
         "mode": "lines",
         "name": "2016",
         "orientation": "v",
         "showlegend": false,
         "type": "scatter",
         "x": [
          7,
          8,
          9,
          10,
          11,
          12
         ],
         "xaxis": "x2",
         "y": [
          7920,
          7844,
          7512,
          7015,
          6275,
          5483
         ],
         "yaxis": "y2"
        },
        {
         "hovertemplate": "year=2016<br>state=WI<br>month_num=%{x}<br>pending_listings=%{y}<extra></extra>",
         "legendgroup": "2016",
         "line": {
          "color": "#000004",
          "dash": "solid"
         },
         "marker": {
          "symbol": "circle"
         },
         "mode": "lines",
         "name": "2016",
         "orientation": "v",
         "showlegend": false,
         "type": "scatter",
         "x": [
          7,
          8,
          9,
          10,
          11,
          12
         ],
         "xaxis": "x3",
         "y": [
          4735,
          4567,
          4097,
          3773,
          3302,
          2650
         ],
         "yaxis": "y3"
        },
        {
         "hovertemplate": "year=2016<br>state=WY<br>month_num=%{x}<br>pending_listings=%{y}<extra></extra>",
         "legendgroup": "2016",
         "line": {
          "color": "#000004",
          "dash": "solid"
         },
         "marker": {
          "symbol": "circle"
         },
         "mode": "lines",
         "name": "2016",
         "orientation": "v",
         "showlegend": false,
         "type": "scatter",
         "x": [
          7,
          8,
          9,
          10,
          11,
          12
         ],
         "xaxis": "x4",
         "y": [
          537,
          544,
          506,
          454,
          424,
          352
         ],
         "yaxis": "y4"
        },
        {
         "hovertemplate": "year=2017<br>state=CA<br>month_num=%{x}<br>pending_listings=%{y}<extra></extra>",
         "legendgroup": "2017",
         "line": {
          "color": "#1b0c41",
          "dash": "solid"
         },
         "marker": {
          "symbol": "circle"
         },
         "mode": "lines",
         "name": "2017",
         "orientation": "v",
         "showlegend": true,
         "type": "scatter",
         "x": [
          1,
          2,
          3,
          4,
          5,
          6,
          7,
          8,
          9,
          10,
          11,
          12
         ],
         "xaxis": "x9",
         "y": [
          24499,
          28350,
          31967,
          35098,
          37339,
          36724,
          35444,
          34238,
          31742,
          31093,
          29598,
          25681
         ],
         "yaxis": "y9"
        },
        {
         "hovertemplate": "year=2017<br>state=CO<br>month_num=%{x}<br>pending_listings=%{y}<extra></extra>",
         "legendgroup": "2017",
         "line": {
          "color": "#1b0c41",
          "dash": "solid"
         },
         "marker": {
          "symbol": "circle"
         },
         "mode": "lines",
         "name": "2017",
         "orientation": "v",
         "showlegend": false,
         "type": "scatter",
         "x": [
          1,
          2,
          3,
          4,
          5,
          6,
          7,
          8,
          9,
          10,
          11,
          12
         ],
         "xaxis": "x10",
         "y": [
          3808,
          4462,
          5138,
          6014,
          6492,
          6291,
          6552,
          6414,
          6046,
          5614,
          5013,
          4352
         ],
         "yaxis": "y10"
        },
        {
         "hovertemplate": "year=2017<br>state=ID<br>month_num=%{x}<br>pending_listings=%{y}<extra></extra>",
         "legendgroup": "2017",
         "line": {
          "color": "#1b0c41",
          "dash": "solid"
         },
         "marker": {
          "symbol": "circle"
         },
         "mode": "lines",
         "name": "2017",
         "orientation": "v",
         "showlegend": false,
         "type": "scatter",
         "x": [
          1,
          2,
          3,
          4,
          5,
          6,
          7,
          8,
          9,
          10,
          11,
          12
         ],
         "xaxis": "x11",
         "y": [
          335,
          345,
          411,
          487,
          558,
          589,
          574,
          613,
          615,
          524,
          438,
          337
         ],
         "yaxis": "y11"
        },
        {
         "hovertemplate": "year=2017<br>state=IL<br>month_num=%{x}<br>pending_listings=%{y}<extra></extra>",
         "legendgroup": "2017",
         "line": {
          "color": "#1b0c41",
          "dash": "solid"
         },
         "marker": {
          "symbol": "circle"
         },
         "mode": "lines",
         "name": "2017",
         "orientation": "v",
         "showlegend": false,
         "type": "scatter",
         "x": [
          1,
          2,
          3,
          4,
          5,
          6,
          7,
          8,
          9,
          10,
          11,
          12
         ],
         "xaxis": "x12",
         "y": [
          16666,
          20635,
          25690,
          29584,
          31347,
          30043,
          27396,
          24234,
          21909,
          20466,
          19261,
          16844
         ],
         "yaxis": "y12"
        },
        {
         "hovertemplate": "year=2017<br>state=MI<br>month_num=%{x}<br>pending_listings=%{y}<extra></extra>",
         "legendgroup": "2017",
         "line": {
          "color": "#1b0c41",
          "dash": "solid"
         },
         "marker": {
          "symbol": "circle"
         },
         "mode": "lines",
         "name": "2017",
         "orientation": "v",
         "showlegend": false,
         "type": "scatter",
         "x": [
          1,
          2,
          3,
          4,
          5,
          6,
          7,
          8,
          9,
          10,
          11,
          12
         ],
         "xaxis": "x5",
         "y": [
          1264,
          1495,
          1838,
          2174,
          2564,
          2932,
          3081,
          2967,
          2796,
          2520,
          2251,
          1798
         ],
         "yaxis": "y5"
        },
        {
         "hovertemplate": "year=2017<br>state=NE<br>month_num=%{x}<br>pending_listings=%{y}<extra></extra>",
         "legendgroup": "2017",
         "line": {
          "color": "#1b0c41",
          "dash": "solid"
         },
         "marker": {
          "symbol": "circle"
         },
         "mode": "lines",
         "name": "2017",
         "orientation": "v",
         "showlegend": false,
         "type": "scatter",
         "x": [
          1,
          2,
          3,
          4,
          5,
          6,
          7,
          8,
          9,
          10,
          11,
          12
         ],
         "xaxis": "x6",
         "y": [
          2231,
          2610,
          3080,
          3659,
          3964,
          3773,
          3539,
          3326,
          3114,
          2935,
          2829,
          2538
         ],
         "yaxis": "y6"
        },
        {
         "hovertemplate": "year=2017<br>state=NY<br>month_num=%{x}<br>pending_listings=%{y}<extra></extra>",
         "legendgroup": "2017",
         "line": {
          "color": "#1b0c41",
          "dash": "solid"
         },
         "marker": {
          "symbol": "circle"
         },
         "mode": "lines",
         "name": "2017",
         "orientation": "v",
         "showlegend": false,
         "type": "scatter",
         "x": [
          1,
          2,
          3,
          4,
          5,
          6,
          7,
          8,
          9,
          10,
          11,
          12
         ],
         "xaxis": "x7",
         "y": [
          12392,
          12466,
          13480,
          14602,
          15635,
          15650,
          15462,
          13999,
          13587,
          13717,
          13256,
          12397
         ],
         "yaxis": "y7"
        },
        {
         "hovertemplate": "year=2017<br>state=OR<br>month_num=%{x}<br>pending_listings=%{y}<extra></extra>",
         "legendgroup": "2017",
         "line": {
          "color": "#1b0c41",
          "dash": "solid"
         },
         "marker": {
          "symbol": "circle"
         },
         "mode": "lines",
         "name": "2017",
         "orientation": "v",
         "showlegend": false,
         "type": "scatter",
         "x": [
          1,
          2,
          3,
          4,
          5,
          6,
          7,
          8,
          9,
          10,
          11,
          12
         ],
         "xaxis": "x8",
         "y": [
          499,
          498,
          1357,
          1516,
          1590,
          1633,
          2709,
          2677,
          2503,
          2306,
          2081,
          1798
         ],
         "yaxis": "y8"
        },
        {
         "hovertemplate": "year=2017<br>state=PA<br>month_num=%{x}<br>pending_listings=%{y}<extra></extra>",
         "legendgroup": "2017",
         "line": {
          "color": "#1b0c41",
          "dash": "solid"
         },
         "marker": {
          "symbol": "circle"
         },
         "mode": "lines",
         "name": "2017",
         "orientation": "v",
         "showlegend": false,
         "type": "scatter",
         "x": [
          1,
          2,
          3,
          4,
          5,
          6,
          7,
          8,
          9,
          10,
          11,
          12
         ],
         "xaxis": "x",
         "y": [
          12453,
          14734,
          17760,
          20632,
          22388,
          21687,
          19987,
          18712,
          17481,
          15933,
          6232,
          5384
         ],
         "yaxis": "y"
        },
        {
         "hovertemplate": "year=2017<br>state=UT<br>month_num=%{x}<br>pending_listings=%{y}<extra></extra>",
         "legendgroup": "2017",
         "line": {
          "color": "#1b0c41",
          "dash": "solid"
         },
         "marker": {
          "symbol": "circle"
         },
         "mode": "lines",
         "name": "2017",
         "orientation": "v",
         "showlegend": false,
         "type": "scatter",
         "x": [
          1,
          2,
          3,
          4,
          5,
          6,
          7,
          8,
          9,
          10,
          11,
          12
         ],
         "xaxis": "x2",
         "y": [
          4954,
          5675,
          6609,
          7270,
          7565,
          8071,
          7862,
          7851,
          7522,
          7097,
          6667,
          6058
         ],
         "yaxis": "y2"
        },
        {
         "hovertemplate": "year=2017<br>state=WI<br>month_num=%{x}<br>pending_listings=%{y}<extra></extra>",
         "legendgroup": "2017",
         "line": {
          "color": "#1b0c41",
          "dash": "solid"
         },
         "marker": {
          "symbol": "circle"
         },
         "mode": "lines",
         "name": "2017",
         "orientation": "v",
         "showlegend": false,
         "type": "scatter",
         "x": [
          1,
          2,
          3,
          4,
          5,
          6,
          7,
          8,
          9,
          10,
          11,
          12
         ],
         "xaxis": "x3",
         "y": [
          2344,
          2973,
          3885,
          7267,
          7616,
          7438,
          6801,
          6477,
          6037,
          5383,
          4597,
          3698
         ],
         "yaxis": "y3"
        },
        {
         "hovertemplate": "year=2017<br>state=WY<br>month_num=%{x}<br>pending_listings=%{y}<extra></extra>",
         "legendgroup": "2017",
         "line": {
          "color": "#1b0c41",
          "dash": "solid"
         },
         "marker": {
          "symbol": "circle"
         },
         "mode": "lines",
         "name": "2017",
         "orientation": "v",
         "showlegend": false,
         "type": "scatter",
         "x": [
          1,
          2,
          3,
          4,
          5,
          6,
          7,
          8,
          9,
          10,
          11,
          12
         ],
         "xaxis": "x4",
         "y": [
          326,
          409,
          478,
          542,
          583,
          563,
          561,
          545,
          395,
          368,
          341,
          308
         ],
         "yaxis": "y4"
        },
        {
         "hovertemplate": "year=2018<br>state=CA<br>month_num=%{x}<br>pending_listings=%{y}<extra></extra>",
         "legendgroup": "2018",
         "line": {
          "color": "#4a0c6b",
          "dash": "solid"
         },
         "marker": {
          "symbol": "circle"
         },
         "mode": "lines",
         "name": "2018",
         "orientation": "v",
         "showlegend": true,
         "type": "scatter",
         "x": [
          1,
          2,
          3,
          4,
          5,
          6,
          7,
          8,
          9,
          10,
          11,
          12
         ],
         "xaxis": "x9",
         "y": [
          20935,
          25650,
          29748,
          31086,
          32808,
          32188,
          30070,
          36889,
          35034,
          33750,
          31248,
          27741
         ],
         "yaxis": "y9"
        },
        {
         "hovertemplate": "year=2018<br>state=CO<br>month_num=%{x}<br>pending_listings=%{y}<extra></extra>",
         "legendgroup": "2018",
         "line": {
          "color": "#4a0c6b",
          "dash": "solid"
         },
         "marker": {
          "symbol": "circle"
         },
         "mode": "lines",
         "name": "2018",
         "orientation": "v",
         "showlegend": false,
         "type": "scatter",
         "x": [
          1,
          2,
          3,
          4,
          5,
          6,
          7,
          8,
          9,
          10,
          11,
          12
         ],
         "xaxis": "x10",
         "y": [
          3870,
          4504,
          5108,
          12826,
          13877,
          13507,
          12875,
          12171,
          11407,
          10698,
          9859,
          8710
         ],
         "yaxis": "y10"
        },
        {
         "hovertemplate": "year=2018<br>state=ID<br>month_num=%{x}<br>pending_listings=%{y}<extra></extra>",
         "legendgroup": "2018",
         "line": {
          "color": "#4a0c6b",
          "dash": "solid"
         },
         "marker": {
          "symbol": "circle"
         },
         "mode": "lines",
         "name": "2018",
         "orientation": "v",
         "showlegend": false,
         "type": "scatter",
         "x": [
          1,
          2,
          3,
          4,
          5,
          6,
          7,
          8,
          9,
          10,
          11,
          12
         ],
         "xaxis": "x11",
         "y": [
          312,
          409,
          451,
          478,
          515,
          524,
          532,
          596,
          628,
          497,
          432,
          386
         ],
         "yaxis": "y11"
        },
        {
         "hovertemplate": "year=2018<br>state=IL<br>month_num=%{x}<br>pending_listings=%{y}<extra></extra>",
         "legendgroup": "2018",
         "line": {
          "color": "#4a0c6b",
          "dash": "solid"
         },
         "marker": {
          "symbol": "circle"
         },
         "mode": "lines",
         "name": "2018",
         "orientation": "v",
         "showlegend": false,
         "type": "scatter",
         "x": [
          1,
          2,
          3,
          4,
          5,
          6,
          7,
          8,
          9,
          10,
          11,
          12
         ],
         "xaxis": "x12",
         "y": [
          15163,
          19046,
          23928,
          28191,
          29658,
          27727,
          25552,
          23298,
          21462,
          19587,
          17895,
          15206
         ],
         "yaxis": "y12"
        },
        {
         "hovertemplate": "year=2018<br>state=MI<br>month_num=%{x}<br>pending_listings=%{y}<extra></extra>",
         "legendgroup": "2018",
         "line": {
          "color": "#4a0c6b",
          "dash": "solid"
         },
         "marker": {
          "symbol": "circle"
         },
         "mode": "lines",
         "name": "2018",
         "orientation": "v",
         "showlegend": false,
         "type": "scatter",
         "x": [
          1,
          2,
          3,
          4,
          5,
          6,
          7,
          8,
          9,
          10,
          11,
          12
         ],
         "xaxis": "x5",
         "y": [
          1499,
          1779,
          2278,
          2806,
          4307,
          4467,
          4525,
          4468,
          5797,
          5253,
          4671,
          3910
         ],
         "yaxis": "y5"
        },
        {
         "hovertemplate": "year=2018<br>state=NE<br>month_num=%{x}<br>pending_listings=%{y}<extra></extra>",
         "legendgroup": "2018",
         "line": {
          "color": "#4a0c6b",
          "dash": "solid"
         },
         "marker": {
          "symbol": "circle"
         },
         "mode": "lines",
         "name": "2018",
         "orientation": "v",
         "showlegend": false,
         "type": "scatter",
         "x": [
          1,
          2,
          3,
          4,
          5,
          6,
          7,
          8,
          9,
          10,
          11,
          12
         ],
         "xaxis": "x6",
         "y": [
          2270,
          2633,
          3101,
          3822,
          4068,
          1348,
          1295,
          1337,
          1247,
          1174,
          1051,
          938
         ],
         "yaxis": "y6"
        },
        {
         "hovertemplate": "year=2018<br>state=NY<br>month_num=%{x}<br>pending_listings=%{y}<extra></extra>",
         "legendgroup": "2018",
         "line": {
          "color": "#4a0c6b",
          "dash": "solid"
         },
         "marker": {
          "symbol": "circle"
         },
         "mode": "lines",
         "name": "2018",
         "orientation": "v",
         "showlegend": false,
         "type": "scatter",
         "x": [
          1,
          2,
          3,
          4,
          5,
          6,
          7,
          8,
          9,
          10,
          11,
          12
         ],
         "xaxis": "x7",
         "y": [
          11171,
          11247,
          11932,
          13416,
          14083,
          14585,
          14326,
          13969,
          13559,
          12902,
          12556,
          11879
         ],
         "yaxis": "y7"
        },
        {
         "hovertemplate": "year=2018<br>state=OR<br>month_num=%{x}<br>pending_listings=%{y}<extra></extra>",
         "legendgroup": "2018",
         "line": {
          "color": "#4a0c6b",
          "dash": "solid"
         },
         "marker": {
          "symbol": "circle"
         },
         "mode": "lines",
         "name": "2018",
         "orientation": "v",
         "showlegend": false,
         "type": "scatter",
         "x": [
          1,
          2,
          3,
          4,
          5,
          6,
          7,
          8,
          9,
          10,
          11,
          12
         ],
         "xaxis": "x8",
         "y": [
          1720,
          1964,
          2020,
          2242,
          2412,
          2510,
          2410,
          2349,
          2222,
          1971,
          1790,
          1525
         ],
         "yaxis": "y8"
        },
        {
         "hovertemplate": "year=2018<br>state=PA<br>month_num=%{x}<br>pending_listings=%{y}<extra></extra>",
         "legendgroup": "2018",
         "line": {
          "color": "#4a0c6b",
          "dash": "solid"
         },
         "marker": {
          "symbol": "circle"
         },
         "mode": "lines",
         "name": "2018",
         "orientation": "v",
         "showlegend": false,
         "type": "scatter",
         "x": [
          1,
          2,
          3,
          4,
          5,
          6,
          7,
          8,
          9,
          10,
          11,
          12
         ],
         "xaxis": "x",
         "y": [
          4700,
          5575,
          7862,
          9225,
          9949,
          9595,
          9291,
          9004,
          8273,
          7881,
          7503,
          6537
         ],
         "yaxis": "y"
        },
        {
         "hovertemplate": "year=2018<br>state=UT<br>month_num=%{x}<br>pending_listings=%{y}<extra></extra>",
         "legendgroup": "2018",
         "line": {
          "color": "#4a0c6b",
          "dash": "solid"
         },
         "marker": {
          "symbol": "circle"
         },
         "mode": "lines",
         "name": "2018",
         "orientation": "v",
         "showlegend": false,
         "type": "scatter",
         "x": [
          1,
          2,
          3,
          4,
          5,
          6,
          7,
          8,
          9,
          10,
          11,
          12
         ],
         "xaxis": "x2",
         "y": [
          5732,
          6559,
          7129,
          7695,
          8172,
          8126,
          7835,
          7595,
          7250,
          6786,
          6411,
          5625
         ],
         "yaxis": "y2"
        },
        {
         "hovertemplate": "year=2018<br>state=WI<br>month_num=%{x}<br>pending_listings=%{y}<extra></extra>",
         "legendgroup": "2018",
         "line": {
          "color": "#4a0c6b",
          "dash": "solid"
         },
         "marker": {
          "symbol": "circle"
         },
         "mode": "lines",
         "name": "2018",
         "orientation": "v",
         "showlegend": false,
         "type": "scatter",
         "x": [
          1,
          2,
          3,
          4,
          5,
          6,
          7,
          8,
          9,
          10,
          11,
          12
         ],
         "xaxis": "x3",
         "y": [
          3391,
          4292,
          5554,
          9433,
          10221,
          10086,
          9670,
          9230,
          8234,
          7398,
          6441,
          5090
         ],
         "yaxis": "y3"
        },
        {
         "hovertemplate": "year=2018<br>state=WY<br>month_num=%{x}<br>pending_listings=%{y}<extra></extra>",
         "legendgroup": "2018",
         "line": {
          "color": "#4a0c6b",
          "dash": "solid"
         },
         "marker": {
          "symbol": "circle"
         },
         "mode": "lines",
         "name": "2018",
         "orientation": "v",
         "showlegend": false,
         "type": "scatter",
         "x": [
          1,
          2,
          3,
          4,
          5,
          6,
          7,
          8,
          9,
          10,
          11,
          12
         ],
         "xaxis": "x4",
         "y": [
          369,
          545,
          593,
          677,
          724,
          710,
          666,
          661,
          619,
          590,
          524,
          468
         ],
         "yaxis": "y4"
        },
        {
         "hovertemplate": "year=2019<br>state=CA<br>month_num=%{x}<br>pending_listings=%{y}<extra></extra>",
         "legendgroup": "2019",
         "line": {
          "color": "#781c6d",
          "dash": "solid"
         },
         "marker": {
          "symbol": "circle"
         },
         "mode": "lines",
         "name": "2019",
         "orientation": "v",
         "showlegend": true,
         "type": "scatter",
         "x": [
          1,
          2,
          3,
          4,
          5,
          6,
          7,
          8,
          9,
          10,
          11,
          12
         ],
         "xaxis": "x9",
         "y": [
          23511,
          29294,
          34632,
          38793,
          40567,
          44324,
          44188,
          43387,
          42103,
          41214,
          39484,
          34158
         ],
         "yaxis": "y9"
        },
        {
         "hovertemplate": "year=2019<br>state=CO<br>month_num=%{x}<br>pending_listings=%{y}<extra></extra>",
         "legendgroup": "2019",
         "line": {
          "color": "#781c6d",
          "dash": "solid"
         },
         "marker": {
          "symbol": "circle"
         },
         "mode": "lines",
         "name": "2019",
         "orientation": "v",
         "showlegend": false,
         "type": "scatter",
         "x": [
          1,
          2,
          3,
          4,
          5,
          6,
          7,
          8,
          9,
          10,
          11,
          12
         ],
         "xaxis": "x10",
         "y": [
          7730,
          9872,
          11653,
          13191,
          14070,
          13760,
          13434,
          13104,
          12695,
          12370,
          10687,
          8549
         ],
         "yaxis": "y10"
        },
        {
         "hovertemplate": "year=2019<br>state=ID<br>month_num=%{x}<br>pending_listings=%{y}<extra></extra>",
         "legendgroup": "2019",
         "line": {
          "color": "#781c6d",
          "dash": "solid"
         },
         "marker": {
          "symbol": "circle"
         },
         "mode": "lines",
         "name": "2019",
         "orientation": "v",
         "showlegend": false,
         "type": "scatter",
         "x": [
          1,
          2,
          3,
          4,
          5,
          6,
          7,
          8,
          9,
          10,
          11,
          12
         ],
         "xaxis": "x11",
         "y": [
          420,
          575,
          647,
          706,
          772,
          856,
          852,
          854,
          846,
          878,
          784,
          628
         ],
         "yaxis": "y11"
        },
        {
         "hovertemplate": "year=2019<br>state=IL<br>month_num=%{x}<br>pending_listings=%{y}<extra></extra>",
         "legendgroup": "2019",
         "line": {
          "color": "#781c6d",
          "dash": "solid"
         },
         "marker": {
          "symbol": "circle"
         },
         "mode": "lines",
         "name": "2019",
         "orientation": "v",
         "showlegend": false,
         "type": "scatter",
         "x": [
          1,
          2,
          3,
          4,
          5,
          6,
          7,
          8,
          9,
          10,
          11,
          12
         ],
         "xaxis": "x12",
         "y": [
          14139,
          17234,
          21833,
          26541,
          28003,
          26630,
          25222,
          23392,
          21473,
          19999,
          18439,
          15760
         ],
         "yaxis": "y12"
        },
        {
         "hovertemplate": "year=2019<br>state=MI<br>month_num=%{x}<br>pending_listings=%{y}<extra></extra>",
         "legendgroup": "2019",
         "line": {
          "color": "#781c6d",
          "dash": "solid"
         },
         "marker": {
          "symbol": "circle"
         },
         "mode": "lines",
         "name": "2019",
         "orientation": "v",
         "showlegend": false,
         "type": "scatter",
         "x": [
          1,
          2,
          3,
          4,
          5,
          6,
          7,
          8,
          9,
          10,
          11,
          12
         ],
         "xaxis": "x5",
         "y": [
          3612,
          4137,
          4756,
          5475,
          6028,
          6164,
          6172,
          5969,
          5654,
          5761,
          5381,
          4214
         ],
         "yaxis": "y5"
        },
        {
         "hovertemplate": "year=2019<br>state=NE<br>month_num=%{x}<br>pending_listings=%{y}<extra></extra>",
         "legendgroup": "2019",
         "line": {
          "color": "#781c6d",
          "dash": "solid"
         },
         "marker": {
          "symbol": "circle"
         },
         "mode": "lines",
         "name": "2019",
         "orientation": "v",
         "showlegend": false,
         "type": "scatter",
         "x": [
          1,
          2,
          3,
          4,
          5,
          6,
          7,
          8,
          9,
          10,
          11,
          12
         ],
         "xaxis": "x6",
         "y": [
          902,
          1063,
          792,
          388,
          445,
          471,
          445,
          430,
          404,
          381,
          2741,
          2462
         ],
         "yaxis": "y6"
        },
        {
         "hovertemplate": "year=2019<br>state=NY<br>month_num=%{x}<br>pending_listings=%{y}<extra></extra>",
         "legendgroup": "2019",
         "line": {
          "color": "#781c6d",
          "dash": "solid"
         },
         "marker": {
          "symbol": "circle"
         },
         "mode": "lines",
         "name": "2019",
         "orientation": "v",
         "showlegend": false,
         "type": "scatter",
         "x": [
          1,
          2,
          3,
          4,
          5,
          6,
          7,
          8,
          9,
          10,
          11,
          12
         ],
         "xaxis": "x7",
         "y": [
          10932,
          11121,
          11519,
          11941,
          13639,
          14786,
          14896,
          17557,
          21398,
          24115,
          25162,
          23604
         ],
         "yaxis": "y7"
        },
        {
         "hovertemplate": "year=2019<br>state=OR<br>month_num=%{x}<br>pending_listings=%{y}<extra></extra>",
         "legendgroup": "2019",
         "line": {
          "color": "#781c6d",
          "dash": "solid"
         },
         "marker": {
          "symbol": "circle"
         },
         "mode": "lines",
         "name": "2019",
         "orientation": "v",
         "showlegend": false,
         "type": "scatter",
         "x": [
          1,
          2,
          3,
          4,
          5,
          6,
          7,
          8,
          9,
          10,
          11,
          12
         ],
         "xaxis": "x8",
         "y": [
          1389,
          1685,
          1885,
          2082,
          2256,
          2381,
          2463,
          2461,
          2342,
          2190,
          7127,
          6190
         ],
         "yaxis": "y8"
        },
        {
         "hovertemplate": "year=2019<br>state=PA<br>month_num=%{x}<br>pending_listings=%{y}<extra></extra>",
         "legendgroup": "2019",
         "line": {
          "color": "#781c6d",
          "dash": "solid"
         },
         "marker": {
          "symbol": "circle"
         },
         "mode": "lines",
         "name": "2019",
         "orientation": "v",
         "showlegend": false,
         "type": "scatter",
         "x": [
          1,
          2,
          3,
          4,
          5,
          6,
          7,
          8,
          9,
          10,
          11,
          12
         ],
         "xaxis": "x",
         "y": [
          6421,
          7956,
          9977,
          11794,
          12588,
          12343,
          11442,
          10487,
          9826,
          9449,
          8968,
          7318
         ],
         "yaxis": "y"
        },
        {
         "hovertemplate": "year=2019<br>state=UT<br>month_num=%{x}<br>pending_listings=%{y}<extra></extra>",
         "legendgroup": "2019",
         "line": {
          "color": "#781c6d",
          "dash": "solid"
         },
         "marker": {
          "symbol": "circle"
         },
         "mode": "lines",
         "name": "2019",
         "orientation": "v",
         "showlegend": false,
         "type": "scatter",
         "x": [
          1,
          2,
          3,
          4,
          5,
          6,
          7,
          8,
          9,
          10,
          11,
          12
         ],
         "xaxis": "x2",
         "y": [
          5229,
          6143,
          7037,
          7620,
          7882,
          7995,
          7897,
          7661,
          7307,
          6984,
          6492,
          5686
         ],
         "yaxis": "y2"
        },
        {
         "hovertemplate": "year=2019<br>state=WI<br>month_num=%{x}<br>pending_listings=%{y}<extra></extra>",
         "legendgroup": "2019",
         "line": {
          "color": "#781c6d",
          "dash": "solid"
         },
         "marker": {
          "symbol": "circle"
         },
         "mode": "lines",
         "name": "2019",
         "orientation": "v",
         "showlegend": false,
         "type": "scatter",
         "x": [
          1,
          2,
          3,
          4,
          5,
          6,
          7,
          8,
          9,
          10,
          11,
          12
         ],
         "xaxis": "x3",
         "y": [
          4830,
          5603,
          7470,
          8940,
          10041,
          10236,
          9705,
          9142,
          8497,
          7911,
          6704,
          4945
         ],
         "yaxis": "y3"
        },
        {
         "hovertemplate": "year=2019<br>state=WY<br>month_num=%{x}<br>pending_listings=%{y}<extra></extra>",
         "legendgroup": "2019",
         "line": {
          "color": "#781c6d",
          "dash": "solid"
         },
         "marker": {
          "symbol": "circle"
         },
         "mode": "lines",
         "name": "2019",
         "orientation": "v",
         "showlegend": false,
         "type": "scatter",
         "x": [
          1,
          2,
          3,
          4,
          5,
          6,
          7,
          8,
          9,
          10,
          11,
          12
         ],
         "xaxis": "x4",
         "y": [
          500,
          582,
          620,
          617,
          751,
          790,
          737,
          707,
          695,
          664,
          614,
          556
         ],
         "yaxis": "y4"
        },
        {
         "hovertemplate": "year=2020<br>state=CA<br>month_num=%{x}<br>pending_listings=%{y}<extra></extra>",
         "legendgroup": "2020",
         "line": {
          "color": "#a52c60",
          "dash": "solid"
         },
         "marker": {
          "symbol": "circle"
         },
         "mode": "lines",
         "name": "2020",
         "orientation": "v",
         "showlegend": true,
         "type": "scatter",
         "x": [
          1,
          2,
          3,
          4,
          5,
          6,
          7,
          8,
          9,
          10,
          11,
          12
         ],
         "xaxis": "x9",
         "y": [
          29611,
          37698,
          41267,
          29996,
          33383,
          46333,
          52271,
          55091,
          54753,
          53359,
          50454,
          44637
         ],
         "yaxis": "y9"
        },
        {
         "hovertemplate": "year=2020<br>state=CO<br>month_num=%{x}<br>pending_listings=%{y}<extra></extra>",
         "legendgroup": "2020",
         "line": {
          "color": "#a52c60",
          "dash": "solid"
         },
         "marker": {
          "symbol": "circle"
         },
         "mode": "lines",
         "name": "2020",
         "orientation": "v",
         "showlegend": false,
         "type": "scatter",
         "x": [
          1,
          2,
          3,
          4,
          5,
          6,
          7,
          8,
          9,
          10,
          11,
          12
         ],
         "xaxis": "x10",
         "y": [
          7374,
          9376,
          10170,
          8598,
          10048,
          15702,
          16245,
          16496,
          16301,
          15261,
          12981,
          10835
         ],
         "yaxis": "y10"
        },
        {
         "hovertemplate": "year=2020<br>state=ID<br>month_num=%{x}<br>pending_listings=%{y}<extra></extra>",
         "legendgroup": "2020",
         "line": {
          "color": "#a52c60",
          "dash": "solid"
         },
         "marker": {
          "symbol": "circle"
         },
         "mode": "lines",
         "name": "2020",
         "orientation": "v",
         "showlegend": false,
         "type": "scatter",
         "x": [
          1,
          2,
          3,
          4,
          5,
          6,
          7,
          8,
          9,
          10,
          11,
          12
         ],
         "xaxis": "x11",
         "y": [
          596,
          706,
          735,
          521,
          3900,
          5085,
          5287,
          5653,
          5533,
          5157,
          4677,
          3972
         ],
         "yaxis": "y11"
        },
        {
         "hovertemplate": "year=2020<br>state=IL<br>month_num=%{x}<br>pending_listings=%{y}<extra></extra>",
         "legendgroup": "2020",
         "line": {
          "color": "#a52c60",
          "dash": "solid"
         },
         "marker": {
          "symbol": "circle"
         },
         "mode": "lines",
         "name": "2020",
         "orientation": "v",
         "showlegend": false,
         "type": "scatter",
         "x": [
          1,
          2,
          3,
          4,
          5,
          6,
          7,
          8,
          9,
          10,
          11,
          12
         ],
         "xaxis": "x12",
         "y": [
          15007,
          20086,
          24527,
          21389,
          22719,
          29029,
          32000,
          31850,
          30546,
          28152,
          24783,
          21133
         ],
         "yaxis": "y12"
        },
        {
         "hovertemplate": "year=2020<br>state=MI<br>month_num=%{x}<br>pending_listings=%{y}<extra></extra>",
         "legendgroup": "2020",
         "line": {
          "color": "#a52c60",
          "dash": "solid"
         },
         "marker": {
          "symbol": "circle"
         },
         "mode": "lines",
         "name": "2020",
         "orientation": "v",
         "showlegend": false,
         "type": "scatter",
         "x": [
          1,
          2,
          3,
          4,
          5,
          6,
          7,
          8,
          9,
          10,
          11,
          12
         ],
         "xaxis": "x5",
         "y": [
          4034,
          6941,
          9575,
          7656,
          8585,
          14780,
          16085,
          16567,
          16316,
          14900,
          12628,
          10309
         ],
         "yaxis": "y5"
        },
        {
         "hovertemplate": "year=2020<br>state=NE<br>month_num=%{x}<br>pending_listings=%{y}<extra></extra>",
         "legendgroup": "2020",
         "line": {
          "color": "#a52c60",
          "dash": "solid"
         },
         "marker": {
          "symbol": "circle"
         },
         "mode": "lines",
         "name": "2020",
         "orientation": "v",
         "showlegend": false,
         "type": "scatter",
         "x": [
          1,
          2,
          3,
          4,
          5,
          6,
          7,
          8,
          9,
          10,
          11,
          12
         ],
         "xaxis": "x6",
         "y": [
          2289,
          2992,
          3504,
          3716,
          4287,
          4825,
          4831,
          4685,
          4684,
          4556,
          4117,
          3650
         ],
         "yaxis": "y6"
        },
        {
         "hovertemplate": "year=2020<br>state=NY<br>month_num=%{x}<br>pending_listings=%{y}<extra></extra>",
         "legendgroup": "2020",
         "line": {
          "color": "#a52c60",
          "dash": "solid"
         },
         "marker": {
          "symbol": "circle"
         },
         "mode": "lines",
         "name": "2020",
         "orientation": "v",
         "showlegend": false,
         "type": "scatter",
         "x": [
          1,
          2,
          3,
          4,
          5,
          6,
          7,
          8,
          9,
          10,
          11,
          12
         ],
         "xaxis": "x7",
         "y": [
          21645,
          21698,
          24098,
          26376,
          23387,
          26068,
          30656,
          35795,
          38006,
          39178,
          37204,
          33697
         ],
         "yaxis": "y7"
        },
        {
         "hovertemplate": "year=2020<br>state=OR<br>month_num=%{x}<br>pending_listings=%{y}<extra></extra>",
         "legendgroup": "2020",
         "line": {
          "color": "#a52c60",
          "dash": "solid"
         },
         "marker": {
          "symbol": "circle"
         },
         "mode": "lines",
         "name": "2020",
         "orientation": "v",
         "showlegend": false,
         "type": "scatter",
         "x": [
          1,
          2,
          3,
          4,
          5,
          6,
          7,
          8,
          9,
          10,
          11,
          12
         ],
         "xaxis": "x8",
         "y": [
          5659,
          6771,
          7458,
          6414,
          8058,
          10287,
          11327,
          11857,
          11626,
          10773,
          10212,
          8558
         ],
         "yaxis": "y8"
        },
        {
         "hovertemplate": "year=2020<br>state=PA<br>month_num=%{x}<br>pending_listings=%{y}<extra></extra>",
         "legendgroup": "2020",
         "line": {
          "color": "#a52c60",
          "dash": "solid"
         },
         "marker": {
          "symbol": "circle"
         },
         "mode": "lines",
         "name": "2020",
         "orientation": "v",
         "showlegend": false,
         "type": "scatter",
         "x": [
          1,
          2,
          3,
          4,
          5,
          6,
          7,
          8,
          9,
          10,
          11,
          12
         ],
         "xaxis": "x",
         "y": [
          6817,
          8685,
          9890,
          7513,
          6621,
          13112,
          14545,
          14156,
          13986,
          24148,
          21926,
          18417
         ],
         "yaxis": "y"
        },
        {
         "hovertemplate": "year=2020<br>state=UT<br>month_num=%{x}<br>pending_listings=%{y}<extra></extra>",
         "legendgroup": "2020",
         "line": {
          "color": "#a52c60",
          "dash": "solid"
         },
         "marker": {
          "symbol": "circle"
         },
         "mode": "lines",
         "name": "2020",
         "orientation": "v",
         "showlegend": false,
         "type": "scatter",
         "x": [
          1,
          2,
          3,
          4,
          5,
          6,
          7,
          8,
          9,
          10,
          11,
          12
         ],
         "xaxis": "x2",
         "y": [
          5404,
          6525,
          7219,
          6913,
          8277,
          9591,
          9779,
          10083,
          9982,
          9844,
          9031,
          8018
         ],
         "yaxis": "y2"
        },
        {
         "hovertemplate": "year=2020<br>state=WI<br>month_num=%{x}<br>pending_listings=%{y}<extra></extra>",
         "legendgroup": "2020",
         "line": {
          "color": "#a52c60",
          "dash": "solid"
         },
         "marker": {
          "symbol": "circle"
         },
         "mode": "lines",
         "name": "2020",
         "orientation": "v",
         "showlegend": false,
         "type": "scatter",
         "x": [
          1,
          2,
          3,
          4,
          5,
          6,
          7,
          8,
          9,
          10,
          11,
          12
         ],
         "xaxis": "x3",
         "y": [
          4605,
          6247,
          7865,
          7745,
          9272,
          11298,
          11717,
          11864,
          11506,
          10549,
          8829,
          6946
         ],
         "yaxis": "y3"
        },
        {
         "hovertemplate": "year=2020<br>state=WY<br>month_num=%{x}<br>pending_listings=%{y}<extra></extra>",
         "legendgroup": "2020",
         "line": {
          "color": "#a52c60",
          "dash": "solid"
         },
         "marker": {
          "symbol": "circle"
         },
         "mode": "lines",
         "name": "2020",
         "orientation": "v",
         "showlegend": false,
         "type": "scatter",
         "x": [
          1,
          2,
          3,
          4,
          5,
          6,
          7,
          8,
          9,
          10,
          11,
          12
         ],
         "xaxis": "x4",
         "y": [
          538,
          714,
          742,
          688,
          809,
          930,
          1100,
          1196,
          1190,
          1109,
          963,
          767
         ],
         "yaxis": "y4"
        },
        {
         "hovertemplate": "year=2021<br>state=CA<br>month_num=%{x}<br>pending_listings=%{y}<extra></extra>",
         "legendgroup": "2021",
         "line": {
          "color": "#cf4446",
          "dash": "solid"
         },
         "marker": {
          "symbol": "circle"
         },
         "mode": "lines",
         "name": "2021",
         "orientation": "v",
         "showlegend": true,
         "type": "scatter",
         "x": [
          1,
          2,
          3,
          4,
          5,
          6,
          7,
          8,
          9,
          10,
          11,
          12
         ],
         "xaxis": "x9",
         "y": [
          38368,
          43335,
          46677,
          47845,
          49142,
          49355,
          47162,
          46659,
          46190,
          45785,
          43382,
          37544
         ],
         "yaxis": "y9"
        },
        {
         "hovertemplate": "year=2021<br>state=CO<br>month_num=%{x}<br>pending_listings=%{y}<extra></extra>",
         "legendgroup": "2021",
         "line": {
          "color": "#cf4446",
          "dash": "solid"
         },
         "marker": {
          "symbol": "circle"
         },
         "mode": "lines",
         "name": "2021",
         "orientation": "v",
         "showlegend": false,
         "type": "scatter",
         "x": [
          1,
          2,
          3,
          4,
          5,
          6,
          7,
          8,
          9,
          10,
          11,
          12
         ],
         "xaxis": "x10",
         "y": [
          9348,
          11414,
          11964,
          12570,
          13301,
          13817,
          13441,
          13433,
          13077,
          12794,
          11815,
          8546
         ],
         "yaxis": "y10"
        },
        {
         "hovertemplate": "year=2021<br>state=ID<br>month_num=%{x}<br>pending_listings=%{y}<extra></extra>",
         "legendgroup": "2021",
         "line": {
          "color": "#cf4446",
          "dash": "solid"
         },
         "marker": {
          "symbol": "circle"
         },
         "mode": "lines",
         "name": "2021",
         "orientation": "v",
         "showlegend": false,
         "type": "scatter",
         "x": [
          1,
          2,
          3,
          4,
          5,
          6,
          7,
          8,
          9,
          10,
          11,
          12
         ],
         "xaxis": "x11",
         "y": [
          3645,
          4069,
          4314,
          5200,
          5476,
          5576,
          5522,
          5462,
          5400,
          5205,
          4926,
          4329
         ],
         "yaxis": "y11"
        },
        {
         "hovertemplate": "year=2021<br>state=IL<br>month_num=%{x}<br>pending_listings=%{y}<extra></extra>",
         "legendgroup": "2021",
         "line": {
          "color": "#cf4446",
          "dash": "solid"
         },
         "marker": {
          "symbol": "circle"
         },
         "mode": "lines",
         "name": "2021",
         "orientation": "v",
         "showlegend": false,
         "type": "scatter",
         "x": [
          1,
          2,
          3,
          4,
          5,
          6,
          7,
          8,
          9,
          10,
          11,
          12
         ],
         "xaxis": "x12",
         "y": [
          18996,
          23612,
          27046,
          30678,
          32931,
          32297,
          29834,
          28494,
          26492,
          24404,
          23013,
          19374
         ],
         "yaxis": "y12"
        },
        {
         "hovertemplate": "year=2021<br>state=MI<br>month_num=%{x}<br>pending_listings=%{y}<extra></extra>",
         "legendgroup": "2021",
         "line": {
          "color": "#cf4446",
          "dash": "solid"
         },
         "marker": {
          "symbol": "circle"
         },
         "mode": "lines",
         "name": "2021",
         "orientation": "v",
         "showlegend": false,
         "type": "scatter",
         "x": [
          1,
          2,
          3,
          4,
          5,
          6,
          7,
          8,
          9,
          10,
          11,
          12
         ],
         "xaxis": "x5",
         "y": [
          8703,
          9203,
          9770,
          11083,
          12059,
          13146,
          12962,
          13954,
          13684,
          13095,
          11844,
          9864
         ],
         "yaxis": "y5"
        },
        {
         "hovertemplate": "year=2021<br>state=NE<br>month_num=%{x}<br>pending_listings=%{y}<extra></extra>",
         "legendgroup": "2021",
         "line": {
          "color": "#cf4446",
          "dash": "solid"
         },
         "marker": {
          "symbol": "circle"
         },
         "mode": "lines",
         "name": "2021",
         "orientation": "v",
         "showlegend": false,
         "type": "scatter",
         "x": [
          1,
          2,
          3,
          4,
          5,
          6,
          7,
          8,
          9,
          10,
          11,
          12
         ],
         "xaxis": "x6",
         "y": [
          3352,
          3742,
          4058,
          4586,
          5136,
          5120,
          4930,
          4732,
          4443,
          4203,
          3916,
          3445
         ],
         "yaxis": "y6"
        },
        {
         "hovertemplate": "year=2021<br>state=NY<br>month_num=%{x}<br>pending_listings=%{y}<extra></extra>",
         "legendgroup": "2021",
         "line": {
          "color": "#cf4446",
          "dash": "solid"
         },
         "marker": {
          "symbol": "circle"
         },
         "mode": "lines",
         "name": "2021",
         "orientation": "v",
         "showlegend": false,
         "type": "scatter",
         "x": [
          1,
          2,
          3,
          4,
          5,
          6,
          7,
          8,
          9,
          10,
          11,
          12
         ],
         "xaxis": "x7",
         "y": [
          28382,
          23267,
          21693,
          22841,
          24374,
          26627,
          26756,
          27900,
          26853,
          25988,
          24708,
          22927
         ],
         "yaxis": "y7"
        },
        {
         "hovertemplate": "year=2021<br>state=OR<br>month_num=%{x}<br>pending_listings=%{y}<extra></extra>",
         "legendgroup": "2021",
         "line": {
          "color": "#cf4446",
          "dash": "solid"
         },
         "marker": {
          "symbol": "circle"
         },
         "mode": "lines",
         "name": "2021",
         "orientation": "v",
         "showlegend": false,
         "type": "scatter",
         "x": [
          1,
          2,
          3,
          4,
          5,
          6,
          7,
          8,
          9,
          10,
          11,
          12
         ],
         "xaxis": "x8",
         "y": [
          7560,
          8186,
          8715,
          9548,
          10602,
          11138,
          10816,
          10691,
          10377,
          10075,
          9476,
          8172
         ],
         "yaxis": "y8"
        },
        {
         "hovertemplate": "year=2021<br>state=PA<br>month_num=%{x}<br>pending_listings=%{y}<extra></extra>",
         "legendgroup": "2021",
         "line": {
          "color": "#cf4446",
          "dash": "solid"
         },
         "marker": {
          "symbol": "circle"
         },
         "mode": "lines",
         "name": "2021",
         "orientation": "v",
         "showlegend": false,
         "type": "scatter",
         "x": [
          1,
          2,
          3,
          4,
          5,
          6,
          7,
          8,
          9,
          10,
          11,
          12
         ],
         "xaxis": "x",
         "y": [
          15929,
          17547,
          19006,
          21531,
          23871,
          26521,
          25428,
          24890,
          23654,
          22594,
          21782,
          18622
         ],
         "yaxis": "y"
        },
        {
         "hovertemplate": "year=2021<br>state=UT<br>month_num=%{x}<br>pending_listings=%{y}<extra></extra>",
         "legendgroup": "2021",
         "line": {
          "color": "#cf4446",
          "dash": "solid"
         },
         "marker": {
          "symbol": "circle"
         },
         "mode": "lines",
         "name": "2021",
         "orientation": "v",
         "showlegend": false,
         "type": "scatter",
         "x": [
          1,
          2,
          3,
          4,
          5,
          6,
          7,
          8,
          9,
          10,
          11,
          12
         ],
         "xaxis": "x2",
         "y": [
          7275,
          7720,
          7960,
          8341,
          8573,
          8828,
          8651,
          8844,
          8854,
          8742,
          8779,
          7871
         ],
         "yaxis": "y2"
        },
        {
         "hovertemplate": "year=2021<br>state=WI<br>month_num=%{x}<br>pending_listings=%{y}<extra></extra>",
         "legendgroup": "2021",
         "line": {
          "color": "#cf4446",
          "dash": "solid"
         },
         "marker": {
          "symbol": "circle"
         },
         "mode": "lines",
         "name": "2021",
         "orientation": "v",
         "showlegend": false,
         "type": "scatter",
         "x": [
          1,
          2,
          3,
          4,
          5,
          6,
          7,
          8,
          9,
          10,
          11,
          12
         ],
         "xaxis": "x3",
         "y": [
          5883,
          6848,
          7661,
          9036,
          10359,
          10988,
          10570,
          10535,
          10143,
          9606,
          8558,
          6537
         ],
         "yaxis": "y3"
        },
        {
         "hovertemplate": "year=2021<br>state=WY<br>month_num=%{x}<br>pending_listings=%{y}<extra></extra>",
         "legendgroup": "2021",
         "line": {
          "color": "#cf4446",
          "dash": "solid"
         },
         "marker": {
          "symbol": "circle"
         },
         "mode": "lines",
         "name": "2021",
         "orientation": "v",
         "showlegend": false,
         "type": "scatter",
         "x": [
          1,
          2,
          3,
          4,
          5,
          6,
          7,
          8,
          9,
          10,
          11,
          12
         ],
         "xaxis": "x4",
         "y": [
          686,
          834,
          896,
          992,
          1041,
          1019,
          976,
          999,
          995,
          935,
          826,
          717
         ],
         "yaxis": "y4"
        },
        {
         "hovertemplate": "year=2022<br>state=CA<br>month_num=%{x}<br>pending_listings=%{y}<extra></extra>",
         "legendgroup": "2022",
         "line": {
          "color": "#ed6925",
          "dash": "solid"
         },
         "marker": {
          "symbol": "circle"
         },
         "mode": "lines",
         "name": "2022",
         "orientation": "v",
         "showlegend": true,
         "type": "scatter",
         "x": [
          1,
          2,
          3,
          4,
          5,
          6,
          7,
          8,
          9,
          10
         ],
         "xaxis": "x9",
         "y": [
          30228,
          35954,
          39272,
          39287,
          37341,
          34458,
          30483,
          30990,
          30367,
          25995
         ],
         "yaxis": "y9"
        },
        {
         "hovertemplate": "year=2022<br>state=CO<br>month_num=%{x}<br>pending_listings=%{y}<extra></extra>",
         "legendgroup": "2022",
         "line": {
          "color": "#ed6925",
          "dash": "solid"
         },
         "marker": {
          "symbol": "circle"
         },
         "mode": "lines",
         "name": "2022",
         "orientation": "v",
         "showlegend": false,
         "type": "scatter",
         "x": [
          1,
          2,
          3,
          4,
          5,
          6,
          7,
          8,
          9,
          10
         ],
         "xaxis": "x10",
         "y": [
          8125,
          9361,
          10168,
          11212,
          11585,
          10831,
          9732,
          10132,
          9677,
          8101
         ],
         "yaxis": "y10"
        },
        {
         "hovertemplate": "year=2022<br>state=ID<br>month_num=%{x}<br>pending_listings=%{y}<extra></extra>",
         "legendgroup": "2022",
         "line": {
          "color": "#ed6925",
          "dash": "solid"
         },
         "marker": {
          "symbol": "circle"
         },
         "mode": "lines",
         "name": "2022",
         "orientation": "v",
         "showlegend": false,
         "type": "scatter",
         "x": [
          1,
          2,
          3,
          4,
          5,
          6,
          7,
          8,
          9,
          10
         ],
         "xaxis": "x11",
         "y": [
          3923,
          4290,
          4508,
          4769,
          4659,
          4281,
          3984,
          3867,
          3769,
          3197
         ],
         "yaxis": "y11"
        },
        {
         "hovertemplate": "year=2022<br>state=IL<br>month_num=%{x}<br>pending_listings=%{y}<extra></extra>",
         "legendgroup": "2022",
         "line": {
          "color": "#ed6925",
          "dash": "solid"
         },
         "marker": {
          "symbol": "circle"
         },
         "mode": "lines",
         "name": "2022",
         "orientation": "v",
         "showlegend": false,
         "type": "scatter",
         "x": [
          1,
          2,
          3,
          4,
          5,
          6,
          7,
          8,
          9,
          10
         ],
         "xaxis": "x12",
         "y": [
          16442,
          19407,
          21921,
          24957,
          25445,
          24290,
          21722,
          20051,
          18647,
          16511
         ],
         "yaxis": "y12"
        },
        {
         "hovertemplate": "year=2022<br>state=MI<br>month_num=%{x}<br>pending_listings=%{y}<extra></extra>",
         "legendgroup": "2022",
         "line": {
          "color": "#ed6925",
          "dash": "solid"
         },
         "marker": {
          "symbol": "circle"
         },
         "mode": "lines",
         "name": "2022",
         "orientation": "v",
         "showlegend": false,
         "type": "scatter",
         "x": [
          1,
          2,
          3,
          4,
          5,
          6,
          7,
          8,
          9,
          10
         ],
         "xaxis": "x5",
         "y": [
          8025,
          8275,
          8525,
          9700,
          10571,
          11248,
          11222,
          11307,
          10786,
          9346
         ],
         "yaxis": "y5"
        },
        {
         "hovertemplate": "year=2022<br>state=NE<br>month_num=%{x}<br>pending_listings=%{y}<extra></extra>",
         "legendgroup": "2022",
         "line": {
          "color": "#ed6925",
          "dash": "solid"
         },
         "marker": {
          "symbol": "circle"
         },
         "mode": "lines",
         "name": "2022",
         "orientation": "v",
         "showlegend": false,
         "type": "scatter",
         "x": [
          1,
          2,
          3,
          4,
          5,
          6,
          7,
          8,
          9,
          10
         ],
         "xaxis": "x6",
         "y": [
          2908,
          3200,
          3589,
          4055,
          4317,
          4202,
          3861,
          3549,
          3327,
          2906
         ],
         "yaxis": "y6"
        },
        {
         "hovertemplate": "year=2022<br>state=NY<br>month_num=%{x}<br>pending_listings=%{y}<extra></extra>",
         "legendgroup": "2022",
         "line": {
          "color": "#ed6925",
          "dash": "solid"
         },
         "marker": {
          "symbol": "circle"
         },
         "mode": "lines",
         "name": "2022",
         "orientation": "v",
         "showlegend": false,
         "type": "scatter",
         "x": [
          1,
          2,
          3,
          4,
          5,
          6,
          7,
          8,
          9,
          10
         ],
         "xaxis": "x7",
         "y": [
          19771,
          19163,
          19673,
          21543,
          22773,
          23605,
          23055,
          22711,
          21673,
          20607
         ],
         "yaxis": "y7"
        },
        {
         "hovertemplate": "year=2022<br>state=OR<br>month_num=%{x}<br>pending_listings=%{y}<extra></extra>",
         "legendgroup": "2022",
         "line": {
          "color": "#ed6925",
          "dash": "solid"
         },
         "marker": {
          "symbol": "circle"
         },
         "mode": "lines",
         "name": "2022",
         "orientation": "v",
         "showlegend": false,
         "type": "scatter",
         "x": [
          1,
          2,
          3,
          4,
          5,
          6,
          7,
          8,
          9,
          10
         ],
         "xaxis": "x8",
         "y": [
          6979,
          7722,
          8264,
          8651,
          8639,
          8314,
          7372,
          7295,
          6750,
          5670
         ],
         "yaxis": "y8"
        },
        {
         "hovertemplate": "year=2022<br>state=PA<br>month_num=%{x}<br>pending_listings=%{y}<extra></extra>",
         "legendgroup": "2022",
         "line": {
          "color": "#ed6925",
          "dash": "solid"
         },
         "marker": {
          "symbol": "circle"
         },
         "mode": "lines",
         "name": "2022",
         "orientation": "v",
         "showlegend": false,
         "type": "scatter",
         "x": [
          1,
          2,
          3,
          4,
          5,
          6,
          7,
          8,
          9,
          10
         ],
         "xaxis": "x",
         "y": [
          15493,
          16575,
          18324,
          20498,
          21398,
          20991,
          19698,
          18793,
          17167,
          15767
         ],
         "yaxis": "y"
        },
        {
         "hovertemplate": "year=2022<br>state=UT<br>month_num=%{x}<br>pending_listings=%{y}<extra></extra>",
         "legendgroup": "2022",
         "line": {
          "color": "#ed6925",
          "dash": "solid"
         },
         "marker": {
          "symbol": "circle"
         },
         "mode": "lines",
         "name": "2022",
         "orientation": "v",
         "showlegend": false,
         "type": "scatter",
         "x": [
          1,
          2,
          3,
          4,
          5,
          6,
          7,
          8,
          9,
          10
         ],
         "xaxis": "x2",
         "y": [
          6983,
          7437,
          7697,
          7820,
          7895,
          7398,
          6653,
          6590,
          6134,
          5245
         ],
         "yaxis": "y2"
        },
        {
         "hovertemplate": "year=2022<br>state=WI<br>month_num=%{x}<br>pending_listings=%{y}<extra></extra>",
         "legendgroup": "2022",
         "line": {
          "color": "#ed6925",
          "dash": "solid"
         },
         "marker": {
          "symbol": "circle"
         },
         "mode": "lines",
         "name": "2022",
         "orientation": "v",
         "showlegend": false,
         "type": "scatter",
         "x": [
          1,
          2,
          3,
          4,
          5,
          6,
          7,
          8,
          9,
          10
         ],
         "xaxis": "x3",
         "y": [
          5207,
          5898,
          6509,
          7835,
          8853,
          9028,
          8797,
          8591,
          7562,
          6548
         ],
         "yaxis": "y3"
        },
        {
         "hovertemplate": "year=2022<br>state=WY<br>month_num=%{x}<br>pending_listings=%{y}<extra></extra>",
         "legendgroup": "2022",
         "line": {
          "color": "#ed6925",
          "dash": "solid"
         },
         "marker": {
          "symbol": "circle"
         },
         "mode": "lines",
         "name": "2022",
         "orientation": "v",
         "showlegend": false,
         "type": "scatter",
         "x": [
          1,
          2,
          3,
          4,
          5,
          6,
          7,
          8,
          9,
          10
         ],
         "xaxis": "x4",
         "y": [
          599,
          690,
          709,
          740,
          761,
          763,
          721,
          708,
          678,
          556
         ],
         "yaxis": "y4"
        }
       ],
       "layout": {
        "annotations": [
         {
          "font": {},
          "showarrow": false,
          "text": "state=PA",
          "x": 0.1175,
          "xanchor": "center",
          "xref": "paper",
          "y": 0.2866666666666666,
          "yanchor": "bottom",
          "yref": "paper"
         },
         {
          "font": {},
          "showarrow": false,
          "text": "state=UT",
          "x": 0.3725,
          "xanchor": "center",
          "xref": "paper",
          "y": 0.2866666666666666,
          "yanchor": "bottom",
          "yref": "paper"
         },
         {
          "font": {},
          "showarrow": false,
          "text": "state=WI",
          "x": 0.6275,
          "xanchor": "center",
          "xref": "paper",
          "y": 0.2866666666666666,
          "yanchor": "bottom",
          "yref": "paper"
         },
         {
          "font": {},
          "showarrow": false,
          "text": "state=WY",
          "x": 0.8824999999999998,
          "xanchor": "center",
          "xref": "paper",
          "y": 0.2866666666666666,
          "yanchor": "bottom",
          "yref": "paper"
         },
         {
          "font": {},
          "showarrow": false,
          "text": "state=MI",
          "x": 0.1175,
          "xanchor": "center",
          "xref": "paper",
          "y": 0.6433333333333333,
          "yanchor": "bottom",
          "yref": "paper"
         },
         {
          "font": {},
          "showarrow": false,
          "text": "state=NE",
          "x": 0.3725,
          "xanchor": "center",
          "xref": "paper",
          "y": 0.6433333333333333,
          "yanchor": "bottom",
          "yref": "paper"
         },
         {
          "font": {},
          "showarrow": false,
          "text": "state=NY",
          "x": 0.6275,
          "xanchor": "center",
          "xref": "paper",
          "y": 0.6433333333333333,
          "yanchor": "bottom",
          "yref": "paper"
         },
         {
          "font": {},
          "showarrow": false,
          "text": "state=OR",
          "x": 0.8824999999999998,
          "xanchor": "center",
          "xref": "paper",
          "y": 0.6433333333333333,
          "yanchor": "bottom",
          "yref": "paper"
         },
         {
          "font": {},
          "showarrow": false,
          "text": "state=CA",
          "x": 0.1175,
          "xanchor": "center",
          "xref": "paper",
          "y": 0.9999999999999999,
          "yanchor": "bottom",
          "yref": "paper"
         },
         {
          "font": {},
          "showarrow": false,
          "text": "state=CO",
          "x": 0.3725,
          "xanchor": "center",
          "xref": "paper",
          "y": 0.9999999999999999,
          "yanchor": "bottom",
          "yref": "paper"
         },
         {
          "font": {},
          "showarrow": false,
          "text": "state=ID",
          "x": 0.6275,
          "xanchor": "center",
          "xref": "paper",
          "y": 0.9999999999999999,
          "yanchor": "bottom",
          "yref": "paper"
         },
         {
          "font": {},
          "showarrow": false,
          "text": "state=IL",
          "x": 0.8824999999999998,
          "xanchor": "center",
          "xref": "paper",
          "y": 0.9999999999999999,
          "yanchor": "bottom",
          "yref": "paper"
         }
        ],
        "height": 800,
        "legend": {
         "title": {
          "text": "year"
         },
         "tracegroupgap": 0
        },
        "template": {
         "data": {
          "bar": [
           {
            "error_x": {
             "color": "#2a3f5f"
            },
            "error_y": {
             "color": "#2a3f5f"
            },
            "marker": {
             "line": {
              "color": "#E5ECF6",
              "width": 0.5
             },
             "pattern": {
              "fillmode": "overlay",
              "size": 10,
              "solidity": 0.2
             }
            },
            "type": "bar"
           }
          ],
          "barpolar": [
           {
            "marker": {
             "line": {
              "color": "#E5ECF6",
              "width": 0.5
             },
             "pattern": {
              "fillmode": "overlay",
              "size": 10,
              "solidity": 0.2
             }
            },
            "type": "barpolar"
           }
          ],
          "carpet": [
           {
            "aaxis": {
             "endlinecolor": "#2a3f5f",
             "gridcolor": "white",
             "linecolor": "white",
             "minorgridcolor": "white",
             "startlinecolor": "#2a3f5f"
            },
            "baxis": {
             "endlinecolor": "#2a3f5f",
             "gridcolor": "white",
             "linecolor": "white",
             "minorgridcolor": "white",
             "startlinecolor": "#2a3f5f"
            },
            "type": "carpet"
           }
          ],
          "choropleth": [
           {
            "colorbar": {
             "outlinewidth": 0,
             "ticks": ""
            },
            "type": "choropleth"
           }
          ],
          "contour": [
           {
            "colorbar": {
             "outlinewidth": 0,
             "ticks": ""
            },
            "colorscale": [
             [
              0,
              "#0d0887"
             ],
             [
              0.1111111111111111,
              "#46039f"
             ],
             [
              0.2222222222222222,
              "#7201a8"
             ],
             [
              0.3333333333333333,
              "#9c179e"
             ],
             [
              0.4444444444444444,
              "#bd3786"
             ],
             [
              0.5555555555555556,
              "#d8576b"
             ],
             [
              0.6666666666666666,
              "#ed7953"
             ],
             [
              0.7777777777777778,
              "#fb9f3a"
             ],
             [
              0.8888888888888888,
              "#fdca26"
             ],
             [
              1,
              "#f0f921"
             ]
            ],
            "type": "contour"
           }
          ],
          "contourcarpet": [
           {
            "colorbar": {
             "outlinewidth": 0,
             "ticks": ""
            },
            "type": "contourcarpet"
           }
          ],
          "heatmap": [
           {
            "colorbar": {
             "outlinewidth": 0,
             "ticks": ""
            },
            "colorscale": [
             [
              0,
              "#0d0887"
             ],
             [
              0.1111111111111111,
              "#46039f"
             ],
             [
              0.2222222222222222,
              "#7201a8"
             ],
             [
              0.3333333333333333,
              "#9c179e"
             ],
             [
              0.4444444444444444,
              "#bd3786"
             ],
             [
              0.5555555555555556,
              "#d8576b"
             ],
             [
              0.6666666666666666,
              "#ed7953"
             ],
             [
              0.7777777777777778,
              "#fb9f3a"
             ],
             [
              0.8888888888888888,
              "#fdca26"
             ],
             [
              1,
              "#f0f921"
             ]
            ],
            "type": "heatmap"
           }
          ],
          "heatmapgl": [
           {
            "colorbar": {
             "outlinewidth": 0,
             "ticks": ""
            },
            "colorscale": [
             [
              0,
              "#0d0887"
             ],
             [
              0.1111111111111111,
              "#46039f"
             ],
             [
              0.2222222222222222,
              "#7201a8"
             ],
             [
              0.3333333333333333,
              "#9c179e"
             ],
             [
              0.4444444444444444,
              "#bd3786"
             ],
             [
              0.5555555555555556,
              "#d8576b"
             ],
             [
              0.6666666666666666,
              "#ed7953"
             ],
             [
              0.7777777777777778,
              "#fb9f3a"
             ],
             [
              0.8888888888888888,
              "#fdca26"
             ],
             [
              1,
              "#f0f921"
             ]
            ],
            "type": "heatmapgl"
           }
          ],
          "histogram": [
           {
            "marker": {
             "pattern": {
              "fillmode": "overlay",
              "size": 10,
              "solidity": 0.2
             }
            },
            "type": "histogram"
           }
          ],
          "histogram2d": [
           {
            "colorbar": {
             "outlinewidth": 0,
             "ticks": ""
            },
            "colorscale": [
             [
              0,
              "#0d0887"
             ],
             [
              0.1111111111111111,
              "#46039f"
             ],
             [
              0.2222222222222222,
              "#7201a8"
             ],
             [
              0.3333333333333333,
              "#9c179e"
             ],
             [
              0.4444444444444444,
              "#bd3786"
             ],
             [
              0.5555555555555556,
              "#d8576b"
             ],
             [
              0.6666666666666666,
              "#ed7953"
             ],
             [
              0.7777777777777778,
              "#fb9f3a"
             ],
             [
              0.8888888888888888,
              "#fdca26"
             ],
             [
              1,
              "#f0f921"
             ]
            ],
            "type": "histogram2d"
           }
          ],
          "histogram2dcontour": [
           {
            "colorbar": {
             "outlinewidth": 0,
             "ticks": ""
            },
            "colorscale": [
             [
              0,
              "#0d0887"
             ],
             [
              0.1111111111111111,
              "#46039f"
             ],
             [
              0.2222222222222222,
              "#7201a8"
             ],
             [
              0.3333333333333333,
              "#9c179e"
             ],
             [
              0.4444444444444444,
              "#bd3786"
             ],
             [
              0.5555555555555556,
              "#d8576b"
             ],
             [
              0.6666666666666666,
              "#ed7953"
             ],
             [
              0.7777777777777778,
              "#fb9f3a"
             ],
             [
              0.8888888888888888,
              "#fdca26"
             ],
             [
              1,
              "#f0f921"
             ]
            ],
            "type": "histogram2dcontour"
           }
          ],
          "mesh3d": [
           {
            "colorbar": {
             "outlinewidth": 0,
             "ticks": ""
            },
            "type": "mesh3d"
           }
          ],
          "parcoords": [
           {
            "line": {
             "colorbar": {
              "outlinewidth": 0,
              "ticks": ""
             }
            },
            "type": "parcoords"
           }
          ],
          "pie": [
           {
            "automargin": true,
            "type": "pie"
           }
          ],
          "scatter": [
           {
            "fillpattern": {
             "fillmode": "overlay",
             "size": 10,
             "solidity": 0.2
            },
            "type": "scatter"
           }
          ],
          "scatter3d": [
           {
            "line": {
             "colorbar": {
              "outlinewidth": 0,
              "ticks": ""
             }
            },
            "marker": {
             "colorbar": {
              "outlinewidth": 0,
              "ticks": ""
             }
            },
            "type": "scatter3d"
           }
          ],
          "scattercarpet": [
           {
            "marker": {
             "colorbar": {
              "outlinewidth": 0,
              "ticks": ""
             }
            },
            "type": "scattercarpet"
           }
          ],
          "scattergeo": [
           {
            "marker": {
             "colorbar": {
              "outlinewidth": 0,
              "ticks": ""
             }
            },
            "type": "scattergeo"
           }
          ],
          "scattergl": [
           {
            "marker": {
             "colorbar": {
              "outlinewidth": 0,
              "ticks": ""
             }
            },
            "type": "scattergl"
           }
          ],
          "scattermapbox": [
           {
            "marker": {
             "colorbar": {
              "outlinewidth": 0,
              "ticks": ""
             }
            },
            "type": "scattermapbox"
           }
          ],
          "scatterpolar": [
           {
            "marker": {
             "colorbar": {
              "outlinewidth": 0,
              "ticks": ""
             }
            },
            "type": "scatterpolar"
           }
          ],
          "scatterpolargl": [
           {
            "marker": {
             "colorbar": {
              "outlinewidth": 0,
              "ticks": ""
             }
            },
            "type": "scatterpolargl"
           }
          ],
          "scatterternary": [
           {
            "marker": {
             "colorbar": {
              "outlinewidth": 0,
              "ticks": ""
             }
            },
            "type": "scatterternary"
           }
          ],
          "surface": [
           {
            "colorbar": {
             "outlinewidth": 0,
             "ticks": ""
            },
            "colorscale": [
             [
              0,
              "#0d0887"
             ],
             [
              0.1111111111111111,
              "#46039f"
             ],
             [
              0.2222222222222222,
              "#7201a8"
             ],
             [
              0.3333333333333333,
              "#9c179e"
             ],
             [
              0.4444444444444444,
              "#bd3786"
             ],
             [
              0.5555555555555556,
              "#d8576b"
             ],
             [
              0.6666666666666666,
              "#ed7953"
             ],
             [
              0.7777777777777778,
              "#fb9f3a"
             ],
             [
              0.8888888888888888,
              "#fdca26"
             ],
             [
              1,
              "#f0f921"
             ]
            ],
            "type": "surface"
           }
          ],
          "table": [
           {
            "cells": {
             "fill": {
              "color": "#EBF0F8"
             },
             "line": {
              "color": "white"
             }
            },
            "header": {
             "fill": {
              "color": "#C8D4E3"
             },
             "line": {
              "color": "white"
             }
            },
            "type": "table"
           }
          ]
         },
         "layout": {
          "annotationdefaults": {
           "arrowcolor": "#2a3f5f",
           "arrowhead": 0,
           "arrowwidth": 1
          },
          "autotypenumbers": "strict",
          "coloraxis": {
           "colorbar": {
            "outlinewidth": 0,
            "ticks": ""
           }
          },
          "colorscale": {
           "diverging": [
            [
             0,
             "#8e0152"
            ],
            [
             0.1,
             "#c51b7d"
            ],
            [
             0.2,
             "#de77ae"
            ],
            [
             0.3,
             "#f1b6da"
            ],
            [
             0.4,
             "#fde0ef"
            ],
            [
             0.5,
             "#f7f7f7"
            ],
            [
             0.6,
             "#e6f5d0"
            ],
            [
             0.7,
             "#b8e186"
            ],
            [
             0.8,
             "#7fbc41"
            ],
            [
             0.9,
             "#4d9221"
            ],
            [
             1,
             "#276419"
            ]
           ],
           "sequential": [
            [
             0,
             "#0d0887"
            ],
            [
             0.1111111111111111,
             "#46039f"
            ],
            [
             0.2222222222222222,
             "#7201a8"
            ],
            [
             0.3333333333333333,
             "#9c179e"
            ],
            [
             0.4444444444444444,
             "#bd3786"
            ],
            [
             0.5555555555555556,
             "#d8576b"
            ],
            [
             0.6666666666666666,
             "#ed7953"
            ],
            [
             0.7777777777777778,
             "#fb9f3a"
            ],
            [
             0.8888888888888888,
             "#fdca26"
            ],
            [
             1,
             "#f0f921"
            ]
           ],
           "sequentialminus": [
            [
             0,
             "#0d0887"
            ],
            [
             0.1111111111111111,
             "#46039f"
            ],
            [
             0.2222222222222222,
             "#7201a8"
            ],
            [
             0.3333333333333333,
             "#9c179e"
            ],
            [
             0.4444444444444444,
             "#bd3786"
            ],
            [
             0.5555555555555556,
             "#d8576b"
            ],
            [
             0.6666666666666666,
             "#ed7953"
            ],
            [
             0.7777777777777778,
             "#fb9f3a"
            ],
            [
             0.8888888888888888,
             "#fdca26"
            ],
            [
             1,
             "#f0f921"
            ]
           ]
          },
          "colorway": [
           "#636efa",
           "#EF553B",
           "#00cc96",
           "#ab63fa",
           "#FFA15A",
           "#19d3f3",
           "#FF6692",
           "#B6E880",
           "#FF97FF",
           "#FECB52"
          ],
          "font": {
           "color": "#2a3f5f"
          },
          "geo": {
           "bgcolor": "white",
           "lakecolor": "white",
           "landcolor": "#E5ECF6",
           "showlakes": true,
           "showland": true,
           "subunitcolor": "white"
          },
          "hoverlabel": {
           "align": "left"
          },
          "hovermode": "closest",
          "mapbox": {
           "style": "light"
          },
          "paper_bgcolor": "white",
          "plot_bgcolor": "#E5ECF6",
          "polar": {
           "angularaxis": {
            "gridcolor": "white",
            "linecolor": "white",
            "ticks": ""
           },
           "bgcolor": "#E5ECF6",
           "radialaxis": {
            "gridcolor": "white",
            "linecolor": "white",
            "ticks": ""
           }
          },
          "scene": {
           "xaxis": {
            "backgroundcolor": "#E5ECF6",
            "gridcolor": "white",
            "gridwidth": 2,
            "linecolor": "white",
            "showbackground": true,
            "ticks": "",
            "zerolinecolor": "white"
           },
           "yaxis": {
            "backgroundcolor": "#E5ECF6",
            "gridcolor": "white",
            "gridwidth": 2,
            "linecolor": "white",
            "showbackground": true,
            "ticks": "",
            "zerolinecolor": "white"
           },
           "zaxis": {
            "backgroundcolor": "#E5ECF6",
            "gridcolor": "white",
            "gridwidth": 2,
            "linecolor": "white",
            "showbackground": true,
            "ticks": "",
            "zerolinecolor": "white"
           }
          },
          "shapedefaults": {
           "line": {
            "color": "#2a3f5f"
           }
          },
          "ternary": {
           "aaxis": {
            "gridcolor": "white",
            "linecolor": "white",
            "ticks": ""
           },
           "baxis": {
            "gridcolor": "white",
            "linecolor": "white",
            "ticks": ""
           },
           "bgcolor": "#E5ECF6",
           "caxis": {
            "gridcolor": "white",
            "linecolor": "white",
            "ticks": ""
           }
          },
          "title": {
           "x": 0.05
          },
          "xaxis": {
           "automargin": true,
           "gridcolor": "white",
           "linecolor": "white",
           "ticks": "",
           "title": {
            "standoff": 15
           },
           "zerolinecolor": "white",
           "zerolinewidth": 2
          },
          "yaxis": {
           "automargin": true,
           "gridcolor": "white",
           "linecolor": "white",
           "ticks": "",
           "title": {
            "standoff": 15
           },
           "zerolinecolor": "white",
           "zerolinewidth": 2
          }
         }
        },
        "title": {
         "text": "Pending Listings over Time by State"
        },
        "width": 1200,
        "xaxis": {
         "anchor": "y",
         "domain": [
          0,
          0.235
         ],
         "title": {
          "text": "month_num"
         }
        },
        "xaxis10": {
         "anchor": "y10",
         "domain": [
          0.255,
          0.49
         ],
         "matches": "x",
         "showticklabels": false
        },
        "xaxis11": {
         "anchor": "y11",
         "domain": [
          0.51,
          0.745
         ],
         "matches": "x",
         "showticklabels": false
        },
        "xaxis12": {
         "anchor": "y12",
         "domain": [
          0.7649999999999999,
          0.9999999999999999
         ],
         "matches": "x",
         "showticklabels": false
        },
        "xaxis2": {
         "anchor": "y2",
         "domain": [
          0.255,
          0.49
         ],
         "matches": "x",
         "title": {
          "text": "month_num"
         }
        },
        "xaxis3": {
         "anchor": "y3",
         "domain": [
          0.51,
          0.745
         ],
         "matches": "x",
         "title": {
          "text": "month_num"
         }
        },
        "xaxis4": {
         "anchor": "y4",
         "domain": [
          0.7649999999999999,
          0.9999999999999999
         ],
         "matches": "x",
         "title": {
          "text": "month_num"
         }
        },
        "xaxis5": {
         "anchor": "y5",
         "domain": [
          0,
          0.235
         ],
         "matches": "x",
         "showticklabels": false
        },
        "xaxis6": {
         "anchor": "y6",
         "domain": [
          0.255,
          0.49
         ],
         "matches": "x",
         "showticklabels": false
        },
        "xaxis7": {
         "anchor": "y7",
         "domain": [
          0.51,
          0.745
         ],
         "matches": "x",
         "showticklabels": false
        },
        "xaxis8": {
         "anchor": "y8",
         "domain": [
          0.7649999999999999,
          0.9999999999999999
         ],
         "matches": "x",
         "showticklabels": false
        },
        "xaxis9": {
         "anchor": "y9",
         "domain": [
          0,
          0.235
         ],
         "matches": "x",
         "showticklabels": false
        },
        "yaxis": {
         "anchor": "x",
         "domain": [
          0,
          0.2866666666666666
         ],
         "title": {
          "text": "pending_listings"
         }
        },
        "yaxis10": {
         "anchor": "x10",
         "domain": [
          0.7133333333333333,
          0.9999999999999999
         ],
         "showticklabels": false
        },
        "yaxis11": {
         "anchor": "x11",
         "domain": [
          0.7133333333333333,
          0.9999999999999999
         ],
         "showticklabels": false
        },
        "yaxis12": {
         "anchor": "x12",
         "domain": [
          0.7133333333333333,
          0.9999999999999999
         ],
         "showticklabels": false
        },
        "yaxis2": {
         "anchor": "x2",
         "domain": [
          0,
          0.2866666666666666
         ],
         "showticklabels": false
        },
        "yaxis3": {
         "anchor": "x3",
         "domain": [
          0,
          0.2866666666666666
         ],
         "showticklabels": false
        },
        "yaxis4": {
         "anchor": "x4",
         "domain": [
          0,
          0.2866666666666666
         ],
         "showticklabels": false
        },
        "yaxis5": {
         "anchor": "x5",
         "domain": [
          0.35666666666666663,
          0.6433333333333333
         ],
         "title": {
          "text": "pending_listings"
         }
        },
        "yaxis6": {
         "anchor": "x6",
         "domain": [
          0.35666666666666663,
          0.6433333333333333
         ],
         "showticklabels": false
        },
        "yaxis7": {
         "anchor": "x7",
         "domain": [
          0.35666666666666663,
          0.6433333333333333
         ],
         "showticklabels": false
        },
        "yaxis8": {
         "anchor": "x8",
         "domain": [
          0.35666666666666663,
          0.6433333333333333
         ],
         "showticklabels": false
        },
        "yaxis9": {
         "anchor": "x9",
         "domain": [
          0.7133333333333333,
          0.9999999999999999
         ],
         "title": {
          "text": "pending_listings"
         }
        }
       }
      }
     },
     "metadata": {},
     "output_type": "display_data"
    }
   ],
   "source": [
    "fig = px.line(df.query(\"state in @select_states\"),\n",
    "    x = 'month_num',\n",
    "    y = 'pending_listings',\n",
    "    color = 'year',\n",
    "    facet_col = 'state',\n",
    "    facet_col_wrap = 4,\n",
    "    title = 'Pending Listings over Time by State',\n",
    "    color_discrete_sequence=px.colors.sequential.Inferno\n",
    "    )\n",
    "fig.update_yaxes(matches = None)\n",
    "fig.update_layout(height = 800, width = 1200)\n",
    "fig.show()"
   ]
  },
  {
   "cell_type": "code",
   "execution_count": 11,
   "metadata": {},
   "outputs": [
    {
     "data": {
      "application/vnd.plotly.v1+json": {
       "config": {
        "plotlyServerURL": "https://plot.ly"
       },
       "data": [
        {
         "hovertemplate": "year=2016<br>state=CA<br>month_num=%{x}<br>price_reductions=%{y}<extra></extra>",
         "legendgroup": "2016",
         "line": {
          "color": "#000004",
          "dash": "solid"
         },
         "marker": {
          "symbol": "circle"
         },
         "mode": "lines",
         "name": "2016",
         "orientation": "v",
         "showlegend": true,
         "type": "scatter",
         "x": [
          7,
          8,
          9,
          10,
          11,
          12
         ],
         "xaxis": "x9",
         "y": [
          31082,
          31248,
          30076,
          27364,
          24178,
          15768
         ],
         "yaxis": "y9"
        },
        {
         "hovertemplate": "year=2016<br>state=CO<br>month_num=%{x}<br>price_reductions=%{y}<extra></extra>",
         "legendgroup": "2016",
         "line": {
          "color": "#000004",
          "dash": "solid"
         },
         "marker": {
          "symbol": "circle"
         },
         "mode": "lines",
         "name": "2016",
         "orientation": "v",
         "showlegend": false,
         "type": "scatter",
         "x": [
          7,
          8,
          9,
          10,
          11,
          12
         ],
         "xaxis": "x10",
         "y": [
          7852,
          8006,
          7064,
          6124,
          4890,
          2968
         ],
         "yaxis": "y10"
        },
        {
         "hovertemplate": "year=2016<br>state=ID<br>month_num=%{x}<br>price_reductions=%{y}<extra></extra>",
         "legendgroup": "2016",
         "line": {
          "color": "#000004",
          "dash": "solid"
         },
         "marker": {
          "symbol": "circle"
         },
         "mode": "lines",
         "name": "2016",
         "orientation": "v",
         "showlegend": false,
         "type": "scatter",
         "x": [
          7,
          8,
          9,
          10,
          11,
          12
         ],
         "xaxis": "x11",
         "y": [
          3042,
          3050,
          2684,
          2256,
          1650,
          924
         ],
         "yaxis": "y11"
        },
        {
         "hovertemplate": "year=2016<br>state=IL<br>month_num=%{x}<br>price_reductions=%{y}<extra></extra>",
         "legendgroup": "2016",
         "line": {
          "color": "#000004",
          "dash": "solid"
         },
         "marker": {
          "symbol": "circle"
         },
         "mode": "lines",
         "name": "2016",
         "orientation": "v",
         "showlegend": false,
         "type": "scatter",
         "x": [
          7,
          8,
          9,
          10,
          11,
          12
         ],
         "xaxis": "x12",
         "y": [
          28090,
          26884,
          26336,
          23456,
          19888,
          14132
         ],
         "yaxis": "y12"
        },
        {
         "hovertemplate": "year=2016<br>state=MI<br>month_num=%{x}<br>price_reductions=%{y}<extra></extra>",
         "legendgroup": "2016",
         "line": {
          "color": "#000004",
          "dash": "solid"
         },
         "marker": {
          "symbol": "circle"
         },
         "mode": "lines",
         "name": "2016",
         "orientation": "v",
         "showlegend": false,
         "type": "scatter",
         "x": [
          7,
          8,
          9,
          10,
          11,
          12
         ],
         "xaxis": "x5",
         "y": [
          11538,
          12376,
          10998,
          9376,
          7698,
          4068
         ],
         "yaxis": "y5"
        },
        {
         "hovertemplate": "year=2016<br>state=NE<br>month_num=%{x}<br>price_reductions=%{y}<extra></extra>",
         "legendgroup": "2016",
         "line": {
          "color": "#000004",
          "dash": "solid"
         },
         "marker": {
          "symbol": "circle"
         },
         "mode": "lines",
         "name": "2016",
         "orientation": "v",
         "showlegend": false,
         "type": "scatter",
         "x": [
          7,
          8,
          9,
          10,
          11,
          12
         ],
         "xaxis": "x6",
         "y": [
          1394,
          1450,
          1416,
          1412,
          1118,
          608
         ],
         "yaxis": "y6"
        },
        {
         "hovertemplate": "year=2016<br>state=NY<br>month_num=%{x}<br>price_reductions=%{y}<extra></extra>",
         "legendgroup": "2016",
         "line": {
          "color": "#000004",
          "dash": "solid"
         },
         "marker": {
          "symbol": "circle"
         },
         "mode": "lines",
         "name": "2016",
         "orientation": "v",
         "showlegend": false,
         "type": "scatter",
         "x": [
          7,
          8,
          9,
          10,
          11,
          12
         ],
         "xaxis": "x7",
         "y": [
          14958,
          14186,
          14610,
          13484,
          11136,
          6468
         ],
         "yaxis": "y7"
        },
        {
         "hovertemplate": "year=2016<br>state=OR<br>month_num=%{x}<br>price_reductions=%{y}<extra></extra>",
         "legendgroup": "2016",
         "line": {
          "color": "#000004",
          "dash": "solid"
         },
         "marker": {
          "symbol": "circle"
         },
         "mode": "lines",
         "name": "2016",
         "orientation": "v",
         "showlegend": false,
         "type": "scatter",
         "x": [
          7,
          8,
          9,
          10,
          11,
          12
         ],
         "xaxis": "x8",
         "y": [
          4634,
          4934,
          4616,
          3772,
          2838,
          1512
         ],
         "yaxis": "y8"
        },
        {
         "hovertemplate": "year=2016<br>state=PA<br>month_num=%{x}<br>price_reductions=%{y}<extra></extra>",
         "legendgroup": "2016",
         "line": {
          "color": "#000004",
          "dash": "solid"
         },
         "marker": {
          "symbol": "circle"
         },
         "mode": "lines",
         "name": "2016",
         "orientation": "v",
         "showlegend": false,
         "type": "scatter",
         "x": [
          7,
          8,
          9,
          10,
          11,
          12
         ],
         "xaxis": "x",
         "y": [
          16490,
          15634,
          15574,
          14784,
          13140,
          8416
         ],
         "yaxis": "y"
        },
        {
         "hovertemplate": "year=2016<br>state=UT<br>month_num=%{x}<br>price_reductions=%{y}<extra></extra>",
         "legendgroup": "2016",
         "line": {
          "color": "#000004",
          "dash": "solid"
         },
         "marker": {
          "symbol": "circle"
         },
         "mode": "lines",
         "name": "2016",
         "orientation": "v",
         "showlegend": false,
         "type": "scatter",
         "x": [
          7,
          8,
          9,
          10,
          11,
          12
         ],
         "xaxis": "x2",
         "y": [
          3586,
          4030,
          3824,
          3612,
          2850,
          1428
         ],
         "yaxis": "y2"
        },
        {
         "hovertemplate": "year=2016<br>state=WI<br>month_num=%{x}<br>price_reductions=%{y}<extra></extra>",
         "legendgroup": "2016",
         "line": {
          "color": "#000004",
          "dash": "solid"
         },
         "marker": {
          "symbol": "circle"
         },
         "mode": "lines",
         "name": "2016",
         "orientation": "v",
         "showlegend": false,
         "type": "scatter",
         "x": [
          7,
          8,
          9,
          10,
          11,
          12
         ],
         "xaxis": "x3",
         "y": [
          8568,
          8566,
          7976,
          7076,
          5526,
          3456
         ],
         "yaxis": "y3"
        },
        {
         "hovertemplate": "year=2016<br>state=WY<br>month_num=%{x}<br>price_reductions=%{y}<extra></extra>",
         "legendgroup": "2016",
         "line": {
          "color": "#000004",
          "dash": "solid"
         },
         "marker": {
          "symbol": "circle"
         },
         "mode": "lines",
         "name": "2016",
         "orientation": "v",
         "showlegend": false,
         "type": "scatter",
         "x": [
          7,
          8,
          9,
          10,
          11,
          12
         ],
         "xaxis": "x4",
         "y": [
          760,
          878,
          746,
          616,
          472,
          276
         ],
         "yaxis": "y4"
        },
        {
         "hovertemplate": "year=2017<br>state=CA<br>month_num=%{x}<br>price_reductions=%{y}<extra></extra>",
         "legendgroup": "2017",
         "line": {
          "color": "#1b0c41",
          "dash": "solid"
         },
         "marker": {
          "symbol": "circle"
         },
         "mode": "lines",
         "name": "2017",
         "orientation": "v",
         "showlegend": true,
         "type": "scatter",
         "x": [
          1,
          2,
          3,
          4,
          5,
          6,
          7,
          8,
          9,
          10,
          11,
          12
         ],
         "xaxis": "x9",
         "y": [
          15030,
          16008,
          17810,
          19192,
          22192,
          24108,
          28184,
          28562,
          27840,
          25774,
          22544,
          15248
         ],
         "yaxis": "y9"
        },
        {
         "hovertemplate": "year=2017<br>state=CO<br>month_num=%{x}<br>price_reductions=%{y}<extra></extra>",
         "legendgroup": "2017",
         "line": {
          "color": "#1b0c41",
          "dash": "solid"
         },
         "marker": {
          "symbol": "circle"
         },
         "mode": "lines",
         "name": "2017",
         "orientation": "v",
         "showlegend": false,
         "type": "scatter",
         "x": [
          1,
          2,
          3,
          4,
          5,
          6,
          7,
          8,
          9,
          10,
          11,
          12
         ],
         "xaxis": "x10",
         "y": [
          2592,
          2786,
          3628,
          3860,
          5118,
          6536,
          8372,
          8304,
          7768,
          6382,
          4834,
          2972
         ],
         "yaxis": "y10"
        },
        {
         "hovertemplate": "year=2017<br>state=ID<br>month_num=%{x}<br>price_reductions=%{y}<extra></extra>",
         "legendgroup": "2017",
         "line": {
          "color": "#1b0c41",
          "dash": "solid"
         },
         "marker": {
          "symbol": "circle"
         },
         "mode": "lines",
         "name": "2017",
         "orientation": "v",
         "showlegend": false,
         "type": "scatter",
         "x": [
          1,
          2,
          3,
          4,
          5,
          6,
          7,
          8,
          9,
          10,
          11,
          12
         ],
         "xaxis": "x11",
         "y": [
          738,
          820,
          1056,
          1244,
          1676,
          2244,
          2800,
          2996,
          2576,
          2116,
          1644,
          952
         ],
         "yaxis": "y11"
        },
        {
         "hovertemplate": "year=2017<br>state=IL<br>month_num=%{x}<br>price_reductions=%{y}<extra></extra>",
         "legendgroup": "2017",
         "line": {
          "color": "#1b0c41",
          "dash": "solid"
         },
         "marker": {
          "symbol": "circle"
         },
         "mode": "lines",
         "name": "2017",
         "orientation": "v",
         "showlegend": false,
         "type": "scatter",
         "x": [
          1,
          2,
          3,
          4,
          5,
          6,
          7,
          8,
          9,
          10,
          11,
          12
         ],
         "xaxis": "x12",
         "y": [
          13414,
          15616,
          18770,
          20972,
          24496,
          26516,
          27352,
          25970,
          24828,
          22828,
          19008,
          13124
         ],
         "yaxis": "y12"
        },
        {
         "hovertemplate": "year=2017<br>state=MI<br>month_num=%{x}<br>price_reductions=%{y}<extra></extra>",
         "legendgroup": "2017",
         "line": {
          "color": "#1b0c41",
          "dash": "solid"
         },
         "marker": {
          "symbol": "circle"
         },
         "mode": "lines",
         "name": "2017",
         "orientation": "v",
         "showlegend": false,
         "type": "scatter",
         "x": [
          1,
          2,
          3,
          4,
          5,
          6,
          7,
          8,
          9,
          10,
          11,
          12
         ],
         "xaxis": "x5",
         "y": [
          4600,
          4678,
          4776,
          5336,
          7894,
          9882,
          11864,
          12940,
          12108,
          11032,
          8712,
          4780
         ],
         "yaxis": "y5"
        },
        {
         "hovertemplate": "year=2017<br>state=NE<br>month_num=%{x}<br>price_reductions=%{y}<extra></extra>",
         "legendgroup": "2017",
         "line": {
          "color": "#1b0c41",
          "dash": "solid"
         },
         "marker": {
          "symbol": "circle"
         },
         "mode": "lines",
         "name": "2017",
         "orientation": "v",
         "showlegend": false,
         "type": "scatter",
         "x": [
          1,
          2,
          3,
          4,
          5,
          6,
          7,
          8,
          9,
          10,
          11,
          12
         ],
         "xaxis": "x6",
         "y": [
          574,
          638,
          778,
          820,
          1134,
          1148,
          1316,
          1290,
          1452,
          1362,
          1168,
          692
         ],
         "yaxis": "y6"
        },
        {
         "hovertemplate": "year=2017<br>state=NY<br>month_num=%{x}<br>price_reductions=%{y}<extra></extra>",
         "legendgroup": "2017",
         "line": {
          "color": "#1b0c41",
          "dash": "solid"
         },
         "marker": {
          "symbol": "circle"
         },
         "mode": "lines",
         "name": "2017",
         "orientation": "v",
         "showlegend": false,
         "type": "scatter",
         "x": [
          1,
          2,
          3,
          4,
          5,
          6,
          7,
          8,
          9,
          10,
          11,
          12
         ],
         "xaxis": "x7",
         "y": [
          8106,
          7722,
          9124,
          10768,
          12898,
          14508,
          14512,
          14114,
          14032,
          13400,
          11110,
          6480
         ],
         "yaxis": "y7"
        },
        {
         "hovertemplate": "year=2017<br>state=OR<br>month_num=%{x}<br>price_reductions=%{y}<extra></extra>",
         "legendgroup": "2017",
         "line": {
          "color": "#1b0c41",
          "dash": "solid"
         },
         "marker": {
          "symbol": "circle"
         },
         "mode": "lines",
         "name": "2017",
         "orientation": "v",
         "showlegend": false,
         "type": "scatter",
         "x": [
          1,
          2,
          3,
          4,
          5,
          6,
          7,
          8,
          9,
          10,
          11,
          12
         ],
         "xaxis": "x8",
         "y": [
          1556,
          1736,
          1850,
          2204,
          3296,
          4136,
          5316,
          5652,
          5428,
          4656,
          3558,
          1980
         ],
         "yaxis": "y8"
        },
        {
         "hovertemplate": "year=2017<br>state=PA<br>month_num=%{x}<br>price_reductions=%{y}<extra></extra>",
         "legendgroup": "2017",
         "line": {
          "color": "#1b0c41",
          "dash": "solid"
         },
         "marker": {
          "symbol": "circle"
         },
         "mode": "lines",
         "name": "2017",
         "orientation": "v",
         "showlegend": false,
         "type": "scatter",
         "x": [
          1,
          2,
          3,
          4,
          5,
          6,
          7,
          8,
          9,
          10,
          11,
          12
         ],
         "xaxis": "x",
         "y": [
          9046,
          10122,
          12068,
          14196,
          16754,
          17838,
          18344,
          17816,
          18260,
          15946,
          11892,
          6860
         ],
         "yaxis": "y"
        },
        {
         "hovertemplate": "year=2017<br>state=UT<br>month_num=%{x}<br>price_reductions=%{y}<extra></extra>",
         "legendgroup": "2017",
         "line": {
          "color": "#1b0c41",
          "dash": "solid"
         },
         "marker": {
          "symbol": "circle"
         },
         "mode": "lines",
         "name": "2017",
         "orientation": "v",
         "showlegend": false,
         "type": "scatter",
         "x": [
          1,
          2,
          3,
          4,
          5,
          6,
          7,
          8,
          9,
          10,
          11,
          12
         ],
         "xaxis": "x2",
         "y": [
          1520,
          1618,
          1790,
          1852,
          2706,
          3258,
          3692,
          4084,
          4188,
          3522,
          2900,
          1392
         ],
         "yaxis": "y2"
        },
        {
         "hovertemplate": "year=2017<br>state=WI<br>month_num=%{x}<br>price_reductions=%{y}<extra></extra>",
         "legendgroup": "2017",
         "line": {
          "color": "#1b0c41",
          "dash": "solid"
         },
         "marker": {
          "symbol": "circle"
         },
         "mode": "lines",
         "name": "2017",
         "orientation": "v",
         "showlegend": false,
         "type": "scatter",
         "x": [
          1,
          2,
          3,
          4,
          5,
          6,
          7,
          8,
          9,
          10,
          11,
          12
         ],
         "xaxis": "x3",
         "y": [
          3354,
          3712,
          4146,
          4952,
          5668,
          6528,
          7576,
          7428,
          7208,
          6086,
          4558,
          2648
         ],
         "yaxis": "y3"
        },
        {
         "hovertemplate": "year=2017<br>state=WY<br>month_num=%{x}<br>price_reductions=%{y}<extra></extra>",
         "legendgroup": "2017",
         "line": {
          "color": "#1b0c41",
          "dash": "solid"
         },
         "marker": {
          "symbol": "circle"
         },
         "mode": "lines",
         "name": "2017",
         "orientation": "v",
         "showlegend": false,
         "type": "scatter",
         "x": [
          1,
          2,
          3,
          4,
          5,
          6,
          7,
          8,
          9,
          10,
          11,
          12
         ],
         "xaxis": "x4",
         "y": [
          366,
          366,
          402,
          540,
          658,
          820,
          948,
          890,
          824,
          672,
          486,
          328
         ],
         "yaxis": "y4"
        },
        {
         "hovertemplate": "year=2018<br>state=CA<br>month_num=%{x}<br>price_reductions=%{y}<extra></extra>",
         "legendgroup": "2018",
         "line": {
          "color": "#4a0c6b",
          "dash": "solid"
         },
         "marker": {
          "symbol": "circle"
         },
         "mode": "lines",
         "name": "2018",
         "orientation": "v",
         "showlegend": true,
         "type": "scatter",
         "x": [
          1,
          2,
          3,
          4,
          5,
          6,
          7,
          8,
          9,
          10,
          11,
          12
         ],
         "xaxis": "x9",
         "y": [
          15396,
          17122,
          19816,
          22532,
          25840,
          29852,
          34196,
          39200,
          41192,
          41996,
          36138,
          24932
         ],
         "yaxis": "y9"
        },
        {
         "hovertemplate": "year=2018<br>state=CO<br>month_num=%{x}<br>price_reductions=%{y}<extra></extra>",
         "legendgroup": "2018",
         "line": {
          "color": "#4a0c6b",
          "dash": "solid"
         },
         "marker": {
          "symbol": "circle"
         },
         "mode": "lines",
         "name": "2018",
         "orientation": "v",
         "showlegend": false,
         "type": "scatter",
         "x": [
          1,
          2,
          3,
          4,
          5,
          6,
          7,
          8,
          9,
          10,
          11,
          12
         ],
         "xaxis": "x10",
         "y": [
          2664,
          2574,
          3144,
          4238,
          5498,
          7196,
          8612,
          9310,
          9708,
          9454,
          7510,
          4452
         ],
         "yaxis": "y10"
        },
        {
         "hovertemplate": "year=2018<br>state=ID<br>month_num=%{x}<br>price_reductions=%{y}<extra></extra>",
         "legendgroup": "2018",
         "line": {
          "color": "#4a0c6b",
          "dash": "solid"
         },
         "marker": {
          "symbol": "circle"
         },
         "mode": "lines",
         "name": "2018",
         "orientation": "v",
         "showlegend": false,
         "type": "scatter",
         "x": [
          1,
          2,
          3,
          4,
          5,
          6,
          7,
          8,
          9,
          10,
          11,
          12
         ],
         "xaxis": "x11",
         "y": [
          940,
          834,
          976,
          1098,
          1620,
          1864,
          2476,
          2588,
          2460,
          2696,
          1900,
          1112
         ],
         "yaxis": "y11"
        },
        {
         "hovertemplate": "year=2018<br>state=IL<br>month_num=%{x}<br>price_reductions=%{y}<extra></extra>",
         "legendgroup": "2018",
         "line": {
          "color": "#4a0c6b",
          "dash": "solid"
         },
         "marker": {
          "symbol": "circle"
         },
         "mode": "lines",
         "name": "2018",
         "orientation": "v",
         "showlegend": false,
         "type": "scatter",
         "x": [
          1,
          2,
          3,
          4,
          5,
          6,
          7,
          8,
          9,
          10,
          11,
          12
         ],
         "xaxis": "x12",
         "y": [
          12456,
          13794,
          17964,
          20348,
          24974,
          27384,
          27700,
          27140,
          26904,
          24620,
          20188,
          14508
         ],
         "yaxis": "y12"
        },
        {
         "hovertemplate": "year=2018<br>state=MI<br>month_num=%{x}<br>price_reductions=%{y}<extra></extra>",
         "legendgroup": "2018",
         "line": {
          "color": "#4a0c6b",
          "dash": "solid"
         },
         "marker": {
          "symbol": "circle"
         },
         "mode": "lines",
         "name": "2018",
         "orientation": "v",
         "showlegend": false,
         "type": "scatter",
         "x": [
          1,
          2,
          3,
          4,
          5,
          6,
          7,
          8,
          9,
          10,
          11,
          12
         ],
         "xaxis": "x5",
         "y": [
          4830,
          4666,
          5344,
          6164,
          8144,
          10848,
          13088,
          14398,
          13872,
          13522,
          10670,
          6572
         ],
         "yaxis": "y5"
        },
        {
         "hovertemplate": "year=2018<br>state=NE<br>month_num=%{x}<br>price_reductions=%{y}<extra></extra>",
         "legendgroup": "2018",
         "line": {
          "color": "#4a0c6b",
          "dash": "solid"
         },
         "marker": {
          "symbol": "circle"
         },
         "mode": "lines",
         "name": "2018",
         "orientation": "v",
         "showlegend": false,
         "type": "scatter",
         "x": [
          1,
          2,
          3,
          4,
          5,
          6,
          7,
          8,
          9,
          10,
          11,
          12
         ],
         "xaxis": "x6",
         "y": [
          608,
          596,
          688,
          866,
          1028,
          1248,
          1434,
          1596,
          1572,
          1516,
          1260,
          696
         ],
         "yaxis": "y6"
        },
        {
         "hovertemplate": "year=2018<br>state=NY<br>month_num=%{x}<br>price_reductions=%{y}<extra></extra>",
         "legendgroup": "2018",
         "line": {
          "color": "#4a0c6b",
          "dash": "solid"
         },
         "marker": {
          "symbol": "circle"
         },
         "mode": "lines",
         "name": "2018",
         "orientation": "v",
         "showlegend": false,
         "type": "scatter",
         "x": [
          1,
          2,
          3,
          4,
          5,
          6,
          7,
          8,
          9,
          10,
          11,
          12
         ],
         "xaxis": "x7",
         "y": [
          7114,
          7554,
          8468,
          10242,
          12662,
          15276,
          16052,
          15354,
          16360,
          16540,
          13072,
          7944
         ],
         "yaxis": "y7"
        },
        {
         "hovertemplate": "year=2018<br>state=OR<br>month_num=%{x}<br>price_reductions=%{y}<extra></extra>",
         "legendgroup": "2018",
         "line": {
          "color": "#4a0c6b",
          "dash": "solid"
         },
         "marker": {
          "symbol": "circle"
         },
         "mode": "lines",
         "name": "2018",
         "orientation": "v",
         "showlegend": false,
         "type": "scatter",
         "x": [
          1,
          2,
          3,
          4,
          5,
          6,
          7,
          8,
          9,
          10,
          11,
          12
         ],
         "xaxis": "x8",
         "y": [
          2112,
          2192,
          2404,
          3184,
          4100,
          4904,
          6012,
          6296,
          6136,
          6160,
          4566,
          2692
         ],
         "yaxis": "y8"
        },
        {
         "hovertemplate": "year=2018<br>state=PA<br>month_num=%{x}<br>price_reductions=%{y}<extra></extra>",
         "legendgroup": "2018",
         "line": {
          "color": "#4a0c6b",
          "dash": "solid"
         },
         "marker": {
          "symbol": "circle"
         },
         "mode": "lines",
         "name": "2018",
         "orientation": "v",
         "showlegend": false,
         "type": "scatter",
         "x": [
          1,
          2,
          3,
          4,
          5,
          6,
          7,
          8,
          9,
          10,
          11,
          12
         ],
         "xaxis": "x",
         "y": [
          7638,
          7792,
          8260,
          10366,
          12204,
          13768,
          14380,
          14054,
          14728,
          15178,
          11832,
          7136
         ],
         "yaxis": "y"
        },
        {
         "hovertemplate": "year=2018<br>state=UT<br>month_num=%{x}<br>price_reductions=%{y}<extra></extra>",
         "legendgroup": "2018",
         "line": {
          "color": "#4a0c6b",
          "dash": "solid"
         },
         "marker": {
          "symbol": "circle"
         },
         "mode": "lines",
         "name": "2018",
         "orientation": "v",
         "showlegend": false,
         "type": "scatter",
         "x": [
          1,
          2,
          3,
          4,
          5,
          6,
          7,
          8,
          9,
          10,
          11,
          12
         ],
         "xaxis": "x2",
         "y": [
          1644,
          1628,
          1880,
          2314,
          2698,
          3452,
          3550,
          4252,
          4344,
          4710,
          3870,
          2028
         ],
         "yaxis": "y2"
        },
        {
         "hovertemplate": "year=2018<br>state=WI<br>month_num=%{x}<br>price_reductions=%{y}<extra></extra>",
         "legendgroup": "2018",
         "line": {
          "color": "#4a0c6b",
          "dash": "solid"
         },
         "marker": {
          "symbol": "circle"
         },
         "mode": "lines",
         "name": "2018",
         "orientation": "v",
         "showlegend": false,
         "type": "scatter",
         "x": [
          1,
          2,
          3,
          4,
          5,
          6,
          7,
          8,
          9,
          10,
          11,
          12
         ],
         "xaxis": "x3",
         "y": [
          2662,
          2494,
          3192,
          3676,
          4892,
          5692,
          6636,
          7390,
          7104,
          6732,
          5154,
          3172
         ],
         "yaxis": "y3"
        },
        {
         "hovertemplate": "year=2018<br>state=WY<br>month_num=%{x}<br>price_reductions=%{y}<extra></extra>",
         "legendgroup": "2018",
         "line": {
          "color": "#4a0c6b",
          "dash": "solid"
         },
         "marker": {
          "symbol": "circle"
         },
         "mode": "lines",
         "name": "2018",
         "orientation": "v",
         "showlegend": false,
         "type": "scatter",
         "x": [
          1,
          2,
          3,
          4,
          5,
          6,
          7,
          8,
          9,
          10,
          11,
          12
         ],
         "xaxis": "x4",
         "y": [
          424,
          400,
          368,
          530,
          598,
          652,
          668,
          738,
          680,
          570,
          492,
          336
         ],
         "yaxis": "y4"
        },
        {
         "hovertemplate": "year=2019<br>state=CA<br>month_num=%{x}<br>price_reductions=%{y}<extra></extra>",
         "legendgroup": "2019",
         "line": {
          "color": "#781c6d",
          "dash": "solid"
         },
         "marker": {
          "symbol": "circle"
         },
         "mode": "lines",
         "name": "2019",
         "orientation": "v",
         "showlegend": true,
         "type": "scatter",
         "x": [
          1,
          2,
          3,
          4,
          5,
          6,
          7,
          8,
          9,
          10,
          11,
          12
         ],
         "xaxis": "x9",
         "y": [
          24994,
          25238,
          24120,
          22580,
          24828,
          28172,
          28684,
          27352,
          26096,
          24844,
          19516,
          9798
         ],
         "yaxis": "y9"
        },
        {
         "hovertemplate": "year=2019<br>state=CO<br>month_num=%{x}<br>price_reductions=%{y}<extra></extra>",
         "legendgroup": "2019",
         "line": {
          "color": "#781c6d",
          "dash": "solid"
         },
         "marker": {
          "symbol": "circle"
         },
         "mode": "lines",
         "name": "2019",
         "orientation": "v",
         "showlegend": false,
         "type": "scatter",
         "x": [
          1,
          2,
          3,
          4,
          5,
          6,
          7,
          8,
          9,
          10,
          11,
          12
         ],
         "xaxis": "x10",
         "y": [
          4764,
          4774,
          5192,
          5406,
          7010,
          9196,
          10346,
          9836,
          9504,
          8920,
          6168,
          2880
         ],
         "yaxis": "y10"
        },
        {
         "hovertemplate": "year=2019<br>state=ID<br>month_num=%{x}<br>price_reductions=%{y}<extra></extra>",
         "legendgroup": "2019",
         "line": {
          "color": "#781c6d",
          "dash": "solid"
         },
         "marker": {
          "symbol": "circle"
         },
         "mode": "lines",
         "name": "2019",
         "orientation": "v",
         "showlegend": false,
         "type": "scatter",
         "x": [
          1,
          2,
          3,
          4,
          5,
          6,
          7,
          8,
          9,
          10,
          11,
          12
         ],
         "xaxis": "x11",
         "y": [
          1264,
          1114,
          1172,
          1316,
          1582,
          2232,
          2506,
          2596,
          2394,
          2258,
          1576,
          1252
         ],
         "yaxis": "y11"
        },
        {
         "hovertemplate": "year=2019<br>state=IL<br>month_num=%{x}<br>price_reductions=%{y}<extra></extra>",
         "legendgroup": "2019",
         "line": {
          "color": "#781c6d",
          "dash": "solid"
         },
         "marker": {
          "symbol": "circle"
         },
         "mode": "lines",
         "name": "2019",
         "orientation": "v",
         "showlegend": false,
         "type": "scatter",
         "x": [
          1,
          2,
          3,
          4,
          5,
          6,
          7,
          8,
          9,
          10,
          11,
          12
         ],
         "xaxis": "x12",
         "y": [
          12614,
          13138,
          14580,
          14812,
          17204,
          19464,
          20252,
          19424,
          18718,
          17938,
          12520,
          7404
         ],
         "yaxis": "y12"
        },
        {
         "hovertemplate": "year=2019<br>state=MI<br>month_num=%{x}<br>price_reductions=%{y}<extra></extra>",
         "legendgroup": "2019",
         "line": {
          "color": "#781c6d",
          "dash": "solid"
         },
         "marker": {
          "symbol": "circle"
         },
         "mode": "lines",
         "name": "2019",
         "orientation": "v",
         "showlegend": false,
         "type": "scatter",
         "x": [
          1,
          2,
          3,
          4,
          5,
          6,
          7,
          8,
          9,
          10,
          11,
          12
         ],
         "xaxis": "x5",
         "y": [
          6622,
          5660,
          6556,
          7200,
          9142,
          11480,
          13654,
          13196,
          12800,
          12532,
          9492,
          5594
         ],
         "yaxis": "y5"
        },
        {
         "hovertemplate": "year=2019<br>state=NE<br>month_num=%{x}<br>price_reductions=%{y}<extra></extra>",
         "legendgroup": "2019",
         "line": {
          "color": "#781c6d",
          "dash": "solid"
         },
         "marker": {
          "symbol": "circle"
         },
         "mode": "lines",
         "name": "2019",
         "orientation": "v",
         "showlegend": false,
         "type": "scatter",
         "x": [
          1,
          2,
          3,
          4,
          5,
          6,
          7,
          8,
          9,
          10,
          11,
          12
         ],
         "xaxis": "x6",
         "y": [
          832,
          692,
          792,
          1082,
          1094,
          1396,
          1552,
          1472,
          1418,
          1418,
          1296,
          702
         ],
         "yaxis": "y6"
        },
        {
         "hovertemplate": "year=2019<br>state=NY<br>month_num=%{x}<br>price_reductions=%{y}<extra></extra>",
         "legendgroup": "2019",
         "line": {
          "color": "#781c6d",
          "dash": "solid"
         },
         "marker": {
          "symbol": "circle"
         },
         "mode": "lines",
         "name": "2019",
         "orientation": "v",
         "showlegend": false,
         "type": "scatter",
         "x": [
          1,
          2,
          3,
          4,
          5,
          6,
          7,
          8,
          9,
          10,
          11,
          12
         ],
         "xaxis": "x7",
         "y": [
          8700,
          8692,
          9788,
          11294,
          13704,
          16028,
          15498,
          15320,
          14914,
          14324,
          12036,
          5972
         ],
         "yaxis": "y7"
        },
        {
         "hovertemplate": "year=2019<br>state=OR<br>month_num=%{x}<br>price_reductions=%{y}<extra></extra>",
         "legendgroup": "2019",
         "line": {
          "color": "#781c6d",
          "dash": "solid"
         },
         "marker": {
          "symbol": "circle"
         },
         "mode": "lines",
         "name": "2019",
         "orientation": "v",
         "showlegend": false,
         "type": "scatter",
         "x": [
          1,
          2,
          3,
          4,
          5,
          6,
          7,
          8,
          9,
          10,
          11,
          12
         ],
         "xaxis": "x8",
         "y": [
          2838,
          2750,
          2892,
          3524,
          4588,
          5568,
          6490,
          6092,
          5664,
          5228,
          5100,
          3412
         ],
         "yaxis": "y8"
        },
        {
         "hovertemplate": "year=2019<br>state=PA<br>month_num=%{x}<br>price_reductions=%{y}<extra></extra>",
         "legendgroup": "2019",
         "line": {
          "color": "#781c6d",
          "dash": "solid"
         },
         "marker": {
          "symbol": "circle"
         },
         "mode": "lines",
         "name": "2019",
         "orientation": "v",
         "showlegend": false,
         "type": "scatter",
         "x": [
          1,
          2,
          3,
          4,
          5,
          6,
          7,
          8,
          9,
          10,
          11,
          12
         ],
         "xaxis": "x",
         "y": [
          7554,
          7398,
          8720,
          10012,
          11804,
          12948,
          13284,
          12888,
          12862,
          12742,
          10080,
          5256
         ],
         "yaxis": "y"
        },
        {
         "hovertemplate": "year=2019<br>state=UT<br>month_num=%{x}<br>price_reductions=%{y}<extra></extra>",
         "legendgroup": "2019",
         "line": {
          "color": "#781c6d",
          "dash": "solid"
         },
         "marker": {
          "symbol": "circle"
         },
         "mode": "lines",
         "name": "2019",
         "orientation": "v",
         "showlegend": false,
         "type": "scatter",
         "x": [
          1,
          2,
          3,
          4,
          5,
          6,
          7,
          8,
          9,
          10,
          11,
          12
         ],
         "xaxis": "x2",
         "y": [
          2494,
          2556,
          2876,
          3110,
          3668,
          4036,
          4300,
          4224,
          4340,
          4154,
          3180,
          1544
         ],
         "yaxis": "y2"
        },
        {
         "hovertemplate": "year=2019<br>state=WI<br>month_num=%{x}<br>price_reductions=%{y}<extra></extra>",
         "legendgroup": "2019",
         "line": {
          "color": "#781c6d",
          "dash": "solid"
         },
         "marker": {
          "symbol": "circle"
         },
         "mode": "lines",
         "name": "2019",
         "orientation": "v",
         "showlegend": false,
         "type": "scatter",
         "x": [
          1,
          2,
          3,
          4,
          5,
          6,
          7,
          8,
          9,
          10,
          11,
          12
         ],
         "xaxis": "x3",
         "y": [
          2862,
          2310,
          2620,
          2964,
          3676,
          4892,
          5630,
          5600,
          5668,
          5540,
          3868,
          1848
         ],
         "yaxis": "y3"
        },
        {
         "hovertemplate": "year=2019<br>state=WY<br>month_num=%{x}<br>price_reductions=%{y}<extra></extra>",
         "legendgroup": "2019",
         "line": {
          "color": "#781c6d",
          "dash": "solid"
         },
         "marker": {
          "symbol": "circle"
         },
         "mode": "lines",
         "name": "2019",
         "orientation": "v",
         "showlegend": false,
         "type": "scatter",
         "x": [
          1,
          2,
          3,
          4,
          5,
          6,
          7,
          8,
          9,
          10,
          11,
          12
         ],
         "xaxis": "x4",
         "y": [
          356,
          336,
          384,
          416,
          480,
          608,
          688,
          656,
          620,
          540,
          468,
          198
         ],
         "yaxis": "y4"
        },
        {
         "hovertemplate": "year=2020<br>state=CA<br>month_num=%{x}<br>price_reductions=%{y}<extra></extra>",
         "legendgroup": "2020",
         "line": {
          "color": "#a52c60",
          "dash": "solid"
         },
         "marker": {
          "symbol": "circle"
         },
         "mode": "lines",
         "name": "2020",
         "orientation": "v",
         "showlegend": true,
         "type": "scatter",
         "x": [
          1,
          2,
          3,
          4,
          5,
          6,
          7,
          8,
          9,
          10,
          11,
          12
         ],
         "xaxis": "x9",
         "y": [
          11628,
          11728,
          12092,
          9826,
          14180,
          14054,
          13190,
          12648,
          12356,
          12576,
          10362,
          6646
         ],
         "yaxis": "y9"
        },
        {
         "hovertemplate": "year=2020<br>state=CO<br>month_num=%{x}<br>price_reductions=%{y}<extra></extra>",
         "legendgroup": "2020",
         "line": {
          "color": "#a52c60",
          "dash": "solid"
         },
         "marker": {
          "symbol": "circle"
         },
         "mode": "lines",
         "name": "2020",
         "orientation": "v",
         "showlegend": false,
         "type": "scatter",
         "x": [
          1,
          2,
          3,
          4,
          5,
          6,
          7,
          8,
          9,
          10,
          11,
          12
         ],
         "xaxis": "x10",
         "y": [
          3128,
          3048,
          3312,
          2458,
          5784,
          6632,
          6278,
          5560,
          4814,
          4152,
          2996,
          1708
         ],
         "yaxis": "y10"
        },
        {
         "hovertemplate": "year=2020<br>state=ID<br>month_num=%{x}<br>price_reductions=%{y}<extra></extra>",
         "legendgroup": "2020",
         "line": {
          "color": "#a52c60",
          "dash": "solid"
         },
         "marker": {
          "symbol": "circle"
         },
         "mode": "lines",
         "name": "2020",
         "orientation": "v",
         "showlegend": false,
         "type": "scatter",
         "x": [
          1,
          2,
          3,
          4,
          5,
          6,
          7,
          8,
          9,
          10,
          11,
          12
         ],
         "xaxis": "x11",
         "y": [
          862,
          768,
          1002,
          1288,
          1436,
          1400,
          1186,
          960,
          772,
          612,
          408,
          442
         ],
         "yaxis": "y11"
        },
        {
         "hovertemplate": "year=2020<br>state=IL<br>month_num=%{x}<br>price_reductions=%{y}<extra></extra>",
         "legendgroup": "2020",
         "line": {
          "color": "#a52c60",
          "dash": "solid"
         },
         "marker": {
          "symbol": "circle"
         },
         "mode": "lines",
         "name": "2020",
         "orientation": "v",
         "showlegend": false,
         "type": "scatter",
         "x": [
          1,
          2,
          3,
          4,
          5,
          6,
          7,
          8,
          9,
          10,
          11,
          12
         ],
         "xaxis": "x12",
         "y": [
          8876,
          9932,
          10346,
          7712,
          10280,
          11768,
          12636,
          12276,
          11932,
          11404,
          8964,
          5286
         ],
         "yaxis": "y12"
        },
        {
         "hovertemplate": "year=2020<br>state=MI<br>month_num=%{x}<br>price_reductions=%{y}<extra></extra>",
         "legendgroup": "2020",
         "line": {
          "color": "#a52c60",
          "dash": "solid"
         },
         "marker": {
          "symbol": "circle"
         },
         "mode": "lines",
         "name": "2020",
         "orientation": "v",
         "showlegend": false,
         "type": "scatter",
         "x": [
          1,
          2,
          3,
          4,
          5,
          6,
          7,
          8,
          9,
          10,
          11,
          12
         ],
         "xaxis": "x5",
         "y": [
          5658,
          5388,
          5700,
          1354,
          5348,
          7108,
          6862,
          6808,
          6376,
          6040,
          4810,
          3380
         ],
         "yaxis": "y5"
        },
        {
         "hovertemplate": "year=2020<br>state=NE<br>month_num=%{x}<br>price_reductions=%{y}<extra></extra>",
         "legendgroup": "2020",
         "line": {
          "color": "#a52c60",
          "dash": "solid"
         },
         "marker": {
          "symbol": "circle"
         },
         "mode": "lines",
         "name": "2020",
         "orientation": "v",
         "showlegend": false,
         "type": "scatter",
         "x": [
          1,
          2,
          3,
          4,
          5,
          6,
          7,
          8,
          9,
          10,
          11,
          12
         ],
         "xaxis": "x6",
         "y": [
          580,
          672,
          846,
          776,
          828,
          868,
          798,
          780,
          754,
          756,
          616,
          436
         ],
         "yaxis": "y6"
        },
        {
         "hovertemplate": "year=2020<br>state=NY<br>month_num=%{x}<br>price_reductions=%{y}<extra></extra>",
         "legendgroup": "2020",
         "line": {
          "color": "#a52c60",
          "dash": "solid"
         },
         "marker": {
          "symbol": "circle"
         },
         "mode": "lines",
         "name": "2020",
         "orientation": "v",
         "showlegend": false,
         "type": "scatter",
         "x": [
          1,
          2,
          3,
          4,
          5,
          6,
          7,
          8,
          9,
          10,
          11,
          12
         ],
         "xaxis": "x7",
         "y": [
          7800,
          7856,
          7014,
          2296,
          4380,
          6802,
          10360,
          10412,
          10954,
          10544,
          8584,
          5216
         ],
         "yaxis": "y7"
        },
        {
         "hovertemplate": "year=2020<br>state=OR<br>month_num=%{x}<br>price_reductions=%{y}<extra></extra>",
         "legendgroup": "2020",
         "line": {
          "color": "#a52c60",
          "dash": "solid"
         },
         "marker": {
          "symbol": "circle"
         },
         "mode": "lines",
         "name": "2020",
         "orientation": "v",
         "showlegend": false,
         "type": "scatter",
         "x": [
          1,
          2,
          3,
          4,
          5,
          6,
          7,
          8,
          9,
          10,
          11,
          12
         ],
         "xaxis": "x8",
         "y": [
          3118,
          3120,
          3466,
          3160,
          3748,
          4012,
          4078,
          4136,
          3146,
          3444,
          2824,
          2266
         ],
         "yaxis": "y8"
        },
        {
         "hovertemplate": "year=2020<br>state=PA<br>month_num=%{x}<br>price_reductions=%{y}<extra></extra>",
         "legendgroup": "2020",
         "line": {
          "color": "#a52c60",
          "dash": "solid"
         },
         "marker": {
          "symbol": "circle"
         },
         "mode": "lines",
         "name": "2020",
         "orientation": "v",
         "showlegend": false,
         "type": "scatter",
         "x": [
          1,
          2,
          3,
          4,
          5,
          6,
          7,
          8,
          9,
          10,
          11,
          12
         ],
         "xaxis": "x",
         "y": [
          6376,
          6408,
          5970,
          1538,
          3144,
          7622,
          7594,
          7024,
          7232,
          7356,
          6268,
          3830
         ],
         "yaxis": "y"
        },
        {
         "hovertemplate": "year=2020<br>state=UT<br>month_num=%{x}<br>price_reductions=%{y}<extra></extra>",
         "legendgroup": "2020",
         "line": {
          "color": "#a52c60",
          "dash": "solid"
         },
         "marker": {
          "symbol": "circle"
         },
         "mode": "lines",
         "name": "2020",
         "orientation": "v",
         "showlegend": false,
         "type": "scatter",
         "x": [
          1,
          2,
          3,
          4,
          5,
          6,
          7,
          8,
          9,
          10,
          11,
          12
         ],
         "xaxis": "x2",
         "y": [
          1748,
          1596,
          1910,
          2524,
          2584,
          2202,
          1812,
          1688,
          1608,
          1380,
          1060,
          726
         ],
         "yaxis": "y2"
        },
        {
         "hovertemplate": "year=2020<br>state=WI<br>month_num=%{x}<br>price_reductions=%{y}<extra></extra>",
         "legendgroup": "2020",
         "line": {
          "color": "#a52c60",
          "dash": "solid"
         },
         "marker": {
          "symbol": "circle"
         },
         "mode": "lines",
         "name": "2020",
         "orientation": "v",
         "showlegend": false,
         "type": "scatter",
         "x": [
          1,
          2,
          3,
          4,
          5,
          6,
          7,
          8,
          9,
          10,
          11,
          12
         ],
         "xaxis": "x3",
         "y": [
          2206,
          2156,
          2182,
          2136,
          2684,
          2910,
          2792,
          3056,
          3208,
          3144,
          2558,
          1430
         ],
         "yaxis": "y3"
        },
        {
         "hovertemplate": "year=2020<br>state=WY<br>month_num=%{x}<br>price_reductions=%{y}<extra></extra>",
         "legendgroup": "2020",
         "line": {
          "color": "#a52c60",
          "dash": "solid"
         },
         "marker": {
          "symbol": "circle"
         },
         "mode": "lines",
         "name": "2020",
         "orientation": "v",
         "showlegend": false,
         "type": "scatter",
         "x": [
          1,
          2,
          3,
          4,
          5,
          6,
          7,
          8,
          9,
          10,
          11,
          12
         ],
         "xaxis": "x4",
         "y": [
          290,
          268,
          268,
          286,
          412,
          464,
          546,
          532,
          436,
          396,
          280,
          186
         ],
         "yaxis": "y4"
        },
        {
         "hovertemplate": "year=2021<br>state=CA<br>month_num=%{x}<br>price_reductions=%{y}<extra></extra>",
         "legendgroup": "2021",
         "line": {
          "color": "#cf4446",
          "dash": "solid"
         },
         "marker": {
          "symbol": "circle"
         },
         "mode": "lines",
         "name": "2021",
         "orientation": "v",
         "showlegend": true,
         "type": "scatter",
         "x": [
          1,
          2,
          3,
          4,
          5,
          6,
          7,
          8,
          9,
          10,
          11,
          12
         ],
         "xaxis": "x9",
         "y": [
          5460,
          5092,
          5510,
          5566,
          6432,
          7804,
          10380,
          11516,
          11402,
          11060,
          8306,
          4734
         ],
         "yaxis": "y9"
        },
        {
         "hovertemplate": "year=2021<br>state=CO<br>month_num=%{x}<br>price_reductions=%{y}<extra></extra>",
         "legendgroup": "2021",
         "line": {
          "color": "#cf4446",
          "dash": "solid"
         },
         "marker": {
          "symbol": "circle"
         },
         "mode": "lines",
         "name": "2021",
         "orientation": "v",
         "showlegend": false,
         "type": "scatter",
         "x": [
          1,
          2,
          3,
          4,
          5,
          6,
          7,
          8,
          9,
          10,
          11,
          12
         ],
         "xaxis": "x10",
         "y": [
          1376,
          1118,
          1008,
          1122,
          1428,
          2282,
          3780,
          4260,
          4230,
          3836,
          2588,
          1308
         ],
         "yaxis": "y10"
        },
        {
         "hovertemplate": "year=2021<br>state=ID<br>month_num=%{x}<br>price_reductions=%{y}<extra></extra>",
         "legendgroup": "2021",
         "line": {
          "color": "#cf4446",
          "dash": "solid"
         },
         "marker": {
          "symbol": "circle"
         },
         "mode": "lines",
         "name": "2021",
         "orientation": "v",
         "showlegend": false,
         "type": "scatter",
         "x": [
          1,
          2,
          3,
          4,
          5,
          6,
          7,
          8,
          9,
          10,
          11,
          12
         ],
         "xaxis": "x11",
         "y": [
          216,
          254,
          392,
          492,
          688,
          1372,
          2144,
          2602,
          2848,
          2652,
          1420,
          850
         ],
         "yaxis": "y11"
        },
        {
         "hovertemplate": "year=2021<br>state=IL<br>month_num=%{x}<br>price_reductions=%{y}<extra></extra>",
         "legendgroup": "2021",
         "line": {
          "color": "#cf4446",
          "dash": "solid"
         },
         "marker": {
          "symbol": "circle"
         },
         "mode": "lines",
         "name": "2021",
         "orientation": "v",
         "showlegend": false,
         "type": "scatter",
         "x": [
          1,
          2,
          3,
          4,
          5,
          6,
          7,
          8,
          9,
          10,
          11,
          12
         ],
         "xaxis": "x12",
         "y": [
          5280,
          4282,
          4728,
          5052,
          5552,
          7650,
          9528,
          10178,
          9792,
          9712,
          6874,
          4414
         ],
         "yaxis": "y12"
        },
        {
         "hovertemplate": "year=2021<br>state=MI<br>month_num=%{x}<br>price_reductions=%{y}<extra></extra>",
         "legendgroup": "2021",
         "line": {
          "color": "#cf4446",
          "dash": "solid"
         },
         "marker": {
          "symbol": "circle"
         },
         "mode": "lines",
         "name": "2021",
         "orientation": "v",
         "showlegend": false,
         "type": "scatter",
         "x": [
          1,
          2,
          3,
          4,
          5,
          6,
          7,
          8,
          9,
          10,
          11,
          12
         ],
         "xaxis": "x5",
         "y": [
          2464,
          1764,
          1818,
          1934,
          2564,
          3898,
          5500,
          6594,
          6542,
          6248,
          5050,
          3298
         ],
         "yaxis": "y5"
        },
        {
         "hovertemplate": "year=2021<br>state=NE<br>month_num=%{x}<br>price_reductions=%{y}<extra></extra>",
         "legendgroup": "2021",
         "line": {
          "color": "#cf4446",
          "dash": "solid"
         },
         "marker": {
          "symbol": "circle"
         },
         "mode": "lines",
         "name": "2021",
         "orientation": "v",
         "showlegend": false,
         "type": "scatter",
         "x": [
          1,
          2,
          3,
          4,
          5,
          6,
          7,
          8,
          9,
          10,
          11,
          12
         ],
         "xaxis": "x6",
         "y": [
          336,
          256,
          272,
          262,
          340,
          476,
          676,
          730,
          720,
          740,
          608,
          326
         ],
         "yaxis": "y6"
        },
        {
         "hovertemplate": "year=2021<br>state=NY<br>month_num=%{x}<br>price_reductions=%{y}<extra></extra>",
         "legendgroup": "2021",
         "line": {
          "color": "#cf4446",
          "dash": "solid"
         },
         "marker": {
          "symbol": "circle"
         },
         "mode": "lines",
         "name": "2021",
         "orientation": "v",
         "showlegend": false,
         "type": "scatter",
         "x": [
          1,
          2,
          3,
          4,
          5,
          6,
          7,
          8,
          9,
          10,
          11,
          12
         ],
         "xaxis": "x7",
         "y": [
          5176,
          4168,
          4850,
          5590,
          6264,
          7622,
          8132,
          7640,
          8002,
          8184,
          5996,
          3644
         ],
         "yaxis": "y7"
        },
        {
         "hovertemplate": "year=2021<br>state=OR<br>month_num=%{x}<br>price_reductions=%{y}<extra></extra>",
         "legendgroup": "2021",
         "line": {
          "color": "#cf4446",
          "dash": "solid"
         },
         "marker": {
          "symbol": "circle"
         },
         "mode": "lines",
         "name": "2021",
         "orientation": "v",
         "showlegend": false,
         "type": "scatter",
         "x": [
          1,
          2,
          3,
          4,
          5,
          6,
          7,
          8,
          9,
          10,
          11,
          12
         ],
         "xaxis": "x8",
         "y": [
          1784,
          1598,
          1656,
          1632,
          1912,
          2418,
          2992,
          3898,
          4040,
          3988,
          3044,
          2354
         ],
         "yaxis": "y8"
        },
        {
         "hovertemplate": "year=2021<br>state=PA<br>month_num=%{x}<br>price_reductions=%{y}<extra></extra>",
         "legendgroup": "2021",
         "line": {
          "color": "#cf4446",
          "dash": "solid"
         },
         "marker": {
          "symbol": "circle"
         },
         "mode": "lines",
         "name": "2021",
         "orientation": "v",
         "showlegend": false,
         "type": "scatter",
         "x": [
          1,
          2,
          3,
          4,
          5,
          6,
          7,
          8,
          9,
          10,
          11,
          12
         ],
         "xaxis": "x",
         "y": [
          3568,
          2676,
          3298,
          3484,
          4328,
          5770,
          7148,
          7530,
          7748,
          7820,
          6248,
          4034
         ],
         "yaxis": "y"
        },
        {
         "hovertemplate": "year=2021<br>state=UT<br>month_num=%{x}<br>price_reductions=%{y}<extra></extra>",
         "legendgroup": "2021",
         "line": {
          "color": "#cf4446",
          "dash": "solid"
         },
         "marker": {
          "symbol": "circle"
         },
         "mode": "lines",
         "name": "2021",
         "orientation": "v",
         "showlegend": false,
         "type": "scatter",
         "x": [
          1,
          2,
          3,
          4,
          5,
          6,
          7,
          8,
          9,
          10,
          11,
          12
         ],
         "xaxis": "x2",
         "y": [
          488,
          446,
          496,
          560,
          780,
          1328,
          1656,
          2108,
          2282,
          1896,
          1504,
          680
         ],
         "yaxis": "y2"
        },
        {
         "hovertemplate": "year=2021<br>state=WI<br>month_num=%{x}<br>price_reductions=%{y}<extra></extra>",
         "legendgroup": "2021",
         "line": {
          "color": "#cf4446",
          "dash": "solid"
         },
         "marker": {
          "symbol": "circle"
         },
         "mode": "lines",
         "name": "2021",
         "orientation": "v",
         "showlegend": false,
         "type": "scatter",
         "x": [
          1,
          2,
          3,
          4,
          5,
          6,
          7,
          8,
          9,
          10,
          11,
          12
         ],
         "xaxis": "x3",
         "y": [
          996,
          788,
          836,
          950,
          1180,
          1822,
          2772,
          3324,
          3536,
          3416,
          2258,
          1296
         ],
         "yaxis": "y3"
        },
        {
         "hovertemplate": "year=2021<br>state=WY<br>month_num=%{x}<br>price_reductions=%{y}<extra></extra>",
         "legendgroup": "2021",
         "line": {
          "color": "#cf4446",
          "dash": "solid"
         },
         "marker": {
          "symbol": "circle"
         },
         "mode": "lines",
         "name": "2021",
         "orientation": "v",
         "showlegend": false,
         "type": "scatter",
         "x": [
          1,
          2,
          3,
          4,
          5,
          6,
          7,
          8,
          9,
          10,
          11,
          12
         ],
         "xaxis": "x4",
         "y": [
          184,
          192,
          170,
          164,
          192,
          230,
          312,
          406,
          382,
          328,
          220,
          162
         ],
         "yaxis": "y4"
        },
        {
         "hovertemplate": "year=2022<br>state=CA<br>month_num=%{x}<br>price_reductions=%{y}<extra></extra>",
         "legendgroup": "2022",
         "line": {
          "color": "#ed6925",
          "dash": "solid"
         },
         "marker": {
          "symbol": "circle"
         },
         "mode": "lines",
         "name": "2022",
         "orientation": "v",
         "showlegend": true,
         "type": "scatter",
         "x": [
          1,
          2,
          3,
          4,
          5,
          6,
          7,
          8,
          9,
          10
         ],
         "xaxis": "x9",
         "y": [
          3740,
          4068,
          5150,
          7760,
          14840,
          22746,
          29252,
          26614,
          26028,
          26740
         ],
         "yaxis": "y9"
        },
        {
         "hovertemplate": "year=2022<br>state=CO<br>month_num=%{x}<br>price_reductions=%{y}<extra></extra>",
         "legendgroup": "2022",
         "line": {
          "color": "#ed6925",
          "dash": "solid"
         },
         "marker": {
          "symbol": "circle"
         },
         "mode": "lines",
         "name": "2022",
         "orientation": "v",
         "showlegend": false,
         "type": "scatter",
         "x": [
          1,
          2,
          3,
          4,
          5,
          6,
          7,
          8,
          9,
          10
         ],
         "xaxis": "x10",
         "y": [
          836,
          752,
          1058,
          1960,
          3898,
          7396,
          10592,
          10264,
          10112,
          10192
         ],
         "yaxis": "y10"
        },
        {
         "hovertemplate": "year=2022<br>state=ID<br>month_num=%{x}<br>price_reductions=%{y}<extra></extra>",
         "legendgroup": "2022",
         "line": {
          "color": "#ed6925",
          "dash": "solid"
         },
         "marker": {
          "symbol": "circle"
         },
         "mode": "lines",
         "name": "2022",
         "orientation": "v",
         "showlegend": false,
         "type": "scatter",
         "x": [
          1,
          2,
          3,
          4,
          5,
          6,
          7,
          8,
          9,
          10
         ],
         "xaxis": "x11",
         "y": [
          488,
          410,
          660,
          1260,
          2770,
          4418,
          6084,
          5596,
          5640,
          5268
         ],
         "yaxis": "y11"
        },
        {
         "hovertemplate": "year=2022<br>state=IL<br>month_num=%{x}<br>price_reductions=%{y}<extra></extra>",
         "legendgroup": "2022",
         "line": {
          "color": "#ed6925",
          "dash": "solid"
         },
         "marker": {
          "symbol": "circle"
         },
         "mode": "lines",
         "name": "2022",
         "orientation": "v",
         "showlegend": false,
         "type": "scatter",
         "x": [
          1,
          2,
          3,
          4,
          5,
          6,
          7,
          8,
          9,
          10
         ],
         "xaxis": "x12",
         "y": [
          3268,
          3114,
          3438,
          3852,
          5464,
          7704,
          9312,
          8942,
          9060,
          9104
         ],
         "yaxis": "y12"
        },
        {
         "hovertemplate": "year=2022<br>state=MI<br>month_num=%{x}<br>price_reductions=%{y}<extra></extra>",
         "legendgroup": "2022",
         "line": {
          "color": "#ed6925",
          "dash": "solid"
         },
         "marker": {
          "symbol": "circle"
         },
         "mode": "lines",
         "name": "2022",
         "orientation": "v",
         "showlegend": false,
         "type": "scatter",
         "x": [
          1,
          2,
          3,
          4,
          5,
          6,
          7,
          8,
          9,
          10
         ],
         "xaxis": "x5",
         "y": [
          2300,
          1922,
          2124,
          2604,
          3998,
          6404,
          9016,
          9228,
          9052,
          8876
         ],
         "yaxis": "y5"
        },
        {
         "hovertemplate": "year=2022<br>state=NE<br>month_num=%{x}<br>price_reductions=%{y}<extra></extra>",
         "legendgroup": "2022",
         "line": {
          "color": "#ed6925",
          "dash": "solid"
         },
         "marker": {
          "symbol": "circle"
         },
         "mode": "lines",
         "name": "2022",
         "orientation": "v",
         "showlegend": false,
         "type": "scatter",
         "x": [
          1,
          2,
          3,
          4,
          5,
          6,
          7,
          8,
          9,
          10
         ],
         "xaxis": "x6",
         "y": [
          248,
          240,
          258,
          304,
          560,
          722,
          960,
          920,
          928,
          1136
         ],
         "yaxis": "y6"
        },
        {
         "hovertemplate": "year=2022<br>state=NY<br>month_num=%{x}<br>price_reductions=%{y}<extra></extra>",
         "legendgroup": "2022",
         "line": {
          "color": "#ed6925",
          "dash": "solid"
         },
         "marker": {
          "symbol": "circle"
         },
         "mode": "lines",
         "name": "2022",
         "orientation": "v",
         "showlegend": false,
         "type": "scatter",
         "x": [
          1,
          2,
          3,
          4,
          5,
          6,
          7,
          8,
          9,
          10
         ],
         "xaxis": "x7",
         "y": [
          3132,
          3240,
          3794,
          4640,
          6392,
          8772,
          8888,
          7970,
          8756,
          9424
         ],
         "yaxis": "y7"
        },
        {
         "hovertemplate": "year=2022<br>state=OR<br>month_num=%{x}<br>price_reductions=%{y}<extra></extra>",
         "legendgroup": "2022",
         "line": {
          "color": "#ed6925",
          "dash": "solid"
         },
         "marker": {
          "symbol": "circle"
         },
         "mode": "lines",
         "name": "2022",
         "orientation": "v",
         "showlegend": false,
         "type": "scatter",
         "x": [
          1,
          2,
          3,
          4,
          5,
          6,
          7,
          8,
          9,
          10
         ],
         "xaxis": "x8",
         "y": [
          1752,
          1650,
          1862,
          2256,
          3602,
          4980,
          6572,
          6386,
          5696,
          5364
         ],
         "yaxis": "y8"
        },
        {
         "hovertemplate": "year=2022<br>state=PA<br>month_num=%{x}<br>price_reductions=%{y}<extra></extra>",
         "legendgroup": "2022",
         "line": {
          "color": "#ed6925",
          "dash": "solid"
         },
         "marker": {
          "symbol": "circle"
         },
         "mode": "lines",
         "name": "2022",
         "orientation": "v",
         "showlegend": false,
         "type": "scatter",
         "x": [
          1,
          2,
          3,
          4,
          5,
          6,
          7,
          8,
          9,
          10
         ],
         "xaxis": "x",
         "y": [
          2936,
          2978,
          3468,
          3860,
          5866,
          7592,
          8740,
          8252,
          8698,
          9356
         ],
         "yaxis": "y"
        },
        {
         "hovertemplate": "year=2022<br>state=UT<br>month_num=%{x}<br>price_reductions=%{y}<extra></extra>",
         "legendgroup": "2022",
         "line": {
          "color": "#ed6925",
          "dash": "solid"
         },
         "marker": {
          "symbol": "circle"
         },
         "mode": "lines",
         "name": "2022",
         "orientation": "v",
         "showlegend": false,
         "type": "scatter",
         "x": [
          1,
          2,
          3,
          4,
          5,
          6,
          7,
          8,
          9,
          10
         ],
         "xaxis": "x2",
         "y": [
          432,
          466,
          746,
          1224,
          3044,
          5076,
          6600,
          6678,
          6656,
          6636
         ],
         "yaxis": "y2"
        },
        {
         "hovertemplate": "year=2022<br>state=WI<br>month_num=%{x}<br>price_reductions=%{y}<extra></extra>",
         "legendgroup": "2022",
         "line": {
          "color": "#ed6925",
          "dash": "solid"
         },
         "marker": {
          "symbol": "circle"
         },
         "mode": "lines",
         "name": "2022",
         "orientation": "v",
         "showlegend": false,
         "type": "scatter",
         "x": [
          1,
          2,
          3,
          4,
          5,
          6,
          7,
          8,
          9,
          10
         ],
         "xaxis": "x3",
         "y": [
          776,
          772,
          750,
          1032,
          1600,
          2268,
          3128,
          3112,
          2954,
          3328
         ],
         "yaxis": "y3"
        },
        {
         "hovertemplate": "year=2022<br>state=WY<br>month_num=%{x}<br>price_reductions=%{y}<extra></extra>",
         "legendgroup": "2022",
         "line": {
          "color": "#ed6925",
          "dash": "solid"
         },
         "marker": {
          "symbol": "circle"
         },
         "mode": "lines",
         "name": "2022",
         "orientation": "v",
         "showlegend": false,
         "type": "scatter",
         "x": [
          1,
          2,
          3,
          4,
          5,
          6,
          7,
          8,
          9,
          10
         ],
         "xaxis": "x4",
         "y": [
          112,
          130,
          128,
          172,
          284,
          434,
          572,
          666,
          606,
          496
         ],
         "yaxis": "y4"
        }
       ],
       "layout": {
        "annotations": [
         {
          "font": {},
          "showarrow": false,
          "text": "state=PA",
          "x": 0.1175,
          "xanchor": "center",
          "xref": "paper",
          "y": 0.2866666666666666,
          "yanchor": "bottom",
          "yref": "paper"
         },
         {
          "font": {},
          "showarrow": false,
          "text": "state=UT",
          "x": 0.3725,
          "xanchor": "center",
          "xref": "paper",
          "y": 0.2866666666666666,
          "yanchor": "bottom",
          "yref": "paper"
         },
         {
          "font": {},
          "showarrow": false,
          "text": "state=WI",
          "x": 0.6275,
          "xanchor": "center",
          "xref": "paper",
          "y": 0.2866666666666666,
          "yanchor": "bottom",
          "yref": "paper"
         },
         {
          "font": {},
          "showarrow": false,
          "text": "state=WY",
          "x": 0.8824999999999998,
          "xanchor": "center",
          "xref": "paper",
          "y": 0.2866666666666666,
          "yanchor": "bottom",
          "yref": "paper"
         },
         {
          "font": {},
          "showarrow": false,
          "text": "state=MI",
          "x": 0.1175,
          "xanchor": "center",
          "xref": "paper",
          "y": 0.6433333333333333,
          "yanchor": "bottom",
          "yref": "paper"
         },
         {
          "font": {},
          "showarrow": false,
          "text": "state=NE",
          "x": 0.3725,
          "xanchor": "center",
          "xref": "paper",
          "y": 0.6433333333333333,
          "yanchor": "bottom",
          "yref": "paper"
         },
         {
          "font": {},
          "showarrow": false,
          "text": "state=NY",
          "x": 0.6275,
          "xanchor": "center",
          "xref": "paper",
          "y": 0.6433333333333333,
          "yanchor": "bottom",
          "yref": "paper"
         },
         {
          "font": {},
          "showarrow": false,
          "text": "state=OR",
          "x": 0.8824999999999998,
          "xanchor": "center",
          "xref": "paper",
          "y": 0.6433333333333333,
          "yanchor": "bottom",
          "yref": "paper"
         },
         {
          "font": {},
          "showarrow": false,
          "text": "state=CA",
          "x": 0.1175,
          "xanchor": "center",
          "xref": "paper",
          "y": 0.9999999999999999,
          "yanchor": "bottom",
          "yref": "paper"
         },
         {
          "font": {},
          "showarrow": false,
          "text": "state=CO",
          "x": 0.3725,
          "xanchor": "center",
          "xref": "paper",
          "y": 0.9999999999999999,
          "yanchor": "bottom",
          "yref": "paper"
         },
         {
          "font": {},
          "showarrow": false,
          "text": "state=ID",
          "x": 0.6275,
          "xanchor": "center",
          "xref": "paper",
          "y": 0.9999999999999999,
          "yanchor": "bottom",
          "yref": "paper"
         },
         {
          "font": {},
          "showarrow": false,
          "text": "state=IL",
          "x": 0.8824999999999998,
          "xanchor": "center",
          "xref": "paper",
          "y": 0.9999999999999999,
          "yanchor": "bottom",
          "yref": "paper"
         }
        ],
        "height": 800,
        "legend": {
         "title": {
          "text": "year"
         },
         "tracegroupgap": 0
        },
        "template": {
         "data": {
          "bar": [
           {
            "error_x": {
             "color": "#2a3f5f"
            },
            "error_y": {
             "color": "#2a3f5f"
            },
            "marker": {
             "line": {
              "color": "#E5ECF6",
              "width": 0.5
             },
             "pattern": {
              "fillmode": "overlay",
              "size": 10,
              "solidity": 0.2
             }
            },
            "type": "bar"
           }
          ],
          "barpolar": [
           {
            "marker": {
             "line": {
              "color": "#E5ECF6",
              "width": 0.5
             },
             "pattern": {
              "fillmode": "overlay",
              "size": 10,
              "solidity": 0.2
             }
            },
            "type": "barpolar"
           }
          ],
          "carpet": [
           {
            "aaxis": {
             "endlinecolor": "#2a3f5f",
             "gridcolor": "white",
             "linecolor": "white",
             "minorgridcolor": "white",
             "startlinecolor": "#2a3f5f"
            },
            "baxis": {
             "endlinecolor": "#2a3f5f",
             "gridcolor": "white",
             "linecolor": "white",
             "minorgridcolor": "white",
             "startlinecolor": "#2a3f5f"
            },
            "type": "carpet"
           }
          ],
          "choropleth": [
           {
            "colorbar": {
             "outlinewidth": 0,
             "ticks": ""
            },
            "type": "choropleth"
           }
          ],
          "contour": [
           {
            "colorbar": {
             "outlinewidth": 0,
             "ticks": ""
            },
            "colorscale": [
             [
              0,
              "#0d0887"
             ],
             [
              0.1111111111111111,
              "#46039f"
             ],
             [
              0.2222222222222222,
              "#7201a8"
             ],
             [
              0.3333333333333333,
              "#9c179e"
             ],
             [
              0.4444444444444444,
              "#bd3786"
             ],
             [
              0.5555555555555556,
              "#d8576b"
             ],
             [
              0.6666666666666666,
              "#ed7953"
             ],
             [
              0.7777777777777778,
              "#fb9f3a"
             ],
             [
              0.8888888888888888,
              "#fdca26"
             ],
             [
              1,
              "#f0f921"
             ]
            ],
            "type": "contour"
           }
          ],
          "contourcarpet": [
           {
            "colorbar": {
             "outlinewidth": 0,
             "ticks": ""
            },
            "type": "contourcarpet"
           }
          ],
          "heatmap": [
           {
            "colorbar": {
             "outlinewidth": 0,
             "ticks": ""
            },
            "colorscale": [
             [
              0,
              "#0d0887"
             ],
             [
              0.1111111111111111,
              "#46039f"
             ],
             [
              0.2222222222222222,
              "#7201a8"
             ],
             [
              0.3333333333333333,
              "#9c179e"
             ],
             [
              0.4444444444444444,
              "#bd3786"
             ],
             [
              0.5555555555555556,
              "#d8576b"
             ],
             [
              0.6666666666666666,
              "#ed7953"
             ],
             [
              0.7777777777777778,
              "#fb9f3a"
             ],
             [
              0.8888888888888888,
              "#fdca26"
             ],
             [
              1,
              "#f0f921"
             ]
            ],
            "type": "heatmap"
           }
          ],
          "heatmapgl": [
           {
            "colorbar": {
             "outlinewidth": 0,
             "ticks": ""
            },
            "colorscale": [
             [
              0,
              "#0d0887"
             ],
             [
              0.1111111111111111,
              "#46039f"
             ],
             [
              0.2222222222222222,
              "#7201a8"
             ],
             [
              0.3333333333333333,
              "#9c179e"
             ],
             [
              0.4444444444444444,
              "#bd3786"
             ],
             [
              0.5555555555555556,
              "#d8576b"
             ],
             [
              0.6666666666666666,
              "#ed7953"
             ],
             [
              0.7777777777777778,
              "#fb9f3a"
             ],
             [
              0.8888888888888888,
              "#fdca26"
             ],
             [
              1,
              "#f0f921"
             ]
            ],
            "type": "heatmapgl"
           }
          ],
          "histogram": [
           {
            "marker": {
             "pattern": {
              "fillmode": "overlay",
              "size": 10,
              "solidity": 0.2
             }
            },
            "type": "histogram"
           }
          ],
          "histogram2d": [
           {
            "colorbar": {
             "outlinewidth": 0,
             "ticks": ""
            },
            "colorscale": [
             [
              0,
              "#0d0887"
             ],
             [
              0.1111111111111111,
              "#46039f"
             ],
             [
              0.2222222222222222,
              "#7201a8"
             ],
             [
              0.3333333333333333,
              "#9c179e"
             ],
             [
              0.4444444444444444,
              "#bd3786"
             ],
             [
              0.5555555555555556,
              "#d8576b"
             ],
             [
              0.6666666666666666,
              "#ed7953"
             ],
             [
              0.7777777777777778,
              "#fb9f3a"
             ],
             [
              0.8888888888888888,
              "#fdca26"
             ],
             [
              1,
              "#f0f921"
             ]
            ],
            "type": "histogram2d"
           }
          ],
          "histogram2dcontour": [
           {
            "colorbar": {
             "outlinewidth": 0,
             "ticks": ""
            },
            "colorscale": [
             [
              0,
              "#0d0887"
             ],
             [
              0.1111111111111111,
              "#46039f"
             ],
             [
              0.2222222222222222,
              "#7201a8"
             ],
             [
              0.3333333333333333,
              "#9c179e"
             ],
             [
              0.4444444444444444,
              "#bd3786"
             ],
             [
              0.5555555555555556,
              "#d8576b"
             ],
             [
              0.6666666666666666,
              "#ed7953"
             ],
             [
              0.7777777777777778,
              "#fb9f3a"
             ],
             [
              0.8888888888888888,
              "#fdca26"
             ],
             [
              1,
              "#f0f921"
             ]
            ],
            "type": "histogram2dcontour"
           }
          ],
          "mesh3d": [
           {
            "colorbar": {
             "outlinewidth": 0,
             "ticks": ""
            },
            "type": "mesh3d"
           }
          ],
          "parcoords": [
           {
            "line": {
             "colorbar": {
              "outlinewidth": 0,
              "ticks": ""
             }
            },
            "type": "parcoords"
           }
          ],
          "pie": [
           {
            "automargin": true,
            "type": "pie"
           }
          ],
          "scatter": [
           {
            "fillpattern": {
             "fillmode": "overlay",
             "size": 10,
             "solidity": 0.2
            },
            "type": "scatter"
           }
          ],
          "scatter3d": [
           {
            "line": {
             "colorbar": {
              "outlinewidth": 0,
              "ticks": ""
             }
            },
            "marker": {
             "colorbar": {
              "outlinewidth": 0,
              "ticks": ""
             }
            },
            "type": "scatter3d"
           }
          ],
          "scattercarpet": [
           {
            "marker": {
             "colorbar": {
              "outlinewidth": 0,
              "ticks": ""
             }
            },
            "type": "scattercarpet"
           }
          ],
          "scattergeo": [
           {
            "marker": {
             "colorbar": {
              "outlinewidth": 0,
              "ticks": ""
             }
            },
            "type": "scattergeo"
           }
          ],
          "scattergl": [
           {
            "marker": {
             "colorbar": {
              "outlinewidth": 0,
              "ticks": ""
             }
            },
            "type": "scattergl"
           }
          ],
          "scattermapbox": [
           {
            "marker": {
             "colorbar": {
              "outlinewidth": 0,
              "ticks": ""
             }
            },
            "type": "scattermapbox"
           }
          ],
          "scatterpolar": [
           {
            "marker": {
             "colorbar": {
              "outlinewidth": 0,
              "ticks": ""
             }
            },
            "type": "scatterpolar"
           }
          ],
          "scatterpolargl": [
           {
            "marker": {
             "colorbar": {
              "outlinewidth": 0,
              "ticks": ""
             }
            },
            "type": "scatterpolargl"
           }
          ],
          "scatterternary": [
           {
            "marker": {
             "colorbar": {
              "outlinewidth": 0,
              "ticks": ""
             }
            },
            "type": "scatterternary"
           }
          ],
          "surface": [
           {
            "colorbar": {
             "outlinewidth": 0,
             "ticks": ""
            },
            "colorscale": [
             [
              0,
              "#0d0887"
             ],
             [
              0.1111111111111111,
              "#46039f"
             ],
             [
              0.2222222222222222,
              "#7201a8"
             ],
             [
              0.3333333333333333,
              "#9c179e"
             ],
             [
              0.4444444444444444,
              "#bd3786"
             ],
             [
              0.5555555555555556,
              "#d8576b"
             ],
             [
              0.6666666666666666,
              "#ed7953"
             ],
             [
              0.7777777777777778,
              "#fb9f3a"
             ],
             [
              0.8888888888888888,
              "#fdca26"
             ],
             [
              1,
              "#f0f921"
             ]
            ],
            "type": "surface"
           }
          ],
          "table": [
           {
            "cells": {
             "fill": {
              "color": "#EBF0F8"
             },
             "line": {
              "color": "white"
             }
            },
            "header": {
             "fill": {
              "color": "#C8D4E3"
             },
             "line": {
              "color": "white"
             }
            },
            "type": "table"
           }
          ]
         },
         "layout": {
          "annotationdefaults": {
           "arrowcolor": "#2a3f5f",
           "arrowhead": 0,
           "arrowwidth": 1
          },
          "autotypenumbers": "strict",
          "coloraxis": {
           "colorbar": {
            "outlinewidth": 0,
            "ticks": ""
           }
          },
          "colorscale": {
           "diverging": [
            [
             0,
             "#8e0152"
            ],
            [
             0.1,
             "#c51b7d"
            ],
            [
             0.2,
             "#de77ae"
            ],
            [
             0.3,
             "#f1b6da"
            ],
            [
             0.4,
             "#fde0ef"
            ],
            [
             0.5,
             "#f7f7f7"
            ],
            [
             0.6,
             "#e6f5d0"
            ],
            [
             0.7,
             "#b8e186"
            ],
            [
             0.8,
             "#7fbc41"
            ],
            [
             0.9,
             "#4d9221"
            ],
            [
             1,
             "#276419"
            ]
           ],
           "sequential": [
            [
             0,
             "#0d0887"
            ],
            [
             0.1111111111111111,
             "#46039f"
            ],
            [
             0.2222222222222222,
             "#7201a8"
            ],
            [
             0.3333333333333333,
             "#9c179e"
            ],
            [
             0.4444444444444444,
             "#bd3786"
            ],
            [
             0.5555555555555556,
             "#d8576b"
            ],
            [
             0.6666666666666666,
             "#ed7953"
            ],
            [
             0.7777777777777778,
             "#fb9f3a"
            ],
            [
             0.8888888888888888,
             "#fdca26"
            ],
            [
             1,
             "#f0f921"
            ]
           ],
           "sequentialminus": [
            [
             0,
             "#0d0887"
            ],
            [
             0.1111111111111111,
             "#46039f"
            ],
            [
             0.2222222222222222,
             "#7201a8"
            ],
            [
             0.3333333333333333,
             "#9c179e"
            ],
            [
             0.4444444444444444,
             "#bd3786"
            ],
            [
             0.5555555555555556,
             "#d8576b"
            ],
            [
             0.6666666666666666,
             "#ed7953"
            ],
            [
             0.7777777777777778,
             "#fb9f3a"
            ],
            [
             0.8888888888888888,
             "#fdca26"
            ],
            [
             1,
             "#f0f921"
            ]
           ]
          },
          "colorway": [
           "#636efa",
           "#EF553B",
           "#00cc96",
           "#ab63fa",
           "#FFA15A",
           "#19d3f3",
           "#FF6692",
           "#B6E880",
           "#FF97FF",
           "#FECB52"
          ],
          "font": {
           "color": "#2a3f5f"
          },
          "geo": {
           "bgcolor": "white",
           "lakecolor": "white",
           "landcolor": "#E5ECF6",
           "showlakes": true,
           "showland": true,
           "subunitcolor": "white"
          },
          "hoverlabel": {
           "align": "left"
          },
          "hovermode": "closest",
          "mapbox": {
           "style": "light"
          },
          "paper_bgcolor": "white",
          "plot_bgcolor": "#E5ECF6",
          "polar": {
           "angularaxis": {
            "gridcolor": "white",
            "linecolor": "white",
            "ticks": ""
           },
           "bgcolor": "#E5ECF6",
           "radialaxis": {
            "gridcolor": "white",
            "linecolor": "white",
            "ticks": ""
           }
          },
          "scene": {
           "xaxis": {
            "backgroundcolor": "#E5ECF6",
            "gridcolor": "white",
            "gridwidth": 2,
            "linecolor": "white",
            "showbackground": true,
            "ticks": "",
            "zerolinecolor": "white"
           },
           "yaxis": {
            "backgroundcolor": "#E5ECF6",
            "gridcolor": "white",
            "gridwidth": 2,
            "linecolor": "white",
            "showbackground": true,
            "ticks": "",
            "zerolinecolor": "white"
           },
           "zaxis": {
            "backgroundcolor": "#E5ECF6",
            "gridcolor": "white",
            "gridwidth": 2,
            "linecolor": "white",
            "showbackground": true,
            "ticks": "",
            "zerolinecolor": "white"
           }
          },
          "shapedefaults": {
           "line": {
            "color": "#2a3f5f"
           }
          },
          "ternary": {
           "aaxis": {
            "gridcolor": "white",
            "linecolor": "white",
            "ticks": ""
           },
           "baxis": {
            "gridcolor": "white",
            "linecolor": "white",
            "ticks": ""
           },
           "bgcolor": "#E5ECF6",
           "caxis": {
            "gridcolor": "white",
            "linecolor": "white",
            "ticks": ""
           }
          },
          "title": {
           "x": 0.05
          },
          "xaxis": {
           "automargin": true,
           "gridcolor": "white",
           "linecolor": "white",
           "ticks": "",
           "title": {
            "standoff": 15
           },
           "zerolinecolor": "white",
           "zerolinewidth": 2
          },
          "yaxis": {
           "automargin": true,
           "gridcolor": "white",
           "linecolor": "white",
           "ticks": "",
           "title": {
            "standoff": 15
           },
           "zerolinecolor": "white",
           "zerolinewidth": 2
          }
         }
        },
        "title": {
         "text": "Price Decreases over Time by State"
        },
        "width": 1200,
        "xaxis": {
         "anchor": "y",
         "domain": [
          0,
          0.235
         ],
         "title": {
          "text": "month_num"
         }
        },
        "xaxis10": {
         "anchor": "y10",
         "domain": [
          0.255,
          0.49
         ],
         "matches": "x",
         "showticklabels": false
        },
        "xaxis11": {
         "anchor": "y11",
         "domain": [
          0.51,
          0.745
         ],
         "matches": "x",
         "showticklabels": false
        },
        "xaxis12": {
         "anchor": "y12",
         "domain": [
          0.7649999999999999,
          0.9999999999999999
         ],
         "matches": "x",
         "showticklabels": false
        },
        "xaxis2": {
         "anchor": "y2",
         "domain": [
          0.255,
          0.49
         ],
         "matches": "x",
         "title": {
          "text": "month_num"
         }
        },
        "xaxis3": {
         "anchor": "y3",
         "domain": [
          0.51,
          0.745
         ],
         "matches": "x",
         "title": {
          "text": "month_num"
         }
        },
        "xaxis4": {
         "anchor": "y4",
         "domain": [
          0.7649999999999999,
          0.9999999999999999
         ],
         "matches": "x",
         "title": {
          "text": "month_num"
         }
        },
        "xaxis5": {
         "anchor": "y5",
         "domain": [
          0,
          0.235
         ],
         "matches": "x",
         "showticklabels": false
        },
        "xaxis6": {
         "anchor": "y6",
         "domain": [
          0.255,
          0.49
         ],
         "matches": "x",
         "showticklabels": false
        },
        "xaxis7": {
         "anchor": "y7",
         "domain": [
          0.51,
          0.745
         ],
         "matches": "x",
         "showticklabels": false
        },
        "xaxis8": {
         "anchor": "y8",
         "domain": [
          0.7649999999999999,
          0.9999999999999999
         ],
         "matches": "x",
         "showticklabels": false
        },
        "xaxis9": {
         "anchor": "y9",
         "domain": [
          0,
          0.235
         ],
         "matches": "x",
         "showticklabels": false
        },
        "yaxis": {
         "anchor": "x",
         "domain": [
          0,
          0.2866666666666666
         ],
         "title": {
          "text": "price_reductions"
         }
        },
        "yaxis10": {
         "anchor": "x10",
         "domain": [
          0.7133333333333333,
          0.9999999999999999
         ],
         "showticklabels": false
        },
        "yaxis11": {
         "anchor": "x11",
         "domain": [
          0.7133333333333333,
          0.9999999999999999
         ],
         "showticklabels": false
        },
        "yaxis12": {
         "anchor": "x12",
         "domain": [
          0.7133333333333333,
          0.9999999999999999
         ],
         "showticklabels": false
        },
        "yaxis2": {
         "anchor": "x2",
         "domain": [
          0,
          0.2866666666666666
         ],
         "showticklabels": false
        },
        "yaxis3": {
         "anchor": "x3",
         "domain": [
          0,
          0.2866666666666666
         ],
         "showticklabels": false
        },
        "yaxis4": {
         "anchor": "x4",
         "domain": [
          0,
          0.2866666666666666
         ],
         "showticklabels": false
        },
        "yaxis5": {
         "anchor": "x5",
         "domain": [
          0.35666666666666663,
          0.6433333333333333
         ],
         "title": {
          "text": "price_reductions"
         }
        },
        "yaxis6": {
         "anchor": "x6",
         "domain": [
          0.35666666666666663,
          0.6433333333333333
         ],
         "showticklabels": false
        },
        "yaxis7": {
         "anchor": "x7",
         "domain": [
          0.35666666666666663,
          0.6433333333333333
         ],
         "showticklabels": false
        },
        "yaxis8": {
         "anchor": "x8",
         "domain": [
          0.35666666666666663,
          0.6433333333333333
         ],
         "showticklabels": false
        },
        "yaxis9": {
         "anchor": "x9",
         "domain": [
          0.7133333333333333,
          0.9999999999999999
         ],
         "title": {
          "text": "price_reductions"
         }
        }
       }
      }
     },
     "metadata": {},
     "output_type": "display_data"
    }
   ],
   "source": [
    "fig = px.line(df.query(\"state in @select_states\"),\n",
    "    x = 'month_num',\n",
    "    y = 'price_reductions',\n",
    "    color = 'year',\n",
    "    facet_col = 'state',\n",
    "    facet_col_wrap = 4,\n",
    "    title = 'Price Decreases over Time by State',\n",
    "    color_discrete_sequence=px.colors.sequential.Inferno\n",
    "    )\n",
    "fig.update_yaxes(matches = None)\n",
    "fig.update_layout(height = 800, width = 1200)\n",
    "fig.show()"
   ]
  },
  {
   "cell_type": "code",
   "execution_count": 12,
   "metadata": {},
   "outputs": [
    {
     "data": {
      "application/vnd.plotly.v1+json": {
       "config": {
        "plotlyServerURL": "https://plot.ly"
       },
       "data": [
        {
         "hovertemplate": "year=2016<br>state=CA<br>month_num=%{x}<br>med_lp=%{y}<extra></extra>",
         "legendgroup": "2016",
         "line": {
          "color": "#000004",
          "dash": "solid"
         },
         "marker": {
          "symbol": "circle"
         },
         "mode": "lines",
         "name": "2016",
         "orientation": "v",
         "showlegend": true,
         "type": "scatter",
         "x": [
          7,
          8,
          9,
          10,
          11,
          12
         ],
         "xaxis": "x9",
         "y": [
          517000,
          500000,
          499444,
          499000,
          497000,
          485000
         ],
         "yaxis": "y9"
        },
        {
         "hovertemplate": "year=2016<br>state=CO<br>month_num=%{x}<br>med_lp=%{y}<extra></extra>",
         "legendgroup": "2016",
         "line": {
          "color": "#000004",
          "dash": "solid"
         },
         "marker": {
          "symbol": "circle"
         },
         "mode": "lines",
         "name": "2016",
         "orientation": "v",
         "showlegend": false,
         "type": "scatter",
         "x": [
          7,
          8,
          9,
          10,
          11,
          12
         ],
         "xaxis": "x10",
         "y": [
          424900,
          424900,
          423315,
          421065,
          424975,
          425000
         ],
         "yaxis": "y10"
        },
        {
         "hovertemplate": "year=2016<br>state=ID<br>month_num=%{x}<br>med_lp=%{y}<extra></extra>",
         "legendgroup": "2016",
         "line": {
          "color": "#000004",
          "dash": "solid"
         },
         "marker": {
          "symbol": "circle"
         },
         "mode": "lines",
         "name": "2016",
         "orientation": "v",
         "showlegend": false,
         "type": "scatter",
         "x": [
          7,
          8,
          9,
          10,
          11,
          12
         ],
         "xaxis": "x11",
         "y": [
          259900,
          259000,
          258998,
          259000,
          257548,
          259000
         ],
         "yaxis": "y11"
        },
        {
         "hovertemplate": "year=2016<br>state=IL<br>month_num=%{x}<br>med_lp=%{y}<extra></extra>",
         "legendgroup": "2016",
         "line": {
          "color": "#000004",
          "dash": "solid"
         },
         "marker": {
          "symbol": "circle"
         },
         "mode": "lines",
         "name": "2016",
         "orientation": "v",
         "showlegend": false,
         "type": "scatter",
         "x": [
          7,
          8,
          9,
          10,
          11,
          12
         ],
         "xaxis": "x12",
         "y": [
          224900,
          222700,
          219999,
          219900,
          214950,
          201000
         ],
         "yaxis": "y12"
        },
        {
         "hovertemplate": "year=2016<br>state=MI<br>month_num=%{x}<br>med_lp=%{y}<extra></extra>",
         "legendgroup": "2016",
         "line": {
          "color": "#000004",
          "dash": "solid"
         },
         "marker": {
          "symbol": "circle"
         },
         "mode": "lines",
         "name": "2016",
         "orientation": "v",
         "showlegend": false,
         "type": "scatter",
         "x": [
          7,
          8,
          9,
          10,
          11,
          12
         ],
         "xaxis": "x5",
         "y": [
          166000,
          167000,
          165000,
          164900,
          159900,
          155500
         ],
         "yaxis": "y5"
        },
        {
         "hovertemplate": "year=2016<br>state=NE<br>month_num=%{x}<br>med_lp=%{y}<extra></extra>",
         "legendgroup": "2016",
         "line": {
          "color": "#000004",
          "dash": "solid"
         },
         "marker": {
          "symbol": "circle"
         },
         "mode": "lines",
         "name": "2016",
         "orientation": "v",
         "showlegend": false,
         "type": "scatter",
         "x": [
          7,
          8,
          9,
          10,
          11,
          12
         ],
         "xaxis": "x6",
         "y": [
          189975,
          188450,
          184950,
          184931,
          184900,
          183350
         ],
         "yaxis": "y6"
        },
        {
         "hovertemplate": "year=2016<br>state=NY<br>month_num=%{x}<br>med_lp=%{y}<extra></extra>",
         "legendgroup": "2016",
         "line": {
          "color": "#000004",
          "dash": "solid"
         },
         "marker": {
          "symbol": "circle"
         },
         "mode": "lines",
         "name": "2016",
         "orientation": "v",
         "showlegend": false,
         "type": "scatter",
         "x": [
          7,
          8,
          9,
          10,
          11,
          12
         ],
         "xaxis": "x7",
         "y": [
          304000,
          299900,
          299950,
          309000,
          318250,
          309238
         ],
         "yaxis": "y7"
        },
        {
         "hovertemplate": "year=2016<br>state=OR<br>month_num=%{x}<br>med_lp=%{y}<extra></extra>",
         "legendgroup": "2016",
         "line": {
          "color": "#000004",
          "dash": "solid"
         },
         "marker": {
          "symbol": "circle"
         },
         "mode": "lines",
         "name": "2016",
         "orientation": "v",
         "showlegend": false,
         "type": "scatter",
         "x": [
          7,
          8,
          9,
          10,
          11,
          12
         ],
         "xaxis": "x8",
         "y": [
          359000,
          358900,
          359000,
          359000,
          355000,
          350000
         ],
         "yaxis": "y8"
        },
        {
         "hovertemplate": "year=2016<br>state=PA<br>month_num=%{x}<br>med_lp=%{y}<extra></extra>",
         "legendgroup": "2016",
         "line": {
          "color": "#000004",
          "dash": "solid"
         },
         "marker": {
          "symbol": "circle"
         },
         "mode": "lines",
         "name": "2016",
         "orientation": "v",
         "showlegend": false,
         "type": "scatter",
         "x": [
          7,
          8,
          9,
          10,
          11,
          12
         ],
         "xaxis": "x",
         "y": [
          184900,
          180500,
          179998,
          179900,
          179900,
          175000
         ],
         "yaxis": "y"
        },
        {
         "hovertemplate": "year=2016<br>state=UT<br>month_num=%{x}<br>med_lp=%{y}<extra></extra>",
         "legendgroup": "2016",
         "line": {
          "color": "#000004",
          "dash": "solid"
         },
         "marker": {
          "symbol": "circle"
         },
         "mode": "lines",
         "name": "2016",
         "orientation": "v",
         "showlegend": false,
         "type": "scatter",
         "x": [
          7,
          8,
          9,
          10,
          11,
          12
         ],
         "xaxis": "x2",
         "y": [
          325000,
          324950,
          325000,
          326200,
          328900,
          331650
         ],
         "yaxis": "y2"
        },
        {
         "hovertemplate": "year=2016<br>state=WI<br>month_num=%{x}<br>med_lp=%{y}<extra></extra>",
         "legendgroup": "2016",
         "line": {
          "color": "#000004",
          "dash": "solid"
         },
         "marker": {
          "symbol": "circle"
         },
         "mode": "lines",
         "name": "2016",
         "orientation": "v",
         "showlegend": false,
         "type": "scatter",
         "x": [
          7,
          8,
          9,
          10,
          11,
          12
         ],
         "xaxis": "x3",
         "y": [
          188897,
          189000,
          188450,
          185000,
          184863,
          179900
         ],
         "yaxis": "y3"
        },
        {
         "hovertemplate": "year=2016<br>state=WY<br>month_num=%{x}<br>med_lp=%{y}<extra></extra>",
         "legendgroup": "2016",
         "line": {
          "color": "#000004",
          "dash": "solid"
         },
         "marker": {
          "symbol": "circle"
         },
         "mode": "lines",
         "name": "2016",
         "orientation": "v",
         "showlegend": false,
         "type": "scatter",
         "x": [
          7,
          8,
          9,
          10,
          11,
          12
         ],
         "xaxis": "x4",
         "y": [
          246975,
          245738,
          245975,
          244000,
          239000,
          235000
         ],
         "yaxis": "y4"
        },
        {
         "hovertemplate": "year=2017<br>state=CA<br>month_num=%{x}<br>med_lp=%{y}<extra></extra>",
         "legendgroup": "2017",
         "line": {
          "color": "#1b0c41",
          "dash": "solid"
         },
         "marker": {
          "symbol": "circle"
         },
         "mode": "lines",
         "name": "2017",
         "orientation": "v",
         "showlegend": true,
         "type": "scatter",
         "x": [
          1,
          2,
          3,
          4,
          5,
          6,
          7,
          8,
          9,
          10,
          11,
          12
         ],
         "xaxis": "x9",
         "y": [
          487000,
          499000,
          515450,
          529900,
          549000,
          549900,
          549000,
          534950,
          530000,
          527000,
          523250,
          510000
         ],
         "yaxis": "y9"
        },
        {
         "hovertemplate": "year=2017<br>state=CO<br>month_num=%{x}<br>med_lp=%{y}<extra></extra>",
         "legendgroup": "2017",
         "line": {
          "color": "#1b0c41",
          "dash": "solid"
         },
         "marker": {
          "symbol": "circle"
         },
         "mode": "lines",
         "name": "2017",
         "orientation": "v",
         "showlegend": false,
         "type": "scatter",
         "x": [
          1,
          2,
          3,
          4,
          5,
          6,
          7,
          8,
          9,
          10,
          11,
          12
         ],
         "xaxis": "x10",
         "y": [
          432500,
          445000,
          449962,
          450000,
          456351,
          455975,
          453900,
          449700,
          449900,
          449972,
          449450,
          450000
         ],
         "yaxis": "y10"
        },
        {
         "hovertemplate": "year=2017<br>state=ID<br>month_num=%{x}<br>med_lp=%{y}<extra></extra>",
         "legendgroup": "2017",
         "line": {
          "color": "#1b0c41",
          "dash": "solid"
         },
         "marker": {
          "symbol": "circle"
         },
         "mode": "lines",
         "name": "2017",
         "orientation": "v",
         "showlegend": false,
         "type": "scatter",
         "x": [
          1,
          2,
          3,
          4,
          5,
          6,
          7,
          8,
          9,
          10,
          11,
          12
         ],
         "xaxis": "x11",
         "y": [
          259450,
          262473,
          269425,
          279900,
          289100,
          289250,
          289900,
          289900,
          289000,
          289950,
          295000,
          297290
         ],
         "yaxis": "y11"
        },
        {
         "hovertemplate": "year=2017<br>state=IL<br>month_num=%{x}<br>med_lp=%{y}<extra></extra>",
         "legendgroup": "2017",
         "line": {
          "color": "#1b0c41",
          "dash": "solid"
         },
         "marker": {
          "symbol": "circle"
         },
         "mode": "lines",
         "name": "2017",
         "orientation": "v",
         "showlegend": false,
         "type": "scatter",
         "x": [
          1,
          2,
          3,
          4,
          5,
          6,
          7,
          8,
          9,
          10,
          11,
          12
         ],
         "xaxis": "x12",
         "y": [
          199900,
          211400,
          224950,
          229900,
          239450,
          241500,
          239900,
          235750,
          234900,
          232000,
          227000,
          219000
         ],
         "yaxis": "y12"
        },
        {
         "hovertemplate": "year=2017<br>state=MI<br>month_num=%{x}<br>med_lp=%{y}<extra></extra>",
         "legendgroup": "2017",
         "line": {
          "color": "#1b0c41",
          "dash": "solid"
         },
         "marker": {
          "symbol": "circle"
         },
         "mode": "lines",
         "name": "2017",
         "orientation": "v",
         "showlegend": false,
         "type": "scatter",
         "x": [
          1,
          2,
          3,
          4,
          5,
          6,
          7,
          8,
          9,
          10,
          11,
          12
         ],
         "xaxis": "x5",
         "y": [
          154400,
          159450,
          167000,
          174900,
          181450,
          186950,
          185000,
          184900,
          184000,
          180000,
          179450,
          174900
         ],
         "yaxis": "y5"
        },
        {
         "hovertemplate": "year=2017<br>state=NE<br>month_num=%{x}<br>med_lp=%{y}<extra></extra>",
         "legendgroup": "2017",
         "line": {
          "color": "#1b0c41",
          "dash": "solid"
         },
         "marker": {
          "symbol": "circle"
         },
         "mode": "lines",
         "name": "2017",
         "orientation": "v",
         "showlegend": false,
         "type": "scatter",
         "x": [
          1,
          2,
          3,
          4,
          5,
          6,
          7,
          8,
          9,
          10,
          11,
          12
         ],
         "xaxis": "x6",
         "y": [
          187350,
          197450,
          203900,
          215475,
          222450,
          222425,
          219900,
          217975,
          215000,
          210500,
          212225,
          210000
         ],
         "yaxis": "y6"
        },
        {
         "hovertemplate": "year=2017<br>state=NY<br>month_num=%{x}<br>med_lp=%{y}<extra></extra>",
         "legendgroup": "2017",
         "line": {
          "color": "#1b0c41",
          "dash": "solid"
         },
         "marker": {
          "symbol": "circle"
         },
         "mode": "lines",
         "name": "2017",
         "orientation": "v",
         "showlegend": false,
         "type": "scatter",
         "x": [
          1,
          2,
          3,
          4,
          5,
          6,
          7,
          8,
          9,
          10,
          11,
          12
         ],
         "xaxis": "x7",
         "y": [
          307450,
          327450,
          344950,
          357523,
          369450,
          369000,
          364000,
          349945,
          350000,
          359950,
          365000,
          365000
         ],
         "yaxis": "y7"
        },
        {
         "hovertemplate": "year=2017<br>state=OR<br>month_num=%{x}<br>med_lp=%{y}<extra></extra>",
         "legendgroup": "2017",
         "line": {
          "color": "#1b0c41",
          "dash": "solid"
         },
         "marker": {
          "symbol": "circle"
         },
         "mode": "lines",
         "name": "2017",
         "orientation": "v",
         "showlegend": false,
         "type": "scatter",
         "x": [
          1,
          2,
          3,
          4,
          5,
          6,
          7,
          8,
          9,
          10,
          11,
          12
         ],
         "xaxis": "x8",
         "y": [
          350998,
          359450,
          369450,
          379900,
          394950,
          395000,
          400000,
          399950,
          399000,
          399888,
          399900,
          399900
         ],
         "yaxis": "y8"
        },
        {
         "hovertemplate": "year=2017<br>state=PA<br>month_num=%{x}<br>med_lp=%{y}<extra></extra>",
         "legendgroup": "2017",
         "line": {
          "color": "#1b0c41",
          "dash": "solid"
         },
         "marker": {
          "symbol": "circle"
         },
         "mode": "lines",
         "name": "2017",
         "orientation": "v",
         "showlegend": false,
         "type": "scatter",
         "x": [
          1,
          2,
          3,
          4,
          5,
          6,
          7,
          8,
          9,
          10,
          11,
          12
         ],
         "xaxis": "x",
         "y": [
          174900,
          177000,
          184950,
          189900,
          198500,
          199500,
          199000,
          195000,
          195000,
          199000,
          196200,
          189900
         ],
         "yaxis": "y"
        },
        {
         "hovertemplate": "year=2017<br>state=UT<br>month_num=%{x}<br>med_lp=%{y}<extra></extra>",
         "legendgroup": "2017",
         "line": {
          "color": "#1b0c41",
          "dash": "solid"
         },
         "marker": {
          "symbol": "circle"
         },
         "mode": "lines",
         "name": "2017",
         "orientation": "v",
         "showlegend": false,
         "type": "scatter",
         "x": [
          1,
          2,
          3,
          4,
          5,
          6,
          7,
          8,
          9,
          10,
          11,
          12
         ],
         "xaxis": "x2",
         "y": [
          337500,
          349475,
          358950,
          359900,
          359925,
          362124,
          364000,
          359700,
          359000,
          352665,
          354900,
          358442
         ],
         "yaxis": "y2"
        },
        {
         "hovertemplate": "year=2017<br>state=WI<br>month_num=%{x}<br>med_lp=%{y}<extra></extra>",
         "legendgroup": "2017",
         "line": {
          "color": "#1b0c41",
          "dash": "solid"
         },
         "marker": {
          "symbol": "circle"
         },
         "mode": "lines",
         "name": "2017",
         "orientation": "v",
         "showlegend": false,
         "type": "scatter",
         "x": [
          1,
          2,
          3,
          4,
          5,
          6,
          7,
          8,
          9,
          10,
          11,
          12
         ],
         "xaxis": "x3",
         "y": [
          179900,
          183900,
          189900,
          197900,
          199900,
          204900,
          206900,
          209900,
          209000,
          205000,
          199950,
          199900
         ],
         "yaxis": "y3"
        },
        {
         "hovertemplate": "year=2017<br>state=WY<br>month_num=%{x}<br>med_lp=%{y}<extra></extra>",
         "legendgroup": "2017",
         "line": {
          "color": "#1b0c41",
          "dash": "solid"
         },
         "marker": {
          "symbol": "circle"
         },
         "mode": "lines",
         "name": "2017",
         "orientation": "v",
         "showlegend": false,
         "type": "scatter",
         "x": [
          1,
          2,
          3,
          4,
          5,
          6,
          7,
          8,
          9,
          10,
          11,
          12
         ],
         "xaxis": "x4",
         "y": [
          234950,
          235000,
          239000,
          239900,
          244281,
          245000,
          248950,
          247000,
          247900,
          247850,
          241750,
          242900
         ],
         "yaxis": "y4"
        },
        {
         "hovertemplate": "year=2018<br>state=CA<br>month_num=%{x}<br>med_lp=%{y}<extra></extra>",
         "legendgroup": "2018",
         "line": {
          "color": "#4a0c6b",
          "dash": "solid"
         },
         "marker": {
          "symbol": "circle"
         },
         "mode": "lines",
         "name": "2018",
         "orientation": "v",
         "showlegend": true,
         "type": "scatter",
         "x": [
          1,
          2,
          3,
          4,
          5,
          6,
          7,
          8,
          9,
          10,
          11,
          12
         ],
         "xaxis": "x9",
         "y": [
          507818,
          524950,
          549000,
          557496,
          568444,
          570000,
          568500,
          559475,
          551000,
          550000,
          549945,
          539000
         ],
         "yaxis": "y9"
        },
        {
         "hovertemplate": "year=2018<br>state=CO<br>month_num=%{x}<br>med_lp=%{y}<extra></extra>",
         "legendgroup": "2018",
         "line": {
          "color": "#4a0c6b",
          "dash": "solid"
         },
         "marker": {
          "symbol": "circle"
         },
         "mode": "lines",
         "name": "2018",
         "orientation": "v",
         "showlegend": false,
         "type": "scatter",
         "x": [
          1,
          2,
          3,
          4,
          5,
          6,
          7,
          8,
          9,
          10,
          11,
          12
         ],
         "xaxis": "x10",
         "y": [
          457000,
          472473,
          479022,
          476619,
          474900,
          473915,
          463656,
          452500,
          450000,
          449897,
          449000,
          449900
         ],
         "yaxis": "y10"
        },
        {
         "hovertemplate": "year=2018<br>state=ID<br>month_num=%{x}<br>med_lp=%{y}<extra></extra>",
         "legendgroup": "2018",
         "line": {
          "color": "#4a0c6b",
          "dash": "solid"
         },
         "marker": {
          "symbol": "circle"
         },
         "mode": "lines",
         "name": "2018",
         "orientation": "v",
         "showlegend": false,
         "type": "scatter",
         "x": [
          1,
          2,
          3,
          4,
          5,
          6,
          7,
          8,
          9,
          10,
          11,
          12
         ],
         "xaxis": "x11",
         "y": [
          297771,
          301445,
          305824,
          317665,
          325000,
          325000,
          326450,
          329782,
          325000,
          325000,
          325000,
          328430
         ],
         "yaxis": "y11"
        },
        {
         "hovertemplate": "year=2018<br>state=IL<br>month_num=%{x}<br>med_lp=%{y}<extra></extra>",
         "legendgroup": "2018",
         "line": {
          "color": "#4a0c6b",
          "dash": "solid"
         },
         "marker": {
          "symbol": "circle"
         },
         "mode": "lines",
         "name": "2018",
         "orientation": "v",
         "showlegend": false,
         "type": "scatter",
         "x": [
          1,
          2,
          3,
          4,
          5,
          6,
          7,
          8,
          9,
          10,
          11,
          12
         ],
         "xaxis": "x12",
         "y": [
          214500,
          224250,
          239000,
          249700,
          250000,
          251000,
          249900,
          249900,
          248500,
          244900,
          239900,
          229000
         ],
         "yaxis": "y12"
        },
        {
         "hovertemplate": "year=2018<br>state=MI<br>month_num=%{x}<br>med_lp=%{y}<extra></extra>",
         "legendgroup": "2018",
         "line": {
          "color": "#4a0c6b",
          "dash": "solid"
         },
         "marker": {
          "symbol": "circle"
         },
         "mode": "lines",
         "name": "2018",
         "orientation": "v",
         "showlegend": false,
         "type": "scatter",
         "x": [
          1,
          2,
          3,
          4,
          5,
          6,
          7,
          8,
          9,
          10,
          11,
          12
         ],
         "xaxis": "x5",
         "y": [
          169950,
          175328,
          185000,
          199450,
          206950,
          214000,
          212000,
          209000,
          204900,
          199900,
          199500,
          194900
         ],
         "yaxis": "y5"
        },
        {
         "hovertemplate": "year=2018<br>state=NE<br>month_num=%{x}<br>med_lp=%{y}<extra></extra>",
         "legendgroup": "2018",
         "line": {
          "color": "#4a0c6b",
          "dash": "solid"
         },
         "marker": {
          "symbol": "circle"
         },
         "mode": "lines",
         "name": "2018",
         "orientation": "v",
         "showlegend": false,
         "type": "scatter",
         "x": [
          1,
          2,
          3,
          4,
          5,
          6,
          7,
          8,
          9,
          10,
          11,
          12
         ],
         "xaxis": "x6",
         "y": [
          219725,
          227250,
          236450,
          239900,
          239776,
          239000,
          239200,
          235000,
          235000,
          229856,
          226900,
          227000
         ],
         "yaxis": "y6"
        },
        {
         "hovertemplate": "year=2018<br>state=NY<br>month_num=%{x}<br>med_lp=%{y}<extra></extra>",
         "legendgroup": "2018",
         "line": {
          "color": "#4a0c6b",
          "dash": "solid"
         },
         "marker": {
          "symbol": "circle"
         },
         "mode": "lines",
         "name": "2018",
         "orientation": "v",
         "showlegend": false,
         "type": "scatter",
         "x": [
          1,
          2,
          3,
          4,
          5,
          6,
          7,
          8,
          9,
          10,
          11,
          12
         ],
         "xaxis": "x7",
         "y": [
          365972,
          388935,
          399900,
          423450,
          434500,
          429000,
          422500,
          407950,
          414900,
          422500,
          425000,
          420000
         ],
         "yaxis": "y7"
        },
        {
         "hovertemplate": "year=2018<br>state=OR<br>month_num=%{x}<br>med_lp=%{y}<extra></extra>",
         "legendgroup": "2018",
         "line": {
          "color": "#4a0c6b",
          "dash": "solid"
         },
         "marker": {
          "symbol": "circle"
         },
         "mode": "lines",
         "name": "2018",
         "orientation": "v",
         "showlegend": false,
         "type": "scatter",
         "x": [
          1,
          2,
          3,
          4,
          5,
          6,
          7,
          8,
          9,
          10,
          11,
          12
         ],
         "xaxis": "x8",
         "y": [
          399000,
          399950,
          414990,
          425000,
          433800,
          429900,
          427000,
          424700,
          419990,
          418650,
          415000,
          414900
         ],
         "yaxis": "y8"
        },
        {
         "hovertemplate": "year=2018<br>state=PA<br>month_num=%{x}<br>med_lp=%{y}<extra></extra>",
         "legendgroup": "2018",
         "line": {
          "color": "#4a0c6b",
          "dash": "solid"
         },
         "marker": {
          "symbol": "circle"
         },
         "mode": "lines",
         "name": "2018",
         "orientation": "v",
         "showlegend": false,
         "type": "scatter",
         "x": [
          1,
          2,
          3,
          4,
          5,
          6,
          7,
          8,
          9,
          10,
          11,
          12
         ],
         "xaxis": "x",
         "y": [
          189000,
          189950,
          198000,
          199950,
          213450,
          215000,
          214925,
          209950,
          209000,
          206500,
          202000,
          199900
         ],
         "yaxis": "y"
        },
        {
         "hovertemplate": "year=2018<br>state=UT<br>month_num=%{x}<br>med_lp=%{y}<extra></extra>",
         "legendgroup": "2018",
         "line": {
          "color": "#4a0c6b",
          "dash": "solid"
         },
         "marker": {
          "symbol": "circle"
         },
         "mode": "lines",
         "name": "2018",
         "orientation": "v",
         "showlegend": false,
         "type": "scatter",
         "x": [
          1,
          2,
          3,
          4,
          5,
          6,
          7,
          8,
          9,
          10,
          11,
          12
         ],
         "xaxis": "x2",
         "y": [
          362450,
          375000,
          388900,
          393362,
          395000,
          395000,
          392684,
          388950,
          386745,
          380000,
          379900,
          380000
         ],
         "yaxis": "y2"
        },
        {
         "hovertemplate": "year=2018<br>state=WI<br>month_num=%{x}<br>med_lp=%{y}<extra></extra>",
         "legendgroup": "2018",
         "line": {
          "color": "#4a0c6b",
          "dash": "solid"
         },
         "marker": {
          "symbol": "circle"
         },
         "mode": "lines",
         "name": "2018",
         "orientation": "v",
         "showlegend": false,
         "type": "scatter",
         "x": [
          1,
          2,
          3,
          4,
          5,
          6,
          7,
          8,
          9,
          10,
          11,
          12
         ],
         "xaxis": "x3",
         "y": [
          199950,
          210900,
          224000,
          234950,
          239900,
          239900,
          239900,
          239200,
          235700,
          234900,
          229950,
          229900
         ],
         "yaxis": "y3"
        },
        {
         "hovertemplate": "year=2018<br>state=WY<br>month_num=%{x}<br>med_lp=%{y}<extra></extra>",
         "legendgroup": "2018",
         "line": {
          "color": "#4a0c6b",
          "dash": "solid"
         },
         "marker": {
          "symbol": "circle"
         },
         "mode": "lines",
         "name": "2018",
         "orientation": "v",
         "showlegend": false,
         "type": "scatter",
         "x": [
          1,
          2,
          3,
          4,
          5,
          6,
          7,
          8,
          9,
          10,
          11,
          12
         ],
         "xaxis": "x4",
         "y": [
          244900,
          245000,
          249900,
          250000,
          257600,
          259000,
          259900,
          257900,
          254900,
          250000,
          249950,
          249900
         ],
         "yaxis": "y4"
        },
        {
         "hovertemplate": "year=2019<br>state=CA<br>month_num=%{x}<br>med_lp=%{y}<extra></extra>",
         "legendgroup": "2019",
         "line": {
          "color": "#781c6d",
          "dash": "solid"
         },
         "marker": {
          "symbol": "circle"
         },
         "mode": "lines",
         "name": "2019",
         "orientation": "v",
         "showlegend": true,
         "type": "scatter",
         "x": [
          1,
          2,
          3,
          4,
          5,
          6,
          7,
          8,
          9,
          10,
          11,
          12
         ],
         "xaxis": "x9",
         "y": [
          531500,
          543909,
          562371,
          579000,
          589450,
          599000,
          596444,
          590882,
          584705,
          580586,
          574900,
          551755
         ],
         "yaxis": "y9"
        },
        {
         "hovertemplate": "year=2019<br>state=CO<br>month_num=%{x}<br>med_lp=%{y}<extra></extra>",
         "legendgroup": "2019",
         "line": {
          "color": "#781c6d",
          "dash": "solid"
         },
         "marker": {
          "symbol": "circle"
         },
         "mode": "lines",
         "name": "2019",
         "orientation": "v",
         "showlegend": false,
         "type": "scatter",
         "x": [
          1,
          2,
          3,
          4,
          5,
          6,
          7,
          8,
          9,
          10,
          11,
          12
         ],
         "xaxis": "x10",
         "y": [
          450000,
          462400,
          472086,
          475000,
          476500,
          479900,
          479000,
          472273,
          468182,
          467405,
          469900,
          471450
         ],
         "yaxis": "y10"
        },
        {
         "hovertemplate": "year=2019<br>state=ID<br>month_num=%{x}<br>med_lp=%{y}<extra></extra>",
         "legendgroup": "2019",
         "line": {
          "color": "#781c6d",
          "dash": "solid"
         },
         "marker": {
          "symbol": "circle"
         },
         "mode": "lines",
         "name": "2019",
         "orientation": "v",
         "showlegend": false,
         "type": "scatter",
         "x": [
          1,
          2,
          3,
          4,
          5,
          6,
          7,
          8,
          9,
          10,
          11,
          12
         ],
         "xaxis": "x11",
         "y": [
          329910,
          332445,
          337756,
          345858,
          354455,
          360000,
          364973,
          361978,
          357459,
          354925,
          356614,
          359900
         ],
         "yaxis": "y11"
        },
        {
         "hovertemplate": "year=2019<br>state=IL<br>month_num=%{x}<br>med_lp=%{y}<extra></extra>",
         "legendgroup": "2019",
         "line": {
          "color": "#781c6d",
          "dash": "solid"
         },
         "marker": {
          "symbol": "circle"
         },
         "mode": "lines",
         "name": "2019",
         "orientation": "v",
         "showlegend": false,
         "type": "scatter",
         "x": [
          1,
          2,
          3,
          4,
          5,
          6,
          7,
          8,
          9,
          10,
          11,
          12
         ],
         "xaxis": "x12",
         "y": [
          225000,
          236950,
          250614,
          264900,
          269450,
          269900,
          264950,
          259355,
          254036,
          249900,
          242900,
          230995
         ],
         "yaxis": "y12"
        },
        {
         "hovertemplate": "year=2019<br>state=MI<br>month_num=%{x}<br>med_lp=%{y}<extra></extra>",
         "legendgroup": "2019",
         "line": {
          "color": "#781c6d",
          "dash": "solid"
         },
         "marker": {
          "symbol": "circle"
         },
         "mode": "lines",
         "name": "2019",
         "orientation": "v",
         "showlegend": false,
         "type": "scatter",
         "x": [
          1,
          2,
          3,
          4,
          5,
          6,
          7,
          8,
          9,
          10,
          11,
          12
         ],
         "xaxis": "x5",
         "y": [
          191225,
          199000,
          210614,
          224950,
          229900,
          230000,
          229900,
          225836,
          219741,
          215450,
          212500,
          201950
         ],
         "yaxis": "y5"
        },
        {
         "hovertemplate": "year=2019<br>state=NE<br>month_num=%{x}<br>med_lp=%{y}<extra></extra>",
         "legendgroup": "2019",
         "line": {
          "color": "#781c6d",
          "dash": "solid"
         },
         "marker": {
          "symbol": "circle"
         },
         "mode": "lines",
         "name": "2019",
         "orientation": "v",
         "showlegend": false,
         "type": "scatter",
         "x": [
          1,
          2,
          3,
          4,
          5,
          6,
          7,
          8,
          9,
          10,
          11,
          12
         ],
         "xaxis": "x6",
         "y": [
          227900,
          233635,
          241046,
          247638,
          249900,
          244900,
          241500,
          237273,
          233182,
          230000,
          225000,
          225000
         ],
         "yaxis": "y6"
        },
        {
         "hovertemplate": "year=2019<br>state=NY<br>month_num=%{x}<br>med_lp=%{y}<extra></extra>",
         "legendgroup": "2019",
         "line": {
          "color": "#781c6d",
          "dash": "solid"
         },
         "marker": {
          "symbol": "circle"
         },
         "mode": "lines",
         "name": "2019",
         "orientation": "v",
         "showlegend": false,
         "type": "scatter",
         "x": [
          1,
          2,
          3,
          4,
          5,
          6,
          7,
          8,
          9,
          10,
          11,
          12
         ],
         "xaxis": "x7",
         "y": [
          422000,
          437450,
          459997,
          479950,
          490500,
          488888,
          474998,
          469000,
          469000,
          469000,
          467000,
          462450
         ],
         "yaxis": "y7"
        },
        {
         "hovertemplate": "year=2019<br>state=OR<br>month_num=%{x}<br>med_lp=%{y}<extra></extra>",
         "legendgroup": "2019",
         "line": {
          "color": "#781c6d",
          "dash": "solid"
         },
         "marker": {
          "symbol": "circle"
         },
         "mode": "lines",
         "name": "2019",
         "orientation": "v",
         "showlegend": false,
         "type": "scatter",
         "x": [
          1,
          2,
          3,
          4,
          5,
          6,
          7,
          8,
          9,
          10,
          11,
          12
         ],
         "xaxis": "x8",
         "y": [
          409988,
          416995,
          422137,
          425495,
          429450,
          429900,
          429900,
          427621,
          425553,
          421923,
          419900,
          418245
         ],
         "yaxis": "y8"
        },
        {
         "hovertemplate": "year=2019<br>state=PA<br>month_num=%{x}<br>med_lp=%{y}<extra></extra>",
         "legendgroup": "2019",
         "line": {
          "color": "#781c6d",
          "dash": "solid"
         },
         "marker": {
          "symbol": "circle"
         },
         "mode": "lines",
         "name": "2019",
         "orientation": "v",
         "showlegend": false,
         "type": "scatter",
         "x": [
          1,
          2,
          3,
          4,
          5,
          6,
          7,
          8,
          9,
          10,
          11,
          12
         ],
         "xaxis": "x",
         "y": [
          198450,
          199900,
          208529,
          219925,
          226450,
          228500,
          225000,
          224900,
          224900,
          224900,
          224900,
          218984
         ],
         "yaxis": "y"
        },
        {
         "hovertemplate": "year=2019<br>state=UT<br>month_num=%{x}<br>med_lp=%{y}<extra></extra>",
         "legendgroup": "2019",
         "line": {
          "color": "#781c6d",
          "dash": "solid"
         },
         "marker": {
          "symbol": "circle"
         },
         "mode": "lines",
         "name": "2019",
         "orientation": "v",
         "showlegend": false,
         "type": "scatter",
         "x": [
          1,
          2,
          3,
          4,
          5,
          6,
          7,
          8,
          9,
          10,
          11,
          12
         ],
         "xaxis": "x2",
         "y": [
          386450,
          395963,
          405714,
          412414,
          410000,
          411900,
          410900,
          408382,
          403105,
          399450,
          399900,
          412000
         ],
         "yaxis": "y2"
        },
        {
         "hovertemplate": "year=2019<br>state=WI<br>month_num=%{x}<br>med_lp=%{y}<extra></extra>",
         "legendgroup": "2019",
         "line": {
          "color": "#781c6d",
          "dash": "solid"
         },
         "marker": {
          "symbol": "circle"
         },
         "mode": "lines",
         "name": "2019",
         "orientation": "v",
         "showlegend": false,
         "type": "scatter",
         "x": [
          1,
          2,
          3,
          4,
          5,
          6,
          7,
          8,
          9,
          10,
          11,
          12
         ],
         "xaxis": "x3",
         "y": [
          229900,
          239900,
          246571,
          250950,
          259450,
          259900,
          256950,
          253536,
          251491,
          249900,
          246950,
          241000
         ],
         "yaxis": "y3"
        },
        {
         "hovertemplate": "year=2019<br>state=WY<br>month_num=%{x}<br>med_lp=%{y}<extra></extra>",
         "legendgroup": "2019",
         "line": {
          "color": "#781c6d",
          "dash": "solid"
         },
         "marker": {
          "symbol": "circle"
         },
         "mode": "lines",
         "name": "2019",
         "orientation": "v",
         "showlegend": false,
         "type": "scatter",
         "x": [
          1,
          2,
          3,
          4,
          5,
          6,
          7,
          8,
          9,
          10,
          11,
          12
         ],
         "xaxis": "x4",
         "y": [
          246000,
          244950,
          247214,
          251500,
          257975,
          259900,
          264925,
          263536,
          261491,
          262677,
          267000,
          267200
         ],
         "yaxis": "y4"
        },
        {
         "hovertemplate": "year=2020<br>state=CA<br>month_num=%{x}<br>med_lp=%{y}<extra></extra>",
         "legendgroup": "2020",
         "line": {
          "color": "#a52c60",
          "dash": "solid"
         },
         "marker": {
          "symbol": "circle"
         },
         "mode": "lines",
         "name": "2020",
         "orientation": "v",
         "showlegend": true,
         "type": "scatter",
         "x": [
          1,
          2,
          3,
          4,
          5,
          6,
          7,
          8,
          9,
          10,
          11,
          12
         ],
         "xaxis": "x9",
         "y": [
          549450,
          575000,
          599000,
          580000,
          610000,
          652450,
          689750,
          699900,
          704995,
          719000,
          710450,
          702450
         ],
         "yaxis": "y9"
        },
        {
         "hovertemplate": "year=2020<br>state=CO<br>month_num=%{x}<br>med_lp=%{y}<extra></extra>",
         "legendgroup": "2020",
         "line": {
          "color": "#a52c60",
          "dash": "solid"
         },
         "marker": {
          "symbol": "circle"
         },
         "mode": "lines",
         "name": "2020",
         "orientation": "v",
         "showlegend": false,
         "type": "scatter",
         "x": [
          1,
          2,
          3,
          4,
          5,
          6,
          7,
          8,
          9,
          10,
          11,
          12
         ],
         "xaxis": "x10",
         "y": [
          481333,
          499500,
          508270,
          499450,
          499900,
          515300,
          519950,
          519900,
          505000,
          500383,
          506146,
          509500
         ],
         "yaxis": "y10"
        },
        {
         "hovertemplate": "year=2020<br>state=ID<br>month_num=%{x}<br>med_lp=%{y}<extra></extra>",
         "legendgroup": "2020",
         "line": {
          "color": "#a52c60",
          "dash": "solid"
         },
         "marker": {
          "symbol": "circle"
         },
         "mode": "lines",
         "name": "2020",
         "orientation": "v",
         "showlegend": false,
         "type": "scatter",
         "x": [
          1,
          2,
          3,
          4,
          5,
          6,
          7,
          8,
          9,
          10,
          11,
          12
         ],
         "xaxis": "x11",
         "y": [
          362450,
          369990,
          378165,
          379800,
          385000,
          396495,
          399900,
          399990,
          402545,
          414945,
          429450,
          425010
         ],
         "yaxis": "y11"
        },
        {
         "hovertemplate": "year=2020<br>state=IL<br>month_num=%{x}<br>med_lp=%{y}<extra></extra>",
         "legendgroup": "2020",
         "line": {
          "color": "#a52c60",
          "dash": "solid"
         },
         "marker": {
          "symbol": "circle"
         },
         "mode": "lines",
         "name": "2020",
         "orientation": "v",
         "showlegend": false,
         "type": "scatter",
         "x": [
          1,
          2,
          3,
          4,
          5,
          6,
          7,
          8,
          9,
          10,
          11,
          12
         ],
         "xaxis": "x12",
         "y": [
          229500,
          244900,
          254950,
          249950,
          264500,
          270307,
          277450,
          279900,
          281650,
          279000,
          269948,
          259450
         ],
         "yaxis": "y12"
        },
        {
         "hovertemplate": "year=2020<br>state=MI<br>month_num=%{x}<br>med_lp=%{y}<extra></extra>",
         "legendgroup": "2020",
         "line": {
          "color": "#a52c60",
          "dash": "solid"
         },
         "marker": {
          "symbol": "circle"
         },
         "mode": "lines",
         "name": "2020",
         "orientation": "v",
         "showlegend": false,
         "type": "scatter",
         "x": [
          1,
          2,
          3,
          4,
          5,
          6,
          7,
          8,
          9,
          10,
          11,
          12
         ],
         "xaxis": "x5",
         "y": [
          199900,
          209500,
          224750,
          229900,
          239900,
          250495,
          255000,
          254900,
          249900,
          249000,
          239900,
          234950
         ],
         "yaxis": "y5"
        },
        {
         "hovertemplate": "year=2020<br>state=NE<br>month_num=%{x}<br>med_lp=%{y}<extra></extra>",
         "legendgroup": "2020",
         "line": {
          "color": "#a52c60",
          "dash": "solid"
         },
         "marker": {
          "symbol": "circle"
         },
         "mode": "lines",
         "name": "2020",
         "orientation": "v",
         "showlegend": false,
         "type": "scatter",
         "x": [
          1,
          2,
          3,
          4,
          5,
          6,
          7,
          8,
          9,
          10,
          11,
          12
         ],
         "xaxis": "x6",
         "y": [
          227950,
          229900,
          238250,
          245000,
          255000,
          254950,
          257000,
          249900,
          245000,
          239900,
          238000,
          240500
         ],
         "yaxis": "y6"
        },
        {
         "hovertemplate": "year=2020<br>state=NY<br>month_num=%{x}<br>med_lp=%{y}<extra></extra>",
         "legendgroup": "2020",
         "line": {
          "color": "#a52c60",
          "dash": "solid"
         },
         "marker": {
          "symbol": "circle"
         },
         "mode": "lines",
         "name": "2020",
         "orientation": "v",
         "showlegend": false,
         "type": "scatter",
         "x": [
          1,
          2,
          3,
          4,
          5,
          6,
          7,
          8,
          9,
          10,
          11,
          12
         ],
         "xaxis": "x7",
         "y": [
          464450,
          479990,
          495000,
          495935,
          497000,
          499500,
          529500,
          549000,
          554000,
          574998,
          570078,
          569000
         ],
         "yaxis": "y7"
        },
        {
         "hovertemplate": "year=2020<br>state=OR<br>month_num=%{x}<br>med_lp=%{y}<extra></extra>",
         "legendgroup": "2020",
         "line": {
          "color": "#a52c60",
          "dash": "solid"
         },
         "marker": {
          "symbol": "circle"
         },
         "mode": "lines",
         "name": "2020",
         "orientation": "v",
         "showlegend": false,
         "type": "scatter",
         "x": [
          1,
          2,
          3,
          4,
          5,
          6,
          7,
          8,
          9,
          10,
          11,
          12
         ],
         "xaxis": "x8",
         "y": [
          419700,
          419900,
          429000,
          428500,
          439900,
          449900,
          454900,
          463107,
          472450,
          469950,
          470258,
          471523
         ],
         "yaxis": "y8"
        },
        {
         "hovertemplate": "year=2020<br>state=PA<br>month_num=%{x}<br>med_lp=%{y}<extra></extra>",
         "legendgroup": "2020",
         "line": {
          "color": "#a52c60",
          "dash": "solid"
         },
         "marker": {
          "symbol": "circle"
         },
         "mode": "lines",
         "name": "2020",
         "orientation": "v",
         "showlegend": false,
         "type": "scatter",
         "x": [
          1,
          2,
          3,
          4,
          5,
          6,
          7,
          8,
          9,
          10,
          11,
          12
         ],
         "xaxis": "x",
         "y": [
          219000,
          225000,
          234900,
          231250,
          239900,
          249950,
          259900,
          260000,
          264950,
          266990,
          264950,
          259900
         ],
         "yaxis": "y"
        },
        {
         "hovertemplate": "year=2020<br>state=UT<br>month_num=%{x}<br>med_lp=%{y}<extra></extra>",
         "legendgroup": "2020",
         "line": {
          "color": "#a52c60",
          "dash": "solid"
         },
         "marker": {
          "symbol": "circle"
         },
         "mode": "lines",
         "name": "2020",
         "orientation": "v",
         "showlegend": false,
         "type": "scatter",
         "x": [
          1,
          2,
          3,
          4,
          5,
          6,
          7,
          8,
          9,
          10,
          11,
          12
         ],
         "xaxis": "x2",
         "y": [
          421650,
          433238,
          442500,
          428950,
          436140,
          454900,
          469450,
          485000,
          489900,
          490280,
          499950,
          525000
         ],
         "yaxis": "y2"
        },
        {
         "hovertemplate": "year=2020<br>state=WI<br>month_num=%{x}<br>med_lp=%{y}<extra></extra>",
         "legendgroup": "2020",
         "line": {
          "color": "#a52c60",
          "dash": "solid"
         },
         "marker": {
          "symbol": "circle"
         },
         "mode": "lines",
         "name": "2020",
         "orientation": "v",
         "showlegend": false,
         "type": "scatter",
         "x": [
          1,
          2,
          3,
          4,
          5,
          6,
          7,
          8,
          9,
          10,
          11,
          12
         ],
         "xaxis": "x3",
         "y": [
          239950,
          250000,
          264450,
          269450,
          287000,
          289736,
          289900,
          284950,
          274950,
          269900,
          259950,
          259900
         ],
         "yaxis": "y3"
        },
        {
         "hovertemplate": "year=2020<br>state=WY<br>month_num=%{x}<br>med_lp=%{y}<extra></extra>",
         "legendgroup": "2020",
         "line": {
          "color": "#a52c60",
          "dash": "solid"
         },
         "marker": {
          "symbol": "circle"
         },
         "mode": "lines",
         "name": "2020",
         "orientation": "v",
         "showlegend": false,
         "type": "scatter",
         "x": [
          1,
          2,
          3,
          4,
          5,
          6,
          7,
          8,
          9,
          10,
          11,
          12
         ],
         "xaxis": "x4",
         "y": [
          265450,
          265000,
          266500,
          275000,
          279000,
          289000,
          291500,
          289900,
          282413,
          278000,
          266950,
          265000
         ],
         "yaxis": "y4"
        },
        {
         "hovertemplate": "year=2021<br>state=CA<br>month_num=%{x}<br>med_lp=%{y}<extra></extra>",
         "legendgroup": "2021",
         "line": {
          "color": "#cf4446",
          "dash": "solid"
         },
         "marker": {
          "symbol": "circle"
         },
         "mode": "lines",
         "name": "2021",
         "orientation": "v",
         "showlegend": true,
         "type": "scatter",
         "x": [
          1,
          2,
          3,
          4,
          5,
          6,
          7,
          8,
          9,
          10,
          11,
          12
         ],
         "xaxis": "x9",
         "y": [
          699000,
          724000,
          732450,
          749000,
          749900,
          749900,
          740000,
          722500,
          704675,
          700000,
          699444,
          692500
         ],
         "yaxis": "y9"
        },
        {
         "hovertemplate": "year=2021<br>state=CO<br>month_num=%{x}<br>med_lp=%{y}<extra></extra>",
         "legendgroup": "2021",
         "line": {
          "color": "#cf4446",
          "dash": "solid"
         },
         "marker": {
          "symbol": "circle"
         },
         "mode": "lines",
         "name": "2021",
         "orientation": "v",
         "showlegend": false,
         "type": "scatter",
         "x": [
          1,
          2,
          3,
          4,
          5,
          6,
          7,
          8,
          9,
          10,
          11,
          12
         ],
         "xaxis": "x10",
         "y": [
          519888,
          528975,
          545000,
          552000,
          575000,
          583450,
          580000,
          579500,
          575000,
          575000,
          566904,
          549450
         ],
         "yaxis": "y10"
        },
        {
         "hovertemplate": "year=2021<br>state=ID<br>month_num=%{x}<br>med_lp=%{y}<extra></extra>",
         "legendgroup": "2021",
         "line": {
          "color": "#cf4446",
          "dash": "solid"
         },
         "marker": {
          "symbol": "circle"
         },
         "mode": "lines",
         "name": "2021",
         "orientation": "v",
         "showlegend": false,
         "type": "scatter",
         "x": [
          1,
          2,
          3,
          4,
          5,
          6,
          7,
          8,
          9,
          10,
          11,
          12
         ],
         "xaxis": "x11",
         "y": [
          440000,
          466900,
          482992,
          494889,
          511609,
          539500,
          537990,
          529950,
          524950,
          527990,
          529450,
          544495
         ],
         "yaxis": "y11"
        },
        {
         "hovertemplate": "year=2021<br>state=IL<br>month_num=%{x}<br>med_lp=%{y}<extra></extra>",
         "legendgroup": "2021",
         "line": {
          "color": "#cf4446",
          "dash": "solid"
         },
         "marker": {
          "symbol": "circle"
         },
         "mode": "lines",
         "name": "2021",
         "orientation": "v",
         "showlegend": false,
         "type": "scatter",
         "x": [
          1,
          2,
          3,
          4,
          5,
          6,
          7,
          8,
          9,
          10,
          11,
          12
         ],
         "xaxis": "x12",
         "y": [
          253500,
          262450,
          277000,
          287700,
          299450,
          299900,
          299000,
          289400,
          279950,
          279900,
          267450,
          256950
         ],
         "yaxis": "y12"
        },
        {
         "hovertemplate": "year=2021<br>state=MI<br>month_num=%{x}<br>med_lp=%{y}<extra></extra>",
         "legendgroup": "2021",
         "line": {
          "color": "#cf4446",
          "dash": "solid"
         },
         "marker": {
          "symbol": "circle"
         },
         "mode": "lines",
         "name": "2021",
         "orientation": "v",
         "showlegend": false,
         "type": "scatter",
         "x": [
          1,
          2,
          3,
          4,
          5,
          6,
          7,
          8,
          9,
          10,
          11,
          12
         ],
         "xaxis": "x5",
         "y": [
          233900,
          242450,
          249900,
          259450,
          259900,
          260000,
          259900,
          252450,
          248450,
          239900,
          229900,
          219950
         ],
         "yaxis": "y5"
        },
        {
         "hovertemplate": "year=2021<br>state=NE<br>month_num=%{x}<br>med_lp=%{y}<extra></extra>",
         "legendgroup": "2021",
         "line": {
          "color": "#cf4446",
          "dash": "solid"
         },
         "marker": {
          "symbol": "circle"
         },
         "mode": "lines",
         "name": "2021",
         "orientation": "v",
         "showlegend": false,
         "type": "scatter",
         "x": [
          1,
          2,
          3,
          4,
          5,
          6,
          7,
          8,
          9,
          10,
          11,
          12
         ],
         "xaxis": "x6",
         "y": [
          240000,
          254825,
          269550,
          262500,
          265000,
          265000,
          254900,
          250000,
          249950,
          250000,
          251625,
          257625
         ],
         "yaxis": "y6"
        },
        {
         "hovertemplate": "year=2021<br>state=NY<br>month_num=%{x}<br>med_lp=%{y}<extra></extra>",
         "legendgroup": "2021",
         "line": {
          "color": "#cf4446",
          "dash": "solid"
         },
         "marker": {
          "symbol": "circle"
         },
         "mode": "lines",
         "name": "2021",
         "orientation": "v",
         "showlegend": false,
         "type": "scatter",
         "x": [
          1,
          2,
          3,
          4,
          5,
          6,
          7,
          8,
          9,
          10,
          11,
          12
         ],
         "xaxis": "x7",
         "y": [
          575000,
          590000,
          594950,
          599000,
          599000,
          589000,
          569000,
          549950,
          549000,
          550000,
          550000,
          549450
         ],
         "yaxis": "y7"
        },
        {
         "hovertemplate": "year=2021<br>state=OR<br>month_num=%{x}<br>med_lp=%{y}<extra></extra>",
         "legendgroup": "2021",
         "line": {
          "color": "#cf4446",
          "dash": "solid"
         },
         "marker": {
          "symbol": "circle"
         },
         "mode": "lines",
         "name": "2021",
         "orientation": "v",
         "showlegend": false,
         "type": "scatter",
         "x": [
          1,
          2,
          3,
          4,
          5,
          6,
          7,
          8,
          9,
          10,
          11,
          12
         ],
         "xaxis": "x8",
         "y": [
          469900,
          475000,
          477000,
          492438,
          510000,
          522500,
          525000,
          522498,
          519900,
          519000,
          519450,
          512500
         ],
         "yaxis": "y8"
        },
        {
         "hovertemplate": "year=2021<br>state=PA<br>month_num=%{x}<br>med_lp=%{y}<extra></extra>",
         "legendgroup": "2021",
         "line": {
          "color": "#cf4446",
          "dash": "solid"
         },
         "marker": {
          "symbol": "circle"
         },
         "mode": "lines",
         "name": "2021",
         "orientation": "v",
         "showlegend": false,
         "type": "scatter",
         "x": [
          1,
          2,
          3,
          4,
          5,
          6,
          7,
          8,
          9,
          10,
          11,
          12
         ],
         "xaxis": "x",
         "y": [
          259000,
          264448,
          272250,
          280000,
          285000,
          279950,
          275000,
          269900,
          268950,
          265000,
          259900,
          250000
         ],
         "yaxis": "y"
        },
        {
         "hovertemplate": "year=2021<br>state=UT<br>month_num=%{x}<br>med_lp=%{y}<extra></extra>",
         "legendgroup": "2021",
         "line": {
          "color": "#cf4446",
          "dash": "solid"
         },
         "marker": {
          "symbol": "circle"
         },
         "mode": "lines",
         "name": "2021",
         "orientation": "v",
         "showlegend": false,
         "type": "scatter",
         "x": [
          1,
          2,
          3,
          4,
          5,
          6,
          7,
          8,
          9,
          10,
          11,
          12
         ],
         "xaxis": "x2",
         "y": [
          543450,
          544350,
          527500,
          550000,
          570000,
          565198,
          560000,
          559963,
          549500,
          550000,
          564012,
          584950
         ],
         "yaxis": "y2"
        },
        {
         "hovertemplate": "year=2021<br>state=WI<br>month_num=%{x}<br>med_lp=%{y}<extra></extra>",
         "legendgroup": "2021",
         "line": {
          "color": "#cf4446",
          "dash": "solid"
         },
         "marker": {
          "symbol": "circle"
         },
         "mode": "lines",
         "name": "2021",
         "orientation": "v",
         "showlegend": false,
         "type": "scatter",
         "x": [
          1,
          2,
          3,
          4,
          5,
          6,
          7,
          8,
          9,
          10,
          11,
          12
         ],
         "xaxis": "x3",
         "y": [
          265000,
          273450,
          288050,
          297825,
          299900,
          299000,
          295000,
          294950,
          287450,
          289000,
          286950,
          285000
         ],
         "yaxis": "y3"
        },
        {
         "hovertemplate": "year=2021<br>state=WY<br>month_num=%{x}<br>med_lp=%{y}<extra></extra>",
         "legendgroup": "2021",
         "line": {
          "color": "#cf4446",
          "dash": "solid"
         },
         "marker": {
          "symbol": "circle"
         },
         "mode": "lines",
         "name": "2021",
         "orientation": "v",
         "showlegend": false,
         "type": "scatter",
         "x": [
          1,
          2,
          3,
          4,
          5,
          6,
          7,
          8,
          9,
          10,
          11,
          12
         ],
         "xaxis": "x4",
         "y": [
          260000,
          266225,
          272725,
          274250,
          295000,
          313850,
          323500,
          327450,
          330000,
          325000,
          317450,
          324975
         ],
         "yaxis": "y4"
        },
        {
         "hovertemplate": "year=2022<br>state=CA<br>month_num=%{x}<br>med_lp=%{y}<extra></extra>",
         "legendgroup": "2022",
         "line": {
          "color": "#ed6925",
          "dash": "solid"
         },
         "marker": {
          "symbol": "circle"
         },
         "mode": "lines",
         "name": "2022",
         "orientation": "v",
         "showlegend": true,
         "type": "scatter",
         "x": [
          1,
          2,
          3,
          4,
          5,
          6,
          7,
          8,
          9,
          10
         ],
         "xaxis": "x9",
         "y": [
          692850,
          715000,
          749450,
          759500,
          775000,
          774950,
          750000,
          737000,
          725000,
          715000
         ],
         "yaxis": "y9"
        },
        {
         "hovertemplate": "year=2022<br>state=CO<br>month_num=%{x}<br>med_lp=%{y}<extra></extra>",
         "legendgroup": "2022",
         "line": {
          "color": "#ed6925",
          "dash": "solid"
         },
         "marker": {
          "symbol": "circle"
         },
         "mode": "lines",
         "name": "2022",
         "orientation": "v",
         "showlegend": false,
         "type": "scatter",
         "x": [
          1,
          2,
          3,
          4,
          5,
          6,
          7,
          8,
          9,
          10
         ],
         "xaxis": "x10",
         "y": [
          575000,
          597000,
          610239,
          629000,
          649450,
          647500,
          629000,
          614300,
          600000,
          599000
         ],
         "yaxis": "y10"
        },
        {
         "hovertemplate": "year=2022<br>state=ID<br>month_num=%{x}<br>med_lp=%{y}<extra></extra>",
         "legendgroup": "2022",
         "line": {
          "color": "#ed6925",
          "dash": "solid"
         },
         "marker": {
          "symbol": "circle"
         },
         "mode": "lines",
         "name": "2022",
         "orientation": "v",
         "showlegend": false,
         "type": "scatter",
         "x": [
          1,
          2,
          3,
          4,
          5,
          6,
          7,
          8,
          9,
          10
         ],
         "xaxis": "x11",
         "y": [
          559900,
          584175,
          589975,
          599000,
          604000,
          584900,
          569900,
          553500,
          549900,
          545000
         ],
         "yaxis": "y11"
        },
        {
         "hovertemplate": "year=2022<br>state=IL<br>month_num=%{x}<br>med_lp=%{y}<extra></extra>",
         "legendgroup": "2022",
         "line": {
          "color": "#ed6925",
          "dash": "solid"
         },
         "marker": {
          "symbol": "circle"
         },
         "mode": "lines",
         "name": "2022",
         "orientation": "v",
         "showlegend": false,
         "type": "scatter",
         "x": [
          1,
          2,
          3,
          4,
          5,
          6,
          7,
          8,
          9,
          10
         ],
         "xaxis": "x12",
         "y": [
          249000,
          254945,
          274829,
          285000,
          299946,
          304950,
          300000,
          299900,
          299000,
          294900
         ],
         "yaxis": "y12"
        },
        {
         "hovertemplate": "year=2022<br>state=MI<br>month_num=%{x}<br>med_lp=%{y}<extra></extra>",
         "legendgroup": "2022",
         "line": {
          "color": "#ed6925",
          "dash": "solid"
         },
         "marker": {
          "symbol": "circle"
         },
         "mode": "lines",
         "name": "2022",
         "orientation": "v",
         "showlegend": false,
         "type": "scatter",
         "x": [
          1,
          2,
          3,
          4,
          5,
          6,
          7,
          8,
          9,
          10
         ],
         "xaxis": "x5",
         "y": [
          219000,
          227000,
          239500,
          255000,
          276400,
          281250,
          280000,
          275000,
          269900,
          264900
         ],
         "yaxis": "y5"
        },
        {
         "hovertemplate": "year=2022<br>state=NE<br>month_num=%{x}<br>med_lp=%{y}<extra></extra>",
         "legendgroup": "2022",
         "line": {
          "color": "#ed6925",
          "dash": "solid"
         },
         "marker": {
          "symbol": "circle"
         },
         "mode": "lines",
         "name": "2022",
         "orientation": "v",
         "showlegend": false,
         "type": "scatter",
         "x": [
          1,
          2,
          3,
          4,
          5,
          6,
          7,
          8,
          9,
          10
         ],
         "xaxis": "x6",
         "y": [
          285000,
          299000,
          298013,
          299999,
          305000,
          309950,
          314925,
          329425,
          327450,
          325000
         ],
         "yaxis": "y6"
        },
        {
         "hovertemplate": "year=2022<br>state=NY<br>month_num=%{x}<br>med_lp=%{y}<extra></extra>",
         "legendgroup": "2022",
         "line": {
          "color": "#ed6925",
          "dash": "solid"
         },
         "marker": {
          "symbol": "circle"
         },
         "mode": "lines",
         "name": "2022",
         "orientation": "v",
         "showlegend": false,
         "type": "scatter",
         "x": [
          1,
          2,
          3,
          4,
          5,
          6,
          7,
          8,
          9,
          10
         ],
         "xaxis": "x7",
         "y": [
          549000,
          577000,
          599000,
          600000,
          600000,
          599000,
          590000,
          577000,
          582450,
          596200
         ],
         "yaxis": "y7"
        },
        {
         "hovertemplate": "year=2022<br>state=OR<br>month_num=%{x}<br>med_lp=%{y}<extra></extra>",
         "legendgroup": "2022",
         "line": {
          "color": "#ed6925",
          "dash": "solid"
         },
         "marker": {
          "symbol": "circle"
         },
         "mode": "lines",
         "name": "2022",
         "orientation": "v",
         "showlegend": false,
         "type": "scatter",
         "x": [
          1,
          2,
          3,
          4,
          5,
          6,
          7,
          8,
          9,
          10
         ],
         "xaxis": "x8",
         "y": [
          518000,
          533121,
          542488,
          550000,
          567000,
          569950,
          564900,
          552450,
          549995,
          549000
         ],
         "yaxis": "y8"
        },
        {
         "hovertemplate": "year=2022<br>state=PA<br>month_num=%{x}<br>med_lp=%{y}<extra></extra>",
         "legendgroup": "2022",
         "line": {
          "color": "#ed6925",
          "dash": "solid"
         },
         "marker": {
          "symbol": "circle"
         },
         "mode": "lines",
         "name": "2022",
         "orientation": "v",
         "showlegend": false,
         "type": "scatter",
         "x": [
          1,
          2,
          3,
          4,
          5,
          6,
          7,
          8,
          9,
          10
         ],
         "xaxis": "x",
         "y": [
          250000,
          259500,
          271000,
          280000,
          291055,
          297375,
          295000,
          287000,
          280250,
          280000
         ],
         "yaxis": "y"
        },
        {
         "hovertemplate": "year=2022<br>state=UT<br>month_num=%{x}<br>med_lp=%{y}<extra></extra>",
         "legendgroup": "2022",
         "line": {
          "color": "#ed6925",
          "dash": "solid"
         },
         "marker": {
          "symbol": "circle"
         },
         "mode": "lines",
         "name": "2022",
         "orientation": "v",
         "showlegend": false,
         "type": "scatter",
         "x": [
          1,
          2,
          3,
          4,
          5,
          6,
          7,
          8,
          9,
          10
         ],
         "xaxis": "x2",
         "y": [
          590000,
          604413,
          619800,
          635000,
          641000,
          639118,
          610300,
          592950,
          579500,
          575000
         ],
         "yaxis": "y2"
        },
        {
         "hovertemplate": "year=2022<br>state=WI<br>month_num=%{x}<br>med_lp=%{y}<extra></extra>",
         "legendgroup": "2022",
         "line": {
          "color": "#ed6925",
          "dash": "solid"
         },
         "marker": {
          "symbol": "circle"
         },
         "mode": "lines",
         "name": "2022",
         "orientation": "v",
         "showlegend": false,
         "type": "scatter",
         "x": [
          1,
          2,
          3,
          4,
          5,
          6,
          7,
          8,
          9,
          10
         ],
         "xaxis": "x3",
         "y": [
          299900,
          314225,
          327500,
          344900,
          349900,
          350000,
          349900,
          349900,
          349900,
          349900
         ],
         "yaxis": "y3"
        },
        {
         "hovertemplate": "year=2022<br>state=WY<br>month_num=%{x}<br>med_lp=%{y}<extra></extra>",
         "legendgroup": "2022",
         "line": {
          "color": "#ed6925",
          "dash": "solid"
         },
         "marker": {
          "symbol": "circle"
         },
         "mode": "lines",
         "name": "2022",
         "orientation": "v",
         "showlegend": false,
         "type": "scatter",
         "x": [
          1,
          2,
          3,
          4,
          5,
          6,
          7,
          8,
          9,
          10
         ],
         "xaxis": "x4",
         "y": [
          344950,
          344800,
          349450,
          370000,
          393950,
          410000,
          439900,
          449450,
          430000,
          430000
         ],
         "yaxis": "y4"
        }
       ],
       "layout": {
        "annotations": [
         {
          "font": {},
          "showarrow": false,
          "text": "state=PA",
          "x": 0.1175,
          "xanchor": "center",
          "xref": "paper",
          "y": 0.2866666666666666,
          "yanchor": "bottom",
          "yref": "paper"
         },
         {
          "font": {},
          "showarrow": false,
          "text": "state=UT",
          "x": 0.3725,
          "xanchor": "center",
          "xref": "paper",
          "y": 0.2866666666666666,
          "yanchor": "bottom",
          "yref": "paper"
         },
         {
          "font": {},
          "showarrow": false,
          "text": "state=WI",
          "x": 0.6275,
          "xanchor": "center",
          "xref": "paper",
          "y": 0.2866666666666666,
          "yanchor": "bottom",
          "yref": "paper"
         },
         {
          "font": {},
          "showarrow": false,
          "text": "state=WY",
          "x": 0.8824999999999998,
          "xanchor": "center",
          "xref": "paper",
          "y": 0.2866666666666666,
          "yanchor": "bottom",
          "yref": "paper"
         },
         {
          "font": {},
          "showarrow": false,
          "text": "state=MI",
          "x": 0.1175,
          "xanchor": "center",
          "xref": "paper",
          "y": 0.6433333333333333,
          "yanchor": "bottom",
          "yref": "paper"
         },
         {
          "font": {},
          "showarrow": false,
          "text": "state=NE",
          "x": 0.3725,
          "xanchor": "center",
          "xref": "paper",
          "y": 0.6433333333333333,
          "yanchor": "bottom",
          "yref": "paper"
         },
         {
          "font": {},
          "showarrow": false,
          "text": "state=NY",
          "x": 0.6275,
          "xanchor": "center",
          "xref": "paper",
          "y": 0.6433333333333333,
          "yanchor": "bottom",
          "yref": "paper"
         },
         {
          "font": {},
          "showarrow": false,
          "text": "state=OR",
          "x": 0.8824999999999998,
          "xanchor": "center",
          "xref": "paper",
          "y": 0.6433333333333333,
          "yanchor": "bottom",
          "yref": "paper"
         },
         {
          "font": {},
          "showarrow": false,
          "text": "state=CA",
          "x": 0.1175,
          "xanchor": "center",
          "xref": "paper",
          "y": 0.9999999999999999,
          "yanchor": "bottom",
          "yref": "paper"
         },
         {
          "font": {},
          "showarrow": false,
          "text": "state=CO",
          "x": 0.3725,
          "xanchor": "center",
          "xref": "paper",
          "y": 0.9999999999999999,
          "yanchor": "bottom",
          "yref": "paper"
         },
         {
          "font": {},
          "showarrow": false,
          "text": "state=ID",
          "x": 0.6275,
          "xanchor": "center",
          "xref": "paper",
          "y": 0.9999999999999999,
          "yanchor": "bottom",
          "yref": "paper"
         },
         {
          "font": {},
          "showarrow": false,
          "text": "state=IL",
          "x": 0.8824999999999998,
          "xanchor": "center",
          "xref": "paper",
          "y": 0.9999999999999999,
          "yanchor": "bottom",
          "yref": "paper"
         }
        ],
        "height": 800,
        "legend": {
         "title": {
          "text": "year"
         },
         "tracegroupgap": 0
        },
        "template": {
         "data": {
          "bar": [
           {
            "error_x": {
             "color": "#2a3f5f"
            },
            "error_y": {
             "color": "#2a3f5f"
            },
            "marker": {
             "line": {
              "color": "#E5ECF6",
              "width": 0.5
             },
             "pattern": {
              "fillmode": "overlay",
              "size": 10,
              "solidity": 0.2
             }
            },
            "type": "bar"
           }
          ],
          "barpolar": [
           {
            "marker": {
             "line": {
              "color": "#E5ECF6",
              "width": 0.5
             },
             "pattern": {
              "fillmode": "overlay",
              "size": 10,
              "solidity": 0.2
             }
            },
            "type": "barpolar"
           }
          ],
          "carpet": [
           {
            "aaxis": {
             "endlinecolor": "#2a3f5f",
             "gridcolor": "white",
             "linecolor": "white",
             "minorgridcolor": "white",
             "startlinecolor": "#2a3f5f"
            },
            "baxis": {
             "endlinecolor": "#2a3f5f",
             "gridcolor": "white",
             "linecolor": "white",
             "minorgridcolor": "white",
             "startlinecolor": "#2a3f5f"
            },
            "type": "carpet"
           }
          ],
          "choropleth": [
           {
            "colorbar": {
             "outlinewidth": 0,
             "ticks": ""
            },
            "type": "choropleth"
           }
          ],
          "contour": [
           {
            "colorbar": {
             "outlinewidth": 0,
             "ticks": ""
            },
            "colorscale": [
             [
              0,
              "#0d0887"
             ],
             [
              0.1111111111111111,
              "#46039f"
             ],
             [
              0.2222222222222222,
              "#7201a8"
             ],
             [
              0.3333333333333333,
              "#9c179e"
             ],
             [
              0.4444444444444444,
              "#bd3786"
             ],
             [
              0.5555555555555556,
              "#d8576b"
             ],
             [
              0.6666666666666666,
              "#ed7953"
             ],
             [
              0.7777777777777778,
              "#fb9f3a"
             ],
             [
              0.8888888888888888,
              "#fdca26"
             ],
             [
              1,
              "#f0f921"
             ]
            ],
            "type": "contour"
           }
          ],
          "contourcarpet": [
           {
            "colorbar": {
             "outlinewidth": 0,
             "ticks": ""
            },
            "type": "contourcarpet"
           }
          ],
          "heatmap": [
           {
            "colorbar": {
             "outlinewidth": 0,
             "ticks": ""
            },
            "colorscale": [
             [
              0,
              "#0d0887"
             ],
             [
              0.1111111111111111,
              "#46039f"
             ],
             [
              0.2222222222222222,
              "#7201a8"
             ],
             [
              0.3333333333333333,
              "#9c179e"
             ],
             [
              0.4444444444444444,
              "#bd3786"
             ],
             [
              0.5555555555555556,
              "#d8576b"
             ],
             [
              0.6666666666666666,
              "#ed7953"
             ],
             [
              0.7777777777777778,
              "#fb9f3a"
             ],
             [
              0.8888888888888888,
              "#fdca26"
             ],
             [
              1,
              "#f0f921"
             ]
            ],
            "type": "heatmap"
           }
          ],
          "heatmapgl": [
           {
            "colorbar": {
             "outlinewidth": 0,
             "ticks": ""
            },
            "colorscale": [
             [
              0,
              "#0d0887"
             ],
             [
              0.1111111111111111,
              "#46039f"
             ],
             [
              0.2222222222222222,
              "#7201a8"
             ],
             [
              0.3333333333333333,
              "#9c179e"
             ],
             [
              0.4444444444444444,
              "#bd3786"
             ],
             [
              0.5555555555555556,
              "#d8576b"
             ],
             [
              0.6666666666666666,
              "#ed7953"
             ],
             [
              0.7777777777777778,
              "#fb9f3a"
             ],
             [
              0.8888888888888888,
              "#fdca26"
             ],
             [
              1,
              "#f0f921"
             ]
            ],
            "type": "heatmapgl"
           }
          ],
          "histogram": [
           {
            "marker": {
             "pattern": {
              "fillmode": "overlay",
              "size": 10,
              "solidity": 0.2
             }
            },
            "type": "histogram"
           }
          ],
          "histogram2d": [
           {
            "colorbar": {
             "outlinewidth": 0,
             "ticks": ""
            },
            "colorscale": [
             [
              0,
              "#0d0887"
             ],
             [
              0.1111111111111111,
              "#46039f"
             ],
             [
              0.2222222222222222,
              "#7201a8"
             ],
             [
              0.3333333333333333,
              "#9c179e"
             ],
             [
              0.4444444444444444,
              "#bd3786"
             ],
             [
              0.5555555555555556,
              "#d8576b"
             ],
             [
              0.6666666666666666,
              "#ed7953"
             ],
             [
              0.7777777777777778,
              "#fb9f3a"
             ],
             [
              0.8888888888888888,
              "#fdca26"
             ],
             [
              1,
              "#f0f921"
             ]
            ],
            "type": "histogram2d"
           }
          ],
          "histogram2dcontour": [
           {
            "colorbar": {
             "outlinewidth": 0,
             "ticks": ""
            },
            "colorscale": [
             [
              0,
              "#0d0887"
             ],
             [
              0.1111111111111111,
              "#46039f"
             ],
             [
              0.2222222222222222,
              "#7201a8"
             ],
             [
              0.3333333333333333,
              "#9c179e"
             ],
             [
              0.4444444444444444,
              "#bd3786"
             ],
             [
              0.5555555555555556,
              "#d8576b"
             ],
             [
              0.6666666666666666,
              "#ed7953"
             ],
             [
              0.7777777777777778,
              "#fb9f3a"
             ],
             [
              0.8888888888888888,
              "#fdca26"
             ],
             [
              1,
              "#f0f921"
             ]
            ],
            "type": "histogram2dcontour"
           }
          ],
          "mesh3d": [
           {
            "colorbar": {
             "outlinewidth": 0,
             "ticks": ""
            },
            "type": "mesh3d"
           }
          ],
          "parcoords": [
           {
            "line": {
             "colorbar": {
              "outlinewidth": 0,
              "ticks": ""
             }
            },
            "type": "parcoords"
           }
          ],
          "pie": [
           {
            "automargin": true,
            "type": "pie"
           }
          ],
          "scatter": [
           {
            "fillpattern": {
             "fillmode": "overlay",
             "size": 10,
             "solidity": 0.2
            },
            "type": "scatter"
           }
          ],
          "scatter3d": [
           {
            "line": {
             "colorbar": {
              "outlinewidth": 0,
              "ticks": ""
             }
            },
            "marker": {
             "colorbar": {
              "outlinewidth": 0,
              "ticks": ""
             }
            },
            "type": "scatter3d"
           }
          ],
          "scattercarpet": [
           {
            "marker": {
             "colorbar": {
              "outlinewidth": 0,
              "ticks": ""
             }
            },
            "type": "scattercarpet"
           }
          ],
          "scattergeo": [
           {
            "marker": {
             "colorbar": {
              "outlinewidth": 0,
              "ticks": ""
             }
            },
            "type": "scattergeo"
           }
          ],
          "scattergl": [
           {
            "marker": {
             "colorbar": {
              "outlinewidth": 0,
              "ticks": ""
             }
            },
            "type": "scattergl"
           }
          ],
          "scattermapbox": [
           {
            "marker": {
             "colorbar": {
              "outlinewidth": 0,
              "ticks": ""
             }
            },
            "type": "scattermapbox"
           }
          ],
          "scatterpolar": [
           {
            "marker": {
             "colorbar": {
              "outlinewidth": 0,
              "ticks": ""
             }
            },
            "type": "scatterpolar"
           }
          ],
          "scatterpolargl": [
           {
            "marker": {
             "colorbar": {
              "outlinewidth": 0,
              "ticks": ""
             }
            },
            "type": "scatterpolargl"
           }
          ],
          "scatterternary": [
           {
            "marker": {
             "colorbar": {
              "outlinewidth": 0,
              "ticks": ""
             }
            },
            "type": "scatterternary"
           }
          ],
          "surface": [
           {
            "colorbar": {
             "outlinewidth": 0,
             "ticks": ""
            },
            "colorscale": [
             [
              0,
              "#0d0887"
             ],
             [
              0.1111111111111111,
              "#46039f"
             ],
             [
              0.2222222222222222,
              "#7201a8"
             ],
             [
              0.3333333333333333,
              "#9c179e"
             ],
             [
              0.4444444444444444,
              "#bd3786"
             ],
             [
              0.5555555555555556,
              "#d8576b"
             ],
             [
              0.6666666666666666,
              "#ed7953"
             ],
             [
              0.7777777777777778,
              "#fb9f3a"
             ],
             [
              0.8888888888888888,
              "#fdca26"
             ],
             [
              1,
              "#f0f921"
             ]
            ],
            "type": "surface"
           }
          ],
          "table": [
           {
            "cells": {
             "fill": {
              "color": "#EBF0F8"
             },
             "line": {
              "color": "white"
             }
            },
            "header": {
             "fill": {
              "color": "#C8D4E3"
             },
             "line": {
              "color": "white"
             }
            },
            "type": "table"
           }
          ]
         },
         "layout": {
          "annotationdefaults": {
           "arrowcolor": "#2a3f5f",
           "arrowhead": 0,
           "arrowwidth": 1
          },
          "autotypenumbers": "strict",
          "coloraxis": {
           "colorbar": {
            "outlinewidth": 0,
            "ticks": ""
           }
          },
          "colorscale": {
           "diverging": [
            [
             0,
             "#8e0152"
            ],
            [
             0.1,
             "#c51b7d"
            ],
            [
             0.2,
             "#de77ae"
            ],
            [
             0.3,
             "#f1b6da"
            ],
            [
             0.4,
             "#fde0ef"
            ],
            [
             0.5,
             "#f7f7f7"
            ],
            [
             0.6,
             "#e6f5d0"
            ],
            [
             0.7,
             "#b8e186"
            ],
            [
             0.8,
             "#7fbc41"
            ],
            [
             0.9,
             "#4d9221"
            ],
            [
             1,
             "#276419"
            ]
           ],
           "sequential": [
            [
             0,
             "#0d0887"
            ],
            [
             0.1111111111111111,
             "#46039f"
            ],
            [
             0.2222222222222222,
             "#7201a8"
            ],
            [
             0.3333333333333333,
             "#9c179e"
            ],
            [
             0.4444444444444444,
             "#bd3786"
            ],
            [
             0.5555555555555556,
             "#d8576b"
            ],
            [
             0.6666666666666666,
             "#ed7953"
            ],
            [
             0.7777777777777778,
             "#fb9f3a"
            ],
            [
             0.8888888888888888,
             "#fdca26"
            ],
            [
             1,
             "#f0f921"
            ]
           ],
           "sequentialminus": [
            [
             0,
             "#0d0887"
            ],
            [
             0.1111111111111111,
             "#46039f"
            ],
            [
             0.2222222222222222,
             "#7201a8"
            ],
            [
             0.3333333333333333,
             "#9c179e"
            ],
            [
             0.4444444444444444,
             "#bd3786"
            ],
            [
             0.5555555555555556,
             "#d8576b"
            ],
            [
             0.6666666666666666,
             "#ed7953"
            ],
            [
             0.7777777777777778,
             "#fb9f3a"
            ],
            [
             0.8888888888888888,
             "#fdca26"
            ],
            [
             1,
             "#f0f921"
            ]
           ]
          },
          "colorway": [
           "#636efa",
           "#EF553B",
           "#00cc96",
           "#ab63fa",
           "#FFA15A",
           "#19d3f3",
           "#FF6692",
           "#B6E880",
           "#FF97FF",
           "#FECB52"
          ],
          "font": {
           "color": "#2a3f5f"
          },
          "geo": {
           "bgcolor": "white",
           "lakecolor": "white",
           "landcolor": "#E5ECF6",
           "showlakes": true,
           "showland": true,
           "subunitcolor": "white"
          },
          "hoverlabel": {
           "align": "left"
          },
          "hovermode": "closest",
          "mapbox": {
           "style": "light"
          },
          "paper_bgcolor": "white",
          "plot_bgcolor": "#E5ECF6",
          "polar": {
           "angularaxis": {
            "gridcolor": "white",
            "linecolor": "white",
            "ticks": ""
           },
           "bgcolor": "#E5ECF6",
           "radialaxis": {
            "gridcolor": "white",
            "linecolor": "white",
            "ticks": ""
           }
          },
          "scene": {
           "xaxis": {
            "backgroundcolor": "#E5ECF6",
            "gridcolor": "white",
            "gridwidth": 2,
            "linecolor": "white",
            "showbackground": true,
            "ticks": "",
            "zerolinecolor": "white"
           },
           "yaxis": {
            "backgroundcolor": "#E5ECF6",
            "gridcolor": "white",
            "gridwidth": 2,
            "linecolor": "white",
            "showbackground": true,
            "ticks": "",
            "zerolinecolor": "white"
           },
           "zaxis": {
            "backgroundcolor": "#E5ECF6",
            "gridcolor": "white",
            "gridwidth": 2,
            "linecolor": "white",
            "showbackground": true,
            "ticks": "",
            "zerolinecolor": "white"
           }
          },
          "shapedefaults": {
           "line": {
            "color": "#2a3f5f"
           }
          },
          "ternary": {
           "aaxis": {
            "gridcolor": "white",
            "linecolor": "white",
            "ticks": ""
           },
           "baxis": {
            "gridcolor": "white",
            "linecolor": "white",
            "ticks": ""
           },
           "bgcolor": "#E5ECF6",
           "caxis": {
            "gridcolor": "white",
            "linecolor": "white",
            "ticks": ""
           }
          },
          "title": {
           "x": 0.05
          },
          "xaxis": {
           "automargin": true,
           "gridcolor": "white",
           "linecolor": "white",
           "ticks": "",
           "title": {
            "standoff": 15
           },
           "zerolinecolor": "white",
           "zerolinewidth": 2
          },
          "yaxis": {
           "automargin": true,
           "gridcolor": "white",
           "linecolor": "white",
           "ticks": "",
           "title": {
            "standoff": 15
           },
           "zerolinecolor": "white",
           "zerolinewidth": 2
          }
         }
        },
        "title": {
         "text": "Median List Prices of Homes Over Time by State"
        },
        "width": 1200,
        "xaxis": {
         "anchor": "y",
         "domain": [
          0,
          0.235
         ],
         "title": {
          "text": "month_num"
         }
        },
        "xaxis10": {
         "anchor": "y10",
         "domain": [
          0.255,
          0.49
         ],
         "matches": "x",
         "showticklabels": false
        },
        "xaxis11": {
         "anchor": "y11",
         "domain": [
          0.51,
          0.745
         ],
         "matches": "x",
         "showticklabels": false
        },
        "xaxis12": {
         "anchor": "y12",
         "domain": [
          0.7649999999999999,
          0.9999999999999999
         ],
         "matches": "x",
         "showticklabels": false
        },
        "xaxis2": {
         "anchor": "y2",
         "domain": [
          0.255,
          0.49
         ],
         "matches": "x",
         "title": {
          "text": "month_num"
         }
        },
        "xaxis3": {
         "anchor": "y3",
         "domain": [
          0.51,
          0.745
         ],
         "matches": "x",
         "title": {
          "text": "month_num"
         }
        },
        "xaxis4": {
         "anchor": "y4",
         "domain": [
          0.7649999999999999,
          0.9999999999999999
         ],
         "matches": "x",
         "title": {
          "text": "month_num"
         }
        },
        "xaxis5": {
         "anchor": "y5",
         "domain": [
          0,
          0.235
         ],
         "matches": "x",
         "showticklabels": false
        },
        "xaxis6": {
         "anchor": "y6",
         "domain": [
          0.255,
          0.49
         ],
         "matches": "x",
         "showticklabels": false
        },
        "xaxis7": {
         "anchor": "y7",
         "domain": [
          0.51,
          0.745
         ],
         "matches": "x",
         "showticklabels": false
        },
        "xaxis8": {
         "anchor": "y8",
         "domain": [
          0.7649999999999999,
          0.9999999999999999
         ],
         "matches": "x",
         "showticklabels": false
        },
        "xaxis9": {
         "anchor": "y9",
         "domain": [
          0,
          0.235
         ],
         "matches": "x",
         "showticklabels": false
        },
        "yaxis": {
         "anchor": "x",
         "domain": [
          0,
          0.2866666666666666
         ],
         "title": {
          "text": "med_lp"
         }
        },
        "yaxis10": {
         "anchor": "x10",
         "domain": [
          0.7133333333333333,
          0.9999999999999999
         ],
         "showticklabels": false
        },
        "yaxis11": {
         "anchor": "x11",
         "domain": [
          0.7133333333333333,
          0.9999999999999999
         ],
         "showticklabels": false
        },
        "yaxis12": {
         "anchor": "x12",
         "domain": [
          0.7133333333333333,
          0.9999999999999999
         ],
         "showticklabels": false
        },
        "yaxis2": {
         "anchor": "x2",
         "domain": [
          0,
          0.2866666666666666
         ],
         "showticklabels": false
        },
        "yaxis3": {
         "anchor": "x3",
         "domain": [
          0,
          0.2866666666666666
         ],
         "showticklabels": false
        },
        "yaxis4": {
         "anchor": "x4",
         "domain": [
          0,
          0.2866666666666666
         ],
         "showticklabels": false
        },
        "yaxis5": {
         "anchor": "x5",
         "domain": [
          0.35666666666666663,
          0.6433333333333333
         ],
         "title": {
          "text": "med_lp"
         }
        },
        "yaxis6": {
         "anchor": "x6",
         "domain": [
          0.35666666666666663,
          0.6433333333333333
         ],
         "showticklabels": false
        },
        "yaxis7": {
         "anchor": "x7",
         "domain": [
          0.35666666666666663,
          0.6433333333333333
         ],
         "showticklabels": false
        },
        "yaxis8": {
         "anchor": "x8",
         "domain": [
          0.35666666666666663,
          0.6433333333333333
         ],
         "showticklabels": false
        },
        "yaxis9": {
         "anchor": "x9",
         "domain": [
          0.7133333333333333,
          0.9999999999999999
         ],
         "title": {
          "text": "med_lp"
         }
        }
       }
      }
     },
     "metadata": {},
     "output_type": "display_data"
    }
   ],
   "source": [
    "fig = px.line(df.query(\"state in @select_states\"),\n",
    "    x = 'month_num',\n",
    "    y = 'med_lp',\n",
    "    color = 'year',\n",
    "    facet_col = 'state',\n",
    "    facet_col_wrap = 4,\n",
    "    title = 'Median List Prices of Homes Over Time by State',\n",
    "    color_discrete_sequence=px.colors.sequential.Inferno\n",
    "    )\n",
    "fig.update_yaxes(matches = None)\n",
    "fig.update_layout(height = 800, width = 1200)\n",
    "fig.show()"
   ]
  },
  {
   "cell_type": "code",
   "execution_count": 13,
   "metadata": {},
   "outputs": [
    {
     "ename": "UndefinedVariableError",
     "evalue": "name 'month' is not defined",
     "output_type": "error",
     "traceback": [
      "\u001b[1;31m---------------------------------------------------------------------------\u001b[0m",
      "\u001b[1;31mKeyError\u001b[0m                                  Traceback (most recent call last)",
      "File \u001b[1;32mc:\\Users\\parke\\anaconda3\\envs\\myenv\\lib\\site-packages\\pandas\\core\\computation\\scope.py:197\u001b[0m, in \u001b[0;36mScope.resolve\u001b[1;34m(self, key, is_local)\u001b[0m\n\u001b[0;32m    196\u001b[0m \u001b[39mif\u001b[39;00m \u001b[39mself\u001b[39m\u001b[39m.\u001b[39mhas_resolvers:\n\u001b[1;32m--> 197\u001b[0m     \u001b[39mreturn\u001b[39;00m \u001b[39mself\u001b[39;49m\u001b[39m.\u001b[39;49mresolvers[key]\n\u001b[0;32m    199\u001b[0m \u001b[39m# if we're here that means that we have no locals and we also have\u001b[39;00m\n\u001b[0;32m    200\u001b[0m \u001b[39m# no resolvers\u001b[39;00m\n",
      "File \u001b[1;32mc:\\Users\\parke\\anaconda3\\envs\\myenv\\lib\\collections\\__init__.py:941\u001b[0m, in \u001b[0;36mChainMap.__getitem__\u001b[1;34m(self, key)\u001b[0m\n\u001b[0;32m    940\u001b[0m         \u001b[39mpass\u001b[39;00m\n\u001b[1;32m--> 941\u001b[0m \u001b[39mreturn\u001b[39;00m \u001b[39mself\u001b[39;49m\u001b[39m.\u001b[39;49m\u001b[39m__missing__\u001b[39;49m(key)\n",
      "File \u001b[1;32mc:\\Users\\parke\\anaconda3\\envs\\myenv\\lib\\collections\\__init__.py:933\u001b[0m, in \u001b[0;36mChainMap.__missing__\u001b[1;34m(self, key)\u001b[0m\n\u001b[0;32m    932\u001b[0m \u001b[39mdef\u001b[39;00m \u001b[39m__missing__\u001b[39m(\u001b[39mself\u001b[39m, key):\n\u001b[1;32m--> 933\u001b[0m     \u001b[39mraise\u001b[39;00m \u001b[39mKeyError\u001b[39;00m(key)\n",
      "\u001b[1;31mKeyError\u001b[0m: 'month'",
      "\nDuring handling of the above exception, another exception occurred:\n",
      "\u001b[1;31mKeyError\u001b[0m                                  Traceback (most recent call last)",
      "File \u001b[1;32mc:\\Users\\parke\\anaconda3\\envs\\myenv\\lib\\site-packages\\pandas\\core\\computation\\scope.py:208\u001b[0m, in \u001b[0;36mScope.resolve\u001b[1;34m(self, key, is_local)\u001b[0m\n\u001b[0;32m    204\u001b[0m \u001b[39mtry\u001b[39;00m:\n\u001b[0;32m    205\u001b[0m     \u001b[39m# last ditch effort we look in temporaries\u001b[39;00m\n\u001b[0;32m    206\u001b[0m     \u001b[39m# these are created when parsing indexing expressions\u001b[39;00m\n\u001b[0;32m    207\u001b[0m     \u001b[39m# e.g., df[df > 0]\u001b[39;00m\n\u001b[1;32m--> 208\u001b[0m     \u001b[39mreturn\u001b[39;00m \u001b[39mself\u001b[39;49m\u001b[39m.\u001b[39;49mtemps[key]\n\u001b[0;32m    209\u001b[0m \u001b[39mexcept\u001b[39;00m \u001b[39mKeyError\u001b[39;00m \u001b[39mas\u001b[39;00m err:\n\u001b[0;32m    210\u001b[0m     \u001b[39m# runtime import because ops imports from scope\u001b[39;00m\n",
      "\u001b[1;31mKeyError\u001b[0m: 'month'",
      "\nThe above exception was the direct cause of the following exception:\n",
      "\u001b[1;31mUndefinedVariableError\u001b[0m                    Traceback (most recent call last)",
      "\u001b[1;32mc:\\Users\\parke\\data_work\\datascience\\realtor_com_data_analysis.ipynb Cell 13\u001b[0m in \u001b[0;36m<cell line: 1>\u001b[1;34m()\u001b[0m\n\u001b[1;32m----> <a href='vscode-notebook-cell:/c%3A/Users/parke/data_work/datascience/realtor_com_data_analysis.ipynb#X20sZmlsZQ%3D%3D?line=0'>1</a>\u001b[0m c \u001b[39m=\u001b[39m realtor_data\u001b[39m.\u001b[39;49mquery(\u001b[39m\"\u001b[39;49m\u001b[39mmonth in [\u001b[39;49m\u001b[39m'\u001b[39;49m\u001b[39m2016-09-01\u001b[39;49m\u001b[39m'\u001b[39;49m\u001b[39m,\u001b[39;49m\u001b[39m'\u001b[39;49m\u001b[39m2022-09-01\u001b[39;49m\u001b[39m'\u001b[39;49m\u001b[39m]\u001b[39;49m\u001b[39m\"\u001b[39;49m)[[\u001b[39m'\u001b[39m\u001b[39mmonth\u001b[39m\u001b[39m'\u001b[39m,\u001b[39m'\u001b[39m\u001b[39mstate\u001b[39m\u001b[39m'\u001b[39m,\u001b[39m'\u001b[39m\u001b[39mmedian_listing_price\u001b[39m\u001b[39m'\u001b[39m]]\u001b[39m.\u001b[39mpivot(index \u001b[39m=\u001b[39m \u001b[39m'\u001b[39m\u001b[39mstate\u001b[39m\u001b[39m'\u001b[39m,columns \u001b[39m=\u001b[39m \u001b[39m'\u001b[39m\u001b[39mmonth\u001b[39m\u001b[39m'\u001b[39m,values \u001b[39m=\u001b[39m \u001b[39m'\u001b[39m\u001b[39mmedian_listing_price\u001b[39m\u001b[39m'\u001b[39m)\u001b[39m.\u001b[39mreset_index()\n\u001b[0;32m      <a href='vscode-notebook-cell:/c%3A/Users/parke/data_work/datascience/realtor_com_data_analysis.ipynb#X20sZmlsZQ%3D%3D?line=1'>2</a>\u001b[0m c[\u001b[39m'\u001b[39m\u001b[39mpct_change\u001b[39m\u001b[39m'\u001b[39m] \u001b[39m=\u001b[39m (c\u001b[39m.\u001b[39miloc[:,\u001b[39m2\u001b[39m] \u001b[39m-\u001b[39m c\u001b[39m.\u001b[39miloc[:,\u001b[39m1\u001b[39m])\u001b[39m/\u001b[39mc\u001b[39m.\u001b[39miloc[:,\u001b[39m1\u001b[39m]\u001b[39m*\u001b[39m\u001b[39m100\u001b[39m\n\u001b[0;32m      <a href='vscode-notebook-cell:/c%3A/Users/parke/data_work/datascience/realtor_com_data_analysis.ipynb#X20sZmlsZQ%3D%3D?line=3'>4</a>\u001b[0m a \u001b[39m=\u001b[39m c\u001b[39m.\u001b[39msort_values(by \u001b[39m=\u001b[39m \u001b[39m'\u001b[39m\u001b[39mpct_change\u001b[39m\u001b[39m'\u001b[39m, ascending \u001b[39m=\u001b[39m \u001b[39mFalse\u001b[39;00m)\u001b[39m.\u001b[39mhead(\u001b[39m10\u001b[39m)\n",
      "File \u001b[1;32mc:\\Users\\parke\\anaconda3\\envs\\myenv\\lib\\site-packages\\pandas\\core\\frame.py:4111\u001b[0m, in \u001b[0;36mDataFrame.query\u001b[1;34m(self, expr, inplace, **kwargs)\u001b[0m\n\u001b[0;32m   4109\u001b[0m kwargs[\u001b[39m\"\u001b[39m\u001b[39mlevel\u001b[39m\u001b[39m\"\u001b[39m] \u001b[39m=\u001b[39m kwargs\u001b[39m.\u001b[39mpop(\u001b[39m\"\u001b[39m\u001b[39mlevel\u001b[39m\u001b[39m\"\u001b[39m, \u001b[39m0\u001b[39m) \u001b[39m+\u001b[39m \u001b[39m1\u001b[39m\n\u001b[0;32m   4110\u001b[0m kwargs[\u001b[39m\"\u001b[39m\u001b[39mtarget\u001b[39m\u001b[39m\"\u001b[39m] \u001b[39m=\u001b[39m \u001b[39mNone\u001b[39;00m\n\u001b[1;32m-> 4111\u001b[0m res \u001b[39m=\u001b[39m \u001b[39mself\u001b[39m\u001b[39m.\u001b[39meval(expr, \u001b[39m*\u001b[39m\u001b[39m*\u001b[39mkwargs)\n\u001b[0;32m   4113\u001b[0m \u001b[39mtry\u001b[39;00m:\n\u001b[0;32m   4114\u001b[0m     result \u001b[39m=\u001b[39m \u001b[39mself\u001b[39m\u001b[39m.\u001b[39mloc[res]\n",
      "File \u001b[1;32mc:\\Users\\parke\\anaconda3\\envs\\myenv\\lib\\site-packages\\pandas\\core\\frame.py:4240\u001b[0m, in \u001b[0;36mDataFrame.eval\u001b[1;34m(self, expr, inplace, **kwargs)\u001b[0m\n\u001b[0;32m   4237\u001b[0m     kwargs[\u001b[39m\"\u001b[39m\u001b[39mtarget\u001b[39m\u001b[39m\"\u001b[39m] \u001b[39m=\u001b[39m \u001b[39mself\u001b[39m\n\u001b[0;32m   4238\u001b[0m kwargs[\u001b[39m\"\u001b[39m\u001b[39mresolvers\u001b[39m\u001b[39m\"\u001b[39m] \u001b[39m=\u001b[39m \u001b[39mtuple\u001b[39m(kwargs\u001b[39m.\u001b[39mget(\u001b[39m\"\u001b[39m\u001b[39mresolvers\u001b[39m\u001b[39m\"\u001b[39m, ())) \u001b[39m+\u001b[39m resolvers\n\u001b[1;32m-> 4240\u001b[0m \u001b[39mreturn\u001b[39;00m _eval(expr, inplace\u001b[39m=\u001b[39minplace, \u001b[39m*\u001b[39m\u001b[39m*\u001b[39mkwargs)\n",
      "File \u001b[1;32mc:\\Users\\parke\\anaconda3\\envs\\myenv\\lib\\site-packages\\pandas\\core\\computation\\eval.py:351\u001b[0m, in \u001b[0;36meval\u001b[1;34m(expr, parser, engine, truediv, local_dict, global_dict, resolvers, level, target, inplace)\u001b[0m\n\u001b[0;32m    342\u001b[0m \u001b[39m# get our (possibly passed-in) scope\u001b[39;00m\n\u001b[0;32m    343\u001b[0m env \u001b[39m=\u001b[39m ensure_scope(\n\u001b[0;32m    344\u001b[0m     level \u001b[39m+\u001b[39m \u001b[39m1\u001b[39m,\n\u001b[0;32m    345\u001b[0m     global_dict\u001b[39m=\u001b[39mglobal_dict,\n\u001b[1;32m   (...)\u001b[0m\n\u001b[0;32m    348\u001b[0m     target\u001b[39m=\u001b[39mtarget,\n\u001b[0;32m    349\u001b[0m )\n\u001b[1;32m--> 351\u001b[0m parsed_expr \u001b[39m=\u001b[39m Expr(expr, engine\u001b[39m=\u001b[39;49mengine, parser\u001b[39m=\u001b[39;49mparser, env\u001b[39m=\u001b[39;49menv)\n\u001b[0;32m    353\u001b[0m \u001b[39m# construct the engine and evaluate the parsed expression\u001b[39;00m\n\u001b[0;32m    354\u001b[0m eng \u001b[39m=\u001b[39m ENGINES[engine]\n",
      "File \u001b[1;32mc:\\Users\\parke\\anaconda3\\envs\\myenv\\lib\\site-packages\\pandas\\core\\computation\\expr.py:811\u001b[0m, in \u001b[0;36mExpr.__init__\u001b[1;34m(self, expr, engine, parser, env, level)\u001b[0m\n\u001b[0;32m    809\u001b[0m \u001b[39mself\u001b[39m\u001b[39m.\u001b[39mparser \u001b[39m=\u001b[39m parser\n\u001b[0;32m    810\u001b[0m \u001b[39mself\u001b[39m\u001b[39m.\u001b[39m_visitor \u001b[39m=\u001b[39m PARSERS[parser](\u001b[39mself\u001b[39m\u001b[39m.\u001b[39menv, \u001b[39mself\u001b[39m\u001b[39m.\u001b[39mengine, \u001b[39mself\u001b[39m\u001b[39m.\u001b[39mparser)\n\u001b[1;32m--> 811\u001b[0m \u001b[39mself\u001b[39m\u001b[39m.\u001b[39mterms \u001b[39m=\u001b[39m \u001b[39mself\u001b[39;49m\u001b[39m.\u001b[39;49mparse()\n",
      "File \u001b[1;32mc:\\Users\\parke\\anaconda3\\envs\\myenv\\lib\\site-packages\\pandas\\core\\computation\\expr.py:830\u001b[0m, in \u001b[0;36mExpr.parse\u001b[1;34m(self)\u001b[0m\n\u001b[0;32m    826\u001b[0m \u001b[39mdef\u001b[39;00m \u001b[39mparse\u001b[39m(\u001b[39mself\u001b[39m):\n\u001b[0;32m    827\u001b[0m     \u001b[39m\"\"\"\u001b[39;00m\n\u001b[0;32m    828\u001b[0m \u001b[39m    Parse an expression.\u001b[39;00m\n\u001b[0;32m    829\u001b[0m \u001b[39m    \"\"\"\u001b[39;00m\n\u001b[1;32m--> 830\u001b[0m     \u001b[39mreturn\u001b[39;00m \u001b[39mself\u001b[39;49m\u001b[39m.\u001b[39;49m_visitor\u001b[39m.\u001b[39;49mvisit(\u001b[39mself\u001b[39;49m\u001b[39m.\u001b[39;49mexpr)\n",
      "File \u001b[1;32mc:\\Users\\parke\\anaconda3\\envs\\myenv\\lib\\site-packages\\pandas\\core\\computation\\expr.py:415\u001b[0m, in \u001b[0;36mBaseExprVisitor.visit\u001b[1;34m(self, node, **kwargs)\u001b[0m\n\u001b[0;32m    413\u001b[0m method \u001b[39m=\u001b[39m \u001b[39m\"\u001b[39m\u001b[39mvisit_\u001b[39m\u001b[39m\"\u001b[39m \u001b[39m+\u001b[39m \u001b[39mtype\u001b[39m(node)\u001b[39m.\u001b[39m\u001b[39m__name__\u001b[39m\n\u001b[0;32m    414\u001b[0m visitor \u001b[39m=\u001b[39m \u001b[39mgetattr\u001b[39m(\u001b[39mself\u001b[39m, method)\n\u001b[1;32m--> 415\u001b[0m \u001b[39mreturn\u001b[39;00m visitor(node, \u001b[39m*\u001b[39m\u001b[39m*\u001b[39mkwargs)\n",
      "File \u001b[1;32mc:\\Users\\parke\\anaconda3\\envs\\myenv\\lib\\site-packages\\pandas\\core\\computation\\expr.py:421\u001b[0m, in \u001b[0;36mBaseExprVisitor.visit_Module\u001b[1;34m(self, node, **kwargs)\u001b[0m\n\u001b[0;32m    419\u001b[0m     \u001b[39mraise\u001b[39;00m \u001b[39mSyntaxError\u001b[39;00m(\u001b[39m\"\u001b[39m\u001b[39monly a single expression is allowed\u001b[39m\u001b[39m\"\u001b[39m)\n\u001b[0;32m    420\u001b[0m expr \u001b[39m=\u001b[39m node\u001b[39m.\u001b[39mbody[\u001b[39m0\u001b[39m]\n\u001b[1;32m--> 421\u001b[0m \u001b[39mreturn\u001b[39;00m \u001b[39mself\u001b[39m\u001b[39m.\u001b[39mvisit(expr, \u001b[39m*\u001b[39m\u001b[39m*\u001b[39mkwargs)\n",
      "File \u001b[1;32mc:\\Users\\parke\\anaconda3\\envs\\myenv\\lib\\site-packages\\pandas\\core\\computation\\expr.py:415\u001b[0m, in \u001b[0;36mBaseExprVisitor.visit\u001b[1;34m(self, node, **kwargs)\u001b[0m\n\u001b[0;32m    413\u001b[0m method \u001b[39m=\u001b[39m \u001b[39m\"\u001b[39m\u001b[39mvisit_\u001b[39m\u001b[39m\"\u001b[39m \u001b[39m+\u001b[39m \u001b[39mtype\u001b[39m(node)\u001b[39m.\u001b[39m\u001b[39m__name__\u001b[39m\n\u001b[0;32m    414\u001b[0m visitor \u001b[39m=\u001b[39m \u001b[39mgetattr\u001b[39m(\u001b[39mself\u001b[39m, method)\n\u001b[1;32m--> 415\u001b[0m \u001b[39mreturn\u001b[39;00m visitor(node, \u001b[39m*\u001b[39m\u001b[39m*\u001b[39mkwargs)\n",
      "File \u001b[1;32mc:\\Users\\parke\\anaconda3\\envs\\myenv\\lib\\site-packages\\pandas\\core\\computation\\expr.py:424\u001b[0m, in \u001b[0;36mBaseExprVisitor.visit_Expr\u001b[1;34m(self, node, **kwargs)\u001b[0m\n\u001b[0;32m    423\u001b[0m \u001b[39mdef\u001b[39;00m \u001b[39mvisit_Expr\u001b[39m(\u001b[39mself\u001b[39m, node, \u001b[39m*\u001b[39m\u001b[39m*\u001b[39mkwargs):\n\u001b[1;32m--> 424\u001b[0m     \u001b[39mreturn\u001b[39;00m \u001b[39mself\u001b[39m\u001b[39m.\u001b[39mvisit(node\u001b[39m.\u001b[39mvalue, \u001b[39m*\u001b[39m\u001b[39m*\u001b[39mkwargs)\n",
      "File \u001b[1;32mc:\\Users\\parke\\anaconda3\\envs\\myenv\\lib\\site-packages\\pandas\\core\\computation\\expr.py:415\u001b[0m, in \u001b[0;36mBaseExprVisitor.visit\u001b[1;34m(self, node, **kwargs)\u001b[0m\n\u001b[0;32m    413\u001b[0m method \u001b[39m=\u001b[39m \u001b[39m\"\u001b[39m\u001b[39mvisit_\u001b[39m\u001b[39m\"\u001b[39m \u001b[39m+\u001b[39m \u001b[39mtype\u001b[39m(node)\u001b[39m.\u001b[39m\u001b[39m__name__\u001b[39m\n\u001b[0;32m    414\u001b[0m visitor \u001b[39m=\u001b[39m \u001b[39mgetattr\u001b[39m(\u001b[39mself\u001b[39m, method)\n\u001b[1;32m--> 415\u001b[0m \u001b[39mreturn\u001b[39;00m visitor(node, \u001b[39m*\u001b[39m\u001b[39m*\u001b[39mkwargs)\n",
      "File \u001b[1;32mc:\\Users\\parke\\anaconda3\\envs\\myenv\\lib\\site-packages\\pandas\\core\\computation\\expr.py:723\u001b[0m, in \u001b[0;36mBaseExprVisitor.visit_Compare\u001b[1;34m(self, node, **kwargs)\u001b[0m\n\u001b[0;32m    721\u001b[0m     op \u001b[39m=\u001b[39m \u001b[39mself\u001b[39m\u001b[39m.\u001b[39mtranslate_In(ops[\u001b[39m0\u001b[39m])\n\u001b[0;32m    722\u001b[0m     binop \u001b[39m=\u001b[39m ast\u001b[39m.\u001b[39mBinOp(op\u001b[39m=\u001b[39mop, left\u001b[39m=\u001b[39mnode\u001b[39m.\u001b[39mleft, right\u001b[39m=\u001b[39mcomps[\u001b[39m0\u001b[39m])\n\u001b[1;32m--> 723\u001b[0m     \u001b[39mreturn\u001b[39;00m \u001b[39mself\u001b[39;49m\u001b[39m.\u001b[39;49mvisit(binop)\n\u001b[0;32m    725\u001b[0m \u001b[39m# recursive case: we have a chained comparison, a CMP b CMP c, etc.\u001b[39;00m\n\u001b[0;32m    726\u001b[0m left \u001b[39m=\u001b[39m node\u001b[39m.\u001b[39mleft\n",
      "File \u001b[1;32mc:\\Users\\parke\\anaconda3\\envs\\myenv\\lib\\site-packages\\pandas\\core\\computation\\expr.py:415\u001b[0m, in \u001b[0;36mBaseExprVisitor.visit\u001b[1;34m(self, node, **kwargs)\u001b[0m\n\u001b[0;32m    413\u001b[0m method \u001b[39m=\u001b[39m \u001b[39m\"\u001b[39m\u001b[39mvisit_\u001b[39m\u001b[39m\"\u001b[39m \u001b[39m+\u001b[39m \u001b[39mtype\u001b[39m(node)\u001b[39m.\u001b[39m\u001b[39m__name__\u001b[39m\n\u001b[0;32m    414\u001b[0m visitor \u001b[39m=\u001b[39m \u001b[39mgetattr\u001b[39m(\u001b[39mself\u001b[39m, method)\n\u001b[1;32m--> 415\u001b[0m \u001b[39mreturn\u001b[39;00m visitor(node, \u001b[39m*\u001b[39m\u001b[39m*\u001b[39mkwargs)\n",
      "File \u001b[1;32mc:\\Users\\parke\\anaconda3\\envs\\myenv\\lib\\site-packages\\pandas\\core\\computation\\expr.py:536\u001b[0m, in \u001b[0;36mBaseExprVisitor.visit_BinOp\u001b[1;34m(self, node, **kwargs)\u001b[0m\n\u001b[0;32m    535\u001b[0m \u001b[39mdef\u001b[39;00m \u001b[39mvisit_BinOp\u001b[39m(\u001b[39mself\u001b[39m, node, \u001b[39m*\u001b[39m\u001b[39m*\u001b[39mkwargs):\n\u001b[1;32m--> 536\u001b[0m     op, op_class, left, right \u001b[39m=\u001b[39m \u001b[39mself\u001b[39;49m\u001b[39m.\u001b[39;49m_maybe_transform_eq_ne(node)\n\u001b[0;32m    537\u001b[0m     left, right \u001b[39m=\u001b[39m \u001b[39mself\u001b[39m\u001b[39m.\u001b[39m_maybe_downcast_constants(left, right)\n\u001b[0;32m    538\u001b[0m     \u001b[39mreturn\u001b[39;00m \u001b[39mself\u001b[39m\u001b[39m.\u001b[39m_maybe_evaluate_binop(op, op_class, left, right)\n",
      "File \u001b[1;32mc:\\Users\\parke\\anaconda3\\envs\\myenv\\lib\\site-packages\\pandas\\core\\computation\\expr.py:456\u001b[0m, in \u001b[0;36mBaseExprVisitor._maybe_transform_eq_ne\u001b[1;34m(self, node, left, right)\u001b[0m\n\u001b[0;32m    454\u001b[0m \u001b[39mdef\u001b[39;00m \u001b[39m_maybe_transform_eq_ne\u001b[39m(\u001b[39mself\u001b[39m, node, left\u001b[39m=\u001b[39m\u001b[39mNone\u001b[39;00m, right\u001b[39m=\u001b[39m\u001b[39mNone\u001b[39;00m):\n\u001b[0;32m    455\u001b[0m     \u001b[39mif\u001b[39;00m left \u001b[39mis\u001b[39;00m \u001b[39mNone\u001b[39;00m:\n\u001b[1;32m--> 456\u001b[0m         left \u001b[39m=\u001b[39m \u001b[39mself\u001b[39;49m\u001b[39m.\u001b[39;49mvisit(node\u001b[39m.\u001b[39;49mleft, side\u001b[39m=\u001b[39;49m\u001b[39m\"\u001b[39;49m\u001b[39mleft\u001b[39;49m\u001b[39m\"\u001b[39;49m)\n\u001b[0;32m    457\u001b[0m     \u001b[39mif\u001b[39;00m right \u001b[39mis\u001b[39;00m \u001b[39mNone\u001b[39;00m:\n\u001b[0;32m    458\u001b[0m         right \u001b[39m=\u001b[39m \u001b[39mself\u001b[39m\u001b[39m.\u001b[39mvisit(node\u001b[39m.\u001b[39mright, side\u001b[39m=\u001b[39m\u001b[39m\"\u001b[39m\u001b[39mright\u001b[39m\u001b[39m\"\u001b[39m)\n",
      "File \u001b[1;32mc:\\Users\\parke\\anaconda3\\envs\\myenv\\lib\\site-packages\\pandas\\core\\computation\\expr.py:415\u001b[0m, in \u001b[0;36mBaseExprVisitor.visit\u001b[1;34m(self, node, **kwargs)\u001b[0m\n\u001b[0;32m    413\u001b[0m method \u001b[39m=\u001b[39m \u001b[39m\"\u001b[39m\u001b[39mvisit_\u001b[39m\u001b[39m\"\u001b[39m \u001b[39m+\u001b[39m \u001b[39mtype\u001b[39m(node)\u001b[39m.\u001b[39m\u001b[39m__name__\u001b[39m\n\u001b[0;32m    414\u001b[0m visitor \u001b[39m=\u001b[39m \u001b[39mgetattr\u001b[39m(\u001b[39mself\u001b[39m, method)\n\u001b[1;32m--> 415\u001b[0m \u001b[39mreturn\u001b[39;00m visitor(node, \u001b[39m*\u001b[39m\u001b[39m*\u001b[39mkwargs)\n",
      "File \u001b[1;32mc:\\Users\\parke\\anaconda3\\envs\\myenv\\lib\\site-packages\\pandas\\core\\computation\\expr.py:549\u001b[0m, in \u001b[0;36mBaseExprVisitor.visit_Name\u001b[1;34m(self, node, **kwargs)\u001b[0m\n\u001b[0;32m    548\u001b[0m \u001b[39mdef\u001b[39;00m \u001b[39mvisit_Name\u001b[39m(\u001b[39mself\u001b[39m, node, \u001b[39m*\u001b[39m\u001b[39m*\u001b[39mkwargs):\n\u001b[1;32m--> 549\u001b[0m     \u001b[39mreturn\u001b[39;00m \u001b[39mself\u001b[39m\u001b[39m.\u001b[39mterm_type(node\u001b[39m.\u001b[39mid, \u001b[39mself\u001b[39m\u001b[39m.\u001b[39menv, \u001b[39m*\u001b[39m\u001b[39m*\u001b[39mkwargs)\n",
      "File \u001b[1;32mc:\\Users\\parke\\anaconda3\\envs\\myenv\\lib\\site-packages\\pandas\\core\\computation\\ops.py:98\u001b[0m, in \u001b[0;36mTerm.__init__\u001b[1;34m(self, name, env, side, encoding)\u001b[0m\n\u001b[0;32m     96\u001b[0m tname \u001b[39m=\u001b[39m \u001b[39mstr\u001b[39m(name)\n\u001b[0;32m     97\u001b[0m \u001b[39mself\u001b[39m\u001b[39m.\u001b[39mis_local \u001b[39m=\u001b[39m tname\u001b[39m.\u001b[39mstartswith(LOCAL_TAG) \u001b[39mor\u001b[39;00m tname \u001b[39min\u001b[39;00m DEFAULT_GLOBALS\n\u001b[1;32m---> 98\u001b[0m \u001b[39mself\u001b[39m\u001b[39m.\u001b[39m_value \u001b[39m=\u001b[39m \u001b[39mself\u001b[39;49m\u001b[39m.\u001b[39;49m_resolve_name()\n\u001b[0;32m     99\u001b[0m \u001b[39mself\u001b[39m\u001b[39m.\u001b[39mencoding \u001b[39m=\u001b[39m encoding\n",
      "File \u001b[1;32mc:\\Users\\parke\\anaconda3\\envs\\myenv\\lib\\site-packages\\pandas\\core\\computation\\ops.py:115\u001b[0m, in \u001b[0;36mTerm._resolve_name\u001b[1;34m(self)\u001b[0m\n\u001b[0;32m    114\u001b[0m \u001b[39mdef\u001b[39;00m \u001b[39m_resolve_name\u001b[39m(\u001b[39mself\u001b[39m):\n\u001b[1;32m--> 115\u001b[0m     res \u001b[39m=\u001b[39m \u001b[39mself\u001b[39;49m\u001b[39m.\u001b[39;49menv\u001b[39m.\u001b[39;49mresolve(\u001b[39mself\u001b[39;49m\u001b[39m.\u001b[39;49mlocal_name, is_local\u001b[39m=\u001b[39;49m\u001b[39mself\u001b[39;49m\u001b[39m.\u001b[39;49mis_local)\n\u001b[0;32m    116\u001b[0m     \u001b[39mself\u001b[39m\u001b[39m.\u001b[39mupdate(res)\n\u001b[0;32m    118\u001b[0m     \u001b[39mif\u001b[39;00m \u001b[39mhasattr\u001b[39m(res, \u001b[39m\"\u001b[39m\u001b[39mndim\u001b[39m\u001b[39m\"\u001b[39m) \u001b[39mand\u001b[39;00m res\u001b[39m.\u001b[39mndim \u001b[39m>\u001b[39m \u001b[39m2\u001b[39m:\n",
      "File \u001b[1;32mc:\\Users\\parke\\anaconda3\\envs\\myenv\\lib\\site-packages\\pandas\\core\\computation\\scope.py:213\u001b[0m, in \u001b[0;36mScope.resolve\u001b[1;34m(self, key, is_local)\u001b[0m\n\u001b[0;32m    209\u001b[0m \u001b[39mexcept\u001b[39;00m \u001b[39mKeyError\u001b[39;00m \u001b[39mas\u001b[39;00m err:\n\u001b[0;32m    210\u001b[0m     \u001b[39m# runtime import because ops imports from scope\u001b[39;00m\n\u001b[0;32m    211\u001b[0m     \u001b[39mfrom\u001b[39;00m \u001b[39mpandas\u001b[39;00m\u001b[39m.\u001b[39;00m\u001b[39mcore\u001b[39;00m\u001b[39m.\u001b[39;00m\u001b[39mcomputation\u001b[39;00m\u001b[39m.\u001b[39;00m\u001b[39mops\u001b[39;00m \u001b[39mimport\u001b[39;00m UndefinedVariableError\n\u001b[1;32m--> 213\u001b[0m     \u001b[39mraise\u001b[39;00m UndefinedVariableError(key, is_local) \u001b[39mfrom\u001b[39;00m \u001b[39merr\u001b[39;00m\n",
      "\u001b[1;31mUndefinedVariableError\u001b[0m: name 'month' is not defined"
     ]
    }
   ],
   "source": [
    "c = realtor_data.query(\"month in ['2016-09-01','2022-09-01']\")[['month','state','median_listing_price']].pivot(index = 'state',columns = 'month',values = 'median_listing_price').reset_index()\n",
    "c['pct_change'] = (c.iloc[:,2] - c.iloc[:,1])/c.iloc[:,1]*100\n",
    "\n",
    "a = c.sort_values(by = 'pct_change', ascending = False).head(10)\n",
    "b = c.sort_values(by = 'pct_change', ascending =True).head(10)\n",
    "\n",
    "a\n"
   ]
  },
  {
   "cell_type": "code",
   "execution_count": 14,
   "metadata": {},
   "outputs": [
    {
     "ename": "NameError",
     "evalue": "name 'b' is not defined",
     "output_type": "error",
     "traceback": [
      "\u001b[1;31m---------------------------------------------------------------------------\u001b[0m",
      "\u001b[1;31mNameError\u001b[0m                                 Traceback (most recent call last)",
      "\u001b[1;32mc:\\Users\\parke\\data_work\\datascience\\realtor_com_data_analysis.ipynb Cell 14\u001b[0m in \u001b[0;36m<cell line: 1>\u001b[1;34m()\u001b[0m\n\u001b[1;32m----> <a href='vscode-notebook-cell:/c%3A/Users/parke/data_work/datascience/realtor_com_data_analysis.ipynb#X21sZmlsZQ%3D%3D?line=0'>1</a>\u001b[0m b\n",
      "\u001b[1;31mNameError\u001b[0m: name 'b' is not defined"
     ]
    }
   ],
   "source": [
    "b"
   ]
  }
 ],
 "metadata": {
  "kernelspec": {
   "display_name": "Python 3.9.13 ('myenv')",
   "language": "python",
   "name": "python3"
  },
  "language_info": {
   "codemirror_mode": {
    "name": "ipython",
    "version": 3
   },
   "file_extension": ".py",
   "mimetype": "text/x-python",
   "name": "python",
   "nbconvert_exporter": "python",
   "pygments_lexer": "ipython3",
   "version": "3.9.13"
  },
  "orig_nbformat": 4,
  "vscode": {
   "interpreter": {
    "hash": "2189321822805078e0453408601d53350d8c5616eecaffabadf8631a8d2d0c7b"
   }
  }
 },
 "nbformat": 4,
 "nbformat_minor": 2
}
