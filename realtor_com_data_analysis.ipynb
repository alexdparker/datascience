{
 "cells": [
  {
   "cell_type": "markdown",
   "metadata": {},
   "source": [
    "# Realtor.com Data Analysis\n",
    "This is quick script to visualize some of the key metrics of the housing market that realtor.com compiles and provides for free on their website. Data is at the state and month level. The script should pull in the most up top date data and defaults to using the most recent complete month when reporting on year over year and month over month trends.\n",
    "\n",
    "Metrics:\n",
    "* Number of new listings (new supply)\n",
    "* NUmber of active listings (total supply)\n",
    "* Number of listings that went into pending \n",
    "* Median number of days on market (precursor to price increases/reductions)\n",
    "* Median list price\n",
    "* Number of price increases\n",
    "* Number of price reductions\n"
   ]
  },
  {
   "cell_type": "code",
   "execution_count": 75,
   "metadata": {},
   "outputs": [],
   "source": [
    "import numpy as np\n",
    "import pandas as pd\n",
    "import datetime\n",
    "import seaborn as sns\n",
    "import plotly.express as px \n",
    "import plotly.graph_objects as go\n",
    "from plotly.subplots import make_subplots\n",
    "from datetime import datetime\n",
    "pd.set_option('display.max_columns', 500)"
   ]
  },
  {
   "cell_type": "markdown",
   "metadata": {},
   "source": [
    "## Dataset import and prep"
   ]
  },
  {
   "cell_type": "code",
   "execution_count": 32,
   "metadata": {},
   "outputs": [],
   "source": [
    "realtor_data_raw = pd.read_csv(\"https://econdata.s3-us-west-2.amazonaws.com/Reports/Core/RDC_Inventory_Core_Metrics_State_History.csv\")\n",
    "\n",
    "# for some reason the final row was corrupt with a note\n",
    "realtor_data = realtor_data_raw.drop(realtor_data_raw.tail(1).index)\n",
    "\n",
    "df = (realtor_data\n",
    "    .drop(labels = ['state'], axis = 1)\n",
    "    .assign(month_date_yyyymm = (realtor_data['month_date_yyyymm'] + \"01\").astype('datetime64'))\n",
    "    .rename(columns = {'month_date_yyyymm':'month','state_id':'state'})\n",
    "    .astype({'state':'category'})\n",
    "    .sort_values(by = ['state','month'], ascending = True)\n",
    "    )"
   ]
  },
  {
   "cell_type": "code",
   "execution_count": 33,
   "metadata": {},
   "outputs": [
    {
     "data": {
      "text/plain": [
       "Index(['month', 'state', 'median_listing_price', 'median_listing_price_mm',\n",
       "       'median_listing_price_yy', 'active_listing_count',\n",
       "       'active_listing_count_mm', 'active_listing_count_yy',\n",
       "       'median_days_on_market', 'median_days_on_market_mm',\n",
       "       'median_days_on_market_yy', 'new_listing_count', 'new_listing_count_mm',\n",
       "       'new_listing_count_yy', 'price_increased_count',\n",
       "       'price_increased_count_mm', 'price_increased_count_yy',\n",
       "       'price_reduced_count', 'price_reduced_count_mm',\n",
       "       'price_reduced_count_yy', 'pending_listing_count',\n",
       "       'pending_listing_count_mm', 'pending_listing_count_yy',\n",
       "       'median_listing_price_per_square_foot',\n",
       "       'median_listing_price_per_square_foot_mm',\n",
       "       'median_listing_price_per_square_foot_yy', 'median_square_feet',\n",
       "       'median_square_feet_mm', 'median_square_feet_yy',\n",
       "       'average_listing_price', 'average_listing_price_mm',\n",
       "       'average_listing_price_yy', 'total_listing_count',\n",
       "       'total_listing_count_mm', 'total_listing_count_yy', 'pending_ratio',\n",
       "       'pending_ratio_mm', 'pending_ratio_yy', 'quality_flag'],\n",
       "      dtype='object')"
      ]
     },
     "execution_count": 33,
     "metadata": {},
     "output_type": "execute_result"
    }
   ],
   "source": [
    "df.columns"
   ]
  },
  {
   "cell_type": "code",
   "execution_count": 34,
   "metadata": {},
   "outputs": [],
   "source": [
    "cols = ['month', 'state',\n",
    "       'median_listing_price',\n",
    "       #'median_listing_price_mm', 'median_listing_price_yy',\n",
    "       'active_listing_count', #'active_listing_count_mm',\n",
    "       #'active_listing_count_yy', \n",
    "       'median_days_on_market',\n",
    "       #'median_days_on_market_mm', 'median_days_on_market_yy',\n",
    "       'new_listing_count', \n",
    "       #'new_listing_count_mm', 'new_listing_count_yy',\n",
    "       'price_increased_count', \n",
    "       #'price_increased_count_mm','price_increased_count_yy', \n",
    "       'price_reduced_count',\n",
    "       #'price_reduced_count_mm', 'price_reduced_count_yy',\n",
    "       'pending_listing_count', \n",
    "       #'pending_listing_count_mm', 'pending_listing_count_yy',\n",
    "       #'median_listing_price_per_square_foot',\n",
    "       #'median_listing_price_per_square_foot_mm','median_listing_price_per_square_foot_yy', \n",
    "       'median_square_feet',\n",
    "       #'median_square_feet_mm', 'median_square_feet_yy',\n",
    "       'average_listing_price', \n",
    "       #'average_listing_price_mm', 'average_listing_price_yy', \n",
    "       # 'total_listing_count',\n",
    "       #'total_listing_count_mm', 'total_listing_count_yy', 'pending_ratio',\n",
    "       #'pending_ratio_mm', 'pending_ratio_yy', 'quality_flag'\n",
    "       ]\n",
    "\n",
    "df = df[cols]"
   ]
  },
  {
   "cell_type": "code",
   "execution_count": 35,
   "metadata": {},
   "outputs": [],
   "source": [
    "df = df.rename(columns = {'median_listing_price':'med_lp',\n",
    "                          'active_listing_count':'active_listings',\n",
    "                          'median_days_on_market':'med_dom',\n",
    "                          'new_listing_count':'new_listings',\n",
    "                          'price_increased_count':'price_increases',\n",
    "                          'price_reduced_count':'price_reductions',\n",
    "                          'pending_listing_count':'pending_listings',\n",
    "                          'median_square_feet':'med_sf',\n",
    "                          'average_listing_price':'avg_lp'})\n",
    "\n"
   ]
  },
  {
   "cell_type": "code",
   "execution_count": 135,
   "metadata": {},
   "outputs": [
    {
     "data": {
      "text/html": [
       "<div>\n",
       "<style scoped>\n",
       "    .dataframe tbody tr th:only-of-type {\n",
       "        vertical-align: middle;\n",
       "    }\n",
       "\n",
       "    .dataframe tbody tr th {\n",
       "        vertical-align: top;\n",
       "    }\n",
       "\n",
       "    .dataframe thead th {\n",
       "        text-align: right;\n",
       "    }\n",
       "</style>\n",
       "<table border=\"1\" class=\"dataframe\">\n",
       "  <thead>\n",
       "    <tr style=\"text-align: right;\">\n",
       "      <th></th>\n",
       "      <th>month</th>\n",
       "      <th>state</th>\n",
       "      <th>med_lp</th>\n",
       "      <th>active_listings</th>\n",
       "      <th>med_dom</th>\n",
       "      <th>new_listings</th>\n",
       "      <th>price_increases</th>\n",
       "      <th>price_reductions</th>\n",
       "      <th>pending_listings</th>\n",
       "      <th>med_sf</th>\n",
       "      <th>avg_lp</th>\n",
       "      <th>month_num</th>\n",
       "      <th>year</th>\n",
       "      <th>pct_ch_med_list_1m</th>\n",
       "      <th>pct_ch_active_list_1m</th>\n",
       "      <th>pct_ch_med_dom_1m</th>\n",
       "      <th>pct_ch_new_list_1m</th>\n",
       "      <th>pct_ch_price_inc_1m</th>\n",
       "      <th>pct_ch_price_red_1m</th>\n",
       "      <th>pct_ch_pending_1m</th>\n",
       "      <th>pct_ch_med_list_1y</th>\n",
       "      <th>pct_ch_active_list_1y</th>\n",
       "      <th>pct_ch_med_dom_1y</th>\n",
       "      <th>pct_ch_new_list_1y</th>\n",
       "      <th>pct_ch_price_inc_1y</th>\n",
       "      <th>pct_ch_price_red_1y</th>\n",
       "      <th>pct_ch_pending_1y</th>\n",
       "    </tr>\n",
       "  </thead>\n",
       "  <tbody>\n",
       "    <tr>\n",
       "      <th>3841</th>\n",
       "      <td>2016-07-01</td>\n",
       "      <td>AK</td>\n",
       "      <td>289900.0</td>\n",
       "      <td>3745.0</td>\n",
       "      <td>69.0</td>\n",
       "      <td>1268.0</td>\n",
       "      <td>44.0</td>\n",
       "      <td>1188.0</td>\n",
       "      <td>3.0</td>\n",
       "      <td>1800.0</td>\n",
       "      <td>333200.0</td>\n",
       "      <td>7</td>\n",
       "      <td>2016</td>\n",
       "      <td>NaN</td>\n",
       "      <td>NaN</td>\n",
       "      <td>NaN</td>\n",
       "      <td>NaN</td>\n",
       "      <td>NaN</td>\n",
       "      <td>NaN</td>\n",
       "      <td>NaN</td>\n",
       "      <td>NaN</td>\n",
       "      <td>NaN</td>\n",
       "      <td>NaN</td>\n",
       "      <td>NaN</td>\n",
       "      <td>NaN</td>\n",
       "      <td>NaN</td>\n",
       "      <td>NaN</td>\n",
       "    </tr>\n",
       "    <tr>\n",
       "      <th>3800</th>\n",
       "      <td>2016-08-01</td>\n",
       "      <td>AK</td>\n",
       "      <td>287975.0</td>\n",
       "      <td>3679.0</td>\n",
       "      <td>75.0</td>\n",
       "      <td>1116.0</td>\n",
       "      <td>46.0</td>\n",
       "      <td>1258.0</td>\n",
       "      <td>3.0</td>\n",
       "      <td>1794.0</td>\n",
       "      <td>329918.0</td>\n",
       "      <td>8</td>\n",
       "      <td>2016</td>\n",
       "      <td>-0.664022</td>\n",
       "      <td>-1.762350</td>\n",
       "      <td>8.695652</td>\n",
       "      <td>-11.987382</td>\n",
       "      <td>4.545455</td>\n",
       "      <td>5.892256</td>\n",
       "      <td>0.000000</td>\n",
       "      <td>NaN</td>\n",
       "      <td>NaN</td>\n",
       "      <td>NaN</td>\n",
       "      <td>NaN</td>\n",
       "      <td>NaN</td>\n",
       "      <td>NaN</td>\n",
       "      <td>NaN</td>\n",
       "    </tr>\n",
       "    <tr>\n",
       "      <th>3735</th>\n",
       "      <td>2016-09-01</td>\n",
       "      <td>AK</td>\n",
       "      <td>285000.0</td>\n",
       "      <td>3578.0</td>\n",
       "      <td>80.0</td>\n",
       "      <td>920.0</td>\n",
       "      <td>18.0</td>\n",
       "      <td>1132.0</td>\n",
       "      <td>4.0</td>\n",
       "      <td>1788.0</td>\n",
       "      <td>327484.0</td>\n",
       "      <td>9</td>\n",
       "      <td>2016</td>\n",
       "      <td>-1.033076</td>\n",
       "      <td>-2.745311</td>\n",
       "      <td>6.666667</td>\n",
       "      <td>-17.562724</td>\n",
       "      <td>-60.869565</td>\n",
       "      <td>-10.015898</td>\n",
       "      <td>33.333333</td>\n",
       "      <td>NaN</td>\n",
       "      <td>NaN</td>\n",
       "      <td>NaN</td>\n",
       "      <td>NaN</td>\n",
       "      <td>NaN</td>\n",
       "      <td>NaN</td>\n",
       "      <td>NaN</td>\n",
       "    </tr>\n",
       "    <tr>\n",
       "      <th>3682</th>\n",
       "      <td>2016-10-01</td>\n",
       "      <td>AK</td>\n",
       "      <td>280000.0</td>\n",
       "      <td>3251.0</td>\n",
       "      <td>86.0</td>\n",
       "      <td>780.0</td>\n",
       "      <td>24.0</td>\n",
       "      <td>896.0</td>\n",
       "      <td>4.0</td>\n",
       "      <td>1772.0</td>\n",
       "      <td>327819.0</td>\n",
       "      <td>10</td>\n",
       "      <td>2016</td>\n",
       "      <td>-1.754386</td>\n",
       "      <td>-9.139184</td>\n",
       "      <td>7.500000</td>\n",
       "      <td>-15.217391</td>\n",
       "      <td>33.333333</td>\n",
       "      <td>-20.848057</td>\n",
       "      <td>0.000000</td>\n",
       "      <td>NaN</td>\n",
       "      <td>NaN</td>\n",
       "      <td>NaN</td>\n",
       "      <td>NaN</td>\n",
       "      <td>NaN</td>\n",
       "      <td>NaN</td>\n",
       "      <td>NaN</td>\n",
       "    </tr>\n",
       "    <tr>\n",
       "      <th>3653</th>\n",
       "      <td>2016-11-01</td>\n",
       "      <td>AK</td>\n",
       "      <td>279938.0</td>\n",
       "      <td>2935.0</td>\n",
       "      <td>94.0</td>\n",
       "      <td>630.0</td>\n",
       "      <td>12.0</td>\n",
       "      <td>644.0</td>\n",
       "      <td>4.0</td>\n",
       "      <td>1775.0</td>\n",
       "      <td>329431.0</td>\n",
       "      <td>11</td>\n",
       "      <td>2016</td>\n",
       "      <td>-0.022143</td>\n",
       "      <td>-9.720086</td>\n",
       "      <td>9.302326</td>\n",
       "      <td>-19.230769</td>\n",
       "      <td>-50.000000</td>\n",
       "      <td>-28.125000</td>\n",
       "      <td>0.000000</td>\n",
       "      <td>NaN</td>\n",
       "      <td>NaN</td>\n",
       "      <td>NaN</td>\n",
       "      <td>NaN</td>\n",
       "      <td>NaN</td>\n",
       "      <td>NaN</td>\n",
       "      <td>NaN</td>\n",
       "    </tr>\n",
       "  </tbody>\n",
       "</table>\n",
       "</div>"
      ],
      "text/plain": [
       "          month state    med_lp  active_listings  med_dom  new_listings  \\\n",
       "3841 2016-07-01    AK  289900.0           3745.0     69.0        1268.0   \n",
       "3800 2016-08-01    AK  287975.0           3679.0     75.0        1116.0   \n",
       "3735 2016-09-01    AK  285000.0           3578.0     80.0         920.0   \n",
       "3682 2016-10-01    AK  280000.0           3251.0     86.0         780.0   \n",
       "3653 2016-11-01    AK  279938.0           2935.0     94.0         630.0   \n",
       "\n",
       "      price_increases  price_reductions  pending_listings  med_sf    avg_lp  \\\n",
       "3841             44.0            1188.0               3.0  1800.0  333200.0   \n",
       "3800             46.0            1258.0               3.0  1794.0  329918.0   \n",
       "3735             18.0            1132.0               4.0  1788.0  327484.0   \n",
       "3682             24.0             896.0               4.0  1772.0  327819.0   \n",
       "3653             12.0             644.0               4.0  1775.0  329431.0   \n",
       "\n",
       "      month_num  year  pct_ch_med_list_1m  pct_ch_active_list_1m  \\\n",
       "3841          7  2016                 NaN                    NaN   \n",
       "3800          8  2016           -0.664022              -1.762350   \n",
       "3735          9  2016           -1.033076              -2.745311   \n",
       "3682         10  2016           -1.754386              -9.139184   \n",
       "3653         11  2016           -0.022143              -9.720086   \n",
       "\n",
       "      pct_ch_med_dom_1m  pct_ch_new_list_1m  pct_ch_price_inc_1m  \\\n",
       "3841                NaN                 NaN                  NaN   \n",
       "3800           8.695652          -11.987382             4.545455   \n",
       "3735           6.666667          -17.562724           -60.869565   \n",
       "3682           7.500000          -15.217391            33.333333   \n",
       "3653           9.302326          -19.230769           -50.000000   \n",
       "\n",
       "      pct_ch_price_red_1m  pct_ch_pending_1m  pct_ch_med_list_1y  \\\n",
       "3841                  NaN                NaN                 NaN   \n",
       "3800             5.892256           0.000000                 NaN   \n",
       "3735           -10.015898          33.333333                 NaN   \n",
       "3682           -20.848057           0.000000                 NaN   \n",
       "3653           -28.125000           0.000000                 NaN   \n",
       "\n",
       "      pct_ch_active_list_1y  pct_ch_med_dom_1y  pct_ch_new_list_1y  \\\n",
       "3841                    NaN                NaN                 NaN   \n",
       "3800                    NaN                NaN                 NaN   \n",
       "3735                    NaN                NaN                 NaN   \n",
       "3682                    NaN                NaN                 NaN   \n",
       "3653                    NaN                NaN                 NaN   \n",
       "\n",
       "      pct_ch_price_inc_1y  pct_ch_price_red_1y  pct_ch_pending_1y  \n",
       "3841                  NaN                  NaN                NaN  \n",
       "3800                  NaN                  NaN                NaN  \n",
       "3735                  NaN                  NaN                NaN  \n",
       "3682                  NaN                  NaN                NaN  \n",
       "3653                  NaN                  NaN                NaN  "
      ]
     },
     "execution_count": 135,
     "metadata": {},
     "output_type": "execute_result"
    }
   ],
   "source": [
    "# Month number and year columns, useful for time series plots\n",
    "df = df.assign(\n",
    "        month_num = lambda x: x.month.dt.month,\n",
    "        year = lambda x: x.month.dt.year)\n",
    "\n",
    "def get_pct_change(column, periods):\n",
    "    return(df.groupby('state')[column].transform(lambda x: x.pct_change(periods = periods)*100))\n",
    "\n",
    "\n",
    "# percent change year over year\n",
    "df['pct_ch_med_list_1y'] = get_pct_change('med_lp', periods = 12)\n",
    "df['pct_ch_active_list_1y'] = get_pct_change('active_listings', periods = 12)\n",
    "df['pct_ch_med_dom_1y'] = get_pct_change('med_dom', periods = 12)\n",
    "df['pct_ch_new_list_1y'] = get_pct_change('new_listings', periods = 12)\n",
    "df['pct_ch_price_inc_1y'] = get_pct_change('price_increases', periods = 12)\n",
    "df['pct_ch_price_red_1y'] = get_pct_change('price_reductions', periods = 12)\n",
    "df['pct_ch_pending_1y'] = get_pct_change('pending_listings', periods = 12)\n",
    "\n",
    "# percent change month over month\n",
    "df['pct_ch_med_list_1m'] = get_pct_change('med_lp', periods = 1)\n",
    "df['pct_ch_active_list_1m'] = get_pct_change('active_listings', periods = 1)\n",
    "df['pct_ch_med_dom_1m'] = get_pct_change('med_dom', periods = 1)\n",
    "df['pct_ch_new_list_1m'] = get_pct_change('new_listings', periods = 1)\n",
    "df['pct_ch_price_inc_1m'] = get_pct_change('price_increases', periods = 1)\n",
    "df['pct_ch_price_red_1m'] = get_pct_change('price_reductions', periods = 1)\n",
    "df['pct_ch_pending_1m'] = get_pct_change('pending_listings', periods = 1)\n",
    "\n",
    "\n",
    "df.head()\n"
   ]
  },
  {
   "cell_type": "markdown",
   "metadata": {},
   "source": [
    "## Summary of Key Metrics"
   ]
  },
  {
   "cell_type": "code",
   "execution_count": 143,
   "metadata": {},
   "outputs": [
    {
     "data": {
      "text/plain": [
       "'2022-10-01'"
      ]
     },
     "execution_count": 143,
     "metadata": {},
     "output_type": "execute_result"
    }
   ],
   "source": [
    "def get_obs(column):\n",
    "    return(np.round(df.query(\"month == @analysis_month\").loc[:, column].mean(),2))\n",
    "\n",
    "\n",
    "current_month = datetime.now().month -1\n",
    "current_year = datetime.now().year\n",
    "\n",
    "analysis_month = str(current_year)+'-'+str(current_month) + '-'+'01'\n",
    "analysis_month"
   ]
  },
  {
   "cell_type": "markdown",
   "metadata": {},
   "source": [
    "#### What is happening with housing supply?"
   ]
  },
  {
   "cell_type": "code",
   "execution_count": 147,
   "metadata": {},
   "outputs": [
    {
     "name": "stdout",
     "output_type": "stream",
     "text": [
      "For the month of  2022-10-01 :\n",
      " \n",
      "The average number of active listings has changed by 29.67 % year over year and by 2.59 % month over month\n",
      "------------------------\n",
      "The average number of new listings has changed by -14.28 % year over year and by -10.88 % month over month\n"
     ]
    }
   ],
   "source": [
    "a = get_obs(column = 'pct_ch_active_list_1y')\n",
    "b = get_obs(column = 'pct_ch_active_list_1m')\n",
    "\n",
    "c = get_obs(column = 'pct_ch_new_list_1y')\n",
    "d = get_obs(column = 'pct_ch_new_list_1m')\n",
    "\n",
    "print(\"For the month of \", analysis_month, \":\")\n",
    "print(\" \")\n",
    "print(\"The average number of active listings has changed by\", a, \"% year over year and by\", b, \"% month over month\")\n",
    "print(\"------------------------\")\n",
    "print(\"The average number of new listings has changed by\", c, \"% year over year and by\", d, \"% month over month\")"
   ]
  },
  {
   "cell_type": "markdown",
   "metadata": {},
   "source": [
    "### Whats happening to the number of houses getting sold? How long are listings staying on market?"
   ]
  },
  {
   "cell_type": "code",
   "execution_count": 137,
   "metadata": {},
   "outputs": [
    {
     "name": "stdout",
     "output_type": "stream",
     "text": [
      "The average number of pending listings has changed by -30.63 % year over year and by -11.31 % month over month\n",
      "------------------------\n",
      "The average change for the median days on market across states is 15.74 % year over year and by 3.93 % month over month\n"
     ]
    }
   ],
   "source": [
    "a = get_obs(column = 'pct_ch_pending_1y')\n",
    "b = get_obs(column = 'pct_ch_pending_1m')\n",
    "\n",
    "c = get_obs(column = 'pct_ch_med_dom_1y')\n",
    "d = get_obs(column = 'pct_ch_med_dom_1m')\n",
    "\n",
    "print(\"For the month of \", analysis_month, \":\")\n",
    "print(\" \")\n",
    "print(\"The average number of pending listings has changed by\", a, \"% year over year and by\", b, \"% month over month\")\n",
    "print(\"------------------------\")\n",
    "print(\"The average change for the median days on market across states is\", c, \"% year over year and by\", d, \"% month over month\")"
   ]
  },
  {
   "cell_type": "markdown",
   "metadata": {},
   "source": [
    "### What is happening to housing prices?"
   ]
  },
  {
   "cell_type": "code",
   "execution_count": 158,
   "metadata": {},
   "outputs": [
    {
     "name": "stdout",
     "output_type": "stream",
     "text": [
      "For the month of  2022-10-01 :\n",
      " \n",
      "The average change for the median list price across states is 14.36 % year over year and by -0.23 % month over month\n",
      "------------------------\n",
      "The average number of price increases has changed by -38.69 % year over year and by -7.09 % month over month\n",
      "------------------------\n",
      "The average number of price reductions has changed by 78.14 % year over year and by 2.89 % month over month\n"
     ]
    }
   ],
   "source": [
    "a = get_obs(column = 'pct_ch_med_list_1y')\n",
    "b = get_obs(column = 'pct_ch_med_list_1m')\n",
    "\n",
    "c = get_obs(column = 'pct_ch_price_inc_1y')\n",
    "d = get_obs(column = 'pct_ch_price_inc_1m')\n",
    "\n",
    "e = get_obs(column = 'pct_ch_price_red_1y')\n",
    "f =get_obs(column = 'pct_ch_price_red_1m')\n",
    "\n",
    "print(\"For the month of \", analysis_month, \":\")\n",
    "print(\" \")\n",
    "print(\"The average change for the median list price across states is\", a, \"% year over year and by\", b, \"% month over month\")\n",
    "print(\"------------------------\")\n",
    "print(\"The average number of price increases has changed by\", c, \"% year over year and by\", d, \"% month over month\")\n",
    "print(\"------------------------\")\n",
    "print(\"The average number of price reductions has changed by\", e, \"% year over year and by\", f, \"% month over month\")"
   ]
  },
  {
   "cell_type": "markdown",
   "metadata": {},
   "source": [
    "### Snapshot of year over year results in more detail"
   ]
  },
  {
   "cell_type": "code",
   "execution_count": 154,
   "metadata": {},
   "outputs": [
    {
     "data": {
      "text/html": [
       "<div>\n",
       "<style scoped>\n",
       "    .dataframe tbody tr th:only-of-type {\n",
       "        vertical-align: middle;\n",
       "    }\n",
       "\n",
       "    .dataframe tbody tr th {\n",
       "        vertical-align: top;\n",
       "    }\n",
       "\n",
       "    .dataframe thead th {\n",
       "        text-align: right;\n",
       "    }\n",
       "</style>\n",
       "<table border=\"1\" class=\"dataframe\">\n",
       "  <thead>\n",
       "    <tr style=\"text-align: right;\">\n",
       "      <th></th>\n",
       "      <th>count</th>\n",
       "      <th>mean</th>\n",
       "      <th>std</th>\n",
       "      <th>min</th>\n",
       "      <th>25%</th>\n",
       "      <th>50%</th>\n",
       "      <th>75%</th>\n",
       "      <th>max</th>\n",
       "    </tr>\n",
       "  </thead>\n",
       "  <tbody>\n",
       "    <tr>\n",
       "      <th>pct_ch_med_list_1y</th>\n",
       "      <td>51.0</td>\n",
       "      <td>14.356923</td>\n",
       "      <td>7.986179</td>\n",
       "      <td>2.142857</td>\n",
       "      <td>7.946382</td>\n",
       "      <td>13.513514</td>\n",
       "      <td>20.473832</td>\n",
       "      <td>32.307692</td>\n",
       "    </tr>\n",
       "    <tr>\n",
       "      <th>pct_ch_active_list_1y</th>\n",
       "      <td>51.0</td>\n",
       "      <td>29.669308</td>\n",
       "      <td>35.306069</td>\n",
       "      <td>-18.336762</td>\n",
       "      <td>3.968457</td>\n",
       "      <td>20.973154</td>\n",
       "      <td>49.346232</td>\n",
       "      <td>136.141762</td>\n",
       "    </tr>\n",
       "    <tr>\n",
       "      <th>pct_ch_med_dom_1y</th>\n",
       "      <td>51.0</td>\n",
       "      <td>15.740622</td>\n",
       "      <td>21.547790</td>\n",
       "      <td>-11.111111</td>\n",
       "      <td>4.677830</td>\n",
       "      <td>8.000000</td>\n",
       "      <td>20.204082</td>\n",
       "      <td>103.125000</td>\n",
       "    </tr>\n",
       "    <tr>\n",
       "      <th>pct_ch_new_list_1y</th>\n",
       "      <td>51.0</td>\n",
       "      <td>-14.277914</td>\n",
       "      <td>11.018314</td>\n",
       "      <td>-72.030480</td>\n",
       "      <td>-18.878166</td>\n",
       "      <td>-14.626866</td>\n",
       "      <td>-7.558016</td>\n",
       "      <td>3.793322</td>\n",
       "    </tr>\n",
       "    <tr>\n",
       "      <th>pct_ch_price_inc_1y</th>\n",
       "      <td>51.0</td>\n",
       "      <td>-38.691701</td>\n",
       "      <td>24.125401</td>\n",
       "      <td>-94.415358</td>\n",
       "      <td>-51.438541</td>\n",
       "      <td>-42.702703</td>\n",
       "      <td>-28.463178</td>\n",
       "      <td>50.000000</td>\n",
       "    </tr>\n",
       "    <tr>\n",
       "      <th>pct_ch_price_red_1y</th>\n",
       "      <td>51.0</td>\n",
       "      <td>78.138328</td>\n",
       "      <td>75.079271</td>\n",
       "      <td>-6.260297</td>\n",
       "      <td>24.422132</td>\n",
       "      <td>53.225806</td>\n",
       "      <td>140.468730</td>\n",
       "      <td>346.744412</td>\n",
       "    </tr>\n",
       "    <tr>\n",
       "      <th>pct_ch_pending_1y</th>\n",
       "      <td>51.0</td>\n",
       "      <td>-30.631951</td>\n",
       "      <td>8.875753</td>\n",
       "      <td>-43.722084</td>\n",
       "      <td>-36.484080</td>\n",
       "      <td>-31.379749</td>\n",
       "      <td>-26.527349</td>\n",
       "      <td>0.660352</td>\n",
       "    </tr>\n",
       "  </tbody>\n",
       "</table>\n",
       "</div>"
      ],
      "text/plain": [
       "                       count       mean        std        min        25%  \\\n",
       "pct_ch_med_list_1y      51.0  14.356923   7.986179   2.142857   7.946382   \n",
       "pct_ch_active_list_1y   51.0  29.669308  35.306069 -18.336762   3.968457   \n",
       "pct_ch_med_dom_1y       51.0  15.740622  21.547790 -11.111111   4.677830   \n",
       "pct_ch_new_list_1y      51.0 -14.277914  11.018314 -72.030480 -18.878166   \n",
       "pct_ch_price_inc_1y     51.0 -38.691701  24.125401 -94.415358 -51.438541   \n",
       "pct_ch_price_red_1y     51.0  78.138328  75.079271  -6.260297  24.422132   \n",
       "pct_ch_pending_1y       51.0 -30.631951   8.875753 -43.722084 -36.484080   \n",
       "\n",
       "                             50%         75%         max  \n",
       "pct_ch_med_list_1y     13.513514   20.473832   32.307692  \n",
       "pct_ch_active_list_1y  20.973154   49.346232  136.141762  \n",
       "pct_ch_med_dom_1y       8.000000   20.204082  103.125000  \n",
       "pct_ch_new_list_1y    -14.626866   -7.558016    3.793322  \n",
       "pct_ch_price_inc_1y   -42.702703  -28.463178   50.000000  \n",
       "pct_ch_price_red_1y    53.225806  140.468730  346.744412  \n",
       "pct_ch_pending_1y     -31.379749  -26.527349    0.660352  "
      ]
     },
     "execution_count": 154,
     "metadata": {},
     "output_type": "execute_result"
    }
   ],
   "source": [
    "(df.query(\"month ==@analysis_month\")\n",
    ".loc[:,df.columns.str.endswith('1y')]\n",
    ".describe()\n",
    ".T)"
   ]
  },
  {
   "cell_type": "code",
   "execution_count": 149,
   "metadata": {},
   "outputs": [
    {
     "data": {
      "image/svg+xml": "<svg class=\"main-svg\" xmlns=\"http://www.w3.org/2000/svg\" xmlns:xlink=\"http://www.w3.org/1999/xlink\" width=\"1200\" height=\"600\" style=\"\" viewBox=\"0 0 1200 600\"><rect x=\"0\" y=\"0\" width=\"1200\" height=\"600\" style=\"fill: rgb(255, 255, 255); fill-opacity: 1;\"/><defs id=\"defs-09b0e3\"><g class=\"clips\"><clipPath id=\"clip09b0e3xyplot\" class=\"plotclip\"><rect width=\"927\" height=\"420\"/></clipPath><clipPath class=\"axesclip\" id=\"clip09b0e3x\"><rect x=\"80\" y=\"0\" width=\"927\" height=\"600\"/></clipPath><clipPath class=\"axesclip\" id=\"clip09b0e3y\"><rect x=\"0\" y=\"100\" width=\"1200\" height=\"420\"/></clipPath><clipPath class=\"axesclip\" id=\"clip09b0e3xy\"><rect x=\"80\" y=\"100\" width=\"927\" height=\"420\"/></clipPath></g><g class=\"gradients\"/><g class=\"patterns\"/></defs><g class=\"bglayer\"><rect class=\"bg\" x=\"80\" y=\"100\" width=\"927\" height=\"420\" style=\"fill: rgb(229, 236, 246); fill-opacity: 1; stroke-width: 0;\"/></g><g class=\"layer-below\"><g class=\"imagelayer\"/><g class=\"shapelayer\"/></g><g class=\"cartesianlayer\"><g class=\"subplot xy\"><g class=\"layer-subplot\"><g class=\"shapelayer\"/><g class=\"imagelayer\"/></g><g class=\"minor-gridlayer\"><g class=\"x\"/><g class=\"y\"/></g><g class=\"gridlayer\"><g class=\"x\"/><g class=\"y\"><path class=\"ygrid crisp\" transform=\"translate(0,503.79)\" d=\"M80,0h927\" style=\"stroke: rgb(255, 255, 255); stroke-opacity: 1; stroke-width: 1px;\"/><path class=\"ygrid crisp\" transform=\"translate(0,460.94)\" d=\"M80,0h927\" style=\"stroke: rgb(255, 255, 255); stroke-opacity: 1; stroke-width: 1px;\"/><path class=\"ygrid crisp\" transform=\"translate(0,375.26)\" d=\"M80,0h927\" style=\"stroke: rgb(255, 255, 255); stroke-opacity: 1; stroke-width: 1px;\"/><path class=\"ygrid crisp\" transform=\"translate(0,332.41999999999996)\" d=\"M80,0h927\" style=\"stroke: rgb(255, 255, 255); stroke-opacity: 1; stroke-width: 1px;\"/><path class=\"ygrid crisp\" transform=\"translate(0,289.58000000000004)\" d=\"M80,0h927\" style=\"stroke: rgb(255, 255, 255); stroke-opacity: 1; stroke-width: 1px;\"/><path class=\"ygrid crisp\" transform=\"translate(0,246.74)\" d=\"M80,0h927\" style=\"stroke: rgb(255, 255, 255); stroke-opacity: 1; stroke-width: 1px;\"/><path class=\"ygrid crisp\" transform=\"translate(0,203.89)\" d=\"M80,0h927\" style=\"stroke: rgb(255, 255, 255); stroke-opacity: 1; stroke-width: 1px;\"/><path class=\"ygrid crisp\" transform=\"translate(0,161.05)\" d=\"M80,0h927\" style=\"stroke: rgb(255, 255, 255); stroke-opacity: 1; stroke-width: 1px;\"/><path class=\"ygrid crisp\" transform=\"translate(0,118.21000000000001)\" d=\"M80,0h927\" style=\"stroke: rgb(255, 255, 255); stroke-opacity: 1; stroke-width: 1px;\"/></g></g><g class=\"zerolinelayer\"><path class=\"yzl zl crisp\" transform=\"translate(0,418.1)\" d=\"M80,0h927\" style=\"stroke: rgb(255, 255, 255); stroke-opacity: 1; stroke-width: 2px;\"/></g><path class=\"xlines-below\"/><path class=\"ylines-below\"/><g class=\"overlines-below\"/><g class=\"xaxislayer-below\"/><g class=\"yaxislayer-below\"/><g class=\"overaxes-below\"/><g class=\"plot\" transform=\"translate(80,100)\" clip-path=\"url(#clip09b0e3xyplot)\"><g class=\"boxlayer mlayer\"><g class=\"trace boxes\" style=\"opacity: 1;\"><path class=\"box\" d=\"M33.77,306.52H98.66M33.77,311.36H98.66V300.3H33.77ZM66.21,311.36V316.27M66.21,300.3V290.42M49.99,316.27H82.44M49.99,290.42H82.44\" style=\"vector-effect: non-scaling-stroke; stroke-width: 2px; stroke: rgb(99, 110, 250); stroke-opacity: 1; fill: rgb(99, 110, 250); fill-opacity: 0.5;\"/><g class=\"points\"/></g><g class=\"trace boxes\" style=\"opacity: 1;\"><path class=\"box\" d=\"M166.2,300.13H231.09M166.2,314.7H231.09V275.81H166.2ZM198.64,314.7V333.81M198.64,275.81V242.54M182.42,333.81H214.87M182.42,242.54H214.87\" style=\"vector-effect: non-scaling-stroke; stroke-width: 2px; stroke: rgb(239, 85, 59); stroke-opacity: 1; fill: rgb(239, 85, 59); fill-opacity: 0.5;\"/><g class=\"points\"><path class=\"point\" transform=\"translate(198.64,202.93)\" d=\"M3,0A3,3 0 1,1 0,-3A3,3 0 0,1 3,0Z\" style=\"opacity: 1; stroke-width: 0px; fill: rgb(239, 85, 59); fill-opacity: 1;\"/><path class=\"point\" transform=\"translate(198.64,201.45)\" d=\"M3,0A3,3 0 1,1 0,-3A3,3 0 0,1 3,0Z\" style=\"opacity: 1; stroke-width: 0px; fill: rgb(239, 85, 59); fill-opacity: 1;\"/></g></g><g class=\"trace boxes\" style=\"opacity: 1;\"><path class=\"box\" d=\"M298.63,311.25H363.52M298.63,314.18H363.52V300.7H298.63ZM331.07,314.18V327.62M331.07,300.7V286.37M314.85,327.62H347.29M314.85,286.37H347.29\" style=\"vector-effect: non-scaling-stroke; stroke-width: 2px; stroke: rgb(0, 204, 150); stroke-opacity: 1; fill: rgb(0, 204, 150); fill-opacity: 0.5;\"/><g class=\"points\"><path class=\"point\" transform=\"translate(331.07,280.02)\" d=\"M3,0A3,3 0 1,1 0,-3A3,3 0 0,1 3,0Z\" style=\"opacity: 1; stroke-width: 0px; fill: rgb(0, 204, 150); fill-opacity: 1;\"/><path class=\"point\" transform=\"translate(331.07,272.74)\" d=\"M3,0A3,3 0 1,1 0,-3A3,3 0 0,1 3,0Z\" style=\"opacity: 1; stroke-width: 0px; fill: rgb(0, 204, 150); fill-opacity: 1;\"/><path class=\"point\" transform=\"translate(331.07,264.24)\" d=\"M3,0A3,3 0 1,1 0,-3A3,3 0 0,1 3,0Z\" style=\"opacity: 1; stroke-width: 0px; fill: rgb(0, 204, 150); fill-opacity: 1;\"/><path class=\"point\" transform=\"translate(331.07,248.48)\" d=\"M3,0A3,3 0 1,1 0,-3A3,3 0 0,1 3,0Z\" style=\"opacity: 1; stroke-width: 0px; fill: rgb(0, 204, 150); fill-opacity: 1;\"/><path class=\"point\" transform=\"translate(331.07,229.74)\" d=\"M3,0A3,3 0 1,1 0,-3A3,3 0 0,1 3,0Z\" style=\"opacity: 1; stroke-width: 0px; fill: rgb(0, 204, 150); fill-opacity: 1;\"/></g></g><g class=\"trace boxes\" style=\"opacity: 1;\"><path class=\"box\" d=\"M431.05,330.63H495.95M431.05,334.49H495.95V324.53H431.05ZM463.5,334.49V342.95M463.5,324.53V314.85M447.28,342.95H479.72M447.28,314.85H479.72\" style=\"vector-effect: non-scaling-stroke; stroke-width: 2px; stroke: rgb(171, 99, 250); stroke-opacity: 1; fill: rgb(171, 99, 250); fill-opacity: 0.5;\"/><g class=\"points\"><path class=\"point\" transform=\"translate(463.5,379.82)\" d=\"M3,0A3,3 0 1,1 0,-3A3,3 0 0,1 3,0Z\" style=\"opacity: 1; stroke-width: 0px; fill: rgb(171, 99, 250); fill-opacity: 1;\"/></g></g><g class=\"trace boxes\" style=\"opacity: 1;\"><path class=\"box\" d=\"M563.48,354.69H628.37M563.48,362.19H628.37V341.79H563.48ZM595.93,362.19V387.34M595.93,341.79V319.33M579.71,387.34H612.15M579.71,319.33H612.15\" style=\"vector-effect: non-scaling-stroke; stroke-width: 2px; stroke: rgb(255, 161, 90); stroke-opacity: 1; fill: rgb(255, 161, 90); fill-opacity: 0.5;\"/><g class=\"points\"><path class=\"point\" transform=\"translate(595.93,399)\" d=\"M3,0A3,3 0 1,1 0,-3A3,3 0 0,1 3,0Z\" style=\"opacity: 1; stroke-width: 0px; fill: rgb(255, 161, 90); fill-opacity: 1;\"/><path class=\"point\" transform=\"translate(595.93,302.04)\" d=\"M3,0A3,3 0 1,1 0,-3A3,3 0 0,1 3,0Z\" style=\"opacity: 1; stroke-width: 0px; fill: rgb(255, 161, 90); fill-opacity: 1;\"/><path class=\"point\" transform=\"translate(595.93,275.26)\" d=\"M3,0A3,3 0 1,1 0,-3A3,3 0 0,1 3,0Z\" style=\"opacity: 1; stroke-width: 0px; fill: rgb(255, 161, 90); fill-opacity: 1;\"/></g></g><g class=\"trace boxes\" style=\"opacity: 1;\"><path class=\"box\" d=\"M695.91,272.5H760.8M695.91,298.43H760.8V197.27H695.91ZM728.36,298.43V323.47M728.36,197.27V103.89M712.13,323.47H744.58M712.13,103.89H744.58\" style=\"vector-effect: non-scaling-stroke; stroke-width: 2px; stroke: rgb(25, 211, 243); stroke-opacity: 1; fill: rgb(25, 211, 243); fill-opacity: 0.5;\"/><g class=\"points\"><path class=\"point\" transform=\"translate(728.36,21)\" d=\"M3,0A3,3 0 1,1 0,-3A3,3 0 0,1 3,0Z\" style=\"opacity: 1; stroke-width: 0px; fill: rgb(25, 211, 243); fill-opacity: 1;\"/></g></g><g class=\"trace boxes\" style=\"opacity: 1;\"><path class=\"box\" d=\"M828.34,344.99H893.23M828.34,349.45H893.23V340.82H828.34ZM860.79,349.45V355.56M860.79,340.82V328.64M844.56,355.56H877.01M844.56,328.64H877.01\" style=\"vector-effect: non-scaling-stroke; stroke-width: 2px; stroke: rgb(255, 102, 146); stroke-opacity: 1; fill: rgb(255, 102, 146); fill-opacity: 0.5;\"/><g class=\"points\"><path class=\"point\" transform=\"translate(860.79,321.54)\" d=\"M3,0A3,3 0 1,1 0,-3A3,3 0 0,1 3,0Z\" style=\"opacity: 1; stroke-width: 0px; fill: rgb(255, 102, 146); fill-opacity: 1;\"/><path class=\"point\" transform=\"translate(860.79,317.54)\" d=\"M3,0A3,3 0 1,1 0,-3A3,3 0 0,1 3,0Z\" style=\"opacity: 1; stroke-width: 0px; fill: rgb(255, 102, 146); fill-opacity: 1;\"/></g></g></g></g><g class=\"overplot\"/><path class=\"xlines-above crisp\" d=\"M0,0\" style=\"fill: none;\"/><path class=\"ylines-above crisp\" d=\"M0,0\" style=\"fill: none;\"/><g class=\"overlines-above\"/><g class=\"xaxislayer-above\"><g class=\"xtick\"><text text-anchor=\"middle\" x=\"0\" y=\"533\" transform=\"translate(146.20999999999998,0)\" style=\"font-family: 'Open Sans', verdana, arial, sans-serif; font-size: 12px; fill: rgb(42, 63, 95); fill-opacity: 1; white-space: pre; opacity: 1;\">pct_ch_med_list_1y</text></g><g class=\"xtick\"><text text-anchor=\"middle\" x=\"0\" y=\"533\" transform=\"translate(278.64,0)\" style=\"font-family: 'Open Sans', verdana, arial, sans-serif; font-size: 12px; fill: rgb(42, 63, 95); fill-opacity: 1; white-space: pre; opacity: 1;\">pct_ch_active_list_1y</text></g><g class=\"xtick\"><text text-anchor=\"middle\" x=\"0\" y=\"533\" transform=\"translate(411.07,0)\" style=\"font-family: 'Open Sans', verdana, arial, sans-serif; font-size: 12px; fill: rgb(42, 63, 95); fill-opacity: 1; white-space: pre; opacity: 1;\">pct_ch_med_dom_1y</text></g><g class=\"xtick\"><text text-anchor=\"middle\" x=\"0\" y=\"533\" transform=\"translate(543.5,0)\" style=\"font-family: 'Open Sans', verdana, arial, sans-serif; font-size: 12px; fill: rgb(42, 63, 95); fill-opacity: 1; white-space: pre; opacity: 1;\">pct_ch_new_list_1y</text></g><g class=\"xtick\"><text text-anchor=\"middle\" x=\"0\" y=\"533\" transform=\"translate(675.93,0)\" style=\"font-family: 'Open Sans', verdana, arial, sans-serif; font-size: 12px; fill: rgb(42, 63, 95); fill-opacity: 1; white-space: pre; opacity: 1;\">pct_ch_price_inc_1y</text></g><g class=\"xtick\"><text text-anchor=\"middle\" x=\"0\" y=\"533\" transform=\"translate(808.36,0)\" style=\"font-family: 'Open Sans', verdana, arial, sans-serif; font-size: 12px; fill: rgb(42, 63, 95); fill-opacity: 1; white-space: pre; opacity: 1;\">pct_ch_price_red_1y</text></g><g class=\"xtick\"><text text-anchor=\"middle\" x=\"0\" y=\"533\" transform=\"translate(940.79,0)\" style=\"font-family: 'Open Sans', verdana, arial, sans-serif; font-size: 12px; fill: rgb(42, 63, 95); fill-opacity: 1; white-space: pre; opacity: 1;\">pct_ch_pending_1y</text></g></g><g class=\"yaxislayer-above\"><g class=\"ytick\"><text text-anchor=\"end\" x=\"79\" y=\"4.199999999999999\" transform=\"translate(0,503.79)\" style=\"font-family: 'Open Sans', verdana, arial, sans-serif; font-size: 12px; fill: rgb(42, 63, 95); fill-opacity: 1; white-space: pre; opacity: 1;\">−100</text></g><g class=\"ytick\"><text text-anchor=\"end\" x=\"79\" y=\"4.199999999999999\" style=\"font-family: 'Open Sans', verdana, arial, sans-serif; font-size: 12px; fill: rgb(42, 63, 95); fill-opacity: 1; white-space: pre; opacity: 1;\" transform=\"translate(0,460.94)\">−50</text></g><g class=\"ytick\"><text text-anchor=\"end\" x=\"79\" y=\"4.199999999999999\" style=\"font-family: 'Open Sans', verdana, arial, sans-serif; font-size: 12px; fill: rgb(42, 63, 95); fill-opacity: 1; white-space: pre; opacity: 1;\" transform=\"translate(0,418.1)\">0</text></g><g class=\"ytick\"><text text-anchor=\"end\" x=\"79\" y=\"4.199999999999999\" style=\"font-family: 'Open Sans', verdana, arial, sans-serif; font-size: 12px; fill: rgb(42, 63, 95); fill-opacity: 1; white-space: pre; opacity: 1;\" transform=\"translate(0,375.26)\">50</text></g><g class=\"ytick\"><text text-anchor=\"end\" x=\"79\" y=\"4.199999999999999\" style=\"font-family: 'Open Sans', verdana, arial, sans-serif; font-size: 12px; fill: rgb(42, 63, 95); fill-opacity: 1; white-space: pre; opacity: 1;\" transform=\"translate(0,332.41999999999996)\">100</text></g><g class=\"ytick\"><text text-anchor=\"end\" x=\"79\" y=\"4.199999999999999\" style=\"font-family: 'Open Sans', verdana, arial, sans-serif; font-size: 12px; fill: rgb(42, 63, 95); fill-opacity: 1; white-space: pre; opacity: 1;\" transform=\"translate(0,289.58000000000004)\">150</text></g><g class=\"ytick\"><text text-anchor=\"end\" x=\"79\" y=\"4.199999999999999\" style=\"font-family: 'Open Sans', verdana, arial, sans-serif; font-size: 12px; fill: rgb(42, 63, 95); fill-opacity: 1; white-space: pre; opacity: 1;\" transform=\"translate(0,246.74)\">200</text></g><g class=\"ytick\"><text text-anchor=\"end\" x=\"79\" y=\"4.199999999999999\" style=\"font-family: 'Open Sans', verdana, arial, sans-serif; font-size: 12px; fill: rgb(42, 63, 95); fill-opacity: 1; white-space: pre; opacity: 1;\" transform=\"translate(0,203.89)\">250</text></g><g class=\"ytick\"><text text-anchor=\"end\" x=\"79\" y=\"4.199999999999999\" style=\"font-family: 'Open Sans', verdana, arial, sans-serif; font-size: 12px; fill: rgb(42, 63, 95); fill-opacity: 1; white-space: pre; opacity: 1;\" transform=\"translate(0,161.05)\">300</text></g><g class=\"ytick\"><text text-anchor=\"end\" x=\"79\" y=\"4.199999999999999\" style=\"font-family: 'Open Sans', verdana, arial, sans-serif; font-size: 12px; fill: rgb(42, 63, 95); fill-opacity: 1; white-space: pre; opacity: 1;\" transform=\"translate(0,118.21000000000001)\">350</text></g></g><g class=\"overaxes-above\"/></g></g><g class=\"polarlayer\"/><g class=\"smithlayer\"/><g class=\"ternarylayer\"/><g class=\"geolayer\"/><g class=\"funnelarealayer\"/><g class=\"pielayer\"/><g class=\"iciclelayer\"/><g class=\"treemaplayer\"/><g class=\"sunburstlayer\"/><g class=\"glimages\"/><defs id=\"topdefs-09b0e3\"><g class=\"clips\"/><clipPath id=\"legend09b0e3\"><rect width=\"162\" height=\"162\" x=\"0\" y=\"0\"/></clipPath></defs><g class=\"layer-above\"><g class=\"imagelayer\"/><g class=\"shapelayer\"/></g><g class=\"infolayer\"><g class=\"legend\" pointer-events=\"all\" transform=\"translate(1025.54,100)\"><rect class=\"bg\" shape-rendering=\"crispEdges\" width=\"162\" height=\"162\" x=\"0\" y=\"0\" style=\"stroke: rgb(68, 68, 68); stroke-opacity: 1; fill: rgb(255, 255, 255); fill-opacity: 1; stroke-width: 0px;\"/><g class=\"scrollbox\" transform=\"\" clip-path=\"url(#legend09b0e3)\"><text class=\"legendtitletext\" text-anchor=\"start\" x=\"2\" y=\"18.2\" style=\"font-family: 'Open Sans', verdana, arial, sans-serif; font-size: 14px; fill: rgb(42, 63, 95); fill-opacity: 1; white-space: pre;\">variable</text><g class=\"groups\" transform=\"\"><g class=\"traces\" transform=\"translate(0,32.7)\" style=\"opacity: 1;\"><text class=\"legendtext\" text-anchor=\"start\" x=\"40\" y=\"4.680000000000001\" style=\"font-family: 'Open Sans', verdana, arial, sans-serif; font-size: 12px; fill: rgb(42, 63, 95); fill-opacity: 1; white-space: pre;\">pct_ch_med_list_1y</text><g class=\"layers\" style=\"opacity: 1;\"><g class=\"legendfill\"/><g class=\"legendlines\"/><g class=\"legendsymbols\"><g class=\"legendpoints\"><path class=\"legendbox\" d=\"M6,6H-6V-6H6Z\" transform=\"translate(20,0)\" style=\"stroke-width: 2px; fill: rgb(99, 110, 250); fill-opacity: 0.5; stroke: rgb(99, 110, 250); stroke-opacity: 1;\"/></g></g></g><rect class=\"legendtoggle\" x=\"0\" y=\"-9.5\" width=\"156.78125\" height=\"19\" style=\"fill: rgb(0, 0, 0); fill-opacity: 0;\"/></g></g><g class=\"groups\" transform=\"\"><g class=\"traces\" transform=\"translate(0,51.7)\" style=\"opacity: 1;\"><text class=\"legendtext\" text-anchor=\"start\" x=\"40\" y=\"4.680000000000001\" style=\"font-family: 'Open Sans', verdana, arial, sans-serif; font-size: 12px; fill: rgb(42, 63, 95); fill-opacity: 1; white-space: pre;\">pct_ch_active_list_1y</text><g class=\"layers\" style=\"opacity: 1;\"><g class=\"legendfill\"/><g class=\"legendlines\"/><g class=\"legendsymbols\"><g class=\"legendpoints\"><path class=\"legendbox\" d=\"M6,6H-6V-6H6Z\" transform=\"translate(20,0)\" style=\"stroke-width: 2px; fill: rgb(239, 85, 59); fill-opacity: 0.5; stroke: rgb(239, 85, 59); stroke-opacity: 1;\"/></g></g></g><rect class=\"legendtoggle\" x=\"0\" y=\"-9.5\" width=\"156.78125\" height=\"19\" style=\"fill: rgb(0, 0, 0); fill-opacity: 0;\"/></g></g><g class=\"groups\" transform=\"\"><g class=\"traces\" transform=\"translate(0,70.7)\" style=\"opacity: 1;\"><text class=\"legendtext\" text-anchor=\"start\" x=\"40\" y=\"4.680000000000001\" style=\"font-family: 'Open Sans', verdana, arial, sans-serif; font-size: 12px; fill: rgb(42, 63, 95); fill-opacity: 1; white-space: pre;\">pct_ch_med_dom_1y</text><g class=\"layers\" style=\"opacity: 1;\"><g class=\"legendfill\"/><g class=\"legendlines\"/><g class=\"legendsymbols\"><g class=\"legendpoints\"><path class=\"legendbox\" d=\"M6,6H-6V-6H6Z\" transform=\"translate(20,0)\" style=\"stroke-width: 2px; fill: rgb(0, 204, 150); fill-opacity: 0.5; stroke: rgb(0, 204, 150); stroke-opacity: 1;\"/></g></g></g><rect class=\"legendtoggle\" x=\"0\" y=\"-9.5\" width=\"156.78125\" height=\"19\" style=\"fill: rgb(0, 0, 0); fill-opacity: 0;\"/></g></g><g class=\"groups\" transform=\"\"><g class=\"traces\" transform=\"translate(0,89.7)\" style=\"opacity: 1;\"><text class=\"legendtext\" text-anchor=\"start\" x=\"40\" y=\"4.680000000000001\" style=\"font-family: 'Open Sans', verdana, arial, sans-serif; font-size: 12px; fill: rgb(42, 63, 95); fill-opacity: 1; white-space: pre;\">pct_ch_new_list_1y</text><g class=\"layers\" style=\"opacity: 1;\"><g class=\"legendfill\"/><g class=\"legendlines\"/><g class=\"legendsymbols\"><g class=\"legendpoints\"><path class=\"legendbox\" d=\"M6,6H-6V-6H6Z\" transform=\"translate(20,0)\" style=\"stroke-width: 2px; fill: rgb(171, 99, 250); fill-opacity: 0.5; stroke: rgb(171, 99, 250); stroke-opacity: 1;\"/></g></g></g><rect class=\"legendtoggle\" x=\"0\" y=\"-9.5\" width=\"156.78125\" height=\"19\" style=\"fill: rgb(0, 0, 0); fill-opacity: 0;\"/></g></g><g class=\"groups\" transform=\"\"><g class=\"traces\" transform=\"translate(0,108.7)\" style=\"opacity: 1;\"><text class=\"legendtext\" text-anchor=\"start\" x=\"40\" y=\"4.680000000000001\" style=\"font-family: 'Open Sans', verdana, arial, sans-serif; font-size: 12px; fill: rgb(42, 63, 95); fill-opacity: 1; white-space: pre;\">pct_ch_price_inc_1y</text><g class=\"layers\" style=\"opacity: 1;\"><g class=\"legendfill\"/><g class=\"legendlines\"/><g class=\"legendsymbols\"><g class=\"legendpoints\"><path class=\"legendbox\" d=\"M6,6H-6V-6H6Z\" transform=\"translate(20,0)\" style=\"stroke-width: 2px; fill: rgb(255, 161, 90); fill-opacity: 0.5; stroke: rgb(255, 161, 90); stroke-opacity: 1;\"/></g></g></g><rect class=\"legendtoggle\" x=\"0\" y=\"-9.5\" width=\"156.78125\" height=\"19\" style=\"fill: rgb(0, 0, 0); fill-opacity: 0;\"/></g></g><g class=\"groups\" transform=\"\"><g class=\"traces\" transform=\"translate(0,127.7)\" style=\"opacity: 1;\"><text class=\"legendtext\" text-anchor=\"start\" x=\"40\" y=\"4.680000000000001\" style=\"font-family: 'Open Sans', verdana, arial, sans-serif; font-size: 12px; fill: rgb(42, 63, 95); fill-opacity: 1; white-space: pre;\">pct_ch_price_red_1y</text><g class=\"layers\" style=\"opacity: 1;\"><g class=\"legendfill\"/><g class=\"legendlines\"/><g class=\"legendsymbols\"><g class=\"legendpoints\"><path class=\"legendbox\" d=\"M6,6H-6V-6H6Z\" transform=\"translate(20,0)\" style=\"stroke-width: 2px; fill: rgb(25, 211, 243); fill-opacity: 0.5; stroke: rgb(25, 211, 243); stroke-opacity: 1;\"/></g></g></g><rect class=\"legendtoggle\" x=\"0\" y=\"-9.5\" width=\"156.78125\" height=\"19\" style=\"fill: rgb(0, 0, 0); fill-opacity: 0;\"/></g></g><g class=\"groups\" transform=\"\"><g class=\"traces\" transform=\"translate(0,146.7)\" style=\"opacity: 1;\"><text class=\"legendtext\" text-anchor=\"start\" x=\"40\" y=\"4.680000000000001\" style=\"font-family: 'Open Sans', verdana, arial, sans-serif; font-size: 12px; fill: rgb(42, 63, 95); fill-opacity: 1; white-space: pre;\">pct_ch_pending_1y</text><g class=\"layers\" style=\"opacity: 1;\"><g class=\"legendfill\"/><g class=\"legendlines\"/><g class=\"legendsymbols\"><g class=\"legendpoints\"><path class=\"legendbox\" d=\"M6,6H-6V-6H6Z\" transform=\"translate(20,0)\" style=\"stroke-width: 2px; fill: rgb(255, 102, 146); fill-opacity: 0.5; stroke: rgb(255, 102, 146); stroke-opacity: 1;\"/></g></g></g><rect class=\"legendtoggle\" x=\"0\" y=\"-9.5\" width=\"156.78125\" height=\"19\" style=\"fill: rgb(0, 0, 0); fill-opacity: 0;\"/></g></g></g><rect class=\"scrollbar\" rx=\"20\" ry=\"3\" width=\"0\" height=\"0\" x=\"0\" y=\"0\" style=\"fill: rgb(128, 139, 164); fill-opacity: 1;\"/></g><g class=\"g-gtitle\"><text class=\"gtitle\" x=\"60\" y=\"50\" text-anchor=\"start\" dy=\"0em\" style=\"font-family: 'Open Sans', verdana, arial, sans-serif; font-size: 17px; fill: rgb(42, 63, 95); opacity: 1; font-weight: normal; white-space: pre;\">Box Plot for Year Over Year % Changes in Key Metrics in: 2022-10-01</text></g><g class=\"g-xtitle\"><text class=\"xtitle\" x=\"543.5\" y=\"561.8\" text-anchor=\"middle\" style=\"font-family: 'Open Sans', verdana, arial, sans-serif; font-size: 14px; fill: rgb(42, 63, 95); opacity: 1; font-weight: normal; white-space: pre;\">variable</text></g><g class=\"g-ytitle\"><text class=\"ytitle\" transform=\"rotate(-90,26.746875000000003,310)\" x=\"26.746875000000003\" y=\"310\" text-anchor=\"middle\" style=\"font-family: 'Open Sans', verdana, arial, sans-serif; font-size: 14px; fill: rgb(42, 63, 95); opacity: 1; font-weight: normal; white-space: pre;\">pct_change_yoy</text></g></g></svg>"
     },
     "metadata": {},
     "output_type": "display_data"
    }
   ],
   "source": [
    "px.box(df.query(\"month == @analysis_month\")\n",
    "        .loc[:,df.columns.str.endswith('1y')]\n",
    "        .melt(value_name = 'pct_change_yoy'),\n",
    "        x= 'variable',\n",
    "        y = 'pct_change_yoy',\n",
    "        color = 'variable',\n",
    "        height= 600,\n",
    "        width = 1200,\n",
    "        title = \"Box Plot for Year Over Year % Changes in Key Metrics in: \" + analysis_month).show(renderer = 'svg')"
   ]
  },
  {
   "cell_type": "markdown",
   "metadata": {},
   "source": [
    "### Snapshot of month over month results in more detail"
   ]
  },
  {
   "cell_type": "code",
   "execution_count": 155,
   "metadata": {},
   "outputs": [
    {
     "data": {
      "text/html": [
       "<div>\n",
       "<style scoped>\n",
       "    .dataframe tbody tr th:only-of-type {\n",
       "        vertical-align: middle;\n",
       "    }\n",
       "\n",
       "    .dataframe tbody tr th {\n",
       "        vertical-align: top;\n",
       "    }\n",
       "\n",
       "    .dataframe thead th {\n",
       "        text-align: right;\n",
       "    }\n",
       "</style>\n",
       "<table border=\"1\" class=\"dataframe\">\n",
       "  <thead>\n",
       "    <tr style=\"text-align: right;\">\n",
       "      <th></th>\n",
       "      <th>count</th>\n",
       "      <th>mean</th>\n",
       "      <th>std</th>\n",
       "      <th>min</th>\n",
       "      <th>25%</th>\n",
       "      <th>50%</th>\n",
       "      <th>75%</th>\n",
       "      <th>max</th>\n",
       "    </tr>\n",
       "  </thead>\n",
       "  <tbody>\n",
       "    <tr>\n",
       "      <th>pct_ch_med_list_1m</th>\n",
       "      <td>51.0</td>\n",
       "      <td>-0.234245</td>\n",
       "      <td>1.315871</td>\n",
       "      <td>-3.273138</td>\n",
       "      <td>-1.030315</td>\n",
       "      <td>-0.166667</td>\n",
       "      <td>0.200612</td>\n",
       "      <td>4.078390</td>\n",
       "    </tr>\n",
       "    <tr>\n",
       "      <th>pct_ch_active_list_1m</th>\n",
       "      <td>51.0</td>\n",
       "      <td>2.589389</td>\n",
       "      <td>3.607744</td>\n",
       "      <td>-6.565657</td>\n",
       "      <td>0.108041</td>\n",
       "      <td>3.040047</td>\n",
       "      <td>4.940300</td>\n",
       "      <td>10.381143</td>\n",
       "    </tr>\n",
       "    <tr>\n",
       "      <th>pct_ch_med_dom_1m</th>\n",
       "      <td>51.0</td>\n",
       "      <td>3.926582</td>\n",
       "      <td>5.828519</td>\n",
       "      <td>-14.285714</td>\n",
       "      <td>0.000000</td>\n",
       "      <td>3.846154</td>\n",
       "      <td>8.333333</td>\n",
       "      <td>15.384615</td>\n",
       "    </tr>\n",
       "    <tr>\n",
       "      <th>pct_ch_new_list_1m</th>\n",
       "      <td>51.0</td>\n",
       "      <td>-10.877558</td>\n",
       "      <td>6.753276</td>\n",
       "      <td>-32.280255</td>\n",
       "      <td>-13.512810</td>\n",
       "      <td>-10.738962</td>\n",
       "      <td>-6.079681</td>\n",
       "      <td>0.426257</td>\n",
       "    </tr>\n",
       "    <tr>\n",
       "      <th>pct_ch_price_inc_1m</th>\n",
       "      <td>51.0</td>\n",
       "      <td>-7.087997</td>\n",
       "      <td>23.567926</td>\n",
       "      <td>-42.105263</td>\n",
       "      <td>-21.020143</td>\n",
       "      <td>-10.798122</td>\n",
       "      <td>2.763985</td>\n",
       "      <td>100.000000</td>\n",
       "    </tr>\n",
       "    <tr>\n",
       "      <th>pct_ch_price_red_1m</th>\n",
       "      <td>51.0</td>\n",
       "      <td>2.893505</td>\n",
       "      <td>8.530958</td>\n",
       "      <td>-18.151815</td>\n",
       "      <td>-1.961172</td>\n",
       "      <td>2.452316</td>\n",
       "      <td>8.908466</td>\n",
       "      <td>22.413793</td>\n",
       "    </tr>\n",
       "    <tr>\n",
       "      <th>pct_ch_pending_1m</th>\n",
       "      <td>51.0</td>\n",
       "      <td>-11.311970</td>\n",
       "      <td>3.935092</td>\n",
       "      <td>-17.994100</td>\n",
       "      <td>-14.410921</td>\n",
       "      <td>-11.323851</td>\n",
       "      <td>-9.519395</td>\n",
       "      <td>6.097561</td>\n",
       "    </tr>\n",
       "  </tbody>\n",
       "</table>\n",
       "</div>"
      ],
      "text/plain": [
       "                       count       mean        std        min        25%  \\\n",
       "pct_ch_med_list_1m      51.0  -0.234245   1.315871  -3.273138  -1.030315   \n",
       "pct_ch_active_list_1m   51.0   2.589389   3.607744  -6.565657   0.108041   \n",
       "pct_ch_med_dom_1m       51.0   3.926582   5.828519 -14.285714   0.000000   \n",
       "pct_ch_new_list_1m      51.0 -10.877558   6.753276 -32.280255 -13.512810   \n",
       "pct_ch_price_inc_1m     51.0  -7.087997  23.567926 -42.105263 -21.020143   \n",
       "pct_ch_price_red_1m     51.0   2.893505   8.530958 -18.151815  -1.961172   \n",
       "pct_ch_pending_1m       51.0 -11.311970   3.935092 -17.994100 -14.410921   \n",
       "\n",
       "                             50%       75%         max  \n",
       "pct_ch_med_list_1m     -0.166667  0.200612    4.078390  \n",
       "pct_ch_active_list_1m   3.040047  4.940300   10.381143  \n",
       "pct_ch_med_dom_1m       3.846154  8.333333   15.384615  \n",
       "pct_ch_new_list_1m    -10.738962 -6.079681    0.426257  \n",
       "pct_ch_price_inc_1m   -10.798122  2.763985  100.000000  \n",
       "pct_ch_price_red_1m     2.452316  8.908466   22.413793  \n",
       "pct_ch_pending_1m     -11.323851 -9.519395    6.097561  "
      ]
     },
     "execution_count": 155,
     "metadata": {},
     "output_type": "execute_result"
    }
   ],
   "source": [
    "(df.query(\"month == @analysis_month\")\n",
    ".loc[:,df.columns.str.endswith('1m')]\n",
    ".describe()\n",
    ".T)"
   ]
  },
  {
   "cell_type": "code",
   "execution_count": 156,
   "metadata": {},
   "outputs": [
    {
     "data": {
      "image/svg+xml": "<svg class=\"main-svg\" xmlns=\"http://www.w3.org/2000/svg\" xmlns:xlink=\"http://www.w3.org/1999/xlink\" width=\"1200\" height=\"600\" style=\"\" viewBox=\"0 0 1200 600\"><rect x=\"0\" y=\"0\" width=\"1200\" height=\"600\" style=\"fill: rgb(255, 255, 255); fill-opacity: 1;\"/><defs id=\"defs-5b6bdf\"><g class=\"clips\"><clipPath id=\"clip5b6bdfxyplot\" class=\"plotclip\"><rect width=\"924\" height=\"420\"/></clipPath><clipPath class=\"axesclip\" id=\"clip5b6bdfx\"><rect x=\"80\" y=\"0\" width=\"924\" height=\"600\"/></clipPath><clipPath class=\"axesclip\" id=\"clip5b6bdfy\"><rect x=\"0\" y=\"100\" width=\"1200\" height=\"420\"/></clipPath><clipPath class=\"axesclip\" id=\"clip5b6bdfxy\"><rect x=\"80\" y=\"100\" width=\"924\" height=\"420\"/></clipPath></g><g class=\"gradients\"/><g class=\"patterns\"/></defs><g class=\"bglayer\"><rect class=\"bg\" x=\"80\" y=\"100\" width=\"924\" height=\"420\" style=\"fill: rgb(229, 236, 246); fill-opacity: 1; stroke-width: 0;\"/></g><g class=\"layer-below\"><g class=\"imagelayer\"/><g class=\"shapelayer\"/></g><g class=\"cartesianlayer\"><g class=\"subplot xy\"><g class=\"layer-subplot\"><g class=\"shapelayer\"/><g class=\"imagelayer\"/></g><g class=\"minor-gridlayer\"><g class=\"x\"/><g class=\"y\"/></g><g class=\"gridlayer\"><g class=\"x\"/><g class=\"y\"><path class=\"ygrid crisp\" transform=\"translate(0,493.4)\" d=\"M80,0h924\" style=\"stroke: rgb(255, 255, 255); stroke-opacity: 1; stroke-width: 1px;\"/><path class=\"ygrid crisp\" transform=\"translate(0,440.2)\" d=\"M80,0h924\" style=\"stroke: rgb(255, 255, 255); stroke-opacity: 1; stroke-width: 1px;\"/><path class=\"ygrid crisp\" transform=\"translate(0,333.8)\" d=\"M80,0h924\" style=\"stroke: rgb(255, 255, 255); stroke-opacity: 1; stroke-width: 1px;\"/><path class=\"ygrid crisp\" transform=\"translate(0,280.6)\" d=\"M80,0h924\" style=\"stroke: rgb(255, 255, 255); stroke-opacity: 1; stroke-width: 1px;\"/><path class=\"ygrid crisp\" transform=\"translate(0,227.4)\" d=\"M80,0h924\" style=\"stroke: rgb(255, 255, 255); stroke-opacity: 1; stroke-width: 1px;\"/><path class=\"ygrid crisp\" transform=\"translate(0,174.2)\" d=\"M80,0h924\" style=\"stroke: rgb(255, 255, 255); stroke-opacity: 1; stroke-width: 1px;\"/><path class=\"ygrid crisp\" transform=\"translate(0,121)\" d=\"M80,0h924\" style=\"stroke: rgb(255, 255, 255); stroke-opacity: 1; stroke-width: 1px;\"/></g></g><g class=\"zerolinelayer\"><path class=\"yzl zl crisp\" transform=\"translate(0,387)\" d=\"M80,0h924\" style=\"stroke: rgb(255, 255, 255); stroke-opacity: 1; stroke-width: 2px;\"/></g><path class=\"xlines-below\"/><path class=\"ylines-below\"/><g class=\"overlines-below\"/><g class=\"xaxislayer-below\"/><g class=\"yaxislayer-below\"/><g class=\"overaxes-below\"/><g class=\"plot\" transform=\"translate(80,100)\" clip-path=\"url(#clip5b6bdfxyplot)\"><g class=\"boxlayer mlayer\"><g class=\"trace boxes\" style=\"opacity: 1;\"><path class=\"box\" d=\"M33.66,287.44H98.34M33.66,289.83H98.34V286.39H33.66ZM66,289.83V293.66M66,286.39V282.1M49.83,293.66H82.17M49.83,282.1H82.17\" style=\"vector-effect: non-scaling-stroke; stroke-width: 2px; stroke: rgb(99, 110, 250); stroke-opacity: 1; fill: rgb(99, 110, 250); fill-opacity: 0.5;\"/><g class=\"points\"><path class=\"point\" transform=\"translate(66,295.71)\" d=\"M3,0A3,3 0 1,1 0,-3A3,3 0 0,1 3,0Z\" style=\"opacity: 1; stroke-width: 0px; fill: rgb(99, 110, 250); fill-opacity: 1;\"/><path class=\"point\" transform=\"translate(66,280.72)\" d=\"M3,0A3,3 0 1,1 0,-3A3,3 0 0,1 3,0Z\" style=\"opacity: 1; stroke-width: 0px; fill: rgb(99, 110, 250); fill-opacity: 1;\"/><path class=\"point\" transform=\"translate(66,276.15)\" d=\"M3,0A3,3 0 1,1 0,-3A3,3 0 0,1 3,0Z\" style=\"opacity: 1; stroke-width: 0px; fill: rgb(99, 110, 250); fill-opacity: 1;\"/></g></g><g class=\"trace boxes\" style=\"opacity: 1;\"><path class=\"box\" d=\"M165.66,278.91H230.34M165.66,286.74H230.34V273.74H165.66ZM198,286.74V304.46M198,273.74V259.39M181.83,304.46H214.17M181.83,259.39H214.17\" style=\"vector-effect: non-scaling-stroke; stroke-width: 2px; stroke: rgb(239, 85, 59); stroke-opacity: 1; fill: rgb(239, 85, 59); fill-opacity: 0.5;\"/><g class=\"points\"/></g><g class=\"trace boxes\" style=\"opacity: 1;\"><path class=\"box\" d=\"M297.66,276.77H362.34M297.66,287H362.34V264.83H297.66ZM330,287V306.95M330,264.83V246.08M313.83,306.95H346.17M313.83,246.08H346.17\" style=\"vector-effect: non-scaling-stroke; stroke-width: 2px; stroke: rgb(0, 204, 150); stroke-opacity: 1; fill: rgb(0, 204, 150); fill-opacity: 0.5;\"/><g class=\"points\"><path class=\"point\" transform=\"translate(330,325)\" d=\"M3,0A3,3 0 1,1 0,-3A3,3 0 0,1 3,0Z\" style=\"opacity: 1; stroke-width: 0px; fill: rgb(0, 204, 150); fill-opacity: 1;\"/></g></g><g class=\"trace boxes\" style=\"opacity: 1;\"><path class=\"box\" d=\"M429.66,315.57H494.34M429.66,323.72H494.34V302.98H429.66ZM462,323.72V352.43M462,302.98V285.87M445.83,352.43H478.17M445.83,285.87H478.17\" style=\"vector-effect: non-scaling-stroke; stroke-width: 2px; stroke: rgb(171, 99, 250); stroke-opacity: 1; fill: rgb(171, 99, 250); fill-opacity: 0.5;\"/><g class=\"points\"><path class=\"point\" transform=\"translate(462,372.87)\" d=\"M3,0A3,3 0 1,1 0,-3A3,3 0 0,1 3,0Z\" style=\"opacity: 1; stroke-width: 0px; fill: rgb(171, 99, 250); fill-opacity: 1;\"/></g></g><g class=\"trace boxes\" style=\"opacity: 1;\"><path class=\"box\" d=\"M561.66,315.72H626.34M561.66,342.96H626.34V278.31H561.66ZM594,342.96V399M594,278.31V186.1M577.83,399H610.17M577.83,186.1H610.17\" style=\"vector-effect: non-scaling-stroke; stroke-width: 2px; stroke: rgb(255, 161, 90); stroke-opacity: 1; fill: rgb(255, 161, 90); fill-opacity: 0.5;\"/><g class=\"points\"><path class=\"point\" transform=\"translate(594,21)\" d=\"M3,0A3,3 0 1,1 0,-3A3,3 0 0,1 3,0Z\" style=\"opacity: 1; stroke-width: 0px; fill: rgb(255, 161, 90); fill-opacity: 1;\"/></g></g><g class=\"trace boxes\" style=\"opacity: 1;\"><path class=\"box\" d=\"M693.66,280.48H758.34M693.66,292.24H758.34V263.01H693.66ZM726,292.24V335.28M726,263.01V227.38M709.83,335.28H742.17M709.83,227.38H742.17\" style=\"vector-effect: non-scaling-stroke; stroke-width: 2px; stroke: rgb(25, 211, 243); stroke-opacity: 1; fill: rgb(25, 211, 243); fill-opacity: 0.5;\"/><g class=\"points\"/></g><g class=\"trace boxes\" style=\"opacity: 1;\"><path class=\"box\" d=\"M825.66,317.12H890.34M825.66,325.35H890.34V312.31H825.66ZM858,325.35V334.86M858,312.31V299.85M841.83,334.86H874.17M841.83,299.85H874.17\" style=\"vector-effect: non-scaling-stroke; stroke-width: 2px; stroke: rgb(255, 102, 146); stroke-opacity: 1; fill: rgb(255, 102, 146); fill-opacity: 0.5;\"/><g class=\"points\"><path class=\"point\" transform=\"translate(858,270.78)\" d=\"M3,0A3,3 0 1,1 0,-3A3,3 0 0,1 3,0Z\" style=\"opacity: 1; stroke-width: 0px; fill: rgb(255, 102, 146); fill-opacity: 1;\"/></g></g></g></g><g class=\"overplot\"/><path class=\"xlines-above crisp\" d=\"M0,0\" style=\"fill: none;\"/><path class=\"ylines-above crisp\" d=\"M0,0\" style=\"fill: none;\"/><g class=\"overlines-above\"/><g class=\"xaxislayer-above\"><g class=\"xtick\"><text text-anchor=\"middle\" x=\"0\" y=\"533\" transform=\"translate(146,0)\" style=\"font-family: 'Open Sans', verdana, arial, sans-serif; font-size: 12px; fill: rgb(42, 63, 95); fill-opacity: 1; white-space: pre; opacity: 1;\">pct_ch_med_list_1m</text></g><g class=\"xtick\"><text text-anchor=\"middle\" x=\"0\" y=\"533\" transform=\"translate(278,0)\" style=\"font-family: 'Open Sans', verdana, arial, sans-serif; font-size: 12px; fill: rgb(42, 63, 95); fill-opacity: 1; white-space: pre; opacity: 1;\">pct_ch_active_list_1m</text></g><g class=\"xtick\"><text text-anchor=\"middle\" x=\"0\" y=\"533\" transform=\"translate(410,0)\" style=\"font-family: 'Open Sans', verdana, arial, sans-serif; font-size: 12px; fill: rgb(42, 63, 95); fill-opacity: 1; white-space: pre; opacity: 1;\">pct_ch_med_dom_1m</text></g><g class=\"xtick\"><text text-anchor=\"middle\" x=\"0\" y=\"533\" transform=\"translate(542,0)\" style=\"font-family: 'Open Sans', verdana, arial, sans-serif; font-size: 12px; fill: rgb(42, 63, 95); fill-opacity: 1; white-space: pre; opacity: 1;\">pct_ch_new_list_1m</text></g><g class=\"xtick\"><text text-anchor=\"middle\" x=\"0\" y=\"533\" transform=\"translate(674,0)\" style=\"font-family: 'Open Sans', verdana, arial, sans-serif; font-size: 12px; fill: rgb(42, 63, 95); fill-opacity: 1; white-space: pre; opacity: 1;\">pct_ch_price_inc_1m</text></g><g class=\"xtick\"><text text-anchor=\"middle\" x=\"0\" y=\"533\" transform=\"translate(806,0)\" style=\"font-family: 'Open Sans', verdana, arial, sans-serif; font-size: 12px; fill: rgb(42, 63, 95); fill-opacity: 1; white-space: pre; opacity: 1;\">pct_ch_price_red_1m</text></g><g class=\"xtick\"><text text-anchor=\"middle\" x=\"0\" y=\"533\" transform=\"translate(938,0)\" style=\"font-family: 'Open Sans', verdana, arial, sans-serif; font-size: 12px; fill: rgb(42, 63, 95); fill-opacity: 1; white-space: pre; opacity: 1;\">pct_ch_pending_1m</text></g></g><g class=\"yaxislayer-above\"><g class=\"ytick\"><text text-anchor=\"end\" x=\"79\" y=\"4.199999999999999\" transform=\"translate(0,493.4)\" style=\"font-family: 'Open Sans', verdana, arial, sans-serif; font-size: 12px; fill: rgb(42, 63, 95); fill-opacity: 1; white-space: pre; opacity: 1;\">−40</text></g><g class=\"ytick\"><text text-anchor=\"end\" x=\"79\" y=\"4.199999999999999\" style=\"font-family: 'Open Sans', verdana, arial, sans-serif; font-size: 12px; fill: rgb(42, 63, 95); fill-opacity: 1; white-space: pre; opacity: 1;\" transform=\"translate(0,440.2)\">−20</text></g><g class=\"ytick\"><text text-anchor=\"end\" x=\"79\" y=\"4.199999999999999\" style=\"font-family: 'Open Sans', verdana, arial, sans-serif; font-size: 12px; fill: rgb(42, 63, 95); fill-opacity: 1; white-space: pre; opacity: 1;\" transform=\"translate(0,387)\">0</text></g><g class=\"ytick\"><text text-anchor=\"end\" x=\"79\" y=\"4.199999999999999\" style=\"font-family: 'Open Sans', verdana, arial, sans-serif; font-size: 12px; fill: rgb(42, 63, 95); fill-opacity: 1; white-space: pre; opacity: 1;\" transform=\"translate(0,333.8)\">20</text></g><g class=\"ytick\"><text text-anchor=\"end\" x=\"79\" y=\"4.199999999999999\" style=\"font-family: 'Open Sans', verdana, arial, sans-serif; font-size: 12px; fill: rgb(42, 63, 95); fill-opacity: 1; white-space: pre; opacity: 1;\" transform=\"translate(0,280.6)\">40</text></g><g class=\"ytick\"><text text-anchor=\"end\" x=\"79\" y=\"4.199999999999999\" style=\"font-family: 'Open Sans', verdana, arial, sans-serif; font-size: 12px; fill: rgb(42, 63, 95); fill-opacity: 1; white-space: pre; opacity: 1;\" transform=\"translate(0,227.4)\">60</text></g><g class=\"ytick\"><text text-anchor=\"end\" x=\"79\" y=\"4.199999999999999\" style=\"font-family: 'Open Sans', verdana, arial, sans-serif; font-size: 12px; fill: rgb(42, 63, 95); fill-opacity: 1; white-space: pre; opacity: 1;\" transform=\"translate(0,174.2)\">80</text></g><g class=\"ytick\"><text text-anchor=\"end\" x=\"79\" y=\"4.199999999999999\" style=\"font-family: 'Open Sans', verdana, arial, sans-serif; font-size: 12px; fill: rgb(42, 63, 95); fill-opacity: 1; white-space: pre; opacity: 1;\" transform=\"translate(0,121)\">100</text></g></g><g class=\"overaxes-above\"/></g></g><g class=\"polarlayer\"/><g class=\"smithlayer\"/><g class=\"ternarylayer\"/><g class=\"geolayer\"/><g class=\"funnelarealayer\"/><g class=\"pielayer\"/><g class=\"iciclelayer\"/><g class=\"treemaplayer\"/><g class=\"sunburstlayer\"/><g class=\"glimages\"/><defs id=\"topdefs-5b6bdf\"><g class=\"clips\"/><clipPath id=\"legend5b6bdf\"><rect width=\"166\" height=\"162\" x=\"0\" y=\"0\"/></clipPath></defs><g class=\"layer-above\"><g class=\"imagelayer\"/><g class=\"shapelayer\"/></g><g class=\"infolayer\"><g class=\"legend\" pointer-events=\"all\" transform=\"translate(1022.48,100)\"><rect class=\"bg\" shape-rendering=\"crispEdges\" width=\"166\" height=\"162\" x=\"0\" y=\"0\" style=\"stroke: rgb(68, 68, 68); stroke-opacity: 1; fill: rgb(255, 255, 255); fill-opacity: 1; stroke-width: 0px;\"/><g class=\"scrollbox\" transform=\"\" clip-path=\"url(#legend5b6bdf)\"><text class=\"legendtitletext\" text-anchor=\"start\" x=\"2\" y=\"18.2\" style=\"font-family: 'Open Sans', verdana, arial, sans-serif; font-size: 14px; fill: rgb(42, 63, 95); fill-opacity: 1; white-space: pre;\">variable</text><g class=\"groups\" transform=\"\"><g class=\"traces\" transform=\"translate(0,32.7)\" style=\"opacity: 1;\"><text class=\"legendtext\" text-anchor=\"start\" x=\"40\" y=\"4.680000000000001\" style=\"font-family: 'Open Sans', verdana, arial, sans-serif; font-size: 12px; fill: rgb(42, 63, 95); fill-opacity: 1; white-space: pre;\">pct_ch_med_list_1m</text><g class=\"layers\" style=\"opacity: 1;\"><g class=\"legendfill\"/><g class=\"legendlines\"/><g class=\"legendsymbols\"><g class=\"legendpoints\"><path class=\"legendbox\" d=\"M6,6H-6V-6H6Z\" transform=\"translate(20,0)\" style=\"stroke-width: 2px; fill: rgb(99, 110, 250); fill-opacity: 0.5; stroke: rgb(99, 110, 250); stroke-opacity: 1;\"/></g></g></g><rect class=\"legendtoggle\" x=\"0\" y=\"-9.5\" width=\"160.9375\" height=\"19\" style=\"fill: rgb(0, 0, 0); fill-opacity: 0;\"/></g></g><g class=\"groups\" transform=\"\"><g class=\"traces\" transform=\"translate(0,51.7)\" style=\"opacity: 1;\"><text class=\"legendtext\" text-anchor=\"start\" x=\"40\" y=\"4.680000000000001\" style=\"font-family: 'Open Sans', verdana, arial, sans-serif; font-size: 12px; fill: rgb(42, 63, 95); fill-opacity: 1; white-space: pre;\">pct_ch_active_list_1m</text><g class=\"layers\" style=\"opacity: 1;\"><g class=\"legendfill\"/><g class=\"legendlines\"/><g class=\"legendsymbols\"><g class=\"legendpoints\"><path class=\"legendbox\" d=\"M6,6H-6V-6H6Z\" transform=\"translate(20,0)\" style=\"stroke-width: 2px; fill: rgb(239, 85, 59); fill-opacity: 0.5; stroke: rgb(239, 85, 59); stroke-opacity: 1;\"/></g></g></g><rect class=\"legendtoggle\" x=\"0\" y=\"-9.5\" width=\"160.9375\" height=\"19\" style=\"fill: rgb(0, 0, 0); fill-opacity: 0;\"/></g></g><g class=\"groups\" transform=\"\"><g class=\"traces\" transform=\"translate(0,70.7)\" style=\"opacity: 1;\"><text class=\"legendtext\" text-anchor=\"start\" x=\"40\" y=\"4.680000000000001\" style=\"font-family: 'Open Sans', verdana, arial, sans-serif; font-size: 12px; fill: rgb(42, 63, 95); fill-opacity: 1; white-space: pre;\">pct_ch_med_dom_1m</text><g class=\"layers\" style=\"opacity: 1;\"><g class=\"legendfill\"/><g class=\"legendlines\"/><g class=\"legendsymbols\"><g class=\"legendpoints\"><path class=\"legendbox\" d=\"M6,6H-6V-6H6Z\" transform=\"translate(20,0)\" style=\"stroke-width: 2px; fill: rgb(0, 204, 150); fill-opacity: 0.5; stroke: rgb(0, 204, 150); stroke-opacity: 1;\"/></g></g></g><rect class=\"legendtoggle\" x=\"0\" y=\"-9.5\" width=\"160.9375\" height=\"19\" style=\"fill: rgb(0, 0, 0); fill-opacity: 0;\"/></g></g><g class=\"groups\" transform=\"\"><g class=\"traces\" transform=\"translate(0,89.7)\" style=\"opacity: 1;\"><text class=\"legendtext\" text-anchor=\"start\" x=\"40\" y=\"4.680000000000001\" style=\"font-family: 'Open Sans', verdana, arial, sans-serif; font-size: 12px; fill: rgb(42, 63, 95); fill-opacity: 1; white-space: pre;\">pct_ch_new_list_1m</text><g class=\"layers\" style=\"opacity: 1;\"><g class=\"legendfill\"/><g class=\"legendlines\"/><g class=\"legendsymbols\"><g class=\"legendpoints\"><path class=\"legendbox\" d=\"M6,6H-6V-6H6Z\" transform=\"translate(20,0)\" style=\"stroke-width: 2px; fill: rgb(171, 99, 250); fill-opacity: 0.5; stroke: rgb(171, 99, 250); stroke-opacity: 1;\"/></g></g></g><rect class=\"legendtoggle\" x=\"0\" y=\"-9.5\" width=\"160.9375\" height=\"19\" style=\"fill: rgb(0, 0, 0); fill-opacity: 0;\"/></g></g><g class=\"groups\" transform=\"\"><g class=\"traces\" transform=\"translate(0,108.7)\" style=\"opacity: 1;\"><text class=\"legendtext\" text-anchor=\"start\" x=\"40\" y=\"4.680000000000001\" style=\"font-family: 'Open Sans', verdana, arial, sans-serif; font-size: 12px; fill: rgb(42, 63, 95); fill-opacity: 1; white-space: pre;\">pct_ch_price_inc_1m</text><g class=\"layers\" style=\"opacity: 1;\"><g class=\"legendfill\"/><g class=\"legendlines\"/><g class=\"legendsymbols\"><g class=\"legendpoints\"><path class=\"legendbox\" d=\"M6,6H-6V-6H6Z\" transform=\"translate(20,0)\" style=\"stroke-width: 2px; fill: rgb(255, 161, 90); fill-opacity: 0.5; stroke: rgb(255, 161, 90); stroke-opacity: 1;\"/></g></g></g><rect class=\"legendtoggle\" x=\"0\" y=\"-9.5\" width=\"160.9375\" height=\"19\" style=\"fill: rgb(0, 0, 0); fill-opacity: 0;\"/></g></g><g class=\"groups\" transform=\"\"><g class=\"traces\" transform=\"translate(0,127.7)\" style=\"opacity: 1;\"><text class=\"legendtext\" text-anchor=\"start\" x=\"40\" y=\"4.680000000000001\" style=\"font-family: 'Open Sans', verdana, arial, sans-serif; font-size: 12px; fill: rgb(42, 63, 95); fill-opacity: 1; white-space: pre;\">pct_ch_price_red_1m</text><g class=\"layers\" style=\"opacity: 1;\"><g class=\"legendfill\"/><g class=\"legendlines\"/><g class=\"legendsymbols\"><g class=\"legendpoints\"><path class=\"legendbox\" d=\"M6,6H-6V-6H6Z\" transform=\"translate(20,0)\" style=\"stroke-width: 2px; fill: rgb(25, 211, 243); fill-opacity: 0.5; stroke: rgb(25, 211, 243); stroke-opacity: 1;\"/></g></g></g><rect class=\"legendtoggle\" x=\"0\" y=\"-9.5\" width=\"160.9375\" height=\"19\" style=\"fill: rgb(0, 0, 0); fill-opacity: 0;\"/></g></g><g class=\"groups\" transform=\"\"><g class=\"traces\" transform=\"translate(0,146.7)\" style=\"opacity: 1;\"><text class=\"legendtext\" text-anchor=\"start\" x=\"40\" y=\"4.680000000000001\" style=\"font-family: 'Open Sans', verdana, arial, sans-serif; font-size: 12px; fill: rgb(42, 63, 95); fill-opacity: 1; white-space: pre;\">pct_ch_pending_1m</text><g class=\"layers\" style=\"opacity: 1;\"><g class=\"legendfill\"/><g class=\"legendlines\"/><g class=\"legendsymbols\"><g class=\"legendpoints\"><path class=\"legendbox\" d=\"M6,6H-6V-6H6Z\" transform=\"translate(20,0)\" style=\"stroke-width: 2px; fill: rgb(255, 102, 146); fill-opacity: 0.5; stroke: rgb(255, 102, 146); stroke-opacity: 1;\"/></g></g></g><rect class=\"legendtoggle\" x=\"0\" y=\"-9.5\" width=\"160.9375\" height=\"19\" style=\"fill: rgb(0, 0, 0); fill-opacity: 0;\"/></g></g></g><rect class=\"scrollbar\" rx=\"20\" ry=\"3\" width=\"0\" height=\"0\" x=\"0\" y=\"0\" style=\"fill: rgb(128, 139, 164); fill-opacity: 1;\"/></g><g class=\"g-gtitle\"><text class=\"gtitle\" x=\"60\" y=\"50\" text-anchor=\"start\" dy=\"0em\" style=\"font-family: 'Open Sans', verdana, arial, sans-serif; font-size: 17px; fill: rgb(42, 63, 95); opacity: 1; font-weight: normal; white-space: pre;\">Box Plot for Month Over Month % Changes in Key Metrics in: 2022-10-01</text></g><g class=\"g-xtitle\"><text class=\"xtitle\" x=\"542\" y=\"561.8\" text-anchor=\"middle\" style=\"font-family: 'Open Sans', verdana, arial, sans-serif; font-size: 14px; fill: rgb(42, 63, 95); opacity: 1; font-weight: normal; white-space: pre;\">variable</text></g><g class=\"g-ytitle\"><text class=\"ytitle\" transform=\"rotate(-90,33.60625,310)\" x=\"33.60625\" y=\"310\" text-anchor=\"middle\" style=\"font-family: 'Open Sans', verdana, arial, sans-serif; font-size: 14px; fill: rgb(42, 63, 95); opacity: 1; font-weight: normal; white-space: pre;\">pct_change_mom</text></g></g></svg>"
     },
     "metadata": {},
     "output_type": "display_data"
    }
   ],
   "source": [
    "px.box(df.query(\"month == @analysis_month\")\n",
    "        .loc[:,df.columns.str.endswith('1m')]\n",
    "        .melt(value_name = 'pct_change_mom'),\n",
    "        x= 'variable',\n",
    "        y = 'pct_change_mom',\n",
    "        color = 'variable',\n",
    "        height= 600,\n",
    "        width = 1200,\n",
    "        title = \"Box Plot for Month Over Month % Changes in Key Metrics in: \" + analysis_month).show(renderer = 'svg')"
   ]
  },
  {
   "cell_type": "markdown",
   "metadata": {},
   "source": [
    "## Visualizing key metrics by State"
   ]
  },
  {
   "cell_type": "code",
   "execution_count": 39,
   "metadata": {},
   "outputs": [
    {
     "data": {
      "text/plain": [
       "['NE', 'KA', 'WY', 'CA', 'OR', 'PA', 'CO', 'IL', 'WI', 'UT', 'ID', 'MI', 'NY']"
      ]
     },
     "execution_count": 39,
     "metadata": {},
     "output_type": "execute_result"
    }
   ],
   "source": [
    "select_states = ['NE','KA','WY','CA','OR','PA','CO','IL','WI','UT','ID','MI','NY']\n",
    "select_states"
   ]
  },
  {
   "cell_type": "markdown",
   "metadata": {},
   "source": [
    "### Number of active listings ( total supply)"
   ]
  },
  {
   "cell_type": "code",
   "execution_count": 46,
   "metadata": {},
   "outputs": [
    {
     "data": {
      "image/svg+xml": "<svg class=\"main-svg\" xmlns=\"http://www.w3.org/2000/svg\" xmlns:xlink=\"http://www.w3.org/1999/xlink\" width=\"1200\" height=\"800\" style=\"\" viewBox=\"0 0 1200 800\"><rect x=\"0\" y=\"0\" width=\"1200\" height=\"800\" style=\"fill: rgb(255, 255, 255); fill-opacity: 1;\"/><defs id=\"defs-68e2c0\"><g class=\"clips\"><clipPath id=\"clip68e2c0xyplot\" class=\"plotclip\"><rect width=\"238.52499999999998\" height=\"177.73333333333332\"/></clipPath><clipPath id=\"clip68e2c0x2y2plot\" class=\"plotclip\"><rect width=\"238.52499999999998\" height=\"177.73333333333332\"/></clipPath><clipPath id=\"clip68e2c0x3y3plot\" class=\"plotclip\"><rect width=\"238.52499999999998\" height=\"177.73333333333332\"/></clipPath><clipPath id=\"clip68e2c0x4y4plot\" class=\"plotclip\"><rect width=\"238.52499999999998\" height=\"177.73333333333332\"/></clipPath><clipPath id=\"clip68e2c0x5y5plot\" class=\"plotclip\"><rect width=\"238.52499999999998\" height=\"177.73333333333335\"/></clipPath><clipPath id=\"clip68e2c0x6y6plot\" class=\"plotclip\"><rect width=\"238.52499999999998\" height=\"177.73333333333335\"/></clipPath><clipPath id=\"clip68e2c0x7y7plot\" class=\"plotclip\"><rect width=\"238.52499999999998\" height=\"177.73333333333335\"/></clipPath><clipPath id=\"clip68e2c0x8y8plot\" class=\"plotclip\"><rect width=\"238.52499999999998\" height=\"177.73333333333335\"/></clipPath><clipPath id=\"clip68e2c0x9y9plot\" class=\"plotclip\"><rect width=\"238.52499999999998\" height=\"177.73333333333332\"/></clipPath><clipPath id=\"clip68e2c0x10y10plot\" class=\"plotclip\"><rect width=\"238.52499999999998\" height=\"177.73333333333332\"/></clipPath><clipPath id=\"clip68e2c0x11y11plot\" class=\"plotclip\"><rect width=\"238.52499999999998\" height=\"177.73333333333332\"/></clipPath><clipPath id=\"clip68e2c0x12y12plot\" class=\"plotclip\"><rect width=\"238.52499999999998\" height=\"177.73333333333332\"/></clipPath><clipPath class=\"axesclip\" id=\"clip68e2c0x\"><rect x=\"80\" y=\"0\" width=\"238.52499999999998\" height=\"800\"/></clipPath><clipPath class=\"axesclip\" id=\"clip68e2c0y\"><rect x=\"0\" y=\"542.2666666666667\" width=\"1200\" height=\"177.73333333333332\"/></clipPath><clipPath class=\"axesclip\" id=\"clip68e2c0xy\"><rect x=\"80\" y=\"542.2666666666667\" width=\"238.52499999999998\" height=\"177.73333333333332\"/></clipPath><clipPath class=\"axesclip\" id=\"clip68e2c0y2\"><rect x=\"0\" y=\"542.2666666666667\" width=\"1200\" height=\"177.73333333333332\"/></clipPath><clipPath class=\"axesclip\" id=\"clip68e2c0xy2\"><rect x=\"80\" y=\"542.2666666666667\" width=\"238.52499999999998\" height=\"177.73333333333332\"/></clipPath><clipPath class=\"axesclip\" id=\"clip68e2c0y3\"><rect x=\"0\" y=\"542.2666666666667\" width=\"1200\" height=\"177.73333333333332\"/></clipPath><clipPath class=\"axesclip\" id=\"clip68e2c0xy3\"><rect x=\"80\" y=\"542.2666666666667\" width=\"238.52499999999998\" height=\"177.73333333333332\"/></clipPath><clipPath class=\"axesclip\" id=\"clip68e2c0y4\"><rect x=\"0\" y=\"542.2666666666667\" width=\"1200\" height=\"177.73333333333332\"/></clipPath><clipPath class=\"axesclip\" id=\"clip68e2c0xy4\"><rect x=\"80\" y=\"542.2666666666667\" width=\"238.52499999999998\" height=\"177.73333333333332\"/></clipPath><clipPath class=\"axesclip\" id=\"clip68e2c0y5\"><rect x=\"0\" y=\"321.1333333333333\" width=\"1200\" height=\"177.73333333333335\"/></clipPath><clipPath class=\"axesclip\" id=\"clip68e2c0xy5\"><rect x=\"80\" y=\"321.1333333333333\" width=\"238.52499999999998\" height=\"177.73333333333335\"/></clipPath><clipPath class=\"axesclip\" id=\"clip68e2c0y6\"><rect x=\"0\" y=\"321.1333333333333\" width=\"1200\" height=\"177.73333333333335\"/></clipPath><clipPath class=\"axesclip\" id=\"clip68e2c0xy6\"><rect x=\"80\" y=\"321.1333333333333\" width=\"238.52499999999998\" height=\"177.73333333333335\"/></clipPath><clipPath class=\"axesclip\" id=\"clip68e2c0y7\"><rect x=\"0\" y=\"321.1333333333333\" width=\"1200\" height=\"177.73333333333335\"/></clipPath><clipPath class=\"axesclip\" id=\"clip68e2c0xy7\"><rect x=\"80\" y=\"321.1333333333333\" width=\"238.52499999999998\" height=\"177.73333333333335\"/></clipPath><clipPath class=\"axesclip\" id=\"clip68e2c0y8\"><rect x=\"0\" y=\"321.1333333333333\" width=\"1200\" height=\"177.73333333333335\"/></clipPath><clipPath class=\"axesclip\" id=\"clip68e2c0xy8\"><rect x=\"80\" y=\"321.1333333333333\" width=\"238.52499999999998\" height=\"177.73333333333335\"/></clipPath><clipPath class=\"axesclip\" id=\"clip68e2c0y9\"><rect x=\"0\" y=\"100.00000000000007\" width=\"1200\" height=\"177.73333333333332\"/></clipPath><clipPath class=\"axesclip\" id=\"clip68e2c0xy9\"><rect x=\"80\" y=\"100.00000000000007\" width=\"238.52499999999998\" height=\"177.73333333333332\"/></clipPath><clipPath class=\"axesclip\" id=\"clip68e2c0y10\"><rect x=\"0\" y=\"100.00000000000007\" width=\"1200\" height=\"177.73333333333332\"/></clipPath><clipPath class=\"axesclip\" id=\"clip68e2c0xy10\"><rect x=\"80\" y=\"100.00000000000007\" width=\"238.52499999999998\" height=\"177.73333333333332\"/></clipPath><clipPath class=\"axesclip\" id=\"clip68e2c0y11\"><rect x=\"0\" y=\"100.00000000000007\" width=\"1200\" height=\"177.73333333333332\"/></clipPath><clipPath class=\"axesclip\" id=\"clip68e2c0xy11\"><rect x=\"80\" y=\"100.00000000000007\" width=\"238.52499999999998\" height=\"177.73333333333332\"/></clipPath><clipPath class=\"axesclip\" id=\"clip68e2c0y12\"><rect x=\"0\" y=\"100.00000000000007\" width=\"1200\" height=\"177.73333333333332\"/></clipPath><clipPath class=\"axesclip\" id=\"clip68e2c0xy12\"><rect x=\"80\" y=\"100.00000000000007\" width=\"238.52499999999998\" height=\"177.73333333333332\"/></clipPath><clipPath class=\"axesclip\" id=\"clip68e2c0x2\"><rect x=\"338.825\" y=\"0\" width=\"238.52499999999998\" height=\"800\"/></clipPath><clipPath class=\"axesclip\" id=\"clip68e2c0x2y\"><rect x=\"338.825\" y=\"542.2666666666667\" width=\"238.52499999999998\" height=\"177.73333333333332\"/></clipPath><clipPath class=\"axesclip\" id=\"clip68e2c0x2y2\"><rect x=\"338.825\" y=\"542.2666666666667\" width=\"238.52499999999998\" height=\"177.73333333333332\"/></clipPath><clipPath class=\"axesclip\" id=\"clip68e2c0x2y3\"><rect x=\"338.825\" y=\"542.2666666666667\" width=\"238.52499999999998\" height=\"177.73333333333332\"/></clipPath><clipPath class=\"axesclip\" id=\"clip68e2c0x2y4\"><rect x=\"338.825\" y=\"542.2666666666667\" width=\"238.52499999999998\" height=\"177.73333333333332\"/></clipPath><clipPath class=\"axesclip\" id=\"clip68e2c0x2y5\"><rect x=\"338.825\" y=\"321.1333333333333\" width=\"238.52499999999998\" height=\"177.73333333333335\"/></clipPath><clipPath class=\"axesclip\" id=\"clip68e2c0x2y6\"><rect x=\"338.825\" y=\"321.1333333333333\" width=\"238.52499999999998\" height=\"177.73333333333335\"/></clipPath><clipPath class=\"axesclip\" id=\"clip68e2c0x2y7\"><rect x=\"338.825\" y=\"321.1333333333333\" width=\"238.52499999999998\" height=\"177.73333333333335\"/></clipPath><clipPath class=\"axesclip\" id=\"clip68e2c0x2y8\"><rect x=\"338.825\" y=\"321.1333333333333\" width=\"238.52499999999998\" height=\"177.73333333333335\"/></clipPath><clipPath class=\"axesclip\" id=\"clip68e2c0x2y9\"><rect x=\"338.825\" y=\"100.00000000000007\" width=\"238.52499999999998\" height=\"177.73333333333332\"/></clipPath><clipPath class=\"axesclip\" id=\"clip68e2c0x2y10\"><rect x=\"338.825\" y=\"100.00000000000007\" width=\"238.52499999999998\" height=\"177.73333333333332\"/></clipPath><clipPath class=\"axesclip\" id=\"clip68e2c0x2y11\"><rect x=\"338.825\" y=\"100.00000000000007\" width=\"238.52499999999998\" height=\"177.73333333333332\"/></clipPath><clipPath class=\"axesclip\" id=\"clip68e2c0x2y12\"><rect x=\"338.825\" y=\"100.00000000000007\" width=\"238.52499999999998\" height=\"177.73333333333332\"/></clipPath><clipPath class=\"axesclip\" id=\"clip68e2c0x3\"><rect x=\"597.65\" y=\"0\" width=\"238.52499999999998\" height=\"800\"/></clipPath><clipPath class=\"axesclip\" id=\"clip68e2c0x3y\"><rect x=\"597.65\" y=\"542.2666666666667\" width=\"238.52499999999998\" height=\"177.73333333333332\"/></clipPath><clipPath class=\"axesclip\" id=\"clip68e2c0x3y2\"><rect x=\"597.65\" y=\"542.2666666666667\" width=\"238.52499999999998\" height=\"177.73333333333332\"/></clipPath><clipPath class=\"axesclip\" id=\"clip68e2c0x3y3\"><rect x=\"597.65\" y=\"542.2666666666667\" width=\"238.52499999999998\" height=\"177.73333333333332\"/></clipPath><clipPath class=\"axesclip\" id=\"clip68e2c0x3y4\"><rect x=\"597.65\" y=\"542.2666666666667\" width=\"238.52499999999998\" height=\"177.73333333333332\"/></clipPath><clipPath class=\"axesclip\" id=\"clip68e2c0x3y5\"><rect x=\"597.65\" y=\"321.1333333333333\" width=\"238.52499999999998\" height=\"177.73333333333335\"/></clipPath><clipPath class=\"axesclip\" id=\"clip68e2c0x3y6\"><rect x=\"597.65\" y=\"321.1333333333333\" width=\"238.52499999999998\" height=\"177.73333333333335\"/></clipPath><clipPath class=\"axesclip\" id=\"clip68e2c0x3y7\"><rect x=\"597.65\" y=\"321.1333333333333\" width=\"238.52499999999998\" height=\"177.73333333333335\"/></clipPath><clipPath class=\"axesclip\" id=\"clip68e2c0x3y8\"><rect x=\"597.65\" y=\"321.1333333333333\" width=\"238.52499999999998\" height=\"177.73333333333335\"/></clipPath><clipPath class=\"axesclip\" id=\"clip68e2c0x3y9\"><rect x=\"597.65\" y=\"100.00000000000007\" width=\"238.52499999999998\" height=\"177.73333333333332\"/></clipPath><clipPath class=\"axesclip\" id=\"clip68e2c0x3y10\"><rect x=\"597.65\" y=\"100.00000000000007\" width=\"238.52499999999998\" height=\"177.73333333333332\"/></clipPath><clipPath class=\"axesclip\" id=\"clip68e2c0x3y11\"><rect x=\"597.65\" y=\"100.00000000000007\" width=\"238.52499999999998\" height=\"177.73333333333332\"/></clipPath><clipPath class=\"axesclip\" id=\"clip68e2c0x3y12\"><rect x=\"597.65\" y=\"100.00000000000007\" width=\"238.52499999999998\" height=\"177.73333333333332\"/></clipPath><clipPath class=\"axesclip\" id=\"clip68e2c0x4\"><rect x=\"856.4749999999999\" y=\"0\" width=\"238.52499999999998\" height=\"800\"/></clipPath><clipPath class=\"axesclip\" id=\"clip68e2c0x4y\"><rect x=\"856.4749999999999\" y=\"542.2666666666667\" width=\"238.52499999999998\" height=\"177.73333333333332\"/></clipPath><clipPath class=\"axesclip\" id=\"clip68e2c0x4y2\"><rect x=\"856.4749999999999\" y=\"542.2666666666667\" width=\"238.52499999999998\" height=\"177.73333333333332\"/></clipPath><clipPath class=\"axesclip\" id=\"clip68e2c0x4y3\"><rect x=\"856.4749999999999\" y=\"542.2666666666667\" width=\"238.52499999999998\" height=\"177.73333333333332\"/></clipPath><clipPath class=\"axesclip\" id=\"clip68e2c0x4y4\"><rect x=\"856.4749999999999\" y=\"542.2666666666667\" width=\"238.52499999999998\" height=\"177.73333333333332\"/></clipPath><clipPath class=\"axesclip\" id=\"clip68e2c0x4y5\"><rect x=\"856.4749999999999\" y=\"321.1333333333333\" width=\"238.52499999999998\" height=\"177.73333333333335\"/></clipPath><clipPath class=\"axesclip\" id=\"clip68e2c0x4y6\"><rect x=\"856.4749999999999\" y=\"321.1333333333333\" width=\"238.52499999999998\" height=\"177.73333333333335\"/></clipPath><clipPath class=\"axesclip\" id=\"clip68e2c0x4y7\"><rect x=\"856.4749999999999\" y=\"321.1333333333333\" width=\"238.52499999999998\" height=\"177.73333333333335\"/></clipPath><clipPath class=\"axesclip\" id=\"clip68e2c0x4y8\"><rect x=\"856.4749999999999\" y=\"321.1333333333333\" width=\"238.52499999999998\" height=\"177.73333333333335\"/></clipPath><clipPath class=\"axesclip\" id=\"clip68e2c0x4y9\"><rect x=\"856.4749999999999\" y=\"100.00000000000007\" width=\"238.52499999999998\" height=\"177.73333333333332\"/></clipPath><clipPath class=\"axesclip\" id=\"clip68e2c0x4y10\"><rect x=\"856.4749999999999\" y=\"100.00000000000007\" width=\"238.52499999999998\" height=\"177.73333333333332\"/></clipPath><clipPath class=\"axesclip\" id=\"clip68e2c0x4y11\"><rect x=\"856.4749999999999\" y=\"100.00000000000007\" width=\"238.52499999999998\" height=\"177.73333333333332\"/></clipPath><clipPath class=\"axesclip\" id=\"clip68e2c0x4y12\"><rect x=\"856.4749999999999\" y=\"100.00000000000007\" width=\"238.52499999999998\" height=\"177.73333333333332\"/></clipPath><clipPath class=\"axesclip\" id=\"clip68e2c0x5\"><rect x=\"80\" y=\"0\" width=\"238.52499999999998\" height=\"800\"/></clipPath><clipPath class=\"axesclip\" id=\"clip68e2c0x5y\"><rect x=\"80\" y=\"542.2666666666667\" width=\"238.52499999999998\" height=\"177.73333333333332\"/></clipPath><clipPath class=\"axesclip\" id=\"clip68e2c0x5y2\"><rect x=\"80\" y=\"542.2666666666667\" width=\"238.52499999999998\" height=\"177.73333333333332\"/></clipPath><clipPath class=\"axesclip\" id=\"clip68e2c0x5y3\"><rect x=\"80\" y=\"542.2666666666667\" width=\"238.52499999999998\" height=\"177.73333333333332\"/></clipPath><clipPath class=\"axesclip\" id=\"clip68e2c0x5y4\"><rect x=\"80\" y=\"542.2666666666667\" width=\"238.52499999999998\" height=\"177.73333333333332\"/></clipPath><clipPath class=\"axesclip\" id=\"clip68e2c0x5y5\"><rect x=\"80\" y=\"321.1333333333333\" width=\"238.52499999999998\" height=\"177.73333333333335\"/></clipPath><clipPath class=\"axesclip\" id=\"clip68e2c0x5y6\"><rect x=\"80\" y=\"321.1333333333333\" width=\"238.52499999999998\" height=\"177.73333333333335\"/></clipPath><clipPath class=\"axesclip\" id=\"clip68e2c0x5y7\"><rect x=\"80\" y=\"321.1333333333333\" width=\"238.52499999999998\" height=\"177.73333333333335\"/></clipPath><clipPath class=\"axesclip\" id=\"clip68e2c0x5y8\"><rect x=\"80\" y=\"321.1333333333333\" width=\"238.52499999999998\" height=\"177.73333333333335\"/></clipPath><clipPath class=\"axesclip\" id=\"clip68e2c0x5y9\"><rect x=\"80\" y=\"100.00000000000007\" width=\"238.52499999999998\" height=\"177.73333333333332\"/></clipPath><clipPath class=\"axesclip\" id=\"clip68e2c0x5y10\"><rect x=\"80\" y=\"100.00000000000007\" width=\"238.52499999999998\" height=\"177.73333333333332\"/></clipPath><clipPath class=\"axesclip\" id=\"clip68e2c0x5y11\"><rect x=\"80\" y=\"100.00000000000007\" width=\"238.52499999999998\" height=\"177.73333333333332\"/></clipPath><clipPath class=\"axesclip\" id=\"clip68e2c0x5y12\"><rect x=\"80\" y=\"100.00000000000007\" width=\"238.52499999999998\" height=\"177.73333333333332\"/></clipPath><clipPath class=\"axesclip\" id=\"clip68e2c0x6\"><rect x=\"338.825\" y=\"0\" width=\"238.52499999999998\" height=\"800\"/></clipPath><clipPath class=\"axesclip\" id=\"clip68e2c0x6y\"><rect x=\"338.825\" y=\"542.2666666666667\" width=\"238.52499999999998\" height=\"177.73333333333332\"/></clipPath><clipPath class=\"axesclip\" id=\"clip68e2c0x6y2\"><rect x=\"338.825\" y=\"542.2666666666667\" width=\"238.52499999999998\" height=\"177.73333333333332\"/></clipPath><clipPath class=\"axesclip\" id=\"clip68e2c0x6y3\"><rect x=\"338.825\" y=\"542.2666666666667\" width=\"238.52499999999998\" height=\"177.73333333333332\"/></clipPath><clipPath class=\"axesclip\" id=\"clip68e2c0x6y4\"><rect x=\"338.825\" y=\"542.2666666666667\" width=\"238.52499999999998\" height=\"177.73333333333332\"/></clipPath><clipPath class=\"axesclip\" id=\"clip68e2c0x6y5\"><rect x=\"338.825\" y=\"321.1333333333333\" width=\"238.52499999999998\" height=\"177.73333333333335\"/></clipPath><clipPath class=\"axesclip\" id=\"clip68e2c0x6y6\"><rect x=\"338.825\" y=\"321.1333333333333\" width=\"238.52499999999998\" height=\"177.73333333333335\"/></clipPath><clipPath class=\"axesclip\" id=\"clip68e2c0x6y7\"><rect x=\"338.825\" y=\"321.1333333333333\" width=\"238.52499999999998\" height=\"177.73333333333335\"/></clipPath><clipPath class=\"axesclip\" id=\"clip68e2c0x6y8\"><rect x=\"338.825\" y=\"321.1333333333333\" width=\"238.52499999999998\" height=\"177.73333333333335\"/></clipPath><clipPath class=\"axesclip\" id=\"clip68e2c0x6y9\"><rect x=\"338.825\" y=\"100.00000000000007\" width=\"238.52499999999998\" height=\"177.73333333333332\"/></clipPath><clipPath class=\"axesclip\" id=\"clip68e2c0x6y10\"><rect x=\"338.825\" y=\"100.00000000000007\" width=\"238.52499999999998\" height=\"177.73333333333332\"/></clipPath><clipPath class=\"axesclip\" id=\"clip68e2c0x6y11\"><rect x=\"338.825\" y=\"100.00000000000007\" width=\"238.52499999999998\" height=\"177.73333333333332\"/></clipPath><clipPath class=\"axesclip\" id=\"clip68e2c0x6y12\"><rect x=\"338.825\" y=\"100.00000000000007\" width=\"238.52499999999998\" height=\"177.73333333333332\"/></clipPath><clipPath class=\"axesclip\" id=\"clip68e2c0x7\"><rect x=\"597.65\" y=\"0\" width=\"238.52499999999998\" height=\"800\"/></clipPath><clipPath class=\"axesclip\" id=\"clip68e2c0x7y\"><rect x=\"597.65\" y=\"542.2666666666667\" width=\"238.52499999999998\" height=\"177.73333333333332\"/></clipPath><clipPath class=\"axesclip\" id=\"clip68e2c0x7y2\"><rect x=\"597.65\" y=\"542.2666666666667\" width=\"238.52499999999998\" height=\"177.73333333333332\"/></clipPath><clipPath class=\"axesclip\" id=\"clip68e2c0x7y3\"><rect x=\"597.65\" y=\"542.2666666666667\" width=\"238.52499999999998\" height=\"177.73333333333332\"/></clipPath><clipPath class=\"axesclip\" id=\"clip68e2c0x7y4\"><rect x=\"597.65\" y=\"542.2666666666667\" width=\"238.52499999999998\" height=\"177.73333333333332\"/></clipPath><clipPath class=\"axesclip\" id=\"clip68e2c0x7y5\"><rect x=\"597.65\" y=\"321.1333333333333\" width=\"238.52499999999998\" height=\"177.73333333333335\"/></clipPath><clipPath class=\"axesclip\" id=\"clip68e2c0x7y6\"><rect x=\"597.65\" y=\"321.1333333333333\" width=\"238.52499999999998\" height=\"177.73333333333335\"/></clipPath><clipPath class=\"axesclip\" id=\"clip68e2c0x7y7\"><rect x=\"597.65\" y=\"321.1333333333333\" width=\"238.52499999999998\" height=\"177.73333333333335\"/></clipPath><clipPath class=\"axesclip\" id=\"clip68e2c0x7y8\"><rect x=\"597.65\" y=\"321.1333333333333\" width=\"238.52499999999998\" height=\"177.73333333333335\"/></clipPath><clipPath class=\"axesclip\" id=\"clip68e2c0x7y9\"><rect x=\"597.65\" y=\"100.00000000000007\" width=\"238.52499999999998\" height=\"177.73333333333332\"/></clipPath><clipPath class=\"axesclip\" id=\"clip68e2c0x7y10\"><rect x=\"597.65\" y=\"100.00000000000007\" width=\"238.52499999999998\" height=\"177.73333333333332\"/></clipPath><clipPath class=\"axesclip\" id=\"clip68e2c0x7y11\"><rect x=\"597.65\" y=\"100.00000000000007\" width=\"238.52499999999998\" height=\"177.73333333333332\"/></clipPath><clipPath class=\"axesclip\" id=\"clip68e2c0x7y12\"><rect x=\"597.65\" y=\"100.00000000000007\" width=\"238.52499999999998\" height=\"177.73333333333332\"/></clipPath><clipPath class=\"axesclip\" id=\"clip68e2c0x8\"><rect x=\"856.4749999999999\" y=\"0\" width=\"238.52499999999998\" height=\"800\"/></clipPath><clipPath class=\"axesclip\" id=\"clip68e2c0x8y\"><rect x=\"856.4749999999999\" y=\"542.2666666666667\" width=\"238.52499999999998\" height=\"177.73333333333332\"/></clipPath><clipPath class=\"axesclip\" id=\"clip68e2c0x8y2\"><rect x=\"856.4749999999999\" y=\"542.2666666666667\" width=\"238.52499999999998\" height=\"177.73333333333332\"/></clipPath><clipPath class=\"axesclip\" id=\"clip68e2c0x8y3\"><rect x=\"856.4749999999999\" y=\"542.2666666666667\" width=\"238.52499999999998\" height=\"177.73333333333332\"/></clipPath><clipPath class=\"axesclip\" id=\"clip68e2c0x8y4\"><rect x=\"856.4749999999999\" y=\"542.2666666666667\" width=\"238.52499999999998\" height=\"177.73333333333332\"/></clipPath><clipPath class=\"axesclip\" id=\"clip68e2c0x8y5\"><rect x=\"856.4749999999999\" y=\"321.1333333333333\" width=\"238.52499999999998\" height=\"177.73333333333335\"/></clipPath><clipPath class=\"axesclip\" id=\"clip68e2c0x8y6\"><rect x=\"856.4749999999999\" y=\"321.1333333333333\" width=\"238.52499999999998\" height=\"177.73333333333335\"/></clipPath><clipPath class=\"axesclip\" id=\"clip68e2c0x8y7\"><rect x=\"856.4749999999999\" y=\"321.1333333333333\" width=\"238.52499999999998\" height=\"177.73333333333335\"/></clipPath><clipPath class=\"axesclip\" id=\"clip68e2c0x8y8\"><rect x=\"856.4749999999999\" y=\"321.1333333333333\" width=\"238.52499999999998\" height=\"177.73333333333335\"/></clipPath><clipPath class=\"axesclip\" id=\"clip68e2c0x8y9\"><rect x=\"856.4749999999999\" y=\"100.00000000000007\" width=\"238.52499999999998\" height=\"177.73333333333332\"/></clipPath><clipPath class=\"axesclip\" id=\"clip68e2c0x8y10\"><rect x=\"856.4749999999999\" y=\"100.00000000000007\" width=\"238.52499999999998\" height=\"177.73333333333332\"/></clipPath><clipPath class=\"axesclip\" id=\"clip68e2c0x8y11\"><rect x=\"856.4749999999999\" y=\"100.00000000000007\" width=\"238.52499999999998\" height=\"177.73333333333332\"/></clipPath><clipPath class=\"axesclip\" id=\"clip68e2c0x8y12\"><rect x=\"856.4749999999999\" y=\"100.00000000000007\" width=\"238.52499999999998\" height=\"177.73333333333332\"/></clipPath><clipPath class=\"axesclip\" id=\"clip68e2c0x9\"><rect x=\"80\" y=\"0\" width=\"238.52499999999998\" height=\"800\"/></clipPath><clipPath class=\"axesclip\" id=\"clip68e2c0x9y\"><rect x=\"80\" y=\"542.2666666666667\" width=\"238.52499999999998\" height=\"177.73333333333332\"/></clipPath><clipPath class=\"axesclip\" id=\"clip68e2c0x9y2\"><rect x=\"80\" y=\"542.2666666666667\" width=\"238.52499999999998\" height=\"177.73333333333332\"/></clipPath><clipPath class=\"axesclip\" id=\"clip68e2c0x9y3\"><rect x=\"80\" y=\"542.2666666666667\" width=\"238.52499999999998\" height=\"177.73333333333332\"/></clipPath><clipPath class=\"axesclip\" id=\"clip68e2c0x9y4\"><rect x=\"80\" y=\"542.2666666666667\" width=\"238.52499999999998\" height=\"177.73333333333332\"/></clipPath><clipPath class=\"axesclip\" id=\"clip68e2c0x9y5\"><rect x=\"80\" y=\"321.1333333333333\" width=\"238.52499999999998\" height=\"177.73333333333335\"/></clipPath><clipPath class=\"axesclip\" id=\"clip68e2c0x9y6\"><rect x=\"80\" y=\"321.1333333333333\" width=\"238.52499999999998\" height=\"177.73333333333335\"/></clipPath><clipPath class=\"axesclip\" id=\"clip68e2c0x9y7\"><rect x=\"80\" y=\"321.1333333333333\" width=\"238.52499999999998\" height=\"177.73333333333335\"/></clipPath><clipPath class=\"axesclip\" id=\"clip68e2c0x9y8\"><rect x=\"80\" y=\"321.1333333333333\" width=\"238.52499999999998\" height=\"177.73333333333335\"/></clipPath><clipPath class=\"axesclip\" id=\"clip68e2c0x9y9\"><rect x=\"80\" y=\"100.00000000000007\" width=\"238.52499999999998\" height=\"177.73333333333332\"/></clipPath><clipPath class=\"axesclip\" id=\"clip68e2c0x9y10\"><rect x=\"80\" y=\"100.00000000000007\" width=\"238.52499999999998\" height=\"177.73333333333332\"/></clipPath><clipPath class=\"axesclip\" id=\"clip68e2c0x9y11\"><rect x=\"80\" y=\"100.00000000000007\" width=\"238.52499999999998\" height=\"177.73333333333332\"/></clipPath><clipPath class=\"axesclip\" id=\"clip68e2c0x9y12\"><rect x=\"80\" y=\"100.00000000000007\" width=\"238.52499999999998\" height=\"177.73333333333332\"/></clipPath><clipPath class=\"axesclip\" id=\"clip68e2c0x10\"><rect x=\"338.825\" y=\"0\" width=\"238.52499999999998\" height=\"800\"/></clipPath><clipPath class=\"axesclip\" id=\"clip68e2c0x10y\"><rect x=\"338.825\" y=\"542.2666666666667\" width=\"238.52499999999998\" height=\"177.73333333333332\"/></clipPath><clipPath class=\"axesclip\" id=\"clip68e2c0x10y2\"><rect x=\"338.825\" y=\"542.2666666666667\" width=\"238.52499999999998\" height=\"177.73333333333332\"/></clipPath><clipPath class=\"axesclip\" id=\"clip68e2c0x10y3\"><rect x=\"338.825\" y=\"542.2666666666667\" width=\"238.52499999999998\" height=\"177.73333333333332\"/></clipPath><clipPath class=\"axesclip\" id=\"clip68e2c0x10y4\"><rect x=\"338.825\" y=\"542.2666666666667\" width=\"238.52499999999998\" height=\"177.73333333333332\"/></clipPath><clipPath class=\"axesclip\" id=\"clip68e2c0x10y5\"><rect x=\"338.825\" y=\"321.1333333333333\" width=\"238.52499999999998\" height=\"177.73333333333335\"/></clipPath><clipPath class=\"axesclip\" id=\"clip68e2c0x10y6\"><rect x=\"338.825\" y=\"321.1333333333333\" width=\"238.52499999999998\" height=\"177.73333333333335\"/></clipPath><clipPath class=\"axesclip\" id=\"clip68e2c0x10y7\"><rect x=\"338.825\" y=\"321.1333333333333\" width=\"238.52499999999998\" height=\"177.73333333333335\"/></clipPath><clipPath class=\"axesclip\" id=\"clip68e2c0x10y8\"><rect x=\"338.825\" y=\"321.1333333333333\" width=\"238.52499999999998\" height=\"177.73333333333335\"/></clipPath><clipPath class=\"axesclip\" id=\"clip68e2c0x10y9\"><rect x=\"338.825\" y=\"100.00000000000007\" width=\"238.52499999999998\" height=\"177.73333333333332\"/></clipPath><clipPath class=\"axesclip\" id=\"clip68e2c0x10y10\"><rect x=\"338.825\" y=\"100.00000000000007\" width=\"238.52499999999998\" height=\"177.73333333333332\"/></clipPath><clipPath class=\"axesclip\" id=\"clip68e2c0x10y11\"><rect x=\"338.825\" y=\"100.00000000000007\" width=\"238.52499999999998\" height=\"177.73333333333332\"/></clipPath><clipPath class=\"axesclip\" id=\"clip68e2c0x10y12\"><rect x=\"338.825\" y=\"100.00000000000007\" width=\"238.52499999999998\" height=\"177.73333333333332\"/></clipPath><clipPath class=\"axesclip\" id=\"clip68e2c0x11\"><rect x=\"597.65\" y=\"0\" width=\"238.52499999999998\" height=\"800\"/></clipPath><clipPath class=\"axesclip\" id=\"clip68e2c0x11y\"><rect x=\"597.65\" y=\"542.2666666666667\" width=\"238.52499999999998\" height=\"177.73333333333332\"/></clipPath><clipPath class=\"axesclip\" id=\"clip68e2c0x11y2\"><rect x=\"597.65\" y=\"542.2666666666667\" width=\"238.52499999999998\" height=\"177.73333333333332\"/></clipPath><clipPath class=\"axesclip\" id=\"clip68e2c0x11y3\"><rect x=\"597.65\" y=\"542.2666666666667\" width=\"238.52499999999998\" height=\"177.73333333333332\"/></clipPath><clipPath class=\"axesclip\" id=\"clip68e2c0x11y4\"><rect x=\"597.65\" y=\"542.2666666666667\" width=\"238.52499999999998\" height=\"177.73333333333332\"/></clipPath><clipPath class=\"axesclip\" id=\"clip68e2c0x11y5\"><rect x=\"597.65\" y=\"321.1333333333333\" width=\"238.52499999999998\" height=\"177.73333333333335\"/></clipPath><clipPath class=\"axesclip\" id=\"clip68e2c0x11y6\"><rect x=\"597.65\" y=\"321.1333333333333\" width=\"238.52499999999998\" height=\"177.73333333333335\"/></clipPath><clipPath class=\"axesclip\" id=\"clip68e2c0x11y7\"><rect x=\"597.65\" y=\"321.1333333333333\" width=\"238.52499999999998\" height=\"177.73333333333335\"/></clipPath><clipPath class=\"axesclip\" id=\"clip68e2c0x11y8\"><rect x=\"597.65\" y=\"321.1333333333333\" width=\"238.52499999999998\" height=\"177.73333333333335\"/></clipPath><clipPath class=\"axesclip\" id=\"clip68e2c0x11y9\"><rect x=\"597.65\" y=\"100.00000000000007\" width=\"238.52499999999998\" height=\"177.73333333333332\"/></clipPath><clipPath class=\"axesclip\" id=\"clip68e2c0x11y10\"><rect x=\"597.65\" y=\"100.00000000000007\" width=\"238.52499999999998\" height=\"177.73333333333332\"/></clipPath><clipPath class=\"axesclip\" id=\"clip68e2c0x11y11\"><rect x=\"597.65\" y=\"100.00000000000007\" width=\"238.52499999999998\" height=\"177.73333333333332\"/></clipPath><clipPath class=\"axesclip\" id=\"clip68e2c0x11y12\"><rect x=\"597.65\" y=\"100.00000000000007\" width=\"238.52499999999998\" height=\"177.73333333333332\"/></clipPath><clipPath class=\"axesclip\" id=\"clip68e2c0x12\"><rect x=\"856.4749999999999\" y=\"0\" width=\"238.52499999999998\" height=\"800\"/></clipPath><clipPath class=\"axesclip\" id=\"clip68e2c0x12y\"><rect x=\"856.4749999999999\" y=\"542.2666666666667\" width=\"238.52499999999998\" height=\"177.73333333333332\"/></clipPath><clipPath class=\"axesclip\" id=\"clip68e2c0x12y2\"><rect x=\"856.4749999999999\" y=\"542.2666666666667\" width=\"238.52499999999998\" height=\"177.73333333333332\"/></clipPath><clipPath class=\"axesclip\" id=\"clip68e2c0x12y3\"><rect x=\"856.4749999999999\" y=\"542.2666666666667\" width=\"238.52499999999998\" height=\"177.73333333333332\"/></clipPath><clipPath class=\"axesclip\" id=\"clip68e2c0x12y4\"><rect x=\"856.4749999999999\" y=\"542.2666666666667\" width=\"238.52499999999998\" height=\"177.73333333333332\"/></clipPath><clipPath class=\"axesclip\" id=\"clip68e2c0x12y5\"><rect x=\"856.4749999999999\" y=\"321.1333333333333\" width=\"238.52499999999998\" height=\"177.73333333333335\"/></clipPath><clipPath class=\"axesclip\" id=\"clip68e2c0x12y6\"><rect x=\"856.4749999999999\" y=\"321.1333333333333\" width=\"238.52499999999998\" height=\"177.73333333333335\"/></clipPath><clipPath class=\"axesclip\" id=\"clip68e2c0x12y7\"><rect x=\"856.4749999999999\" y=\"321.1333333333333\" width=\"238.52499999999998\" height=\"177.73333333333335\"/></clipPath><clipPath class=\"axesclip\" id=\"clip68e2c0x12y8\"><rect x=\"856.4749999999999\" y=\"321.1333333333333\" width=\"238.52499999999998\" height=\"177.73333333333335\"/></clipPath><clipPath class=\"axesclip\" id=\"clip68e2c0x12y9\"><rect x=\"856.4749999999999\" y=\"100.00000000000007\" width=\"238.52499999999998\" height=\"177.73333333333332\"/></clipPath><clipPath class=\"axesclip\" id=\"clip68e2c0x12y10\"><rect x=\"856.4749999999999\" y=\"100.00000000000007\" width=\"238.52499999999998\" height=\"177.73333333333332\"/></clipPath><clipPath class=\"axesclip\" id=\"clip68e2c0x12y11\"><rect x=\"856.4749999999999\" y=\"100.00000000000007\" width=\"238.52499999999998\" height=\"177.73333333333332\"/></clipPath><clipPath class=\"axesclip\" id=\"clip68e2c0x12y12\"><rect x=\"856.4749999999999\" y=\"100.00000000000007\" width=\"238.52499999999998\" height=\"177.73333333333332\"/></clipPath></g><g class=\"gradients\"/><g class=\"patterns\"/></defs><g class=\"bglayer\"><rect class=\"bg\" x=\"80\" y=\"542.2666666666667\" width=\"238.52499999999998\" height=\"177.73333333333332\" style=\"fill: rgb(229, 236, 246); fill-opacity: 1; stroke-width: 0;\"/><rect class=\"bg\" x=\"338.825\" y=\"542.2666666666667\" width=\"238.52499999999998\" height=\"177.73333333333332\" style=\"fill: rgb(229, 236, 246); fill-opacity: 1; stroke-width: 0;\"/><rect class=\"bg\" x=\"597.65\" y=\"542.2666666666667\" width=\"238.52499999999998\" height=\"177.73333333333332\" style=\"fill: rgb(229, 236, 246); fill-opacity: 1; stroke-width: 0;\"/><rect class=\"bg\" x=\"856.4749999999999\" y=\"542.2666666666667\" width=\"238.52499999999998\" height=\"177.73333333333332\" style=\"fill: rgb(229, 236, 246); fill-opacity: 1; stroke-width: 0;\"/><rect class=\"bg\" x=\"80\" y=\"321.1333333333333\" width=\"238.52499999999998\" height=\"177.73333333333335\" style=\"fill: rgb(229, 236, 246); fill-opacity: 1; stroke-width: 0;\"/><rect class=\"bg\" x=\"338.825\" y=\"321.1333333333333\" width=\"238.52499999999998\" height=\"177.73333333333335\" style=\"fill: rgb(229, 236, 246); fill-opacity: 1; stroke-width: 0;\"/><rect class=\"bg\" x=\"597.65\" y=\"321.1333333333333\" width=\"238.52499999999998\" height=\"177.73333333333335\" style=\"fill: rgb(229, 236, 246); fill-opacity: 1; stroke-width: 0;\"/><rect class=\"bg\" x=\"856.4749999999999\" y=\"321.1333333333333\" width=\"238.52499999999998\" height=\"177.73333333333335\" style=\"fill: rgb(229, 236, 246); fill-opacity: 1; stroke-width: 0;\"/><rect class=\"bg\" x=\"80\" y=\"100.00000000000007\" width=\"238.52499999999998\" height=\"177.73333333333332\" style=\"fill: rgb(229, 236, 246); fill-opacity: 1; stroke-width: 0;\"/><rect class=\"bg\" x=\"338.825\" y=\"100.00000000000007\" width=\"238.52499999999998\" height=\"177.73333333333332\" style=\"fill: rgb(229, 236, 246); fill-opacity: 1; stroke-width: 0;\"/><rect class=\"bg\" x=\"597.65\" y=\"100.00000000000007\" width=\"238.52499999999998\" height=\"177.73333333333332\" style=\"fill: rgb(229, 236, 246); fill-opacity: 1; stroke-width: 0;\"/><rect class=\"bg\" x=\"856.4749999999999\" y=\"100.00000000000007\" width=\"238.52499999999998\" height=\"177.73333333333332\" style=\"fill: rgb(229, 236, 246); fill-opacity: 1; stroke-width: 0;\"/></g><g class=\"layer-below\"><g class=\"imagelayer\"/><g class=\"shapelayer\"/></g><g class=\"cartesianlayer\"><g class=\"subplot xy\"><g class=\"layer-subplot\"><g class=\"shapelayer\"/><g class=\"imagelayer\"/></g><g class=\"minor-gridlayer\"><g class=\"x\"/><g class=\"y\"/></g><g class=\"gridlayer\"><g class=\"x\"><path class=\"xgrid crisp\" transform=\"translate(166.74,0)\" d=\"M0,542.2666666666667v177.73333333333332\" style=\"stroke: rgb(255, 255, 255); stroke-opacity: 1; stroke-width: 1px;\"/><path class=\"xgrid crisp\" transform=\"translate(275.15999999999997,0)\" d=\"M0,542.2666666666667v177.73333333333332\" style=\"stroke: rgb(255, 255, 255); stroke-opacity: 1; stroke-width: 1px;\"/></g><g class=\"y\"><path class=\"ygrid crisp\" transform=\"translate(0,688.1966666666667)\" d=\"M80,0h238.52499999999998\" style=\"stroke: rgb(255, 255, 255); stroke-opacity: 1; stroke-width: 1px;\"/><path class=\"ygrid crisp\" transform=\"translate(0,622.9566666666667)\" d=\"M80,0h238.52499999999998\" style=\"stroke: rgb(255, 255, 255); stroke-opacity: 1; stroke-width: 1px;\"/><path class=\"ygrid crisp\" transform=\"translate(0,557.7166666666667)\" d=\"M80,0h238.52499999999998\" style=\"stroke: rgb(255, 255, 255); stroke-opacity: 1; stroke-width: 1px;\"/></g></g><g class=\"zerolinelayer\"/><path class=\"xlines-below\"/><path class=\"ylines-below\"/><g class=\"overlines-below\"/><g class=\"xaxislayer-below\"/><g class=\"yaxislayer-below\"/><g class=\"overaxes-below\"/><g class=\"plot\" transform=\"translate(80,542.2666666666667)\" clip-path=\"url(#clip68e2c0xyplot)\"><g class=\"scatterlayer mlayer\"><g class=\"trace scatter trace1007ba\" style=\"stroke-miterlimit: 2; opacity: 1;\"><g class=\"fills\"/><g class=\"errorbars\"/><g class=\"lines\"><path class=\"js-line\" d=\"M130.1,8.89L173.47,13.78L195.16,17.21L216.84,26.18L238.52,41.59\" style=\"vector-effect: non-scaling-stroke; fill: none; stroke: rgb(0, 0, 4); stroke-opacity: 1; stroke-width: 2px; opacity: 1;\"/></g><g class=\"points\"/><g class=\"text\"/></g><g class=\"trace scatter trace5bb5d7\" style=\"stroke-miterlimit: 2; opacity: 1;\"><g class=\"fills\"/><g class=\"errorbars\"/><g class=\"lines\"><path class=\"js-line\" d=\"M0,53.93L21.68,57.87L43.37,58.24L65.05,54.42L86.74,46.36L130.1,38.02L151.79,37.22L195.16,37.81L216.84,48.16L238.52,61.44\" style=\"vector-effect: non-scaling-stroke; fill: none; stroke: rgb(27, 12, 65); stroke-opacity: 1; stroke-width: 2px; opacity: 1;\"/></g><g class=\"points\"/><g class=\"text\"/></g><g class=\"trace scatter trace40c7fe\" style=\"stroke-miterlimit: 2; opacity: 1;\"><g class=\"fills\"/><g class=\"errorbars\"/><g class=\"lines\"><path class=\"js-line\" d=\"M0,75.12L43.37,82.17L65.05,78.24L108.42,64.73L130.1,61.72L173.47,58.41L195.16,57.97L216.84,63.37L238.52,74.68\" style=\"vector-effect: non-scaling-stroke; fill: none; stroke: rgb(74, 12, 107); stroke-opacity: 1; stroke-width: 2px; opacity: 1;\"/></g><g class=\"points\"/><g class=\"text\"/></g><g class=\"trace scatter trace4fdd06\" style=\"stroke-miterlimit: 2; opacity: 1;\"><g class=\"fills\"/><g class=\"errorbars\"/><g class=\"lines\"><path class=\"js-line\" d=\"M0,85.23L21.68,89.5L43.37,88.67L65.05,85.65L86.74,80.29L108.42,74.95L130.1,71.28L151.79,72.47L173.47,74.6L195.16,76.91L216.84,86.19L238.52,99.62\" style=\"vector-effect: non-scaling-stroke; fill: none; stroke: rgb(120, 28, 109); stroke-opacity: 1; stroke-width: 2px; opacity: 1;\"/></g><g class=\"points\"/><g class=\"text\"/></g><g class=\"trace scatter trace0b75ab\" style=\"stroke-miterlimit: 2; opacity: 1;\"><g class=\"fills\"/><g class=\"errorbars\"/><g class=\"lines\"><path class=\"js-line\" d=\"M0,109.53L21.68,115.18L43.37,115.97L65.05,123.28L86.74,118.82L108.42,120.66L130.1,127.17L151.79,131.71L173.47,134.1L195.16,135.32L216.84,139.77L238.52,146.98\" style=\"vector-effect: non-scaling-stroke; fill: none; stroke: rgb(165, 44, 96); stroke-opacity: 1; stroke-width: 2px; opacity: 1;\"/></g><g class=\"points\"/><g class=\"text\"/></g><g class=\"trace scatter trace954b30\" style=\"stroke-miterlimit: 2; opacity: 1;\"><g class=\"fills\"/><g class=\"errorbars\"/><g class=\"lines\"><path class=\"js-line\" d=\"M0,155.03L21.68,163.12L43.37,164.36L65.05,162.93L86.74,159.73L108.42,150.5L130.1,144.34L151.79,141.9L173.47,141.22L195.16,142.22L216.84,148.01L238.52,155.93\" style=\"vector-effect: non-scaling-stroke; fill: none; stroke: rgb(207, 68, 70); stroke-opacity: 1; stroke-width: 2px; opacity: 1;\"/></g><g class=\"points\"/><g class=\"text\"/></g><g class=\"trace scatter trace5eec00\" style=\"stroke-miterlimit: 2; opacity: 1;\"><g class=\"fills\"/><g class=\"errorbars\"/><g class=\"lines\"><path class=\"js-line\" d=\"M0,164.14L21.68,168.85L43.37,168.11L65.05,165.64L86.74,157.08L108.42,149.78L130.1,141.35L195.16,137.84\" style=\"vector-effect: non-scaling-stroke; fill: none; stroke: rgb(237, 105, 37); stroke-opacity: 1; stroke-width: 2px; opacity: 1;\"/></g><g class=\"points\"/><g class=\"text\"/></g></g></g><g class=\"overplot\"/><path class=\"xlines-above crisp\" d=\"M0,0\" style=\"fill: none;\"/><path class=\"ylines-above crisp\" d=\"M0,0\" style=\"fill: none;\"/><g class=\"overlines-above\"/><g class=\"xaxislayer-above\"><g class=\"xtick\"><text text-anchor=\"middle\" x=\"0\" y=\"733\" transform=\"translate(166.74,0)\" style=\"font-family: 'Open Sans', verdana, arial, sans-serif; font-size: 12px; fill: rgb(42, 63, 95); fill-opacity: 1; white-space: pre; opacity: 1;\">5</text></g><g class=\"xtick\"><text text-anchor=\"middle\" x=\"0\" y=\"733\" style=\"font-family: 'Open Sans', verdana, arial, sans-serif; font-size: 12px; fill: rgb(42, 63, 95); fill-opacity: 1; white-space: pre; opacity: 1;\" transform=\"translate(275.15999999999997,0)\">10</text></g></g><g class=\"yaxislayer-above\"><g class=\"ytick\"><text text-anchor=\"end\" x=\"79\" y=\"4.199999999999999\" transform=\"translate(0,688.1966666666667)\" style=\"font-family: 'Open Sans', verdana, arial, sans-serif; font-size: 12px; fill: rgb(42, 63, 95); fill-opacity: 1; white-space: pre; opacity: 1;\">20k</text></g><g class=\"ytick\"><text text-anchor=\"end\" x=\"79\" y=\"4.199999999999999\" style=\"font-family: 'Open Sans', verdana, arial, sans-serif; font-size: 12px; fill: rgb(42, 63, 95); fill-opacity: 1; white-space: pre; opacity: 1;\" transform=\"translate(0,622.9566666666667)\">40k</text></g><g class=\"ytick\"><text text-anchor=\"end\" x=\"79\" y=\"4.199999999999999\" style=\"font-family: 'Open Sans', verdana, arial, sans-serif; font-size: 12px; fill: rgb(42, 63, 95); fill-opacity: 1; white-space: pre; opacity: 1;\" transform=\"translate(0,557.7166666666667)\">60k</text></g></g><g class=\"overaxes-above\"/></g><g class=\"subplot x2y2\"><g class=\"layer-subplot\"><g class=\"shapelayer\"/><g class=\"imagelayer\"/></g><g class=\"minor-gridlayer\"><g class=\"x2\"/><g class=\"y2\"/></g><g class=\"gridlayer\"><g class=\"x2\"><path class=\"x2grid crisp\" transform=\"translate(425.565,0)\" d=\"M0,542.2666666666667v177.73333333333332\" style=\"stroke: rgb(255, 255, 255); stroke-opacity: 1; stroke-width: 1px;\"/><path class=\"x2grid crisp\" transform=\"translate(533.985,0)\" d=\"M0,542.2666666666667v177.73333333333332\" style=\"stroke: rgb(255, 255, 255); stroke-opacity: 1; stroke-width: 1px;\"/></g><g class=\"y2\"><path class=\"y2grid crisp\" transform=\"translate(0,670.9766666666667)\" d=\"M338.825,0h238.52499999999998\" style=\"stroke: rgb(255, 255, 255); stroke-opacity: 1; stroke-width: 1px;\"/><path class=\"y2grid crisp\" transform=\"translate(0,594.5266666666666)\" d=\"M338.825,0h238.52499999999998\" style=\"stroke: rgb(255, 255, 255); stroke-opacity: 1; stroke-width: 1px;\"/></g></g><g class=\"zerolinelayer\"/><path class=\"xlines-below\"/><path class=\"ylines-below\"/><g class=\"overlines-below\"/><g class=\"xaxislayer-below\"/><g class=\"yaxislayer-below\"/><g class=\"overaxes-below\"/><g class=\"plot\" transform=\"translate(338.825,542.2666666666667)\" clip-path=\"url(#clip68e2c0x2y2plot)\"><g class=\"scatterlayer mlayer\"><g class=\"trace scatter tracee947fa\" style=\"stroke-miterlimit: 2; opacity: 1;\"><g class=\"fills\"/><g class=\"errorbars\"/><g class=\"lines\"><path class=\"js-line\" d=\"M130.1,10.92L151.79,8.89L173.47,9.65L195.16,18.84L216.84,28.99L238.52,46.06\" style=\"vector-effect: non-scaling-stroke; fill: none; stroke: rgb(0, 0, 4); stroke-opacity: 1; stroke-width: 2px; opacity: 1;\"/></g><g class=\"points\"/><g class=\"text\"/></g><g class=\"trace scatter trace940495\" style=\"stroke-miterlimit: 2; opacity: 1;\"><g class=\"fills\"/><g class=\"errorbars\"/><g class=\"lines\"><path class=\"js-line\" d=\"M0,60.93L21.68,67.52L43.37,70.63L65.05,62.75L86.74,53.09L130.1,29.3L151.79,24.01L173.47,23.11L195.16,27.56L216.84,39.6L238.52,56.93\" style=\"vector-effect: non-scaling-stroke; fill: none; stroke: rgb(27, 12, 65); stroke-opacity: 1; stroke-width: 2px; opacity: 1;\"/></g><g class=\"points\"/><g class=\"text\"/></g><g class=\"trace scatter tracef9f84f\" style=\"stroke-miterlimit: 2; opacity: 1;\"><g class=\"fills\"/><g class=\"errorbars\"/><g class=\"lines\"><path class=\"js-line\" d=\"M0,72.97L21.68,76.94L43.37,76.3L65.05,70.96L86.74,61.09L108.42,47.89L130.1,40.48L151.79,30.12L173.47,24.34L195.16,17.02L216.84,21.1L238.52,33.64\" style=\"vector-effect: non-scaling-stroke; fill: none; stroke: rgb(74, 12, 107); stroke-opacity: 1; stroke-width: 2px; opacity: 1;\"/></g><g class=\"points\"/><g class=\"text\"/></g><g class=\"trace scatter trace083e36\" style=\"stroke-miterlimit: 2; opacity: 1;\"><g class=\"fills\"/><g class=\"errorbars\"/><g class=\"lines\"><path class=\"js-line\" d=\"M0,45.83L21.68,48.78L43.37,49.25L65.05,47.1L86.74,38.84L108.42,29.91L130.1,26.87L173.47,27.31L195.16,28.92L216.84,46.16L238.52,65.18\" style=\"vector-effect: non-scaling-stroke; fill: none; stroke: rgb(120, 28, 109); stroke-opacity: 1; stroke-width: 2px; opacity: 1;\"/></g><g class=\"points\"/><g class=\"text\"/></g><g class=\"trace scatter tracebfd007\" style=\"stroke-miterlimit: 2; opacity: 1;\"><g class=\"fills\"/><g class=\"errorbars\"/><g class=\"lines\"><path class=\"js-line\" d=\"M0,78.42L21.68,86.62L43.37,84.36L65.05,62.2L86.74,67.86L108.42,82.7L130.1,96.39L151.79,110.46L173.47,120.41L195.16,129.51L216.84,141L238.52,150.58\" style=\"vector-effect: non-scaling-stroke; fill: none; stroke: rgb(165, 44, 96); stroke-opacity: 1; stroke-width: 2px; opacity: 1;\"/></g><g class=\"points\"/><g class=\"text\"/></g><g class=\"trace scatter trace9f49e9\" style=\"stroke-miterlimit: 2; opacity: 1;\"><g class=\"fills\"/><g class=\"errorbars\"/><g class=\"lines\"><path class=\"js-line\" d=\"M0,159.17L21.68,166.92L43.37,166.26L65.05,164.15L86.74,158.19L108.42,149.06L130.1,138.5L173.47,127.67L195.16,132.29L216.84,143.42L238.52,157.24\" style=\"vector-effect: non-scaling-stroke; fill: none; stroke: rgb(207, 68, 70); stroke-opacity: 1; stroke-width: 2px; opacity: 1;\"/></g><g class=\"points\"/><g class=\"text\"/></g><g class=\"trace scatter trace89b0fa\" style=\"stroke-miterlimit: 2; opacity: 1;\"><g class=\"fills\"/><g class=\"errorbars\"/><g class=\"lines\"><path class=\"js-line\" d=\"M0,166.89L21.68,168.85L43.37,163.98L65.05,152.72L86.74,121.19L108.42,90.64L130.1,54.1L151.79,41.96L173.47,39.99L195.16,34.34\" style=\"vector-effect: non-scaling-stroke; fill: none; stroke: rgb(237, 105, 37); stroke-opacity: 1; stroke-width: 2px; opacity: 1;\"/></g><g class=\"points\"/><g class=\"text\"/></g></g></g><g class=\"overplot\"/><path class=\"xlines-above crisp\" d=\"M0,0\" style=\"fill: none;\"/><path class=\"ylines-above crisp\" d=\"M0,0\" style=\"fill: none;\"/><g class=\"overlines-above\"/><g class=\"xaxislayer-above\"><g class=\"x2tick\"><text text-anchor=\"middle\" x=\"0\" y=\"733\" transform=\"translate(425.565,0)\" style=\"font-family: 'Open Sans', verdana, arial, sans-serif; font-size: 12px; fill: rgb(42, 63, 95); fill-opacity: 1; white-space: pre; opacity: 1;\">5</text></g><g class=\"x2tick\"><text text-anchor=\"middle\" x=\"0\" y=\"733\" style=\"font-family: 'Open Sans', verdana, arial, sans-serif; font-size: 12px; fill: rgb(42, 63, 95); fill-opacity: 1; white-space: pre; opacity: 1;\" transform=\"translate(533.985,0)\">10</text></g></g><g class=\"yaxislayer-above\"/><g class=\"overaxes-above\"/></g><g class=\"subplot x3y3\"><g class=\"layer-subplot\"><g class=\"shapelayer\"/><g class=\"imagelayer\"/></g><g class=\"minor-gridlayer\"><g class=\"x3\"/><g class=\"y3\"/></g><g class=\"gridlayer\"><g class=\"x3\"><path class=\"x3grid crisp\" transform=\"translate(684.39,0)\" d=\"M0,542.2666666666667v177.73333333333332\" style=\"stroke: rgb(255, 255, 255); stroke-opacity: 1; stroke-width: 1px;\"/><path class=\"x3grid crisp\" transform=\"translate(792.81,0)\" d=\"M0,542.2666666666667v177.73333333333332\" style=\"stroke: rgb(255, 255, 255); stroke-opacity: 1; stroke-width: 1px;\"/></g><g class=\"y3\"><path class=\"y3grid crisp\" transform=\"translate(0,683.9166666666666)\" d=\"M597.65,0h238.52499999999998\" style=\"stroke: rgb(255, 255, 255); stroke-opacity: 1; stroke-width: 1px;\"/><path class=\"y3grid crisp\" transform=\"translate(0,635.2566666666667)\" d=\"M597.65,0h238.52499999999998\" style=\"stroke: rgb(255, 255, 255); stroke-opacity: 1; stroke-width: 1px;\"/><path class=\"y3grid crisp\" transform=\"translate(0,586.5866666666667)\" d=\"M597.65,0h238.52499999999998\" style=\"stroke: rgb(255, 255, 255); stroke-opacity: 1; stroke-width: 1px;\"/></g></g><g class=\"zerolinelayer\"/><path class=\"xlines-below\"/><path class=\"ylines-below\"/><g class=\"overlines-below\"/><g class=\"xaxislayer-below\"/><g class=\"yaxislayer-below\"/><g class=\"overaxes-below\"/><g class=\"plot\" transform=\"translate(597.65,542.2666666666667)\" clip-path=\"url(#clip68e2c0x3y3plot)\"><g class=\"scatterlayer mlayer\"><g class=\"trace scatter trace1f7043\" style=\"stroke-miterlimit: 2; opacity: 1;\"><g class=\"fills\"/><g class=\"errorbars\"/><g class=\"lines\"><path class=\"js-line\" d=\"M130.1,8.89L151.79,10.21L173.47,12.52L195.16,22.52L216.84,40.38L238.52,59.94\" style=\"vector-effect: non-scaling-stroke; fill: none; stroke: rgb(0, 0, 4); stroke-opacity: 1; stroke-width: 2px; opacity: 1;\"/></g><g class=\"points\"/><g class=\"text\"/></g><g class=\"trace scatter trace3f8637\" style=\"stroke-miterlimit: 2; opacity: 1;\"><g class=\"fills\"/><g class=\"errorbars\"/><g class=\"lines\"><path class=\"js-line\" d=\"M0,74.32L21.68,71.96L43.37,64.53L65.05,69.92L86.74,64.17L108.42,57L130.1,54.03L151.79,54.19L173.47,57.38L195.16,64.33L216.84,76.72L238.52,93.34\" style=\"vector-effect: non-scaling-stroke; fill: none; stroke: rgb(27, 12, 65); stroke-opacity: 1; stroke-width: 2px; opacity: 1;\"/></g><g class=\"points\"/><g class=\"text\"/></g><g class=\"trace scatter tracef5b52f\" style=\"stroke-miterlimit: 2; opacity: 1;\"><g class=\"fills\"/><g class=\"errorbars\"/><g class=\"lines\"><path class=\"js-line\" d=\"M0,104.9L21.68,106.51L43.37,105.89L65.05,108.61L86.74,102.96L108.42,94.46L130.1,89.34L151.79,85.27L173.47,84.93L195.16,86.97L216.84,93.82L238.52,104.02\" style=\"vector-effect: non-scaling-stroke; fill: none; stroke: rgb(74, 12, 107); stroke-opacity: 1; stroke-width: 2px; opacity: 1;\"/></g><g class=\"points\"/><g class=\"text\"/></g><g class=\"trace scatter trace2a5ddd\" style=\"stroke-miterlimit: 2; opacity: 1;\"><g class=\"fills\"/><g class=\"errorbars\"/><g class=\"lines\"><path class=\"js-line\" d=\"M0,113.79L21.68,118.37L43.37,117.87L65.05,114.68L86.74,109.53L108.42,101.01L130.1,95.62L151.79,93.63L173.47,92.48L195.16,92.7L216.84,101.34L238.52,112.66\" style=\"vector-effect: non-scaling-stroke; fill: none; stroke: rgb(120, 28, 109); stroke-opacity: 1; stroke-width: 2px; opacity: 1;\"/></g><g class=\"points\"/><g class=\"text\"/></g><g class=\"trace scatter tracefb76da\" style=\"stroke-miterlimit: 2; opacity: 1;\"><g class=\"fills\"/><g class=\"errorbars\"/><g class=\"lines\"><path class=\"js-line\" d=\"M0,121.69L21.68,125.36L43.37,124.51L65.05,123.73L86.74,127.77L130.1,134.23L151.79,136.3L173.47,137.22L195.16,139.02L216.84,144.24L238.52,150.98\" style=\"vector-effect: non-scaling-stroke; fill: none; stroke: rgb(165, 44, 96); stroke-opacity: 1; stroke-width: 2px; opacity: 1;\"/></g><g class=\"points\"/><g class=\"text\"/></g><g class=\"trace scatter tracec8fca1\" style=\"stroke-miterlimit: 2; opacity: 1;\"><g class=\"fills\"/><g class=\"errorbars\"/><g class=\"lines\"><path class=\"js-line\" d=\"M0,158.2L21.68,163.15L43.37,164.38L65.05,163.76L86.74,160.35L108.42,155.68L130.1,148.96L151.79,145.31L173.47,143.52L195.16,145.63L216.84,151.65L238.52,157.9\" style=\"vector-effect: non-scaling-stroke; fill: none; stroke: rgb(207, 68, 70); stroke-opacity: 1; stroke-width: 2px; opacity: 1;\"/></g><g class=\"points\"/><g class=\"text\"/></g><g class=\"trace scatter trace16ed7d\" style=\"stroke-miterlimit: 2; opacity: 1;\"><g class=\"fills\"/><g class=\"errorbars\"/><g class=\"lines\"><path class=\"js-line\" d=\"M0,164.62L21.68,168.67L43.37,168.85L65.05,166.36L86.74,161.2L108.42,156.55L130.1,149.73L151.79,149.61L173.47,150.42L195.16,149.12\" style=\"vector-effect: non-scaling-stroke; fill: none; stroke: rgb(237, 105, 37); stroke-opacity: 1; stroke-width: 2px; opacity: 1;\"/></g><g class=\"points\"/><g class=\"text\"/></g></g></g><g class=\"overplot\"/><path class=\"xlines-above crisp\" d=\"M0,0\" style=\"fill: none;\"/><path class=\"ylines-above crisp\" d=\"M0,0\" style=\"fill: none;\"/><g class=\"overlines-above\"/><g class=\"xaxislayer-above\"><g class=\"x3tick\"><text text-anchor=\"middle\" x=\"0\" y=\"733\" transform=\"translate(684.39,0)\" style=\"font-family: 'Open Sans', verdana, arial, sans-serif; font-size: 12px; fill: rgb(42, 63, 95); fill-opacity: 1; white-space: pre; opacity: 1;\">5</text></g><g class=\"x3tick\"><text text-anchor=\"middle\" x=\"0\" y=\"733\" style=\"font-family: 'Open Sans', verdana, arial, sans-serif; font-size: 12px; fill: rgb(42, 63, 95); fill-opacity: 1; white-space: pre; opacity: 1;\" transform=\"translate(792.81,0)\">10</text></g></g><g class=\"yaxislayer-above\"/><g class=\"overaxes-above\"/></g><g class=\"subplot x4y4\"><g class=\"layer-subplot\"><g class=\"shapelayer\"/><g class=\"imagelayer\"/></g><g class=\"minor-gridlayer\"><g class=\"x4\"/><g class=\"y4\"/></g><g class=\"gridlayer\"><g class=\"x4\"><path class=\"x4grid crisp\" transform=\"translate(943.2149999999999,0)\" d=\"M0,542.2666666666667v177.73333333333332\" style=\"stroke: rgb(255, 255, 255); stroke-opacity: 1; stroke-width: 1px;\"/><path class=\"x4grid crisp\" transform=\"translate(1051.635,0)\" d=\"M0,542.2666666666667v177.73333333333332\" style=\"stroke: rgb(255, 255, 255); stroke-opacity: 1; stroke-width: 1px;\"/></g><g class=\"y4\"><path class=\"y4grid crisp\" transform=\"translate(0,708.3466666666667)\" d=\"M856.4749999999999,0h238.52499999999998\" style=\"stroke: rgb(255, 255, 255); stroke-opacity: 1; stroke-width: 1px;\"/><path class=\"y4grid crisp\" transform=\"translate(0,666.3566666666667)\" d=\"M856.4749999999999,0h238.52499999999998\" style=\"stroke: rgb(255, 255, 255); stroke-opacity: 1; stroke-width: 1px;\"/><path class=\"y4grid crisp\" transform=\"translate(0,624.3766666666667)\" d=\"M856.4749999999999,0h238.52499999999998\" style=\"stroke: rgb(255, 255, 255); stroke-opacity: 1; stroke-width: 1px;\"/><path class=\"y4grid crisp\" transform=\"translate(0,582.3866666666667)\" d=\"M856.4749999999999,0h238.52499999999998\" style=\"stroke: rgb(255, 255, 255); stroke-opacity: 1; stroke-width: 1px;\"/></g></g><g class=\"zerolinelayer\"/><path class=\"xlines-below\"/><path class=\"ylines-below\"/><g class=\"overlines-below\"/><g class=\"xaxislayer-below\"/><g class=\"yaxislayer-below\"/><g class=\"overaxes-below\"/><g class=\"plot\" transform=\"translate(856.4749999999999,542.2666666666667)\" clip-path=\"url(#clip68e2c0x4y4plot)\"><g class=\"scatterlayer mlayer\"><g class=\"trace scatter trace524942\" style=\"stroke-miterlimit: 2; opacity: 1;\"><g class=\"fills\"/><g class=\"errorbars\"/><g class=\"lines\"><path class=\"js-line\" d=\"M130.1,11.74L151.79,10.06L173.47,15.86L195.16,23.41L216.84,36.72L238.52,48.18\" style=\"vector-effect: non-scaling-stroke; fill: none; stroke: rgb(0, 0, 4); stroke-opacity: 1; stroke-width: 2px; opacity: 1;\"/></g><g class=\"points\"/><g class=\"text\"/></g><g class=\"trace scatter traceb7f5da\" style=\"stroke-miterlimit: 2; opacity: 1;\"><g class=\"fills\"/><g class=\"errorbars\"/><g class=\"lines\"><path class=\"js-line\" d=\"M0,63.3L21.68,65.19L43.37,64.35L65.05,53.26L86.74,39.83L108.42,25.22L130.1,14.51L151.79,9.77L173.47,8.89L195.16,18.71L216.84,37.77L238.52,51.63\" style=\"vector-effect: non-scaling-stroke; fill: none; stroke: rgb(27, 12, 65); stroke-opacity: 1; stroke-width: 2px; opacity: 1;\"/></g><g class=\"points\"/><g class=\"text\"/></g><g class=\"trace scatter trace3a0d06\" style=\"stroke-miterlimit: 2; opacity: 1;\"><g class=\"fills\"/><g class=\"errorbars\"/><g class=\"lines\"><path class=\"js-line\" d=\"M0,63.09L21.68,65.4L43.37,63.55L65.05,56.92L86.74,51.12L108.42,42.94L130.1,39.75L151.79,37.18L173.47,38.74L195.16,45.29L216.84,54.15L238.52,63.76\" style=\"vector-effect: non-scaling-stroke; fill: none; stroke: rgb(74, 12, 107); stroke-opacity: 1; stroke-width: 2px; opacity: 1;\"/></g><g class=\"points\"/><g class=\"text\"/></g><g class=\"trace scatter trace8cb369\" style=\"stroke-miterlimit: 2; opacity: 1;\"><g class=\"fills\"/><g class=\"errorbars\"/><g class=\"lines\"><path class=\"js-line\" d=\"M0,75.85L21.68,79.46L43.37,79.8L65.05,76.86L86.74,74.68L130.1,56.37L151.79,57.55L173.47,61.95L195.16,67.16L216.84,82.99L238.52,92.6\" style=\"vector-effect: non-scaling-stroke; fill: none; stroke: rgb(120, 28, 109); stroke-opacity: 1; stroke-width: 2px; opacity: 1;\"/></g><g class=\"points\"/><g class=\"text\"/></g><g class=\"trace scatter traced95954\" style=\"stroke-miterlimit: 2; opacity: 1;\"><g class=\"fills\"/><g class=\"errorbars\"/><g class=\"lines\"><path class=\"js-line\" d=\"M0,104.57L21.68,108.81L43.37,106.71L65.05,101.59L86.74,97.94L108.42,93.02L130.1,94.07L151.79,100.62L173.47,108.1L195.16,114.27L216.84,122.87L238.52,131.4\" style=\"vector-effect: non-scaling-stroke; fill: none; stroke: rgb(165, 44, 96); stroke-opacity: 1; stroke-width: 2px; opacity: 1;\"/></g><g class=\"points\"/><g class=\"text\"/></g><g class=\"trace scatter trace2b1aee\" style=\"stroke-miterlimit: 2; opacity: 1;\"><g class=\"fills\"/><g class=\"errorbars\"/><g class=\"lines\"><path class=\"js-line\" d=\"M0,141.26L21.68,147.1L43.37,151.42L65.05,154.49L86.74,153.23L130.1,138.07L151.79,135.93L173.47,136.73L195.16,143.11L238.52,155.2\" style=\"vector-effect: non-scaling-stroke; fill: none; stroke: rgb(207, 68, 70); stroke-opacity: 1; stroke-width: 2px; opacity: 1;\"/></g><g class=\"points\"/><g class=\"text\"/></g><g class=\"trace scatter trace7d6dad\" style=\"stroke-miterlimit: 2; opacity: 1;\"><g class=\"fills\"/><g class=\"errorbars\"/><g class=\"lines\"><path class=\"js-line\" d=\"M0,163.26L21.68,168.01L43.37,168.85L65.05,167.17L86.74,158.77L108.42,146.64L130.1,130.47L151.79,123.34L173.47,122.62L195.16,127.07\" style=\"vector-effect: non-scaling-stroke; fill: none; stroke: rgb(237, 105, 37); stroke-opacity: 1; stroke-width: 2px; opacity: 1;\"/></g><g class=\"points\"/><g class=\"text\"/></g></g></g><g class=\"overplot\"/><path class=\"xlines-above crisp\" d=\"M0,0\" style=\"fill: none;\"/><path class=\"ylines-above crisp\" d=\"M0,0\" style=\"fill: none;\"/><g class=\"overlines-above\"/><g class=\"xaxislayer-above\"><g class=\"x4tick\"><text text-anchor=\"middle\" x=\"0\" y=\"733\" transform=\"translate(943.2149999999999,0)\" style=\"font-family: 'Open Sans', verdana, arial, sans-serif; font-size: 12px; fill: rgb(42, 63, 95); fill-opacity: 1; white-space: pre; opacity: 1;\">5</text></g><g class=\"x4tick\"><text text-anchor=\"middle\" x=\"0\" y=\"733\" style=\"font-family: 'Open Sans', verdana, arial, sans-serif; font-size: 12px; fill: rgb(42, 63, 95); fill-opacity: 1; white-space: pre; opacity: 1;\" transform=\"translate(1051.635,0)\">10</text></g></g><g class=\"yaxislayer-above\"/><g class=\"overaxes-above\"/></g><g class=\"subplot x5y5\"><g class=\"layer-subplot\"><g class=\"shapelayer\"/><g class=\"imagelayer\"/></g><g class=\"minor-gridlayer\"><g class=\"x5\"/><g class=\"y5\"/></g><g class=\"gridlayer\"><g class=\"x5\"><path class=\"x5grid crisp\" transform=\"translate(166.74,0)\" d=\"M0,321.1333333333333v177.73333333333335\" style=\"stroke: rgb(255, 255, 255); stroke-opacity: 1; stroke-width: 1px;\"/><path class=\"x5grid crisp\" transform=\"translate(275.15999999999997,0)\" d=\"M0,321.1333333333333v177.73333333333335\" style=\"stroke: rgb(255, 255, 255); stroke-opacity: 1; stroke-width: 1px;\"/></g><g class=\"y5\"><path class=\"y5grid crisp\" transform=\"translate(0,491.6433333333333)\" d=\"M80,0h238.52499999999998\" style=\"stroke: rgb(255, 255, 255); stroke-opacity: 1; stroke-width: 1px;\"/><path class=\"y5grid crisp\" transform=\"translate(0,449.7933333333333)\" d=\"M80,0h238.52499999999998\" style=\"stroke: rgb(255, 255, 255); stroke-opacity: 1; stroke-width: 1px;\"/><path class=\"y5grid crisp\" transform=\"translate(0,407.9433333333333)\" d=\"M80,0h238.52499999999998\" style=\"stroke: rgb(255, 255, 255); stroke-opacity: 1; stroke-width: 1px;\"/><path class=\"y5grid crisp\" transform=\"translate(0,366.0933333333333)\" d=\"M80,0h238.52499999999998\" style=\"stroke: rgb(255, 255, 255); stroke-opacity: 1; stroke-width: 1px;\"/><path class=\"y5grid crisp\" transform=\"translate(0,324.23333333333335)\" d=\"M80,0h238.52499999999998\" style=\"stroke: rgb(255, 255, 255); stroke-opacity: 1; stroke-width: 1px;\"/></g></g><g class=\"zerolinelayer\"/><path class=\"xlines-below\"/><path class=\"ylines-below\"/><g class=\"overlines-below\"/><g class=\"xaxislayer-below\"/><g class=\"yaxislayer-below\"/><g class=\"overaxes-below\"/><g class=\"plot\" transform=\"translate(80,321.1333333333333)\" clip-path=\"url(#clip68e2c0x5y5plot)\"><g class=\"scatterlayer mlayer\"><g class=\"trace scatter tracebec971\" style=\"stroke-miterlimit: 2; opacity: 1;\"><g class=\"fills\"/><g class=\"errorbars\"/><g class=\"lines\"><path class=\"js-line\" d=\"M130.1,11.2L151.79,8.89L173.47,13.05L195.16,22.66L216.84,37.4L238.52,57.91\" style=\"vector-effect: non-scaling-stroke; fill: none; stroke: rgb(0, 0, 4); stroke-opacity: 1; stroke-width: 2px; opacity: 1;\"/></g><g class=\"points\"/><g class=\"text\"/></g><g class=\"trace scatter trace882843\" style=\"stroke-miterlimit: 2; opacity: 1;\"><g class=\"fills\"/><g class=\"errorbars\"/><g class=\"lines\"><path class=\"js-line\" d=\"M0,75.63L21.68,79.76L43.37,79.69L65.05,75.26L86.74,57.49L108.42,43.19L130.1,33.3L151.79,25.33L173.47,26.67L195.16,35.99L216.84,49.9L238.52,68.1\" style=\"vector-effect: non-scaling-stroke; fill: none; stroke: rgb(27, 12, 65); stroke-opacity: 1; stroke-width: 2px; opacity: 1;\"/></g><g class=\"points\"/><g class=\"text\"/></g><g class=\"trace scatter tracefbc52f\" style=\"stroke-miterlimit: 2; opacity: 1;\"><g class=\"fills\"/><g class=\"errorbars\"/><g class=\"lines\"><path class=\"js-line\" d=\"M0,83.53L21.68,90.36L43.37,91.87L65.05,87.98L86.74,76.16L108.42,59.15L130.1,46.91L151.79,35.91L173.47,33.29L195.16,36.72L216.84,45.6L238.52,60.99\" style=\"vector-effect: non-scaling-stroke; fill: none; stroke: rgb(74, 12, 107); stroke-opacity: 1; stroke-width: 2px; opacity: 1;\"/></g><g class=\"points\"/><g class=\"text\"/></g><g class=\"trace scatter trace2725e2\" style=\"stroke-miterlimit: 2; opacity: 1;\"><g class=\"fills\"/><g class=\"errorbars\"/><g class=\"lines\"><path class=\"js-line\" d=\"M0,75.43L21.68,83.06L43.37,84.21L65.05,82.42L86.74,71.67L108.42,55.64L130.1,43.5L151.79,39.28L173.47,37.32L195.16,38.5L216.84,53.12L238.52,71.54\" style=\"vector-effect: non-scaling-stroke; fill: none; stroke: rgb(120, 28, 109); stroke-opacity: 1; stroke-width: 2px; opacity: 1;\"/></g><g class=\"points\"/><g class=\"text\"/></g><g class=\"trace scatter trace3b6d86\" style=\"stroke-miterlimit: 2; opacity: 1;\"><g class=\"fills\"/><g class=\"errorbars\"/><g class=\"lines\"><path class=\"js-line\" d=\"M0,87.43L21.68,95.12L43.37,99.96L65.05,103.77L86.74,96.57L130.1,106.63L151.79,112.94L173.47,118.88L195.16,123.99L238.52,141.99\" style=\"vector-effect: non-scaling-stroke; fill: none; stroke: rgb(165, 44, 96); stroke-opacity: 1; stroke-width: 2px; opacity: 1;\"/></g><g class=\"points\"/><g class=\"text\"/></g><g class=\"trace scatter tracea74334\" style=\"stroke-miterlimit: 2; opacity: 1;\"><g class=\"fills\"/><g class=\"errorbars\"/><g class=\"lines\"><path class=\"js-line\" d=\"M0,153.3L21.68,163.16L43.37,165.45L65.05,165.34L86.74,159.32L108.42,147.5L130.1,140.78L151.79,134.03L173.47,133.03L195.16,136.13L216.84,143.06L238.52,152.72\" style=\"vector-effect: non-scaling-stroke; fill: none; stroke: rgb(207, 68, 70); stroke-opacity: 1; stroke-width: 2px; opacity: 1;\"/></g><g class=\"points\"/><g class=\"text\"/></g><g class=\"trace scatter trace072583\" style=\"stroke-miterlimit: 2; opacity: 1;\"><g class=\"fills\"/><g class=\"errorbars\"/><g class=\"lines\"><path class=\"js-line\" d=\"M0,163.01L21.68,168.85L43.37,168.68L65.05,167.02L86.74,153.94L108.42,141.68L130.1,126.21L151.79,121.07L173.47,122.56L195.16,122.38\" style=\"vector-effect: non-scaling-stroke; fill: none; stroke: rgb(237, 105, 37); stroke-opacity: 1; stroke-width: 2px; opacity: 1;\"/></g><g class=\"points\"/><g class=\"text\"/></g></g></g><g class=\"overplot\"/><path class=\"xlines-above crisp\" d=\"M0,0\" style=\"fill: none;\"/><path class=\"ylines-above crisp\" d=\"M0,0\" style=\"fill: none;\"/><g class=\"overlines-above\"/><g class=\"xaxislayer-above\"/><g class=\"yaxislayer-above\"><g class=\"y5tick\"><text text-anchor=\"end\" x=\"79\" y=\"4.199999999999999\" transform=\"translate(0,491.6433333333333)\" style=\"font-family: 'Open Sans', verdana, arial, sans-serif; font-size: 12px; fill: rgb(42, 63, 95); fill-opacity: 1; white-space: pre; opacity: 1;\">10k</text></g><g class=\"y5tick\"><text text-anchor=\"end\" x=\"79\" y=\"4.199999999999999\" style=\"font-family: 'Open Sans', verdana, arial, sans-serif; font-size: 12px; fill: rgb(42, 63, 95); fill-opacity: 1; white-space: pre; opacity: 1;\" transform=\"translate(0,449.7933333333333)\">20k</text></g><g class=\"y5tick\"><text text-anchor=\"end\" x=\"79\" y=\"4.199999999999999\" style=\"font-family: 'Open Sans', verdana, arial, sans-serif; font-size: 12px; fill: rgb(42, 63, 95); fill-opacity: 1; white-space: pre; opacity: 1;\" transform=\"translate(0,407.9433333333333)\">30k</text></g><g class=\"y5tick\"><text text-anchor=\"end\" x=\"79\" y=\"4.199999999999999\" style=\"font-family: 'Open Sans', verdana, arial, sans-serif; font-size: 12px; fill: rgb(42, 63, 95); fill-opacity: 1; white-space: pre; opacity: 1;\" transform=\"translate(0,366.0933333333333)\">40k</text></g><g class=\"y5tick\"><text text-anchor=\"end\" x=\"79\" y=\"4.199999999999999\" style=\"font-family: 'Open Sans', verdana, arial, sans-serif; font-size: 12px; fill: rgb(42, 63, 95); fill-opacity: 1; white-space: pre; opacity: 1;\" transform=\"translate(0,324.23333333333335)\">50k</text></g></g><g class=\"overaxes-above\"/></g><g class=\"subplot x6y6\"><g class=\"layer-subplot\"><g class=\"shapelayer\"/><g class=\"imagelayer\"/></g><g class=\"minor-gridlayer\"><g class=\"x6\"/><g class=\"y6\"/></g><g class=\"gridlayer\"><g class=\"x6\"><path class=\"x6grid crisp\" transform=\"translate(425.565,0)\" d=\"M0,321.1333333333333v177.73333333333335\" style=\"stroke: rgb(255, 255, 255); stroke-opacity: 1; stroke-width: 1px;\"/><path class=\"x6grid crisp\" transform=\"translate(533.985,0)\" d=\"M0,321.1333333333333v177.73333333333335\" style=\"stroke: rgb(255, 255, 255); stroke-opacity: 1; stroke-width: 1px;\"/></g><g class=\"y6\"><path class=\"y6grid crisp\" transform=\"translate(0,479.1733333333333)\" d=\"M338.825,0h238.52499999999998\" style=\"stroke: rgb(255, 255, 255); stroke-opacity: 1; stroke-width: 1px;\"/><path class=\"y6grid crisp\" transform=\"translate(0,439.60333333333335)\" d=\"M338.825,0h238.52499999999998\" style=\"stroke: rgb(255, 255, 255); stroke-opacity: 1; stroke-width: 1px;\"/><path class=\"y6grid crisp\" transform=\"translate(0,400.0233333333333)\" d=\"M338.825,0h238.52499999999998\" style=\"stroke: rgb(255, 255, 255); stroke-opacity: 1; stroke-width: 1px;\"/><path class=\"y6grid crisp\" transform=\"translate(0,360.4533333333333)\" d=\"M338.825,0h238.52499999999998\" style=\"stroke: rgb(255, 255, 255); stroke-opacity: 1; stroke-width: 1px;\"/></g></g><g class=\"zerolinelayer\"/><path class=\"xlines-below\"/><path class=\"ylines-below\"/><g class=\"overlines-below\"/><g class=\"xaxislayer-below\"/><g class=\"yaxislayer-below\"/><g class=\"overaxes-below\"/><g class=\"plot\" transform=\"translate(338.825,321.1333333333333)\" clip-path=\"url(#clip68e2c0x6y6plot)\"><g class=\"scatterlayer mlayer\"><g class=\"trace scatter tracedbba76\" style=\"stroke-miterlimit: 2; opacity: 1;\"><g class=\"fills\"/><g class=\"errorbars\"/><g class=\"lines\"><path class=\"js-line\" d=\"M130.1,38.41L151.79,33.78L173.47,31.96L195.16,32.28L216.84,39L238.52,58.87\" style=\"vector-effect: non-scaling-stroke; fill: none; stroke: rgb(0, 0, 4); stroke-opacity: 1; stroke-width: 2px; opacity: 1;\"/></g><g class=\"points\"/><g class=\"text\"/></g><g class=\"trace scatter trace2cb8f2\" style=\"stroke-miterlimit: 2; opacity: 1;\"><g class=\"fills\"/><g class=\"errorbars\"/><g class=\"lines\"><path class=\"js-line\" d=\"M0,75.02L21.68,80.95L43.37,79.84L65.05,75.85L86.74,67.81L108.42,59.38L130.1,49.17L151.79,43.32L173.47,39.79L195.16,39.87L216.84,44.62L238.52,61.56\" style=\"vector-effect: non-scaling-stroke; fill: none; stroke: rgb(27, 12, 65); stroke-opacity: 1; stroke-width: 2px; opacity: 1;\"/></g><g class=\"points\"/><g class=\"text\"/></g><g class=\"trace scatter trace319de7\" style=\"stroke-miterlimit: 2; opacity: 1;\"><g class=\"fills\"/><g class=\"errorbars\"/><g class=\"lines\"><path class=\"js-line\" d=\"M0,70.78L21.68,79.69L43.37,80.08L65.05,71.37L86.74,60.25L108.42,42.13L130.1,30.18L151.79,21.67L173.47,17.24L195.16,12.17L216.84,13.99L238.52,35.88\" style=\"vector-effect: non-scaling-stroke; fill: none; stroke: rgb(74, 12, 107); stroke-opacity: 1; stroke-width: 2px; opacity: 1;\"/></g><g class=\"points\"/><g class=\"text\"/></g><g class=\"trace scatter trace56b56b\" style=\"stroke-miterlimit: 2; opacity: 1;\"><g class=\"fills\"/><g class=\"errorbars\"/><g class=\"lines\"><path class=\"js-line\" d=\"M0,52.93L21.68,60.18L43.37,63.3L65.05,63.22L86.74,49.77L108.42,37.5L130.1,31.05L151.79,24.24L173.47,15.06L195.16,8.89L216.84,22.54L238.52,41.69\" style=\"vector-effect: non-scaling-stroke; fill: none; stroke: rgb(120, 28, 109); stroke-opacity: 1; stroke-width: 2px; opacity: 1;\"/></g><g class=\"points\"/><g class=\"text\"/></g><g class=\"trace scatter tracee9244a\" style=\"stroke-miterlimit: 2; opacity: 1;\"><g class=\"fills\"/><g class=\"errorbars\"/><g class=\"lines\"><path class=\"js-line\" d=\"M0,62.11L21.68,69.67L43.37,64.25L65.05,60.77L86.74,69.67L108.42,85.34L130.1,93.34L151.79,100.34L173.47,104.85L195.16,107.66L216.84,113.24L238.52,123.77\" style=\"vector-effect: non-scaling-stroke; fill: none; stroke: rgb(165, 44, 96); stroke-opacity: 1; stroke-width: 2px; opacity: 1;\"/></g><g class=\"points\"/><g class=\"text\"/></g><g class=\"trace scatter traced1cf34\" style=\"stroke-miterlimit: 2; opacity: 1;\"><g class=\"fills\"/><g class=\"errorbars\"/><g class=\"lines\"><path class=\"js-line\" d=\"M0,137.9L21.68,151.99L43.37,156.58L65.05,159.59L86.74,156.66L108.42,149.34L130.1,139.92L151.79,135.49L173.47,131.88L195.16,129.07L216.84,133.94L238.52,148.94\" style=\"vector-effect: non-scaling-stroke; fill: none; stroke: rgb(207, 68, 70); stroke-opacity: 1; stroke-width: 2px; opacity: 1;\"/></g><g class=\"points\"/><g class=\"text\"/></g><g class=\"trace scatter trace8b1250\" style=\"stroke-miterlimit: 2; opacity: 1;\"><g class=\"fills\"/><g class=\"errorbars\"/><g class=\"lines\"><path class=\"js-line\" d=\"M0,162.2L21.68,166.87L43.37,168.85L65.05,162.16L86.74,148.66L108.42,136.28L130.1,118.07L151.79,106.56L173.47,104.46L195.16,94.96\" style=\"vector-effect: non-scaling-stroke; fill: none; stroke: rgb(237, 105, 37); stroke-opacity: 1; stroke-width: 2px; opacity: 1;\"/></g><g class=\"points\"/><g class=\"text\"/></g></g></g><g class=\"overplot\"/><path class=\"xlines-above crisp\" d=\"M0,0\" style=\"fill: none;\"/><path class=\"ylines-above crisp\" d=\"M0,0\" style=\"fill: none;\"/><g class=\"overlines-above\"/><g class=\"xaxislayer-above\"/><g class=\"yaxislayer-above\"/><g class=\"overaxes-above\"/></g><g class=\"subplot x7y7\"><g class=\"layer-subplot\"><g class=\"shapelayer\"/><g class=\"imagelayer\"/></g><g class=\"minor-gridlayer\"><g class=\"x7\"/><g class=\"y7\"/></g><g class=\"gridlayer\"><g class=\"x7\"><path class=\"x7grid crisp\" transform=\"translate(684.39,0)\" d=\"M0,321.1333333333333v177.73333333333335\" style=\"stroke: rgb(255, 255, 255); stroke-opacity: 1; stroke-width: 1px;\"/><path class=\"x7grid crisp\" transform=\"translate(792.81,0)\" d=\"M0,321.1333333333333v177.73333333333335\" style=\"stroke: rgb(255, 255, 255); stroke-opacity: 1; stroke-width: 1px;\"/></g><g class=\"y7\"><path class=\"y7grid crisp\" transform=\"translate(0,482.4533333333333)\" d=\"M597.65,0h238.52499999999998\" style=\"stroke: rgb(255, 255, 255); stroke-opacity: 1; stroke-width: 1px;\"/><path class=\"y7grid crisp\" transform=\"translate(0,448.5433333333333)\" d=\"M597.65,0h238.52499999999998\" style=\"stroke: rgb(255, 255, 255); stroke-opacity: 1; stroke-width: 1px;\"/><path class=\"y7grid crisp\" transform=\"translate(0,414.62333333333333)\" d=\"M597.65,0h238.52499999999998\" style=\"stroke: rgb(255, 255, 255); stroke-opacity: 1; stroke-width: 1px;\"/><path class=\"y7grid crisp\" transform=\"translate(0,380.7133333333333)\" d=\"M597.65,0h238.52499999999998\" style=\"stroke: rgb(255, 255, 255); stroke-opacity: 1; stroke-width: 1px;\"/><path class=\"y7grid crisp\" transform=\"translate(0,346.79333333333335)\" d=\"M597.65,0h238.52499999999998\" style=\"stroke: rgb(255, 255, 255); stroke-opacity: 1; stroke-width: 1px;\"/></g></g><g class=\"zerolinelayer\"/><path class=\"xlines-below\"/><path class=\"ylines-below\"/><g class=\"overlines-below\"/><g class=\"xaxislayer-below\"/><g class=\"yaxislayer-below\"/><g class=\"overaxes-below\"/><g class=\"plot\" transform=\"translate(597.65,321.1333333333333)\" clip-path=\"url(#clip68e2c0x7y7plot)\"><g class=\"scatterlayer mlayer\"><g class=\"trace scatter tracebc8a1d\" style=\"stroke-miterlimit: 2; opacity: 1;\"><g class=\"fills\"/><g class=\"errorbars\"/><g class=\"lines\"><path class=\"js-line\" d=\"M130.1,8.89L173.47,17.24L195.16,22.54L216.84,38.39L238.52,58.78\" style=\"vector-effect: non-scaling-stroke; fill: none; stroke: rgb(0, 0, 4); stroke-opacity: 1; stroke-width: 2px; opacity: 1;\"/></g><g class=\"points\"/><g class=\"text\"/></g><g class=\"trace scatter trace696091\" style=\"stroke-miterlimit: 2; opacity: 1;\"><g class=\"fills\"/><g class=\"errorbars\"/><g class=\"lines\"><path class=\"js-line\" d=\"M0,76.22L21.68,73.2L43.37,69.06L65.05,63.21L86.74,47.15L108.42,38.97L130.1,36.12L151.79,40.13L173.47,40.44L195.16,43.89L216.84,55.86L238.52,76.89\" style=\"vector-effect: non-scaling-stroke; fill: none; stroke: rgb(27, 12, 65); stroke-opacity: 1; stroke-width: 2px; opacity: 1;\"/></g><g class=\"points\"/><g class=\"text\"/></g><g class=\"trace scatter trace2b2262\" style=\"stroke-miterlimit: 2; opacity: 1;\"><g class=\"fills\"/><g class=\"errorbars\"/><g class=\"lines\"><path class=\"js-line\" d=\"M0,92.94L21.68,89.71L43.37,84.8L65.05,77.27L86.74,60.99L108.42,46.38L130.1,40.83L151.79,40.76L173.47,39.24L195.16,39.1L216.84,48.03L238.52,68.11\" style=\"vector-effect: non-scaling-stroke; fill: none; stroke: rgb(74, 12, 107); stroke-opacity: 1; stroke-width: 2px; opacity: 1;\"/></g><g class=\"points\"/><g class=\"text\"/></g><g class=\"trace scatter traced1f13b\" style=\"stroke-miterlimit: 2; opacity: 1;\"><g class=\"fills\"/><g class=\"errorbars\"/><g class=\"lines\"><path class=\"js-line\" d=\"M0,85.18L21.68,83.83L43.37,76.9L65.05,68.62L86.74,51.66L108.42,42.26L130.1,41.52L173.47,40.65L195.16,41.72L216.84,55.24L238.52,78.48\" style=\"vector-effect: non-scaling-stroke; fill: none; stroke: rgb(120, 28, 109); stroke-opacity: 1; stroke-width: 2px; opacity: 1;\"/></g><g class=\"points\"/><g class=\"text\"/></g><g class=\"trace scatter trace71d5e7\" style=\"stroke-miterlimit: 2; opacity: 1;\"><g class=\"fills\"/><g class=\"errorbars\"/><g class=\"lines\"><path class=\"js-line\" d=\"M0,94.78L21.68,93.42L43.37,90.13L65.05,100.58L86.74,104.77L108.42,95.94L130.1,84.04L151.79,84.91L173.47,83.89L195.16,81.82L216.84,92.06L238.52,107.1\" style=\"vector-effect: non-scaling-stroke; fill: none; stroke: rgb(165, 44, 96); stroke-opacity: 1; stroke-width: 2px; opacity: 1;\"/></g><g class=\"points\"/><g class=\"text\"/></g><g class=\"trace scatter trace4fb910\" style=\"stroke-miterlimit: 2; opacity: 1;\"><g class=\"fills\"/><g class=\"errorbars\"/><g class=\"lines\"><path class=\"js-line\" d=\"M0,127.63L21.68,134.45L43.37,138.8L65.05,135.75L86.74,128.73L108.42,121.8L130.1,118.71L151.79,120.16L173.47,123.42L195.16,123.39L216.84,134.63L238.52,151.09\" style=\"vector-effect: non-scaling-stroke; fill: none; stroke: rgb(207, 68, 70); stroke-opacity: 1; stroke-width: 2px; opacity: 1;\"/></g><g class=\"points\"/><g class=\"text\"/></g><g class=\"trace scatter traced14992\" style=\"stroke-miterlimit: 2; opacity: 1;\"><g class=\"fills\"/><g class=\"errorbars\"/><g class=\"lines\"><path class=\"js-line\" d=\"M0,166.14L21.68,168.85L43.37,165.15L65.05,160.46L86.74,148.38L108.42,138.34L130.1,129.95L173.47,129.68L195.16,127.77\" style=\"vector-effect: non-scaling-stroke; fill: none; stroke: rgb(237, 105, 37); stroke-opacity: 1; stroke-width: 2px; opacity: 1;\"/></g><g class=\"points\"/><g class=\"text\"/></g></g></g><g class=\"overplot\"/><path class=\"xlines-above crisp\" d=\"M0,0\" style=\"fill: none;\"/><path class=\"ylines-above crisp\" d=\"M0,0\" style=\"fill: none;\"/><g class=\"overlines-above\"/><g class=\"xaxislayer-above\"/><g class=\"yaxislayer-above\"/><g class=\"overaxes-above\"/></g><g class=\"subplot x8y8\"><g class=\"layer-subplot\"><g class=\"shapelayer\"/><g class=\"imagelayer\"/></g><g class=\"minor-gridlayer\"><g class=\"x8\"/><g class=\"y8\"/></g><g class=\"gridlayer\"><g class=\"x8\"><path class=\"x8grid crisp\" transform=\"translate(943.2149999999999,0)\" d=\"M0,321.1333333333333v177.73333333333335\" style=\"stroke: rgb(255, 255, 255); stroke-opacity: 1; stroke-width: 1px;\"/><path class=\"x8grid crisp\" transform=\"translate(1051.635,0)\" d=\"M0,321.1333333333333v177.73333333333335\" style=\"stroke: rgb(255, 255, 255); stroke-opacity: 1; stroke-width: 1px;\"/></g><g class=\"y8\"><path class=\"y8grid crisp\" transform=\"translate(0,479.21333333333337)\" d=\"M856.4749999999999,0h238.52499999999998\" style=\"stroke: rgb(255, 255, 255); stroke-opacity: 1; stroke-width: 1px;\"/><path class=\"y8grid crisp\" transform=\"translate(0,420.6433333333333)\" d=\"M856.4749999999999,0h238.52499999999998\" style=\"stroke: rgb(255, 255, 255); stroke-opacity: 1; stroke-width: 1px;\"/><path class=\"y8grid crisp\" transform=\"translate(0,362.0833333333333)\" d=\"M856.4749999999999,0h238.52499999999998\" style=\"stroke: rgb(255, 255, 255); stroke-opacity: 1; stroke-width: 1px;\"/></g></g><g class=\"zerolinelayer\"/><path class=\"xlines-below\"/><path class=\"ylines-below\"/><g class=\"overlines-below\"/><g class=\"xaxislayer-below\"/><g class=\"yaxislayer-below\"/><g class=\"overaxes-below\"/><g class=\"plot\" transform=\"translate(856.4749999999999,321.1333333333333)\" clip-path=\"url(#clip68e2c0x8y8plot)\"><g class=\"scatterlayer mlayer\"><g class=\"trace scatter trace197acc\" style=\"stroke-miterlimit: 2; opacity: 1;\"><g class=\"fills\"/><g class=\"errorbars\"/><g class=\"lines\"><path class=\"js-line\" d=\"M130.1,14.38L151.79,8.89L173.47,10.1L195.16,21.67L216.84,42.48L238.52,64.5\" style=\"vector-effect: non-scaling-stroke; fill: none; stroke: rgb(0, 0, 4); stroke-opacity: 1; stroke-width: 2px; opacity: 1;\"/></g><g class=\"points\"/><g class=\"text\"/></g><g class=\"trace scatter tracec14c82\" style=\"stroke-miterlimit: 2; opacity: 1;\"><g class=\"fills\"/><g class=\"errorbars\"/><g class=\"lines\"><path class=\"js-line\" d=\"M0,83.81L21.68,87.73L43.37,84.12L65.05,75.97L86.74,57.23L108.42,41.83L130.1,29.49L151.79,23.86L173.47,24.92L195.16,33.23L216.84,52.62L238.52,73.6\" style=\"vector-effect: non-scaling-stroke; fill: none; stroke: rgb(27, 12, 65); stroke-opacity: 1; stroke-width: 2px; opacity: 1;\"/></g><g class=\"points\"/><g class=\"text\"/></g><g class=\"trace scatter trace0719a9\" style=\"stroke-miterlimit: 2; opacity: 1;\"><g class=\"fills\"/><g class=\"errorbars\"/><g class=\"lines\"><path class=\"js-line\" d=\"M0,88.34L21.68,92.69L43.37,84.81L65.05,73.77L86.74,59.28L108.42,40.76L130.1,26.08L151.79,15.67L173.47,13.5L195.16,19.73L216.84,33.33L238.52,53.97\" style=\"vector-effect: non-scaling-stroke; fill: none; stroke: rgb(74, 12, 107); stroke-opacity: 1; stroke-width: 2px; opacity: 1;\"/></g><g class=\"points\"/><g class=\"text\"/></g><g class=\"trace scatter trace7fe7dc\" style=\"stroke-miterlimit: 2; opacity: 1;\"><g class=\"fills\"/><g class=\"errorbars\"/><g class=\"lines\"><path class=\"js-line\" d=\"M0,70.18L21.68,73.22L43.37,69.6L65.05,61.46L86.74,49.09L108.42,26.49L130.1,19.38L151.79,22.09L173.47,27.62L195.16,35L216.84,57.79L238.52,83.36\" style=\"vector-effect: non-scaling-stroke; fill: none; stroke: rgb(120, 28, 109); stroke-opacity: 1; stroke-width: 2px; opacity: 1;\"/></g><g class=\"points\"/><g class=\"text\"/></g><g class=\"trace scatter trace92d7ad\" style=\"stroke-miterlimit: 2; opacity: 1;\"><g class=\"fills\"/><g class=\"errorbars\"/><g class=\"lines\"><path class=\"js-line\" d=\"M0,99.71L21.68,106.71L43.37,100.47L65.05,84.44L86.74,87.1L108.42,98.37L130.1,106.82L173.47,124.97L195.16,129.79L216.84,141.89L238.52,154.95\" style=\"vector-effect: non-scaling-stroke; fill: none; stroke: rgb(165, 44, 96); stroke-opacity: 1; stroke-width: 2px; opacity: 1;\"/></g><g class=\"points\"/><g class=\"text\"/></g><g class=\"trace scatter traceec1554\" style=\"stroke-miterlimit: 2; opacity: 1;\"><g class=\"fills\"/><g class=\"errorbars\"/><g class=\"lines\"><path class=\"js-line\" d=\"M0,165L21.68,168.66L43.37,166.06L65.05,162.58L86.74,156.82L130.1,136.68L151.79,131.95L173.47,127.13L195.16,127.4L238.52,156.2\" style=\"vector-effect: non-scaling-stroke; fill: none; stroke: rgb(207, 68, 70); stroke-opacity: 1; stroke-width: 2px; opacity: 1;\"/></g><g class=\"points\"/><g class=\"text\"/></g><g class=\"trace scatter trace783dc1\" style=\"stroke-miterlimit: 2; opacity: 1;\"><g class=\"fills\"/><g class=\"errorbars\"/><g class=\"lines\"><path class=\"js-line\" d=\"M0,168.69L21.68,168.85L43.37,164.63L65.05,157.36L86.74,136.75L108.42,117.62L130.1,92.32L151.79,88.2L173.47,88L195.16,87.84\" style=\"vector-effect: non-scaling-stroke; fill: none; stroke: rgb(237, 105, 37); stroke-opacity: 1; stroke-width: 2px; opacity: 1;\"/></g><g class=\"points\"/><g class=\"text\"/></g></g></g><g class=\"overplot\"/><path class=\"xlines-above crisp\" d=\"M0,0\" style=\"fill: none;\"/><path class=\"ylines-above crisp\" d=\"M0,0\" style=\"fill: none;\"/><g class=\"overlines-above\"/><g class=\"xaxislayer-above\"/><g class=\"yaxislayer-above\"/><g class=\"overaxes-above\"/></g><g class=\"subplot x9y9\"><g class=\"layer-subplot\"><g class=\"shapelayer\"/><g class=\"imagelayer\"/></g><g class=\"minor-gridlayer\"><g class=\"x9\"/><g class=\"y9\"/></g><g class=\"gridlayer\"><g class=\"x9\"><path class=\"x9grid crisp\" transform=\"translate(166.74,0)\" d=\"M0,100.00000000000007v177.73333333333332\" style=\"stroke: rgb(255, 255, 255); stroke-opacity: 1; stroke-width: 1px;\"/><path class=\"x9grid crisp\" transform=\"translate(275.15999999999997,0)\" d=\"M0,100.00000000000007v177.73333333333332\" style=\"stroke: rgb(255, 255, 255); stroke-opacity: 1; stroke-width: 1px;\"/></g><g class=\"y9\"><path class=\"y9grid crisp\" transform=\"translate(0,275.87000000000006)\" d=\"M80,0h238.52499999999998\" style=\"stroke: rgb(255, 255, 255); stroke-opacity: 1; stroke-width: 1px;\"/><path class=\"y9grid crisp\" transform=\"translate(0,226.0300000000001)\" d=\"M80,0h238.52499999999998\" style=\"stroke: rgb(255, 255, 255); stroke-opacity: 1; stroke-width: 1px;\"/><path class=\"y9grid crisp\" transform=\"translate(0,176.19000000000005)\" d=\"M80,0h238.52499999999998\" style=\"stroke: rgb(255, 255, 255); stroke-opacity: 1; stroke-width: 1px;\"/><path class=\"y9grid crisp\" transform=\"translate(0,126.35000000000008)\" d=\"M80,0h238.52499999999998\" style=\"stroke: rgb(255, 255, 255); stroke-opacity: 1; stroke-width: 1px;\"/></g></g><g class=\"zerolinelayer\"/><path class=\"xlines-below\"/><path class=\"ylines-below\"/><g class=\"overlines-below\"/><g class=\"xaxislayer-below\"/><g class=\"yaxislayer-below\"/><g class=\"overaxes-below\"/><g class=\"plot\" transform=\"translate(80,100.00000000000007)\" clip-path=\"url(#clip68e2c0x9y9plot)\"><g class=\"scatterlayer mlayer\"><g class=\"trace scatter trace9fedc3\" style=\"stroke-miterlimit: 2; opacity: 1;\"><g class=\"fills\"/><g class=\"errorbars\"/><g class=\"lines\"><path class=\"js-line\" d=\"M130.1,16.57L151.79,15.78L173.47,19.39L195.16,26.45L216.84,40.1L238.52,66.63\" style=\"vector-effect: non-scaling-stroke; fill: none; stroke: rgb(0, 0, 4); stroke-opacity: 1; stroke-width: 2px; opacity: 1;\"/></g><g class=\"points\"/><g class=\"text\"/></g><g class=\"trace scatter tracea81ad7\" style=\"stroke-miterlimit: 2; opacity: 1;\"><g class=\"fills\"/><g class=\"errorbars\"/><g class=\"lines\"><path class=\"js-line\" d=\"M0,79.99L21.68,81.1L43.37,78.41L65.05,71.02L86.74,60.66L130.1,47.04L151.79,47.43L173.47,49.32L195.16,53.55L216.84,64.57L238.52,86.27\" style=\"vector-effect: non-scaling-stroke; fill: none; stroke: rgb(27, 12, 65); stroke-opacity: 1; stroke-width: 2px; opacity: 1;\"/></g><g class=\"points\"/><g class=\"text\"/></g><g class=\"trace scatter trace1c48a3\" style=\"stroke-miterlimit: 2; opacity: 1;\"><g class=\"fills\"/><g class=\"errorbars\"/><g class=\"lines\"><path class=\"js-line\" d=\"M0,95.69L43.37,81.49L65.05,69.4L108.42,41.72L130.1,29.26L173.47,11.71L195.16,8.89L216.84,11.89L238.52,37.74\" style=\"vector-effect: non-scaling-stroke; fill: none; stroke: rgb(74, 12, 107); stroke-opacity: 1; stroke-width: 2px; opacity: 1;\"/></g><g class=\"points\"/><g class=\"text\"/></g><g class=\"trace scatter tracef15f1b\" style=\"stroke-miterlimit: 2; opacity: 1;\"><g class=\"fills\"/><g class=\"errorbars\"/><g class=\"lines\"><path class=\"js-line\" d=\"M0,51.41L21.68,50.07L43.37,46.74L65.05,42.2L86.74,28.35L130.1,18.8L151.79,21.8L195.16,32.51L216.84,49.57L238.52,81.56\" style=\"vector-effect: non-scaling-stroke; fill: none; stroke: rgb(120, 28, 109); stroke-opacity: 1; stroke-width: 2px; opacity: 1;\"/></g><g class=\"points\"/><g class=\"text\"/></g><g class=\"trace scatter trace13cff1\" style=\"stroke-miterlimit: 2; opacity: 1;\"><g class=\"fills\"/><g class=\"errorbars\"/><g class=\"lines\"><path class=\"js-line\" d=\"M0,96.24L21.68,97.17L43.37,94.59L65.05,88.65L86.74,81.3L108.42,89L130.1,100.23L151.79,108.12L173.47,108.24L195.16,106.3L216.84,114.45L238.52,133.58\" style=\"vector-effect: non-scaling-stroke; fill: none; stroke: rgb(165, 44, 96); stroke-opacity: 1; stroke-width: 2px; opacity: 1;\"/></g><g class=\"points\"/><g class=\"text\"/></g><g class=\"trace scatter trace63eda7\" style=\"stroke-miterlimit: 2; opacity: 1;\"><g class=\"fills\"/><g class=\"errorbars\"/><g class=\"lines\"><path class=\"js-line\" d=\"M0,148.16L21.68,152.12L43.37,152.1L86.74,145.43L108.42,138.5L130.1,127.88L151.79,125.33L173.47,125.62L195.16,127.93L216.84,141.61L238.52,159.1\" style=\"vector-effect: non-scaling-stroke; fill: none; stroke: rgb(207, 68, 70); stroke-opacity: 1; stroke-width: 2px; opacity: 1;\"/></g><g class=\"points\"/><g class=\"text\"/></g><g class=\"trace scatter traced3e306\" style=\"stroke-miterlimit: 2; opacity: 1;\"><g class=\"fills\"/><g class=\"errorbars\"/><g class=\"lines\"><path class=\"js-line\" d=\"M0,168.85L21.68,166.31L43.37,159.75L65.05,151.87L86.74,124.6L108.42,103.51L130.1,77.8L151.79,75.86L173.47,80.42L195.16,79.65\" style=\"vector-effect: non-scaling-stroke; fill: none; stroke: rgb(237, 105, 37); stroke-opacity: 1; stroke-width: 2px; opacity: 1;\"/></g><g class=\"points\"/><g class=\"text\"/></g></g></g><g class=\"overplot\"/><path class=\"xlines-above crisp\" d=\"M0,0\" style=\"fill: none;\"/><path class=\"ylines-above crisp\" d=\"M0,0\" style=\"fill: none;\"/><g class=\"overlines-above\"/><g class=\"xaxislayer-above\"/><g class=\"yaxislayer-above\"><g class=\"y9tick\"><text text-anchor=\"end\" x=\"79\" y=\"4.199999999999999\" transform=\"translate(0,275.87000000000006)\" style=\"font-family: 'Open Sans', verdana, arial, sans-serif; font-size: 12px; fill: rgb(42, 63, 95); fill-opacity: 1; white-space: pre; opacity: 1;\">20k</text></g><g class=\"y9tick\"><text text-anchor=\"end\" x=\"79\" y=\"4.199999999999999\" style=\"font-family: 'Open Sans', verdana, arial, sans-serif; font-size: 12px; fill: rgb(42, 63, 95); fill-opacity: 1; white-space: pre; opacity: 1;\" transform=\"translate(0,226.0300000000001)\">40k</text></g><g class=\"y9tick\"><text text-anchor=\"end\" x=\"79\" y=\"4.199999999999999\" style=\"font-family: 'Open Sans', verdana, arial, sans-serif; font-size: 12px; fill: rgb(42, 63, 95); fill-opacity: 1; white-space: pre; opacity: 1;\" transform=\"translate(0,176.19000000000005)\">60k</text></g><g class=\"y9tick\"><text text-anchor=\"end\" x=\"79\" y=\"4.199999999999999\" style=\"font-family: 'Open Sans', verdana, arial, sans-serif; font-size: 12px; fill: rgb(42, 63, 95); fill-opacity: 1; white-space: pre; opacity: 1;\" transform=\"translate(0,126.35000000000008)\">80k</text></g></g><g class=\"overaxes-above\"/></g><g class=\"subplot x10y10\"><g class=\"layer-subplot\"><g class=\"shapelayer\"/><g class=\"imagelayer\"/></g><g class=\"minor-gridlayer\"><g class=\"x10\"/><g class=\"y10\"/></g><g class=\"gridlayer\"><g class=\"x10\"><path class=\"x10grid crisp\" transform=\"translate(425.565,0)\" d=\"M0,100.00000000000007v177.73333333333332\" style=\"stroke: rgb(255, 255, 255); stroke-opacity: 1; stroke-width: 1px;\"/><path class=\"x10grid crisp\" transform=\"translate(533.985,0)\" d=\"M0,100.00000000000007v177.73333333333332\" style=\"stroke: rgb(255, 255, 255); stroke-opacity: 1; stroke-width: 1px;\"/></g><g class=\"y10\"><path class=\"y10grid crisp\" transform=\"translate(0,234.7800000000001)\" d=\"M338.825,0h238.52499999999998\" style=\"stroke: rgb(255, 255, 255); stroke-opacity: 1; stroke-width: 1px;\"/><path class=\"y10grid crisp\" transform=\"translate(0,192.75000000000006)\" d=\"M338.825,0h238.52499999999998\" style=\"stroke: rgb(255, 255, 255); stroke-opacity: 1; stroke-width: 1px;\"/><path class=\"y10grid crisp\" transform=\"translate(0,150.72000000000008)\" d=\"M338.825,0h238.52499999999998\" style=\"stroke: rgb(255, 255, 255); stroke-opacity: 1; stroke-width: 1px;\"/><path class=\"y10grid crisp\" transform=\"translate(0,108.68000000000006)\" d=\"M338.825,0h238.52499999999998\" style=\"stroke: rgb(255, 255, 255); stroke-opacity: 1; stroke-width: 1px;\"/></g></g><g class=\"zerolinelayer\"/><path class=\"xlines-below\"/><path class=\"ylines-below\"/><g class=\"overlines-below\"/><g class=\"xaxislayer-below\"/><g class=\"yaxislayer-below\"/><g class=\"overaxes-below\"/><g class=\"plot\" transform=\"translate(338.825,100.00000000000007)\" clip-path=\"url(#clip68e2c0x10y10plot)\"><g class=\"scatterlayer mlayer\"><g class=\"trace scatter tracecc8326\" style=\"stroke-miterlimit: 2; opacity: 1;\"><g class=\"fills\"/><g class=\"errorbars\"/><g class=\"lines\"><path class=\"js-line\" d=\"M130.1,11.37L151.79,10.05L173.47,13.34L195.16,25.14L216.84,46.42L238.52,69.07\" style=\"vector-effect: non-scaling-stroke; fill: none; stroke: rgb(0, 0, 4); stroke-opacity: 1; stroke-width: 2px; opacity: 1;\"/></g><g class=\"points\"/><g class=\"text\"/></g><g class=\"trace scatter trace2f5395\" style=\"stroke-miterlimit: 2; opacity: 1;\"><g class=\"fills\"/><g class=\"errorbars\"/><g class=\"lines\"><path class=\"js-line\" d=\"M0,82.42L21.68,85.47L43.37,80.87L65.05,72.76L86.74,60.76L108.42,44.25L130.1,28.99L151.79,26.35L173.47,30.8L195.16,43.07L216.84,62.28L238.52,85.16\" style=\"vector-effect: non-scaling-stroke; fill: none; stroke: rgb(27, 12, 65); stroke-opacity: 1; stroke-width: 2px; opacity: 1;\"/></g><g class=\"points\"/><g class=\"text\"/></g><g class=\"trace scatter tracecf5460\" style=\"stroke-miterlimit: 2; opacity: 1;\"><g class=\"fills\"/><g class=\"errorbars\"/><g class=\"lines\"><path class=\"js-line\" d=\"M0,96.27L21.68,96.81L43.37,90.8L65.05,80.49L86.74,68.39L108.42,47.51L130.1,33.18L151.79,26.35L173.47,22.44L195.16,25.31L216.84,35.48L238.52,57.99\" style=\"vector-effect: non-scaling-stroke; fill: none; stroke: rgb(74, 12, 107); stroke-opacity: 1; stroke-width: 2px; opacity: 1;\"/></g><g class=\"points\"/><g class=\"text\"/></g><g class=\"trace scatter tracec2c858\" style=\"stroke-miterlimit: 2; opacity: 1;\"><g class=\"fills\"/><g class=\"errorbars\"/><g class=\"lines\"><path class=\"js-line\" d=\"M0,72.18L21.68,72.97L43.37,67.8L65.05,59.86L86.74,44.26L108.42,23.77L130.1,8.89L151.79,10.94L173.47,15.44L195.16,20.18L216.84,41.96L238.52,60.35\" style=\"vector-effect: non-scaling-stroke; fill: none; stroke: rgb(120, 28, 109); stroke-opacity: 1; stroke-width: 2px; opacity: 1;\"/></g><g class=\"points\"/><g class=\"text\"/></g><g class=\"trace scatter tracedc0fdb\" style=\"stroke-miterlimit: 2; opacity: 1;\"><g class=\"fills\"/><g class=\"errorbars\"/><g class=\"lines\"><path class=\"js-line\" d=\"M0,90.66L21.68,98.08L43.37,89.27L65.05,80.8L86.74,65.73L108.42,57.18L130.1,64.08L151.79,72.98L173.47,84.63L195.16,98.21L216.84,117.18L238.52,133.77\" style=\"vector-effect: non-scaling-stroke; fill: none; stroke: rgb(165, 44, 96); stroke-opacity: 1; stroke-width: 2px; opacity: 1;\"/></g><g class=\"points\"/><g class=\"text\"/></g><g class=\"trace scatter trace3655e9\" style=\"stroke-miterlimit: 2; opacity: 1;\"><g class=\"fills\"/><g class=\"errorbars\"/><g class=\"lines\"><path class=\"js-line\" d=\"M0,146.55L21.68,151.72L43.37,152.73L65.05,153.54L86.74,150.22L130.1,125.3L151.79,121.49L173.47,121.97L195.16,127.52L216.84,143.58L238.52,146.94\" style=\"vector-effect: non-scaling-stroke; fill: none; stroke: rgb(207, 68, 70); stroke-opacity: 1; stroke-width: 2px; opacity: 1;\"/></g><g class=\"points\"/><g class=\"text\"/></g><g class=\"trace scatter trace57d750\" style=\"stroke-miterlimit: 2; opacity: 1;\"><g class=\"fills\"/><g class=\"errorbars\"/><g class=\"lines\"><path class=\"js-line\" d=\"M0,168.85L21.68,168.73L43.37,164.53L65.05,156.37L86.74,131.71L108.42,106.04L130.1,74.42L151.79,66.85L173.47,67.57L195.16,68.18\" style=\"vector-effect: non-scaling-stroke; fill: none; stroke: rgb(237, 105, 37); stroke-opacity: 1; stroke-width: 2px; opacity: 1;\"/></g><g class=\"points\"/><g class=\"text\"/></g></g></g><g class=\"overplot\"/><path class=\"xlines-above crisp\" d=\"M0,0\" style=\"fill: none;\"/><path class=\"ylines-above crisp\" d=\"M0,0\" style=\"fill: none;\"/><g class=\"overlines-above\"/><g class=\"xaxislayer-above\"/><g class=\"yaxislayer-above\"/><g class=\"overaxes-above\"/></g><g class=\"subplot x11y11\"><g class=\"layer-subplot\"><g class=\"shapelayer\"/><g class=\"imagelayer\"/></g><g class=\"minor-gridlayer\"><g class=\"x11\"/><g class=\"y11\"/></g><g class=\"gridlayer\"><g class=\"x11\"><path class=\"x11grid crisp\" transform=\"translate(684.39,0)\" d=\"M0,100.00000000000007v177.73333333333332\" style=\"stroke: rgb(255, 255, 255); stroke-opacity: 1; stroke-width: 1px;\"/><path class=\"x11grid crisp\" transform=\"translate(792.81,0)\" d=\"M0,100.00000000000007v177.73333333333332\" style=\"stroke: rgb(255, 255, 255); stroke-opacity: 1; stroke-width: 1px;\"/></g><g class=\"y11\"><path class=\"y11grid crisp\" transform=\"translate(0,216.82000000000005)\" d=\"M597.65,0h238.52499999999998\" style=\"stroke: rgb(255, 255, 255); stroke-opacity: 1; stroke-width: 1px;\"/><path class=\"y11grid crisp\" transform=\"translate(0,141.49000000000007)\" d=\"M597.65,0h238.52499999999998\" style=\"stroke: rgb(255, 255, 255); stroke-opacity: 1; stroke-width: 1px;\"/></g></g><g class=\"zerolinelayer\"/><path class=\"xlines-below\"/><path class=\"ylines-below\"/><g class=\"overlines-below\"/><g class=\"xaxislayer-below\"/><g class=\"yaxislayer-below\"/><g class=\"overaxes-below\"/><g class=\"plot\" transform=\"translate(597.65,100.00000000000007)\" clip-path=\"url(#clip68e2c0x11y11plot)\"><g class=\"scatterlayer mlayer\"><g class=\"trace scatter trace9eec20\" style=\"stroke-miterlimit: 2; opacity: 1;\"><g class=\"fills\"/><g class=\"errorbars\"/><g class=\"lines\"><path class=\"js-line\" d=\"M130.1,11.99L151.79,8.89L173.47,12.97L195.16,25.17L216.84,42.97L238.52,57.72\" style=\"vector-effect: non-scaling-stroke; fill: none; stroke: rgb(0, 0, 4); stroke-opacity: 1; stroke-width: 2px; opacity: 1;\"/></g><g class=\"points\"/><g class=\"text\"/></g><g class=\"trace scatter tracea6d6f1\" style=\"stroke-miterlimit: 2; opacity: 1;\"><g class=\"fills\"/><g class=\"errorbars\"/><g class=\"lines\"><path class=\"js-line\" d=\"M0,76.07L21.68,80.15L43.37,79.65L65.05,71.98L86.74,61.45L108.42,48.53L130.1,38.55L151.79,33.88L173.47,36.11L195.16,44.04L216.84,60.61L238.52,75.18\" style=\"vector-effect: non-scaling-stroke; fill: none; stroke: rgb(27, 12, 65); stroke-opacity: 1; stroke-width: 2px; opacity: 1;\"/></g><g class=\"points\"/><g class=\"text\"/></g><g class=\"trace scatter trace99117e\" style=\"stroke-miterlimit: 2; opacity: 1;\"><g class=\"fills\"/><g class=\"errorbars\"/><g class=\"lines\"><path class=\"js-line\" d=\"M0,90.74L21.68,96.96L43.37,96.26L65.05,92.19L86.74,83.71L108.42,70.81L130.1,64.35L151.79,62.37L173.47,61.71L195.16,64.66L216.84,73.33L238.52,85.89\" style=\"vector-effect: non-scaling-stroke; fill: none; stroke: rgb(74, 12, 107); stroke-opacity: 1; stroke-width: 2px; opacity: 1;\"/></g><g class=\"points\"/><g class=\"text\"/></g><g class=\"trace scatter trace92d433\" style=\"stroke-miterlimit: 2; opacity: 1;\"><g class=\"fills\"/><g class=\"errorbars\"/><g class=\"lines\"><path class=\"js-line\" d=\"M0,99.84L21.68,103.46L43.37,102.18L65.05,99.15L86.74,93.06L108.42,82.59L130.1,74.64L151.79,74.52L173.47,75.75L195.16,77.71L216.84,88.93L238.52,100.2\" style=\"vector-effect: non-scaling-stroke; fill: none; stroke: rgb(120, 28, 109); stroke-opacity: 1; stroke-width: 2px; opacity: 1;\"/></g><g class=\"points\"/><g class=\"text\"/></g><g class=\"trace scatter tracef95e75\" style=\"stroke-miterlimit: 2; opacity: 1;\"><g class=\"fills\"/><g class=\"errorbars\"/><g class=\"lines\"><path class=\"js-line\" d=\"M0,111.82L21.68,118.77L43.37,118.15L65.05,105.75L86.74,103.94L108.42,110.27L130.1,120.08L151.79,132.16L173.47,140.87L195.16,147.23L216.84,156.27L238.52,161.78\" style=\"vector-effect: non-scaling-stroke; fill: none; stroke: rgb(165, 44, 96); stroke-opacity: 1; stroke-width: 2px; opacity: 1;\"/></g><g class=\"points\"/><g class=\"text\"/></g><g class=\"trace scatter trace2c8198\" style=\"stroke-miterlimit: 2; opacity: 1;\"><g class=\"fills\"/><g class=\"errorbars\"/><g class=\"lines\"><path class=\"js-line\" d=\"M0,167.36L21.68,168.85L43.37,166.16L65.05,162.46L86.74,156.37L108.42,145.66L130.1,132.85L151.79,121.85L173.47,117.68L195.16,121.25L216.84,133.56L238.52,144.68\" style=\"vector-effect: non-scaling-stroke; fill: none; stroke: rgb(207, 68, 70); stroke-opacity: 1; stroke-width: 2px; opacity: 1;\"/></g><g class=\"points\"/><g class=\"text\"/></g><g class=\"trace scatter trace8b0602\" style=\"stroke-miterlimit: 2; opacity: 1;\"><g class=\"fills\"/><g class=\"errorbars\"/><g class=\"lines\"><path class=\"js-line\" d=\"M0,157.08L21.68,161.1L43.37,157.44L65.05,147.71L86.74,124.48L108.42,95.11L130.1,67.16L151.79,58.5L173.47,59.24L195.16,62.03\" style=\"vector-effect: non-scaling-stroke; fill: none; stroke: rgb(237, 105, 37); stroke-opacity: 1; stroke-width: 2px; opacity: 1;\"/></g><g class=\"points\"/><g class=\"text\"/></g></g></g><g class=\"overplot\"/><path class=\"xlines-above crisp\" d=\"M0,0\" style=\"fill: none;\"/><path class=\"ylines-above crisp\" d=\"M0,0\" style=\"fill: none;\"/><g class=\"overlines-above\"/><g class=\"xaxislayer-above\"/><g class=\"yaxislayer-above\"/><g class=\"overaxes-above\"/></g><g class=\"subplot x12y12\"><g class=\"layer-subplot\"><g class=\"shapelayer\"/><g class=\"imagelayer\"/></g><g class=\"minor-gridlayer\"><g class=\"x12\"/><g class=\"y12\"/></g><g class=\"gridlayer\"><g class=\"x12\"><path class=\"x12grid crisp\" transform=\"translate(943.2149999999999,0)\" d=\"M0,100.00000000000007v177.73333333333332\" style=\"stroke: rgb(255, 255, 255); stroke-opacity: 1; stroke-width: 1px;\"/><path class=\"x12grid crisp\" transform=\"translate(1051.635,0)\" d=\"M0,100.00000000000007v177.73333333333332\" style=\"stroke: rgb(255, 255, 255); stroke-opacity: 1; stroke-width: 1px;\"/></g><g class=\"y12\"><path class=\"y12grid crisp\" transform=\"translate(0,254.22000000000008)\" d=\"M856.4749999999999,0h238.52499999999998\" style=\"stroke: rgb(255, 255, 255); stroke-opacity: 1; stroke-width: 1px;\"/><path class=\"y12grid crisp\" transform=\"translate(0,218.91000000000008)\" d=\"M856.4749999999999,0h238.52499999999998\" style=\"stroke: rgb(255, 255, 255); stroke-opacity: 1; stroke-width: 1px;\"/><path class=\"y12grid crisp\" transform=\"translate(0,183.60000000000008)\" d=\"M856.4749999999999,0h238.52499999999998\" style=\"stroke: rgb(255, 255, 255); stroke-opacity: 1; stroke-width: 1px;\"/><path class=\"y12grid crisp\" transform=\"translate(0,148.29000000000008)\" d=\"M856.4749999999999,0h238.52499999999998\" style=\"stroke: rgb(255, 255, 255); stroke-opacity: 1; stroke-width: 1px;\"/><path class=\"y12grid crisp\" transform=\"translate(0,112.98000000000008)\" d=\"M856.4749999999999,0h238.52499999999998\" style=\"stroke: rgb(255, 255, 255); stroke-opacity: 1; stroke-width: 1px;\"/></g></g><g class=\"zerolinelayer\"/><path class=\"xlines-below\"/><path class=\"ylines-below\"/><g class=\"overlines-below\"/><g class=\"xaxislayer-below\"/><g class=\"yaxislayer-below\"/><g class=\"overaxes-below\"/><g class=\"plot\" transform=\"translate(856.4749999999999,100.00000000000007)\" clip-path=\"url(#clip68e2c0x12y12plot)\"><g class=\"scatterlayer mlayer\"><g class=\"trace scatter trace45f913\" style=\"stroke-miterlimit: 2; opacity: 1;\"><g class=\"fills\"/><g class=\"errorbars\"/><g class=\"lines\"><path class=\"js-line\" d=\"M130.1,8.89L151.79,10.3L173.47,10.86L195.16,14.83L216.84,28.78L238.52,50.05\" style=\"vector-effect: non-scaling-stroke; fill: none; stroke: rgb(0, 0, 4); stroke-opacity: 1; stroke-width: 2px; opacity: 1;\"/></g><g class=\"points\"/><g class=\"text\"/></g><g class=\"trace scatter trace51874c\" style=\"stroke-miterlimit: 2; opacity: 1;\"><g class=\"fills\"/><g class=\"errorbars\"/><g class=\"lines\"><path class=\"js-line\" d=\"M0,65.08L21.68,61.71L43.37,55.22L65.05,51.19L86.74,42.74L108.42,35.58L130.1,27.42L151.79,23.67L173.47,25.63L195.16,26.65L216.84,40.43L238.52,61.29\" style=\"vector-effect: non-scaling-stroke; fill: none; stroke: rgb(27, 12, 65); stroke-opacity: 1; stroke-width: 2px; opacity: 1;\"/></g><g class=\"points\"/><g class=\"text\"/></g><g class=\"trace scatter traced33fd7\" style=\"stroke-miterlimit: 2; opacity: 1;\"><g class=\"fills\"/><g class=\"errorbars\"/><g class=\"lines\"><path class=\"js-line\" d=\"M0,75.37L21.68,73.6L43.37,65.47L65.05,58.38L86.74,48.45L108.42,36.48L130.1,27.48L151.79,23.24L173.47,21.32L195.16,23.75L216.84,34.86L238.52,54.76\" style=\"vector-effect: non-scaling-stroke; fill: none; stroke: rgb(74, 12, 107); stroke-opacity: 1; stroke-width: 2px; opacity: 1;\"/></g><g class=\"points\"/><g class=\"text\"/></g><g class=\"trace scatter trace94c7c3\" style=\"stroke-miterlimit: 2; opacity: 1;\"><g class=\"fills\"/><g class=\"errorbars\"/><g class=\"lines\"><path class=\"js-line\" d=\"M0,69.57L21.68,69L43.37,61.53L65.05,53.51L86.74,43.21L108.42,33.52L130.1,26.14L151.79,24.19L173.47,24.42L195.16,25.21L216.84,39.38L238.52,61.85\" style=\"vector-effect: non-scaling-stroke; fill: none; stroke: rgb(120, 28, 109); stroke-opacity: 1; stroke-width: 2px; opacity: 1;\"/></g><g class=\"points\"/><g class=\"text\"/></g><g class=\"trace scatter trace657a66\" style=\"stroke-miterlimit: 2; opacity: 1;\"><g class=\"fills\"/><g class=\"errorbars\"/><g class=\"lines\"><path class=\"js-line\" d=\"M0,75.58L21.68,75.6L43.37,74.25L65.05,80.91L86.74,83.29L108.42,85.97L130.1,90.34L151.79,93.18L173.47,94.14L195.16,94.83L216.84,104.7L238.52,120.44\" style=\"vector-effect: non-scaling-stroke; fill: none; stroke: rgb(165, 44, 96); stroke-opacity: 1; stroke-width: 2px; opacity: 1;\"/></g><g class=\"points\"/><g class=\"text\"/></g><g class=\"trace scatter trace0159cf\" style=\"stroke-miterlimit: 2; opacity: 1;\"><g class=\"fills\"/><g class=\"errorbars\"/><g class=\"lines\"><path class=\"js-line\" d=\"M0,134.02L21.68,144.66L43.37,147.97L65.05,148.23L86.74,145.57L130.1,127.26L151.79,123.41L173.47,123L195.16,125.17L216.84,136.36L238.52,150.31\" style=\"vector-effect: non-scaling-stroke; fill: none; stroke: rgb(207, 68, 70); stroke-opacity: 1; stroke-width: 2px; opacity: 1;\"/></g><g class=\"points\"/><g class=\"text\"/></g><g class=\"trace scatter trace4383d9\" style=\"stroke-miterlimit: 2; opacity: 1;\"><g class=\"fills\"/><g class=\"errorbars\"/><g class=\"lines\"><path class=\"js-line\" d=\"M0,162.81L21.68,168.85L43.37,168.65L65.05,167.74L86.74,158.74L108.42,149.59L130.1,138.13L151.79,136.89L173.47,137.08L195.16,136.49\" style=\"vector-effect: non-scaling-stroke; fill: none; stroke: rgb(237, 105, 37); stroke-opacity: 1; stroke-width: 2px; opacity: 1;\"/></g><g class=\"points\"/><g class=\"text\"/></g></g></g><g class=\"overplot\"/><path class=\"xlines-above crisp\" d=\"M0,0\" style=\"fill: none;\"/><path class=\"ylines-above crisp\" d=\"M0,0\" style=\"fill: none;\"/><g class=\"overlines-above\"/><g class=\"xaxislayer-above\"/><g class=\"yaxislayer-above\"/><g class=\"overaxes-above\"/></g></g><g class=\"polarlayer\"/><g class=\"smithlayer\"/><g class=\"ternarylayer\"/><g class=\"geolayer\"/><g class=\"funnelarealayer\"/><g class=\"pielayer\"/><g class=\"iciclelayer\"/><g class=\"treemaplayer\"/><g class=\"sunburstlayer\"/><g class=\"glimages\"/><defs id=\"topdefs-68e2c0\"><g class=\"clips\"/><clipPath id=\"legend68e2c0\"><rect width=\"73\" height=\"162\" x=\"0\" y=\"0\"/></clipPath></defs><g class=\"layer-above\"><g class=\"imagelayer\"/><g class=\"shapelayer\"/></g><g class=\"infolayer\"><g class=\"legend\" pointer-events=\"all\" transform=\"translate(1115.3,100)\"><rect class=\"bg\" shape-rendering=\"crispEdges\" width=\"73\" height=\"162\" x=\"0\" y=\"0\" style=\"stroke: rgb(68, 68, 68); stroke-opacity: 1; fill: rgb(255, 255, 255); fill-opacity: 1; stroke-width: 0px;\"/><g class=\"scrollbox\" transform=\"\" clip-path=\"url(#legend68e2c0)\"><text class=\"legendtitletext\" text-anchor=\"start\" x=\"2\" y=\"18.2\" style=\"font-family: 'Open Sans', verdana, arial, sans-serif; font-size: 14px; fill: rgb(42, 63, 95); fill-opacity: 1; white-space: pre;\">year</text><g class=\"groups\" transform=\"\"><g class=\"traces\" transform=\"translate(0,32.7)\" style=\"opacity: 1;\"><text class=\"legendtext\" text-anchor=\"start\" x=\"40\" y=\"4.680000000000001\" style=\"font-family: 'Open Sans', verdana, arial, sans-serif; font-size: 12px; fill: rgb(42, 63, 95); fill-opacity: 1; white-space: pre;\">2016</text><g class=\"layers\" style=\"opacity: 1;\"><g class=\"legendfill\"/><g class=\"legendlines\"><path class=\"js-line\" d=\"M5,0h30\" style=\"fill: none; stroke: rgb(0, 0, 4); stroke-opacity: 1; stroke-width: 2px;\"/></g><g class=\"legendsymbols\"><g class=\"legendpoints\"/></g></g><rect class=\"legendtoggle\" x=\"0\" y=\"-9.5\" width=\"67.59375\" height=\"19\" style=\"fill: rgb(0, 0, 0); fill-opacity: 0;\"/></g></g><g class=\"groups\" transform=\"\"><g class=\"traces\" transform=\"translate(0,51.7)\" style=\"opacity: 1;\"><text class=\"legendtext\" text-anchor=\"start\" x=\"40\" y=\"4.680000000000001\" style=\"font-family: 'Open Sans', verdana, arial, sans-serif; font-size: 12px; fill: rgb(42, 63, 95); fill-opacity: 1; white-space: pre;\">2017</text><g class=\"layers\" style=\"opacity: 1;\"><g class=\"legendfill\"/><g class=\"legendlines\"><path class=\"js-line\" d=\"M5,0h30\" style=\"fill: none; stroke: rgb(27, 12, 65); stroke-opacity: 1; stroke-width: 2px;\"/></g><g class=\"legendsymbols\"><g class=\"legendpoints\"/></g></g><rect class=\"legendtoggle\" x=\"0\" y=\"-9.5\" width=\"67.59375\" height=\"19\" style=\"fill: rgb(0, 0, 0); fill-opacity: 0;\"/></g></g><g class=\"groups\" transform=\"\"><g class=\"traces\" transform=\"translate(0,70.7)\" style=\"opacity: 1;\"><text class=\"legendtext\" text-anchor=\"start\" x=\"40\" y=\"4.680000000000001\" style=\"font-family: 'Open Sans', verdana, arial, sans-serif; font-size: 12px; fill: rgb(42, 63, 95); fill-opacity: 1; white-space: pre;\">2018</text><g class=\"layers\" style=\"opacity: 1;\"><g class=\"legendfill\"/><g class=\"legendlines\"><path class=\"js-line\" d=\"M5,0h30\" style=\"fill: none; stroke: rgb(74, 12, 107); stroke-opacity: 1; stroke-width: 2px;\"/></g><g class=\"legendsymbols\"><g class=\"legendpoints\"/></g></g><rect class=\"legendtoggle\" x=\"0\" y=\"-9.5\" width=\"67.59375\" height=\"19\" style=\"fill: rgb(0, 0, 0); fill-opacity: 0;\"/></g></g><g class=\"groups\" transform=\"\"><g class=\"traces\" transform=\"translate(0,89.7)\" style=\"opacity: 1;\"><text class=\"legendtext\" text-anchor=\"start\" x=\"40\" y=\"4.680000000000001\" style=\"font-family: 'Open Sans', verdana, arial, sans-serif; font-size: 12px; fill: rgb(42, 63, 95); fill-opacity: 1; white-space: pre;\">2019</text><g class=\"layers\" style=\"opacity: 1;\"><g class=\"legendfill\"/><g class=\"legendlines\"><path class=\"js-line\" d=\"M5,0h30\" style=\"fill: none; stroke: rgb(120, 28, 109); stroke-opacity: 1; stroke-width: 2px;\"/></g><g class=\"legendsymbols\"><g class=\"legendpoints\"/></g></g><rect class=\"legendtoggle\" x=\"0\" y=\"-9.5\" width=\"67.59375\" height=\"19\" style=\"fill: rgb(0, 0, 0); fill-opacity: 0;\"/></g></g><g class=\"groups\" transform=\"\"><g class=\"traces\" transform=\"translate(0,108.7)\" style=\"opacity: 1;\"><text class=\"legendtext\" text-anchor=\"start\" x=\"40\" y=\"4.680000000000001\" style=\"font-family: 'Open Sans', verdana, arial, sans-serif; font-size: 12px; fill: rgb(42, 63, 95); fill-opacity: 1; white-space: pre;\">2020</text><g class=\"layers\" style=\"opacity: 1;\"><g class=\"legendfill\"/><g class=\"legendlines\"><path class=\"js-line\" d=\"M5,0h30\" style=\"fill: none; stroke: rgb(165, 44, 96); stroke-opacity: 1; stroke-width: 2px;\"/></g><g class=\"legendsymbols\"><g class=\"legendpoints\"/></g></g><rect class=\"legendtoggle\" x=\"0\" y=\"-9.5\" width=\"67.59375\" height=\"19\" style=\"fill: rgb(0, 0, 0); fill-opacity: 0;\"/></g></g><g class=\"groups\" transform=\"\"><g class=\"traces\" transform=\"translate(0,127.7)\" style=\"opacity: 1;\"><text class=\"legendtext\" text-anchor=\"start\" x=\"40\" y=\"4.680000000000001\" style=\"font-family: 'Open Sans', verdana, arial, sans-serif; font-size: 12px; fill: rgb(42, 63, 95); fill-opacity: 1; white-space: pre;\">2021</text><g class=\"layers\" style=\"opacity: 1;\"><g class=\"legendfill\"/><g class=\"legendlines\"><path class=\"js-line\" d=\"M5,0h30\" style=\"fill: none; stroke: rgb(207, 68, 70); stroke-opacity: 1; stroke-width: 2px;\"/></g><g class=\"legendsymbols\"><g class=\"legendpoints\"/></g></g><rect class=\"legendtoggle\" x=\"0\" y=\"-9.5\" width=\"67.59375\" height=\"19\" style=\"fill: rgb(0, 0, 0); fill-opacity: 0;\"/></g></g><g class=\"groups\" transform=\"\"><g class=\"traces\" transform=\"translate(0,146.7)\" style=\"opacity: 1;\"><text class=\"legendtext\" text-anchor=\"start\" x=\"40\" y=\"4.680000000000001\" style=\"font-family: 'Open Sans', verdana, arial, sans-serif; font-size: 12px; fill: rgb(42, 63, 95); fill-opacity: 1; white-space: pre;\">2022</text><g class=\"layers\" style=\"opacity: 1;\"><g class=\"legendfill\"/><g class=\"legendlines\"><path class=\"js-line\" d=\"M5,0h30\" style=\"fill: none; stroke: rgb(237, 105, 37); stroke-opacity: 1; stroke-width: 2px;\"/></g><g class=\"legendsymbols\"><g class=\"legendpoints\"/></g></g><rect class=\"legendtoggle\" x=\"0\" y=\"-9.5\" width=\"67.59375\" height=\"19\" style=\"fill: rgb(0, 0, 0); fill-opacity: 0;\"/></g></g></g><rect class=\"scrollbar\" rx=\"20\" ry=\"3\" width=\"0\" height=\"0\" x=\"0\" y=\"0\" style=\"fill: rgb(128, 139, 164); fill-opacity: 1;\"/></g><g class=\"g-gtitle\"><text class=\"gtitle\" x=\"60\" y=\"50\" text-anchor=\"start\" dy=\"0em\" style=\"font-family: 'Open Sans', verdana, arial, sans-serif; font-size: 17px; fill: rgb(42, 63, 95); opacity: 1; font-weight: normal; white-space: pre;\">Active Listings over Time by State</text></g><g class=\"g-xtitle\"><text class=\"xtitle\" x=\"199.2625\" y=\"761.8\" text-anchor=\"middle\" style=\"font-family: 'Open Sans', verdana, arial, sans-serif; font-size: 14px; fill: rgb(42, 63, 95); opacity: 1; font-weight: normal; white-space: pre;\">month_num</text></g><g class=\"g-x2title\"><text class=\"x2title\" x=\"458.0875\" y=\"761.8\" text-anchor=\"middle\" style=\"font-family: 'Open Sans', verdana, arial, sans-serif; font-size: 14px; fill: rgb(42, 63, 95); opacity: 1; font-weight: normal; white-space: pre;\">month_num</text></g><g class=\"g-x3title\"><text class=\"x3title\" x=\"716.9124999999999\" y=\"761.8\" text-anchor=\"middle\" style=\"font-family: 'Open Sans', verdana, arial, sans-serif; font-size: 14px; fill: rgb(42, 63, 95); opacity: 1; font-weight: normal; white-space: pre;\">month_num</text></g><g class=\"g-x4title\"><text class=\"x4title\" x=\"975.7375\" y=\"761.8\" text-anchor=\"middle\" style=\"font-family: 'Open Sans', verdana, arial, sans-serif; font-size: 14px; fill: rgb(42, 63, 95); opacity: 1; font-weight: normal; white-space: pre;\">month_num</text></g><g class=\"g-x5title\"/><g class=\"g-x6title\"/><g class=\"g-x7title\"/><g class=\"g-x8title\"/><g class=\"g-x9title\"/><g class=\"g-x10title\"/><g class=\"g-x11title\"/><g class=\"g-x12title\"/><g class=\"g-ytitle\"><text class=\"ytitle\" transform=\"rotate(-90,33.16875,631.1333333333333)\" x=\"33.16875\" y=\"631.1333333333333\" text-anchor=\"middle\" style=\"font-family: 'Open Sans', verdana, arial, sans-serif; font-size: 14px; fill: rgb(42, 63, 95); opacity: 1; font-weight: normal; white-space: pre;\">active_listings</text></g><g class=\"g-y2title\"/><g class=\"g-y3title\"/><g class=\"g-y4title\"/><g class=\"g-y5title\"><text class=\"y5title\" transform=\"rotate(-90,33.16875,410)\" x=\"33.16875\" y=\"410\" text-anchor=\"middle\" style=\"font-family: 'Open Sans', verdana, arial, sans-serif; font-size: 14px; fill: rgb(42, 63, 95); opacity: 1; font-weight: normal; white-space: pre;\">active_listings</text></g><g class=\"g-y6title\"/><g class=\"g-y7title\"/><g class=\"g-y8title\"/><g class=\"g-y9title\"><text class=\"y9title\" transform=\"rotate(-90,33.16875,188.86666666666673)\" x=\"33.16875\" y=\"188.86666666666673\" text-anchor=\"middle\" style=\"font-family: 'Open Sans', verdana, arial, sans-serif; font-size: 14px; fill: rgb(42, 63, 95); opacity: 1; font-weight: normal; white-space: pre;\">active_listings</text></g><g class=\"g-y10title\"/><g class=\"g-y11title\"/><g class=\"g-y12title\"/><g class=\"annotation\" data-index=\"0\" style=\"opacity: 1;\"><g class=\"annotation-text-g\" transform=\"rotate(0,199.2625,531.7666666666667)\"><g class=\"cursor-pointer\" transform=\"translate(172,521)\"><rect class=\"bg\" x=\"0.5\" y=\"0.5\" width=\"53\" height=\"20\" style=\"stroke-width: 1px; stroke: rgb(0, 0, 0); stroke-opacity: 0; fill: rgb(0, 0, 0); fill-opacity: 0;\"/><text class=\"annotation-text\" text-anchor=\"middle\" x=\"26.65625\" y=\"15\" style=\"font-family: 'Open Sans', verdana, arial, sans-serif; font-size: 12px; fill: rgb(42, 63, 95); fill-opacity: 1; white-space: pre;\">state=PA</text></g></g></g><g class=\"annotation\" data-index=\"1\" style=\"opacity: 1;\"><g class=\"annotation-text-g\" transform=\"rotate(0,458.0875,531.7666666666667)\"><g class=\"cursor-pointer\" transform=\"translate(431,521)\"><rect class=\"bg\" x=\"0.5\" y=\"0.5\" width=\"53\" height=\"20\" style=\"stroke-width: 1px; stroke: rgb(0, 0, 0); stroke-opacity: 0; fill: rgb(0, 0, 0); fill-opacity: 0;\"/><text class=\"annotation-text\" text-anchor=\"middle\" x=\"26.921875\" y=\"15\" style=\"font-family: 'Open Sans', verdana, arial, sans-serif; font-size: 12px; fill: rgb(42, 63, 95); fill-opacity: 1; white-space: pre;\">state=UT</text></g></g></g><g class=\"annotation\" data-index=\"2\" style=\"opacity: 1;\"><g class=\"annotation-text-g\" transform=\"rotate(0,716.9124999999999,531.7666666666667)\"><g class=\"cursor-pointer\" transform=\"translate(690,521)\"><rect class=\"bg\" x=\"0.5\" y=\"0.5\" width=\"52\" height=\"20\" style=\"stroke-width: 1px; stroke: rgb(0, 0, 0); stroke-opacity: 0; fill: rgb(0, 0, 0); fill-opacity: 0;\"/><text class=\"annotation-text\" text-anchor=\"middle\" x=\"26.46875\" y=\"15\" style=\"font-family: 'Open Sans', verdana, arial, sans-serif; font-size: 12px; fill: rgb(42, 63, 95); fill-opacity: 1; white-space: pre;\">state=WI</text></g></g></g><g class=\"annotation\" data-index=\"3\" style=\"opacity: 1;\"><g class=\"annotation-text-g\" transform=\"rotate(0,975.7374999999998,531.7666666666667)\"><g class=\"cursor-pointer\" transform=\"translate(947,521)\"><rect class=\"bg\" x=\"0.5\" y=\"0.5\" width=\"57\" height=\"20\" style=\"stroke-width: 1px; stroke: rgb(0, 0, 0); stroke-opacity: 0; fill: rgb(0, 0, 0); fill-opacity: 0;\"/><text class=\"annotation-text\" text-anchor=\"middle\" x=\"28.15625\" y=\"15\" style=\"font-family: 'Open Sans', verdana, arial, sans-serif; font-size: 12px; fill: rgb(42, 63, 95); fill-opacity: 1; white-space: pre;\">state=WY</text></g></g></g><g class=\"annotation\" data-index=\"4\" style=\"opacity: 1;\"><g class=\"annotation-text-g\" transform=\"rotate(0,199.2625,310.6333333333333)\"><g class=\"cursor-pointer\" transform=\"translate(173,300)\"><rect class=\"bg\" x=\"0.5\" y=\"0.5\" width=\"52\" height=\"20\" style=\"stroke-width: 1px; stroke: rgb(0, 0, 0); stroke-opacity: 0; fill: rgb(0, 0, 0); fill-opacity: 0;\"/><text class=\"annotation-text\" text-anchor=\"middle\" x=\"26.328125\" y=\"15\" style=\"font-family: 'Open Sans', verdana, arial, sans-serif; font-size: 12px; fill: rgb(42, 63, 95); fill-opacity: 1; white-space: pre;\">state=MI</text></g></g></g><g class=\"annotation\" data-index=\"5\" style=\"opacity: 1;\"><g class=\"annotation-text-g\" transform=\"rotate(0,458.0875,310.6333333333333)\"><g class=\"cursor-pointer\" transform=\"translate(431,300)\"><rect class=\"bg\" x=\"0.5\" y=\"0.5\" width=\"54\" height=\"20\" style=\"stroke-width: 1px; stroke: rgb(0, 0, 0); stroke-opacity: 0; fill: rgb(0, 0, 0); fill-opacity: 0;\"/><text class=\"annotation-text\" text-anchor=\"middle\" x=\"27.09375\" y=\"15\" style=\"font-family: 'Open Sans', verdana, arial, sans-serif; font-size: 12px; fill: rgb(42, 63, 95); fill-opacity: 1; white-space: pre;\">state=NE</text></g></g></g><g class=\"annotation\" data-index=\"6\" style=\"opacity: 1;\"><g class=\"annotation-text-g\" transform=\"rotate(0,716.9124999999999,310.6333333333333)\"><g class=\"cursor-pointer\" transform=\"translate(689,300)\"><rect class=\"bg\" x=\"0.5\" y=\"0.5\" width=\"55\" height=\"20\" style=\"stroke-width: 1px; stroke: rgb(0, 0, 0); stroke-opacity: 0; fill: rgb(0, 0, 0); fill-opacity: 0;\"/><text class=\"annotation-text\" text-anchor=\"middle\" x=\"27.125\" y=\"15\" style=\"font-family: 'Open Sans', verdana, arial, sans-serif; font-size: 12px; fill: rgb(42, 63, 95); fill-opacity: 1; white-space: pre;\">state=NY</text></g></g></g><g class=\"annotation\" data-index=\"7\" style=\"opacity: 1;\"><g class=\"annotation-text-g\" transform=\"rotate(0,975.7374999999998,310.6333333333333)\"><g class=\"cursor-pointer\" transform=\"translate(948,300)\"><rect class=\"bg\" x=\"0.5\" y=\"0.5\" width=\"55\" height=\"20\" style=\"stroke-width: 1px; stroke: rgb(0, 0, 0); stroke-opacity: 0; fill: rgb(0, 0, 0); fill-opacity: 0;\"/><text class=\"annotation-text\" text-anchor=\"middle\" x=\"27.625\" y=\"15\" style=\"font-family: 'Open Sans', verdana, arial, sans-serif; font-size: 12px; fill: rgb(42, 63, 95); fill-opacity: 1; white-space: pre;\">state=OR</text></g></g></g><g class=\"annotation\" data-index=\"8\" style=\"opacity: 1;\"><g class=\"annotation-text-g\" transform=\"rotate(0,199.2625,89.50000000000007)\"><g class=\"cursor-pointer\" transform=\"translate(172,79)\"><rect class=\"bg\" x=\"0.5\" y=\"0.5\" width=\"53\" height=\"20\" style=\"stroke-width: 1px; stroke: rgb(0, 0, 0); stroke-opacity: 0; fill: rgb(0, 0, 0); fill-opacity: 0;\"/><text class=\"annotation-text\" text-anchor=\"middle\" x=\"26.828125\" y=\"15\" style=\"font-family: 'Open Sans', verdana, arial, sans-serif; font-size: 12px; fill: rgb(42, 63, 95); fill-opacity: 1; white-space: pre;\">state=CA</text></g></g></g><g class=\"annotation\" data-index=\"9\" style=\"opacity: 1;\"><g class=\"annotation-text-g\" transform=\"rotate(0,458.0875,89.50000000000007)\"><g class=\"cursor-pointer\" transform=\"translate(431,79)\"><rect class=\"bg\" x=\"0.5\" y=\"0.5\" width=\"54\" height=\"20\" style=\"stroke-width: 1px; stroke: rgb(0, 0, 0); stroke-opacity: 0; fill: rgb(0, 0, 0); fill-opacity: 0;\"/><text class=\"annotation-text\" text-anchor=\"middle\" x=\"27.703125\" y=\"15\" style=\"font-family: 'Open Sans', verdana, arial, sans-serif; font-size: 12px; fill: rgb(42, 63, 95); fill-opacity: 1; white-space: pre;\">state=CO</text></g></g></g><g class=\"annotation\" data-index=\"10\" style=\"opacity: 1;\"><g class=\"annotation-text-g\" transform=\"rotate(0,716.9124999999999,89.50000000000007)\"><g class=\"cursor-pointer\" transform=\"translate(691,79)\"><rect class=\"bg\" x=\"0.5\" y=\"0.5\" width=\"50\" height=\"20\" style=\"stroke-width: 1px; stroke: rgb(0, 0, 0); stroke-opacity: 0; fill: rgb(0, 0, 0); fill-opacity: 0;\"/><text class=\"annotation-text\" text-anchor=\"middle\" x=\"25.28125\" y=\"15\" style=\"font-family: 'Open Sans', verdana, arial, sans-serif; font-size: 12px; fill: rgb(42, 63, 95); fill-opacity: 1; white-space: pre;\">state=ID</text></g></g></g><g class=\"annotation\" data-index=\"11\" style=\"opacity: 1;\"><g class=\"annotation-text-g\" transform=\"rotate(0,975.7374999999998,89.50000000000007)\"><g class=\"cursor-pointer\" transform=\"translate(951,79)\"><rect class=\"bg\" x=\"0.5\" y=\"0.5\" width=\"48\" height=\"20\" style=\"stroke-width: 1px; stroke: rgb(0, 0, 0); stroke-opacity: 0; fill: rgb(0, 0, 0); fill-opacity: 0;\"/><text class=\"annotation-text\" text-anchor=\"middle\" x=\"24.03125\" y=\"15\" style=\"font-family: 'Open Sans', verdana, arial, sans-serif; font-size: 12px; fill: rgb(42, 63, 95); fill-opacity: 1; white-space: pre;\">state=IL</text></g></g></g></g></svg>"
     },
     "metadata": {},
     "output_type": "display_data"
    }
   ],
   "source": [
    "fig = px.line(df.query(\"state in @select_states\"),\n",
    "    x = 'month_num',\n",
    "    y = 'active_listings',\n",
    "    color = 'year',\n",
    "    facet_col = 'state',\n",
    "    facet_col_wrap = 4,\n",
    "    title = 'Active Listings over Time by State',\n",
    "    color_discrete_sequence=px.colors.sequential.Inferno\n",
    "    )\n",
    "fig.update_yaxes(matches = None)\n",
    "fig.update_layout(height = 800, width = 1200)\n",
    "fig.show(renderer = 'svg')"
   ]
  },
  {
   "cell_type": "markdown",
   "metadata": {},
   "source": [
    "### Number of listings that had a status of 'pending' during the month "
   ]
  },
  {
   "cell_type": "code",
   "execution_count": 41,
   "metadata": {},
   "outputs": [
    {
     "data": {
      "image/svg+xml": "<svg class=\"main-svg\" xmlns=\"http://www.w3.org/2000/svg\" xmlns:xlink=\"http://www.w3.org/1999/xlink\" width=\"1200\" height=\"800\" style=\"\" viewBox=\"0 0 1200 800\"><rect x=\"0\" y=\"0\" width=\"1200\" height=\"800\" style=\"fill: rgb(255, 255, 255); fill-opacity: 1;\"/><defs id=\"defs-81f157\"><g class=\"clips\"><clipPath id=\"clip81f157xyplot\" class=\"plotclip\"><rect width=\"238.52499999999998\" height=\"177.73333333333332\"/></clipPath><clipPath id=\"clip81f157x2y2plot\" class=\"plotclip\"><rect width=\"238.52499999999998\" height=\"177.73333333333332\"/></clipPath><clipPath id=\"clip81f157x3y3plot\" class=\"plotclip\"><rect width=\"238.52499999999998\" height=\"177.73333333333332\"/></clipPath><clipPath id=\"clip81f157x4y4plot\" class=\"plotclip\"><rect width=\"238.52499999999998\" height=\"177.73333333333332\"/></clipPath><clipPath id=\"clip81f157x5y5plot\" class=\"plotclip\"><rect width=\"238.52499999999998\" height=\"177.73333333333335\"/></clipPath><clipPath id=\"clip81f157x6y6plot\" class=\"plotclip\"><rect width=\"238.52499999999998\" height=\"177.73333333333335\"/></clipPath><clipPath id=\"clip81f157x7y7plot\" class=\"plotclip\"><rect width=\"238.52499999999998\" height=\"177.73333333333335\"/></clipPath><clipPath id=\"clip81f157x8y8plot\" class=\"plotclip\"><rect width=\"238.52499999999998\" height=\"177.73333333333335\"/></clipPath><clipPath id=\"clip81f157x9y9plot\" class=\"plotclip\"><rect width=\"238.52499999999998\" height=\"177.73333333333332\"/></clipPath><clipPath id=\"clip81f157x10y10plot\" class=\"plotclip\"><rect width=\"238.52499999999998\" height=\"177.73333333333332\"/></clipPath><clipPath id=\"clip81f157x11y11plot\" class=\"plotclip\"><rect width=\"238.52499999999998\" height=\"177.73333333333332\"/></clipPath><clipPath id=\"clip81f157x12y12plot\" class=\"plotclip\"><rect width=\"238.52499999999998\" height=\"177.73333333333332\"/></clipPath><clipPath class=\"axesclip\" id=\"clip81f157x\"><rect x=\"80\" y=\"0\" width=\"238.52499999999998\" height=\"800\"/></clipPath><clipPath class=\"axesclip\" id=\"clip81f157y\"><rect x=\"0\" y=\"542.2666666666667\" width=\"1200\" height=\"177.73333333333332\"/></clipPath><clipPath class=\"axesclip\" id=\"clip81f157xy\"><rect x=\"80\" y=\"542.2666666666667\" width=\"238.52499999999998\" height=\"177.73333333333332\"/></clipPath><clipPath class=\"axesclip\" id=\"clip81f157y2\"><rect x=\"0\" y=\"542.2666666666667\" width=\"1200\" height=\"177.73333333333332\"/></clipPath><clipPath class=\"axesclip\" id=\"clip81f157xy2\"><rect x=\"80\" y=\"542.2666666666667\" width=\"238.52499999999998\" height=\"177.73333333333332\"/></clipPath><clipPath class=\"axesclip\" id=\"clip81f157y3\"><rect x=\"0\" y=\"542.2666666666667\" width=\"1200\" height=\"177.73333333333332\"/></clipPath><clipPath class=\"axesclip\" id=\"clip81f157xy3\"><rect x=\"80\" y=\"542.2666666666667\" width=\"238.52499999999998\" height=\"177.73333333333332\"/></clipPath><clipPath class=\"axesclip\" id=\"clip81f157y4\"><rect x=\"0\" y=\"542.2666666666667\" width=\"1200\" height=\"177.73333333333332\"/></clipPath><clipPath class=\"axesclip\" id=\"clip81f157xy4\"><rect x=\"80\" y=\"542.2666666666667\" width=\"238.52499999999998\" height=\"177.73333333333332\"/></clipPath><clipPath class=\"axesclip\" id=\"clip81f157y5\"><rect x=\"0\" y=\"321.1333333333333\" width=\"1200\" height=\"177.73333333333335\"/></clipPath><clipPath class=\"axesclip\" id=\"clip81f157xy5\"><rect x=\"80\" y=\"321.1333333333333\" width=\"238.52499999999998\" height=\"177.73333333333335\"/></clipPath><clipPath class=\"axesclip\" id=\"clip81f157y6\"><rect x=\"0\" y=\"321.1333333333333\" width=\"1200\" height=\"177.73333333333335\"/></clipPath><clipPath class=\"axesclip\" id=\"clip81f157xy6\"><rect x=\"80\" y=\"321.1333333333333\" width=\"238.52499999999998\" height=\"177.73333333333335\"/></clipPath><clipPath class=\"axesclip\" id=\"clip81f157y7\"><rect x=\"0\" y=\"321.1333333333333\" width=\"1200\" height=\"177.73333333333335\"/></clipPath><clipPath class=\"axesclip\" id=\"clip81f157xy7\"><rect x=\"80\" y=\"321.1333333333333\" width=\"238.52499999999998\" height=\"177.73333333333335\"/></clipPath><clipPath class=\"axesclip\" id=\"clip81f157y8\"><rect x=\"0\" y=\"321.1333333333333\" width=\"1200\" height=\"177.73333333333335\"/></clipPath><clipPath class=\"axesclip\" id=\"clip81f157xy8\"><rect x=\"80\" y=\"321.1333333333333\" width=\"238.52499999999998\" height=\"177.73333333333335\"/></clipPath><clipPath class=\"axesclip\" id=\"clip81f157y9\"><rect x=\"0\" y=\"100.00000000000007\" width=\"1200\" height=\"177.73333333333332\"/></clipPath><clipPath class=\"axesclip\" id=\"clip81f157xy9\"><rect x=\"80\" y=\"100.00000000000007\" width=\"238.52499999999998\" height=\"177.73333333333332\"/></clipPath><clipPath class=\"axesclip\" id=\"clip81f157y10\"><rect x=\"0\" y=\"100.00000000000007\" width=\"1200\" height=\"177.73333333333332\"/></clipPath><clipPath class=\"axesclip\" id=\"clip81f157xy10\"><rect x=\"80\" y=\"100.00000000000007\" width=\"238.52499999999998\" height=\"177.73333333333332\"/></clipPath><clipPath class=\"axesclip\" id=\"clip81f157y11\"><rect x=\"0\" y=\"100.00000000000007\" width=\"1200\" height=\"177.73333333333332\"/></clipPath><clipPath class=\"axesclip\" id=\"clip81f157xy11\"><rect x=\"80\" y=\"100.00000000000007\" width=\"238.52499999999998\" height=\"177.73333333333332\"/></clipPath><clipPath class=\"axesclip\" id=\"clip81f157y12\"><rect x=\"0\" y=\"100.00000000000007\" width=\"1200\" height=\"177.73333333333332\"/></clipPath><clipPath class=\"axesclip\" id=\"clip81f157xy12\"><rect x=\"80\" y=\"100.00000000000007\" width=\"238.52499999999998\" height=\"177.73333333333332\"/></clipPath><clipPath class=\"axesclip\" id=\"clip81f157x2\"><rect x=\"338.825\" y=\"0\" width=\"238.52499999999998\" height=\"800\"/></clipPath><clipPath class=\"axesclip\" id=\"clip81f157x2y\"><rect x=\"338.825\" y=\"542.2666666666667\" width=\"238.52499999999998\" height=\"177.73333333333332\"/></clipPath><clipPath class=\"axesclip\" id=\"clip81f157x2y2\"><rect x=\"338.825\" y=\"542.2666666666667\" width=\"238.52499999999998\" height=\"177.73333333333332\"/></clipPath><clipPath class=\"axesclip\" id=\"clip81f157x2y3\"><rect x=\"338.825\" y=\"542.2666666666667\" width=\"238.52499999999998\" height=\"177.73333333333332\"/></clipPath><clipPath class=\"axesclip\" id=\"clip81f157x2y4\"><rect x=\"338.825\" y=\"542.2666666666667\" width=\"238.52499999999998\" height=\"177.73333333333332\"/></clipPath><clipPath class=\"axesclip\" id=\"clip81f157x2y5\"><rect x=\"338.825\" y=\"321.1333333333333\" width=\"238.52499999999998\" height=\"177.73333333333335\"/></clipPath><clipPath class=\"axesclip\" id=\"clip81f157x2y6\"><rect x=\"338.825\" y=\"321.1333333333333\" width=\"238.52499999999998\" height=\"177.73333333333335\"/></clipPath><clipPath class=\"axesclip\" id=\"clip81f157x2y7\"><rect x=\"338.825\" y=\"321.1333333333333\" width=\"238.52499999999998\" height=\"177.73333333333335\"/></clipPath><clipPath class=\"axesclip\" id=\"clip81f157x2y8\"><rect x=\"338.825\" y=\"321.1333333333333\" width=\"238.52499999999998\" height=\"177.73333333333335\"/></clipPath><clipPath class=\"axesclip\" id=\"clip81f157x2y9\"><rect x=\"338.825\" y=\"100.00000000000007\" width=\"238.52499999999998\" height=\"177.73333333333332\"/></clipPath><clipPath class=\"axesclip\" id=\"clip81f157x2y10\"><rect x=\"338.825\" y=\"100.00000000000007\" width=\"238.52499999999998\" height=\"177.73333333333332\"/></clipPath><clipPath class=\"axesclip\" id=\"clip81f157x2y11\"><rect x=\"338.825\" y=\"100.00000000000007\" width=\"238.52499999999998\" height=\"177.73333333333332\"/></clipPath><clipPath class=\"axesclip\" id=\"clip81f157x2y12\"><rect x=\"338.825\" y=\"100.00000000000007\" width=\"238.52499999999998\" height=\"177.73333333333332\"/></clipPath><clipPath class=\"axesclip\" id=\"clip81f157x3\"><rect x=\"597.65\" y=\"0\" width=\"238.52499999999998\" height=\"800\"/></clipPath><clipPath class=\"axesclip\" id=\"clip81f157x3y\"><rect x=\"597.65\" y=\"542.2666666666667\" width=\"238.52499999999998\" height=\"177.73333333333332\"/></clipPath><clipPath class=\"axesclip\" id=\"clip81f157x3y2\"><rect x=\"597.65\" y=\"542.2666666666667\" width=\"238.52499999999998\" height=\"177.73333333333332\"/></clipPath><clipPath class=\"axesclip\" id=\"clip81f157x3y3\"><rect x=\"597.65\" y=\"542.2666666666667\" width=\"238.52499999999998\" height=\"177.73333333333332\"/></clipPath><clipPath class=\"axesclip\" id=\"clip81f157x3y4\"><rect x=\"597.65\" y=\"542.2666666666667\" width=\"238.52499999999998\" height=\"177.73333333333332\"/></clipPath><clipPath class=\"axesclip\" id=\"clip81f157x3y5\"><rect x=\"597.65\" y=\"321.1333333333333\" width=\"238.52499999999998\" height=\"177.73333333333335\"/></clipPath><clipPath class=\"axesclip\" id=\"clip81f157x3y6\"><rect x=\"597.65\" y=\"321.1333333333333\" width=\"238.52499999999998\" height=\"177.73333333333335\"/></clipPath><clipPath class=\"axesclip\" id=\"clip81f157x3y7\"><rect x=\"597.65\" y=\"321.1333333333333\" width=\"238.52499999999998\" height=\"177.73333333333335\"/></clipPath><clipPath class=\"axesclip\" id=\"clip81f157x3y8\"><rect x=\"597.65\" y=\"321.1333333333333\" width=\"238.52499999999998\" height=\"177.73333333333335\"/></clipPath><clipPath class=\"axesclip\" id=\"clip81f157x3y9\"><rect x=\"597.65\" y=\"100.00000000000007\" width=\"238.52499999999998\" height=\"177.73333333333332\"/></clipPath><clipPath class=\"axesclip\" id=\"clip81f157x3y10\"><rect x=\"597.65\" y=\"100.00000000000007\" width=\"238.52499999999998\" height=\"177.73333333333332\"/></clipPath><clipPath class=\"axesclip\" id=\"clip81f157x3y11\"><rect x=\"597.65\" y=\"100.00000000000007\" width=\"238.52499999999998\" height=\"177.73333333333332\"/></clipPath><clipPath class=\"axesclip\" id=\"clip81f157x3y12\"><rect x=\"597.65\" y=\"100.00000000000007\" width=\"238.52499999999998\" height=\"177.73333333333332\"/></clipPath><clipPath class=\"axesclip\" id=\"clip81f157x4\"><rect x=\"856.4749999999999\" y=\"0\" width=\"238.52499999999998\" height=\"800\"/></clipPath><clipPath class=\"axesclip\" id=\"clip81f157x4y\"><rect x=\"856.4749999999999\" y=\"542.2666666666667\" width=\"238.52499999999998\" height=\"177.73333333333332\"/></clipPath><clipPath class=\"axesclip\" id=\"clip81f157x4y2\"><rect x=\"856.4749999999999\" y=\"542.2666666666667\" width=\"238.52499999999998\" height=\"177.73333333333332\"/></clipPath><clipPath class=\"axesclip\" id=\"clip81f157x4y3\"><rect x=\"856.4749999999999\" y=\"542.2666666666667\" width=\"238.52499999999998\" height=\"177.73333333333332\"/></clipPath><clipPath class=\"axesclip\" id=\"clip81f157x4y4\"><rect x=\"856.4749999999999\" y=\"542.2666666666667\" width=\"238.52499999999998\" height=\"177.73333333333332\"/></clipPath><clipPath class=\"axesclip\" id=\"clip81f157x4y5\"><rect x=\"856.4749999999999\" y=\"321.1333333333333\" width=\"238.52499999999998\" height=\"177.73333333333335\"/></clipPath><clipPath class=\"axesclip\" id=\"clip81f157x4y6\"><rect x=\"856.4749999999999\" y=\"321.1333333333333\" width=\"238.52499999999998\" height=\"177.73333333333335\"/></clipPath><clipPath class=\"axesclip\" id=\"clip81f157x4y7\"><rect x=\"856.4749999999999\" y=\"321.1333333333333\" width=\"238.52499999999998\" height=\"177.73333333333335\"/></clipPath><clipPath class=\"axesclip\" id=\"clip81f157x4y8\"><rect x=\"856.4749999999999\" y=\"321.1333333333333\" width=\"238.52499999999998\" height=\"177.73333333333335\"/></clipPath><clipPath class=\"axesclip\" id=\"clip81f157x4y9\"><rect x=\"856.4749999999999\" y=\"100.00000000000007\" width=\"238.52499999999998\" height=\"177.73333333333332\"/></clipPath><clipPath class=\"axesclip\" id=\"clip81f157x4y10\"><rect x=\"856.4749999999999\" y=\"100.00000000000007\" width=\"238.52499999999998\" height=\"177.73333333333332\"/></clipPath><clipPath class=\"axesclip\" id=\"clip81f157x4y11\"><rect x=\"856.4749999999999\" y=\"100.00000000000007\" width=\"238.52499999999998\" height=\"177.73333333333332\"/></clipPath><clipPath class=\"axesclip\" id=\"clip81f157x4y12\"><rect x=\"856.4749999999999\" y=\"100.00000000000007\" width=\"238.52499999999998\" height=\"177.73333333333332\"/></clipPath><clipPath class=\"axesclip\" id=\"clip81f157x5\"><rect x=\"80\" y=\"0\" width=\"238.52499999999998\" height=\"800\"/></clipPath><clipPath class=\"axesclip\" id=\"clip81f157x5y\"><rect x=\"80\" y=\"542.2666666666667\" width=\"238.52499999999998\" height=\"177.73333333333332\"/></clipPath><clipPath class=\"axesclip\" id=\"clip81f157x5y2\"><rect x=\"80\" y=\"542.2666666666667\" width=\"238.52499999999998\" height=\"177.73333333333332\"/></clipPath><clipPath class=\"axesclip\" id=\"clip81f157x5y3\"><rect x=\"80\" y=\"542.2666666666667\" width=\"238.52499999999998\" height=\"177.73333333333332\"/></clipPath><clipPath class=\"axesclip\" id=\"clip81f157x5y4\"><rect x=\"80\" y=\"542.2666666666667\" width=\"238.52499999999998\" height=\"177.73333333333332\"/></clipPath><clipPath class=\"axesclip\" id=\"clip81f157x5y5\"><rect x=\"80\" y=\"321.1333333333333\" width=\"238.52499999999998\" height=\"177.73333333333335\"/></clipPath><clipPath class=\"axesclip\" id=\"clip81f157x5y6\"><rect x=\"80\" y=\"321.1333333333333\" width=\"238.52499999999998\" height=\"177.73333333333335\"/></clipPath><clipPath class=\"axesclip\" id=\"clip81f157x5y7\"><rect x=\"80\" y=\"321.1333333333333\" width=\"238.52499999999998\" height=\"177.73333333333335\"/></clipPath><clipPath class=\"axesclip\" id=\"clip81f157x5y8\"><rect x=\"80\" y=\"321.1333333333333\" width=\"238.52499999999998\" height=\"177.73333333333335\"/></clipPath><clipPath class=\"axesclip\" id=\"clip81f157x5y9\"><rect x=\"80\" y=\"100.00000000000007\" width=\"238.52499999999998\" height=\"177.73333333333332\"/></clipPath><clipPath class=\"axesclip\" id=\"clip81f157x5y10\"><rect x=\"80\" y=\"100.00000000000007\" width=\"238.52499999999998\" height=\"177.73333333333332\"/></clipPath><clipPath class=\"axesclip\" id=\"clip81f157x5y11\"><rect x=\"80\" y=\"100.00000000000007\" width=\"238.52499999999998\" height=\"177.73333333333332\"/></clipPath><clipPath class=\"axesclip\" id=\"clip81f157x5y12\"><rect x=\"80\" y=\"100.00000000000007\" width=\"238.52499999999998\" height=\"177.73333333333332\"/></clipPath><clipPath class=\"axesclip\" id=\"clip81f157x6\"><rect x=\"338.825\" y=\"0\" width=\"238.52499999999998\" height=\"800\"/></clipPath><clipPath class=\"axesclip\" id=\"clip81f157x6y\"><rect x=\"338.825\" y=\"542.2666666666667\" width=\"238.52499999999998\" height=\"177.73333333333332\"/></clipPath><clipPath class=\"axesclip\" id=\"clip81f157x6y2\"><rect x=\"338.825\" y=\"542.2666666666667\" width=\"238.52499999999998\" height=\"177.73333333333332\"/></clipPath><clipPath class=\"axesclip\" id=\"clip81f157x6y3\"><rect x=\"338.825\" y=\"542.2666666666667\" width=\"238.52499999999998\" height=\"177.73333333333332\"/></clipPath><clipPath class=\"axesclip\" id=\"clip81f157x6y4\"><rect x=\"338.825\" y=\"542.2666666666667\" width=\"238.52499999999998\" height=\"177.73333333333332\"/></clipPath><clipPath class=\"axesclip\" id=\"clip81f157x6y5\"><rect x=\"338.825\" y=\"321.1333333333333\" width=\"238.52499999999998\" height=\"177.73333333333335\"/></clipPath><clipPath class=\"axesclip\" id=\"clip81f157x6y6\"><rect x=\"338.825\" y=\"321.1333333333333\" width=\"238.52499999999998\" height=\"177.73333333333335\"/></clipPath><clipPath class=\"axesclip\" id=\"clip81f157x6y7\"><rect x=\"338.825\" y=\"321.1333333333333\" width=\"238.52499999999998\" height=\"177.73333333333335\"/></clipPath><clipPath class=\"axesclip\" id=\"clip81f157x6y8\"><rect x=\"338.825\" y=\"321.1333333333333\" width=\"238.52499999999998\" height=\"177.73333333333335\"/></clipPath><clipPath class=\"axesclip\" id=\"clip81f157x6y9\"><rect x=\"338.825\" y=\"100.00000000000007\" width=\"238.52499999999998\" height=\"177.73333333333332\"/></clipPath><clipPath class=\"axesclip\" id=\"clip81f157x6y10\"><rect x=\"338.825\" y=\"100.00000000000007\" width=\"238.52499999999998\" height=\"177.73333333333332\"/></clipPath><clipPath class=\"axesclip\" id=\"clip81f157x6y11\"><rect x=\"338.825\" y=\"100.00000000000007\" width=\"238.52499999999998\" height=\"177.73333333333332\"/></clipPath><clipPath class=\"axesclip\" id=\"clip81f157x6y12\"><rect x=\"338.825\" y=\"100.00000000000007\" width=\"238.52499999999998\" height=\"177.73333333333332\"/></clipPath><clipPath class=\"axesclip\" id=\"clip81f157x7\"><rect x=\"597.65\" y=\"0\" width=\"238.52499999999998\" height=\"800\"/></clipPath><clipPath class=\"axesclip\" id=\"clip81f157x7y\"><rect x=\"597.65\" y=\"542.2666666666667\" width=\"238.52499999999998\" height=\"177.73333333333332\"/></clipPath><clipPath class=\"axesclip\" id=\"clip81f157x7y2\"><rect x=\"597.65\" y=\"542.2666666666667\" width=\"238.52499999999998\" height=\"177.73333333333332\"/></clipPath><clipPath class=\"axesclip\" id=\"clip81f157x7y3\"><rect x=\"597.65\" y=\"542.2666666666667\" width=\"238.52499999999998\" height=\"177.73333333333332\"/></clipPath><clipPath class=\"axesclip\" id=\"clip81f157x7y4\"><rect x=\"597.65\" y=\"542.2666666666667\" width=\"238.52499999999998\" height=\"177.73333333333332\"/></clipPath><clipPath class=\"axesclip\" id=\"clip81f157x7y5\"><rect x=\"597.65\" y=\"321.1333333333333\" width=\"238.52499999999998\" height=\"177.73333333333335\"/></clipPath><clipPath class=\"axesclip\" id=\"clip81f157x7y6\"><rect x=\"597.65\" y=\"321.1333333333333\" width=\"238.52499999999998\" height=\"177.73333333333335\"/></clipPath><clipPath class=\"axesclip\" id=\"clip81f157x7y7\"><rect x=\"597.65\" y=\"321.1333333333333\" width=\"238.52499999999998\" height=\"177.73333333333335\"/></clipPath><clipPath class=\"axesclip\" id=\"clip81f157x7y8\"><rect x=\"597.65\" y=\"321.1333333333333\" width=\"238.52499999999998\" height=\"177.73333333333335\"/></clipPath><clipPath class=\"axesclip\" id=\"clip81f157x7y9\"><rect x=\"597.65\" y=\"100.00000000000007\" width=\"238.52499999999998\" height=\"177.73333333333332\"/></clipPath><clipPath class=\"axesclip\" id=\"clip81f157x7y10\"><rect x=\"597.65\" y=\"100.00000000000007\" width=\"238.52499999999998\" height=\"177.73333333333332\"/></clipPath><clipPath class=\"axesclip\" id=\"clip81f157x7y11\"><rect x=\"597.65\" y=\"100.00000000000007\" width=\"238.52499999999998\" height=\"177.73333333333332\"/></clipPath><clipPath class=\"axesclip\" id=\"clip81f157x7y12\"><rect x=\"597.65\" y=\"100.00000000000007\" width=\"238.52499999999998\" height=\"177.73333333333332\"/></clipPath><clipPath class=\"axesclip\" id=\"clip81f157x8\"><rect x=\"856.4749999999999\" y=\"0\" width=\"238.52499999999998\" height=\"800\"/></clipPath><clipPath class=\"axesclip\" id=\"clip81f157x8y\"><rect x=\"856.4749999999999\" y=\"542.2666666666667\" width=\"238.52499999999998\" height=\"177.73333333333332\"/></clipPath><clipPath class=\"axesclip\" id=\"clip81f157x8y2\"><rect x=\"856.4749999999999\" y=\"542.2666666666667\" width=\"238.52499999999998\" height=\"177.73333333333332\"/></clipPath><clipPath class=\"axesclip\" id=\"clip81f157x8y3\"><rect x=\"856.4749999999999\" y=\"542.2666666666667\" width=\"238.52499999999998\" height=\"177.73333333333332\"/></clipPath><clipPath class=\"axesclip\" id=\"clip81f157x8y4\"><rect x=\"856.4749999999999\" y=\"542.2666666666667\" width=\"238.52499999999998\" height=\"177.73333333333332\"/></clipPath><clipPath class=\"axesclip\" id=\"clip81f157x8y5\"><rect x=\"856.4749999999999\" y=\"321.1333333333333\" width=\"238.52499999999998\" height=\"177.73333333333335\"/></clipPath><clipPath class=\"axesclip\" id=\"clip81f157x8y6\"><rect x=\"856.4749999999999\" y=\"321.1333333333333\" width=\"238.52499999999998\" height=\"177.73333333333335\"/></clipPath><clipPath class=\"axesclip\" id=\"clip81f157x8y7\"><rect x=\"856.4749999999999\" y=\"321.1333333333333\" width=\"238.52499999999998\" height=\"177.73333333333335\"/></clipPath><clipPath class=\"axesclip\" id=\"clip81f157x8y8\"><rect x=\"856.4749999999999\" y=\"321.1333333333333\" width=\"238.52499999999998\" height=\"177.73333333333335\"/></clipPath><clipPath class=\"axesclip\" id=\"clip81f157x8y9\"><rect x=\"856.4749999999999\" y=\"100.00000000000007\" width=\"238.52499999999998\" height=\"177.73333333333332\"/></clipPath><clipPath class=\"axesclip\" id=\"clip81f157x8y10\"><rect x=\"856.4749999999999\" y=\"100.00000000000007\" width=\"238.52499999999998\" height=\"177.73333333333332\"/></clipPath><clipPath class=\"axesclip\" id=\"clip81f157x8y11\"><rect x=\"856.4749999999999\" y=\"100.00000000000007\" width=\"238.52499999999998\" height=\"177.73333333333332\"/></clipPath><clipPath class=\"axesclip\" id=\"clip81f157x8y12\"><rect x=\"856.4749999999999\" y=\"100.00000000000007\" width=\"238.52499999999998\" height=\"177.73333333333332\"/></clipPath><clipPath class=\"axesclip\" id=\"clip81f157x9\"><rect x=\"80\" y=\"0\" width=\"238.52499999999998\" height=\"800\"/></clipPath><clipPath class=\"axesclip\" id=\"clip81f157x9y\"><rect x=\"80\" y=\"542.2666666666667\" width=\"238.52499999999998\" height=\"177.73333333333332\"/></clipPath><clipPath class=\"axesclip\" id=\"clip81f157x9y2\"><rect x=\"80\" y=\"542.2666666666667\" width=\"238.52499999999998\" height=\"177.73333333333332\"/></clipPath><clipPath class=\"axesclip\" id=\"clip81f157x9y3\"><rect x=\"80\" y=\"542.2666666666667\" width=\"238.52499999999998\" height=\"177.73333333333332\"/></clipPath><clipPath class=\"axesclip\" id=\"clip81f157x9y4\"><rect x=\"80\" y=\"542.2666666666667\" width=\"238.52499999999998\" height=\"177.73333333333332\"/></clipPath><clipPath class=\"axesclip\" id=\"clip81f157x9y5\"><rect x=\"80\" y=\"321.1333333333333\" width=\"238.52499999999998\" height=\"177.73333333333335\"/></clipPath><clipPath class=\"axesclip\" id=\"clip81f157x9y6\"><rect x=\"80\" y=\"321.1333333333333\" width=\"238.52499999999998\" height=\"177.73333333333335\"/></clipPath><clipPath class=\"axesclip\" id=\"clip81f157x9y7\"><rect x=\"80\" y=\"321.1333333333333\" width=\"238.52499999999998\" height=\"177.73333333333335\"/></clipPath><clipPath class=\"axesclip\" id=\"clip81f157x9y8\"><rect x=\"80\" y=\"321.1333333333333\" width=\"238.52499999999998\" height=\"177.73333333333335\"/></clipPath><clipPath class=\"axesclip\" id=\"clip81f157x9y9\"><rect x=\"80\" y=\"100.00000000000007\" width=\"238.52499999999998\" height=\"177.73333333333332\"/></clipPath><clipPath class=\"axesclip\" id=\"clip81f157x9y10\"><rect x=\"80\" y=\"100.00000000000007\" width=\"238.52499999999998\" height=\"177.73333333333332\"/></clipPath><clipPath class=\"axesclip\" id=\"clip81f157x9y11\"><rect x=\"80\" y=\"100.00000000000007\" width=\"238.52499999999998\" height=\"177.73333333333332\"/></clipPath><clipPath class=\"axesclip\" id=\"clip81f157x9y12\"><rect x=\"80\" y=\"100.00000000000007\" width=\"238.52499999999998\" height=\"177.73333333333332\"/></clipPath><clipPath class=\"axesclip\" id=\"clip81f157x10\"><rect x=\"338.825\" y=\"0\" width=\"238.52499999999998\" height=\"800\"/></clipPath><clipPath class=\"axesclip\" id=\"clip81f157x10y\"><rect x=\"338.825\" y=\"542.2666666666667\" width=\"238.52499999999998\" height=\"177.73333333333332\"/></clipPath><clipPath class=\"axesclip\" id=\"clip81f157x10y2\"><rect x=\"338.825\" y=\"542.2666666666667\" width=\"238.52499999999998\" height=\"177.73333333333332\"/></clipPath><clipPath class=\"axesclip\" id=\"clip81f157x10y3\"><rect x=\"338.825\" y=\"542.2666666666667\" width=\"238.52499999999998\" height=\"177.73333333333332\"/></clipPath><clipPath class=\"axesclip\" id=\"clip81f157x10y4\"><rect x=\"338.825\" y=\"542.2666666666667\" width=\"238.52499999999998\" height=\"177.73333333333332\"/></clipPath><clipPath class=\"axesclip\" id=\"clip81f157x10y5\"><rect x=\"338.825\" y=\"321.1333333333333\" width=\"238.52499999999998\" height=\"177.73333333333335\"/></clipPath><clipPath class=\"axesclip\" id=\"clip81f157x10y6\"><rect x=\"338.825\" y=\"321.1333333333333\" width=\"238.52499999999998\" height=\"177.73333333333335\"/></clipPath><clipPath class=\"axesclip\" id=\"clip81f157x10y7\"><rect x=\"338.825\" y=\"321.1333333333333\" width=\"238.52499999999998\" height=\"177.73333333333335\"/></clipPath><clipPath class=\"axesclip\" id=\"clip81f157x10y8\"><rect x=\"338.825\" y=\"321.1333333333333\" width=\"238.52499999999998\" height=\"177.73333333333335\"/></clipPath><clipPath class=\"axesclip\" id=\"clip81f157x10y9\"><rect x=\"338.825\" y=\"100.00000000000007\" width=\"238.52499999999998\" height=\"177.73333333333332\"/></clipPath><clipPath class=\"axesclip\" id=\"clip81f157x10y10\"><rect x=\"338.825\" y=\"100.00000000000007\" width=\"238.52499999999998\" height=\"177.73333333333332\"/></clipPath><clipPath class=\"axesclip\" id=\"clip81f157x10y11\"><rect x=\"338.825\" y=\"100.00000000000007\" width=\"238.52499999999998\" height=\"177.73333333333332\"/></clipPath><clipPath class=\"axesclip\" id=\"clip81f157x10y12\"><rect x=\"338.825\" y=\"100.00000000000007\" width=\"238.52499999999998\" height=\"177.73333333333332\"/></clipPath><clipPath class=\"axesclip\" id=\"clip81f157x11\"><rect x=\"597.65\" y=\"0\" width=\"238.52499999999998\" height=\"800\"/></clipPath><clipPath class=\"axesclip\" id=\"clip81f157x11y\"><rect x=\"597.65\" y=\"542.2666666666667\" width=\"238.52499999999998\" height=\"177.73333333333332\"/></clipPath><clipPath class=\"axesclip\" id=\"clip81f157x11y2\"><rect x=\"597.65\" y=\"542.2666666666667\" width=\"238.52499999999998\" height=\"177.73333333333332\"/></clipPath><clipPath class=\"axesclip\" id=\"clip81f157x11y3\"><rect x=\"597.65\" y=\"542.2666666666667\" width=\"238.52499999999998\" height=\"177.73333333333332\"/></clipPath><clipPath class=\"axesclip\" id=\"clip81f157x11y4\"><rect x=\"597.65\" y=\"542.2666666666667\" width=\"238.52499999999998\" height=\"177.73333333333332\"/></clipPath><clipPath class=\"axesclip\" id=\"clip81f157x11y5\"><rect x=\"597.65\" y=\"321.1333333333333\" width=\"238.52499999999998\" height=\"177.73333333333335\"/></clipPath><clipPath class=\"axesclip\" id=\"clip81f157x11y6\"><rect x=\"597.65\" y=\"321.1333333333333\" width=\"238.52499999999998\" height=\"177.73333333333335\"/></clipPath><clipPath class=\"axesclip\" id=\"clip81f157x11y7\"><rect x=\"597.65\" y=\"321.1333333333333\" width=\"238.52499999999998\" height=\"177.73333333333335\"/></clipPath><clipPath class=\"axesclip\" id=\"clip81f157x11y8\"><rect x=\"597.65\" y=\"321.1333333333333\" width=\"238.52499999999998\" height=\"177.73333333333335\"/></clipPath><clipPath class=\"axesclip\" id=\"clip81f157x11y9\"><rect x=\"597.65\" y=\"100.00000000000007\" width=\"238.52499999999998\" height=\"177.73333333333332\"/></clipPath><clipPath class=\"axesclip\" id=\"clip81f157x11y10\"><rect x=\"597.65\" y=\"100.00000000000007\" width=\"238.52499999999998\" height=\"177.73333333333332\"/></clipPath><clipPath class=\"axesclip\" id=\"clip81f157x11y11\"><rect x=\"597.65\" y=\"100.00000000000007\" width=\"238.52499999999998\" height=\"177.73333333333332\"/></clipPath><clipPath class=\"axesclip\" id=\"clip81f157x11y12\"><rect x=\"597.65\" y=\"100.00000000000007\" width=\"238.52499999999998\" height=\"177.73333333333332\"/></clipPath><clipPath class=\"axesclip\" id=\"clip81f157x12\"><rect x=\"856.4749999999999\" y=\"0\" width=\"238.52499999999998\" height=\"800\"/></clipPath><clipPath class=\"axesclip\" id=\"clip81f157x12y\"><rect x=\"856.4749999999999\" y=\"542.2666666666667\" width=\"238.52499999999998\" height=\"177.73333333333332\"/></clipPath><clipPath class=\"axesclip\" id=\"clip81f157x12y2\"><rect x=\"856.4749999999999\" y=\"542.2666666666667\" width=\"238.52499999999998\" height=\"177.73333333333332\"/></clipPath><clipPath class=\"axesclip\" id=\"clip81f157x12y3\"><rect x=\"856.4749999999999\" y=\"542.2666666666667\" width=\"238.52499999999998\" height=\"177.73333333333332\"/></clipPath><clipPath class=\"axesclip\" id=\"clip81f157x12y4\"><rect x=\"856.4749999999999\" y=\"542.2666666666667\" width=\"238.52499999999998\" height=\"177.73333333333332\"/></clipPath><clipPath class=\"axesclip\" id=\"clip81f157x12y5\"><rect x=\"856.4749999999999\" y=\"321.1333333333333\" width=\"238.52499999999998\" height=\"177.73333333333335\"/></clipPath><clipPath class=\"axesclip\" id=\"clip81f157x12y6\"><rect x=\"856.4749999999999\" y=\"321.1333333333333\" width=\"238.52499999999998\" height=\"177.73333333333335\"/></clipPath><clipPath class=\"axesclip\" id=\"clip81f157x12y7\"><rect x=\"856.4749999999999\" y=\"321.1333333333333\" width=\"238.52499999999998\" height=\"177.73333333333335\"/></clipPath><clipPath class=\"axesclip\" id=\"clip81f157x12y8\"><rect x=\"856.4749999999999\" y=\"321.1333333333333\" width=\"238.52499999999998\" height=\"177.73333333333335\"/></clipPath><clipPath class=\"axesclip\" id=\"clip81f157x12y9\"><rect x=\"856.4749999999999\" y=\"100.00000000000007\" width=\"238.52499999999998\" height=\"177.73333333333332\"/></clipPath><clipPath class=\"axesclip\" id=\"clip81f157x12y10\"><rect x=\"856.4749999999999\" y=\"100.00000000000007\" width=\"238.52499999999998\" height=\"177.73333333333332\"/></clipPath><clipPath class=\"axesclip\" id=\"clip81f157x12y11\"><rect x=\"856.4749999999999\" y=\"100.00000000000007\" width=\"238.52499999999998\" height=\"177.73333333333332\"/></clipPath><clipPath class=\"axesclip\" id=\"clip81f157x12y12\"><rect x=\"856.4749999999999\" y=\"100.00000000000007\" width=\"238.52499999999998\" height=\"177.73333333333332\"/></clipPath></g><g class=\"gradients\"/><g class=\"patterns\"/></defs><g class=\"bglayer\"><rect class=\"bg\" x=\"80\" y=\"542.2666666666667\" width=\"238.52499999999998\" height=\"177.73333333333332\" style=\"fill: rgb(229, 236, 246); fill-opacity: 1; stroke-width: 0;\"/><rect class=\"bg\" x=\"338.825\" y=\"542.2666666666667\" width=\"238.52499999999998\" height=\"177.73333333333332\" style=\"fill: rgb(229, 236, 246); fill-opacity: 1; stroke-width: 0;\"/><rect class=\"bg\" x=\"597.65\" y=\"542.2666666666667\" width=\"238.52499999999998\" height=\"177.73333333333332\" style=\"fill: rgb(229, 236, 246); fill-opacity: 1; stroke-width: 0;\"/><rect class=\"bg\" x=\"856.4749999999999\" y=\"542.2666666666667\" width=\"238.52499999999998\" height=\"177.73333333333332\" style=\"fill: rgb(229, 236, 246); fill-opacity: 1; stroke-width: 0;\"/><rect class=\"bg\" x=\"80\" y=\"321.1333333333333\" width=\"238.52499999999998\" height=\"177.73333333333335\" style=\"fill: rgb(229, 236, 246); fill-opacity: 1; stroke-width: 0;\"/><rect class=\"bg\" x=\"338.825\" y=\"321.1333333333333\" width=\"238.52499999999998\" height=\"177.73333333333335\" style=\"fill: rgb(229, 236, 246); fill-opacity: 1; stroke-width: 0;\"/><rect class=\"bg\" x=\"597.65\" y=\"321.1333333333333\" width=\"238.52499999999998\" height=\"177.73333333333335\" style=\"fill: rgb(229, 236, 246); fill-opacity: 1; stroke-width: 0;\"/><rect class=\"bg\" x=\"856.4749999999999\" y=\"321.1333333333333\" width=\"238.52499999999998\" height=\"177.73333333333335\" style=\"fill: rgb(229, 236, 246); fill-opacity: 1; stroke-width: 0;\"/><rect class=\"bg\" x=\"80\" y=\"100.00000000000007\" width=\"238.52499999999998\" height=\"177.73333333333332\" style=\"fill: rgb(229, 236, 246); fill-opacity: 1; stroke-width: 0;\"/><rect class=\"bg\" x=\"338.825\" y=\"100.00000000000007\" width=\"238.52499999999998\" height=\"177.73333333333332\" style=\"fill: rgb(229, 236, 246); fill-opacity: 1; stroke-width: 0;\"/><rect class=\"bg\" x=\"597.65\" y=\"100.00000000000007\" width=\"238.52499999999998\" height=\"177.73333333333332\" style=\"fill: rgb(229, 236, 246); fill-opacity: 1; stroke-width: 0;\"/><rect class=\"bg\" x=\"856.4749999999999\" y=\"100.00000000000007\" width=\"238.52499999999998\" height=\"177.73333333333332\" style=\"fill: rgb(229, 236, 246); fill-opacity: 1; stroke-width: 0;\"/></g><g class=\"layer-below\"><g class=\"imagelayer\"/><g class=\"shapelayer\"/></g><g class=\"cartesianlayer\"><g class=\"subplot xy\"><g class=\"layer-subplot\"><g class=\"shapelayer\"/><g class=\"imagelayer\"/></g><g class=\"minor-gridlayer\"><g class=\"x\"/><g class=\"y\"/></g><g class=\"gridlayer\"><g class=\"x\"><path class=\"xgrid crisp\" transform=\"translate(166.74,0)\" d=\"M0,542.2666666666667v177.73333333333332\" style=\"stroke: rgb(255, 255, 255); stroke-opacity: 1; stroke-width: 1px;\"/><path class=\"xgrid crisp\" transform=\"translate(275.15999999999997,0)\" d=\"M0,542.2666666666667v177.73333333333332\" style=\"stroke: rgb(255, 255, 255); stroke-opacity: 1; stroke-width: 1px;\"/></g><g class=\"y\"><path class=\"ygrid crisp\" transform=\"translate(0,708.9166666666666)\" d=\"M80,0h238.52499999999998\" style=\"stroke: rgb(255, 255, 255); stroke-opacity: 1; stroke-width: 1px;\"/><path class=\"ygrid crisp\" transform=\"translate(0,672.2566666666667)\" d=\"M80,0h238.52499999999998\" style=\"stroke: rgb(255, 255, 255); stroke-opacity: 1; stroke-width: 1px;\"/><path class=\"ygrid crisp\" transform=\"translate(0,635.6066666666667)\" d=\"M80,0h238.52499999999998\" style=\"stroke: rgb(255, 255, 255); stroke-opacity: 1; stroke-width: 1px;\"/><path class=\"ygrid crisp\" transform=\"translate(0,598.9566666666667)\" d=\"M80,0h238.52499999999998\" style=\"stroke: rgb(255, 255, 255); stroke-opacity: 1; stroke-width: 1px;\"/><path class=\"ygrid crisp\" transform=\"translate(0,562.3066666666666)\" d=\"M80,0h238.52499999999998\" style=\"stroke: rgb(255, 255, 255); stroke-opacity: 1; stroke-width: 1px;\"/></g></g><g class=\"zerolinelayer\"/><path class=\"xlines-below\"/><path class=\"ylines-below\"/><g class=\"overlines-below\"/><g class=\"xaxislayer-below\"/><g class=\"yaxislayer-below\"/><g class=\"overaxes-below\"/><g class=\"plot\" transform=\"translate(80,542.2666666666667)\" clip-path=\"url(#clip81f157xyplot)\"><g class=\"scatterlayer mlayer\"><g class=\"trace scatter trace5bcd93\" style=\"stroke-miterlimit: 2; opacity: 1;\"><g class=\"fills\"/><g class=\"errorbars\"/><g class=\"lines\"><path class=\"js-line\" d=\"M130.1,57.27L151.79,65.46L173.47,92.76L195.16,80.52L216.84,87L238.52,103.42\" style=\"vector-effect: non-scaling-stroke; fill: none; stroke: rgb(0, 0, 4); stroke-opacity: 1; stroke-width: 2px; opacity: 1;\"/></g><g class=\"points\"/><g class=\"text\"/></g><g class=\"trace scatter trace5b5f70\" style=\"stroke-miterlimit: 2; opacity: 1;\"><g class=\"fills\"/><g class=\"errorbars\"/><g class=\"lines\"><path class=\"js-line\" d=\"M0,112.01L21.68,95.29L43.37,73.11L65.05,52.06L86.74,39.18L108.42,44.32L130.1,56.78L173.47,75.15L195.16,86.5L216.84,157.62L238.52,163.83\" style=\"vector-effect: non-scaling-stroke; fill: none; stroke: rgb(27, 12, 65); stroke-opacity: 1; stroke-width: 2px; opacity: 1;\"/></g><g class=\"points\"/><g class=\"text\"/></g><g class=\"trace scatter trace57b0d8\" style=\"stroke-miterlimit: 2; opacity: 1;\"><g class=\"fills\"/><g class=\"errorbars\"/><g class=\"lines\"><path class=\"js-line\" d=\"M0,168.85L21.68,162.43L43.37,145.67L65.05,135.68L86.74,130.37L130.1,135.19L151.79,137.3L173.47,142.65L195.16,145.53L216.84,148.3L238.52,155.38\" style=\"vector-effect: non-scaling-stroke; fill: none; stroke: rgb(74, 12, 107); stroke-opacity: 1; stroke-width: 2px; opacity: 1;\"/></g><g class=\"points\"/><g class=\"text\"/></g><g class=\"trace scatter tracef3f7fc\" style=\"stroke-miterlimit: 2; opacity: 1;\"><g class=\"fills\"/><g class=\"errorbars\"/><g class=\"lines\"><path class=\"js-line\" d=\"M0,156.23L21.68,144.98L43.37,130.16L65.05,116.84L86.74,111.02L108.42,112.82L130.1,119.42L151.79,126.42L173.47,131.27L195.16,134.03L216.84,137.56L238.52,149.66\" style=\"vector-effect: non-scaling-stroke; fill: none; stroke: rgb(120, 28, 109); stroke-opacity: 1; stroke-width: 2px; opacity: 1;\"/></g><g class=\"points\"/><g class=\"text\"/></g><g class=\"trace scatter trace42fa9e\" style=\"stroke-miterlimit: 2; opacity: 1;\"><g class=\"fills\"/><g class=\"errorbars\"/><g class=\"lines\"><path class=\"js-line\" d=\"M0,153.33L21.68,139.63L43.37,130.8L65.05,148.23L86.74,154.76L108.42,107.18L130.1,96.68L151.79,99.53L173.47,100.78L195.16,26.28L216.84,42.57L238.52,68.29\" style=\"vector-effect: non-scaling-stroke; fill: none; stroke: rgb(165, 44, 96); stroke-opacity: 1; stroke-width: 2px; opacity: 1;\"/></g><g class=\"points\"/><g class=\"text\"/></g><g class=\"trace scatter trace4cbccf\" style=\"stroke-miterlimit: 2; opacity: 1;\"><g class=\"fills\"/><g class=\"errorbars\"/><g class=\"lines\"><path class=\"js-line\" d=\"M0,86.53L21.68,74.67L43.37,63.98L65.05,45.47L86.74,28.31L108.42,8.89L130.1,16.9L151.79,20.84L173.47,29.9L195.16,37.67L216.84,43.63L238.52,66.79\" style=\"vector-effect: non-scaling-stroke; fill: none; stroke: rgb(207, 68, 70); stroke-opacity: 1; stroke-width: 2px; opacity: 1;\"/></g><g class=\"points\"/><g class=\"text\"/></g><g class=\"trace scatter trace4158c0\" style=\"stroke-miterlimit: 2; opacity: 1;\"><g class=\"fills\"/><g class=\"errorbars\"/><g class=\"lines\"><path class=\"js-line\" d=\"M0,89.73L21.68,81.8L43.37,68.98L65.05,53.04L86.74,46.44L108.42,49.42L130.1,58.9L151.79,65.54L173.47,77.46L195.16,87.72\" style=\"vector-effect: non-scaling-stroke; fill: none; stroke: rgb(237, 105, 37); stroke-opacity: 1; stroke-width: 2px; opacity: 1;\"/></g><g class=\"points\"/><g class=\"text\"/></g></g></g><g class=\"overplot\"/><path class=\"xlines-above crisp\" d=\"M0,0\" style=\"fill: none;\"/><path class=\"ylines-above crisp\" d=\"M0,0\" style=\"fill: none;\"/><g class=\"overlines-above\"/><g class=\"xaxislayer-above\"><g class=\"xtick\"><text text-anchor=\"middle\" x=\"0\" y=\"733\" transform=\"translate(166.74,0)\" style=\"font-family: 'Open Sans', verdana, arial, sans-serif; font-size: 12px; fill: rgb(42, 63, 95); fill-opacity: 1; white-space: pre; opacity: 1;\">5</text></g><g class=\"xtick\"><text text-anchor=\"middle\" x=\"0\" y=\"733\" style=\"font-family: 'Open Sans', verdana, arial, sans-serif; font-size: 12px; fill: rgb(42, 63, 95); fill-opacity: 1; white-space: pre; opacity: 1;\" transform=\"translate(275.15999999999997,0)\">10</text></g></g><g class=\"yaxislayer-above\"><g class=\"ytick\"><text text-anchor=\"end\" x=\"79\" y=\"4.199999999999999\" transform=\"translate(0,708.9166666666666)\" style=\"font-family: 'Open Sans', verdana, arial, sans-serif; font-size: 12px; fill: rgb(42, 63, 95); fill-opacity: 1; white-space: pre; opacity: 1;\">5k</text></g><g class=\"ytick\"><text text-anchor=\"end\" x=\"79\" y=\"4.199999999999999\" style=\"font-family: 'Open Sans', verdana, arial, sans-serif; font-size: 12px; fill: rgb(42, 63, 95); fill-opacity: 1; white-space: pre; opacity: 1;\" transform=\"translate(0,672.2566666666667)\">10k</text></g><g class=\"ytick\"><text text-anchor=\"end\" x=\"79\" y=\"4.199999999999999\" style=\"font-family: 'Open Sans', verdana, arial, sans-serif; font-size: 12px; fill: rgb(42, 63, 95); fill-opacity: 1; white-space: pre; opacity: 1;\" transform=\"translate(0,635.6066666666667)\">15k</text></g><g class=\"ytick\"><text text-anchor=\"end\" x=\"79\" y=\"4.199999999999999\" style=\"font-family: 'Open Sans', verdana, arial, sans-serif; font-size: 12px; fill: rgb(42, 63, 95); fill-opacity: 1; white-space: pre; opacity: 1;\" transform=\"translate(0,598.9566666666667)\">20k</text></g><g class=\"ytick\"><text text-anchor=\"end\" x=\"79\" y=\"4.199999999999999\" style=\"font-family: 'Open Sans', verdana, arial, sans-serif; font-size: 12px; fill: rgb(42, 63, 95); fill-opacity: 1; white-space: pre; opacity: 1;\" transform=\"translate(0,562.3066666666666)\">25k</text></g></g><g class=\"overaxes-above\"/></g><g class=\"subplot x2y2\"><g class=\"layer-subplot\"><g class=\"shapelayer\"/><g class=\"imagelayer\"/></g><g class=\"minor-gridlayer\"><g class=\"x2\"/><g class=\"y2\"/></g><g class=\"gridlayer\"><g class=\"x2\"><path class=\"x2grid crisp\" transform=\"translate(425.565,0)\" d=\"M0,542.2666666666667v177.73333333333332\" style=\"stroke: rgb(255, 255, 255); stroke-opacity: 1; stroke-width: 1px;\"/><path class=\"x2grid crisp\" transform=\"translate(533.985,0)\" d=\"M0,542.2666666666667v177.73333333333332\" style=\"stroke: rgb(255, 255, 255); stroke-opacity: 1; stroke-width: 1px;\"/></g><g class=\"y2\"><path class=\"y2grid crisp\" transform=\"translate(0,678.4866666666667)\" d=\"M338.825,0h238.52499999999998\" style=\"stroke: rgb(255, 255, 255); stroke-opacity: 1; stroke-width: 1px;\"/><path class=\"y2grid crisp\" transform=\"translate(0,616.1166666666667)\" d=\"M338.825,0h238.52499999999998\" style=\"stroke: rgb(255, 255, 255); stroke-opacity: 1; stroke-width: 1px;\"/><path class=\"y2grid crisp\" transform=\"translate(0,553.7466666666667)\" d=\"M338.825,0h238.52499999999998\" style=\"stroke: rgb(255, 255, 255); stroke-opacity: 1; stroke-width: 1px;\"/></g></g><g class=\"zerolinelayer\"/><path class=\"xlines-below\"/><path class=\"ylines-below\"/><g class=\"overlines-below\"/><g class=\"xaxislayer-below\"/><g class=\"yaxislayer-below\"/><g class=\"overaxes-below\"/><g class=\"plot\" transform=\"translate(338.825,542.2666666666667)\" clip-path=\"url(#clip81f157x2y2plot)\"><g class=\"scatterlayer mlayer\"><g class=\"trace scatter trace4d77b5\" style=\"stroke-miterlimit: 2; opacity: 1;\"><g class=\"fills\"/><g class=\"errorbars\"/><g class=\"lines\"><path class=\"js-line\" d=\"M130.1,76.34L151.79,78.72L173.47,89.07L195.16,104.57L216.84,127.65L238.52,152.35\" style=\"vector-effect: non-scaling-stroke; fill: none; stroke: rgb(0, 0, 4); stroke-opacity: 1; stroke-width: 2px; opacity: 1;\"/></g><g class=\"points\"/><g class=\"text\"/></g><g class=\"trace scatter tracec1a89e\" style=\"stroke-miterlimit: 2; opacity: 1;\"><g class=\"fills\"/><g class=\"errorbars\"/><g class=\"lines\"><path class=\"js-line\" d=\"M0,168.85L21.68,146.36L43.37,117.23L65.05,96.62L86.74,87.42L108.42,71.64L130.1,78.15L151.79,78.5L173.47,88.76L216.84,115.42L238.52,134.42\" style=\"vector-effect: non-scaling-stroke; fill: none; stroke: rgb(27, 12, 65); stroke-opacity: 1; stroke-width: 2px; opacity: 1;\"/></g><g class=\"points\"/><g class=\"text\"/></g><g class=\"trace scatter trace9d5ab3\" style=\"stroke-miterlimit: 2; opacity: 1;\"><g class=\"fills\"/><g class=\"errorbars\"/><g class=\"lines\"><path class=\"js-line\" d=\"M0,144.58L21.68,118.79L43.37,101.01L65.05,83.36L86.74,68.49L108.42,69.92L130.1,79L151.79,86.48L173.47,97.24L195.16,111.71L216.84,123.41L238.52,147.92\" style=\"vector-effect: non-scaling-stroke; fill: none; stroke: rgb(74, 12, 107); stroke-opacity: 1; stroke-width: 2px; opacity: 1;\"/></g><g class=\"points\"/><g class=\"text\"/></g><g class=\"trace scatter trace95ab92\" style=\"stroke-miterlimit: 2; opacity: 1;\"><g class=\"fills\"/><g class=\"errorbars\"/><g class=\"lines\"><path class=\"js-line\" d=\"M0,160.27L43.37,103.88L65.05,85.7L86.74,77.53L108.42,74.01L130.1,77.06L151.79,84.42L173.47,95.46L195.16,105.54L216.84,120.88L238.52,146.02\" style=\"vector-effect: non-scaling-stroke; fill: none; stroke: rgb(120, 28, 109); stroke-opacity: 1; stroke-width: 2px; opacity: 1;\"/></g><g class=\"points\"/><g class=\"text\"/></g><g class=\"trace scatter trace6056a4\" style=\"stroke-miterlimit: 2; opacity: 1;\"><g class=\"fills\"/><g class=\"errorbars\"/><g class=\"lines\"><path class=\"js-line\" d=\"M0,154.81L21.68,119.85L43.37,98.21L65.05,107.75L86.74,65.21L108.42,24.23L130.1,18.37L151.79,8.89L173.47,12.04L195.16,16.34L216.84,41.7L238.52,73.29\" style=\"vector-effect: non-scaling-stroke; fill: none; stroke: rgb(165, 44, 96); stroke-opacity: 1; stroke-width: 2px; opacity: 1;\"/></g><g class=\"points\"/><g class=\"text\"/></g><g class=\"trace scatter trace5f40fe\" style=\"stroke-miterlimit: 2; opacity: 1;\"><g class=\"fills\"/><g class=\"errorbars\"/><g class=\"lines\"><path class=\"js-line\" d=\"M0,96.46L21.68,82.58L43.37,75.1L65.05,63.22L86.74,55.98L108.42,48.03L130.1,53.55L151.79,47.53L173.47,47.22L195.16,50.71L216.84,49.55L238.52,77.87\" style=\"vector-effect: non-scaling-stroke; fill: none; stroke: rgb(207, 68, 70); stroke-opacity: 1; stroke-width: 2px; opacity: 1;\"/></g><g class=\"points\"/><g class=\"text\"/></g><g class=\"trace scatter traceaf26bc\" style=\"stroke-miterlimit: 2; opacity: 1;\"><g class=\"fills\"/><g class=\"errorbars\"/><g class=\"lines\"><path class=\"js-line\" d=\"M0,105.57L21.68,91.41L43.37,83.3L65.05,79.46L86.74,77.12L108.42,92.62L130.1,115.86L151.79,117.82L173.47,132.05L195.16,159.77\" style=\"vector-effect: non-scaling-stroke; fill: none; stroke: rgb(237, 105, 37); stroke-opacity: 1; stroke-width: 2px; opacity: 1;\"/></g><g class=\"points\"/><g class=\"text\"/></g></g></g><g class=\"overplot\"/><path class=\"xlines-above crisp\" d=\"M0,0\" style=\"fill: none;\"/><path class=\"ylines-above crisp\" d=\"M0,0\" style=\"fill: none;\"/><g class=\"overlines-above\"/><g class=\"xaxislayer-above\"><g class=\"x2tick\"><text text-anchor=\"middle\" x=\"0\" y=\"733\" transform=\"translate(425.565,0)\" style=\"font-family: 'Open Sans', verdana, arial, sans-serif; font-size: 12px; fill: rgb(42, 63, 95); fill-opacity: 1; white-space: pre; opacity: 1;\">5</text></g><g class=\"x2tick\"><text text-anchor=\"middle\" x=\"0\" y=\"733\" style=\"font-family: 'Open Sans', verdana, arial, sans-serif; font-size: 12px; fill: rgb(42, 63, 95); fill-opacity: 1; white-space: pre; opacity: 1;\" transform=\"translate(533.985,0)\">10</text></g></g><g class=\"yaxislayer-above\"/><g class=\"overaxes-above\"/></g><g class=\"subplot x3y3\"><g class=\"layer-subplot\"><g class=\"shapelayer\"/><g class=\"imagelayer\"/></g><g class=\"minor-gridlayer\"><g class=\"x3\"/><g class=\"y3\"/></g><g class=\"gridlayer\"><g class=\"x3\"><path class=\"x3grid crisp\" transform=\"translate(684.39,0)\" d=\"M0,542.2666666666667v177.73333333333332\" style=\"stroke: rgb(255, 255, 255); stroke-opacity: 1; stroke-width: 1px;\"/><path class=\"x3grid crisp\" transform=\"translate(792.81,0)\" d=\"M0,542.2666666666667v177.73333333333332\" style=\"stroke: rgb(255, 255, 255); stroke-opacity: 1; stroke-width: 1px;\"/></g><g class=\"y3\"><path class=\"y3grid crisp\" transform=\"translate(0,716.8966666666666)\" d=\"M597.65,0h238.52499999999998\" style=\"stroke: rgb(255, 255, 255); stroke-opacity: 1; stroke-width: 1px;\"/><path class=\"y3grid crisp\" transform=\"translate(0,683.2866666666666)\" d=\"M597.65,0h238.52499999999998\" style=\"stroke: rgb(255, 255, 255); stroke-opacity: 1; stroke-width: 1px;\"/><path class=\"y3grid crisp\" transform=\"translate(0,649.6866666666666)\" d=\"M597.65,0h238.52499999999998\" style=\"stroke: rgb(255, 255, 255); stroke-opacity: 1; stroke-width: 1px;\"/><path class=\"y3grid crisp\" transform=\"translate(0,616.0766666666666)\" d=\"M597.65,0h238.52499999999998\" style=\"stroke: rgb(255, 255, 255); stroke-opacity: 1; stroke-width: 1px;\"/><path class=\"y3grid crisp\" transform=\"translate(0,582.4766666666667)\" d=\"M597.65,0h238.52499999999998\" style=\"stroke: rgb(255, 255, 255); stroke-opacity: 1; stroke-width: 1px;\"/><path class=\"y3grid crisp\" transform=\"translate(0,548.8666666666667)\" d=\"M597.65,0h238.52499999999998\" style=\"stroke: rgb(255, 255, 255); stroke-opacity: 1; stroke-width: 1px;\"/></g></g><g class=\"zerolinelayer\"/><path class=\"xlines-below\"/><path class=\"ylines-below\"/><g class=\"overlines-below\"/><g class=\"xaxislayer-below\"/><g class=\"yaxislayer-below\"/><g class=\"overaxes-below\"/><g class=\"plot\" transform=\"translate(597.65,542.2666666666667)\" clip-path=\"url(#clip81f157x3y3plot)\"><g class=\"scatterlayer mlayer\"><g class=\"trace scatter tracec289b5\" style=\"stroke-miterlimit: 2; opacity: 1;\"><g class=\"fills\"/><g class=\"errorbars\"/><g class=\"lines\"><path class=\"js-line\" d=\"M130.1,128.67L151.79,131.49L173.47,139.39L195.16,144.84L216.84,152.75L238.52,163.71\" style=\"vector-effect: non-scaling-stroke; fill: none; stroke: rgb(0, 0, 4); stroke-opacity: 1; stroke-width: 2px; opacity: 1;\"/></g><g class=\"points\"/><g class=\"text\"/></g><g class=\"trace scatter tracededa04\" style=\"stroke-miterlimit: 2; opacity: 1;\"><g class=\"fills\"/><g class=\"errorbars\"/><g class=\"lines\"><path class=\"js-line\" d=\"M0,168.85L21.68,158.28L43.37,142.95L65.05,86.13L86.74,80.26L108.42,83.25L130.1,93.96L151.79,99.4L173.47,106.79L195.16,117.78L216.84,130.99L238.52,146.1\" style=\"vector-effect: non-scaling-stroke; fill: none; stroke: rgb(27, 12, 65); stroke-opacity: 1; stroke-width: 2px; opacity: 1;\"/></g><g class=\"points\"/><g class=\"text\"/></g><g class=\"trace scatter trace06e74f\" style=\"stroke-miterlimit: 2; opacity: 1;\"><g class=\"fills\"/><g class=\"errorbars\"/><g class=\"lines\"><path class=\"js-line\" d=\"M0,151.25L21.68,136.12L43.37,114.91L65.05,49.73L86.74,36.49L108.42,38.76L130.1,45.75L151.79,53.14L173.47,69.88L195.16,83.93L216.84,100.01L238.52,122.71\" style=\"vector-effect: non-scaling-stroke; fill: none; stroke: rgb(74, 12, 107); stroke-opacity: 1; stroke-width: 2px; opacity: 1;\"/></g><g class=\"points\"/><g class=\"text\"/></g><g class=\"trace scatter tracecfd08b\" style=\"stroke-miterlimit: 2; opacity: 1;\"><g class=\"fills\"/><g class=\"errorbars\"/><g class=\"lines\"><path class=\"js-line\" d=\"M0,127.08L21.68,114.09L43.37,82.72L65.05,58.02L86.74,39.52L108.42,36.24L130.1,45.16L151.79,54.62L173.47,65.46L195.16,75.31L216.84,95.59L238.52,125.14\" style=\"vector-effect: non-scaling-stroke; fill: none; stroke: rgb(120, 28, 109); stroke-opacity: 1; stroke-width: 2px; opacity: 1;\"/></g><g class=\"points\"/><g class=\"text\"/></g><g class=\"trace scatter trace7285a4\" style=\"stroke-miterlimit: 2; opacity: 1;\"><g class=\"fills\"/><g class=\"errorbars\"/><g class=\"lines\"><path class=\"js-line\" d=\"M0,130.86L43.37,76.08L65.05,78.1L86.74,52.44L108.42,18.4L130.1,11.36L151.79,8.89L173.47,14.9L195.16,30.98L216.84,59.88L238.52,91.52\" style=\"vector-effect: non-scaling-stroke; fill: none; stroke: rgb(165, 44, 96); stroke-opacity: 1; stroke-width: 2px; opacity: 1;\"/></g><g class=\"points\"/><g class=\"text\"/></g><g class=\"trace scatter trace894981\" style=\"stroke-miterlimit: 2; opacity: 1;\"><g class=\"fills\"/><g class=\"errorbars\"/><g class=\"lines\"><path class=\"js-line\" d=\"M0,109.38L21.68,93.17L43.37,79.51L86.74,34.17L108.42,23.61L130.1,30.63L151.79,31.22L173.47,37.8L195.16,46.83L216.84,64.44L238.52,98.39\" style=\"vector-effect: non-scaling-stroke; fill: none; stroke: rgb(207, 68, 70); stroke-opacity: 1; stroke-width: 2px; opacity: 1;\"/></g><g class=\"points\"/><g class=\"text\"/></g><g class=\"trace scatter trace24f310\" style=\"stroke-miterlimit: 2; opacity: 1;\"><g class=\"fills\"/><g class=\"errorbars\"/><g class=\"lines\"><path class=\"js-line\" d=\"M0,120.74L21.68,109.13L43.37,98.86L65.05,76.58L86.74,59.48L108.42,56.54L130.1,60.42L151.79,63.88L173.47,81.17L195.16,98.21\" style=\"vector-effect: non-scaling-stroke; fill: none; stroke: rgb(237, 105, 37); stroke-opacity: 1; stroke-width: 2px; opacity: 1;\"/></g><g class=\"points\"/><g class=\"text\"/></g></g></g><g class=\"overplot\"/><path class=\"xlines-above crisp\" d=\"M0,0\" style=\"fill: none;\"/><path class=\"ylines-above crisp\" d=\"M0,0\" style=\"fill: none;\"/><g class=\"overlines-above\"/><g class=\"xaxislayer-above\"><g class=\"x3tick\"><text text-anchor=\"middle\" x=\"0\" y=\"733\" transform=\"translate(684.39,0)\" style=\"font-family: 'Open Sans', verdana, arial, sans-serif; font-size: 12px; fill: rgb(42, 63, 95); fill-opacity: 1; white-space: pre; opacity: 1;\">5</text></g><g class=\"x3tick\"><text text-anchor=\"middle\" x=\"0\" y=\"733\" style=\"font-family: 'Open Sans', verdana, arial, sans-serif; font-size: 12px; fill: rgb(42, 63, 95); fill-opacity: 1; white-space: pre; opacity: 1;\" transform=\"translate(792.81,0)\">10</text></g></g><g class=\"yaxislayer-above\"/><g class=\"overaxes-above\"/></g><g class=\"subplot x4y4\"><g class=\"layer-subplot\"><g class=\"shapelayer\"/><g class=\"imagelayer\"/></g><g class=\"minor-gridlayer\"><g class=\"x4\"/><g class=\"y4\"/></g><g class=\"gridlayer\"><g class=\"x4\"><path class=\"x4grid crisp\" transform=\"translate(943.2149999999999,0)\" d=\"M0,542.2666666666667v177.73333333333332\" style=\"stroke: rgb(255, 255, 255); stroke-opacity: 1; stroke-width: 1px;\"/><path class=\"x4grid crisp\" transform=\"translate(1051.635,0)\" d=\"M0,542.2666666666667v177.73333333333332\" style=\"stroke: rgb(255, 255, 255); stroke-opacity: 1; stroke-width: 1px;\"/></g><g class=\"y4\"><path class=\"y4grid crisp\" transform=\"translate(0,694.5366666666666)\" d=\"M856.4749999999999,0h238.52499999999998\" style=\"stroke: rgb(255, 255, 255); stroke-opacity: 1; stroke-width: 1px;\"/><path class=\"y4grid crisp\" transform=\"translate(0,658.5166666666667)\" d=\"M856.4749999999999,0h238.52499999999998\" style=\"stroke: rgb(255, 255, 255); stroke-opacity: 1; stroke-width: 1px;\"/><path class=\"y4grid crisp\" transform=\"translate(0,622.4866666666667)\" d=\"M856.4749999999999,0h238.52499999999998\" style=\"stroke: rgb(255, 255, 255); stroke-opacity: 1; stroke-width: 1px;\"/><path class=\"y4grid crisp\" transform=\"translate(0,586.4566666666667)\" d=\"M856.4749999999999,0h238.52499999999998\" style=\"stroke: rgb(255, 255, 255); stroke-opacity: 1; stroke-width: 1px;\"/><path class=\"y4grid crisp\" transform=\"translate(0,550.4366666666666)\" d=\"M856.4749999999999,0h238.52499999999998\" style=\"stroke: rgb(255, 255, 255); stroke-opacity: 1; stroke-width: 1px;\"/></g></g><g class=\"zerolinelayer\"/><path class=\"xlines-below\"/><path class=\"ylines-below\"/><g class=\"overlines-below\"/><g class=\"xaxislayer-below\"/><g class=\"yaxislayer-below\"/><g class=\"overaxes-below\"/><g class=\"plot\" transform=\"translate(856.4749999999999,542.2666666666667)\" clip-path=\"url(#clip81f157x4y4plot)\"><g class=\"scatterlayer mlayer\"><g class=\"trace scatter traceb6e60e\" style=\"stroke-miterlimit: 2; opacity: 1;\"><g class=\"fills\"/><g class=\"errorbars\"/><g class=\"lines\"><path class=\"js-line\" d=\"M130.1,127.6L151.79,126.33L173.47,133.18L195.16,142.55L216.84,147.95L238.52,160.92\" style=\"vector-effect: non-scaling-stroke; fill: none; stroke: rgb(0, 0, 4); stroke-opacity: 1; stroke-width: 2px; opacity: 1;\"/></g><g class=\"points\"/><g class=\"text\"/></g><g class=\"trace scatter trace78d576\" style=\"stroke-miterlimit: 2; opacity: 1;\"><g class=\"fills\"/><g class=\"errorbars\"/><g class=\"lines\"><path class=\"js-line\" d=\"M0,165.6L21.68,150.65L43.37,138.22L65.05,126.7L86.74,119.31L108.42,122.91L130.1,123.27L151.79,126.15L173.47,153.17L216.84,162.9L238.52,168.85\" style=\"vector-effect: non-scaling-stroke; fill: none; stroke: rgb(27, 12, 65); stroke-opacity: 1; stroke-width: 2px; opacity: 1;\"/></g><g class=\"points\"/><g class=\"text\"/></g><g class=\"trace scatter tracee8caa0\" style=\"stroke-miterlimit: 2; opacity: 1;\"><g class=\"fills\"/><g class=\"errorbars\"/><g class=\"lines\"><path class=\"js-line\" d=\"M0,157.86L21.68,126.15L43.37,117.51L65.05,102.38L86.74,93.91L108.42,96.43L130.1,104.36L151.79,105.26L173.47,112.82L195.16,118.05L216.84,129.94L238.52,140.03\" style=\"vector-effect: non-scaling-stroke; fill: none; stroke: rgb(74, 12, 107); stroke-opacity: 1; stroke-width: 2px; opacity: 1;\"/></g><g class=\"points\"/><g class=\"text\"/></g><g class=\"trace scatter trace815f6e\" style=\"stroke-miterlimit: 2; opacity: 1;\"><g class=\"fills\"/><g class=\"errorbars\"/><g class=\"lines\"><path class=\"js-line\" d=\"M0,134.26L21.68,119.49L43.37,112.64L65.05,113.18L86.74,89.05L108.42,82.02L130.1,91.57L151.79,96.97L173.47,99.13L195.16,104.72L216.84,113.73L238.52,124.17\" style=\"vector-effect: non-scaling-stroke; fill: none; stroke: rgb(120, 28, 109); stroke-opacity: 1; stroke-width: 2px; opacity: 1;\"/></g><g class=\"points\"/><g class=\"text\"/></g><g class=\"trace scatter tracebdcb91\" style=\"stroke-miterlimit: 2; opacity: 1;\"><g class=\"fills\"/><g class=\"errorbars\"/><g class=\"lines\"><path class=\"js-line\" d=\"M0,127.42L21.68,95.71L43.37,90.67L65.05,100.4L86.74,78.6L108.42,56.8L130.1,26.18L151.79,8.89L173.47,9.97L195.16,24.56L216.84,50.86L238.52,86.16\" style=\"vector-effect: non-scaling-stroke; fill: none; stroke: rgb(165, 44, 96); stroke-opacity: 1; stroke-width: 2px; opacity: 1;\"/></g><g class=\"points\"/><g class=\"text\"/></g><g class=\"trace scatter tracefae18f\" style=\"stroke-miterlimit: 2; opacity: 1;\"><g class=\"fills\"/><g class=\"errorbars\"/><g class=\"lines\"><path class=\"js-line\" d=\"M0,100.76L21.68,74.1L43.37,62.93L65.05,45.63L86.74,36.81L108.42,40.77L130.1,48.52L151.79,44.37L173.47,45.09L195.16,55.9L216.84,75.54L238.52,95.17\" style=\"vector-effect: non-scaling-stroke; fill: none; stroke: rgb(207, 68, 70); stroke-opacity: 1; stroke-width: 2px; opacity: 1;\"/></g><g class=\"points\"/><g class=\"text\"/></g><g class=\"trace scatter traceaf2ef0\" style=\"stroke-miterlimit: 2; opacity: 1;\"><g class=\"fills\"/><g class=\"errorbars\"/><g class=\"lines\"><path class=\"js-line\" d=\"M0,116.43L21.68,100.04L43.37,96.61L65.05,91.03L86.74,87.25L108.42,86.89L130.1,94.45L151.79,96.79L173.47,102.2L195.16,124.17\" style=\"vector-effect: non-scaling-stroke; fill: none; stroke: rgb(237, 105, 37); stroke-opacity: 1; stroke-width: 2px; opacity: 1;\"/></g><g class=\"points\"/><g class=\"text\"/></g></g></g><g class=\"overplot\"/><path class=\"xlines-above crisp\" d=\"M0,0\" style=\"fill: none;\"/><path class=\"ylines-above crisp\" d=\"M0,0\" style=\"fill: none;\"/><g class=\"overlines-above\"/><g class=\"xaxislayer-above\"><g class=\"x4tick\"><text text-anchor=\"middle\" x=\"0\" y=\"733\" transform=\"translate(943.2149999999999,0)\" style=\"font-family: 'Open Sans', verdana, arial, sans-serif; font-size: 12px; fill: rgb(42, 63, 95); fill-opacity: 1; white-space: pre; opacity: 1;\">5</text></g><g class=\"x4tick\"><text text-anchor=\"middle\" x=\"0\" y=\"733\" style=\"font-family: 'Open Sans', verdana, arial, sans-serif; font-size: 12px; fill: rgb(42, 63, 95); fill-opacity: 1; white-space: pre; opacity: 1;\" transform=\"translate(1051.635,0)\">10</text></g></g><g class=\"yaxislayer-above\"/><g class=\"overaxes-above\"/></g><g class=\"subplot x5y5\"><g class=\"layer-subplot\"><g class=\"shapelayer\"/><g class=\"imagelayer\"/></g><g class=\"minor-gridlayer\"><g class=\"x5\"/><g class=\"y5\"/></g><g class=\"gridlayer\"><g class=\"x5\"><path class=\"x5grid crisp\" transform=\"translate(166.74,0)\" d=\"M0,321.1333333333333v177.73333333333335\" style=\"stroke: rgb(255, 255, 255); stroke-opacity: 1; stroke-width: 1px;\"/><path class=\"x5grid crisp\" transform=\"translate(275.15999999999997,0)\" d=\"M0,321.1333333333333v177.73333333333335\" style=\"stroke: rgb(255, 255, 255); stroke-opacity: 1; stroke-width: 1px;\"/></g><g class=\"y5\"><path class=\"y5grid crisp\" transform=\"translate(0,450.9233333333333)\" d=\"M80,0h238.52499999999998\" style=\"stroke: rgb(255, 255, 255); stroke-opacity: 1; stroke-width: 1px;\"/><path class=\"y5grid crisp\" transform=\"translate(0,398.6633333333333)\" d=\"M80,0h238.52499999999998\" style=\"stroke: rgb(255, 255, 255); stroke-opacity: 1; stroke-width: 1px;\"/><path class=\"y5grid crisp\" transform=\"translate(0,346.4033333333333)\" d=\"M80,0h238.52499999999998\" style=\"stroke: rgb(255, 255, 255); stroke-opacity: 1; stroke-width: 1px;\"/></g></g><g class=\"zerolinelayer\"/><path class=\"xlines-below\"/><path class=\"ylines-below\"/><g class=\"overlines-below\"/><g class=\"xaxislayer-below\"/><g class=\"yaxislayer-below\"/><g class=\"overaxes-below\"/><g class=\"plot\" transform=\"translate(80,321.1333333333333)\" clip-path=\"url(#clip81f157x5y5plot)\"><g class=\"scatterlayer mlayer\"><g class=\"trace scatter trace669370\" style=\"stroke-miterlimit: 2; opacity: 1;\"><g class=\"fills\"/><g class=\"errorbars\"/><g class=\"lines\"><path class=\"js-line\" d=\"M130.1,149.78L151.79,150.28L173.47,152.47L195.16,160.75L216.84,164.15L238.52,167.13\" style=\"vector-effect: non-scaling-stroke; fill: none; stroke: rgb(0, 0, 4); stroke-opacity: 1; stroke-width: 2px; opacity: 1;\"/></g><g class=\"points\"/><g class=\"text\"/></g><g class=\"trace scatter trace66fa4d\" style=\"stroke-miterlimit: 2; opacity: 1;\"><g class=\"fills\"/><g class=\"errorbars\"/><g class=\"lines\"><path class=\"js-line\" d=\"M0,168.85L21.68,166.43L43.37,162.85L86.74,155.26L108.42,151.41L130.1,149.85L151.79,151.05L173.47,152.83L195.16,155.72L216.84,158.53L238.52,163.26\" style=\"vector-effect: non-scaling-stroke; fill: none; stroke: rgb(27, 12, 65); stroke-opacity: 1; stroke-width: 2px; opacity: 1;\"/></g><g class=\"points\"/><g class=\"text\"/></g><g class=\"trace scatter trace10ad2c\" style=\"stroke-miterlimit: 2; opacity: 1;\"><g class=\"fills\"/><g class=\"errorbars\"/><g class=\"lines\"><path class=\"js-line\" d=\"M0,166.39L21.68,163.46L43.37,158.25L65.05,152.73L86.74,137.04L108.42,135.37L130.1,134.76L151.79,135.36L173.47,121.46L216.84,133.23L238.52,141.19\" style=\"vector-effect: non-scaling-stroke; fill: none; stroke: rgb(74, 12, 107); stroke-opacity: 1; stroke-width: 2px; opacity: 1;\"/></g><g class=\"points\"/><g class=\"text\"/></g><g class=\"trace scatter trace3dc6b4\" style=\"stroke-miterlimit: 2; opacity: 1;\"><g class=\"fills\"/><g class=\"errorbars\"/><g class=\"lines\"><path class=\"js-line\" d=\"M0,144.3L21.68,138.82L43.37,132.35L65.05,124.83L86.74,119.05L108.42,117.63L130.1,117.54L151.79,119.67L173.47,122.96L195.16,121.84L216.84,125.81L238.52,138.01\" style=\"vector-effect: non-scaling-stroke; fill: none; stroke: rgb(120, 28, 109); stroke-opacity: 1; stroke-width: 2px; opacity: 1;\"/></g><g class=\"points\"/><g class=\"text\"/></g><g class=\"trace scatter trace726c2f\" style=\"stroke-miterlimit: 2; opacity: 1;\"><g class=\"fills\"/><g class=\"errorbars\"/><g class=\"lines\"><path class=\"js-line\" d=\"M0,139.89L21.68,109.51L43.37,81.97L65.05,102.03L86.74,92.32L108.42,27.57L130.1,13.92L151.79,8.89L173.47,11.51L195.16,26.31L216.84,50.06L238.52,74.3\" style=\"vector-effect: non-scaling-stroke; fill: none; stroke: rgb(165, 44, 96); stroke-opacity: 1; stroke-width: 2px; opacity: 1;\"/></g><g class=\"points\"/><g class=\"text\"/></g><g class=\"trace scatter trace9924d2\" style=\"stroke-miterlimit: 2; opacity: 1;\"><g class=\"fills\"/><g class=\"errorbars\"/><g class=\"lines\"><path class=\"js-line\" d=\"M0,91.09L43.37,79.93L65.05,66.21L86.74,56.01L108.42,44.65L130.1,46.57L151.79,36.2L173.47,39.02L195.16,45.18L216.84,58.26L238.52,78.95\" style=\"vector-effect: non-scaling-stroke; fill: none; stroke: rgb(207, 68, 70); stroke-opacity: 1; stroke-width: 2px; opacity: 1;\"/></g><g class=\"points\"/><g class=\"text\"/></g><g class=\"trace scatter tracebf39eb\" style=\"stroke-miterlimit: 2; opacity: 1;\"><g class=\"fills\"/><g class=\"errorbars\"/><g class=\"lines\"><path class=\"js-line\" d=\"M0,98.17L43.37,92.95L65.05,80.67L86.74,71.56L108.42,64.49L130.1,64.76L151.79,63.87L173.47,69.31L195.16,84.37\" style=\"vector-effect: non-scaling-stroke; fill: none; stroke: rgb(237, 105, 37); stroke-opacity: 1; stroke-width: 2px; opacity: 1;\"/></g><g class=\"points\"/><g class=\"text\"/></g></g></g><g class=\"overplot\"/><path class=\"xlines-above crisp\" d=\"M0,0\" style=\"fill: none;\"/><path class=\"ylines-above crisp\" d=\"M0,0\" style=\"fill: none;\"/><g class=\"overlines-above\"/><g class=\"xaxislayer-above\"/><g class=\"yaxislayer-above\"><g class=\"y5tick\"><text text-anchor=\"end\" x=\"79\" y=\"4.199999999999999\" transform=\"translate(0,450.9233333333333)\" style=\"font-family: 'Open Sans', verdana, arial, sans-serif; font-size: 12px; fill: rgb(42, 63, 95); fill-opacity: 1; white-space: pre; opacity: 1;\">5k</text></g><g class=\"y5tick\"><text text-anchor=\"end\" x=\"79\" y=\"4.199999999999999\" style=\"font-family: 'Open Sans', verdana, arial, sans-serif; font-size: 12px; fill: rgb(42, 63, 95); fill-opacity: 1; white-space: pre; opacity: 1;\" transform=\"translate(0,398.6633333333333)\">10k</text></g><g class=\"y5tick\"><text text-anchor=\"end\" x=\"79\" y=\"4.199999999999999\" style=\"font-family: 'Open Sans', verdana, arial, sans-serif; font-size: 12px; fill: rgb(42, 63, 95); fill-opacity: 1; white-space: pre; opacity: 1;\" transform=\"translate(0,346.4033333333333)\">15k</text></g></g><g class=\"overaxes-above\"/></g><g class=\"subplot x6y6\"><g class=\"layer-subplot\"><g class=\"shapelayer\"/><g class=\"imagelayer\"/></g><g class=\"minor-gridlayer\"><g class=\"x6\"/><g class=\"y6\"/></g><g class=\"gridlayer\"><g class=\"x6\"><path class=\"x6grid crisp\" transform=\"translate(425.565,0)\" d=\"M0,321.1333333333333v177.73333333333335\" style=\"stroke: rgb(255, 255, 255); stroke-opacity: 1; stroke-width: 1px;\"/><path class=\"x6grid crisp\" transform=\"translate(533.985,0)\" d=\"M0,321.1333333333333v177.73333333333335\" style=\"stroke: rgb(255, 255, 255); stroke-opacity: 1; stroke-width: 1px;\"/></g><g class=\"y6\"><path class=\"y6grid crisp\" transform=\"translate(0,469.1533333333333)\" d=\"M338.825,0h238.52499999999998\" style=\"stroke: rgb(255, 255, 255); stroke-opacity: 1; stroke-width: 1px;\"/><path class=\"y6grid crisp\" transform=\"translate(0,435.5133333333333)\" d=\"M338.825,0h238.52499999999998\" style=\"stroke: rgb(255, 255, 255); stroke-opacity: 1; stroke-width: 1px;\"/><path class=\"y6grid crisp\" transform=\"translate(0,401.87333333333333)\" d=\"M338.825,0h238.52499999999998\" style=\"stroke: rgb(255, 255, 255); stroke-opacity: 1; stroke-width: 1px;\"/><path class=\"y6grid crisp\" transform=\"translate(0,368.23333333333335)\" d=\"M338.825,0h238.52499999999998\" style=\"stroke: rgb(255, 255, 255); stroke-opacity: 1; stroke-width: 1px;\"/><path class=\"y6grid crisp\" transform=\"translate(0,334.5933333333333)\" d=\"M338.825,0h238.52499999999998\" style=\"stroke: rgb(255, 255, 255); stroke-opacity: 1; stroke-width: 1px;\"/></g></g><g class=\"zerolinelayer\"/><path class=\"xlines-below\"/><path class=\"ylines-below\"/><g class=\"overlines-below\"/><g class=\"xaxislayer-below\"/><g class=\"yaxislayer-below\"/><g class=\"overaxes-below\"/><g class=\"plot\" transform=\"translate(338.825,321.1333333333333)\" clip-path=\"url(#clip81f157x6y6plot)\"><g class=\"scatterlayer mlayer\"><g class=\"trace scatter trace928863\" style=\"stroke-miterlimit: 2; opacity: 1;\"><g class=\"fills\"/><g class=\"errorbars\"/><g class=\"lines\"><path class=\"js-line\" d=\"M130.1,57.53L151.79,64.02L173.47,69.41L195.16,79.53L216.84,87.87L238.52,98.37\" style=\"vector-effect: non-scaling-stroke; fill: none; stroke: rgb(0, 0, 4); stroke-opacity: 1; stroke-width: 2px; opacity: 1;\"/></g><g class=\"points\"/><g class=\"text\"/></g><g class=\"trace scatter trace6bebc7\" style=\"stroke-miterlimit: 2; opacity: 1;\"><g class=\"fills\"/><g class=\"errorbars\"/><g class=\"lines\"><path class=\"js-line\" d=\"M0,106.61L21.68,93.86L43.37,78.05L65.05,58.57L86.74,48.31L108.42,54.74L130.1,62.61L173.47,76.91L195.16,82.93L216.84,86.5L238.52,96.28\" style=\"vector-effect: non-scaling-stroke; fill: none; stroke: rgb(27, 12, 65); stroke-opacity: 1; stroke-width: 2px; opacity: 1;\"/></g><g class=\"points\"/><g class=\"text\"/></g><g class=\"trace scatter tracefb2e0e\" style=\"stroke-miterlimit: 2; opacity: 1;\"><g class=\"fills\"/><g class=\"errorbars\"/><g class=\"lines\"><path class=\"js-line\" d=\"M0,105.3L21.68,93.09L43.37,77.34L65.05,53.09L86.74,44.81L108.42,136.32L130.1,138.1L151.79,136.69L173.47,139.71L195.16,142.17L216.84,146.31L238.52,150.11\" style=\"vector-effect: non-scaling-stroke; fill: none; stroke: rgb(74, 12, 107); stroke-opacity: 1; stroke-width: 2px; opacity: 1;\"/></g><g class=\"points\"/><g class=\"text\"/></g><g class=\"trace scatter tracefad983\" style=\"stroke-miterlimit: 2; opacity: 1;\"><g class=\"fills\"/><g class=\"errorbars\"/><g class=\"lines\"><path class=\"js-line\" d=\"M0,151.32L21.68,145.9L43.37,155.02L65.05,168.61L86.74,166.69L108.42,165.82L130.1,166.69L195.16,168.85L216.84,89.46L238.52,98.84\" style=\"vector-effect: non-scaling-stroke; fill: none; stroke: rgb(120, 28, 109); stroke-opacity: 1; stroke-width: 2px; opacity: 1;\"/></g><g class=\"points\"/><g class=\"text\"/></g><g class=\"trace scatter trace2a41e2\" style=\"stroke-miterlimit: 2; opacity: 1;\"><g class=\"fills\"/><g class=\"errorbars\"/><g class=\"lines\"><path class=\"js-line\" d=\"M0,104.66L21.68,81.01L43.37,63.79L65.05,56.66L86.74,37.45L108.42,19.35L130.1,19.15L151.79,24.06L173.47,24.09L195.16,28.4L216.84,43.17L238.52,58.88\" style=\"vector-effect: non-scaling-stroke; fill: none; stroke: rgb(165, 44, 96); stroke-opacity: 1; stroke-width: 2px; opacity: 1;\"/></g><g class=\"points\"/><g class=\"text\"/></g><g class=\"trace scatter trace7315e8\" style=\"stroke-miterlimit: 2; opacity: 1;\"><g class=\"fills\"/><g class=\"errorbars\"/><g class=\"lines\"><path class=\"js-line\" d=\"M0,68.9L21.68,55.78L43.37,45.15L86.74,8.89L108.42,9.42L151.79,22.48L173.47,32.2L195.16,40.27L216.84,49.93L238.52,65.77\" style=\"vector-effect: non-scaling-stroke; fill: none; stroke: rgb(207, 68, 70); stroke-opacity: 1; stroke-width: 2px; opacity: 1;\"/></g><g class=\"points\"/><g class=\"text\"/></g><g class=\"trace scatter trace819fa0\" style=\"stroke-miterlimit: 2; opacity: 1;\"><g class=\"fills\"/><g class=\"errorbars\"/><g class=\"lines\"><path class=\"js-line\" d=\"M0,83.84L21.68,74.01L43.37,60.93L65.05,45.25L86.74,36.44L108.42,40.31L130.1,51.78L151.79,62.27L173.47,69.74L195.16,83.9\" style=\"vector-effect: non-scaling-stroke; fill: none; stroke: rgb(237, 105, 37); stroke-opacity: 1; stroke-width: 2px; opacity: 1;\"/></g><g class=\"points\"/><g class=\"text\"/></g></g></g><g class=\"overplot\"/><path class=\"xlines-above crisp\" d=\"M0,0\" style=\"fill: none;\"/><path class=\"ylines-above crisp\" d=\"M0,0\" style=\"fill: none;\"/><g class=\"overlines-above\"/><g class=\"xaxislayer-above\"/><g class=\"yaxislayer-above\"/><g class=\"overaxes-above\"/></g><g class=\"subplot x7y7\"><g class=\"layer-subplot\"><g class=\"shapelayer\"/><g class=\"imagelayer\"/></g><g class=\"minor-gridlayer\"><g class=\"x7\"/><g class=\"y7\"/></g><g class=\"gridlayer\"><g class=\"x7\"><path class=\"x7grid crisp\" transform=\"translate(684.39,0)\" d=\"M0,321.1333333333333v177.73333333333335\" style=\"stroke: rgb(255, 255, 255); stroke-opacity: 1; stroke-width: 1px;\"/><path class=\"x7grid crisp\" transform=\"translate(792.81,0)\" d=\"M0,321.1333333333333v177.73333333333335\" style=\"stroke: rgb(255, 255, 255); stroke-opacity: 1; stroke-width: 1px;\"/></g><g class=\"y7\"><path class=\"y7grid crisp\" transform=\"translate(0,495.25333333333333)\" d=\"M597.65,0h238.52499999999998\" style=\"stroke: rgb(255, 255, 255); stroke-opacity: 1; stroke-width: 1px;\"/><path class=\"y7grid crisp\" transform=\"translate(0,438.62333333333333)\" d=\"M597.65,0h238.52499999999998\" style=\"stroke: rgb(255, 255, 255); stroke-opacity: 1; stroke-width: 1px;\"/><path class=\"y7grid crisp\" transform=\"translate(0,381.99333333333334)\" d=\"M597.65,0h238.52499999999998\" style=\"stroke: rgb(255, 255, 255); stroke-opacity: 1; stroke-width: 1px;\"/><path class=\"y7grid crisp\" transform=\"translate(0,325.36333333333334)\" d=\"M597.65,0h238.52499999999998\" style=\"stroke: rgb(255, 255, 255); stroke-opacity: 1; stroke-width: 1px;\"/></g></g><g class=\"zerolinelayer\"/><path class=\"xlines-below\"/><path class=\"ylines-below\"/><g class=\"overlines-below\"/><g class=\"xaxislayer-below\"/><g class=\"yaxislayer-below\"/><g class=\"overaxes-below\"/><g class=\"plot\" transform=\"translate(597.65,321.1333333333333)\" clip-path=\"url(#clip81f157x7y7plot)\"><g class=\"scatterlayer mlayer\"><g class=\"trace scatter tracee1f695\" style=\"stroke-miterlimit: 2; opacity: 1;\"><g class=\"fills\"/><g class=\"errorbars\"/><g class=\"lines\"><path class=\"js-line\" d=\"M130.1,144.68L151.79,145.29L173.47,146.73L195.16,149.46L216.84,151.05L238.52,156.01\" style=\"vector-effect: non-scaling-stroke; fill: none; stroke: rgb(0, 0, 4); stroke-opacity: 1; stroke-width: 2px; opacity: 1;\"/></g><g class=\"points\"/><g class=\"text\"/></g><g class=\"trace scatter trace765395\" style=\"stroke-miterlimit: 2; opacity: 1;\"><g class=\"fills\"/><g class=\"errorbars\"/><g class=\"lines\"><path class=\"js-line\" d=\"M0,160.58L21.68,160.16L43.37,154.42L86.74,142.21L108.42,142.13L130.1,143.19L151.79,151.48L173.47,153.81L195.16,153.07L216.84,155.69L238.52,160.55\" style=\"vector-effect: non-scaling-stroke; fill: none; stroke: rgb(27, 12, 65); stroke-opacity: 1; stroke-width: 2px; opacity: 1;\"/></g><g class=\"points\"/><g class=\"text\"/></g><g class=\"trace scatter trace3a8c03\" style=\"stroke-miterlimit: 2; opacity: 1;\"><g class=\"fills\"/><g class=\"errorbars\"/><g class=\"lines\"><path class=\"js-line\" d=\"M0,167.49L21.68,167.06L43.37,163.18L65.05,154.78L86.74,151L108.42,148.16L130.1,149.63L173.47,153.97L195.16,157.69L216.84,159.65L238.52,163.48\" style=\"vector-effect: non-scaling-stroke; fill: none; stroke: rgb(74, 12, 107); stroke-opacity: 1; stroke-width: 2px; opacity: 1;\"/></g><g class=\"points\"/><g class=\"text\"/></g><g class=\"trace scatter trace1e95c6\" style=\"stroke-miterlimit: 2; opacity: 1;\"><g class=\"fills\"/><g class=\"errorbars\"/><g class=\"lines\"><path class=\"js-line\" d=\"M0,168.85L21.68,167.78L43.37,165.52L65.05,163.13L86.74,153.52L108.42,147.02L130.1,146.4L151.79,131.33L173.47,109.58L195.16,94.19L216.84,88.26L238.52,97.08\" style=\"vector-effect: non-scaling-stroke; fill: none; stroke: rgb(120, 28, 109); stroke-opacity: 1; stroke-width: 2px; opacity: 1;\"/></g><g class=\"points\"/><g class=\"text\"/></g><g class=\"trace scatter trace46ff01\" style=\"stroke-miterlimit: 2; opacity: 1;\"><g class=\"fills\"/><g class=\"errorbars\"/><g class=\"lines\"><path class=\"js-line\" d=\"M0,108.18L21.68,107.88L43.37,94.29L65.05,81.39L86.74,98.31L108.42,83.13L130.1,57.15L151.79,28.04L173.47,15.52L195.16,8.89L216.84,20.07L238.52,39.93\" style=\"vector-effect: non-scaling-stroke; fill: none; stroke: rgb(165, 44, 96); stroke-opacity: 1; stroke-width: 2px; opacity: 1;\"/></g><g class=\"points\"/><g class=\"text\"/></g><g class=\"trace scatter trace9eead1\" style=\"stroke-miterlimit: 2; opacity: 1;\"><g class=\"fills\"/><g class=\"errorbars\"/><g class=\"lines\"><path class=\"js-line\" d=\"M0,70.03L21.68,98.99L43.37,107.91L65.05,101.4L86.74,92.72L108.42,79.96L130.1,79.23L151.79,72.76L173.47,78.68L195.16,83.58L216.84,90.83L238.52,100.92\" style=\"vector-effect: non-scaling-stroke; fill: none; stroke: rgb(207, 68, 70); stroke-opacity: 1; stroke-width: 2px; opacity: 1;\"/></g><g class=\"points\"/><g class=\"text\"/></g><g class=\"trace scatter trace2dd442\" style=\"stroke-miterlimit: 2; opacity: 1;\"><g class=\"fills\"/><g class=\"errorbars\"/><g class=\"lines\"><path class=\"js-line\" d=\"M0,118.79L21.68,122.23L43.37,119.35L65.05,108.76L86.74,101.79L108.42,97.08L130.1,100.19L151.79,102.14L173.47,108.02L195.16,114.06\" style=\"vector-effect: non-scaling-stroke; fill: none; stroke: rgb(237, 105, 37); stroke-opacity: 1; stroke-width: 2px; opacity: 1;\"/></g><g class=\"points\"/><g class=\"text\"/></g></g></g><g class=\"overplot\"/><path class=\"xlines-above crisp\" d=\"M0,0\" style=\"fill: none;\"/><path class=\"ylines-above crisp\" d=\"M0,0\" style=\"fill: none;\"/><g class=\"overlines-above\"/><g class=\"xaxislayer-above\"/><g class=\"yaxislayer-above\"/><g class=\"overaxes-above\"/></g><g class=\"subplot x8y8\"><g class=\"layer-subplot\"><g class=\"shapelayer\"/><g class=\"imagelayer\"/></g><g class=\"minor-gridlayer\"><g class=\"x8\"/><g class=\"y8\"/></g><g class=\"gridlayer\"><g class=\"x8\"><path class=\"x8grid crisp\" transform=\"translate(943.2149999999999,0)\" d=\"M0,321.1333333333333v177.73333333333335\" style=\"stroke: rgb(255, 255, 255); stroke-opacity: 1; stroke-width: 1px;\"/><path class=\"x8grid crisp\" transform=\"translate(1051.635,0)\" d=\"M0,321.1333333333333v177.73333333333335\" style=\"stroke: rgb(255, 255, 255); stroke-opacity: 1; stroke-width: 1px;\"/></g><g class=\"y8\"><path class=\"y8grid crisp\" transform=\"translate(0,426.5833333333333)\" d=\"M856.4749999999999,0h238.52499999999998\" style=\"stroke: rgb(255, 255, 255); stroke-opacity: 1; stroke-width: 1px;\"/><path class=\"y8grid crisp\" transform=\"translate(0,356.17333333333335)\" d=\"M856.4749999999999,0h238.52499999999998\" style=\"stroke: rgb(255, 255, 255); stroke-opacity: 1; stroke-width: 1px;\"/></g></g><g class=\"zerolinelayer\"><path class=\"y8zl zl crisp\" transform=\"translate(0,496.99333333333334)\" d=\"M856.4749999999999,0h238.52499999999998\" style=\"stroke: rgb(255, 255, 255); stroke-opacity: 1; stroke-width: 2px;\"/></g><path class=\"xlines-below\"/><path class=\"ylines-below\"/><g class=\"overlines-below\"/><g class=\"xaxislayer-below\"/><g class=\"yaxislayer-below\"/><g class=\"overaxes-below\"/><g class=\"plot\" transform=\"translate(856.4749999999999,321.1333333333333)\" clip-path=\"url(#clip81f157x8y8plot)\"><g class=\"scatterlayer mlayer\"><g class=\"trace scatter trace800f87\" style=\"stroke-miterlimit: 2; opacity: 1;\"><g class=\"fills\"/><g class=\"errorbars\"/><g class=\"lines\"><path class=\"js-line\" d=\"M130.1,149.86L151.79,149.75L173.47,150.57L195.16,152.5L216.84,167.13L238.52,167.92\" style=\"vector-effect: non-scaling-stroke; fill: none; stroke: rgb(0, 0, 4); stroke-opacity: 1; stroke-width: 2px; opacity: 1;\"/></g><g class=\"points\"/><g class=\"text\"/></g><g class=\"trace scatter tracedcf111\" style=\"stroke-miterlimit: 2; opacity: 1;\"><g class=\"fills\"/><g class=\"errorbars\"/><g class=\"lines\"><path class=\"js-line\" d=\"M0,168.83L21.68,168.85L43.37,156.75L65.05,154.51L86.74,153.47L108.42,152.86L130.1,137.71L151.79,138.16L173.47,140.61L216.84,146.55L238.52,150.54\" style=\"vector-effect: non-scaling-stroke; fill: none; stroke: rgb(27, 12, 65); stroke-opacity: 1; stroke-width: 2px; opacity: 1;\"/></g><g class=\"points\"/><g class=\"text\"/></g><g class=\"trace scatter trace380d70\" style=\"stroke-miterlimit: 2; opacity: 1;\"><g class=\"fills\"/><g class=\"errorbars\"/><g class=\"lines\"><path class=\"js-line\" d=\"M0,151.64L21.68,148.2L43.37,147.41L86.74,141.89L108.42,140.51L173.47,144.57L195.16,148.1L216.84,150.65L238.52,154.38\" style=\"vector-effect: non-scaling-stroke; fill: none; stroke: rgb(74, 12, 107); stroke-opacity: 1; stroke-width: 2px; opacity: 1;\"/></g><g class=\"points\"/><g class=\"text\"/></g><g class=\"trace scatter tracef90333\" style=\"stroke-miterlimit: 2; opacity: 1;\"><g class=\"fills\"/><g class=\"errorbars\"/><g class=\"lines\"><path class=\"js-line\" d=\"M0,156.3L21.68,152.13L43.37,149.31L86.74,144.09L108.42,142.33L130.1,141.18L151.79,141.2L195.16,145.02L216.84,75.5L238.52,88.69\" style=\"vector-effect: non-scaling-stroke; fill: none; stroke: rgb(120, 28, 109); stroke-opacity: 1; stroke-width: 2px; opacity: 1;\"/></g><g class=\"points\"/><g class=\"text\"/></g><g class=\"trace scatter traceaf6682\" style=\"stroke-miterlimit: 2; opacity: 1;\"><g class=\"fills\"/><g class=\"errorbars\"/><g class=\"lines\"><path class=\"js-line\" d=\"M0,96.17L21.68,80.51L43.37,70.83L65.05,85.54L86.74,62.39L108.42,31L130.1,16.35L151.79,8.89L173.47,12.14L195.16,24.15L216.84,32.05L238.52,55.34\" style=\"vector-effect: non-scaling-stroke; fill: none; stroke: rgb(165, 44, 96); stroke-opacity: 1; stroke-width: 2px; opacity: 1;\"/></g><g class=\"points\"/><g class=\"text\"/></g><g class=\"trace scatter tracee24d79\" style=\"stroke-miterlimit: 2; opacity: 1;\"><g class=\"fills\"/><g class=\"errorbars\"/><g class=\"lines\"><path class=\"js-line\" d=\"M0,69.4L21.68,60.58L43.37,53.13L65.05,41.4L86.74,26.56L108.42,19.01L130.1,23.55L151.79,25.31L173.47,29.73L195.16,33.98L216.84,42.42L238.52,60.78\" style=\"vector-effect: non-scaling-stroke; fill: none; stroke: rgb(207, 68, 70); stroke-opacity: 1; stroke-width: 2px; opacity: 1;\"/></g><g class=\"points\"/><g class=\"text\"/></g><g class=\"trace scatter tracec96125\" style=\"stroke-miterlimit: 2; opacity: 1;\"><g class=\"fills\"/><g class=\"errorbars\"/><g class=\"lines\"><path class=\"js-line\" d=\"M0,77.58L21.68,67.12L43.37,59.48L65.05,54.03L86.74,54.2L108.42,58.78L130.1,72.05L151.79,73.13L173.47,80.8L195.16,96.01\" style=\"vector-effect: non-scaling-stroke; fill: none; stroke: rgb(237, 105, 37); stroke-opacity: 1; stroke-width: 2px; opacity: 1;\"/></g><g class=\"points\"/><g class=\"text\"/></g></g></g><g class=\"overplot\"/><path class=\"xlines-above crisp\" d=\"M0,0\" style=\"fill: none;\"/><path class=\"ylines-above crisp\" d=\"M0,0\" style=\"fill: none;\"/><g class=\"overlines-above\"/><g class=\"xaxislayer-above\"/><g class=\"yaxislayer-above\"/><g class=\"overaxes-above\"/></g><g class=\"subplot x9y9\"><g class=\"layer-subplot\"><g class=\"shapelayer\"/><g class=\"imagelayer\"/></g><g class=\"minor-gridlayer\"><g class=\"x9\"/><g class=\"y9\"/></g><g class=\"gridlayer\"><g class=\"x9\"><path class=\"x9grid crisp\" transform=\"translate(166.74,0)\" d=\"M0,100.00000000000007v177.73333333333332\" style=\"stroke: rgb(255, 255, 255); stroke-opacity: 1; stroke-width: 1px;\"/><path class=\"x9grid crisp\" transform=\"translate(275.15999999999997,0)\" d=\"M0,100.00000000000007v177.73333333333332\" style=\"stroke: rgb(255, 255, 255); stroke-opacity: 1; stroke-width: 1px;\"/></g><g class=\"y9\"><path class=\"y9grid crisp\" transform=\"translate(0,273.2300000000001)\" d=\"M80,0h238.52499999999998\" style=\"stroke: rgb(255, 255, 255); stroke-opacity: 1; stroke-width: 1px;\"/><path class=\"y9grid crisp\" transform=\"translate(0,226.39000000000007)\" d=\"M80,0h238.52499999999998\" style=\"stroke: rgb(255, 255, 255); stroke-opacity: 1; stroke-width: 1px;\"/><path class=\"y9grid crisp\" transform=\"translate(0,179.56000000000006)\" d=\"M80,0h238.52499999999998\" style=\"stroke: rgb(255, 255, 255); stroke-opacity: 1; stroke-width: 1px;\"/><path class=\"y9grid crisp\" transform=\"translate(0,132.73000000000008)\" d=\"M80,0h238.52499999999998\" style=\"stroke: rgb(255, 255, 255); stroke-opacity: 1; stroke-width: 1px;\"/></g></g><g class=\"zerolinelayer\"/><path class=\"xlines-below\"/><path class=\"ylines-below\"/><g class=\"overlines-below\"/><g class=\"xaxislayer-below\"/><g class=\"yaxislayer-below\"/><g class=\"overaxes-below\"/><g class=\"plot\" transform=\"translate(80,100.00000000000007)\" clip-path=\"url(#clip81f157x9y9plot)\"><g class=\"scatterlayer mlayer\"><g class=\"trace scatter traced4875a\" style=\"stroke-miterlimit: 2; opacity: 1;\"><g class=\"fills\"/><g class=\"errorbars\"/><g class=\"lines\"><path class=\"js-line\" d=\"M130.1,85.87L151.79,87.99L173.47,93.24L195.16,98.39L216.84,110.37L238.52,129.21\" style=\"vector-effect: non-scaling-stroke; fill: none; stroke: rgb(0, 0, 4); stroke-opacity: 1; stroke-width: 2px; opacity: 1;\"/></g><g class=\"points\"/><g class=\"text\"/></g><g class=\"trace scatter trace1b6707\" style=\"stroke-miterlimit: 2; opacity: 1;\"><g class=\"fills\"/><g class=\"errorbars\"/><g class=\"lines\"><path class=\"js-line\" d=\"M0,152.16L21.68,134.12L43.37,117.18L65.05,102.52L86.74,92.02L108.42,94.9L130.1,100.9L151.79,106.55L173.47,118.24L195.16,121.27L216.84,128.28L238.52,146.62\" style=\"vector-effect: non-scaling-stroke; fill: none; stroke: rgb(27, 12, 65); stroke-opacity: 1; stroke-width: 2px; opacity: 1;\"/></g><g class=\"points\"/><g class=\"text\"/></g><g class=\"trace scatter tracebc8c19\" style=\"stroke-miterlimit: 2; opacity: 1;\"><g class=\"fills\"/><g class=\"errorbars\"/><g class=\"lines\"><path class=\"js-line\" d=\"M0,168.85L21.68,146.77L43.37,127.57L65.05,121.31L86.74,113.24L108.42,116.15L130.1,126.07L151.79,94.13L173.47,102.82L195.16,108.83L216.84,120.55L238.52,136.97\" style=\"vector-effect: non-scaling-stroke; fill: none; stroke: rgb(74, 12, 107); stroke-opacity: 1; stroke-width: 2px; opacity: 1;\"/></g><g class=\"points\"/><g class=\"text\"/></g><g class=\"trace scatter tracecec243\" style=\"stroke-miterlimit: 2; opacity: 1;\"><g class=\"fills\"/><g class=\"errorbars\"/><g class=\"lines\"><path class=\"js-line\" d=\"M0,156.78L21.68,129.7L43.37,104.7L65.05,85.21L86.74,76.91L108.42,59.31L130.1,59.95L151.79,63.7L173.47,69.71L195.16,73.88L216.84,81.98L238.52,106.92\" style=\"vector-effect: non-scaling-stroke; fill: none; stroke: rgb(120, 28, 109); stroke-opacity: 1; stroke-width: 2px; opacity: 1;\"/></g><g class=\"points\"/><g class=\"text\"/></g><g class=\"trace scatter tracebcbaf6\" style=\"stroke-miterlimit: 2; opacity: 1;\"><g class=\"fills\"/><g class=\"errorbars\"/><g class=\"lines\"><path class=\"js-line\" d=\"M0,128.22L21.68,90.34L43.37,73.63L65.05,126.41L86.74,110.55L108.42,49.9L130.1,22.09L151.79,8.89L173.47,10.47L195.16,17L216.84,30.6L238.52,57.85\" style=\"vector-effect: non-scaling-stroke; fill: none; stroke: rgb(165, 44, 96); stroke-opacity: 1; stroke-width: 2px; opacity: 1;\"/></g><g class=\"points\"/><g class=\"text\"/></g><g class=\"trace scatter trace3786a9\" style=\"stroke-miterlimit: 2; opacity: 1;\"><g class=\"fills\"/><g class=\"errorbars\"/><g class=\"lines\"><path class=\"js-line\" d=\"M0,87.2L21.68,63.94L43.37,48.29L86.74,36.75L108.42,35.75L130.1,46.02L151.79,48.38L195.16,52.47L216.84,63.72L238.52,91.06\" style=\"vector-effect: non-scaling-stroke; fill: none; stroke: rgb(207, 68, 70); stroke-opacity: 1; stroke-width: 2px; opacity: 1;\"/></g><g class=\"points\"/><g class=\"text\"/></g><g class=\"trace scatter trace034dda\" style=\"stroke-miterlimit: 2; opacity: 1;\"><g class=\"fills\"/><g class=\"errorbars\"/><g class=\"lines\"><path class=\"js-line\" d=\"M0,125.33L21.68,98.51L43.37,82.97L65.05,82.9L86.74,92.01L108.42,105.52L130.1,124.13L151.79,121.76L173.47,124.67L195.16,145.15\" style=\"vector-effect: non-scaling-stroke; fill: none; stroke: rgb(237, 105, 37); stroke-opacity: 1; stroke-width: 2px; opacity: 1;\"/></g><g class=\"points\"/><g class=\"text\"/></g></g></g><g class=\"overplot\"/><path class=\"xlines-above crisp\" d=\"M0,0\" style=\"fill: none;\"/><path class=\"ylines-above crisp\" d=\"M0,0\" style=\"fill: none;\"/><g class=\"overlines-above\"/><g class=\"xaxislayer-above\"/><g class=\"yaxislayer-above\"><g class=\"y9tick\"><text text-anchor=\"end\" x=\"79\" y=\"4.199999999999999\" transform=\"translate(0,273.2300000000001)\" style=\"font-family: 'Open Sans', verdana, arial, sans-serif; font-size: 12px; fill: rgb(42, 63, 95); fill-opacity: 1; white-space: pre; opacity: 1;\">20k</text></g><g class=\"y9tick\"><text text-anchor=\"end\" x=\"79\" y=\"4.199999999999999\" style=\"font-family: 'Open Sans', verdana, arial, sans-serif; font-size: 12px; fill: rgb(42, 63, 95); fill-opacity: 1; white-space: pre; opacity: 1;\" transform=\"translate(0,226.39000000000007)\">30k</text></g><g class=\"y9tick\"><text text-anchor=\"end\" x=\"79\" y=\"4.199999999999999\" style=\"font-family: 'Open Sans', verdana, arial, sans-serif; font-size: 12px; fill: rgb(42, 63, 95); fill-opacity: 1; white-space: pre; opacity: 1;\" transform=\"translate(0,179.56000000000006)\">40k</text></g><g class=\"y9tick\"><text text-anchor=\"end\" x=\"79\" y=\"4.199999999999999\" style=\"font-family: 'Open Sans', verdana, arial, sans-serif; font-size: 12px; fill: rgb(42, 63, 95); fill-opacity: 1; white-space: pre; opacity: 1;\" transform=\"translate(0,132.73000000000008)\">50k</text></g></g><g class=\"overaxes-above\"/></g><g class=\"subplot x10y10\"><g class=\"layer-subplot\"><g class=\"shapelayer\"/><g class=\"imagelayer\"/></g><g class=\"minor-gridlayer\"><g class=\"x10\"/><g class=\"y10\"/></g><g class=\"gridlayer\"><g class=\"x10\"><path class=\"x10grid crisp\" transform=\"translate(425.565,0)\" d=\"M0,100.00000000000007v177.73333333333332\" style=\"stroke: rgb(255, 255, 255); stroke-opacity: 1; stroke-width: 1px;\"/><path class=\"x10grid crisp\" transform=\"translate(533.985,0)\" d=\"M0,100.00000000000007v177.73333333333332\" style=\"stroke: rgb(255, 255, 255); stroke-opacity: 1; stroke-width: 1px;\"/></g><g class=\"y10\"><path class=\"y10grid crisp\" transform=\"translate(0,253.82000000000005)\" d=\"M338.825,0h238.52499999999998\" style=\"stroke: rgb(255, 255, 255); stroke-opacity: 1; stroke-width: 1px;\"/><path class=\"y10grid crisp\" transform=\"translate(0,190.7800000000001)\" d=\"M338.825,0h238.52499999999998\" style=\"stroke: rgb(255, 255, 255); stroke-opacity: 1; stroke-width: 1px;\"/><path class=\"y10grid crisp\" transform=\"translate(0,127.75000000000007)\" d=\"M338.825,0h238.52499999999998\" style=\"stroke: rgb(255, 255, 255); stroke-opacity: 1; stroke-width: 1px;\"/></g></g><g class=\"zerolinelayer\"/><path class=\"xlines-below\"/><path class=\"ylines-below\"/><g class=\"overlines-below\"/><g class=\"xaxislayer-below\"/><g class=\"yaxislayer-below\"/><g class=\"overaxes-below\"/><g class=\"plot\" transform=\"translate(338.825,100.00000000000007)\" clip-path=\"url(#clip81f157x10y10plot)\"><g class=\"scatterlayer mlayer\"><g class=\"trace scatter trace4b76a0\" style=\"stroke-miterlimit: 2; opacity: 1;\"><g class=\"fills\"/><g class=\"errorbars\"/><g class=\"lines\"><path class=\"js-line\" d=\"M130.1,135.5L151.79,134.68L173.47,139.47L195.16,143.78L216.84,150.16L238.52,161.61\" style=\"vector-effect: non-scaling-stroke; fill: none; stroke: rgb(0, 0, 4); stroke-opacity: 1; stroke-width: 2px; opacity: 1;\"/></g><g class=\"points\"/><g class=\"text\"/></g><g class=\"trace scatter trace94277f\" style=\"stroke-miterlimit: 2; opacity: 1;\"><g class=\"fills\"/><g class=\"errorbars\"/><g class=\"lines\"><path class=\"js-line\" d=\"M0,168.85L43.37,152.08L65.05,141.04L86.74,135.01L108.42,137.54L130.1,134.25L151.79,135.99L173.47,140.63L195.16,146.08L238.52,161.99\" style=\"vector-effect: non-scaling-stroke; fill: none; stroke: rgb(27, 12, 65); stroke-opacity: 1; stroke-width: 2px; opacity: 1;\"/></g><g class=\"points\"/><g class=\"text\"/></g><g class=\"trace scatter traceea181b\" style=\"stroke-miterlimit: 2; opacity: 1;\"><g class=\"fills\"/><g class=\"errorbars\"/><g class=\"lines\"><path class=\"js-line\" d=\"M0,168.07L43.37,152.46L65.05,55.16L86.74,41.9L108.42,46.57L130.1,54.54L151.79,63.41L195.16,81.98L216.84,92.56L238.52,107.05\" style=\"vector-effect: non-scaling-stroke; fill: none; stroke: rgb(74, 12, 107); stroke-opacity: 1; stroke-width: 2px; opacity: 1;\"/></g><g class=\"points\"/><g class=\"text\"/></g><g class=\"trace scatter trace1b2790\" style=\"stroke-miterlimit: 2; opacity: 1;\"><g class=\"fills\"/><g class=\"errorbars\"/><g class=\"lines\"><path class=\"js-line\" d=\"M0,119.4L21.68,92.4L43.37,69.94L65.05,50.55L86.74,39.47L151.79,51.65L173.47,56.81L195.16,60.9L216.84,82.12L238.52,109.08\" style=\"vector-effect: non-scaling-stroke; fill: none; stroke: rgb(120, 28, 109); stroke-opacity: 1; stroke-width: 2px; opacity: 1;\"/></g><g class=\"points\"/><g class=\"text\"/></g><g class=\"trace scatter trace65e155\" style=\"stroke-miterlimit: 2; opacity: 1;\"><g class=\"fills\"/><g class=\"errorbars\"/><g class=\"lines\"><path class=\"js-line\" d=\"M0,123.89L21.68,98.65L43.37,88.64L65.05,108.46L86.74,90.18L108.42,18.9L130.1,12.05L151.79,8.89L173.47,11.35L195.16,24.46L216.84,53.2L238.52,80.26\" style=\"vector-effect: non-scaling-stroke; fill: none; stroke: rgb(165, 44, 96); stroke-opacity: 1; stroke-width: 2px; opacity: 1;\"/></g><g class=\"points\"/><g class=\"text\"/></g><g class=\"trace scatter traced6a380\" style=\"stroke-miterlimit: 2; opacity: 1;\"><g class=\"fills\"/><g class=\"errorbars\"/><g class=\"lines\"><path class=\"js-line\" d=\"M0,99L21.68,72.96L43.37,66.02L65.05,58.38L86.74,49.17L108.42,42.66L130.1,47.4L151.79,47.5L173.47,51.99L195.16,55.56L216.84,67.9L238.52,109.11\" style=\"vector-effect: non-scaling-stroke; fill: none; stroke: rgb(207, 68, 70); stroke-opacity: 1; stroke-width: 2px; opacity: 1;\"/></g><g class=\"points\"/><g class=\"text\"/></g><g class=\"trace scatter trace6cd088\" style=\"stroke-miterlimit: 2; opacity: 1;\"><g class=\"fills\"/><g class=\"errorbars\"/><g class=\"lines\"><path class=\"js-line\" d=\"M0,114.42L21.68,98.84L43.37,88.66L65.05,75.5L86.74,70.8L108.42,80.31L130.1,94.16L151.79,89.12L173.47,94.86L195.16,114.72\" style=\"vector-effect: non-scaling-stroke; fill: none; stroke: rgb(237, 105, 37); stroke-opacity: 1; stroke-width: 2px; opacity: 1;\"/></g><g class=\"points\"/><g class=\"text\"/></g></g></g><g class=\"overplot\"/><path class=\"xlines-above crisp\" d=\"M0,0\" style=\"fill: none;\"/><path class=\"ylines-above crisp\" d=\"M0,0\" style=\"fill: none;\"/><g class=\"overlines-above\"/><g class=\"xaxislayer-above\"/><g class=\"yaxislayer-above\"/><g class=\"overaxes-above\"/></g><g class=\"subplot x11y11\"><g class=\"layer-subplot\"><g class=\"shapelayer\"/><g class=\"imagelayer\"/></g><g class=\"minor-gridlayer\"><g class=\"x11\"/><g class=\"y11\"/></g><g class=\"gridlayer\"><g class=\"x11\"><path class=\"x11grid crisp\" transform=\"translate(684.39,0)\" d=\"M0,100.00000000000007v177.73333333333332\" style=\"stroke: rgb(255, 255, 255); stroke-opacity: 1; stroke-width: 1px;\"/><path class=\"x11grid crisp\" transform=\"translate(792.81,0)\" d=\"M0,100.00000000000007v177.73333333333332\" style=\"stroke: rgb(255, 255, 255); stroke-opacity: 1; stroke-width: 1px;\"/></g><g class=\"y11\"><path class=\"y11grid crisp\" transform=\"translate(0,218.29000000000008)\" d=\"M597.65,0h238.52499999999998\" style=\"stroke: rgb(255, 255, 255); stroke-opacity: 1; stroke-width: 1px;\"/><path class=\"y11grid crisp\" transform=\"translate(0,158.39000000000007)\" d=\"M597.65,0h238.52499999999998\" style=\"stroke: rgb(255, 255, 255); stroke-opacity: 1; stroke-width: 1px;\"/></g></g><g class=\"zerolinelayer\"/><path class=\"xlines-below\"/><path class=\"ylines-below\"/><g class=\"overlines-below\"/><g class=\"xaxislayer-below\"/><g class=\"yaxislayer-below\"/><g class=\"overaxes-below\"/><g class=\"plot\" transform=\"translate(597.65,100.00000000000007)\" clip-path=\"url(#clip81f157x11y11plot)\"><g class=\"scatterlayer mlayer\"><g class=\"trace scatter tracedeef37\" style=\"stroke-miterlimit: 2; opacity: 1;\"><g class=\"fills\"/><g class=\"errorbars\"/><g class=\"lines\"><path class=\"js-line\" d=\"M130.1,158.75L151.79,157.98L173.47,159.56L216.84,164.62L238.52,166.72\" style=\"vector-effect: non-scaling-stroke; fill: none; stroke: rgb(0, 0, 4); stroke-opacity: 1; stroke-width: 2px; opacity: 1;\"/></g><g class=\"points\"/><g class=\"text\"/></g><g class=\"trace scatter trace8fc743\" style=\"stroke-miterlimit: 2; opacity: 1;\"><g class=\"fills\"/><g class=\"errorbars\"/><g class=\"lines\"><path class=\"js-line\" d=\"M0,168.16L21.68,167.86L43.37,165.88L86.74,161.48L108.42,160.55L130.1,161L151.79,159.83L173.47,159.77L195.16,162.5L238.52,168.1\" style=\"vector-effect: non-scaling-stroke; fill: none; stroke: rgb(27, 12, 65); stroke-opacity: 1; stroke-width: 2px; opacity: 1;\"/></g><g class=\"points\"/><g class=\"text\"/></g><g class=\"trace scatter traced9794b\" style=\"stroke-miterlimit: 2; opacity: 1;\"><g class=\"fills\"/><g class=\"errorbars\"/><g class=\"lines\"><path class=\"js-line\" d=\"M0,168.85L21.68,165.94L43.37,164.68L108.42,162.5L130.1,162.26L151.79,160.34L173.47,159.38L195.16,163.31L216.84,165.25L238.52,166.63\" style=\"vector-effect: non-scaling-stroke; fill: none; stroke: rgb(74, 12, 107); stroke-opacity: 1; stroke-width: 2px; opacity: 1;\"/></g><g class=\"points\"/><g class=\"text\"/></g><g class=\"trace scatter tracedc008f\" style=\"stroke-miterlimit: 2; opacity: 1;\"><g class=\"fills\"/><g class=\"errorbars\"/><g class=\"lines\"><path class=\"js-line\" d=\"M0,165.61L21.68,160.97L43.37,158.81L86.74,155.07L108.42,152.55L173.47,152.85L195.16,151.9L216.84,154.71L238.52,159.38\" style=\"vector-effect: non-scaling-stroke; fill: none; stroke: rgb(120, 28, 109); stroke-opacity: 1; stroke-width: 2px; opacity: 1;\"/></g><g class=\"points\"/><g class=\"text\"/></g><g class=\"trace scatter trace204990\" style=\"stroke-miterlimit: 2; opacity: 1;\"><g class=\"fills\"/><g class=\"errorbars\"/><g class=\"lines\"><path class=\"js-line\" d=\"M0,160.34L21.68,157.05L43.37,156.18L65.05,162.59L86.74,61.39L108.42,25.9L130.1,19.85L151.79,8.89L173.47,12.48L195.16,23.74L216.84,38.12L238.52,59.23\" style=\"vector-effect: non-scaling-stroke; fill: none; stroke: rgb(165, 44, 96); stroke-opacity: 1; stroke-width: 2px; opacity: 1;\"/></g><g class=\"points\"/><g class=\"text\"/></g><g class=\"trace scatter tracea1c3da\" style=\"stroke-miterlimit: 2; opacity: 1;\"><g class=\"fills\"/><g class=\"errorbars\"/><g class=\"lines\"><path class=\"js-line\" d=\"M0,69.03L21.68,56.33L43.37,48.99L65.05,22.45L86.74,14.19L108.42,11.19L130.1,12.81L173.47,16.46L195.16,22.3L216.84,30.66L238.52,48.54\" style=\"vector-effect: non-scaling-stroke; fill: none; stroke: rgb(207, 68, 70); stroke-opacity: 1; stroke-width: 2px; opacity: 1;\"/></g><g class=\"points\"/><g class=\"text\"/></g><g class=\"trace scatter trace400b53\" style=\"stroke-miterlimit: 2; opacity: 1;\"><g class=\"fills\"/><g class=\"errorbars\"/><g class=\"lines\"><path class=\"js-line\" d=\"M0,60.7L21.68,49.71L43.37,43.18L65.05,35.36L86.74,38.66L108.42,49.98L130.1,58.87L173.47,65.31L195.16,82.44\" style=\"vector-effect: non-scaling-stroke; fill: none; stroke: rgb(237, 105, 37); stroke-opacity: 1; stroke-width: 2px; opacity: 1;\"/></g><g class=\"points\"/><g class=\"text\"/></g></g></g><g class=\"overplot\"/><path class=\"xlines-above crisp\" d=\"M0,0\" style=\"fill: none;\"/><path class=\"ylines-above crisp\" d=\"M0,0\" style=\"fill: none;\"/><g class=\"overlines-above\"/><g class=\"xaxislayer-above\"/><g class=\"yaxislayer-above\"/><g class=\"overaxes-above\"/></g><g class=\"subplot x12y12\"><g class=\"layer-subplot\"><g class=\"shapelayer\"/><g class=\"imagelayer\"/></g><g class=\"minor-gridlayer\"><g class=\"x12\"/><g class=\"y12\"/></g><g class=\"gridlayer\"><g class=\"x12\"><path class=\"x12grid crisp\" transform=\"translate(943.2149999999999,0)\" d=\"M0,100.00000000000007v177.73333333333332\" style=\"stroke: rgb(255, 255, 255); stroke-opacity: 1; stroke-width: 1px;\"/><path class=\"x12grid crisp\" transform=\"translate(1051.635,0)\" d=\"M0,100.00000000000007v177.73333333333332\" style=\"stroke: rgb(255, 255, 255); stroke-opacity: 1; stroke-width: 1px;\"/></g><g class=\"y12\"><path class=\"y12grid crisp\" transform=\"translate(0,261.5200000000001)\" d=\"M856.4749999999999,0h238.52499999999998\" style=\"stroke: rgb(255, 255, 255); stroke-opacity: 1; stroke-width: 1px;\"/><path class=\"y12grid crisp\" transform=\"translate(0,218.96000000000006)\" d=\"M856.4749999999999,0h238.52499999999998\" style=\"stroke: rgb(255, 255, 255); stroke-opacity: 1; stroke-width: 1px;\"/><path class=\"y12grid crisp\" transform=\"translate(0,176.4000000000001)\" d=\"M856.4749999999999,0h238.52499999999998\" style=\"stroke: rgb(255, 255, 255); stroke-opacity: 1; stroke-width: 1px;\"/><path class=\"y12grid crisp\" transform=\"translate(0,133.8400000000001)\" d=\"M856.4749999999999,0h238.52499999999998\" style=\"stroke: rgb(255, 255, 255); stroke-opacity: 1; stroke-width: 1px;\"/></g></g><g class=\"zerolinelayer\"/><path class=\"xlines-below\"/><path class=\"ylines-below\"/><g class=\"overlines-below\"/><g class=\"xaxislayer-below\"/><g class=\"yaxislayer-below\"/><g class=\"overaxes-below\"/><g class=\"plot\" transform=\"translate(856.4749999999999,100.00000000000007)\" clip-path=\"url(#clip81f157x12y12plot)\"><g class=\"scatterlayer mlayer\"><g class=\"trace scatter traced38b54\" style=\"stroke-miterlimit: 2; opacity: 1;\"><g class=\"fills\"/><g class=\"errorbars\"/><g class=\"lines\"><path class=\"js-line\" d=\"M130.1,42.1L151.79,61.82L173.47,82.87L216.84,112.3L238.52,136.02\" style=\"vector-effect: non-scaling-stroke; fill: none; stroke: rgb(0, 0, 4); stroke-opacity: 1; stroke-width: 2px; opacity: 1;\"/></g><g class=\"points\"/><g class=\"text\"/></g><g class=\"trace scatter traceabdc86\" style=\"stroke-miterlimit: 2; opacity: 1;\"><g class=\"fills\"/><g class=\"errorbars\"/><g class=\"lines\"><path class=\"js-line\" d=\"M0,147.34L21.68,113.55L43.37,70.52L65.05,37.38L86.74,22.37L108.42,33.47L130.1,56L151.79,82.92L173.47,102.71L195.16,114.99L216.84,125.25L238.52,145.82\" style=\"vector-effect: non-scaling-stroke; fill: none; stroke: rgb(27, 12, 65); stroke-opacity: 1; stroke-width: 2px; opacity: 1;\"/></g><g class=\"points\"/><g class=\"text\"/></g><g class=\"trace scatter trace3173d7\" style=\"stroke-miterlimit: 2; opacity: 1;\"><g class=\"fills\"/><g class=\"errorbars\"/><g class=\"lines\"><path class=\"js-line\" d=\"M0,160.13L21.68,127.08L43.37,85.52L65.05,49.23L86.74,36.75L108.42,53.18L130.1,71.7L151.79,90.88L173.47,106.51L195.16,122.47L216.84,136.88L238.52,159.76\" style=\"vector-effect: non-scaling-stroke; fill: none; stroke: rgb(74, 12, 107); stroke-opacity: 1; stroke-width: 2px; opacity: 1;\"/></g><g class=\"points\"/><g class=\"text\"/></g><g class=\"trace scatter tracebb2e73\" style=\"stroke-miterlimit: 2; opacity: 1;\"><g class=\"fills\"/><g class=\"errorbars\"/><g class=\"lines\"><path class=\"js-line\" d=\"M0,168.85L21.68,142.5L43.37,103.35L65.05,63.28L86.74,50.83L130.1,74.51L151.79,90.08L173.47,106.42L195.16,118.97L216.84,132.24L238.52,155.05\" style=\"vector-effect: non-scaling-stroke; fill: none; stroke: rgb(120, 28, 109); stroke-opacity: 1; stroke-width: 2px; opacity: 1;\"/></g><g class=\"points\"/><g class=\"text\"/></g><g class=\"trace scatter trace687f7b\" style=\"stroke-miterlimit: 2; opacity: 1;\"><g class=\"fills\"/><g class=\"errorbars\"/><g class=\"lines\"><path class=\"js-line\" d=\"M0,161.46L21.68,118.23L43.37,80.42L65.05,107.13L86.74,95.81L108.42,42.1L130.1,16.81L151.79,18.09L173.47,29.19L195.16,49.57L216.84,78.24L238.52,109.31\" style=\"vector-effect: non-scaling-stroke; fill: none; stroke: rgb(165, 44, 96); stroke-opacity: 1; stroke-width: 2px; opacity: 1;\"/></g><g class=\"points\"/><g class=\"text\"/></g><g class=\"trace scatter tracedaf712\" style=\"stroke-miterlimit: 2; opacity: 1;\"><g class=\"fills\"/><g class=\"errorbars\"/><g class=\"lines\"><path class=\"js-line\" d=\"M0,127.5L21.68,88.21L43.37,58.98L65.05,28.06L86.74,8.89L108.42,14.28L130.1,35.25L151.79,46.66L173.47,63.7L195.16,81.47L216.84,93.31L238.52,124.29\" style=\"vector-effect: non-scaling-stroke; fill: none; stroke: rgb(207, 68, 70); stroke-opacity: 1; stroke-width: 2px; opacity: 1;\"/></g><g class=\"points\"/><g class=\"text\"/></g><g class=\"trace scatter tracef75682\" style=\"stroke-miterlimit: 2; opacity: 1;\"><g class=\"fills\"/><g class=\"errorbars\"/><g class=\"lines\"><path class=\"js-line\" d=\"M0,149.24L21.68,124L43.37,102.61L65.05,76.76L86.74,72.61L108.42,82.44L130.1,104.3L151.79,118.52L173.47,130.47L195.16,148.66\" style=\"vector-effect: non-scaling-stroke; fill: none; stroke: rgb(237, 105, 37); stroke-opacity: 1; stroke-width: 2px; opacity: 1;\"/></g><g class=\"points\"/><g class=\"text\"/></g></g></g><g class=\"overplot\"/><path class=\"xlines-above crisp\" d=\"M0,0\" style=\"fill: none;\"/><path class=\"ylines-above crisp\" d=\"M0,0\" style=\"fill: none;\"/><g class=\"overlines-above\"/><g class=\"xaxislayer-above\"/><g class=\"yaxislayer-above\"/><g class=\"overaxes-above\"/></g></g><g class=\"polarlayer\"/><g class=\"smithlayer\"/><g class=\"ternarylayer\"/><g class=\"geolayer\"/><g class=\"funnelarealayer\"/><g class=\"pielayer\"/><g class=\"iciclelayer\"/><g class=\"treemaplayer\"/><g class=\"sunburstlayer\"/><g class=\"glimages\"/><defs id=\"topdefs-81f157\"><g class=\"clips\"/><clipPath id=\"legend81f157\"><rect width=\"73\" height=\"162\" x=\"0\" y=\"0\"/></clipPath></defs><g class=\"layer-above\"><g class=\"imagelayer\"/><g class=\"shapelayer\"/></g><g class=\"infolayer\"><g class=\"legend\" pointer-events=\"all\" transform=\"translate(1115.3,100)\"><rect class=\"bg\" shape-rendering=\"crispEdges\" width=\"73\" height=\"162\" x=\"0\" y=\"0\" style=\"stroke: rgb(68, 68, 68); stroke-opacity: 1; fill: rgb(255, 255, 255); fill-opacity: 1; stroke-width: 0px;\"/><g class=\"scrollbox\" transform=\"\" clip-path=\"url(#legend81f157)\"><text class=\"legendtitletext\" text-anchor=\"start\" x=\"2\" y=\"18.2\" style=\"font-family: 'Open Sans', verdana, arial, sans-serif; font-size: 14px; fill: rgb(42, 63, 95); fill-opacity: 1; white-space: pre;\">year</text><g class=\"groups\" transform=\"\"><g class=\"traces\" transform=\"translate(0,32.7)\" style=\"opacity: 1;\"><text class=\"legendtext\" text-anchor=\"start\" x=\"40\" y=\"4.680000000000001\" style=\"font-family: 'Open Sans', verdana, arial, sans-serif; font-size: 12px; fill: rgb(42, 63, 95); fill-opacity: 1; white-space: pre;\">2016</text><g class=\"layers\" style=\"opacity: 1;\"><g class=\"legendfill\"/><g class=\"legendlines\"><path class=\"js-line\" d=\"M5,0h30\" style=\"fill: none; stroke: rgb(0, 0, 4); stroke-opacity: 1; stroke-width: 2px;\"/></g><g class=\"legendsymbols\"><g class=\"legendpoints\"/></g></g><rect class=\"legendtoggle\" x=\"0\" y=\"-9.5\" width=\"67.59375\" height=\"19\" style=\"fill: rgb(0, 0, 0); fill-opacity: 0;\"/></g></g><g class=\"groups\" transform=\"\"><g class=\"traces\" transform=\"translate(0,51.7)\" style=\"opacity: 1;\"><text class=\"legendtext\" text-anchor=\"start\" x=\"40\" y=\"4.680000000000001\" style=\"font-family: 'Open Sans', verdana, arial, sans-serif; font-size: 12px; fill: rgb(42, 63, 95); fill-opacity: 1; white-space: pre;\">2017</text><g class=\"layers\" style=\"opacity: 1;\"><g class=\"legendfill\"/><g class=\"legendlines\"><path class=\"js-line\" d=\"M5,0h30\" style=\"fill: none; stroke: rgb(27, 12, 65); stroke-opacity: 1; stroke-width: 2px;\"/></g><g class=\"legendsymbols\"><g class=\"legendpoints\"/></g></g><rect class=\"legendtoggle\" x=\"0\" y=\"-9.5\" width=\"67.59375\" height=\"19\" style=\"fill: rgb(0, 0, 0); fill-opacity: 0;\"/></g></g><g class=\"groups\" transform=\"\"><g class=\"traces\" transform=\"translate(0,70.7)\" style=\"opacity: 1;\"><text class=\"legendtext\" text-anchor=\"start\" x=\"40\" y=\"4.680000000000001\" style=\"font-family: 'Open Sans', verdana, arial, sans-serif; font-size: 12px; fill: rgb(42, 63, 95); fill-opacity: 1; white-space: pre;\">2018</text><g class=\"layers\" style=\"opacity: 1;\"><g class=\"legendfill\"/><g class=\"legendlines\"><path class=\"js-line\" d=\"M5,0h30\" style=\"fill: none; stroke: rgb(74, 12, 107); stroke-opacity: 1; stroke-width: 2px;\"/></g><g class=\"legendsymbols\"><g class=\"legendpoints\"/></g></g><rect class=\"legendtoggle\" x=\"0\" y=\"-9.5\" width=\"67.59375\" height=\"19\" style=\"fill: rgb(0, 0, 0); fill-opacity: 0;\"/></g></g><g class=\"groups\" transform=\"\"><g class=\"traces\" transform=\"translate(0,89.7)\" style=\"opacity: 1;\"><text class=\"legendtext\" text-anchor=\"start\" x=\"40\" y=\"4.680000000000001\" style=\"font-family: 'Open Sans', verdana, arial, sans-serif; font-size: 12px; fill: rgb(42, 63, 95); fill-opacity: 1; white-space: pre;\">2019</text><g class=\"layers\" style=\"opacity: 1;\"><g class=\"legendfill\"/><g class=\"legendlines\"><path class=\"js-line\" d=\"M5,0h30\" style=\"fill: none; stroke: rgb(120, 28, 109); stroke-opacity: 1; stroke-width: 2px;\"/></g><g class=\"legendsymbols\"><g class=\"legendpoints\"/></g></g><rect class=\"legendtoggle\" x=\"0\" y=\"-9.5\" width=\"67.59375\" height=\"19\" style=\"fill: rgb(0, 0, 0); fill-opacity: 0;\"/></g></g><g class=\"groups\" transform=\"\"><g class=\"traces\" transform=\"translate(0,108.7)\" style=\"opacity: 1;\"><text class=\"legendtext\" text-anchor=\"start\" x=\"40\" y=\"4.680000000000001\" style=\"font-family: 'Open Sans', verdana, arial, sans-serif; font-size: 12px; fill: rgb(42, 63, 95); fill-opacity: 1; white-space: pre;\">2020</text><g class=\"layers\" style=\"opacity: 1;\"><g class=\"legendfill\"/><g class=\"legendlines\"><path class=\"js-line\" d=\"M5,0h30\" style=\"fill: none; stroke: rgb(165, 44, 96); stroke-opacity: 1; stroke-width: 2px;\"/></g><g class=\"legendsymbols\"><g class=\"legendpoints\"/></g></g><rect class=\"legendtoggle\" x=\"0\" y=\"-9.5\" width=\"67.59375\" height=\"19\" style=\"fill: rgb(0, 0, 0); fill-opacity: 0;\"/></g></g><g class=\"groups\" transform=\"\"><g class=\"traces\" transform=\"translate(0,127.7)\" style=\"opacity: 1;\"><text class=\"legendtext\" text-anchor=\"start\" x=\"40\" y=\"4.680000000000001\" style=\"font-family: 'Open Sans', verdana, arial, sans-serif; font-size: 12px; fill: rgb(42, 63, 95); fill-opacity: 1; white-space: pre;\">2021</text><g class=\"layers\" style=\"opacity: 1;\"><g class=\"legendfill\"/><g class=\"legendlines\"><path class=\"js-line\" d=\"M5,0h30\" style=\"fill: none; stroke: rgb(207, 68, 70); stroke-opacity: 1; stroke-width: 2px;\"/></g><g class=\"legendsymbols\"><g class=\"legendpoints\"/></g></g><rect class=\"legendtoggle\" x=\"0\" y=\"-9.5\" width=\"67.59375\" height=\"19\" style=\"fill: rgb(0, 0, 0); fill-opacity: 0;\"/></g></g><g class=\"groups\" transform=\"\"><g class=\"traces\" transform=\"translate(0,146.7)\" style=\"opacity: 1;\"><text class=\"legendtext\" text-anchor=\"start\" x=\"40\" y=\"4.680000000000001\" style=\"font-family: 'Open Sans', verdana, arial, sans-serif; font-size: 12px; fill: rgb(42, 63, 95); fill-opacity: 1; white-space: pre;\">2022</text><g class=\"layers\" style=\"opacity: 1;\"><g class=\"legendfill\"/><g class=\"legendlines\"><path class=\"js-line\" d=\"M5,0h30\" style=\"fill: none; stroke: rgb(237, 105, 37); stroke-opacity: 1; stroke-width: 2px;\"/></g><g class=\"legendsymbols\"><g class=\"legendpoints\"/></g></g><rect class=\"legendtoggle\" x=\"0\" y=\"-9.5\" width=\"67.59375\" height=\"19\" style=\"fill: rgb(0, 0, 0); fill-opacity: 0;\"/></g></g></g><rect class=\"scrollbar\" rx=\"20\" ry=\"3\" width=\"0\" height=\"0\" x=\"0\" y=\"0\" style=\"fill: rgb(128, 139, 164); fill-opacity: 1;\"/></g><g class=\"g-gtitle\"><text class=\"gtitle\" x=\"60\" y=\"50\" text-anchor=\"start\" dy=\"0em\" style=\"font-family: 'Open Sans', verdana, arial, sans-serif; font-size: 17px; fill: rgb(42, 63, 95); opacity: 1; font-weight: normal; white-space: pre;\">Pending Listings over Time by State</text></g><g class=\"g-xtitle\"><text class=\"xtitle\" x=\"199.2625\" y=\"761.8\" text-anchor=\"middle\" style=\"font-family: 'Open Sans', verdana, arial, sans-serif; font-size: 14px; fill: rgb(42, 63, 95); opacity: 1; font-weight: normal; white-space: pre;\">month_num</text></g><g class=\"g-x2title\"><text class=\"x2title\" x=\"458.0875\" y=\"761.8\" text-anchor=\"middle\" style=\"font-family: 'Open Sans', verdana, arial, sans-serif; font-size: 14px; fill: rgb(42, 63, 95); opacity: 1; font-weight: normal; white-space: pre;\">month_num</text></g><g class=\"g-x3title\"><text class=\"x3title\" x=\"716.9124999999999\" y=\"761.8\" text-anchor=\"middle\" style=\"font-family: 'Open Sans', verdana, arial, sans-serif; font-size: 14px; fill: rgb(42, 63, 95); opacity: 1; font-weight: normal; white-space: pre;\">month_num</text></g><g class=\"g-x4title\"><text class=\"x4title\" x=\"975.7375\" y=\"761.8\" text-anchor=\"middle\" style=\"font-family: 'Open Sans', verdana, arial, sans-serif; font-size: 14px; fill: rgb(42, 63, 95); opacity: 1; font-weight: normal; white-space: pre;\">month_num</text></g><g class=\"g-x5title\"/><g class=\"g-x6title\"/><g class=\"g-x7title\"/><g class=\"g-x8title\"/><g class=\"g-x9title\"/><g class=\"g-x10title\"/><g class=\"g-x11title\"/><g class=\"g-x12title\"/><g class=\"g-ytitle\"><text class=\"ytitle\" transform=\"rotate(-90,34.16875,631.1333333333333)\" x=\"34.16875\" y=\"631.1333333333333\" text-anchor=\"middle\" style=\"font-family: 'Open Sans', verdana, arial, sans-serif; font-size: 14px; fill: rgb(42, 63, 95); opacity: 1; font-weight: normal; white-space: pre;\">pending_listings</text></g><g class=\"g-y2title\"/><g class=\"g-y3title\"/><g class=\"g-y4title\"/><g class=\"g-y5title\"><text class=\"y5title\" transform=\"rotate(-90,34.16875,410)\" x=\"34.16875\" y=\"410\" text-anchor=\"middle\" style=\"font-family: 'Open Sans', verdana, arial, sans-serif; font-size: 14px; fill: rgb(42, 63, 95); opacity: 1; font-weight: normal; white-space: pre;\">pending_listings</text></g><g class=\"g-y6title\"/><g class=\"g-y7title\"/><g class=\"g-y8title\"/><g class=\"g-y9title\"><text class=\"y9title\" transform=\"rotate(-90,33.16875,188.86666666666673)\" x=\"33.16875\" y=\"188.86666666666673\" text-anchor=\"middle\" style=\"font-family: 'Open Sans', verdana, arial, sans-serif; font-size: 14px; fill: rgb(42, 63, 95); opacity: 1; font-weight: normal; white-space: pre;\">pending_listings</text></g><g class=\"g-y10title\"/><g class=\"g-y11title\"/><g class=\"g-y12title\"/><g class=\"annotation\" data-index=\"0\" style=\"opacity: 1;\"><g class=\"annotation-text-g\" transform=\"rotate(0,199.2625,531.7666666666667)\"><g class=\"cursor-pointer\" transform=\"translate(172,521)\"><rect class=\"bg\" x=\"0.5\" y=\"0.5\" width=\"53\" height=\"20\" style=\"stroke-width: 1px; stroke: rgb(0, 0, 0); stroke-opacity: 0; fill: rgb(0, 0, 0); fill-opacity: 0;\"/><text class=\"annotation-text\" text-anchor=\"middle\" x=\"26.65625\" y=\"15\" style=\"font-family: 'Open Sans', verdana, arial, sans-serif; font-size: 12px; fill: rgb(42, 63, 95); fill-opacity: 1; white-space: pre;\">state=PA</text></g></g></g><g class=\"annotation\" data-index=\"1\" style=\"opacity: 1;\"><g class=\"annotation-text-g\" transform=\"rotate(0,458.0875,531.7666666666667)\"><g class=\"cursor-pointer\" transform=\"translate(431,521)\"><rect class=\"bg\" x=\"0.5\" y=\"0.5\" width=\"53\" height=\"20\" style=\"stroke-width: 1px; stroke: rgb(0, 0, 0); stroke-opacity: 0; fill: rgb(0, 0, 0); fill-opacity: 0;\"/><text class=\"annotation-text\" text-anchor=\"middle\" x=\"26.921875\" y=\"15\" style=\"font-family: 'Open Sans', verdana, arial, sans-serif; font-size: 12px; fill: rgb(42, 63, 95); fill-opacity: 1; white-space: pre;\">state=UT</text></g></g></g><g class=\"annotation\" data-index=\"2\" style=\"opacity: 1;\"><g class=\"annotation-text-g\" transform=\"rotate(0,716.9124999999999,531.7666666666667)\"><g class=\"cursor-pointer\" transform=\"translate(690,521)\"><rect class=\"bg\" x=\"0.5\" y=\"0.5\" width=\"52\" height=\"20\" style=\"stroke-width: 1px; stroke: rgb(0, 0, 0); stroke-opacity: 0; fill: rgb(0, 0, 0); fill-opacity: 0;\"/><text class=\"annotation-text\" text-anchor=\"middle\" x=\"26.46875\" y=\"15\" style=\"font-family: 'Open Sans', verdana, arial, sans-serif; font-size: 12px; fill: rgb(42, 63, 95); fill-opacity: 1; white-space: pre;\">state=WI</text></g></g></g><g class=\"annotation\" data-index=\"3\" style=\"opacity: 1;\"><g class=\"annotation-text-g\" transform=\"rotate(0,975.7374999999998,531.7666666666667)\"><g class=\"cursor-pointer\" transform=\"translate(947,521)\"><rect class=\"bg\" x=\"0.5\" y=\"0.5\" width=\"57\" height=\"20\" style=\"stroke-width: 1px; stroke: rgb(0, 0, 0); stroke-opacity: 0; fill: rgb(0, 0, 0); fill-opacity: 0;\"/><text class=\"annotation-text\" text-anchor=\"middle\" x=\"28.15625\" y=\"15\" style=\"font-family: 'Open Sans', verdana, arial, sans-serif; font-size: 12px; fill: rgb(42, 63, 95); fill-opacity: 1; white-space: pre;\">state=WY</text></g></g></g><g class=\"annotation\" data-index=\"4\" style=\"opacity: 1;\"><g class=\"annotation-text-g\" transform=\"rotate(0,199.2625,310.6333333333333)\"><g class=\"cursor-pointer\" transform=\"translate(173,300)\"><rect class=\"bg\" x=\"0.5\" y=\"0.5\" width=\"52\" height=\"20\" style=\"stroke-width: 1px; stroke: rgb(0, 0, 0); stroke-opacity: 0; fill: rgb(0, 0, 0); fill-opacity: 0;\"/><text class=\"annotation-text\" text-anchor=\"middle\" x=\"26.328125\" y=\"15\" style=\"font-family: 'Open Sans', verdana, arial, sans-serif; font-size: 12px; fill: rgb(42, 63, 95); fill-opacity: 1; white-space: pre;\">state=MI</text></g></g></g><g class=\"annotation\" data-index=\"5\" style=\"opacity: 1;\"><g class=\"annotation-text-g\" transform=\"rotate(0,458.0875,310.6333333333333)\"><g class=\"cursor-pointer\" transform=\"translate(431,300)\"><rect class=\"bg\" x=\"0.5\" y=\"0.5\" width=\"54\" height=\"20\" style=\"stroke-width: 1px; stroke: rgb(0, 0, 0); stroke-opacity: 0; fill: rgb(0, 0, 0); fill-opacity: 0;\"/><text class=\"annotation-text\" text-anchor=\"middle\" x=\"27.09375\" y=\"15\" style=\"font-family: 'Open Sans', verdana, arial, sans-serif; font-size: 12px; fill: rgb(42, 63, 95); fill-opacity: 1; white-space: pre;\">state=NE</text></g></g></g><g class=\"annotation\" data-index=\"6\" style=\"opacity: 1;\"><g class=\"annotation-text-g\" transform=\"rotate(0,716.9124999999999,310.6333333333333)\"><g class=\"cursor-pointer\" transform=\"translate(689,300)\"><rect class=\"bg\" x=\"0.5\" y=\"0.5\" width=\"55\" height=\"20\" style=\"stroke-width: 1px; stroke: rgb(0, 0, 0); stroke-opacity: 0; fill: rgb(0, 0, 0); fill-opacity: 0;\"/><text class=\"annotation-text\" text-anchor=\"middle\" x=\"27.125\" y=\"15\" style=\"font-family: 'Open Sans', verdana, arial, sans-serif; font-size: 12px; fill: rgb(42, 63, 95); fill-opacity: 1; white-space: pre;\">state=NY</text></g></g></g><g class=\"annotation\" data-index=\"7\" style=\"opacity: 1;\"><g class=\"annotation-text-g\" transform=\"rotate(0,975.7374999999998,310.6333333333333)\"><g class=\"cursor-pointer\" transform=\"translate(948,300)\"><rect class=\"bg\" x=\"0.5\" y=\"0.5\" width=\"55\" height=\"20\" style=\"stroke-width: 1px; stroke: rgb(0, 0, 0); stroke-opacity: 0; fill: rgb(0, 0, 0); fill-opacity: 0;\"/><text class=\"annotation-text\" text-anchor=\"middle\" x=\"27.625\" y=\"15\" style=\"font-family: 'Open Sans', verdana, arial, sans-serif; font-size: 12px; fill: rgb(42, 63, 95); fill-opacity: 1; white-space: pre;\">state=OR</text></g></g></g><g class=\"annotation\" data-index=\"8\" style=\"opacity: 1;\"><g class=\"annotation-text-g\" transform=\"rotate(0,199.2625,89.50000000000007)\"><g class=\"cursor-pointer\" transform=\"translate(172,79)\"><rect class=\"bg\" x=\"0.5\" y=\"0.5\" width=\"53\" height=\"20\" style=\"stroke-width: 1px; stroke: rgb(0, 0, 0); stroke-opacity: 0; fill: rgb(0, 0, 0); fill-opacity: 0;\"/><text class=\"annotation-text\" text-anchor=\"middle\" x=\"26.828125\" y=\"15\" style=\"font-family: 'Open Sans', verdana, arial, sans-serif; font-size: 12px; fill: rgb(42, 63, 95); fill-opacity: 1; white-space: pre;\">state=CA</text></g></g></g><g class=\"annotation\" data-index=\"9\" style=\"opacity: 1;\"><g class=\"annotation-text-g\" transform=\"rotate(0,458.0875,89.50000000000007)\"><g class=\"cursor-pointer\" transform=\"translate(431,79)\"><rect class=\"bg\" x=\"0.5\" y=\"0.5\" width=\"54\" height=\"20\" style=\"stroke-width: 1px; stroke: rgb(0, 0, 0); stroke-opacity: 0; fill: rgb(0, 0, 0); fill-opacity: 0;\"/><text class=\"annotation-text\" text-anchor=\"middle\" x=\"27.703125\" y=\"15\" style=\"font-family: 'Open Sans', verdana, arial, sans-serif; font-size: 12px; fill: rgb(42, 63, 95); fill-opacity: 1; white-space: pre;\">state=CO</text></g></g></g><g class=\"annotation\" data-index=\"10\" style=\"opacity: 1;\"><g class=\"annotation-text-g\" transform=\"rotate(0,716.9124999999999,89.50000000000007)\"><g class=\"cursor-pointer\" transform=\"translate(691,79)\"><rect class=\"bg\" x=\"0.5\" y=\"0.5\" width=\"50\" height=\"20\" style=\"stroke-width: 1px; stroke: rgb(0, 0, 0); stroke-opacity: 0; fill: rgb(0, 0, 0); fill-opacity: 0;\"/><text class=\"annotation-text\" text-anchor=\"middle\" x=\"25.28125\" y=\"15\" style=\"font-family: 'Open Sans', verdana, arial, sans-serif; font-size: 12px; fill: rgb(42, 63, 95); fill-opacity: 1; white-space: pre;\">state=ID</text></g></g></g><g class=\"annotation\" data-index=\"11\" style=\"opacity: 1;\"><g class=\"annotation-text-g\" transform=\"rotate(0,975.7374999999998,89.50000000000007)\"><g class=\"cursor-pointer\" transform=\"translate(951,79)\"><rect class=\"bg\" x=\"0.5\" y=\"0.5\" width=\"48\" height=\"20\" style=\"stroke-width: 1px; stroke: rgb(0, 0, 0); stroke-opacity: 0; fill: rgb(0, 0, 0); fill-opacity: 0;\"/><text class=\"annotation-text\" text-anchor=\"middle\" x=\"24.03125\" y=\"15\" style=\"font-family: 'Open Sans', verdana, arial, sans-serif; font-size: 12px; fill: rgb(42, 63, 95); fill-opacity: 1; white-space: pre;\">state=IL</text></g></g></g></g></svg>"
     },
     "metadata": {},
     "output_type": "display_data"
    }
   ],
   "source": [
    "fig = px.line(df.query(\"state in @select_states\"),\n",
    "    x = 'month_num',\n",
    "    y = 'pending_listings',\n",
    "    color = 'year',\n",
    "    facet_col = 'state',\n",
    "    facet_col_wrap = 4,\n",
    "    title = 'Pending Listings over Time by State',\n",
    "    color_discrete_sequence=px.colors.sequential.Inferno\n",
    "    )\n",
    "fig.update_yaxes(matches = None)\n",
    "fig.update_layout(height = 800, width = 1200)\n",
    "fig.show(renderer = 'svg')"
   ]
  },
  {
   "cell_type": "markdown",
   "metadata": {},
   "source": [
    "### Median number of days listings remain on the market "
   ]
  },
  {
   "cell_type": "code",
   "execution_count": 42,
   "metadata": {},
   "outputs": [
    {
     "data": {
      "image/svg+xml": "<svg class=\"main-svg\" xmlns=\"http://www.w3.org/2000/svg\" xmlns:xlink=\"http://www.w3.org/1999/xlink\" width=\"1200\" height=\"800\" style=\"\" viewBox=\"0 0 1200 800\"><rect x=\"0\" y=\"0\" width=\"1200\" height=\"800\" style=\"fill: rgb(255, 255, 255); fill-opacity: 1;\"/><defs id=\"defs-671a8a\"><g class=\"clips\"><clipPath id=\"clip671a8axyplot\" class=\"plotclip\"><rect width=\"238.52499999999998\" height=\"177.73333333333332\"/></clipPath><clipPath id=\"clip671a8ax2y2plot\" class=\"plotclip\"><rect width=\"238.52499999999998\" height=\"177.73333333333332\"/></clipPath><clipPath id=\"clip671a8ax3y3plot\" class=\"plotclip\"><rect width=\"238.52499999999998\" height=\"177.73333333333332\"/></clipPath><clipPath id=\"clip671a8ax4y4plot\" class=\"plotclip\"><rect width=\"238.52499999999998\" height=\"177.73333333333332\"/></clipPath><clipPath id=\"clip671a8ax5y5plot\" class=\"plotclip\"><rect width=\"238.52499999999998\" height=\"177.73333333333335\"/></clipPath><clipPath id=\"clip671a8ax6y6plot\" class=\"plotclip\"><rect width=\"238.52499999999998\" height=\"177.73333333333335\"/></clipPath><clipPath id=\"clip671a8ax7y7plot\" class=\"plotclip\"><rect width=\"238.52499999999998\" height=\"177.73333333333335\"/></clipPath><clipPath id=\"clip671a8ax8y8plot\" class=\"plotclip\"><rect width=\"238.52499999999998\" height=\"177.73333333333335\"/></clipPath><clipPath id=\"clip671a8ax9y9plot\" class=\"plotclip\"><rect width=\"238.52499999999998\" height=\"177.73333333333332\"/></clipPath><clipPath id=\"clip671a8ax10y10plot\" class=\"plotclip\"><rect width=\"238.52499999999998\" height=\"177.73333333333332\"/></clipPath><clipPath id=\"clip671a8ax11y11plot\" class=\"plotclip\"><rect width=\"238.52499999999998\" height=\"177.73333333333332\"/></clipPath><clipPath id=\"clip671a8ax12y12plot\" class=\"plotclip\"><rect width=\"238.52499999999998\" height=\"177.73333333333332\"/></clipPath><clipPath class=\"axesclip\" id=\"clip671a8ax\"><rect x=\"80\" y=\"0\" width=\"238.52499999999998\" height=\"800\"/></clipPath><clipPath class=\"axesclip\" id=\"clip671a8ay\"><rect x=\"0\" y=\"542.2666666666667\" width=\"1200\" height=\"177.73333333333332\"/></clipPath><clipPath class=\"axesclip\" id=\"clip671a8axy\"><rect x=\"80\" y=\"542.2666666666667\" width=\"238.52499999999998\" height=\"177.73333333333332\"/></clipPath><clipPath class=\"axesclip\" id=\"clip671a8ay2\"><rect x=\"0\" y=\"542.2666666666667\" width=\"1200\" height=\"177.73333333333332\"/></clipPath><clipPath class=\"axesclip\" id=\"clip671a8axy2\"><rect x=\"80\" y=\"542.2666666666667\" width=\"238.52499999999998\" height=\"177.73333333333332\"/></clipPath><clipPath class=\"axesclip\" id=\"clip671a8ay3\"><rect x=\"0\" y=\"542.2666666666667\" width=\"1200\" height=\"177.73333333333332\"/></clipPath><clipPath class=\"axesclip\" id=\"clip671a8axy3\"><rect x=\"80\" y=\"542.2666666666667\" width=\"238.52499999999998\" height=\"177.73333333333332\"/></clipPath><clipPath class=\"axesclip\" id=\"clip671a8ay4\"><rect x=\"0\" y=\"542.2666666666667\" width=\"1200\" height=\"177.73333333333332\"/></clipPath><clipPath class=\"axesclip\" id=\"clip671a8axy4\"><rect x=\"80\" y=\"542.2666666666667\" width=\"238.52499999999998\" height=\"177.73333333333332\"/></clipPath><clipPath class=\"axesclip\" id=\"clip671a8ay5\"><rect x=\"0\" y=\"321.1333333333333\" width=\"1200\" height=\"177.73333333333335\"/></clipPath><clipPath class=\"axesclip\" id=\"clip671a8axy5\"><rect x=\"80\" y=\"321.1333333333333\" width=\"238.52499999999998\" height=\"177.73333333333335\"/></clipPath><clipPath class=\"axesclip\" id=\"clip671a8ay6\"><rect x=\"0\" y=\"321.1333333333333\" width=\"1200\" height=\"177.73333333333335\"/></clipPath><clipPath class=\"axesclip\" id=\"clip671a8axy6\"><rect x=\"80\" y=\"321.1333333333333\" width=\"238.52499999999998\" height=\"177.73333333333335\"/></clipPath><clipPath class=\"axesclip\" id=\"clip671a8ay7\"><rect x=\"0\" y=\"321.1333333333333\" width=\"1200\" height=\"177.73333333333335\"/></clipPath><clipPath class=\"axesclip\" id=\"clip671a8axy7\"><rect x=\"80\" y=\"321.1333333333333\" width=\"238.52499999999998\" height=\"177.73333333333335\"/></clipPath><clipPath class=\"axesclip\" id=\"clip671a8ay8\"><rect x=\"0\" y=\"321.1333333333333\" width=\"1200\" height=\"177.73333333333335\"/></clipPath><clipPath class=\"axesclip\" id=\"clip671a8axy8\"><rect x=\"80\" y=\"321.1333333333333\" width=\"238.52499999999998\" height=\"177.73333333333335\"/></clipPath><clipPath class=\"axesclip\" id=\"clip671a8ay9\"><rect x=\"0\" y=\"100.00000000000007\" width=\"1200\" height=\"177.73333333333332\"/></clipPath><clipPath class=\"axesclip\" id=\"clip671a8axy9\"><rect x=\"80\" y=\"100.00000000000007\" width=\"238.52499999999998\" height=\"177.73333333333332\"/></clipPath><clipPath class=\"axesclip\" id=\"clip671a8ay10\"><rect x=\"0\" y=\"100.00000000000007\" width=\"1200\" height=\"177.73333333333332\"/></clipPath><clipPath class=\"axesclip\" id=\"clip671a8axy10\"><rect x=\"80\" y=\"100.00000000000007\" width=\"238.52499999999998\" height=\"177.73333333333332\"/></clipPath><clipPath class=\"axesclip\" id=\"clip671a8ay11\"><rect x=\"0\" y=\"100.00000000000007\" width=\"1200\" height=\"177.73333333333332\"/></clipPath><clipPath class=\"axesclip\" id=\"clip671a8axy11\"><rect x=\"80\" y=\"100.00000000000007\" width=\"238.52499999999998\" height=\"177.73333333333332\"/></clipPath><clipPath class=\"axesclip\" id=\"clip671a8ay12\"><rect x=\"0\" y=\"100.00000000000007\" width=\"1200\" height=\"177.73333333333332\"/></clipPath><clipPath class=\"axesclip\" id=\"clip671a8axy12\"><rect x=\"80\" y=\"100.00000000000007\" width=\"238.52499999999998\" height=\"177.73333333333332\"/></clipPath><clipPath class=\"axesclip\" id=\"clip671a8ax2\"><rect x=\"338.825\" y=\"0\" width=\"238.52499999999998\" height=\"800\"/></clipPath><clipPath class=\"axesclip\" id=\"clip671a8ax2y\"><rect x=\"338.825\" y=\"542.2666666666667\" width=\"238.52499999999998\" height=\"177.73333333333332\"/></clipPath><clipPath class=\"axesclip\" id=\"clip671a8ax2y2\"><rect x=\"338.825\" y=\"542.2666666666667\" width=\"238.52499999999998\" height=\"177.73333333333332\"/></clipPath><clipPath class=\"axesclip\" id=\"clip671a8ax2y3\"><rect x=\"338.825\" y=\"542.2666666666667\" width=\"238.52499999999998\" height=\"177.73333333333332\"/></clipPath><clipPath class=\"axesclip\" id=\"clip671a8ax2y4\"><rect x=\"338.825\" y=\"542.2666666666667\" width=\"238.52499999999998\" height=\"177.73333333333332\"/></clipPath><clipPath class=\"axesclip\" id=\"clip671a8ax2y5\"><rect x=\"338.825\" y=\"321.1333333333333\" width=\"238.52499999999998\" height=\"177.73333333333335\"/></clipPath><clipPath class=\"axesclip\" id=\"clip671a8ax2y6\"><rect x=\"338.825\" y=\"321.1333333333333\" width=\"238.52499999999998\" height=\"177.73333333333335\"/></clipPath><clipPath class=\"axesclip\" id=\"clip671a8ax2y7\"><rect x=\"338.825\" y=\"321.1333333333333\" width=\"238.52499999999998\" height=\"177.73333333333335\"/></clipPath><clipPath class=\"axesclip\" id=\"clip671a8ax2y8\"><rect x=\"338.825\" y=\"321.1333333333333\" width=\"238.52499999999998\" height=\"177.73333333333335\"/></clipPath><clipPath class=\"axesclip\" id=\"clip671a8ax2y9\"><rect x=\"338.825\" y=\"100.00000000000007\" width=\"238.52499999999998\" height=\"177.73333333333332\"/></clipPath><clipPath class=\"axesclip\" id=\"clip671a8ax2y10\"><rect x=\"338.825\" y=\"100.00000000000007\" width=\"238.52499999999998\" height=\"177.73333333333332\"/></clipPath><clipPath class=\"axesclip\" id=\"clip671a8ax2y11\"><rect x=\"338.825\" y=\"100.00000000000007\" width=\"238.52499999999998\" height=\"177.73333333333332\"/></clipPath><clipPath class=\"axesclip\" id=\"clip671a8ax2y12\"><rect x=\"338.825\" y=\"100.00000000000007\" width=\"238.52499999999998\" height=\"177.73333333333332\"/></clipPath><clipPath class=\"axesclip\" id=\"clip671a8ax3\"><rect x=\"597.65\" y=\"0\" width=\"238.52499999999998\" height=\"800\"/></clipPath><clipPath class=\"axesclip\" id=\"clip671a8ax3y\"><rect x=\"597.65\" y=\"542.2666666666667\" width=\"238.52499999999998\" height=\"177.73333333333332\"/></clipPath><clipPath class=\"axesclip\" id=\"clip671a8ax3y2\"><rect x=\"597.65\" y=\"542.2666666666667\" width=\"238.52499999999998\" height=\"177.73333333333332\"/></clipPath><clipPath class=\"axesclip\" id=\"clip671a8ax3y3\"><rect x=\"597.65\" y=\"542.2666666666667\" width=\"238.52499999999998\" height=\"177.73333333333332\"/></clipPath><clipPath class=\"axesclip\" id=\"clip671a8ax3y4\"><rect x=\"597.65\" y=\"542.2666666666667\" width=\"238.52499999999998\" height=\"177.73333333333332\"/></clipPath><clipPath class=\"axesclip\" id=\"clip671a8ax3y5\"><rect x=\"597.65\" y=\"321.1333333333333\" width=\"238.52499999999998\" height=\"177.73333333333335\"/></clipPath><clipPath class=\"axesclip\" id=\"clip671a8ax3y6\"><rect x=\"597.65\" y=\"321.1333333333333\" width=\"238.52499999999998\" height=\"177.73333333333335\"/></clipPath><clipPath class=\"axesclip\" id=\"clip671a8ax3y7\"><rect x=\"597.65\" y=\"321.1333333333333\" width=\"238.52499999999998\" height=\"177.73333333333335\"/></clipPath><clipPath class=\"axesclip\" id=\"clip671a8ax3y8\"><rect x=\"597.65\" y=\"321.1333333333333\" width=\"238.52499999999998\" height=\"177.73333333333335\"/></clipPath><clipPath class=\"axesclip\" id=\"clip671a8ax3y9\"><rect x=\"597.65\" y=\"100.00000000000007\" width=\"238.52499999999998\" height=\"177.73333333333332\"/></clipPath><clipPath class=\"axesclip\" id=\"clip671a8ax3y10\"><rect x=\"597.65\" y=\"100.00000000000007\" width=\"238.52499999999998\" height=\"177.73333333333332\"/></clipPath><clipPath class=\"axesclip\" id=\"clip671a8ax3y11\"><rect x=\"597.65\" y=\"100.00000000000007\" width=\"238.52499999999998\" height=\"177.73333333333332\"/></clipPath><clipPath class=\"axesclip\" id=\"clip671a8ax3y12\"><rect x=\"597.65\" y=\"100.00000000000007\" width=\"238.52499999999998\" height=\"177.73333333333332\"/></clipPath><clipPath class=\"axesclip\" id=\"clip671a8ax4\"><rect x=\"856.4749999999999\" y=\"0\" width=\"238.52499999999998\" height=\"800\"/></clipPath><clipPath class=\"axesclip\" id=\"clip671a8ax4y\"><rect x=\"856.4749999999999\" y=\"542.2666666666667\" width=\"238.52499999999998\" height=\"177.73333333333332\"/></clipPath><clipPath class=\"axesclip\" id=\"clip671a8ax4y2\"><rect x=\"856.4749999999999\" y=\"542.2666666666667\" width=\"238.52499999999998\" height=\"177.73333333333332\"/></clipPath><clipPath class=\"axesclip\" id=\"clip671a8ax4y3\"><rect x=\"856.4749999999999\" y=\"542.2666666666667\" width=\"238.52499999999998\" height=\"177.73333333333332\"/></clipPath><clipPath class=\"axesclip\" id=\"clip671a8ax4y4\"><rect x=\"856.4749999999999\" y=\"542.2666666666667\" width=\"238.52499999999998\" height=\"177.73333333333332\"/></clipPath><clipPath class=\"axesclip\" id=\"clip671a8ax4y5\"><rect x=\"856.4749999999999\" y=\"321.1333333333333\" width=\"238.52499999999998\" height=\"177.73333333333335\"/></clipPath><clipPath class=\"axesclip\" id=\"clip671a8ax4y6\"><rect x=\"856.4749999999999\" y=\"321.1333333333333\" width=\"238.52499999999998\" height=\"177.73333333333335\"/></clipPath><clipPath class=\"axesclip\" id=\"clip671a8ax4y7\"><rect x=\"856.4749999999999\" y=\"321.1333333333333\" width=\"238.52499999999998\" height=\"177.73333333333335\"/></clipPath><clipPath class=\"axesclip\" id=\"clip671a8ax4y8\"><rect x=\"856.4749999999999\" y=\"321.1333333333333\" width=\"238.52499999999998\" height=\"177.73333333333335\"/></clipPath><clipPath class=\"axesclip\" id=\"clip671a8ax4y9\"><rect x=\"856.4749999999999\" y=\"100.00000000000007\" width=\"238.52499999999998\" height=\"177.73333333333332\"/></clipPath><clipPath class=\"axesclip\" id=\"clip671a8ax4y10\"><rect x=\"856.4749999999999\" y=\"100.00000000000007\" width=\"238.52499999999998\" height=\"177.73333333333332\"/></clipPath><clipPath class=\"axesclip\" id=\"clip671a8ax4y11\"><rect x=\"856.4749999999999\" y=\"100.00000000000007\" width=\"238.52499999999998\" height=\"177.73333333333332\"/></clipPath><clipPath class=\"axesclip\" id=\"clip671a8ax4y12\"><rect x=\"856.4749999999999\" y=\"100.00000000000007\" width=\"238.52499999999998\" height=\"177.73333333333332\"/></clipPath><clipPath class=\"axesclip\" id=\"clip671a8ax5\"><rect x=\"80\" y=\"0\" width=\"238.52499999999998\" height=\"800\"/></clipPath><clipPath class=\"axesclip\" id=\"clip671a8ax5y\"><rect x=\"80\" y=\"542.2666666666667\" width=\"238.52499999999998\" height=\"177.73333333333332\"/></clipPath><clipPath class=\"axesclip\" id=\"clip671a8ax5y2\"><rect x=\"80\" y=\"542.2666666666667\" width=\"238.52499999999998\" height=\"177.73333333333332\"/></clipPath><clipPath class=\"axesclip\" id=\"clip671a8ax5y3\"><rect x=\"80\" y=\"542.2666666666667\" width=\"238.52499999999998\" height=\"177.73333333333332\"/></clipPath><clipPath class=\"axesclip\" id=\"clip671a8ax5y4\"><rect x=\"80\" y=\"542.2666666666667\" width=\"238.52499999999998\" height=\"177.73333333333332\"/></clipPath><clipPath class=\"axesclip\" id=\"clip671a8ax5y5\"><rect x=\"80\" y=\"321.1333333333333\" width=\"238.52499999999998\" height=\"177.73333333333335\"/></clipPath><clipPath class=\"axesclip\" id=\"clip671a8ax5y6\"><rect x=\"80\" y=\"321.1333333333333\" width=\"238.52499999999998\" height=\"177.73333333333335\"/></clipPath><clipPath class=\"axesclip\" id=\"clip671a8ax5y7\"><rect x=\"80\" y=\"321.1333333333333\" width=\"238.52499999999998\" height=\"177.73333333333335\"/></clipPath><clipPath class=\"axesclip\" id=\"clip671a8ax5y8\"><rect x=\"80\" y=\"321.1333333333333\" width=\"238.52499999999998\" height=\"177.73333333333335\"/></clipPath><clipPath class=\"axesclip\" id=\"clip671a8ax5y9\"><rect x=\"80\" y=\"100.00000000000007\" width=\"238.52499999999998\" height=\"177.73333333333332\"/></clipPath><clipPath class=\"axesclip\" id=\"clip671a8ax5y10\"><rect x=\"80\" y=\"100.00000000000007\" width=\"238.52499999999998\" height=\"177.73333333333332\"/></clipPath><clipPath class=\"axesclip\" id=\"clip671a8ax5y11\"><rect x=\"80\" y=\"100.00000000000007\" width=\"238.52499999999998\" height=\"177.73333333333332\"/></clipPath><clipPath class=\"axesclip\" id=\"clip671a8ax5y12\"><rect x=\"80\" y=\"100.00000000000007\" width=\"238.52499999999998\" height=\"177.73333333333332\"/></clipPath><clipPath class=\"axesclip\" id=\"clip671a8ax6\"><rect x=\"338.825\" y=\"0\" width=\"238.52499999999998\" height=\"800\"/></clipPath><clipPath class=\"axesclip\" id=\"clip671a8ax6y\"><rect x=\"338.825\" y=\"542.2666666666667\" width=\"238.52499999999998\" height=\"177.73333333333332\"/></clipPath><clipPath class=\"axesclip\" id=\"clip671a8ax6y2\"><rect x=\"338.825\" y=\"542.2666666666667\" width=\"238.52499999999998\" height=\"177.73333333333332\"/></clipPath><clipPath class=\"axesclip\" id=\"clip671a8ax6y3\"><rect x=\"338.825\" y=\"542.2666666666667\" width=\"238.52499999999998\" height=\"177.73333333333332\"/></clipPath><clipPath class=\"axesclip\" id=\"clip671a8ax6y4\"><rect x=\"338.825\" y=\"542.2666666666667\" width=\"238.52499999999998\" height=\"177.73333333333332\"/></clipPath><clipPath class=\"axesclip\" id=\"clip671a8ax6y5\"><rect x=\"338.825\" y=\"321.1333333333333\" width=\"238.52499999999998\" height=\"177.73333333333335\"/></clipPath><clipPath class=\"axesclip\" id=\"clip671a8ax6y6\"><rect x=\"338.825\" y=\"321.1333333333333\" width=\"238.52499999999998\" height=\"177.73333333333335\"/></clipPath><clipPath class=\"axesclip\" id=\"clip671a8ax6y7\"><rect x=\"338.825\" y=\"321.1333333333333\" width=\"238.52499999999998\" height=\"177.73333333333335\"/></clipPath><clipPath class=\"axesclip\" id=\"clip671a8ax6y8\"><rect x=\"338.825\" y=\"321.1333333333333\" width=\"238.52499999999998\" height=\"177.73333333333335\"/></clipPath><clipPath class=\"axesclip\" id=\"clip671a8ax6y9\"><rect x=\"338.825\" y=\"100.00000000000007\" width=\"238.52499999999998\" height=\"177.73333333333332\"/></clipPath><clipPath class=\"axesclip\" id=\"clip671a8ax6y10\"><rect x=\"338.825\" y=\"100.00000000000007\" width=\"238.52499999999998\" height=\"177.73333333333332\"/></clipPath><clipPath class=\"axesclip\" id=\"clip671a8ax6y11\"><rect x=\"338.825\" y=\"100.00000000000007\" width=\"238.52499999999998\" height=\"177.73333333333332\"/></clipPath><clipPath class=\"axesclip\" id=\"clip671a8ax6y12\"><rect x=\"338.825\" y=\"100.00000000000007\" width=\"238.52499999999998\" height=\"177.73333333333332\"/></clipPath><clipPath class=\"axesclip\" id=\"clip671a8ax7\"><rect x=\"597.65\" y=\"0\" width=\"238.52499999999998\" height=\"800\"/></clipPath><clipPath class=\"axesclip\" id=\"clip671a8ax7y\"><rect x=\"597.65\" y=\"542.2666666666667\" width=\"238.52499999999998\" height=\"177.73333333333332\"/></clipPath><clipPath class=\"axesclip\" id=\"clip671a8ax7y2\"><rect x=\"597.65\" y=\"542.2666666666667\" width=\"238.52499999999998\" height=\"177.73333333333332\"/></clipPath><clipPath class=\"axesclip\" id=\"clip671a8ax7y3\"><rect x=\"597.65\" y=\"542.2666666666667\" width=\"238.52499999999998\" height=\"177.73333333333332\"/></clipPath><clipPath class=\"axesclip\" id=\"clip671a8ax7y4\"><rect x=\"597.65\" y=\"542.2666666666667\" width=\"238.52499999999998\" height=\"177.73333333333332\"/></clipPath><clipPath class=\"axesclip\" id=\"clip671a8ax7y5\"><rect x=\"597.65\" y=\"321.1333333333333\" width=\"238.52499999999998\" height=\"177.73333333333335\"/></clipPath><clipPath class=\"axesclip\" id=\"clip671a8ax7y6\"><rect x=\"597.65\" y=\"321.1333333333333\" width=\"238.52499999999998\" height=\"177.73333333333335\"/></clipPath><clipPath class=\"axesclip\" id=\"clip671a8ax7y7\"><rect x=\"597.65\" y=\"321.1333333333333\" width=\"238.52499999999998\" height=\"177.73333333333335\"/></clipPath><clipPath class=\"axesclip\" id=\"clip671a8ax7y8\"><rect x=\"597.65\" y=\"321.1333333333333\" width=\"238.52499999999998\" height=\"177.73333333333335\"/></clipPath><clipPath class=\"axesclip\" id=\"clip671a8ax7y9\"><rect x=\"597.65\" y=\"100.00000000000007\" width=\"238.52499999999998\" height=\"177.73333333333332\"/></clipPath><clipPath class=\"axesclip\" id=\"clip671a8ax7y10\"><rect x=\"597.65\" y=\"100.00000000000007\" width=\"238.52499999999998\" height=\"177.73333333333332\"/></clipPath><clipPath class=\"axesclip\" id=\"clip671a8ax7y11\"><rect x=\"597.65\" y=\"100.00000000000007\" width=\"238.52499999999998\" height=\"177.73333333333332\"/></clipPath><clipPath class=\"axesclip\" id=\"clip671a8ax7y12\"><rect x=\"597.65\" y=\"100.00000000000007\" width=\"238.52499999999998\" height=\"177.73333333333332\"/></clipPath><clipPath class=\"axesclip\" id=\"clip671a8ax8\"><rect x=\"856.4749999999999\" y=\"0\" width=\"238.52499999999998\" height=\"800\"/></clipPath><clipPath class=\"axesclip\" id=\"clip671a8ax8y\"><rect x=\"856.4749999999999\" y=\"542.2666666666667\" width=\"238.52499999999998\" height=\"177.73333333333332\"/></clipPath><clipPath class=\"axesclip\" id=\"clip671a8ax8y2\"><rect x=\"856.4749999999999\" y=\"542.2666666666667\" width=\"238.52499999999998\" height=\"177.73333333333332\"/></clipPath><clipPath class=\"axesclip\" id=\"clip671a8ax8y3\"><rect x=\"856.4749999999999\" y=\"542.2666666666667\" width=\"238.52499999999998\" height=\"177.73333333333332\"/></clipPath><clipPath class=\"axesclip\" id=\"clip671a8ax8y4\"><rect x=\"856.4749999999999\" y=\"542.2666666666667\" width=\"238.52499999999998\" height=\"177.73333333333332\"/></clipPath><clipPath class=\"axesclip\" id=\"clip671a8ax8y5\"><rect x=\"856.4749999999999\" y=\"321.1333333333333\" width=\"238.52499999999998\" height=\"177.73333333333335\"/></clipPath><clipPath class=\"axesclip\" id=\"clip671a8ax8y6\"><rect x=\"856.4749999999999\" y=\"321.1333333333333\" width=\"238.52499999999998\" height=\"177.73333333333335\"/></clipPath><clipPath class=\"axesclip\" id=\"clip671a8ax8y7\"><rect x=\"856.4749999999999\" y=\"321.1333333333333\" width=\"238.52499999999998\" height=\"177.73333333333335\"/></clipPath><clipPath class=\"axesclip\" id=\"clip671a8ax8y8\"><rect x=\"856.4749999999999\" y=\"321.1333333333333\" width=\"238.52499999999998\" height=\"177.73333333333335\"/></clipPath><clipPath class=\"axesclip\" id=\"clip671a8ax8y9\"><rect x=\"856.4749999999999\" y=\"100.00000000000007\" width=\"238.52499999999998\" height=\"177.73333333333332\"/></clipPath><clipPath class=\"axesclip\" id=\"clip671a8ax8y10\"><rect x=\"856.4749999999999\" y=\"100.00000000000007\" width=\"238.52499999999998\" height=\"177.73333333333332\"/></clipPath><clipPath class=\"axesclip\" id=\"clip671a8ax8y11\"><rect x=\"856.4749999999999\" y=\"100.00000000000007\" width=\"238.52499999999998\" height=\"177.73333333333332\"/></clipPath><clipPath class=\"axesclip\" id=\"clip671a8ax8y12\"><rect x=\"856.4749999999999\" y=\"100.00000000000007\" width=\"238.52499999999998\" height=\"177.73333333333332\"/></clipPath><clipPath class=\"axesclip\" id=\"clip671a8ax9\"><rect x=\"80\" y=\"0\" width=\"238.52499999999998\" height=\"800\"/></clipPath><clipPath class=\"axesclip\" id=\"clip671a8ax9y\"><rect x=\"80\" y=\"542.2666666666667\" width=\"238.52499999999998\" height=\"177.73333333333332\"/></clipPath><clipPath class=\"axesclip\" id=\"clip671a8ax9y2\"><rect x=\"80\" y=\"542.2666666666667\" width=\"238.52499999999998\" height=\"177.73333333333332\"/></clipPath><clipPath class=\"axesclip\" id=\"clip671a8ax9y3\"><rect x=\"80\" y=\"542.2666666666667\" width=\"238.52499999999998\" height=\"177.73333333333332\"/></clipPath><clipPath class=\"axesclip\" id=\"clip671a8ax9y4\"><rect x=\"80\" y=\"542.2666666666667\" width=\"238.52499999999998\" height=\"177.73333333333332\"/></clipPath><clipPath class=\"axesclip\" id=\"clip671a8ax9y5\"><rect x=\"80\" y=\"321.1333333333333\" width=\"238.52499999999998\" height=\"177.73333333333335\"/></clipPath><clipPath class=\"axesclip\" id=\"clip671a8ax9y6\"><rect x=\"80\" y=\"321.1333333333333\" width=\"238.52499999999998\" height=\"177.73333333333335\"/></clipPath><clipPath class=\"axesclip\" id=\"clip671a8ax9y7\"><rect x=\"80\" y=\"321.1333333333333\" width=\"238.52499999999998\" height=\"177.73333333333335\"/></clipPath><clipPath class=\"axesclip\" id=\"clip671a8ax9y8\"><rect x=\"80\" y=\"321.1333333333333\" width=\"238.52499999999998\" height=\"177.73333333333335\"/></clipPath><clipPath class=\"axesclip\" id=\"clip671a8ax9y9\"><rect x=\"80\" y=\"100.00000000000007\" width=\"238.52499999999998\" height=\"177.73333333333332\"/></clipPath><clipPath class=\"axesclip\" id=\"clip671a8ax9y10\"><rect x=\"80\" y=\"100.00000000000007\" width=\"238.52499999999998\" height=\"177.73333333333332\"/></clipPath><clipPath class=\"axesclip\" id=\"clip671a8ax9y11\"><rect x=\"80\" y=\"100.00000000000007\" width=\"238.52499999999998\" height=\"177.73333333333332\"/></clipPath><clipPath class=\"axesclip\" id=\"clip671a8ax9y12\"><rect x=\"80\" y=\"100.00000000000007\" width=\"238.52499999999998\" height=\"177.73333333333332\"/></clipPath><clipPath class=\"axesclip\" id=\"clip671a8ax10\"><rect x=\"338.825\" y=\"0\" width=\"238.52499999999998\" height=\"800\"/></clipPath><clipPath class=\"axesclip\" id=\"clip671a8ax10y\"><rect x=\"338.825\" y=\"542.2666666666667\" width=\"238.52499999999998\" height=\"177.73333333333332\"/></clipPath><clipPath class=\"axesclip\" id=\"clip671a8ax10y2\"><rect x=\"338.825\" y=\"542.2666666666667\" width=\"238.52499999999998\" height=\"177.73333333333332\"/></clipPath><clipPath class=\"axesclip\" id=\"clip671a8ax10y3\"><rect x=\"338.825\" y=\"542.2666666666667\" width=\"238.52499999999998\" height=\"177.73333333333332\"/></clipPath><clipPath class=\"axesclip\" id=\"clip671a8ax10y4\"><rect x=\"338.825\" y=\"542.2666666666667\" width=\"238.52499999999998\" height=\"177.73333333333332\"/></clipPath><clipPath class=\"axesclip\" id=\"clip671a8ax10y5\"><rect x=\"338.825\" y=\"321.1333333333333\" width=\"238.52499999999998\" height=\"177.73333333333335\"/></clipPath><clipPath class=\"axesclip\" id=\"clip671a8ax10y6\"><rect x=\"338.825\" y=\"321.1333333333333\" width=\"238.52499999999998\" height=\"177.73333333333335\"/></clipPath><clipPath class=\"axesclip\" id=\"clip671a8ax10y7\"><rect x=\"338.825\" y=\"321.1333333333333\" width=\"238.52499999999998\" height=\"177.73333333333335\"/></clipPath><clipPath class=\"axesclip\" id=\"clip671a8ax10y8\"><rect x=\"338.825\" y=\"321.1333333333333\" width=\"238.52499999999998\" height=\"177.73333333333335\"/></clipPath><clipPath class=\"axesclip\" id=\"clip671a8ax10y9\"><rect x=\"338.825\" y=\"100.00000000000007\" width=\"238.52499999999998\" height=\"177.73333333333332\"/></clipPath><clipPath class=\"axesclip\" id=\"clip671a8ax10y10\"><rect x=\"338.825\" y=\"100.00000000000007\" width=\"238.52499999999998\" height=\"177.73333333333332\"/></clipPath><clipPath class=\"axesclip\" id=\"clip671a8ax10y11\"><rect x=\"338.825\" y=\"100.00000000000007\" width=\"238.52499999999998\" height=\"177.73333333333332\"/></clipPath><clipPath class=\"axesclip\" id=\"clip671a8ax10y12\"><rect x=\"338.825\" y=\"100.00000000000007\" width=\"238.52499999999998\" height=\"177.73333333333332\"/></clipPath><clipPath class=\"axesclip\" id=\"clip671a8ax11\"><rect x=\"597.65\" y=\"0\" width=\"238.52499999999998\" height=\"800\"/></clipPath><clipPath class=\"axesclip\" id=\"clip671a8ax11y\"><rect x=\"597.65\" y=\"542.2666666666667\" width=\"238.52499999999998\" height=\"177.73333333333332\"/></clipPath><clipPath class=\"axesclip\" id=\"clip671a8ax11y2\"><rect x=\"597.65\" y=\"542.2666666666667\" width=\"238.52499999999998\" height=\"177.73333333333332\"/></clipPath><clipPath class=\"axesclip\" id=\"clip671a8ax11y3\"><rect x=\"597.65\" y=\"542.2666666666667\" width=\"238.52499999999998\" height=\"177.73333333333332\"/></clipPath><clipPath class=\"axesclip\" id=\"clip671a8ax11y4\"><rect x=\"597.65\" y=\"542.2666666666667\" width=\"238.52499999999998\" height=\"177.73333333333332\"/></clipPath><clipPath class=\"axesclip\" id=\"clip671a8ax11y5\"><rect x=\"597.65\" y=\"321.1333333333333\" width=\"238.52499999999998\" height=\"177.73333333333335\"/></clipPath><clipPath class=\"axesclip\" id=\"clip671a8ax11y6\"><rect x=\"597.65\" y=\"321.1333333333333\" width=\"238.52499999999998\" height=\"177.73333333333335\"/></clipPath><clipPath class=\"axesclip\" id=\"clip671a8ax11y7\"><rect x=\"597.65\" y=\"321.1333333333333\" width=\"238.52499999999998\" height=\"177.73333333333335\"/></clipPath><clipPath class=\"axesclip\" id=\"clip671a8ax11y8\"><rect x=\"597.65\" y=\"321.1333333333333\" width=\"238.52499999999998\" height=\"177.73333333333335\"/></clipPath><clipPath class=\"axesclip\" id=\"clip671a8ax11y9\"><rect x=\"597.65\" y=\"100.00000000000007\" width=\"238.52499999999998\" height=\"177.73333333333332\"/></clipPath><clipPath class=\"axesclip\" id=\"clip671a8ax11y10\"><rect x=\"597.65\" y=\"100.00000000000007\" width=\"238.52499999999998\" height=\"177.73333333333332\"/></clipPath><clipPath class=\"axesclip\" id=\"clip671a8ax11y11\"><rect x=\"597.65\" y=\"100.00000000000007\" width=\"238.52499999999998\" height=\"177.73333333333332\"/></clipPath><clipPath class=\"axesclip\" id=\"clip671a8ax11y12\"><rect x=\"597.65\" y=\"100.00000000000007\" width=\"238.52499999999998\" height=\"177.73333333333332\"/></clipPath><clipPath class=\"axesclip\" id=\"clip671a8ax12\"><rect x=\"856.4749999999999\" y=\"0\" width=\"238.52499999999998\" height=\"800\"/></clipPath><clipPath class=\"axesclip\" id=\"clip671a8ax12y\"><rect x=\"856.4749999999999\" y=\"542.2666666666667\" width=\"238.52499999999998\" height=\"177.73333333333332\"/></clipPath><clipPath class=\"axesclip\" id=\"clip671a8ax12y2\"><rect x=\"856.4749999999999\" y=\"542.2666666666667\" width=\"238.52499999999998\" height=\"177.73333333333332\"/></clipPath><clipPath class=\"axesclip\" id=\"clip671a8ax12y3\"><rect x=\"856.4749999999999\" y=\"542.2666666666667\" width=\"238.52499999999998\" height=\"177.73333333333332\"/></clipPath><clipPath class=\"axesclip\" id=\"clip671a8ax12y4\"><rect x=\"856.4749999999999\" y=\"542.2666666666667\" width=\"238.52499999999998\" height=\"177.73333333333332\"/></clipPath><clipPath class=\"axesclip\" id=\"clip671a8ax12y5\"><rect x=\"856.4749999999999\" y=\"321.1333333333333\" width=\"238.52499999999998\" height=\"177.73333333333335\"/></clipPath><clipPath class=\"axesclip\" id=\"clip671a8ax12y6\"><rect x=\"856.4749999999999\" y=\"321.1333333333333\" width=\"238.52499999999998\" height=\"177.73333333333335\"/></clipPath><clipPath class=\"axesclip\" id=\"clip671a8ax12y7\"><rect x=\"856.4749999999999\" y=\"321.1333333333333\" width=\"238.52499999999998\" height=\"177.73333333333335\"/></clipPath><clipPath class=\"axesclip\" id=\"clip671a8ax12y8\"><rect x=\"856.4749999999999\" y=\"321.1333333333333\" width=\"238.52499999999998\" height=\"177.73333333333335\"/></clipPath><clipPath class=\"axesclip\" id=\"clip671a8ax12y9\"><rect x=\"856.4749999999999\" y=\"100.00000000000007\" width=\"238.52499999999998\" height=\"177.73333333333332\"/></clipPath><clipPath class=\"axesclip\" id=\"clip671a8ax12y10\"><rect x=\"856.4749999999999\" y=\"100.00000000000007\" width=\"238.52499999999998\" height=\"177.73333333333332\"/></clipPath><clipPath class=\"axesclip\" id=\"clip671a8ax12y11\"><rect x=\"856.4749999999999\" y=\"100.00000000000007\" width=\"238.52499999999998\" height=\"177.73333333333332\"/></clipPath><clipPath class=\"axesclip\" id=\"clip671a8ax12y12\"><rect x=\"856.4749999999999\" y=\"100.00000000000007\" width=\"238.52499999999998\" height=\"177.73333333333332\"/></clipPath></g><g class=\"gradients\"/><g class=\"patterns\"/></defs><g class=\"bglayer\"><rect class=\"bg\" x=\"80\" y=\"542.2666666666667\" width=\"238.52499999999998\" height=\"177.73333333333332\" style=\"fill: rgb(229, 236, 246); fill-opacity: 1; stroke-width: 0;\"/><rect class=\"bg\" x=\"338.825\" y=\"542.2666666666667\" width=\"238.52499999999998\" height=\"177.73333333333332\" style=\"fill: rgb(229, 236, 246); fill-opacity: 1; stroke-width: 0;\"/><rect class=\"bg\" x=\"597.65\" y=\"542.2666666666667\" width=\"238.52499999999998\" height=\"177.73333333333332\" style=\"fill: rgb(229, 236, 246); fill-opacity: 1; stroke-width: 0;\"/><rect class=\"bg\" x=\"856.4749999999999\" y=\"542.2666666666667\" width=\"238.52499999999998\" height=\"177.73333333333332\" style=\"fill: rgb(229, 236, 246); fill-opacity: 1; stroke-width: 0;\"/><rect class=\"bg\" x=\"80\" y=\"321.1333333333333\" width=\"238.52499999999998\" height=\"177.73333333333335\" style=\"fill: rgb(229, 236, 246); fill-opacity: 1; stroke-width: 0;\"/><rect class=\"bg\" x=\"338.825\" y=\"321.1333333333333\" width=\"238.52499999999998\" height=\"177.73333333333335\" style=\"fill: rgb(229, 236, 246); fill-opacity: 1; stroke-width: 0;\"/><rect class=\"bg\" x=\"597.65\" y=\"321.1333333333333\" width=\"238.52499999999998\" height=\"177.73333333333335\" style=\"fill: rgb(229, 236, 246); fill-opacity: 1; stroke-width: 0;\"/><rect class=\"bg\" x=\"856.4749999999999\" y=\"321.1333333333333\" width=\"238.52499999999998\" height=\"177.73333333333335\" style=\"fill: rgb(229, 236, 246); fill-opacity: 1; stroke-width: 0;\"/><rect class=\"bg\" x=\"80\" y=\"100.00000000000007\" width=\"238.52499999999998\" height=\"177.73333333333332\" style=\"fill: rgb(229, 236, 246); fill-opacity: 1; stroke-width: 0;\"/><rect class=\"bg\" x=\"338.825\" y=\"100.00000000000007\" width=\"238.52499999999998\" height=\"177.73333333333332\" style=\"fill: rgb(229, 236, 246); fill-opacity: 1; stroke-width: 0;\"/><rect class=\"bg\" x=\"597.65\" y=\"100.00000000000007\" width=\"238.52499999999998\" height=\"177.73333333333332\" style=\"fill: rgb(229, 236, 246); fill-opacity: 1; stroke-width: 0;\"/><rect class=\"bg\" x=\"856.4749999999999\" y=\"100.00000000000007\" width=\"238.52499999999998\" height=\"177.73333333333332\" style=\"fill: rgb(229, 236, 246); fill-opacity: 1; stroke-width: 0;\"/></g><g class=\"layer-below\"><g class=\"imagelayer\"/><g class=\"shapelayer\"/></g><g class=\"cartesianlayer\"><g class=\"subplot xy\"><g class=\"layer-subplot\"><g class=\"shapelayer\"/><g class=\"imagelayer\"/></g><g class=\"minor-gridlayer\"><g class=\"x\"/><g class=\"y\"/></g><g class=\"gridlayer\"><g class=\"x\"><path class=\"xgrid crisp\" transform=\"translate(166.74,0)\" d=\"M0,542.2666666666667v177.73333333333332\" style=\"stroke: rgb(255, 255, 255); stroke-opacity: 1; stroke-width: 1px;\"/><path class=\"xgrid crisp\" transform=\"translate(275.15999999999997,0)\" d=\"M0,542.2666666666667v177.73333333333332\" style=\"stroke: rgb(255, 255, 255); stroke-opacity: 1; stroke-width: 1px;\"/></g><g class=\"y\"><path class=\"ygrid crisp\" transform=\"translate(0,702.6966666666667)\" d=\"M80,0h238.52499999999998\" style=\"stroke: rgb(255, 255, 255); stroke-opacity: 1; stroke-width: 1px;\"/><path class=\"ygrid crisp\" transform=\"translate(0,660.5966666666667)\" d=\"M80,0h238.52499999999998\" style=\"stroke: rgb(255, 255, 255); stroke-opacity: 1; stroke-width: 1px;\"/><path class=\"ygrid crisp\" transform=\"translate(0,618.5066666666667)\" d=\"M80,0h238.52499999999998\" style=\"stroke: rgb(255, 255, 255); stroke-opacity: 1; stroke-width: 1px;\"/><path class=\"ygrid crisp\" transform=\"translate(0,576.4066666666666)\" d=\"M80,0h238.52499999999998\" style=\"stroke: rgb(255, 255, 255); stroke-opacity: 1; stroke-width: 1px;\"/></g></g><g class=\"zerolinelayer\"/><path class=\"xlines-below\"/><path class=\"ylines-below\"/><g class=\"overlines-below\"/><g class=\"xaxislayer-below\"/><g class=\"yaxislayer-below\"/><g class=\"overaxes-below\"/><g class=\"plot\" transform=\"translate(80,542.2666666666667)\" clip-path=\"url(#clip671a8axyplot)\"><g class=\"scatterlayer mlayer\"><g class=\"trace scatter traced1720e\" style=\"stroke-miterlimit: 2; opacity: 1;\"><g class=\"fills\"/><g class=\"errorbars\"/><g class=\"lines\"><path class=\"js-line\" d=\"M130.1,78.34L151.79,63.61L173.47,57.3L195.16,53.09L216.84,46.77L238.52,29.93\" style=\"vector-effect: non-scaling-stroke; fill: none; stroke: rgb(0, 0, 4); stroke-opacity: 1; stroke-width: 2px; opacity: 1;\"/></g><g class=\"points\"/><g class=\"text\"/></g><g class=\"trace scatter trace4d3c6c\" style=\"stroke-miterlimit: 2; opacity: 1;\"><g class=\"fills\"/><g class=\"errorbars\"/><g class=\"lines\"><path class=\"js-line\" d=\"M0,8.89L21.68,10.99L43.37,40.46L65.05,86.76L86.74,101.5L108.42,101.5L130.1,93.08L151.79,86.76L173.47,76.24L195.16,72.03L216.84,61.51L238.52,44.67\" style=\"vector-effect: non-scaling-stroke; fill: none; stroke: rgb(27, 12, 65); stroke-opacity: 1; stroke-width: 2px; opacity: 1;\"/></g><g class=\"points\"/><g class=\"text\"/></g><g class=\"trace scatter traceca768a\" style=\"stroke-miterlimit: 2; opacity: 1;\"><g class=\"fills\"/><g class=\"errorbars\"/><g class=\"lines\"><path class=\"js-line\" d=\"M0,21.52L21.68,21.52L43.37,48.88L65.05,93.08L86.74,109.91L108.42,116.23L130.1,105.7L173.47,88.87L195.16,82.55L216.84,74.13L238.52,53.09\" style=\"vector-effect: non-scaling-stroke; fill: none; stroke: rgb(74, 12, 107); stroke-opacity: 1; stroke-width: 2px; opacity: 1;\"/></g><g class=\"points\"/><g class=\"text\"/></g><g class=\"trace scatter trace044d16\" style=\"stroke-miterlimit: 2; opacity: 1;\"><g class=\"fills\"/><g class=\"errorbars\"/><g class=\"lines\"><path class=\"js-line\" d=\"M0,32.04L21.68,27.83L43.37,63.61L65.05,109.91L86.74,124.65L108.42,118.33L130.1,107.81L195.16,88.87L216.84,80.45L238.52,53.09\" style=\"vector-effect: non-scaling-stroke; fill: none; stroke: rgb(120, 28, 109); stroke-opacity: 1; stroke-width: 2px; opacity: 1;\"/></g><g class=\"points\"/><g class=\"text\"/></g><g class=\"trace scatter tracecf04d4\" style=\"stroke-miterlimit: 2; opacity: 1;\"><g class=\"fills\"/><g class=\"errorbars\"/><g class=\"lines\"><path class=\"js-line\" d=\"M0,34.14L21.68,40.46L43.37,93.08L65.05,63.61L86.74,50.98L108.42,67.82L130.1,128.86L151.79,130.96L173.47,130.96L195.16,124.65L216.84,116.23L238.52,97.29\" style=\"vector-effect: non-scaling-stroke; fill: none; stroke: rgb(165, 44, 96); stroke-opacity: 1; stroke-width: 2px; opacity: 1;\"/></g><g class=\"points\"/><g class=\"text\"/></g><g class=\"trace scatter trace18261f\" style=\"stroke-miterlimit: 2; opacity: 1;\"><g class=\"fills\"/><g class=\"errorbars\"/><g class=\"lines\"><path class=\"js-line\" d=\"M0,74.13L21.68,72.03L43.37,120.44L65.05,154.11L86.74,160.43L108.42,164.64L130.1,160.43L173.47,143.59L195.16,137.28L216.84,128.86L238.52,112.02\" style=\"vector-effect: non-scaling-stroke; fill: none; stroke: rgb(207, 68, 70); stroke-opacity: 1; stroke-width: 2px; opacity: 1;\"/></g><g class=\"points\"/><g class=\"text\"/></g><g class=\"trace scatter trace6b0480\" style=\"stroke-miterlimit: 2; opacity: 1;\"><g class=\"fills\"/><g class=\"errorbars\"/><g class=\"lines\"><path class=\"js-line\" d=\"M0,93.08L21.68,109.91L43.37,152.01L65.05,166.74L86.74,168.85L108.42,166.74L130.1,160.43L173.47,135.17L195.16,130.96\" style=\"vector-effect: non-scaling-stroke; fill: none; stroke: rgb(237, 105, 37); stroke-opacity: 1; stroke-width: 2px; opacity: 1;\"/></g><g class=\"points\"/><g class=\"text\"/></g></g></g><g class=\"overplot\"/><path class=\"xlines-above crisp\" d=\"M0,0\" style=\"fill: none;\"/><path class=\"ylines-above crisp\" d=\"M0,0\" style=\"fill: none;\"/><g class=\"overlines-above\"/><g class=\"xaxislayer-above\"><g class=\"xtick\"><text text-anchor=\"middle\" x=\"0\" y=\"733\" transform=\"translate(166.74,0)\" style=\"font-family: 'Open Sans', verdana, arial, sans-serif; font-size: 12px; fill: rgb(42, 63, 95); fill-opacity: 1; white-space: pre; opacity: 1;\">5</text></g><g class=\"xtick\"><text text-anchor=\"middle\" x=\"0\" y=\"733\" style=\"font-family: 'Open Sans', verdana, arial, sans-serif; font-size: 12px; fill: rgb(42, 63, 95); fill-opacity: 1; white-space: pre; opacity: 1;\" transform=\"translate(275.15999999999997,0)\">10</text></g></g><g class=\"yaxislayer-above\"><g class=\"ytick\"><text text-anchor=\"end\" x=\"79\" y=\"4.199999999999999\" transform=\"translate(0,702.6966666666667)\" style=\"font-family: 'Open Sans', verdana, arial, sans-serif; font-size: 12px; fill: rgb(42, 63, 95); fill-opacity: 1; white-space: pre; opacity: 1;\">40</text></g><g class=\"ytick\"><text text-anchor=\"end\" x=\"79\" y=\"4.199999999999999\" style=\"font-family: 'Open Sans', verdana, arial, sans-serif; font-size: 12px; fill: rgb(42, 63, 95); fill-opacity: 1; white-space: pre; opacity: 1;\" transform=\"translate(0,660.5966666666667)\">60</text></g><g class=\"ytick\"><text text-anchor=\"end\" x=\"79\" y=\"4.199999999999999\" style=\"font-family: 'Open Sans', verdana, arial, sans-serif; font-size: 12px; fill: rgb(42, 63, 95); fill-opacity: 1; white-space: pre; opacity: 1;\" transform=\"translate(0,618.5066666666667)\">80</text></g><g class=\"ytick\"><text text-anchor=\"end\" x=\"79\" y=\"4.199999999999999\" style=\"font-family: 'Open Sans', verdana, arial, sans-serif; font-size: 12px; fill: rgb(42, 63, 95); fill-opacity: 1; white-space: pre; opacity: 1;\" transform=\"translate(0,576.4066666666666)\">100</text></g></g><g class=\"overaxes-above\"/></g><g class=\"subplot x2y2\"><g class=\"layer-subplot\"><g class=\"shapelayer\"/><g class=\"imagelayer\"/></g><g class=\"minor-gridlayer\"><g class=\"x2\"/><g class=\"y2\"/></g><g class=\"gridlayer\"><g class=\"x2\"><path class=\"x2grid crisp\" transform=\"translate(425.565,0)\" d=\"M0,542.2666666666667v177.73333333333332\" style=\"stroke: rgb(255, 255, 255); stroke-opacity: 1; stroke-width: 1px;\"/><path class=\"x2grid crisp\" transform=\"translate(533.985,0)\" d=\"M0,542.2666666666667v177.73333333333332\" style=\"stroke: rgb(255, 255, 255); stroke-opacity: 1; stroke-width: 1px;\"/></g><g class=\"y2\"><path class=\"y2grid crisp\" transform=\"translate(0,703.9466666666667)\" d=\"M338.825,0h238.52499999999998\" style=\"stroke: rgb(255, 255, 255); stroke-opacity: 1; stroke-width: 1px;\"/><path class=\"y2grid crisp\" transform=\"translate(0,656.2066666666667)\" d=\"M338.825,0h238.52499999999998\" style=\"stroke: rgb(255, 255, 255); stroke-opacity: 1; stroke-width: 1px;\"/><path class=\"y2grid crisp\" transform=\"translate(0,608.4566666666667)\" d=\"M338.825,0h238.52499999999998\" style=\"stroke: rgb(255, 255, 255); stroke-opacity: 1; stroke-width: 1px;\"/><path class=\"y2grid crisp\" transform=\"translate(0,560.7066666666667)\" d=\"M338.825,0h238.52499999999998\" style=\"stroke: rgb(255, 255, 255); stroke-opacity: 1; stroke-width: 1px;\"/></g></g><g class=\"zerolinelayer\"/><path class=\"xlines-below\"/><path class=\"ylines-below\"/><g class=\"overlines-below\"/><g class=\"xaxislayer-below\"/><g class=\"yaxislayer-below\"/><g class=\"overaxes-below\"/><g class=\"plot\" transform=\"translate(338.825,542.2666666666667)\" clip-path=\"url(#clip671a8ax2y2plot)\"><g class=\"scatterlayer mlayer\"><g class=\"trace scatter trace6b1dcd\" style=\"stroke-miterlimit: 2; opacity: 1;\"><g class=\"fills\"/><g class=\"errorbars\"/><g class=\"lines\"><path class=\"js-line\" d=\"M130.1,73.35L173.47,63.8L195.16,54.25L216.84,47.09L238.52,23.21\" style=\"vector-effect: non-scaling-stroke; fill: none; stroke: rgb(0, 0, 4); stroke-opacity: 1; stroke-width: 2px; opacity: 1;\"/></g><g class=\"points\"/><g class=\"text\"/></g><g class=\"trace scatter tracedac19d\" style=\"stroke-miterlimit: 2; opacity: 1;\"><g class=\"fills\"/><g class=\"errorbars\"/><g class=\"lines\"><path class=\"js-line\" d=\"M0,8.89L21.68,13.66L43.37,59.02L65.05,85.29L86.74,97.22L108.42,99.61L130.1,94.84L151.79,87.67L173.47,85.29L216.84,61.41L238.52,44.7\" style=\"vector-effect: non-scaling-stroke; fill: none; stroke: rgb(27, 12, 65); stroke-opacity: 1; stroke-width: 2px; opacity: 1;\"/></g><g class=\"points\"/><g class=\"text\"/></g><g class=\"trace scatter traceee00e7\" style=\"stroke-miterlimit: 2; opacity: 1;\"><g class=\"fills\"/><g class=\"errorbars\"/><g class=\"lines\"><path class=\"js-line\" d=\"M0,32.76L21.68,39.92L43.37,85.29L65.05,99.61L86.74,102L108.42,102L130.1,99.61L151.79,94.84L173.47,87.67L195.16,85.29L216.84,78.12L238.52,49.47\" style=\"vector-effect: non-scaling-stroke; fill: none; stroke: rgb(74, 12, 107); stroke-opacity: 1; stroke-width: 2px; opacity: 1;\"/></g><g class=\"points\"/><g class=\"text\"/></g><g class=\"trace scatter tracea2094a\" style=\"stroke-miterlimit: 2; opacity: 1;\"><g class=\"fills\"/><g class=\"errorbars\"/><g class=\"lines\"><path class=\"js-line\" d=\"M0,32.76L21.68,44.7L43.37,61.41L65.05,78.12L86.74,97.22L108.42,92.45L130.1,85.29L151.79,82.9L173.47,78.12L195.16,73.35L216.84,63.8L238.52,35.15\" style=\"vector-effect: non-scaling-stroke; fill: none; stroke: rgb(120, 28, 109); stroke-opacity: 1; stroke-width: 2px; opacity: 1;\"/></g><g class=\"points\"/><g class=\"text\"/></g><g class=\"trace scatter tracee36b75\" style=\"stroke-miterlimit: 2; opacity: 1;\"><g class=\"fills\"/><g class=\"errorbars\"/><g class=\"lines\"><path class=\"js-line\" d=\"M0,20.82L21.68,37.54L43.37,82.9L65.05,99.61L86.74,73.35L108.42,73.35L130.1,78.12L151.79,92.45L173.47,109.16L195.16,106.77L216.84,97.22L238.52,75.74\" style=\"vector-effect: non-scaling-stroke; fill: none; stroke: rgb(165, 44, 96); stroke-opacity: 1; stroke-width: 2px; opacity: 1;\"/></g><g class=\"points\"/><g class=\"text\"/></g><g class=\"trace scatter trace7466e0\" style=\"stroke-miterlimit: 2; opacity: 1;\"><g class=\"fills\"/><g class=\"errorbars\"/><g class=\"lines\"><path class=\"js-line\" d=\"M0,70.96L21.68,118.71L43.37,154.52L65.05,166.46L86.74,168.85L108.42,166.46L130.1,156.91L173.47,147.36L195.16,133.03L216.84,123.48L238.52,99.61\" style=\"vector-effect: non-scaling-stroke; fill: none; stroke: rgb(207, 68, 70); stroke-opacity: 1; stroke-width: 2px; opacity: 1;\"/></g><g class=\"points\"/><g class=\"text\"/></g><g class=\"trace scatter trace6f5c36\" style=\"stroke-miterlimit: 2; opacity: 1;\"><g class=\"fills\"/><g class=\"errorbars\"/><g class=\"lines\"><path class=\"js-line\" d=\"M0,97.22L21.68,135.42L43.37,144.97L65.05,149.75L86.74,152.13L130.1,123.48L151.79,102L173.47,85.29L195.16,70.96\" style=\"vector-effect: non-scaling-stroke; fill: none; stroke: rgb(237, 105, 37); stroke-opacity: 1; stroke-width: 2px; opacity: 1;\"/></g><g class=\"points\"/><g class=\"text\"/></g></g></g><g class=\"overplot\"/><path class=\"xlines-above crisp\" d=\"M0,0\" style=\"fill: none;\"/><path class=\"ylines-above crisp\" d=\"M0,0\" style=\"fill: none;\"/><g class=\"overlines-above\"/><g class=\"xaxislayer-above\"><g class=\"x2tick\"><text text-anchor=\"middle\" x=\"0\" y=\"733\" transform=\"translate(425.565,0)\" style=\"font-family: 'Open Sans', verdana, arial, sans-serif; font-size: 12px; fill: rgb(42, 63, 95); fill-opacity: 1; white-space: pre; opacity: 1;\">5</text></g><g class=\"x2tick\"><text text-anchor=\"middle\" x=\"0\" y=\"733\" style=\"font-family: 'Open Sans', verdana, arial, sans-serif; font-size: 12px; fill: rgb(42, 63, 95); fill-opacity: 1; white-space: pre; opacity: 1;\" transform=\"translate(533.985,0)\">10</text></g></g><g class=\"yaxislayer-above\"/><g class=\"overaxes-above\"/></g><g class=\"subplot x3y3\"><g class=\"layer-subplot\"><g class=\"shapelayer\"/><g class=\"imagelayer\"/></g><g class=\"minor-gridlayer\"><g class=\"x3\"/><g class=\"y3\"/></g><g class=\"gridlayer\"><g class=\"x3\"><path class=\"x3grid crisp\" transform=\"translate(684.39,0)\" d=\"M0,542.2666666666667v177.73333333333332\" style=\"stroke: rgb(255, 255, 255); stroke-opacity: 1; stroke-width: 1px;\"/><path class=\"x3grid crisp\" transform=\"translate(792.81,0)\" d=\"M0,542.2666666666667v177.73333333333332\" style=\"stroke: rgb(255, 255, 255); stroke-opacity: 1; stroke-width: 1px;\"/></g><g class=\"y3\"><path class=\"y3grid crisp\" transform=\"translate(0,696.4066666666666)\" d=\"M597.65,0h238.52499999999998\" style=\"stroke: rgb(255, 255, 255); stroke-opacity: 1; stroke-width: 1px;\"/><path class=\"y3grid crisp\" transform=\"translate(0,659.6366666666667)\" d=\"M597.65,0h238.52499999999998\" style=\"stroke: rgb(255, 255, 255); stroke-opacity: 1; stroke-width: 1px;\"/><path class=\"y3grid crisp\" transform=\"translate(0,622.8566666666667)\" d=\"M597.65,0h238.52499999999998\" style=\"stroke: rgb(255, 255, 255); stroke-opacity: 1; stroke-width: 1px;\"/><path class=\"y3grid crisp\" transform=\"translate(0,586.0866666666667)\" d=\"M597.65,0h238.52499999999998\" style=\"stroke: rgb(255, 255, 255); stroke-opacity: 1; stroke-width: 1px;\"/><path class=\"y3grid crisp\" transform=\"translate(0,549.3166666666666)\" d=\"M597.65,0h238.52499999999998\" style=\"stroke: rgb(255, 255, 255); stroke-opacity: 1; stroke-width: 1px;\"/></g></g><g class=\"zerolinelayer\"/><path class=\"xlines-below\"/><path class=\"ylines-below\"/><g class=\"overlines-below\"/><g class=\"xaxislayer-below\"/><g class=\"yaxislayer-below\"/><g class=\"overaxes-below\"/><g class=\"plot\" transform=\"translate(597.65,542.2666666666667)\" clip-path=\"url(#clip671a8ax3y3plot)\"><g class=\"scatterlayer mlayer\"><g class=\"trace scatter trace11b521\" style=\"stroke-miterlimit: 2; opacity: 1;\"><g class=\"fills\"/><g class=\"errorbars\"/><g class=\"lines\"><path class=\"js-line\" d=\"M130.1,93.46L151.79,82.43L173.47,67.72L216.84,49.34L238.52,27.27\" style=\"vector-effect: non-scaling-stroke; fill: none; stroke: rgb(0, 0, 4); stroke-opacity: 1; stroke-width: 2px; opacity: 1;\"/></g><g class=\"points\"/><g class=\"text\"/></g><g class=\"trace scatter tracefb75f7\" style=\"stroke-miterlimit: 2; opacity: 1;\"><g class=\"fills\"/><g class=\"errorbars\"/><g class=\"lines\"><path class=\"js-line\" d=\"M0,8.89L21.68,12.56L43.37,56.69L65.05,98.98L86.74,115.53L108.42,115.53L130.1,104.49L151.79,93.46L173.47,80.59L195.16,69.56L216.84,60.37L238.52,40.14\" style=\"vector-effect: non-scaling-stroke; fill: none; stroke: rgb(27, 12, 65); stroke-opacity: 1; stroke-width: 2px; opacity: 1;\"/></g><g class=\"points\"/><g class=\"text\"/></g><g class=\"trace scatter trace60ed7f\" style=\"stroke-miterlimit: 2; opacity: 1;\"><g class=\"fills\"/><g class=\"errorbars\"/><g class=\"lines\"><path class=\"js-line\" d=\"M0,18.08L21.68,18.08L43.37,67.72L65.05,104.49L86.74,117.37L108.42,122.88L130.1,117.37L151.79,108.17L173.47,104.49L195.16,91.62L216.84,80.59L238.52,56.69\" style=\"vector-effect: non-scaling-stroke; fill: none; stroke: rgb(74, 12, 107); stroke-opacity: 1; stroke-width: 2px; opacity: 1;\"/></g><g class=\"points\"/><g class=\"text\"/></g><g class=\"trace scatter trace63e6e2\" style=\"stroke-miterlimit: 2; opacity: 1;\"><g class=\"fills\"/><g class=\"errorbars\"/><g class=\"lines\"><path class=\"js-line\" d=\"M0,34.63L21.68,27.27L43.37,56.69L65.05,98.98L86.74,126.56L108.42,130.24L130.1,122.88L151.79,117.37L173.47,108.17L195.16,97.14L216.84,82.43L238.52,54.85\" style=\"vector-effect: non-scaling-stroke; fill: none; stroke: rgb(120, 28, 109); stroke-opacity: 1; stroke-width: 2px; opacity: 1;\"/></g><g class=\"points\"/><g class=\"text\"/></g><g class=\"trace scatter trace627714\" style=\"stroke-miterlimit: 2; opacity: 1;\"><g class=\"fills\"/><g class=\"errorbars\"/><g class=\"lines\"><path class=\"js-line\" d=\"M0,38.3L21.68,34.63L43.37,89.79L65.05,102.66L86.74,97.14L108.42,97.14L130.1,108.17L173.47,130.24L195.16,130.24L216.84,119.2L238.52,100.82\" style=\"vector-effect: non-scaling-stroke; fill: none; stroke: rgb(165, 44, 96); stroke-opacity: 1; stroke-width: 2px; opacity: 1;\"/></g><g class=\"points\"/><g class=\"text\"/></g><g class=\"trace scatter trace6ad04e\" style=\"stroke-miterlimit: 2; opacity: 1;\"><g class=\"fills\"/><g class=\"errorbars\"/><g class=\"lines\"><path class=\"js-line\" d=\"M0,80.59L21.68,89.79L43.37,130.24L65.05,154.14L86.74,159.65L108.42,165.17L130.1,163.33L151.79,155.98L173.47,144.94L195.16,135.75L216.84,124.72L238.52,104.49\" style=\"vector-effect: non-scaling-stroke; fill: none; stroke: rgb(207, 68, 70); stroke-opacity: 1; stroke-width: 2px; opacity: 1;\"/></g><g class=\"points\"/><g class=\"text\"/></g><g class=\"trace scatter trace6b93a0\" style=\"stroke-miterlimit: 2; opacity: 1;\"><g class=\"fills\"/><g class=\"errorbars\"/><g class=\"lines\"><path class=\"js-line\" d=\"M0,91.62L21.68,115.53L43.37,146.78L65.05,165.17L86.74,168.85L108.42,167.01L130.1,161.49L151.79,146.78L173.47,139.43L195.16,137.59\" style=\"vector-effect: non-scaling-stroke; fill: none; stroke: rgb(237, 105, 37); stroke-opacity: 1; stroke-width: 2px; opacity: 1;\"/></g><g class=\"points\"/><g class=\"text\"/></g></g></g><g class=\"overplot\"/><path class=\"xlines-above crisp\" d=\"M0,0\" style=\"fill: none;\"/><path class=\"ylines-above crisp\" d=\"M0,0\" style=\"fill: none;\"/><g class=\"overlines-above\"/><g class=\"xaxislayer-above\"><g class=\"x3tick\"><text text-anchor=\"middle\" x=\"0\" y=\"733\" transform=\"translate(684.39,0)\" style=\"font-family: 'Open Sans', verdana, arial, sans-serif; font-size: 12px; fill: rgb(42, 63, 95); fill-opacity: 1; white-space: pre; opacity: 1;\">5</text></g><g class=\"x3tick\"><text text-anchor=\"middle\" x=\"0\" y=\"733\" style=\"font-family: 'Open Sans', verdana, arial, sans-serif; font-size: 12px; fill: rgb(42, 63, 95); fill-opacity: 1; white-space: pre; opacity: 1;\" transform=\"translate(792.81,0)\">10</text></g></g><g class=\"yaxislayer-above\"/><g class=\"overaxes-above\"/></g><g class=\"subplot x4y4\"><g class=\"layer-subplot\"><g class=\"shapelayer\"/><g class=\"imagelayer\"/></g><g class=\"minor-gridlayer\"><g class=\"x4\"/><g class=\"y4\"/></g><g class=\"gridlayer\"><g class=\"x4\"><path class=\"x4grid crisp\" transform=\"translate(943.2149999999999,0)\" d=\"M0,542.2666666666667v177.73333333333332\" style=\"stroke: rgb(255, 255, 255); stroke-opacity: 1; stroke-width: 1px;\"/><path class=\"x4grid crisp\" transform=\"translate(1051.635,0)\" d=\"M0,542.2666666666667v177.73333333333332\" style=\"stroke: rgb(255, 255, 255); stroke-opacity: 1; stroke-width: 1px;\"/></g><g class=\"y4\"><path class=\"y4grid crisp\" transform=\"translate(0,682.6066666666667)\" d=\"M856.4749999999999,0h238.52499999999998\" style=\"stroke: rgb(255, 255, 255); stroke-opacity: 1; stroke-width: 1px;\"/><path class=\"y4grid crisp\" transform=\"translate(0,603.4166666666666)\" d=\"M856.4749999999999,0h238.52499999999998\" style=\"stroke: rgb(255, 255, 255); stroke-opacity: 1; stroke-width: 1px;\"/></g></g><g class=\"zerolinelayer\"/><path class=\"xlines-below\"/><path class=\"ylines-below\"/><g class=\"overlines-below\"/><g class=\"xaxislayer-below\"/><g class=\"yaxislayer-below\"/><g class=\"overaxes-below\"/><g class=\"plot\" transform=\"translate(856.4749999999999,542.2666666666667)\" clip-path=\"url(#clip671a8ax4y4plot)\"><g class=\"scatterlayer mlayer\"><g class=\"trace scatter trace593ca1\" style=\"stroke-miterlimit: 2; opacity: 1;\"><g class=\"fills\"/><g class=\"errorbars\"/><g class=\"lines\"><path class=\"js-line\" d=\"M130.1,89.66L151.79,81.74L173.47,67.49L216.84,42.15L238.52,16.81\" style=\"vector-effect: non-scaling-stroke; fill: none; stroke: rgb(0, 0, 4); stroke-opacity: 1; stroke-width: 2px; opacity: 1;\"/></g><g class=\"points\"/><g class=\"text\"/></g><g class=\"trace scatter trace19ff9d\" style=\"stroke-miterlimit: 2; opacity: 1;\"><g class=\"fills\"/><g class=\"errorbars\"/><g class=\"lines\"><path class=\"js-line\" d=\"M0,10.47L21.68,8.89L43.37,18.39L65.05,70.65L86.74,100.74L108.42,107.08L130.1,102.33L151.79,92.83L173.47,75.4L195.16,59.57L216.84,46.9L238.52,24.72\" style=\"vector-effect: non-scaling-stroke; fill: none; stroke: rgb(27, 12, 65); stroke-opacity: 1; stroke-width: 2px; opacity: 1;\"/></g><g class=\"points\"/><g class=\"text\"/></g><g class=\"trace scatter trace90c0c1\" style=\"stroke-miterlimit: 2; opacity: 1;\"><g class=\"fills\"/><g class=\"errorbars\"/><g class=\"lines\"><path class=\"js-line\" d=\"M0,12.05L21.68,12.05L43.37,29.48L65.05,84.91L86.74,100.74L108.42,103.91L130.1,95.99L151.79,92.83L173.47,80.16L195.16,70.65L216.84,57.98L238.52,35.81\" style=\"vector-effect: non-scaling-stroke; fill: none; stroke: rgb(74, 12, 107); stroke-opacity: 1; stroke-width: 2px; opacity: 1;\"/></g><g class=\"points\"/><g class=\"text\"/></g><g class=\"trace scatter trace4503dd\" style=\"stroke-miterlimit: 2; opacity: 1;\"><g class=\"fills\"/><g class=\"errorbars\"/><g class=\"lines\"><path class=\"js-line\" d=\"M0,24.72L21.68,15.22L43.37,34.23L65.05,64.32L86.74,89.66L108.42,107.08L130.1,111.83L151.79,103.91L173.47,89.66L195.16,76.99L216.84,57.98L238.52,31.06\" style=\"vector-effect: non-scaling-stroke; fill: none; stroke: rgb(120, 28, 109); stroke-opacity: 1; stroke-width: 2px; opacity: 1;\"/></g><g class=\"points\"/><g class=\"text\"/></g><g class=\"trace scatter traced83ca7\" style=\"stroke-miterlimit: 2; opacity: 1;\"><g class=\"fills\"/><g class=\"errorbars\"/><g class=\"lines\"><path class=\"js-line\" d=\"M0,18.39L21.68,23.14L43.37,62.73L65.05,94.41L86.74,97.58L108.42,107.08L130.1,119.75L151.79,121.33L173.47,118.17L195.16,113.41L216.84,103.91L238.52,91.24\" style=\"vector-effect: non-scaling-stroke; fill: none; stroke: rgb(165, 44, 96); stroke-opacity: 1; stroke-width: 2px; opacity: 1;\"/></g><g class=\"points\"/><g class=\"text\"/></g><g class=\"trace scatter traceef1f53\" style=\"stroke-miterlimit: 2; opacity: 1;\"><g class=\"fills\"/><g class=\"errorbars\"/><g class=\"lines\"><path class=\"js-line\" d=\"M0,72.24L21.68,78.57L43.37,124.5L65.05,132.42L86.74,151.43L108.42,157.76L130.1,157.76L151.79,148.26L173.47,140.34L195.16,134L216.84,121.33L238.52,115\" style=\"vector-effect: non-scaling-stroke; fill: none; stroke: rgb(207, 68, 70); stroke-opacity: 1; stroke-width: 2px; opacity: 1;\"/></g><g class=\"points\"/><g class=\"text\"/></g><g class=\"trace scatter trace742895\" style=\"stroke-miterlimit: 2; opacity: 1;\"><g class=\"fills\"/><g class=\"errorbars\"/><g class=\"lines\"><path class=\"js-line\" d=\"M0,95.99L21.68,107.08L43.37,140.34L65.05,151.43L86.74,165.68L108.42,168.85L130.1,160.93L151.79,143.51L173.47,134L195.16,122.92\" style=\"vector-effect: non-scaling-stroke; fill: none; stroke: rgb(237, 105, 37); stroke-opacity: 1; stroke-width: 2px; opacity: 1;\"/></g><g class=\"points\"/><g class=\"text\"/></g></g></g><g class=\"overplot\"/><path class=\"xlines-above crisp\" d=\"M0,0\" style=\"fill: none;\"/><path class=\"ylines-above crisp\" d=\"M0,0\" style=\"fill: none;\"/><g class=\"overlines-above\"/><g class=\"xaxislayer-above\"><g class=\"x4tick\"><text text-anchor=\"middle\" x=\"0\" y=\"733\" transform=\"translate(943.2149999999999,0)\" style=\"font-family: 'Open Sans', verdana, arial, sans-serif; font-size: 12px; fill: rgb(42, 63, 95); fill-opacity: 1; white-space: pre; opacity: 1;\">5</text></g><g class=\"x4tick\"><text text-anchor=\"middle\" x=\"0\" y=\"733\" style=\"font-family: 'Open Sans', verdana, arial, sans-serif; font-size: 12px; fill: rgb(42, 63, 95); fill-opacity: 1; white-space: pre; opacity: 1;\" transform=\"translate(1051.635,0)\">10</text></g></g><g class=\"yaxislayer-above\"/><g class=\"overaxes-above\"/></g><g class=\"subplot x5y5\"><g class=\"layer-subplot\"><g class=\"shapelayer\"/><g class=\"imagelayer\"/></g><g class=\"minor-gridlayer\"><g class=\"x5\"/><g class=\"y5\"/></g><g class=\"gridlayer\"><g class=\"x5\"><path class=\"x5grid crisp\" transform=\"translate(166.74,0)\" d=\"M0,321.1333333333333v177.73333333333335\" style=\"stroke: rgb(255, 255, 255); stroke-opacity: 1; stroke-width: 1px;\"/><path class=\"x5grid crisp\" transform=\"translate(275.15999999999997,0)\" d=\"M0,321.1333333333333v177.73333333333335\" style=\"stroke: rgb(255, 255, 255); stroke-opacity: 1; stroke-width: 1px;\"/></g><g class=\"y5\"><path class=\"y5grid crisp\" transform=\"translate(0,462.6733333333333)\" d=\"M80,0h238.52499999999998\" style=\"stroke: rgb(255, 255, 255); stroke-opacity: 1; stroke-width: 1px;\"/><path class=\"y5grid crisp\" transform=\"translate(0,423.6533333333333)\" d=\"M80,0h238.52499999999998\" style=\"stroke: rgb(255, 255, 255); stroke-opacity: 1; stroke-width: 1px;\"/><path class=\"y5grid crisp\" transform=\"translate(0,384.6433333333333)\" d=\"M80,0h238.52499999999998\" style=\"stroke: rgb(255, 255, 255); stroke-opacity: 1; stroke-width: 1px;\"/><path class=\"y5grid crisp\" transform=\"translate(0,345.62333333333333)\" d=\"M80,0h238.52499999999998\" style=\"stroke: rgb(255, 255, 255); stroke-opacity: 1; stroke-width: 1px;\"/></g></g><g class=\"zerolinelayer\"/><path class=\"xlines-below\"/><path class=\"ylines-below\"/><g class=\"overlines-below\"/><g class=\"xaxislayer-below\"/><g class=\"yaxislayer-below\"/><g class=\"overaxes-below\"/><g class=\"plot\" transform=\"translate(80,321.1333333333333)\" clip-path=\"url(#clip671a8ax5y5plot)\"><g class=\"scatterlayer mlayer\"><g class=\"trace scatter trace14c237\" style=\"stroke-miterlimit: 2; opacity: 1;\"><g class=\"fills\"/><g class=\"errorbars\"/><g class=\"lines\"><path class=\"js-line\" d=\"M130.1,90.82L151.79,79.11L173.47,63.51L216.84,44L238.52,26.44\" style=\"vector-effect: non-scaling-stroke; fill: none; stroke: rgb(0, 0, 4); stroke-opacity: 1; stroke-width: 2px; opacity: 1;\"/></g><g class=\"points\"/><g class=\"text\"/></g><g class=\"trace scatter trace3953eb\" style=\"stroke-miterlimit: 2; opacity: 1;\"><g class=\"fills\"/><g class=\"errorbars\"/><g class=\"lines\"><path class=\"js-line\" d=\"M0,10.84L21.68,8.89L43.37,38.15L65.05,81.06L86.74,108.37L108.42,116.18L130.1,110.32L151.79,102.52L173.47,92.77L195.16,79.11L216.84,69.36L238.52,51.8\" style=\"vector-effect: non-scaling-stroke; fill: none; stroke: rgb(27, 12, 65); stroke-opacity: 1; stroke-width: 2px; opacity: 1;\"/></g><g class=\"points\"/><g class=\"text\"/></g><g class=\"trace scatter trace3b5656\" style=\"stroke-miterlimit: 2; opacity: 1;\"><g class=\"fills\"/><g class=\"errorbars\"/><g class=\"lines\"><path class=\"js-line\" d=\"M0,32.3L21.68,26.44L43.37,63.51L65.05,98.62L86.74,120.08L108.42,129.83L130.1,120.08L151.79,116.18L173.47,106.42L195.16,92.77L216.84,86.92L238.52,65.46\" style=\"vector-effect: non-scaling-stroke; fill: none; stroke: rgb(74, 12, 107); stroke-opacity: 1; stroke-width: 2px; opacity: 1;\"/></g><g class=\"points\"/><g class=\"text\"/></g><g class=\"trace scatter trace8ae648\" style=\"stroke-miterlimit: 2; opacity: 1;\"><g class=\"fills\"/><g class=\"errorbars\"/><g class=\"lines\"><path class=\"js-line\" d=\"M0,49.85L21.68,40.1L43.37,69.36L65.05,112.28L86.74,129.83L108.42,131.78L130.1,123.98L195.16,100.57L216.84,88.87L238.52,61.56\" style=\"vector-effect: non-scaling-stroke; fill: none; stroke: rgb(120, 28, 109); stroke-opacity: 1; stroke-width: 2px; opacity: 1;\"/></g><g class=\"points\"/><g class=\"text\"/></g><g class=\"trace scatter tracee9f527\" style=\"stroke-miterlimit: 2; opacity: 1;\"><g class=\"fills\"/><g class=\"errorbars\"/><g class=\"lines\"><path class=\"js-line\" d=\"M0,44L21.68,45.95L43.37,86.92L65.05,71.31L86.74,67.41L108.42,108.37L130.1,120.08L151.79,122.03L173.47,122.03L195.16,122.03L216.84,114.23L238.52,94.72\" style=\"vector-effect: non-scaling-stroke; fill: none; stroke: rgb(165, 44, 96); stroke-opacity: 1; stroke-width: 2px; opacity: 1;\"/></g><g class=\"points\"/><g class=\"text\"/></g><g class=\"trace scatter trace87564a\" style=\"stroke-miterlimit: 2; opacity: 1;\"><g class=\"fills\"/><g class=\"errorbars\"/><g class=\"lines\"><path class=\"js-line\" d=\"M0,81.06L21.68,92.77L43.37,131.78L65.05,151.29L86.74,166.9L108.42,168.85L130.1,161.04L151.79,159.09L173.47,147.39L195.16,143.49L216.84,129.83L238.52,110.32\" style=\"vector-effect: non-scaling-stroke; fill: none; stroke: rgb(207, 68, 70); stroke-opacity: 1; stroke-width: 2px; opacity: 1;\"/></g><g class=\"points\"/><g class=\"text\"/></g><g class=\"trace scatter trace58f62d\" style=\"stroke-miterlimit: 2; opacity: 1;\"><g class=\"fills\"/><g class=\"errorbars\"/><g class=\"lines\"><path class=\"js-line\" d=\"M0,92.77L21.68,120.08L43.37,145.44L86.74,168.85L108.42,164.95L130.1,159.09L151.79,145.44L173.47,131.78L195.16,129.83\" style=\"vector-effect: non-scaling-stroke; fill: none; stroke: rgb(237, 105, 37); stroke-opacity: 1; stroke-width: 2px; opacity: 1;\"/></g><g class=\"points\"/><g class=\"text\"/></g></g></g><g class=\"overplot\"/><path class=\"xlines-above crisp\" d=\"M0,0\" style=\"fill: none;\"/><path class=\"ylines-above crisp\" d=\"M0,0\" style=\"fill: none;\"/><g class=\"overlines-above\"/><g class=\"xaxislayer-above\"/><g class=\"yaxislayer-above\"><g class=\"y5tick\"><text text-anchor=\"end\" x=\"79\" y=\"4.199999999999999\" transform=\"translate(0,462.6733333333333)\" style=\"font-family: 'Open Sans', verdana, arial, sans-serif; font-size: 12px; fill: rgb(42, 63, 95); fill-opacity: 1; white-space: pre; opacity: 1;\">40</text></g><g class=\"y5tick\"><text text-anchor=\"end\" x=\"79\" y=\"4.199999999999999\" style=\"font-family: 'Open Sans', verdana, arial, sans-serif; font-size: 12px; fill: rgb(42, 63, 95); fill-opacity: 1; white-space: pre; opacity: 1;\" transform=\"translate(0,423.6533333333333)\">60</text></g><g class=\"y5tick\"><text text-anchor=\"end\" x=\"79\" y=\"4.199999999999999\" style=\"font-family: 'Open Sans', verdana, arial, sans-serif; font-size: 12px; fill: rgb(42, 63, 95); fill-opacity: 1; white-space: pre; opacity: 1;\" transform=\"translate(0,384.6433333333333)\">80</text></g><g class=\"y5tick\"><text text-anchor=\"end\" x=\"79\" y=\"4.199999999999999\" style=\"font-family: 'Open Sans', verdana, arial, sans-serif; font-size: 12px; fill: rgb(42, 63, 95); fill-opacity: 1; white-space: pre; opacity: 1;\" transform=\"translate(0,345.62333333333333)\">100</text></g></g><g class=\"overaxes-above\"/></g><g class=\"subplot x6y6\"><g class=\"layer-subplot\"><g class=\"shapelayer\"/><g class=\"imagelayer\"/></g><g class=\"minor-gridlayer\"><g class=\"x6\"/><g class=\"y6\"/></g><g class=\"gridlayer\"><g class=\"x6\"><path class=\"x6grid crisp\" transform=\"translate(425.565,0)\" d=\"M0,321.1333333333333v177.73333333333335\" style=\"stroke: rgb(255, 255, 255); stroke-opacity: 1; stroke-width: 1px;\"/><path class=\"x6grid crisp\" transform=\"translate(533.985,0)\" d=\"M0,321.1333333333333v177.73333333333335\" style=\"stroke: rgb(255, 255, 255); stroke-opacity: 1; stroke-width: 1px;\"/></g><g class=\"y6\"><path class=\"y6grid crisp\" transform=\"translate(0,476.0733333333333)\" d=\"M338.825,0h238.52499999999998\" style=\"stroke: rgb(255, 255, 255); stroke-opacity: 1; stroke-width: 1px;\"/><path class=\"y6grid crisp\" transform=\"translate(0,441.2933333333333)\" d=\"M338.825,0h238.52499999999998\" style=\"stroke: rgb(255, 255, 255); stroke-opacity: 1; stroke-width: 1px;\"/><path class=\"y6grid crisp\" transform=\"translate(0,406.5233333333333)\" d=\"M338.825,0h238.52499999999998\" style=\"stroke: rgb(255, 255, 255); stroke-opacity: 1; stroke-width: 1px;\"/><path class=\"y6grid crisp\" transform=\"translate(0,371.75333333333333)\" d=\"M338.825,0h238.52499999999998\" style=\"stroke: rgb(255, 255, 255); stroke-opacity: 1; stroke-width: 1px;\"/><path class=\"y6grid crisp\" transform=\"translate(0,336.9733333333333)\" d=\"M338.825,0h238.52499999999998\" style=\"stroke: rgb(255, 255, 255); stroke-opacity: 1; stroke-width: 1px;\"/></g></g><g class=\"zerolinelayer\"/><path class=\"xlines-below\"/><path class=\"ylines-below\"/><g class=\"overlines-below\"/><g class=\"xaxislayer-below\"/><g class=\"yaxislayer-below\"/><g class=\"overaxes-below\"/><g class=\"plot\" transform=\"translate(338.825,321.1333333333333)\" clip-path=\"url(#clip671a8ax6y6plot)\"><g class=\"scatterlayer mlayer\"><g class=\"trace scatter trace7d0d11\" style=\"stroke-miterlimit: 2; opacity: 1;\"><g class=\"fills\"/><g class=\"errorbars\"/><g class=\"lines\"><path class=\"js-line\" d=\"M130.1,116.69L151.79,109.73L173.47,106.25L195.16,99.3L216.84,85.39L238.52,43.66\" style=\"vector-effect: non-scaling-stroke; fill: none; stroke: rgb(0, 0, 4); stroke-opacity: 1; stroke-width: 2px; opacity: 1;\"/></g><g class=\"points\"/><g class=\"text\"/></g><g class=\"trace scatter tracee2b839\" style=\"stroke-miterlimit: 2; opacity: 1;\"><g class=\"fills\"/><g class=\"errorbars\"/><g class=\"lines\"><path class=\"js-line\" d=\"M0,22.8L21.68,43.66L43.37,99.3L65.05,120.16L86.74,120.16L108.42,120.16L130.1,123.64L173.47,109.73L195.16,99.3L216.84,92.34L238.52,68\" style=\"vector-effect: non-scaling-stroke; fill: none; stroke: rgb(27, 12, 65); stroke-opacity: 1; stroke-width: 2px; opacity: 1;\"/></g><g class=\"points\"/><g class=\"text\"/></g><g class=\"trace scatter trace04e2a6\" style=\"stroke-miterlimit: 2; opacity: 1;\"><g class=\"fills\"/><g class=\"errorbars\"/><g class=\"lines\"><path class=\"js-line\" d=\"M0,26.27L21.68,33.23L43.37,92.34L65.05,130.6L86.74,134.07L108.42,144.5L130.1,141.03L151.79,134.07L173.47,116.69L195.16,113.21L216.84,106.25L238.52,61.05\" style=\"vector-effect: non-scaling-stroke; fill: none; stroke: rgb(74, 12, 107); stroke-opacity: 1; stroke-width: 2px; opacity: 1;\"/></g><g class=\"points\"/><g class=\"text\"/></g><g class=\"trace scatter traced55405\" style=\"stroke-miterlimit: 2; opacity: 1;\"><g class=\"fills\"/><g class=\"errorbars\"/><g class=\"lines\"><path class=\"js-line\" d=\"M0,43.66L21.68,50.62L43.37,71.48L65.05,116.69L86.74,154.94L108.42,144.5L130.1,130.6L151.79,130.6L173.47,127.12L195.16,123.64L216.84,85.39L238.52,36.71\" style=\"vector-effect: non-scaling-stroke; fill: none; stroke: rgb(120, 28, 109); stroke-opacity: 1; stroke-width: 2px; opacity: 1;\"/></g><g class=\"points\"/><g class=\"text\"/></g><g class=\"trace scatter trace64d30b\" style=\"stroke-miterlimit: 2; opacity: 1;\"><g class=\"fills\"/><g class=\"errorbars\"/><g class=\"lines\"><path class=\"js-line\" d=\"M0,8.89L21.68,40.18L43.37,88.87L65.05,95.82L86.74,85.39L108.42,85.39L130.1,78.43L151.79,109.73L173.47,113.21L195.16,113.21L216.84,95.82L238.52,78.43\" style=\"vector-effect: non-scaling-stroke; fill: none; stroke: rgb(165, 44, 96); stroke-opacity: 1; stroke-width: 2px; opacity: 1;\"/></g><g class=\"points\"/><g class=\"text\"/></g><g class=\"trace scatter tracec82608\" style=\"stroke-miterlimit: 2; opacity: 1;\"><g class=\"fills\"/><g class=\"errorbars\"/><g class=\"lines\"><path class=\"js-line\" d=\"M0,57.57L21.68,50.62L43.37,92.34L65.05,134.07L86.74,144.5L108.42,154.94L130.1,158.41L151.79,154.94L173.47,154.94L195.16,144.5L216.84,127.12L238.52,88.87\" style=\"vector-effect: non-scaling-stroke; fill: none; stroke: rgb(207, 68, 70); stroke-opacity: 1; stroke-width: 2px; opacity: 1;\"/></g><g class=\"points\"/><g class=\"text\"/></g><g class=\"trace scatter trace4f550b\" style=\"stroke-miterlimit: 2; opacity: 1;\"><g class=\"fills\"/><g class=\"errorbars\"/><g class=\"lines\"><path class=\"js-line\" d=\"M0,81.91L21.68,120.16L43.37,144.5L65.05,161.89L86.74,168.85L108.42,161.89L130.1,165.37L151.79,154.94L173.47,130.6L195.16,134.07\" style=\"vector-effect: non-scaling-stroke; fill: none; stroke: rgb(237, 105, 37); stroke-opacity: 1; stroke-width: 2px; opacity: 1;\"/></g><g class=\"points\"/><g class=\"text\"/></g></g></g><g class=\"overplot\"/><path class=\"xlines-above crisp\" d=\"M0,0\" style=\"fill: none;\"/><path class=\"ylines-above crisp\" d=\"M0,0\" style=\"fill: none;\"/><g class=\"overlines-above\"/><g class=\"xaxislayer-above\"/><g class=\"yaxislayer-above\"/><g class=\"overaxes-above\"/></g><g class=\"subplot x7y7\"><g class=\"layer-subplot\"><g class=\"shapelayer\"/><g class=\"imagelayer\"/></g><g class=\"minor-gridlayer\"><g class=\"x7\"/><g class=\"y7\"/></g><g class=\"gridlayer\"><g class=\"x7\"><path class=\"x7grid crisp\" transform=\"translate(684.39,0)\" d=\"M0,321.1333333333333v177.73333333333335\" style=\"stroke: rgb(255, 255, 255); stroke-opacity: 1; stroke-width: 1px;\"/><path class=\"x7grid crisp\" transform=\"translate(792.81,0)\" d=\"M0,321.1333333333333v177.73333333333335\" style=\"stroke: rgb(255, 255, 255); stroke-opacity: 1; stroke-width: 1px;\"/></g><g class=\"y7\"><path class=\"y7grid crisp\" transform=\"translate(0,454.43333333333334)\" d=\"M597.65,0h238.52499999999998\" style=\"stroke: rgb(255, 255, 255); stroke-opacity: 1; stroke-width: 1px;\"/><path class=\"y7grid crisp\" transform=\"translate(0,403.6533333333333)\" d=\"M597.65,0h238.52499999999998\" style=\"stroke: rgb(255, 255, 255); stroke-opacity: 1; stroke-width: 1px;\"/><path class=\"y7grid crisp\" transform=\"translate(0,352.87333333333333)\" d=\"M597.65,0h238.52499999999998\" style=\"stroke: rgb(255, 255, 255); stroke-opacity: 1; stroke-width: 1px;\"/></g></g><g class=\"zerolinelayer\"/><path class=\"xlines-below\"/><path class=\"ylines-below\"/><g class=\"overlines-below\"/><g class=\"xaxislayer-below\"/><g class=\"yaxislayer-below\"/><g class=\"overaxes-below\"/><g class=\"plot\" transform=\"translate(597.65,321.1333333333333)\" clip-path=\"url(#clip671a8ax7y7plot)\"><g class=\"scatterlayer mlayer\"><g class=\"trace scatter tracee52a64\" style=\"stroke-miterlimit: 2; opacity: 1;\"><g class=\"fills\"/><g class=\"errorbars\"/><g class=\"lines\"><path class=\"js-line\" d=\"M130.1,97.75L151.79,69.82L173.47,57.13L195.16,52.05L216.84,44.43L238.52,29.2\" style=\"vector-effect: non-scaling-stroke; fill: none; stroke: rgb(0, 0, 4); stroke-opacity: 1; stroke-width: 2px; opacity: 1;\"/></g><g class=\"points\"/><g class=\"text\"/></g><g class=\"trace scatter trace1cc945\" style=\"stroke-miterlimit: 2; opacity: 1;\"><g class=\"fills\"/><g class=\"errorbars\"/><g class=\"lines\"><path class=\"js-line\" d=\"M0,8.89L21.68,13.96L43.37,59.67L65.05,100.29L86.74,118.07L108.42,123.14L130.1,105.37L151.79,90.14L173.47,77.44L195.16,67.28L216.84,62.21L238.52,44.43\" style=\"vector-effect: non-scaling-stroke; fill: none; stroke: rgb(27, 12, 65); stroke-opacity: 1; stroke-width: 2px; opacity: 1;\"/></g><g class=\"points\"/><g class=\"text\"/></g><g class=\"trace scatter traceddf3f8\" style=\"stroke-miterlimit: 2; opacity: 1;\"><g class=\"fills\"/><g class=\"errorbars\"/><g class=\"lines\"><path class=\"js-line\" d=\"M0,21.58L21.68,29.2L43.37,87.6L65.05,112.99L86.74,133.3L108.42,138.38L130.1,118.07L151.79,102.83L173.47,85.06L216.84,79.98L238.52,52.05\" style=\"vector-effect: non-scaling-stroke; fill: none; stroke: rgb(74, 12, 107); stroke-opacity: 1; stroke-width: 2px; opacity: 1;\"/></g><g class=\"points\"/><g class=\"text\"/></g><g class=\"trace scatter traceee99c3\" style=\"stroke-miterlimit: 2; opacity: 1;\"><g class=\"fills\"/><g class=\"errorbars\"/><g class=\"lines\"><path class=\"js-line\" d=\"M0,29.2L21.68,31.74L43.37,67.28L65.05,115.53L86.74,128.22L108.42,120.6L130.1,107.91L151.79,92.68L173.47,79.98L195.16,67.28L216.84,62.21L238.52,31.74\" style=\"vector-effect: non-scaling-stroke; fill: none; stroke: rgb(120, 28, 109); stroke-opacity: 1; stroke-width: 2px; opacity: 1;\"/></g><g class=\"points\"/><g class=\"text\"/></g><g class=\"trace scatter trace2012aa\" style=\"stroke-miterlimit: 2; opacity: 1;\"><g class=\"fills\"/><g class=\"errorbars\"/><g class=\"lines\"><path class=\"js-line\" d=\"M0,8.89L21.68,16.5L43.37,74.9L65.05,52.05L86.74,19.04L108.42,19.04L130.1,115.53L151.79,135.84L173.47,123.14L195.16,118.07L216.84,92.68L238.52,57.13\" style=\"vector-effect: non-scaling-stroke; fill: none; stroke: rgb(165, 44, 96); stroke-opacity: 1; stroke-width: 2px; opacity: 1;\"/></g><g class=\"points\"/><g class=\"text\"/></g><g class=\"trace scatter tracee484a7\" style=\"stroke-miterlimit: 2; opacity: 1;\"><g class=\"fills\"/><g class=\"errorbars\"/><g class=\"lines\"><path class=\"js-line\" d=\"M0,31.74L21.68,24.12L43.37,72.36L65.05,118.07L86.74,146L108.42,148.53L130.1,138.38L151.79,125.68L173.47,115.53L195.16,115.53L216.84,102.83L238.52,74.9\" style=\"vector-effect: non-scaling-stroke; fill: none; stroke: rgb(207, 68, 70); stroke-opacity: 1; stroke-width: 2px; opacity: 1;\"/></g><g class=\"points\"/><g class=\"text\"/></g><g class=\"trace scatter traceb89762\" style=\"stroke-miterlimit: 2; opacity: 1;\"><g class=\"fills\"/><g class=\"errorbars\"/><g class=\"lines\"><path class=\"js-line\" d=\"M0,46.97L21.68,67.28L43.37,135.84L65.05,153.61L86.74,166.31L108.42,168.85L130.1,153.61L151.79,130.76L173.47,110.45L195.16,107.91\" style=\"vector-effect: non-scaling-stroke; fill: none; stroke: rgb(237, 105, 37); stroke-opacity: 1; stroke-width: 2px; opacity: 1;\"/></g><g class=\"points\"/><g class=\"text\"/></g></g></g><g class=\"overplot\"/><path class=\"xlines-above crisp\" d=\"M0,0\" style=\"fill: none;\"/><path class=\"ylines-above crisp\" d=\"M0,0\" style=\"fill: none;\"/><g class=\"overlines-above\"/><g class=\"xaxislayer-above\"/><g class=\"yaxislayer-above\"/><g class=\"overaxes-above\"/></g><g class=\"subplot x8y8\"><g class=\"layer-subplot\"><g class=\"shapelayer\"/><g class=\"imagelayer\"/></g><g class=\"minor-gridlayer\"><g class=\"x8\"/><g class=\"y8\"/></g><g class=\"gridlayer\"><g class=\"x8\"><path class=\"x8grid crisp\" transform=\"translate(943.2149999999999,0)\" d=\"M0,321.1333333333333v177.73333333333335\" style=\"stroke: rgb(255, 255, 255); stroke-opacity: 1; stroke-width: 1px;\"/><path class=\"x8grid crisp\" transform=\"translate(1051.635,0)\" d=\"M0,321.1333333333333v177.73333333333335\" style=\"stroke: rgb(255, 255, 255); stroke-opacity: 1; stroke-width: 1px;\"/></g><g class=\"y8\"><path class=\"y8grid crisp\" transform=\"translate(0,464.84333333333336)\" d=\"M856.4749999999999,0h238.52499999999998\" style=\"stroke: rgb(255, 255, 255); stroke-opacity: 1; stroke-width: 1px;\"/><path class=\"y8grid crisp\" transform=\"translate(0,419.1433333333333)\" d=\"M856.4749999999999,0h238.52499999999998\" style=\"stroke: rgb(255, 255, 255); stroke-opacity: 1; stroke-width: 1px;\"/><path class=\"y8grid crisp\" transform=\"translate(0,373.43333333333334)\" d=\"M856.4749999999999,0h238.52499999999998\" style=\"stroke: rgb(255, 255, 255); stroke-opacity: 1; stroke-width: 1px;\"/><path class=\"y8grid crisp\" transform=\"translate(0,327.73333333333335)\" d=\"M856.4749999999999,0h238.52499999999998\" style=\"stroke: rgb(255, 255, 255); stroke-opacity: 1; stroke-width: 1px;\"/></g></g><g class=\"zerolinelayer\"/><path class=\"xlines-below\"/><path class=\"ylines-below\"/><g class=\"overlines-below\"/><g class=\"xaxislayer-below\"/><g class=\"yaxislayer-below\"/><g class=\"overaxes-below\"/><g class=\"plot\" transform=\"translate(856.4749999999999,321.1333333333333)\" clip-path=\"url(#clip671a8ax8y8plot)\"><g class=\"scatterlayer mlayer\"><g class=\"trace scatter trace519291\" style=\"stroke-miterlimit: 2; opacity: 1;\"><g class=\"fills\"/><g class=\"errorbars\"/><g class=\"lines\"><path class=\"js-line\" d=\"M130.1,114L151.79,102.58L173.47,93.44L195.16,79.73L216.84,54.59L238.52,24.88\" style=\"vector-effect: non-scaling-stroke; fill: none; stroke: rgb(0, 0, 4); stroke-opacity: 1; stroke-width: 2px; opacity: 1;\"/></g><g class=\"points\"/><g class=\"text\"/></g><g class=\"trace scatter trace013d05\" style=\"stroke-miterlimit: 2; opacity: 1;\"><g class=\"fills\"/><g class=\"errorbars\"/><g class=\"lines\"><path class=\"js-line\" d=\"M0,8.89L21.68,24.88L43.37,91.15L65.05,118.57L86.74,134.57L108.42,134.57L130.1,123.14L151.79,116.29L173.47,100.29L195.16,82.01L216.84,66.02L238.52,40.88\" style=\"vector-effect: non-scaling-stroke; fill: none; stroke: rgb(27, 12, 65); stroke-opacity: 1; stroke-width: 2px; opacity: 1;\"/></g><g class=\"points\"/><g class=\"text\"/></g><g class=\"trace scatter traceec8dc5\" style=\"stroke-miterlimit: 2; opacity: 1;\"><g class=\"fills\"/><g class=\"errorbars\"/><g class=\"lines\"><path class=\"js-line\" d=\"M0,36.31L21.68,56.87L43.37,107.15L65.05,127.71L86.74,132.28L108.42,134.57L130.1,120.86L151.79,116.29L173.47,102.58L195.16,86.58L216.84,75.16L238.52,47.73\" style=\"vector-effect: non-scaling-stroke; fill: none; stroke: rgb(74, 12, 107); stroke-opacity: 1; stroke-width: 2px; opacity: 1;\"/></g><g class=\"points\"/><g class=\"text\"/></g><g class=\"trace scatter trace478975\" style=\"stroke-miterlimit: 2; opacity: 1;\"><g class=\"fills\"/><g class=\"errorbars\"/><g class=\"lines\"><path class=\"js-line\" d=\"M0,34.02L21.68,54.59L43.37,88.87L65.05,123.14L86.74,136.85L108.42,136.85L130.1,120.86L151.79,109.43L173.47,95.72L195.16,86.58L216.84,66.02L238.52,36.31\" style=\"vector-effect: non-scaling-stroke; fill: none; stroke: rgb(120, 28, 109); stroke-opacity: 1; stroke-width: 2px; opacity: 1;\"/></g><g class=\"points\"/><g class=\"text\"/></g><g class=\"trace scatter trace3483c6\" style=\"stroke-miterlimit: 2; opacity: 1;\"><g class=\"fills\"/><g class=\"errorbars\"/><g class=\"lines\"><path class=\"js-line\" d=\"M0,34.02L21.68,56.87L43.37,109.43L65.05,116.29L86.74,86.58L108.42,77.44L130.1,114L151.79,116.29L173.47,102.58L195.16,91.15L216.84,77.44L238.52,72.87\" style=\"vector-effect: non-scaling-stroke; fill: none; stroke: rgb(165, 44, 96); stroke-opacity: 1; stroke-width: 2px; opacity: 1;\"/></g><g class=\"points\"/><g class=\"text\"/></g><g class=\"trace scatter trace4e7e5a\" style=\"stroke-miterlimit: 2; opacity: 1;\"><g class=\"fills\"/><g class=\"errorbars\"/><g class=\"lines\"><path class=\"js-line\" d=\"M0,95.72L21.68,125.43L43.37,148.28L65.05,157.42L86.74,164.28L108.42,166.56L130.1,152.85L151.79,148.28L173.47,136.85L195.16,132.28L216.84,107.15L238.52,93.44\" style=\"vector-effect: non-scaling-stroke; fill: none; stroke: rgb(207, 68, 70); stroke-opacity: 1; stroke-width: 2px; opacity: 1;\"/></g><g class=\"points\"/><g class=\"text\"/></g><g class=\"trace scatter trace347feb\" style=\"stroke-miterlimit: 2; opacity: 1;\"><g class=\"fills\"/><g class=\"errorbars\"/><g class=\"lines\"><path class=\"js-line\" d=\"M0,72.87L21.68,152.85L43.37,159.71L65.05,166.56L86.74,168.85L108.42,164.28L130.1,152.85L151.79,134.57L173.47,118.57L195.16,111.72\" style=\"vector-effect: non-scaling-stroke; fill: none; stroke: rgb(237, 105, 37); stroke-opacity: 1; stroke-width: 2px; opacity: 1;\"/></g><g class=\"points\"/><g class=\"text\"/></g></g></g><g class=\"overplot\"/><path class=\"xlines-above crisp\" d=\"M0,0\" style=\"fill: none;\"/><path class=\"ylines-above crisp\" d=\"M0,0\" style=\"fill: none;\"/><g class=\"overlines-above\"/><g class=\"xaxislayer-above\"/><g class=\"yaxislayer-above\"/><g class=\"overaxes-above\"/></g><g class=\"subplot x9y9\"><g class=\"layer-subplot\"><g class=\"shapelayer\"/><g class=\"imagelayer\"/></g><g class=\"minor-gridlayer\"><g class=\"x9\"/><g class=\"y9\"/></g><g class=\"gridlayer\"><g class=\"x9\"><path class=\"x9grid crisp\" transform=\"translate(166.74,0)\" d=\"M0,100.00000000000007v177.73333333333332\" style=\"stroke: rgb(255, 255, 255); stroke-opacity: 1; stroke-width: 1px;\"/><path class=\"x9grid crisp\" transform=\"translate(275.15999999999997,0)\" d=\"M0,100.00000000000007v177.73333333333332\" style=\"stroke: rgb(255, 255, 255); stroke-opacity: 1; stroke-width: 1px;\"/></g><g class=\"y9\"><path class=\"y9grid crisp\" transform=\"translate(0,258.18000000000006)\" d=\"M80,0h238.52499999999998\" style=\"stroke: rgb(255, 255, 255); stroke-opacity: 1; stroke-width: 1px;\"/><path class=\"y9grid crisp\" transform=\"translate(0,222.64000000000007)\" d=\"M80,0h238.52499999999998\" style=\"stroke: rgb(255, 255, 255); stroke-opacity: 1; stroke-width: 1px;\"/><path class=\"y9grid crisp\" transform=\"translate(0,187.0900000000001)\" d=\"M80,0h238.52499999999998\" style=\"stroke: rgb(255, 255, 255); stroke-opacity: 1; stroke-width: 1px;\"/><path class=\"y9grid crisp\" transform=\"translate(0,151.54000000000008)\" d=\"M80,0h238.52499999999998\" style=\"stroke: rgb(255, 255, 255); stroke-opacity: 1; stroke-width: 1px;\"/><path class=\"y9grid crisp\" transform=\"translate(0,116.00000000000007)\" d=\"M80,0h238.52499999999998\" style=\"stroke: rgb(255, 255, 255); stroke-opacity: 1; stroke-width: 1px;\"/></g></g><g class=\"zerolinelayer\"/><path class=\"xlines-below\"/><path class=\"ylines-below\"/><g class=\"overlines-below\"/><g class=\"xaxislayer-below\"/><g class=\"yaxislayer-below\"/><g class=\"overaxes-below\"/><g class=\"plot\" transform=\"translate(80,100.00000000000007)\" clip-path=\"url(#clip671a8ax9y9plot)\"><g class=\"scatterlayer mlayer\"><g class=\"trace scatter trace400acd\" style=\"stroke-miterlimit: 2; opacity: 1;\"><g class=\"fills\"/><g class=\"errorbars\"/><g class=\"lines\"><path class=\"js-line\" d=\"M130.1,97.75L151.79,87.09L173.47,83.53L195.16,76.43L216.84,65.76L238.52,30.21\" style=\"vector-effect: non-scaling-stroke; fill: none; stroke: rgb(0, 0, 4); stroke-opacity: 1; stroke-width: 2px; opacity: 1;\"/></g><g class=\"points\"/><g class=\"text\"/></g><g class=\"trace scatter tracefa9593\" style=\"stroke-miterlimit: 2; opacity: 1;\"><g class=\"fills\"/><g class=\"errorbars\"/><g class=\"lines\"><path class=\"js-line\" d=\"M0,23.11L21.68,76.43L43.37,108.42L65.05,129.75L86.74,133.3L173.47,104.86L195.16,101.31L216.84,94.2L238.52,62.21\" style=\"vector-effect: non-scaling-stroke; fill: none; stroke: rgb(27, 12, 65); stroke-opacity: 1; stroke-width: 2px; opacity: 1;\"/></g><g class=\"points\"/><g class=\"text\"/></g><g class=\"trace scatter trace4a5947\" style=\"stroke-miterlimit: 2; opacity: 1;\"><g class=\"fills\"/><g class=\"errorbars\"/><g class=\"lines\"><path class=\"js-line\" d=\"M0,65.76L21.68,133.3L43.37,133.3L86.74,140.41L108.42,133.3L151.79,119.08L173.47,108.42L195.16,104.86L216.84,94.2L238.52,55.1\" style=\"vector-effect: non-scaling-stroke; fill: none; stroke: rgb(74, 12, 107); stroke-opacity: 1; stroke-width: 2px; opacity: 1;\"/></g><g class=\"points\"/><g class=\"text\"/></g><g class=\"trace scatter tracebde1f1\" style=\"stroke-miterlimit: 2; opacity: 1;\"><g class=\"fills\"/><g class=\"errorbars\"/><g class=\"lines\"><path class=\"js-line\" d=\"M0,37.32L21.68,94.2L43.37,108.42L86.74,115.53L108.42,104.86L130.1,90.64L151.79,87.09L173.47,79.98L195.16,69.32L216.84,55.1L238.52,8.89\" style=\"vector-effect: non-scaling-stroke; fill: none; stroke: rgb(120, 28, 109); stroke-opacity: 1; stroke-width: 2px; opacity: 1;\"/></g><g class=\"points\"/><g class=\"text\"/></g><g class=\"trace scatter trace33c900\" style=\"stroke-miterlimit: 2; opacity: 1;\"><g class=\"fills\"/><g class=\"errorbars\"/><g class=\"lines\"><path class=\"js-line\" d=\"M0,12.44L21.68,76.43L43.37,101.31L65.05,79.98L86.74,51.54L108.42,79.98L130.1,90.64L151.79,104.86L173.47,108.42L195.16,108.42L216.84,90.64L238.52,55.1\" style=\"vector-effect: non-scaling-stroke; fill: none; stroke: rgb(165, 44, 96); stroke-opacity: 1; stroke-width: 2px; opacity: 1;\"/></g><g class=\"points\"/><g class=\"text\"/></g><g class=\"trace scatter trace82e46a\" style=\"stroke-miterlimit: 2; opacity: 1;\"><g class=\"fills\"/><g class=\"errorbars\"/><g class=\"lines\"><path class=\"js-line\" d=\"M0,51.54L21.68,122.64L43.37,136.85L65.05,143.96L86.74,147.52L108.42,151.07L130.1,151.07L151.79,143.96L173.47,133.3L195.16,133.3L216.84,115.53L238.52,90.64\" style=\"vector-effect: non-scaling-stroke; fill: none; stroke: rgb(207, 68, 70); stroke-opacity: 1; stroke-width: 2px; opacity: 1;\"/></g><g class=\"points\"/><g class=\"text\"/></g><g class=\"trace scatter trace934713\" style=\"stroke-miterlimit: 2; opacity: 1;\"><g class=\"fills\"/><g class=\"errorbars\"/><g class=\"lines\"><path class=\"js-line\" d=\"M0,101.31L21.68,158.18L43.37,161.74L86.74,168.85L108.42,154.63L130.1,143.96L151.79,119.08L173.47,97.75L195.16,90.64\" style=\"vector-effect: non-scaling-stroke; fill: none; stroke: rgb(237, 105, 37); stroke-opacity: 1; stroke-width: 2px; opacity: 1;\"/></g><g class=\"points\"/><g class=\"text\"/></g></g></g><g class=\"overplot\"/><path class=\"xlines-above crisp\" d=\"M0,0\" style=\"fill: none;\"/><path class=\"ylines-above crisp\" d=\"M0,0\" style=\"fill: none;\"/><g class=\"overlines-above\"/><g class=\"xaxislayer-above\"/><g class=\"yaxislayer-above\"><g class=\"y9tick\"><text text-anchor=\"end\" x=\"79\" y=\"4.199999999999999\" transform=\"translate(0,258.18000000000006)\" style=\"font-family: 'Open Sans', verdana, arial, sans-serif; font-size: 12px; fill: rgb(42, 63, 95); fill-opacity: 1; white-space: pre; opacity: 1;\">30</text></g><g class=\"y9tick\"><text text-anchor=\"end\" x=\"79\" y=\"4.199999999999999\" style=\"font-family: 'Open Sans', verdana, arial, sans-serif; font-size: 12px; fill: rgb(42, 63, 95); fill-opacity: 1; white-space: pre; opacity: 1;\" transform=\"translate(0,222.64000000000007)\">40</text></g><g class=\"y9tick\"><text text-anchor=\"end\" x=\"79\" y=\"4.199999999999999\" style=\"font-family: 'Open Sans', verdana, arial, sans-serif; font-size: 12px; fill: rgb(42, 63, 95); fill-opacity: 1; white-space: pre; opacity: 1;\" transform=\"translate(0,187.0900000000001)\">50</text></g><g class=\"y9tick\"><text text-anchor=\"end\" x=\"79\" y=\"4.199999999999999\" style=\"font-family: 'Open Sans', verdana, arial, sans-serif; font-size: 12px; fill: rgb(42, 63, 95); fill-opacity: 1; white-space: pre; opacity: 1;\" transform=\"translate(0,151.54000000000008)\">60</text></g><g class=\"y9tick\"><text text-anchor=\"end\" x=\"79\" y=\"4.199999999999999\" style=\"font-family: 'Open Sans', verdana, arial, sans-serif; font-size: 12px; fill: rgb(42, 63, 95); fill-opacity: 1; white-space: pre; opacity: 1;\" transform=\"translate(0,116.00000000000007)\">70</text></g></g><g class=\"overaxes-above\"/></g><g class=\"subplot x10y10\"><g class=\"layer-subplot\"><g class=\"shapelayer\"/><g class=\"imagelayer\"/></g><g class=\"minor-gridlayer\"><g class=\"x10\"/><g class=\"y10\"/></g><g class=\"gridlayer\"><g class=\"x10\"><path class=\"x10grid crisp\" transform=\"translate(425.565,0)\" d=\"M0,100.00000000000007v177.73333333333332\" style=\"stroke: rgb(255, 255, 255); stroke-opacity: 1; stroke-width: 1px;\"/><path class=\"x10grid crisp\" transform=\"translate(533.985,0)\" d=\"M0,100.00000000000007v177.73333333333332\" style=\"stroke: rgb(255, 255, 255); stroke-opacity: 1; stroke-width: 1px;\"/></g><g class=\"y10\"><path class=\"y10grid crisp\" transform=\"translate(0,270.6600000000001)\" d=\"M338.825,0h238.52499999999998\" style=\"stroke: rgb(255, 255, 255); stroke-opacity: 1; stroke-width: 1px;\"/><path class=\"y10grid crisp\" transform=\"translate(0,234.31000000000006)\" d=\"M338.825,0h238.52499999999998\" style=\"stroke: rgb(255, 255, 255); stroke-opacity: 1; stroke-width: 1px;\"/><path class=\"y10grid crisp\" transform=\"translate(0,197.96000000000006)\" d=\"M338.825,0h238.52499999999998\" style=\"stroke: rgb(255, 255, 255); stroke-opacity: 1; stroke-width: 1px;\"/><path class=\"y10grid crisp\" transform=\"translate(0,161.60000000000008)\" d=\"M338.825,0h238.52499999999998\" style=\"stroke: rgb(255, 255, 255); stroke-opacity: 1; stroke-width: 1px;\"/><path class=\"y10grid crisp\" transform=\"translate(0,125.25000000000007)\" d=\"M338.825,0h238.52499999999998\" style=\"stroke: rgb(255, 255, 255); stroke-opacity: 1; stroke-width: 1px;\"/></g></g><g class=\"zerolinelayer\"/><path class=\"xlines-below\"/><path class=\"ylines-below\"/><g class=\"overlines-below\"/><g class=\"xaxislayer-below\"/><g class=\"yaxislayer-below\"/><g class=\"overaxes-below\"/><g class=\"plot\" transform=\"translate(338.825,100.00000000000007)\" clip-path=\"url(#clip671a8ax10y10plot)\"><g class=\"scatterlayer mlayer\"><g class=\"trace scatter trace286f11\" style=\"stroke-miterlimit: 2; opacity: 1;\"><g class=\"fills\"/><g class=\"errorbars\"/><g class=\"lines\"><path class=\"js-line\" d=\"M130.1,103.41L151.79,94.32L173.47,83.41L195.16,70.69L216.84,48.88L238.52,25.25\" style=\"vector-effect: non-scaling-stroke; fill: none; stroke: rgb(0, 0, 4); stroke-opacity: 1; stroke-width: 2px; opacity: 1;\"/></g><g class=\"points\"/><g class=\"text\"/></g><g class=\"trace scatter trace50126c\" style=\"stroke-miterlimit: 2; opacity: 1;\"><g class=\"fills\"/><g class=\"errorbars\"/><g class=\"lines\"><path class=\"js-line\" d=\"M0,8.89L21.68,23.43L43.37,74.32L65.05,103.41L86.74,114.31L108.42,119.77L130.1,116.13L151.79,105.23L173.47,90.68L216.84,61.6L238.52,36.15\" style=\"vector-effect: non-scaling-stroke; fill: none; stroke: rgb(27, 12, 65); stroke-opacity: 1; stroke-width: 2px; opacity: 1;\"/></g><g class=\"points\"/><g class=\"text\"/></g><g class=\"trace scatter tracef08a39\" style=\"stroke-miterlimit: 2; opacity: 1;\"><g class=\"fills\"/><g class=\"errorbars\"/><g class=\"lines\"><path class=\"js-line\" d=\"M0,25.25L21.68,45.24L43.37,97.96L65.05,114.31L86.74,121.59L108.42,127.04L130.1,121.59L151.79,110.68L173.47,103.41L195.16,97.96L216.84,87.05L238.52,61.6\" style=\"vector-effect: non-scaling-stroke; fill: none; stroke: rgb(74, 12, 107); stroke-opacity: 1; stroke-width: 2px; opacity: 1;\"/></g><g class=\"points\"/><g class=\"text\"/></g><g class=\"trace scatter trace021b82\" style=\"stroke-miterlimit: 2; opacity: 1;\"><g class=\"fills\"/><g class=\"errorbars\"/><g class=\"lines\"><path class=\"js-line\" d=\"M0,48.88L21.68,65.24L43.37,90.68L65.05,114.31L86.74,127.04L108.42,127.04L130.1,119.77L173.47,97.96L195.16,88.87L216.84,72.51L238.52,48.88\" style=\"vector-effect: non-scaling-stroke; fill: none; stroke: rgb(120, 28, 109); stroke-opacity: 1; stroke-width: 2px; opacity: 1;\"/></g><g class=\"points\"/><g class=\"text\"/></g><g class=\"trace scatter trace5e3118\" style=\"stroke-miterlimit: 2; opacity: 1;\"><g class=\"fills\"/><g class=\"errorbars\"/><g class=\"lines\"><path class=\"js-line\" d=\"M0,32.52L21.68,39.79L43.37,105.23L65.05,107.04L86.74,99.77L108.42,114.31L130.1,114.31L173.47,114.31L195.16,110.68L216.84,97.96L238.52,74.32\" style=\"vector-effect: non-scaling-stroke; fill: none; stroke: rgb(165, 44, 96); stroke-opacity: 1; stroke-width: 2px; opacity: 1;\"/></g><g class=\"points\"/><g class=\"text\"/></g><g class=\"trace scatter trace74b967\" style=\"stroke-miterlimit: 2; opacity: 1;\"><g class=\"fills\"/><g class=\"errorbars\"/><g class=\"lines\"><path class=\"js-line\" d=\"M0,65.24L21.68,99.77L43.37,132.49L65.05,141.58L86.74,152.49L108.42,161.58L130.1,154.3L151.79,148.85L173.47,141.58L195.16,137.95L216.84,123.4L238.52,101.59\" style=\"vector-effect: non-scaling-stroke; fill: none; stroke: rgb(207, 68, 70); stroke-opacity: 1; stroke-width: 2px; opacity: 1;\"/></g><g class=\"points\"/><g class=\"text\"/></g><g class=\"trace scatter trace23968c\" style=\"stroke-miterlimit: 2; opacity: 1;\"><g class=\"fills\"/><g class=\"errorbars\"/><g class=\"lines\"><path class=\"js-line\" d=\"M0,97.96L21.68,143.4L43.37,159.76L65.05,167.03L86.74,168.85L108.42,165.21L130.1,152.49L151.79,136.13L173.47,123.4L195.16,114.31\" style=\"vector-effect: non-scaling-stroke; fill: none; stroke: rgb(237, 105, 37); stroke-opacity: 1; stroke-width: 2px; opacity: 1;\"/></g><g class=\"points\"/><g class=\"text\"/></g></g></g><g class=\"overplot\"/><path class=\"xlines-above crisp\" d=\"M0,0\" style=\"fill: none;\"/><path class=\"ylines-above crisp\" d=\"M0,0\" style=\"fill: none;\"/><g class=\"overlines-above\"/><g class=\"xaxislayer-above\"/><g class=\"yaxislayer-above\"/><g class=\"overaxes-above\"/></g><g class=\"subplot x11y11\"><g class=\"layer-subplot\"><g class=\"shapelayer\"/><g class=\"imagelayer\"/></g><g class=\"minor-gridlayer\"><g class=\"x11\"/><g class=\"y11\"/></g><g class=\"gridlayer\"><g class=\"x11\"><path class=\"x11grid crisp\" transform=\"translate(684.39,0)\" d=\"M0,100.00000000000007v177.73333333333332\" style=\"stroke: rgb(255, 255, 255); stroke-opacity: 1; stroke-width: 1px;\"/><path class=\"x11grid crisp\" transform=\"translate(792.81,0)\" d=\"M0,100.00000000000007v177.73333333333332\" style=\"stroke: rgb(255, 255, 255); stroke-opacity: 1; stroke-width: 1px;\"/></g><g class=\"y11\"><path class=\"y11grid crisp\" transform=\"translate(0,236.85000000000008)\" d=\"M597.65,0h238.52499999999998\" style=\"stroke: rgb(255, 255, 255); stroke-opacity: 1; stroke-width: 1px;\"/><path class=\"y11grid crisp\" transform=\"translate(0,196.86000000000007)\" d=\"M597.65,0h238.52499999999998\" style=\"stroke: rgb(255, 255, 255); stroke-opacity: 1; stroke-width: 1px;\"/><path class=\"y11grid crisp\" transform=\"translate(0,156.87000000000006)\" d=\"M597.65,0h238.52499999999998\" style=\"stroke: rgb(255, 255, 255); stroke-opacity: 1; stroke-width: 1px;\"/><path class=\"y11grid crisp\" transform=\"translate(0,116.88000000000007)\" d=\"M597.65,0h238.52499999999998\" style=\"stroke: rgb(255, 255, 255); stroke-opacity: 1; stroke-width: 1px;\"/></g></g><g class=\"zerolinelayer\"/><path class=\"xlines-below\"/><path class=\"ylines-below\"/><g class=\"overlines-below\"/><g class=\"xaxislayer-below\"/><g class=\"yaxislayer-below\"/><g class=\"overaxes-below\"/><g class=\"plot\" transform=\"translate(597.65,100.00000000000007)\" clip-path=\"url(#clip671a8ax11y11plot)\"><g class=\"scatterlayer mlayer\"><g class=\"trace scatter trace82469e\" style=\"stroke-miterlimit: 2; opacity: 1;\"><g class=\"fills\"/><g class=\"errorbars\"/><g class=\"lines\"><path class=\"js-line\" d=\"M130.1,88.87L151.79,78.87L173.47,66.87L195.16,54.88L216.84,38.88L238.52,16.88\" style=\"vector-effect: non-scaling-stroke; fill: none; stroke: rgb(0, 0, 4); stroke-opacity: 1; stroke-width: 2px; opacity: 1;\"/></g><g class=\"points\"/><g class=\"text\"/></g><g class=\"trace scatter trace4bf861\" style=\"stroke-miterlimit: 2; opacity: 1;\"><g class=\"fills\"/><g class=\"errorbars\"/><g class=\"lines\"><path class=\"js-line\" d=\"M0,8.89L21.68,12.89L43.37,58.87L65.05,108.86L86.74,122.86L108.42,122.86L130.1,112.86L151.79,106.86L173.47,90.87L216.84,62.87L238.52,38.88\" style=\"vector-effect: non-scaling-stroke; fill: none; stroke: rgb(27, 12, 65); stroke-opacity: 1; stroke-width: 2px; opacity: 1;\"/></g><g class=\"points\"/><g class=\"text\"/></g><g class=\"trace scatter trace04e6e3\" style=\"stroke-miterlimit: 2; opacity: 1;\"><g class=\"fills\"/><g class=\"errorbars\"/><g class=\"lines\"><path class=\"js-line\" d=\"M0,28.88L21.68,48.88L43.37,104.86L65.05,122.86L86.74,132.86L108.42,130.86L130.1,116.86L151.79,110.86L173.47,100.86L195.16,92.87L216.84,80.87L238.52,60.87\" style=\"vector-effect: non-scaling-stroke; fill: none; stroke: rgb(74, 12, 107); stroke-opacity: 1; stroke-width: 2px; opacity: 1;\"/></g><g class=\"points\"/><g class=\"text\"/></g><g class=\"trace scatter tracef34fe2\" style=\"stroke-miterlimit: 2; opacity: 1;\"><g class=\"fills\"/><g class=\"errorbars\"/><g class=\"lines\"><path class=\"js-line\" d=\"M0,54.88L21.68,70.87L43.37,96.86L65.05,124.86L86.74,136.85L108.42,136.85L130.1,124.86L151.79,116.86L173.47,106.86L195.16,96.86L216.84,84.87L238.52,64.87\" style=\"vector-effect: non-scaling-stroke; fill: none; stroke: rgb(120, 28, 109); stroke-opacity: 1; stroke-width: 2px; opacity: 1;\"/></g><g class=\"points\"/><g class=\"text\"/></g><g class=\"trace scatter tracec92150\" style=\"stroke-miterlimit: 2; opacity: 1;\"><g class=\"fills\"/><g class=\"errorbars\"/><g class=\"lines\"><path class=\"js-line\" d=\"M0,54.88L21.68,74.87L43.37,124.86L65.05,130.86L86.74,102.86L108.42,104.86L130.1,112.86L151.79,116.86L173.47,114.86L195.16,110.86L216.84,100.86L238.52,90.87\" style=\"vector-effect: non-scaling-stroke; fill: none; stroke: rgb(165, 44, 96); stroke-opacity: 1; stroke-width: 2px; opacity: 1;\"/></g><g class=\"points\"/><g class=\"text\"/></g><g class=\"trace scatter trace991305\" style=\"stroke-miterlimit: 2; opacity: 1;\"><g class=\"fills\"/><g class=\"errorbars\"/><g class=\"lines\"><path class=\"js-line\" d=\"M0,96.86L21.68,142.85L43.37,156.85L65.05,158.85L86.74,158.85L108.42,164.85L130.1,162.85L151.79,154.85L173.47,144.85L195.16,126.86L216.84,110.86L238.52,102.86\" style=\"vector-effect: non-scaling-stroke; fill: none; stroke: rgb(207, 68, 70); stroke-opacity: 1; stroke-width: 2px; opacity: 1;\"/></g><g class=\"points\"/><g class=\"text\"/></g><g class=\"trace scatter trace0f77e8\" style=\"stroke-miterlimit: 2; opacity: 1;\"><g class=\"fills\"/><g class=\"errorbars\"/><g class=\"lines\"><path class=\"js-line\" d=\"M0,98.86L21.68,144.85L43.37,158.85L65.05,160.85L86.74,168.85L108.42,160.85L130.1,144.85L151.79,120.86L173.47,98.86L195.16,86.87\" style=\"vector-effect: non-scaling-stroke; fill: none; stroke: rgb(237, 105, 37); stroke-opacity: 1; stroke-width: 2px; opacity: 1;\"/></g><g class=\"points\"/><g class=\"text\"/></g></g></g><g class=\"overplot\"/><path class=\"xlines-above crisp\" d=\"M0,0\" style=\"fill: none;\"/><path class=\"ylines-above crisp\" d=\"M0,0\" style=\"fill: none;\"/><g class=\"overlines-above\"/><g class=\"xaxislayer-above\"/><g class=\"yaxislayer-above\"/><g class=\"overaxes-above\"/></g><g class=\"subplot x12y12\"><g class=\"layer-subplot\"><g class=\"shapelayer\"/><g class=\"imagelayer\"/></g><g class=\"minor-gridlayer\"><g class=\"x12\"/><g class=\"y12\"/></g><g class=\"gridlayer\"><g class=\"x12\"><path class=\"x12grid crisp\" transform=\"translate(943.2149999999999,0)\" d=\"M0,100.00000000000007v177.73333333333332\" style=\"stroke: rgb(255, 255, 255); stroke-opacity: 1; stroke-width: 1px;\"/><path class=\"x12grid crisp\" transform=\"translate(1051.635,0)\" d=\"M0,100.00000000000007v177.73333333333332\" style=\"stroke: rgb(255, 255, 255); stroke-opacity: 1; stroke-width: 1px;\"/></g><g class=\"y12\"><path class=\"y12grid crisp\" transform=\"translate(0,247.87000000000006)\" d=\"M856.4749999999999,0h238.52499999999998\" style=\"stroke: rgb(255, 255, 255); stroke-opacity: 1; stroke-width: 1px;\"/><path class=\"y12grid crisp\" transform=\"translate(0,195.42000000000007)\" d=\"M856.4749999999999,0h238.52499999999998\" style=\"stroke: rgb(255, 255, 255); stroke-opacity: 1; stroke-width: 1px;\"/><path class=\"y12grid crisp\" transform=\"translate(0,142.98000000000008)\" d=\"M856.4749999999999,0h238.52499999999998\" style=\"stroke: rgb(255, 255, 255); stroke-opacity: 1; stroke-width: 1px;\"/></g></g><g class=\"zerolinelayer\"/><path class=\"xlines-below\"/><path class=\"ylines-below\"/><g class=\"overlines-below\"/><g class=\"xaxislayer-below\"/><g class=\"yaxislayer-below\"/><g class=\"overaxes-below\"/><g class=\"plot\" transform=\"translate(856.4749999999999,100.00000000000007)\" clip-path=\"url(#clip671a8ax12y12plot)\"><g class=\"scatterlayer mlayer\"><g class=\"trace scatter trace709838\" style=\"stroke-miterlimit: 2; opacity: 1;\"><g class=\"fills\"/><g class=\"errorbars\"/><g class=\"lines\"><path class=\"js-line\" d=\"M130.1,92.8L151.79,82.31L173.47,74.44L195.16,66.58L216.84,53.47L238.52,24.62\" style=\"vector-effect: non-scaling-stroke; fill: none; stroke: rgb(0, 0, 4); stroke-opacity: 1; stroke-width: 2px; opacity: 1;\"/></g><g class=\"points\"/><g class=\"text\"/></g><g class=\"trace scatter tracebe2f0a\" style=\"stroke-miterlimit: 2; opacity: 1;\"><g class=\"fills\"/><g class=\"errorbars\"/><g class=\"lines\"><path class=\"js-line\" d=\"M0,8.89L21.68,37.73L43.37,108.53L65.05,111.16L86.74,111.16L108.42,111.16L130.1,103.29L173.47,92.8L195.16,82.31L216.84,71.82L238.52,42.98\" style=\"vector-effect: non-scaling-stroke; fill: none; stroke: rgb(27, 12, 65); stroke-opacity: 1; stroke-width: 2px; opacity: 1;\"/></g><g class=\"points\"/><g class=\"text\"/></g><g class=\"trace scatter trace6c66df\" style=\"stroke-miterlimit: 2; opacity: 1;\"><g class=\"fills\"/><g class=\"errorbars\"/><g class=\"lines\"><path class=\"js-line\" d=\"M0,22L21.68,45.6L43.37,111.16L65.05,119.02L86.74,121.65L108.42,119.02L130.1,113.78L173.47,98.04L195.16,92.8L216.84,79.69L238.52,50.84\" style=\"vector-effect: non-scaling-stroke; fill: none; stroke: rgb(74, 12, 107); stroke-opacity: 1; stroke-width: 2px; opacity: 1;\"/></g><g class=\"points\"/><g class=\"text\"/></g><g class=\"trace scatter trace8fe5ea\" style=\"stroke-miterlimit: 2; opacity: 1;\"><g class=\"fills\"/><g class=\"errorbars\"/><g class=\"lines\"><path class=\"js-line\" d=\"M0,27.24L21.68,48.22L43.37,95.42L65.05,129.51L86.74,129.51L108.42,121.65L130.1,116.4L151.79,105.91L173.47,92.8L195.16,84.93L216.84,66.58L238.52,32.49\" style=\"vector-effect: non-scaling-stroke; fill: none; stroke: rgb(120, 28, 109); stroke-opacity: 1; stroke-width: 2px; opacity: 1;\"/></g><g class=\"points\"/><g class=\"text\"/></g><g class=\"trace scatter trace14ac7a\" style=\"stroke-miterlimit: 2; opacity: 1;\"><g class=\"fills\"/><g class=\"errorbars\"/><g class=\"lines\"><path class=\"js-line\" d=\"M0,19.38L43.37,113.78L65.05,92.8L86.74,74.44L108.42,103.29L130.1,121.65L151.79,126.89L173.47,126.89L195.16,121.65L216.84,105.91L238.52,82.31\" style=\"vector-effect: non-scaling-stroke; fill: none; stroke: rgb(165, 44, 96); stroke-opacity: 1; stroke-width: 2px; opacity: 1;\"/></g><g class=\"points\"/><g class=\"text\"/></g><g class=\"trace scatter traced98b5f\" style=\"stroke-miterlimit: 2; opacity: 1;\"><g class=\"fills\"/><g class=\"errorbars\"/><g class=\"lines\"><path class=\"js-line\" d=\"M0,61.33L21.68,82.31L43.37,121.65L65.05,142.62L86.74,150.49L108.42,155.74L130.1,155.74L151.79,150.49L173.47,140L195.16,137.38L216.84,126.89L238.52,103.29\" style=\"vector-effect: non-scaling-stroke; fill: none; stroke: rgb(207, 68, 70); stroke-opacity: 1; stroke-width: 2px; opacity: 1;\"/></g><g class=\"points\"/><g class=\"text\"/></g><g class=\"trace scatter trace5c45a5\" style=\"stroke-miterlimit: 2; opacity: 1;\"><g class=\"fills\"/><g class=\"errorbars\"/><g class=\"lines\"><path class=\"js-line\" d=\"M0,82.31L21.68,119.02L43.37,147.87L65.05,160.98L86.74,168.85L108.42,166.22L130.1,158.36L151.79,150.49L173.47,140L195.16,140\" style=\"vector-effect: non-scaling-stroke; fill: none; stroke: rgb(237, 105, 37); stroke-opacity: 1; stroke-width: 2px; opacity: 1;\"/></g><g class=\"points\"/><g class=\"text\"/></g></g></g><g class=\"overplot\"/><path class=\"xlines-above crisp\" d=\"M0,0\" style=\"fill: none;\"/><path class=\"ylines-above crisp\" d=\"M0,0\" style=\"fill: none;\"/><g class=\"overlines-above\"/><g class=\"xaxislayer-above\"/><g class=\"yaxislayer-above\"/><g class=\"overaxes-above\"/></g></g><g class=\"polarlayer\"/><g class=\"smithlayer\"/><g class=\"ternarylayer\"/><g class=\"geolayer\"/><g class=\"funnelarealayer\"/><g class=\"pielayer\"/><g class=\"iciclelayer\"/><g class=\"treemaplayer\"/><g class=\"sunburstlayer\"/><g class=\"glimages\"/><defs id=\"topdefs-671a8a\"><g class=\"clips\"/><clipPath id=\"legend671a8a\"><rect width=\"73\" height=\"162\" x=\"0\" y=\"0\"/></clipPath></defs><g class=\"layer-above\"><g class=\"imagelayer\"/><g class=\"shapelayer\"/></g><g class=\"infolayer\"><g class=\"legend\" pointer-events=\"all\" transform=\"translate(1115.3,100)\"><rect class=\"bg\" shape-rendering=\"crispEdges\" width=\"73\" height=\"162\" x=\"0\" y=\"0\" style=\"stroke: rgb(68, 68, 68); stroke-opacity: 1; fill: rgb(255, 255, 255); fill-opacity: 1; stroke-width: 0px;\"/><g class=\"scrollbox\" transform=\"\" clip-path=\"url(#legend671a8a)\"><text class=\"legendtitletext\" text-anchor=\"start\" x=\"2\" y=\"18.2\" style=\"font-family: 'Open Sans', verdana, arial, sans-serif; font-size: 14px; fill: rgb(42, 63, 95); fill-opacity: 1; white-space: pre;\">year</text><g class=\"groups\" transform=\"\"><g class=\"traces\" transform=\"translate(0,32.7)\" style=\"opacity: 1;\"><text class=\"legendtext\" text-anchor=\"start\" x=\"40\" y=\"4.680000000000001\" style=\"font-family: 'Open Sans', verdana, arial, sans-serif; font-size: 12px; fill: rgb(42, 63, 95); fill-opacity: 1; white-space: pre;\">2016</text><g class=\"layers\" style=\"opacity: 1;\"><g class=\"legendfill\"/><g class=\"legendlines\"><path class=\"js-line\" d=\"M5,0h30\" style=\"fill: none; stroke: rgb(0, 0, 4); stroke-opacity: 1; stroke-width: 2px;\"/></g><g class=\"legendsymbols\"><g class=\"legendpoints\"/></g></g><rect class=\"legendtoggle\" x=\"0\" y=\"-9.5\" width=\"67.59375\" height=\"19\" style=\"fill: rgb(0, 0, 0); fill-opacity: 0;\"/></g></g><g class=\"groups\" transform=\"\"><g class=\"traces\" transform=\"translate(0,51.7)\" style=\"opacity: 1;\"><text class=\"legendtext\" text-anchor=\"start\" x=\"40\" y=\"4.680000000000001\" style=\"font-family: 'Open Sans', verdana, arial, sans-serif; font-size: 12px; fill: rgb(42, 63, 95); fill-opacity: 1; white-space: pre;\">2017</text><g class=\"layers\" style=\"opacity: 1;\"><g class=\"legendfill\"/><g class=\"legendlines\"><path class=\"js-line\" d=\"M5,0h30\" style=\"fill: none; stroke: rgb(27, 12, 65); stroke-opacity: 1; stroke-width: 2px;\"/></g><g class=\"legendsymbols\"><g class=\"legendpoints\"/></g></g><rect class=\"legendtoggle\" x=\"0\" y=\"-9.5\" width=\"67.59375\" height=\"19\" style=\"fill: rgb(0, 0, 0); fill-opacity: 0;\"/></g></g><g class=\"groups\" transform=\"\"><g class=\"traces\" transform=\"translate(0,70.7)\" style=\"opacity: 1;\"><text class=\"legendtext\" text-anchor=\"start\" x=\"40\" y=\"4.680000000000001\" style=\"font-family: 'Open Sans', verdana, arial, sans-serif; font-size: 12px; fill: rgb(42, 63, 95); fill-opacity: 1; white-space: pre;\">2018</text><g class=\"layers\" style=\"opacity: 1;\"><g class=\"legendfill\"/><g class=\"legendlines\"><path class=\"js-line\" d=\"M5,0h30\" style=\"fill: none; stroke: rgb(74, 12, 107); stroke-opacity: 1; stroke-width: 2px;\"/></g><g class=\"legendsymbols\"><g class=\"legendpoints\"/></g></g><rect class=\"legendtoggle\" x=\"0\" y=\"-9.5\" width=\"67.59375\" height=\"19\" style=\"fill: rgb(0, 0, 0); fill-opacity: 0;\"/></g></g><g class=\"groups\" transform=\"\"><g class=\"traces\" transform=\"translate(0,89.7)\" style=\"opacity: 1;\"><text class=\"legendtext\" text-anchor=\"start\" x=\"40\" y=\"4.680000000000001\" style=\"font-family: 'Open Sans', verdana, arial, sans-serif; font-size: 12px; fill: rgb(42, 63, 95); fill-opacity: 1; white-space: pre;\">2019</text><g class=\"layers\" style=\"opacity: 1;\"><g class=\"legendfill\"/><g class=\"legendlines\"><path class=\"js-line\" d=\"M5,0h30\" style=\"fill: none; stroke: rgb(120, 28, 109); stroke-opacity: 1; stroke-width: 2px;\"/></g><g class=\"legendsymbols\"><g class=\"legendpoints\"/></g></g><rect class=\"legendtoggle\" x=\"0\" y=\"-9.5\" width=\"67.59375\" height=\"19\" style=\"fill: rgb(0, 0, 0); fill-opacity: 0;\"/></g></g><g class=\"groups\" transform=\"\"><g class=\"traces\" transform=\"translate(0,108.7)\" style=\"opacity: 1;\"><text class=\"legendtext\" text-anchor=\"start\" x=\"40\" y=\"4.680000000000001\" style=\"font-family: 'Open Sans', verdana, arial, sans-serif; font-size: 12px; fill: rgb(42, 63, 95); fill-opacity: 1; white-space: pre;\">2020</text><g class=\"layers\" style=\"opacity: 1;\"><g class=\"legendfill\"/><g class=\"legendlines\"><path class=\"js-line\" d=\"M5,0h30\" style=\"fill: none; stroke: rgb(165, 44, 96); stroke-opacity: 1; stroke-width: 2px;\"/></g><g class=\"legendsymbols\"><g class=\"legendpoints\"/></g></g><rect class=\"legendtoggle\" x=\"0\" y=\"-9.5\" width=\"67.59375\" height=\"19\" style=\"fill: rgb(0, 0, 0); fill-opacity: 0;\"/></g></g><g class=\"groups\" transform=\"\"><g class=\"traces\" transform=\"translate(0,127.7)\" style=\"opacity: 1;\"><text class=\"legendtext\" text-anchor=\"start\" x=\"40\" y=\"4.680000000000001\" style=\"font-family: 'Open Sans', verdana, arial, sans-serif; font-size: 12px; fill: rgb(42, 63, 95); fill-opacity: 1; white-space: pre;\">2021</text><g class=\"layers\" style=\"opacity: 1;\"><g class=\"legendfill\"/><g class=\"legendlines\"><path class=\"js-line\" d=\"M5,0h30\" style=\"fill: none; stroke: rgb(207, 68, 70); stroke-opacity: 1; stroke-width: 2px;\"/></g><g class=\"legendsymbols\"><g class=\"legendpoints\"/></g></g><rect class=\"legendtoggle\" x=\"0\" y=\"-9.5\" width=\"67.59375\" height=\"19\" style=\"fill: rgb(0, 0, 0); fill-opacity: 0;\"/></g></g><g class=\"groups\" transform=\"\"><g class=\"traces\" transform=\"translate(0,146.7)\" style=\"opacity: 1;\"><text class=\"legendtext\" text-anchor=\"start\" x=\"40\" y=\"4.680000000000001\" style=\"font-family: 'Open Sans', verdana, arial, sans-serif; font-size: 12px; fill: rgb(42, 63, 95); fill-opacity: 1; white-space: pre;\">2022</text><g class=\"layers\" style=\"opacity: 1;\"><g class=\"legendfill\"/><g class=\"legendlines\"><path class=\"js-line\" d=\"M5,0h30\" style=\"fill: none; stroke: rgb(237, 105, 37); stroke-opacity: 1; stroke-width: 2px;\"/></g><g class=\"legendsymbols\"><g class=\"legendpoints\"/></g></g><rect class=\"legendtoggle\" x=\"0\" y=\"-9.5\" width=\"67.59375\" height=\"19\" style=\"fill: rgb(0, 0, 0); fill-opacity: 0;\"/></g></g></g><rect class=\"scrollbar\" rx=\"20\" ry=\"3\" width=\"0\" height=\"0\" x=\"0\" y=\"0\" style=\"fill: rgb(128, 139, 164); fill-opacity: 1;\"/></g><g class=\"g-gtitle\"><text class=\"gtitle\" x=\"60\" y=\"50\" text-anchor=\"start\" dy=\"0em\" style=\"font-family: 'Open Sans', verdana, arial, sans-serif; font-size: 17px; fill: rgb(42, 63, 95); opacity: 1; font-weight: normal; white-space: pre;\">Median Days on Market over Time by State</text></g><g class=\"g-xtitle\"><text class=\"xtitle\" x=\"199.2625\" y=\"761.8\" text-anchor=\"middle\" style=\"font-family: 'Open Sans', verdana, arial, sans-serif; font-size: 14px; fill: rgb(42, 63, 95); opacity: 1; font-weight: normal; white-space: pre;\">month_num</text></g><g class=\"g-x2title\"><text class=\"x2title\" x=\"458.0875\" y=\"761.8\" text-anchor=\"middle\" style=\"font-family: 'Open Sans', verdana, arial, sans-serif; font-size: 14px; fill: rgb(42, 63, 95); opacity: 1; font-weight: normal; white-space: pre;\">month_num</text></g><g class=\"g-x3title\"><text class=\"x3title\" x=\"716.9124999999999\" y=\"761.8\" text-anchor=\"middle\" style=\"font-family: 'Open Sans', verdana, arial, sans-serif; font-size: 14px; fill: rgb(42, 63, 95); opacity: 1; font-weight: normal; white-space: pre;\">month_num</text></g><g class=\"g-x4title\"><text class=\"x4title\" x=\"975.7375\" y=\"761.8\" text-anchor=\"middle\" style=\"font-family: 'Open Sans', verdana, arial, sans-serif; font-size: 14px; fill: rgb(42, 63, 95); opacity: 1; font-weight: normal; white-space: pre;\">month_num</text></g><g class=\"g-x5title\"/><g class=\"g-x6title\"/><g class=\"g-x7title\"/><g class=\"g-x8title\"/><g class=\"g-x9title\"/><g class=\"g-x10title\"/><g class=\"g-x11title\"/><g class=\"g-x12title\"/><g class=\"g-ytitle\"><text class=\"ytitle\" transform=\"rotate(-90,33.60625,631.1333333333333)\" x=\"33.60625\" y=\"631.1333333333333\" text-anchor=\"middle\" style=\"font-family: 'Open Sans', verdana, arial, sans-serif; font-size: 14px; fill: rgb(42, 63, 95); opacity: 1; font-weight: normal; white-space: pre;\">med_dom</text></g><g class=\"g-y2title\"/><g class=\"g-y3title\"/><g class=\"g-y4title\"/><g class=\"g-y5title\"><text class=\"y5title\" transform=\"rotate(-90,33.60625,410)\" x=\"33.60625\" y=\"410\" text-anchor=\"middle\" style=\"font-family: 'Open Sans', verdana, arial, sans-serif; font-size: 14px; fill: rgb(42, 63, 95); opacity: 1; font-weight: normal; white-space: pre;\">med_dom</text></g><g class=\"g-y6title\"/><g class=\"g-y7title\"/><g class=\"g-y8title\"/><g class=\"g-y9title\"><text class=\"y9title\" transform=\"rotate(-90,39.465625,188.86666666666673)\" x=\"39.465625\" y=\"188.86666666666673\" text-anchor=\"middle\" style=\"font-family: 'Open Sans', verdana, arial, sans-serif; font-size: 14px; fill: rgb(42, 63, 95); opacity: 1; font-weight: normal; white-space: pre;\">med_dom</text></g><g class=\"g-y10title\"/><g class=\"g-y11title\"/><g class=\"g-y12title\"/><g class=\"annotation\" data-index=\"0\" style=\"opacity: 1;\"><g class=\"annotation-text-g\" transform=\"rotate(0,199.2625,531.7666666666667)\"><g class=\"cursor-pointer\" transform=\"translate(172,521)\"><rect class=\"bg\" x=\"0.5\" y=\"0.5\" width=\"53\" height=\"20\" style=\"stroke-width: 1px; stroke: rgb(0, 0, 0); stroke-opacity: 0; fill: rgb(0, 0, 0); fill-opacity: 0;\"/><text class=\"annotation-text\" text-anchor=\"middle\" x=\"26.65625\" y=\"15\" style=\"font-family: 'Open Sans', verdana, arial, sans-serif; font-size: 12px; fill: rgb(42, 63, 95); fill-opacity: 1; white-space: pre;\">state=PA</text></g></g></g><g class=\"annotation\" data-index=\"1\" style=\"opacity: 1;\"><g class=\"annotation-text-g\" transform=\"rotate(0,458.0875,531.7666666666667)\"><g class=\"cursor-pointer\" transform=\"translate(431,521)\"><rect class=\"bg\" x=\"0.5\" y=\"0.5\" width=\"53\" height=\"20\" style=\"stroke-width: 1px; stroke: rgb(0, 0, 0); stroke-opacity: 0; fill: rgb(0, 0, 0); fill-opacity: 0;\"/><text class=\"annotation-text\" text-anchor=\"middle\" x=\"26.921875\" y=\"15\" style=\"font-family: 'Open Sans', verdana, arial, sans-serif; font-size: 12px; fill: rgb(42, 63, 95); fill-opacity: 1; white-space: pre;\">state=UT</text></g></g></g><g class=\"annotation\" data-index=\"2\" style=\"opacity: 1;\"><g class=\"annotation-text-g\" transform=\"rotate(0,716.9124999999999,531.7666666666667)\"><g class=\"cursor-pointer\" transform=\"translate(690,521)\"><rect class=\"bg\" x=\"0.5\" y=\"0.5\" width=\"52\" height=\"20\" style=\"stroke-width: 1px; stroke: rgb(0, 0, 0); stroke-opacity: 0; fill: rgb(0, 0, 0); fill-opacity: 0;\"/><text class=\"annotation-text\" text-anchor=\"middle\" x=\"26.46875\" y=\"15\" style=\"font-family: 'Open Sans', verdana, arial, sans-serif; font-size: 12px; fill: rgb(42, 63, 95); fill-opacity: 1; white-space: pre;\">state=WI</text></g></g></g><g class=\"annotation\" data-index=\"3\" style=\"opacity: 1;\"><g class=\"annotation-text-g\" transform=\"rotate(0,975.7374999999998,531.7666666666667)\"><g class=\"cursor-pointer\" transform=\"translate(947,521)\"><rect class=\"bg\" x=\"0.5\" y=\"0.5\" width=\"57\" height=\"20\" style=\"stroke-width: 1px; stroke: rgb(0, 0, 0); stroke-opacity: 0; fill: rgb(0, 0, 0); fill-opacity: 0;\"/><text class=\"annotation-text\" text-anchor=\"middle\" x=\"28.15625\" y=\"15\" style=\"font-family: 'Open Sans', verdana, arial, sans-serif; font-size: 12px; fill: rgb(42, 63, 95); fill-opacity: 1; white-space: pre;\">state=WY</text></g></g></g><g class=\"annotation\" data-index=\"4\" style=\"opacity: 1;\"><g class=\"annotation-text-g\" transform=\"rotate(0,199.2625,310.6333333333333)\"><g class=\"cursor-pointer\" transform=\"translate(173,300)\"><rect class=\"bg\" x=\"0.5\" y=\"0.5\" width=\"52\" height=\"20\" style=\"stroke-width: 1px; stroke: rgb(0, 0, 0); stroke-opacity: 0; fill: rgb(0, 0, 0); fill-opacity: 0;\"/><text class=\"annotation-text\" text-anchor=\"middle\" x=\"26.328125\" y=\"15\" style=\"font-family: 'Open Sans', verdana, arial, sans-serif; font-size: 12px; fill: rgb(42, 63, 95); fill-opacity: 1; white-space: pre;\">state=MI</text></g></g></g><g class=\"annotation\" data-index=\"5\" style=\"opacity: 1;\"><g class=\"annotation-text-g\" transform=\"rotate(0,458.0875,310.6333333333333)\"><g class=\"cursor-pointer\" transform=\"translate(431,300)\"><rect class=\"bg\" x=\"0.5\" y=\"0.5\" width=\"54\" height=\"20\" style=\"stroke-width: 1px; stroke: rgb(0, 0, 0); stroke-opacity: 0; fill: rgb(0, 0, 0); fill-opacity: 0;\"/><text class=\"annotation-text\" text-anchor=\"middle\" x=\"27.09375\" y=\"15\" style=\"font-family: 'Open Sans', verdana, arial, sans-serif; font-size: 12px; fill: rgb(42, 63, 95); fill-opacity: 1; white-space: pre;\">state=NE</text></g></g></g><g class=\"annotation\" data-index=\"6\" style=\"opacity: 1;\"><g class=\"annotation-text-g\" transform=\"rotate(0,716.9124999999999,310.6333333333333)\"><g class=\"cursor-pointer\" transform=\"translate(689,300)\"><rect class=\"bg\" x=\"0.5\" y=\"0.5\" width=\"55\" height=\"20\" style=\"stroke-width: 1px; stroke: rgb(0, 0, 0); stroke-opacity: 0; fill: rgb(0, 0, 0); fill-opacity: 0;\"/><text class=\"annotation-text\" text-anchor=\"middle\" x=\"27.125\" y=\"15\" style=\"font-family: 'Open Sans', verdana, arial, sans-serif; font-size: 12px; fill: rgb(42, 63, 95); fill-opacity: 1; white-space: pre;\">state=NY</text></g></g></g><g class=\"annotation\" data-index=\"7\" style=\"opacity: 1;\"><g class=\"annotation-text-g\" transform=\"rotate(0,975.7374999999998,310.6333333333333)\"><g class=\"cursor-pointer\" transform=\"translate(948,300)\"><rect class=\"bg\" x=\"0.5\" y=\"0.5\" width=\"55\" height=\"20\" style=\"stroke-width: 1px; stroke: rgb(0, 0, 0); stroke-opacity: 0; fill: rgb(0, 0, 0); fill-opacity: 0;\"/><text class=\"annotation-text\" text-anchor=\"middle\" x=\"27.625\" y=\"15\" style=\"font-family: 'Open Sans', verdana, arial, sans-serif; font-size: 12px; fill: rgb(42, 63, 95); fill-opacity: 1; white-space: pre;\">state=OR</text></g></g></g><g class=\"annotation\" data-index=\"8\" style=\"opacity: 1;\"><g class=\"annotation-text-g\" transform=\"rotate(0,199.2625,89.50000000000007)\"><g class=\"cursor-pointer\" transform=\"translate(172,79)\"><rect class=\"bg\" x=\"0.5\" y=\"0.5\" width=\"53\" height=\"20\" style=\"stroke-width: 1px; stroke: rgb(0, 0, 0); stroke-opacity: 0; fill: rgb(0, 0, 0); fill-opacity: 0;\"/><text class=\"annotation-text\" text-anchor=\"middle\" x=\"26.828125\" y=\"15\" style=\"font-family: 'Open Sans', verdana, arial, sans-serif; font-size: 12px; fill: rgb(42, 63, 95); fill-opacity: 1; white-space: pre;\">state=CA</text></g></g></g><g class=\"annotation\" data-index=\"9\" style=\"opacity: 1;\"><g class=\"annotation-text-g\" transform=\"rotate(0,458.0875,89.50000000000007)\"><g class=\"cursor-pointer\" transform=\"translate(431,79)\"><rect class=\"bg\" x=\"0.5\" y=\"0.5\" width=\"54\" height=\"20\" style=\"stroke-width: 1px; stroke: rgb(0, 0, 0); stroke-opacity: 0; fill: rgb(0, 0, 0); fill-opacity: 0;\"/><text class=\"annotation-text\" text-anchor=\"middle\" x=\"27.703125\" y=\"15\" style=\"font-family: 'Open Sans', verdana, arial, sans-serif; font-size: 12px; fill: rgb(42, 63, 95); fill-opacity: 1; white-space: pre;\">state=CO</text></g></g></g><g class=\"annotation\" data-index=\"10\" style=\"opacity: 1;\"><g class=\"annotation-text-g\" transform=\"rotate(0,716.9124999999999,89.50000000000007)\"><g class=\"cursor-pointer\" transform=\"translate(691,79)\"><rect class=\"bg\" x=\"0.5\" y=\"0.5\" width=\"50\" height=\"20\" style=\"stroke-width: 1px; stroke: rgb(0, 0, 0); stroke-opacity: 0; fill: rgb(0, 0, 0); fill-opacity: 0;\"/><text class=\"annotation-text\" text-anchor=\"middle\" x=\"25.28125\" y=\"15\" style=\"font-family: 'Open Sans', verdana, arial, sans-serif; font-size: 12px; fill: rgb(42, 63, 95); fill-opacity: 1; white-space: pre;\">state=ID</text></g></g></g><g class=\"annotation\" data-index=\"11\" style=\"opacity: 1;\"><g class=\"annotation-text-g\" transform=\"rotate(0,975.7374999999998,89.50000000000007)\"><g class=\"cursor-pointer\" transform=\"translate(951,79)\"><rect class=\"bg\" x=\"0.5\" y=\"0.5\" width=\"48\" height=\"20\" style=\"stroke-width: 1px; stroke: rgb(0, 0, 0); stroke-opacity: 0; fill: rgb(0, 0, 0); fill-opacity: 0;\"/><text class=\"annotation-text\" text-anchor=\"middle\" x=\"24.03125\" y=\"15\" style=\"font-family: 'Open Sans', verdana, arial, sans-serif; font-size: 12px; fill: rgb(42, 63, 95); fill-opacity: 1; white-space: pre;\">state=IL</text></g></g></g></g></svg>"
     },
     "metadata": {},
     "output_type": "display_data"
    }
   ],
   "source": [
    "fig = px.line(df.query(\"state in @select_states\"),\n",
    "    x = 'month_num',\n",
    "    y = 'med_dom',\n",
    "    color = 'year',\n",
    "    facet_col = 'state',\n",
    "    facet_col_wrap = 4,\n",
    "    title = 'Median Days on Market over Time by State',\n",
    "    color_discrete_sequence=px.colors.sequential.Inferno\n",
    "    )\n",
    "fig.update_yaxes(matches = None)\n",
    "fig.update_layout(height = 800, width = 1200)\n",
    "fig.show(renderer = 'svg')"
   ]
  },
  {
   "cell_type": "markdown",
   "metadata": {},
   "source": [
    "### Median List Prices"
   ]
  },
  {
   "cell_type": "code",
   "execution_count": 43,
   "metadata": {},
   "outputs": [
    {
     "data": {
      "image/svg+xml": "<svg class=\"main-svg\" xmlns=\"http://www.w3.org/2000/svg\" xmlns:xlink=\"http://www.w3.org/1999/xlink\" width=\"1200\" height=\"800\" style=\"\" viewBox=\"0 0 1200 800\"><rect x=\"0\" y=\"0\" width=\"1200\" height=\"800\" style=\"fill: rgb(255, 255, 255); fill-opacity: 1;\"/><defs id=\"defs-06b9ce\"><g class=\"clips\"><clipPath id=\"clip06b9cexyplot\" class=\"plotclip\"><rect width=\"238.52499999999998\" height=\"177.73333333333332\"/></clipPath><clipPath id=\"clip06b9cex2y2plot\" class=\"plotclip\"><rect width=\"238.52499999999998\" height=\"177.73333333333332\"/></clipPath><clipPath id=\"clip06b9cex3y3plot\" class=\"plotclip\"><rect width=\"238.52499999999998\" height=\"177.73333333333332\"/></clipPath><clipPath id=\"clip06b9cex4y4plot\" class=\"plotclip\"><rect width=\"238.52499999999998\" height=\"177.73333333333332\"/></clipPath><clipPath id=\"clip06b9cex5y5plot\" class=\"plotclip\"><rect width=\"238.52499999999998\" height=\"177.73333333333335\"/></clipPath><clipPath id=\"clip06b9cex6y6plot\" class=\"plotclip\"><rect width=\"238.52499999999998\" height=\"177.73333333333335\"/></clipPath><clipPath id=\"clip06b9cex7y7plot\" class=\"plotclip\"><rect width=\"238.52499999999998\" height=\"177.73333333333335\"/></clipPath><clipPath id=\"clip06b9cex8y8plot\" class=\"plotclip\"><rect width=\"238.52499999999998\" height=\"177.73333333333335\"/></clipPath><clipPath id=\"clip06b9cex9y9plot\" class=\"plotclip\"><rect width=\"238.52499999999998\" height=\"177.73333333333332\"/></clipPath><clipPath id=\"clip06b9cex10y10plot\" class=\"plotclip\"><rect width=\"238.52499999999998\" height=\"177.73333333333332\"/></clipPath><clipPath id=\"clip06b9cex11y11plot\" class=\"plotclip\"><rect width=\"238.52499999999998\" height=\"177.73333333333332\"/></clipPath><clipPath id=\"clip06b9cex12y12plot\" class=\"plotclip\"><rect width=\"238.52499999999998\" height=\"177.73333333333332\"/></clipPath><clipPath class=\"axesclip\" id=\"clip06b9cex\"><rect x=\"80\" y=\"0\" width=\"238.52499999999998\" height=\"800\"/></clipPath><clipPath class=\"axesclip\" id=\"clip06b9cey\"><rect x=\"0\" y=\"542.2666666666667\" width=\"1200\" height=\"177.73333333333332\"/></clipPath><clipPath class=\"axesclip\" id=\"clip06b9cexy\"><rect x=\"80\" y=\"542.2666666666667\" width=\"238.52499999999998\" height=\"177.73333333333332\"/></clipPath><clipPath class=\"axesclip\" id=\"clip06b9cey2\"><rect x=\"0\" y=\"542.2666666666667\" width=\"1200\" height=\"177.73333333333332\"/></clipPath><clipPath class=\"axesclip\" id=\"clip06b9cexy2\"><rect x=\"80\" y=\"542.2666666666667\" width=\"238.52499999999998\" height=\"177.73333333333332\"/></clipPath><clipPath class=\"axesclip\" id=\"clip06b9cey3\"><rect x=\"0\" y=\"542.2666666666667\" width=\"1200\" height=\"177.73333333333332\"/></clipPath><clipPath class=\"axesclip\" id=\"clip06b9cexy3\"><rect x=\"80\" y=\"542.2666666666667\" width=\"238.52499999999998\" height=\"177.73333333333332\"/></clipPath><clipPath class=\"axesclip\" id=\"clip06b9cey4\"><rect x=\"0\" y=\"542.2666666666667\" width=\"1200\" height=\"177.73333333333332\"/></clipPath><clipPath class=\"axesclip\" id=\"clip06b9cexy4\"><rect x=\"80\" y=\"542.2666666666667\" width=\"238.52499999999998\" height=\"177.73333333333332\"/></clipPath><clipPath class=\"axesclip\" id=\"clip06b9cey5\"><rect x=\"0\" y=\"321.1333333333333\" width=\"1200\" height=\"177.73333333333335\"/></clipPath><clipPath class=\"axesclip\" id=\"clip06b9cexy5\"><rect x=\"80\" y=\"321.1333333333333\" width=\"238.52499999999998\" height=\"177.73333333333335\"/></clipPath><clipPath class=\"axesclip\" id=\"clip06b9cey6\"><rect x=\"0\" y=\"321.1333333333333\" width=\"1200\" height=\"177.73333333333335\"/></clipPath><clipPath class=\"axesclip\" id=\"clip06b9cexy6\"><rect x=\"80\" y=\"321.1333333333333\" width=\"238.52499999999998\" height=\"177.73333333333335\"/></clipPath><clipPath class=\"axesclip\" id=\"clip06b9cey7\"><rect x=\"0\" y=\"321.1333333333333\" width=\"1200\" height=\"177.73333333333335\"/></clipPath><clipPath class=\"axesclip\" id=\"clip06b9cexy7\"><rect x=\"80\" y=\"321.1333333333333\" width=\"238.52499999999998\" height=\"177.73333333333335\"/></clipPath><clipPath class=\"axesclip\" id=\"clip06b9cey8\"><rect x=\"0\" y=\"321.1333333333333\" width=\"1200\" height=\"177.73333333333335\"/></clipPath><clipPath class=\"axesclip\" id=\"clip06b9cexy8\"><rect x=\"80\" y=\"321.1333333333333\" width=\"238.52499999999998\" height=\"177.73333333333335\"/></clipPath><clipPath class=\"axesclip\" id=\"clip06b9cey9\"><rect x=\"0\" y=\"100.00000000000007\" width=\"1200\" height=\"177.73333333333332\"/></clipPath><clipPath class=\"axesclip\" id=\"clip06b9cexy9\"><rect x=\"80\" y=\"100.00000000000007\" width=\"238.52499999999998\" height=\"177.73333333333332\"/></clipPath><clipPath class=\"axesclip\" id=\"clip06b9cey10\"><rect x=\"0\" y=\"100.00000000000007\" width=\"1200\" height=\"177.73333333333332\"/></clipPath><clipPath class=\"axesclip\" id=\"clip06b9cexy10\"><rect x=\"80\" y=\"100.00000000000007\" width=\"238.52499999999998\" height=\"177.73333333333332\"/></clipPath><clipPath class=\"axesclip\" id=\"clip06b9cey11\"><rect x=\"0\" y=\"100.00000000000007\" width=\"1200\" height=\"177.73333333333332\"/></clipPath><clipPath class=\"axesclip\" id=\"clip06b9cexy11\"><rect x=\"80\" y=\"100.00000000000007\" width=\"238.52499999999998\" height=\"177.73333333333332\"/></clipPath><clipPath class=\"axesclip\" id=\"clip06b9cey12\"><rect x=\"0\" y=\"100.00000000000007\" width=\"1200\" height=\"177.73333333333332\"/></clipPath><clipPath class=\"axesclip\" id=\"clip06b9cexy12\"><rect x=\"80\" y=\"100.00000000000007\" width=\"238.52499999999998\" height=\"177.73333333333332\"/></clipPath><clipPath class=\"axesclip\" id=\"clip06b9cex2\"><rect x=\"338.825\" y=\"0\" width=\"238.52499999999998\" height=\"800\"/></clipPath><clipPath class=\"axesclip\" id=\"clip06b9cex2y\"><rect x=\"338.825\" y=\"542.2666666666667\" width=\"238.52499999999998\" height=\"177.73333333333332\"/></clipPath><clipPath class=\"axesclip\" id=\"clip06b9cex2y2\"><rect x=\"338.825\" y=\"542.2666666666667\" width=\"238.52499999999998\" height=\"177.73333333333332\"/></clipPath><clipPath class=\"axesclip\" id=\"clip06b9cex2y3\"><rect x=\"338.825\" y=\"542.2666666666667\" width=\"238.52499999999998\" height=\"177.73333333333332\"/></clipPath><clipPath class=\"axesclip\" id=\"clip06b9cex2y4\"><rect x=\"338.825\" y=\"542.2666666666667\" width=\"238.52499999999998\" height=\"177.73333333333332\"/></clipPath><clipPath class=\"axesclip\" id=\"clip06b9cex2y5\"><rect x=\"338.825\" y=\"321.1333333333333\" width=\"238.52499999999998\" height=\"177.73333333333335\"/></clipPath><clipPath class=\"axesclip\" id=\"clip06b9cex2y6\"><rect x=\"338.825\" y=\"321.1333333333333\" width=\"238.52499999999998\" height=\"177.73333333333335\"/></clipPath><clipPath class=\"axesclip\" id=\"clip06b9cex2y7\"><rect x=\"338.825\" y=\"321.1333333333333\" width=\"238.52499999999998\" height=\"177.73333333333335\"/></clipPath><clipPath class=\"axesclip\" id=\"clip06b9cex2y8\"><rect x=\"338.825\" y=\"321.1333333333333\" width=\"238.52499999999998\" height=\"177.73333333333335\"/></clipPath><clipPath class=\"axesclip\" id=\"clip06b9cex2y9\"><rect x=\"338.825\" y=\"100.00000000000007\" width=\"238.52499999999998\" height=\"177.73333333333332\"/></clipPath><clipPath class=\"axesclip\" id=\"clip06b9cex2y10\"><rect x=\"338.825\" y=\"100.00000000000007\" width=\"238.52499999999998\" height=\"177.73333333333332\"/></clipPath><clipPath class=\"axesclip\" id=\"clip06b9cex2y11\"><rect x=\"338.825\" y=\"100.00000000000007\" width=\"238.52499999999998\" height=\"177.73333333333332\"/></clipPath><clipPath class=\"axesclip\" id=\"clip06b9cex2y12\"><rect x=\"338.825\" y=\"100.00000000000007\" width=\"238.52499999999998\" height=\"177.73333333333332\"/></clipPath><clipPath class=\"axesclip\" id=\"clip06b9cex3\"><rect x=\"597.65\" y=\"0\" width=\"238.52499999999998\" height=\"800\"/></clipPath><clipPath class=\"axesclip\" id=\"clip06b9cex3y\"><rect x=\"597.65\" y=\"542.2666666666667\" width=\"238.52499999999998\" height=\"177.73333333333332\"/></clipPath><clipPath class=\"axesclip\" id=\"clip06b9cex3y2\"><rect x=\"597.65\" y=\"542.2666666666667\" width=\"238.52499999999998\" height=\"177.73333333333332\"/></clipPath><clipPath class=\"axesclip\" id=\"clip06b9cex3y3\"><rect x=\"597.65\" y=\"542.2666666666667\" width=\"238.52499999999998\" height=\"177.73333333333332\"/></clipPath><clipPath class=\"axesclip\" id=\"clip06b9cex3y4\"><rect x=\"597.65\" y=\"542.2666666666667\" width=\"238.52499999999998\" height=\"177.73333333333332\"/></clipPath><clipPath class=\"axesclip\" id=\"clip06b9cex3y5\"><rect x=\"597.65\" y=\"321.1333333333333\" width=\"238.52499999999998\" height=\"177.73333333333335\"/></clipPath><clipPath class=\"axesclip\" id=\"clip06b9cex3y6\"><rect x=\"597.65\" y=\"321.1333333333333\" width=\"238.52499999999998\" height=\"177.73333333333335\"/></clipPath><clipPath class=\"axesclip\" id=\"clip06b9cex3y7\"><rect x=\"597.65\" y=\"321.1333333333333\" width=\"238.52499999999998\" height=\"177.73333333333335\"/></clipPath><clipPath class=\"axesclip\" id=\"clip06b9cex3y8\"><rect x=\"597.65\" y=\"321.1333333333333\" width=\"238.52499999999998\" height=\"177.73333333333335\"/></clipPath><clipPath class=\"axesclip\" id=\"clip06b9cex3y9\"><rect x=\"597.65\" y=\"100.00000000000007\" width=\"238.52499999999998\" height=\"177.73333333333332\"/></clipPath><clipPath class=\"axesclip\" id=\"clip06b9cex3y10\"><rect x=\"597.65\" y=\"100.00000000000007\" width=\"238.52499999999998\" height=\"177.73333333333332\"/></clipPath><clipPath class=\"axesclip\" id=\"clip06b9cex3y11\"><rect x=\"597.65\" y=\"100.00000000000007\" width=\"238.52499999999998\" height=\"177.73333333333332\"/></clipPath><clipPath class=\"axesclip\" id=\"clip06b9cex3y12\"><rect x=\"597.65\" y=\"100.00000000000007\" width=\"238.52499999999998\" height=\"177.73333333333332\"/></clipPath><clipPath class=\"axesclip\" id=\"clip06b9cex4\"><rect x=\"856.4749999999999\" y=\"0\" width=\"238.52499999999998\" height=\"800\"/></clipPath><clipPath class=\"axesclip\" id=\"clip06b9cex4y\"><rect x=\"856.4749999999999\" y=\"542.2666666666667\" width=\"238.52499999999998\" height=\"177.73333333333332\"/></clipPath><clipPath class=\"axesclip\" id=\"clip06b9cex4y2\"><rect x=\"856.4749999999999\" y=\"542.2666666666667\" width=\"238.52499999999998\" height=\"177.73333333333332\"/></clipPath><clipPath class=\"axesclip\" id=\"clip06b9cex4y3\"><rect x=\"856.4749999999999\" y=\"542.2666666666667\" width=\"238.52499999999998\" height=\"177.73333333333332\"/></clipPath><clipPath class=\"axesclip\" id=\"clip06b9cex4y4\"><rect x=\"856.4749999999999\" y=\"542.2666666666667\" width=\"238.52499999999998\" height=\"177.73333333333332\"/></clipPath><clipPath class=\"axesclip\" id=\"clip06b9cex4y5\"><rect x=\"856.4749999999999\" y=\"321.1333333333333\" width=\"238.52499999999998\" height=\"177.73333333333335\"/></clipPath><clipPath class=\"axesclip\" id=\"clip06b9cex4y6\"><rect x=\"856.4749999999999\" y=\"321.1333333333333\" width=\"238.52499999999998\" height=\"177.73333333333335\"/></clipPath><clipPath class=\"axesclip\" id=\"clip06b9cex4y7\"><rect x=\"856.4749999999999\" y=\"321.1333333333333\" width=\"238.52499999999998\" height=\"177.73333333333335\"/></clipPath><clipPath class=\"axesclip\" id=\"clip06b9cex4y8\"><rect x=\"856.4749999999999\" y=\"321.1333333333333\" width=\"238.52499999999998\" height=\"177.73333333333335\"/></clipPath><clipPath class=\"axesclip\" id=\"clip06b9cex4y9\"><rect x=\"856.4749999999999\" y=\"100.00000000000007\" width=\"238.52499999999998\" height=\"177.73333333333332\"/></clipPath><clipPath class=\"axesclip\" id=\"clip06b9cex4y10\"><rect x=\"856.4749999999999\" y=\"100.00000000000007\" width=\"238.52499999999998\" height=\"177.73333333333332\"/></clipPath><clipPath class=\"axesclip\" id=\"clip06b9cex4y11\"><rect x=\"856.4749999999999\" y=\"100.00000000000007\" width=\"238.52499999999998\" height=\"177.73333333333332\"/></clipPath><clipPath class=\"axesclip\" id=\"clip06b9cex4y12\"><rect x=\"856.4749999999999\" y=\"100.00000000000007\" width=\"238.52499999999998\" height=\"177.73333333333332\"/></clipPath><clipPath class=\"axesclip\" id=\"clip06b9cex5\"><rect x=\"80\" y=\"0\" width=\"238.52499999999998\" height=\"800\"/></clipPath><clipPath class=\"axesclip\" id=\"clip06b9cex5y\"><rect x=\"80\" y=\"542.2666666666667\" width=\"238.52499999999998\" height=\"177.73333333333332\"/></clipPath><clipPath class=\"axesclip\" id=\"clip06b9cex5y2\"><rect x=\"80\" y=\"542.2666666666667\" width=\"238.52499999999998\" height=\"177.73333333333332\"/></clipPath><clipPath class=\"axesclip\" id=\"clip06b9cex5y3\"><rect x=\"80\" y=\"542.2666666666667\" width=\"238.52499999999998\" height=\"177.73333333333332\"/></clipPath><clipPath class=\"axesclip\" id=\"clip06b9cex5y4\"><rect x=\"80\" y=\"542.2666666666667\" width=\"238.52499999999998\" height=\"177.73333333333332\"/></clipPath><clipPath class=\"axesclip\" id=\"clip06b9cex5y5\"><rect x=\"80\" y=\"321.1333333333333\" width=\"238.52499999999998\" height=\"177.73333333333335\"/></clipPath><clipPath class=\"axesclip\" id=\"clip06b9cex5y6\"><rect x=\"80\" y=\"321.1333333333333\" width=\"238.52499999999998\" height=\"177.73333333333335\"/></clipPath><clipPath class=\"axesclip\" id=\"clip06b9cex5y7\"><rect x=\"80\" y=\"321.1333333333333\" width=\"238.52499999999998\" height=\"177.73333333333335\"/></clipPath><clipPath class=\"axesclip\" id=\"clip06b9cex5y8\"><rect x=\"80\" y=\"321.1333333333333\" width=\"238.52499999999998\" height=\"177.73333333333335\"/></clipPath><clipPath class=\"axesclip\" id=\"clip06b9cex5y9\"><rect x=\"80\" y=\"100.00000000000007\" width=\"238.52499999999998\" height=\"177.73333333333332\"/></clipPath><clipPath class=\"axesclip\" id=\"clip06b9cex5y10\"><rect x=\"80\" y=\"100.00000000000007\" width=\"238.52499999999998\" height=\"177.73333333333332\"/></clipPath><clipPath class=\"axesclip\" id=\"clip06b9cex5y11\"><rect x=\"80\" y=\"100.00000000000007\" width=\"238.52499999999998\" height=\"177.73333333333332\"/></clipPath><clipPath class=\"axesclip\" id=\"clip06b9cex5y12\"><rect x=\"80\" y=\"100.00000000000007\" width=\"238.52499999999998\" height=\"177.73333333333332\"/></clipPath><clipPath class=\"axesclip\" id=\"clip06b9cex6\"><rect x=\"338.825\" y=\"0\" width=\"238.52499999999998\" height=\"800\"/></clipPath><clipPath class=\"axesclip\" id=\"clip06b9cex6y\"><rect x=\"338.825\" y=\"542.2666666666667\" width=\"238.52499999999998\" height=\"177.73333333333332\"/></clipPath><clipPath class=\"axesclip\" id=\"clip06b9cex6y2\"><rect x=\"338.825\" y=\"542.2666666666667\" width=\"238.52499999999998\" height=\"177.73333333333332\"/></clipPath><clipPath class=\"axesclip\" id=\"clip06b9cex6y3\"><rect x=\"338.825\" y=\"542.2666666666667\" width=\"238.52499999999998\" height=\"177.73333333333332\"/></clipPath><clipPath class=\"axesclip\" id=\"clip06b9cex6y4\"><rect x=\"338.825\" y=\"542.2666666666667\" width=\"238.52499999999998\" height=\"177.73333333333332\"/></clipPath><clipPath class=\"axesclip\" id=\"clip06b9cex6y5\"><rect x=\"338.825\" y=\"321.1333333333333\" width=\"238.52499999999998\" height=\"177.73333333333335\"/></clipPath><clipPath class=\"axesclip\" id=\"clip06b9cex6y6\"><rect x=\"338.825\" y=\"321.1333333333333\" width=\"238.52499999999998\" height=\"177.73333333333335\"/></clipPath><clipPath class=\"axesclip\" id=\"clip06b9cex6y7\"><rect x=\"338.825\" y=\"321.1333333333333\" width=\"238.52499999999998\" height=\"177.73333333333335\"/></clipPath><clipPath class=\"axesclip\" id=\"clip06b9cex6y8\"><rect x=\"338.825\" y=\"321.1333333333333\" width=\"238.52499999999998\" height=\"177.73333333333335\"/></clipPath><clipPath class=\"axesclip\" id=\"clip06b9cex6y9\"><rect x=\"338.825\" y=\"100.00000000000007\" width=\"238.52499999999998\" height=\"177.73333333333332\"/></clipPath><clipPath class=\"axesclip\" id=\"clip06b9cex6y10\"><rect x=\"338.825\" y=\"100.00000000000007\" width=\"238.52499999999998\" height=\"177.73333333333332\"/></clipPath><clipPath class=\"axesclip\" id=\"clip06b9cex6y11\"><rect x=\"338.825\" y=\"100.00000000000007\" width=\"238.52499999999998\" height=\"177.73333333333332\"/></clipPath><clipPath class=\"axesclip\" id=\"clip06b9cex6y12\"><rect x=\"338.825\" y=\"100.00000000000007\" width=\"238.52499999999998\" height=\"177.73333333333332\"/></clipPath><clipPath class=\"axesclip\" id=\"clip06b9cex7\"><rect x=\"597.65\" y=\"0\" width=\"238.52499999999998\" height=\"800\"/></clipPath><clipPath class=\"axesclip\" id=\"clip06b9cex7y\"><rect x=\"597.65\" y=\"542.2666666666667\" width=\"238.52499999999998\" height=\"177.73333333333332\"/></clipPath><clipPath class=\"axesclip\" id=\"clip06b9cex7y2\"><rect x=\"597.65\" y=\"542.2666666666667\" width=\"238.52499999999998\" height=\"177.73333333333332\"/></clipPath><clipPath class=\"axesclip\" id=\"clip06b9cex7y3\"><rect x=\"597.65\" y=\"542.2666666666667\" width=\"238.52499999999998\" height=\"177.73333333333332\"/></clipPath><clipPath class=\"axesclip\" id=\"clip06b9cex7y4\"><rect x=\"597.65\" y=\"542.2666666666667\" width=\"238.52499999999998\" height=\"177.73333333333332\"/></clipPath><clipPath class=\"axesclip\" id=\"clip06b9cex7y5\"><rect x=\"597.65\" y=\"321.1333333333333\" width=\"238.52499999999998\" height=\"177.73333333333335\"/></clipPath><clipPath class=\"axesclip\" id=\"clip06b9cex7y6\"><rect x=\"597.65\" y=\"321.1333333333333\" width=\"238.52499999999998\" height=\"177.73333333333335\"/></clipPath><clipPath class=\"axesclip\" id=\"clip06b9cex7y7\"><rect x=\"597.65\" y=\"321.1333333333333\" width=\"238.52499999999998\" height=\"177.73333333333335\"/></clipPath><clipPath class=\"axesclip\" id=\"clip06b9cex7y8\"><rect x=\"597.65\" y=\"321.1333333333333\" width=\"238.52499999999998\" height=\"177.73333333333335\"/></clipPath><clipPath class=\"axesclip\" id=\"clip06b9cex7y9\"><rect x=\"597.65\" y=\"100.00000000000007\" width=\"238.52499999999998\" height=\"177.73333333333332\"/></clipPath><clipPath class=\"axesclip\" id=\"clip06b9cex7y10\"><rect x=\"597.65\" y=\"100.00000000000007\" width=\"238.52499999999998\" height=\"177.73333333333332\"/></clipPath><clipPath class=\"axesclip\" id=\"clip06b9cex7y11\"><rect x=\"597.65\" y=\"100.00000000000007\" width=\"238.52499999999998\" height=\"177.73333333333332\"/></clipPath><clipPath class=\"axesclip\" id=\"clip06b9cex7y12\"><rect x=\"597.65\" y=\"100.00000000000007\" width=\"238.52499999999998\" height=\"177.73333333333332\"/></clipPath><clipPath class=\"axesclip\" id=\"clip06b9cex8\"><rect x=\"856.4749999999999\" y=\"0\" width=\"238.52499999999998\" height=\"800\"/></clipPath><clipPath class=\"axesclip\" id=\"clip06b9cex8y\"><rect x=\"856.4749999999999\" y=\"542.2666666666667\" width=\"238.52499999999998\" height=\"177.73333333333332\"/></clipPath><clipPath class=\"axesclip\" id=\"clip06b9cex8y2\"><rect x=\"856.4749999999999\" y=\"542.2666666666667\" width=\"238.52499999999998\" height=\"177.73333333333332\"/></clipPath><clipPath class=\"axesclip\" id=\"clip06b9cex8y3\"><rect x=\"856.4749999999999\" y=\"542.2666666666667\" width=\"238.52499999999998\" height=\"177.73333333333332\"/></clipPath><clipPath class=\"axesclip\" id=\"clip06b9cex8y4\"><rect x=\"856.4749999999999\" y=\"542.2666666666667\" width=\"238.52499999999998\" height=\"177.73333333333332\"/></clipPath><clipPath class=\"axesclip\" id=\"clip06b9cex8y5\"><rect x=\"856.4749999999999\" y=\"321.1333333333333\" width=\"238.52499999999998\" height=\"177.73333333333335\"/></clipPath><clipPath class=\"axesclip\" id=\"clip06b9cex8y6\"><rect x=\"856.4749999999999\" y=\"321.1333333333333\" width=\"238.52499999999998\" height=\"177.73333333333335\"/></clipPath><clipPath class=\"axesclip\" id=\"clip06b9cex8y7\"><rect x=\"856.4749999999999\" y=\"321.1333333333333\" width=\"238.52499999999998\" height=\"177.73333333333335\"/></clipPath><clipPath class=\"axesclip\" id=\"clip06b9cex8y8\"><rect x=\"856.4749999999999\" y=\"321.1333333333333\" width=\"238.52499999999998\" height=\"177.73333333333335\"/></clipPath><clipPath class=\"axesclip\" id=\"clip06b9cex8y9\"><rect x=\"856.4749999999999\" y=\"100.00000000000007\" width=\"238.52499999999998\" height=\"177.73333333333332\"/></clipPath><clipPath class=\"axesclip\" id=\"clip06b9cex8y10\"><rect x=\"856.4749999999999\" y=\"100.00000000000007\" width=\"238.52499999999998\" height=\"177.73333333333332\"/></clipPath><clipPath class=\"axesclip\" id=\"clip06b9cex8y11\"><rect x=\"856.4749999999999\" y=\"100.00000000000007\" width=\"238.52499999999998\" height=\"177.73333333333332\"/></clipPath><clipPath class=\"axesclip\" id=\"clip06b9cex8y12\"><rect x=\"856.4749999999999\" y=\"100.00000000000007\" width=\"238.52499999999998\" height=\"177.73333333333332\"/></clipPath><clipPath class=\"axesclip\" id=\"clip06b9cex9\"><rect x=\"80\" y=\"0\" width=\"238.52499999999998\" height=\"800\"/></clipPath><clipPath class=\"axesclip\" id=\"clip06b9cex9y\"><rect x=\"80\" y=\"542.2666666666667\" width=\"238.52499999999998\" height=\"177.73333333333332\"/></clipPath><clipPath class=\"axesclip\" id=\"clip06b9cex9y2\"><rect x=\"80\" y=\"542.2666666666667\" width=\"238.52499999999998\" height=\"177.73333333333332\"/></clipPath><clipPath class=\"axesclip\" id=\"clip06b9cex9y3\"><rect x=\"80\" y=\"542.2666666666667\" width=\"238.52499999999998\" height=\"177.73333333333332\"/></clipPath><clipPath class=\"axesclip\" id=\"clip06b9cex9y4\"><rect x=\"80\" y=\"542.2666666666667\" width=\"238.52499999999998\" height=\"177.73333333333332\"/></clipPath><clipPath class=\"axesclip\" id=\"clip06b9cex9y5\"><rect x=\"80\" y=\"321.1333333333333\" width=\"238.52499999999998\" height=\"177.73333333333335\"/></clipPath><clipPath class=\"axesclip\" id=\"clip06b9cex9y6\"><rect x=\"80\" y=\"321.1333333333333\" width=\"238.52499999999998\" height=\"177.73333333333335\"/></clipPath><clipPath class=\"axesclip\" id=\"clip06b9cex9y7\"><rect x=\"80\" y=\"321.1333333333333\" width=\"238.52499999999998\" height=\"177.73333333333335\"/></clipPath><clipPath class=\"axesclip\" id=\"clip06b9cex9y8\"><rect x=\"80\" y=\"321.1333333333333\" width=\"238.52499999999998\" height=\"177.73333333333335\"/></clipPath><clipPath class=\"axesclip\" id=\"clip06b9cex9y9\"><rect x=\"80\" y=\"100.00000000000007\" width=\"238.52499999999998\" height=\"177.73333333333332\"/></clipPath><clipPath class=\"axesclip\" id=\"clip06b9cex9y10\"><rect x=\"80\" y=\"100.00000000000007\" width=\"238.52499999999998\" height=\"177.73333333333332\"/></clipPath><clipPath class=\"axesclip\" id=\"clip06b9cex9y11\"><rect x=\"80\" y=\"100.00000000000007\" width=\"238.52499999999998\" height=\"177.73333333333332\"/></clipPath><clipPath class=\"axesclip\" id=\"clip06b9cex9y12\"><rect x=\"80\" y=\"100.00000000000007\" width=\"238.52499999999998\" height=\"177.73333333333332\"/></clipPath><clipPath class=\"axesclip\" id=\"clip06b9cex10\"><rect x=\"338.825\" y=\"0\" width=\"238.52499999999998\" height=\"800\"/></clipPath><clipPath class=\"axesclip\" id=\"clip06b9cex10y\"><rect x=\"338.825\" y=\"542.2666666666667\" width=\"238.52499999999998\" height=\"177.73333333333332\"/></clipPath><clipPath class=\"axesclip\" id=\"clip06b9cex10y2\"><rect x=\"338.825\" y=\"542.2666666666667\" width=\"238.52499999999998\" height=\"177.73333333333332\"/></clipPath><clipPath class=\"axesclip\" id=\"clip06b9cex10y3\"><rect x=\"338.825\" y=\"542.2666666666667\" width=\"238.52499999999998\" height=\"177.73333333333332\"/></clipPath><clipPath class=\"axesclip\" id=\"clip06b9cex10y4\"><rect x=\"338.825\" y=\"542.2666666666667\" width=\"238.52499999999998\" height=\"177.73333333333332\"/></clipPath><clipPath class=\"axesclip\" id=\"clip06b9cex10y5\"><rect x=\"338.825\" y=\"321.1333333333333\" width=\"238.52499999999998\" height=\"177.73333333333335\"/></clipPath><clipPath class=\"axesclip\" id=\"clip06b9cex10y6\"><rect x=\"338.825\" y=\"321.1333333333333\" width=\"238.52499999999998\" height=\"177.73333333333335\"/></clipPath><clipPath class=\"axesclip\" id=\"clip06b9cex10y7\"><rect x=\"338.825\" y=\"321.1333333333333\" width=\"238.52499999999998\" height=\"177.73333333333335\"/></clipPath><clipPath class=\"axesclip\" id=\"clip06b9cex10y8\"><rect x=\"338.825\" y=\"321.1333333333333\" width=\"238.52499999999998\" height=\"177.73333333333335\"/></clipPath><clipPath class=\"axesclip\" id=\"clip06b9cex10y9\"><rect x=\"338.825\" y=\"100.00000000000007\" width=\"238.52499999999998\" height=\"177.73333333333332\"/></clipPath><clipPath class=\"axesclip\" id=\"clip06b9cex10y10\"><rect x=\"338.825\" y=\"100.00000000000007\" width=\"238.52499999999998\" height=\"177.73333333333332\"/></clipPath><clipPath class=\"axesclip\" id=\"clip06b9cex10y11\"><rect x=\"338.825\" y=\"100.00000000000007\" width=\"238.52499999999998\" height=\"177.73333333333332\"/></clipPath><clipPath class=\"axesclip\" id=\"clip06b9cex10y12\"><rect x=\"338.825\" y=\"100.00000000000007\" width=\"238.52499999999998\" height=\"177.73333333333332\"/></clipPath><clipPath class=\"axesclip\" id=\"clip06b9cex11\"><rect x=\"597.65\" y=\"0\" width=\"238.52499999999998\" height=\"800\"/></clipPath><clipPath class=\"axesclip\" id=\"clip06b9cex11y\"><rect x=\"597.65\" y=\"542.2666666666667\" width=\"238.52499999999998\" height=\"177.73333333333332\"/></clipPath><clipPath class=\"axesclip\" id=\"clip06b9cex11y2\"><rect x=\"597.65\" y=\"542.2666666666667\" width=\"238.52499999999998\" height=\"177.73333333333332\"/></clipPath><clipPath class=\"axesclip\" id=\"clip06b9cex11y3\"><rect x=\"597.65\" y=\"542.2666666666667\" width=\"238.52499999999998\" height=\"177.73333333333332\"/></clipPath><clipPath class=\"axesclip\" id=\"clip06b9cex11y4\"><rect x=\"597.65\" y=\"542.2666666666667\" width=\"238.52499999999998\" height=\"177.73333333333332\"/></clipPath><clipPath class=\"axesclip\" id=\"clip06b9cex11y5\"><rect x=\"597.65\" y=\"321.1333333333333\" width=\"238.52499999999998\" height=\"177.73333333333335\"/></clipPath><clipPath class=\"axesclip\" id=\"clip06b9cex11y6\"><rect x=\"597.65\" y=\"321.1333333333333\" width=\"238.52499999999998\" height=\"177.73333333333335\"/></clipPath><clipPath class=\"axesclip\" id=\"clip06b9cex11y7\"><rect x=\"597.65\" y=\"321.1333333333333\" width=\"238.52499999999998\" height=\"177.73333333333335\"/></clipPath><clipPath class=\"axesclip\" id=\"clip06b9cex11y8\"><rect x=\"597.65\" y=\"321.1333333333333\" width=\"238.52499999999998\" height=\"177.73333333333335\"/></clipPath><clipPath class=\"axesclip\" id=\"clip06b9cex11y9\"><rect x=\"597.65\" y=\"100.00000000000007\" width=\"238.52499999999998\" height=\"177.73333333333332\"/></clipPath><clipPath class=\"axesclip\" id=\"clip06b9cex11y10\"><rect x=\"597.65\" y=\"100.00000000000007\" width=\"238.52499999999998\" height=\"177.73333333333332\"/></clipPath><clipPath class=\"axesclip\" id=\"clip06b9cex11y11\"><rect x=\"597.65\" y=\"100.00000000000007\" width=\"238.52499999999998\" height=\"177.73333333333332\"/></clipPath><clipPath class=\"axesclip\" id=\"clip06b9cex11y12\"><rect x=\"597.65\" y=\"100.00000000000007\" width=\"238.52499999999998\" height=\"177.73333333333332\"/></clipPath><clipPath class=\"axesclip\" id=\"clip06b9cex12\"><rect x=\"856.4749999999999\" y=\"0\" width=\"238.52499999999998\" height=\"800\"/></clipPath><clipPath class=\"axesclip\" id=\"clip06b9cex12y\"><rect x=\"856.4749999999999\" y=\"542.2666666666667\" width=\"238.52499999999998\" height=\"177.73333333333332\"/></clipPath><clipPath class=\"axesclip\" id=\"clip06b9cex12y2\"><rect x=\"856.4749999999999\" y=\"542.2666666666667\" width=\"238.52499999999998\" height=\"177.73333333333332\"/></clipPath><clipPath class=\"axesclip\" id=\"clip06b9cex12y3\"><rect x=\"856.4749999999999\" y=\"542.2666666666667\" width=\"238.52499999999998\" height=\"177.73333333333332\"/></clipPath><clipPath class=\"axesclip\" id=\"clip06b9cex12y4\"><rect x=\"856.4749999999999\" y=\"542.2666666666667\" width=\"238.52499999999998\" height=\"177.73333333333332\"/></clipPath><clipPath class=\"axesclip\" id=\"clip06b9cex12y5\"><rect x=\"856.4749999999999\" y=\"321.1333333333333\" width=\"238.52499999999998\" height=\"177.73333333333335\"/></clipPath><clipPath class=\"axesclip\" id=\"clip06b9cex12y6\"><rect x=\"856.4749999999999\" y=\"321.1333333333333\" width=\"238.52499999999998\" height=\"177.73333333333335\"/></clipPath><clipPath class=\"axesclip\" id=\"clip06b9cex12y7\"><rect x=\"856.4749999999999\" y=\"321.1333333333333\" width=\"238.52499999999998\" height=\"177.73333333333335\"/></clipPath><clipPath class=\"axesclip\" id=\"clip06b9cex12y8\"><rect x=\"856.4749999999999\" y=\"321.1333333333333\" width=\"238.52499999999998\" height=\"177.73333333333335\"/></clipPath><clipPath class=\"axesclip\" id=\"clip06b9cex12y9\"><rect x=\"856.4749999999999\" y=\"100.00000000000007\" width=\"238.52499999999998\" height=\"177.73333333333332\"/></clipPath><clipPath class=\"axesclip\" id=\"clip06b9cex12y10\"><rect x=\"856.4749999999999\" y=\"100.00000000000007\" width=\"238.52499999999998\" height=\"177.73333333333332\"/></clipPath><clipPath class=\"axesclip\" id=\"clip06b9cex12y11\"><rect x=\"856.4749999999999\" y=\"100.00000000000007\" width=\"238.52499999999998\" height=\"177.73333333333332\"/></clipPath><clipPath class=\"axesclip\" id=\"clip06b9cex12y12\"><rect x=\"856.4749999999999\" y=\"100.00000000000007\" width=\"238.52499999999998\" height=\"177.73333333333332\"/></clipPath></g><g class=\"gradients\"/><g class=\"patterns\"/></defs><g class=\"bglayer\"><rect class=\"bg\" x=\"80\" y=\"542.2666666666667\" width=\"238.52499999999998\" height=\"177.73333333333332\" style=\"fill: rgb(229, 236, 246); fill-opacity: 1; stroke-width: 0;\"/><rect class=\"bg\" x=\"338.825\" y=\"542.2666666666667\" width=\"238.52499999999998\" height=\"177.73333333333332\" style=\"fill: rgb(229, 236, 246); fill-opacity: 1; stroke-width: 0;\"/><rect class=\"bg\" x=\"597.65\" y=\"542.2666666666667\" width=\"238.52499999999998\" height=\"177.73333333333332\" style=\"fill: rgb(229, 236, 246); fill-opacity: 1; stroke-width: 0;\"/><rect class=\"bg\" x=\"856.4749999999999\" y=\"542.2666666666667\" width=\"238.52499999999998\" height=\"177.73333333333332\" style=\"fill: rgb(229, 236, 246); fill-opacity: 1; stroke-width: 0;\"/><rect class=\"bg\" x=\"80\" y=\"321.1333333333333\" width=\"238.52499999999998\" height=\"177.73333333333335\" style=\"fill: rgb(229, 236, 246); fill-opacity: 1; stroke-width: 0;\"/><rect class=\"bg\" x=\"338.825\" y=\"321.1333333333333\" width=\"238.52499999999998\" height=\"177.73333333333335\" style=\"fill: rgb(229, 236, 246); fill-opacity: 1; stroke-width: 0;\"/><rect class=\"bg\" x=\"597.65\" y=\"321.1333333333333\" width=\"238.52499999999998\" height=\"177.73333333333335\" style=\"fill: rgb(229, 236, 246); fill-opacity: 1; stroke-width: 0;\"/><rect class=\"bg\" x=\"856.4749999999999\" y=\"321.1333333333333\" width=\"238.52499999999998\" height=\"177.73333333333335\" style=\"fill: rgb(229, 236, 246); fill-opacity: 1; stroke-width: 0;\"/><rect class=\"bg\" x=\"80\" y=\"100.00000000000007\" width=\"238.52499999999998\" height=\"177.73333333333332\" style=\"fill: rgb(229, 236, 246); fill-opacity: 1; stroke-width: 0;\"/><rect class=\"bg\" x=\"338.825\" y=\"100.00000000000007\" width=\"238.52499999999998\" height=\"177.73333333333332\" style=\"fill: rgb(229, 236, 246); fill-opacity: 1; stroke-width: 0;\"/><rect class=\"bg\" x=\"597.65\" y=\"100.00000000000007\" width=\"238.52499999999998\" height=\"177.73333333333332\" style=\"fill: rgb(229, 236, 246); fill-opacity: 1; stroke-width: 0;\"/><rect class=\"bg\" x=\"856.4749999999999\" y=\"100.00000000000007\" width=\"238.52499999999998\" height=\"177.73333333333332\" style=\"fill: rgb(229, 236, 246); fill-opacity: 1; stroke-width: 0;\"/></g><g class=\"layer-below\"><g class=\"imagelayer\"/><g class=\"shapelayer\"/></g><g class=\"cartesianlayer\"><g class=\"subplot xy\"><g class=\"layer-subplot\"><g class=\"shapelayer\"/><g class=\"imagelayer\"/></g><g class=\"minor-gridlayer\"><g class=\"x\"/><g class=\"y\"/></g><g class=\"gridlayer\"><g class=\"x\"><path class=\"xgrid crisp\" transform=\"translate(166.74,0)\" d=\"M0,542.2666666666667v177.73333333333332\" style=\"stroke: rgb(255, 255, 255); stroke-opacity: 1; stroke-width: 1px;\"/><path class=\"xgrid crisp\" transform=\"translate(275.15999999999997,0)\" d=\"M0,542.2666666666667v177.73333333333332\" style=\"stroke: rgb(255, 255, 255); stroke-opacity: 1; stroke-width: 1px;\"/></g><g class=\"y\"><path class=\"ygrid crisp\" transform=\"translate(0,678.3266666666666)\" d=\"M80,0h238.52499999999998\" style=\"stroke: rgb(255, 255, 255); stroke-opacity: 1; stroke-width: 1px;\"/><path class=\"ygrid crisp\" transform=\"translate(0,613.0266666666666)\" d=\"M80,0h238.52499999999998\" style=\"stroke: rgb(255, 255, 255); stroke-opacity: 1; stroke-width: 1px;\"/><path class=\"ygrid crisp\" transform=\"translate(0,547.7266666666667)\" d=\"M80,0h238.52499999999998\" style=\"stroke: rgb(255, 255, 255); stroke-opacity: 1; stroke-width: 1px;\"/></g></g><g class=\"zerolinelayer\"/><path class=\"xlines-below\"/><path class=\"ylines-below\"/><g class=\"overlines-below\"/><g class=\"xaxislayer-below\"/><g class=\"yaxislayer-below\"/><g class=\"overaxes-below\"/><g class=\"plot\" transform=\"translate(80,542.2666666666667)\" clip-path=\"url(#clip06b9cexyplot)\"><g class=\"scatterlayer mlayer\"><g class=\"trace scatter tracee41eb5\" style=\"stroke-miterlimit: 2; opacity: 1;\"><g class=\"fills\"/><g class=\"errorbars\"/><g class=\"lines\"><path class=\"js-line\" d=\"M130.1,155.79L151.79,161.53L173.47,162.19L216.84,162.32L238.52,168.72\" style=\"vector-effect: non-scaling-stroke; fill: none; stroke: rgb(0, 0, 4); stroke-opacity: 1; stroke-width: 2px; opacity: 1;\"/></g><g class=\"points\"/><g class=\"text\"/></g><g class=\"trace scatter trace144c5e\" style=\"stroke-miterlimit: 2; opacity: 1;\"><g class=\"fills\"/><g class=\"errorbars\"/><g class=\"lines\"><path class=\"js-line\" d=\"M0,168.85L21.68,166.1L43.37,155.72L65.05,149.26L86.74,138.02L108.42,136.72L130.1,137.37L151.79,142.59L173.47,142.59L195.16,137.37L216.84,141.03L238.52,149.26\" style=\"vector-effect: non-scaling-stroke; fill: none; stroke: rgb(27, 12, 65); stroke-opacity: 1; stroke-width: 2px; opacity: 1;\"/></g><g class=\"points\"/><g class=\"text\"/></g><g class=\"trace scatter tracef72acf\" style=\"stroke-miterlimit: 2; opacity: 1;\"><g class=\"fills\"/><g class=\"errorbars\"/><g class=\"lines\"><path class=\"js-line\" d=\"M0,150.43L21.68,149.19L43.37,138.68L65.05,136.13L86.74,118.5L108.42,116.47L130.1,116.57L151.79,123.07L173.47,124.31L195.16,127.58L216.84,133.45L238.52,136.2\" style=\"vector-effect: non-scaling-stroke; fill: none; stroke: rgb(74, 12, 107); stroke-opacity: 1; stroke-width: 2px; opacity: 1;\"/></g><g class=\"points\"/><g class=\"text\"/></g><g class=\"trace scatter tracec5f072\" style=\"stroke-miterlimit: 2; opacity: 1;\"><g class=\"fills\"/><g class=\"errorbars\"/><g class=\"lines\"><path class=\"js-line\" d=\"M0,138.09L21.68,136.2L43.37,124.93L65.05,110.04L86.74,101.52L108.42,98.84L130.1,103.41L216.84,103.54L238.52,111.27\" style=\"vector-effect: non-scaling-stroke; fill: none; stroke: rgb(120, 28, 109); stroke-opacity: 1; stroke-width: 2px; opacity: 1;\"/></g><g class=\"points\"/><g class=\"text\"/></g><g class=\"trace scatter trace10a393\" style=\"stroke-miterlimit: 2; opacity: 1;\"><g class=\"fills\"/><g class=\"errorbars\"/><g class=\"lines\"><path class=\"js-line\" d=\"M0,111.25L21.68,103.41L43.37,90.48L65.05,95.25L86.74,83.95L130.1,57.83L151.79,57.7L173.47,51.24L195.16,48.57L216.84,51.24L238.52,57.83\" style=\"vector-effect: non-scaling-stroke; fill: none; stroke: rgb(165, 44, 96); stroke-opacity: 1; stroke-width: 2px; opacity: 1;\"/></g><g class=\"points\"/><g class=\"text\"/></g><g class=\"trace scatter trace4d747f\" style=\"stroke-miterlimit: 2; opacity: 1;\"><g class=\"fills\"/><g class=\"errorbars\"/><g class=\"lines\"><path class=\"js-line\" d=\"M0,59.01L21.68,51.89L43.37,41.7L65.05,31.58L86.74,25.05L151.79,44.77L173.47,46.01L195.16,51.17L216.84,57.83L238.52,70.76\" style=\"vector-effect: non-scaling-stroke; fill: none; stroke: rgb(207, 68, 70); stroke-opacity: 1; stroke-width: 2px; opacity: 1;\"/></g><g class=\"points\"/><g class=\"text\"/></g><g class=\"trace scatter trace55b701\" style=\"stroke-miterlimit: 2; opacity: 1;\"><g class=\"fills\"/><g class=\"errorbars\"/><g class=\"lines\"><path class=\"js-line\" d=\"M0,70.76L21.68,58.35L43.37,43.33L65.05,31.58L86.74,17.14L108.42,8.89L130.1,11.99L151.79,22.44L173.47,31.25L195.16,31.58\" style=\"vector-effect: non-scaling-stroke; fill: none; stroke: rgb(237, 105, 37); stroke-opacity: 1; stroke-width: 2px; opacity: 1;\"/></g><g class=\"points\"/><g class=\"text\"/></g></g></g><g class=\"overplot\"/><path class=\"xlines-above crisp\" d=\"M0,0\" style=\"fill: none;\"/><path class=\"ylines-above crisp\" d=\"M0,0\" style=\"fill: none;\"/><g class=\"overlines-above\"/><g class=\"xaxislayer-above\"><g class=\"xtick\"><text text-anchor=\"middle\" x=\"0\" y=\"733\" transform=\"translate(166.74,0)\" style=\"font-family: 'Open Sans', verdana, arial, sans-serif; font-size: 12px; fill: rgb(42, 63, 95); fill-opacity: 1; white-space: pre; opacity: 1;\">5</text></g><g class=\"xtick\"><text text-anchor=\"middle\" x=\"0\" y=\"733\" style=\"font-family: 'Open Sans', verdana, arial, sans-serif; font-size: 12px; fill: rgb(42, 63, 95); fill-opacity: 1; white-space: pre; opacity: 1;\" transform=\"translate(275.15999999999997,0)\">10</text></g></g><g class=\"yaxislayer-above\"><g class=\"ytick\"><text text-anchor=\"end\" x=\"79\" y=\"4.199999999999999\" transform=\"translate(0,678.3266666666666)\" style=\"font-family: 'Open Sans', verdana, arial, sans-serif; font-size: 12px; fill: rgb(42, 63, 95); fill-opacity: 1; white-space: pre; opacity: 1;\">200k</text></g><g class=\"ytick\"><text text-anchor=\"end\" x=\"79\" y=\"4.199999999999999\" style=\"font-family: 'Open Sans', verdana, arial, sans-serif; font-size: 12px; fill: rgb(42, 63, 95); fill-opacity: 1; white-space: pre; opacity: 1;\" transform=\"translate(0,613.0266666666666)\">250k</text></g><g class=\"ytick\"><text text-anchor=\"end\" x=\"79\" y=\"4.199999999999999\" style=\"font-family: 'Open Sans', verdana, arial, sans-serif; font-size: 12px; fill: rgb(42, 63, 95); fill-opacity: 1; white-space: pre; opacity: 1;\" transform=\"translate(0,547.7266666666667)\">300k</text></g></g><g class=\"overaxes-above\"/></g><g class=\"subplot x2y2\"><g class=\"layer-subplot\"><g class=\"shapelayer\"/><g class=\"imagelayer\"/></g><g class=\"minor-gridlayer\"><g class=\"x2\"/><g class=\"y2\"/></g><g class=\"gridlayer\"><g class=\"x2\"><path class=\"x2grid crisp\" transform=\"translate(425.565,0)\" d=\"M0,542.2666666666667v177.73333333333332\" style=\"stroke: rgb(255, 255, 255); stroke-opacity: 1; stroke-width: 1px;\"/><path class=\"x2grid crisp\" transform=\"translate(533.985,0)\" d=\"M0,542.2666666666667v177.73333333333332\" style=\"stroke: rgb(255, 255, 255); stroke-opacity: 1; stroke-width: 1px;\"/></g><g class=\"y2\"><path class=\"y2grid crisp\" transform=\"translate(0,673.1266666666667)\" d=\"M338.825,0h238.52499999999998\" style=\"stroke: rgb(255, 255, 255); stroke-opacity: 1; stroke-width: 1px;\"/><path class=\"y2grid crisp\" transform=\"translate(0,622.5166666666667)\" d=\"M338.825,0h238.52499999999998\" style=\"stroke: rgb(255, 255, 255); stroke-opacity: 1; stroke-width: 1px;\"/><path class=\"y2grid crisp\" transform=\"translate(0,571.9066666666666)\" d=\"M338.825,0h238.52499999999998\" style=\"stroke: rgb(255, 255, 255); stroke-opacity: 1; stroke-width: 1px;\"/></g></g><g class=\"zerolinelayer\"/><path class=\"xlines-below\"/><path class=\"ylines-below\"/><g class=\"overlines-below\"/><g class=\"xaxislayer-below\"/><g class=\"yaxislayer-below\"/><g class=\"overaxes-below\"/><g class=\"plot\" transform=\"translate(338.825,542.2666666666667)\" clip-path=\"url(#clip06b9cex2y2plot)\"><g class=\"scatterlayer mlayer\"><g class=\"trace scatter trace6b2dec\" style=\"stroke-miterlimit: 2; opacity: 1;\"><g class=\"fills\"/><g class=\"errorbars\"/><g class=\"lines\"><path class=\"js-line\" d=\"M130.1,168.82L195.16,168.21L216.84,166.85L238.52,165.46\" style=\"vector-effect: non-scaling-stroke; fill: none; stroke: rgb(0, 0, 4); stroke-opacity: 1; stroke-width: 2px; opacity: 1;\"/></g><g class=\"points\"/><g class=\"text\"/></g><g class=\"trace scatter tracef4d0d0\" style=\"stroke-miterlimit: 2; opacity: 1;\"><g class=\"fills\"/><g class=\"errorbars\"/><g class=\"lines\"><path class=\"js-line\" d=\"M0,162.49L21.68,156.43L43.37,151.64L108.42,150.03L130.1,149.08L151.79,151.26L173.47,151.61L195.16,154.82L216.84,153.69L238.52,151.9\" style=\"vector-effect: non-scaling-stroke; fill: none; stroke: rgb(27, 12, 65); stroke-opacity: 1; stroke-width: 2px; opacity: 1;\"/></g><g class=\"points\"/><g class=\"text\"/></g><g class=\"trace scatter trace3ae9c7\" style=\"stroke-miterlimit: 2; opacity: 1;\"><g class=\"fills\"/><g class=\"errorbars\"/><g class=\"lines\"><path class=\"js-line\" d=\"M0,149.87L43.37,136.48L65.05,134.22L86.74,133.39L108.42,133.39L173.47,137.57L195.16,140.98L238.52,140.98\" style=\"vector-effect: non-scaling-stroke; fill: none; stroke: rgb(74, 12, 107); stroke-opacity: 1; stroke-width: 2px; opacity: 1;\"/></g><g class=\"points\"/><g class=\"text\"/></g><g class=\"trace scatter trace9622f4\" style=\"stroke-miterlimit: 2; opacity: 1;\"><g class=\"fills\"/><g class=\"errorbars\"/><g class=\"lines\"><path class=\"js-line\" d=\"M0,137.72L43.37,127.97L65.05,124.58L86.74,125.8L108.42,124.84L130.1,125.35L151.79,126.62L173.47,129.29L195.16,131.14L216.84,130.91L238.52,124.79\" style=\"vector-effect: non-scaling-stroke; fill: none; stroke: rgb(120, 28, 109); stroke-opacity: 1; stroke-width: 2px; opacity: 1;\"/></g><g class=\"points\"/><g class=\"text\"/></g><g class=\"trace scatter tracea41c89\" style=\"stroke-miterlimit: 2; opacity: 1;\"><g class=\"fills\"/><g class=\"errorbars\"/><g class=\"lines\"><path class=\"js-line\" d=\"M0,119.9L21.68,114.04L43.37,109.35L65.05,116.21L86.74,112.57L108.42,103.08L130.1,95.71L151.79,87.84L173.47,85.36L195.16,85.17L216.84,80.28L238.52,67.6\" style=\"vector-effect: non-scaling-stroke; fill: none; stroke: rgb(165, 44, 96); stroke-opacity: 1; stroke-width: 2px; opacity: 1;\"/></g><g class=\"points\"/><g class=\"text\"/></g><g class=\"trace scatter trace4cd755\" style=\"stroke-miterlimit: 2; opacity: 1;\"><g class=\"fills\"/><g class=\"errorbars\"/><g class=\"lines\"><path class=\"js-line\" d=\"M0,58.26L21.68,57.8L43.37,66.33L65.05,54.94L86.74,44.82L130.1,49.88L151.79,49.9L173.47,55.2L195.16,54.94L216.84,47.85L238.52,37.25\" style=\"vector-effect: non-scaling-stroke; fill: none; stroke: rgb(207, 68, 70); stroke-opacity: 1; stroke-width: 2px; opacity: 1;\"/></g><g class=\"points\"/><g class=\"text\"/></g><g class=\"trace scatter traceadfeab\" style=\"stroke-miterlimit: 2; opacity: 1;\"><g class=\"fills\"/><g class=\"errorbars\"/><g class=\"lines\"><path class=\"js-line\" d=\"M0,34.7L43.37,19.62L65.05,11.92L86.74,8.89L108.42,9.84L130.1,24.42L151.79,33.21L173.47,40.01L195.16,42.29\" style=\"vector-effect: non-scaling-stroke; fill: none; stroke: rgb(237, 105, 37); stroke-opacity: 1; stroke-width: 2px; opacity: 1;\"/></g><g class=\"points\"/><g class=\"text\"/></g></g></g><g class=\"overplot\"/><path class=\"xlines-above crisp\" d=\"M0,0\" style=\"fill: none;\"/><path class=\"ylines-above crisp\" d=\"M0,0\" style=\"fill: none;\"/><g class=\"overlines-above\"/><g class=\"xaxislayer-above\"><g class=\"x2tick\"><text text-anchor=\"middle\" x=\"0\" y=\"733\" transform=\"translate(425.565,0)\" style=\"font-family: 'Open Sans', verdana, arial, sans-serif; font-size: 12px; fill: rgb(42, 63, 95); fill-opacity: 1; white-space: pre; opacity: 1;\">5</text></g><g class=\"x2tick\"><text text-anchor=\"middle\" x=\"0\" y=\"733\" style=\"font-family: 'Open Sans', verdana, arial, sans-serif; font-size: 12px; fill: rgb(42, 63, 95); fill-opacity: 1; white-space: pre; opacity: 1;\" transform=\"translate(533.985,0)\">10</text></g></g><g class=\"yaxislayer-above\"/><g class=\"overaxes-above\"/></g><g class=\"subplot x3y3\"><g class=\"layer-subplot\"><g class=\"shapelayer\"/><g class=\"imagelayer\"/></g><g class=\"minor-gridlayer\"><g class=\"x3\"/><g class=\"y3\"/></g><g class=\"gridlayer\"><g class=\"x3\"><path class=\"x3grid crisp\" transform=\"translate(684.39,0)\" d=\"M0,542.2666666666667v177.73333333333332\" style=\"stroke: rgb(255, 255, 255); stroke-opacity: 1; stroke-width: 1px;\"/><path class=\"x3grid crisp\" transform=\"translate(792.81,0)\" d=\"M0,542.2666666666667v177.73333333333332\" style=\"stroke: rgb(255, 255, 255); stroke-opacity: 1; stroke-width: 1px;\"/></g><g class=\"y3\"><path class=\"y3grid crisp\" transform=\"translate(0,692.2066666666667)\" d=\"M597.65,0h238.52499999999998\" style=\"stroke: rgb(255, 255, 255); stroke-opacity: 1; stroke-width: 1px;\"/><path class=\"y3grid crisp\" transform=\"translate(0,645.1966666666667)\" d=\"M597.65,0h238.52499999999998\" style=\"stroke: rgb(255, 255, 255); stroke-opacity: 1; stroke-width: 1px;\"/><path class=\"y3grid crisp\" transform=\"translate(0,598.1766666666666)\" d=\"M597.65,0h238.52499999999998\" style=\"stroke: rgb(255, 255, 255); stroke-opacity: 1; stroke-width: 1px;\"/><path class=\"y3grid crisp\" transform=\"translate(0,551.1566666666666)\" d=\"M597.65,0h238.52499999999998\" style=\"stroke: rgb(255, 255, 255); stroke-opacity: 1; stroke-width: 1px;\"/></g></g><g class=\"zerolinelayer\"/><path class=\"xlines-below\"/><path class=\"ylines-below\"/><g class=\"overlines-below\"/><g class=\"xaxislayer-below\"/><g class=\"yaxislayer-below\"/><g class=\"overaxes-below\"/><g class=\"plot\" transform=\"translate(597.65,542.2666666666667)\" clip-path=\"url(#clip06b9cex3y3plot)\"><g class=\"scatterlayer mlayer\"><g class=\"trace scatter trace81480b\" style=\"stroke-miterlimit: 2; opacity: 1;\"><g class=\"fills\"/><g class=\"errorbars\"/><g class=\"lines\"><path class=\"js-line\" d=\"M130.1,160.39L173.47,160.81L195.16,164.05L216.84,164.18L238.52,168.85\" style=\"vector-effect: non-scaling-stroke; fill: none; stroke: rgb(0, 0, 4); stroke-opacity: 1; stroke-width: 2px; opacity: 1;\"/></g><g class=\"points\"/><g class=\"text\"/></g><g class=\"trace scatter trace625d6e\" style=\"stroke-miterlimit: 2; opacity: 1;\"><g class=\"fills\"/><g class=\"errorbars\"/><g class=\"lines\"><path class=\"js-line\" d=\"M0,168.85L21.68,165.09L43.37,159.44L65.05,151.92L86.74,150.04L108.42,145.34L130.1,143.46L151.79,140.64L173.47,141.48L195.16,145.24L216.84,149.99L238.52,150.04\" style=\"vector-effect: non-scaling-stroke; fill: none; stroke: rgb(27, 12, 65); stroke-opacity: 1; stroke-width: 2px; opacity: 1;\"/></g><g class=\"points\"/><g class=\"text\"/></g><g class=\"trace scatter trace304178\" style=\"stroke-miterlimit: 2; opacity: 1;\"><g class=\"fills\"/><g class=\"errorbars\"/><g class=\"lines\"><path class=\"js-line\" d=\"M0,149.99L21.68,139.69L43.37,127.38L65.05,117.08L86.74,112.42L151.79,113.08L173.47,116.37L195.16,117.13L216.84,121.78L238.52,121.83\" style=\"vector-effect: non-scaling-stroke; fill: none; stroke: rgb(74, 12, 107); stroke-opacity: 1; stroke-width: 2px; opacity: 1;\"/></g><g class=\"points\"/><g class=\"text\"/></g><g class=\"trace scatter trace55ec4e\" style=\"stroke-miterlimit: 2; opacity: 1;\"><g class=\"fills\"/><g class=\"errorbars\"/><g class=\"lines\"><path class=\"js-line\" d=\"M0,121.83L21.68,112.42L43.37,106.15L65.05,102.03L86.74,94.04L108.42,93.62L130.1,96.39L151.79,99.6L173.47,101.52L195.16,103.02L216.84,105.79L238.52,111.39\" style=\"vector-effect: non-scaling-stroke; fill: none; stroke: rgb(120, 28, 109); stroke-opacity: 1; stroke-width: 2px; opacity: 1;\"/></g><g class=\"points\"/><g class=\"text\"/></g><g class=\"trace scatter trace8e7189\" style=\"stroke-miterlimit: 2; opacity: 1;\"><g class=\"fills\"/><g class=\"errorbars\"/><g class=\"lines\"><path class=\"js-line\" d=\"M0,112.38L21.68,102.93L43.37,89.34L65.05,84.63L86.74,68.13L108.42,65.56L130.1,65.4L151.79,70.06L173.47,79.46L195.16,84.21L216.84,93.57L238.52,93.62\" style=\"vector-effect: non-scaling-stroke; fill: none; stroke: rgb(165, 44, 96); stroke-opacity: 1; stroke-width: 2px; opacity: 1;\"/></g><g class=\"points\"/><g class=\"text\"/></g><g class=\"trace scatter traced6336f\" style=\"stroke-miterlimit: 2; opacity: 1;\"><g class=\"fills\"/><g class=\"errorbars\"/><g class=\"lines\"><path class=\"js-line\" d=\"M0,88.82L21.68,80.87L43.37,67.14L65.05,57.95L86.74,56L108.42,56.85L130.1,60.61L151.79,60.66L173.47,67.71L195.16,66.25L216.84,68.18L238.52,70.01\" style=\"vector-effect: non-scaling-stroke; fill: none; stroke: rgb(207, 68, 70); stroke-opacity: 1; stroke-width: 2px; opacity: 1;\"/></g><g class=\"points\"/><g class=\"text\"/></g><g class=\"trace scatter tracedb0cb2\" style=\"stroke-miterlimit: 2; opacity: 1;\"><g class=\"fills\"/><g class=\"errorbars\"/><g class=\"lines\"><path class=\"js-line\" d=\"M0,56L21.68,42.53L43.37,30.05L65.05,13.68L86.74,8.98L195.16,8.98\" style=\"vector-effect: non-scaling-stroke; fill: none; stroke: rgb(237, 105, 37); stroke-opacity: 1; stroke-width: 2px; opacity: 1;\"/></g><g class=\"points\"/><g class=\"text\"/></g></g></g><g class=\"overplot\"/><path class=\"xlines-above crisp\" d=\"M0,0\" style=\"fill: none;\"/><path class=\"ylines-above crisp\" d=\"M0,0\" style=\"fill: none;\"/><g class=\"overlines-above\"/><g class=\"xaxislayer-above\"><g class=\"x3tick\"><text text-anchor=\"middle\" x=\"0\" y=\"733\" transform=\"translate(684.39,0)\" style=\"font-family: 'Open Sans', verdana, arial, sans-serif; font-size: 12px; fill: rgb(42, 63, 95); fill-opacity: 1; white-space: pre; opacity: 1;\">5</text></g><g class=\"x3tick\"><text text-anchor=\"middle\" x=\"0\" y=\"733\" style=\"font-family: 'Open Sans', verdana, arial, sans-serif; font-size: 12px; fill: rgb(42, 63, 95); fill-opacity: 1; white-space: pre; opacity: 1;\" transform=\"translate(792.81,0)\">10</text></g></g><g class=\"yaxislayer-above\"/><g class=\"overaxes-above\"/></g><g class=\"subplot x4y4\"><g class=\"layer-subplot\"><g class=\"shapelayer\"/><g class=\"imagelayer\"/></g><g class=\"minor-gridlayer\"><g class=\"x4\"/><g class=\"y4\"/></g><g class=\"gridlayer\"><g class=\"x4\"><path class=\"x4grid crisp\" transform=\"translate(943.2149999999999,0)\" d=\"M0,542.2666666666667v177.73333333333332\" style=\"stroke: rgb(255, 255, 255); stroke-opacity: 1; stroke-width: 1px;\"/><path class=\"x4grid crisp\" transform=\"translate(1051.635,0)\" d=\"M0,542.2666666666667v177.73333333333332\" style=\"stroke: rgb(255, 255, 255); stroke-opacity: 1; stroke-width: 1px;\"/></g><g class=\"y4\"><path class=\"y4grid crisp\" transform=\"translate(0,699.8866666666667)\" d=\"M856.4749999999999,0h238.52499999999998\" style=\"stroke: rgb(255, 255, 255); stroke-opacity: 1; stroke-width: 1px;\"/><path class=\"y4grid crisp\" transform=\"translate(0,662.6066666666667)\" d=\"M856.4749999999999,0h238.52499999999998\" style=\"stroke: rgb(255, 255, 255); stroke-opacity: 1; stroke-width: 1px;\"/><path class=\"y4grid crisp\" transform=\"translate(0,625.3166666666666)\" d=\"M856.4749999999999,0h238.52499999999998\" style=\"stroke: rgb(255, 255, 255); stroke-opacity: 1; stroke-width: 1px;\"/><path class=\"y4grid crisp\" transform=\"translate(0,588.0266666666666)\" d=\"M856.4749999999999,0h238.52499999999998\" style=\"stroke: rgb(255, 255, 255); stroke-opacity: 1; stroke-width: 1px;\"/><path class=\"y4grid crisp\" transform=\"translate(0,550.7466666666667)\" d=\"M856.4749999999999,0h238.52499999999998\" style=\"stroke: rgb(255, 255, 255); stroke-opacity: 1; stroke-width: 1px;\"/></g></g><g class=\"zerolinelayer\"/><path class=\"xlines-below\"/><path class=\"ylines-below\"/><g class=\"overlines-below\"/><g class=\"xaxislayer-below\"/><g class=\"yaxislayer-below\"/><g class=\"overaxes-below\"/><g class=\"plot\" transform=\"translate(856.4749999999999,542.2666666666667)\" clip-path=\"url(#clip06b9cex4y4plot)\"><g class=\"scatterlayer mlayer\"><g class=\"trace scatter tracecdf153\" style=\"stroke-miterlimit: 2; opacity: 1;\"><g class=\"fills\"/><g class=\"errorbars\"/><g class=\"lines\"><path class=\"js-line\" d=\"M130.1,159.88L151.79,160.8L173.47,160.62L195.16,162.1L216.84,165.83L238.52,168.81\" style=\"vector-effect: non-scaling-stroke; fill: none; stroke: rgb(0, 0, 4); stroke-opacity: 1; stroke-width: 2px; opacity: 1;\"/></g><g class=\"points\"/><g class=\"text\"/></g><g class=\"trace scatter trace6b6067\" style=\"stroke-miterlimit: 2; opacity: 1;\"><g class=\"fills\"/><g class=\"errorbars\"/><g class=\"lines\"><path class=\"js-line\" d=\"M0,168.85L21.68,168.81L43.37,165.83L65.05,165.16L86.74,161.89L108.42,161.35L130.1,158.41L151.79,159.86L173.47,159.19L195.16,159.23L216.84,163.78L238.52,162.92\" style=\"vector-effect: non-scaling-stroke; fill: none; stroke: rgb(27, 12, 65); stroke-opacity: 1; stroke-width: 2px; opacity: 1;\"/></g><g class=\"points\"/><g class=\"text\"/></g><g class=\"trace scatter trace266f4b\" style=\"stroke-miterlimit: 2; opacity: 1;\"><g class=\"fills\"/><g class=\"errorbars\"/><g class=\"lines\"><path class=\"js-line\" d=\"M0,161.43L21.68,161.35L43.37,157.7L65.05,157.62L86.74,151.96L130.1,150.24L151.79,151.73L173.47,153.97L195.16,157.62L238.52,157.7\" style=\"vector-effect: non-scaling-stroke; fill: none; stroke: rgb(74, 12, 107); stroke-opacity: 1; stroke-width: 2px; opacity: 1;\"/></g><g class=\"points\"/><g class=\"text\"/></g><g class=\"trace scatter tracebd09cc\" style=\"stroke-miterlimit: 2; opacity: 1;\"><g class=\"fills\"/><g class=\"errorbars\"/><g class=\"lines\"><path class=\"js-line\" d=\"M0,160.61L21.68,161.39L43.37,159.7L65.05,156.5L86.74,151.68L108.42,150.24L130.1,146.49L173.47,149.05L195.16,148.17L216.84,144.95L238.52,144.8\" style=\"vector-effect: non-scaling-stroke; fill: none; stroke: rgb(120, 28, 109); stroke-opacity: 1; stroke-width: 2px; opacity: 1;\"/></g><g class=\"points\"/><g class=\"text\"/></g><g class=\"trace scatter traceaf505f\" style=\"stroke-miterlimit: 2; opacity: 1;\"><g class=\"fills\"/><g class=\"errorbars\"/><g class=\"lines\"><path class=\"js-line\" d=\"M0,146.1L21.68,146.44L43.37,145.32L65.05,138.98L86.74,136L108.42,128.54L130.1,126.68L151.79,127.87L173.47,133.45L195.16,136.74L216.84,144.98L238.52,146.44\" style=\"vector-effect: non-scaling-stroke; fill: none; stroke: rgb(165, 44, 96); stroke-opacity: 1; stroke-width: 2px; opacity: 1;\"/></g><g class=\"points\"/><g class=\"text\"/></g><g class=\"trace scatter traceb364cc\" style=\"stroke-miterlimit: 2; opacity: 1;\"><g class=\"fills\"/><g class=\"errorbars\"/><g class=\"lines\"><path class=\"js-line\" d=\"M0,150.17L43.37,140.68L65.05,139.54L86.74,124.07L108.42,110.01L130.1,102.81L151.79,99.87L173.47,97.96L195.16,101.69L216.84,107.32L238.52,101.71\" style=\"vector-effect: non-scaling-stroke; fill: none; stroke: rgb(207, 68, 70); stroke-opacity: 1; stroke-width: 2px; opacity: 1;\"/></g><g class=\"points\"/><g class=\"text\"/></g><g class=\"trace scatter trace31344b\" style=\"stroke-miterlimit: 2; opacity: 1;\"><g class=\"fills\"/><g class=\"errorbars\"/><g class=\"lines\"><path class=\"js-line\" d=\"M0,86.82L21.68,86.93L43.37,83.46L65.05,68.14L86.74,50.27L108.42,38.31L130.1,16.01L151.79,8.89L173.47,23.39L195.16,23.39\" style=\"vector-effect: non-scaling-stroke; fill: none; stroke: rgb(237, 105, 37); stroke-opacity: 1; stroke-width: 2px; opacity: 1;\"/></g><g class=\"points\"/><g class=\"text\"/></g></g></g><g class=\"overplot\"/><path class=\"xlines-above crisp\" d=\"M0,0\" style=\"fill: none;\"/><path class=\"ylines-above crisp\" d=\"M0,0\" style=\"fill: none;\"/><g class=\"overlines-above\"/><g class=\"xaxislayer-above\"><g class=\"x4tick\"><text text-anchor=\"middle\" x=\"0\" y=\"733\" transform=\"translate(943.2149999999999,0)\" style=\"font-family: 'Open Sans', verdana, arial, sans-serif; font-size: 12px; fill: rgb(42, 63, 95); fill-opacity: 1; white-space: pre; opacity: 1;\">5</text></g><g class=\"x4tick\"><text text-anchor=\"middle\" x=\"0\" y=\"733\" style=\"font-family: 'Open Sans', verdana, arial, sans-serif; font-size: 12px; fill: rgb(42, 63, 95); fill-opacity: 1; white-space: pre; opacity: 1;\" transform=\"translate(1051.635,0)\">10</text></g></g><g class=\"yaxislayer-above\"/><g class=\"overaxes-above\"/></g><g class=\"subplot x5y5\"><g class=\"layer-subplot\"><g class=\"shapelayer\"/><g class=\"imagelayer\"/></g><g class=\"minor-gridlayer\"><g class=\"x5\"/><g class=\"y5\"/></g><g class=\"gridlayer\"><g class=\"x5\"><path class=\"x5grid crisp\" transform=\"translate(166.74,0)\" d=\"M0,321.1333333333333v177.73333333333335\" style=\"stroke: rgb(255, 255, 255); stroke-opacity: 1; stroke-width: 1px;\"/><path class=\"x5grid crisp\" transform=\"translate(275.15999999999997,0)\" d=\"M0,321.1333333333333v177.73333333333335\" style=\"stroke: rgb(255, 255, 255); stroke-opacity: 1; stroke-width: 1px;\"/></g><g class=\"y5\"><path class=\"y5grid crisp\" transform=\"translate(0,495.5333333333333)\" d=\"M80,0h238.52499999999998\" style=\"stroke: rgb(255, 255, 255); stroke-opacity: 1; stroke-width: 1px;\"/><path class=\"y5grid crisp\" transform=\"translate(0,432.47333333333336)\" d=\"M80,0h238.52499999999998\" style=\"stroke: rgb(255, 255, 255); stroke-opacity: 1; stroke-width: 1px;\"/><path class=\"y5grid crisp\" transform=\"translate(0,369.42333333333335)\" d=\"M80,0h238.52499999999998\" style=\"stroke: rgb(255, 255, 255); stroke-opacity: 1; stroke-width: 1px;\"/></g></g><g class=\"zerolinelayer\"/><path class=\"xlines-below\"/><path class=\"ylines-below\"/><g class=\"overlines-below\"/><g class=\"xaxislayer-below\"/><g class=\"yaxislayer-below\"/><g class=\"overaxes-below\"/><g class=\"plot\" transform=\"translate(80,321.1333333333333)\" clip-path=\"url(#clip06b9cex5y5plot)\"><g class=\"scatterlayer mlayer\"><g class=\"trace scatter tracea30ad4\" style=\"stroke-miterlimit: 2; opacity: 1;\"><g class=\"fills\"/><g class=\"errorbars\"/><g class=\"lines\"><path class=\"js-line\" d=\"M130.1,154.22L151.79,152.96L173.47,155.48L195.16,155.61L216.84,161.91L238.52,167.46\" style=\"vector-effect: non-scaling-stroke; fill: none; stroke: rgb(0, 0, 4); stroke-opacity: 1; stroke-width: 2px; opacity: 1;\"/></g><g class=\"points\"/><g class=\"text\"/></g><g class=\"trace scatter tracebc42aa\" style=\"stroke-miterlimit: 2; opacity: 1;\"><g class=\"fills\"/><g class=\"errorbars\"/><g class=\"lines\"><path class=\"js-line\" d=\"M0,168.85L21.68,162.48L43.37,152.96L65.05,143L86.74,134.74L108.42,127.8L130.1,130.26L151.79,130.39L173.47,131.52L195.16,136.56L216.84,137.26L238.52,143\" style=\"vector-effect: non-scaling-stroke; fill: none; stroke: rgb(27, 12, 65); stroke-opacity: 1; stroke-width: 2px; opacity: 1;\"/></g><g class=\"points\"/><g class=\"text\"/></g><g class=\"trace scatter traceeb7b6e\" style=\"stroke-miterlimit: 2; opacity: 1;\"><g class=\"fills\"/><g class=\"errorbars\"/><g class=\"lines\"><path class=\"js-line\" d=\"M0,149.24L21.68,142.46L43.37,130.26L65.05,112.04L86.74,102.58L108.42,93.69L130.1,96.21L151.79,100L173.47,105.17L195.16,111.47L216.84,111.97L238.52,117.78\" style=\"vector-effect: non-scaling-stroke; fill: none; stroke: rgb(74, 12, 107); stroke-opacity: 1; stroke-width: 2px; opacity: 1;\"/></g><g class=\"points\"/><g class=\"text\"/></g><g class=\"trace scatter tracec9f446\" style=\"stroke-miterlimit: 2; opacity: 1;\"><g class=\"fills\"/><g class=\"errorbars\"/><g class=\"lines\"><path class=\"js-line\" d=\"M0,122.41L21.68,112.61L43.37,97.96L65.05,79.88L86.74,73.64L130.1,73.64L151.79,78.76L173.47,86.45L195.16,91.86L216.84,95.58L238.52,108.89\" style=\"vector-effect: non-scaling-stroke; fill: none; stroke: rgb(120, 28, 109); stroke-opacity: 1; stroke-width: 2px; opacity: 1;\"/></g><g class=\"points\"/><g class=\"text\"/></g><g class=\"trace scatter trace600f6c\" style=\"stroke-miterlimit: 2; opacity: 1;\"><g class=\"fills\"/><g class=\"errorbars\"/><g class=\"lines\"><path class=\"js-line\" d=\"M0,111.47L21.68,99.36L43.37,80.13L65.05,73.64L86.74,61.03L108.42,47.67L130.1,41.99L151.79,42.11L173.47,48.42L195.16,49.55L216.84,61.03L238.52,67.27\" style=\"vector-effect: non-scaling-stroke; fill: none; stroke: rgb(165, 44, 96); stroke-opacity: 1; stroke-width: 2px; opacity: 1;\"/></g><g class=\"points\"/><g class=\"text\"/></g><g class=\"trace scatter traceb4c414\" style=\"stroke-miterlimit: 2; opacity: 1;\"><g class=\"fills\"/><g class=\"errorbars\"/><g class=\"lines\"><path class=\"js-line\" d=\"M0,68.6L21.68,57.81L43.37,48.42L65.05,36.38L86.74,35.81L130.1,35.81L151.79,45.2L173.47,50.25L195.16,61.03L238.52,86.19\" style=\"vector-effect: non-scaling-stroke; fill: none; stroke: rgb(207, 68, 70); stroke-opacity: 1; stroke-width: 2px; opacity: 1;\"/></g><g class=\"points\"/><g class=\"text\"/></g><g class=\"trace scatter tracedd0b3f\" style=\"stroke-miterlimit: 2; opacity: 1;\"><g class=\"fills\"/><g class=\"errorbars\"/><g class=\"lines\"><path class=\"js-line\" d=\"M0,87.38L21.68,77.3L43.37,61.53L65.05,41.99L86.74,15L108.42,8.89L130.1,10.46L195.16,29.5\" style=\"vector-effect: non-scaling-stroke; fill: none; stroke: rgb(237, 105, 37); stroke-opacity: 1; stroke-width: 2px; opacity: 1;\"/></g><g class=\"points\"/><g class=\"text\"/></g></g></g><g class=\"overplot\"/><path class=\"xlines-above crisp\" d=\"M0,0\" style=\"fill: none;\"/><path class=\"ylines-above crisp\" d=\"M0,0\" style=\"fill: none;\"/><g class=\"overlines-above\"/><g class=\"xaxislayer-above\"/><g class=\"yaxislayer-above\"><g class=\"y5tick\"><text text-anchor=\"end\" x=\"79\" y=\"4.199999999999999\" transform=\"translate(0,495.5333333333333)\" style=\"font-family: 'Open Sans', verdana, arial, sans-serif; font-size: 12px; fill: rgb(42, 63, 95); fill-opacity: 1; white-space: pre; opacity: 1;\">150k</text></g><g class=\"y5tick\"><text text-anchor=\"end\" x=\"79\" y=\"4.199999999999999\" style=\"font-family: 'Open Sans', verdana, arial, sans-serif; font-size: 12px; fill: rgb(42, 63, 95); fill-opacity: 1; white-space: pre; opacity: 1;\" transform=\"translate(0,432.47333333333336)\">200k</text></g><g class=\"y5tick\"><text text-anchor=\"end\" x=\"79\" y=\"4.199999999999999\" style=\"font-family: 'Open Sans', verdana, arial, sans-serif; font-size: 12px; fill: rgb(42, 63, 95); fill-opacity: 1; white-space: pre; opacity: 1;\" transform=\"translate(0,369.42333333333335)\">250k</text></g></g><g class=\"overaxes-above\"/></g><g class=\"subplot x6y6\"><g class=\"layer-subplot\"><g class=\"shapelayer\"/><g class=\"imagelayer\"/></g><g class=\"minor-gridlayer\"><g class=\"x6\"/><g class=\"y6\"/></g><g class=\"gridlayer\"><g class=\"x6\"><path class=\"x6grid crisp\" transform=\"translate(425.565,0)\" d=\"M0,321.1333333333333v177.73333333333335\" style=\"stroke: rgb(255, 255, 255); stroke-opacity: 1; stroke-width: 1px;\"/><path class=\"x6grid crisp\" transform=\"translate(533.985,0)\" d=\"M0,321.1333333333333v177.73333333333335\" style=\"stroke: rgb(255, 255, 255); stroke-opacity: 1; stroke-width: 1px;\"/></g><g class=\"y6\"><path class=\"y6grid crisp\" transform=\"translate(0,471.74333333333334)\" d=\"M338.825,0h238.52499999999998\" style=\"stroke: rgb(255, 255, 255); stroke-opacity: 1; stroke-width: 1px;\"/><path class=\"y6grid crisp\" transform=\"translate(0,416.99333333333334)\" d=\"M338.825,0h238.52499999999998\" style=\"stroke: rgb(255, 255, 255); stroke-opacity: 1; stroke-width: 1px;\"/><path class=\"y6grid crisp\" transform=\"translate(0,362.24333333333334)\" d=\"M338.825,0h238.52499999999998\" style=\"stroke: rgb(255, 255, 255); stroke-opacity: 1; stroke-width: 1px;\"/></g></g><g class=\"zerolinelayer\"/><path class=\"xlines-below\"/><path class=\"ylines-below\"/><g class=\"overlines-below\"/><g class=\"xaxislayer-below\"/><g class=\"yaxislayer-below\"/><g class=\"overaxes-below\"/><g class=\"plot\" transform=\"translate(338.825,321.1333333333333)\" clip-path=\"url(#clip06b9cex6y6plot)\"><g class=\"scatterlayer mlayer\"><g class=\"trace scatter traced24875\" style=\"stroke-miterlimit: 2; opacity: 1;\"><g class=\"fills\"/><g class=\"errorbars\"/><g class=\"lines\"><path class=\"js-line\" d=\"M130.1,161.59L151.79,163.26L173.47,167.09L216.84,167.15L238.52,168.85\" style=\"vector-effect: non-scaling-stroke; fill: none; stroke: rgb(0, 0, 4); stroke-opacity: 1; stroke-width: 2px; opacity: 1;\"/></g><g class=\"points\"/><g class=\"text\"/></g><g class=\"trace scatter trace089a7f\" style=\"stroke-miterlimit: 2; opacity: 1;\"><g class=\"fills\"/><g class=\"errorbars\"/><g class=\"lines\"><path class=\"js-line\" d=\"M0,164.47L21.68,153.41L43.37,146.34L65.05,133.67L86.74,126.03L108.42,126.06L130.1,128.82L151.79,130.93L173.47,134.19L195.16,139.12L216.84,137.23L238.52,139.66\" style=\"vector-effect: non-scaling-stroke; fill: none; stroke: rgb(27, 12, 65); stroke-opacity: 1; stroke-width: 2px; opacity: 1;\"/></g><g class=\"points\"/><g class=\"text\"/></g><g class=\"trace scatter tracea030c2\" style=\"stroke-miterlimit: 2; opacity: 1;\"><g class=\"fills\"/><g class=\"errorbars\"/><g class=\"lines\"><path class=\"js-line\" d=\"M0,129.01L21.68,120.77L43.37,110.7L65.05,106.92L86.74,107.06L108.42,107.91L130.1,107.69L151.79,112.29L173.47,112.29L195.16,117.92L216.84,121.16L238.52,121.05\" style=\"vector-effect: non-scaling-stroke; fill: none; stroke: rgb(74, 12, 107); stroke-opacity: 1; stroke-width: 2px; opacity: 1;\"/></g><g class=\"points\"/><g class=\"text\"/></g><g class=\"trace scatter trace49f668\" style=\"stroke-miterlimit: 2; opacity: 1;\"><g class=\"fills\"/><g class=\"errorbars\"/><g class=\"lines\"><path class=\"js-line\" d=\"M0,120.06L21.68,113.78L43.37,105.67L65.05,98.45L86.74,95.97L108.42,101.45L130.1,105.17L173.47,114.28L195.16,117.76L216.84,123.24L238.52,123.24\" style=\"vector-effect: non-scaling-stroke; fill: none; stroke: rgb(120, 28, 109); stroke-opacity: 1; stroke-width: 2px; opacity: 1;\"/></g><g class=\"points\"/><g class=\"text\"/></g><g class=\"trace scatter trace9a1fee\" style=\"stroke-miterlimit: 2; opacity: 1;\"><g class=\"fills\"/><g class=\"errorbars\"/><g class=\"lines\"><path class=\"js-line\" d=\"M0,120.01L21.68,117.87L43.37,108.73L65.05,101.34L86.74,90.39L108.42,90.44L130.1,88.2L151.79,95.97L173.47,101.34L195.16,106.92L216.84,109L238.52,106.26\" style=\"vector-effect: non-scaling-stroke; fill: none; stroke: rgb(165, 44, 96); stroke-opacity: 1; stroke-width: 2px; opacity: 1;\"/></g><g class=\"points\"/><g class=\"text\"/></g><g class=\"trace scatter trace477a7f\" style=\"stroke-miterlimit: 2; opacity: 1;\"><g class=\"fills\"/><g class=\"errorbars\"/><g class=\"lines\"><path class=\"js-line\" d=\"M0,106.81L43.37,74.45L65.05,82.17L86.74,79.44L108.42,79.44L130.1,90.5L151.79,95.86L195.16,95.86L216.84,94.08L238.52,87.51\" style=\"vector-effect: non-scaling-stroke; fill: none; stroke: rgb(207, 68, 70); stroke-opacity: 1; stroke-width: 2px; opacity: 1;\"/></g><g class=\"points\"/><g class=\"text\"/></g><g class=\"trace scatter trace9c2b31\" style=\"stroke-miterlimit: 2; opacity: 1;\"><g class=\"fills\"/><g class=\"errorbars\"/><g class=\"lines\"><path class=\"js-line\" d=\"M0,57.53L21.68,42.2L43.37,43.28L65.05,41.11L86.74,35.63L130.1,24.76L151.79,8.89L195.16,13.73\" style=\"vector-effect: non-scaling-stroke; fill: none; stroke: rgb(237, 105, 37); stroke-opacity: 1; stroke-width: 2px; opacity: 1;\"/></g><g class=\"points\"/><g class=\"text\"/></g></g></g><g class=\"overplot\"/><path class=\"xlines-above crisp\" d=\"M0,0\" style=\"fill: none;\"/><path class=\"ylines-above crisp\" d=\"M0,0\" style=\"fill: none;\"/><g class=\"overlines-above\"/><g class=\"xaxislayer-above\"/><g class=\"yaxislayer-above\"/><g class=\"overaxes-above\"/></g><g class=\"subplot x7y7\"><g class=\"layer-subplot\"><g class=\"shapelayer\"/><g class=\"imagelayer\"/></g><g class=\"minor-gridlayer\"><g class=\"x7\"/><g class=\"y7\"/></g><g class=\"gridlayer\"><g class=\"x7\"><path class=\"x7grid crisp\" transform=\"translate(684.39,0)\" d=\"M0,321.1333333333333v177.73333333333335\" style=\"stroke: rgb(255, 255, 255); stroke-opacity: 1; stroke-width: 1px;\"/><path class=\"x7grid crisp\" transform=\"translate(792.81,0)\" d=\"M0,321.1333333333333v177.73333333333335\" style=\"stroke: rgb(255, 255, 255); stroke-opacity: 1; stroke-width: 1px;\"/></g><g class=\"y7\"><path class=\"y7grid crisp\" transform=\"translate(0,489.9233333333333)\" d=\"M597.65,0h238.52499999999998\" style=\"stroke: rgb(255, 255, 255); stroke-opacity: 1; stroke-width: 1px;\"/><path class=\"y7grid crisp\" transform=\"translate(0,436.62333333333333)\" d=\"M597.65,0h238.52499999999998\" style=\"stroke: rgb(255, 255, 255); stroke-opacity: 1; stroke-width: 1px;\"/><path class=\"y7grid crisp\" transform=\"translate(0,383.3233333333333)\" d=\"M597.65,0h238.52499999999998\" style=\"stroke: rgb(255, 255, 255); stroke-opacity: 1; stroke-width: 1px;\"/><path class=\"y7grid crisp\" transform=\"translate(0,330.0233333333333)\" d=\"M597.65,0h238.52499999999998\" style=\"stroke: rgb(255, 255, 255); stroke-opacity: 1; stroke-width: 1px;\"/></g></g><g class=\"zerolinelayer\"/><path class=\"xlines-below\"/><path class=\"ylines-below\"/><g class=\"overlines-below\"/><g class=\"xaxislayer-below\"/><g class=\"yaxislayer-below\"/><g class=\"overaxes-below\"/><g class=\"plot\" transform=\"translate(597.65,321.1333333333333)\" clip-path=\"url(#clip06b9cex7y7plot)\"><g class=\"scatterlayer mlayer\"><g class=\"trace scatter trace1e5b80\" style=\"stroke-miterlimit: 2; opacity: 1;\"><g class=\"fills\"/><g class=\"errorbars\"/><g class=\"lines\"><path class=\"js-line\" d=\"M130.1,166.66L151.79,168.85L173.47,168.82L216.84,159.07L238.52,163.87\" style=\"vector-effect: non-scaling-stroke; fill: none; stroke: rgb(0, 0, 4); stroke-opacity: 1; stroke-width: 2px; opacity: 1;\"/></g><g class=\"points\"/><g class=\"text\"/></g><g class=\"trace scatter trace04aa4e\" style=\"stroke-miterlimit: 2; opacity: 1;\"><g class=\"fills\"/><g class=\"errorbars\"/><g class=\"lines\"><path class=\"js-line\" d=\"M0,164.82L21.68,154.16L43.37,144.83L86.74,131.77L108.42,132.01L130.1,134.68L151.79,142.17L173.47,142.14L195.16,136.84L216.84,134.15L238.52,134.15\" style=\"vector-effect: non-scaling-stroke; fill: none; stroke: rgb(27, 12, 65); stroke-opacity: 1; stroke-width: 2px; opacity: 1;\"/></g><g class=\"points\"/><g class=\"text\"/></g><g class=\"trace scatter trace15f0ac\" style=\"stroke-miterlimit: 2; opacity: 1;\"><g class=\"fills\"/><g class=\"errorbars\"/><g class=\"lines\"><path class=\"js-line\" d=\"M0,133.63L21.68,121.39L43.37,115.54L65.05,102.99L86.74,97.1L130.1,103.5L151.79,111.25L195.16,103.5L216.84,102.17L238.52,104.83\" style=\"vector-effect: non-scaling-stroke; fill: none; stroke: rgb(74, 12, 107); stroke-opacity: 1; stroke-width: 2px; opacity: 1;\"/></g><g class=\"points\"/><g class=\"text\"/></g><g class=\"trace scatter tracec88d2a\" style=\"stroke-miterlimit: 2; opacity: 1;\"><g class=\"fills\"/><g class=\"errorbars\"/><g class=\"lines\"><path class=\"js-line\" d=\"M0,103.76L21.68,95.53L43.37,83.51L65.05,72.88L86.74,67.25L108.42,68.11L130.1,75.52L151.79,78.71L173.47,78.71L195.16,78.71L216.84,79.78L238.52,82.2\" style=\"vector-effect: non-scaling-stroke; fill: none; stroke: rgb(120, 28, 109); stroke-opacity: 1; stroke-width: 2px; opacity: 1;\"/></g><g class=\"points\"/><g class=\"text\"/></g><g class=\"trace scatter tracea35621\" style=\"stroke-miterlimit: 2; opacity: 1;\"><g class=\"fills\"/><g class=\"errorbars\"/><g class=\"lines\"><path class=\"js-line\" d=\"M0,81.14L43.37,64.85L65.05,64.36L86.74,63.79L108.42,62.46L130.1,46.46L151.79,36.07L173.47,33.41L195.16,22.21L216.84,24.84L238.52,25.41\" style=\"vector-effect: non-scaling-stroke; fill: none; stroke: rgb(165, 44, 96); stroke-opacity: 1; stroke-width: 2px; opacity: 1;\"/></g><g class=\"points\"/><g class=\"text\"/></g><g class=\"trace scatter trace6437d2\" style=\"stroke-miterlimit: 2; opacity: 1;\"><g class=\"fills\"/><g class=\"errorbars\"/><g class=\"lines\"><path class=\"js-line\" d=\"M0,22.21L21.68,14.22L43.37,11.58L65.05,9.42L86.74,9.42L108.42,14.75L130.1,25.41L151.79,35.56L173.47,36.07L216.84,35.54L238.52,35.83\" style=\"vector-effect: non-scaling-stroke; fill: none; stroke: rgb(207, 68, 70); stroke-opacity: 1; stroke-width: 2px; opacity: 1;\"/></g><g class=\"points\"/><g class=\"text\"/></g><g class=\"trace scatter trace173710\" style=\"stroke-miterlimit: 2; opacity: 1;\"><g class=\"fills\"/><g class=\"errorbars\"/><g class=\"lines\"><path class=\"js-line\" d=\"M0,36.07L21.68,21.15L43.37,9.42L86.74,8.89L108.42,9.42L130.1,14.22L151.79,21.15L173.47,18.24L195.16,10.91\" style=\"vector-effect: non-scaling-stroke; fill: none; stroke: rgb(237, 105, 37); stroke-opacity: 1; stroke-width: 2px; opacity: 1;\"/></g><g class=\"points\"/><g class=\"text\"/></g></g></g><g class=\"overplot\"/><path class=\"xlines-above crisp\" d=\"M0,0\" style=\"fill: none;\"/><path class=\"ylines-above crisp\" d=\"M0,0\" style=\"fill: none;\"/><g class=\"overlines-above\"/><g class=\"xaxislayer-above\"/><g class=\"yaxislayer-above\"/><g class=\"overaxes-above\"/></g><g class=\"subplot x8y8\"><g class=\"layer-subplot\"><g class=\"shapelayer\"/><g class=\"imagelayer\"/></g><g class=\"minor-gridlayer\"><g class=\"x8\"/><g class=\"y8\"/></g><g class=\"gridlayer\"><g class=\"x8\"><path class=\"x8grid crisp\" transform=\"translate(943.2149999999999,0)\" d=\"M0,321.1333333333333v177.73333333333335\" style=\"stroke: rgb(255, 255, 255); stroke-opacity: 1; stroke-width: 1px;\"/><path class=\"x8grid crisp\" transform=\"translate(1051.635,0)\" d=\"M0,321.1333333333333v177.73333333333335\" style=\"stroke: rgb(255, 255, 255); stroke-opacity: 1; stroke-width: 1px;\"/></g><g class=\"y8\"><path class=\"y8grid crisp\" transform=\"translate(0,489.98333333333335)\" d=\"M856.4749999999999,0h238.52499999999998\" style=\"stroke: rgb(255, 255, 255); stroke-opacity: 1; stroke-width: 1px;\"/><path class=\"y8grid crisp\" transform=\"translate(0,453.61333333333334)\" d=\"M856.4749999999999,0h238.52499999999998\" style=\"stroke: rgb(255, 255, 255); stroke-opacity: 1; stroke-width: 1px;\"/><path class=\"y8grid crisp\" transform=\"translate(0,417.25333333333333)\" d=\"M856.4749999999999,0h238.52499999999998\" style=\"stroke: rgb(255, 255, 255); stroke-opacity: 1; stroke-width: 1px;\"/><path class=\"y8grid crisp\" transform=\"translate(0,380.8933333333333)\" d=\"M856.4749999999999,0h238.52499999999998\" style=\"stroke: rgb(255, 255, 255); stroke-opacity: 1; stroke-width: 1px;\"/><path class=\"y8grid crisp\" transform=\"translate(0,344.5333333333333)\" d=\"M856.4749999999999,0h238.52499999999998\" style=\"stroke: rgb(255, 255, 255); stroke-opacity: 1; stroke-width: 1px;\"/></g></g><g class=\"zerolinelayer\"/><path class=\"xlines-below\"/><path class=\"ylines-below\"/><g class=\"overlines-below\"/><g class=\"xaxislayer-below\"/><g class=\"yaxislayer-below\"/><g class=\"overaxes-below\"/><g class=\"plot\" transform=\"translate(856.4749999999999,321.1333333333333)\" clip-path=\"url(#clip06b9cex8y8plot)\"><g class=\"scatterlayer mlayer\"><g class=\"trace scatter trace142017\" style=\"stroke-miterlimit: 2; opacity: 1;\"><g class=\"fills\"/><g class=\"errorbars\"/><g class=\"lines\"><path class=\"js-line\" d=\"M130.1,162.3L195.16,162.3L216.84,165.21L238.52,168.85\" style=\"vector-effect: non-scaling-stroke; fill: none; stroke: rgb(0, 0, 4); stroke-opacity: 1; stroke-width: 2px; opacity: 1;\"/></g><g class=\"points\"/><g class=\"text\"/></g><g class=\"trace scatter tracea2c999\" style=\"stroke-miterlimit: 2; opacity: 1;\"><g class=\"fills\"/><g class=\"errorbars\"/><g class=\"lines\"><path class=\"js-line\" d=\"M0,168.12L21.68,161.97L43.37,154.7L65.05,147.1L86.74,136.16L108.42,136.12L130.1,132.48L216.84,132.56L238.52,132.56\" style=\"vector-effect: non-scaling-stroke; fill: none; stroke: rgb(27, 12, 65); stroke-opacity: 1; stroke-width: 2px; opacity: 1;\"/></g><g class=\"points\"/><g class=\"text\"/></g><g class=\"trace scatter trace1cfd54\" style=\"stroke-miterlimit: 2; opacity: 1;\"><g class=\"fills\"/><g class=\"errorbars\"/><g class=\"lines\"><path class=\"js-line\" d=\"M0,133.21L21.68,132.52L43.37,121.58L65.05,114.3L86.74,107.9L130.1,112.85L151.79,114.52L173.47,117.95L195.16,118.92L216.84,121.58L238.52,121.65\" style=\"vector-effect: non-scaling-stroke; fill: none; stroke: rgb(74, 12, 107); stroke-opacity: 1; stroke-width: 2px; opacity: 1;\"/></g><g class=\"points\"/><g class=\"text\"/></g><g class=\"trace scatter trace54bd7e\" style=\"stroke-miterlimit: 2; opacity: 1;\"><g class=\"fills\"/><g class=\"errorbars\"/><g class=\"lines\"><path class=\"js-line\" d=\"M0,125.22L21.68,120.12L43.37,116.38L86.74,111.07L108.42,110.74L130.1,110.74L151.79,112.4L173.47,113.9L195.16,116.54L238.52,119.22\" style=\"vector-effect: non-scaling-stroke; fill: none; stroke: rgb(120, 28, 109); stroke-opacity: 1; stroke-width: 2px; opacity: 1;\"/></g><g class=\"points\"/><g class=\"text\"/></g><g class=\"trace scatter trace0c8570\" style=\"stroke-miterlimit: 2; opacity: 1;\"><g class=\"fills\"/><g class=\"errorbars\"/><g class=\"lines\"><path class=\"js-line\" d=\"M0,118.16L21.68,118.01L43.37,111.39L65.05,111.76L86.74,103.47L108.42,96.19L130.1,92.56L151.79,86.59L173.47,79.79L195.16,81.61L216.84,81.39L238.52,80.47\" style=\"vector-effect: non-scaling-stroke; fill: none; stroke: rgb(165, 44, 96); stroke-opacity: 1; stroke-width: 2px; opacity: 1;\"/></g><g class=\"points\"/><g class=\"text\"/></g><g class=\"trace scatter trace18206d\" style=\"stroke-miterlimit: 2; opacity: 1;\"><g class=\"fills\"/><g class=\"errorbars\"/><g class=\"lines\"><path class=\"js-line\" d=\"M0,81.65L21.68,77.94L43.37,76.49L65.05,65.26L86.74,52.49L108.42,43.39L130.1,41.58L173.47,45.29L195.16,45.94L216.84,45.61L238.52,50.67\" style=\"vector-effect: non-scaling-stroke; fill: none; stroke: rgb(207, 68, 70); stroke-opacity: 1; stroke-width: 2px; opacity: 1;\"/></g><g class=\"points\"/><g class=\"text\"/></g><g class=\"trace scatter trace6247b9\" style=\"stroke-miterlimit: 2; opacity: 1;\"><g class=\"fills\"/><g class=\"errorbars\"/><g class=\"lines\"><path class=\"js-line\" d=\"M0,46.67L21.68,35.67L43.37,28.86L65.05,23.4L86.74,11.03L108.42,8.89L130.1,12.56L151.79,21.61L173.47,23.4L195.16,24.12\" style=\"vector-effect: non-scaling-stroke; fill: none; stroke: rgb(237, 105, 37); stroke-opacity: 1; stroke-width: 2px; opacity: 1;\"/></g><g class=\"points\"/><g class=\"text\"/></g></g></g><g class=\"overplot\"/><path class=\"xlines-above crisp\" d=\"M0,0\" style=\"fill: none;\"/><path class=\"ylines-above crisp\" d=\"M0,0\" style=\"fill: none;\"/><g class=\"overlines-above\"/><g class=\"xaxislayer-above\"/><g class=\"yaxislayer-above\"/><g class=\"overaxes-above\"/></g><g class=\"subplot x9y9\"><g class=\"layer-subplot\"><g class=\"shapelayer\"/><g class=\"imagelayer\"/></g><g class=\"minor-gridlayer\"><g class=\"x9\"/><g class=\"y9\"/></g><g class=\"gridlayer\"><g class=\"x9\"><path class=\"x9grid crisp\" transform=\"translate(166.74,0)\" d=\"M0,100.00000000000007v177.73333333333332\" style=\"stroke: rgb(255, 255, 255); stroke-opacity: 1; stroke-width: 1px;\"/><path class=\"x9grid crisp\" transform=\"translate(275.15999999999997,0)\" d=\"M0,100.00000000000007v177.73333333333332\" style=\"stroke: rgb(255, 255, 255); stroke-opacity: 1; stroke-width: 1px;\"/></g><g class=\"y9\"><path class=\"y9grid crisp\" transform=\"translate(0,260.57000000000005)\" d=\"M80,0h238.52499999999998\" style=\"stroke: rgb(255, 255, 255); stroke-opacity: 1; stroke-width: 1px;\"/><path class=\"y9grid crisp\" transform=\"translate(0,205.41000000000008)\" d=\"M80,0h238.52499999999998\" style=\"stroke: rgb(255, 255, 255); stroke-opacity: 1; stroke-width: 1px;\"/><path class=\"y9grid crisp\" transform=\"translate(0,150.26000000000008)\" d=\"M80,0h238.52499999999998\" style=\"stroke: rgb(255, 255, 255); stroke-opacity: 1; stroke-width: 1px;\"/></g></g><g class=\"zerolinelayer\"/><path class=\"xlines-below\"/><path class=\"ylines-below\"/><g class=\"overlines-below\"/><g class=\"xaxislayer-below\"/><g class=\"yaxislayer-below\"/><g class=\"overaxes-below\"/><g class=\"plot\" transform=\"translate(80,100.00000000000007)\" clip-path=\"url(#clip06b9cex9y9plot)\"><g class=\"scatterlayer mlayer\"><g class=\"trace scatter traceca4bae\" style=\"stroke-miterlimit: 2; opacity: 1;\"><g class=\"fills\"/><g class=\"errorbars\"/><g class=\"lines\"><path class=\"js-line\" d=\"M130.1,151.2L151.79,160.57L173.47,160.88L195.16,161.12L216.84,162.23L238.52,168.85\" style=\"vector-effect: non-scaling-stroke; fill: none; stroke: rgb(0, 0, 4); stroke-opacity: 1; stroke-width: 2px; opacity: 1;\"/></g><g class=\"points\"/><g class=\"text\"/></g><g class=\"trace scatter trace97ac92\" style=\"stroke-miterlimit: 2; opacity: 1;\"><g class=\"fills\"/><g class=\"errorbars\"/><g class=\"lines\"><path class=\"js-line\" d=\"M0,167.74L21.68,161.12L43.37,152.05L65.05,144.08L86.74,133.55L108.42,133.05L130.1,133.55L151.79,141.29L173.47,144.03L216.84,147.75L238.52,155.06\" style=\"vector-effect: non-scaling-stroke; fill: none; stroke: rgb(27, 12, 65); stroke-opacity: 1; stroke-width: 2px; opacity: 1;\"/></g><g class=\"points\"/><g class=\"text\"/></g><g class=\"trace scatter trace94c479\" style=\"stroke-miterlimit: 2; opacity: 1;\"><g class=\"fills\"/><g class=\"errorbars\"/><g class=\"lines\"><path class=\"js-line\" d=\"M0,156.26L21.68,146.81L43.37,133.55L65.05,128.86L86.74,122.82L108.42,121.96L130.1,122.79L173.47,132.44L195.16,132.99L216.84,133.02L238.52,139.06\" style=\"vector-effect: non-scaling-stroke; fill: none; stroke: rgb(74, 12, 107); stroke-opacity: 1; stroke-width: 2px; opacity: 1;\"/></g><g class=\"points\"/><g class=\"text\"/></g><g class=\"trace scatter trace31aaa4\" style=\"stroke-miterlimit: 2; opacity: 1;\"><g class=\"fills\"/><g class=\"errorbars\"/><g class=\"lines\"><path class=\"js-line\" d=\"M0,143.2L21.68,136.35L43.37,126.17L65.05,117L86.74,111.23L108.42,105.97L130.1,107.38L173.47,113.85L195.16,116.12L216.84,119.26L238.52,132.03\" style=\"vector-effect: non-scaling-stroke; fill: none; stroke: rgb(120, 28, 109); stroke-opacity: 1; stroke-width: 2px; opacity: 1;\"/></g><g class=\"points\"/><g class=\"text\"/></g><g class=\"trace scatter trace7fab87\" style=\"stroke-miterlimit: 2; opacity: 1;\"><g class=\"fills\"/><g class=\"errorbars\"/><g class=\"lines\"><path class=\"js-line\" d=\"M0,133.3L43.37,105.97L65.05,116.45L86.74,99.9L108.42,76.48L130.1,55.91L151.79,50.31L173.47,47.5L195.16,39.78L238.52,48.9\" style=\"vector-effect: non-scaling-stroke; fill: none; stroke: rgb(165, 44, 96); stroke-opacity: 1; stroke-width: 2px; opacity: 1;\"/></g><g class=\"points\"/><g class=\"text\"/></g><g class=\"trace scatter traceed5912\" style=\"stroke-miterlimit: 2; opacity: 1;\"><g class=\"fills\"/><g class=\"errorbars\"/><g class=\"lines\"><path class=\"js-line\" d=\"M0,50.81L21.68,37.02L43.37,32.36L65.05,23.23L86.74,22.73L108.42,22.73L130.1,28.19L173.47,47.68L195.16,50.26L216.84,50.56L238.52,54.39\" style=\"vector-effect: non-scaling-stroke; fill: none; stroke: rgb(207, 68, 70); stroke-opacity: 1; stroke-width: 2px; opacity: 1;\"/></g><g class=\"points\"/><g class=\"text\"/></g><g class=\"trace scatter trace2ac81c\" style=\"stroke-miterlimit: 2; opacity: 1;\"><g class=\"fills\"/><g class=\"errorbars\"/><g class=\"lines\"><path class=\"js-line\" d=\"M0,54.2L21.68,41.98L43.37,22.98L65.05,17.44L86.74,8.89L108.42,8.91L130.1,22.68L173.47,36.47L195.16,41.98\" style=\"vector-effect: non-scaling-stroke; fill: none; stroke: rgb(237, 105, 37); stroke-opacity: 1; stroke-width: 2px; opacity: 1;\"/></g><g class=\"points\"/><g class=\"text\"/></g></g></g><g class=\"overplot\"/><path class=\"xlines-above crisp\" d=\"M0,0\" style=\"fill: none;\"/><path class=\"ylines-above crisp\" d=\"M0,0\" style=\"fill: none;\"/><g class=\"overlines-above\"/><g class=\"xaxislayer-above\"/><g class=\"yaxislayer-above\"><g class=\"y9tick\"><text text-anchor=\"end\" x=\"79\" y=\"4.199999999999999\" transform=\"translate(0,260.57000000000005)\" style=\"font-family: 'Open Sans', verdana, arial, sans-serif; font-size: 12px; fill: rgb(42, 63, 95); fill-opacity: 1; white-space: pre; opacity: 1;\">500k</text></g><g class=\"y9tick\"><text text-anchor=\"end\" x=\"79\" y=\"4.199999999999999\" style=\"font-family: 'Open Sans', verdana, arial, sans-serif; font-size: 12px; fill: rgb(42, 63, 95); fill-opacity: 1; white-space: pre; opacity: 1;\" transform=\"translate(0,205.41000000000008)\">600k</text></g><g class=\"y9tick\"><text text-anchor=\"end\" x=\"79\" y=\"4.199999999999999\" style=\"font-family: 'Open Sans', verdana, arial, sans-serif; font-size: 12px; fill: rgb(42, 63, 95); fill-opacity: 1; white-space: pre; opacity: 1;\" transform=\"translate(0,150.26000000000008)\">700k</text></g></g><g class=\"overaxes-above\"/></g><g class=\"subplot x10y10\"><g class=\"layer-subplot\"><g class=\"shapelayer\"/><g class=\"imagelayer\"/></g><g class=\"minor-gridlayer\"><g class=\"x10\"/><g class=\"y10\"/></g><g class=\"gridlayer\"><g class=\"x10\"><path class=\"x10grid crisp\" transform=\"translate(425.565,0)\" d=\"M0,100.00000000000007v177.73333333333332\" style=\"stroke: rgb(255, 255, 255); stroke-opacity: 1; stroke-width: 1px;\"/><path class=\"x10grid crisp\" transform=\"translate(533.985,0)\" d=\"M0,100.00000000000007v177.73333333333332\" style=\"stroke: rgb(255, 255, 255); stroke-opacity: 1; stroke-width: 1px;\"/></g><g class=\"y10\"><path class=\"y10grid crisp\" transform=\"translate(0,248.5800000000001)\" d=\"M338.825,0h238.52499999999998\" style=\"stroke: rgb(255, 255, 255); stroke-opacity: 1; stroke-width: 1px;\"/><path class=\"y10grid crisp\" transform=\"translate(0,213.56000000000006)\" d=\"M338.825,0h238.52499999999998\" style=\"stroke: rgb(255, 255, 255); stroke-opacity: 1; stroke-width: 1px;\"/><path class=\"y10grid crisp\" transform=\"translate(0,178.54000000000008)\" d=\"M338.825,0h238.52499999999998\" style=\"stroke: rgb(255, 255, 255); stroke-opacity: 1; stroke-width: 1px;\"/><path class=\"y10grid crisp\" transform=\"translate(0,143.52000000000007)\" d=\"M338.825,0h238.52499999999998\" style=\"stroke: rgb(255, 255, 255); stroke-opacity: 1; stroke-width: 1px;\"/><path class=\"y10grid crisp\" transform=\"translate(0,108.50000000000007)\" d=\"M338.825,0h238.52499999999998\" style=\"stroke: rgb(255, 255, 255); stroke-opacity: 1; stroke-width: 1px;\"/></g></g><g class=\"zerolinelayer\"/><path class=\"xlines-below\"/><path class=\"ylines-below\"/><g class=\"overlines-below\"/><g class=\"xaxislayer-below\"/><g class=\"yaxislayer-below\"/><g class=\"overaxes-below\"/><g class=\"plot\" transform=\"translate(338.825,100.00000000000007)\" clip-path=\"url(#clip06b9cex10y10plot)\"><g class=\"scatterlayer mlayer\"><g class=\"trace scatter trace318390\" style=\"stroke-miterlimit: 2; opacity: 1;\"><g class=\"fills\"/><g class=\"errorbars\"/><g class=\"lines\"><path class=\"js-line\" d=\"M130.1,166.16L151.79,166.16L173.47,167.27L195.16,168.85L216.84,166.11L238.52,166.09\" style=\"vector-effect: non-scaling-stroke; fill: none; stroke: rgb(0, 0, 4); stroke-opacity: 1; stroke-width: 2px; opacity: 1;\"/></g><g class=\"points\"/><g class=\"text\"/></g><g class=\"trace scatter trace92f9ac\" style=\"stroke-miterlimit: 2; opacity: 1;\"><g class=\"fills\"/><g class=\"errorbars\"/><g class=\"lines\"><path class=\"js-line\" d=\"M0,160.84L21.68,152.08L43.37,148.61L65.05,148.58L86.74,144.13L108.42,144.4L130.1,145.85L151.79,148.79L173.47,148.65L238.52,148.58\" style=\"vector-effect: non-scaling-stroke; fill: none; stroke: rgb(27, 12, 65); stroke-opacity: 1; stroke-width: 2px; opacity: 1;\"/></g><g class=\"points\"/><g class=\"text\"/></g><g class=\"trace scatter traceadc841\" style=\"stroke-miterlimit: 2; opacity: 1;\"><g class=\"fills\"/><g class=\"errorbars\"/><g class=\"lines\"><path class=\"js-line\" d=\"M0,143.68L21.68,132.84L43.37,128.25L86.74,131.14L108.42,131.83L151.79,146.83L173.47,148.58L238.52,148.65\" style=\"vector-effect: non-scaling-stroke; fill: none; stroke: rgb(74, 12, 107); stroke-opacity: 1; stroke-width: 2px; opacity: 1;\"/></g><g class=\"points\"/><g class=\"text\"/></g><g class=\"trace scatter trace1410ce\" style=\"stroke-miterlimit: 2; opacity: 1;\"><g class=\"fills\"/><g class=\"errorbars\"/><g class=\"lines\"><path class=\"js-line\" d=\"M0,148.58L21.68,139.9L43.37,133.11L65.05,131.07L86.74,130.02L108.42,127.64L130.1,128.27L151.79,132.98L173.47,135.85L195.16,136.39L216.84,134.64L238.52,133.56\" style=\"vector-effect: non-scaling-stroke; fill: none; stroke: rgb(120, 28, 109); stroke-opacity: 1; stroke-width: 2px; opacity: 1;\"/></g><g class=\"points\"/><g class=\"text\"/></g><g class=\"trace scatter traceb3b22d\" style=\"stroke-miterlimit: 2; opacity: 1;\"><g class=\"fills\"/><g class=\"errorbars\"/><g class=\"lines\"><path class=\"js-line\" d=\"M0,126.64L21.68,113.91L43.37,107.77L65.05,113.95L86.74,113.63L108.42,102.84L130.1,99.59L151.79,99.62L173.47,110.06L195.16,113.29L216.84,109.26L238.52,106.91\" style=\"vector-effect: non-scaling-stroke; fill: none; stroke: rgb(165, 44, 96); stroke-opacity: 1; stroke-width: 2px; opacity: 1;\"/></g><g class=\"points\"/><g class=\"text\"/></g><g class=\"trace scatter trace059b5e\" style=\"stroke-miterlimit: 2; opacity: 1;\"><g class=\"fills\"/><g class=\"errorbars\"/><g class=\"lines\"><path class=\"js-line\" d=\"M0,99.63L21.68,93.27L43.37,82.04L65.05,77.14L86.74,61.03L108.42,55.11L130.1,57.53L151.79,57.88L173.47,61.03L195.16,61.03L216.84,66.7L238.52,78.93\" style=\"vector-effect: non-scaling-stroke; fill: none; stroke: rgb(207, 68, 70); stroke-opacity: 1; stroke-width: 2px; opacity: 1;\"/></g><g class=\"points\"/><g class=\"text\"/></g><g class=\"trace scatter trace95ecaa\" style=\"stroke-miterlimit: 2; opacity: 1;\"><g class=\"fills\"/><g class=\"errorbars\"/><g class=\"lines\"><path class=\"js-line\" d=\"M0,61.03L21.68,45.62L43.37,36.35L65.05,23.21L86.74,8.89L108.42,10.25L130.1,23.21L173.47,43.52L195.16,44.22\" style=\"vector-effect: non-scaling-stroke; fill: none; stroke: rgb(237, 105, 37); stroke-opacity: 1; stroke-width: 2px; opacity: 1;\"/></g><g class=\"points\"/><g class=\"text\"/></g></g></g><g class=\"overplot\"/><path class=\"xlines-above crisp\" d=\"M0,0\" style=\"fill: none;\"/><path class=\"ylines-above crisp\" d=\"M0,0\" style=\"fill: none;\"/><g class=\"overlines-above\"/><g class=\"xaxislayer-above\"/><g class=\"yaxislayer-above\"/><g class=\"overaxes-above\"/></g><g class=\"subplot x11y11\"><g class=\"layer-subplot\"><g class=\"shapelayer\"/><g class=\"imagelayer\"/></g><g class=\"minor-gridlayer\"><g class=\"x11\"/><g class=\"y11\"/></g><g class=\"gridlayer\"><g class=\"x11\"><path class=\"x11grid crisp\" transform=\"translate(684.39,0)\" d=\"M0,100.00000000000007v177.73333333333332\" style=\"stroke: rgb(255, 255, 255); stroke-opacity: 1; stroke-width: 1px;\"/><path class=\"x11grid crisp\" transform=\"translate(792.81,0)\" d=\"M0,100.00000000000007v177.73333333333332\" style=\"stroke: rgb(255, 255, 255); stroke-opacity: 1; stroke-width: 1px;\"/></g><g class=\"y11\"><path class=\"y11grid crisp\" transform=\"translate(0,249.25000000000006)\" d=\"M597.65,0h238.52499999999998\" style=\"stroke: rgb(255, 255, 255); stroke-opacity: 1; stroke-width: 1px;\"/><path class=\"y11grid crisp\" transform=\"translate(0,203.08000000000007)\" d=\"M597.65,0h238.52499999999998\" style=\"stroke: rgb(255, 255, 255); stroke-opacity: 1; stroke-width: 1px;\"/><path class=\"y11grid crisp\" transform=\"translate(0,156.90000000000006)\" d=\"M597.65,0h238.52499999999998\" style=\"stroke: rgb(255, 255, 255); stroke-opacity: 1; stroke-width: 1px;\"/><path class=\"y11grid crisp\" transform=\"translate(0,110.73000000000008)\" d=\"M597.65,0h238.52499999999998\" style=\"stroke: rgb(255, 255, 255); stroke-opacity: 1; stroke-width: 1px;\"/></g></g><g class=\"zerolinelayer\"/><path class=\"xlines-below\"/><path class=\"ylines-below\"/><g class=\"overlines-below\"/><g class=\"xaxislayer-below\"/><g class=\"yaxislayer-below\"/><g class=\"overaxes-below\"/><g class=\"plot\" transform=\"translate(597.65,100.00000000000007)\" clip-path=\"url(#clip06b9cex11y11plot)\"><g class=\"scatterlayer mlayer\"><g class=\"trace scatter tracec7dd00\" style=\"stroke-miterlimit: 2; opacity: 1;\"><g class=\"fills\"/><g class=\"errorbars\"/><g class=\"lines\"><path class=\"js-line\" d=\"M130.1,167.76L173.47,168.18L195.16,168.18L216.84,168.85L238.52,168.18\" style=\"vector-effect: non-scaling-stroke; fill: none; stroke: rgb(0, 0, 4); stroke-opacity: 1; stroke-width: 2px; opacity: 1;\"/></g><g class=\"points\"/><g class=\"text\"/></g><g class=\"trace scatter trace64b1ae\" style=\"stroke-miterlimit: 2; opacity: 1;\"><g class=\"fills\"/><g class=\"errorbars\"/><g class=\"lines\"><path class=\"js-line\" d=\"M0,167.97L21.68,166.57L43.37,163.36L86.74,154.28L108.42,154.21L151.79,153.91L173.47,154.32L195.16,153.89L216.84,151.55L238.52,150.5\" style=\"vector-effect: non-scaling-stroke; fill: none; stroke: rgb(27, 12, 65); stroke-opacity: 1; stroke-width: 2px; opacity: 1;\"/></g><g class=\"points\"/><g class=\"text\"/></g><g class=\"trace scatter trace50022e\" style=\"stroke-miterlimit: 2; opacity: 1;\"><g class=\"fills\"/><g class=\"errorbars\"/><g class=\"lines\"><path class=\"js-line\" d=\"M0,150.28L43.37,146.56L65.05,141.09L86.74,137.7L108.42,137.7L130.1,137.03L151.79,135.5L173.47,137.7L195.16,137.7L216.84,137.7L238.52,136.12\" style=\"vector-effect: non-scaling-stroke; fill: none; stroke: rgb(74, 12, 107); stroke-opacity: 1; stroke-width: 2px; opacity: 1;\"/></g><g class=\"points\"/><g class=\"text\"/></g><g class=\"trace scatter trace19fdad\" style=\"stroke-miterlimit: 2; opacity: 1;\"><g class=\"fills\"/><g class=\"errorbars\"/><g class=\"lines\"><path class=\"js-line\" d=\"M0,135.44L21.68,134.27L43.37,131.81L86.74,124.1L108.42,121.54L130.1,119.25L151.79,120.63L173.47,122.72L195.16,123.89L238.52,121.59\" style=\"vector-effect: non-scaling-stroke; fill: none; stroke: rgb(120, 28, 109); stroke-opacity: 1; stroke-width: 2px; opacity: 1;\"/></g><g class=\"points\"/><g class=\"text\"/></g><g class=\"trace scatter trace0abd11\" style=\"stroke-miterlimit: 2; opacity: 1;\"><g class=\"fills\"/><g class=\"errorbars\"/><g class=\"lines\"><path class=\"js-line\" d=\"M0,120.41L43.37,113.16L65.05,112.4L86.74,110L108.42,104.69L130.1,103.12L151.79,103.08L173.47,101.9L195.16,96.18L216.84,89.48L238.52,91.53\" style=\"vector-effect: non-scaling-stroke; fill: none; stroke: rgb(165, 44, 96); stroke-opacity: 1; stroke-width: 2px; opacity: 1;\"/></g><g class=\"points\"/><g class=\"text\"/></g><g class=\"trace scatter trace63aa4f\" style=\"stroke-miterlimit: 2; opacity: 1;\"><g class=\"fills\"/><g class=\"errorbars\"/><g class=\"lines\"><path class=\"js-line\" d=\"M0,84.61L21.68,72.19L43.37,64.76L65.05,59.26L86.74,51.54L108.42,38.67L130.1,39.36L151.79,43.08L173.47,45.38L216.84,43.31L238.52,36.36\" style=\"vector-effect: non-scaling-stroke; fill: none; stroke: rgb(207, 68, 70); stroke-opacity: 1; stroke-width: 2px; opacity: 1;\"/></g><g class=\"points\"/><g class=\"text\"/></g><g class=\"trace scatter trace85c53c\" style=\"stroke-miterlimit: 2; opacity: 1;\"><g class=\"fills\"/><g class=\"errorbars\"/><g class=\"lines\"><path class=\"js-line\" d=\"M0,29.25L21.68,18.04L43.37,15.36L65.05,11.2L86.74,8.89L108.42,17.71L130.1,24.63L151.79,32.2L173.47,33.87L195.16,36.13\" style=\"vector-effect: non-scaling-stroke; fill: none; stroke: rgb(237, 105, 37); stroke-opacity: 1; stroke-width: 2px; opacity: 1;\"/></g><g class=\"points\"/><g class=\"text\"/></g></g></g><g class=\"overplot\"/><path class=\"xlines-above crisp\" d=\"M0,0\" style=\"fill: none;\"/><path class=\"ylines-above crisp\" d=\"M0,0\" style=\"fill: none;\"/><g class=\"overlines-above\"/><g class=\"xaxislayer-above\"/><g class=\"yaxislayer-above\"/><g class=\"overaxes-above\"/></g><g class=\"subplot x12y12\"><g class=\"layer-subplot\"><g class=\"shapelayer\"/><g class=\"imagelayer\"/></g><g class=\"minor-gridlayer\"><g class=\"x12\"/><g class=\"y12\"/></g><g class=\"gridlayer\"><g class=\"x12\"><path class=\"x12grid crisp\" transform=\"translate(943.2149999999999,0)\" d=\"M0,100.00000000000007v177.73333333333332\" style=\"stroke: rgb(255, 255, 255); stroke-opacity: 1; stroke-width: 1px;\"/><path class=\"x12grid crisp\" transform=\"translate(1051.635,0)\" d=\"M0,100.00000000000007v177.73333333333332\" style=\"stroke: rgb(255, 255, 255); stroke-opacity: 1; stroke-width: 1px;\"/></g><g class=\"y12\"><path class=\"y12grid crisp\" transform=\"translate(0,268.69000000000005)\" d=\"M856.4749999999999,0h238.52499999999998\" style=\"stroke: rgb(255, 255, 255); stroke-opacity: 1; stroke-width: 1px;\"/><path class=\"y12grid crisp\" transform=\"translate(0,192.56000000000006)\" d=\"M856.4749999999999,0h238.52499999999998\" style=\"stroke: rgb(255, 255, 255); stroke-opacity: 1; stroke-width: 1px;\"/><path class=\"y12grid crisp\" transform=\"translate(0,116.42000000000007)\" d=\"M856.4749999999999,0h238.52499999999998\" style=\"stroke: rgb(255, 255, 255); stroke-opacity: 1; stroke-width: 1px;\"/></g></g><g class=\"zerolinelayer\"/><path class=\"xlines-below\"/><path class=\"ylines-below\"/><g class=\"overlines-below\"/><g class=\"xaxislayer-below\"/><g class=\"yaxislayer-below\"/><g class=\"overaxes-below\"/><g class=\"plot\" transform=\"translate(856.4749999999999,100.00000000000007)\" clip-path=\"url(#clip06b9cex12y12plot)\"><g class=\"scatterlayer mlayer\"><g class=\"trace scatter trace67e842\" style=\"stroke-miterlimit: 2; opacity: 1;\"><g class=\"fills\"/><g class=\"errorbars\"/><g class=\"lines\"><path class=\"js-line\" d=\"M130.1,130.78L151.79,134.13L173.47,138.24L195.16,138.39L216.84,145.93L238.52,167.17\" style=\"vector-effect: non-scaling-stroke; fill: none; stroke: rgb(0, 0, 4); stroke-opacity: 1; stroke-width: 2px; opacity: 1;\"/></g><g class=\"points\"/><g class=\"text\"/></g><g class=\"trace scatter trace7f44bc\" style=\"stroke-miterlimit: 2; opacity: 1;\"><g class=\"fills\"/><g class=\"errorbars\"/><g class=\"lines\"><path class=\"js-line\" d=\"M0,168.85L21.68,151.34L43.37,130.7L65.05,123.17L86.74,108.62L108.42,105.5L130.1,107.94L151.79,114.26L173.47,115.55L195.16,119.97L216.84,127.58L238.52,139.76\" style=\"vector-effect: non-scaling-stroke; fill: none; stroke: rgb(27, 12, 65); stroke-opacity: 1; stroke-width: 2px; opacity: 1;\"/></g><g class=\"points\"/><g class=\"text\"/></g><g class=\"trace scatter trace5c5a9c\" style=\"stroke-miterlimit: 2; opacity: 1;\"><g class=\"fills\"/><g class=\"errorbars\"/><g class=\"lines\"><path class=\"js-line\" d=\"M0,146.62L21.68,131.77L43.37,109.31L65.05,93.02L86.74,92.56L108.42,91.04L130.1,92.71L151.79,92.71L173.47,94.84L195.16,100.33L216.84,107.94L238.52,124.54\" style=\"vector-effect: non-scaling-stroke; fill: none; stroke: rgb(74, 12, 107); stroke-opacity: 1; stroke-width: 2px; opacity: 1;\"/></g><g class=\"points\"/><g class=\"text\"/></g><g class=\"trace scatter trace30bfa4\" style=\"stroke-miterlimit: 2; opacity: 1;\"><g class=\"fills\"/><g class=\"errorbars\"/><g class=\"lines\"><path class=\"js-line\" d=\"M0,130.63L21.68,112.43L43.37,91.62L65.05,69.87L86.74,62.94L108.42,62.26L130.1,69.79L173.47,86.41L195.16,92.71L216.84,103.37L238.52,121.5\" style=\"vector-effect: non-scaling-stroke; fill: none; stroke: rgb(120, 28, 109); stroke-opacity: 1; stroke-width: 2px; opacity: 1;\"/></g><g class=\"points\"/><g class=\"text\"/></g><g class=\"trace scatter trace3ff722\" style=\"stroke-miterlimit: 2; opacity: 1;\"><g class=\"fills\"/><g class=\"errorbars\"/><g class=\"lines\"><path class=\"js-line\" d=\"M0,123.77L21.68,100.33L43.37,85.02L65.05,92.64L86.74,70.48L108.42,61.64L130.1,50.76L151.79,47.03L173.47,44.37L195.16,48.4L216.84,62.18L238.52,78.17\" style=\"vector-effect: non-scaling-stroke; fill: none; stroke: rgb(165, 44, 96); stroke-opacity: 1; stroke-width: 2px; opacity: 1;\"/></g><g class=\"points\"/><g class=\"text\"/></g><g class=\"trace scatter trace10b434\" style=\"stroke-miterlimit: 2; opacity: 1;\"><g class=\"fills\"/><g class=\"errorbars\"/><g class=\"lines\"><path class=\"js-line\" d=\"M0,87.23L21.68,73.6L43.37,51.45L65.05,35.15L86.74,17.26L108.42,16.58L130.1,17.95L173.47,46.95L195.16,47.03L216.84,65.99L238.52,81.98\" style=\"vector-effect: non-scaling-stroke; fill: none; stroke: rgb(207, 68, 70); stroke-opacity: 1; stroke-width: 2px; opacity: 1;\"/></g><g class=\"points\"/><g class=\"text\"/></g><g class=\"trace scatter trace608dfe\" style=\"stroke-miterlimit: 2; opacity: 1;\"><g class=\"fills\"/><g class=\"errorbars\"/><g class=\"lines\"><path class=\"js-line\" d=\"M0,94.08L21.68,85.03L43.37,54.75L65.05,39.26L86.74,16.51L108.42,8.89L130.1,16.42L151.79,16.58L173.47,17.95L195.16,24.19\" style=\"vector-effect: non-scaling-stroke; fill: none; stroke: rgb(237, 105, 37); stroke-opacity: 1; stroke-width: 2px; opacity: 1;\"/></g><g class=\"points\"/><g class=\"text\"/></g></g></g><g class=\"overplot\"/><path class=\"xlines-above crisp\" d=\"M0,0\" style=\"fill: none;\"/><path class=\"ylines-above crisp\" d=\"M0,0\" style=\"fill: none;\"/><g class=\"overlines-above\"/><g class=\"xaxislayer-above\"/><g class=\"yaxislayer-above\"/><g class=\"overaxes-above\"/></g></g><g class=\"polarlayer\"/><g class=\"smithlayer\"/><g class=\"ternarylayer\"/><g class=\"geolayer\"/><g class=\"funnelarealayer\"/><g class=\"pielayer\"/><g class=\"iciclelayer\"/><g class=\"treemaplayer\"/><g class=\"sunburstlayer\"/><g class=\"glimages\"/><defs id=\"topdefs-06b9ce\"><g class=\"clips\"/><clipPath id=\"legend06b9ce\"><rect width=\"73\" height=\"162\" x=\"0\" y=\"0\"/></clipPath></defs><g class=\"layer-above\"><g class=\"imagelayer\"/><g class=\"shapelayer\"/></g><g class=\"infolayer\"><g class=\"legend\" pointer-events=\"all\" transform=\"translate(1115.3,100)\"><rect class=\"bg\" shape-rendering=\"crispEdges\" width=\"73\" height=\"162\" x=\"0\" y=\"0\" style=\"stroke: rgb(68, 68, 68); stroke-opacity: 1; fill: rgb(255, 255, 255); fill-opacity: 1; stroke-width: 0px;\"/><g class=\"scrollbox\" transform=\"\" clip-path=\"url(#legend06b9ce)\"><text class=\"legendtitletext\" text-anchor=\"start\" x=\"2\" y=\"18.2\" style=\"font-family: 'Open Sans', verdana, arial, sans-serif; font-size: 14px; fill: rgb(42, 63, 95); fill-opacity: 1; white-space: pre;\">year</text><g class=\"groups\" transform=\"\"><g class=\"traces\" transform=\"translate(0,32.7)\" style=\"opacity: 1;\"><text class=\"legendtext\" text-anchor=\"start\" x=\"40\" y=\"4.680000000000001\" style=\"font-family: 'Open Sans', verdana, arial, sans-serif; font-size: 12px; fill: rgb(42, 63, 95); fill-opacity: 1; white-space: pre;\">2016</text><g class=\"layers\" style=\"opacity: 1;\"><g class=\"legendfill\"/><g class=\"legendlines\"><path class=\"js-line\" d=\"M5,0h30\" style=\"fill: none; stroke: rgb(0, 0, 4); stroke-opacity: 1; stroke-width: 2px;\"/></g><g class=\"legendsymbols\"><g class=\"legendpoints\"/></g></g><rect class=\"legendtoggle\" x=\"0\" y=\"-9.5\" width=\"67.59375\" height=\"19\" style=\"fill: rgb(0, 0, 0); fill-opacity: 0;\"/></g></g><g class=\"groups\" transform=\"\"><g class=\"traces\" transform=\"translate(0,51.7)\" style=\"opacity: 1;\"><text class=\"legendtext\" text-anchor=\"start\" x=\"40\" y=\"4.680000000000001\" style=\"font-family: 'Open Sans', verdana, arial, sans-serif; font-size: 12px; fill: rgb(42, 63, 95); fill-opacity: 1; white-space: pre;\">2017</text><g class=\"layers\" style=\"opacity: 1;\"><g class=\"legendfill\"/><g class=\"legendlines\"><path class=\"js-line\" d=\"M5,0h30\" style=\"fill: none; stroke: rgb(27, 12, 65); stroke-opacity: 1; stroke-width: 2px;\"/></g><g class=\"legendsymbols\"><g class=\"legendpoints\"/></g></g><rect class=\"legendtoggle\" x=\"0\" y=\"-9.5\" width=\"67.59375\" height=\"19\" style=\"fill: rgb(0, 0, 0); fill-opacity: 0;\"/></g></g><g class=\"groups\" transform=\"\"><g class=\"traces\" transform=\"translate(0,70.7)\" style=\"opacity: 1;\"><text class=\"legendtext\" text-anchor=\"start\" x=\"40\" y=\"4.680000000000001\" style=\"font-family: 'Open Sans', verdana, arial, sans-serif; font-size: 12px; fill: rgb(42, 63, 95); fill-opacity: 1; white-space: pre;\">2018</text><g class=\"layers\" style=\"opacity: 1;\"><g class=\"legendfill\"/><g class=\"legendlines\"><path class=\"js-line\" d=\"M5,0h30\" style=\"fill: none; stroke: rgb(74, 12, 107); stroke-opacity: 1; stroke-width: 2px;\"/></g><g class=\"legendsymbols\"><g class=\"legendpoints\"/></g></g><rect class=\"legendtoggle\" x=\"0\" y=\"-9.5\" width=\"67.59375\" height=\"19\" style=\"fill: rgb(0, 0, 0); fill-opacity: 0;\"/></g></g><g class=\"groups\" transform=\"\"><g class=\"traces\" transform=\"translate(0,89.7)\" style=\"opacity: 1;\"><text class=\"legendtext\" text-anchor=\"start\" x=\"40\" y=\"4.680000000000001\" style=\"font-family: 'Open Sans', verdana, arial, sans-serif; font-size: 12px; fill: rgb(42, 63, 95); fill-opacity: 1; white-space: pre;\">2019</text><g class=\"layers\" style=\"opacity: 1;\"><g class=\"legendfill\"/><g class=\"legendlines\"><path class=\"js-line\" d=\"M5,0h30\" style=\"fill: none; stroke: rgb(120, 28, 109); stroke-opacity: 1; stroke-width: 2px;\"/></g><g class=\"legendsymbols\"><g class=\"legendpoints\"/></g></g><rect class=\"legendtoggle\" x=\"0\" y=\"-9.5\" width=\"67.59375\" height=\"19\" style=\"fill: rgb(0, 0, 0); fill-opacity: 0;\"/></g></g><g class=\"groups\" transform=\"\"><g class=\"traces\" transform=\"translate(0,108.7)\" style=\"opacity: 1;\"><text class=\"legendtext\" text-anchor=\"start\" x=\"40\" y=\"4.680000000000001\" style=\"font-family: 'Open Sans', verdana, arial, sans-serif; font-size: 12px; fill: rgb(42, 63, 95); fill-opacity: 1; white-space: pre;\">2020</text><g class=\"layers\" style=\"opacity: 1;\"><g class=\"legendfill\"/><g class=\"legendlines\"><path class=\"js-line\" d=\"M5,0h30\" style=\"fill: none; stroke: rgb(165, 44, 96); stroke-opacity: 1; stroke-width: 2px;\"/></g><g class=\"legendsymbols\"><g class=\"legendpoints\"/></g></g><rect class=\"legendtoggle\" x=\"0\" y=\"-9.5\" width=\"67.59375\" height=\"19\" style=\"fill: rgb(0, 0, 0); fill-opacity: 0;\"/></g></g><g class=\"groups\" transform=\"\"><g class=\"traces\" transform=\"translate(0,127.7)\" style=\"opacity: 1;\"><text class=\"legendtext\" text-anchor=\"start\" x=\"40\" y=\"4.680000000000001\" style=\"font-family: 'Open Sans', verdana, arial, sans-serif; font-size: 12px; fill: rgb(42, 63, 95); fill-opacity: 1; white-space: pre;\">2021</text><g class=\"layers\" style=\"opacity: 1;\"><g class=\"legendfill\"/><g class=\"legendlines\"><path class=\"js-line\" d=\"M5,0h30\" style=\"fill: none; stroke: rgb(207, 68, 70); stroke-opacity: 1; stroke-width: 2px;\"/></g><g class=\"legendsymbols\"><g class=\"legendpoints\"/></g></g><rect class=\"legendtoggle\" x=\"0\" y=\"-9.5\" width=\"67.59375\" height=\"19\" style=\"fill: rgb(0, 0, 0); fill-opacity: 0;\"/></g></g><g class=\"groups\" transform=\"\"><g class=\"traces\" transform=\"translate(0,146.7)\" style=\"opacity: 1;\"><text class=\"legendtext\" text-anchor=\"start\" x=\"40\" y=\"4.680000000000001\" style=\"font-family: 'Open Sans', verdana, arial, sans-serif; font-size: 12px; fill: rgb(42, 63, 95); fill-opacity: 1; white-space: pre;\">2022</text><g class=\"layers\" style=\"opacity: 1;\"><g class=\"legendfill\"/><g class=\"legendlines\"><path class=\"js-line\" d=\"M5,0h30\" style=\"fill: none; stroke: rgb(237, 105, 37); stroke-opacity: 1; stroke-width: 2px;\"/></g><g class=\"legendsymbols\"><g class=\"legendpoints\"/></g></g><rect class=\"legendtoggle\" x=\"0\" y=\"-9.5\" width=\"67.59375\" height=\"19\" style=\"fill: rgb(0, 0, 0); fill-opacity: 0;\"/></g></g></g><rect class=\"scrollbar\" rx=\"20\" ry=\"3\" width=\"0\" height=\"0\" x=\"0\" y=\"0\" style=\"fill: rgb(128, 139, 164); fill-opacity: 1;\"/></g><g class=\"g-gtitle\"><text class=\"gtitle\" x=\"60\" y=\"50\" text-anchor=\"start\" dy=\"0em\" style=\"font-family: 'Open Sans', verdana, arial, sans-serif; font-size: 17px; fill: rgb(42, 63, 95); opacity: 1; font-weight: normal; white-space: pre;\">Median List Prices of Homes Over Time by State</text></g><g class=\"g-xtitle\"><text class=\"xtitle\" x=\"199.2625\" y=\"761.8\" text-anchor=\"middle\" style=\"font-family: 'Open Sans', verdana, arial, sans-serif; font-size: 14px; fill: rgb(42, 63, 95); opacity: 1; font-weight: normal; white-space: pre;\">month_num</text></g><g class=\"g-x2title\"><text class=\"x2title\" x=\"458.0875\" y=\"761.8\" text-anchor=\"middle\" style=\"font-family: 'Open Sans', verdana, arial, sans-serif; font-size: 14px; fill: rgb(42, 63, 95); opacity: 1; font-weight: normal; white-space: pre;\">month_num</text></g><g class=\"g-x3title\"><text class=\"x3title\" x=\"716.9124999999999\" y=\"761.8\" text-anchor=\"middle\" style=\"font-family: 'Open Sans', verdana, arial, sans-serif; font-size: 14px; fill: rgb(42, 63, 95); opacity: 1; font-weight: normal; white-space: pre;\">month_num</text></g><g class=\"g-x4title\"><text class=\"x4title\" x=\"975.7375\" y=\"761.8\" text-anchor=\"middle\" style=\"font-family: 'Open Sans', verdana, arial, sans-serif; font-size: 14px; fill: rgb(42, 63, 95); opacity: 1; font-weight: normal; white-space: pre;\">month_num</text></g><g class=\"g-x5title\"/><g class=\"g-x6title\"/><g class=\"g-x7title\"/><g class=\"g-x8title\"/><g class=\"g-x9title\"/><g class=\"g-x10title\"/><g class=\"g-x11title\"/><g class=\"g-x12title\"/><g class=\"g-ytitle\"><text class=\"ytitle\" transform=\"rotate(-90,27.309375000000003,631.1333333333333)\" x=\"27.309375000000003\" y=\"631.1333333333333\" text-anchor=\"middle\" style=\"font-family: 'Open Sans', verdana, arial, sans-serif; font-size: 14px; fill: rgb(42, 63, 95); opacity: 1; font-weight: normal; white-space: pre;\">med_lp</text></g><g class=\"g-y2title\"/><g class=\"g-y3title\"/><g class=\"g-y4title\"/><g class=\"g-y5title\"><text class=\"y5title\" transform=\"rotate(-90,27.309375000000003,410)\" x=\"27.309375000000003\" y=\"410\" text-anchor=\"middle\" style=\"font-family: 'Open Sans', verdana, arial, sans-serif; font-size: 14px; fill: rgb(42, 63, 95); opacity: 1; font-weight: normal; white-space: pre;\">med_lp</text></g><g class=\"g-y6title\"/><g class=\"g-y7title\"/><g class=\"g-y8title\"/><g class=\"g-y9title\"><text class=\"y9title\" transform=\"rotate(-90,27.309375000000003,188.86666666666673)\" x=\"27.309375000000003\" y=\"188.86666666666673\" text-anchor=\"middle\" style=\"font-family: 'Open Sans', verdana, arial, sans-serif; font-size: 14px; fill: rgb(42, 63, 95); opacity: 1; font-weight: normal; white-space: pre;\">med_lp</text></g><g class=\"g-y10title\"/><g class=\"g-y11title\"/><g class=\"g-y12title\"/><g class=\"annotation\" data-index=\"0\" style=\"opacity: 1;\"><g class=\"annotation-text-g\" transform=\"rotate(0,199.2625,531.7666666666667)\"><g class=\"cursor-pointer\" transform=\"translate(172,521)\"><rect class=\"bg\" x=\"0.5\" y=\"0.5\" width=\"53\" height=\"20\" style=\"stroke-width: 1px; stroke: rgb(0, 0, 0); stroke-opacity: 0; fill: rgb(0, 0, 0); fill-opacity: 0;\"/><text class=\"annotation-text\" text-anchor=\"middle\" x=\"26.65625\" y=\"15\" style=\"font-family: 'Open Sans', verdana, arial, sans-serif; font-size: 12px; fill: rgb(42, 63, 95); fill-opacity: 1; white-space: pre;\">state=PA</text></g></g></g><g class=\"annotation\" data-index=\"1\" style=\"opacity: 1;\"><g class=\"annotation-text-g\" transform=\"rotate(0,458.0875,531.7666666666667)\"><g class=\"cursor-pointer\" transform=\"translate(431,521)\"><rect class=\"bg\" x=\"0.5\" y=\"0.5\" width=\"53\" height=\"20\" style=\"stroke-width: 1px; stroke: rgb(0, 0, 0); stroke-opacity: 0; fill: rgb(0, 0, 0); fill-opacity: 0;\"/><text class=\"annotation-text\" text-anchor=\"middle\" x=\"26.921875\" y=\"15\" style=\"font-family: 'Open Sans', verdana, arial, sans-serif; font-size: 12px; fill: rgb(42, 63, 95); fill-opacity: 1; white-space: pre;\">state=UT</text></g></g></g><g class=\"annotation\" data-index=\"2\" style=\"opacity: 1;\"><g class=\"annotation-text-g\" transform=\"rotate(0,716.9124999999999,531.7666666666667)\"><g class=\"cursor-pointer\" transform=\"translate(690,521)\"><rect class=\"bg\" x=\"0.5\" y=\"0.5\" width=\"52\" height=\"20\" style=\"stroke-width: 1px; stroke: rgb(0, 0, 0); stroke-opacity: 0; fill: rgb(0, 0, 0); fill-opacity: 0;\"/><text class=\"annotation-text\" text-anchor=\"middle\" x=\"26.46875\" y=\"15\" style=\"font-family: 'Open Sans', verdana, arial, sans-serif; font-size: 12px; fill: rgb(42, 63, 95); fill-opacity: 1; white-space: pre;\">state=WI</text></g></g></g><g class=\"annotation\" data-index=\"3\" style=\"opacity: 1;\"><g class=\"annotation-text-g\" transform=\"rotate(0,975.7374999999998,531.7666666666667)\"><g class=\"cursor-pointer\" transform=\"translate(947,521)\"><rect class=\"bg\" x=\"0.5\" y=\"0.5\" width=\"57\" height=\"20\" style=\"stroke-width: 1px; stroke: rgb(0, 0, 0); stroke-opacity: 0; fill: rgb(0, 0, 0); fill-opacity: 0;\"/><text class=\"annotation-text\" text-anchor=\"middle\" x=\"28.15625\" y=\"15\" style=\"font-family: 'Open Sans', verdana, arial, sans-serif; font-size: 12px; fill: rgb(42, 63, 95); fill-opacity: 1; white-space: pre;\">state=WY</text></g></g></g><g class=\"annotation\" data-index=\"4\" style=\"opacity: 1;\"><g class=\"annotation-text-g\" transform=\"rotate(0,199.2625,310.6333333333333)\"><g class=\"cursor-pointer\" transform=\"translate(173,300)\"><rect class=\"bg\" x=\"0.5\" y=\"0.5\" width=\"52\" height=\"20\" style=\"stroke-width: 1px; stroke: rgb(0, 0, 0); stroke-opacity: 0; fill: rgb(0, 0, 0); fill-opacity: 0;\"/><text class=\"annotation-text\" text-anchor=\"middle\" x=\"26.328125\" y=\"15\" style=\"font-family: 'Open Sans', verdana, arial, sans-serif; font-size: 12px; fill: rgb(42, 63, 95); fill-opacity: 1; white-space: pre;\">state=MI</text></g></g></g><g class=\"annotation\" data-index=\"5\" style=\"opacity: 1;\"><g class=\"annotation-text-g\" transform=\"rotate(0,458.0875,310.6333333333333)\"><g class=\"cursor-pointer\" transform=\"translate(431,300)\"><rect class=\"bg\" x=\"0.5\" y=\"0.5\" width=\"54\" height=\"20\" style=\"stroke-width: 1px; stroke: rgb(0, 0, 0); stroke-opacity: 0; fill: rgb(0, 0, 0); fill-opacity: 0;\"/><text class=\"annotation-text\" text-anchor=\"middle\" x=\"27.09375\" y=\"15\" style=\"font-family: 'Open Sans', verdana, arial, sans-serif; font-size: 12px; fill: rgb(42, 63, 95); fill-opacity: 1; white-space: pre;\">state=NE</text></g></g></g><g class=\"annotation\" data-index=\"6\" style=\"opacity: 1;\"><g class=\"annotation-text-g\" transform=\"rotate(0,716.9124999999999,310.6333333333333)\"><g class=\"cursor-pointer\" transform=\"translate(689,300)\"><rect class=\"bg\" x=\"0.5\" y=\"0.5\" width=\"55\" height=\"20\" style=\"stroke-width: 1px; stroke: rgb(0, 0, 0); stroke-opacity: 0; fill: rgb(0, 0, 0); fill-opacity: 0;\"/><text class=\"annotation-text\" text-anchor=\"middle\" x=\"27.125\" y=\"15\" style=\"font-family: 'Open Sans', verdana, arial, sans-serif; font-size: 12px; fill: rgb(42, 63, 95); fill-opacity: 1; white-space: pre;\">state=NY</text></g></g></g><g class=\"annotation\" data-index=\"7\" style=\"opacity: 1;\"><g class=\"annotation-text-g\" transform=\"rotate(0,975.7374999999998,310.6333333333333)\"><g class=\"cursor-pointer\" transform=\"translate(948,300)\"><rect class=\"bg\" x=\"0.5\" y=\"0.5\" width=\"55\" height=\"20\" style=\"stroke-width: 1px; stroke: rgb(0, 0, 0); stroke-opacity: 0; fill: rgb(0, 0, 0); fill-opacity: 0;\"/><text class=\"annotation-text\" text-anchor=\"middle\" x=\"27.625\" y=\"15\" style=\"font-family: 'Open Sans', verdana, arial, sans-serif; font-size: 12px; fill: rgb(42, 63, 95); fill-opacity: 1; white-space: pre;\">state=OR</text></g></g></g><g class=\"annotation\" data-index=\"8\" style=\"opacity: 1;\"><g class=\"annotation-text-g\" transform=\"rotate(0,199.2625,89.50000000000007)\"><g class=\"cursor-pointer\" transform=\"translate(172,79)\"><rect class=\"bg\" x=\"0.5\" y=\"0.5\" width=\"53\" height=\"20\" style=\"stroke-width: 1px; stroke: rgb(0, 0, 0); stroke-opacity: 0; fill: rgb(0, 0, 0); fill-opacity: 0;\"/><text class=\"annotation-text\" text-anchor=\"middle\" x=\"26.828125\" y=\"15\" style=\"font-family: 'Open Sans', verdana, arial, sans-serif; font-size: 12px; fill: rgb(42, 63, 95); fill-opacity: 1; white-space: pre;\">state=CA</text></g></g></g><g class=\"annotation\" data-index=\"9\" style=\"opacity: 1;\"><g class=\"annotation-text-g\" transform=\"rotate(0,458.0875,89.50000000000007)\"><g class=\"cursor-pointer\" transform=\"translate(431,79)\"><rect class=\"bg\" x=\"0.5\" y=\"0.5\" width=\"54\" height=\"20\" style=\"stroke-width: 1px; stroke: rgb(0, 0, 0); stroke-opacity: 0; fill: rgb(0, 0, 0); fill-opacity: 0;\"/><text class=\"annotation-text\" text-anchor=\"middle\" x=\"27.703125\" y=\"15\" style=\"font-family: 'Open Sans', verdana, arial, sans-serif; font-size: 12px; fill: rgb(42, 63, 95); fill-opacity: 1; white-space: pre;\">state=CO</text></g></g></g><g class=\"annotation\" data-index=\"10\" style=\"opacity: 1;\"><g class=\"annotation-text-g\" transform=\"rotate(0,716.9124999999999,89.50000000000007)\"><g class=\"cursor-pointer\" transform=\"translate(691,79)\"><rect class=\"bg\" x=\"0.5\" y=\"0.5\" width=\"50\" height=\"20\" style=\"stroke-width: 1px; stroke: rgb(0, 0, 0); stroke-opacity: 0; fill: rgb(0, 0, 0); fill-opacity: 0;\"/><text class=\"annotation-text\" text-anchor=\"middle\" x=\"25.28125\" y=\"15\" style=\"font-family: 'Open Sans', verdana, arial, sans-serif; font-size: 12px; fill: rgb(42, 63, 95); fill-opacity: 1; white-space: pre;\">state=ID</text></g></g></g><g class=\"annotation\" data-index=\"11\" style=\"opacity: 1;\"><g class=\"annotation-text-g\" transform=\"rotate(0,975.7374999999998,89.50000000000007)\"><g class=\"cursor-pointer\" transform=\"translate(951,79)\"><rect class=\"bg\" x=\"0.5\" y=\"0.5\" width=\"48\" height=\"20\" style=\"stroke-width: 1px; stroke: rgb(0, 0, 0); stroke-opacity: 0; fill: rgb(0, 0, 0); fill-opacity: 0;\"/><text class=\"annotation-text\" text-anchor=\"middle\" x=\"24.03125\" y=\"15\" style=\"font-family: 'Open Sans', verdana, arial, sans-serif; font-size: 12px; fill: rgb(42, 63, 95); fill-opacity: 1; white-space: pre;\">state=IL</text></g></g></g></g></svg>"
     },
     "metadata": {},
     "output_type": "display_data"
    }
   ],
   "source": [
    "fig = px.line(df.query(\"state in @select_states\"),\n",
    "    x = 'month_num',\n",
    "    y = 'med_lp',\n",
    "    color = 'year',\n",
    "    facet_col = 'state',\n",
    "    facet_col_wrap = 4,\n",
    "    title = 'Median List Prices of Homes Over Time by State',\n",
    "    color_discrete_sequence=px.colors.sequential.Inferno\n",
    "    )\n",
    "fig.update_yaxes(matches = None)\n",
    "fig.update_layout(height = 800, width = 1200)\n",
    "fig.show(renderer = 'svg')"
   ]
  },
  {
   "cell_type": "markdown",
   "metadata": {},
   "source": [
    "### Number of listed properties with price reductions "
   ]
  },
  {
   "cell_type": "code",
   "execution_count": 87,
   "metadata": {},
   "outputs": [
    {
     "data": {
      "image/svg+xml": "<svg class=\"main-svg\" xmlns=\"http://www.w3.org/2000/svg\" xmlns:xlink=\"http://www.w3.org/1999/xlink\" width=\"1200\" height=\"800\" style=\"\" viewBox=\"0 0 1200 800\"><rect x=\"0\" y=\"0\" width=\"1200\" height=\"800\" style=\"fill: rgb(255, 255, 255); fill-opacity: 1;\"/><defs id=\"defs-5bd3a0\"><g class=\"clips\"><clipPath id=\"clip5bd3a0xyplot\" class=\"plotclip\"><rect width=\"238.52499999999998\" height=\"177.73333333333332\"/></clipPath><clipPath id=\"clip5bd3a0x2y2plot\" class=\"plotclip\"><rect width=\"238.52499999999998\" height=\"177.73333333333332\"/></clipPath><clipPath id=\"clip5bd3a0x3y3plot\" class=\"plotclip\"><rect width=\"238.52499999999998\" height=\"177.73333333333332\"/></clipPath><clipPath id=\"clip5bd3a0x4y4plot\" class=\"plotclip\"><rect width=\"238.52499999999998\" height=\"177.73333333333332\"/></clipPath><clipPath id=\"clip5bd3a0x5y5plot\" class=\"plotclip\"><rect width=\"238.52499999999998\" height=\"177.73333333333335\"/></clipPath><clipPath id=\"clip5bd3a0x6y6plot\" class=\"plotclip\"><rect width=\"238.52499999999998\" height=\"177.73333333333335\"/></clipPath><clipPath id=\"clip5bd3a0x7y7plot\" class=\"plotclip\"><rect width=\"238.52499999999998\" height=\"177.73333333333335\"/></clipPath><clipPath id=\"clip5bd3a0x8y8plot\" class=\"plotclip\"><rect width=\"238.52499999999998\" height=\"177.73333333333335\"/></clipPath><clipPath id=\"clip5bd3a0x9y9plot\" class=\"plotclip\"><rect width=\"238.52499999999998\" height=\"177.73333333333332\"/></clipPath><clipPath id=\"clip5bd3a0x10y10plot\" class=\"plotclip\"><rect width=\"238.52499999999998\" height=\"177.73333333333332\"/></clipPath><clipPath id=\"clip5bd3a0x11y11plot\" class=\"plotclip\"><rect width=\"238.52499999999998\" height=\"177.73333333333332\"/></clipPath><clipPath id=\"clip5bd3a0x12y12plot\" class=\"plotclip\"><rect width=\"238.52499999999998\" height=\"177.73333333333332\"/></clipPath><clipPath class=\"axesclip\" id=\"clip5bd3a0x\"><rect x=\"80\" y=\"0\" width=\"238.52499999999998\" height=\"800\"/></clipPath><clipPath class=\"axesclip\" id=\"clip5bd3a0y\"><rect x=\"0\" y=\"542.2666666666667\" width=\"1200\" height=\"177.73333333333332\"/></clipPath><clipPath class=\"axesclip\" id=\"clip5bd3a0xy\"><rect x=\"80\" y=\"542.2666666666667\" width=\"238.52499999999998\" height=\"177.73333333333332\"/></clipPath><clipPath class=\"axesclip\" id=\"clip5bd3a0y2\"><rect x=\"0\" y=\"542.2666666666667\" width=\"1200\" height=\"177.73333333333332\"/></clipPath><clipPath class=\"axesclip\" id=\"clip5bd3a0xy2\"><rect x=\"80\" y=\"542.2666666666667\" width=\"238.52499999999998\" height=\"177.73333333333332\"/></clipPath><clipPath class=\"axesclip\" id=\"clip5bd3a0y3\"><rect x=\"0\" y=\"542.2666666666667\" width=\"1200\" height=\"177.73333333333332\"/></clipPath><clipPath class=\"axesclip\" id=\"clip5bd3a0xy3\"><rect x=\"80\" y=\"542.2666666666667\" width=\"238.52499999999998\" height=\"177.73333333333332\"/></clipPath><clipPath class=\"axesclip\" id=\"clip5bd3a0y4\"><rect x=\"0\" y=\"542.2666666666667\" width=\"1200\" height=\"177.73333333333332\"/></clipPath><clipPath class=\"axesclip\" id=\"clip5bd3a0xy4\"><rect x=\"80\" y=\"542.2666666666667\" width=\"238.52499999999998\" height=\"177.73333333333332\"/></clipPath><clipPath class=\"axesclip\" id=\"clip5bd3a0y5\"><rect x=\"0\" y=\"321.1333333333333\" width=\"1200\" height=\"177.73333333333335\"/></clipPath><clipPath class=\"axesclip\" id=\"clip5bd3a0xy5\"><rect x=\"80\" y=\"321.1333333333333\" width=\"238.52499999999998\" height=\"177.73333333333335\"/></clipPath><clipPath class=\"axesclip\" id=\"clip5bd3a0y6\"><rect x=\"0\" y=\"321.1333333333333\" width=\"1200\" height=\"177.73333333333335\"/></clipPath><clipPath class=\"axesclip\" id=\"clip5bd3a0xy6\"><rect x=\"80\" y=\"321.1333333333333\" width=\"238.52499999999998\" height=\"177.73333333333335\"/></clipPath><clipPath class=\"axesclip\" id=\"clip5bd3a0y7\"><rect x=\"0\" y=\"321.1333333333333\" width=\"1200\" height=\"177.73333333333335\"/></clipPath><clipPath class=\"axesclip\" id=\"clip5bd3a0xy7\"><rect x=\"80\" y=\"321.1333333333333\" width=\"238.52499999999998\" height=\"177.73333333333335\"/></clipPath><clipPath class=\"axesclip\" id=\"clip5bd3a0y8\"><rect x=\"0\" y=\"321.1333333333333\" width=\"1200\" height=\"177.73333333333335\"/></clipPath><clipPath class=\"axesclip\" id=\"clip5bd3a0xy8\"><rect x=\"80\" y=\"321.1333333333333\" width=\"238.52499999999998\" height=\"177.73333333333335\"/></clipPath><clipPath class=\"axesclip\" id=\"clip5bd3a0y9\"><rect x=\"0\" y=\"100.00000000000007\" width=\"1200\" height=\"177.73333333333332\"/></clipPath><clipPath class=\"axesclip\" id=\"clip5bd3a0xy9\"><rect x=\"80\" y=\"100.00000000000007\" width=\"238.52499999999998\" height=\"177.73333333333332\"/></clipPath><clipPath class=\"axesclip\" id=\"clip5bd3a0y10\"><rect x=\"0\" y=\"100.00000000000007\" width=\"1200\" height=\"177.73333333333332\"/></clipPath><clipPath class=\"axesclip\" id=\"clip5bd3a0xy10\"><rect x=\"80\" y=\"100.00000000000007\" width=\"238.52499999999998\" height=\"177.73333333333332\"/></clipPath><clipPath class=\"axesclip\" id=\"clip5bd3a0y11\"><rect x=\"0\" y=\"100.00000000000007\" width=\"1200\" height=\"177.73333333333332\"/></clipPath><clipPath class=\"axesclip\" id=\"clip5bd3a0xy11\"><rect x=\"80\" y=\"100.00000000000007\" width=\"238.52499999999998\" height=\"177.73333333333332\"/></clipPath><clipPath class=\"axesclip\" id=\"clip5bd3a0y12\"><rect x=\"0\" y=\"100.00000000000007\" width=\"1200\" height=\"177.73333333333332\"/></clipPath><clipPath class=\"axesclip\" id=\"clip5bd3a0xy12\"><rect x=\"80\" y=\"100.00000000000007\" width=\"238.52499999999998\" height=\"177.73333333333332\"/></clipPath><clipPath class=\"axesclip\" id=\"clip5bd3a0x2\"><rect x=\"338.825\" y=\"0\" width=\"238.52499999999998\" height=\"800\"/></clipPath><clipPath class=\"axesclip\" id=\"clip5bd3a0x2y\"><rect x=\"338.825\" y=\"542.2666666666667\" width=\"238.52499999999998\" height=\"177.73333333333332\"/></clipPath><clipPath class=\"axesclip\" id=\"clip5bd3a0x2y2\"><rect x=\"338.825\" y=\"542.2666666666667\" width=\"238.52499999999998\" height=\"177.73333333333332\"/></clipPath><clipPath class=\"axesclip\" id=\"clip5bd3a0x2y3\"><rect x=\"338.825\" y=\"542.2666666666667\" width=\"238.52499999999998\" height=\"177.73333333333332\"/></clipPath><clipPath class=\"axesclip\" id=\"clip5bd3a0x2y4\"><rect x=\"338.825\" y=\"542.2666666666667\" width=\"238.52499999999998\" height=\"177.73333333333332\"/></clipPath><clipPath class=\"axesclip\" id=\"clip5bd3a0x2y5\"><rect x=\"338.825\" y=\"321.1333333333333\" width=\"238.52499999999998\" height=\"177.73333333333335\"/></clipPath><clipPath class=\"axesclip\" id=\"clip5bd3a0x2y6\"><rect x=\"338.825\" y=\"321.1333333333333\" width=\"238.52499999999998\" height=\"177.73333333333335\"/></clipPath><clipPath class=\"axesclip\" id=\"clip5bd3a0x2y7\"><rect x=\"338.825\" y=\"321.1333333333333\" width=\"238.52499999999998\" height=\"177.73333333333335\"/></clipPath><clipPath class=\"axesclip\" id=\"clip5bd3a0x2y8\"><rect x=\"338.825\" y=\"321.1333333333333\" width=\"238.52499999999998\" height=\"177.73333333333335\"/></clipPath><clipPath class=\"axesclip\" id=\"clip5bd3a0x2y9\"><rect x=\"338.825\" y=\"100.00000000000007\" width=\"238.52499999999998\" height=\"177.73333333333332\"/></clipPath><clipPath class=\"axesclip\" id=\"clip5bd3a0x2y10\"><rect x=\"338.825\" y=\"100.00000000000007\" width=\"238.52499999999998\" height=\"177.73333333333332\"/></clipPath><clipPath class=\"axesclip\" id=\"clip5bd3a0x2y11\"><rect x=\"338.825\" y=\"100.00000000000007\" width=\"238.52499999999998\" height=\"177.73333333333332\"/></clipPath><clipPath class=\"axesclip\" id=\"clip5bd3a0x2y12\"><rect x=\"338.825\" y=\"100.00000000000007\" width=\"238.52499999999998\" height=\"177.73333333333332\"/></clipPath><clipPath class=\"axesclip\" id=\"clip5bd3a0x3\"><rect x=\"597.65\" y=\"0\" width=\"238.52499999999998\" height=\"800\"/></clipPath><clipPath class=\"axesclip\" id=\"clip5bd3a0x3y\"><rect x=\"597.65\" y=\"542.2666666666667\" width=\"238.52499999999998\" height=\"177.73333333333332\"/></clipPath><clipPath class=\"axesclip\" id=\"clip5bd3a0x3y2\"><rect x=\"597.65\" y=\"542.2666666666667\" width=\"238.52499999999998\" height=\"177.73333333333332\"/></clipPath><clipPath class=\"axesclip\" id=\"clip5bd3a0x3y3\"><rect x=\"597.65\" y=\"542.2666666666667\" width=\"238.52499999999998\" height=\"177.73333333333332\"/></clipPath><clipPath class=\"axesclip\" id=\"clip5bd3a0x3y4\"><rect x=\"597.65\" y=\"542.2666666666667\" width=\"238.52499999999998\" height=\"177.73333333333332\"/></clipPath><clipPath class=\"axesclip\" id=\"clip5bd3a0x3y5\"><rect x=\"597.65\" y=\"321.1333333333333\" width=\"238.52499999999998\" height=\"177.73333333333335\"/></clipPath><clipPath class=\"axesclip\" id=\"clip5bd3a0x3y6\"><rect x=\"597.65\" y=\"321.1333333333333\" width=\"238.52499999999998\" height=\"177.73333333333335\"/></clipPath><clipPath class=\"axesclip\" id=\"clip5bd3a0x3y7\"><rect x=\"597.65\" y=\"321.1333333333333\" width=\"238.52499999999998\" height=\"177.73333333333335\"/></clipPath><clipPath class=\"axesclip\" id=\"clip5bd3a0x3y8\"><rect x=\"597.65\" y=\"321.1333333333333\" width=\"238.52499999999998\" height=\"177.73333333333335\"/></clipPath><clipPath class=\"axesclip\" id=\"clip5bd3a0x3y9\"><rect x=\"597.65\" y=\"100.00000000000007\" width=\"238.52499999999998\" height=\"177.73333333333332\"/></clipPath><clipPath class=\"axesclip\" id=\"clip5bd3a0x3y10\"><rect x=\"597.65\" y=\"100.00000000000007\" width=\"238.52499999999998\" height=\"177.73333333333332\"/></clipPath><clipPath class=\"axesclip\" id=\"clip5bd3a0x3y11\"><rect x=\"597.65\" y=\"100.00000000000007\" width=\"238.52499999999998\" height=\"177.73333333333332\"/></clipPath><clipPath class=\"axesclip\" id=\"clip5bd3a0x3y12\"><rect x=\"597.65\" y=\"100.00000000000007\" width=\"238.52499999999998\" height=\"177.73333333333332\"/></clipPath><clipPath class=\"axesclip\" id=\"clip5bd3a0x4\"><rect x=\"856.4749999999999\" y=\"0\" width=\"238.52499999999998\" height=\"800\"/></clipPath><clipPath class=\"axesclip\" id=\"clip5bd3a0x4y\"><rect x=\"856.4749999999999\" y=\"542.2666666666667\" width=\"238.52499999999998\" height=\"177.73333333333332\"/></clipPath><clipPath class=\"axesclip\" id=\"clip5bd3a0x4y2\"><rect x=\"856.4749999999999\" y=\"542.2666666666667\" width=\"238.52499999999998\" height=\"177.73333333333332\"/></clipPath><clipPath class=\"axesclip\" id=\"clip5bd3a0x4y3\"><rect x=\"856.4749999999999\" y=\"542.2666666666667\" width=\"238.52499999999998\" height=\"177.73333333333332\"/></clipPath><clipPath class=\"axesclip\" id=\"clip5bd3a0x4y4\"><rect x=\"856.4749999999999\" y=\"542.2666666666667\" width=\"238.52499999999998\" height=\"177.73333333333332\"/></clipPath><clipPath class=\"axesclip\" id=\"clip5bd3a0x4y5\"><rect x=\"856.4749999999999\" y=\"321.1333333333333\" width=\"238.52499999999998\" height=\"177.73333333333335\"/></clipPath><clipPath class=\"axesclip\" id=\"clip5bd3a0x4y6\"><rect x=\"856.4749999999999\" y=\"321.1333333333333\" width=\"238.52499999999998\" height=\"177.73333333333335\"/></clipPath><clipPath class=\"axesclip\" id=\"clip5bd3a0x4y7\"><rect x=\"856.4749999999999\" y=\"321.1333333333333\" width=\"238.52499999999998\" height=\"177.73333333333335\"/></clipPath><clipPath class=\"axesclip\" id=\"clip5bd3a0x4y8\"><rect x=\"856.4749999999999\" y=\"321.1333333333333\" width=\"238.52499999999998\" height=\"177.73333333333335\"/></clipPath><clipPath class=\"axesclip\" id=\"clip5bd3a0x4y9\"><rect x=\"856.4749999999999\" y=\"100.00000000000007\" width=\"238.52499999999998\" height=\"177.73333333333332\"/></clipPath><clipPath class=\"axesclip\" id=\"clip5bd3a0x4y10\"><rect x=\"856.4749999999999\" y=\"100.00000000000007\" width=\"238.52499999999998\" height=\"177.73333333333332\"/></clipPath><clipPath class=\"axesclip\" id=\"clip5bd3a0x4y11\"><rect x=\"856.4749999999999\" y=\"100.00000000000007\" width=\"238.52499999999998\" height=\"177.73333333333332\"/></clipPath><clipPath class=\"axesclip\" id=\"clip5bd3a0x4y12\"><rect x=\"856.4749999999999\" y=\"100.00000000000007\" width=\"238.52499999999998\" height=\"177.73333333333332\"/></clipPath><clipPath class=\"axesclip\" id=\"clip5bd3a0x5\"><rect x=\"80\" y=\"0\" width=\"238.52499999999998\" height=\"800\"/></clipPath><clipPath class=\"axesclip\" id=\"clip5bd3a0x5y\"><rect x=\"80\" y=\"542.2666666666667\" width=\"238.52499999999998\" height=\"177.73333333333332\"/></clipPath><clipPath class=\"axesclip\" id=\"clip5bd3a0x5y2\"><rect x=\"80\" y=\"542.2666666666667\" width=\"238.52499999999998\" height=\"177.73333333333332\"/></clipPath><clipPath class=\"axesclip\" id=\"clip5bd3a0x5y3\"><rect x=\"80\" y=\"542.2666666666667\" width=\"238.52499999999998\" height=\"177.73333333333332\"/></clipPath><clipPath class=\"axesclip\" id=\"clip5bd3a0x5y4\"><rect x=\"80\" y=\"542.2666666666667\" width=\"238.52499999999998\" height=\"177.73333333333332\"/></clipPath><clipPath class=\"axesclip\" id=\"clip5bd3a0x5y5\"><rect x=\"80\" y=\"321.1333333333333\" width=\"238.52499999999998\" height=\"177.73333333333335\"/></clipPath><clipPath class=\"axesclip\" id=\"clip5bd3a0x5y6\"><rect x=\"80\" y=\"321.1333333333333\" width=\"238.52499999999998\" height=\"177.73333333333335\"/></clipPath><clipPath class=\"axesclip\" id=\"clip5bd3a0x5y7\"><rect x=\"80\" y=\"321.1333333333333\" width=\"238.52499999999998\" height=\"177.73333333333335\"/></clipPath><clipPath class=\"axesclip\" id=\"clip5bd3a0x5y8\"><rect x=\"80\" y=\"321.1333333333333\" width=\"238.52499999999998\" height=\"177.73333333333335\"/></clipPath><clipPath class=\"axesclip\" id=\"clip5bd3a0x5y9\"><rect x=\"80\" y=\"100.00000000000007\" width=\"238.52499999999998\" height=\"177.73333333333332\"/></clipPath><clipPath class=\"axesclip\" id=\"clip5bd3a0x5y10\"><rect x=\"80\" y=\"100.00000000000007\" width=\"238.52499999999998\" height=\"177.73333333333332\"/></clipPath><clipPath class=\"axesclip\" id=\"clip5bd3a0x5y11\"><rect x=\"80\" y=\"100.00000000000007\" width=\"238.52499999999998\" height=\"177.73333333333332\"/></clipPath><clipPath class=\"axesclip\" id=\"clip5bd3a0x5y12\"><rect x=\"80\" y=\"100.00000000000007\" width=\"238.52499999999998\" height=\"177.73333333333332\"/></clipPath><clipPath class=\"axesclip\" id=\"clip5bd3a0x6\"><rect x=\"338.825\" y=\"0\" width=\"238.52499999999998\" height=\"800\"/></clipPath><clipPath class=\"axesclip\" id=\"clip5bd3a0x6y\"><rect x=\"338.825\" y=\"542.2666666666667\" width=\"238.52499999999998\" height=\"177.73333333333332\"/></clipPath><clipPath class=\"axesclip\" id=\"clip5bd3a0x6y2\"><rect x=\"338.825\" y=\"542.2666666666667\" width=\"238.52499999999998\" height=\"177.73333333333332\"/></clipPath><clipPath class=\"axesclip\" id=\"clip5bd3a0x6y3\"><rect x=\"338.825\" y=\"542.2666666666667\" width=\"238.52499999999998\" height=\"177.73333333333332\"/></clipPath><clipPath class=\"axesclip\" id=\"clip5bd3a0x6y4\"><rect x=\"338.825\" y=\"542.2666666666667\" width=\"238.52499999999998\" height=\"177.73333333333332\"/></clipPath><clipPath class=\"axesclip\" id=\"clip5bd3a0x6y5\"><rect x=\"338.825\" y=\"321.1333333333333\" width=\"238.52499999999998\" height=\"177.73333333333335\"/></clipPath><clipPath class=\"axesclip\" id=\"clip5bd3a0x6y6\"><rect x=\"338.825\" y=\"321.1333333333333\" width=\"238.52499999999998\" height=\"177.73333333333335\"/></clipPath><clipPath class=\"axesclip\" id=\"clip5bd3a0x6y7\"><rect x=\"338.825\" y=\"321.1333333333333\" width=\"238.52499999999998\" height=\"177.73333333333335\"/></clipPath><clipPath class=\"axesclip\" id=\"clip5bd3a0x6y8\"><rect x=\"338.825\" y=\"321.1333333333333\" width=\"238.52499999999998\" height=\"177.73333333333335\"/></clipPath><clipPath class=\"axesclip\" id=\"clip5bd3a0x6y9\"><rect x=\"338.825\" y=\"100.00000000000007\" width=\"238.52499999999998\" height=\"177.73333333333332\"/></clipPath><clipPath class=\"axesclip\" id=\"clip5bd3a0x6y10\"><rect x=\"338.825\" y=\"100.00000000000007\" width=\"238.52499999999998\" height=\"177.73333333333332\"/></clipPath><clipPath class=\"axesclip\" id=\"clip5bd3a0x6y11\"><rect x=\"338.825\" y=\"100.00000000000007\" width=\"238.52499999999998\" height=\"177.73333333333332\"/></clipPath><clipPath class=\"axesclip\" id=\"clip5bd3a0x6y12\"><rect x=\"338.825\" y=\"100.00000000000007\" width=\"238.52499999999998\" height=\"177.73333333333332\"/></clipPath><clipPath class=\"axesclip\" id=\"clip5bd3a0x7\"><rect x=\"597.65\" y=\"0\" width=\"238.52499999999998\" height=\"800\"/></clipPath><clipPath class=\"axesclip\" id=\"clip5bd3a0x7y\"><rect x=\"597.65\" y=\"542.2666666666667\" width=\"238.52499999999998\" height=\"177.73333333333332\"/></clipPath><clipPath class=\"axesclip\" id=\"clip5bd3a0x7y2\"><rect x=\"597.65\" y=\"542.2666666666667\" width=\"238.52499999999998\" height=\"177.73333333333332\"/></clipPath><clipPath class=\"axesclip\" id=\"clip5bd3a0x7y3\"><rect x=\"597.65\" y=\"542.2666666666667\" width=\"238.52499999999998\" height=\"177.73333333333332\"/></clipPath><clipPath class=\"axesclip\" id=\"clip5bd3a0x7y4\"><rect x=\"597.65\" y=\"542.2666666666667\" width=\"238.52499999999998\" height=\"177.73333333333332\"/></clipPath><clipPath class=\"axesclip\" id=\"clip5bd3a0x7y5\"><rect x=\"597.65\" y=\"321.1333333333333\" width=\"238.52499999999998\" height=\"177.73333333333335\"/></clipPath><clipPath class=\"axesclip\" id=\"clip5bd3a0x7y6\"><rect x=\"597.65\" y=\"321.1333333333333\" width=\"238.52499999999998\" height=\"177.73333333333335\"/></clipPath><clipPath class=\"axesclip\" id=\"clip5bd3a0x7y7\"><rect x=\"597.65\" y=\"321.1333333333333\" width=\"238.52499999999998\" height=\"177.73333333333335\"/></clipPath><clipPath class=\"axesclip\" id=\"clip5bd3a0x7y8\"><rect x=\"597.65\" y=\"321.1333333333333\" width=\"238.52499999999998\" height=\"177.73333333333335\"/></clipPath><clipPath class=\"axesclip\" id=\"clip5bd3a0x7y9\"><rect x=\"597.65\" y=\"100.00000000000007\" width=\"238.52499999999998\" height=\"177.73333333333332\"/></clipPath><clipPath class=\"axesclip\" id=\"clip5bd3a0x7y10\"><rect x=\"597.65\" y=\"100.00000000000007\" width=\"238.52499999999998\" height=\"177.73333333333332\"/></clipPath><clipPath class=\"axesclip\" id=\"clip5bd3a0x7y11\"><rect x=\"597.65\" y=\"100.00000000000007\" width=\"238.52499999999998\" height=\"177.73333333333332\"/></clipPath><clipPath class=\"axesclip\" id=\"clip5bd3a0x7y12\"><rect x=\"597.65\" y=\"100.00000000000007\" width=\"238.52499999999998\" height=\"177.73333333333332\"/></clipPath><clipPath class=\"axesclip\" id=\"clip5bd3a0x8\"><rect x=\"856.4749999999999\" y=\"0\" width=\"238.52499999999998\" height=\"800\"/></clipPath><clipPath class=\"axesclip\" id=\"clip5bd3a0x8y\"><rect x=\"856.4749999999999\" y=\"542.2666666666667\" width=\"238.52499999999998\" height=\"177.73333333333332\"/></clipPath><clipPath class=\"axesclip\" id=\"clip5bd3a0x8y2\"><rect x=\"856.4749999999999\" y=\"542.2666666666667\" width=\"238.52499999999998\" height=\"177.73333333333332\"/></clipPath><clipPath class=\"axesclip\" id=\"clip5bd3a0x8y3\"><rect x=\"856.4749999999999\" y=\"542.2666666666667\" width=\"238.52499999999998\" height=\"177.73333333333332\"/></clipPath><clipPath class=\"axesclip\" id=\"clip5bd3a0x8y4\"><rect x=\"856.4749999999999\" y=\"542.2666666666667\" width=\"238.52499999999998\" height=\"177.73333333333332\"/></clipPath><clipPath class=\"axesclip\" id=\"clip5bd3a0x8y5\"><rect x=\"856.4749999999999\" y=\"321.1333333333333\" width=\"238.52499999999998\" height=\"177.73333333333335\"/></clipPath><clipPath class=\"axesclip\" id=\"clip5bd3a0x8y6\"><rect x=\"856.4749999999999\" y=\"321.1333333333333\" width=\"238.52499999999998\" height=\"177.73333333333335\"/></clipPath><clipPath class=\"axesclip\" id=\"clip5bd3a0x8y7\"><rect x=\"856.4749999999999\" y=\"321.1333333333333\" width=\"238.52499999999998\" height=\"177.73333333333335\"/></clipPath><clipPath class=\"axesclip\" id=\"clip5bd3a0x8y8\"><rect x=\"856.4749999999999\" y=\"321.1333333333333\" width=\"238.52499999999998\" height=\"177.73333333333335\"/></clipPath><clipPath class=\"axesclip\" id=\"clip5bd3a0x8y9\"><rect x=\"856.4749999999999\" y=\"100.00000000000007\" width=\"238.52499999999998\" height=\"177.73333333333332\"/></clipPath><clipPath class=\"axesclip\" id=\"clip5bd3a0x8y10\"><rect x=\"856.4749999999999\" y=\"100.00000000000007\" width=\"238.52499999999998\" height=\"177.73333333333332\"/></clipPath><clipPath class=\"axesclip\" id=\"clip5bd3a0x8y11\"><rect x=\"856.4749999999999\" y=\"100.00000000000007\" width=\"238.52499999999998\" height=\"177.73333333333332\"/></clipPath><clipPath class=\"axesclip\" id=\"clip5bd3a0x8y12\"><rect x=\"856.4749999999999\" y=\"100.00000000000007\" width=\"238.52499999999998\" height=\"177.73333333333332\"/></clipPath><clipPath class=\"axesclip\" id=\"clip5bd3a0x9\"><rect x=\"80\" y=\"0\" width=\"238.52499999999998\" height=\"800\"/></clipPath><clipPath class=\"axesclip\" id=\"clip5bd3a0x9y\"><rect x=\"80\" y=\"542.2666666666667\" width=\"238.52499999999998\" height=\"177.73333333333332\"/></clipPath><clipPath class=\"axesclip\" id=\"clip5bd3a0x9y2\"><rect x=\"80\" y=\"542.2666666666667\" width=\"238.52499999999998\" height=\"177.73333333333332\"/></clipPath><clipPath class=\"axesclip\" id=\"clip5bd3a0x9y3\"><rect x=\"80\" y=\"542.2666666666667\" width=\"238.52499999999998\" height=\"177.73333333333332\"/></clipPath><clipPath class=\"axesclip\" id=\"clip5bd3a0x9y4\"><rect x=\"80\" y=\"542.2666666666667\" width=\"238.52499999999998\" height=\"177.73333333333332\"/></clipPath><clipPath class=\"axesclip\" id=\"clip5bd3a0x9y5\"><rect x=\"80\" y=\"321.1333333333333\" width=\"238.52499999999998\" height=\"177.73333333333335\"/></clipPath><clipPath class=\"axesclip\" id=\"clip5bd3a0x9y6\"><rect x=\"80\" y=\"321.1333333333333\" width=\"238.52499999999998\" height=\"177.73333333333335\"/></clipPath><clipPath class=\"axesclip\" id=\"clip5bd3a0x9y7\"><rect x=\"80\" y=\"321.1333333333333\" width=\"238.52499999999998\" height=\"177.73333333333335\"/></clipPath><clipPath class=\"axesclip\" id=\"clip5bd3a0x9y8\"><rect x=\"80\" y=\"321.1333333333333\" width=\"238.52499999999998\" height=\"177.73333333333335\"/></clipPath><clipPath class=\"axesclip\" id=\"clip5bd3a0x9y9\"><rect x=\"80\" y=\"100.00000000000007\" width=\"238.52499999999998\" height=\"177.73333333333332\"/></clipPath><clipPath class=\"axesclip\" id=\"clip5bd3a0x9y10\"><rect x=\"80\" y=\"100.00000000000007\" width=\"238.52499999999998\" height=\"177.73333333333332\"/></clipPath><clipPath class=\"axesclip\" id=\"clip5bd3a0x9y11\"><rect x=\"80\" y=\"100.00000000000007\" width=\"238.52499999999998\" height=\"177.73333333333332\"/></clipPath><clipPath class=\"axesclip\" id=\"clip5bd3a0x9y12\"><rect x=\"80\" y=\"100.00000000000007\" width=\"238.52499999999998\" height=\"177.73333333333332\"/></clipPath><clipPath class=\"axesclip\" id=\"clip5bd3a0x10\"><rect x=\"338.825\" y=\"0\" width=\"238.52499999999998\" height=\"800\"/></clipPath><clipPath class=\"axesclip\" id=\"clip5bd3a0x10y\"><rect x=\"338.825\" y=\"542.2666666666667\" width=\"238.52499999999998\" height=\"177.73333333333332\"/></clipPath><clipPath class=\"axesclip\" id=\"clip5bd3a0x10y2\"><rect x=\"338.825\" y=\"542.2666666666667\" width=\"238.52499999999998\" height=\"177.73333333333332\"/></clipPath><clipPath class=\"axesclip\" id=\"clip5bd3a0x10y3\"><rect x=\"338.825\" y=\"542.2666666666667\" width=\"238.52499999999998\" height=\"177.73333333333332\"/></clipPath><clipPath class=\"axesclip\" id=\"clip5bd3a0x10y4\"><rect x=\"338.825\" y=\"542.2666666666667\" width=\"238.52499999999998\" height=\"177.73333333333332\"/></clipPath><clipPath class=\"axesclip\" id=\"clip5bd3a0x10y5\"><rect x=\"338.825\" y=\"321.1333333333333\" width=\"238.52499999999998\" height=\"177.73333333333335\"/></clipPath><clipPath class=\"axesclip\" id=\"clip5bd3a0x10y6\"><rect x=\"338.825\" y=\"321.1333333333333\" width=\"238.52499999999998\" height=\"177.73333333333335\"/></clipPath><clipPath class=\"axesclip\" id=\"clip5bd3a0x10y7\"><rect x=\"338.825\" y=\"321.1333333333333\" width=\"238.52499999999998\" height=\"177.73333333333335\"/></clipPath><clipPath class=\"axesclip\" id=\"clip5bd3a0x10y8\"><rect x=\"338.825\" y=\"321.1333333333333\" width=\"238.52499999999998\" height=\"177.73333333333335\"/></clipPath><clipPath class=\"axesclip\" id=\"clip5bd3a0x10y9\"><rect x=\"338.825\" y=\"100.00000000000007\" width=\"238.52499999999998\" height=\"177.73333333333332\"/></clipPath><clipPath class=\"axesclip\" id=\"clip5bd3a0x10y10\"><rect x=\"338.825\" y=\"100.00000000000007\" width=\"238.52499999999998\" height=\"177.73333333333332\"/></clipPath><clipPath class=\"axesclip\" id=\"clip5bd3a0x10y11\"><rect x=\"338.825\" y=\"100.00000000000007\" width=\"238.52499999999998\" height=\"177.73333333333332\"/></clipPath><clipPath class=\"axesclip\" id=\"clip5bd3a0x10y12\"><rect x=\"338.825\" y=\"100.00000000000007\" width=\"238.52499999999998\" height=\"177.73333333333332\"/></clipPath><clipPath class=\"axesclip\" id=\"clip5bd3a0x11\"><rect x=\"597.65\" y=\"0\" width=\"238.52499999999998\" height=\"800\"/></clipPath><clipPath class=\"axesclip\" id=\"clip5bd3a0x11y\"><rect x=\"597.65\" y=\"542.2666666666667\" width=\"238.52499999999998\" height=\"177.73333333333332\"/></clipPath><clipPath class=\"axesclip\" id=\"clip5bd3a0x11y2\"><rect x=\"597.65\" y=\"542.2666666666667\" width=\"238.52499999999998\" height=\"177.73333333333332\"/></clipPath><clipPath class=\"axesclip\" id=\"clip5bd3a0x11y3\"><rect x=\"597.65\" y=\"542.2666666666667\" width=\"238.52499999999998\" height=\"177.73333333333332\"/></clipPath><clipPath class=\"axesclip\" id=\"clip5bd3a0x11y4\"><rect x=\"597.65\" y=\"542.2666666666667\" width=\"238.52499999999998\" height=\"177.73333333333332\"/></clipPath><clipPath class=\"axesclip\" id=\"clip5bd3a0x11y5\"><rect x=\"597.65\" y=\"321.1333333333333\" width=\"238.52499999999998\" height=\"177.73333333333335\"/></clipPath><clipPath class=\"axesclip\" id=\"clip5bd3a0x11y6\"><rect x=\"597.65\" y=\"321.1333333333333\" width=\"238.52499999999998\" height=\"177.73333333333335\"/></clipPath><clipPath class=\"axesclip\" id=\"clip5bd3a0x11y7\"><rect x=\"597.65\" y=\"321.1333333333333\" width=\"238.52499999999998\" height=\"177.73333333333335\"/></clipPath><clipPath class=\"axesclip\" id=\"clip5bd3a0x11y8\"><rect x=\"597.65\" y=\"321.1333333333333\" width=\"238.52499999999998\" height=\"177.73333333333335\"/></clipPath><clipPath class=\"axesclip\" id=\"clip5bd3a0x11y9\"><rect x=\"597.65\" y=\"100.00000000000007\" width=\"238.52499999999998\" height=\"177.73333333333332\"/></clipPath><clipPath class=\"axesclip\" id=\"clip5bd3a0x11y10\"><rect x=\"597.65\" y=\"100.00000000000007\" width=\"238.52499999999998\" height=\"177.73333333333332\"/></clipPath><clipPath class=\"axesclip\" id=\"clip5bd3a0x11y11\"><rect x=\"597.65\" y=\"100.00000000000007\" width=\"238.52499999999998\" height=\"177.73333333333332\"/></clipPath><clipPath class=\"axesclip\" id=\"clip5bd3a0x11y12\"><rect x=\"597.65\" y=\"100.00000000000007\" width=\"238.52499999999998\" height=\"177.73333333333332\"/></clipPath><clipPath class=\"axesclip\" id=\"clip5bd3a0x12\"><rect x=\"856.4749999999999\" y=\"0\" width=\"238.52499999999998\" height=\"800\"/></clipPath><clipPath class=\"axesclip\" id=\"clip5bd3a0x12y\"><rect x=\"856.4749999999999\" y=\"542.2666666666667\" width=\"238.52499999999998\" height=\"177.73333333333332\"/></clipPath><clipPath class=\"axesclip\" id=\"clip5bd3a0x12y2\"><rect x=\"856.4749999999999\" y=\"542.2666666666667\" width=\"238.52499999999998\" height=\"177.73333333333332\"/></clipPath><clipPath class=\"axesclip\" id=\"clip5bd3a0x12y3\"><rect x=\"856.4749999999999\" y=\"542.2666666666667\" width=\"238.52499999999998\" height=\"177.73333333333332\"/></clipPath><clipPath class=\"axesclip\" id=\"clip5bd3a0x12y4\"><rect x=\"856.4749999999999\" y=\"542.2666666666667\" width=\"238.52499999999998\" height=\"177.73333333333332\"/></clipPath><clipPath class=\"axesclip\" id=\"clip5bd3a0x12y5\"><rect x=\"856.4749999999999\" y=\"321.1333333333333\" width=\"238.52499999999998\" height=\"177.73333333333335\"/></clipPath><clipPath class=\"axesclip\" id=\"clip5bd3a0x12y6\"><rect x=\"856.4749999999999\" y=\"321.1333333333333\" width=\"238.52499999999998\" height=\"177.73333333333335\"/></clipPath><clipPath class=\"axesclip\" id=\"clip5bd3a0x12y7\"><rect x=\"856.4749999999999\" y=\"321.1333333333333\" width=\"238.52499999999998\" height=\"177.73333333333335\"/></clipPath><clipPath class=\"axesclip\" id=\"clip5bd3a0x12y8\"><rect x=\"856.4749999999999\" y=\"321.1333333333333\" width=\"238.52499999999998\" height=\"177.73333333333335\"/></clipPath><clipPath class=\"axesclip\" id=\"clip5bd3a0x12y9\"><rect x=\"856.4749999999999\" y=\"100.00000000000007\" width=\"238.52499999999998\" height=\"177.73333333333332\"/></clipPath><clipPath class=\"axesclip\" id=\"clip5bd3a0x12y10\"><rect x=\"856.4749999999999\" y=\"100.00000000000007\" width=\"238.52499999999998\" height=\"177.73333333333332\"/></clipPath><clipPath class=\"axesclip\" id=\"clip5bd3a0x12y11\"><rect x=\"856.4749999999999\" y=\"100.00000000000007\" width=\"238.52499999999998\" height=\"177.73333333333332\"/></clipPath><clipPath class=\"axesclip\" id=\"clip5bd3a0x12y12\"><rect x=\"856.4749999999999\" y=\"100.00000000000007\" width=\"238.52499999999998\" height=\"177.73333333333332\"/></clipPath></g><g class=\"gradients\"/><g class=\"patterns\"/></defs><g class=\"bglayer\"><rect class=\"bg\" x=\"80\" y=\"542.2666666666667\" width=\"238.52499999999998\" height=\"177.73333333333332\" style=\"fill: rgb(229, 236, 246); fill-opacity: 1; stroke-width: 0;\"/><rect class=\"bg\" x=\"338.825\" y=\"542.2666666666667\" width=\"238.52499999999998\" height=\"177.73333333333332\" style=\"fill: rgb(229, 236, 246); fill-opacity: 1; stroke-width: 0;\"/><rect class=\"bg\" x=\"597.65\" y=\"542.2666666666667\" width=\"238.52499999999998\" height=\"177.73333333333332\" style=\"fill: rgb(229, 236, 246); fill-opacity: 1; stroke-width: 0;\"/><rect class=\"bg\" x=\"856.4749999999999\" y=\"542.2666666666667\" width=\"238.52499999999998\" height=\"177.73333333333332\" style=\"fill: rgb(229, 236, 246); fill-opacity: 1; stroke-width: 0;\"/><rect class=\"bg\" x=\"80\" y=\"321.1333333333333\" width=\"238.52499999999998\" height=\"177.73333333333335\" style=\"fill: rgb(229, 236, 246); fill-opacity: 1; stroke-width: 0;\"/><rect class=\"bg\" x=\"338.825\" y=\"321.1333333333333\" width=\"238.52499999999998\" height=\"177.73333333333335\" style=\"fill: rgb(229, 236, 246); fill-opacity: 1; stroke-width: 0;\"/><rect class=\"bg\" x=\"597.65\" y=\"321.1333333333333\" width=\"238.52499999999998\" height=\"177.73333333333335\" style=\"fill: rgb(229, 236, 246); fill-opacity: 1; stroke-width: 0;\"/><rect class=\"bg\" x=\"856.4749999999999\" y=\"321.1333333333333\" width=\"238.52499999999998\" height=\"177.73333333333335\" style=\"fill: rgb(229, 236, 246); fill-opacity: 1; stroke-width: 0;\"/><rect class=\"bg\" x=\"80\" y=\"100.00000000000007\" width=\"238.52499999999998\" height=\"177.73333333333332\" style=\"fill: rgb(229, 236, 246); fill-opacity: 1; stroke-width: 0;\"/><rect class=\"bg\" x=\"338.825\" y=\"100.00000000000007\" width=\"238.52499999999998\" height=\"177.73333333333332\" style=\"fill: rgb(229, 236, 246); fill-opacity: 1; stroke-width: 0;\"/><rect class=\"bg\" x=\"597.65\" y=\"100.00000000000007\" width=\"238.52499999999998\" height=\"177.73333333333332\" style=\"fill: rgb(229, 236, 246); fill-opacity: 1; stroke-width: 0;\"/><rect class=\"bg\" x=\"856.4749999999999\" y=\"100.00000000000007\" width=\"238.52499999999998\" height=\"177.73333333333332\" style=\"fill: rgb(229, 236, 246); fill-opacity: 1; stroke-width: 0;\"/></g><g class=\"layer-below\"><g class=\"imagelayer\"/><g class=\"shapelayer\"/></g><g class=\"cartesianlayer\"><g class=\"subplot xy\"><g class=\"layer-subplot\"><g class=\"shapelayer\"/><g class=\"imagelayer\"/></g><g class=\"minor-gridlayer\"><g class=\"x\"/><g class=\"y\"/></g><g class=\"gridlayer\"><g class=\"x\"><path class=\"xgrid crisp\" transform=\"translate(166.74,0)\" d=\"M0,542.2666666666667v177.73333333333332\" style=\"stroke: rgb(255, 255, 255); stroke-opacity: 1; stroke-width: 1px;\"/><path class=\"xgrid crisp\" transform=\"translate(275.15999999999997,0)\" d=\"M0,542.2666666666667v177.73333333333332\" style=\"stroke: rgb(255, 255, 255); stroke-opacity: 1; stroke-width: 1px;\"/></g><g class=\"y\"><path class=\"ygrid crisp\" transform=\"translate(0,678.1666666666666)\" d=\"M80,0h238.52499999999998\" style=\"stroke: rgb(255, 255, 255); stroke-opacity: 1; stroke-width: 1px;\"/><path class=\"ygrid crisp\" transform=\"translate(0,630.5766666666666)\" d=\"M80,0h238.52499999999998\" style=\"stroke: rgb(255, 255, 255); stroke-opacity: 1; stroke-width: 1px;\"/><path class=\"ygrid crisp\" transform=\"translate(0,582.9766666666667)\" d=\"M80,0h238.52499999999998\" style=\"stroke: rgb(255, 255, 255); stroke-opacity: 1; stroke-width: 1px;\"/></g></g><g class=\"zerolinelayer\"/><path class=\"xlines-below\"/><path class=\"ylines-below\"/><g class=\"overlines-below\"/><g class=\"xaxislayer-below\"/><g class=\"yaxislayer-below\"/><g class=\"overaxes-below\"/><g class=\"plot\" transform=\"translate(80,542.2666666666667)\" clip-path=\"url(#clip5bd3a0xyplot)\"><g class=\"scatterlayer mlayer\"><g class=\"trace scatter trace619a86\" style=\"stroke-miterlimit: 2; opacity: 1;\"><g class=\"fills\"/><g class=\"errorbars\"/><g class=\"lines\"><path class=\"js-line\" d=\"M130.1,26.53L151.79,34.68L173.47,35.25L195.16,42.77L216.84,58.42L238.52,103.38\" style=\"vector-effect: non-scaling-stroke; fill: none; stroke: rgb(0, 0, 4); stroke-opacity: 1; stroke-width: 2px; opacity: 1;\"/></g><g class=\"points\"/><g class=\"text\"/></g><g class=\"trace scatter trace73c231\" style=\"stroke-miterlimit: 2; opacity: 1;\"><g class=\"fills\"/><g class=\"errorbars\"/><g class=\"lines\"><path class=\"js-line\" d=\"M0,97.39L21.68,87.14L43.37,68.62L65.05,48.37L86.74,24.02L108.42,13.7L130.1,8.89L151.79,13.91L173.47,9.69L195.16,31.71L216.84,70.3L238.52,118.19\" style=\"vector-effect: non-scaling-stroke; fill: none; stroke: rgb(27, 12, 65); stroke-opacity: 1; stroke-width: 2px; opacity: 1;\"/></g><g class=\"points\"/><g class=\"text\"/></g><g class=\"trace scatter tracea2380b\" style=\"stroke-miterlimit: 2; opacity: 1;\"><g class=\"fills\"/><g class=\"errorbars\"/><g class=\"lines\"><path class=\"js-line\" d=\"M0,110.79L21.68,109.32L43.37,104.87L65.05,84.82L86.74,67.33L108.42,52.44L130.1,46.62L151.79,49.72L173.47,43.3L195.16,39.02L216.84,70.87L238.52,115.56\" style=\"vector-effect: non-scaling-stroke; fill: none; stroke: rgb(74, 12, 107); stroke-opacity: 1; stroke-width: 2px; opacity: 1;\"/></g><g class=\"points\"/><g class=\"text\"/></g><g class=\"trace scatter trace09b96a\" style=\"stroke-miterlimit: 2; opacity: 1;\"><g class=\"fills\"/><g class=\"errorbars\"/><g class=\"lines\"><path class=\"js-line\" d=\"M0,111.59L21.68,113.07L43.37,100.49L65.05,88.19L86.74,71.13L108.42,60.25L130.1,57.05L151.79,60.82L173.47,61.06L195.16,62.21L216.84,87.54L238.52,133.46\" style=\"vector-effect: non-scaling-stroke; fill: none; stroke: rgb(120, 28, 109); stroke-opacity: 1; stroke-width: 2px; opacity: 1;\"/></g><g class=\"points\"/><g class=\"text\"/></g><g class=\"trace scatter trace31784e\" style=\"stroke-miterlimit: 2; opacity: 1;\"><g class=\"fills\"/><g class=\"errorbars\"/><g class=\"lines\"><path class=\"js-line\" d=\"M0,122.8L21.68,122.49L43.37,126.66L65.05,168.85L86.74,153.56L108.42,110.94L130.1,111.21L151.79,116.63L173.47,114.65L195.16,113.47L216.84,123.83L238.52,147.03\" style=\"vector-effect: non-scaling-stroke; fill: none; stroke: rgb(165, 44, 96); stroke-opacity: 1; stroke-width: 2px; opacity: 1;\"/></g><g class=\"points\"/><g class=\"text\"/></g><g class=\"trace scatter trace922ff5\" style=\"stroke-miterlimit: 2; opacity: 1;\"><g class=\"fills\"/><g class=\"errorbars\"/><g class=\"lines\"><path class=\"js-line\" d=\"M0,149.53L21.68,158.02L43.37,152.09L65.05,150.32L86.74,142.29L130.1,115.45L151.79,111.81L173.47,109.74L195.16,109.05L216.84,124.02L238.52,145.09\" style=\"vector-effect: non-scaling-stroke; fill: none; stroke: rgb(207, 68, 70); stroke-opacity: 1; stroke-width: 2px; opacity: 1;\"/></g><g class=\"points\"/><g class=\"text\"/></g><g class=\"trace scatter traceaf5bdf\" style=\"stroke-miterlimit: 2; opacity: 1;\"><g class=\"fills\"/><g class=\"errorbars\"/><g class=\"lines\"><path class=\"js-line\" d=\"M0,155.54L21.68,155.14L43.37,150.48L65.05,146.75L86.74,127.65L108.42,111.22L130.1,100.3L151.79,104.94L173.47,100.7L195.16,94.43\" style=\"vector-effect: non-scaling-stroke; fill: none; stroke: rgb(237, 105, 37); stroke-opacity: 1; stroke-width: 2px; opacity: 1;\"/></g><g class=\"points\"/><g class=\"text\"/></g></g></g><g class=\"overplot\"/><path class=\"xlines-above crisp\" d=\"M0,0\" style=\"fill: none;\"/><path class=\"ylines-above crisp\" d=\"M0,0\" style=\"fill: none;\"/><g class=\"overlines-above\"/><g class=\"xaxislayer-above\"><g class=\"xtick\"><text text-anchor=\"middle\" x=\"0\" y=\"733\" transform=\"translate(166.74,0)\" style=\"font-family: 'Open Sans', verdana, arial, sans-serif; font-size: 12px; fill: rgb(42, 63, 95); fill-opacity: 1; white-space: pre; opacity: 1;\">5</text></g><g class=\"xtick\"><text text-anchor=\"middle\" x=\"0\" y=\"733\" style=\"font-family: 'Open Sans', verdana, arial, sans-serif; font-size: 12px; fill: rgb(42, 63, 95); fill-opacity: 1; white-space: pre; opacity: 1;\" transform=\"translate(275.15999999999997,0)\">10</text></g></g><g class=\"yaxislayer-above\"><g class=\"ytick\"><text text-anchor=\"end\" x=\"79\" y=\"4.199999999999999\" transform=\"translate(0,678.1666666666666)\" style=\"font-family: 'Open Sans', verdana, arial, sans-serif; font-size: 12px; fill: rgb(42, 63, 95); fill-opacity: 1; white-space: pre; opacity: 1;\">5k</text></g><g class=\"ytick\"><text text-anchor=\"end\" x=\"79\" y=\"4.199999999999999\" style=\"font-family: 'Open Sans', verdana, arial, sans-serif; font-size: 12px; fill: rgb(42, 63, 95); fill-opacity: 1; white-space: pre; opacity: 1;\" transform=\"translate(0,630.5766666666666)\">10k</text></g><g class=\"ytick\"><text text-anchor=\"end\" x=\"79\" y=\"4.199999999999999\" style=\"font-family: 'Open Sans', verdana, arial, sans-serif; font-size: 12px; fill: rgb(42, 63, 95); fill-opacity: 1; white-space: pre; opacity: 1;\" transform=\"translate(0,582.9766666666667)\">15k</text></g></g><g class=\"overaxes-above\"/></g><g class=\"subplot x2y2\"><g class=\"layer-subplot\"><g class=\"shapelayer\"/><g class=\"imagelayer\"/></g><g class=\"minor-gridlayer\"><g class=\"x2\"/><g class=\"y2\"/></g><g class=\"gridlayer\"><g class=\"x2\"><path class=\"x2grid crisp\" transform=\"translate(425.565,0)\" d=\"M0,542.2666666666667v177.73333333333332\" style=\"stroke: rgb(255, 255, 255); stroke-opacity: 1; stroke-width: 1px;\"/><path class=\"x2grid crisp\" transform=\"translate(533.985,0)\" d=\"M0,542.2666666666667v177.73333333333332\" style=\"stroke: rgb(255, 255, 255); stroke-opacity: 1; stroke-width: 1px;\"/></g><g class=\"y2\"><path class=\"y2grid crisp\" transform=\"translate(0,670.9566666666667)\" d=\"M338.825,0h238.52499999999998\" style=\"stroke: rgb(255, 255, 255); stroke-opacity: 1; stroke-width: 1px;\"/><path class=\"y2grid crisp\" transform=\"translate(0,619.7366666666667)\" d=\"M338.825,0h238.52499999999998\" style=\"stroke: rgb(255, 255, 255); stroke-opacity: 1; stroke-width: 1px;\"/><path class=\"y2grid crisp\" transform=\"translate(0,568.5166666666667)\" d=\"M338.825,0h238.52499999999998\" style=\"stroke: rgb(255, 255, 255); stroke-opacity: 1; stroke-width: 1px;\"/></g></g><g class=\"zerolinelayer\"/><path class=\"xlines-below\"/><path class=\"ylines-below\"/><g class=\"overlines-below\"/><g class=\"xaxislayer-below\"/><g class=\"yaxislayer-below\"/><g class=\"overaxes-below\"/><g class=\"plot\" transform=\"translate(338.825,542.2666666666667)\" clip-path=\"url(#clip5bd3a0x2y2plot)\"><g class=\"scatterlayer mlayer\"><g class=\"trace scatter tracee061a6\" style=\"stroke-miterlimit: 2; opacity: 1;\"><g class=\"fills\"/><g class=\"errorbars\"/><g class=\"lines\"><path class=\"js-line\" d=\"M130.1,88.07L151.79,76.7L173.47,81.98L195.16,87.41L216.84,106.92L238.52,143.34\" style=\"vector-effect: non-scaling-stroke; fill: none; stroke: rgb(0, 0, 4); stroke-opacity: 1; stroke-width: 2px; opacity: 1;\"/></g><g class=\"points\"/><g class=\"text\"/></g><g class=\"trace scatter trace455fb1\" style=\"stroke-miterlimit: 2; opacity: 1;\"><g class=\"fills\"/><g class=\"errorbars\"/><g class=\"lines\"><path class=\"js-line\" d=\"M0,140.98L21.68,138.47L43.37,134.07L65.05,132.48L86.74,110.61L108.42,96.47L130.1,85.36L151.79,75.32L173.47,72.66L195.16,89.71L216.84,105.64L238.52,144.26\" style=\"vector-effect: non-scaling-stroke; fill: none; stroke: rgb(27, 12, 65); stroke-opacity: 1; stroke-width: 2px; opacity: 1;\"/></g><g class=\"points\"/><g class=\"text\"/></g><g class=\"trace scatter traceabd78e\" style=\"stroke-miterlimit: 2; opacity: 1;\"><g class=\"fills\"/><g class=\"errorbars\"/><g class=\"lines\"><path class=\"js-line\" d=\"M0,137.81L21.68,138.22L43.37,131.76L65.05,120.65L86.74,110.81L108.42,91.5L130.1,88.99L151.79,71.02L173.47,68.66L195.16,59.29L216.84,80.8L238.52,127.97\" style=\"vector-effect: non-scaling-stroke; fill: none; stroke: rgb(74, 12, 107); stroke-opacity: 1; stroke-width: 2px; opacity: 1;\"/></g><g class=\"points\"/><g class=\"text\"/></g><g class=\"trace scatter trace0351d0\" style=\"stroke-miterlimit: 2; opacity: 1;\"><g class=\"fills\"/><g class=\"errorbars\"/><g class=\"lines\"><path class=\"js-line\" d=\"M0,116.04L21.68,114.45L43.37,106.26L65.05,100.26L86.74,85.97L108.42,76.55L130.1,69.79L151.79,71.73L173.47,68.76L195.16,73.53L216.84,98.47L238.52,140.37\" style=\"vector-effect: non-scaling-stroke; fill: none; stroke: rgb(120, 28, 109); stroke-opacity: 1; stroke-width: 2px; opacity: 1;\"/></g><g class=\"points\"/><g class=\"text\"/></g><g class=\"trace scatter trace8a4cf5\" style=\"stroke-miterlimit: 2; opacity: 1;\"><g class=\"fills\"/><g class=\"errorbars\"/><g class=\"lines\"><path class=\"js-line\" d=\"M0,135.14L21.68,139.04L43.37,131L65.05,115.27L86.74,113.73L130.1,133.5L151.79,136.68L173.47,138.73L195.16,144.57L238.52,161.32\" style=\"vector-effect: non-scaling-stroke; fill: none; stroke: rgb(165, 44, 96); stroke-opacity: 1; stroke-width: 2px; opacity: 1;\"/></g><g class=\"points\"/><g class=\"text\"/></g><g class=\"trace scatter trace1a5272\" style=\"stroke-miterlimit: 2; opacity: 1;\"><g class=\"fills\"/><g class=\"errorbars\"/><g class=\"lines\"><path class=\"js-line\" d=\"M0,167.41L21.68,168.49L43.37,167.21L65.05,165.57L86.74,159.93L108.42,145.9L130.1,137.5L151.79,125.92L173.47,121.47L216.84,141.39L238.52,162.5\" style=\"vector-effect: non-scaling-stroke; fill: none; stroke: rgb(207, 68, 70); stroke-opacity: 1; stroke-width: 2px; opacity: 1;\"/></g><g class=\"points\"/><g class=\"text\"/></g><g class=\"trace scatter trace7b7776\" style=\"stroke-miterlimit: 2; opacity: 1;\"><g class=\"fills\"/><g class=\"errorbars\"/><g class=\"lines\"><path class=\"js-line\" d=\"M0,168.85L21.68,167.98L43.37,160.81L65.05,148.56L86.74,101.95L108.42,49.91L130.1,10.88L151.79,8.89L173.47,9.45L195.16,9.96\" style=\"vector-effect: non-scaling-stroke; fill: none; stroke: rgb(237, 105, 37); stroke-opacity: 1; stroke-width: 2px; opacity: 1;\"/></g><g class=\"points\"/><g class=\"text\"/></g></g></g><g class=\"overplot\"/><path class=\"xlines-above crisp\" d=\"M0,0\" style=\"fill: none;\"/><path class=\"ylines-above crisp\" d=\"M0,0\" style=\"fill: none;\"/><g class=\"overlines-above\"/><g class=\"xaxislayer-above\"><g class=\"x2tick\"><text text-anchor=\"middle\" x=\"0\" y=\"733\" transform=\"translate(425.565,0)\" style=\"font-family: 'Open Sans', verdana, arial, sans-serif; font-size: 12px; fill: rgb(42, 63, 95); fill-opacity: 1; white-space: pre; opacity: 1;\">5</text></g><g class=\"x2tick\"><text text-anchor=\"middle\" x=\"0\" y=\"733\" style=\"font-family: 'Open Sans', verdana, arial, sans-serif; font-size: 12px; fill: rgb(42, 63, 95); fill-opacity: 1; white-space: pre; opacity: 1;\" transform=\"translate(533.985,0)\">10</text></g></g><g class=\"yaxislayer-above\"/><g class=\"overaxes-above\"/></g><g class=\"subplot x3y3\"><g class=\"layer-subplot\"><g class=\"shapelayer\"/><g class=\"imagelayer\"/></g><g class=\"minor-gridlayer\"><g class=\"x3\"/><g class=\"y3\"/></g><g class=\"gridlayer\"><g class=\"x3\"><path class=\"x3grid crisp\" transform=\"translate(684.39,0)\" d=\"M0,542.2666666666667v177.73333333333332\" style=\"stroke: rgb(255, 255, 255); stroke-opacity: 1; stroke-width: 1px;\"/><path class=\"x3grid crisp\" transform=\"translate(792.81,0)\" d=\"M0,542.2666666666667v177.73333333333332\" style=\"stroke: rgb(255, 255, 255); stroke-opacity: 1; stroke-width: 1px;\"/></g><g class=\"y3\"><path class=\"y3grid crisp\" transform=\"translate(0,685.5366666666666)\" d=\"M597.65,0h238.52499999999998\" style=\"stroke: rgb(255, 255, 255); stroke-opacity: 1; stroke-width: 1px;\"/><path class=\"y3grid crisp\" transform=\"translate(0,644.6166666666667)\" d=\"M597.65,0h238.52499999999998\" style=\"stroke: rgb(255, 255, 255); stroke-opacity: 1; stroke-width: 1px;\"/><path class=\"y3grid crisp\" transform=\"translate(0,603.6966666666666)\" d=\"M597.65,0h238.52499999999998\" style=\"stroke: rgb(255, 255, 255); stroke-opacity: 1; stroke-width: 1px;\"/><path class=\"y3grid crisp\" transform=\"translate(0,562.7766666666666)\" d=\"M597.65,0h238.52499999999998\" style=\"stroke: rgb(255, 255, 255); stroke-opacity: 1; stroke-width: 1px;\"/></g></g><g class=\"zerolinelayer\"/><path class=\"xlines-below\"/><path class=\"ylines-below\"/><g class=\"overlines-below\"/><g class=\"xaxislayer-below\"/><g class=\"yaxislayer-below\"/><g class=\"overaxes-below\"/><g class=\"plot\" transform=\"translate(597.65,542.2666666666667)\" clip-path=\"url(#clip5bd3a0x3y3plot)\"><g class=\"scatterlayer mlayer\"><g class=\"trace scatter trace20a2b5\" style=\"stroke-miterlimit: 2; opacity: 1;\"><g class=\"fills\"/><g class=\"errorbars\"/><g class=\"lines\"><path class=\"js-line\" d=\"M130.1,8.89L151.79,8.93L173.47,21L195.16,39.41L216.84,71.13L238.52,113.48\" style=\"vector-effect: non-scaling-stroke; fill: none; stroke: rgb(0, 0, 4); stroke-opacity: 1; stroke-width: 2px; opacity: 1;\"/></g><g class=\"points\"/><g class=\"text\"/></g><g class=\"trace scatter tracee20913\" style=\"stroke-miterlimit: 2; opacity: 1;\"><g class=\"fills\"/><g class=\"errorbars\"/><g class=\"lines\"><path class=\"js-line\" d=\"M0,115.57L21.68,108.24L43.37,99.36L65.05,82.87L86.74,68.22L108.42,50.63L130.1,29.18L151.79,32.21L173.47,36.71L195.16,59.67L216.84,90.93L238.52,130.01\" style=\"vector-effect: non-scaling-stroke; fill: none; stroke: rgb(27, 12, 65); stroke-opacity: 1; stroke-width: 2px; opacity: 1;\"/></g><g class=\"points\"/><g class=\"text\"/></g><g class=\"trace scatter trace67edc7\" style=\"stroke-miterlimit: 2; opacity: 1;\"><g class=\"fills\"/><g class=\"errorbars\"/><g class=\"lines\"><path class=\"js-line\" d=\"M0,129.73L21.68,133.16L43.37,118.88L65.05,108.98L86.74,84.1L108.42,67.73L130.1,48.42L151.79,32.99L173.47,38.84L195.16,46.45L216.84,78.74L238.52,119.29\" style=\"vector-effect: non-scaling-stroke; fill: none; stroke: rgb(74, 12, 107); stroke-opacity: 1; stroke-width: 2px; opacity: 1;\"/></g><g class=\"points\"/><g class=\"text\"/></g><g class=\"trace scatter traceb4991a\" style=\"stroke-miterlimit: 2; opacity: 1;\"><g class=\"fills\"/><g class=\"errorbars\"/><g class=\"lines\"><path class=\"js-line\" d=\"M0,125.63L21.68,136.93L43.37,130.59L65.05,123.55L86.74,108.98L108.42,84.1L130.1,69L151.79,69.61L173.47,68.22L195.16,70.84L216.84,105.05L238.52,146.38\" style=\"vector-effect: non-scaling-stroke; fill: none; stroke: rgb(120, 28, 109); stroke-opacity: 1; stroke-width: 2px; opacity: 1;\"/></g><g class=\"points\"/><g class=\"text\"/></g><g class=\"trace scatter tracef47844\" style=\"stroke-miterlimit: 2; opacity: 1;\"><g class=\"fills\"/><g class=\"errorbars\"/><g class=\"lines\"><path class=\"js-line\" d=\"M0,139.06L21.68,140.08L43.37,139.55L65.05,140.49L86.74,129.28L108.42,124.65L130.1,127.07L151.79,121.66L173.47,118.55L195.16,119.86L216.84,131.85L238.52,154.93\" style=\"vector-effect: non-scaling-stroke; fill: none; stroke: rgb(165, 44, 96); stroke-opacity: 1; stroke-width: 2px; opacity: 1;\"/></g><g class=\"points\"/><g class=\"text\"/></g><g class=\"trace scatter trace2d074e\" style=\"stroke-miterlimit: 2; opacity: 1;\"><g class=\"fills\"/><g class=\"errorbars\"/><g class=\"lines\"><path class=\"js-line\" d=\"M0,163.81L21.68,168.07L43.37,167.09L65.05,164.75L86.74,160.05L108.42,146.91L130.1,127.48L151.79,116.18L173.47,111.84L195.16,114.3L216.84,137.99L238.52,157.68\" style=\"vector-effect: non-scaling-stroke; fill: none; stroke: rgb(207, 68, 70); stroke-opacity: 1; stroke-width: 2px; opacity: 1;\"/></g><g class=\"points\"/><g class=\"text\"/></g><g class=\"trace scatter trace8b8c97\" style=\"stroke-miterlimit: 2; opacity: 1;\"><g class=\"fills\"/><g class=\"errorbars\"/><g class=\"lines\"><path class=\"js-line\" d=\"M0,168.31L43.37,168.85L65.05,163.08L86.74,151.46L108.42,137.79L130.1,120.19L151.79,120.52L173.47,123.75L195.16,116.1\" style=\"vector-effect: non-scaling-stroke; fill: none; stroke: rgb(237, 105, 37); stroke-opacity: 1; stroke-width: 2px; opacity: 1;\"/></g><g class=\"points\"/><g class=\"text\"/></g></g></g><g class=\"overplot\"/><path class=\"xlines-above crisp\" d=\"M0,0\" style=\"fill: none;\"/><path class=\"ylines-above crisp\" d=\"M0,0\" style=\"fill: none;\"/><g class=\"overlines-above\"/><g class=\"xaxislayer-above\"><g class=\"x3tick\"><text text-anchor=\"middle\" x=\"0\" y=\"733\" transform=\"translate(684.39,0)\" style=\"font-family: 'Open Sans', verdana, arial, sans-serif; font-size: 12px; fill: rgb(42, 63, 95); fill-opacity: 1; white-space: pre; opacity: 1;\">5</text></g><g class=\"x3tick\"><text text-anchor=\"middle\" x=\"0\" y=\"733\" style=\"font-family: 'Open Sans', verdana, arial, sans-serif; font-size: 12px; fill: rgb(42, 63, 95); fill-opacity: 1; white-space: pre; opacity: 1;\" transform=\"translate(792.81,0)\">10</text></g></g><g class=\"yaxislayer-above\"/><g class=\"overaxes-above\"/></g><g class=\"subplot x4y4\"><g class=\"layer-subplot\"><g class=\"shapelayer\"/><g class=\"imagelayer\"/></g><g class=\"minor-gridlayer\"><g class=\"x4\"/><g class=\"y4\"/></g><g class=\"gridlayer\"><g class=\"x4\"><path class=\"x4grid crisp\" transform=\"translate(943.2149999999999,0)\" d=\"M0,542.2666666666667v177.73333333333332\" style=\"stroke: rgb(255, 255, 255); stroke-opacity: 1; stroke-width: 1px;\"/><path class=\"x4grid crisp\" transform=\"translate(1051.635,0)\" d=\"M0,542.2666666666667v177.73333333333332\" style=\"stroke: rgb(255, 255, 255); stroke-opacity: 1; stroke-width: 1px;\"/></g><g class=\"y4\"><path class=\"y4grid crisp\" transform=\"translate(0,694.2766666666666)\" d=\"M856.4749999999999,0h238.52499999999998\" style=\"stroke: rgb(255, 255, 255); stroke-opacity: 1; stroke-width: 1px;\"/><path class=\"y4grid crisp\" transform=\"translate(0,656.0066666666667)\" d=\"M856.4749999999999,0h238.52499999999998\" style=\"stroke: rgb(255, 255, 255); stroke-opacity: 1; stroke-width: 1px;\"/><path class=\"y4grid crisp\" transform=\"translate(0,617.7366666666667)\" d=\"M856.4749999999999,0h238.52499999999998\" style=\"stroke: rgb(255, 255, 255); stroke-opacity: 1; stroke-width: 1px;\"/><path class=\"y4grid crisp\" transform=\"translate(0,579.4666666666667)\" d=\"M856.4749999999999,0h238.52499999999998\" style=\"stroke: rgb(255, 255, 255); stroke-opacity: 1; stroke-width: 1px;\"/></g></g><g class=\"zerolinelayer\"/><path class=\"xlines-below\"/><path class=\"ylines-below\"/><g class=\"overlines-below\"/><g class=\"xaxislayer-below\"/><g class=\"yaxislayer-below\"/><g class=\"overaxes-below\"/><g class=\"plot\" transform=\"translate(856.4749999999999,542.2666666666667)\" clip-path=\"url(#clip5bd3a0x4y4plot)\"><g class=\"scatterlayer mlayer\"><g class=\"trace scatter tracebd6186\" style=\"stroke-miterlimit: 2; opacity: 1;\"><g class=\"fills\"/><g class=\"errorbars\"/><g class=\"lines\"><path class=\"js-line\" d=\"M130.1,44.86L151.79,22.28L173.47,47.54L195.16,72.41L216.84,99.96L238.52,137.47\" style=\"vector-effect: non-scaling-stroke; fill: none; stroke: rgb(0, 0, 4); stroke-opacity: 1; stroke-width: 2px; opacity: 1;\"/></g><g class=\"points\"/><g class=\"text\"/></g><g class=\"trace scatter traceab24f9\" style=\"stroke-miterlimit: 2; opacity: 1;\"><g class=\"fills\"/><g class=\"errorbars\"/><g class=\"lines\"><path class=\"js-line\" d=\"M0,120.25L21.68,120.25L43.37,113.36L65.05,86.95L86.74,64.38L108.42,33.38L130.1,8.89L151.79,19.98L173.47,32.61L195.16,61.7L216.84,97.29L238.52,127.52\" style=\"vector-effect: non-scaling-stroke; fill: none; stroke: rgb(27, 12, 65); stroke-opacity: 1; stroke-width: 2px; opacity: 1;\"/></g><g class=\"points\"/><g class=\"text\"/></g><g class=\"trace scatter tracebb43e2\" style=\"stroke-miterlimit: 2; opacity: 1;\"><g class=\"fills\"/><g class=\"errorbars\"/><g class=\"lines\"><path class=\"js-line\" d=\"M0,109.15L21.68,113.74L43.37,119.86L65.05,88.87L86.74,75.86L108.42,65.52L130.1,62.46L151.79,49.07L173.47,60.17L195.16,81.21L216.84,96.14L238.52,125.99\" style=\"vector-effect: non-scaling-stroke; fill: none; stroke: rgb(74, 12, 107); stroke-opacity: 1; stroke-width: 2px; opacity: 1;\"/></g><g class=\"points\"/><g class=\"text\"/></g><g class=\"trace scatter traceb55eca\" style=\"stroke-miterlimit: 2; opacity: 1;\"><g class=\"fills\"/><g class=\"errorbars\"/><g class=\"lines\"><path class=\"js-line\" d=\"M0,122.16L21.68,125.99L43.37,116.8L65.05,110.68L86.74,98.43L108.42,73.94L130.1,58.63L173.47,71.65L195.16,86.95L216.84,100.73L238.52,152.39\" style=\"vector-effect: non-scaling-stroke; fill: none; stroke: rgb(120, 28, 109); stroke-opacity: 1; stroke-width: 2px; opacity: 1;\"/></g><g class=\"points\"/><g class=\"text\"/></g><g class=\"trace scatter tracec9459b\" style=\"stroke-miterlimit: 2; opacity: 1;\"><g class=\"fills\"/><g class=\"errorbars\"/><g class=\"lines\"><path class=\"js-line\" d=\"M0,134.79L21.68,139L43.37,139L65.05,135.55L86.74,111.44L108.42,101.5L130.1,85.81L151.79,88.48L173.47,106.85L195.16,114.51L216.84,136.7L238.52,154.69\" style=\"vector-effect: non-scaling-stroke; fill: none; stroke: rgb(165, 44, 96); stroke-opacity: 1; stroke-width: 2px; opacity: 1;\"/></g><g class=\"points\"/><g class=\"text\"/></g><g class=\"trace scatter trace46dc8f\" style=\"stroke-miterlimit: 2; opacity: 1;\"><g class=\"fills\"/><g class=\"errorbars\"/><g class=\"lines\"><path class=\"js-line\" d=\"M0,155.07L21.68,153.54L43.37,157.75L65.05,158.9L86.74,153.54L108.42,146.27L130.1,130.58L151.79,112.59L173.47,117.18L195.16,127.52L216.84,148.18L238.52,159.28\" style=\"vector-effect: non-scaling-stroke; fill: none; stroke: rgb(207, 68, 70); stroke-opacity: 1; stroke-width: 2px; opacity: 1;\"/></g><g class=\"points\"/><g class=\"text\"/></g><g class=\"trace scatter trace3c5df9\" style=\"stroke-miterlimit: 2; opacity: 1;\"><g class=\"fills\"/><g class=\"errorbars\"/><g class=\"lines\"><path class=\"js-line\" d=\"M0,168.85L21.68,165.4L43.37,165.79L65.05,157.37L86.74,135.94L108.42,107.24L130.1,80.83L151.79,62.84L173.47,74.32L195.16,95.37\" style=\"vector-effect: non-scaling-stroke; fill: none; stroke: rgb(237, 105, 37); stroke-opacity: 1; stroke-width: 2px; opacity: 1;\"/></g><g class=\"points\"/><g class=\"text\"/></g></g></g><g class=\"overplot\"/><path class=\"xlines-above crisp\" d=\"M0,0\" style=\"fill: none;\"/><path class=\"ylines-above crisp\" d=\"M0,0\" style=\"fill: none;\"/><g class=\"overlines-above\"/><g class=\"xaxislayer-above\"><g class=\"x4tick\"><text text-anchor=\"middle\" x=\"0\" y=\"733\" transform=\"translate(943.2149999999999,0)\" style=\"font-family: 'Open Sans', verdana, arial, sans-serif; font-size: 12px; fill: rgb(42, 63, 95); fill-opacity: 1; white-space: pre; opacity: 1;\">5</text></g><g class=\"x4tick\"><text text-anchor=\"middle\" x=\"0\" y=\"733\" style=\"font-family: 'Open Sans', verdana, arial, sans-serif; font-size: 12px; fill: rgb(42, 63, 95); fill-opacity: 1; white-space: pre; opacity: 1;\" transform=\"translate(1051.635,0)\">10</text></g></g><g class=\"yaxislayer-above\"/><g class=\"overaxes-above\"/></g><g class=\"subplot x5y5\"><g class=\"layer-subplot\"><g class=\"shapelayer\"/><g class=\"imagelayer\"/></g><g class=\"minor-gridlayer\"><g class=\"x5\"/><g class=\"y5\"/></g><g class=\"gridlayer\"><g class=\"x5\"><path class=\"x5grid crisp\" transform=\"translate(166.74,0)\" d=\"M0,321.1333333333333v177.73333333333335\" style=\"stroke: rgb(255, 255, 255); stroke-opacity: 1; stroke-width: 1px;\"/><path class=\"x5grid crisp\" transform=\"translate(275.15999999999997,0)\" d=\"M0,321.1333333333333v177.73333333333335\" style=\"stroke: rgb(255, 255, 255); stroke-opacity: 1; stroke-width: 1px;\"/></g><g class=\"y5\"><path class=\"y5grid crisp\" transform=\"translate(0,445.2733333333333)\" d=\"M80,0h238.52499999999998\" style=\"stroke: rgb(255, 255, 255); stroke-opacity: 1; stroke-width: 1px;\"/><path class=\"y5grid crisp\" transform=\"translate(0,383.9533333333333)\" d=\"M80,0h238.52499999999998\" style=\"stroke: rgb(255, 255, 255); stroke-opacity: 1; stroke-width: 1px;\"/><path class=\"y5grid crisp\" transform=\"translate(0,322.6333333333333)\" d=\"M80,0h238.52499999999998\" style=\"stroke: rgb(255, 255, 255); stroke-opacity: 1; stroke-width: 1px;\"/></g></g><g class=\"zerolinelayer\"/><path class=\"xlines-below\"/><path class=\"ylines-below\"/><g class=\"overlines-below\"/><g class=\"xaxislayer-below\"/><g class=\"yaxislayer-below\"/><g class=\"overaxes-below\"/><g class=\"plot\" transform=\"translate(80,321.1333333333333)\" clip-path=\"url(#clip5bd3a0x5y5plot)\"><g class=\"scatterlayer mlayer\"><g class=\"trace scatter traced304fe\" style=\"stroke-miterlimit: 2; opacity: 1;\"><g class=\"fills\"/><g class=\"errorbars\"/><g class=\"lines\"><path class=\"js-line\" d=\"M130.1,43.96L151.79,33.68L173.47,50.58L216.84,91.05L238.52,135.56\" style=\"vector-effect: non-scaling-stroke; fill: none; stroke: rgb(0, 0, 4); stroke-opacity: 1; stroke-width: 2px; opacity: 1;\"/></g><g class=\"points\"/><g class=\"text\"/></g><g class=\"trace scatter tracede472b\" style=\"stroke-miterlimit: 2; opacity: 1;\"><g class=\"fills\"/><g class=\"errorbars\"/><g class=\"lines\"><path class=\"js-line\" d=\"M0,129.04L43.37,126.88L65.05,120.01L86.74,88.65L108.42,64.27L130.1,39.96L151.79,26.77L173.47,36.97L195.16,50.16L216.84,78.61L238.52,126.83\" style=\"vector-effect: non-scaling-stroke; fill: none; stroke: rgb(27, 12, 65); stroke-opacity: 1; stroke-width: 2px; opacity: 1;\"/></g><g class=\"points\"/><g class=\"text\"/></g><g class=\"trace scatter trace5695af\" style=\"stroke-miterlimit: 2; opacity: 1;\"><g class=\"fills\"/><g class=\"errorbars\"/><g class=\"lines\"><path class=\"js-line\" d=\"M0,126.22L21.68,128.23L43.37,119.92L65.05,109.86L86.74,85.58L108.42,52.42L130.1,24.95L151.79,8.89L173.47,15.34L195.16,19.63L216.84,54.6L238.52,104.86\" style=\"vector-effect: non-scaling-stroke; fill: none; stroke: rgb(74, 12, 107); stroke-opacity: 1; stroke-width: 2px; opacity: 1;\"/></g><g class=\"points\"/><g class=\"text\"/></g><g class=\"trace scatter tracea0e391\" style=\"stroke-miterlimit: 2; opacity: 1;\"><g class=\"fills\"/><g class=\"errorbars\"/><g class=\"lines\"><path class=\"js-line\" d=\"M0,104.24L21.68,116.04L43.37,105.05L65.05,97.16L86.74,73.34L108.42,44.67L130.1,18.01L173.47,28.48L195.16,31.77L216.84,69.05L238.52,116.85\" style=\"vector-effect: non-scaling-stroke; fill: none; stroke: rgb(120, 28, 109); stroke-opacity: 1; stroke-width: 2px; opacity: 1;\"/></g><g class=\"points\"/><g class=\"text\"/></g><g class=\"trace scatter trace25c7af\" style=\"stroke-miterlimit: 2; opacity: 1;\"><g class=\"fills\"/><g class=\"errorbars\"/><g class=\"lines\"><path class=\"js-line\" d=\"M0,116.07L21.68,119.38L43.37,115.55L65.05,168.85L86.74,119.87L108.42,98.28L130.1,101.3L151.79,101.96L173.47,107.26L195.16,111.38L216.84,126.47L238.52,144\" style=\"vector-effect: non-scaling-stroke; fill: none; stroke: rgb(165, 44, 96); stroke-opacity: 1; stroke-width: 2px; opacity: 1;\"/></g><g class=\"points\"/><g class=\"text\"/></g><g class=\"trace scatter tracea3c349\" style=\"stroke-miterlimit: 2; opacity: 1;\"><g class=\"fills\"/><g class=\"errorbars\"/><g class=\"lines\"><path class=\"js-line\" d=\"M0,155.23L21.68,163.82L43.37,163.16L65.05,161.73L86.74,154.01L108.42,137.65L130.1,118L151.79,104.59L173.47,105.23L195.16,108.83L216.84,123.52L238.52,145.01\" style=\"vector-effect: non-scaling-stroke; fill: none; stroke: rgb(207, 68, 70); stroke-opacity: 1; stroke-width: 2px; opacity: 1;\"/></g><g class=\"points\"/><g class=\"text\"/></g><g class=\"trace scatter tracef9203a\" style=\"stroke-miterlimit: 2; opacity: 1;\"><g class=\"fills\"/><g class=\"errorbars\"/><g class=\"lines\"><path class=\"js-line\" d=\"M0,157.25L21.68,161.88L43.37,159.4L65.05,153.52L86.74,136.42L108.42,106.92L130.1,74.89L151.79,72.29L173.47,74.45L195.16,76.6\" style=\"vector-effect: non-scaling-stroke; fill: none; stroke: rgb(237, 105, 37); stroke-opacity: 1; stroke-width: 2px; opacity: 1;\"/></g><g class=\"points\"/><g class=\"text\"/></g></g></g><g class=\"overplot\"/><path class=\"xlines-above crisp\" d=\"M0,0\" style=\"fill: none;\"/><path class=\"ylines-above crisp\" d=\"M0,0\" style=\"fill: none;\"/><g class=\"overlines-above\"/><g class=\"xaxislayer-above\"/><g class=\"yaxislayer-above\"><g class=\"y5tick\"><text text-anchor=\"end\" x=\"79\" y=\"4.199999999999999\" transform=\"translate(0,445.2733333333333)\" style=\"font-family: 'Open Sans', verdana, arial, sans-serif; font-size: 12px; fill: rgb(42, 63, 95); fill-opacity: 1; white-space: pre; opacity: 1;\">5k</text></g><g class=\"y5tick\"><text text-anchor=\"end\" x=\"79\" y=\"4.199999999999999\" style=\"font-family: 'Open Sans', verdana, arial, sans-serif; font-size: 12px; fill: rgb(42, 63, 95); fill-opacity: 1; white-space: pre; opacity: 1;\" transform=\"translate(0,383.9533333333333)\">10k</text></g><g class=\"y5tick\"><text text-anchor=\"end\" x=\"79\" y=\"4.199999999999999\" style=\"font-family: 'Open Sans', verdana, arial, sans-serif; font-size: 12px; fill: rgb(42, 63, 95); fill-opacity: 1; white-space: pre; opacity: 1;\" transform=\"translate(0,322.6333333333333)\">15k</text></g></g><g class=\"overaxes-above\"/></g><g class=\"subplot x6y6\"><g class=\"layer-subplot\"><g class=\"shapelayer\"/><g class=\"imagelayer\"/></g><g class=\"minor-gridlayer\"><g class=\"x6\"/><g class=\"y6\"/></g><g class=\"gridlayer\"><g class=\"x6\"><path class=\"x6grid crisp\" transform=\"translate(425.565,0)\" d=\"M0,321.1333333333333v177.73333333333335\" style=\"stroke: rgb(255, 255, 255); stroke-opacity: 1; stroke-width: 1px;\"/><path class=\"x6grid crisp\" transform=\"translate(533.985,0)\" d=\"M0,321.1333333333333v177.73333333333335\" style=\"stroke: rgb(255, 255, 255); stroke-opacity: 1; stroke-width: 1px;\"/></g><g class=\"y6\"><path class=\"y6grid crisp\" transform=\"translate(0,459.31333333333333)\" d=\"M338.825,0h238.52499999999998\" style=\"stroke: rgb(255, 255, 255); stroke-opacity: 1; stroke-width: 1px;\"/><path class=\"y6grid crisp\" transform=\"translate(0,400.3233333333333)\" d=\"M338.825,0h238.52499999999998\" style=\"stroke: rgb(255, 255, 255); stroke-opacity: 1; stroke-width: 1px;\"/><path class=\"y6grid crisp\" transform=\"translate(0,341.3433333333333)\" d=\"M338.825,0h238.52499999999998\" style=\"stroke: rgb(255, 255, 255); stroke-opacity: 1; stroke-width: 1px;\"/></g></g><g class=\"zerolinelayer\"/><path class=\"xlines-below\"/><path class=\"ylines-below\"/><g class=\"overlines-below\"/><g class=\"xaxislayer-below\"/><g class=\"yaxislayer-below\"/><g class=\"overaxes-below\"/><g class=\"plot\" transform=\"translate(338.825,321.1333333333333)\" clip-path=\"url(#clip5bd3a0x6y6plot)\"><g class=\"scatterlayer mlayer\"><g class=\"trace scatter trace134062\" style=\"stroke-miterlimit: 2; opacity: 1;\"><g class=\"fills\"/><g class=\"errorbars\"/><g class=\"lines\"><path class=\"js-line\" d=\"M130.1,32.72L151.79,26.11L173.47,30.12L195.16,30.59L216.84,65.27L238.52,125.44\" style=\"vector-effect: non-scaling-stroke; fill: none; stroke: rgb(0, 0, 4); stroke-opacity: 1; stroke-width: 2px; opacity: 1;\"/></g><g class=\"points\"/><g class=\"text\"/></g><g class=\"trace scatter trace49f568\" style=\"stroke-miterlimit: 2; opacity: 1;\"><g class=\"fills\"/><g class=\"errorbars\"/><g class=\"lines\"><path class=\"js-line\" d=\"M0,129.45L21.68,121.9L43.37,105.38L65.05,100.43L86.74,63.39L108.42,61.73L130.1,41.92L151.79,44.98L173.47,25.87L195.16,36.49L216.84,59.38L238.52,115.53\" style=\"vector-effect: non-scaling-stroke; fill: none; stroke: rgb(27, 12, 65); stroke-opacity: 1; stroke-width: 2px; opacity: 1;\"/></g><g class=\"points\"/><g class=\"text\"/></g><g class=\"trace scatter trace22764b\" style=\"stroke-miterlimit: 2; opacity: 1;\"><g class=\"fills\"/><g class=\"errorbars\"/><g class=\"lines\"><path class=\"js-line\" d=\"M0,125.44L21.68,126.85L43.37,116L65.05,95L86.74,75.89L108.42,49.94L130.1,28L151.79,8.89L173.47,11.72L195.16,18.32L216.84,48.52L238.52,115.05\" style=\"vector-effect: non-scaling-stroke; fill: none; stroke: rgb(74, 12, 107); stroke-opacity: 1; stroke-width: 2px; opacity: 1;\"/></g><g class=\"points\"/><g class=\"text\"/></g><g class=\"trace scatter trace255030\" style=\"stroke-miterlimit: 2; opacity: 1;\"><g class=\"fills\"/><g class=\"errorbars\"/><g class=\"lines\"><path class=\"js-line\" d=\"M0,99.01L21.68,115.53L43.37,103.73L65.05,69.52L86.74,68.1L108.42,32.48L130.1,14.08L151.79,23.51L173.47,29.88L195.16,29.88L216.84,44.28L238.52,114.35\" style=\"vector-effect: non-scaling-stroke; fill: none; stroke: rgb(120, 28, 109); stroke-opacity: 1; stroke-width: 2px; opacity: 1;\"/></g><g class=\"points\"/><g class=\"text\"/></g><g class=\"trace scatter trace304fcf\" style=\"stroke-miterlimit: 2; opacity: 1;\"><g class=\"fills\"/><g class=\"errorbars\"/><g class=\"lines\"><path class=\"js-line\" d=\"M0,128.74L21.68,117.89L43.37,97.36L65.05,105.62L86.74,99.48L108.42,94.76L130.1,103.02L151.79,105.15L173.47,108.21L195.16,107.98L216.84,124.49L238.52,145.73\" style=\"vector-effect: non-scaling-stroke; fill: none; stroke: rgb(165, 44, 96); stroke-opacity: 1; stroke-width: 2px; opacity: 1;\"/></g><g class=\"points\"/><g class=\"text\"/></g><g class=\"trace scatter trace5d8d0c\" style=\"stroke-miterlimit: 2; opacity: 1;\"><g class=\"fills\"/><g class=\"errorbars\"/><g class=\"lines\"><path class=\"js-line\" d=\"M0,157.52L21.68,166.96L43.37,165.07L65.05,166.25L86.74,157.05L108.42,141.01L130.1,117.41L151.79,111.04L173.47,112.22L195.16,109.86L216.84,125.44L238.52,158.7\" style=\"vector-effect: non-scaling-stroke; fill: none; stroke: rgb(207, 68, 70); stroke-opacity: 1; stroke-width: 2px; opacity: 1;\"/></g><g class=\"points\"/><g class=\"text\"/></g><g class=\"trace scatter trace39a2b1\" style=\"stroke-miterlimit: 2; opacity: 1;\"><g class=\"fills\"/><g class=\"errorbars\"/><g class=\"lines\"><path class=\"js-line\" d=\"M0,167.9L21.68,168.85L43.37,166.72L65.05,161.3L86.74,131.1L108.42,111.99L130.1,83.91L151.79,88.63L173.47,87.69L195.16,63.15\" style=\"vector-effect: non-scaling-stroke; fill: none; stroke: rgb(237, 105, 37); stroke-opacity: 1; stroke-width: 2px; opacity: 1;\"/></g><g class=\"points\"/><g class=\"text\"/></g></g></g><g class=\"overplot\"/><path class=\"xlines-above crisp\" d=\"M0,0\" style=\"fill: none;\"/><path class=\"ylines-above crisp\" d=\"M0,0\" style=\"fill: none;\"/><g class=\"overlines-above\"/><g class=\"xaxislayer-above\"/><g class=\"yaxislayer-above\"/><g class=\"overaxes-above\"/></g><g class=\"subplot x7y7\"><g class=\"layer-subplot\"><g class=\"shapelayer\"/><g class=\"imagelayer\"/></g><g class=\"minor-gridlayer\"><g class=\"x7\"/><g class=\"y7\"/></g><g class=\"gridlayer\"><g class=\"x7\"><path class=\"x7grid crisp\" transform=\"translate(684.39,0)\" d=\"M0,321.1333333333333v177.73333333333335\" style=\"stroke: rgb(255, 255, 255); stroke-opacity: 1; stroke-width: 1px;\"/><path class=\"x7grid crisp\" transform=\"translate(792.81,0)\" d=\"M0,321.1333333333333v177.73333333333335\" style=\"stroke: rgb(255, 255, 255); stroke-opacity: 1; stroke-width: 1px;\"/></g><g class=\"y7\"><path class=\"y7grid crisp\" transform=\"translate(0,459.61333333333334)\" d=\"M597.65,0h238.52499999999998\" style=\"stroke: rgb(255, 255, 255); stroke-opacity: 1; stroke-width: 1px;\"/><path class=\"y7grid crisp\" transform=\"translate(0,403.4633333333333)\" d=\"M597.65,0h238.52499999999998\" style=\"stroke: rgb(255, 255, 255); stroke-opacity: 1; stroke-width: 1px;\"/><path class=\"y7grid crisp\" transform=\"translate(0,347.31333333333333)\" d=\"M597.65,0h238.52499999999998\" style=\"stroke: rgb(255, 255, 255); stroke-opacity: 1; stroke-width: 1px;\"/></g></g><g class=\"zerolinelayer\"/><path class=\"xlines-below\"/><path class=\"ylines-below\"/><g class=\"overlines-below\"/><g class=\"xaxislayer-below\"/><g class=\"yaxislayer-below\"/><g class=\"overaxes-below\"/><g class=\"plot\" transform=\"translate(597.65,321.1333333333333)\" clip-path=\"url(#clip5bd3a0x7y7plot)\"><g class=\"scatterlayer mlayer\"><g class=\"trace scatter trace4024a8\" style=\"stroke-miterlimit: 2; opacity: 1;\"><g class=\"fills\"/><g class=\"errorbars\"/><g class=\"lines\"><path class=\"js-line\" d=\"M130.1,26.65L151.79,35.32L173.47,30.56L195.16,43.21L216.84,69.57L238.52,122\" style=\"vector-effect: non-scaling-stroke; fill: none; stroke: rgb(0, 0, 4); stroke-opacity: 1; stroke-width: 2px; opacity: 1;\"/></g><g class=\"points\"/><g class=\"text\"/></g><g class=\"trace scatter trace5001c8\" style=\"stroke-miterlimit: 2; opacity: 1;\"><g class=\"fills\"/><g class=\"errorbars\"/><g class=\"lines\"><path class=\"js-line\" d=\"M0,103.6L21.68,107.91L43.37,92.17L65.05,73.71L86.74,49.79L108.42,31.71L130.1,31.66L151.79,36.13L173.47,37.05L195.16,44.15L216.84,69.87L238.52,121.86\" style=\"vector-effect: non-scaling-stroke; fill: none; stroke: rgb(27, 12, 65); stroke-opacity: 1; stroke-width: 2px; opacity: 1;\"/></g><g class=\"points\"/><g class=\"text\"/></g><g class=\"trace scatter trace756a36\" style=\"stroke-miterlimit: 2; opacity: 1;\"><g class=\"fills\"/><g class=\"errorbars\"/><g class=\"lines\"><path class=\"js-line\" d=\"M0,114.74L21.68,109.8L43.37,99.54L65.05,79.61L86.74,52.44L108.42,23.08L130.1,14.37L151.79,22.21L173.47,10.91L195.16,8.89L216.84,47.83L238.52,105.42\" style=\"vector-effect: non-scaling-stroke; fill: none; stroke: rgb(74, 12, 107); stroke-opacity: 1; stroke-width: 2px; opacity: 1;\"/></g><g class=\"points\"/><g class=\"text\"/></g><g class=\"trace scatter trace01e6f0\" style=\"stroke-miterlimit: 2; opacity: 1;\"><g class=\"fills\"/><g class=\"errorbars\"/><g class=\"lines\"><path class=\"js-line\" d=\"M0,96.93L21.68,97.02L43.37,84.71L65.05,67.8L86.74,40.73L108.42,14.64L130.1,20.59L151.79,22.59L173.47,27.15L195.16,33.77L216.84,59.47L238.52,127.57\" style=\"vector-effect: non-scaling-stroke; fill: none; stroke: rgb(120, 28, 109); stroke-opacity: 1; stroke-width: 2px; opacity: 1;\"/></g><g class=\"points\"/><g class=\"text\"/></g><g class=\"trace scatter trace85ed38\" style=\"stroke-miterlimit: 2; opacity: 1;\"><g class=\"fills\"/><g class=\"errorbars\"/><g class=\"lines\"><path class=\"js-line\" d=\"M0,107.04L21.68,106.41L43.37,115.86L65.05,168.85L86.74,145.44L108.42,118.24L130.1,78.29L151.79,77.7L173.47,71.62L195.16,76.22L216.84,98.23L238.52,136.06\" style=\"vector-effect: non-scaling-stroke; fill: none; stroke: rgb(165, 44, 96); stroke-opacity: 1; stroke-width: 2px; opacity: 1;\"/></g><g class=\"points\"/><g class=\"text\"/></g><g class=\"trace scatter trace53b862\" style=\"stroke-miterlimit: 2; opacity: 1;\"><g class=\"fills\"/><g class=\"errorbars\"/><g class=\"lines\"><path class=\"js-line\" d=\"M0,136.5L21.68,147.82L43.37,140.17L86.74,124.29L108.42,109.04L130.1,103.31L151.79,108.83L173.47,104.77L195.16,102.72L216.84,127.3L238.52,153.71\" style=\"vector-effect: non-scaling-stroke; fill: none; stroke: rgb(207, 68, 70); stroke-opacity: 1; stroke-width: 2px; opacity: 1;\"/></g><g class=\"points\"/><g class=\"text\"/></g><g class=\"trace scatter tracecbcfa9\" style=\"stroke-miterlimit: 2; opacity: 1;\"><g class=\"fills\"/><g class=\"errorbars\"/><g class=\"lines\"><path class=\"js-line\" d=\"M0,159.46L21.68,158.25L43.37,152.02L65.05,142.52L86.74,122.85L108.42,96.12L130.1,94.82L151.79,105.13L173.47,96.3L195.16,88.8\" style=\"vector-effect: non-scaling-stroke; fill: none; stroke: rgb(237, 105, 37); stroke-opacity: 1; stroke-width: 2px; opacity: 1;\"/></g><g class=\"points\"/><g class=\"text\"/></g></g></g><g class=\"overplot\"/><path class=\"xlines-above crisp\" d=\"M0,0\" style=\"fill: none;\"/><path class=\"ylines-above crisp\" d=\"M0,0\" style=\"fill: none;\"/><g class=\"overlines-above\"/><g class=\"xaxislayer-above\"/><g class=\"yaxislayer-above\"/><g class=\"overaxes-above\"/></g><g class=\"subplot x8y8\"><g class=\"layer-subplot\"><g class=\"shapelayer\"/><g class=\"imagelayer\"/></g><g class=\"minor-gridlayer\"><g class=\"x8\"/><g class=\"y8\"/></g><g class=\"gridlayer\"><g class=\"x8\"><path class=\"x8grid crisp\" transform=\"translate(943.2149999999999,0)\" d=\"M0,321.1333333333333v177.73333333333335\" style=\"stroke: rgb(255, 255, 255); stroke-opacity: 1; stroke-width: 1px;\"/><path class=\"x8grid crisp\" transform=\"translate(1051.635,0)\" d=\"M0,321.1333333333333v177.73333333333335\" style=\"stroke: rgb(255, 255, 255); stroke-opacity: 1; stroke-width: 1px;\"/></g><g class=\"y8\"><path class=\"y8grid crisp\" transform=\"translate(0,474.5533333333333)\" d=\"M856.4749999999999,0h238.52499999999998\" style=\"stroke: rgb(255, 255, 255); stroke-opacity: 1; stroke-width: 1px;\"/><path class=\"y8grid crisp\" transform=\"translate(0,411.3233333333333)\" d=\"M856.4749999999999,0h238.52499999999998\" style=\"stroke: rgb(255, 255, 255); stroke-opacity: 1; stroke-width: 1px;\"/><path class=\"y8grid crisp\" transform=\"translate(0,348.10333333333335)\" d=\"M856.4749999999999,0h238.52499999999998\" style=\"stroke: rgb(255, 255, 255); stroke-opacity: 1; stroke-width: 1px;\"/></g></g><g class=\"zerolinelayer\"/><path class=\"xlines-below\"/><path class=\"ylines-below\"/><g class=\"overlines-below\"/><g class=\"xaxislayer-below\"/><g class=\"yaxislayer-below\"/><g class=\"overaxes-below\"/><g class=\"plot\" transform=\"translate(856.4749999999999,321.1333333333333)\" clip-path=\"url(#clip5bd3a0x8y8plot)\"><g class=\"scatterlayer mlayer\"><g class=\"trace scatter trace0559d6\" style=\"stroke-miterlimit: 2; opacity: 1;\"><g class=\"fills\"/><g class=\"errorbars\"/><g class=\"lines\"><path class=\"js-line\" d=\"M130.1,70.15L151.79,60.67L173.47,70.72L195.16,97.4L216.84,126.93L238.52,168.85\" style=\"vector-effect: non-scaling-stroke; fill: none; stroke: rgb(0, 0, 4); stroke-opacity: 1; stroke-width: 2px; opacity: 1;\"/></g><g class=\"points\"/><g class=\"text\"/></g><g class=\"trace scatter tracea315e7\" style=\"stroke-miterlimit: 2; opacity: 1;\"><g class=\"fills\"/><g class=\"errorbars\"/><g class=\"lines\"><path class=\"js-line\" d=\"M0,167.46L21.68,161.77L43.37,158.16L65.05,146.97L86.74,112.45L108.42,85.9L130.1,48.59L151.79,37.97L173.47,45.05L195.16,69.46L216.84,104.17L238.52,154.05\" style=\"vector-effect: non-scaling-stroke; fill: none; stroke: rgb(27, 12, 65); stroke-opacity: 1; stroke-width: 2px; opacity: 1;\"/></g><g class=\"points\"/><g class=\"text\"/></g><g class=\"trace scatter trace013eae\" style=\"stroke-miterlimit: 2; opacity: 1;\"><g class=\"fills\"/><g class=\"errorbars\"/><g class=\"lines\"><path class=\"js-line\" d=\"M0,149.88L21.68,147.35L43.37,140.65L65.05,115.99L86.74,87.03L108.42,61.62L130.1,26.59L151.79,17.61L173.47,22.67L195.16,21.91L216.84,72.3L238.52,131.54\" style=\"vector-effect: non-scaling-stroke; fill: none; stroke: rgb(74, 12, 107); stroke-opacity: 1; stroke-width: 2px; opacity: 1;\"/></g><g class=\"points\"/><g class=\"text\"/></g><g class=\"trace scatter trace341293\" style=\"stroke-miterlimit: 2; opacity: 1;\"><g class=\"fills\"/><g class=\"errorbars\"/><g class=\"lines\"><path class=\"js-line\" d=\"M0,126.93L21.68,129.71L43.37,125.22L65.05,105.24L86.74,71.61L108.42,40.63L130.1,11.48L151.79,24.06L173.47,37.59L195.16,51.37L216.84,55.42L238.52,108.78\" style=\"vector-effect: non-scaling-stroke; fill: none; stroke: rgb(120, 28, 109); stroke-opacity: 1; stroke-width: 2px; opacity: 1;\"/></g><g class=\"points\"/><g class=\"text\"/></g><g class=\"trace scatter trace7c9aad\" style=\"stroke-miterlimit: 2; opacity: 1;\"><g class=\"fills\"/><g class=\"errorbars\"/><g class=\"lines\"><path class=\"js-line\" d=\"M0,118.08L21.68,118.01L43.37,107.08L65.05,116.75L86.74,98.16L108.42,89.82L130.1,87.73L151.79,85.9L173.47,117.19L195.16,107.77L216.84,127.37L238.52,145.01\" style=\"vector-effect: non-scaling-stroke; fill: none; stroke: rgb(165, 44, 96); stroke-opacity: 1; stroke-width: 2px; opacity: 1;\"/></g><g class=\"points\"/><g class=\"text\"/></g><g class=\"trace scatter trace5172cb\" style=\"stroke-miterlimit: 2; opacity: 1;\"><g class=\"fills\"/><g class=\"errorbars\"/><g class=\"lines\"><path class=\"js-line\" d=\"M0,160.25L21.68,166.13L43.37,164.29L65.05,165.05L86.74,156.2L108.42,140.21L130.1,122.06L151.79,93.42L173.47,88.93L195.16,90.57L216.84,120.42L238.52,142.23\" style=\"vector-effect: non-scaling-stroke; fill: none; stroke: rgb(207, 68, 70); stroke-opacity: 1; stroke-width: 2px; opacity: 1;\"/></g><g class=\"points\"/><g class=\"text\"/></g><g class=\"trace scatter traceb8b624\" style=\"stroke-miterlimit: 2; opacity: 1;\"><g class=\"fills\"/><g class=\"errorbars\"/><g class=\"lines\"><path class=\"js-line\" d=\"M0,161.26L21.68,164.48L43.37,157.78L65.05,145.33L86.74,102.78L108.42,59.21L130.1,8.89L151.79,14.77L173.47,36.58L195.16,47.07\" style=\"vector-effect: non-scaling-stroke; fill: none; stroke: rgb(237, 105, 37); stroke-opacity: 1; stroke-width: 2px; opacity: 1;\"/></g><g class=\"points\"/><g class=\"text\"/></g></g></g><g class=\"overplot\"/><path class=\"xlines-above crisp\" d=\"M0,0\" style=\"fill: none;\"/><path class=\"ylines-above crisp\" d=\"M0,0\" style=\"fill: none;\"/><g class=\"overlines-above\"/><g class=\"xaxislayer-above\"/><g class=\"yaxislayer-above\"/><g class=\"overaxes-above\"/></g><g class=\"subplot x9y9\"><g class=\"layer-subplot\"><g class=\"shapelayer\"/><g class=\"imagelayer\"/></g><g class=\"minor-gridlayer\"><g class=\"x9\"/><g class=\"y9\"/></g><g class=\"gridlayer\"><g class=\"x9\"><path class=\"x9grid crisp\" transform=\"translate(166.74,0)\" d=\"M0,100.00000000000007v177.73333333333332\" style=\"stroke: rgb(255, 255, 255); stroke-opacity: 1; stroke-width: 1px;\"/><path class=\"x9grid crisp\" transform=\"translate(275.15999999999997,0)\" d=\"M0,100.00000000000007v177.73333333333332\" style=\"stroke: rgb(255, 255, 255); stroke-opacity: 1; stroke-width: 1px;\"/></g><g class=\"y9\"><path class=\"y9grid crisp\" transform=\"translate(0,242.67000000000007)\" d=\"M80,0h238.52499999999998\" style=\"stroke: rgb(255, 255, 255); stroke-opacity: 1; stroke-width: 1px;\"/><path class=\"y9grid crisp\" transform=\"translate(0,200.86000000000007)\" d=\"M80,0h238.52499999999998\" style=\"stroke: rgb(255, 255, 255); stroke-opacity: 1; stroke-width: 1px;\"/><path class=\"y9grid crisp\" transform=\"translate(0,159.05000000000007)\" d=\"M80,0h238.52499999999998\" style=\"stroke: rgb(255, 255, 255); stroke-opacity: 1; stroke-width: 1px;\"/><path class=\"y9grid crisp\" transform=\"translate(0,117.23000000000008)\" d=\"M80,0h238.52499999999998\" style=\"stroke: rgb(255, 255, 255); stroke-opacity: 1; stroke-width: 1px;\"/></g></g><g class=\"zerolinelayer\"/><path class=\"xlines-below\"/><path class=\"ylines-below\"/><g class=\"overlines-below\"/><g class=\"xaxislayer-below\"/><g class=\"yaxislayer-below\"/><g class=\"overaxes-below\"/><g class=\"plot\" transform=\"translate(80,100.00000000000007)\" clip-path=\"url(#clip5bd3a0x9y9plot)\"><g class=\"scatterlayer mlayer\"><g class=\"trace scatter trace2e8045\" style=\"stroke-miterlimit: 2; opacity: 1;\"><g class=\"fills\"/><g class=\"errorbars\"/><g class=\"lines\"><path class=\"js-line\" d=\"M130.1,54.52L151.79,53.83L173.47,58.73L195.16,70.07L216.84,83.39L238.52,118.55\" style=\"vector-effect: non-scaling-stroke; fill: none; stroke: rgb(0, 0, 4); stroke-opacity: 1; stroke-width: 2px; opacity: 1;\"/></g><g class=\"points\"/><g class=\"text\"/></g><g class=\"trace scatter trace67f1a7\" style=\"stroke-miterlimit: 2; opacity: 1;\"><g class=\"fills\"/><g class=\"errorbars\"/><g class=\"lines\"><path class=\"js-line\" d=\"M0,121.64L21.68,117.55L43.37,110.02L65.05,104.24L86.74,91.69L108.42,83.68L130.1,66.64L151.79,65.06L173.47,68.08L195.16,76.72L216.84,90.22L238.52,120.73\" style=\"vector-effect: non-scaling-stroke; fill: none; stroke: rgb(27, 12, 65); stroke-opacity: 1; stroke-width: 2px; opacity: 1;\"/></g><g class=\"points\"/><g class=\"text\"/></g><g class=\"trace scatter trace4f89e1\" style=\"stroke-miterlimit: 2; opacity: 1;\"><g class=\"fills\"/><g class=\"errorbars\"/><g class=\"lines\"><path class=\"js-line\" d=\"M0,120.11L21.68,112.89L43.37,101.63L65.05,90.27L86.74,76.44L108.42,59.66L130.1,41.5L151.79,20.58L173.47,12.25L195.16,8.89L216.84,33.38L238.52,80.24\" style=\"vector-effect: non-scaling-stroke; fill: none; stroke: rgb(74, 12, 107); stroke-opacity: 1; stroke-width: 2px; opacity: 1;\"/></g><g class=\"points\"/><g class=\"text\"/></g><g class=\"trace scatter trace3bc6db\" style=\"stroke-miterlimit: 2; opacity: 1;\"><g class=\"fills\"/><g class=\"errorbars\"/><g class=\"lines\"><path class=\"js-line\" d=\"M0,79.98L21.68,78.96L43.37,83.63L65.05,90.07L86.74,80.67L108.42,66.69L130.1,64.55L195.16,80.6L216.84,102.88L238.52,143.52\" style=\"vector-effect: non-scaling-stroke; fill: none; stroke: rgb(120, 28, 109); stroke-opacity: 1; stroke-width: 2px; opacity: 1;\"/></g><g class=\"points\"/><g class=\"text\"/></g><g class=\"trace scatter trace6dbf65\" style=\"stroke-miterlimit: 2; opacity: 1;\"><g class=\"fills\"/><g class=\"errorbars\"/><g class=\"lines\"><path class=\"js-line\" d=\"M0,135.86L21.68,135.45L43.37,133.92L65.05,143.4L86.74,125.19L108.42,125.72L130.1,129.33L151.79,131.6L173.47,132.82L195.16,131.9L216.84,141.16L238.52,156.7\" style=\"vector-effect: non-scaling-stroke; fill: none; stroke: rgb(165, 44, 96); stroke-opacity: 1; stroke-width: 2px; opacity: 1;\"/></g><g class=\"points\"/><g class=\"text\"/></g><g class=\"trace scatter trace03c87d\" style=\"stroke-miterlimit: 2; opacity: 1;\"><g class=\"fills\"/><g class=\"errorbars\"/><g class=\"lines\"><path class=\"js-line\" d=\"M0,161.65L21.68,163.19L43.37,161.45L65.05,161.21L86.74,157.59L108.42,151.85L130.1,141.08L151.79,136.33L173.47,136.81L195.16,138.24L216.84,149.75L238.52,164.69\" style=\"vector-effect: non-scaling-stroke; fill: none; stroke: rgb(207, 68, 70); stroke-opacity: 1; stroke-width: 2px; opacity: 1;\"/></g><g class=\"points\"/><g class=\"text\"/></g><g class=\"trace scatter trace7eaaf5\" style=\"stroke-miterlimit: 2; opacity: 1;\"><g class=\"fills\"/><g class=\"errorbars\"/><g class=\"lines\"><path class=\"js-line\" d=\"M0,168.85L21.68,167.48L43.37,162.95L65.05,152.04L86.74,122.43L108.42,89.38L130.1,62.17L151.79,73.2L173.47,75.65L195.16,72.68\" style=\"vector-effect: non-scaling-stroke; fill: none; stroke: rgb(237, 105, 37); stroke-opacity: 1; stroke-width: 2px; opacity: 1;\"/></g><g class=\"points\"/><g class=\"text\"/></g></g></g><g class=\"overplot\"/><path class=\"xlines-above crisp\" d=\"M0,0\" style=\"fill: none;\"/><path class=\"ylines-above crisp\" d=\"M0,0\" style=\"fill: none;\"/><g class=\"overlines-above\"/><g class=\"xaxislayer-above\"/><g class=\"yaxislayer-above\"><g class=\"y9tick\"><text text-anchor=\"end\" x=\"79\" y=\"4.199999999999999\" transform=\"translate(0,242.67000000000007)\" style=\"font-family: 'Open Sans', verdana, arial, sans-serif; font-size: 12px; fill: rgb(42, 63, 95); fill-opacity: 1; white-space: pre; opacity: 1;\">10k</text></g><g class=\"y9tick\"><text text-anchor=\"end\" x=\"79\" y=\"4.199999999999999\" style=\"font-family: 'Open Sans', verdana, arial, sans-serif; font-size: 12px; fill: rgb(42, 63, 95); fill-opacity: 1; white-space: pre; opacity: 1;\" transform=\"translate(0,200.86000000000007)\">20k</text></g><g class=\"y9tick\"><text text-anchor=\"end\" x=\"79\" y=\"4.199999999999999\" style=\"font-family: 'Open Sans', verdana, arial, sans-serif; font-size: 12px; fill: rgb(42, 63, 95); fill-opacity: 1; white-space: pre; opacity: 1;\" transform=\"translate(0,159.05000000000007)\">30k</text></g><g class=\"y9tick\"><text text-anchor=\"end\" x=\"79\" y=\"4.199999999999999\" style=\"font-family: 'Open Sans', verdana, arial, sans-serif; font-size: 12px; fill: rgb(42, 63, 95); fill-opacity: 1; white-space: pre; opacity: 1;\" transform=\"translate(0,117.23000000000008)\">40k</text></g></g><g class=\"overaxes-above\"/></g><g class=\"subplot x10y10\"><g class=\"layer-subplot\"><g class=\"shapelayer\"/><g class=\"imagelayer\"/></g><g class=\"minor-gridlayer\"><g class=\"x10\"/><g class=\"y10\"/></g><g class=\"gridlayer\"><g class=\"x10\"><path class=\"x10grid crisp\" transform=\"translate(425.565,0)\" d=\"M0,100.00000000000007v177.73333333333332\" style=\"stroke: rgb(255, 255, 255); stroke-opacity: 1; stroke-width: 1px;\"/><path class=\"x10grid crisp\" transform=\"translate(533.985,0)\" d=\"M0,100.00000000000007v177.73333333333332\" style=\"stroke: rgb(255, 255, 255); stroke-opacity: 1; stroke-width: 1px;\"/></g><g class=\"y10\"><path class=\"y10grid crisp\" transform=\"translate(0,199.79000000000008)\" d=\"M338.825,0h238.52499999999998\" style=\"stroke: rgb(255, 255, 255); stroke-opacity: 1; stroke-width: 1px;\"/><path class=\"y10grid crisp\" transform=\"translate(0,118.51000000000008)\" d=\"M338.825,0h238.52499999999998\" style=\"stroke: rgb(255, 255, 255); stroke-opacity: 1; stroke-width: 1px;\"/></g></g><g class=\"zerolinelayer\"/><path class=\"xlines-below\"/><path class=\"ylines-below\"/><g class=\"overlines-below\"/><g class=\"xaxislayer-below\"/><g class=\"yaxislayer-below\"/><g class=\"overaxes-below\"/><g class=\"plot\" transform=\"translate(338.825,100.00000000000007)\" clip-path=\"url(#clip5bd3a0x10y10plot)\"><g class=\"scatterlayer mlayer\"><g class=\"trace scatter tracecdeccf\" style=\"stroke-miterlimit: 2; opacity: 1;\"><g class=\"fills\"/><g class=\"errorbars\"/><g class=\"lines\"><path class=\"js-line\" d=\"M130.1,53.43L151.79,50.92L173.47,66.24L195.16,81.52L216.84,101.58L238.52,132.82\" style=\"vector-effect: non-scaling-stroke; fill: none; stroke: rgb(0, 0, 4); stroke-opacity: 1; stroke-width: 2px; opacity: 1;\"/></g><g class=\"points\"/><g class=\"text\"/></g><g class=\"trace scatter tracedac5a6\" style=\"stroke-miterlimit: 2; opacity: 1;\"><g class=\"fills\"/><g class=\"errorbars\"/><g class=\"lines\"><path class=\"js-line\" d=\"M0,138.94L21.68,135.78L43.37,122.09L65.05,118.32L86.74,97.87L108.42,74.82L130.1,44.98L151.79,46.08L173.47,54.79L195.16,77.32L216.84,102.49L238.52,132.76\" style=\"vector-effect: non-scaling-stroke; fill: none; stroke: rgb(27, 12, 65); stroke-opacity: 1; stroke-width: 2px; opacity: 1;\"/></g><g class=\"points\"/><g class=\"text\"/></g><g class=\"trace scatter trace790a88\" style=\"stroke-miterlimit: 2; opacity: 1;\"><g class=\"fills\"/><g class=\"errorbars\"/><g class=\"lines\"><path class=\"js-line\" d=\"M0,137.77L21.68,139.23L43.37,129.96L65.05,112.18L86.74,91.7L108.42,64.09L130.1,41.07L151.79,29.73L173.47,23.26L195.16,27.39L216.84,58.99L238.52,108.7\" style=\"vector-effect: non-scaling-stroke; fill: none; stroke: rgb(74, 12, 107); stroke-opacity: 1; stroke-width: 2px; opacity: 1;\"/></g><g class=\"points\"/><g class=\"text\"/></g><g class=\"trace scatter trace0b8fd9\" style=\"stroke-miterlimit: 2; opacity: 1;\"><g class=\"fills\"/><g class=\"errorbars\"/><g class=\"lines\"><path class=\"js-line\" d=\"M0,103.63L21.68,103.46L43.37,96.67L65.05,93.19L86.74,67.12L108.42,31.58L130.1,12.89L151.79,21.18L173.47,26.57L195.16,36.07L216.84,80.8L238.52,134.25\" style=\"vector-effect: non-scaling-stroke; fill: none; stroke: rgb(120, 28, 109); stroke-opacity: 1; stroke-width: 2px; opacity: 1;\"/></g><g class=\"points\"/><g class=\"text\"/></g><g class=\"trace scatter traceed5841\" style=\"stroke-miterlimit: 2; opacity: 1;\"><g class=\"fills\"/><g class=\"errorbars\"/><g class=\"lines\"><path class=\"js-line\" d=\"M0,130.22L21.68,131.52L43.37,127.23L65.05,141.11L86.74,87.05L108.42,73.26L130.1,79.02L173.47,102.81L195.16,113.58L216.84,132.37L238.52,153.31\" style=\"vector-effect: non-scaling-stroke; fill: none; stroke: rgb(165, 44, 96); stroke-opacity: 1; stroke-width: 2px; opacity: 1;\"/></g><g class=\"points\"/><g class=\"text\"/></g><g class=\"trace scatter trace1d4424\" style=\"stroke-miterlimit: 2; opacity: 1;\"><g class=\"fills\"/><g class=\"errorbars\"/><g class=\"lines\"><path class=\"js-line\" d=\"M0,158.7L21.68,162.9L43.37,164.69L65.05,162.83L86.74,157.86L108.42,143.97L130.1,119.62L151.79,111.82L173.47,112.31L195.16,118.71L216.84,139L238.52,159.81\" style=\"vector-effect: non-scaling-stroke; fill: none; stroke: rgb(207, 68, 70); stroke-opacity: 1; stroke-width: 2px; opacity: 1;\"/></g><g class=\"points\"/><g class=\"text\"/></g><g class=\"trace scatter traced64243\" style=\"stroke-miterlimit: 2; opacity: 1;\"><g class=\"fills\"/><g class=\"errorbars\"/><g class=\"lines\"><path class=\"js-line\" d=\"M0,167.48L21.68,168.85L43.37,163.87L65.05,149.21L86.74,117.7L108.42,60.84L130.1,8.89L151.79,14.22L173.47,16.69L195.16,15.39\" style=\"vector-effect: non-scaling-stroke; fill: none; stroke: rgb(237, 105, 37); stroke-opacity: 1; stroke-width: 2px; opacity: 1;\"/></g><g class=\"points\"/><g class=\"text\"/></g></g></g><g class=\"overplot\"/><path class=\"xlines-above crisp\" d=\"M0,0\" style=\"fill: none;\"/><path class=\"ylines-above crisp\" d=\"M0,0\" style=\"fill: none;\"/><g class=\"overlines-above\"/><g class=\"xaxislayer-above\"/><g class=\"yaxislayer-above\"/><g class=\"overaxes-above\"/></g><g class=\"subplot x11y11\"><g class=\"layer-subplot\"><g class=\"shapelayer\"/><g class=\"imagelayer\"/></g><g class=\"minor-gridlayer\"><g class=\"x11\"/><g class=\"y11\"/></g><g class=\"gridlayer\"><g class=\"x11\"><path class=\"x11grid crisp\" transform=\"translate(684.39,0)\" d=\"M0,100.00000000000007v177.73333333333332\" style=\"stroke: rgb(255, 255, 255); stroke-opacity: 1; stroke-width: 1px;\"/><path class=\"x11grid crisp\" transform=\"translate(792.81,0)\" d=\"M0,100.00000000000007v177.73333333333332\" style=\"stroke: rgb(255, 255, 255); stroke-opacity: 1; stroke-width: 1px;\"/></g><g class=\"y11\"><path class=\"y11grid crisp\" transform=\"translate(0,220.22000000000008)\" d=\"M597.65,0h238.52499999999998\" style=\"stroke: rgb(255, 255, 255); stroke-opacity: 1; stroke-width: 1px;\"/><path class=\"y11grid crisp\" transform=\"translate(0,165.70000000000007)\" d=\"M597.65,0h238.52499999999998\" style=\"stroke: rgb(255, 255, 255); stroke-opacity: 1; stroke-width: 1px;\"/><path class=\"y11grid crisp\" transform=\"translate(0,111.18000000000006)\" d=\"M597.65,0h238.52499999999998\" style=\"stroke: rgb(255, 255, 255); stroke-opacity: 1; stroke-width: 1px;\"/></g></g><g class=\"zerolinelayer\"><path class=\"y11zl zl crisp\" transform=\"translate(0,274.7300000000001)\" d=\"M597.65,0h238.52499999999998\" style=\"stroke: rgb(255, 255, 255); stroke-opacity: 1; stroke-width: 2px;\"/></g><path class=\"xlines-below\"/><path class=\"ylines-below\"/><g class=\"overlines-below\"/><g class=\"xaxislayer-below\"/><g class=\"yaxislayer-below\"/><g class=\"overaxes-below\"/><g class=\"plot\" transform=\"translate(597.65,100.00000000000007)\" clip-path=\"url(#clip5bd3a0x11y11plot)\"><g class=\"scatterlayer mlayer\"><g class=\"trace scatter tracee108a1\" style=\"stroke-miterlimit: 2; opacity: 1;\"><g class=\"fills\"/><g class=\"errorbars\"/><g class=\"lines\"><path class=\"js-line\" d=\"M130.1,91.81L151.79,91.59L173.47,101.57L195.16,113.24L216.84,129.76L238.52,149.55\" style=\"vector-effect: non-scaling-stroke; fill: none; stroke: rgb(0, 0, 4); stroke-opacity: 1; stroke-width: 2px; opacity: 1;\"/></g><g class=\"points\"/><g class=\"text\"/></g><g class=\"trace scatter trace1615b9\" style=\"stroke-miterlimit: 2; opacity: 1;\"><g class=\"fills\"/><g class=\"errorbars\"/><g class=\"lines\"><path class=\"js-line\" d=\"M0,154.62L21.68,152.38L43.37,145.95L65.05,140.82L86.74,129.05L130.1,98.41L151.79,93.06L173.47,104.51L195.16,117.05L216.84,129.92L238.52,148.78\" style=\"vector-effect: non-scaling-stroke; fill: none; stroke: rgb(27, 12, 65); stroke-opacity: 1; stroke-width: 2px; opacity: 1;\"/></g><g class=\"points\"/><g class=\"text\"/></g><g class=\"trace scatter trace6680e8\" style=\"stroke-miterlimit: 2; opacity: 1;\"><g class=\"fills\"/><g class=\"errorbars\"/><g class=\"lines\"><path class=\"js-line\" d=\"M0,149.11L21.68,152L43.37,148.13L65.05,144.8L86.74,130.57L108.42,123.92L130.1,107.24L151.79,104.19L173.47,107.68L195.16,101.24L216.84,122.94L238.52,144.42\" style=\"vector-effect: non-scaling-stroke; fill: none; stroke: rgb(74, 12, 107); stroke-opacity: 1; stroke-width: 2px; opacity: 1;\"/></g><g class=\"points\"/><g class=\"text\"/></g><g class=\"trace scatter trace8a15d5\" style=\"stroke-miterlimit: 2; opacity: 1;\"><g class=\"fills\"/><g class=\"errorbars\"/><g class=\"lines\"><path class=\"js-line\" d=\"M0,140.28L21.68,144.37L43.37,142.79L65.05,138.86L86.74,131.61L108.42,113.89L130.1,106.42L151.79,103.97L173.47,109.48L195.16,113.18L216.84,131.77L238.52,140.61\" style=\"vector-effect: non-scaling-stroke; fill: none; stroke: rgb(120, 28, 109); stroke-opacity: 1; stroke-width: 2px; opacity: 1;\"/></g><g class=\"points\"/><g class=\"text\"/></g><g class=\"trace scatter traceafe2cc\" style=\"stroke-miterlimit: 2; opacity: 1;\"><g class=\"fills\"/><g class=\"errorbars\"/><g class=\"lines\"><path class=\"js-line\" d=\"M0,151.24L21.68,153.8L43.37,147.42L65.05,139.62L86.74,135.59L108.42,136.57L130.1,142.4L151.79,148.57L173.47,153.69L195.16,158.05L216.84,163.61L238.52,162.69\" style=\"vector-effect: non-scaling-stroke; fill: none; stroke: rgb(165, 44, 96); stroke-opacity: 1; stroke-width: 2px; opacity: 1;\"/></g><g class=\"points\"/><g class=\"text\"/></g><g class=\"trace scatter trace6589dd\" style=\"stroke-miterlimit: 2; opacity: 1;\"><g class=\"fills\"/><g class=\"errorbars\"/><g class=\"lines\"><path class=\"js-line\" d=\"M0,168.85L21.68,167.81L43.37,164.05L65.05,161.32L86.74,155.98L108.42,137.33L130.1,116.29L151.79,103.8L173.47,97.1L195.16,102.44L216.84,136.03L238.52,151.56\" style=\"vector-effect: non-scaling-stroke; fill: none; stroke: rgb(207, 68, 70); stroke-opacity: 1; stroke-width: 2px; opacity: 1;\"/></g><g class=\"points\"/><g class=\"text\"/></g><g class=\"trace scatter trace50ba48\" style=\"stroke-miterlimit: 2; opacity: 1;\"><g class=\"fills\"/><g class=\"errorbars\"/><g class=\"lines\"><path class=\"js-line\" d=\"M0,161.43L21.68,163.56L43.37,156.74L65.05,140.39L86.74,99.23L130.1,8.89L151.79,22.19L173.47,20.99L195.16,31.13\" style=\"vector-effect: non-scaling-stroke; fill: none; stroke: rgb(237, 105, 37); stroke-opacity: 1; stroke-width: 2px; opacity: 1;\"/></g><g class=\"points\"/><g class=\"text\"/></g></g></g><g class=\"overplot\"/><path class=\"xlines-above crisp\" d=\"M0,0\" style=\"fill: none;\"/><path class=\"ylines-above crisp\" d=\"M0,0\" style=\"fill: none;\"/><g class=\"overlines-above\"/><g class=\"xaxislayer-above\"/><g class=\"yaxislayer-above\"/><g class=\"overaxes-above\"/></g><g class=\"subplot x12y12\"><g class=\"layer-subplot\"><g class=\"shapelayer\"/><g class=\"imagelayer\"/></g><g class=\"minor-gridlayer\"><g class=\"x12\"/><g class=\"y12\"/></g><g class=\"gridlayer\"><g class=\"x12\"><path class=\"x12grid crisp\" transform=\"translate(943.2149999999999,0)\" d=\"M0,100.00000000000007v177.73333333333332\" style=\"stroke: rgb(255, 255, 255); stroke-opacity: 1; stroke-width: 1px;\"/><path class=\"x12grid crisp\" transform=\"translate(1051.635,0)\" d=\"M0,100.00000000000007v177.73333333333332\" style=\"stroke: rgb(255, 255, 255); stroke-opacity: 1; stroke-width: 1px;\"/></g><g class=\"y12\"><path class=\"y12grid crisp\" transform=\"translate(0,224.74000000000007)\" d=\"M856.4749999999999,0h238.52499999999998\" style=\"stroke: rgb(255, 255, 255); stroke-opacity: 1; stroke-width: 1px;\"/><path class=\"y12grid crisp\" transform=\"translate(0,160.70000000000007)\" d=\"M856.4749999999999,0h238.52499999999998\" style=\"stroke: rgb(255, 255, 255); stroke-opacity: 1; stroke-width: 1px;\"/></g></g><g class=\"zerolinelayer\"/><path class=\"xlines-below\"/><path class=\"ylines-below\"/><g class=\"overlines-below\"/><g class=\"xaxislayer-below\"/><g class=\"yaxislayer-below\"/><g class=\"overaxes-below\"/><g class=\"plot\" transform=\"translate(856.4749999999999,100.00000000000007)\" clip-path=\"url(#clip5bd3a0x12y12plot)\"><g class=\"scatterlayer mlayer\"><g class=\"trace scatter trace94d4aa\" style=\"stroke-miterlimit: 2; opacity: 1;\"><g class=\"fills\"/><g class=\"errorbars\"/><g class=\"lines\"><path class=\"js-line\" d=\"M130.1,8.89L151.79,16.61L173.47,20.12L195.16,38.57L216.84,61.42L238.52,98.28\" style=\"vector-effect: non-scaling-stroke; fill: none; stroke: rgb(0, 0, 4); stroke-opacity: 1; stroke-width: 2px; opacity: 1;\"/></g><g class=\"points\"/><g class=\"text\"/></g><g class=\"trace scatter trace25408a\" style=\"stroke-miterlimit: 2; opacity: 1;\"><g class=\"fills\"/><g class=\"errorbars\"/><g class=\"lines\"><path class=\"js-line\" d=\"M0,102.88L21.68,88.78L43.37,68.58L65.05,54.47L86.74,31.9L108.42,18.97L130.1,13.61L151.79,22.46L173.47,29.78L195.16,42.59L216.84,67.05L238.52,104.74\" style=\"vector-effect: non-scaling-stroke; fill: none; stroke: rgb(27, 12, 65); stroke-opacity: 1; stroke-width: 2px; opacity: 1;\"/></g><g class=\"points\"/><g class=\"text\"/></g><g class=\"trace scatter trace628ea1\" style=\"stroke-miterlimit: 2; opacity: 1;\"><g class=\"fills\"/><g class=\"errorbars\"/><g class=\"lines\"><path class=\"js-line\" d=\"M0,109.02L21.68,100.45L43.37,73.74L65.05,58.47L86.74,28.84L108.42,13.41L130.1,11.38L151.79,14.97L173.47,16.48L195.16,31.11L216.84,59.5L238.52,95.87\" style=\"vector-effect: non-scaling-stroke; fill: none; stroke: rgb(74, 12, 107); stroke-opacity: 1; stroke-width: 2px; opacity: 1;\"/></g><g class=\"points\"/><g class=\"text\"/></g><g class=\"trace scatter tracecc0ce8\" style=\"stroke-miterlimit: 2; opacity: 1;\"><g class=\"fills\"/><g class=\"errorbars\"/><g class=\"lines\"><path class=\"js-line\" d=\"M0,108L21.68,104.65L43.37,95.41L65.05,93.93L86.74,78.61L108.42,64.13L130.1,59.09L151.79,64.39L173.47,68.91L195.16,73.91L216.84,108.61L238.52,141.37\" style=\"vector-effect: non-scaling-stroke; fill: none; stroke: rgb(120, 28, 109); stroke-opacity: 1; stroke-width: 2px; opacity: 1;\"/></g><g class=\"points\"/><g class=\"text\"/></g><g class=\"trace scatter tracedbc7f0\" style=\"stroke-miterlimit: 2; opacity: 1;\"><g class=\"fills\"/><g class=\"errorbars\"/><g class=\"lines\"><path class=\"js-line\" d=\"M0,131.94L21.68,125.18L43.37,122.53L65.05,139.4L86.74,122.95L108.42,113.42L130.1,107.86L173.47,112.37L195.16,115.75L216.84,131.38L238.52,154.94\" style=\"vector-effect: non-scaling-stroke; fill: none; stroke: rgb(165, 44, 96); stroke-opacity: 1; stroke-width: 2px; opacity: 1;\"/></g><g class=\"points\"/><g class=\"text\"/></g><g class=\"trace scatter tracec6ac49\" style=\"stroke-miterlimit: 2; opacity: 1;\"><g class=\"fills\"/><g class=\"errorbars\"/><g class=\"lines\"><path class=\"js-line\" d=\"M0,154.97L21.68,161.37L43.37,158.51L65.05,156.43L86.74,153.23L108.42,139.8L130.1,127.77L151.79,123.6L173.47,126.08L195.16,126.59L216.84,144.77L238.52,160.52\" style=\"vector-effect: non-scaling-stroke; fill: none; stroke: rgb(207, 68, 70); stroke-opacity: 1; stroke-width: 2px; opacity: 1;\"/></g><g class=\"points\"/><g class=\"text\"/></g><g class=\"trace scatter tracede861f\" style=\"stroke-miterlimit: 2; opacity: 1;\"><g class=\"fills\"/><g class=\"errorbars\"/><g class=\"lines\"><path class=\"js-line\" d=\"M0,167.86L21.68,168.85L43.37,166.77L65.05,164.12L86.74,153.8L108.42,139.45L130.1,129.15L151.79,131.52L173.47,130.77L195.16,130.48\" style=\"vector-effect: non-scaling-stroke; fill: none; stroke: rgb(237, 105, 37); stroke-opacity: 1; stroke-width: 2px; opacity: 1;\"/></g><g class=\"points\"/><g class=\"text\"/></g></g></g><g class=\"overplot\"/><path class=\"xlines-above crisp\" d=\"M0,0\" style=\"fill: none;\"/><path class=\"ylines-above crisp\" d=\"M0,0\" style=\"fill: none;\"/><g class=\"overlines-above\"/><g class=\"xaxislayer-above\"/><g class=\"yaxislayer-above\"/><g class=\"overaxes-above\"/></g></g><g class=\"polarlayer\"/><g class=\"smithlayer\"/><g class=\"ternarylayer\"/><g class=\"geolayer\"/><g class=\"funnelarealayer\"/><g class=\"pielayer\"/><g class=\"iciclelayer\"/><g class=\"treemaplayer\"/><g class=\"sunburstlayer\"/><g class=\"glimages\"/><defs id=\"topdefs-5bd3a0\"><g class=\"clips\"/><clipPath id=\"legend5bd3a0\"><rect width=\"73\" height=\"162\" x=\"0\" y=\"0\"/></clipPath></defs><g class=\"layer-above\"><g class=\"imagelayer\"/><g class=\"shapelayer\"/></g><g class=\"infolayer\"><g class=\"legend\" pointer-events=\"all\" transform=\"translate(1115.3,100)\"><rect class=\"bg\" shape-rendering=\"crispEdges\" width=\"73\" height=\"162\" x=\"0\" y=\"0\" style=\"stroke: rgb(68, 68, 68); stroke-opacity: 1; fill: rgb(255, 255, 255); fill-opacity: 1; stroke-width: 0px;\"/><g class=\"scrollbox\" transform=\"\" clip-path=\"url(#legend5bd3a0)\"><text class=\"legendtitletext\" text-anchor=\"start\" x=\"2\" y=\"18.2\" style=\"font-family: 'Open Sans', verdana, arial, sans-serif; font-size: 14px; fill: rgb(42, 63, 95); fill-opacity: 1; white-space: pre;\">year</text><g class=\"groups\" transform=\"\"><g class=\"traces\" transform=\"translate(0,32.7)\" style=\"opacity: 1;\"><text class=\"legendtext\" text-anchor=\"start\" x=\"40\" y=\"4.680000000000001\" style=\"font-family: 'Open Sans', verdana, arial, sans-serif; font-size: 12px; fill: rgb(42, 63, 95); fill-opacity: 1; white-space: pre;\">2016</text><g class=\"layers\" style=\"opacity: 1;\"><g class=\"legendfill\"/><g class=\"legendlines\"><path class=\"js-line\" d=\"M5,0h30\" style=\"fill: none; stroke: rgb(0, 0, 4); stroke-opacity: 1; stroke-width: 2px;\"/></g><g class=\"legendsymbols\"><g class=\"legendpoints\"/></g></g><rect class=\"legendtoggle\" x=\"0\" y=\"-9.5\" width=\"67.59375\" height=\"19\" style=\"fill: rgb(0, 0, 0); fill-opacity: 0;\"/></g></g><g class=\"groups\" transform=\"\"><g class=\"traces\" transform=\"translate(0,51.7)\" style=\"opacity: 1;\"><text class=\"legendtext\" text-anchor=\"start\" x=\"40\" y=\"4.680000000000001\" style=\"font-family: 'Open Sans', verdana, arial, sans-serif; font-size: 12px; fill: rgb(42, 63, 95); fill-opacity: 1; white-space: pre;\">2017</text><g class=\"layers\" style=\"opacity: 1;\"><g class=\"legendfill\"/><g class=\"legendlines\"><path class=\"js-line\" d=\"M5,0h30\" style=\"fill: none; stroke: rgb(27, 12, 65); stroke-opacity: 1; stroke-width: 2px;\"/></g><g class=\"legendsymbols\"><g class=\"legendpoints\"/></g></g><rect class=\"legendtoggle\" x=\"0\" y=\"-9.5\" width=\"67.59375\" height=\"19\" style=\"fill: rgb(0, 0, 0); fill-opacity: 0;\"/></g></g><g class=\"groups\" transform=\"\"><g class=\"traces\" transform=\"translate(0,70.7)\" style=\"opacity: 1;\"><text class=\"legendtext\" text-anchor=\"start\" x=\"40\" y=\"4.680000000000001\" style=\"font-family: 'Open Sans', verdana, arial, sans-serif; font-size: 12px; fill: rgb(42, 63, 95); fill-opacity: 1; white-space: pre;\">2018</text><g class=\"layers\" style=\"opacity: 1;\"><g class=\"legendfill\"/><g class=\"legendlines\"><path class=\"js-line\" d=\"M5,0h30\" style=\"fill: none; stroke: rgb(74, 12, 107); stroke-opacity: 1; stroke-width: 2px;\"/></g><g class=\"legendsymbols\"><g class=\"legendpoints\"/></g></g><rect class=\"legendtoggle\" x=\"0\" y=\"-9.5\" width=\"67.59375\" height=\"19\" style=\"fill: rgb(0, 0, 0); fill-opacity: 0;\"/></g></g><g class=\"groups\" transform=\"\"><g class=\"traces\" transform=\"translate(0,89.7)\" style=\"opacity: 1;\"><text class=\"legendtext\" text-anchor=\"start\" x=\"40\" y=\"4.680000000000001\" style=\"font-family: 'Open Sans', verdana, arial, sans-serif; font-size: 12px; fill: rgb(42, 63, 95); fill-opacity: 1; white-space: pre;\">2019</text><g class=\"layers\" style=\"opacity: 1;\"><g class=\"legendfill\"/><g class=\"legendlines\"><path class=\"js-line\" d=\"M5,0h30\" style=\"fill: none; stroke: rgb(120, 28, 109); stroke-opacity: 1; stroke-width: 2px;\"/></g><g class=\"legendsymbols\"><g class=\"legendpoints\"/></g></g><rect class=\"legendtoggle\" x=\"0\" y=\"-9.5\" width=\"67.59375\" height=\"19\" style=\"fill: rgb(0, 0, 0); fill-opacity: 0;\"/></g></g><g class=\"groups\" transform=\"\"><g class=\"traces\" transform=\"translate(0,108.7)\" style=\"opacity: 1;\"><text class=\"legendtext\" text-anchor=\"start\" x=\"40\" y=\"4.680000000000001\" style=\"font-family: 'Open Sans', verdana, arial, sans-serif; font-size: 12px; fill: rgb(42, 63, 95); fill-opacity: 1; white-space: pre;\">2020</text><g class=\"layers\" style=\"opacity: 1;\"><g class=\"legendfill\"/><g class=\"legendlines\"><path class=\"js-line\" d=\"M5,0h30\" style=\"fill: none; stroke: rgb(165, 44, 96); stroke-opacity: 1; stroke-width: 2px;\"/></g><g class=\"legendsymbols\"><g class=\"legendpoints\"/></g></g><rect class=\"legendtoggle\" x=\"0\" y=\"-9.5\" width=\"67.59375\" height=\"19\" style=\"fill: rgb(0, 0, 0); fill-opacity: 0;\"/></g></g><g class=\"groups\" transform=\"\"><g class=\"traces\" transform=\"translate(0,127.7)\" style=\"opacity: 1;\"><text class=\"legendtext\" text-anchor=\"start\" x=\"40\" y=\"4.680000000000001\" style=\"font-family: 'Open Sans', verdana, arial, sans-serif; font-size: 12px; fill: rgb(42, 63, 95); fill-opacity: 1; white-space: pre;\">2021</text><g class=\"layers\" style=\"opacity: 1;\"><g class=\"legendfill\"/><g class=\"legendlines\"><path class=\"js-line\" d=\"M5,0h30\" style=\"fill: none; stroke: rgb(207, 68, 70); stroke-opacity: 1; stroke-width: 2px;\"/></g><g class=\"legendsymbols\"><g class=\"legendpoints\"/></g></g><rect class=\"legendtoggle\" x=\"0\" y=\"-9.5\" width=\"67.59375\" height=\"19\" style=\"fill: rgb(0, 0, 0); fill-opacity: 0;\"/></g></g><g class=\"groups\" transform=\"\"><g class=\"traces\" transform=\"translate(0,146.7)\" style=\"opacity: 1;\"><text class=\"legendtext\" text-anchor=\"start\" x=\"40\" y=\"4.680000000000001\" style=\"font-family: 'Open Sans', verdana, arial, sans-serif; font-size: 12px; fill: rgb(42, 63, 95); fill-opacity: 1; white-space: pre;\">2022</text><g class=\"layers\" style=\"opacity: 1;\"><g class=\"legendfill\"/><g class=\"legendlines\"><path class=\"js-line\" d=\"M5,0h30\" style=\"fill: none; stroke: rgb(237, 105, 37); stroke-opacity: 1; stroke-width: 2px;\"/></g><g class=\"legendsymbols\"><g class=\"legendpoints\"/></g></g><rect class=\"legendtoggle\" x=\"0\" y=\"-9.5\" width=\"67.59375\" height=\"19\" style=\"fill: rgb(0, 0, 0); fill-opacity: 0;\"/></g></g></g><rect class=\"scrollbar\" rx=\"20\" ry=\"3\" width=\"0\" height=\"0\" x=\"0\" y=\"0\" style=\"fill: rgb(128, 139, 164); fill-opacity: 1;\"/></g><g class=\"g-gtitle\"><text class=\"gtitle\" x=\"60\" y=\"50\" text-anchor=\"start\" dy=\"0em\" style=\"font-family: 'Open Sans', verdana, arial, sans-serif; font-size: 17px; fill: rgb(42, 63, 95); opacity: 1; font-weight: normal; white-space: pre;\">Price Reductions Over Time by State</text></g><g class=\"g-xtitle\"><text class=\"xtitle\" x=\"199.2625\" y=\"761.8\" text-anchor=\"middle\" style=\"font-family: 'Open Sans', verdana, arial, sans-serif; font-size: 14px; fill: rgb(42, 63, 95); opacity: 1; font-weight: normal; white-space: pre;\">month_num</text></g><g class=\"g-x2title\"><text class=\"x2title\" x=\"458.0875\" y=\"761.8\" text-anchor=\"middle\" style=\"font-family: 'Open Sans', verdana, arial, sans-serif; font-size: 14px; fill: rgb(42, 63, 95); opacity: 1; font-weight: normal; white-space: pre;\">month_num</text></g><g class=\"g-x3title\"><text class=\"x3title\" x=\"716.9124999999999\" y=\"761.8\" text-anchor=\"middle\" style=\"font-family: 'Open Sans', verdana, arial, sans-serif; font-size: 14px; fill: rgb(42, 63, 95); opacity: 1; font-weight: normal; white-space: pre;\">month_num</text></g><g class=\"g-x4title\"><text class=\"x4title\" x=\"975.7375\" y=\"761.8\" text-anchor=\"middle\" style=\"font-family: 'Open Sans', verdana, arial, sans-serif; font-size: 14px; fill: rgb(42, 63, 95); opacity: 1; font-weight: normal; white-space: pre;\">month_num</text></g><g class=\"g-x5title\"/><g class=\"g-x6title\"/><g class=\"g-x7title\"/><g class=\"g-x8title\"/><g class=\"g-x9title\"/><g class=\"g-x10title\"/><g class=\"g-x11title\"/><g class=\"g-x12title\"/><g class=\"g-ytitle\"><text class=\"ytitle\" transform=\"rotate(-90,34.16875,631.1333333333333)\" x=\"34.16875\" y=\"631.1333333333333\" text-anchor=\"middle\" style=\"font-family: 'Open Sans', verdana, arial, sans-serif; font-size: 14px; fill: rgb(42, 63, 95); opacity: 1; font-weight: normal; white-space: pre;\">price_reductions</text></g><g class=\"g-y2title\"/><g class=\"g-y3title\"/><g class=\"g-y4title\"/><g class=\"g-y5title\"><text class=\"y5title\" transform=\"rotate(-90,34.16875,410)\" x=\"34.16875\" y=\"410\" text-anchor=\"middle\" style=\"font-family: 'Open Sans', verdana, arial, sans-serif; font-size: 14px; fill: rgb(42, 63, 95); opacity: 1; font-weight: normal; white-space: pre;\">price_reductions</text></g><g class=\"g-y6title\"/><g class=\"g-y7title\"/><g class=\"g-y8title\"/><g class=\"g-y9title\"><text class=\"y9title\" transform=\"rotate(-90,33.16875,188.86666666666673)\" x=\"33.16875\" y=\"188.86666666666673\" text-anchor=\"middle\" style=\"font-family: 'Open Sans', verdana, arial, sans-serif; font-size: 14px; fill: rgb(42, 63, 95); opacity: 1; font-weight: normal; white-space: pre;\">price_reductions</text></g><g class=\"g-y10title\"/><g class=\"g-y11title\"/><g class=\"g-y12title\"/><g class=\"annotation\" data-index=\"0\" style=\"opacity: 1;\"><g class=\"annotation-text-g\" transform=\"rotate(0,199.2625,531.7666666666667)\"><g class=\"cursor-pointer\" transform=\"translate(172,521)\"><rect class=\"bg\" x=\"0.5\" y=\"0.5\" width=\"53\" height=\"20\" style=\"stroke-width: 1px; stroke: rgb(0, 0, 0); stroke-opacity: 0; fill: rgb(0, 0, 0); fill-opacity: 0;\"/><text class=\"annotation-text\" text-anchor=\"middle\" x=\"26.65625\" y=\"15\" style=\"font-family: 'Open Sans', verdana, arial, sans-serif; font-size: 12px; fill: rgb(42, 63, 95); fill-opacity: 1; white-space: pre;\">state=PA</text></g></g></g><g class=\"annotation\" data-index=\"1\" style=\"opacity: 1;\"><g class=\"annotation-text-g\" transform=\"rotate(0,458.0875,531.7666666666667)\"><g class=\"cursor-pointer\" transform=\"translate(431,521)\"><rect class=\"bg\" x=\"0.5\" y=\"0.5\" width=\"53\" height=\"20\" style=\"stroke-width: 1px; stroke: rgb(0, 0, 0); stroke-opacity: 0; fill: rgb(0, 0, 0); fill-opacity: 0;\"/><text class=\"annotation-text\" text-anchor=\"middle\" x=\"26.921875\" y=\"15\" style=\"font-family: 'Open Sans', verdana, arial, sans-serif; font-size: 12px; fill: rgb(42, 63, 95); fill-opacity: 1; white-space: pre;\">state=UT</text></g></g></g><g class=\"annotation\" data-index=\"2\" style=\"opacity: 1;\"><g class=\"annotation-text-g\" transform=\"rotate(0,716.9124999999999,531.7666666666667)\"><g class=\"cursor-pointer\" transform=\"translate(690,521)\"><rect class=\"bg\" x=\"0.5\" y=\"0.5\" width=\"52\" height=\"20\" style=\"stroke-width: 1px; stroke: rgb(0, 0, 0); stroke-opacity: 0; fill: rgb(0, 0, 0); fill-opacity: 0;\"/><text class=\"annotation-text\" text-anchor=\"middle\" x=\"26.46875\" y=\"15\" style=\"font-family: 'Open Sans', verdana, arial, sans-serif; font-size: 12px; fill: rgb(42, 63, 95); fill-opacity: 1; white-space: pre;\">state=WI</text></g></g></g><g class=\"annotation\" data-index=\"3\" style=\"opacity: 1;\"><g class=\"annotation-text-g\" transform=\"rotate(0,975.7374999999998,531.7666666666667)\"><g class=\"cursor-pointer\" transform=\"translate(947,521)\"><rect class=\"bg\" x=\"0.5\" y=\"0.5\" width=\"57\" height=\"20\" style=\"stroke-width: 1px; stroke: rgb(0, 0, 0); stroke-opacity: 0; fill: rgb(0, 0, 0); fill-opacity: 0;\"/><text class=\"annotation-text\" text-anchor=\"middle\" x=\"28.15625\" y=\"15\" style=\"font-family: 'Open Sans', verdana, arial, sans-serif; font-size: 12px; fill: rgb(42, 63, 95); fill-opacity: 1; white-space: pre;\">state=WY</text></g></g></g><g class=\"annotation\" data-index=\"4\" style=\"opacity: 1;\"><g class=\"annotation-text-g\" transform=\"rotate(0,199.2625,310.6333333333333)\"><g class=\"cursor-pointer\" transform=\"translate(173,300)\"><rect class=\"bg\" x=\"0.5\" y=\"0.5\" width=\"52\" height=\"20\" style=\"stroke-width: 1px; stroke: rgb(0, 0, 0); stroke-opacity: 0; fill: rgb(0, 0, 0); fill-opacity: 0;\"/><text class=\"annotation-text\" text-anchor=\"middle\" x=\"26.328125\" y=\"15\" style=\"font-family: 'Open Sans', verdana, arial, sans-serif; font-size: 12px; fill: rgb(42, 63, 95); fill-opacity: 1; white-space: pre;\">state=MI</text></g></g></g><g class=\"annotation\" data-index=\"5\" style=\"opacity: 1;\"><g class=\"annotation-text-g\" transform=\"rotate(0,458.0875,310.6333333333333)\"><g class=\"cursor-pointer\" transform=\"translate(431,300)\"><rect class=\"bg\" x=\"0.5\" y=\"0.5\" width=\"54\" height=\"20\" style=\"stroke-width: 1px; stroke: rgb(0, 0, 0); stroke-opacity: 0; fill: rgb(0, 0, 0); fill-opacity: 0;\"/><text class=\"annotation-text\" text-anchor=\"middle\" x=\"27.09375\" y=\"15\" style=\"font-family: 'Open Sans', verdana, arial, sans-serif; font-size: 12px; fill: rgb(42, 63, 95); fill-opacity: 1; white-space: pre;\">state=NE</text></g></g></g><g class=\"annotation\" data-index=\"6\" style=\"opacity: 1;\"><g class=\"annotation-text-g\" transform=\"rotate(0,716.9124999999999,310.6333333333333)\"><g class=\"cursor-pointer\" transform=\"translate(689,300)\"><rect class=\"bg\" x=\"0.5\" y=\"0.5\" width=\"55\" height=\"20\" style=\"stroke-width: 1px; stroke: rgb(0, 0, 0); stroke-opacity: 0; fill: rgb(0, 0, 0); fill-opacity: 0;\"/><text class=\"annotation-text\" text-anchor=\"middle\" x=\"27.125\" y=\"15\" style=\"font-family: 'Open Sans', verdana, arial, sans-serif; font-size: 12px; fill: rgb(42, 63, 95); fill-opacity: 1; white-space: pre;\">state=NY</text></g></g></g><g class=\"annotation\" data-index=\"7\" style=\"opacity: 1;\"><g class=\"annotation-text-g\" transform=\"rotate(0,975.7374999999998,310.6333333333333)\"><g class=\"cursor-pointer\" transform=\"translate(948,300)\"><rect class=\"bg\" x=\"0.5\" y=\"0.5\" width=\"55\" height=\"20\" style=\"stroke-width: 1px; stroke: rgb(0, 0, 0); stroke-opacity: 0; fill: rgb(0, 0, 0); fill-opacity: 0;\"/><text class=\"annotation-text\" text-anchor=\"middle\" x=\"27.625\" y=\"15\" style=\"font-family: 'Open Sans', verdana, arial, sans-serif; font-size: 12px; fill: rgb(42, 63, 95); fill-opacity: 1; white-space: pre;\">state=OR</text></g></g></g><g class=\"annotation\" data-index=\"8\" style=\"opacity: 1;\"><g class=\"annotation-text-g\" transform=\"rotate(0,199.2625,89.50000000000007)\"><g class=\"cursor-pointer\" transform=\"translate(172,79)\"><rect class=\"bg\" x=\"0.5\" y=\"0.5\" width=\"53\" height=\"20\" style=\"stroke-width: 1px; stroke: rgb(0, 0, 0); stroke-opacity: 0; fill: rgb(0, 0, 0); fill-opacity: 0;\"/><text class=\"annotation-text\" text-anchor=\"middle\" x=\"26.828125\" y=\"15\" style=\"font-family: 'Open Sans', verdana, arial, sans-serif; font-size: 12px; fill: rgb(42, 63, 95); fill-opacity: 1; white-space: pre;\">state=CA</text></g></g></g><g class=\"annotation\" data-index=\"9\" style=\"opacity: 1;\"><g class=\"annotation-text-g\" transform=\"rotate(0,458.0875,89.50000000000007)\"><g class=\"cursor-pointer\" transform=\"translate(431,79)\"><rect class=\"bg\" x=\"0.5\" y=\"0.5\" width=\"54\" height=\"20\" style=\"stroke-width: 1px; stroke: rgb(0, 0, 0); stroke-opacity: 0; fill: rgb(0, 0, 0); fill-opacity: 0;\"/><text class=\"annotation-text\" text-anchor=\"middle\" x=\"27.703125\" y=\"15\" style=\"font-family: 'Open Sans', verdana, arial, sans-serif; font-size: 12px; fill: rgb(42, 63, 95); fill-opacity: 1; white-space: pre;\">state=CO</text></g></g></g><g class=\"annotation\" data-index=\"10\" style=\"opacity: 1;\"><g class=\"annotation-text-g\" transform=\"rotate(0,716.9124999999999,89.50000000000007)\"><g class=\"cursor-pointer\" transform=\"translate(691,79)\"><rect class=\"bg\" x=\"0.5\" y=\"0.5\" width=\"50\" height=\"20\" style=\"stroke-width: 1px; stroke: rgb(0, 0, 0); stroke-opacity: 0; fill: rgb(0, 0, 0); fill-opacity: 0;\"/><text class=\"annotation-text\" text-anchor=\"middle\" x=\"25.28125\" y=\"15\" style=\"font-family: 'Open Sans', verdana, arial, sans-serif; font-size: 12px; fill: rgb(42, 63, 95); fill-opacity: 1; white-space: pre;\">state=ID</text></g></g></g><g class=\"annotation\" data-index=\"11\" style=\"opacity: 1;\"><g class=\"annotation-text-g\" transform=\"rotate(0,975.7374999999998,89.50000000000007)\"><g class=\"cursor-pointer\" transform=\"translate(951,79)\"><rect class=\"bg\" x=\"0.5\" y=\"0.5\" width=\"48\" height=\"20\" style=\"stroke-width: 1px; stroke: rgb(0, 0, 0); stroke-opacity: 0; fill: rgb(0, 0, 0); fill-opacity: 0;\"/><text class=\"annotation-text\" text-anchor=\"middle\" x=\"24.03125\" y=\"15\" style=\"font-family: 'Open Sans', verdana, arial, sans-serif; font-size: 12px; fill: rgb(42, 63, 95); fill-opacity: 1; white-space: pre;\">state=IL</text></g></g></g></g></svg>"
     },
     "metadata": {},
     "output_type": "display_data"
    }
   ],
   "source": [
    "fig = px.line(df.query(\"state in @select_states\"),\n",
    "    x = 'month_num',\n",
    "    y = 'price_reductions',\n",
    "    color = 'year',\n",
    "    facet_col = 'state',\n",
    "    facet_col_wrap = 4,\n",
    "    title = 'Price Reductions Over Time by State',\n",
    "    color_discrete_sequence=px.colors.sequential.Inferno\n",
    "    )\n",
    "fig.update_yaxes(matches = None)\n",
    "fig.update_layout(height = 800, width = 1200)\n",
    "fig.show(renderer = 'svg')"
   ]
  },
  {
   "cell_type": "markdown",
   "metadata": {},
   "source": [
    "### State by state look at key metrics"
   ]
  },
  {
   "cell_type": "code",
   "execution_count": 192,
   "metadata": {},
   "outputs": [],
   "source": [
    "import plotly.graph_objects as go\n",
    "\n",
    "def four_key_metric_plot(state):\n",
    "    st = (df.query(\"state ==@state\")\n",
    "        .loc[:,('month','month_num','year','active_listings','pending_listings','med_dom','price_reductions')]\n",
    "        #.melt(id_vars=['month','month_num','year'])\n",
    "        )\n",
    "    \n",
    "    fig = go.Figure()\n",
    "\n",
    "    fig.add_trace(go.Scatter(\n",
    "        x=st.month,\n",
    "        y=st.active_listings,\n",
    "        name=\"Active Listings\"\n",
    "    ))\n",
    "\n",
    "\n",
    "    fig.add_trace(go.Scatter(\n",
    "        x=st.month,\n",
    "        y=st.pending_listings,\n",
    "        name=\"Pending Listings\",\n",
    "        yaxis=\"y2\"\n",
    "    ))\n",
    "\n",
    "    fig.add_trace(go.Scatter(\n",
    "        x=st.month,\n",
    "        y=st.med_dom,\n",
    "        name=\"Median Days on Market\",\n",
    "        yaxis=\"y3\"\n",
    "    ))\n",
    "\n",
    "    fig.add_trace(go.Scatter(\n",
    "        x=st.month,\n",
    "        y=st.price_reductions,\n",
    "        name=\"Price Reductions\",\n",
    "        yaxis=\"y4\"\n",
    "    ))\n",
    "\n",
    "\n",
    "    # Create axis objects\n",
    "    fig.update_layout(\n",
    "        xaxis=dict(\n",
    "            domain=[0.2, 0.8]\n",
    "        ),\n",
    "        yaxis=dict(\n",
    "            title=\"Active Listings\",\n",
    "            titlefont=dict(\n",
    "                color=\"#1f77b4\"\n",
    "            ),\n",
    "            tickfont=dict(\n",
    "                color=\"#1f77b4\"\n",
    "            )\n",
    "        ),\n",
    "        yaxis2=dict(\n",
    "            title=\"Pending istings\",\n",
    "            titlefont=dict(\n",
    "                color=\"#ff7f0e\"\n",
    "            ),\n",
    "            tickfont=dict(\n",
    "                color=\"#ff7f0e\"\n",
    "            ),\n",
    "            anchor=\"free\",\n",
    "            overlaying=\"y\",\n",
    "            side=\"left\",\n",
    "            position=0.1\n",
    "        ),\n",
    "        yaxis3=dict(\n",
    "            title=\"Median Days on Market\",\n",
    "            titlefont=dict(\n",
    "                color=\"#d62728\"\n",
    "            ),\n",
    "            tickfont=dict(\n",
    "                color=\"#d62728\"\n",
    "            ),\n",
    "            anchor=\"x\",\n",
    "            overlaying=\"y\",\n",
    "            side=\"right\"\n",
    "        ),\n",
    "        yaxis4=dict(\n",
    "            title=\"Price Reductions\",\n",
    "            titlefont=dict(\n",
    "                color=\"#9467bd\"\n",
    "            ),\n",
    "            tickfont=dict(\n",
    "                color=\"#9467bd\"\n",
    "            ),\n",
    "            anchor=\"free\",\n",
    "            overlaying=\"y\",\n",
    "            side=\"right\",\n",
    "            position=0.9\n",
    "        )\n",
    "    )\n",
    "\n",
    "    # Update layout properties\n",
    "    fig.update_layout(\n",
    "        title_text= state + \": Four Key Metrics Over Time\",\n",
    "        width=1200,\n",
    "    )\n",
    "\n",
    "    return(fig)"
   ]
  },
  {
   "cell_type": "code",
   "execution_count": 193,
   "metadata": {},
   "outputs": [
    {
     "data": {
      "application/vnd.plotly.v1+json": {
       "config": {
        "plotlyServerURL": "https://plot.ly"
       },
       "data": [
        {
         "name": "Active Listings",
         "type": "scatter",
         "x": [
          "2016-07-01T00:00:00",
          "2016-08-01T00:00:00",
          "2016-09-01T00:00:00",
          "2016-10-01T00:00:00",
          "2016-11-01T00:00:00",
          "2016-12-01T00:00:00",
          "2017-01-01T00:00:00",
          "2017-02-01T00:00:00",
          "2017-03-01T00:00:00",
          "2017-04-01T00:00:00",
          "2017-05-01T00:00:00",
          "2017-06-01T00:00:00",
          "2017-07-01T00:00:00",
          "2017-08-01T00:00:00",
          "2017-09-01T00:00:00",
          "2017-10-01T00:00:00",
          "2017-11-01T00:00:00",
          "2017-12-01T00:00:00",
          "2018-01-01T00:00:00",
          "2018-02-01T00:00:00",
          "2018-03-01T00:00:00",
          "2018-04-01T00:00:00",
          "2018-05-01T00:00:00",
          "2018-06-01T00:00:00",
          "2018-07-01T00:00:00",
          "2018-08-01T00:00:00",
          "2018-09-01T00:00:00",
          "2018-10-01T00:00:00",
          "2018-11-01T00:00:00",
          "2018-12-01T00:00:00",
          "2019-01-01T00:00:00",
          "2019-02-01T00:00:00",
          "2019-03-01T00:00:00",
          "2019-04-01T00:00:00",
          "2019-05-01T00:00:00",
          "2019-06-01T00:00:00",
          "2019-07-01T00:00:00",
          "2019-08-01T00:00:00",
          "2019-09-01T00:00:00",
          "2019-10-01T00:00:00",
          "2019-11-01T00:00:00",
          "2019-12-01T00:00:00",
          "2020-01-01T00:00:00",
          "2020-02-01T00:00:00",
          "2020-03-01T00:00:00",
          "2020-04-01T00:00:00",
          "2020-05-01T00:00:00",
          "2020-06-01T00:00:00",
          "2020-07-01T00:00:00",
          "2020-08-01T00:00:00",
          "2020-09-01T00:00:00",
          "2020-10-01T00:00:00",
          "2020-11-01T00:00:00",
          "2020-12-01T00:00:00",
          "2021-01-01T00:00:00",
          "2021-02-01T00:00:00",
          "2021-03-01T00:00:00",
          "2021-04-01T00:00:00",
          "2021-05-01T00:00:00",
          "2021-06-01T00:00:00",
          "2021-07-01T00:00:00",
          "2021-08-01T00:00:00",
          "2021-09-01T00:00:00",
          "2021-10-01T00:00:00",
          "2021-11-01T00:00:00",
          "2021-12-01T00:00:00",
          "2022-01-01T00:00:00",
          "2022-02-01T00:00:00",
          "2022-03-01T00:00:00",
          "2022-04-01T00:00:00",
          "2022-05-01T00:00:00",
          "2022-06-01T00:00:00",
          "2022-07-01T00:00:00",
          "2022-08-01T00:00:00",
          "2022-09-01T00:00:00",
          "2022-10-01T00:00:00"
         ],
         "y": [
          83921,
          84238,
          82792,
          79958,
          74480,
          63836,
          58475,
          58028,
          59110,
          62074,
          66231,
          69115,
          71697,
          71540,
          70783,
          69083,
          64662,
          55954,
          52172,
          54892,
          57871,
          62723,
          68458,
          73831,
          78830,
          82208,
          85872,
          87006,
          85802,
          75429,
          69943,
          70481,
          71816,
          73637,
          79195,
          81095,
          83029,
          81826,
          79781,
          77527,
          70682,
          57844,
          51955,
          51582,
          52616,
          54998,
          57947,
          54859,
          50353,
          47186,
          47139,
          47917,
          44648,
          36970,
          31118,
          29528,
          29540,
          30807,
          32216,
          34995,
          39257,
          40279,
          40162,
          39237,
          33748,
          26730,
          22818,
          23836,
          26470,
          29631,
          40574,
          49034,
          59353,
          60130,
          58303,
          58610
         ]
        },
        {
         "name": "Pending Listings",
         "type": "scatter",
         "x": [
          "2016-07-01T00:00:00",
          "2016-08-01T00:00:00",
          "2016-09-01T00:00:00",
          "2016-10-01T00:00:00",
          "2016-11-01T00:00:00",
          "2016-12-01T00:00:00",
          "2017-01-01T00:00:00",
          "2017-02-01T00:00:00",
          "2017-03-01T00:00:00",
          "2017-04-01T00:00:00",
          "2017-05-01T00:00:00",
          "2017-06-01T00:00:00",
          "2017-07-01T00:00:00",
          "2017-08-01T00:00:00",
          "2017-09-01T00:00:00",
          "2017-10-01T00:00:00",
          "2017-11-01T00:00:00",
          "2017-12-01T00:00:00",
          "2018-01-01T00:00:00",
          "2018-02-01T00:00:00",
          "2018-03-01T00:00:00",
          "2018-04-01T00:00:00",
          "2018-05-01T00:00:00",
          "2018-06-01T00:00:00",
          "2018-07-01T00:00:00",
          "2018-08-01T00:00:00",
          "2018-09-01T00:00:00",
          "2018-10-01T00:00:00",
          "2018-11-01T00:00:00",
          "2018-12-01T00:00:00",
          "2019-01-01T00:00:00",
          "2019-02-01T00:00:00",
          "2019-03-01T00:00:00",
          "2019-04-01T00:00:00",
          "2019-05-01T00:00:00",
          "2019-06-01T00:00:00",
          "2019-07-01T00:00:00",
          "2019-08-01T00:00:00",
          "2019-09-01T00:00:00",
          "2019-10-01T00:00:00",
          "2019-11-01T00:00:00",
          "2019-12-01T00:00:00",
          "2020-01-01T00:00:00",
          "2020-02-01T00:00:00",
          "2020-03-01T00:00:00",
          "2020-04-01T00:00:00",
          "2020-05-01T00:00:00",
          "2020-06-01T00:00:00",
          "2020-07-01T00:00:00",
          "2020-08-01T00:00:00",
          "2020-09-01T00:00:00",
          "2020-10-01T00:00:00",
          "2020-11-01T00:00:00",
          "2020-12-01T00:00:00",
          "2021-01-01T00:00:00",
          "2021-02-01T00:00:00",
          "2021-03-01T00:00:00",
          "2021-04-01T00:00:00",
          "2021-05-01T00:00:00",
          "2021-06-01T00:00:00",
          "2021-07-01T00:00:00",
          "2021-08-01T00:00:00",
          "2021-09-01T00:00:00",
          "2021-10-01T00:00:00",
          "2021-11-01T00:00:00",
          "2021-12-01T00:00:00",
          "2022-01-01T00:00:00",
          "2022-02-01T00:00:00",
          "2022-03-01T00:00:00",
          "2022-04-01T00:00:00",
          "2022-05-01T00:00:00",
          "2022-06-01T00:00:00",
          "2022-07-01T00:00:00",
          "2022-08-01T00:00:00",
          "2022-09-01T00:00:00",
          "2022-10-01T00:00:00"
         ],
         "y": [
          38653,
          38201,
          37079,
          35979,
          33422,
          29399,
          24499,
          28350,
          31967,
          35098,
          37339,
          36724,
          35444,
          34238,
          31742,
          31093,
          29598,
          25681,
          20935,
          25650,
          29748,
          31086,
          32808,
          32188,
          30070,
          36889,
          35034,
          33750,
          31248,
          27741,
          23511,
          29294,
          34632,
          38793,
          40567,
          44324,
          44188,
          43387,
          42103,
          41214,
          39484,
          34158,
          29611,
          37698,
          41267,
          29996,
          33383,
          46333,
          52271,
          55091,
          54753,
          53359,
          50454,
          44637,
          38368,
          43335,
          46677,
          47845,
          49142,
          49355,
          47162,
          46659,
          46190,
          45785,
          43382,
          37544,
          30228,
          35954,
          39272,
          39287,
          37341,
          34458,
          30483,
          30990,
          30367,
          25995
         ],
         "yaxis": "y2"
        },
        {
         "name": "Median Days on Market",
         "type": "scatter",
         "x": [
          "2016-07-01T00:00:00",
          "2016-08-01T00:00:00",
          "2016-09-01T00:00:00",
          "2016-10-01T00:00:00",
          "2016-11-01T00:00:00",
          "2016-12-01T00:00:00",
          "2017-01-01T00:00:00",
          "2017-02-01T00:00:00",
          "2017-03-01T00:00:00",
          "2017-04-01T00:00:00",
          "2017-05-01T00:00:00",
          "2017-06-01T00:00:00",
          "2017-07-01T00:00:00",
          "2017-08-01T00:00:00",
          "2017-09-01T00:00:00",
          "2017-10-01T00:00:00",
          "2017-11-01T00:00:00",
          "2017-12-01T00:00:00",
          "2018-01-01T00:00:00",
          "2018-02-01T00:00:00",
          "2018-03-01T00:00:00",
          "2018-04-01T00:00:00",
          "2018-05-01T00:00:00",
          "2018-06-01T00:00:00",
          "2018-07-01T00:00:00",
          "2018-08-01T00:00:00",
          "2018-09-01T00:00:00",
          "2018-10-01T00:00:00",
          "2018-11-01T00:00:00",
          "2018-12-01T00:00:00",
          "2019-01-01T00:00:00",
          "2019-02-01T00:00:00",
          "2019-03-01T00:00:00",
          "2019-04-01T00:00:00",
          "2019-05-01T00:00:00",
          "2019-06-01T00:00:00",
          "2019-07-01T00:00:00",
          "2019-08-01T00:00:00",
          "2019-09-01T00:00:00",
          "2019-10-01T00:00:00",
          "2019-11-01T00:00:00",
          "2019-12-01T00:00:00",
          "2020-01-01T00:00:00",
          "2020-02-01T00:00:00",
          "2020-03-01T00:00:00",
          "2020-04-01T00:00:00",
          "2020-05-01T00:00:00",
          "2020-06-01T00:00:00",
          "2020-07-01T00:00:00",
          "2020-08-01T00:00:00",
          "2020-09-01T00:00:00",
          "2020-10-01T00:00:00",
          "2020-11-01T00:00:00",
          "2020-12-01T00:00:00",
          "2021-01-01T00:00:00",
          "2021-02-01T00:00:00",
          "2021-03-01T00:00:00",
          "2021-04-01T00:00:00",
          "2021-05-01T00:00:00",
          "2021-06-01T00:00:00",
          "2021-07-01T00:00:00",
          "2021-08-01T00:00:00",
          "2021-09-01T00:00:00",
          "2021-10-01T00:00:00",
          "2021-11-01T00:00:00",
          "2021-12-01T00:00:00",
          "2022-01-01T00:00:00",
          "2022-02-01T00:00:00",
          "2022-03-01T00:00:00",
          "2022-04-01T00:00:00",
          "2022-05-01T00:00:00",
          "2022-06-01T00:00:00",
          "2022-07-01T00:00:00",
          "2022-08-01T00:00:00",
          "2022-09-01T00:00:00",
          "2022-10-01T00:00:00"
         ],
         "y": [
          47,
          50,
          51,
          53,
          56,
          66,
          68,
          53,
          44,
          38,
          37,
          39,
          41,
          43,
          45,
          46,
          48,
          57,
          56,
          37,
          37,
          36,
          35,
          37,
          39,
          41,
          44,
          45,
          48,
          59,
          64,
          48,
          44,
          43,
          42,
          45,
          49,
          50,
          52,
          55,
          59,
          72,
          71,
          53,
          46,
          52,
          60,
          52,
          49,
          45,
          44,
          44,
          49,
          59,
          60,
          40,
          36,
          34,
          33,
          32,
          32,
          34,
          37,
          37,
          42,
          49,
          46,
          30,
          29,
          28,
          27,
          31,
          34,
          41,
          47,
          49
         ],
         "yaxis": "y3"
        },
        {
         "name": "Price Reductions",
         "type": "scatter",
         "x": [
          "2016-07-01T00:00:00",
          "2016-08-01T00:00:00",
          "2016-09-01T00:00:00",
          "2016-10-01T00:00:00",
          "2016-11-01T00:00:00",
          "2016-12-01T00:00:00",
          "2017-01-01T00:00:00",
          "2017-02-01T00:00:00",
          "2017-03-01T00:00:00",
          "2017-04-01T00:00:00",
          "2017-05-01T00:00:00",
          "2017-06-01T00:00:00",
          "2017-07-01T00:00:00",
          "2017-08-01T00:00:00",
          "2017-09-01T00:00:00",
          "2017-10-01T00:00:00",
          "2017-11-01T00:00:00",
          "2017-12-01T00:00:00",
          "2018-01-01T00:00:00",
          "2018-02-01T00:00:00",
          "2018-03-01T00:00:00",
          "2018-04-01T00:00:00",
          "2018-05-01T00:00:00",
          "2018-06-01T00:00:00",
          "2018-07-01T00:00:00",
          "2018-08-01T00:00:00",
          "2018-09-01T00:00:00",
          "2018-10-01T00:00:00",
          "2018-11-01T00:00:00",
          "2018-12-01T00:00:00",
          "2019-01-01T00:00:00",
          "2019-02-01T00:00:00",
          "2019-03-01T00:00:00",
          "2019-04-01T00:00:00",
          "2019-05-01T00:00:00",
          "2019-06-01T00:00:00",
          "2019-07-01T00:00:00",
          "2019-08-01T00:00:00",
          "2019-09-01T00:00:00",
          "2019-10-01T00:00:00",
          "2019-11-01T00:00:00",
          "2019-12-01T00:00:00",
          "2020-01-01T00:00:00",
          "2020-02-01T00:00:00",
          "2020-03-01T00:00:00",
          "2020-04-01T00:00:00",
          "2020-05-01T00:00:00",
          "2020-06-01T00:00:00",
          "2020-07-01T00:00:00",
          "2020-08-01T00:00:00",
          "2020-09-01T00:00:00",
          "2020-10-01T00:00:00",
          "2020-11-01T00:00:00",
          "2020-12-01T00:00:00",
          "2021-01-01T00:00:00",
          "2021-02-01T00:00:00",
          "2021-03-01T00:00:00",
          "2021-04-01T00:00:00",
          "2021-05-01T00:00:00",
          "2021-06-01T00:00:00",
          "2021-07-01T00:00:00",
          "2021-08-01T00:00:00",
          "2021-09-01T00:00:00",
          "2021-10-01T00:00:00",
          "2021-11-01T00:00:00",
          "2021-12-01T00:00:00",
          "2022-01-01T00:00:00",
          "2022-02-01T00:00:00",
          "2022-03-01T00:00:00",
          "2022-04-01T00:00:00",
          "2022-05-01T00:00:00",
          "2022-06-01T00:00:00",
          "2022-07-01T00:00:00",
          "2022-08-01T00:00:00",
          "2022-09-01T00:00:00",
          "2022-10-01T00:00:00"
         ],
         "y": [
          31082,
          31248,
          30076,
          27364,
          24178,
          15768,
          15030,
          16008,
          17810,
          19192,
          22192,
          24108,
          28184,
          28562,
          27840,
          25774,
          22544,
          15248,
          15396,
          17122,
          19816,
          22532,
          25840,
          29852,
          34196,
          39200,
          41192,
          41996,
          36138,
          24932,
          24994,
          25238,
          24120,
          22580,
          24828,
          28172,
          28684,
          27352,
          26096,
          24844,
          19516,
          9798,
          11628,
          11728,
          12092,
          9826,
          14180,
          14054,
          13190,
          12648,
          12356,
          12576,
          10362,
          6646,
          5460,
          5092,
          5510,
          5566,
          6432,
          7804,
          10380,
          11516,
          11402,
          11060,
          8306,
          4734,
          3740,
          4068,
          5150,
          7760,
          14840,
          22746,
          29252,
          26614,
          26028,
          26740
         ],
         "yaxis": "y4"
        }
       ],
       "layout": {
        "template": {
         "data": {
          "bar": [
           {
            "error_x": {
             "color": "#2a3f5f"
            },
            "error_y": {
             "color": "#2a3f5f"
            },
            "marker": {
             "line": {
              "color": "#E5ECF6",
              "width": 0.5
             },
             "pattern": {
              "fillmode": "overlay",
              "size": 10,
              "solidity": 0.2
             }
            },
            "type": "bar"
           }
          ],
          "barpolar": [
           {
            "marker": {
             "line": {
              "color": "#E5ECF6",
              "width": 0.5
             },
             "pattern": {
              "fillmode": "overlay",
              "size": 10,
              "solidity": 0.2
             }
            },
            "type": "barpolar"
           }
          ],
          "carpet": [
           {
            "aaxis": {
             "endlinecolor": "#2a3f5f",
             "gridcolor": "white",
             "linecolor": "white",
             "minorgridcolor": "white",
             "startlinecolor": "#2a3f5f"
            },
            "baxis": {
             "endlinecolor": "#2a3f5f",
             "gridcolor": "white",
             "linecolor": "white",
             "minorgridcolor": "white",
             "startlinecolor": "#2a3f5f"
            },
            "type": "carpet"
           }
          ],
          "choropleth": [
           {
            "colorbar": {
             "outlinewidth": 0,
             "ticks": ""
            },
            "type": "choropleth"
           }
          ],
          "contour": [
           {
            "colorbar": {
             "outlinewidth": 0,
             "ticks": ""
            },
            "colorscale": [
             [
              0,
              "#0d0887"
             ],
             [
              0.1111111111111111,
              "#46039f"
             ],
             [
              0.2222222222222222,
              "#7201a8"
             ],
             [
              0.3333333333333333,
              "#9c179e"
             ],
             [
              0.4444444444444444,
              "#bd3786"
             ],
             [
              0.5555555555555556,
              "#d8576b"
             ],
             [
              0.6666666666666666,
              "#ed7953"
             ],
             [
              0.7777777777777778,
              "#fb9f3a"
             ],
             [
              0.8888888888888888,
              "#fdca26"
             ],
             [
              1,
              "#f0f921"
             ]
            ],
            "type": "contour"
           }
          ],
          "contourcarpet": [
           {
            "colorbar": {
             "outlinewidth": 0,
             "ticks": ""
            },
            "type": "contourcarpet"
           }
          ],
          "heatmap": [
           {
            "colorbar": {
             "outlinewidth": 0,
             "ticks": ""
            },
            "colorscale": [
             [
              0,
              "#0d0887"
             ],
             [
              0.1111111111111111,
              "#46039f"
             ],
             [
              0.2222222222222222,
              "#7201a8"
             ],
             [
              0.3333333333333333,
              "#9c179e"
             ],
             [
              0.4444444444444444,
              "#bd3786"
             ],
             [
              0.5555555555555556,
              "#d8576b"
             ],
             [
              0.6666666666666666,
              "#ed7953"
             ],
             [
              0.7777777777777778,
              "#fb9f3a"
             ],
             [
              0.8888888888888888,
              "#fdca26"
             ],
             [
              1,
              "#f0f921"
             ]
            ],
            "type": "heatmap"
           }
          ],
          "heatmapgl": [
           {
            "colorbar": {
             "outlinewidth": 0,
             "ticks": ""
            },
            "colorscale": [
             [
              0,
              "#0d0887"
             ],
             [
              0.1111111111111111,
              "#46039f"
             ],
             [
              0.2222222222222222,
              "#7201a8"
             ],
             [
              0.3333333333333333,
              "#9c179e"
             ],
             [
              0.4444444444444444,
              "#bd3786"
             ],
             [
              0.5555555555555556,
              "#d8576b"
             ],
             [
              0.6666666666666666,
              "#ed7953"
             ],
             [
              0.7777777777777778,
              "#fb9f3a"
             ],
             [
              0.8888888888888888,
              "#fdca26"
             ],
             [
              1,
              "#f0f921"
             ]
            ],
            "type": "heatmapgl"
           }
          ],
          "histogram": [
           {
            "marker": {
             "pattern": {
              "fillmode": "overlay",
              "size": 10,
              "solidity": 0.2
             }
            },
            "type": "histogram"
           }
          ],
          "histogram2d": [
           {
            "colorbar": {
             "outlinewidth": 0,
             "ticks": ""
            },
            "colorscale": [
             [
              0,
              "#0d0887"
             ],
             [
              0.1111111111111111,
              "#46039f"
             ],
             [
              0.2222222222222222,
              "#7201a8"
             ],
             [
              0.3333333333333333,
              "#9c179e"
             ],
             [
              0.4444444444444444,
              "#bd3786"
             ],
             [
              0.5555555555555556,
              "#d8576b"
             ],
             [
              0.6666666666666666,
              "#ed7953"
             ],
             [
              0.7777777777777778,
              "#fb9f3a"
             ],
             [
              0.8888888888888888,
              "#fdca26"
             ],
             [
              1,
              "#f0f921"
             ]
            ],
            "type": "histogram2d"
           }
          ],
          "histogram2dcontour": [
           {
            "colorbar": {
             "outlinewidth": 0,
             "ticks": ""
            },
            "colorscale": [
             [
              0,
              "#0d0887"
             ],
             [
              0.1111111111111111,
              "#46039f"
             ],
             [
              0.2222222222222222,
              "#7201a8"
             ],
             [
              0.3333333333333333,
              "#9c179e"
             ],
             [
              0.4444444444444444,
              "#bd3786"
             ],
             [
              0.5555555555555556,
              "#d8576b"
             ],
             [
              0.6666666666666666,
              "#ed7953"
             ],
             [
              0.7777777777777778,
              "#fb9f3a"
             ],
             [
              0.8888888888888888,
              "#fdca26"
             ],
             [
              1,
              "#f0f921"
             ]
            ],
            "type": "histogram2dcontour"
           }
          ],
          "mesh3d": [
           {
            "colorbar": {
             "outlinewidth": 0,
             "ticks": ""
            },
            "type": "mesh3d"
           }
          ],
          "parcoords": [
           {
            "line": {
             "colorbar": {
              "outlinewidth": 0,
              "ticks": ""
             }
            },
            "type": "parcoords"
           }
          ],
          "pie": [
           {
            "automargin": true,
            "type": "pie"
           }
          ],
          "scatter": [
           {
            "fillpattern": {
             "fillmode": "overlay",
             "size": 10,
             "solidity": 0.2
            },
            "type": "scatter"
           }
          ],
          "scatter3d": [
           {
            "line": {
             "colorbar": {
              "outlinewidth": 0,
              "ticks": ""
             }
            },
            "marker": {
             "colorbar": {
              "outlinewidth": 0,
              "ticks": ""
             }
            },
            "type": "scatter3d"
           }
          ],
          "scattercarpet": [
           {
            "marker": {
             "colorbar": {
              "outlinewidth": 0,
              "ticks": ""
             }
            },
            "type": "scattercarpet"
           }
          ],
          "scattergeo": [
           {
            "marker": {
             "colorbar": {
              "outlinewidth": 0,
              "ticks": ""
             }
            },
            "type": "scattergeo"
           }
          ],
          "scattergl": [
           {
            "marker": {
             "colorbar": {
              "outlinewidth": 0,
              "ticks": ""
             }
            },
            "type": "scattergl"
           }
          ],
          "scattermapbox": [
           {
            "marker": {
             "colorbar": {
              "outlinewidth": 0,
              "ticks": ""
             }
            },
            "type": "scattermapbox"
           }
          ],
          "scatterpolar": [
           {
            "marker": {
             "colorbar": {
              "outlinewidth": 0,
              "ticks": ""
             }
            },
            "type": "scatterpolar"
           }
          ],
          "scatterpolargl": [
           {
            "marker": {
             "colorbar": {
              "outlinewidth": 0,
              "ticks": ""
             }
            },
            "type": "scatterpolargl"
           }
          ],
          "scatterternary": [
           {
            "marker": {
             "colorbar": {
              "outlinewidth": 0,
              "ticks": ""
             }
            },
            "type": "scatterternary"
           }
          ],
          "surface": [
           {
            "colorbar": {
             "outlinewidth": 0,
             "ticks": ""
            },
            "colorscale": [
             [
              0,
              "#0d0887"
             ],
             [
              0.1111111111111111,
              "#46039f"
             ],
             [
              0.2222222222222222,
              "#7201a8"
             ],
             [
              0.3333333333333333,
              "#9c179e"
             ],
             [
              0.4444444444444444,
              "#bd3786"
             ],
             [
              0.5555555555555556,
              "#d8576b"
             ],
             [
              0.6666666666666666,
              "#ed7953"
             ],
             [
              0.7777777777777778,
              "#fb9f3a"
             ],
             [
              0.8888888888888888,
              "#fdca26"
             ],
             [
              1,
              "#f0f921"
             ]
            ],
            "type": "surface"
           }
          ],
          "table": [
           {
            "cells": {
             "fill": {
              "color": "#EBF0F8"
             },
             "line": {
              "color": "white"
             }
            },
            "header": {
             "fill": {
              "color": "#C8D4E3"
             },
             "line": {
              "color": "white"
             }
            },
            "type": "table"
           }
          ]
         },
         "layout": {
          "annotationdefaults": {
           "arrowcolor": "#2a3f5f",
           "arrowhead": 0,
           "arrowwidth": 1
          },
          "autotypenumbers": "strict",
          "coloraxis": {
           "colorbar": {
            "outlinewidth": 0,
            "ticks": ""
           }
          },
          "colorscale": {
           "diverging": [
            [
             0,
             "#8e0152"
            ],
            [
             0.1,
             "#c51b7d"
            ],
            [
             0.2,
             "#de77ae"
            ],
            [
             0.3,
             "#f1b6da"
            ],
            [
             0.4,
             "#fde0ef"
            ],
            [
             0.5,
             "#f7f7f7"
            ],
            [
             0.6,
             "#e6f5d0"
            ],
            [
             0.7,
             "#b8e186"
            ],
            [
             0.8,
             "#7fbc41"
            ],
            [
             0.9,
             "#4d9221"
            ],
            [
             1,
             "#276419"
            ]
           ],
           "sequential": [
            [
             0,
             "#0d0887"
            ],
            [
             0.1111111111111111,
             "#46039f"
            ],
            [
             0.2222222222222222,
             "#7201a8"
            ],
            [
             0.3333333333333333,
             "#9c179e"
            ],
            [
             0.4444444444444444,
             "#bd3786"
            ],
            [
             0.5555555555555556,
             "#d8576b"
            ],
            [
             0.6666666666666666,
             "#ed7953"
            ],
            [
             0.7777777777777778,
             "#fb9f3a"
            ],
            [
             0.8888888888888888,
             "#fdca26"
            ],
            [
             1,
             "#f0f921"
            ]
           ],
           "sequentialminus": [
            [
             0,
             "#0d0887"
            ],
            [
             0.1111111111111111,
             "#46039f"
            ],
            [
             0.2222222222222222,
             "#7201a8"
            ],
            [
             0.3333333333333333,
             "#9c179e"
            ],
            [
             0.4444444444444444,
             "#bd3786"
            ],
            [
             0.5555555555555556,
             "#d8576b"
            ],
            [
             0.6666666666666666,
             "#ed7953"
            ],
            [
             0.7777777777777778,
             "#fb9f3a"
            ],
            [
             0.8888888888888888,
             "#fdca26"
            ],
            [
             1,
             "#f0f921"
            ]
           ]
          },
          "colorway": [
           "#636efa",
           "#EF553B",
           "#00cc96",
           "#ab63fa",
           "#FFA15A",
           "#19d3f3",
           "#FF6692",
           "#B6E880",
           "#FF97FF",
           "#FECB52"
          ],
          "font": {
           "color": "#2a3f5f"
          },
          "geo": {
           "bgcolor": "white",
           "lakecolor": "white",
           "landcolor": "#E5ECF6",
           "showlakes": true,
           "showland": true,
           "subunitcolor": "white"
          },
          "hoverlabel": {
           "align": "left"
          },
          "hovermode": "closest",
          "mapbox": {
           "style": "light"
          },
          "paper_bgcolor": "white",
          "plot_bgcolor": "#E5ECF6",
          "polar": {
           "angularaxis": {
            "gridcolor": "white",
            "linecolor": "white",
            "ticks": ""
           },
           "bgcolor": "#E5ECF6",
           "radialaxis": {
            "gridcolor": "white",
            "linecolor": "white",
            "ticks": ""
           }
          },
          "scene": {
           "xaxis": {
            "backgroundcolor": "#E5ECF6",
            "gridcolor": "white",
            "gridwidth": 2,
            "linecolor": "white",
            "showbackground": true,
            "ticks": "",
            "zerolinecolor": "white"
           },
           "yaxis": {
            "backgroundcolor": "#E5ECF6",
            "gridcolor": "white",
            "gridwidth": 2,
            "linecolor": "white",
            "showbackground": true,
            "ticks": "",
            "zerolinecolor": "white"
           },
           "zaxis": {
            "backgroundcolor": "#E5ECF6",
            "gridcolor": "white",
            "gridwidth": 2,
            "linecolor": "white",
            "showbackground": true,
            "ticks": "",
            "zerolinecolor": "white"
           }
          },
          "shapedefaults": {
           "line": {
            "color": "#2a3f5f"
           }
          },
          "ternary": {
           "aaxis": {
            "gridcolor": "white",
            "linecolor": "white",
            "ticks": ""
           },
           "baxis": {
            "gridcolor": "white",
            "linecolor": "white",
            "ticks": ""
           },
           "bgcolor": "#E5ECF6",
           "caxis": {
            "gridcolor": "white",
            "linecolor": "white",
            "ticks": ""
           }
          },
          "title": {
           "x": 0.05
          },
          "xaxis": {
           "automargin": true,
           "gridcolor": "white",
           "linecolor": "white",
           "ticks": "",
           "title": {
            "standoff": 15
           },
           "zerolinecolor": "white",
           "zerolinewidth": 2
          },
          "yaxis": {
           "automargin": true,
           "gridcolor": "white",
           "linecolor": "white",
           "ticks": "",
           "title": {
            "standoff": 15
           },
           "zerolinecolor": "white",
           "zerolinewidth": 2
          }
         }
        },
        "title": {
         "text": "CA: Four Key Metrics Over Time"
        },
        "width": 1200,
        "xaxis": {
         "domain": [
          0.2,
          0.8
         ]
        },
        "yaxis": {
         "tickfont": {
          "color": "#1f77b4"
         },
         "title": {
          "font": {
           "color": "#1f77b4"
          },
          "text": "Active Listings"
         }
        },
        "yaxis2": {
         "anchor": "free",
         "overlaying": "y",
         "position": 0.1,
         "side": "left",
         "tickfont": {
          "color": "#ff7f0e"
         },
         "title": {
          "font": {
           "color": "#ff7f0e"
          },
          "text": "Pending istings"
         }
        },
        "yaxis3": {
         "anchor": "x",
         "overlaying": "y",
         "side": "right",
         "tickfont": {
          "color": "#d62728"
         },
         "title": {
          "font": {
           "color": "#d62728"
          },
          "text": "Median Days on Market"
         }
        },
        "yaxis4": {
         "anchor": "free",
         "overlaying": "y",
         "position": 0.9,
         "side": "right",
         "tickfont": {
          "color": "#9467bd"
         },
         "title": {
          "font": {
           "color": "#9467bd"
          },
          "text": "Price Reductions"
         }
        }
       }
      }
     },
     "metadata": {},
     "output_type": "display_data"
    },
    {
     "data": {
      "application/vnd.plotly.v1+json": {
       "config": {
        "plotlyServerURL": "https://plot.ly"
       },
       "data": [
        {
         "name": "Active Listings",
         "type": "scatter",
         "x": [
          "2016-07-01T00:00:00",
          "2016-08-01T00:00:00",
          "2016-09-01T00:00:00",
          "2016-10-01T00:00:00",
          "2016-11-01T00:00:00",
          "2016-12-01T00:00:00",
          "2017-01-01T00:00:00",
          "2017-02-01T00:00:00",
          "2017-03-01T00:00:00",
          "2017-04-01T00:00:00",
          "2017-05-01T00:00:00",
          "2017-06-01T00:00:00",
          "2017-07-01T00:00:00",
          "2017-08-01T00:00:00",
          "2017-09-01T00:00:00",
          "2017-10-01T00:00:00",
          "2017-11-01T00:00:00",
          "2017-12-01T00:00:00",
          "2018-01-01T00:00:00",
          "2018-02-01T00:00:00",
          "2018-03-01T00:00:00",
          "2018-04-01T00:00:00",
          "2018-05-01T00:00:00",
          "2018-06-01T00:00:00",
          "2018-07-01T00:00:00",
          "2018-08-01T00:00:00",
          "2018-09-01T00:00:00",
          "2018-10-01T00:00:00",
          "2018-11-01T00:00:00",
          "2018-12-01T00:00:00",
          "2019-01-01T00:00:00",
          "2019-02-01T00:00:00",
          "2019-03-01T00:00:00",
          "2019-04-01T00:00:00",
          "2019-05-01T00:00:00",
          "2019-06-01T00:00:00",
          "2019-07-01T00:00:00",
          "2019-08-01T00:00:00",
          "2019-09-01T00:00:00",
          "2019-10-01T00:00:00",
          "2019-11-01T00:00:00",
          "2019-12-01T00:00:00",
          "2020-01-01T00:00:00",
          "2020-02-01T00:00:00",
          "2020-03-01T00:00:00",
          "2020-04-01T00:00:00",
          "2020-05-01T00:00:00",
          "2020-06-01T00:00:00",
          "2020-07-01T00:00:00",
          "2020-08-01T00:00:00",
          "2020-09-01T00:00:00",
          "2020-10-01T00:00:00",
          "2020-11-01T00:00:00",
          "2020-12-01T00:00:00",
          "2021-01-01T00:00:00",
          "2021-02-01T00:00:00",
          "2021-03-01T00:00:00",
          "2021-04-01T00:00:00",
          "2021-05-01T00:00:00",
          "2021-06-01T00:00:00",
          "2021-07-01T00:00:00",
          "2021-08-01T00:00:00",
          "2021-09-01T00:00:00",
          "2021-10-01T00:00:00",
          "2021-11-01T00:00:00",
          "2021-12-01T00:00:00",
          "2022-01-01T00:00:00",
          "2022-02-01T00:00:00",
          "2022-03-01T00:00:00",
          "2022-04-01T00:00:00",
          "2022-05-01T00:00:00",
          "2022-06-01T00:00:00",
          "2022-07-01T00:00:00",
          "2022-08-01T00:00:00",
          "2022-09-01T00:00:00",
          "2022-10-01T00:00:00"
         ],
         "y": [
          24681,
          24838,
          24446,
          23042,
          20511,
          17816,
          16228,
          15865,
          16413,
          17377,
          18805,
          20769,
          22585,
          22898,
          22369,
          20909,
          18624,
          15902,
          14581,
          14517,
          15232,
          16458,
          17898,
          20381,
          22086,
          22899,
          23364,
          23022,
          21813,
          19135,
          17446,
          17352,
          17968,
          18912,
          20768,
          23206,
          24976,
          24732,
          24197,
          23633,
          21042,
          18854,
          15248,
          14366,
          15414,
          16421,
          18214,
          19231,
          18410,
          17351,
          15966,
          14350,
          12093,
          10120,
          8600,
          7985,
          7864,
          7768,
          8163,
          9620,
          11127,
          11581,
          11524,
          10863,
          8953,
          8553,
          5947,
          5961,
          6461,
          7431,
          10365,
          13418,
          17180,
          18081,
          17995,
          17923
         ]
        },
        {
         "name": "Pending Listings",
         "type": "scatter",
         "x": [
          "2016-07-01T00:00:00",
          "2016-08-01T00:00:00",
          "2016-09-01T00:00:00",
          "2016-10-01T00:00:00",
          "2016-11-01T00:00:00",
          "2016-12-01T00:00:00",
          "2017-01-01T00:00:00",
          "2017-02-01T00:00:00",
          "2017-03-01T00:00:00",
          "2017-04-01T00:00:00",
          "2017-05-01T00:00:00",
          "2017-06-01T00:00:00",
          "2017-07-01T00:00:00",
          "2017-08-01T00:00:00",
          "2017-09-01T00:00:00",
          "2017-10-01T00:00:00",
          "2017-11-01T00:00:00",
          "2017-12-01T00:00:00",
          "2018-01-01T00:00:00",
          "2018-02-01T00:00:00",
          "2018-03-01T00:00:00",
          "2018-04-01T00:00:00",
          "2018-05-01T00:00:00",
          "2018-06-01T00:00:00",
          "2018-07-01T00:00:00",
          "2018-08-01T00:00:00",
          "2018-09-01T00:00:00",
          "2018-10-01T00:00:00",
          "2018-11-01T00:00:00",
          "2018-12-01T00:00:00",
          "2019-01-01T00:00:00",
          "2019-02-01T00:00:00",
          "2019-03-01T00:00:00",
          "2019-04-01T00:00:00",
          "2019-05-01T00:00:00",
          "2019-06-01T00:00:00",
          "2019-07-01T00:00:00",
          "2019-08-01T00:00:00",
          "2019-09-01T00:00:00",
          "2019-10-01T00:00:00",
          "2019-11-01T00:00:00",
          "2019-12-01T00:00:00",
          "2020-01-01T00:00:00",
          "2020-02-01T00:00:00",
          "2020-03-01T00:00:00",
          "2020-04-01T00:00:00",
          "2020-05-01T00:00:00",
          "2020-06-01T00:00:00",
          "2020-07-01T00:00:00",
          "2020-08-01T00:00:00",
          "2020-09-01T00:00:00",
          "2020-10-01T00:00:00",
          "2020-11-01T00:00:00",
          "2020-12-01T00:00:00",
          "2021-01-01T00:00:00",
          "2021-02-01T00:00:00",
          "2021-03-01T00:00:00",
          "2021-04-01T00:00:00",
          "2021-05-01T00:00:00",
          "2021-06-01T00:00:00",
          "2021-07-01T00:00:00",
          "2021-08-01T00:00:00",
          "2021-09-01T00:00:00",
          "2021-10-01T00:00:00",
          "2021-11-01T00:00:00",
          "2021-12-01T00:00:00",
          "2022-01-01T00:00:00",
          "2022-02-01T00:00:00",
          "2022-03-01T00:00:00",
          "2022-04-01T00:00:00",
          "2022-05-01T00:00:00",
          "2022-06-01T00:00:00",
          "2022-07-01T00:00:00",
          "2022-08-01T00:00:00",
          "2022-09-01T00:00:00",
          "2022-10-01T00:00:00"
         ],
         "y": [
          6453,
          6518,
          6138,
          5796,
          5290,
          4382,
          3808,
          4462,
          5138,
          6014,
          6492,
          6291,
          6552,
          6414,
          6046,
          5614,
          5013,
          4352,
          3870,
          4504,
          5108,
          12826,
          13877,
          13507,
          12875,
          12171,
          11407,
          10698,
          9859,
          8710,
          7730,
          9872,
          11653,
          13191,
          14070,
          13760,
          13434,
          13104,
          12695,
          12370,
          10687,
          8549,
          7374,
          9376,
          10170,
          8598,
          10048,
          15702,
          16245,
          16496,
          16301,
          15261,
          12981,
          10835,
          9348,
          11414,
          11964,
          12570,
          13301,
          13817,
          13441,
          13433,
          13077,
          12794,
          11815,
          8546,
          8125,
          9361,
          10168,
          11212,
          11585,
          10831,
          9732,
          10132,
          9677,
          8101
         ],
         "yaxis": "y2"
        },
        {
         "name": "Median Days on Market",
         "type": "scatter",
         "x": [
          "2016-07-01T00:00:00",
          "2016-08-01T00:00:00",
          "2016-09-01T00:00:00",
          "2016-10-01T00:00:00",
          "2016-11-01T00:00:00",
          "2016-12-01T00:00:00",
          "2017-01-01T00:00:00",
          "2017-02-01T00:00:00",
          "2017-03-01T00:00:00",
          "2017-04-01T00:00:00",
          "2017-05-01T00:00:00",
          "2017-06-01T00:00:00",
          "2017-07-01T00:00:00",
          "2017-08-01T00:00:00",
          "2017-09-01T00:00:00",
          "2017-10-01T00:00:00",
          "2017-11-01T00:00:00",
          "2017-12-01T00:00:00",
          "2018-01-01T00:00:00",
          "2018-02-01T00:00:00",
          "2018-03-01T00:00:00",
          "2018-04-01T00:00:00",
          "2018-05-01T00:00:00",
          "2018-06-01T00:00:00",
          "2018-07-01T00:00:00",
          "2018-08-01T00:00:00",
          "2018-09-01T00:00:00",
          "2018-10-01T00:00:00",
          "2018-11-01T00:00:00",
          "2018-12-01T00:00:00",
          "2019-01-01T00:00:00",
          "2019-02-01T00:00:00",
          "2019-03-01T00:00:00",
          "2019-04-01T00:00:00",
          "2019-05-01T00:00:00",
          "2019-06-01T00:00:00",
          "2019-07-01T00:00:00",
          "2019-08-01T00:00:00",
          "2019-09-01T00:00:00",
          "2019-10-01T00:00:00",
          "2019-11-01T00:00:00",
          "2019-12-01T00:00:00",
          "2020-01-01T00:00:00",
          "2020-02-01T00:00:00",
          "2020-03-01T00:00:00",
          "2020-04-01T00:00:00",
          "2020-05-01T00:00:00",
          "2020-06-01T00:00:00",
          "2020-07-01T00:00:00",
          "2020-08-01T00:00:00",
          "2020-09-01T00:00:00",
          "2020-10-01T00:00:00",
          "2020-11-01T00:00:00",
          "2020-12-01T00:00:00",
          "2021-01-01T00:00:00",
          "2021-02-01T00:00:00",
          "2021-03-01T00:00:00",
          "2021-04-01T00:00:00",
          "2021-05-01T00:00:00",
          "2021-06-01T00:00:00",
          "2021-07-01T00:00:00",
          "2021-08-01T00:00:00",
          "2021-09-01T00:00:00",
          "2021-10-01T00:00:00",
          "2021-11-01T00:00:00",
          "2021-12-01T00:00:00",
          "2022-01-01T00:00:00",
          "2022-02-01T00:00:00",
          "2022-03-01T00:00:00",
          "2022-04-01T00:00:00",
          "2022-05-01T00:00:00",
          "2022-06-01T00:00:00",
          "2022-07-01T00:00:00",
          "2022-08-01T00:00:00",
          "2022-09-01T00:00:00",
          "2022-10-01T00:00:00"
         ],
         "y": [
          57,
          62,
          68,
          75,
          87,
          100,
          109,
          101,
          73,
          57,
          51,
          48,
          50,
          56,
          64,
          72,
          80,
          94,
          100,
          89,
          60,
          51,
          47,
          44,
          47,
          53,
          57,
          60,
          66,
          80,
          87,
          78,
          64,
          51,
          44,
          44,
          48,
          54,
          60,
          65,
          74,
          87,
          96,
          92,
          56,
          55,
          59,
          51,
          51,
          51,
          51,
          53,
          60,
          73,
          78,
          59,
          41,
          36,
          30,
          25,
          29,
          32,
          36,
          38,
          46,
          58,
          60,
          35,
          26,
          22,
          21,
          23,
          30,
          39,
          46,
          51
         ],
         "yaxis": "y3"
        },
        {
         "name": "Price Reductions",
         "type": "scatter",
         "x": [
          "2016-07-01T00:00:00",
          "2016-08-01T00:00:00",
          "2016-09-01T00:00:00",
          "2016-10-01T00:00:00",
          "2016-11-01T00:00:00",
          "2016-12-01T00:00:00",
          "2017-01-01T00:00:00",
          "2017-02-01T00:00:00",
          "2017-03-01T00:00:00",
          "2017-04-01T00:00:00",
          "2017-05-01T00:00:00",
          "2017-06-01T00:00:00",
          "2017-07-01T00:00:00",
          "2017-08-01T00:00:00",
          "2017-09-01T00:00:00",
          "2017-10-01T00:00:00",
          "2017-11-01T00:00:00",
          "2017-12-01T00:00:00",
          "2018-01-01T00:00:00",
          "2018-02-01T00:00:00",
          "2018-03-01T00:00:00",
          "2018-04-01T00:00:00",
          "2018-05-01T00:00:00",
          "2018-06-01T00:00:00",
          "2018-07-01T00:00:00",
          "2018-08-01T00:00:00",
          "2018-09-01T00:00:00",
          "2018-10-01T00:00:00",
          "2018-11-01T00:00:00",
          "2018-12-01T00:00:00",
          "2019-01-01T00:00:00",
          "2019-02-01T00:00:00",
          "2019-03-01T00:00:00",
          "2019-04-01T00:00:00",
          "2019-05-01T00:00:00",
          "2019-06-01T00:00:00",
          "2019-07-01T00:00:00",
          "2019-08-01T00:00:00",
          "2019-09-01T00:00:00",
          "2019-10-01T00:00:00",
          "2019-11-01T00:00:00",
          "2019-12-01T00:00:00",
          "2020-01-01T00:00:00",
          "2020-02-01T00:00:00",
          "2020-03-01T00:00:00",
          "2020-04-01T00:00:00",
          "2020-05-01T00:00:00",
          "2020-06-01T00:00:00",
          "2020-07-01T00:00:00",
          "2020-08-01T00:00:00",
          "2020-09-01T00:00:00",
          "2020-10-01T00:00:00",
          "2020-11-01T00:00:00",
          "2020-12-01T00:00:00",
          "2021-01-01T00:00:00",
          "2021-02-01T00:00:00",
          "2021-03-01T00:00:00",
          "2021-04-01T00:00:00",
          "2021-05-01T00:00:00",
          "2021-06-01T00:00:00",
          "2021-07-01T00:00:00",
          "2021-08-01T00:00:00",
          "2021-09-01T00:00:00",
          "2021-10-01T00:00:00",
          "2021-11-01T00:00:00",
          "2021-12-01T00:00:00",
          "2022-01-01T00:00:00",
          "2022-02-01T00:00:00",
          "2022-03-01T00:00:00",
          "2022-04-01T00:00:00",
          "2022-05-01T00:00:00",
          "2022-06-01T00:00:00",
          "2022-07-01T00:00:00",
          "2022-08-01T00:00:00",
          "2022-09-01T00:00:00",
          "2022-10-01T00:00:00"
         ],
         "y": [
          7852,
          8006,
          7064,
          6124,
          4890,
          2968,
          2592,
          2786,
          3628,
          3860,
          5118,
          6536,
          8372,
          8304,
          7768,
          6382,
          4834,
          2972,
          2664,
          2574,
          3144,
          4238,
          5498,
          7196,
          8612,
          9310,
          9708,
          9454,
          7510,
          4452,
          4764,
          4774,
          5192,
          5406,
          7010,
          9196,
          10346,
          9836,
          9504,
          8920,
          6168,
          2880,
          3128,
          3048,
          3312,
          2458,
          5784,
          6632,
          6278,
          5560,
          4814,
          4152,
          2996,
          1708,
          1376,
          1118,
          1008,
          1122,
          1428,
          2282,
          3780,
          4260,
          4230,
          3836,
          2588,
          1308,
          836,
          752,
          1058,
          1960,
          3898,
          7396,
          10592,
          10264,
          10112,
          10192
         ],
         "yaxis": "y4"
        }
       ],
       "layout": {
        "template": {
         "data": {
          "bar": [
           {
            "error_x": {
             "color": "#2a3f5f"
            },
            "error_y": {
             "color": "#2a3f5f"
            },
            "marker": {
             "line": {
              "color": "#E5ECF6",
              "width": 0.5
             },
             "pattern": {
              "fillmode": "overlay",
              "size": 10,
              "solidity": 0.2
             }
            },
            "type": "bar"
           }
          ],
          "barpolar": [
           {
            "marker": {
             "line": {
              "color": "#E5ECF6",
              "width": 0.5
             },
             "pattern": {
              "fillmode": "overlay",
              "size": 10,
              "solidity": 0.2
             }
            },
            "type": "barpolar"
           }
          ],
          "carpet": [
           {
            "aaxis": {
             "endlinecolor": "#2a3f5f",
             "gridcolor": "white",
             "linecolor": "white",
             "minorgridcolor": "white",
             "startlinecolor": "#2a3f5f"
            },
            "baxis": {
             "endlinecolor": "#2a3f5f",
             "gridcolor": "white",
             "linecolor": "white",
             "minorgridcolor": "white",
             "startlinecolor": "#2a3f5f"
            },
            "type": "carpet"
           }
          ],
          "choropleth": [
           {
            "colorbar": {
             "outlinewidth": 0,
             "ticks": ""
            },
            "type": "choropleth"
           }
          ],
          "contour": [
           {
            "colorbar": {
             "outlinewidth": 0,
             "ticks": ""
            },
            "colorscale": [
             [
              0,
              "#0d0887"
             ],
             [
              0.1111111111111111,
              "#46039f"
             ],
             [
              0.2222222222222222,
              "#7201a8"
             ],
             [
              0.3333333333333333,
              "#9c179e"
             ],
             [
              0.4444444444444444,
              "#bd3786"
             ],
             [
              0.5555555555555556,
              "#d8576b"
             ],
             [
              0.6666666666666666,
              "#ed7953"
             ],
             [
              0.7777777777777778,
              "#fb9f3a"
             ],
             [
              0.8888888888888888,
              "#fdca26"
             ],
             [
              1,
              "#f0f921"
             ]
            ],
            "type": "contour"
           }
          ],
          "contourcarpet": [
           {
            "colorbar": {
             "outlinewidth": 0,
             "ticks": ""
            },
            "type": "contourcarpet"
           }
          ],
          "heatmap": [
           {
            "colorbar": {
             "outlinewidth": 0,
             "ticks": ""
            },
            "colorscale": [
             [
              0,
              "#0d0887"
             ],
             [
              0.1111111111111111,
              "#46039f"
             ],
             [
              0.2222222222222222,
              "#7201a8"
             ],
             [
              0.3333333333333333,
              "#9c179e"
             ],
             [
              0.4444444444444444,
              "#bd3786"
             ],
             [
              0.5555555555555556,
              "#d8576b"
             ],
             [
              0.6666666666666666,
              "#ed7953"
             ],
             [
              0.7777777777777778,
              "#fb9f3a"
             ],
             [
              0.8888888888888888,
              "#fdca26"
             ],
             [
              1,
              "#f0f921"
             ]
            ],
            "type": "heatmap"
           }
          ],
          "heatmapgl": [
           {
            "colorbar": {
             "outlinewidth": 0,
             "ticks": ""
            },
            "colorscale": [
             [
              0,
              "#0d0887"
             ],
             [
              0.1111111111111111,
              "#46039f"
             ],
             [
              0.2222222222222222,
              "#7201a8"
             ],
             [
              0.3333333333333333,
              "#9c179e"
             ],
             [
              0.4444444444444444,
              "#bd3786"
             ],
             [
              0.5555555555555556,
              "#d8576b"
             ],
             [
              0.6666666666666666,
              "#ed7953"
             ],
             [
              0.7777777777777778,
              "#fb9f3a"
             ],
             [
              0.8888888888888888,
              "#fdca26"
             ],
             [
              1,
              "#f0f921"
             ]
            ],
            "type": "heatmapgl"
           }
          ],
          "histogram": [
           {
            "marker": {
             "pattern": {
              "fillmode": "overlay",
              "size": 10,
              "solidity": 0.2
             }
            },
            "type": "histogram"
           }
          ],
          "histogram2d": [
           {
            "colorbar": {
             "outlinewidth": 0,
             "ticks": ""
            },
            "colorscale": [
             [
              0,
              "#0d0887"
             ],
             [
              0.1111111111111111,
              "#46039f"
             ],
             [
              0.2222222222222222,
              "#7201a8"
             ],
             [
              0.3333333333333333,
              "#9c179e"
             ],
             [
              0.4444444444444444,
              "#bd3786"
             ],
             [
              0.5555555555555556,
              "#d8576b"
             ],
             [
              0.6666666666666666,
              "#ed7953"
             ],
             [
              0.7777777777777778,
              "#fb9f3a"
             ],
             [
              0.8888888888888888,
              "#fdca26"
             ],
             [
              1,
              "#f0f921"
             ]
            ],
            "type": "histogram2d"
           }
          ],
          "histogram2dcontour": [
           {
            "colorbar": {
             "outlinewidth": 0,
             "ticks": ""
            },
            "colorscale": [
             [
              0,
              "#0d0887"
             ],
             [
              0.1111111111111111,
              "#46039f"
             ],
             [
              0.2222222222222222,
              "#7201a8"
             ],
             [
              0.3333333333333333,
              "#9c179e"
             ],
             [
              0.4444444444444444,
              "#bd3786"
             ],
             [
              0.5555555555555556,
              "#d8576b"
             ],
             [
              0.6666666666666666,
              "#ed7953"
             ],
             [
              0.7777777777777778,
              "#fb9f3a"
             ],
             [
              0.8888888888888888,
              "#fdca26"
             ],
             [
              1,
              "#f0f921"
             ]
            ],
            "type": "histogram2dcontour"
           }
          ],
          "mesh3d": [
           {
            "colorbar": {
             "outlinewidth": 0,
             "ticks": ""
            },
            "type": "mesh3d"
           }
          ],
          "parcoords": [
           {
            "line": {
             "colorbar": {
              "outlinewidth": 0,
              "ticks": ""
             }
            },
            "type": "parcoords"
           }
          ],
          "pie": [
           {
            "automargin": true,
            "type": "pie"
           }
          ],
          "scatter": [
           {
            "fillpattern": {
             "fillmode": "overlay",
             "size": 10,
             "solidity": 0.2
            },
            "type": "scatter"
           }
          ],
          "scatter3d": [
           {
            "line": {
             "colorbar": {
              "outlinewidth": 0,
              "ticks": ""
             }
            },
            "marker": {
             "colorbar": {
              "outlinewidth": 0,
              "ticks": ""
             }
            },
            "type": "scatter3d"
           }
          ],
          "scattercarpet": [
           {
            "marker": {
             "colorbar": {
              "outlinewidth": 0,
              "ticks": ""
             }
            },
            "type": "scattercarpet"
           }
          ],
          "scattergeo": [
           {
            "marker": {
             "colorbar": {
              "outlinewidth": 0,
              "ticks": ""
             }
            },
            "type": "scattergeo"
           }
          ],
          "scattergl": [
           {
            "marker": {
             "colorbar": {
              "outlinewidth": 0,
              "ticks": ""
             }
            },
            "type": "scattergl"
           }
          ],
          "scattermapbox": [
           {
            "marker": {
             "colorbar": {
              "outlinewidth": 0,
              "ticks": ""
             }
            },
            "type": "scattermapbox"
           }
          ],
          "scatterpolar": [
           {
            "marker": {
             "colorbar": {
              "outlinewidth": 0,
              "ticks": ""
             }
            },
            "type": "scatterpolar"
           }
          ],
          "scatterpolargl": [
           {
            "marker": {
             "colorbar": {
              "outlinewidth": 0,
              "ticks": ""
             }
            },
            "type": "scatterpolargl"
           }
          ],
          "scatterternary": [
           {
            "marker": {
             "colorbar": {
              "outlinewidth": 0,
              "ticks": ""
             }
            },
            "type": "scatterternary"
           }
          ],
          "surface": [
           {
            "colorbar": {
             "outlinewidth": 0,
             "ticks": ""
            },
            "colorscale": [
             [
              0,
              "#0d0887"
             ],
             [
              0.1111111111111111,
              "#46039f"
             ],
             [
              0.2222222222222222,
              "#7201a8"
             ],
             [
              0.3333333333333333,
              "#9c179e"
             ],
             [
              0.4444444444444444,
              "#bd3786"
             ],
             [
              0.5555555555555556,
              "#d8576b"
             ],
             [
              0.6666666666666666,
              "#ed7953"
             ],
             [
              0.7777777777777778,
              "#fb9f3a"
             ],
             [
              0.8888888888888888,
              "#fdca26"
             ],
             [
              1,
              "#f0f921"
             ]
            ],
            "type": "surface"
           }
          ],
          "table": [
           {
            "cells": {
             "fill": {
              "color": "#EBF0F8"
             },
             "line": {
              "color": "white"
             }
            },
            "header": {
             "fill": {
              "color": "#C8D4E3"
             },
             "line": {
              "color": "white"
             }
            },
            "type": "table"
           }
          ]
         },
         "layout": {
          "annotationdefaults": {
           "arrowcolor": "#2a3f5f",
           "arrowhead": 0,
           "arrowwidth": 1
          },
          "autotypenumbers": "strict",
          "coloraxis": {
           "colorbar": {
            "outlinewidth": 0,
            "ticks": ""
           }
          },
          "colorscale": {
           "diverging": [
            [
             0,
             "#8e0152"
            ],
            [
             0.1,
             "#c51b7d"
            ],
            [
             0.2,
             "#de77ae"
            ],
            [
             0.3,
             "#f1b6da"
            ],
            [
             0.4,
             "#fde0ef"
            ],
            [
             0.5,
             "#f7f7f7"
            ],
            [
             0.6,
             "#e6f5d0"
            ],
            [
             0.7,
             "#b8e186"
            ],
            [
             0.8,
             "#7fbc41"
            ],
            [
             0.9,
             "#4d9221"
            ],
            [
             1,
             "#276419"
            ]
           ],
           "sequential": [
            [
             0,
             "#0d0887"
            ],
            [
             0.1111111111111111,
             "#46039f"
            ],
            [
             0.2222222222222222,
             "#7201a8"
            ],
            [
             0.3333333333333333,
             "#9c179e"
            ],
            [
             0.4444444444444444,
             "#bd3786"
            ],
            [
             0.5555555555555556,
             "#d8576b"
            ],
            [
             0.6666666666666666,
             "#ed7953"
            ],
            [
             0.7777777777777778,
             "#fb9f3a"
            ],
            [
             0.8888888888888888,
             "#fdca26"
            ],
            [
             1,
             "#f0f921"
            ]
           ],
           "sequentialminus": [
            [
             0,
             "#0d0887"
            ],
            [
             0.1111111111111111,
             "#46039f"
            ],
            [
             0.2222222222222222,
             "#7201a8"
            ],
            [
             0.3333333333333333,
             "#9c179e"
            ],
            [
             0.4444444444444444,
             "#bd3786"
            ],
            [
             0.5555555555555556,
             "#d8576b"
            ],
            [
             0.6666666666666666,
             "#ed7953"
            ],
            [
             0.7777777777777778,
             "#fb9f3a"
            ],
            [
             0.8888888888888888,
             "#fdca26"
            ],
            [
             1,
             "#f0f921"
            ]
           ]
          },
          "colorway": [
           "#636efa",
           "#EF553B",
           "#00cc96",
           "#ab63fa",
           "#FFA15A",
           "#19d3f3",
           "#FF6692",
           "#B6E880",
           "#FF97FF",
           "#FECB52"
          ],
          "font": {
           "color": "#2a3f5f"
          },
          "geo": {
           "bgcolor": "white",
           "lakecolor": "white",
           "landcolor": "#E5ECF6",
           "showlakes": true,
           "showland": true,
           "subunitcolor": "white"
          },
          "hoverlabel": {
           "align": "left"
          },
          "hovermode": "closest",
          "mapbox": {
           "style": "light"
          },
          "paper_bgcolor": "white",
          "plot_bgcolor": "#E5ECF6",
          "polar": {
           "angularaxis": {
            "gridcolor": "white",
            "linecolor": "white",
            "ticks": ""
           },
           "bgcolor": "#E5ECF6",
           "radialaxis": {
            "gridcolor": "white",
            "linecolor": "white",
            "ticks": ""
           }
          },
          "scene": {
           "xaxis": {
            "backgroundcolor": "#E5ECF6",
            "gridcolor": "white",
            "gridwidth": 2,
            "linecolor": "white",
            "showbackground": true,
            "ticks": "",
            "zerolinecolor": "white"
           },
           "yaxis": {
            "backgroundcolor": "#E5ECF6",
            "gridcolor": "white",
            "gridwidth": 2,
            "linecolor": "white",
            "showbackground": true,
            "ticks": "",
            "zerolinecolor": "white"
           },
           "zaxis": {
            "backgroundcolor": "#E5ECF6",
            "gridcolor": "white",
            "gridwidth": 2,
            "linecolor": "white",
            "showbackground": true,
            "ticks": "",
            "zerolinecolor": "white"
           }
          },
          "shapedefaults": {
           "line": {
            "color": "#2a3f5f"
           }
          },
          "ternary": {
           "aaxis": {
            "gridcolor": "white",
            "linecolor": "white",
            "ticks": ""
           },
           "baxis": {
            "gridcolor": "white",
            "linecolor": "white",
            "ticks": ""
           },
           "bgcolor": "#E5ECF6",
           "caxis": {
            "gridcolor": "white",
            "linecolor": "white",
            "ticks": ""
           }
          },
          "title": {
           "x": 0.05
          },
          "xaxis": {
           "automargin": true,
           "gridcolor": "white",
           "linecolor": "white",
           "ticks": "",
           "title": {
            "standoff": 15
           },
           "zerolinecolor": "white",
           "zerolinewidth": 2
          },
          "yaxis": {
           "automargin": true,
           "gridcolor": "white",
           "linecolor": "white",
           "ticks": "",
           "title": {
            "standoff": 15
           },
           "zerolinecolor": "white",
           "zerolinewidth": 2
          }
         }
        },
        "title": {
         "text": "CO: Four Key Metrics Over Time"
        },
        "width": 1200,
        "xaxis": {
         "domain": [
          0.2,
          0.8
         ]
        },
        "yaxis": {
         "tickfont": {
          "color": "#1f77b4"
         },
         "title": {
          "font": {
           "color": "#1f77b4"
          },
          "text": "Active Listings"
         }
        },
        "yaxis2": {
         "anchor": "free",
         "overlaying": "y",
         "position": 0.1,
         "side": "left",
         "tickfont": {
          "color": "#ff7f0e"
         },
         "title": {
          "font": {
           "color": "#ff7f0e"
          },
          "text": "Pending istings"
         }
        },
        "yaxis3": {
         "anchor": "x",
         "overlaying": "y",
         "side": "right",
         "tickfont": {
          "color": "#d62728"
         },
         "title": {
          "font": {
           "color": "#d62728"
          },
          "text": "Median Days on Market"
         }
        },
        "yaxis4": {
         "anchor": "free",
         "overlaying": "y",
         "position": 0.9,
         "side": "right",
         "tickfont": {
          "color": "#9467bd"
         },
         "title": {
          "font": {
           "color": "#9467bd"
          },
          "text": "Price Reductions"
         }
        }
       }
      }
     },
     "metadata": {},
     "output_type": "display_data"
    },
    {
     "data": {
      "application/vnd.plotly.v1+json": {
       "config": {
        "plotlyServerURL": "https://plot.ly"
       },
       "data": [
        {
         "name": "Active Listings",
         "type": "scatter",
         "x": [
          "2016-07-01T00:00:00",
          "2016-08-01T00:00:00",
          "2016-09-01T00:00:00",
          "2016-10-01T00:00:00",
          "2016-11-01T00:00:00",
          "2016-12-01T00:00:00",
          "2017-01-01T00:00:00",
          "2017-02-01T00:00:00",
          "2017-03-01T00:00:00",
          "2017-04-01T00:00:00",
          "2017-05-01T00:00:00",
          "2017-06-01T00:00:00",
          "2017-07-01T00:00:00",
          "2017-08-01T00:00:00",
          "2017-09-01T00:00:00",
          "2017-10-01T00:00:00",
          "2017-11-01T00:00:00",
          "2017-12-01T00:00:00",
          "2018-01-01T00:00:00",
          "2018-02-01T00:00:00",
          "2018-03-01T00:00:00",
          "2018-04-01T00:00:00",
          "2018-05-01T00:00:00",
          "2018-06-01T00:00:00",
          "2018-07-01T00:00:00",
          "2018-08-01T00:00:00",
          "2018-09-01T00:00:00",
          "2018-10-01T00:00:00",
          "2018-11-01T00:00:00",
          "2018-12-01T00:00:00",
          "2019-01-01T00:00:00",
          "2019-02-01T00:00:00",
          "2019-03-01T00:00:00",
          "2019-04-01T00:00:00",
          "2019-05-01T00:00:00",
          "2019-06-01T00:00:00",
          "2019-07-01T00:00:00",
          "2019-08-01T00:00:00",
          "2019-09-01T00:00:00",
          "2019-10-01T00:00:00",
          "2019-11-01T00:00:00",
          "2019-12-01T00:00:00",
          "2020-01-01T00:00:00",
          "2020-02-01T00:00:00",
          "2020-03-01T00:00:00",
          "2020-04-01T00:00:00",
          "2020-05-01T00:00:00",
          "2020-06-01T00:00:00",
          "2020-07-01T00:00:00",
          "2020-08-01T00:00:00",
          "2020-09-01T00:00:00",
          "2020-10-01T00:00:00",
          "2020-11-01T00:00:00",
          "2020-12-01T00:00:00",
          "2021-01-01T00:00:00",
          "2021-02-01T00:00:00",
          "2021-03-01T00:00:00",
          "2021-04-01T00:00:00",
          "2021-05-01T00:00:00",
          "2021-06-01T00:00:00",
          "2021-07-01T00:00:00",
          "2021-08-01T00:00:00",
          "2021-09-01T00:00:00",
          "2021-10-01T00:00:00",
          "2021-11-01T00:00:00",
          "2021-12-01T00:00:00",
          "2022-01-01T00:00:00",
          "2022-02-01T00:00:00",
          "2022-03-01T00:00:00",
          "2022-04-01T00:00:00",
          "2022-05-01T00:00:00",
          "2022-06-01T00:00:00",
          "2022-07-01T00:00:00",
          "2022-08-01T00:00:00",
          "2022-09-01T00:00:00",
          "2022-10-01T00:00:00"
         ],
         "y": [
          11958,
          12164,
          11893,
          11083,
          9902,
          8923,
          7705,
          7434,
          7467,
          7976,
          8675,
          9533,
          10195,
          10505,
          10357,
          9831,
          8731,
          7764,
          6731,
          6318,
          6365,
          6635,
          7198,
          8054,
          8483,
          8614,
          8658,
          8462,
          7887,
          7053,
          6127,
          5887,
          5972,
          6173,
          6577,
          7272,
          7800,
          7808,
          7726,
          7596,
          6851,
          6103,
          5332,
          4871,
          4912,
          5735,
          5855,
          5435,
          4784,
          3982,
          3404,
          2982,
          2382,
          2016,
          1646,
          1547,
          1725,
          1971,
          2375,
          3086,
          3936,
          4666,
          4943,
          4706,
          3889,
          3151,
          2328,
          2061,
          2304,
          2950,
          4492,
          6441,
          8296,
          8871,
          8822,
          8637
         ]
        },
        {
         "name": "Pending Listings",
         "type": "scatter",
         "x": [
          "2016-07-01T00:00:00",
          "2016-08-01T00:00:00",
          "2016-09-01T00:00:00",
          "2016-10-01T00:00:00",
          "2016-11-01T00:00:00",
          "2016-12-01T00:00:00",
          "2017-01-01T00:00:00",
          "2017-02-01T00:00:00",
          "2017-03-01T00:00:00",
          "2017-04-01T00:00:00",
          "2017-05-01T00:00:00",
          "2017-06-01T00:00:00",
          "2017-07-01T00:00:00",
          "2017-08-01T00:00:00",
          "2017-09-01T00:00:00",
          "2017-10-01T00:00:00",
          "2017-11-01T00:00:00",
          "2017-12-01T00:00:00",
          "2018-01-01T00:00:00",
          "2018-02-01T00:00:00",
          "2018-03-01T00:00:00",
          "2018-04-01T00:00:00",
          "2018-05-01T00:00:00",
          "2018-06-01T00:00:00",
          "2018-07-01T00:00:00",
          "2018-08-01T00:00:00",
          "2018-09-01T00:00:00",
          "2018-10-01T00:00:00",
          "2018-11-01T00:00:00",
          "2018-12-01T00:00:00",
          "2019-01-01T00:00:00",
          "2019-02-01T00:00:00",
          "2019-03-01T00:00:00",
          "2019-04-01T00:00:00",
          "2019-05-01T00:00:00",
          "2019-06-01T00:00:00",
          "2019-07-01T00:00:00",
          "2019-08-01T00:00:00",
          "2019-09-01T00:00:00",
          "2019-10-01T00:00:00",
          "2019-11-01T00:00:00",
          "2019-12-01T00:00:00",
          "2020-01-01T00:00:00",
          "2020-02-01T00:00:00",
          "2020-03-01T00:00:00",
          "2020-04-01T00:00:00",
          "2020-05-01T00:00:00",
          "2020-06-01T00:00:00",
          "2020-07-01T00:00:00",
          "2020-08-01T00:00:00",
          "2020-09-01T00:00:00",
          "2020-10-01T00:00:00",
          "2020-11-01T00:00:00",
          "2020-12-01T00:00:00",
          "2021-01-01T00:00:00",
          "2021-02-01T00:00:00",
          "2021-03-01T00:00:00",
          "2021-04-01T00:00:00",
          "2021-05-01T00:00:00",
          "2021-06-01T00:00:00",
          "2021-07-01T00:00:00",
          "2021-08-01T00:00:00",
          "2021-09-01T00:00:00",
          "2021-10-01T00:00:00",
          "2021-11-01T00:00:00",
          "2021-12-01T00:00:00",
          "2022-01-01T00:00:00",
          "2022-02-01T00:00:00",
          "2022-03-01T00:00:00",
          "2022-04-01T00:00:00",
          "2022-05-01T00:00:00",
          "2022-06-01T00:00:00",
          "2022-07-01T00:00:00",
          "2022-08-01T00:00:00",
          "2022-09-01T00:00:00",
          "2022-10-01T00:00:00"
         ],
         "y": [
          649,
          675,
          622,
          534,
          453,
          383,
          335,
          345,
          411,
          487,
          558,
          589,
          574,
          613,
          615,
          524,
          438,
          337,
          312,
          409,
          451,
          478,
          515,
          524,
          532,
          596,
          628,
          497,
          432,
          386,
          420,
          575,
          647,
          706,
          772,
          856,
          852,
          854,
          846,
          878,
          784,
          628,
          596,
          706,
          735,
          521,
          3900,
          5085,
          5287,
          5653,
          5533,
          5157,
          4677,
          3972,
          3645,
          4069,
          4314,
          5200,
          5476,
          5576,
          5522,
          5462,
          5400,
          5205,
          4926,
          4329,
          3923,
          4290,
          4508,
          4769,
          4659,
          4281,
          3984,
          3867,
          3769,
          3197
         ],
         "yaxis": "y2"
        },
        {
         "name": "Median Days on Market",
         "type": "scatter",
         "x": [
          "2016-07-01T00:00:00",
          "2016-08-01T00:00:00",
          "2016-09-01T00:00:00",
          "2016-10-01T00:00:00",
          "2016-11-01T00:00:00",
          "2016-12-01T00:00:00",
          "2017-01-01T00:00:00",
          "2017-02-01T00:00:00",
          "2017-03-01T00:00:00",
          "2017-04-01T00:00:00",
          "2017-05-01T00:00:00",
          "2017-06-01T00:00:00",
          "2017-07-01T00:00:00",
          "2017-08-01T00:00:00",
          "2017-09-01T00:00:00",
          "2017-10-01T00:00:00",
          "2017-11-01T00:00:00",
          "2017-12-01T00:00:00",
          "2018-01-01T00:00:00",
          "2018-02-01T00:00:00",
          "2018-03-01T00:00:00",
          "2018-04-01T00:00:00",
          "2018-05-01T00:00:00",
          "2018-06-01T00:00:00",
          "2018-07-01T00:00:00",
          "2018-08-01T00:00:00",
          "2018-09-01T00:00:00",
          "2018-10-01T00:00:00",
          "2018-11-01T00:00:00",
          "2018-12-01T00:00:00",
          "2019-01-01T00:00:00",
          "2019-02-01T00:00:00",
          "2019-03-01T00:00:00",
          "2019-04-01T00:00:00",
          "2019-05-01T00:00:00",
          "2019-06-01T00:00:00",
          "2019-07-01T00:00:00",
          "2019-08-01T00:00:00",
          "2019-09-01T00:00:00",
          "2019-10-01T00:00:00",
          "2019-11-01T00:00:00",
          "2019-12-01T00:00:00",
          "2020-01-01T00:00:00",
          "2020-02-01T00:00:00",
          "2020-03-01T00:00:00",
          "2020-04-01T00:00:00",
          "2020-05-01T00:00:00",
          "2020-06-01T00:00:00",
          "2020-07-01T00:00:00",
          "2020-08-01T00:00:00",
          "2020-09-01T00:00:00",
          "2020-10-01T00:00:00",
          "2020-11-01T00:00:00",
          "2020-12-01T00:00:00",
          "2021-01-01T00:00:00",
          "2021-02-01T00:00:00",
          "2021-03-01T00:00:00",
          "2021-04-01T00:00:00",
          "2021-05-01T00:00:00",
          "2021-06-01T00:00:00",
          "2021-07-01T00:00:00",
          "2021-08-01T00:00:00",
          "2021-09-01T00:00:00",
          "2021-10-01T00:00:00",
          "2021-11-01T00:00:00",
          "2021-12-01T00:00:00",
          "2022-01-01T00:00:00",
          "2022-02-01T00:00:00",
          "2022-03-01T00:00:00",
          "2022-04-01T00:00:00",
          "2022-05-01T00:00:00",
          "2022-06-01T00:00:00",
          "2022-07-01T00:00:00",
          "2022-08-01T00:00:00",
          "2022-09-01T00:00:00",
          "2022-10-01T00:00:00"
         ],
         "y": [
          64,
          69,
          75,
          81,
          89,
          100,
          104,
          102,
          79,
          54,
          47,
          47,
          52,
          55,
          63,
          70,
          77,
          89,
          94,
          84,
          56,
          47,
          42,
          43,
          50,
          53,
          58,
          62,
          68,
          78,
          81,
          73,
          60,
          46,
          40,
          40,
          46,
          50,
          55,
          60,
          66,
          76,
          81,
          71,
          46,
          43,
          57,
          56,
          52,
          50,
          51,
          53,
          58,
          63,
          60,
          37,
          30,
          29,
          29,
          26,
          27,
          31,
          36,
          45,
          53,
          57,
          59,
          36,
          29,
          28,
          24,
          28,
          36,
          48,
          59,
          65
         ],
         "yaxis": "y3"
        },
        {
         "name": "Price Reductions",
         "type": "scatter",
         "x": [
          "2016-07-01T00:00:00",
          "2016-08-01T00:00:00",
          "2016-09-01T00:00:00",
          "2016-10-01T00:00:00",
          "2016-11-01T00:00:00",
          "2016-12-01T00:00:00",
          "2017-01-01T00:00:00",
          "2017-02-01T00:00:00",
          "2017-03-01T00:00:00",
          "2017-04-01T00:00:00",
          "2017-05-01T00:00:00",
          "2017-06-01T00:00:00",
          "2017-07-01T00:00:00",
          "2017-08-01T00:00:00",
          "2017-09-01T00:00:00",
          "2017-10-01T00:00:00",
          "2017-11-01T00:00:00",
          "2017-12-01T00:00:00",
          "2018-01-01T00:00:00",
          "2018-02-01T00:00:00",
          "2018-03-01T00:00:00",
          "2018-04-01T00:00:00",
          "2018-05-01T00:00:00",
          "2018-06-01T00:00:00",
          "2018-07-01T00:00:00",
          "2018-08-01T00:00:00",
          "2018-09-01T00:00:00",
          "2018-10-01T00:00:00",
          "2018-11-01T00:00:00",
          "2018-12-01T00:00:00",
          "2019-01-01T00:00:00",
          "2019-02-01T00:00:00",
          "2019-03-01T00:00:00",
          "2019-04-01T00:00:00",
          "2019-05-01T00:00:00",
          "2019-06-01T00:00:00",
          "2019-07-01T00:00:00",
          "2019-08-01T00:00:00",
          "2019-09-01T00:00:00",
          "2019-10-01T00:00:00",
          "2019-11-01T00:00:00",
          "2019-12-01T00:00:00",
          "2020-01-01T00:00:00",
          "2020-02-01T00:00:00",
          "2020-03-01T00:00:00",
          "2020-04-01T00:00:00",
          "2020-05-01T00:00:00",
          "2020-06-01T00:00:00",
          "2020-07-01T00:00:00",
          "2020-08-01T00:00:00",
          "2020-09-01T00:00:00",
          "2020-10-01T00:00:00",
          "2020-11-01T00:00:00",
          "2020-12-01T00:00:00",
          "2021-01-01T00:00:00",
          "2021-02-01T00:00:00",
          "2021-03-01T00:00:00",
          "2021-04-01T00:00:00",
          "2021-05-01T00:00:00",
          "2021-06-01T00:00:00",
          "2021-07-01T00:00:00",
          "2021-08-01T00:00:00",
          "2021-09-01T00:00:00",
          "2021-10-01T00:00:00",
          "2021-11-01T00:00:00",
          "2021-12-01T00:00:00",
          "2022-01-01T00:00:00",
          "2022-02-01T00:00:00",
          "2022-03-01T00:00:00",
          "2022-04-01T00:00:00",
          "2022-05-01T00:00:00",
          "2022-06-01T00:00:00",
          "2022-07-01T00:00:00",
          "2022-08-01T00:00:00",
          "2022-09-01T00:00:00",
          "2022-10-01T00:00:00"
         ],
         "y": [
          3042,
          3050,
          2684,
          2256,
          1650,
          924,
          738,
          820,
          1056,
          1244,
          1676,
          2244,
          2800,
          2996,
          2576,
          2116,
          1644,
          952,
          940,
          834,
          976,
          1098,
          1620,
          1864,
          2476,
          2588,
          2460,
          2696,
          1900,
          1112,
          1264,
          1114,
          1172,
          1316,
          1582,
          2232,
          2506,
          2596,
          2394,
          2258,
          1576,
          1252,
          862,
          768,
          1002,
          1288,
          1436,
          1400,
          1186,
          960,
          772,
          612,
          408,
          442,
          216,
          254,
          392,
          492,
          688,
          1372,
          2144,
          2602,
          2848,
          2652,
          1420,
          850,
          488,
          410,
          660,
          1260,
          2770,
          4418,
          6084,
          5596,
          5640,
          5268
         ],
         "yaxis": "y4"
        }
       ],
       "layout": {
        "template": {
         "data": {
          "bar": [
           {
            "error_x": {
             "color": "#2a3f5f"
            },
            "error_y": {
             "color": "#2a3f5f"
            },
            "marker": {
             "line": {
              "color": "#E5ECF6",
              "width": 0.5
             },
             "pattern": {
              "fillmode": "overlay",
              "size": 10,
              "solidity": 0.2
             }
            },
            "type": "bar"
           }
          ],
          "barpolar": [
           {
            "marker": {
             "line": {
              "color": "#E5ECF6",
              "width": 0.5
             },
             "pattern": {
              "fillmode": "overlay",
              "size": 10,
              "solidity": 0.2
             }
            },
            "type": "barpolar"
           }
          ],
          "carpet": [
           {
            "aaxis": {
             "endlinecolor": "#2a3f5f",
             "gridcolor": "white",
             "linecolor": "white",
             "minorgridcolor": "white",
             "startlinecolor": "#2a3f5f"
            },
            "baxis": {
             "endlinecolor": "#2a3f5f",
             "gridcolor": "white",
             "linecolor": "white",
             "minorgridcolor": "white",
             "startlinecolor": "#2a3f5f"
            },
            "type": "carpet"
           }
          ],
          "choropleth": [
           {
            "colorbar": {
             "outlinewidth": 0,
             "ticks": ""
            },
            "type": "choropleth"
           }
          ],
          "contour": [
           {
            "colorbar": {
             "outlinewidth": 0,
             "ticks": ""
            },
            "colorscale": [
             [
              0,
              "#0d0887"
             ],
             [
              0.1111111111111111,
              "#46039f"
             ],
             [
              0.2222222222222222,
              "#7201a8"
             ],
             [
              0.3333333333333333,
              "#9c179e"
             ],
             [
              0.4444444444444444,
              "#bd3786"
             ],
             [
              0.5555555555555556,
              "#d8576b"
             ],
             [
              0.6666666666666666,
              "#ed7953"
             ],
             [
              0.7777777777777778,
              "#fb9f3a"
             ],
             [
              0.8888888888888888,
              "#fdca26"
             ],
             [
              1,
              "#f0f921"
             ]
            ],
            "type": "contour"
           }
          ],
          "contourcarpet": [
           {
            "colorbar": {
             "outlinewidth": 0,
             "ticks": ""
            },
            "type": "contourcarpet"
           }
          ],
          "heatmap": [
           {
            "colorbar": {
             "outlinewidth": 0,
             "ticks": ""
            },
            "colorscale": [
             [
              0,
              "#0d0887"
             ],
             [
              0.1111111111111111,
              "#46039f"
             ],
             [
              0.2222222222222222,
              "#7201a8"
             ],
             [
              0.3333333333333333,
              "#9c179e"
             ],
             [
              0.4444444444444444,
              "#bd3786"
             ],
             [
              0.5555555555555556,
              "#d8576b"
             ],
             [
              0.6666666666666666,
              "#ed7953"
             ],
             [
              0.7777777777777778,
              "#fb9f3a"
             ],
             [
              0.8888888888888888,
              "#fdca26"
             ],
             [
              1,
              "#f0f921"
             ]
            ],
            "type": "heatmap"
           }
          ],
          "heatmapgl": [
           {
            "colorbar": {
             "outlinewidth": 0,
             "ticks": ""
            },
            "colorscale": [
             [
              0,
              "#0d0887"
             ],
             [
              0.1111111111111111,
              "#46039f"
             ],
             [
              0.2222222222222222,
              "#7201a8"
             ],
             [
              0.3333333333333333,
              "#9c179e"
             ],
             [
              0.4444444444444444,
              "#bd3786"
             ],
             [
              0.5555555555555556,
              "#d8576b"
             ],
             [
              0.6666666666666666,
              "#ed7953"
             ],
             [
              0.7777777777777778,
              "#fb9f3a"
             ],
             [
              0.8888888888888888,
              "#fdca26"
             ],
             [
              1,
              "#f0f921"
             ]
            ],
            "type": "heatmapgl"
           }
          ],
          "histogram": [
           {
            "marker": {
             "pattern": {
              "fillmode": "overlay",
              "size": 10,
              "solidity": 0.2
             }
            },
            "type": "histogram"
           }
          ],
          "histogram2d": [
           {
            "colorbar": {
             "outlinewidth": 0,
             "ticks": ""
            },
            "colorscale": [
             [
              0,
              "#0d0887"
             ],
             [
              0.1111111111111111,
              "#46039f"
             ],
             [
              0.2222222222222222,
              "#7201a8"
             ],
             [
              0.3333333333333333,
              "#9c179e"
             ],
             [
              0.4444444444444444,
              "#bd3786"
             ],
             [
              0.5555555555555556,
              "#d8576b"
             ],
             [
              0.6666666666666666,
              "#ed7953"
             ],
             [
              0.7777777777777778,
              "#fb9f3a"
             ],
             [
              0.8888888888888888,
              "#fdca26"
             ],
             [
              1,
              "#f0f921"
             ]
            ],
            "type": "histogram2d"
           }
          ],
          "histogram2dcontour": [
           {
            "colorbar": {
             "outlinewidth": 0,
             "ticks": ""
            },
            "colorscale": [
             [
              0,
              "#0d0887"
             ],
             [
              0.1111111111111111,
              "#46039f"
             ],
             [
              0.2222222222222222,
              "#7201a8"
             ],
             [
              0.3333333333333333,
              "#9c179e"
             ],
             [
              0.4444444444444444,
              "#bd3786"
             ],
             [
              0.5555555555555556,
              "#d8576b"
             ],
             [
              0.6666666666666666,
              "#ed7953"
             ],
             [
              0.7777777777777778,
              "#fb9f3a"
             ],
             [
              0.8888888888888888,
              "#fdca26"
             ],
             [
              1,
              "#f0f921"
             ]
            ],
            "type": "histogram2dcontour"
           }
          ],
          "mesh3d": [
           {
            "colorbar": {
             "outlinewidth": 0,
             "ticks": ""
            },
            "type": "mesh3d"
           }
          ],
          "parcoords": [
           {
            "line": {
             "colorbar": {
              "outlinewidth": 0,
              "ticks": ""
             }
            },
            "type": "parcoords"
           }
          ],
          "pie": [
           {
            "automargin": true,
            "type": "pie"
           }
          ],
          "scatter": [
           {
            "fillpattern": {
             "fillmode": "overlay",
             "size": 10,
             "solidity": 0.2
            },
            "type": "scatter"
           }
          ],
          "scatter3d": [
           {
            "line": {
             "colorbar": {
              "outlinewidth": 0,
              "ticks": ""
             }
            },
            "marker": {
             "colorbar": {
              "outlinewidth": 0,
              "ticks": ""
             }
            },
            "type": "scatter3d"
           }
          ],
          "scattercarpet": [
           {
            "marker": {
             "colorbar": {
              "outlinewidth": 0,
              "ticks": ""
             }
            },
            "type": "scattercarpet"
           }
          ],
          "scattergeo": [
           {
            "marker": {
             "colorbar": {
              "outlinewidth": 0,
              "ticks": ""
             }
            },
            "type": "scattergeo"
           }
          ],
          "scattergl": [
           {
            "marker": {
             "colorbar": {
              "outlinewidth": 0,
              "ticks": ""
             }
            },
            "type": "scattergl"
           }
          ],
          "scattermapbox": [
           {
            "marker": {
             "colorbar": {
              "outlinewidth": 0,
              "ticks": ""
             }
            },
            "type": "scattermapbox"
           }
          ],
          "scatterpolar": [
           {
            "marker": {
             "colorbar": {
              "outlinewidth": 0,
              "ticks": ""
             }
            },
            "type": "scatterpolar"
           }
          ],
          "scatterpolargl": [
           {
            "marker": {
             "colorbar": {
              "outlinewidth": 0,
              "ticks": ""
             }
            },
            "type": "scatterpolargl"
           }
          ],
          "scatterternary": [
           {
            "marker": {
             "colorbar": {
              "outlinewidth": 0,
              "ticks": ""
             }
            },
            "type": "scatterternary"
           }
          ],
          "surface": [
           {
            "colorbar": {
             "outlinewidth": 0,
             "ticks": ""
            },
            "colorscale": [
             [
              0,
              "#0d0887"
             ],
             [
              0.1111111111111111,
              "#46039f"
             ],
             [
              0.2222222222222222,
              "#7201a8"
             ],
             [
              0.3333333333333333,
              "#9c179e"
             ],
             [
              0.4444444444444444,
              "#bd3786"
             ],
             [
              0.5555555555555556,
              "#d8576b"
             ],
             [
              0.6666666666666666,
              "#ed7953"
             ],
             [
              0.7777777777777778,
              "#fb9f3a"
             ],
             [
              0.8888888888888888,
              "#fdca26"
             ],
             [
              1,
              "#f0f921"
             ]
            ],
            "type": "surface"
           }
          ],
          "table": [
           {
            "cells": {
             "fill": {
              "color": "#EBF0F8"
             },
             "line": {
              "color": "white"
             }
            },
            "header": {
             "fill": {
              "color": "#C8D4E3"
             },
             "line": {
              "color": "white"
             }
            },
            "type": "table"
           }
          ]
         },
         "layout": {
          "annotationdefaults": {
           "arrowcolor": "#2a3f5f",
           "arrowhead": 0,
           "arrowwidth": 1
          },
          "autotypenumbers": "strict",
          "coloraxis": {
           "colorbar": {
            "outlinewidth": 0,
            "ticks": ""
           }
          },
          "colorscale": {
           "diverging": [
            [
             0,
             "#8e0152"
            ],
            [
             0.1,
             "#c51b7d"
            ],
            [
             0.2,
             "#de77ae"
            ],
            [
             0.3,
             "#f1b6da"
            ],
            [
             0.4,
             "#fde0ef"
            ],
            [
             0.5,
             "#f7f7f7"
            ],
            [
             0.6,
             "#e6f5d0"
            ],
            [
             0.7,
             "#b8e186"
            ],
            [
             0.8,
             "#7fbc41"
            ],
            [
             0.9,
             "#4d9221"
            ],
            [
             1,
             "#276419"
            ]
           ],
           "sequential": [
            [
             0,
             "#0d0887"
            ],
            [
             0.1111111111111111,
             "#46039f"
            ],
            [
             0.2222222222222222,
             "#7201a8"
            ],
            [
             0.3333333333333333,
             "#9c179e"
            ],
            [
             0.4444444444444444,
             "#bd3786"
            ],
            [
             0.5555555555555556,
             "#d8576b"
            ],
            [
             0.6666666666666666,
             "#ed7953"
            ],
            [
             0.7777777777777778,
             "#fb9f3a"
            ],
            [
             0.8888888888888888,
             "#fdca26"
            ],
            [
             1,
             "#f0f921"
            ]
           ],
           "sequentialminus": [
            [
             0,
             "#0d0887"
            ],
            [
             0.1111111111111111,
             "#46039f"
            ],
            [
             0.2222222222222222,
             "#7201a8"
            ],
            [
             0.3333333333333333,
             "#9c179e"
            ],
            [
             0.4444444444444444,
             "#bd3786"
            ],
            [
             0.5555555555555556,
             "#d8576b"
            ],
            [
             0.6666666666666666,
             "#ed7953"
            ],
            [
             0.7777777777777778,
             "#fb9f3a"
            ],
            [
             0.8888888888888888,
             "#fdca26"
            ],
            [
             1,
             "#f0f921"
            ]
           ]
          },
          "colorway": [
           "#636efa",
           "#EF553B",
           "#00cc96",
           "#ab63fa",
           "#FFA15A",
           "#19d3f3",
           "#FF6692",
           "#B6E880",
           "#FF97FF",
           "#FECB52"
          ],
          "font": {
           "color": "#2a3f5f"
          },
          "geo": {
           "bgcolor": "white",
           "lakecolor": "white",
           "landcolor": "#E5ECF6",
           "showlakes": true,
           "showland": true,
           "subunitcolor": "white"
          },
          "hoverlabel": {
           "align": "left"
          },
          "hovermode": "closest",
          "mapbox": {
           "style": "light"
          },
          "paper_bgcolor": "white",
          "plot_bgcolor": "#E5ECF6",
          "polar": {
           "angularaxis": {
            "gridcolor": "white",
            "linecolor": "white",
            "ticks": ""
           },
           "bgcolor": "#E5ECF6",
           "radialaxis": {
            "gridcolor": "white",
            "linecolor": "white",
            "ticks": ""
           }
          },
          "scene": {
           "xaxis": {
            "backgroundcolor": "#E5ECF6",
            "gridcolor": "white",
            "gridwidth": 2,
            "linecolor": "white",
            "showbackground": true,
            "ticks": "",
            "zerolinecolor": "white"
           },
           "yaxis": {
            "backgroundcolor": "#E5ECF6",
            "gridcolor": "white",
            "gridwidth": 2,
            "linecolor": "white",
            "showbackground": true,
            "ticks": "",
            "zerolinecolor": "white"
           },
           "zaxis": {
            "backgroundcolor": "#E5ECF6",
            "gridcolor": "white",
            "gridwidth": 2,
            "linecolor": "white",
            "showbackground": true,
            "ticks": "",
            "zerolinecolor": "white"
           }
          },
          "shapedefaults": {
           "line": {
            "color": "#2a3f5f"
           }
          },
          "ternary": {
           "aaxis": {
            "gridcolor": "white",
            "linecolor": "white",
            "ticks": ""
           },
           "baxis": {
            "gridcolor": "white",
            "linecolor": "white",
            "ticks": ""
           },
           "bgcolor": "#E5ECF6",
           "caxis": {
            "gridcolor": "white",
            "linecolor": "white",
            "ticks": ""
           }
          },
          "title": {
           "x": 0.05
          },
          "xaxis": {
           "automargin": true,
           "gridcolor": "white",
           "linecolor": "white",
           "ticks": "",
           "title": {
            "standoff": 15
           },
           "zerolinecolor": "white",
           "zerolinewidth": 2
          },
          "yaxis": {
           "automargin": true,
           "gridcolor": "white",
           "linecolor": "white",
           "ticks": "",
           "title": {
            "standoff": 15
           },
           "zerolinecolor": "white",
           "zerolinewidth": 2
          }
         }
        },
        "title": {
         "text": "ID: Four Key Metrics Over Time"
        },
        "width": 1200,
        "xaxis": {
         "domain": [
          0.2,
          0.8
         ]
        },
        "yaxis": {
         "tickfont": {
          "color": "#1f77b4"
         },
         "title": {
          "font": {
           "color": "#1f77b4"
          },
          "text": "Active Listings"
         }
        },
        "yaxis2": {
         "anchor": "free",
         "overlaying": "y",
         "position": 0.1,
         "side": "left",
         "tickfont": {
          "color": "#ff7f0e"
         },
         "title": {
          "font": {
           "color": "#ff7f0e"
          },
          "text": "Pending istings"
         }
        },
        "yaxis3": {
         "anchor": "x",
         "overlaying": "y",
         "side": "right",
         "tickfont": {
          "color": "#d62728"
         },
         "title": {
          "font": {
           "color": "#d62728"
          },
          "text": "Median Days on Market"
         }
        },
        "yaxis4": {
         "anchor": "free",
         "overlaying": "y",
         "position": 0.9,
         "side": "right",
         "tickfont": {
          "color": "#9467bd"
         },
         "title": {
          "font": {
           "color": "#9467bd"
          },
          "text": "Price Reductions"
         }
        }
       }
      }
     },
     "metadata": {},
     "output_type": "display_data"
    },
    {
     "data": {
      "application/vnd.plotly.v1+json": {
       "config": {
        "plotlyServerURL": "https://plot.ly"
       },
       "data": [
        {
         "name": "Active Listings",
         "type": "scatter",
         "x": [
          "2016-07-01T00:00:00",
          "2016-08-01T00:00:00",
          "2016-09-01T00:00:00",
          "2016-10-01T00:00:00",
          "2016-11-01T00:00:00",
          "2016-12-01T00:00:00",
          "2017-01-01T00:00:00",
          "2017-02-01T00:00:00",
          "2017-03-01T00:00:00",
          "2017-04-01T00:00:00",
          "2017-05-01T00:00:00",
          "2017-06-01T00:00:00",
          "2017-07-01T00:00:00",
          "2017-08-01T00:00:00",
          "2017-09-01T00:00:00",
          "2017-10-01T00:00:00",
          "2017-11-01T00:00:00",
          "2017-12-01T00:00:00",
          "2018-01-01T00:00:00",
          "2018-02-01T00:00:00",
          "2018-03-01T00:00:00",
          "2018-04-01T00:00:00",
          "2018-05-01T00:00:00",
          "2018-06-01T00:00:00",
          "2018-07-01T00:00:00",
          "2018-08-01T00:00:00",
          "2018-09-01T00:00:00",
          "2018-10-01T00:00:00",
          "2018-11-01T00:00:00",
          "2018-12-01T00:00:00",
          "2019-01-01T00:00:00",
          "2019-02-01T00:00:00",
          "2019-03-01T00:00:00",
          "2019-04-01T00:00:00",
          "2019-05-01T00:00:00",
          "2019-06-01T00:00:00",
          "2019-07-01T00:00:00",
          "2019-08-01T00:00:00",
          "2019-09-01T00:00:00",
          "2019-10-01T00:00:00",
          "2019-11-01T00:00:00",
          "2019-12-01T00:00:00",
          "2020-01-01T00:00:00",
          "2020-02-01T00:00:00",
          "2020-03-01T00:00:00",
          "2020-04-01T00:00:00",
          "2020-05-01T00:00:00",
          "2020-06-01T00:00:00",
          "2020-07-01T00:00:00",
          "2020-08-01T00:00:00",
          "2020-09-01T00:00:00",
          "2020-10-01T00:00:00",
          "2020-11-01T00:00:00",
          "2020-12-01T00:00:00",
          "2021-01-01T00:00:00",
          "2021-02-01T00:00:00",
          "2021-03-01T00:00:00",
          "2021-04-01T00:00:00",
          "2021-05-01T00:00:00",
          "2021-06-01T00:00:00",
          "2021-07-01T00:00:00",
          "2021-08-01T00:00:00",
          "2021-09-01T00:00:00",
          "2021-10-01T00:00:00",
          "2021-11-01T00:00:00",
          "2021-12-01T00:00:00",
          "2022-01-01T00:00:00",
          "2022-02-01T00:00:00",
          "2022-03-01T00:00:00",
          "2022-04-01T00:00:00",
          "2022-05-01T00:00:00",
          "2022-06-01T00:00:00",
          "2022-07-01T00:00:00",
          "2022-08-01T00:00:00",
          "2022-09-01T00:00:00",
          "2022-10-01T00:00:00"
         ],
         "y": [
          8357,
          8287,
          8122,
          7608,
          7142,
          6498,
          5804,
          5766,
          5874,
          6248,
          6820,
          7335,
          7667,
          7896,
          7767,
          7306,
          6818,
          6291,
          5633,
          5561,
          5655,
          5868,
          6417,
          7247,
          7809,
          7969,
          8067,
          7748,
          6965,
          6482,
          5858,
          5622,
          5430,
          5444,
          5877,
          6312,
          6678,
          6638,
          6442,
          6248,
          5626,
          5059,
          4524,
          4301,
          4373,
          4616,
          4589,
          4512,
          4155,
          3854,
          3485,
          3096,
          2698,
          2402,
          2078,
          1759,
          1732,
          1747,
          1911,
          2278,
          2644,
          2821,
          2792,
          2528,
          2138,
          1851,
          1593,
          1532,
          1520,
          1703,
          2310,
          2972,
          3690,
          4024,
          3918,
          3755
         ]
        },
        {
         "name": "Pending Listings",
         "type": "scatter",
         "x": [
          "2016-07-01T00:00:00",
          "2016-08-01T00:00:00",
          "2016-09-01T00:00:00",
          "2016-10-01T00:00:00",
          "2016-11-01T00:00:00",
          "2016-12-01T00:00:00",
          "2017-01-01T00:00:00",
          "2017-02-01T00:00:00",
          "2017-03-01T00:00:00",
          "2017-04-01T00:00:00",
          "2017-05-01T00:00:00",
          "2017-06-01T00:00:00",
          "2017-07-01T00:00:00",
          "2017-08-01T00:00:00",
          "2017-09-01T00:00:00",
          "2017-10-01T00:00:00",
          "2017-11-01T00:00:00",
          "2017-12-01T00:00:00",
          "2018-01-01T00:00:00",
          "2018-02-01T00:00:00",
          "2018-03-01T00:00:00",
          "2018-04-01T00:00:00",
          "2018-05-01T00:00:00",
          "2018-06-01T00:00:00",
          "2018-07-01T00:00:00",
          "2018-08-01T00:00:00",
          "2018-09-01T00:00:00",
          "2018-10-01T00:00:00",
          "2018-11-01T00:00:00",
          "2018-12-01T00:00:00",
          "2019-01-01T00:00:00",
          "2019-02-01T00:00:00",
          "2019-03-01T00:00:00",
          "2019-04-01T00:00:00",
          "2019-05-01T00:00:00",
          "2019-06-01T00:00:00",
          "2019-07-01T00:00:00",
          "2019-08-01T00:00:00",
          "2019-09-01T00:00:00",
          "2019-10-01T00:00:00",
          "2019-11-01T00:00:00",
          "2019-12-01T00:00:00",
          "2020-01-01T00:00:00",
          "2020-02-01T00:00:00",
          "2020-03-01T00:00:00",
          "2020-04-01T00:00:00",
          "2020-05-01T00:00:00",
          "2020-06-01T00:00:00",
          "2020-07-01T00:00:00",
          "2020-08-01T00:00:00",
          "2020-09-01T00:00:00",
          "2020-10-01T00:00:00",
          "2020-11-01T00:00:00",
          "2020-12-01T00:00:00",
          "2021-01-01T00:00:00",
          "2021-02-01T00:00:00",
          "2021-03-01T00:00:00",
          "2021-04-01T00:00:00",
          "2021-05-01T00:00:00",
          "2021-06-01T00:00:00",
          "2021-07-01T00:00:00",
          "2021-08-01T00:00:00",
          "2021-09-01T00:00:00",
          "2021-10-01T00:00:00",
          "2021-11-01T00:00:00",
          "2021-12-01T00:00:00",
          "2022-01-01T00:00:00",
          "2022-02-01T00:00:00",
          "2022-03-01T00:00:00",
          "2022-04-01T00:00:00",
          "2022-05-01T00:00:00",
          "2022-06-01T00:00:00",
          "2022-07-01T00:00:00",
          "2022-08-01T00:00:00",
          "2022-09-01T00:00:00",
          "2022-10-01T00:00:00"
         ],
         "y": [
          1540,
          1581,
          1538,
          1450,
          1264,
          877,
          808,
          978,
          1168,
          1422,
          1647,
          1348,
          1622,
          1703,
          1648,
          1616,
          1476,
          1263,
          1077,
          1301,
          1524,
          1788,
          2013,
          2038,
          1969,
          1977,
          1932,
          1719,
          1537,
          1228,
          1149,
          1277,
          1493,
          1716,
          2061,
          2165,
          2126,
          2030,
          1875,
          1743,
          1459,
          1212,
          1553,
          1887,
          2186,
          2077,
          2478,
          3241,
          3564,
          3981,
          3938,
          3591,
          2982,
          2556,
          2339,
          2650,
          2780,
          3055,
          3371,
          3376,
          3339,
          3232,
          3115,
          2948,
          2665,
          2225,
          1884,
          1999,
          2139,
          2349,
          2372,
          2264,
          2228,
          2156,
          2140,
          1788
         ],
         "yaxis": "y2"
        },
        {
         "name": "Median Days on Market",
         "type": "scatter",
         "x": [
          "2016-07-01T00:00:00",
          "2016-08-01T00:00:00",
          "2016-09-01T00:00:00",
          "2016-10-01T00:00:00",
          "2016-11-01T00:00:00",
          "2016-12-01T00:00:00",
          "2017-01-01T00:00:00",
          "2017-02-01T00:00:00",
          "2017-03-01T00:00:00",
          "2017-04-01T00:00:00",
          "2017-05-01T00:00:00",
          "2017-06-01T00:00:00",
          "2017-07-01T00:00:00",
          "2017-08-01T00:00:00",
          "2017-09-01T00:00:00",
          "2017-10-01T00:00:00",
          "2017-11-01T00:00:00",
          "2017-12-01T00:00:00",
          "2018-01-01T00:00:00",
          "2018-02-01T00:00:00",
          "2018-03-01T00:00:00",
          "2018-04-01T00:00:00",
          "2018-05-01T00:00:00",
          "2018-06-01T00:00:00",
          "2018-07-01T00:00:00",
          "2018-08-01T00:00:00",
          "2018-09-01T00:00:00",
          "2018-10-01T00:00:00",
          "2018-11-01T00:00:00",
          "2018-12-01T00:00:00",
          "2019-01-01T00:00:00",
          "2019-02-01T00:00:00",
          "2019-03-01T00:00:00",
          "2019-04-01T00:00:00",
          "2019-05-01T00:00:00",
          "2019-06-01T00:00:00",
          "2019-07-01T00:00:00",
          "2019-08-01T00:00:00",
          "2019-09-01T00:00:00",
          "2019-10-01T00:00:00",
          "2019-11-01T00:00:00",
          "2019-12-01T00:00:00",
          "2020-01-01T00:00:00",
          "2020-02-01T00:00:00",
          "2020-03-01T00:00:00",
          "2020-04-01T00:00:00",
          "2020-05-01T00:00:00",
          "2020-06-01T00:00:00",
          "2020-07-01T00:00:00",
          "2020-08-01T00:00:00",
          "2020-09-01T00:00:00",
          "2020-10-01T00:00:00",
          "2020-11-01T00:00:00",
          "2020-12-01T00:00:00",
          "2021-01-01T00:00:00",
          "2021-02-01T00:00:00",
          "2021-03-01T00:00:00",
          "2021-04-01T00:00:00",
          "2021-05-01T00:00:00",
          "2021-06-01T00:00:00",
          "2021-07-01T00:00:00",
          "2021-08-01T00:00:00",
          "2021-09-01T00:00:00",
          "2021-10-01T00:00:00",
          "2021-11-01T00:00:00",
          "2021-12-01T00:00:00",
          "2022-01-01T00:00:00",
          "2022-02-01T00:00:00",
          "2022-03-01T00:00:00",
          "2022-04-01T00:00:00",
          "2022-05-01T00:00:00",
          "2022-06-01T00:00:00",
          "2022-07-01T00:00:00",
          "2022-08-01T00:00:00",
          "2022-09-01T00:00:00",
          "2022-10-01T00:00:00"
         ],
         "y": [
          86,
          95,
          102,
          109,
          104,
          117,
          128,
          129,
          142,
          102,
          79,
          73,
          77,
          84,
          94,
          107,
          115,
          128,
          137,
          138,
          134,
          98,
          77,
          66,
          72,
          79,
          91,
          101,
          114,
          128,
          140,
          144,
          135,
          115,
          81,
          65,
          69,
          77,
          87,
          97,
          110,
          128,
          138,
          141,
          123,
          99,
          88,
          84,
          76,
          72,
          76,
          81,
          92,
          100,
          103,
          98,
          64,
          52,
          44,
          43,
          43,
          53,
          61,
          71,
          88,
          90,
          100,
          85,
          67,
          50,
          37,
          38,
          44,
          52,
          65,
          75
         ],
         "yaxis": "y3"
        },
        {
         "name": "Price Reductions",
         "type": "scatter",
         "x": [
          "2016-07-01T00:00:00",
          "2016-08-01T00:00:00",
          "2016-09-01T00:00:00",
          "2016-10-01T00:00:00",
          "2016-11-01T00:00:00",
          "2016-12-01T00:00:00",
          "2017-01-01T00:00:00",
          "2017-02-01T00:00:00",
          "2017-03-01T00:00:00",
          "2017-04-01T00:00:00",
          "2017-05-01T00:00:00",
          "2017-06-01T00:00:00",
          "2017-07-01T00:00:00",
          "2017-08-01T00:00:00",
          "2017-09-01T00:00:00",
          "2017-10-01T00:00:00",
          "2017-11-01T00:00:00",
          "2017-12-01T00:00:00",
          "2018-01-01T00:00:00",
          "2018-02-01T00:00:00",
          "2018-03-01T00:00:00",
          "2018-04-01T00:00:00",
          "2018-05-01T00:00:00",
          "2018-06-01T00:00:00",
          "2018-07-01T00:00:00",
          "2018-08-01T00:00:00",
          "2018-09-01T00:00:00",
          "2018-10-01T00:00:00",
          "2018-11-01T00:00:00",
          "2018-12-01T00:00:00",
          "2019-01-01T00:00:00",
          "2019-02-01T00:00:00",
          "2019-03-01T00:00:00",
          "2019-04-01T00:00:00",
          "2019-05-01T00:00:00",
          "2019-06-01T00:00:00",
          "2019-07-01T00:00:00",
          "2019-08-01T00:00:00",
          "2019-09-01T00:00:00",
          "2019-10-01T00:00:00",
          "2019-11-01T00:00:00",
          "2019-12-01T00:00:00",
          "2020-01-01T00:00:00",
          "2020-02-01T00:00:00",
          "2020-03-01T00:00:00",
          "2020-04-01T00:00:00",
          "2020-05-01T00:00:00",
          "2020-06-01T00:00:00",
          "2020-07-01T00:00:00",
          "2020-08-01T00:00:00",
          "2020-09-01T00:00:00",
          "2020-10-01T00:00:00",
          "2020-11-01T00:00:00",
          "2020-12-01T00:00:00",
          "2021-01-01T00:00:00",
          "2021-02-01T00:00:00",
          "2021-03-01T00:00:00",
          "2021-04-01T00:00:00",
          "2021-05-01T00:00:00",
          "2021-06-01T00:00:00",
          "2021-07-01T00:00:00",
          "2021-08-01T00:00:00",
          "2021-09-01T00:00:00",
          "2021-10-01T00:00:00",
          "2021-11-01T00:00:00",
          "2021-12-01T00:00:00",
          "2022-01-01T00:00:00",
          "2022-02-01T00:00:00",
          "2022-03-01T00:00:00",
          "2022-04-01T00:00:00",
          "2022-05-01T00:00:00",
          "2022-06-01T00:00:00",
          "2022-07-01T00:00:00",
          "2022-08-01T00:00:00",
          "2022-09-01T00:00:00",
          "2022-10-01T00:00:00"
         ],
         "y": [
          1412,
          1490,
          1316,
          1024,
          756,
          352,
          448,
          452,
          556,
          820,
          926,
          1190,
          1432,
          1406,
          1272,
          1074,
          774,
          416,
          480,
          486,
          624,
          892,
          1194,
          1452,
          1844,
          1892,
          1732,
          1534,
          1142,
          680,
          670,
          602,
          632,
          722,
          988,
          1236,
          1628,
          1412,
          1204,
          1088,
          824,
          390,
          428,
          468,
          594,
          460,
          620,
          770,
          694,
          748,
          608,
          496,
          366,
          230,
          212,
          180,
          200,
          202,
          304,
          430,
          644,
          730,
          670,
          472,
          350,
          190,
          140,
          164,
          182,
          328,
          588,
          1064,
          1372,
          1388,
          1364,
          1148
         ],
         "yaxis": "y4"
        }
       ],
       "layout": {
        "template": {
         "data": {
          "bar": [
           {
            "error_x": {
             "color": "#2a3f5f"
            },
            "error_y": {
             "color": "#2a3f5f"
            },
            "marker": {
             "line": {
              "color": "#E5ECF6",
              "width": 0.5
             },
             "pattern": {
              "fillmode": "overlay",
              "size": 10,
              "solidity": 0.2
             }
            },
            "type": "bar"
           }
          ],
          "barpolar": [
           {
            "marker": {
             "line": {
              "color": "#E5ECF6",
              "width": 0.5
             },
             "pattern": {
              "fillmode": "overlay",
              "size": 10,
              "solidity": 0.2
             }
            },
            "type": "barpolar"
           }
          ],
          "carpet": [
           {
            "aaxis": {
             "endlinecolor": "#2a3f5f",
             "gridcolor": "white",
             "linecolor": "white",
             "minorgridcolor": "white",
             "startlinecolor": "#2a3f5f"
            },
            "baxis": {
             "endlinecolor": "#2a3f5f",
             "gridcolor": "white",
             "linecolor": "white",
             "minorgridcolor": "white",
             "startlinecolor": "#2a3f5f"
            },
            "type": "carpet"
           }
          ],
          "choropleth": [
           {
            "colorbar": {
             "outlinewidth": 0,
             "ticks": ""
            },
            "type": "choropleth"
           }
          ],
          "contour": [
           {
            "colorbar": {
             "outlinewidth": 0,
             "ticks": ""
            },
            "colorscale": [
             [
              0,
              "#0d0887"
             ],
             [
              0.1111111111111111,
              "#46039f"
             ],
             [
              0.2222222222222222,
              "#7201a8"
             ],
             [
              0.3333333333333333,
              "#9c179e"
             ],
             [
              0.4444444444444444,
              "#bd3786"
             ],
             [
              0.5555555555555556,
              "#d8576b"
             ],
             [
              0.6666666666666666,
              "#ed7953"
             ],
             [
              0.7777777777777778,
              "#fb9f3a"
             ],
             [
              0.8888888888888888,
              "#fdca26"
             ],
             [
              1,
              "#f0f921"
             ]
            ],
            "type": "contour"
           }
          ],
          "contourcarpet": [
           {
            "colorbar": {
             "outlinewidth": 0,
             "ticks": ""
            },
            "type": "contourcarpet"
           }
          ],
          "heatmap": [
           {
            "colorbar": {
             "outlinewidth": 0,
             "ticks": ""
            },
            "colorscale": [
             [
              0,
              "#0d0887"
             ],
             [
              0.1111111111111111,
              "#46039f"
             ],
             [
              0.2222222222222222,
              "#7201a8"
             ],
             [
              0.3333333333333333,
              "#9c179e"
             ],
             [
              0.4444444444444444,
              "#bd3786"
             ],
             [
              0.5555555555555556,
              "#d8576b"
             ],
             [
              0.6666666666666666,
              "#ed7953"
             ],
             [
              0.7777777777777778,
              "#fb9f3a"
             ],
             [
              0.8888888888888888,
              "#fdca26"
             ],
             [
              1,
              "#f0f921"
             ]
            ],
            "type": "heatmap"
           }
          ],
          "heatmapgl": [
           {
            "colorbar": {
             "outlinewidth": 0,
             "ticks": ""
            },
            "colorscale": [
             [
              0,
              "#0d0887"
             ],
             [
              0.1111111111111111,
              "#46039f"
             ],
             [
              0.2222222222222222,
              "#7201a8"
             ],
             [
              0.3333333333333333,
              "#9c179e"
             ],
             [
              0.4444444444444444,
              "#bd3786"
             ],
             [
              0.5555555555555556,
              "#d8576b"
             ],
             [
              0.6666666666666666,
              "#ed7953"
             ],
             [
              0.7777777777777778,
              "#fb9f3a"
             ],
             [
              0.8888888888888888,
              "#fdca26"
             ],
             [
              1,
              "#f0f921"
             ]
            ],
            "type": "heatmapgl"
           }
          ],
          "histogram": [
           {
            "marker": {
             "pattern": {
              "fillmode": "overlay",
              "size": 10,
              "solidity": 0.2
             }
            },
            "type": "histogram"
           }
          ],
          "histogram2d": [
           {
            "colorbar": {
             "outlinewidth": 0,
             "ticks": ""
            },
            "colorscale": [
             [
              0,
              "#0d0887"
             ],
             [
              0.1111111111111111,
              "#46039f"
             ],
             [
              0.2222222222222222,
              "#7201a8"
             ],
             [
              0.3333333333333333,
              "#9c179e"
             ],
             [
              0.4444444444444444,
              "#bd3786"
             ],
             [
              0.5555555555555556,
              "#d8576b"
             ],
             [
              0.6666666666666666,
              "#ed7953"
             ],
             [
              0.7777777777777778,
              "#fb9f3a"
             ],
             [
              0.8888888888888888,
              "#fdca26"
             ],
             [
              1,
              "#f0f921"
             ]
            ],
            "type": "histogram2d"
           }
          ],
          "histogram2dcontour": [
           {
            "colorbar": {
             "outlinewidth": 0,
             "ticks": ""
            },
            "colorscale": [
             [
              0,
              "#0d0887"
             ],
             [
              0.1111111111111111,
              "#46039f"
             ],
             [
              0.2222222222222222,
              "#7201a8"
             ],
             [
              0.3333333333333333,
              "#9c179e"
             ],
             [
              0.4444444444444444,
              "#bd3786"
             ],
             [
              0.5555555555555556,
              "#d8576b"
             ],
             [
              0.6666666666666666,
              "#ed7953"
             ],
             [
              0.7777777777777778,
              "#fb9f3a"
             ],
             [
              0.8888888888888888,
              "#fdca26"
             ],
             [
              1,
              "#f0f921"
             ]
            ],
            "type": "histogram2dcontour"
           }
          ],
          "mesh3d": [
           {
            "colorbar": {
             "outlinewidth": 0,
             "ticks": ""
            },
            "type": "mesh3d"
           }
          ],
          "parcoords": [
           {
            "line": {
             "colorbar": {
              "outlinewidth": 0,
              "ticks": ""
             }
            },
            "type": "parcoords"
           }
          ],
          "pie": [
           {
            "automargin": true,
            "type": "pie"
           }
          ],
          "scatter": [
           {
            "fillpattern": {
             "fillmode": "overlay",
             "size": 10,
             "solidity": 0.2
            },
            "type": "scatter"
           }
          ],
          "scatter3d": [
           {
            "line": {
             "colorbar": {
              "outlinewidth": 0,
              "ticks": ""
             }
            },
            "marker": {
             "colorbar": {
              "outlinewidth": 0,
              "ticks": ""
             }
            },
            "type": "scatter3d"
           }
          ],
          "scattercarpet": [
           {
            "marker": {
             "colorbar": {
              "outlinewidth": 0,
              "ticks": ""
             }
            },
            "type": "scattercarpet"
           }
          ],
          "scattergeo": [
           {
            "marker": {
             "colorbar": {
              "outlinewidth": 0,
              "ticks": ""
             }
            },
            "type": "scattergeo"
           }
          ],
          "scattergl": [
           {
            "marker": {
             "colorbar": {
              "outlinewidth": 0,
              "ticks": ""
             }
            },
            "type": "scattergl"
           }
          ],
          "scattermapbox": [
           {
            "marker": {
             "colorbar": {
              "outlinewidth": 0,
              "ticks": ""
             }
            },
            "type": "scattermapbox"
           }
          ],
          "scatterpolar": [
           {
            "marker": {
             "colorbar": {
              "outlinewidth": 0,
              "ticks": ""
             }
            },
            "type": "scatterpolar"
           }
          ],
          "scatterpolargl": [
           {
            "marker": {
             "colorbar": {
              "outlinewidth": 0,
              "ticks": ""
             }
            },
            "type": "scatterpolargl"
           }
          ],
          "scatterternary": [
           {
            "marker": {
             "colorbar": {
              "outlinewidth": 0,
              "ticks": ""
             }
            },
            "type": "scatterternary"
           }
          ],
          "surface": [
           {
            "colorbar": {
             "outlinewidth": 0,
             "ticks": ""
            },
            "colorscale": [
             [
              0,
              "#0d0887"
             ],
             [
              0.1111111111111111,
              "#46039f"
             ],
             [
              0.2222222222222222,
              "#7201a8"
             ],
             [
              0.3333333333333333,
              "#9c179e"
             ],
             [
              0.4444444444444444,
              "#bd3786"
             ],
             [
              0.5555555555555556,
              "#d8576b"
             ],
             [
              0.6666666666666666,
              "#ed7953"
             ],
             [
              0.7777777777777778,
              "#fb9f3a"
             ],
             [
              0.8888888888888888,
              "#fdca26"
             ],
             [
              1,
              "#f0f921"
             ]
            ],
            "type": "surface"
           }
          ],
          "table": [
           {
            "cells": {
             "fill": {
              "color": "#EBF0F8"
             },
             "line": {
              "color": "white"
             }
            },
            "header": {
             "fill": {
              "color": "#C8D4E3"
             },
             "line": {
              "color": "white"
             }
            },
            "type": "table"
           }
          ]
         },
         "layout": {
          "annotationdefaults": {
           "arrowcolor": "#2a3f5f",
           "arrowhead": 0,
           "arrowwidth": 1
          },
          "autotypenumbers": "strict",
          "coloraxis": {
           "colorbar": {
            "outlinewidth": 0,
            "ticks": ""
           }
          },
          "colorscale": {
           "diverging": [
            [
             0,
             "#8e0152"
            ],
            [
             0.1,
             "#c51b7d"
            ],
            [
             0.2,
             "#de77ae"
            ],
            [
             0.3,
             "#f1b6da"
            ],
            [
             0.4,
             "#fde0ef"
            ],
            [
             0.5,
             "#f7f7f7"
            ],
            [
             0.6,
             "#e6f5d0"
            ],
            [
             0.7,
             "#b8e186"
            ],
            [
             0.8,
             "#7fbc41"
            ],
            [
             0.9,
             "#4d9221"
            ],
            [
             1,
             "#276419"
            ]
           ],
           "sequential": [
            [
             0,
             "#0d0887"
            ],
            [
             0.1111111111111111,
             "#46039f"
            ],
            [
             0.2222222222222222,
             "#7201a8"
            ],
            [
             0.3333333333333333,
             "#9c179e"
            ],
            [
             0.4444444444444444,
             "#bd3786"
            ],
            [
             0.5555555555555556,
             "#d8576b"
            ],
            [
             0.6666666666666666,
             "#ed7953"
            ],
            [
             0.7777777777777778,
             "#fb9f3a"
            ],
            [
             0.8888888888888888,
             "#fdca26"
            ],
            [
             1,
             "#f0f921"
            ]
           ],
           "sequentialminus": [
            [
             0,
             "#0d0887"
            ],
            [
             0.1111111111111111,
             "#46039f"
            ],
            [
             0.2222222222222222,
             "#7201a8"
            ],
            [
             0.3333333333333333,
             "#9c179e"
            ],
            [
             0.4444444444444444,
             "#bd3786"
            ],
            [
             0.5555555555555556,
             "#d8576b"
            ],
            [
             0.6666666666666666,
             "#ed7953"
            ],
            [
             0.7777777777777778,
             "#fb9f3a"
            ],
            [
             0.8888888888888888,
             "#fdca26"
            ],
            [
             1,
             "#f0f921"
            ]
           ]
          },
          "colorway": [
           "#636efa",
           "#EF553B",
           "#00cc96",
           "#ab63fa",
           "#FFA15A",
           "#19d3f3",
           "#FF6692",
           "#B6E880",
           "#FF97FF",
           "#FECB52"
          ],
          "font": {
           "color": "#2a3f5f"
          },
          "geo": {
           "bgcolor": "white",
           "lakecolor": "white",
           "landcolor": "#E5ECF6",
           "showlakes": true,
           "showland": true,
           "subunitcolor": "white"
          },
          "hoverlabel": {
           "align": "left"
          },
          "hovermode": "closest",
          "mapbox": {
           "style": "light"
          },
          "paper_bgcolor": "white",
          "plot_bgcolor": "#E5ECF6",
          "polar": {
           "angularaxis": {
            "gridcolor": "white",
            "linecolor": "white",
            "ticks": ""
           },
           "bgcolor": "#E5ECF6",
           "radialaxis": {
            "gridcolor": "white",
            "linecolor": "white",
            "ticks": ""
           }
          },
          "scene": {
           "xaxis": {
            "backgroundcolor": "#E5ECF6",
            "gridcolor": "white",
            "gridwidth": 2,
            "linecolor": "white",
            "showbackground": true,
            "ticks": "",
            "zerolinecolor": "white"
           },
           "yaxis": {
            "backgroundcolor": "#E5ECF6",
            "gridcolor": "white",
            "gridwidth": 2,
            "linecolor": "white",
            "showbackground": true,
            "ticks": "",
            "zerolinecolor": "white"
           },
           "zaxis": {
            "backgroundcolor": "#E5ECF6",
            "gridcolor": "white",
            "gridwidth": 2,
            "linecolor": "white",
            "showbackground": true,
            "ticks": "",
            "zerolinecolor": "white"
           }
          },
          "shapedefaults": {
           "line": {
            "color": "#2a3f5f"
           }
          },
          "ternary": {
           "aaxis": {
            "gridcolor": "white",
            "linecolor": "white",
            "ticks": ""
           },
           "baxis": {
            "gridcolor": "white",
            "linecolor": "white",
            "ticks": ""
           },
           "bgcolor": "#E5ECF6",
           "caxis": {
            "gridcolor": "white",
            "linecolor": "white",
            "ticks": ""
           }
          },
          "title": {
           "x": 0.05
          },
          "xaxis": {
           "automargin": true,
           "gridcolor": "white",
           "linecolor": "white",
           "ticks": "",
           "title": {
            "standoff": 15
           },
           "zerolinecolor": "white",
           "zerolinewidth": 2
          },
          "yaxis": {
           "automargin": true,
           "gridcolor": "white",
           "linecolor": "white",
           "ticks": "",
           "title": {
            "standoff": 15
           },
           "zerolinecolor": "white",
           "zerolinewidth": 2
          }
         }
        },
        "title": {
         "text": "MT: Four Key Metrics Over Time"
        },
        "width": 1200,
        "xaxis": {
         "domain": [
          0.2,
          0.8
         ]
        },
        "yaxis": {
         "tickfont": {
          "color": "#1f77b4"
         },
         "title": {
          "font": {
           "color": "#1f77b4"
          },
          "text": "Active Listings"
         }
        },
        "yaxis2": {
         "anchor": "free",
         "overlaying": "y",
         "position": 0.1,
         "side": "left",
         "tickfont": {
          "color": "#ff7f0e"
         },
         "title": {
          "font": {
           "color": "#ff7f0e"
          },
          "text": "Pending istings"
         }
        },
        "yaxis3": {
         "anchor": "x",
         "overlaying": "y",
         "side": "right",
         "tickfont": {
          "color": "#d62728"
         },
         "title": {
          "font": {
           "color": "#d62728"
          },
          "text": "Median Days on Market"
         }
        },
        "yaxis4": {
         "anchor": "free",
         "overlaying": "y",
         "position": 0.9,
         "side": "right",
         "tickfont": {
          "color": "#9467bd"
         },
         "title": {
          "font": {
           "color": "#9467bd"
          },
          "text": "Price Reductions"
         }
        }
       }
      }
     },
     "metadata": {},
     "output_type": "display_data"
    }
   ],
   "source": [
    "states = ['CA','CO','ID','MT']\n",
    "\n",
    "for i in states:\n",
    "    four_key_metric_plot(state = i).show(renderer = 'svg')\n"
   ]
  }
 ],
 "metadata": {
  "kernelspec": {
   "display_name": "Python 3.9.13 ('myenv')",
   "language": "python",
   "name": "python3"
  },
  "language_info": {
   "codemirror_mode": {
    "name": "ipython",
    "version": 3
   },
   "file_extension": ".py",
   "mimetype": "text/x-python",
   "name": "python",
   "nbconvert_exporter": "python",
   "pygments_lexer": "ipython3",
   "version": "3.9.13"
  },
  "orig_nbformat": 4,
  "vscode": {
   "interpreter": {
    "hash": "2189321822805078e0453408601d53350d8c5616eecaffabadf8631a8d2d0c7b"
   }
  }
 },
 "nbformat": 4,
 "nbformat_minor": 2
}
