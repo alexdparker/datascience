{
 "cells": [
  {
   "cell_type": "code",
   "execution_count": 8,
   "metadata": {},
   "outputs": [],
   "source": [
    "import numpy as np\n",
    "import pandas as pd\n",
    "import datetime\n",
    "import seaborn as sns\n",
    "import plotly.express as px \n",
    "import plotly.graph_objects as go\n",
    "from plotly.subplots import make_subplots\n",
    "pd.set_option('display.max_columns', 500)"
   ]
  },
  {
   "cell_type": "code",
   "execution_count": 34,
   "metadata": {},
   "outputs": [],
   "source": [
    "realtor_data_raw = pd.read_csv(\"https://econdata.s3-us-west-2.amazonaws.com/Reports/Core/RDC_Inventory_Core_Metrics_State_History.csv\")\n",
    "\n",
    "# for some reason the final row was corrupt with a note\n",
    "realtor_data = realtor_data_raw.drop(realtor_data_raw.tail(1).index)\n",
    "\n",
    "realtor_data = (realtor_data\n",
    "    .assign(month_date_yyyymm = (realtor_data['month_date_yyyymm'] + \"01\").astype('datetime64'))\n",
    "    .rename(columns = {'month_date_yyyymm':'month'})\n",
    "    .astype({'state':'category','state_id':'category'})\n",
    "    .sort_values(by = ['state','month'], ascending = True)\n",
    "    )\n",
    "\n"
   ]
  },
  {
   "cell_type": "code",
   "execution_count": 4,
   "metadata": {},
   "outputs": [
    {
     "data": {
      "text/plain": [
       "Index(['month', 'state', 'state_id', 'median_listing_price',\n",
       "       'median_listing_price_mm', 'median_listing_price_yy',\n",
       "       'active_listing_count', 'active_listing_count_mm',\n",
       "       'active_listing_count_yy', 'median_days_on_market',\n",
       "       'median_days_on_market_mm', 'median_days_on_market_yy',\n",
       "       'new_listing_count', 'new_listing_count_mm', 'new_listing_count_yy',\n",
       "       'price_increased_count', 'price_increased_count_mm',\n",
       "       'price_increased_count_yy', 'price_reduced_count',\n",
       "       'price_reduced_count_mm', 'price_reduced_count_yy',\n",
       "       'pending_listing_count', 'pending_listing_count_mm',\n",
       "       'pending_listing_count_yy', 'median_listing_price_per_square_foot',\n",
       "       'median_listing_price_per_square_foot_mm',\n",
       "       'median_listing_price_per_square_foot_yy', 'median_square_feet',\n",
       "       'median_square_feet_mm', 'median_square_feet_yy',\n",
       "       'average_listing_price', 'average_listing_price_mm',\n",
       "       'average_listing_price_yy', 'total_listing_count',\n",
       "       'total_listing_count_mm', 'total_listing_count_yy', 'pending_ratio',\n",
       "       'pending_ratio_mm', 'pending_ratio_yy', 'quality_flag'],\n",
       "      dtype='object')"
      ]
     },
     "execution_count": 4,
     "metadata": {},
     "output_type": "execute_result"
    }
   ],
   "source": [
    "realtor_data.columns"
   ]
  },
  {
   "cell_type": "code",
   "execution_count": 5,
   "metadata": {},
   "outputs": [
    {
     "data": {
      "text/html": [
       "<div>\n",
       "<style scoped>\n",
       "    .dataframe tbody tr th:only-of-type {\n",
       "        vertical-align: middle;\n",
       "    }\n",
       "\n",
       "    .dataframe tbody tr th {\n",
       "        vertical-align: top;\n",
       "    }\n",
       "\n",
       "    .dataframe thead th {\n",
       "        text-align: right;\n",
       "    }\n",
       "</style>\n",
       "<table border=\"1\" class=\"dataframe\">\n",
       "  <thead>\n",
       "    <tr style=\"text-align: right;\">\n",
       "      <th></th>\n",
       "      <th>month</th>\n",
       "      <th>state</th>\n",
       "      <th>state_id</th>\n",
       "      <th>median_listing_price</th>\n",
       "      <th>active_listing_count</th>\n",
       "      <th>median_days_on_market</th>\n",
       "      <th>new_listing_count</th>\n",
       "      <th>price_increased_count</th>\n",
       "      <th>price_reduced_count</th>\n",
       "      <th>pending_listing_count</th>\n",
       "      <th>median_square_feet</th>\n",
       "      <th>average_listing_price</th>\n",
       "    </tr>\n",
       "  </thead>\n",
       "  <tbody>\n",
       "    <tr>\n",
       "      <th>3783</th>\n",
       "      <td>2016-07-01</td>\n",
       "      <td>Alabama</td>\n",
       "      <td>AL</td>\n",
       "      <td>185448.0</td>\n",
       "      <td>30503.0</td>\n",
       "      <td>90.0</td>\n",
       "      <td>7828.0</td>\n",
       "      <td>364.0</td>\n",
       "      <td>6078.0</td>\n",
       "      <td>1872.0</td>\n",
       "      <td>1974.0</td>\n",
       "      <td>251720.0</td>\n",
       "    </tr>\n",
       "    <tr>\n",
       "      <th>3739</th>\n",
       "      <td>2016-08-01</td>\n",
       "      <td>Alabama</td>\n",
       "      <td>AL</td>\n",
       "      <td>185000.0</td>\n",
       "      <td>29933.0</td>\n",
       "      <td>94.0</td>\n",
       "      <td>7182.0</td>\n",
       "      <td>452.0</td>\n",
       "      <td>5864.0</td>\n",
       "      <td>1905.0</td>\n",
       "      <td>1974.0</td>\n",
       "      <td>250583.0</td>\n",
       "    </tr>\n",
       "    <tr>\n",
       "      <th>3683</th>\n",
       "      <td>2016-09-01</td>\n",
       "      <td>Alabama</td>\n",
       "      <td>AL</td>\n",
       "      <td>184900.0</td>\n",
       "      <td>29563.0</td>\n",
       "      <td>96.0</td>\n",
       "      <td>7066.0</td>\n",
       "      <td>424.0</td>\n",
       "      <td>5790.0</td>\n",
       "      <td>1736.0</td>\n",
       "      <td>1959.0</td>\n",
       "      <td>248467.0</td>\n",
       "    </tr>\n",
       "    <tr>\n",
       "      <th>3621</th>\n",
       "      <td>2016-10-01</td>\n",
       "      <td>Alabama</td>\n",
       "      <td>AL</td>\n",
       "      <td>182900.0</td>\n",
       "      <td>28927.0</td>\n",
       "      <td>100.0</td>\n",
       "      <td>6420.0</td>\n",
       "      <td>520.0</td>\n",
       "      <td>5272.0</td>\n",
       "      <td>1617.0</td>\n",
       "      <td>1950.0</td>\n",
       "      <td>250291.0</td>\n",
       "    </tr>\n",
       "    <tr>\n",
       "      <th>3603</th>\n",
       "      <td>2016-11-01</td>\n",
       "      <td>Alabama</td>\n",
       "      <td>AL</td>\n",
       "      <td>180500.0</td>\n",
       "      <td>27931.0</td>\n",
       "      <td>107.0</td>\n",
       "      <td>5680.0</td>\n",
       "      <td>384.0</td>\n",
       "      <td>3946.0</td>\n",
       "      <td>1452.0</td>\n",
       "      <td>1950.0</td>\n",
       "      <td>247254.0</td>\n",
       "    </tr>\n",
       "  </tbody>\n",
       "</table>\n",
       "</div>"
      ],
      "text/plain": [
       "          month    state state_id  median_listing_price  active_listing_count  \\\n",
       "3783 2016-07-01  Alabama       AL              185448.0               30503.0   \n",
       "3739 2016-08-01  Alabama       AL              185000.0               29933.0   \n",
       "3683 2016-09-01  Alabama       AL              184900.0               29563.0   \n",
       "3621 2016-10-01  Alabama       AL              182900.0               28927.0   \n",
       "3603 2016-11-01  Alabama       AL              180500.0               27931.0   \n",
       "\n",
       "      median_days_on_market  new_listing_count  price_increased_count  \\\n",
       "3783                   90.0             7828.0                  364.0   \n",
       "3739                   94.0             7182.0                  452.0   \n",
       "3683                   96.0             7066.0                  424.0   \n",
       "3621                  100.0             6420.0                  520.0   \n",
       "3603                  107.0             5680.0                  384.0   \n",
       "\n",
       "      price_reduced_count  pending_listing_count  median_square_feet  \\\n",
       "3783               6078.0                 1872.0              1974.0   \n",
       "3739               5864.0                 1905.0              1974.0   \n",
       "3683               5790.0                 1736.0              1959.0   \n",
       "3621               5272.0                 1617.0              1950.0   \n",
       "3603               3946.0                 1452.0              1950.0   \n",
       "\n",
       "      average_listing_price  \n",
       "3783               251720.0  \n",
       "3739               250583.0  \n",
       "3683               248467.0  \n",
       "3621               250291.0  \n",
       "3603               247254.0  "
      ]
     },
     "execution_count": 5,
     "metadata": {},
     "output_type": "execute_result"
    }
   ],
   "source": [
    "cols = ['month', 'state', 'state_id', \n",
    "       'median_listing_price',\n",
    "       #'median_listing_price_mm', 'median_listing_price_yy',\n",
    "       'active_listing_count', #'active_listing_count_mm',\n",
    "       #'active_listing_count_yy', \n",
    "       'median_days_on_market',\n",
    "       #'median_days_on_market_mm', 'median_days_on_market_yy',\n",
    "       'new_listing_count', \n",
    "       #'new_listing_count_mm', 'new_listing_count_yy',\n",
    "       'price_increased_count', \n",
    "       #'price_increased_count_mm','price_increased_count_yy', \n",
    "       'price_reduced_count',\n",
    "       #'price_reduced_count_mm', 'price_reduced_count_yy',\n",
    "       'pending_listing_count', \n",
    "       #'pending_listing_count_mm', 'pending_listing_count_yy',\n",
    "       #'median_listing_price_per_square_foot',\n",
    "       #'median_listing_price_per_square_foot_mm','median_listing_price_per_square_foot_yy', \n",
    "       'median_square_feet',\n",
    "       #'median_square_feet_mm', 'median_square_feet_yy',\n",
    "       'average_listing_price', \n",
    "       #'average_listing_price_mm', 'average_listing_price_yy', \n",
    "       # 'total_listing_count',\n",
    "       #'total_listing_count_mm', 'total_listing_count_yy', 'pending_ratio',\n",
    "       #'pending_ratio_mm', 'pending_ratio_yy', 'quality_flag'\n",
    "       ]\n",
    "\n",
    "realtor_data[cols].head()"
   ]
  },
  {
   "cell_type": "code",
   "execution_count": 35,
   "metadata": {},
   "outputs": [],
   "source": [
    "realtor_data = realtor_data.assign(\n",
    "        month_num = lambda x: x.month.dt.month,\n",
    "        year = lambda x: x.month.dt.year)\n",
    "\n",
    "# percent change month over month\n",
    "realtor_data['pct_ch_med_list_mm'] = realtor_data.median_listing_price.pct_change(periods = 1)*100\n",
    "realtor_data['pct_ch_active_list_mm'] = realtor_data.active_listing_count.pct_change(periods = 1)*100\n",
    "realtor_data['pct_ch_med_days_mm'] = realtor_data.median_days_on_market.pct_change(periods = 1)*100\n",
    "realtor_data['pct_ch_new_list_mm'] = realtor_data.new_listing_count.pct_change(periods = 1)*100\n",
    "realtor_data['pct_ch_price_inc_mm'] = realtor_data.price_increased_count.pct_change(periods = 1)*100\n",
    "realtor_data['pct_ch_price_red_mm'] = realtor_data.price_reduced_count.pct_change(periods = 1)*100\n",
    "realtor_data['pct_ch_pending_mm'] = realtor_data.pending_listing_count.pct_change(periods = 1)*100\n",
    "\n",
    "# percent change year over year\n",
    "realtor_data['pct_ch_med_list_yy'] = realtor_data.median_listing_price.pct_change(periods =12)*100\n",
    "realtor_data['pct_ch_active_list_yy'] = realtor_data.active_listing_count.pct_change(periods =12)*100\n",
    "realtor_data['pct_ch_med_days_yy'] = realtor_data.median_days_on_market.pct_change(periods =12)*100\n",
    "realtor_data['pct_ch_new_list_yy'] = realtor_data.new_listing_count.pct_change(periods =12)*100\n",
    "realtor_data['pct_ch_price_inc_yy'] = realtor_data.price_increased_count.pct_change(periods =12)*100\n",
    "realtor_data['pct_ch_price_red_yy'] = realtor_data.price_reduced_count.pct_change(periods =12)*100\n",
    "realtor_data['pct_ch_pending_yy'] = realtor_data.pending_listing_count.pct_change(periods =12)*100"
   ]
  },
  {
   "cell_type": "code",
   "execution_count": 43,
   "metadata": {},
   "outputs": [
    {
     "data": {
      "text/html": [
       "<div>\n",
       "<style scoped>\n",
       "    .dataframe tbody tr th:only-of-type {\n",
       "        vertical-align: middle;\n",
       "    }\n",
       "\n",
       "    .dataframe tbody tr th {\n",
       "        vertical-align: top;\n",
       "    }\n",
       "\n",
       "    .dataframe thead th {\n",
       "        text-align: right;\n",
       "    }\n",
       "</style>\n",
       "<table border=\"1\" class=\"dataframe\">\n",
       "  <thead>\n",
       "    <tr style=\"text-align: right;\">\n",
       "      <th></th>\n",
       "      <th>state</th>\n",
       "      <th>pct_ch_med_list_yy</th>\n",
       "    </tr>\n",
       "  </thead>\n",
       "  <tbody>\n",
       "    <tr>\n",
       "      <th>227</th>\n",
       "      <td>Wyoming</td>\n",
       "      <td>33.542373</td>\n",
       "    </tr>\n",
       "    <tr>\n",
       "      <th>190</th>\n",
       "      <td>Wyoming</td>\n",
       "      <td>30.635654</td>\n",
       "    </tr>\n",
       "    <tr>\n",
       "      <th>140</th>\n",
       "      <td>Wyoming</td>\n",
       "      <td>35.981453</td>\n",
       "    </tr>\n",
       "    <tr>\n",
       "      <th>70</th>\n",
       "      <td>Wyoming</td>\n",
       "      <td>37.257597</td>\n",
       "    </tr>\n",
       "    <tr>\n",
       "      <th>15</th>\n",
       "      <td>Wyoming</td>\n",
       "      <td>30.303030</td>\n",
       "    </tr>\n",
       "  </tbody>\n",
       "</table>\n",
       "</div>"
      ],
      "text/plain": [
       "       state  pct_ch_med_list_yy\n",
       "227  Wyoming           33.542373\n",
       "190  Wyoming           30.635654\n",
       "140  Wyoming           35.981453\n",
       "70   Wyoming           37.257597\n",
       "15   Wyoming           30.303030"
      ]
     },
     "execution_count": 43,
     "metadata": {},
     "output_type": "execute_result"
    }
   ],
   "source": [
    "realtor_data[['state','pct_ch_med_list_yy']].tail()"
   ]
  },
  {
   "cell_type": "code",
   "execution_count": 51,
   "metadata": {},
   "outputs": [
    {
     "data": {
      "application/vnd.plotly.v1+json": {
       "config": {
        "plotlyServerURL": "https://plot.ly"
       },
       "data": [
        {
         "orientation": "h",
         "type": "bar",
         "x": [
          21.725517481301093,
          22.071895424836608,
          22.768270651995405,
          23.48432055749128,
          24.123831775700943,
          26.811594202898558,
          28.801843317972352,
          30.303030303030297,
          30.5093023255814,
          31.006201240248043
         ],
         "xaxis": "x",
         "y": [
          "Wisconsin",
          "Delaware",
          "New Mexico",
          "Vermont",
          "Tennessee",
          "South Dakota",
          "Iowa",
          "Wyoming",
          "Kansas",
          "Nebraska"
         ],
         "yaxis": "y"
        },
        {
         "orientation": "h",
         "type": "bar",
         "x": [
          6.092896174863394,
          5.929368029739779,
          5.890876664994704,
          5.78861319484516,
          5.459508644222022,
          4.752833603200313,
          4.347826086956519,
          4.108570366239084,
          3.7145242070116824,
          2.8843083691063365
         ],
         "xaxis": "x2",
         "y": [
          "New York",
          "Louisiana",
          "Nevada",
          "Oregon",
          "Utah",
          "Idaho",
          "Colorado",
          "Pennsylvania",
          "District of Columbia",
          "California"
         ],
         "yaxis": "y2"
        }
       ],
       "layout": {
        "annotations": [
         {
          "font": {
           "size": 16
          },
          "showarrow": false,
          "text": "Largest Increases",
          "x": 0.225,
          "xanchor": "center",
          "xref": "paper",
          "y": 1,
          "yanchor": "bottom",
          "yref": "paper"
         },
         {
          "font": {
           "size": 16
          },
          "showarrow": false,
          "text": "Smallest Increases",
          "x": 0.775,
          "xanchor": "center",
          "xref": "paper",
          "y": 1,
          "yanchor": "bottom",
          "yref": "paper"
         }
        ],
        "template": {
         "data": {
          "bar": [
           {
            "error_x": {
             "color": "#2a3f5f"
            },
            "error_y": {
             "color": "#2a3f5f"
            },
            "marker": {
             "line": {
              "color": "#E5ECF6",
              "width": 0.5
             },
             "pattern": {
              "fillmode": "overlay",
              "size": 10,
              "solidity": 0.2
             }
            },
            "type": "bar"
           }
          ],
          "barpolar": [
           {
            "marker": {
             "line": {
              "color": "#E5ECF6",
              "width": 0.5
             },
             "pattern": {
              "fillmode": "overlay",
              "size": 10,
              "solidity": 0.2
             }
            },
            "type": "barpolar"
           }
          ],
          "carpet": [
           {
            "aaxis": {
             "endlinecolor": "#2a3f5f",
             "gridcolor": "white",
             "linecolor": "white",
             "minorgridcolor": "white",
             "startlinecolor": "#2a3f5f"
            },
            "baxis": {
             "endlinecolor": "#2a3f5f",
             "gridcolor": "white",
             "linecolor": "white",
             "minorgridcolor": "white",
             "startlinecolor": "#2a3f5f"
            },
            "type": "carpet"
           }
          ],
          "choropleth": [
           {
            "colorbar": {
             "outlinewidth": 0,
             "ticks": ""
            },
            "type": "choropleth"
           }
          ],
          "contour": [
           {
            "colorbar": {
             "outlinewidth": 0,
             "ticks": ""
            },
            "colorscale": [
             [
              0,
              "#0d0887"
             ],
             [
              0.1111111111111111,
              "#46039f"
             ],
             [
              0.2222222222222222,
              "#7201a8"
             ],
             [
              0.3333333333333333,
              "#9c179e"
             ],
             [
              0.4444444444444444,
              "#bd3786"
             ],
             [
              0.5555555555555556,
              "#d8576b"
             ],
             [
              0.6666666666666666,
              "#ed7953"
             ],
             [
              0.7777777777777778,
              "#fb9f3a"
             ],
             [
              0.8888888888888888,
              "#fdca26"
             ],
             [
              1,
              "#f0f921"
             ]
            ],
            "type": "contour"
           }
          ],
          "contourcarpet": [
           {
            "colorbar": {
             "outlinewidth": 0,
             "ticks": ""
            },
            "type": "contourcarpet"
           }
          ],
          "heatmap": [
           {
            "colorbar": {
             "outlinewidth": 0,
             "ticks": ""
            },
            "colorscale": [
             [
              0,
              "#0d0887"
             ],
             [
              0.1111111111111111,
              "#46039f"
             ],
             [
              0.2222222222222222,
              "#7201a8"
             ],
             [
              0.3333333333333333,
              "#9c179e"
             ],
             [
              0.4444444444444444,
              "#bd3786"
             ],
             [
              0.5555555555555556,
              "#d8576b"
             ],
             [
              0.6666666666666666,
              "#ed7953"
             ],
             [
              0.7777777777777778,
              "#fb9f3a"
             ],
             [
              0.8888888888888888,
              "#fdca26"
             ],
             [
              1,
              "#f0f921"
             ]
            ],
            "type": "heatmap"
           }
          ],
          "heatmapgl": [
           {
            "colorbar": {
             "outlinewidth": 0,
             "ticks": ""
            },
            "colorscale": [
             [
              0,
              "#0d0887"
             ],
             [
              0.1111111111111111,
              "#46039f"
             ],
             [
              0.2222222222222222,
              "#7201a8"
             ],
             [
              0.3333333333333333,
              "#9c179e"
             ],
             [
              0.4444444444444444,
              "#bd3786"
             ],
             [
              0.5555555555555556,
              "#d8576b"
             ],
             [
              0.6666666666666666,
              "#ed7953"
             ],
             [
              0.7777777777777778,
              "#fb9f3a"
             ],
             [
              0.8888888888888888,
              "#fdca26"
             ],
             [
              1,
              "#f0f921"
             ]
            ],
            "type": "heatmapgl"
           }
          ],
          "histogram": [
           {
            "marker": {
             "pattern": {
              "fillmode": "overlay",
              "size": 10,
              "solidity": 0.2
             }
            },
            "type": "histogram"
           }
          ],
          "histogram2d": [
           {
            "colorbar": {
             "outlinewidth": 0,
             "ticks": ""
            },
            "colorscale": [
             [
              0,
              "#0d0887"
             ],
             [
              0.1111111111111111,
              "#46039f"
             ],
             [
              0.2222222222222222,
              "#7201a8"
             ],
             [
              0.3333333333333333,
              "#9c179e"
             ],
             [
              0.4444444444444444,
              "#bd3786"
             ],
             [
              0.5555555555555556,
              "#d8576b"
             ],
             [
              0.6666666666666666,
              "#ed7953"
             ],
             [
              0.7777777777777778,
              "#fb9f3a"
             ],
             [
              0.8888888888888888,
              "#fdca26"
             ],
             [
              1,
              "#f0f921"
             ]
            ],
            "type": "histogram2d"
           }
          ],
          "histogram2dcontour": [
           {
            "colorbar": {
             "outlinewidth": 0,
             "ticks": ""
            },
            "colorscale": [
             [
              0,
              "#0d0887"
             ],
             [
              0.1111111111111111,
              "#46039f"
             ],
             [
              0.2222222222222222,
              "#7201a8"
             ],
             [
              0.3333333333333333,
              "#9c179e"
             ],
             [
              0.4444444444444444,
              "#bd3786"
             ],
             [
              0.5555555555555556,
              "#d8576b"
             ],
             [
              0.6666666666666666,
              "#ed7953"
             ],
             [
              0.7777777777777778,
              "#fb9f3a"
             ],
             [
              0.8888888888888888,
              "#fdca26"
             ],
             [
              1,
              "#f0f921"
             ]
            ],
            "type": "histogram2dcontour"
           }
          ],
          "mesh3d": [
           {
            "colorbar": {
             "outlinewidth": 0,
             "ticks": ""
            },
            "type": "mesh3d"
           }
          ],
          "parcoords": [
           {
            "line": {
             "colorbar": {
              "outlinewidth": 0,
              "ticks": ""
             }
            },
            "type": "parcoords"
           }
          ],
          "pie": [
           {
            "automargin": true,
            "type": "pie"
           }
          ],
          "scatter": [
           {
            "fillpattern": {
             "fillmode": "overlay",
             "size": 10,
             "solidity": 0.2
            },
            "type": "scatter"
           }
          ],
          "scatter3d": [
           {
            "line": {
             "colorbar": {
              "outlinewidth": 0,
              "ticks": ""
             }
            },
            "marker": {
             "colorbar": {
              "outlinewidth": 0,
              "ticks": ""
             }
            },
            "type": "scatter3d"
           }
          ],
          "scattercarpet": [
           {
            "marker": {
             "colorbar": {
              "outlinewidth": 0,
              "ticks": ""
             }
            },
            "type": "scattercarpet"
           }
          ],
          "scattergeo": [
           {
            "marker": {
             "colorbar": {
              "outlinewidth": 0,
              "ticks": ""
             }
            },
            "type": "scattergeo"
           }
          ],
          "scattergl": [
           {
            "marker": {
             "colorbar": {
              "outlinewidth": 0,
              "ticks": ""
             }
            },
            "type": "scattergl"
           }
          ],
          "scattermapbox": [
           {
            "marker": {
             "colorbar": {
              "outlinewidth": 0,
              "ticks": ""
             }
            },
            "type": "scattermapbox"
           }
          ],
          "scatterpolar": [
           {
            "marker": {
             "colorbar": {
              "outlinewidth": 0,
              "ticks": ""
             }
            },
            "type": "scatterpolar"
           }
          ],
          "scatterpolargl": [
           {
            "marker": {
             "colorbar": {
              "outlinewidth": 0,
              "ticks": ""
             }
            },
            "type": "scatterpolargl"
           }
          ],
          "scatterternary": [
           {
            "marker": {
             "colorbar": {
              "outlinewidth": 0,
              "ticks": ""
             }
            },
            "type": "scatterternary"
           }
          ],
          "surface": [
           {
            "colorbar": {
             "outlinewidth": 0,
             "ticks": ""
            },
            "colorscale": [
             [
              0,
              "#0d0887"
             ],
             [
              0.1111111111111111,
              "#46039f"
             ],
             [
              0.2222222222222222,
              "#7201a8"
             ],
             [
              0.3333333333333333,
              "#9c179e"
             ],
             [
              0.4444444444444444,
              "#bd3786"
             ],
             [
              0.5555555555555556,
              "#d8576b"
             ],
             [
              0.6666666666666666,
              "#ed7953"
             ],
             [
              0.7777777777777778,
              "#fb9f3a"
             ],
             [
              0.8888888888888888,
              "#fdca26"
             ],
             [
              1,
              "#f0f921"
             ]
            ],
            "type": "surface"
           }
          ],
          "table": [
           {
            "cells": {
             "fill": {
              "color": "#EBF0F8"
             },
             "line": {
              "color": "white"
             }
            },
            "header": {
             "fill": {
              "color": "#C8D4E3"
             },
             "line": {
              "color": "white"
             }
            },
            "type": "table"
           }
          ]
         },
         "layout": {
          "annotationdefaults": {
           "arrowcolor": "#2a3f5f",
           "arrowhead": 0,
           "arrowwidth": 1
          },
          "autotypenumbers": "strict",
          "coloraxis": {
           "colorbar": {
            "outlinewidth": 0,
            "ticks": ""
           }
          },
          "colorscale": {
           "diverging": [
            [
             0,
             "#8e0152"
            ],
            [
             0.1,
             "#c51b7d"
            ],
            [
             0.2,
             "#de77ae"
            ],
            [
             0.3,
             "#f1b6da"
            ],
            [
             0.4,
             "#fde0ef"
            ],
            [
             0.5,
             "#f7f7f7"
            ],
            [
             0.6,
             "#e6f5d0"
            ],
            [
             0.7,
             "#b8e186"
            ],
            [
             0.8,
             "#7fbc41"
            ],
            [
             0.9,
             "#4d9221"
            ],
            [
             1,
             "#276419"
            ]
           ],
           "sequential": [
            [
             0,
             "#0d0887"
            ],
            [
             0.1111111111111111,
             "#46039f"
            ],
            [
             0.2222222222222222,
             "#7201a8"
            ],
            [
             0.3333333333333333,
             "#9c179e"
            ],
            [
             0.4444444444444444,
             "#bd3786"
            ],
            [
             0.5555555555555556,
             "#d8576b"
            ],
            [
             0.6666666666666666,
             "#ed7953"
            ],
            [
             0.7777777777777778,
             "#fb9f3a"
            ],
            [
             0.8888888888888888,
             "#fdca26"
            ],
            [
             1,
             "#f0f921"
            ]
           ],
           "sequentialminus": [
            [
             0,
             "#0d0887"
            ],
            [
             0.1111111111111111,
             "#46039f"
            ],
            [
             0.2222222222222222,
             "#7201a8"
            ],
            [
             0.3333333333333333,
             "#9c179e"
            ],
            [
             0.4444444444444444,
             "#bd3786"
            ],
            [
             0.5555555555555556,
             "#d8576b"
            ],
            [
             0.6666666666666666,
             "#ed7953"
            ],
            [
             0.7777777777777778,
             "#fb9f3a"
            ],
            [
             0.8888888888888888,
             "#fdca26"
            ],
            [
             1,
             "#f0f921"
            ]
           ]
          },
          "colorway": [
           "#636efa",
           "#EF553B",
           "#00cc96",
           "#ab63fa",
           "#FFA15A",
           "#19d3f3",
           "#FF6692",
           "#B6E880",
           "#FF97FF",
           "#FECB52"
          ],
          "font": {
           "color": "#2a3f5f"
          },
          "geo": {
           "bgcolor": "white",
           "lakecolor": "white",
           "landcolor": "#E5ECF6",
           "showlakes": true,
           "showland": true,
           "subunitcolor": "white"
          },
          "hoverlabel": {
           "align": "left"
          },
          "hovermode": "closest",
          "mapbox": {
           "style": "light"
          },
          "paper_bgcolor": "white",
          "plot_bgcolor": "#E5ECF6",
          "polar": {
           "angularaxis": {
            "gridcolor": "white",
            "linecolor": "white",
            "ticks": ""
           },
           "bgcolor": "#E5ECF6",
           "radialaxis": {
            "gridcolor": "white",
            "linecolor": "white",
            "ticks": ""
           }
          },
          "scene": {
           "xaxis": {
            "backgroundcolor": "#E5ECF6",
            "gridcolor": "white",
            "gridwidth": 2,
            "linecolor": "white",
            "showbackground": true,
            "ticks": "",
            "zerolinecolor": "white"
           },
           "yaxis": {
            "backgroundcolor": "#E5ECF6",
            "gridcolor": "white",
            "gridwidth": 2,
            "linecolor": "white",
            "showbackground": true,
            "ticks": "",
            "zerolinecolor": "white"
           },
           "zaxis": {
            "backgroundcolor": "#E5ECF6",
            "gridcolor": "white",
            "gridwidth": 2,
            "linecolor": "white",
            "showbackground": true,
            "ticks": "",
            "zerolinecolor": "white"
           }
          },
          "shapedefaults": {
           "line": {
            "color": "#2a3f5f"
           }
          },
          "ternary": {
           "aaxis": {
            "gridcolor": "white",
            "linecolor": "white",
            "ticks": ""
           },
           "baxis": {
            "gridcolor": "white",
            "linecolor": "white",
            "ticks": ""
           },
           "bgcolor": "#E5ECF6",
           "caxis": {
            "gridcolor": "white",
            "linecolor": "white",
            "ticks": ""
           }
          },
          "title": {
           "x": 0.05
          },
          "xaxis": {
           "automargin": true,
           "gridcolor": "white",
           "linecolor": "white",
           "ticks": "",
           "title": {
            "standoff": 15
           },
           "zerolinecolor": "white",
           "zerolinewidth": 2
          },
          "yaxis": {
           "automargin": true,
           "gridcolor": "white",
           "linecolor": "white",
           "ticks": "",
           "title": {
            "standoff": 15
           },
           "zerolinecolor": "white",
           "zerolinewidth": 2
          }
         }
        },
        "title": {
         "text": "September 2022: States with the largest and smallest gains in list prices year over year"
        },
        "xaxis": {
         "anchor": "y",
         "domain": [
          0,
          0.45
         ],
         "title": {
          "text": "Percent Chance in Median List Prices"
         }
        },
        "xaxis2": {
         "anchor": "y2",
         "domain": [
          0.55,
          1
         ],
         "title": {
          "text": "Percent Chance in Median List Prices"
         }
        },
        "yaxis": {
         "anchor": "x",
         "domain": [
          0,
          1
         ]
        },
        "yaxis2": {
         "anchor": "x2",
         "domain": [
          0,
          1
         ]
        }
       }
      }
     },
     "metadata": {},
     "output_type": "display_data"
    }
   ],
   "source": [
    "# biggest increases\n",
    "a = realtor_data.query(\"month == '2022-09-01'\").sort_values(by  = 'pct_ch_med_list_yy', ascending=True).tail(10)\n",
    "# smallest increase (biggest decreases)False\n",
    "b = realtor_data.query(\"month == '2022-09-01'\").sort_values(by  = 'pct_ch_med_list_yy', ascending=False).tail(10)\n",
    "\n",
    "\n",
    "fig = make_subplots(\n",
    "        rows=1, \n",
    "        cols=2,\n",
    "        subplot_titles=('Largest Increases', 'Smallest Increases'))\n",
    "\n",
    "fig.add_trace(\n",
    "    go.Bar(x=a.pct_ch_med_list_yy, y=a.state, orientation= 'h'),\n",
    "    row=1, col=1)\n",
    "\n",
    "fig.add_trace(\n",
    "    go.Bar(x=b.pct_ch_med_list_yy, y=b.state, orientation = 'h'),\n",
    "    row=1, col=2\n",
    ")\n",
    "\n",
    "# update y axes\n",
    "fig.update_xaxes(title_text=\"Percent Chance in Median List Prices\", row=1, col=1)\n",
    "fig.update_xaxes(title_text=\"Percent Chance in Median List Prices\", row=1, col=2)\n",
    "\n",
    "fig.update_layout(title_text=\"September 2022: States with the largest and smallest gains in list prices year over year\")\n",
    "fig.show()"
   ]
  },
  {
   "cell_type": "code",
   "execution_count": 59,
   "metadata": {},
   "outputs": [
    {
     "data": {
      "text/plain": [
       "['NE', 'KA', 'WY', 'CA', 'OR', 'PA', 'CO', 'IL', 'WI', 'UT', 'ID', 'MI', 'NY']"
      ]
     },
     "execution_count": 59,
     "metadata": {},
     "output_type": "execute_result"
    }
   ],
   "source": [
    "select_states = ['NE','KA','WY','CA','OR','PA','CO','IL','WI','UT','ID','MI','NY']\n",
    "select_states"
   ]
  },
  {
   "cell_type": "code",
   "execution_count": 61,
   "metadata": {},
   "outputs": [
    {
     "data": {
      "application/vnd.plotly.v1+json": {
       "config": {
        "plotlyServerURL": "https://plot.ly"
       },
       "data": [
        {
         "hovertemplate": "year=2016<br>state=California<br>month_num=%{x}<br>median_listing_price=%{y}<extra></extra>",
         "legendgroup": "2016",
         "line": {
          "color": "#000004",
          "dash": "solid"
         },
         "marker": {
          "symbol": "circle"
         },
         "mode": "lines",
         "name": "2016",
         "orientation": "v",
         "showlegend": true,
         "type": "scatter",
         "x": [
          7,
          8,
          9,
          10,
          11,
          12
         ],
         "xaxis": "x9",
         "y": [
          517000,
          500000,
          499444,
          499000,
          497000,
          485000
         ],
         "yaxis": "y9"
        },
        {
         "hovertemplate": "year=2016<br>state=Colorado<br>month_num=%{x}<br>median_listing_price=%{y}<extra></extra>",
         "legendgroup": "2016",
         "line": {
          "color": "#000004",
          "dash": "solid"
         },
         "marker": {
          "symbol": "circle"
         },
         "mode": "lines",
         "name": "2016",
         "orientation": "v",
         "showlegend": false,
         "type": "scatter",
         "x": [
          7,
          8,
          9,
          10,
          11,
          12
         ],
         "xaxis": "x10",
         "y": [
          424900,
          424900,
          423315,
          421065,
          424975,
          425000
         ],
         "yaxis": "y10"
        },
        {
         "hovertemplate": "year=2016<br>state=Idaho<br>month_num=%{x}<br>median_listing_price=%{y}<extra></extra>",
         "legendgroup": "2016",
         "line": {
          "color": "#000004",
          "dash": "solid"
         },
         "marker": {
          "symbol": "circle"
         },
         "mode": "lines",
         "name": "2016",
         "orientation": "v",
         "showlegend": false,
         "type": "scatter",
         "x": [
          7,
          8,
          9,
          10,
          11,
          12
         ],
         "xaxis": "x11",
         "y": [
          259900,
          259000,
          258998,
          259000,
          257548,
          259000
         ],
         "yaxis": "y11"
        },
        {
         "hovertemplate": "year=2016<br>state=Illinois<br>month_num=%{x}<br>median_listing_price=%{y}<extra></extra>",
         "legendgroup": "2016",
         "line": {
          "color": "#000004",
          "dash": "solid"
         },
         "marker": {
          "symbol": "circle"
         },
         "mode": "lines",
         "name": "2016",
         "orientation": "v",
         "showlegend": false,
         "type": "scatter",
         "x": [
          7,
          8,
          9,
          10,
          11,
          12
         ],
         "xaxis": "x12",
         "y": [
          224900,
          222700,
          219999,
          219900,
          214950,
          201000
         ],
         "yaxis": "y12"
        },
        {
         "hovertemplate": "year=2016<br>state=Michigan<br>month_num=%{x}<br>median_listing_price=%{y}<extra></extra>",
         "legendgroup": "2016",
         "line": {
          "color": "#000004",
          "dash": "solid"
         },
         "marker": {
          "symbol": "circle"
         },
         "mode": "lines",
         "name": "2016",
         "orientation": "v",
         "showlegend": false,
         "type": "scatter",
         "x": [
          7,
          8,
          9,
          10,
          11,
          12
         ],
         "xaxis": "x5",
         "y": [
          166000,
          167000,
          165000,
          164900,
          159900,
          155500
         ],
         "yaxis": "y5"
        },
        {
         "hovertemplate": "year=2016<br>state=Nebraska<br>month_num=%{x}<br>median_listing_price=%{y}<extra></extra>",
         "legendgroup": "2016",
         "line": {
          "color": "#000004",
          "dash": "solid"
         },
         "marker": {
          "symbol": "circle"
         },
         "mode": "lines",
         "name": "2016",
         "orientation": "v",
         "showlegend": false,
         "type": "scatter",
         "x": [
          7,
          8,
          9,
          10,
          11,
          12
         ],
         "xaxis": "x6",
         "y": [
          189975,
          188450,
          184950,
          184931,
          184900,
          183350
         ],
         "yaxis": "y6"
        },
        {
         "hovertemplate": "year=2016<br>state=New York<br>month_num=%{x}<br>median_listing_price=%{y}<extra></extra>",
         "legendgroup": "2016",
         "line": {
          "color": "#000004",
          "dash": "solid"
         },
         "marker": {
          "symbol": "circle"
         },
         "mode": "lines",
         "name": "2016",
         "orientation": "v",
         "showlegend": false,
         "type": "scatter",
         "x": [
          7,
          8,
          9,
          10,
          11,
          12
         ],
         "xaxis": "x7",
         "y": [
          304000,
          299900,
          299950,
          309000,
          318250,
          309238
         ],
         "yaxis": "y7"
        },
        {
         "hovertemplate": "year=2016<br>state=Oregon<br>month_num=%{x}<br>median_listing_price=%{y}<extra></extra>",
         "legendgroup": "2016",
         "line": {
          "color": "#000004",
          "dash": "solid"
         },
         "marker": {
          "symbol": "circle"
         },
         "mode": "lines",
         "name": "2016",
         "orientation": "v",
         "showlegend": false,
         "type": "scatter",
         "x": [
          7,
          8,
          9,
          10,
          11,
          12
         ],
         "xaxis": "x8",
         "y": [
          359000,
          358900,
          359000,
          359000,
          355000,
          350000
         ],
         "yaxis": "y8"
        },
        {
         "hovertemplate": "year=2016<br>state=Pennsylvania<br>month_num=%{x}<br>median_listing_price=%{y}<extra></extra>",
         "legendgroup": "2016",
         "line": {
          "color": "#000004",
          "dash": "solid"
         },
         "marker": {
          "symbol": "circle"
         },
         "mode": "lines",
         "name": "2016",
         "orientation": "v",
         "showlegend": false,
         "type": "scatter",
         "x": [
          7,
          8,
          9,
          10,
          11,
          12
         ],
         "xaxis": "x",
         "y": [
          184900,
          180500,
          179998,
          179900,
          179900,
          175000
         ],
         "yaxis": "y"
        },
        {
         "hovertemplate": "year=2016<br>state=Utah<br>month_num=%{x}<br>median_listing_price=%{y}<extra></extra>",
         "legendgroup": "2016",
         "line": {
          "color": "#000004",
          "dash": "solid"
         },
         "marker": {
          "symbol": "circle"
         },
         "mode": "lines",
         "name": "2016",
         "orientation": "v",
         "showlegend": false,
         "type": "scatter",
         "x": [
          7,
          8,
          9,
          10,
          11,
          12
         ],
         "xaxis": "x2",
         "y": [
          325000,
          324950,
          325000,
          326200,
          328900,
          331650
         ],
         "yaxis": "y2"
        },
        {
         "hovertemplate": "year=2016<br>state=Wisconsin<br>month_num=%{x}<br>median_listing_price=%{y}<extra></extra>",
         "legendgroup": "2016",
         "line": {
          "color": "#000004",
          "dash": "solid"
         },
         "marker": {
          "symbol": "circle"
         },
         "mode": "lines",
         "name": "2016",
         "orientation": "v",
         "showlegend": false,
         "type": "scatter",
         "x": [
          7,
          8,
          9,
          10,
          11,
          12
         ],
         "xaxis": "x3",
         "y": [
          188897,
          189000,
          188450,
          185000,
          184863,
          179900
         ],
         "yaxis": "y3"
        },
        {
         "hovertemplate": "year=2016<br>state=Wyoming<br>month_num=%{x}<br>median_listing_price=%{y}<extra></extra>",
         "legendgroup": "2016",
         "line": {
          "color": "#000004",
          "dash": "solid"
         },
         "marker": {
          "symbol": "circle"
         },
         "mode": "lines",
         "name": "2016",
         "orientation": "v",
         "showlegend": false,
         "type": "scatter",
         "x": [
          7,
          8,
          9,
          10,
          11,
          12
         ],
         "xaxis": "x4",
         "y": [
          246975,
          245738,
          245975,
          244000,
          239000,
          235000
         ],
         "yaxis": "y4"
        },
        {
         "hovertemplate": "year=2017<br>state=California<br>month_num=%{x}<br>median_listing_price=%{y}<extra></extra>",
         "legendgroup": "2017",
         "line": {
          "color": "#1b0c41",
          "dash": "solid"
         },
         "marker": {
          "symbol": "circle"
         },
         "mode": "lines",
         "name": "2017",
         "orientation": "v",
         "showlegend": true,
         "type": "scatter",
         "x": [
          1,
          2,
          3,
          4,
          5,
          6,
          7,
          8,
          9,
          10,
          11,
          12
         ],
         "xaxis": "x9",
         "y": [
          487000,
          499000,
          515450,
          529900,
          549000,
          549900,
          549000,
          534950,
          530000,
          527000,
          523250,
          510000
         ],
         "yaxis": "y9"
        },
        {
         "hovertemplate": "year=2017<br>state=Colorado<br>month_num=%{x}<br>median_listing_price=%{y}<extra></extra>",
         "legendgroup": "2017",
         "line": {
          "color": "#1b0c41",
          "dash": "solid"
         },
         "marker": {
          "symbol": "circle"
         },
         "mode": "lines",
         "name": "2017",
         "orientation": "v",
         "showlegend": false,
         "type": "scatter",
         "x": [
          1,
          2,
          3,
          4,
          5,
          6,
          7,
          8,
          9,
          10,
          11,
          12
         ],
         "xaxis": "x10",
         "y": [
          432500,
          445000,
          449962,
          450000,
          456351,
          455975,
          453900,
          449700,
          449900,
          449972,
          449450,
          450000
         ],
         "yaxis": "y10"
        },
        {
         "hovertemplate": "year=2017<br>state=Idaho<br>month_num=%{x}<br>median_listing_price=%{y}<extra></extra>",
         "legendgroup": "2017",
         "line": {
          "color": "#1b0c41",
          "dash": "solid"
         },
         "marker": {
          "symbol": "circle"
         },
         "mode": "lines",
         "name": "2017",
         "orientation": "v",
         "showlegend": false,
         "type": "scatter",
         "x": [
          1,
          2,
          3,
          4,
          5,
          6,
          7,
          8,
          9,
          10,
          11,
          12
         ],
         "xaxis": "x11",
         "y": [
          259450,
          262473,
          269425,
          279900,
          289100,
          289250,
          289900,
          289900,
          289000,
          289950,
          295000,
          297290
         ],
         "yaxis": "y11"
        },
        {
         "hovertemplate": "year=2017<br>state=Illinois<br>month_num=%{x}<br>median_listing_price=%{y}<extra></extra>",
         "legendgroup": "2017",
         "line": {
          "color": "#1b0c41",
          "dash": "solid"
         },
         "marker": {
          "symbol": "circle"
         },
         "mode": "lines",
         "name": "2017",
         "orientation": "v",
         "showlegend": false,
         "type": "scatter",
         "x": [
          1,
          2,
          3,
          4,
          5,
          6,
          7,
          8,
          9,
          10,
          11,
          12
         ],
         "xaxis": "x12",
         "y": [
          199900,
          211400,
          224950,
          229900,
          239450,
          241500,
          239900,
          235750,
          234900,
          232000,
          227000,
          219000
         ],
         "yaxis": "y12"
        },
        {
         "hovertemplate": "year=2017<br>state=Michigan<br>month_num=%{x}<br>median_listing_price=%{y}<extra></extra>",
         "legendgroup": "2017",
         "line": {
          "color": "#1b0c41",
          "dash": "solid"
         },
         "marker": {
          "symbol": "circle"
         },
         "mode": "lines",
         "name": "2017",
         "orientation": "v",
         "showlegend": false,
         "type": "scatter",
         "x": [
          1,
          2,
          3,
          4,
          5,
          6,
          7,
          8,
          9,
          10,
          11,
          12
         ],
         "xaxis": "x5",
         "y": [
          154400,
          159450,
          167000,
          174900,
          181450,
          186950,
          185000,
          184900,
          184000,
          180000,
          179450,
          174900
         ],
         "yaxis": "y5"
        },
        {
         "hovertemplate": "year=2017<br>state=Nebraska<br>month_num=%{x}<br>median_listing_price=%{y}<extra></extra>",
         "legendgroup": "2017",
         "line": {
          "color": "#1b0c41",
          "dash": "solid"
         },
         "marker": {
          "symbol": "circle"
         },
         "mode": "lines",
         "name": "2017",
         "orientation": "v",
         "showlegend": false,
         "type": "scatter",
         "x": [
          1,
          2,
          3,
          4,
          5,
          6,
          7,
          8,
          9,
          10,
          11,
          12
         ],
         "xaxis": "x6",
         "y": [
          187350,
          197450,
          203900,
          215475,
          222450,
          222425,
          219900,
          217975,
          215000,
          210500,
          212225,
          210000
         ],
         "yaxis": "y6"
        },
        {
         "hovertemplate": "year=2017<br>state=New York<br>month_num=%{x}<br>median_listing_price=%{y}<extra></extra>",
         "legendgroup": "2017",
         "line": {
          "color": "#1b0c41",
          "dash": "solid"
         },
         "marker": {
          "symbol": "circle"
         },
         "mode": "lines",
         "name": "2017",
         "orientation": "v",
         "showlegend": false,
         "type": "scatter",
         "x": [
          1,
          2,
          3,
          4,
          5,
          6,
          7,
          8,
          9,
          10,
          11,
          12
         ],
         "xaxis": "x7",
         "y": [
          307450,
          327450,
          344950,
          357523,
          369450,
          369000,
          364000,
          349945,
          350000,
          359950,
          365000,
          365000
         ],
         "yaxis": "y7"
        },
        {
         "hovertemplate": "year=2017<br>state=Oregon<br>month_num=%{x}<br>median_listing_price=%{y}<extra></extra>",
         "legendgroup": "2017",
         "line": {
          "color": "#1b0c41",
          "dash": "solid"
         },
         "marker": {
          "symbol": "circle"
         },
         "mode": "lines",
         "name": "2017",
         "orientation": "v",
         "showlegend": false,
         "type": "scatter",
         "x": [
          1,
          2,
          3,
          4,
          5,
          6,
          7,
          8,
          9,
          10,
          11,
          12
         ],
         "xaxis": "x8",
         "y": [
          350998,
          359450,
          369450,
          379900,
          394950,
          395000,
          400000,
          399950,
          399000,
          399888,
          399900,
          399900
         ],
         "yaxis": "y8"
        },
        {
         "hovertemplate": "year=2017<br>state=Pennsylvania<br>month_num=%{x}<br>median_listing_price=%{y}<extra></extra>",
         "legendgroup": "2017",
         "line": {
          "color": "#1b0c41",
          "dash": "solid"
         },
         "marker": {
          "symbol": "circle"
         },
         "mode": "lines",
         "name": "2017",
         "orientation": "v",
         "showlegend": false,
         "type": "scatter",
         "x": [
          1,
          2,
          3,
          4,
          5,
          6,
          7,
          8,
          9,
          10,
          11,
          12
         ],
         "xaxis": "x",
         "y": [
          174900,
          177000,
          184950,
          189900,
          198500,
          199500,
          199000,
          195000,
          195000,
          199000,
          196200,
          189900
         ],
         "yaxis": "y"
        },
        {
         "hovertemplate": "year=2017<br>state=Utah<br>month_num=%{x}<br>median_listing_price=%{y}<extra></extra>",
         "legendgroup": "2017",
         "line": {
          "color": "#1b0c41",
          "dash": "solid"
         },
         "marker": {
          "symbol": "circle"
         },
         "mode": "lines",
         "name": "2017",
         "orientation": "v",
         "showlegend": false,
         "type": "scatter",
         "x": [
          1,
          2,
          3,
          4,
          5,
          6,
          7,
          8,
          9,
          10,
          11,
          12
         ],
         "xaxis": "x2",
         "y": [
          337500,
          349475,
          358950,
          359900,
          359925,
          362124,
          364000,
          359700,
          359000,
          352665,
          354900,
          358442
         ],
         "yaxis": "y2"
        },
        {
         "hovertemplate": "year=2017<br>state=Wisconsin<br>month_num=%{x}<br>median_listing_price=%{y}<extra></extra>",
         "legendgroup": "2017",
         "line": {
          "color": "#1b0c41",
          "dash": "solid"
         },
         "marker": {
          "symbol": "circle"
         },
         "mode": "lines",
         "name": "2017",
         "orientation": "v",
         "showlegend": false,
         "type": "scatter",
         "x": [
          1,
          2,
          3,
          4,
          5,
          6,
          7,
          8,
          9,
          10,
          11,
          12
         ],
         "xaxis": "x3",
         "y": [
          179900,
          183900,
          189900,
          197900,
          199900,
          204900,
          206900,
          209900,
          209000,
          205000,
          199950,
          199900
         ],
         "yaxis": "y3"
        },
        {
         "hovertemplate": "year=2017<br>state=Wyoming<br>month_num=%{x}<br>median_listing_price=%{y}<extra></extra>",
         "legendgroup": "2017",
         "line": {
          "color": "#1b0c41",
          "dash": "solid"
         },
         "marker": {
          "symbol": "circle"
         },
         "mode": "lines",
         "name": "2017",
         "orientation": "v",
         "showlegend": false,
         "type": "scatter",
         "x": [
          1,
          2,
          3,
          4,
          5,
          6,
          7,
          8,
          9,
          10,
          11,
          12
         ],
         "xaxis": "x4",
         "y": [
          234950,
          235000,
          239000,
          239900,
          244281,
          245000,
          248950,
          247000,
          247900,
          247850,
          241750,
          242900
         ],
         "yaxis": "y4"
        },
        {
         "hovertemplate": "year=2018<br>state=California<br>month_num=%{x}<br>median_listing_price=%{y}<extra></extra>",
         "legendgroup": "2018",
         "line": {
          "color": "#4a0c6b",
          "dash": "solid"
         },
         "marker": {
          "symbol": "circle"
         },
         "mode": "lines",
         "name": "2018",
         "orientation": "v",
         "showlegend": true,
         "type": "scatter",
         "x": [
          1,
          2,
          3,
          4,
          5,
          6,
          7,
          8,
          9,
          10,
          11,
          12
         ],
         "xaxis": "x9",
         "y": [
          507818,
          524950,
          549000,
          557496,
          568444,
          570000,
          568500,
          559475,
          551000,
          550000,
          549945,
          539000
         ],
         "yaxis": "y9"
        },
        {
         "hovertemplate": "year=2018<br>state=Colorado<br>month_num=%{x}<br>median_listing_price=%{y}<extra></extra>",
         "legendgroup": "2018",
         "line": {
          "color": "#4a0c6b",
          "dash": "solid"
         },
         "marker": {
          "symbol": "circle"
         },
         "mode": "lines",
         "name": "2018",
         "orientation": "v",
         "showlegend": false,
         "type": "scatter",
         "x": [
          1,
          2,
          3,
          4,
          5,
          6,
          7,
          8,
          9,
          10,
          11,
          12
         ],
         "xaxis": "x10",
         "y": [
          457000,
          472473,
          479022,
          476619,
          474900,
          473915,
          463656,
          452500,
          450000,
          449897,
          449000,
          449900
         ],
         "yaxis": "y10"
        },
        {
         "hovertemplate": "year=2018<br>state=Idaho<br>month_num=%{x}<br>median_listing_price=%{y}<extra></extra>",
         "legendgroup": "2018",
         "line": {
          "color": "#4a0c6b",
          "dash": "solid"
         },
         "marker": {
          "symbol": "circle"
         },
         "mode": "lines",
         "name": "2018",
         "orientation": "v",
         "showlegend": false,
         "type": "scatter",
         "x": [
          1,
          2,
          3,
          4,
          5,
          6,
          7,
          8,
          9,
          10,
          11,
          12
         ],
         "xaxis": "x11",
         "y": [
          297771,
          301445,
          305824,
          317665,
          325000,
          325000,
          326450,
          329782,
          325000,
          325000,
          325000,
          328430
         ],
         "yaxis": "y11"
        },
        {
         "hovertemplate": "year=2018<br>state=Illinois<br>month_num=%{x}<br>median_listing_price=%{y}<extra></extra>",
         "legendgroup": "2018",
         "line": {
          "color": "#4a0c6b",
          "dash": "solid"
         },
         "marker": {
          "symbol": "circle"
         },
         "mode": "lines",
         "name": "2018",
         "orientation": "v",
         "showlegend": false,
         "type": "scatter",
         "x": [
          1,
          2,
          3,
          4,
          5,
          6,
          7,
          8,
          9,
          10,
          11,
          12
         ],
         "xaxis": "x12",
         "y": [
          214500,
          224250,
          239000,
          249700,
          250000,
          251000,
          249900,
          249900,
          248500,
          244900,
          239900,
          229000
         ],
         "yaxis": "y12"
        },
        {
         "hovertemplate": "year=2018<br>state=Michigan<br>month_num=%{x}<br>median_listing_price=%{y}<extra></extra>",
         "legendgroup": "2018",
         "line": {
          "color": "#4a0c6b",
          "dash": "solid"
         },
         "marker": {
          "symbol": "circle"
         },
         "mode": "lines",
         "name": "2018",
         "orientation": "v",
         "showlegend": false,
         "type": "scatter",
         "x": [
          1,
          2,
          3,
          4,
          5,
          6,
          7,
          8,
          9,
          10,
          11,
          12
         ],
         "xaxis": "x5",
         "y": [
          169950,
          175328,
          185000,
          199450,
          206950,
          214000,
          212000,
          209000,
          204900,
          199900,
          199500,
          194900
         ],
         "yaxis": "y5"
        },
        {
         "hovertemplate": "year=2018<br>state=Nebraska<br>month_num=%{x}<br>median_listing_price=%{y}<extra></extra>",
         "legendgroup": "2018",
         "line": {
          "color": "#4a0c6b",
          "dash": "solid"
         },
         "marker": {
          "symbol": "circle"
         },
         "mode": "lines",
         "name": "2018",
         "orientation": "v",
         "showlegend": false,
         "type": "scatter",
         "x": [
          1,
          2,
          3,
          4,
          5,
          6,
          7,
          8,
          9,
          10,
          11,
          12
         ],
         "xaxis": "x6",
         "y": [
          219725,
          227250,
          236450,
          239900,
          239776,
          239000,
          239200,
          235000,
          235000,
          229856,
          226900,
          227000
         ],
         "yaxis": "y6"
        },
        {
         "hovertemplate": "year=2018<br>state=New York<br>month_num=%{x}<br>median_listing_price=%{y}<extra></extra>",
         "legendgroup": "2018",
         "line": {
          "color": "#4a0c6b",
          "dash": "solid"
         },
         "marker": {
          "symbol": "circle"
         },
         "mode": "lines",
         "name": "2018",
         "orientation": "v",
         "showlegend": false,
         "type": "scatter",
         "x": [
          1,
          2,
          3,
          4,
          5,
          6,
          7,
          8,
          9,
          10,
          11,
          12
         ],
         "xaxis": "x7",
         "y": [
          365972,
          388935,
          399900,
          423450,
          434500,
          429000,
          422500,
          407950,
          414900,
          422500,
          425000,
          420000
         ],
         "yaxis": "y7"
        },
        {
         "hovertemplate": "year=2018<br>state=Oregon<br>month_num=%{x}<br>median_listing_price=%{y}<extra></extra>",
         "legendgroup": "2018",
         "line": {
          "color": "#4a0c6b",
          "dash": "solid"
         },
         "marker": {
          "symbol": "circle"
         },
         "mode": "lines",
         "name": "2018",
         "orientation": "v",
         "showlegend": false,
         "type": "scatter",
         "x": [
          1,
          2,
          3,
          4,
          5,
          6,
          7,
          8,
          9,
          10,
          11,
          12
         ],
         "xaxis": "x8",
         "y": [
          399000,
          399950,
          414990,
          425000,
          433800,
          429900,
          427000,
          424700,
          419990,
          418650,
          415000,
          414900
         ],
         "yaxis": "y8"
        },
        {
         "hovertemplate": "year=2018<br>state=Pennsylvania<br>month_num=%{x}<br>median_listing_price=%{y}<extra></extra>",
         "legendgroup": "2018",
         "line": {
          "color": "#4a0c6b",
          "dash": "solid"
         },
         "marker": {
          "symbol": "circle"
         },
         "mode": "lines",
         "name": "2018",
         "orientation": "v",
         "showlegend": false,
         "type": "scatter",
         "x": [
          1,
          2,
          3,
          4,
          5,
          6,
          7,
          8,
          9,
          10,
          11,
          12
         ],
         "xaxis": "x",
         "y": [
          189000,
          189950,
          198000,
          199950,
          213450,
          215000,
          214925,
          209950,
          209000,
          206500,
          202000,
          199900
         ],
         "yaxis": "y"
        },
        {
         "hovertemplate": "year=2018<br>state=Utah<br>month_num=%{x}<br>median_listing_price=%{y}<extra></extra>",
         "legendgroup": "2018",
         "line": {
          "color": "#4a0c6b",
          "dash": "solid"
         },
         "marker": {
          "symbol": "circle"
         },
         "mode": "lines",
         "name": "2018",
         "orientation": "v",
         "showlegend": false,
         "type": "scatter",
         "x": [
          1,
          2,
          3,
          4,
          5,
          6,
          7,
          8,
          9,
          10,
          11,
          12
         ],
         "xaxis": "x2",
         "y": [
          362450,
          375000,
          388900,
          393362,
          395000,
          395000,
          392684,
          388950,
          386745,
          380000,
          379900,
          380000
         ],
         "yaxis": "y2"
        },
        {
         "hovertemplate": "year=2018<br>state=Wisconsin<br>month_num=%{x}<br>median_listing_price=%{y}<extra></extra>",
         "legendgroup": "2018",
         "line": {
          "color": "#4a0c6b",
          "dash": "solid"
         },
         "marker": {
          "symbol": "circle"
         },
         "mode": "lines",
         "name": "2018",
         "orientation": "v",
         "showlegend": false,
         "type": "scatter",
         "x": [
          1,
          2,
          3,
          4,
          5,
          6,
          7,
          8,
          9,
          10,
          11,
          12
         ],
         "xaxis": "x3",
         "y": [
          199950,
          210900,
          224000,
          234950,
          239900,
          239900,
          239900,
          239200,
          235700,
          234900,
          229950,
          229900
         ],
         "yaxis": "y3"
        },
        {
         "hovertemplate": "year=2018<br>state=Wyoming<br>month_num=%{x}<br>median_listing_price=%{y}<extra></extra>",
         "legendgroup": "2018",
         "line": {
          "color": "#4a0c6b",
          "dash": "solid"
         },
         "marker": {
          "symbol": "circle"
         },
         "mode": "lines",
         "name": "2018",
         "orientation": "v",
         "showlegend": false,
         "type": "scatter",
         "x": [
          1,
          2,
          3,
          4,
          5,
          6,
          7,
          8,
          9,
          10,
          11,
          12
         ],
         "xaxis": "x4",
         "y": [
          244900,
          245000,
          249900,
          250000,
          257600,
          259000,
          259900,
          257900,
          254900,
          250000,
          249950,
          249900
         ],
         "yaxis": "y4"
        },
        {
         "hovertemplate": "year=2019<br>state=California<br>month_num=%{x}<br>median_listing_price=%{y}<extra></extra>",
         "legendgroup": "2019",
         "line": {
          "color": "#781c6d",
          "dash": "solid"
         },
         "marker": {
          "symbol": "circle"
         },
         "mode": "lines",
         "name": "2019",
         "orientation": "v",
         "showlegend": true,
         "type": "scatter",
         "x": [
          1,
          2,
          3,
          4,
          5,
          6,
          7,
          8,
          9,
          10,
          11,
          12
         ],
         "xaxis": "x9",
         "y": [
          531500,
          543909,
          562371,
          579000,
          589450,
          599000,
          596444,
          590882,
          584705,
          580586,
          574900,
          551755
         ],
         "yaxis": "y9"
        },
        {
         "hovertemplate": "year=2019<br>state=Colorado<br>month_num=%{x}<br>median_listing_price=%{y}<extra></extra>",
         "legendgroup": "2019",
         "line": {
          "color": "#781c6d",
          "dash": "solid"
         },
         "marker": {
          "symbol": "circle"
         },
         "mode": "lines",
         "name": "2019",
         "orientation": "v",
         "showlegend": false,
         "type": "scatter",
         "x": [
          1,
          2,
          3,
          4,
          5,
          6,
          7,
          8,
          9,
          10,
          11,
          12
         ],
         "xaxis": "x10",
         "y": [
          450000,
          462400,
          472086,
          475000,
          476500,
          479900,
          479000,
          472273,
          468182,
          467405,
          469900,
          471450
         ],
         "yaxis": "y10"
        },
        {
         "hovertemplate": "year=2019<br>state=Idaho<br>month_num=%{x}<br>median_listing_price=%{y}<extra></extra>",
         "legendgroup": "2019",
         "line": {
          "color": "#781c6d",
          "dash": "solid"
         },
         "marker": {
          "symbol": "circle"
         },
         "mode": "lines",
         "name": "2019",
         "orientation": "v",
         "showlegend": false,
         "type": "scatter",
         "x": [
          1,
          2,
          3,
          4,
          5,
          6,
          7,
          8,
          9,
          10,
          11,
          12
         ],
         "xaxis": "x11",
         "y": [
          329910,
          332445,
          337756,
          345858,
          354455,
          360000,
          364973,
          361978,
          357459,
          354925,
          356614,
          359900
         ],
         "yaxis": "y11"
        },
        {
         "hovertemplate": "year=2019<br>state=Illinois<br>month_num=%{x}<br>median_listing_price=%{y}<extra></extra>",
         "legendgroup": "2019",
         "line": {
          "color": "#781c6d",
          "dash": "solid"
         },
         "marker": {
          "symbol": "circle"
         },
         "mode": "lines",
         "name": "2019",
         "orientation": "v",
         "showlegend": false,
         "type": "scatter",
         "x": [
          1,
          2,
          3,
          4,
          5,
          6,
          7,
          8,
          9,
          10,
          11,
          12
         ],
         "xaxis": "x12",
         "y": [
          225000,
          236950,
          250614,
          264900,
          269450,
          269900,
          264950,
          259355,
          254036,
          249900,
          242900,
          230995
         ],
         "yaxis": "y12"
        },
        {
         "hovertemplate": "year=2019<br>state=Michigan<br>month_num=%{x}<br>median_listing_price=%{y}<extra></extra>",
         "legendgroup": "2019",
         "line": {
          "color": "#781c6d",
          "dash": "solid"
         },
         "marker": {
          "symbol": "circle"
         },
         "mode": "lines",
         "name": "2019",
         "orientation": "v",
         "showlegend": false,
         "type": "scatter",
         "x": [
          1,
          2,
          3,
          4,
          5,
          6,
          7,
          8,
          9,
          10,
          11,
          12
         ],
         "xaxis": "x5",
         "y": [
          191225,
          199000,
          210614,
          224950,
          229900,
          230000,
          229900,
          225836,
          219741,
          215450,
          212500,
          201950
         ],
         "yaxis": "y5"
        },
        {
         "hovertemplate": "year=2019<br>state=Nebraska<br>month_num=%{x}<br>median_listing_price=%{y}<extra></extra>",
         "legendgroup": "2019",
         "line": {
          "color": "#781c6d",
          "dash": "solid"
         },
         "marker": {
          "symbol": "circle"
         },
         "mode": "lines",
         "name": "2019",
         "orientation": "v",
         "showlegend": false,
         "type": "scatter",
         "x": [
          1,
          2,
          3,
          4,
          5,
          6,
          7,
          8,
          9,
          10,
          11,
          12
         ],
         "xaxis": "x6",
         "y": [
          227900,
          233635,
          241046,
          247638,
          249900,
          244900,
          241500,
          237273,
          233182,
          230000,
          225000,
          225000
         ],
         "yaxis": "y6"
        },
        {
         "hovertemplate": "year=2019<br>state=New York<br>month_num=%{x}<br>median_listing_price=%{y}<extra></extra>",
         "legendgroup": "2019",
         "line": {
          "color": "#781c6d",
          "dash": "solid"
         },
         "marker": {
          "symbol": "circle"
         },
         "mode": "lines",
         "name": "2019",
         "orientation": "v",
         "showlegend": false,
         "type": "scatter",
         "x": [
          1,
          2,
          3,
          4,
          5,
          6,
          7,
          8,
          9,
          10,
          11,
          12
         ],
         "xaxis": "x7",
         "y": [
          422000,
          437450,
          459997,
          479950,
          490500,
          488888,
          474998,
          469000,
          469000,
          469000,
          467000,
          462450
         ],
         "yaxis": "y7"
        },
        {
         "hovertemplate": "year=2019<br>state=Oregon<br>month_num=%{x}<br>median_listing_price=%{y}<extra></extra>",
         "legendgroup": "2019",
         "line": {
          "color": "#781c6d",
          "dash": "solid"
         },
         "marker": {
          "symbol": "circle"
         },
         "mode": "lines",
         "name": "2019",
         "orientation": "v",
         "showlegend": false,
         "type": "scatter",
         "x": [
          1,
          2,
          3,
          4,
          5,
          6,
          7,
          8,
          9,
          10,
          11,
          12
         ],
         "xaxis": "x8",
         "y": [
          409988,
          416995,
          422137,
          425495,
          429450,
          429900,
          429900,
          427621,
          425553,
          421923,
          419900,
          418245
         ],
         "yaxis": "y8"
        },
        {
         "hovertemplate": "year=2019<br>state=Pennsylvania<br>month_num=%{x}<br>median_listing_price=%{y}<extra></extra>",
         "legendgroup": "2019",
         "line": {
          "color": "#781c6d",
          "dash": "solid"
         },
         "marker": {
          "symbol": "circle"
         },
         "mode": "lines",
         "name": "2019",
         "orientation": "v",
         "showlegend": false,
         "type": "scatter",
         "x": [
          1,
          2,
          3,
          4,
          5,
          6,
          7,
          8,
          9,
          10,
          11,
          12
         ],
         "xaxis": "x",
         "y": [
          198450,
          199900,
          208529,
          219925,
          226450,
          228500,
          225000,
          224900,
          224900,
          224900,
          224900,
          218984
         ],
         "yaxis": "y"
        },
        {
         "hovertemplate": "year=2019<br>state=Utah<br>month_num=%{x}<br>median_listing_price=%{y}<extra></extra>",
         "legendgroup": "2019",
         "line": {
          "color": "#781c6d",
          "dash": "solid"
         },
         "marker": {
          "symbol": "circle"
         },
         "mode": "lines",
         "name": "2019",
         "orientation": "v",
         "showlegend": false,
         "type": "scatter",
         "x": [
          1,
          2,
          3,
          4,
          5,
          6,
          7,
          8,
          9,
          10,
          11,
          12
         ],
         "xaxis": "x2",
         "y": [
          386450,
          395963,
          405714,
          412414,
          410000,
          411900,
          410900,
          408382,
          403105,
          399450,
          399900,
          412000
         ],
         "yaxis": "y2"
        },
        {
         "hovertemplate": "year=2019<br>state=Wisconsin<br>month_num=%{x}<br>median_listing_price=%{y}<extra></extra>",
         "legendgroup": "2019",
         "line": {
          "color": "#781c6d",
          "dash": "solid"
         },
         "marker": {
          "symbol": "circle"
         },
         "mode": "lines",
         "name": "2019",
         "orientation": "v",
         "showlegend": false,
         "type": "scatter",
         "x": [
          1,
          2,
          3,
          4,
          5,
          6,
          7,
          8,
          9,
          10,
          11,
          12
         ],
         "xaxis": "x3",
         "y": [
          229900,
          239900,
          246571,
          250950,
          259450,
          259900,
          256950,
          253536,
          251491,
          249900,
          246950,
          241000
         ],
         "yaxis": "y3"
        },
        {
         "hovertemplate": "year=2019<br>state=Wyoming<br>month_num=%{x}<br>median_listing_price=%{y}<extra></extra>",
         "legendgroup": "2019",
         "line": {
          "color": "#781c6d",
          "dash": "solid"
         },
         "marker": {
          "symbol": "circle"
         },
         "mode": "lines",
         "name": "2019",
         "orientation": "v",
         "showlegend": false,
         "type": "scatter",
         "x": [
          1,
          2,
          3,
          4,
          5,
          6,
          7,
          8,
          9,
          10,
          11,
          12
         ],
         "xaxis": "x4",
         "y": [
          246000,
          244950,
          247214,
          251500,
          257975,
          259900,
          264925,
          263536,
          261491,
          262677,
          267000,
          267200
         ],
         "yaxis": "y4"
        },
        {
         "hovertemplate": "year=2020<br>state=California<br>month_num=%{x}<br>median_listing_price=%{y}<extra></extra>",
         "legendgroup": "2020",
         "line": {
          "color": "#a52c60",
          "dash": "solid"
         },
         "marker": {
          "symbol": "circle"
         },
         "mode": "lines",
         "name": "2020",
         "orientation": "v",
         "showlegend": true,
         "type": "scatter",
         "x": [
          1,
          2,
          3,
          4,
          5,
          6,
          7,
          8,
          9,
          10,
          11,
          12
         ],
         "xaxis": "x9",
         "y": [
          549450,
          575000,
          599000,
          580000,
          610000,
          652450,
          689750,
          699900,
          704995,
          719000,
          710450,
          702450
         ],
         "yaxis": "y9"
        },
        {
         "hovertemplate": "year=2020<br>state=Colorado<br>month_num=%{x}<br>median_listing_price=%{y}<extra></extra>",
         "legendgroup": "2020",
         "line": {
          "color": "#a52c60",
          "dash": "solid"
         },
         "marker": {
          "symbol": "circle"
         },
         "mode": "lines",
         "name": "2020",
         "orientation": "v",
         "showlegend": false,
         "type": "scatter",
         "x": [
          1,
          2,
          3,
          4,
          5,
          6,
          7,
          8,
          9,
          10,
          11,
          12
         ],
         "xaxis": "x10",
         "y": [
          481333,
          499500,
          508270,
          499450,
          499900,
          515300,
          519950,
          519900,
          505000,
          500383,
          506146,
          509500
         ],
         "yaxis": "y10"
        },
        {
         "hovertemplate": "year=2020<br>state=Idaho<br>month_num=%{x}<br>median_listing_price=%{y}<extra></extra>",
         "legendgroup": "2020",
         "line": {
          "color": "#a52c60",
          "dash": "solid"
         },
         "marker": {
          "symbol": "circle"
         },
         "mode": "lines",
         "name": "2020",
         "orientation": "v",
         "showlegend": false,
         "type": "scatter",
         "x": [
          1,
          2,
          3,
          4,
          5,
          6,
          7,
          8,
          9,
          10,
          11,
          12
         ],
         "xaxis": "x11",
         "y": [
          362450,
          369990,
          378165,
          379800,
          385000,
          396495,
          399900,
          399990,
          402545,
          414945,
          429450,
          425010
         ],
         "yaxis": "y11"
        },
        {
         "hovertemplate": "year=2020<br>state=Illinois<br>month_num=%{x}<br>median_listing_price=%{y}<extra></extra>",
         "legendgroup": "2020",
         "line": {
          "color": "#a52c60",
          "dash": "solid"
         },
         "marker": {
          "symbol": "circle"
         },
         "mode": "lines",
         "name": "2020",
         "orientation": "v",
         "showlegend": false,
         "type": "scatter",
         "x": [
          1,
          2,
          3,
          4,
          5,
          6,
          7,
          8,
          9,
          10,
          11,
          12
         ],
         "xaxis": "x12",
         "y": [
          229500,
          244900,
          254950,
          249950,
          264500,
          270307,
          277450,
          279900,
          281650,
          279000,
          269948,
          259450
         ],
         "yaxis": "y12"
        },
        {
         "hovertemplate": "year=2020<br>state=Michigan<br>month_num=%{x}<br>median_listing_price=%{y}<extra></extra>",
         "legendgroup": "2020",
         "line": {
          "color": "#a52c60",
          "dash": "solid"
         },
         "marker": {
          "symbol": "circle"
         },
         "mode": "lines",
         "name": "2020",
         "orientation": "v",
         "showlegend": false,
         "type": "scatter",
         "x": [
          1,
          2,
          3,
          4,
          5,
          6,
          7,
          8,
          9,
          10,
          11,
          12
         ],
         "xaxis": "x5",
         "y": [
          199900,
          209500,
          224750,
          229900,
          239900,
          250495,
          255000,
          254900,
          249900,
          249000,
          239900,
          234950
         ],
         "yaxis": "y5"
        },
        {
         "hovertemplate": "year=2020<br>state=Nebraska<br>month_num=%{x}<br>median_listing_price=%{y}<extra></extra>",
         "legendgroup": "2020",
         "line": {
          "color": "#a52c60",
          "dash": "solid"
         },
         "marker": {
          "symbol": "circle"
         },
         "mode": "lines",
         "name": "2020",
         "orientation": "v",
         "showlegend": false,
         "type": "scatter",
         "x": [
          1,
          2,
          3,
          4,
          5,
          6,
          7,
          8,
          9,
          10,
          11,
          12
         ],
         "xaxis": "x6",
         "y": [
          227950,
          229900,
          238250,
          245000,
          255000,
          254950,
          257000,
          249900,
          245000,
          239900,
          238000,
          240500
         ],
         "yaxis": "y6"
        },
        {
         "hovertemplate": "year=2020<br>state=New York<br>month_num=%{x}<br>median_listing_price=%{y}<extra></extra>",
         "legendgroup": "2020",
         "line": {
          "color": "#a52c60",
          "dash": "solid"
         },
         "marker": {
          "symbol": "circle"
         },
         "mode": "lines",
         "name": "2020",
         "orientation": "v",
         "showlegend": false,
         "type": "scatter",
         "x": [
          1,
          2,
          3,
          4,
          5,
          6,
          7,
          8,
          9,
          10,
          11,
          12
         ],
         "xaxis": "x7",
         "y": [
          464450,
          479990,
          495000,
          495935,
          497000,
          499500,
          529500,
          549000,
          554000,
          574998,
          570078,
          569000
         ],
         "yaxis": "y7"
        },
        {
         "hovertemplate": "year=2020<br>state=Oregon<br>month_num=%{x}<br>median_listing_price=%{y}<extra></extra>",
         "legendgroup": "2020",
         "line": {
          "color": "#a52c60",
          "dash": "solid"
         },
         "marker": {
          "symbol": "circle"
         },
         "mode": "lines",
         "name": "2020",
         "orientation": "v",
         "showlegend": false,
         "type": "scatter",
         "x": [
          1,
          2,
          3,
          4,
          5,
          6,
          7,
          8,
          9,
          10,
          11,
          12
         ],
         "xaxis": "x8",
         "y": [
          419700,
          419900,
          429000,
          428500,
          439900,
          449900,
          454900,
          463107,
          472450,
          469950,
          470258,
          471523
         ],
         "yaxis": "y8"
        },
        {
         "hovertemplate": "year=2020<br>state=Pennsylvania<br>month_num=%{x}<br>median_listing_price=%{y}<extra></extra>",
         "legendgroup": "2020",
         "line": {
          "color": "#a52c60",
          "dash": "solid"
         },
         "marker": {
          "symbol": "circle"
         },
         "mode": "lines",
         "name": "2020",
         "orientation": "v",
         "showlegend": false,
         "type": "scatter",
         "x": [
          1,
          2,
          3,
          4,
          5,
          6,
          7,
          8,
          9,
          10,
          11,
          12
         ],
         "xaxis": "x",
         "y": [
          219000,
          225000,
          234900,
          231250,
          239900,
          249950,
          259900,
          260000,
          264950,
          266990,
          264950,
          259900
         ],
         "yaxis": "y"
        },
        {
         "hovertemplate": "year=2020<br>state=Utah<br>month_num=%{x}<br>median_listing_price=%{y}<extra></extra>",
         "legendgroup": "2020",
         "line": {
          "color": "#a52c60",
          "dash": "solid"
         },
         "marker": {
          "symbol": "circle"
         },
         "mode": "lines",
         "name": "2020",
         "orientation": "v",
         "showlegend": false,
         "type": "scatter",
         "x": [
          1,
          2,
          3,
          4,
          5,
          6,
          7,
          8,
          9,
          10,
          11,
          12
         ],
         "xaxis": "x2",
         "y": [
          421650,
          433238,
          442500,
          428950,
          436140,
          454900,
          469450,
          485000,
          489900,
          490280,
          499950,
          525000
         ],
         "yaxis": "y2"
        },
        {
         "hovertemplate": "year=2020<br>state=Wisconsin<br>month_num=%{x}<br>median_listing_price=%{y}<extra></extra>",
         "legendgroup": "2020",
         "line": {
          "color": "#a52c60",
          "dash": "solid"
         },
         "marker": {
          "symbol": "circle"
         },
         "mode": "lines",
         "name": "2020",
         "orientation": "v",
         "showlegend": false,
         "type": "scatter",
         "x": [
          1,
          2,
          3,
          4,
          5,
          6,
          7,
          8,
          9,
          10,
          11,
          12
         ],
         "xaxis": "x3",
         "y": [
          239950,
          250000,
          264450,
          269450,
          287000,
          289736,
          289900,
          284950,
          274950,
          269900,
          259950,
          259900
         ],
         "yaxis": "y3"
        },
        {
         "hovertemplate": "year=2020<br>state=Wyoming<br>month_num=%{x}<br>median_listing_price=%{y}<extra></extra>",
         "legendgroup": "2020",
         "line": {
          "color": "#a52c60",
          "dash": "solid"
         },
         "marker": {
          "symbol": "circle"
         },
         "mode": "lines",
         "name": "2020",
         "orientation": "v",
         "showlegend": false,
         "type": "scatter",
         "x": [
          1,
          2,
          3,
          4,
          5,
          6,
          7,
          8,
          9,
          10,
          11,
          12
         ],
         "xaxis": "x4",
         "y": [
          265450,
          265000,
          266500,
          275000,
          279000,
          289000,
          291500,
          289900,
          282413,
          278000,
          266950,
          265000
         ],
         "yaxis": "y4"
        },
        {
         "hovertemplate": "year=2021<br>state=California<br>month_num=%{x}<br>median_listing_price=%{y}<extra></extra>",
         "legendgroup": "2021",
         "line": {
          "color": "#cf4446",
          "dash": "solid"
         },
         "marker": {
          "symbol": "circle"
         },
         "mode": "lines",
         "name": "2021",
         "orientation": "v",
         "showlegend": true,
         "type": "scatter",
         "x": [
          1,
          2,
          3,
          4,
          5,
          6,
          7,
          8,
          9,
          10,
          11,
          12
         ],
         "xaxis": "x9",
         "y": [
          699000,
          724000,
          732450,
          749000,
          749900,
          749900,
          740000,
          722500,
          704675,
          700000,
          699444,
          692500
         ],
         "yaxis": "y9"
        },
        {
         "hovertemplate": "year=2021<br>state=Colorado<br>month_num=%{x}<br>median_listing_price=%{y}<extra></extra>",
         "legendgroup": "2021",
         "line": {
          "color": "#cf4446",
          "dash": "solid"
         },
         "marker": {
          "symbol": "circle"
         },
         "mode": "lines",
         "name": "2021",
         "orientation": "v",
         "showlegend": false,
         "type": "scatter",
         "x": [
          1,
          2,
          3,
          4,
          5,
          6,
          7,
          8,
          9,
          10,
          11,
          12
         ],
         "xaxis": "x10",
         "y": [
          519888,
          528975,
          545000,
          552000,
          575000,
          583450,
          580000,
          579500,
          575000,
          575000,
          566904,
          549450
         ],
         "yaxis": "y10"
        },
        {
         "hovertemplate": "year=2021<br>state=Idaho<br>month_num=%{x}<br>median_listing_price=%{y}<extra></extra>",
         "legendgroup": "2021",
         "line": {
          "color": "#cf4446",
          "dash": "solid"
         },
         "marker": {
          "symbol": "circle"
         },
         "mode": "lines",
         "name": "2021",
         "orientation": "v",
         "showlegend": false,
         "type": "scatter",
         "x": [
          1,
          2,
          3,
          4,
          5,
          6,
          7,
          8,
          9,
          10,
          11,
          12
         ],
         "xaxis": "x11",
         "y": [
          440000,
          466900,
          482992,
          494889,
          511609,
          539500,
          537990,
          529950,
          524950,
          527990,
          529450,
          544495
         ],
         "yaxis": "y11"
        },
        {
         "hovertemplate": "year=2021<br>state=Illinois<br>month_num=%{x}<br>median_listing_price=%{y}<extra></extra>",
         "legendgroup": "2021",
         "line": {
          "color": "#cf4446",
          "dash": "solid"
         },
         "marker": {
          "symbol": "circle"
         },
         "mode": "lines",
         "name": "2021",
         "orientation": "v",
         "showlegend": false,
         "type": "scatter",
         "x": [
          1,
          2,
          3,
          4,
          5,
          6,
          7,
          8,
          9,
          10,
          11,
          12
         ],
         "xaxis": "x12",
         "y": [
          253500,
          262450,
          277000,
          287700,
          299450,
          299900,
          299000,
          289400,
          279950,
          279900,
          267450,
          256950
         ],
         "yaxis": "y12"
        },
        {
         "hovertemplate": "year=2021<br>state=Michigan<br>month_num=%{x}<br>median_listing_price=%{y}<extra></extra>",
         "legendgroup": "2021",
         "line": {
          "color": "#cf4446",
          "dash": "solid"
         },
         "marker": {
          "symbol": "circle"
         },
         "mode": "lines",
         "name": "2021",
         "orientation": "v",
         "showlegend": false,
         "type": "scatter",
         "x": [
          1,
          2,
          3,
          4,
          5,
          6,
          7,
          8,
          9,
          10,
          11,
          12
         ],
         "xaxis": "x5",
         "y": [
          233900,
          242450,
          249900,
          259450,
          259900,
          260000,
          259900,
          252450,
          248450,
          239900,
          229900,
          219950
         ],
         "yaxis": "y5"
        },
        {
         "hovertemplate": "year=2021<br>state=Nebraska<br>month_num=%{x}<br>median_listing_price=%{y}<extra></extra>",
         "legendgroup": "2021",
         "line": {
          "color": "#cf4446",
          "dash": "solid"
         },
         "marker": {
          "symbol": "circle"
         },
         "mode": "lines",
         "name": "2021",
         "orientation": "v",
         "showlegend": false,
         "type": "scatter",
         "x": [
          1,
          2,
          3,
          4,
          5,
          6,
          7,
          8,
          9,
          10,
          11,
          12
         ],
         "xaxis": "x6",
         "y": [
          240000,
          254825,
          269550,
          262500,
          265000,
          265000,
          254900,
          250000,
          249950,
          250000,
          251625,
          257625
         ],
         "yaxis": "y6"
        },
        {
         "hovertemplate": "year=2021<br>state=New York<br>month_num=%{x}<br>median_listing_price=%{y}<extra></extra>",
         "legendgroup": "2021",
         "line": {
          "color": "#cf4446",
          "dash": "solid"
         },
         "marker": {
          "symbol": "circle"
         },
         "mode": "lines",
         "name": "2021",
         "orientation": "v",
         "showlegend": false,
         "type": "scatter",
         "x": [
          1,
          2,
          3,
          4,
          5,
          6,
          7,
          8,
          9,
          10,
          11,
          12
         ],
         "xaxis": "x7",
         "y": [
          575000,
          590000,
          594950,
          599000,
          599000,
          589000,
          569000,
          549950,
          549000,
          550000,
          550000,
          549450
         ],
         "yaxis": "y7"
        },
        {
         "hovertemplate": "year=2021<br>state=Oregon<br>month_num=%{x}<br>median_listing_price=%{y}<extra></extra>",
         "legendgroup": "2021",
         "line": {
          "color": "#cf4446",
          "dash": "solid"
         },
         "marker": {
          "symbol": "circle"
         },
         "mode": "lines",
         "name": "2021",
         "orientation": "v",
         "showlegend": false,
         "type": "scatter",
         "x": [
          1,
          2,
          3,
          4,
          5,
          6,
          7,
          8,
          9,
          10,
          11,
          12
         ],
         "xaxis": "x8",
         "y": [
          469900,
          475000,
          477000,
          492438,
          510000,
          522500,
          525000,
          522498,
          519900,
          519000,
          519450,
          512500
         ],
         "yaxis": "y8"
        },
        {
         "hovertemplate": "year=2021<br>state=Pennsylvania<br>month_num=%{x}<br>median_listing_price=%{y}<extra></extra>",
         "legendgroup": "2021",
         "line": {
          "color": "#cf4446",
          "dash": "solid"
         },
         "marker": {
          "symbol": "circle"
         },
         "mode": "lines",
         "name": "2021",
         "orientation": "v",
         "showlegend": false,
         "type": "scatter",
         "x": [
          1,
          2,
          3,
          4,
          5,
          6,
          7,
          8,
          9,
          10,
          11,
          12
         ],
         "xaxis": "x",
         "y": [
          259000,
          264448,
          272250,
          280000,
          285000,
          279950,
          275000,
          269900,
          268950,
          265000,
          259900,
          250000
         ],
         "yaxis": "y"
        },
        {
         "hovertemplate": "year=2021<br>state=Utah<br>month_num=%{x}<br>median_listing_price=%{y}<extra></extra>",
         "legendgroup": "2021",
         "line": {
          "color": "#cf4446",
          "dash": "solid"
         },
         "marker": {
          "symbol": "circle"
         },
         "mode": "lines",
         "name": "2021",
         "orientation": "v",
         "showlegend": false,
         "type": "scatter",
         "x": [
          1,
          2,
          3,
          4,
          5,
          6,
          7,
          8,
          9,
          10,
          11,
          12
         ],
         "xaxis": "x2",
         "y": [
          543450,
          544350,
          527500,
          550000,
          570000,
          565198,
          560000,
          559963,
          549500,
          550000,
          564012,
          584950
         ],
         "yaxis": "y2"
        },
        {
         "hovertemplate": "year=2021<br>state=Wisconsin<br>month_num=%{x}<br>median_listing_price=%{y}<extra></extra>",
         "legendgroup": "2021",
         "line": {
          "color": "#cf4446",
          "dash": "solid"
         },
         "marker": {
          "symbol": "circle"
         },
         "mode": "lines",
         "name": "2021",
         "orientation": "v",
         "showlegend": false,
         "type": "scatter",
         "x": [
          1,
          2,
          3,
          4,
          5,
          6,
          7,
          8,
          9,
          10,
          11,
          12
         ],
         "xaxis": "x3",
         "y": [
          265000,
          273450,
          288050,
          297825,
          299900,
          299000,
          295000,
          294950,
          287450,
          289000,
          286950,
          285000
         ],
         "yaxis": "y3"
        },
        {
         "hovertemplate": "year=2021<br>state=Wyoming<br>month_num=%{x}<br>median_listing_price=%{y}<extra></extra>",
         "legendgroup": "2021",
         "line": {
          "color": "#cf4446",
          "dash": "solid"
         },
         "marker": {
          "symbol": "circle"
         },
         "mode": "lines",
         "name": "2021",
         "orientation": "v",
         "showlegend": false,
         "type": "scatter",
         "x": [
          1,
          2,
          3,
          4,
          5,
          6,
          7,
          8,
          9,
          10,
          11,
          12
         ],
         "xaxis": "x4",
         "y": [
          260000,
          266225,
          272725,
          274250,
          295000,
          313850,
          323500,
          327450,
          330000,
          325000,
          317450,
          324975
         ],
         "yaxis": "y4"
        },
        {
         "hovertemplate": "year=2022<br>state=California<br>month_num=%{x}<br>median_listing_price=%{y}<extra></extra>",
         "legendgroup": "2022",
         "line": {
          "color": "#ed6925",
          "dash": "solid"
         },
         "marker": {
          "symbol": "circle"
         },
         "mode": "lines",
         "name": "2022",
         "orientation": "v",
         "showlegend": true,
         "type": "scatter",
         "x": [
          1,
          2,
          3,
          4,
          5,
          6,
          7,
          8,
          9
         ],
         "xaxis": "x9",
         "y": [
          692850,
          715000,
          749450,
          759500,
          775000,
          774950,
          750000,
          737000,
          725000
         ],
         "yaxis": "y9"
        },
        {
         "hovertemplate": "year=2022<br>state=Colorado<br>month_num=%{x}<br>median_listing_price=%{y}<extra></extra>",
         "legendgroup": "2022",
         "line": {
          "color": "#ed6925",
          "dash": "solid"
         },
         "marker": {
          "symbol": "circle"
         },
         "mode": "lines",
         "name": "2022",
         "orientation": "v",
         "showlegend": false,
         "type": "scatter",
         "x": [
          1,
          2,
          3,
          4,
          5,
          6,
          7,
          8,
          9
         ],
         "xaxis": "x10",
         "y": [
          575000,
          597000,
          610239,
          629000,
          649450,
          647500,
          629000,
          614300,
          600000
         ],
         "yaxis": "y10"
        },
        {
         "hovertemplate": "year=2022<br>state=Idaho<br>month_num=%{x}<br>median_listing_price=%{y}<extra></extra>",
         "legendgroup": "2022",
         "line": {
          "color": "#ed6925",
          "dash": "solid"
         },
         "marker": {
          "symbol": "circle"
         },
         "mode": "lines",
         "name": "2022",
         "orientation": "v",
         "showlegend": false,
         "type": "scatter",
         "x": [
          1,
          2,
          3,
          4,
          5,
          6,
          7,
          8,
          9
         ],
         "xaxis": "x11",
         "y": [
          559900,
          584175,
          589975,
          599000,
          604000,
          584900,
          569900,
          553500,
          549900
         ],
         "yaxis": "y11"
        },
        {
         "hovertemplate": "year=2022<br>state=Illinois<br>month_num=%{x}<br>median_listing_price=%{y}<extra></extra>",
         "legendgroup": "2022",
         "line": {
          "color": "#ed6925",
          "dash": "solid"
         },
         "marker": {
          "symbol": "circle"
         },
         "mode": "lines",
         "name": "2022",
         "orientation": "v",
         "showlegend": false,
         "type": "scatter",
         "x": [
          1,
          2,
          3,
          4,
          5,
          6,
          7,
          8,
          9
         ],
         "xaxis": "x12",
         "y": [
          249000,
          254945,
          274829,
          285000,
          299946,
          304950,
          300000,
          299900,
          299000
         ],
         "yaxis": "y12"
        },
        {
         "hovertemplate": "year=2022<br>state=Michigan<br>month_num=%{x}<br>median_listing_price=%{y}<extra></extra>",
         "legendgroup": "2022",
         "line": {
          "color": "#ed6925",
          "dash": "solid"
         },
         "marker": {
          "symbol": "circle"
         },
         "mode": "lines",
         "name": "2022",
         "orientation": "v",
         "showlegend": false,
         "type": "scatter",
         "x": [
          1,
          2,
          3,
          4,
          5,
          6,
          7,
          8,
          9
         ],
         "xaxis": "x5",
         "y": [
          219000,
          227000,
          239500,
          255000,
          276400,
          281250,
          280000,
          275000,
          269900
         ],
         "yaxis": "y5"
        },
        {
         "hovertemplate": "year=2022<br>state=Nebraska<br>month_num=%{x}<br>median_listing_price=%{y}<extra></extra>",
         "legendgroup": "2022",
         "line": {
          "color": "#ed6925",
          "dash": "solid"
         },
         "marker": {
          "symbol": "circle"
         },
         "mode": "lines",
         "name": "2022",
         "orientation": "v",
         "showlegend": false,
         "type": "scatter",
         "x": [
          1,
          2,
          3,
          4,
          5,
          6,
          7,
          8,
          9
         ],
         "xaxis": "x6",
         "y": [
          285000,
          299000,
          298013,
          299999,
          305000,
          309950,
          314925,
          329425,
          327450
         ],
         "yaxis": "y6"
        },
        {
         "hovertemplate": "year=2022<br>state=New York<br>month_num=%{x}<br>median_listing_price=%{y}<extra></extra>",
         "legendgroup": "2022",
         "line": {
          "color": "#ed6925",
          "dash": "solid"
         },
         "marker": {
          "symbol": "circle"
         },
         "mode": "lines",
         "name": "2022",
         "orientation": "v",
         "showlegend": false,
         "type": "scatter",
         "x": [
          1,
          2,
          3,
          4,
          5,
          6,
          7,
          8,
          9
         ],
         "xaxis": "x7",
         "y": [
          549000,
          577000,
          599000,
          600000,
          600000,
          599000,
          590000,
          577000,
          582450
         ],
         "yaxis": "y7"
        },
        {
         "hovertemplate": "year=2022<br>state=Oregon<br>month_num=%{x}<br>median_listing_price=%{y}<extra></extra>",
         "legendgroup": "2022",
         "line": {
          "color": "#ed6925",
          "dash": "solid"
         },
         "marker": {
          "symbol": "circle"
         },
         "mode": "lines",
         "name": "2022",
         "orientation": "v",
         "showlegend": false,
         "type": "scatter",
         "x": [
          1,
          2,
          3,
          4,
          5,
          6,
          7,
          8,
          9
         ],
         "xaxis": "x8",
         "y": [
          518000,
          533121,
          542488,
          550000,
          567000,
          569950,
          564900,
          552450,
          549995
         ],
         "yaxis": "y8"
        },
        {
         "hovertemplate": "year=2022<br>state=Pennsylvania<br>month_num=%{x}<br>median_listing_price=%{y}<extra></extra>",
         "legendgroup": "2022",
         "line": {
          "color": "#ed6925",
          "dash": "solid"
         },
         "marker": {
          "symbol": "circle"
         },
         "mode": "lines",
         "name": "2022",
         "orientation": "v",
         "showlegend": false,
         "type": "scatter",
         "x": [
          1,
          2,
          3,
          4,
          5,
          6,
          7,
          8,
          9
         ],
         "xaxis": "x",
         "y": [
          250000,
          259500,
          271000,
          280000,
          291055,
          297375,
          295000,
          287000,
          280000
         ],
         "yaxis": "y"
        },
        {
         "hovertemplate": "year=2022<br>state=Utah<br>month_num=%{x}<br>median_listing_price=%{y}<extra></extra>",
         "legendgroup": "2022",
         "line": {
          "color": "#ed6925",
          "dash": "solid"
         },
         "marker": {
          "symbol": "circle"
         },
         "mode": "lines",
         "name": "2022",
         "orientation": "v",
         "showlegend": false,
         "type": "scatter",
         "x": [
          1,
          2,
          3,
          4,
          5,
          6,
          7,
          8,
          9
         ],
         "xaxis": "x2",
         "y": [
          590000,
          604413,
          619800,
          635000,
          641000,
          639118,
          610300,
          592950,
          579500
         ],
         "yaxis": "y2"
        },
        {
         "hovertemplate": "year=2022<br>state=Wisconsin<br>month_num=%{x}<br>median_listing_price=%{y}<extra></extra>",
         "legendgroup": "2022",
         "line": {
          "color": "#ed6925",
          "dash": "solid"
         },
         "marker": {
          "symbol": "circle"
         },
         "mode": "lines",
         "name": "2022",
         "orientation": "v",
         "showlegend": false,
         "type": "scatter",
         "x": [
          1,
          2,
          3,
          4,
          5,
          6,
          7,
          8,
          9
         ],
         "xaxis": "x3",
         "y": [
          299900,
          314225,
          327500,
          344900,
          349900,
          350000,
          349900,
          349900,
          349900
         ],
         "yaxis": "y3"
        },
        {
         "hovertemplate": "year=2022<br>state=Wyoming<br>month_num=%{x}<br>median_listing_price=%{y}<extra></extra>",
         "legendgroup": "2022",
         "line": {
          "color": "#ed6925",
          "dash": "solid"
         },
         "marker": {
          "symbol": "circle"
         },
         "mode": "lines",
         "name": "2022",
         "orientation": "v",
         "showlegend": false,
         "type": "scatter",
         "x": [
          1,
          2,
          3,
          4,
          5,
          6,
          7,
          8,
          9
         ],
         "xaxis": "x4",
         "y": [
          344950,
          344800,
          349450,
          370000,
          393950,
          410000,
          439900,
          449450,
          430000
         ],
         "yaxis": "y4"
        }
       ],
       "layout": {
        "annotations": [
         {
          "font": {},
          "showarrow": false,
          "text": "state=Pennsylvania",
          "x": 0.1175,
          "xanchor": "center",
          "xref": "paper",
          "y": 0.2866666666666666,
          "yanchor": "bottom",
          "yref": "paper"
         },
         {
          "font": {},
          "showarrow": false,
          "text": "state=Utah",
          "x": 0.3725,
          "xanchor": "center",
          "xref": "paper",
          "y": 0.2866666666666666,
          "yanchor": "bottom",
          "yref": "paper"
         },
         {
          "font": {},
          "showarrow": false,
          "text": "state=Wisconsin",
          "x": 0.6275,
          "xanchor": "center",
          "xref": "paper",
          "y": 0.2866666666666666,
          "yanchor": "bottom",
          "yref": "paper"
         },
         {
          "font": {},
          "showarrow": false,
          "text": "state=Wyoming",
          "x": 0.8824999999999998,
          "xanchor": "center",
          "xref": "paper",
          "y": 0.2866666666666666,
          "yanchor": "bottom",
          "yref": "paper"
         },
         {
          "font": {},
          "showarrow": false,
          "text": "state=Michigan",
          "x": 0.1175,
          "xanchor": "center",
          "xref": "paper",
          "y": 0.6433333333333333,
          "yanchor": "bottom",
          "yref": "paper"
         },
         {
          "font": {},
          "showarrow": false,
          "text": "state=Nebraska",
          "x": 0.3725,
          "xanchor": "center",
          "xref": "paper",
          "y": 0.6433333333333333,
          "yanchor": "bottom",
          "yref": "paper"
         },
         {
          "font": {},
          "showarrow": false,
          "text": "state=New York",
          "x": 0.6275,
          "xanchor": "center",
          "xref": "paper",
          "y": 0.6433333333333333,
          "yanchor": "bottom",
          "yref": "paper"
         },
         {
          "font": {},
          "showarrow": false,
          "text": "state=Oregon",
          "x": 0.8824999999999998,
          "xanchor": "center",
          "xref": "paper",
          "y": 0.6433333333333333,
          "yanchor": "bottom",
          "yref": "paper"
         },
         {
          "font": {},
          "showarrow": false,
          "text": "state=California",
          "x": 0.1175,
          "xanchor": "center",
          "xref": "paper",
          "y": 0.9999999999999999,
          "yanchor": "bottom",
          "yref": "paper"
         },
         {
          "font": {},
          "showarrow": false,
          "text": "state=Colorado",
          "x": 0.3725,
          "xanchor": "center",
          "xref": "paper",
          "y": 0.9999999999999999,
          "yanchor": "bottom",
          "yref": "paper"
         },
         {
          "font": {},
          "showarrow": false,
          "text": "state=Idaho",
          "x": 0.6275,
          "xanchor": "center",
          "xref": "paper",
          "y": 0.9999999999999999,
          "yanchor": "bottom",
          "yref": "paper"
         },
         {
          "font": {},
          "showarrow": false,
          "text": "state=Illinois",
          "x": 0.8824999999999998,
          "xanchor": "center",
          "xref": "paper",
          "y": 0.9999999999999999,
          "yanchor": "bottom",
          "yref": "paper"
         }
        ],
        "height": 800,
        "legend": {
         "title": {
          "text": "year"
         },
         "tracegroupgap": 0
        },
        "template": {
         "data": {
          "bar": [
           {
            "error_x": {
             "color": "#2a3f5f"
            },
            "error_y": {
             "color": "#2a3f5f"
            },
            "marker": {
             "line": {
              "color": "#E5ECF6",
              "width": 0.5
             },
             "pattern": {
              "fillmode": "overlay",
              "size": 10,
              "solidity": 0.2
             }
            },
            "type": "bar"
           }
          ],
          "barpolar": [
           {
            "marker": {
             "line": {
              "color": "#E5ECF6",
              "width": 0.5
             },
             "pattern": {
              "fillmode": "overlay",
              "size": 10,
              "solidity": 0.2
             }
            },
            "type": "barpolar"
           }
          ],
          "carpet": [
           {
            "aaxis": {
             "endlinecolor": "#2a3f5f",
             "gridcolor": "white",
             "linecolor": "white",
             "minorgridcolor": "white",
             "startlinecolor": "#2a3f5f"
            },
            "baxis": {
             "endlinecolor": "#2a3f5f",
             "gridcolor": "white",
             "linecolor": "white",
             "minorgridcolor": "white",
             "startlinecolor": "#2a3f5f"
            },
            "type": "carpet"
           }
          ],
          "choropleth": [
           {
            "colorbar": {
             "outlinewidth": 0,
             "ticks": ""
            },
            "type": "choropleth"
           }
          ],
          "contour": [
           {
            "colorbar": {
             "outlinewidth": 0,
             "ticks": ""
            },
            "colorscale": [
             [
              0,
              "#0d0887"
             ],
             [
              0.1111111111111111,
              "#46039f"
             ],
             [
              0.2222222222222222,
              "#7201a8"
             ],
             [
              0.3333333333333333,
              "#9c179e"
             ],
             [
              0.4444444444444444,
              "#bd3786"
             ],
             [
              0.5555555555555556,
              "#d8576b"
             ],
             [
              0.6666666666666666,
              "#ed7953"
             ],
             [
              0.7777777777777778,
              "#fb9f3a"
             ],
             [
              0.8888888888888888,
              "#fdca26"
             ],
             [
              1,
              "#f0f921"
             ]
            ],
            "type": "contour"
           }
          ],
          "contourcarpet": [
           {
            "colorbar": {
             "outlinewidth": 0,
             "ticks": ""
            },
            "type": "contourcarpet"
           }
          ],
          "heatmap": [
           {
            "colorbar": {
             "outlinewidth": 0,
             "ticks": ""
            },
            "colorscale": [
             [
              0,
              "#0d0887"
             ],
             [
              0.1111111111111111,
              "#46039f"
             ],
             [
              0.2222222222222222,
              "#7201a8"
             ],
             [
              0.3333333333333333,
              "#9c179e"
             ],
             [
              0.4444444444444444,
              "#bd3786"
             ],
             [
              0.5555555555555556,
              "#d8576b"
             ],
             [
              0.6666666666666666,
              "#ed7953"
             ],
             [
              0.7777777777777778,
              "#fb9f3a"
             ],
             [
              0.8888888888888888,
              "#fdca26"
             ],
             [
              1,
              "#f0f921"
             ]
            ],
            "type": "heatmap"
           }
          ],
          "heatmapgl": [
           {
            "colorbar": {
             "outlinewidth": 0,
             "ticks": ""
            },
            "colorscale": [
             [
              0,
              "#0d0887"
             ],
             [
              0.1111111111111111,
              "#46039f"
             ],
             [
              0.2222222222222222,
              "#7201a8"
             ],
             [
              0.3333333333333333,
              "#9c179e"
             ],
             [
              0.4444444444444444,
              "#bd3786"
             ],
             [
              0.5555555555555556,
              "#d8576b"
             ],
             [
              0.6666666666666666,
              "#ed7953"
             ],
             [
              0.7777777777777778,
              "#fb9f3a"
             ],
             [
              0.8888888888888888,
              "#fdca26"
             ],
             [
              1,
              "#f0f921"
             ]
            ],
            "type": "heatmapgl"
           }
          ],
          "histogram": [
           {
            "marker": {
             "pattern": {
              "fillmode": "overlay",
              "size": 10,
              "solidity": 0.2
             }
            },
            "type": "histogram"
           }
          ],
          "histogram2d": [
           {
            "colorbar": {
             "outlinewidth": 0,
             "ticks": ""
            },
            "colorscale": [
             [
              0,
              "#0d0887"
             ],
             [
              0.1111111111111111,
              "#46039f"
             ],
             [
              0.2222222222222222,
              "#7201a8"
             ],
             [
              0.3333333333333333,
              "#9c179e"
             ],
             [
              0.4444444444444444,
              "#bd3786"
             ],
             [
              0.5555555555555556,
              "#d8576b"
             ],
             [
              0.6666666666666666,
              "#ed7953"
             ],
             [
              0.7777777777777778,
              "#fb9f3a"
             ],
             [
              0.8888888888888888,
              "#fdca26"
             ],
             [
              1,
              "#f0f921"
             ]
            ],
            "type": "histogram2d"
           }
          ],
          "histogram2dcontour": [
           {
            "colorbar": {
             "outlinewidth": 0,
             "ticks": ""
            },
            "colorscale": [
             [
              0,
              "#0d0887"
             ],
             [
              0.1111111111111111,
              "#46039f"
             ],
             [
              0.2222222222222222,
              "#7201a8"
             ],
             [
              0.3333333333333333,
              "#9c179e"
             ],
             [
              0.4444444444444444,
              "#bd3786"
             ],
             [
              0.5555555555555556,
              "#d8576b"
             ],
             [
              0.6666666666666666,
              "#ed7953"
             ],
             [
              0.7777777777777778,
              "#fb9f3a"
             ],
             [
              0.8888888888888888,
              "#fdca26"
             ],
             [
              1,
              "#f0f921"
             ]
            ],
            "type": "histogram2dcontour"
           }
          ],
          "mesh3d": [
           {
            "colorbar": {
             "outlinewidth": 0,
             "ticks": ""
            },
            "type": "mesh3d"
           }
          ],
          "parcoords": [
           {
            "line": {
             "colorbar": {
              "outlinewidth": 0,
              "ticks": ""
             }
            },
            "type": "parcoords"
           }
          ],
          "pie": [
           {
            "automargin": true,
            "type": "pie"
           }
          ],
          "scatter": [
           {
            "fillpattern": {
             "fillmode": "overlay",
             "size": 10,
             "solidity": 0.2
            },
            "type": "scatter"
           }
          ],
          "scatter3d": [
           {
            "line": {
             "colorbar": {
              "outlinewidth": 0,
              "ticks": ""
             }
            },
            "marker": {
             "colorbar": {
              "outlinewidth": 0,
              "ticks": ""
             }
            },
            "type": "scatter3d"
           }
          ],
          "scattercarpet": [
           {
            "marker": {
             "colorbar": {
              "outlinewidth": 0,
              "ticks": ""
             }
            },
            "type": "scattercarpet"
           }
          ],
          "scattergeo": [
           {
            "marker": {
             "colorbar": {
              "outlinewidth": 0,
              "ticks": ""
             }
            },
            "type": "scattergeo"
           }
          ],
          "scattergl": [
           {
            "marker": {
             "colorbar": {
              "outlinewidth": 0,
              "ticks": ""
             }
            },
            "type": "scattergl"
           }
          ],
          "scattermapbox": [
           {
            "marker": {
             "colorbar": {
              "outlinewidth": 0,
              "ticks": ""
             }
            },
            "type": "scattermapbox"
           }
          ],
          "scatterpolar": [
           {
            "marker": {
             "colorbar": {
              "outlinewidth": 0,
              "ticks": ""
             }
            },
            "type": "scatterpolar"
           }
          ],
          "scatterpolargl": [
           {
            "marker": {
             "colorbar": {
              "outlinewidth": 0,
              "ticks": ""
             }
            },
            "type": "scatterpolargl"
           }
          ],
          "scatterternary": [
           {
            "marker": {
             "colorbar": {
              "outlinewidth": 0,
              "ticks": ""
             }
            },
            "type": "scatterternary"
           }
          ],
          "surface": [
           {
            "colorbar": {
             "outlinewidth": 0,
             "ticks": ""
            },
            "colorscale": [
             [
              0,
              "#0d0887"
             ],
             [
              0.1111111111111111,
              "#46039f"
             ],
             [
              0.2222222222222222,
              "#7201a8"
             ],
             [
              0.3333333333333333,
              "#9c179e"
             ],
             [
              0.4444444444444444,
              "#bd3786"
             ],
             [
              0.5555555555555556,
              "#d8576b"
             ],
             [
              0.6666666666666666,
              "#ed7953"
             ],
             [
              0.7777777777777778,
              "#fb9f3a"
             ],
             [
              0.8888888888888888,
              "#fdca26"
             ],
             [
              1,
              "#f0f921"
             ]
            ],
            "type": "surface"
           }
          ],
          "table": [
           {
            "cells": {
             "fill": {
              "color": "#EBF0F8"
             },
             "line": {
              "color": "white"
             }
            },
            "header": {
             "fill": {
              "color": "#C8D4E3"
             },
             "line": {
              "color": "white"
             }
            },
            "type": "table"
           }
          ]
         },
         "layout": {
          "annotationdefaults": {
           "arrowcolor": "#2a3f5f",
           "arrowhead": 0,
           "arrowwidth": 1
          },
          "autotypenumbers": "strict",
          "coloraxis": {
           "colorbar": {
            "outlinewidth": 0,
            "ticks": ""
           }
          },
          "colorscale": {
           "diverging": [
            [
             0,
             "#8e0152"
            ],
            [
             0.1,
             "#c51b7d"
            ],
            [
             0.2,
             "#de77ae"
            ],
            [
             0.3,
             "#f1b6da"
            ],
            [
             0.4,
             "#fde0ef"
            ],
            [
             0.5,
             "#f7f7f7"
            ],
            [
             0.6,
             "#e6f5d0"
            ],
            [
             0.7,
             "#b8e186"
            ],
            [
             0.8,
             "#7fbc41"
            ],
            [
             0.9,
             "#4d9221"
            ],
            [
             1,
             "#276419"
            ]
           ],
           "sequential": [
            [
             0,
             "#0d0887"
            ],
            [
             0.1111111111111111,
             "#46039f"
            ],
            [
             0.2222222222222222,
             "#7201a8"
            ],
            [
             0.3333333333333333,
             "#9c179e"
            ],
            [
             0.4444444444444444,
             "#bd3786"
            ],
            [
             0.5555555555555556,
             "#d8576b"
            ],
            [
             0.6666666666666666,
             "#ed7953"
            ],
            [
             0.7777777777777778,
             "#fb9f3a"
            ],
            [
             0.8888888888888888,
             "#fdca26"
            ],
            [
             1,
             "#f0f921"
            ]
           ],
           "sequentialminus": [
            [
             0,
             "#0d0887"
            ],
            [
             0.1111111111111111,
             "#46039f"
            ],
            [
             0.2222222222222222,
             "#7201a8"
            ],
            [
             0.3333333333333333,
             "#9c179e"
            ],
            [
             0.4444444444444444,
             "#bd3786"
            ],
            [
             0.5555555555555556,
             "#d8576b"
            ],
            [
             0.6666666666666666,
             "#ed7953"
            ],
            [
             0.7777777777777778,
             "#fb9f3a"
            ],
            [
             0.8888888888888888,
             "#fdca26"
            ],
            [
             1,
             "#f0f921"
            ]
           ]
          },
          "colorway": [
           "#636efa",
           "#EF553B",
           "#00cc96",
           "#ab63fa",
           "#FFA15A",
           "#19d3f3",
           "#FF6692",
           "#B6E880",
           "#FF97FF",
           "#FECB52"
          ],
          "font": {
           "color": "#2a3f5f"
          },
          "geo": {
           "bgcolor": "white",
           "lakecolor": "white",
           "landcolor": "#E5ECF6",
           "showlakes": true,
           "showland": true,
           "subunitcolor": "white"
          },
          "hoverlabel": {
           "align": "left"
          },
          "hovermode": "closest",
          "mapbox": {
           "style": "light"
          },
          "paper_bgcolor": "white",
          "plot_bgcolor": "#E5ECF6",
          "polar": {
           "angularaxis": {
            "gridcolor": "white",
            "linecolor": "white",
            "ticks": ""
           },
           "bgcolor": "#E5ECF6",
           "radialaxis": {
            "gridcolor": "white",
            "linecolor": "white",
            "ticks": ""
           }
          },
          "scene": {
           "xaxis": {
            "backgroundcolor": "#E5ECF6",
            "gridcolor": "white",
            "gridwidth": 2,
            "linecolor": "white",
            "showbackground": true,
            "ticks": "",
            "zerolinecolor": "white"
           },
           "yaxis": {
            "backgroundcolor": "#E5ECF6",
            "gridcolor": "white",
            "gridwidth": 2,
            "linecolor": "white",
            "showbackground": true,
            "ticks": "",
            "zerolinecolor": "white"
           },
           "zaxis": {
            "backgroundcolor": "#E5ECF6",
            "gridcolor": "white",
            "gridwidth": 2,
            "linecolor": "white",
            "showbackground": true,
            "ticks": "",
            "zerolinecolor": "white"
           }
          },
          "shapedefaults": {
           "line": {
            "color": "#2a3f5f"
           }
          },
          "ternary": {
           "aaxis": {
            "gridcolor": "white",
            "linecolor": "white",
            "ticks": ""
           },
           "baxis": {
            "gridcolor": "white",
            "linecolor": "white",
            "ticks": ""
           },
           "bgcolor": "#E5ECF6",
           "caxis": {
            "gridcolor": "white",
            "linecolor": "white",
            "ticks": ""
           }
          },
          "title": {
           "x": 0.05
          },
          "xaxis": {
           "automargin": true,
           "gridcolor": "white",
           "linecolor": "white",
           "ticks": "",
           "title": {
            "standoff": 15
           },
           "zerolinecolor": "white",
           "zerolinewidth": 2
          },
          "yaxis": {
           "automargin": true,
           "gridcolor": "white",
           "linecolor": "white",
           "ticks": "",
           "title": {
            "standoff": 15
           },
           "zerolinecolor": "white",
           "zerolinewidth": 2
          }
         }
        },
        "title": {
         "text": "Median List Prices of Homes Over Time by State"
        },
        "width": 1600,
        "xaxis": {
         "anchor": "y",
         "domain": [
          0,
          0.235
         ],
         "title": {
          "text": "month_num"
         }
        },
        "xaxis10": {
         "anchor": "y10",
         "domain": [
          0.255,
          0.49
         ],
         "matches": "x",
         "showticklabels": false
        },
        "xaxis11": {
         "anchor": "y11",
         "domain": [
          0.51,
          0.745
         ],
         "matches": "x",
         "showticklabels": false
        },
        "xaxis12": {
         "anchor": "y12",
         "domain": [
          0.7649999999999999,
          0.9999999999999999
         ],
         "matches": "x",
         "showticklabels": false
        },
        "xaxis2": {
         "anchor": "y2",
         "domain": [
          0.255,
          0.49
         ],
         "matches": "x",
         "title": {
          "text": "month_num"
         }
        },
        "xaxis3": {
         "anchor": "y3",
         "domain": [
          0.51,
          0.745
         ],
         "matches": "x",
         "title": {
          "text": "month_num"
         }
        },
        "xaxis4": {
         "anchor": "y4",
         "domain": [
          0.7649999999999999,
          0.9999999999999999
         ],
         "matches": "x",
         "title": {
          "text": "month_num"
         }
        },
        "xaxis5": {
         "anchor": "y5",
         "domain": [
          0,
          0.235
         ],
         "matches": "x",
         "showticklabels": false
        },
        "xaxis6": {
         "anchor": "y6",
         "domain": [
          0.255,
          0.49
         ],
         "matches": "x",
         "showticklabels": false
        },
        "xaxis7": {
         "anchor": "y7",
         "domain": [
          0.51,
          0.745
         ],
         "matches": "x",
         "showticklabels": false
        },
        "xaxis8": {
         "anchor": "y8",
         "domain": [
          0.7649999999999999,
          0.9999999999999999
         ],
         "matches": "x",
         "showticklabels": false
        },
        "xaxis9": {
         "anchor": "y9",
         "domain": [
          0,
          0.235
         ],
         "matches": "x",
         "showticklabels": false
        },
        "yaxis": {
         "anchor": "x",
         "domain": [
          0,
          0.2866666666666666
         ],
         "title": {
          "text": "median_listing_price"
         }
        },
        "yaxis10": {
         "anchor": "x10",
         "domain": [
          0.7133333333333333,
          0.9999999999999999
         ],
         "showticklabels": false
        },
        "yaxis11": {
         "anchor": "x11",
         "domain": [
          0.7133333333333333,
          0.9999999999999999
         ],
         "showticklabels": false
        },
        "yaxis12": {
         "anchor": "x12",
         "domain": [
          0.7133333333333333,
          0.9999999999999999
         ],
         "showticklabels": false
        },
        "yaxis2": {
         "anchor": "x2",
         "domain": [
          0,
          0.2866666666666666
         ],
         "showticklabels": false
        },
        "yaxis3": {
         "anchor": "x3",
         "domain": [
          0,
          0.2866666666666666
         ],
         "showticklabels": false
        },
        "yaxis4": {
         "anchor": "x4",
         "domain": [
          0,
          0.2866666666666666
         ],
         "showticklabels": false
        },
        "yaxis5": {
         "anchor": "x5",
         "domain": [
          0.35666666666666663,
          0.6433333333333333
         ],
         "title": {
          "text": "median_listing_price"
         }
        },
        "yaxis6": {
         "anchor": "x6",
         "domain": [
          0.35666666666666663,
          0.6433333333333333
         ],
         "showticklabels": false
        },
        "yaxis7": {
         "anchor": "x7",
         "domain": [
          0.35666666666666663,
          0.6433333333333333
         ],
         "showticklabels": false
        },
        "yaxis8": {
         "anchor": "x8",
         "domain": [
          0.35666666666666663,
          0.6433333333333333
         ],
         "showticklabels": false
        },
        "yaxis9": {
         "anchor": "x9",
         "domain": [
          0.7133333333333333,
          0.9999999999999999
         ],
         "title": {
          "text": "median_listing_price"
         }
        }
       }
      }
     },
     "metadata": {},
     "output_type": "display_data"
    }
   ],
   "source": [
    "fig = px.line(realtor_data.query(\"state_id in @select_states\"),\n",
    "    x = 'month_num',\n",
    "    y = 'median_listing_price',\n",
    "    color = 'year',\n",
    "    facet_col = 'state',\n",
    "    facet_col_wrap = 4,\n",
    "    title = 'Median List Prices of Homes Over Time by State',\n",
    "    color_discrete_sequence=px.colors.sequential.Inferno\n",
    "    )\n",
    "fig.update_yaxes(matches = None)\n",
    "fig.update_layout(height = 800, width = 1600)\n",
    "fig.show()"
   ]
  },
  {
   "cell_type": "code",
   "execution_count": 97,
   "metadata": {},
   "outputs": [
    {
     "data": {
      "text/html": [
       "<div>\n",
       "<style scoped>\n",
       "    .dataframe tbody tr th:only-of-type {\n",
       "        vertical-align: middle;\n",
       "    }\n",
       "\n",
       "    .dataframe tbody tr th {\n",
       "        vertical-align: top;\n",
       "    }\n",
       "\n",
       "    .dataframe thead th {\n",
       "        text-align: right;\n",
       "    }\n",
       "</style>\n",
       "<table border=\"1\" class=\"dataframe\">\n",
       "  <thead>\n",
       "    <tr style=\"text-align: right;\">\n",
       "      <th>month</th>\n",
       "      <th>state</th>\n",
       "      <th>2016-09-01 00:00:00</th>\n",
       "      <th>2022-09-01 00:00:00</th>\n",
       "      <th>pct_change</th>\n",
       "    </tr>\n",
       "  </thead>\n",
       "  <tbody>\n",
       "    <tr>\n",
       "      <th>12</th>\n",
       "      <td>Idaho</td>\n",
       "      <td>258998.0</td>\n",
       "      <td>549900.0</td>\n",
       "      <td>112.318242</td>\n",
       "    </tr>\n",
       "    <tr>\n",
       "      <th>26</th>\n",
       "      <td>Montana</td>\n",
       "      <td>309250.0</td>\n",
       "      <td>629950.0</td>\n",
       "      <td>103.702506</td>\n",
       "    </tr>\n",
       "    <tr>\n",
       "      <th>32</th>\n",
       "      <td>New York</td>\n",
       "      <td>299950.0</td>\n",
       "      <td>582450.0</td>\n",
       "      <td>94.182364</td>\n",
       "    </tr>\n",
       "    <tr>\n",
       "      <th>42</th>\n",
       "      <td>Tennessee</td>\n",
       "      <td>219900.0</td>\n",
       "      <td>425000.0</td>\n",
       "      <td>93.269668</td>\n",
       "    </tr>\n",
       "    <tr>\n",
       "      <th>14</th>\n",
       "      <td>Indiana</td>\n",
       "      <td>145000.0</td>\n",
       "      <td>271200.0</td>\n",
       "      <td>87.034483</td>\n",
       "    </tr>\n",
       "    <tr>\n",
       "      <th>49</th>\n",
       "      <td>Wisconsin</td>\n",
       "      <td>188450.0</td>\n",
       "      <td>349900.0</td>\n",
       "      <td>85.672592</td>\n",
       "    </tr>\n",
       "    <tr>\n",
       "      <th>47</th>\n",
       "      <td>Washington</td>\n",
       "      <td>342500.0</td>\n",
       "      <td>629993.0</td>\n",
       "      <td>83.939562</td>\n",
       "    </tr>\n",
       "    <tr>\n",
       "      <th>29</th>\n",
       "      <td>New Hampshire</td>\n",
       "      <td>275000.0</td>\n",
       "      <td>499450.0</td>\n",
       "      <td>81.618182</td>\n",
       "    </tr>\n",
       "    <tr>\n",
       "      <th>16</th>\n",
       "      <td>Kansas</td>\n",
       "      <td>156450.0</td>\n",
       "      <td>280595.0</td>\n",
       "      <td>79.351230</td>\n",
       "    </tr>\n",
       "    <tr>\n",
       "      <th>44</th>\n",
       "      <td>Utah</td>\n",
       "      <td>325000.0</td>\n",
       "      <td>579500.0</td>\n",
       "      <td>78.307692</td>\n",
       "    </tr>\n",
       "  </tbody>\n",
       "</table>\n",
       "</div>"
      ],
      "text/plain": [
       "month          state  2016-09-01 00:00:00  2022-09-01 00:00:00  pct_change\n",
       "12             Idaho             258998.0             549900.0  112.318242\n",
       "26           Montana             309250.0             629950.0  103.702506\n",
       "32          New York             299950.0             582450.0   94.182364\n",
       "42         Tennessee             219900.0             425000.0   93.269668\n",
       "14           Indiana             145000.0             271200.0   87.034483\n",
       "49         Wisconsin             188450.0             349900.0   85.672592\n",
       "47        Washington             342500.0             629993.0   83.939562\n",
       "29     New Hampshire             275000.0             499450.0   81.618182\n",
       "16            Kansas             156450.0             280595.0   79.351230\n",
       "44              Utah             325000.0             579500.0   78.307692"
      ]
     },
     "execution_count": 97,
     "metadata": {},
     "output_type": "execute_result"
    }
   ],
   "source": [
    "c = realtor_data.query(\"month in ['2016-09-01','2022-09-01']\")[['month','state','median_listing_price']].pivot(index = 'state',columns = 'month',values = 'median_listing_price').reset_index()\n",
    "c['pct_change'] = (c.iloc[:,2] - c.iloc[:,1])/c.iloc[:,1]*100\n",
    "\n",
    "a = c.sort_values(by = 'pct_change', ascending = False).head(10)\n",
    "b = c.sort_values(by = 'pct_change', ascending =True).head(10)\n",
    "\n",
    "a\n"
   ]
  },
  {
   "cell_type": "code",
   "execution_count": 98,
   "metadata": {},
   "outputs": [
    {
     "data": {
      "text/html": [
       "<div>\n",
       "<style scoped>\n",
       "    .dataframe tbody tr th:only-of-type {\n",
       "        vertical-align: middle;\n",
       "    }\n",
       "\n",
       "    .dataframe tbody tr th {\n",
       "        vertical-align: top;\n",
       "    }\n",
       "\n",
       "    .dataframe thead th {\n",
       "        text-align: right;\n",
       "    }\n",
       "</style>\n",
       "<table border=\"1\" class=\"dataframe\">\n",
       "  <thead>\n",
       "    <tr style=\"text-align: right;\">\n",
       "      <th>month</th>\n",
       "      <th>state</th>\n",
       "      <th>2016-09-01 00:00:00</th>\n",
       "      <th>2022-09-01 00:00:00</th>\n",
       "      <th>pct_change</th>\n",
       "    </tr>\n",
       "  </thead>\n",
       "  <tbody>\n",
       "    <tr>\n",
       "      <th>8</th>\n",
       "      <td>District of Columbia</td>\n",
       "      <td>549950.0</td>\n",
       "      <td>621250.0</td>\n",
       "      <td>12.964815</td>\n",
       "    </tr>\n",
       "    <tr>\n",
       "      <th>34</th>\n",
       "      <td>North Dakota</td>\n",
       "      <td>239900.0</td>\n",
       "      <td>289900.0</td>\n",
       "      <td>20.842018</td>\n",
       "    </tr>\n",
       "    <tr>\n",
       "      <th>11</th>\n",
       "      <td>Hawaii</td>\n",
       "      <td>649963.0</td>\n",
       "      <td>865500.0</td>\n",
       "      <td>33.161426</td>\n",
       "    </tr>\n",
       "    <tr>\n",
       "      <th>20</th>\n",
       "      <td>Maryland</td>\n",
       "      <td>299900.0</td>\n",
       "      <td>399950.0</td>\n",
       "      <td>33.361120</td>\n",
       "    </tr>\n",
       "    <tr>\n",
       "      <th>13</th>\n",
       "      <td>Illinois</td>\n",
       "      <td>219999.0</td>\n",
       "      <td>299000.0</td>\n",
       "      <td>35.909709</td>\n",
       "    </tr>\n",
       "    <tr>\n",
       "      <th>48</th>\n",
       "      <td>West Virginia</td>\n",
       "      <td>159813.0</td>\n",
       "      <td>218575.0</td>\n",
       "      <td>36.769224</td>\n",
       "    </tr>\n",
       "    <tr>\n",
       "      <th>18</th>\n",
       "      <td>Louisiana</td>\n",
       "      <td>205428.0</td>\n",
       "      <td>284950.0</td>\n",
       "      <td>38.710400</td>\n",
       "    </tr>\n",
       "    <tr>\n",
       "      <th>1</th>\n",
       "      <td>Alaska</td>\n",
       "      <td>285000.0</td>\n",
       "      <td>399700.0</td>\n",
       "      <td>40.245614</td>\n",
       "    </tr>\n",
       "    <tr>\n",
       "      <th>5</th>\n",
       "      <td>Colorado</td>\n",
       "      <td>423315.0</td>\n",
       "      <td>600000.0</td>\n",
       "      <td>41.738422</td>\n",
       "    </tr>\n",
       "    <tr>\n",
       "      <th>43</th>\n",
       "      <td>Texas</td>\n",
       "      <td>274700.0</td>\n",
       "      <td>389945.0</td>\n",
       "      <td>41.953040</td>\n",
       "    </tr>\n",
       "  </tbody>\n",
       "</table>\n",
       "</div>"
      ],
      "text/plain": [
       "month                 state  2016-09-01 00:00:00  2022-09-01 00:00:00  \\\n",
       "8      District of Columbia             549950.0             621250.0   \n",
       "34             North Dakota             239900.0             289900.0   \n",
       "11                   Hawaii             649963.0             865500.0   \n",
       "20                 Maryland             299900.0             399950.0   \n",
       "13                 Illinois             219999.0             299000.0   \n",
       "48            West Virginia             159813.0             218575.0   \n",
       "18                Louisiana             205428.0             284950.0   \n",
       "1                    Alaska             285000.0             399700.0   \n",
       "5                  Colorado             423315.0             600000.0   \n",
       "43                    Texas             274700.0             389945.0   \n",
       "\n",
       "month  pct_change  \n",
       "8       12.964815  \n",
       "34      20.842018  \n",
       "11      33.161426  \n",
       "20      33.361120  \n",
       "13      35.909709  \n",
       "48      36.769224  \n",
       "18      38.710400  \n",
       "1       40.245614  \n",
       "5       41.738422  \n",
       "43      41.953040  "
      ]
     },
     "execution_count": 98,
     "metadata": {},
     "output_type": "execute_result"
    }
   ],
   "source": [
    "b"
   ]
  },
  {
   "cell_type": "code",
   "execution_count": 96,
   "metadata": {},
   "outputs": [
    {
     "ename": "ValueError",
     "evalue": "\n    Invalid value of type 'builtins.method' received for the 'x' property of bar\n        Received value: <bound method NDFrame.pct_change of month          state  2016-09-01 00:00:00  2022-09-01 00:00:00  pct_change\n12             Idaho             258998.0             549900.0  112.318242\n26           Montana             309250.0             629950.0  103.702506\n32          New York             299950.0             582450.0   94.182364\n42         Tennessee             219900.0             425000.0   93.269668\n14           Indiana             145000.0             271200.0   87.034483\n49         Wisconsin             188450.0             349900.0   85.672592\n47        Washington             342500.0             629993.0   83.939562\n29     New Hampshire             275000.0             499450.0   81.618182\n16            Kansas             156450.0             280595.0   79.351230\n44              Utah             325000.0             579500.0   78.307692>\n\n    The 'x' property is an array that may be specified as a tuple,\n    list, numpy array, or pandas Series",
     "output_type": "error",
     "traceback": [
      "\u001b[1;31m---------------------------------------------------------------------------\u001b[0m",
      "\u001b[1;31mValueError\u001b[0m                                Traceback (most recent call last)",
      "\u001b[1;32mc:\\Users\\parke\\data_work\\datascience\\realtor_com_data_analysis.ipynb Cell 12\u001b[0m in \u001b[0;36m<cell line: 6>\u001b[1;34m()\u001b[0m\n\u001b[0;32m      <a href='vscode-notebook-cell:/c%3A/Users/parke/data_work/datascience/realtor_com_data_analysis.ipynb#X23sZmlsZQ%3D%3D?line=0'>1</a>\u001b[0m fig \u001b[39m=\u001b[39m make_subplots(\n\u001b[0;32m      <a href='vscode-notebook-cell:/c%3A/Users/parke/data_work/datascience/realtor_com_data_analysis.ipynb#X23sZmlsZQ%3D%3D?line=1'>2</a>\u001b[0m         rows\u001b[39m=\u001b[39m\u001b[39m1\u001b[39m, \n\u001b[0;32m      <a href='vscode-notebook-cell:/c%3A/Users/parke/data_work/datascience/realtor_com_data_analysis.ipynb#X23sZmlsZQ%3D%3D?line=2'>3</a>\u001b[0m         cols\u001b[39m=\u001b[39m\u001b[39m2\u001b[39m,\n\u001b[0;32m      <a href='vscode-notebook-cell:/c%3A/Users/parke/data_work/datascience/realtor_com_data_analysis.ipynb#X23sZmlsZQ%3D%3D?line=3'>4</a>\u001b[0m         subplot_titles\u001b[39m=\u001b[39m(\u001b[39m'\u001b[39m\u001b[39mLargest Increases\u001b[39m\u001b[39m'\u001b[39m, \u001b[39m'\u001b[39m\u001b[39mSmallest Increases\u001b[39m\u001b[39m'\u001b[39m))\n\u001b[0;32m      <a href='vscode-notebook-cell:/c%3A/Users/parke/data_work/datascience/realtor_com_data_analysis.ipynb#X23sZmlsZQ%3D%3D?line=5'>6</a>\u001b[0m fig\u001b[39m.\u001b[39madd_trace(\n\u001b[1;32m----> <a href='vscode-notebook-cell:/c%3A/Users/parke/data_work/datascience/realtor_com_data_analysis.ipynb#X23sZmlsZQ%3D%3D?line=6'>7</a>\u001b[0m     go\u001b[39m.\u001b[39;49mBar(x\u001b[39m=\u001b[39;49ma\u001b[39m.\u001b[39;49mpct_change, y\u001b[39m=\u001b[39;49ma\u001b[39m.\u001b[39;49mstate, orientation\u001b[39m=\u001b[39;49m \u001b[39m'\u001b[39;49m\u001b[39mh\u001b[39;49m\u001b[39m'\u001b[39;49m),\n\u001b[0;32m      <a href='vscode-notebook-cell:/c%3A/Users/parke/data_work/datascience/realtor_com_data_analysis.ipynb#X23sZmlsZQ%3D%3D?line=7'>8</a>\u001b[0m     row\u001b[39m=\u001b[39m\u001b[39m1\u001b[39m, col\u001b[39m=\u001b[39m\u001b[39m1\u001b[39m)\n\u001b[0;32m     <a href='vscode-notebook-cell:/c%3A/Users/parke/data_work/datascience/realtor_com_data_analysis.ipynb#X23sZmlsZQ%3D%3D?line=9'>10</a>\u001b[0m fig\u001b[39m.\u001b[39madd_trace(\n\u001b[0;32m     <a href='vscode-notebook-cell:/c%3A/Users/parke/data_work/datascience/realtor_com_data_analysis.ipynb#X23sZmlsZQ%3D%3D?line=10'>11</a>\u001b[0m     go\u001b[39m.\u001b[39mBar(x\u001b[39m=\u001b[39mb\u001b[39m.\u001b[39mpct_change, y\u001b[39m=\u001b[39mb\u001b[39m.\u001b[39mstate, orientation \u001b[39m=\u001b[39m \u001b[39m'\u001b[39m\u001b[39mh\u001b[39m\u001b[39m'\u001b[39m),\n\u001b[0;32m     <a href='vscode-notebook-cell:/c%3A/Users/parke/data_work/datascience/realtor_com_data_analysis.ipynb#X23sZmlsZQ%3D%3D?line=11'>12</a>\u001b[0m     row\u001b[39m=\u001b[39m\u001b[39m1\u001b[39m, col\u001b[39m=\u001b[39m\u001b[39m2\u001b[39m\n\u001b[0;32m     <a href='vscode-notebook-cell:/c%3A/Users/parke/data_work/datascience/realtor_com_data_analysis.ipynb#X23sZmlsZQ%3D%3D?line=12'>13</a>\u001b[0m )\n\u001b[0;32m     <a href='vscode-notebook-cell:/c%3A/Users/parke/data_work/datascience/realtor_com_data_analysis.ipynb#X23sZmlsZQ%3D%3D?line=14'>15</a>\u001b[0m \u001b[39m# update y axes\u001b[39;00m\n",
      "File \u001b[1;32mc:\\Users\\parke\\anaconda3\\envs\\myenv\\lib\\site-packages\\plotly\\graph_objs\\_bar.py:3174\u001b[0m, in \u001b[0;36mBar.__init__\u001b[1;34m(self, arg, alignmentgroup, base, basesrc, cliponaxis, constraintext, customdata, customdatasrc, dx, dy, error_x, error_y, hoverinfo, hoverinfosrc, hoverlabel, hovertemplate, hovertemplatesrc, hovertext, hovertextsrc, ids, idssrc, insidetextanchor, insidetextfont, legendgroup, legendgrouptitle, legendrank, marker, meta, metasrc, name, offset, offsetgroup, offsetsrc, opacity, orientation, outsidetextfont, selected, selectedpoints, showlegend, stream, text, textangle, textfont, textposition, textpositionsrc, textsrc, texttemplate, texttemplatesrc, uid, uirevision, unselected, visible, width, widthsrc, x, x0, xaxis, xcalendar, xhoverformat, xperiod, xperiod0, xperiodalignment, xsrc, y, y0, yaxis, ycalendar, yhoverformat, yperiod, yperiod0, yperiodalignment, ysrc, **kwargs)\u001b[0m\n\u001b[0;32m   3172\u001b[0m _v \u001b[39m=\u001b[39m x \u001b[39mif\u001b[39;00m x \u001b[39mis\u001b[39;00m \u001b[39mnot\u001b[39;00m \u001b[39mNone\u001b[39;00m \u001b[39melse\u001b[39;00m _v\n\u001b[0;32m   3173\u001b[0m \u001b[39mif\u001b[39;00m _v \u001b[39mis\u001b[39;00m \u001b[39mnot\u001b[39;00m \u001b[39mNone\u001b[39;00m:\n\u001b[1;32m-> 3174\u001b[0m     \u001b[39mself\u001b[39m[\u001b[39m\"\u001b[39m\u001b[39mx\u001b[39m\u001b[39m\"\u001b[39m] \u001b[39m=\u001b[39m _v\n\u001b[0;32m   3175\u001b[0m _v \u001b[39m=\u001b[39m arg\u001b[39m.\u001b[39mpop(\u001b[39m\"\u001b[39m\u001b[39mx0\u001b[39m\u001b[39m\"\u001b[39m, \u001b[39mNone\u001b[39;00m)\n\u001b[0;32m   3176\u001b[0m _v \u001b[39m=\u001b[39m x0 \u001b[39mif\u001b[39;00m x0 \u001b[39mis\u001b[39;00m \u001b[39mnot\u001b[39;00m \u001b[39mNone\u001b[39;00m \u001b[39melse\u001b[39;00m _v\n",
      "File \u001b[1;32mc:\\Users\\parke\\anaconda3\\envs\\myenv\\lib\\site-packages\\plotly\\basedatatypes.py:4859\u001b[0m, in \u001b[0;36mBasePlotlyType.__setitem__\u001b[1;34m(self, prop, value)\u001b[0m\n\u001b[0;32m   4855\u001b[0m         \u001b[39mself\u001b[39m\u001b[39m.\u001b[39m_set_array_prop(prop, value)\n\u001b[0;32m   4857\u001b[0m     \u001b[39m# ### Handle simple property ###\u001b[39;00m\n\u001b[0;32m   4858\u001b[0m     \u001b[39melse\u001b[39;00m:\n\u001b[1;32m-> 4859\u001b[0m         \u001b[39mself\u001b[39;49m\u001b[39m.\u001b[39;49m_set_prop(prop, value)\n\u001b[0;32m   4860\u001b[0m \u001b[39melse\u001b[39;00m:\n\u001b[0;32m   4861\u001b[0m     \u001b[39m# Make sure properties dict is initialized\u001b[39;00m\n\u001b[0;32m   4862\u001b[0m     \u001b[39mself\u001b[39m\u001b[39m.\u001b[39m_init_props()\n",
      "File \u001b[1;32mc:\\Users\\parke\\anaconda3\\envs\\myenv\\lib\\site-packages\\plotly\\basedatatypes.py:5203\u001b[0m, in \u001b[0;36mBasePlotlyType._set_prop\u001b[1;34m(self, prop, val)\u001b[0m\n\u001b[0;32m   5201\u001b[0m         \u001b[39mreturn\u001b[39;00m\n\u001b[0;32m   5202\u001b[0m     \u001b[39melse\u001b[39;00m:\n\u001b[1;32m-> 5203\u001b[0m         \u001b[39mraise\u001b[39;00m err\n\u001b[0;32m   5205\u001b[0m \u001b[39m# val is None\u001b[39;00m\n\u001b[0;32m   5206\u001b[0m \u001b[39m# -----------\u001b[39;00m\n\u001b[0;32m   5207\u001b[0m \u001b[39mif\u001b[39;00m val \u001b[39mis\u001b[39;00m \u001b[39mNone\u001b[39;00m:\n\u001b[0;32m   5208\u001b[0m     \u001b[39m# Check if we should send null update\u001b[39;00m\n",
      "File \u001b[1;32mc:\\Users\\parke\\anaconda3\\envs\\myenv\\lib\\site-packages\\plotly\\basedatatypes.py:5198\u001b[0m, in \u001b[0;36mBasePlotlyType._set_prop\u001b[1;34m(self, prop, val)\u001b[0m\n\u001b[0;32m   5195\u001b[0m validator \u001b[39m=\u001b[39m \u001b[39mself\u001b[39m\u001b[39m.\u001b[39m_get_validator(prop)\n\u001b[0;32m   5197\u001b[0m \u001b[39mtry\u001b[39;00m:\n\u001b[1;32m-> 5198\u001b[0m     val \u001b[39m=\u001b[39m validator\u001b[39m.\u001b[39;49mvalidate_coerce(val)\n\u001b[0;32m   5199\u001b[0m \u001b[39mexcept\u001b[39;00m \u001b[39mValueError\u001b[39;00m \u001b[39mas\u001b[39;00m err:\n\u001b[0;32m   5200\u001b[0m     \u001b[39mif\u001b[39;00m \u001b[39mself\u001b[39m\u001b[39m.\u001b[39m_skip_invalid:\n",
      "File \u001b[1;32mc:\\Users\\parke\\anaconda3\\envs\\myenv\\lib\\site-packages\\_plotly_utils\\basevalidators.py:404\u001b[0m, in \u001b[0;36mDataArrayValidator.validate_coerce\u001b[1;34m(self, v)\u001b[0m\n\u001b[0;32m    402\u001b[0m     v \u001b[39m=\u001b[39m to_scalar_or_list(v)\n\u001b[0;32m    403\u001b[0m \u001b[39melse\u001b[39;00m:\n\u001b[1;32m--> 404\u001b[0m     \u001b[39mself\u001b[39;49m\u001b[39m.\u001b[39;49mraise_invalid_val(v)\n\u001b[0;32m    405\u001b[0m \u001b[39mreturn\u001b[39;00m v\n",
      "File \u001b[1;32mc:\\Users\\parke\\anaconda3\\envs\\myenv\\lib\\site-packages\\_plotly_utils\\basevalidators.py:288\u001b[0m, in \u001b[0;36mBaseValidator.raise_invalid_val\u001b[1;34m(self, v, inds)\u001b[0m\n\u001b[0;32m    285\u001b[0m             \u001b[39mfor\u001b[39;00m i \u001b[39min\u001b[39;00m inds:\n\u001b[0;32m    286\u001b[0m                 name \u001b[39m+\u001b[39m\u001b[39m=\u001b[39m \u001b[39m\"\u001b[39m\u001b[39m[\u001b[39m\u001b[39m\"\u001b[39m \u001b[39m+\u001b[39m \u001b[39mstr\u001b[39m(i) \u001b[39m+\u001b[39m \u001b[39m\"\u001b[39m\u001b[39m]\u001b[39m\u001b[39m\"\u001b[39m\n\u001b[1;32m--> 288\u001b[0m         \u001b[39mraise\u001b[39;00m \u001b[39mValueError\u001b[39;00m(\n\u001b[0;32m    289\u001b[0m             \u001b[39m\"\"\"\u001b[39;00m\n\u001b[0;32m    290\u001b[0m \u001b[39m    Invalid value of type {typ} received for the '{name}' property of {pname}\u001b[39;00m\n\u001b[0;32m    291\u001b[0m \u001b[39m        Received value: {v}\u001b[39;00m\n\u001b[0;32m    292\u001b[0m \n\u001b[0;32m    293\u001b[0m \u001b[39m{valid_clr_desc}\"\"\"\u001b[39;00m\u001b[39m.\u001b[39mformat(\n\u001b[0;32m    294\u001b[0m                 name\u001b[39m=\u001b[39mname,\n\u001b[0;32m    295\u001b[0m                 pname\u001b[39m=\u001b[39m\u001b[39mself\u001b[39m\u001b[39m.\u001b[39mparent_name,\n\u001b[0;32m    296\u001b[0m                 typ\u001b[39m=\u001b[39mtype_str(v),\n\u001b[0;32m    297\u001b[0m                 v\u001b[39m=\u001b[39m\u001b[39mrepr\u001b[39m(v),\n\u001b[0;32m    298\u001b[0m                 valid_clr_desc\u001b[39m=\u001b[39m\u001b[39mself\u001b[39m\u001b[39m.\u001b[39mdescription(),\n\u001b[0;32m    299\u001b[0m             )\n\u001b[0;32m    300\u001b[0m         )\n",
      "\u001b[1;31mValueError\u001b[0m: \n    Invalid value of type 'builtins.method' received for the 'x' property of bar\n        Received value: <bound method NDFrame.pct_change of month          state  2016-09-01 00:00:00  2022-09-01 00:00:00  pct_change\n12             Idaho             258998.0             549900.0  112.318242\n26           Montana             309250.0             629950.0  103.702506\n32          New York             299950.0             582450.0   94.182364\n42         Tennessee             219900.0             425000.0   93.269668\n14           Indiana             145000.0             271200.0   87.034483\n49         Wisconsin             188450.0             349900.0   85.672592\n47        Washington             342500.0             629993.0   83.939562\n29     New Hampshire             275000.0             499450.0   81.618182\n16            Kansas             156450.0             280595.0   79.351230\n44              Utah             325000.0             579500.0   78.307692>\n\n    The 'x' property is an array that may be specified as a tuple,\n    list, numpy array, or pandas Series"
     ]
    }
   ],
   "source": [
    "fig = make_subplots(\n",
    "        rows=1, \n",
    "        cols=2,\n",
    "        subplot_titles=('Largest Increases', 'Smallest Increases'))\n",
    "\n",
    "fig.add_trace(\n",
    "    go.Bar(x=a.pct_change, y=a.state, orientation= 'h'),\n",
    "    row=1, col=1)\n",
    "\n",
    "fig.add_trace(\n",
    "    go.Bar(x=b.pct_change, y=b.state, orientation = 'h'),\n",
    "    row=1, col=2\n",
    ")\n",
    "\n",
    "# update y axes\n",
    "fig.update_xaxes(title_text=\"Percent Chance in Median List Prices\", row=1, col=1)\n",
    "fig.update_xaxes(title_text=\"Percent Chance in Median List Prices\", row=1, col=2)\n",
    "\n",
    "fig.update_layout(title_text=\"States with largest and smallest appreciation since September 2016\")\n",
    "fig.show()"
   ]
  }
 ],
 "metadata": {
  "kernelspec": {
   "display_name": "Python 3.9.13 ('myenv')",
   "language": "python",
   "name": "python3"
  },
  "language_info": {
   "codemirror_mode": {
    "name": "ipython",
    "version": 3
   },
   "file_extension": ".py",
   "mimetype": "text/x-python",
   "name": "python",
   "nbconvert_exporter": "python",
   "pygments_lexer": "ipython3",
   "version": "3.9.13"
  },
  "orig_nbformat": 4,
  "vscode": {
   "interpreter": {
    "hash": "2189321822805078e0453408601d53350d8c5616eecaffabadf8631a8d2d0c7b"
   }
  }
 },
 "nbformat": 4,
 "nbformat_minor": 2
}
