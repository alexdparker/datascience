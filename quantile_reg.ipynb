{
 "cells": [
  {
   "cell_type": "markdown",
   "metadata": {},
   "source": [
    "# An Introduction to Quantile Regression\n",
    "__Date__: Fall 2022 <br>\n",
    "__Author__: Alex Parker\n",
    "\n",
    "This notebook borrows heavily from the __[Medium blog post](https://towardsdatascience.com/mean-vs-median-causal-effect-37057a6c54c9)__ by Metteo Courthoud \n",
    "\n",
    "#### Quantile Regression Pros:\n",
    "1. Can be more informative than OLS by showing impact on the entire distribution\n",
    "2. Useful for highly skewed data that may have a large proportion of 0 values\n",
    "3. Can be used to show effects at different quantiles\n",
    "4. More robust to outliers than OLS\n",
    "\n",
    "\n",
    "#### Quantile Regression Cons:\n",
    "1. median analysis does not translate well to estimated a total business impact number\n",
    "2. Assumes rank invariance: the ranks of the observations do not change as a result of an intervention\n",
    "\n",
    "#### Interpretation\n",
    "Under the asusmption of rank invariance the interpretation for a QR coefficient is the estimated effect of a single observation at the appropriate qunatile. Simply put, this means that if a QR is run on the 50th percentile of customers, then the coefficients represent the estimated effects of the covariates on the median customer.\n",
    "\n"
   ]
  },
  {
   "cell_type": "code",
   "execution_count": 1,
   "metadata": {},
   "outputs": [],
   "source": [
    "import numpy as np\n",
    "import pandas as pd \n",
    "import matplotlib.pyplot as plt\n",
    "import seaborn as sns\n",
    "import plotly.express as px \n",
    "import plotly.graph_objects as go\n",
    "import statsmodels.api as sm\n",
    "import statsmodels.formula.api as smf\n",
    "import scipy\n",
    "\n",
    "sns.set_theme(context = 'notebook', style = 'whitegrid')"
   ]
  },
  {
   "cell_type": "code",
   "execution_count": 2,
   "metadata": {},
   "outputs": [
    {
     "name": "stdout",
     "output_type": "stream",
     "text": [
      "You've chosen vscode for the ploltly renderer, these images will not display in github but will be animated in a VScode notebook environment\n"
     ]
    }
   ],
   "source": [
    "### Set the renderer to 'svg' or 'png' for static images (visible in github) or 'vscode' for interactive (not viisble in github)\n",
    "#plotly_renderer = 'svg'\n",
    "plotly_renderer = 'vscode'\n",
    "\n",
    "if plotly_renderer in ['svg','png']:\n",
    "    print(\"You've chosen static images for plotly data visualizations, these should display in github\")\n",
    "elif plotly_renderer == 'vscode':\n",
    "    print(\"You've chosen vscode for the ploltly renderer, these images will not display in github but will be animated in a VScode notebook environment\")\n",
    "else:\n",
    "     print(\"please choose an appropriate plotly image renderer\")"
   ]
  },
  {
   "cell_type": "code",
   "execution_count": 3,
   "metadata": {},
   "outputs": [],
   "source": [
    "def smf_results_to_df(results):\n",
    "    '''take the result of an statsmodel results table and transforms it into a dataframe'''\n",
    "    p_value = results.pvalues\n",
    "    coeff = results.params\n",
    "    std_err = results.bse\n",
    "    conf_lb = results.conf_int()[0]\n",
    "    conf_ub = results.conf_int()[1]\n",
    "\n",
    "    results_df = pd.DataFrame({\"p_value\":p_value,\n",
    "                               \"coeff\":coeff,\n",
    "                               \"std_err\":std_err,\n",
    "                               \"conf_lb\":conf_lb,\n",
    "                               \"conf_ub\":conf_ub\n",
    "                                })\n",
    "\n",
    "    #Reordering...\n",
    "    results_df = results_df[[\"coeff\",\"std_err\",\"p_value\",\"conf_lb\",\"conf_ub\"]]\n",
    "    return results_df"
   ]
  },
  {
   "cell_type": "markdown",
   "metadata": {},
   "source": [
    "### Data Generation: Randomized Experiment with some demographic information"
   ]
  },
  {
   "cell_type": "code",
   "execution_count": 4,
   "metadata": {},
   "outputs": [
    {
     "data": {
      "text/html": [
       "<div>\n",
       "<style scoped>\n",
       "    .dataframe tbody tr th:only-of-type {\n",
       "        vertical-align: middle;\n",
       "    }\n",
       "\n",
       "    .dataframe tbody tr th {\n",
       "        vertical-align: top;\n",
       "    }\n",
       "\n",
       "    .dataframe thead th {\n",
       "        text-align: right;\n",
       "    }\n",
       "</style>\n",
       "<table border=\"1\" class=\"dataframe\">\n",
       "  <thead>\n",
       "    <tr style=\"text-align: right;\">\n",
       "      <th></th>\n",
       "      <th>spend</th>\n",
       "      <th>treatment</th>\n",
       "      <th>age</th>\n",
       "      <th>gender</th>\n",
       "      <th>income</th>\n",
       "    </tr>\n",
       "  </thead>\n",
       "  <tbody>\n",
       "    <tr>\n",
       "      <th>0</th>\n",
       "      <td>0.00</td>\n",
       "      <td>control</td>\n",
       "      <td>37</td>\n",
       "      <td>female</td>\n",
       "      <td>1897.434061</td>\n",
       "    </tr>\n",
       "    <tr>\n",
       "      <th>1</th>\n",
       "      <td>3.49</td>\n",
       "      <td>treatment</td>\n",
       "      <td>36</td>\n",
       "      <td>male</td>\n",
       "      <td>1898.904852</td>\n",
       "    </tr>\n",
       "    <tr>\n",
       "      <th>2</th>\n",
       "      <td>47.52</td>\n",
       "      <td>treatment</td>\n",
       "      <td>47</td>\n",
       "      <td>male</td>\n",
       "      <td>2206.323612</td>\n",
       "    </tr>\n",
       "    <tr>\n",
       "      <th>3</th>\n",
       "      <td>98.43</td>\n",
       "      <td>treatment</td>\n",
       "      <td>41</td>\n",
       "      <td>female</td>\n",
       "      <td>2299.960652</td>\n",
       "    </tr>\n",
       "    <tr>\n",
       "      <th>4</th>\n",
       "      <td>193.05</td>\n",
       "      <td>control</td>\n",
       "      <td>69</td>\n",
       "      <td>male</td>\n",
       "      <td>4356.590557</td>\n",
       "    </tr>\n",
       "  </tbody>\n",
       "</table>\n",
       "</div>"
      ],
      "text/plain": [
       "    spend  treatment  age  gender       income\n",
       "0    0.00    control   37  female  1897.434061\n",
       "1    3.49  treatment   36    male  1898.904852\n",
       "2   47.52  treatment   47    male  2206.323612\n",
       "3   98.43  treatment   41  female  2299.960652\n",
       "4  193.05    control   69    male  4356.590557"
      ]
     },
     "execution_count": 4,
     "metadata": {},
     "output_type": "execute_result"
    }
   ],
   "source": [
    "n = 10000\n",
    "\n",
    "# personal characteristics\n",
    "age = np.random.randint(18, 70, n)\n",
    "gender = np.random.choice(['male', 'female','other'], p=[0.51, 0.41,.08], size= n)\n",
    "income = np.random.lognormal(4 + np.log(age), 0.1, n)\n",
    "\n",
    "# treatment status\n",
    "treatment = np.random.choice(['control','treatment'],p =[.5,.5], size = n)\n",
    "\n",
    "# Dependant variable\n",
    "spend = 50*(gender=='female') + 25*(gender == 'other') + (income/10)*np.random.normal(loc = 1, scale = .1, size = n) + (treatment == 'treatment')*np.sqrt(income)\n",
    "spend = np.maximum(np.round(spend, 2) - 250, 0)\n",
    "\n",
    "# Generate the dataframe\n",
    "df = pd.DataFrame({'spend':spend,'treatment': treatment, 'age': age, 'gender': gender,'income':income})\n",
    "df = df.assign(\n",
    "    treatment = df.treatment.astype('category'),\n",
    "    gender = df.gender.astype('category'))\n",
    "\n",
    "df.head()"
   ]
  },
  {
   "cell_type": "markdown",
   "metadata": {},
   "source": [
    "#### The dependent variable is highly skewed with a high degree of 0 values"
   ]
  },
  {
   "cell_type": "code",
   "execution_count": 5,
   "metadata": {},
   "outputs": [
    {
     "data": {
      "text/plain": [
       "<seaborn.axisgrid.FacetGrid at 0x2f2d5b661f0>"
      ]
     },
     "execution_count": 5,
     "metadata": {},
     "output_type": "execute_result"
    },
    {
     "data": {
      "image/png": "[encoded data removed]",
      "text/plain": [
       "<Figure size 500x500 with 1 Axes>"
      ]
     },
     "metadata": {},
     "output_type": "display_data"
    }
   ],
   "source": [
    "sns.displot(df, x = 'spend', stat = 'density')"
   ]
  },
  {
   "cell_type": "code",
   "execution_count": 6,
   "metadata": {},
   "outputs": [
    {
     "data": {
      "text/plain": [
       "count    10000.000000\n",
       "mean        61.445749\n",
       "std         73.100774\n",
       "min          0.000000\n",
       "10%          0.000000\n",
       "25%          0.000000\n",
       "50%         32.350000\n",
       "75%        108.502500\n",
       "90%        171.967000\n",
       "max        400.520000\n",
       "Name: spend, dtype: float64"
      ]
     },
     "execution_count": 6,
     "metadata": {},
     "output_type": "execute_result"
    }
   ],
   "source": [
    "df['spend'].describe(percentiles = [.1,.25,.5,.75,.9])"
   ]
  },
  {
   "cell_type": "code",
   "execution_count": 7,
   "metadata": {},
   "outputs": [
    {
     "data": {
      "text/plain": [
       "Text(0.5, 1.0, 'Income and Age')"
      ]
     },
     "execution_count": 7,
     "metadata": {},
     "output_type": "execute_result"
    }
   ],
   "source": [
    "sample = df.sample(frac = .1)\n",
    "\n",
    "fig, axes = plt.subplots(1, 3, figsize=(15, 5), sharey=False)\n",
    "fig.suptitle('Scatterplots')\n",
    "\n",
    "# Bulbasaur\n",
    "sns.scatterplot(ax=axes[0], x=sample.age, y=sample.spend, hue = sample.treatment)\n",
    "axes[0].set_title('Spend and Age')\n",
    "\n",
    "# Charmander\n",
    "sns.scatterplot(ax=axes[1], x=sample.income, y=sample.spend, hue = sample.treatment)\n",
    "axes[1].set_title('Spend and Income')\n",
    "\n",
    "# Squirtle\n",
    "sns.scatterplot(ax=axes[2], x=sample.age, y=sample.income, hue = sample.treatment)\n",
    "axes[2].set_title('Income and Age')"
   ]
  },
  {
   "cell_type": "code",
   "execution_count": 8,
   "metadata": {},
   "outputs": [
    {
     "data": {
      "text/plain": [
       "<seaborn.axisgrid.FacetGrid at 0x2f2d842eb50>"
      ]
     },
     "execution_count": 8,
     "metadata": {},
     "output_type": "execute_result"
    }
   ],
   "source": [
    "### How is spend correlated with the categorical variables\n",
    "sns.catplot(data = df, x = 'gender', y = 'spend', hue = 'treatment', kind = 'box')"
   ]
  },
  {
   "cell_type": "code",
   "execution_count": 9,
   "metadata": {},
   "outputs": [
    {
     "data": {
      "text/html": [
       "<div>\n",
       "<style scoped>\n",
       "    .dataframe tbody tr th:only-of-type {\n",
       "        vertical-align: middle;\n",
       "    }\n",
       "\n",
       "    .dataframe tbody tr th {\n",
       "        vertical-align: top;\n",
       "    }\n",
       "\n",
       "    .dataframe thead th {\n",
       "        text-align: right;\n",
       "    }\n",
       "</style>\n",
       "<table border=\"1\" class=\"dataframe\">\n",
       "  <thead>\n",
       "    <tr style=\"text-align: right;\">\n",
       "      <th></th>\n",
       "      <th>spend</th>\n",
       "      <th>treatment</th>\n",
       "      <th>age</th>\n",
       "      <th>gender</th>\n",
       "      <th>income</th>\n",
       "      <th>spend_quantile</th>\n",
       "    </tr>\n",
       "  </thead>\n",
       "  <tbody>\n",
       "    <tr>\n",
       "      <th>0</th>\n",
       "      <td>0.00</td>\n",
       "      <td>control</td>\n",
       "      <td>37</td>\n",
       "      <td>female</td>\n",
       "      <td>1897.434061</td>\n",
       "      <td>4</td>\n",
       "    </tr>\n",
       "    <tr>\n",
       "      <th>1</th>\n",
       "      <td>3.49</td>\n",
       "      <td>treatment</td>\n",
       "      <td>36</td>\n",
       "      <td>male</td>\n",
       "      <td>1898.904852</td>\n",
       "      <td>5</td>\n",
       "    </tr>\n",
       "    <tr>\n",
       "      <th>2</th>\n",
       "      <td>47.52</td>\n",
       "      <td>treatment</td>\n",
       "      <td>47</td>\n",
       "      <td>male</td>\n",
       "      <td>2206.323612</td>\n",
       "      <td>6</td>\n",
       "    </tr>\n",
       "    <tr>\n",
       "      <th>3</th>\n",
       "      <td>98.43</td>\n",
       "      <td>treatment</td>\n",
       "      <td>41</td>\n",
       "      <td>female</td>\n",
       "      <td>2299.960652</td>\n",
       "      <td>8</td>\n",
       "    </tr>\n",
       "    <tr>\n",
       "      <th>4</th>\n",
       "      <td>193.05</td>\n",
       "      <td>control</td>\n",
       "      <td>69</td>\n",
       "      <td>male</td>\n",
       "      <td>4356.590557</td>\n",
       "      <td>10</td>\n",
       "    </tr>\n",
       "  </tbody>\n",
       "</table>\n",
       "</div>"
      ],
      "text/plain": [
       "    spend  treatment  age  gender       income spend_quantile\n",
       "0    0.00    control   37  female  1897.434061              4\n",
       "1    3.49  treatment   36    male  1898.904852              5\n",
       "2   47.52  treatment   47    male  2206.323612              6\n",
       "3   98.43  treatment   41  female  2299.960652              8\n",
       "4  193.05    control   69    male  4356.590557             10"
      ]
     },
     "execution_count": 9,
     "metadata": {},
     "output_type": "execute_result"
    }
   ],
   "source": [
    "df['spend_quantile'] = pd.qcut(df['spend'], q = 10,duplicates='drop', labels = [4,5,6,7,8,9,10])\n",
    "df.head()\n"
   ]
  },
  {
   "cell_type": "code",
   "execution_count": 10,
   "metadata": {},
   "outputs": [
    {
     "name": "stdout",
     "output_type": "stream",
     "text": [
      "0.11.2\n"
     ]
    }
   ],
   "source": [
    "print(sns.__version__)"
   ]
  },
  {
   "cell_type": "code",
   "execution_count": 11,
   "metadata": {},
   "outputs": [
    {
     "ename": "AttributeError",
     "evalue": "'FacetGrid' object has no attribute 'set_yscale'",
     "output_type": "error",
     "traceback": [
      "\u001b[1;31m---------------------------------------------------------------------------\u001b[0m",
      "\u001b[1;31mAttributeError\u001b[0m                            Traceback (most recent call last)",
      "\u001b[1;32mc:\\Users\\parke\\data_work\\datascience\\quantile_reg.ipynb Cell 14\u001b[0m in \u001b[0;36m<cell line: 2>\u001b[1;34m()\u001b[0m\n\u001b[0;32m      <a href='vscode-notebook-cell:/c%3A/Users/parke/data_work/datascience/quantile_reg.ipynb#X16sZmlsZQ%3D%3D?line=0'>1</a>\u001b[0m g \u001b[39m=\u001b[39m sns\u001b[39m.\u001b[39mcatplot(data \u001b[39m=\u001b[39m df, x \u001b[39m=\u001b[39m \u001b[39m'\u001b[39m\u001b[39mspend_quantile\u001b[39m\u001b[39m'\u001b[39m, y \u001b[39m=\u001b[39m \u001b[39m'\u001b[39m\u001b[39mspend\u001b[39m\u001b[39m'\u001b[39m, hue \u001b[39m=\u001b[39m \u001b[39m'\u001b[39m\u001b[39mtreatment\u001b[39m\u001b[39m'\u001b[39m, kind \u001b[39m=\u001b[39m \u001b[39m'\u001b[39m\u001b[39mbox\u001b[39m\u001b[39m'\u001b[39m)\n\u001b[1;32m----> <a href='vscode-notebook-cell:/c%3A/Users/parke/data_work/datascience/quantile_reg.ipynb#X16sZmlsZQ%3D%3D?line=1'>2</a>\u001b[0m g\u001b[39m.\u001b[39;49mset_yscale(\u001b[39m'\u001b[39m\u001b[39mlog\u001b[39m\u001b[39m'\u001b[39m)\n",
      "\u001b[1;31mAttributeError\u001b[0m: 'FacetGrid' object has no attribute 'set_yscale'"
     ]
    }
   ],
   "source": [
    "g = sns.catplot(data = df, x = 'spend_quantile', y = 'spend', hue = 'treatment', kind = 'box')\n",
    "g.set_yscale('log')\n",
    "\n",
    "#fig = px.box(df, x = 'spend_quantile', y = 'spend', color = 'treatment')\n",
    "#fig.show()"
   ]
  },
  {
   "cell_type": "markdown",
   "metadata": {},
   "source": [
    "## Analysis of the Causal Effect of Treatment"
   ]
  },
  {
   "cell_type": "markdown",
   "metadata": {},
   "source": [
    "### Difference of means"
   ]
  },
  {
   "cell_type": "code",
   "execution_count": null,
   "metadata": {},
   "outputs": [
    {
     "data": {
      "text/html": [
       "<div>\n",
       "<style scoped>\n",
       "    .dataframe tbody tr th:only-of-type {\n",
       "        vertical-align: middle;\n",
       "    }\n",
       "\n",
       "    .dataframe tbody tr th {\n",
       "        vertical-align: top;\n",
       "    }\n",
       "\n",
       "    .dataframe thead th {\n",
       "        text-align: right;\n",
       "    }\n",
       "</style>\n",
       "<table border=\"1\" class=\"dataframe\">\n",
       "  <thead>\n",
       "    <tr style=\"text-align: right;\">\n",
       "      <th></th>\n",
       "      <th>count</th>\n",
       "      <th>mean</th>\n",
       "      <th>median</th>\n",
       "      <th>std</th>\n",
       "    </tr>\n",
       "    <tr>\n",
       "      <th>treatment</th>\n",
       "      <th></th>\n",
       "      <th></th>\n",
       "      <th></th>\n",
       "      <th></th>\n",
       "    </tr>\n",
       "  </thead>\n",
       "  <tbody>\n",
       "    <tr>\n",
       "      <th>control</th>\n",
       "      <td>5023</td>\n",
       "      <td>44.140792</td>\n",
       "      <td>4.90</td>\n",
       "      <td>60.695654</td>\n",
       "    </tr>\n",
       "    <tr>\n",
       "      <th>treatment</th>\n",
       "      <td>4977</td>\n",
       "      <td>48.475176</td>\n",
       "      <td>14.72</td>\n",
       "      <td>62.750488</td>\n",
       "    </tr>\n",
       "  </tbody>\n",
       "</table>\n",
       "</div>"
      ],
      "text/plain": [
       "           count       mean  median        std\n",
       "treatment                                     \n",
       "control     5023  44.140792    4.90  60.695654\n",
       "treatment   4977  48.475176   14.72  62.750488"
      ]
     },
     "execution_count": 124,
     "metadata": {},
     "output_type": "execute_result"
    }
   ],
   "source": [
    "df.groupby('treatment')['spend'].agg(['count','mean','median','std'])"
   ]
  },
  {
   "cell_type": "markdown",
   "metadata": {},
   "source": [
    "### OLS"
   ]
  },
  {
   "cell_type": "code",
   "execution_count": null,
   "metadata": {},
   "outputs": [
    {
     "data": {
      "text/html": [
       "<table class=\"simpletable\">\n",
       "<tr>\n",
       "             <td></td>               <th>coef</th>     <th>std err</th>      <th>t</th>      <th>P>|t|</th>  <th>[0.025</th>    <th>0.975]</th>  \n",
       "</tr>\n",
       "<tr>\n",
       "  <th>Intercept</th>              <td>   44.1408</td> <td>    0.871</td> <td>   50.681</td> <td> 0.000</td> <td>   42.434</td> <td>   45.848</td>\n",
       "</tr>\n",
       "<tr>\n",
       "  <th>treatment[T.treatment]</th> <td>    4.3344</td> <td>    1.235</td> <td>    3.511</td> <td> 0.000</td> <td>    1.914</td> <td>    6.754</td>\n",
       "</tr>\n",
       "</table>"
      ],
      "text/plain": [
       "<class 'statsmodels.iolib.table.SimpleTable'>"
      ]
     },
     "execution_count": 125,
     "metadata": {},
     "output_type": "execute_result"
    }
   ],
   "source": [
    "smf.ols(\"spend ~ treatment\", data=df).fit().summary().tables[1]"
   ]
  },
  {
   "cell_type": "code",
   "execution_count": null,
   "metadata": {},
   "outputs": [
    {
     "data": {
      "text/html": [
       "<table class=\"simpletable\">\n",
       "<tr>\n",
       "             <td></td>               <th>coef</th>     <th>std err</th>      <th>t</th>      <th>P>|t|</th>  <th>[0.025</th>    <th>0.975]</th>  \n",
       "</tr>\n",
       "<tr>\n",
       "  <th>Intercept</th>              <td>  -78.0103</td> <td>    1.269</td> <td>  -61.460</td> <td> 0.000</td> <td>  -80.498</td> <td>  -75.522</td>\n",
       "</tr>\n",
       "<tr>\n",
       "  <th>treatment[T.treatment]</th> <td>    3.2689</td> <td>    0.745</td> <td>    4.389</td> <td> 0.000</td> <td>    1.809</td> <td>    4.729</td>\n",
       "</tr>\n",
       "<tr>\n",
       "  <th>gender[T.male]</th>         <td>  -26.8414</td> <td>    0.782</td> <td>  -34.311</td> <td> 0.000</td> <td>  -28.375</td> <td>  -25.308</td>\n",
       "</tr>\n",
       "<tr>\n",
       "  <th>gender[T.other]</th>        <td>  -15.5459</td> <td>    1.416</td> <td>  -10.977</td> <td> 0.000</td> <td>  -18.322</td> <td>  -12.770</td>\n",
       "</tr>\n",
       "<tr>\n",
       "  <th>age</th>                    <td>    3.1647</td> <td>    0.025</td> <td>  127.852</td> <td> 0.000</td> <td>    3.116</td> <td>    3.213</td>\n",
       "</tr>\n",
       "</table>"
      ],
      "text/plain": [
       "<class 'statsmodels.iolib.table.SimpleTable'>"
      ]
     },
     "execution_count": 157,
     "metadata": {},
     "output_type": "execute_result"
    }
   ],
   "source": [
    "smf.ols(\"spend ~ treatment + age + gender\", data=df).fit().summary().tables[1]"
   ]
  },
  {
   "cell_type": "markdown",
   "metadata": {},
   "source": [
    "### Quantile Regression"
   ]
  },
  {
   "cell_type": "code",
   "execution_count": null,
   "metadata": {},
   "outputs": [
    {
     "data": {
      "text/html": [
       "<table class=\"simpletable\">\n",
       "<tr>\n",
       "             <td></td>               <th>coef</th>     <th>std err</th>      <th>t</th>      <th>P>|t|</th>  <th>[0.025</th>    <th>0.975]</th>  \n",
       "</tr>\n",
       "<tr>\n",
       "  <th>Intercept</th>              <td>    4.9000</td> <td>    0.469</td> <td>   10.458</td> <td> 0.000</td> <td>    3.982</td> <td>    5.818</td>\n",
       "</tr>\n",
       "<tr>\n",
       "  <th>treatment[T.treatment]</th> <td>    9.8200</td> <td>    0.664</td> <td>   14.786</td> <td> 0.000</td> <td>    8.518</td> <td>   11.122</td>\n",
       "</tr>\n",
       "</table>"
      ],
      "text/plain": [
       "<class 'statsmodels.iolib.table.SimpleTable'>"
      ]
     },
     "execution_count": 127,
     "metadata": {},
     "output_type": "execute_result"
    }
   ],
   "source": [
    "smf.quantreg(\"spend ~ treatment\", data=df).fit(q = .5).summary().tables[1]"
   ]
  },
  {
   "cell_type": "code",
   "execution_count": null,
   "metadata": {},
   "outputs": [
    {
     "data": {
      "text/html": [
       "<table class=\"simpletable\">\n",
       "<tr>\n",
       "             <td></td>               <th>coef</th>     <th>std err</th>      <th>t</th>      <th>P>|t|</th>  <th>[0.025</th>    <th>0.975]</th>  \n",
       "</tr>\n",
       "<tr>\n",
       "  <th>Intercept</th>              <td>  -73.6641</td> <td>    1.355</td> <td>  -54.346</td> <td> 0.000</td> <td>  -76.321</td> <td>  -71.007</td>\n",
       "</tr>\n",
       "<tr>\n",
       "  <th>treatment[T.treatment]</th> <td>    3.4080</td> <td>    0.822</td> <td>    4.147</td> <td> 0.000</td> <td>    1.797</td> <td>    5.019</td>\n",
       "</tr>\n",
       "<tr>\n",
       "  <th>gender[T.male]</th>         <td>  -22.9666</td> <td>    0.863</td> <td>  -26.605</td> <td> 0.000</td> <td>  -24.659</td> <td>  -21.274</td>\n",
       "</tr>\n",
       "<tr>\n",
       "  <th>gender[T.other]</th>        <td>  -12.8675</td> <td>    1.563</td> <td>   -8.234</td> <td> 0.000</td> <td>  -15.931</td> <td>   -9.804</td>\n",
       "</tr>\n",
       "<tr>\n",
       "  <th>income</th>                 <td>    0.0534</td> <td>    0.000</td> <td>  112.381</td> <td> 0.000</td> <td>    0.052</td> <td>    0.054</td>\n",
       "</tr>\n",
       "</table>"
      ],
      "text/plain": [
       "<class 'statsmodels.iolib.table.SimpleTable'>"
      ]
     },
     "execution_count": 133,
     "metadata": {},
     "output_type": "execute_result"
    }
   ],
   "source": [
    "smf.quantreg(\"spend ~ treatment + gender + income\", data=df).fit(q = .5).summary().tables[1]"
   ]
  },
  {
   "cell_type": "markdown",
   "metadata": {},
   "source": [
    "### Analysis of Effect at several different quantiles"
   ]
  },
  {
   "cell_type": "code",
   "execution_count": null,
   "metadata": {},
   "outputs": [],
   "source": [
    "def plot_quantile_te(df, formula, q, varname):\n",
    "    df_results = pd.DataFrame()\n",
    "    for q in np.arange(q, 1-q, q):\n",
    "        qreg = smf.quantreg(formula, data=df).fit(q=q)\n",
    "        temp = pd.DataFrame({'q': [q],\n",
    "                             'coeff': [qreg.params[varname]], \n",
    "                             'std': [qreg.bse[varname]],\n",
    "                             'ci_lower': [qreg.conf_int()[0][varname]],\n",
    "                             'ci_upper': [qreg.conf_int()[1][varname]]})\n",
    "        df_results = pd.concat([df_results, temp]).reset_index(drop=True)\n",
    "    \n",
    "    # Plot\n",
    "    fig, ax = plt.subplots()\n",
    "    sns.lineplot(data=df_results, x='q', y='coeff')\n",
    "    ax.fill_between(data=df_results, x='q', y1='ci_lower', y2='ci_upper', alpha=0.1);\n",
    "    plt.axhline(y=0, c=\"k\", lw=2, zorder=1)\n",
    "    ols_coeff = smf.ols(formula, data=df).fit().params[varname]\n",
    "    plt.axhline(y=ols_coeff, ls=\"--\", c=\"C1\", label=\"OLS coefficient\", zorder=1)\n",
    "    plt.legend()\n",
    "    plt.title(\"Estimated coefficient, by quantile\")"
   ]
  },
  {
   "cell_type": "code",
   "execution_count": null,
   "metadata": {},
   "outputs": [
    {
     "data": {
      "image/png": "[encoded data removed]",
      "text/plain": [
       "<Figure size 640x480 with 1 Axes>"
      ]
     },
     "metadata": {},
     "output_type": "display_data"
    }
   ],
   "source": [
    "plot_quantile_te(df, formula = \"spend ~ treatment\",varname = 'treatment[T.treatment]', q = .05)"
   ]
  },
  {
   "cell_type": "code",
   "execution_count": null,
   "metadata": {},
   "outputs": [
    {
     "ename": "NameError",
     "evalue": "name 'df_results' is not defined",
     "output_type": "error",
     "traceback": [
      "\u001b[1;31m---------------------------------------------------------------------------\u001b[0m",
      "\u001b[1;31mNameError\u001b[0m                                 Traceback (most recent call last)",
      "\u001b[1;32mc:\\Users\\parke\\data_work\\datascience\\quantile_reg.ipynb Cell 23\u001b[0m in \u001b[0;36m<cell line: 1>\u001b[1;34m()\u001b[0m\n\u001b[1;32m----> <a href='vscode-notebook-cell:/c%3A/Users/parke/data_work/datascience/quantile_reg.ipynb#X52sZmlsZQ%3D%3D?line=0'>1</a>\u001b[0m df_results\n",
      "\u001b[1;31mNameError\u001b[0m: name 'df_results' is not defined"
     ]
    }
   ],
   "source": []
  },
  {
   "cell_type": "code",
   "execution_count": null,
   "metadata": {},
   "outputs": [
    {
     "data": {
      "text/html": [
       "<table class=\"simpletable\">\n",
       "<caption>QuantReg Regression Results</caption>\n",
       "<tr>\n",
       "  <th>Dep. Variable:</th>       <td>spend</td>      <th>  Pseudo R-squared:  </th> <td>  0.4605</td>\n",
       "</tr>\n",
       "<tr>\n",
       "  <th>Model:</th>             <td>QuantReg</td>     <th>  Bandwidth:         </th> <td>   7.018</td>\n",
       "</tr>\n",
       "<tr>\n",
       "  <th>Method:</th>          <td>Least Squares</td>  <th>  Sparsity:          </th> <td>   82.18</td>\n",
       "</tr>\n",
       "<tr>\n",
       "  <th>Date:</th>          <td>Sat, 15 Oct 2022</td> <th>  No. Observations:  </th>  <td> 10000</td> \n",
       "</tr>\n",
       "<tr>\n",
       "  <th>Time:</th>              <td>16:45:41</td>     <th>  Df Residuals:      </th>  <td>  9995</td> \n",
       "</tr>\n",
       "<tr>\n",
       "  <th> </th>                      <td> </td>        <th>  Df Model:          </th>  <td>     4</td> \n",
       "</tr>\n",
       "</table>\n",
       "<table class=\"simpletable\">\n",
       "<tr>\n",
       "             <td></td>               <th>coef</th>     <th>std err</th>      <th>t</th>      <th>P>|t|</th>  <th>[0.025</th>    <th>0.975]</th>  \n",
       "</tr>\n",
       "<tr>\n",
       "  <th>Intercept</th>              <td>  -73.6641</td> <td>    1.355</td> <td>  -54.346</td> <td> 0.000</td> <td>  -76.321</td> <td>  -71.007</td>\n",
       "</tr>\n",
       "<tr>\n",
       "  <th>treatment[T.treatment]</th> <td>    3.4080</td> <td>    0.822</td> <td>    4.147</td> <td> 0.000</td> <td>    1.797</td> <td>    5.019</td>\n",
       "</tr>\n",
       "<tr>\n",
       "  <th>gender[T.male]</th>         <td>  -22.9666</td> <td>    0.863</td> <td>  -26.605</td> <td> 0.000</td> <td>  -24.659</td> <td>  -21.274</td>\n",
       "</tr>\n",
       "<tr>\n",
       "  <th>gender[T.other]</th>        <td>  -12.8675</td> <td>    1.563</td> <td>   -8.234</td> <td> 0.000</td> <td>  -15.931</td> <td>   -9.804</td>\n",
       "</tr>\n",
       "<tr>\n",
       "  <th>income</th>                 <td>    0.0534</td> <td>    0.000</td> <td>  112.381</td> <td> 0.000</td> <td>    0.052</td> <td>    0.054</td>\n",
       "</tr>\n",
       "</table><br/><br/>The condition number is large, 1.03e+04. This might indicate that there are<br/>strong multicollinearity or other numerical problems."
      ],
      "text/plain": [
       "<class 'statsmodels.iolib.summary.Summary'>\n",
       "\"\"\"\n",
       "                         QuantReg Regression Results                          \n",
       "==============================================================================\n",
       "Dep. Variable:                  spend   Pseudo R-squared:               0.4605\n",
       "Model:                       QuantReg   Bandwidth:                       7.018\n",
       "Method:                 Least Squares   Sparsity:                        82.18\n",
       "Date:                Sat, 15 Oct 2022   No. Observations:                10000\n",
       "Time:                        16:45:41   Df Residuals:                     9995\n",
       "                                        Df Model:                            4\n",
       "==========================================================================================\n",
       "                             coef    std err          t      P>|t|      [0.025      0.975]\n",
       "------------------------------------------------------------------------------------------\n",
       "Intercept                -73.6641      1.355    -54.346      0.000     -76.321     -71.007\n",
       "treatment[T.treatment]     3.4080      0.822      4.147      0.000       1.797       5.019\n",
       "gender[T.male]           -22.9666      0.863    -26.605      0.000     -24.659     -21.274\n",
       "gender[T.other]          -12.8675      1.563     -8.234      0.000     -15.931      -9.804\n",
       "income                     0.0534      0.000    112.381      0.000       0.052       0.054\n",
       "==========================================================================================\n",
       "\n",
       "The condition number is large, 1.03e+04. This might indicate that there are\n",
       "strong multicollinearity or other numerical problems.\n",
       "\"\"\""
      ]
     },
     "execution_count": 138,
     "metadata": {},
     "output_type": "execute_result"
    }
   ],
   "source": [
    "smf.quantreg(\"spend ~ treatment + gender + income\", data=df).fit(q = .5).summary()"
   ]
  },
  {
   "cell_type": "code",
   "execution_count": null,
   "metadata": {},
   "outputs": [
    {
     "data": {
      "text/plain": [
       "Intercept                -73.664080\n",
       "treatment[T.treatment]     3.408018\n",
       "gender[T.male]           -22.966628\n",
       "gender[T.other]          -12.867518\n",
       "income                     0.053404\n",
       "dtype: float64"
      ]
     },
     "execution_count": 148,
     "metadata": {},
     "output_type": "execute_result"
    }
   ],
   "source": [
    "results = smf.quantreg(\"spend ~ treatment + gender + income\", data=df).fit(q = .5)\n",
    "\n",
    "results.params"
   ]
  },
  {
   "cell_type": "code",
   "execution_count": null,
   "metadata": {},
   "outputs": [
    {
     "data": {
      "text/plain": [
       "Intercept                  0.000000e+00\n",
       "treatment[T.treatment]     3.403530e-05\n",
       "gender[T.male]            9.750256e-151\n",
       "gender[T.other]            2.032196e-16\n",
       "income                     0.000000e+00\n",
       "dtype: float64"
      ]
     },
     "execution_count": 184,
     "metadata": {},
     "output_type": "execute_result"
    }
   ],
   "source": [
    "results.pvalues"
   ]
  },
  {
   "cell_type": "code",
   "execution_count": null,
   "metadata": {},
   "outputs": [
    {
     "data": {
      "text/html": [
       "<div>\n",
       "<style scoped>\n",
       "    .dataframe tbody tr th:only-of-type {\n",
       "        vertical-align: middle;\n",
       "    }\n",
       "\n",
       "    .dataframe tbody tr th {\n",
       "        vertical-align: top;\n",
       "    }\n",
       "\n",
       "    .dataframe thead th {\n",
       "        text-align: right;\n",
       "    }\n",
       "</style>\n",
       "<table border=\"1\" class=\"dataframe\">\n",
       "  <thead>\n",
       "    <tr style=\"text-align: right;\">\n",
       "      <th></th>\n",
       "      <th>coeff</th>\n",
       "      <th>std_err</th>\n",
       "      <th>p_value</th>\n",
       "      <th>conf_lb</th>\n",
       "      <th>conf_ub</th>\n",
       "    </tr>\n",
       "  </thead>\n",
       "  <tbody>\n",
       "    <tr>\n",
       "      <th>Intercept</th>\n",
       "      <td>-73.664080</td>\n",
       "      <td>1.355464</td>\n",
       "      <td>0.000000e+00</td>\n",
       "      <td>-76.321063</td>\n",
       "      <td>-71.007097</td>\n",
       "    </tr>\n",
       "    <tr>\n",
       "      <th>treatment[T.treatment]</th>\n",
       "      <td>3.408018</td>\n",
       "      <td>0.821898</td>\n",
       "      <td>3.403530e-05</td>\n",
       "      <td>1.796932</td>\n",
       "      <td>5.019103</td>\n",
       "    </tr>\n",
       "    <tr>\n",
       "      <th>gender[T.male]</th>\n",
       "      <td>-22.966628</td>\n",
       "      <td>0.863250</td>\n",
       "      <td>9.750256e-151</td>\n",
       "      <td>-24.658773</td>\n",
       "      <td>-21.274483</td>\n",
       "    </tr>\n",
       "    <tr>\n",
       "      <th>gender[T.other]</th>\n",
       "      <td>-12.867518</td>\n",
       "      <td>1.562676</td>\n",
       "      <td>2.032196e-16</td>\n",
       "      <td>-15.930677</td>\n",
       "      <td>-9.804360</td>\n",
       "    </tr>\n",
       "    <tr>\n",
       "      <th>income</th>\n",
       "      <td>0.053404</td>\n",
       "      <td>0.000475</td>\n",
       "      <td>0.000000e+00</td>\n",
       "      <td>0.052472</td>\n",
       "      <td>0.054335</td>\n",
       "    </tr>\n",
       "  </tbody>\n",
       "</table>\n",
       "</div>"
      ],
      "text/plain": [
       "                            coeff   std_err        p_value    conf_lb  \\\n",
       "Intercept              -73.664080  1.355464   0.000000e+00 -76.321063   \n",
       "treatment[T.treatment]   3.408018  0.821898   3.403530e-05   1.796932   \n",
       "gender[T.male]         -22.966628  0.863250  9.750256e-151 -24.658773   \n",
       "gender[T.other]        -12.867518  1.562676   2.032196e-16 -15.930677   \n",
       "income                   0.053404  0.000475   0.000000e+00   0.052472   \n",
       "\n",
       "                          conf_ub  \n",
       "Intercept              -71.007097  \n",
       "treatment[T.treatment]   5.019103  \n",
       "gender[T.male]         -21.274483  \n",
       "gender[T.other]         -9.804360  \n",
       "income                   0.054335  "
      ]
     },
     "execution_count": 180,
     "metadata": {},
     "output_type": "execute_result"
    }
   ],
   "source": [
    "a = smf_results_to_df(results)\n",
    "a"
   ]
  },
  {
   "cell_type": "code",
   "execution_count": 13,
   "metadata": {},
   "outputs": [],
   "source": [
    "def run_quantile_regressions(df, formula, q, varname):\n",
    "    # Function runs multiple quantile regressions and returns a dataframe with the results for a selected vareter of interest\n",
    "    # Arguments:\n",
    "        # df: dataframe\n",
    "        # formula: regression equation you wish to use, example \"spend ~ treatment + gender\"\n",
    "        # q: The space between each quantile regression i.e. q=.1 would be every decile\n",
    "        # varname: The variable in the regression equation whose estimated parameter you wish to return example: \"gender\"   \n",
    "    all_qr_results = pd.DataFrame()\n",
    "    for q in np.arange(q, 1-q, q):\n",
    "        qreg = smf.quantreg(formula, data=df).fit(q=q)\n",
    "        temp = pd.DataFrame({'coefficient':varname,\n",
    "                             'q': [q],\n",
    "                             'coeff': [qreg.vars[varname]], \n",
    "                             'std': [qreg.bse[varname]],\n",
    "                             'p_value':[qreg.pvalues[varname]],\n",
    "                             'ci_lower': [qreg.conf_int()[0][varname]],\n",
    "                             'ci_upper': [qreg.conf_int()[1][varname]]})\n",
    "        all_qr_results = pd.concat([all_qr_results, temp]).reset_index(drop=True)\n",
    "    return(all_qr_results)\n",
    "\n"
   ]
  },
  {
   "cell_type": "code",
   "execution_count": 14,
   "metadata": {},
   "outputs": [
    {
     "data": {
      "text/html": [
       "<div>\n",
       "<style scoped>\n",
       "    .dataframe tbody tr th:only-of-type {\n",
       "        vertical-align: middle;\n",
       "    }\n",
       "\n",
       "    .dataframe tbody tr th {\n",
       "        vertical-align: top;\n",
       "    }\n",
       "\n",
       "    .dataframe thead th {\n",
       "        text-align: right;\n",
       "    }\n",
       "</style>\n",
       "<table border=\"1\" class=\"dataframe\">\n",
       "  <thead>\n",
       "    <tr style=\"text-align: right;\">\n",
       "      <th></th>\n",
       "      <th>coefficient</th>\n",
       "      <th>q</th>\n",
       "      <th>coeff</th>\n",
       "      <th>std</th>\n",
       "      <th>p_value</th>\n",
       "      <th>ci_lower</th>\n",
       "      <th>ci_upper</th>\n",
       "    </tr>\n",
       "  </thead>\n",
       "  <tbody>\n",
       "    <tr>\n",
       "      <th>0</th>\n",
       "      <td>treatment[T.treatment]</td>\n",
       "      <td>0.05</td>\n",
       "      <td>21.275586</td>\n",
       "      <td>0.656759</td>\n",
       "      <td>5.245641e-219</td>\n",
       "      <td>19.988206</td>\n",
       "      <td>22.562967</td>\n",
       "    </tr>\n",
       "    <tr>\n",
       "      <th>1</th>\n",
       "      <td>treatment[T.treatment]</td>\n",
       "      <td>0.10</td>\n",
       "      <td>26.342845</td>\n",
       "      <td>0.697556</td>\n",
       "      <td>7.278226e-292</td>\n",
       "      <td>24.975495</td>\n",
       "      <td>27.710196</td>\n",
       "    </tr>\n",
       "    <tr>\n",
       "      <th>2</th>\n",
       "      <td>treatment[T.treatment]</td>\n",
       "      <td>0.15</td>\n",
       "      <td>28.580328</td>\n",
       "      <td>0.667602</td>\n",
       "      <td>0.000000e+00</td>\n",
       "      <td>27.271693</td>\n",
       "      <td>29.888962</td>\n",
       "    </tr>\n",
       "    <tr>\n",
       "      <th>3</th>\n",
       "      <td>treatment[T.treatment]</td>\n",
       "      <td>0.20</td>\n",
       "      <td>28.804943</td>\n",
       "      <td>0.681469</td>\n",
       "      <td>0.000000e+00</td>\n",
       "      <td>27.469125</td>\n",
       "      <td>30.140760</td>\n",
       "    </tr>\n",
       "    <tr>\n",
       "      <th>4</th>\n",
       "      <td>treatment[T.treatment]</td>\n",
       "      <td>0.25</td>\n",
       "      <td>29.323331</td>\n",
       "      <td>0.712882</td>\n",
       "      <td>0.000000e+00</td>\n",
       "      <td>27.925939</td>\n",
       "      <td>30.720723</td>\n",
       "    </tr>\n",
       "    <tr>\n",
       "      <th>5</th>\n",
       "      <td>treatment[T.treatment]</td>\n",
       "      <td>0.30</td>\n",
       "      <td>30.045404</td>\n",
       "      <td>0.746920</td>\n",
       "      <td>0.000000e+00</td>\n",
       "      <td>28.581290</td>\n",
       "      <td>31.509518</td>\n",
       "    </tr>\n",
       "    <tr>\n",
       "      <th>6</th>\n",
       "      <td>treatment[T.treatment]</td>\n",
       "      <td>0.35</td>\n",
       "      <td>30.714304</td>\n",
       "      <td>0.776505</td>\n",
       "      <td>0.000000e+00</td>\n",
       "      <td>29.192197</td>\n",
       "      <td>32.236410</td>\n",
       "    </tr>\n",
       "    <tr>\n",
       "      <th>7</th>\n",
       "      <td>treatment[T.treatment]</td>\n",
       "      <td>0.40</td>\n",
       "      <td>30.095380</td>\n",
       "      <td>0.780372</td>\n",
       "      <td>1.849686e-303</td>\n",
       "      <td>28.565694</td>\n",
       "      <td>31.625066</td>\n",
       "    </tr>\n",
       "    <tr>\n",
       "      <th>8</th>\n",
       "      <td>treatment[T.treatment]</td>\n",
       "      <td>0.45</td>\n",
       "      <td>30.470751</td>\n",
       "      <td>0.810510</td>\n",
       "      <td>1.990432e-289</td>\n",
       "      <td>28.881988</td>\n",
       "      <td>32.059515</td>\n",
       "    </tr>\n",
       "    <tr>\n",
       "      <th>9</th>\n",
       "      <td>treatment[T.treatment]</td>\n",
       "      <td>0.50</td>\n",
       "      <td>30.013902</td>\n",
       "      <td>0.851824</td>\n",
       "      <td>1.848541e-256</td>\n",
       "      <td>28.344155</td>\n",
       "      <td>31.683649</td>\n",
       "    </tr>\n",
       "    <tr>\n",
       "      <th>10</th>\n",
       "      <td>treatment[T.treatment]</td>\n",
       "      <td>0.55</td>\n",
       "      <td>30.155128</td>\n",
       "      <td>0.914829</td>\n",
       "      <td>2.710763e-226</td>\n",
       "      <td>28.361878</td>\n",
       "      <td>31.948378</td>\n",
       "    </tr>\n",
       "    <tr>\n",
       "      <th>11</th>\n",
       "      <td>treatment[T.treatment]</td>\n",
       "      <td>0.60</td>\n",
       "      <td>30.329502</td>\n",
       "      <td>0.970204</td>\n",
       "      <td>9.203890e-205</td>\n",
       "      <td>28.427708</td>\n",
       "      <td>32.231297</td>\n",
       "    </tr>\n",
       "    <tr>\n",
       "      <th>12</th>\n",
       "      <td>treatment[T.treatment]</td>\n",
       "      <td>0.65</td>\n",
       "      <td>29.202944</td>\n",
       "      <td>1.017477</td>\n",
       "      <td>3.732103e-174</td>\n",
       "      <td>27.208484</td>\n",
       "      <td>31.197404</td>\n",
       "    </tr>\n",
       "    <tr>\n",
       "      <th>13</th>\n",
       "      <td>treatment[T.treatment]</td>\n",
       "      <td>0.70</td>\n",
       "      <td>28.812690</td>\n",
       "      <td>1.045720</td>\n",
       "      <td>3.861818e-161</td>\n",
       "      <td>26.762869</td>\n",
       "      <td>30.862511</td>\n",
       "    </tr>\n",
       "    <tr>\n",
       "      <th>14</th>\n",
       "      <td>treatment[T.treatment]</td>\n",
       "      <td>0.75</td>\n",
       "      <td>27.473638</td>\n",
       "      <td>1.055987</td>\n",
       "      <td>1.904230e-144</td>\n",
       "      <td>25.403690</td>\n",
       "      <td>29.543586</td>\n",
       "    </tr>\n",
       "    <tr>\n",
       "      <th>15</th>\n",
       "      <td>treatment[T.treatment]</td>\n",
       "      <td>0.80</td>\n",
       "      <td>26.306125</td>\n",
       "      <td>1.043693</td>\n",
       "      <td>5.884012e-136</td>\n",
       "      <td>24.260276</td>\n",
       "      <td>28.351974</td>\n",
       "    </tr>\n",
       "    <tr>\n",
       "      <th>16</th>\n",
       "      <td>treatment[T.treatment]</td>\n",
       "      <td>0.85</td>\n",
       "      <td>24.332520</td>\n",
       "      <td>1.145645</td>\n",
       "      <td>5.946500e-98</td>\n",
       "      <td>22.086824</td>\n",
       "      <td>26.578216</td>\n",
       "    </tr>\n",
       "    <tr>\n",
       "      <th>17</th>\n",
       "      <td>treatment[T.treatment]</td>\n",
       "      <td>0.90</td>\n",
       "      <td>23.069843</td>\n",
       "      <td>1.153185</td>\n",
       "      <td>2.499785e-87</td>\n",
       "      <td>20.809368</td>\n",
       "      <td>25.330319</td>\n",
       "    </tr>\n",
       "  </tbody>\n",
       "</table>\n",
       "</div>"
      ],
      "text/plain": [
       "               coefficient     q      coeff       std        p_value  \\\n",
       "0   treatment[T.treatment]  0.05  21.275586  0.656759  5.245641e-219   \n",
       "1   treatment[T.treatment]  0.10  26.342845  0.697556  7.278226e-292   \n",
       "2   treatment[T.treatment]  0.15  28.580328  0.667602   0.000000e+00   \n",
       "3   treatment[T.treatment]  0.20  28.804943  0.681469   0.000000e+00   \n",
       "4   treatment[T.treatment]  0.25  29.323331  0.712882   0.000000e+00   \n",
       "5   treatment[T.treatment]  0.30  30.045404  0.746920   0.000000e+00   \n",
       "6   treatment[T.treatment]  0.35  30.714304  0.776505   0.000000e+00   \n",
       "7   treatment[T.treatment]  0.40  30.095380  0.780372  1.849686e-303   \n",
       "8   treatment[T.treatment]  0.45  30.470751  0.810510  1.990432e-289   \n",
       "9   treatment[T.treatment]  0.50  30.013902  0.851824  1.848541e-256   \n",
       "10  treatment[T.treatment]  0.55  30.155128  0.914829  2.710763e-226   \n",
       "11  treatment[T.treatment]  0.60  30.329502  0.970204  9.203890e-205   \n",
       "12  treatment[T.treatment]  0.65  29.202944  1.017477  3.732103e-174   \n",
       "13  treatment[T.treatment]  0.70  28.812690  1.045720  3.861818e-161   \n",
       "14  treatment[T.treatment]  0.75  27.473638  1.055987  1.904230e-144   \n",
       "15  treatment[T.treatment]  0.80  26.306125  1.043693  5.884012e-136   \n",
       "16  treatment[T.treatment]  0.85  24.332520  1.145645   5.946500e-98   \n",
       "17  treatment[T.treatment]  0.90  23.069843  1.153185   2.499785e-87   \n",
       "\n",
       "     ci_lower   ci_upper  \n",
       "0   19.988206  22.562967  \n",
       "1   24.975495  27.710196  \n",
       "2   27.271693  29.888962  \n",
       "3   27.469125  30.140760  \n",
       "4   27.925939  30.720723  \n",
       "5   28.581290  31.509518  \n",
       "6   29.192197  32.236410  \n",
       "7   28.565694  31.625066  \n",
       "8   28.881988  32.059515  \n",
       "9   28.344155  31.683649  \n",
       "10  28.361878  31.948378  \n",
       "11  28.427708  32.231297  \n",
       "12  27.208484  31.197404  \n",
       "13  26.762869  30.862511  \n",
       "14  25.403690  29.543586  \n",
       "15  24.260276  28.351974  \n",
       "16  22.086824  26.578216  \n",
       "17  20.809368  25.330319  "
      ]
     },
     "execution_count": 14,
     "metadata": {},
     "output_type": "execute_result"
    }
   ],
   "source": [
    "qrs = run_quantile_regressions(df, formula = \"spend ~ treatment + gender + income\", varname = \"treatment[T.treatment]\", q = .05)\n",
    "qrs"
   ]
  },
  {
   "cell_type": "code",
   "execution_count": null,
   "metadata": {},
   "outputs": [
    {
     "data": {
      "text/plain": [
       "Text(0.5, 1.0, 'Estimated coefficient, by quantile')"
      ]
     },
     "execution_count": 200,
     "metadata": {},
     "output_type": "execute_result"
    },
    {
     "data": {
      "image/png": "[encoded data removed]",
      "text/plain": [
       "<Figure size 640x480 with 1 Axes>"
      ]
     },
     "metadata": {},
     "output_type": "display_data"
    }
   ],
   "source": [
    "# Plot\n",
    "fig, ax = plt.subplots()\n",
    "sns.lineplot(data=qrs, x='q', y='coeff')\n",
    "ax.fill_between(data=qrs, x='q', y1='ci_lower', y2='ci_upper', alpha=0.1);\n",
    "plt.axhline(y=0, c=\"k\", lw=2, zorder=1)\n",
    "ols_coeff = smf.ols(\"spend ~ treatment + gender + income\", data=df).fit().params[\"treatment[T.treatment]\"]\n",
    "plt.axhline(y=ols_coeff, ls=\"--\", c=\"C1\", label=\"OLS coefficient\", zorder=1)\n",
    "plt.legend()\n",
    "plt.title(\"Estimated coefficient, by quantile\")"
   ]
  }
 ],
 "metadata": {
  "kernelspec": {
   "display_name": "Python 3.9.13 ('myenv')",
   "language": "python",
   "name": "python3"
  },
  "language_info": {
   "codemirror_mode": {
    "name": "ipython",
    "version": 3
   },
   "file_extension": ".py",
   "mimetype": "text/x-python",
   "name": "python",
   "nbconvert_exporter": "python",
   "pygments_lexer": "ipython3",
   "version": "3.9.13"
  },
  "orig_nbformat": 4,
  "vscode": {
   "interpreter": {
    "hash": "2189321822805078e0453408601d53350d8c5616eecaffabadf8631a8d2d0c7b"
   }
  }
 },
 "nbformat": 4,
 "nbformat_minor": 2
}
