{
 "cells": [
  {
   "cell_type": "markdown",
   "metadata": {},
   "source": [
    "# An Introduction to Quantile Regression\n",
    "__Date__: Fall 2022 <br>\n",
    "__Author__: Alex Parker\n",
    "\n",
    "This notebook borrows heavily from the __[Medium blog post](https://towardsdatascience.com/mean-vs-median-causal-effect-37057a6c54c9)__ by Metteo Courthoud \n",
    "\n",
    "#### Quantile Regression Pros:\n",
    "1. Can be more informative than OLS by showing impact on the entire distribution\n",
    "2. Useful for highly skewed data that may have a large proportion of 0 values\n",
    "3. Can be used to show effects at different quantiles\n",
    "4. More robust to outliers than OLS\n",
    "\n",
    "\n",
    "#### Quantile Regression Cons:\n",
    "1. median analysis does not translate well to estimated a total business impact number\n",
    "2. Assumes rank invariance: the ranks of the observations do not change as a result of an intervention\n",
    "\n",
    "#### Interpretation\n",
    "Under the asusmption of rank invariance the interpretation for a QR coefficient is the estimated effect of a single observation at the appropriate qunatile. Simply put, this means that if a QR is run on the 50th percentile of customers, then the coefficients represent the estimated effects of the covariates on the median customer.\n",
    "\n"
   ]
  },
  {
   "cell_type": "code",
   "execution_count": null,
   "metadata": {},
   "outputs": [],
   "source": [
    "import numpy as np\n",
    "import pandas as pd \n",
    "import matplotlib.pyplot as plt\n",
    "import seaborn as sns\n",
    "import plotly.express as px \n",
    "import plotly.graph_objects as go\n",
    "import statsmodels.api as sm\n",
    "import statsmodels.formula.api as smf\n",
    "import scipy\n",
    "from my_functions import *\n",
    "from plotly.subplots import make_subplots\n",
    "\n",
    "\n",
    "sns.set_theme(context = 'notebook', style = 'whitegrid')"
   ]
  },
  {
   "cell_type": "markdown",
   "metadata": {},
   "source": [
    "### Data Generation: Randomized Experiment with some demographic information"
   ]
  },
  {
   "cell_type": "code",
   "execution_count": null,
   "metadata": {},
   "outputs": [],
   "source": [
    "n = 25000\n",
    "\n",
    "# personal characteristics\n",
    "age = np.random.randint(18, 70, n)\n",
    "gender = np.random.choice(['male', 'female','other'], p=[0.51, 0.41,.08], size= n)\n",
    "income = np.random.lognormal(4 + np.log(age), 0.1, n)\n",
    "\n",
    "# treatment status\n",
    "treatment = np.random.choice(['control','treatment'],p =[.5,.5], size = n)\n",
    "\n",
    "# Dependant variable\n",
    "spend = 50*(gender=='female') + 25*(gender == 'other') + (income/10)*np.random.normal(loc = 1, scale = .1, size = n)\n",
    "spend = spend + spend*(treatment == 'treatment')*.05\n",
    "spend = np.maximum(np.round(spend, 2) - 250, 0)\n",
    "\n",
    "# Generate the dataframe\n",
    "df = pd.DataFrame({'spend':spend,'treatment': treatment, 'age': age, 'gender': gender,'income':income})\n",
    "df = df.assign(\n",
    "    treatment = df.treatment.astype('category'),\n",
    "    gender = df.gender.astype('category'))\n",
    "\n",
    "df.head()"
   ]
  },
  {
   "cell_type": "markdown",
   "metadata": {},
   "source": [
    "#### The dependent variable is highly skewed with a high degree of 0 values"
   ]
  },
  {
   "cell_type": "code",
   "execution_count": null,
   "metadata": {},
   "outputs": [],
   "source": [
    "fig = px.histogram(df, x = 'spend', color = 'treatment')\n",
    "fig.show()"
   ]
  },
  {
   "cell_type": "code",
   "execution_count": null,
   "metadata": {},
   "outputs": [],
   "source": [
    "df.groupby('treatment')['spend'].describe(percentiles = [.1,.25,.5,.75,.9])"
   ]
  },
  {
   "cell_type": "code",
   "execution_count": null,
   "metadata": {},
   "outputs": [],
   "source": [
    "sample = df.sample(frac = .1)\n",
    "fig, axes = plt.subplots(1, 3, figsize=(15, 5), sharey=False)\n",
    "fig.suptitle('Scatterplots')\n",
    "\n",
    "# Bulbasaur\n",
    "sns.scatterplot(ax=axes[0], x=sample.age, y=sample.spend, hue = sample.treatment)\n",
    "axes[0].set_title('Spend and Age')\n",
    "\n",
    "# Charmander\n",
    "sns.scatterplot(ax=axes[1], x=sample.income, y=sample.spend, hue = sample.treatment)\n",
    "axes[1].set_title('Spend and Income')\n",
    "\n",
    "# Squirtle\n",
    "sns.scatterplot(ax=axes[2], x=sample.age, y=sample.income, hue = sample.treatment)\n",
    "axes[2].set_title('Income and Age')\n",
    "\n",
    "plt.show()"
   ]
  },
  {
   "cell_type": "code",
   "execution_count": null,
   "metadata": {},
   "outputs": [],
   "source": [
    "### How is spend correlated with the categorical variables\n",
    "fig = px.box(df, x = 'gender', y = 'spend', color = 'treatment')\n",
    "fig.show()"
   ]
  },
  {
   "cell_type": "markdown",
   "metadata": {},
   "source": [
    "## Analysis of the Causal Effect of Treatment"
   ]
  },
  {
   "cell_type": "markdown",
   "metadata": {},
   "source": [
    "### Difference of means"
   ]
  },
  {
   "cell_type": "code",
   "execution_count": null,
   "metadata": {},
   "outputs": [],
   "source": [
    "df.groupby('treatment')['spend'].agg(['count','mean','median','std'])"
   ]
  },
  {
   "cell_type": "markdown",
   "metadata": {},
   "source": [
    "### OLS"
   ]
  },
  {
   "cell_type": "code",
   "execution_count": null,
   "metadata": {},
   "outputs": [],
   "source": [
    "smf.ols(\"spend ~ treatment\", data=df).fit().summary().tables[1]"
   ]
  },
  {
   "cell_type": "code",
   "execution_count": null,
   "metadata": {},
   "outputs": [],
   "source": [
    "smf.ols(\"spend ~ treatment + age + gender\", data=df).fit().summary().tables[1]"
   ]
  },
  {
   "cell_type": "markdown",
   "metadata": {},
   "source": [
    "### Quantile Regression"
   ]
  },
  {
   "cell_type": "code",
   "execution_count": null,
   "metadata": {},
   "outputs": [],
   "source": [
    "smf.quantreg(\"spend ~ treatment\", data=df).fit(q = .5).summary().tables[1]"
   ]
  },
  {
   "cell_type": "code",
   "execution_count": null,
   "metadata": {},
   "outputs": [],
   "source": [
    "smf.quantreg(\"spend ~ treatment + gender + income\", data=df).fit(q = .5).summary().tables[1]"
   ]
  },
  {
   "cell_type": "markdown",
   "metadata": {},
   "source": [
    "### Analysis of Effect at several different quantiles"
   ]
  },
  {
   "cell_type": "code",
   "execution_count": null,
   "metadata": {},
   "outputs": [],
   "source": [
    "qrs = run_quantile_regressions(df, formula = \"spend ~ treatment + gender + income\", varname = \"treatment[T.treatment]\", q = .05)\n",
    "qrs"
   ]
  },
  {
   "cell_type": "code",
   "execution_count": null,
   "metadata": {},
   "outputs": [],
   "source": [
    "# Plot\n",
    "fig, ax = plt.subplots()\n",
    "sns.lineplot(data=qrs, x='q', y='coeff')\n",
    "ax.fill_between(data=qrs, x='q', y1='ci_lower', y2='ci_upper', alpha=0.1);\n",
    "plt.axhline(y=0, c=\"k\", lw=2, zorder=1)\n",
    "ols_coeff = smf.ols(\"spend ~ treatment + gender + income\", data=df).fit().params[\"treatment[T.treatment]\"]\n",
    "plt.axhline(y=ols_coeff, ls=\"--\", c=\"C1\", label=\"OLS coefficient\", zorder=1)\n",
    "plt.legend()\n",
    "plt.title(\"Estimated coefficient, by quantile\")\n",
    "plt.show()"
   ]
  }
 ],
 "metadata": {
  "kernelspec": {
   "display_name": "Python 3.9.13 ('myenv')",
   "language": "python",
   "name": "python3"
  },
  "language_info": {
   "codemirror_mode": {
    "name": "ipython",
    "version": 3
   },
   "file_extension": ".py",
   "mimetype": "text/x-python",
   "name": "python",
   "nbconvert_exporter": "python",
   "pygments_lexer": "ipython3",
   "version": "3.9.13"
  },
  "orig_nbformat": 4,
  "vscode": {
   "interpreter": {
    "hash": "2189321822805078e0453408601d53350d8c5616eecaffabadf8631a8d2d0c7b"
   }
  }
 },
 "nbformat": 4,
 "nbformat_minor": 2
}
