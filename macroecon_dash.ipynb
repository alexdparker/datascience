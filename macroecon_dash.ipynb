{
 "cells": [
  {
   "cell_type": "code",
   "execution_count": null,
   "metadata": {},
   "outputs": [
    {
     "ename": "",
     "evalue": "",
     "output_type": "error",
     "traceback": [
      "\u001b[1;31mRunning cells with 'Python 3.7.5 ('myenv37')' requires ipykernel package.\n",
      "\u001b[1;31mRun the following command to install 'ipykernel' into the Python environment. \n",
      "\u001b[1;31mCommand: 'conda install -n myenv37 ipykernel --update-deps --force-reinstall'"
     ]
    }
   ],
   "source": [
    "###\n",
    "# Pull Data From FRED and generate more useful visualizations and analysis\n",
    "# Date: Fall 2022\n",
    "# Author: Alex Parker\n",
    "###\n",
    "\n",
    "\n",
    "# Package Import\n",
    "import numpy as np\n",
    "import pandas as pd\n",
    "import seaborn as sns\n",
    "import plotly.express as px \n",
    "from datetime import datetime\n",
    "from datetime import date\n",
    "from datetime import timedelta\n",
    "import fredapi as fa\n",
    "import plotly.graph_objects as go\n",
    "from plotly.subplots import make_subplots"
   ]
  },
  {
   "cell_type": "code",
   "execution_count": 2,
   "metadata": {},
   "outputs": [],
   "source": [
    "# Connect to FRED API, you can get an API key on the website after making a free account\n",
    "fred_api_key = '0a41adbcb8d809cddc65754f65d615bf'\n",
    "fred = fa.Fred(api_key = fred_api_key)\n"
   ]
  },
  {
   "cell_type": "code",
   "execution_count": 3,
   "metadata": {},
   "outputs": [],
   "source": [
    "# Function to grab FRED series and convert to a nice dataframe with relevant columns\n",
    "def get_fred_data(fred_code, metric_name, geo):\n",
    "    data = fred.get_series(fred_code)\n",
    "    data = (pd.DataFrame(data)\n",
    "        .reset_index()\n",
    "        .rename(columns = {'index':'date',0:metric_name})\n",
    "        .assign(geo = geo,\n",
    "                year = lambda x: x.date.dt.year,\n",
    "                month = lambda x: x.date.dt.month)\n",
    "        .astype({'geo':'category'})\n",
    "            )    \n",
    "    data = data[['date','year','month','geo',metric_name,]]\n",
    "    return(data)\n",
    "\n",
    "### Dual Y axis Plotting function\n",
    "def dual_yaxis_lineplot(x, y1, y2,plot_title, x_title, y1_title, y2_title):\n",
    "    \n",
    "    # initiate a dual y axes subplot\n",
    "    fig = make_subplots(specs=[[{\"secondary_y\": True}]])\n",
    "\n",
    "    # Add trace: 1st and 2nd lines\n",
    "    fig = (fig\n",
    "            .add_trace(\n",
    "                go.Scatter(x=x, y=y1, name= y1_title),\n",
    "                secondary_y=False)\n",
    "            .add_trace(\n",
    "                go.Scatter(x=x, y=y2, name= y2_title),\n",
    "                secondary_y=True)\n",
    "            )\n",
    "\n",
    "    # Add figure titles\n",
    "    fig = (fig.update_layout(title_text= plot_title)\n",
    "        # Set x-axis title\n",
    "        .update_xaxes(title_text= x_title)\n",
    "        # Set y-axes titles\n",
    "        .update_yaxes(title_text= y1_title, secondary_y= False)\n",
    "        .update_yaxes(title_text= y2_title, secondary_y= True)\n",
    "            )\n",
    "    return(fig)\n",
    "\n"
   ]
  },
  {
   "cell_type": "code",
   "execution_count": 4,
   "metadata": {},
   "outputs": [
    {
     "name": "stdout",
     "output_type": "stream",
     "text": [
      "0.4.2\n"
     ]
    }
   ],
   "source": [
    "print(fa.__version__)"
   ]
  },
  {
   "cell_type": "code",
   "execution_count": 9,
   "metadata": {},
   "outputs": [
    {
     "ename": "AttributeError",
     "evalue": "'xml.etree.ElementTree.Element' object has no attribute 'getchildren'",
     "output_type": "error",
     "traceback": [
      "\u001b[1;31m---------------------------------------------------------------------------\u001b[0m",
      "\u001b[1;31mAttributeError\u001b[0m                            Traceback (most recent call last)",
      "\u001b[1;32mc:\\Users\\parke\\data_work\\datascience\\macroecon_dash.ipynb Cell 5\u001b[0m in \u001b[0;36m<cell line: 1>\u001b[1;34m()\u001b[0m\n\u001b[1;32m----> <a href='vscode-notebook-cell:/c%3A/Users/parke/data_work/datascience/macroecon_dash.ipynb#X11sZmlsZQ%3D%3D?line=0'>1</a>\u001b[0m gdp \u001b[39m=\u001b[39m fred\u001b[39m.\u001b[39;49msearch(\u001b[39m\"\u001b[39;49m\u001b[39mGDP\u001b[39;49m\u001b[39m\"\u001b[39;49m)\n",
      "File \u001b[1;32mc:\\Users\\parke\\anaconda3\\envs\\myenv\\lib\\site-packages\\fredapi\\fred.py:378\u001b[0m, in \u001b[0;36mFred.search\u001b[1;34m(self, text, limit, order_by, sort_order, filter)\u001b[0m\n\u001b[0;32m    352\u001b[0m \u001b[39m\"\"\"\u001b[39;00m\n\u001b[0;32m    353\u001b[0m \u001b[39mDo a fulltext search for series in the Fred dataset. Returns information about matching series in a DataFrame.\u001b[39;00m\n\u001b[0;32m    354\u001b[0m \n\u001b[1;32m   (...)\u001b[0m\n\u001b[0;32m    374\u001b[0m \u001b[39m    a DataFrame containing information about the matching Fred series\u001b[39;00m\n\u001b[0;32m    375\u001b[0m \u001b[39m\"\"\"\u001b[39;00m\n\u001b[0;32m    376\u001b[0m url \u001b[39m=\u001b[39m \u001b[39m\"\u001b[39m\u001b[39m%s\u001b[39;00m\u001b[39m/series/search?search_text=\u001b[39m\u001b[39m%s\u001b[39;00m\u001b[39m&\u001b[39m\u001b[39m\"\u001b[39m \u001b[39m%\u001b[39m (\u001b[39mself\u001b[39m\u001b[39m.\u001b[39mroot_url,\n\u001b[0;32m    377\u001b[0m                                             quote_plus(text))\n\u001b[1;32m--> 378\u001b[0m info \u001b[39m=\u001b[39m \u001b[39mself\u001b[39;49m\u001b[39m.\u001b[39;49m__get_search_results(url, limit, order_by, sort_order, \u001b[39mfilter\u001b[39;49m)\n\u001b[0;32m    379\u001b[0m \u001b[39mreturn\u001b[39;00m info\n",
      "File \u001b[1;32mc:\\Users\\parke\\anaconda3\\envs\\myenv\\lib\\site-packages\\fredapi\\fred.py:335\u001b[0m, in \u001b[0;36mFred.__get_search_results\u001b[1;34m(self, url, limit, order_by, sort_order, filter)\u001b[0m\n\u001b[0;32m    332\u001b[0m     \u001b[39melse\u001b[39;00m:\n\u001b[0;32m    333\u001b[0m         \u001b[39mraise\u001b[39;00m \u001b[39mValueError\u001b[39;00m(\u001b[39m'\u001b[39m\u001b[39m%s\u001b[39;00m\u001b[39m is not in the valid list of sort_order options: \u001b[39m\u001b[39m%s\u001b[39;00m\u001b[39m'\u001b[39m \u001b[39m%\u001b[39m (sort_order, \u001b[39mstr\u001b[39m(sort_order_options)))\n\u001b[1;32m--> 335\u001b[0m data, num_results_total \u001b[39m=\u001b[39m \u001b[39mself\u001b[39;49m\u001b[39m.\u001b[39;49m__do_series_search(url)\n\u001b[0;32m    336\u001b[0m \u001b[39mif\u001b[39;00m data \u001b[39mis\u001b[39;00m \u001b[39mNone\u001b[39;00m:\n\u001b[0;32m    337\u001b[0m     \u001b[39mreturn\u001b[39;00m data\n",
      "File \u001b[1;32mc:\\Users\\parke\\anaconda3\\envs\\myenv\\lib\\site-packages\\fredapi\\fred.py:285\u001b[0m, in \u001b[0;36mFred.__do_series_search\u001b[1;34m(self, url)\u001b[0m\n\u001b[0;32m    283\u001b[0m num_results_returned \u001b[39m=\u001b[39m \u001b[39m0\u001b[39m  \u001b[39m# number of results returned in this HTTP request\u001b[39;00m\n\u001b[0;32m    284\u001b[0m num_results_total \u001b[39m=\u001b[39m \u001b[39mint\u001b[39m(root\u001b[39m.\u001b[39mget(\u001b[39m'\u001b[39m\u001b[39mcount\u001b[39m\u001b[39m'\u001b[39m))  \u001b[39m# total number of results, this can be larger than number of results returned\u001b[39;00m\n\u001b[1;32m--> 285\u001b[0m \u001b[39mfor\u001b[39;00m child \u001b[39min\u001b[39;00m root\u001b[39m.\u001b[39;49mgetchildren():\n\u001b[0;32m    286\u001b[0m     num_results_returned \u001b[39m+\u001b[39m\u001b[39m=\u001b[39m \u001b[39m1\u001b[39m\n\u001b[0;32m    287\u001b[0m     series_id \u001b[39m=\u001b[39m child\u001b[39m.\u001b[39mget(\u001b[39m'\u001b[39m\u001b[39mid\u001b[39m\u001b[39m'\u001b[39m)\n",
      "\u001b[1;31mAttributeError\u001b[0m: 'xml.etree.ElementTree.Element' object has no attribute 'getchildren'"
     ]
    }
   ],
   "source": [
    "gdp = fred.search(\"GDP\")"
   ]
  },
  {
   "cell_type": "code",
   "execution_count": 5,
   "metadata": {},
   "outputs": [
    {
     "ename": "AttributeError",
     "evalue": "'xml.etree.ElementTree.Element' object has no attribute 'getchildren'",
     "output_type": "error",
     "traceback": [
      "\u001b[1;31m---------------------------------------------------------------------------\u001b[0m",
      "\u001b[1;31mAttributeError\u001b[0m                            Traceback (most recent call last)",
      "\u001b[1;32mc:\\Users\\parke\\data_work\\datascience\\macroecon_dash.ipynb Cell 5\u001b[0m in \u001b[0;36m<cell line: 2>\u001b[1;34m()\u001b[0m\n\u001b[0;32m      <a href='vscode-notebook-cell:/c%3A/Users/parke/data_work/datascience/macroecon_dash.ipynb#W3sZmlsZQ%3D%3D?line=0'>1</a>\u001b[0m \u001b[39m### Pull in some macro data\u001b[39;00m\n\u001b[1;32m----> <a href='vscode-notebook-cell:/c%3A/Users/parke/data_work/datascience/macroecon_dash.ipynb#W3sZmlsZQ%3D%3D?line=1'>2</a>\u001b[0m rgdp \u001b[39m=\u001b[39m get_fred_data(fred_code \u001b[39m=\u001b[39;49m \u001b[39m'\u001b[39;49m\u001b[39mGDPC1\u001b[39;49m\u001b[39m'\u001b[39;49m, metric_name \u001b[39m=\u001b[39;49m \u001b[39m\"\u001b[39;49m\u001b[39mrgdp\u001b[39;49m\u001b[39m\"\u001b[39;49m, geo \u001b[39m=\u001b[39;49m \u001b[39m'\u001b[39;49m\u001b[39mUS\u001b[39;49m\u001b[39m'\u001b[39;49m)\n\u001b[0;32m      <a href='vscode-notebook-cell:/c%3A/Users/parke/data_work/datascience/macroecon_dash.ipynb#W3sZmlsZQ%3D%3D?line=3'>4</a>\u001b[0m \u001b[39m# Labor  Force\u001b[39;00m\n\u001b[0;32m      <a href='vscode-notebook-cell:/c%3A/Users/parke/data_work/datascience/macroecon_dash.ipynb#W3sZmlsZQ%3D%3D?line=4'>5</a>\u001b[0m unemployment \u001b[39m=\u001b[39m get_fred_data(fred_code \u001b[39m=\u001b[39m \u001b[39m'\u001b[39m\u001b[39mUNRATE\u001b[39m\u001b[39m'\u001b[39m, metric_name \u001b[39m=\u001b[39m \u001b[39m\"\u001b[39m\u001b[39munemployment\u001b[39m\u001b[39m\"\u001b[39m, geo \u001b[39m=\u001b[39m \u001b[39m'\u001b[39m\u001b[39mUS\u001b[39m\u001b[39m'\u001b[39m)\n",
      "\u001b[1;32mc:\\Users\\parke\\data_work\\datascience\\macroecon_dash.ipynb Cell 5\u001b[0m in \u001b[0;36mget_fred_data\u001b[1;34m(fred_code, metric_name, geo)\u001b[0m\n\u001b[0;32m      <a href='vscode-notebook-cell:/c%3A/Users/parke/data_work/datascience/macroecon_dash.ipynb#W3sZmlsZQ%3D%3D?line=1'>2</a>\u001b[0m \u001b[39mdef\u001b[39;00m \u001b[39mget_fred_data\u001b[39m(fred_code, metric_name, geo):\n\u001b[1;32m----> <a href='vscode-notebook-cell:/c%3A/Users/parke/data_work/datascience/macroecon_dash.ipynb#W3sZmlsZQ%3D%3D?line=2'>3</a>\u001b[0m     data \u001b[39m=\u001b[39m fred\u001b[39m.\u001b[39;49mget_series(fred_code)\n\u001b[0;32m      <a href='vscode-notebook-cell:/c%3A/Users/parke/data_work/datascience/macroecon_dash.ipynb#W3sZmlsZQ%3D%3D?line=3'>4</a>\u001b[0m     data \u001b[39m=\u001b[39m (pd\u001b[39m.\u001b[39mDataFrame(data)\n\u001b[0;32m      <a href='vscode-notebook-cell:/c%3A/Users/parke/data_work/datascience/macroecon_dash.ipynb#W3sZmlsZQ%3D%3D?line=4'>5</a>\u001b[0m         \u001b[39m.\u001b[39mreset_index()\n\u001b[0;32m      <a href='vscode-notebook-cell:/c%3A/Users/parke/data_work/datascience/macroecon_dash.ipynb#W3sZmlsZQ%3D%3D?line=5'>6</a>\u001b[0m         \u001b[39m.\u001b[39mrename(columns \u001b[39m=\u001b[39m {\u001b[39m'\u001b[39m\u001b[39mindex\u001b[39m\u001b[39m'\u001b[39m:\u001b[39m'\u001b[39m\u001b[39mdate\u001b[39m\u001b[39m'\u001b[39m,\u001b[39m0\u001b[39m:metric_name})\n\u001b[1;32m   (...)\u001b[0m\n\u001b[0;32m     <a href='vscode-notebook-cell:/c%3A/Users/parke/data_work/datascience/macroecon_dash.ipynb#W3sZmlsZQ%3D%3D?line=9'>10</a>\u001b[0m         \u001b[39m.\u001b[39mastype({\u001b[39m'\u001b[39m\u001b[39mgeo\u001b[39m\u001b[39m'\u001b[39m:\u001b[39m'\u001b[39m\u001b[39mcategory\u001b[39m\u001b[39m'\u001b[39m})\n\u001b[0;32m     <a href='vscode-notebook-cell:/c%3A/Users/parke/data_work/datascience/macroecon_dash.ipynb#W3sZmlsZQ%3D%3D?line=10'>11</a>\u001b[0m             )    \n\u001b[0;32m     <a href='vscode-notebook-cell:/c%3A/Users/parke/data_work/datascience/macroecon_dash.ipynb#W3sZmlsZQ%3D%3D?line=11'>12</a>\u001b[0m     data \u001b[39m=\u001b[39m data[[\u001b[39m'\u001b[39m\u001b[39mdate\u001b[39m\u001b[39m'\u001b[39m,\u001b[39m'\u001b[39m\u001b[39myear\u001b[39m\u001b[39m'\u001b[39m,\u001b[39m'\u001b[39m\u001b[39mmonth\u001b[39m\u001b[39m'\u001b[39m,\u001b[39m'\u001b[39m\u001b[39mgeo\u001b[39m\u001b[39m'\u001b[39m,metric_name,]]\n",
      "File \u001b[1;32mc:\\Users\\parke\\anaconda3\\envs\\myenv\\lib\\site-packages\\fredapi\\fred.py:135\u001b[0m, in \u001b[0;36mFred.get_series\u001b[1;34m(self, series_id, observation_start, observation_end, **kwargs)\u001b[0m\n\u001b[0;32m    133\u001b[0m     \u001b[39mraise\u001b[39;00m \u001b[39mValueError\u001b[39;00m(\u001b[39m'\u001b[39m\u001b[39mNo data exists for series id: \u001b[39m\u001b[39m'\u001b[39m \u001b[39m+\u001b[39m series_id)\n\u001b[0;32m    134\u001b[0m data \u001b[39m=\u001b[39m {}\n\u001b[1;32m--> 135\u001b[0m \u001b[39mfor\u001b[39;00m child \u001b[39min\u001b[39;00m root\u001b[39m.\u001b[39;49mgetchildren():\n\u001b[0;32m    136\u001b[0m     val \u001b[39m=\u001b[39m child\u001b[39m.\u001b[39mget(\u001b[39m'\u001b[39m\u001b[39mvalue\u001b[39m\u001b[39m'\u001b[39m)\n\u001b[0;32m    137\u001b[0m     \u001b[39mif\u001b[39;00m val \u001b[39m==\u001b[39m \u001b[39mself\u001b[39m\u001b[39m.\u001b[39mnan_char:\n",
      "\u001b[1;31mAttributeError\u001b[0m: 'xml.etree.ElementTree.Element' object has no attribute 'getchildren'"
     ]
    }
   ],
   "source": [
    "### Pull in some macro data\n",
    "rgdp = get_fred_data(fred_code = 'GDPC1', metric_name = \"rgdp\", geo = 'US')\n",
    "\n",
    "# Labor  Force\n",
    "unemployment = get_fred_data(fred_code = 'UNRATE', metric_name = \"unemployment\", geo = 'US')\n",
    "lfpr = get_fred_data(fred_code = 'CIVPART', metric_name = \"lfpr\", geo = 'US')\n",
    "\n",
    "# Money Supply\n",
    "m2 = get_fred_data(fred_code = 'M2SL', metric_name = \"money_supply\", geo = 'US')\n",
    "m2v = get_fred_data(fred_code = 'M2V', metric_name = \"m2v\", geo = 'US')\n",
    "\n",
    "# Prices\n",
    "cpi_urb = get_fred_data(fred_code = 'CPIAUCSL', metric_name = 'cpi_urb', geo = 'US')\n",
    "cpi_urb_less_fe = get_fred_data(fred_code = 'CPILFESL', metric_name = 'cpi_urb_less_fe', geo = 'US')\n",
    "\n",
    "# Interest Rates\n",
    "ffr = get_fred_data(fred_code = 'FEDFUNDS', metric_name = 'federal_funds_rate', geo = 'US')\n",
    "#mortgage = get_fred_data(fred_code = 'MORTGAGE30US', metric_name = 'mortgage_rate', geo = 'US')\n",
    "\n",
    "# Commodity Prices\n",
    "#wti_oil_price = get_fred_data(fred_code = 'DCOILWTICO', metric_name = 'wti_oil_price', geo = 'US')\n",
    "global_energy = get_fred_data(fred_code = 'PNRGINDEXM', metric_name = 'global_energy_price_index', geo = 'GLOBAL')\n",
    "global_materials = get_fred_data(fred_code = 'PRAWMINDEXM', metric_name = 'global_material_price_index', geo = 'GLOBAL')\n",
    "global_food = get_fred_data(fred_code = 'PFOODINDEXM', metric_name = 'global_food_price_index', geo = 'GLOBAL')"
   ]
  },
  {
   "cell_type": "code",
   "execution_count": null,
   "metadata": {},
   "outputs": [],
   "source": [
    "### Real GDP Plots\n",
    "\n",
    "rgdp = (rgdp\n",
    "        .assign(rgdp_growth_qq = lambda x: x.rgdp.pct_change(periods = 1*100),\n",
    "                rgdp_growth_yy = lambda x: x.rgdp.pct_change(periods = 4)*100)\n",
    "        )\n",
    "\n",
    "### Real GDP Plot\n",
    "fig = dual_yaxis_lineplot(x = rgdp.date, \n",
    "                        y1 = rgdp.rgdp_growth_yy, \n",
    "                        y2 = rgdp.rgdp,\n",
    "                        plot_title = \"Real GDP in the US\",\n",
    "                        x_title = 'Date',\n",
    "                        y1_title = 'Growth Rate Y/Y (%)',\n",
    "                        y2_title = 'Real GDP (Billions $)')\n",
    "\n",
    "fig = (fig.update_layout(legend=dict(\n",
    "            yanchor=\"top\",\n",
    "            y=0.99,\n",
    "            xanchor=\"left\",\n",
    "            x=0.01))\n",
    "        .add_hline(y = 0)\n",
    "        )\n",
    "\n",
    "fig.show()"
   ]
  },
  {
   "cell_type": "code",
   "execution_count": null,
   "metadata": {},
   "outputs": [],
   "source": [
    "### Labor Market Plots\n",
    "fig = make_subplots(\n",
    "        rows=1, cols=2,\n",
    "        subplot_titles= (\"US Unemployment Rate\",\"US Labor Force Participation\"))\n",
    "\n",
    "fig.add_trace(\n",
    "    go.Scatter(x=unemployment.date, y=unemployment.unemployment, name = 'Unemployment Rate'),\n",
    "    row=1, col=1\n",
    ")\n",
    "\n",
    "fig.add_trace(\n",
    "    go.Scatter(x=lfpr.date, y=lfpr.lfpr, name = 'Labor force Participation'),\n",
    "    row=1, col=2\n",
    ")\n",
    "\n",
    "fig.update_layout(title_text=\"Labor Market Essential Metrics\")\n",
    "fig.update_yaxes(title_text=\"Unemployment Rate (%)\", row=1, col=1)\n",
    "fig.update_yaxes(title_text=\"Labor Force Participation Rate (%)\", row=1, col=2)\n",
    "\n",
    "fig.update_layout(legend=dict(\n",
    "            yanchor=\"bottom\",\n",
    "            y=-0.25,\n",
    "            xanchor=\"left\",\n",
    "            x=0.01))\n",
    "\n",
    "fig.show()"
   ]
  },
  {
   "cell_type": "code",
   "execution_count": null,
   "metadata": {},
   "outputs": [],
   "source": [
    "### Consumer Price Index Plots\n",
    "fig = make_subplots(\n",
    "        rows=1, cols=2,\n",
    "        subplot_titles= (\"CPI: Urban Consumers\",\"CPI Less Food & Energy: City Consumers\"))\n",
    "\n",
    "fig.add_trace(\n",
    "    go.Scatter(x = cpi_urb.date, y = cpi_urb.cpi_urb, name = 'CPI'),\n",
    "    row=1, col=1\n",
    ")\n",
    "\n",
    "fig.add_trace(\n",
    "    go.Scatter(x=cpi_urb.date, y= cpi_urb_less_fe.cpi_urb_less_fe, name = 'CPI Less Food & Energy'),\n",
    "    row=1, col=2\n",
    ")\n",
    "\n",
    "fig.update_layout(title_text=\"Consumer Prices Indices\")\n",
    "fig.update_yaxes(title_text=\"CPI\", row=1, col=1)\n",
    "fig.update_yaxes(title_text=\"CPI Less Food & Energy\", row=1, col=2)\n",
    "\n",
    "fig.update_layout(legend=dict(\n",
    "            yanchor=\"bottom\",\n",
    "            y=-0.25,\n",
    "            xanchor=\"left\",\n",
    "            x=0.01))\n",
    "\n",
    "fig.show()"
   ]
  }
 ],
 "metadata": {
  "kernelspec": {
   "display_name": "Python 3.7.5 ('myenv37')",
   "language": "python",
   "name": "python3"
  },
  "language_info": {
   "codemirror_mode": {
    "name": "ipython",
    "version": 3
   },
   "file_extension": ".py",
   "mimetype": "text/x-python",
   "name": "python",
   "nbconvert_exporter": "python",
   "pygments_lexer": "ipython3",
   "version": "3.7.5"
  },
  "orig_nbformat": 4,
  "vscode": {
   "interpreter": {
    "hash": "35ad3d5aec92e0bc510cc9957e38a4fafb1c0ca8092ee30fcf7d9314c4f66142"
   }
  }
 },
 "nbformat": 4,
 "nbformat_minor": 2
}
